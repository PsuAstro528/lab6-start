{
 "cells": [
  {
   "cell_type": "markdown",
   "metadata": {},
   "source": [
    "# Astro 528, Lab 6, Exercise 2\n",
    "## Parallelization for Multi-Core Workstations (using multiple processes)\n",
    "\n",
    "### Hardware configuration for this exercise\n",
    "In this lab exercise, we'll explore a few different ways that we can parallelize calculations across multiple cores of a single workstation or server.  Some of the syntax and programming patterns are very similar as to what you'll use later when we parallelize our code for distributed computing (i.e., over a number of processors that do not have direct access to the same memory.)\n",
    "\n",
    "Fortunately, most modern workstations and even laptops have multiple cores.  As of 2021, most of the ICS-ACI compute nodes have 14-24 cores.  (The high-memory nodes have 40 cores. The HPRC nodes are configured to offer many more virtual cores, but HPRC jobs should not use more than 20 cores.)  \n",
    "\n",
    "For this exercise, it's important that you actually have access to multiple processor cores.  If you're using Julia installed on your own machine, then you don't need to do anything special before starting the lab.  However, if you're using the ICDS-ACI portal to access the Jupyter Lab server, then you will need to have requested multiple processor cores when you first submited the request for the JupyterLab server using the box labeled \"Number of Cores\", i.e. _before you start executing cells in this notebook_.  Here's a [screenshot](images/portal_screenshot.png) showing the screen where you specify multiple cores.  \n",
    "\n",
    "While we're in class, please ask for just 4 cores, since there are many of us using the same two compute nodes at once.  \n",
    "If you return to working on the lab outside of class (and not right before the deadline), then feel free to try benchmarking the code using 8 cores, 12 or even 16 cores.  If you do ask for several cores, then please be extra diligent about deleting your session via the ICDS-ACI Portal when you're done, so they become avaliable to other members of the class."
   ]
  },
  {
   "cell_type": "markdown",
   "metadata": {},
   "source": [
    "### Why Jupyter?\n",
    "For this exercise, we're using a Jupyter notebook, instead of a Pluto notebook.  Why?\n",
    "In the previous exercise, we parallelized our code using one process that organized its computation into multiple threads, all within a Pluto notebook.  Pluto worked well for that kind of parallelism.  In contrast, for this exercise, we're going to parallelize our code using multiple processes. \n",
    "Pluto already uses multiple processes to analyze, run and display the Pluto notebook, so you can't (easily) parallelize your code over multiple processes within a Pluto notebook environment.  \n",
    "\n",
    "Since each Jupyter notebook is executed using a separate Julia kernel, they are more ammenable to parallelization via multiple processes.  \n",
    "\n",
    "### Multi-process vs Multi-threading\n",
    "As discussed in [the previous exercise](https://psuastro528.github.io/lab6-start/ex1.html), both approaches are viable ways to parallelize code over multiple processors contained within one workstation/compute node/server.  Multiple threads within a single process all have access to the memory that the operating system (OS) has assigned to that process.  However, different processes are assigned separate memory locations.  While it is possible to send data from one process to another, it needs to be done explicitly.  For simples codes, I usually start with multi-threading, as it tends to be a little easier to implement and is often more efficient.  For more complex codes (e.g., integrating PDEs), there can be advanages to using multiple processes (e.g., reducing need for memory locks).  However, the main reason I want students to get experience parallelizing code using multiple processes is that this apporach is necessary to scale up the level parallelism to use more compute cores than exist in compute node.  If we write (and test) our code to run in parallel using multiple processes on one workstation, then there will be relatively little work to implement a distributed memory parallelization.  \n",
    "\n",
    "### Installing packages\n",
    "First, let's make sure that the packages we'll use are installed."
   ]
  },
  {
   "cell_type": "code",
   "execution_count": 1,
   "metadata": {},
   "outputs": [
    {
     "name": "stderr",
     "output_type": "stream",
     "text": [
      "\u001b[32m\u001b[1m  Activating\u001b[22m\u001b[39m environment at `/storage/home/e/ebf11/Teach/Astro528/Fall2021/lab6-dev/Project.toml`\n"
     ]
    }
   ],
   "source": [
    "using Pkg\n",
    "Pkg.UPDATED_REGISTRY_THIS_SESSION[] = true   # Tell Julia package manager not to download an updated registry for speed's sake\n",
    "Pkg.activate(\".\")                            # Project.toml specifies the packages required for this lab\n",
    "Pkg.instantiate()                            # Install any packages needed"
   ]
  },
  {
   "cell_type": "markdown",
   "metadata": {},
   "source": [
    "### Getting setup for parallel computation"
   ]
  },
  {
   "cell_type": "markdown",
   "metadata": {},
   "source": [
    "First, let us load Julia's `Distributed` module that provides much of the needed functionality."
   ]
  },
  {
   "cell_type": "code",
   "execution_count": 2,
   "metadata": {},
   "outputs": [
    {
     "data": {
      "text/plain": [
       "1"
      ]
     },
     "execution_count": 2,
     "metadata": {},
     "output_type": "execute_result"
    }
   ],
   "source": [
    "using Distributed\n",
    "nworkers()"
   ]
  },
  {
   "cell_type": "markdown",
   "metadata": {},
   "source": [
    "Note that even if you have a Jupyter notebook server (or remote desktop or PBS job) that has been allocated multiple cores, that doesn't mean that you'll use them.  By default, Julia starts running on a single core which is the one worker process.  \n",
    "To enable parallel computing, we need to tell Julia how many processor cores to use.  By default, we're just using one.  How many should we add?  \n",
    "Let's get some information about the hardware that we're running on."
   ]
  },
  {
   "cell_type": "code",
   "execution_count": 3,
   "metadata": {},
   "outputs": [
    {
     "name": "stdout",
     "output_type": "stream",
     "text": [
      "Intel(R) Xeon(R) CPU E5-2680 v4 @ 2.40GHz: \n",
      "          speed         user         nice          sys         idle          irq\n",
      "#1-28  2980 MHz    2195181 s      11846 s    1251347 s  617866868 s          0 s\n"
     ]
    }
   ],
   "source": [
    "Sys.cpu_summary()"
   ]
  },
  {
   "cell_type": "markdown",
   "metadata": {},
   "source": [
    "As discussed in exercise 1, just because the compute node we've been assigned has many cores, doesn't mean that we're allowed to use all of them.  \n",
    "We'll check if this notebook is running inside a PBS job, and if so, use the number of cores that we've been assigned.  If we're not inside a PBS job, then we'll use the number of physical cores. "
   ]
  },
  {
   "cell_type": "code",
   "execution_count": 4,
   "metadata": {},
   "outputs": [],
   "source": [
    "using CpuId"
   ]
  },
  {
   "cell_type": "code",
   "execution_count": 5,
   "metadata": {},
   "outputs": [
    {
     "data": {
      "text/plain": [
       "8"
      ]
     },
     "execution_count": 5,
     "metadata": {},
     "output_type": "execute_result"
    }
   ],
   "source": [
    "if haskey(ENV,\"PBS_NUM_PPN\")\n",
    "    pbs_procs_per_node = parse(Int64,ENV[\"PBS_NUM_PPN\"])\n",
    "    num_cores_to_use = pbs_procs_per_node \n",
    "else\n",
    "    num_physical_cores = cpucores()\n",
    "    num_cores_to_use = num_physical_cores \n",
    "end"
   ]
  },
  {
   "cell_type": "markdown",
   "metadata": {
    "tags": []
   },
   "source": [
    "2a.  How many cores will you be using for this exercise (i.e., the result of cell above)? "
   ]
  },
  {
   "cell_type": "code",
   "execution_count": 31,
   "metadata": {},
   "outputs": [
    {
     "data": {
      "text/plain": [
       "missing"
      ]
     },
     "execution_count": 31,
     "metadata": {},
     "output_type": "execute_result"
    }
   ],
   "source": [
    "response_2a = missing # Explicilty set to integer (i.e., don't set to num_cores_to_use, so we'll be able to provide appropriate feedback on your future responces.)"
   ]
  },
  {
   "cell_type": "markdown",
   "metadata": {},
   "source": [
    "Next, we'll tell Julia to add several worker processes. "
   ]
  },
  {
   "cell_type": "code",
   "execution_count": 6,
   "metadata": {},
   "outputs": [
    {
     "data": {
      "text/plain": [
       "7-element Vector{Int64}:\n",
       " 2\n",
       " 3\n",
       " 4\n",
       " 5\n",
       " 6\n",
       " 7\n",
       " 8"
      ]
     },
     "execution_count": 6,
     "metadata": {},
     "output_type": "execute_result"
    }
   ],
   "source": [
    "if num_cores_to_use>1\n",
    "    addprocs(num_cores_to_use-1)\n",
    "end"
   ]
  },
  {
   "cell_type": "markdown",
   "metadata": {},
   "source": [
    "`addprocs(N)` returned a list of ids that you can use to refer to specific workers within Julia.  (We won't be using these, but it can be useful if you want finer grained control.)  \n",
    "If you're every unsure of how many workers you currently have avaliable, you can run `nworkers()`."
   ]
  },
  {
   "cell_type": "code",
   "execution_count": 30,
   "metadata": {},
   "outputs": [
    {
     "data": {
      "text/plain": [
       "7"
      ]
     },
     "execution_count": 30,
     "metadata": {},
     "output_type": "execute_result"
    }
   ],
   "source": [
    "nworkers()"
   ]
  },
  {
   "cell_type": "markdown",
   "metadata": {},
   "source": [
    "Note that the list of workers now excludes 1 and the number of workers is equal to the number you added, rather than being one plus that number.  Why?  The original process is now in charge of delegating the work amongst the worker processes. (Historically, this process was referred to as the \"master process\", and you're likely to still that terminology in online documentation and questions.  I'll try to use the \"delegator process\" instead.)  When you have a lot of workers, it's often advantageous to let one process focus on managing all the communications and other overhead associated with parallelization.  That way the worker processes are likely to stay more nearly in sync, rather than having to repeatedly wait for the delegator process to catch up.  On the other hand, if there is relatively little overhead work for the delegator process, then it is often useful to set the number of workers equal to the number of available CPU cores, even though that means one process will have to do a little more work than the others.  We'll try both below.\n",
    "\n",
    "### Loading Packages and modules\n",
    "\n",
    "Now, that we have loaded the `Distributed` package, we can use the functions and macros that it provides to start code and packages that we want to use during this exercise onto the other processes.  Unlike when we were using multi-threading, with distributed computing each worker has its own chunk of memory and the programmer can control whether code is to be loaded on every process or just one/some.  \n",
    "But before we load packages onto worker processes, we need to make sure that each worker is using the same environment (i.e., knows which versions of which packages should be avaliable).  We'll do that by telling each worker to activate the same environment, as specificed in the lab's `Project.toml` file.  \n",
    "In this case, we don't need to install or instantiate on each worker, since we already installed them above, and on ICDS-ACI, each worker have access to the same filesystem.  (We also signal that workers should not attempt to update the Julia package registry.  Asking multiple processes to try to update the reigstry at once would be annoyingly slow (and I worry that it might even cause your Julia depot to get messed up).)"
   ]
  },
  {
   "cell_type": "code",
   "execution_count": 8,
   "metadata": {},
   "outputs": [
    {
     "name": "stderr",
     "output_type": "stream",
     "text": [
      "\u001b[32m\u001b[1m  Activating\u001b[22m\u001b[39m environment at `/storage/home/e/ebf11/Teach/Astro528/Fall2021/lab6-dev/Project.toml`\n"
     ]
    },
    {
     "name": "stdout",
     "output_type": "stream",
     "text": [
      "      From worker 3:\t\u001b[32m\u001b[1m  Activating\u001b[22m\u001b[39m environment at `/storage/home/e/ebf11/Teach/Astro528/Fall2021/lab6-dev/Project.toml`\n",
      "      From worker 2:\t\u001b[32m\u001b[1m  Activating\u001b[22m\u001b[39m environment at `/storage/home/e/ebf11/Teach/Astro528/Fall2021/lab6-dev/Project.toml`\n",
      "      From worker 7:\t\u001b[32m\u001b[1m  Activating\u001b[22m\u001b[39m environment at `/storage/home/e/ebf11/Teach/Astro528/Fall2021/lab6-dev/Project.toml`\n",
      "      From worker 4:\t\u001b[32m\u001b[1m  Activating\u001b[22m\u001b[39m environment at `/storage/home/e/ebf11/Teach/Astro528/Fall2021/lab6-dev/Project.toml`\n",
      "      From worker 5:\t\u001b[32m\u001b[1m  Activating\u001b[22m\u001b[39m environment at `/storage/home/e/ebf11/Teach/Astro528/Fall2021/lab6-dev/Project.toml`\n",
      "      From worker 8:\t\u001b[32m\u001b[1m  Activating\u001b[22m\u001b[39m environment at `/storage/home/e/ebf11/Teach/Astro528/Fall2021/lab6-dev/Project.toml`\n",
      "      From worker 6:\t\u001b[32m\u001b[1m  Activating\u001b[22m\u001b[39m environment at `/storage/home/e/ebf11/Teach/Astro528/Fall2021/lab6-dev/Project.toml`\n"
     ]
    }
   ],
   "source": [
    "@everywhere using Pkg\n",
    "@everywhere Pkg.UPDATED_REGISTRY_THIS_SESSION[] = true\n",
    "@everywhere Pkg.activate(\".\")"
   ]
  },
  {
   "cell_type": "markdown",
   "metadata": {},
   "source": [
    "Next, we want the packages that we plan to use for our computations below to be loaded and in scope on each worker.  In order to make sure that we don't trigger multiple worker processes trying to precompile packages at once, we'll first have the delegator process precompile all the packages used in this exercise. "
   ]
  },
  {
   "cell_type": "code",
   "execution_count": 9,
   "metadata": {},
   "outputs": [
    {
     "name": "stderr",
     "output_type": "stream",
     "text": [
      "\u001b[32m\u001b[1mPrecompiling\u001b[22m\u001b[39m project...\n",
      "\u001b[32m  ✓ \u001b[39mlab6\n",
      "1 dependency successfully precompiled in 4 seconds (158 already precompiled)\n"
     ]
    }
   ],
   "source": [
    "Pkg.precompile()"
   ]
  },
  {
   "cell_type": "markdown",
   "metadata": {},
   "source": [
    "Again, we'll use the `@everywhere` macro in front of the `using` statement to load packages on both the delegator and worker processes.  "
   ]
  },
  {
   "cell_type": "code",
   "execution_count": 10,
   "metadata": {},
   "outputs": [],
   "source": [
    "@everywhere using Distributions "
   ]
  },
  {
   "cell_type": "markdown",
   "metadata": {
    "tags": []
   },
   "source": [
    "Typing `@everywhere` in front of every line of code would get very annoying fast.  So it's better to put the common code that you want every worker to load into a separate file (and even better is to organize the code into one or more modules or packages).  Then, we can load a whole bunch of functions that we'll want to use with one line.\n",
    "In this exercise, we'll load the same code as in exercise 1 of this lab.  (As before, you don't need to review all the code in `src` unless you find it interesting or useful to see the programming patterns being demonstrated.)  The main difference in this exercise is that we'll include the file `src/lab6.jl` instead of the file `model_spectrum.jl`. `lab6.jl` includes the code from `model_spectrum.jl` (and the other files that it includes) and wraps them in a module named `lab6`.  (In contrast, Pluto's `ingredients` command automatically wraps code from a file into a module and returns it, so that Pluto can keep track of dependancies, which it needs to do to make a reactive notebook.)  \n",
    "We preface the `include` with `@everywhere`, since we want all of the processors to be able to make use of these function and types."
   ]
  },
  {
   "cell_type": "code",
   "execution_count": 11,
   "metadata": {},
   "outputs": [
    {
     "name": "stdout",
     "output_type": "stream",
     "text": [
      "      From worker 3:\tWARNING: replacing module lab6.\n",
      "      From worker 4:\tWARNING: replacing module lab6.\n",
      "      From worker 2:\tWARNING: replacing module lab6.\n",
      "      From worker 7:\tWARNING: replacing module lab6.\n",
      "      From worker 6:\tWARNING: replacing module lab6.\n",
      "      From worker 5:\tWARNING: replacing module lab6.\n",
      "      From worker 8:\tWARNING: replacing module lab6.\n"
     ]
    },
    {
     "name": "stderr",
     "output_type": "stream",
     "text": [
      "WARNING: replacing module lab6.\n"
     ]
    }
   ],
   "source": [
    "@everywhere include(\"src/lab6.jl\")"
   ]
  },
  {
   "cell_type": "markdown",
   "metadata": {},
   "source": [
    "Now, we'll bring that module into scope.  Note that since this is not a package, we need to include a `.` to tell Julia that it can the module in the current namespace, rather than needing to load a package."
   ]
  },
  {
   "cell_type": "code",
   "execution_count": 12,
   "metadata": {},
   "outputs": [],
   "source": [
    "using .lab6"
   ]
  },
  {
   "cell_type": "markdown",
   "metadata": {},
   "source": [
    "### Initialize data to be analyzed\n",
    "In this exercise, we're going to create a model spectrum consisting of continuum, stellar absorption lines, telluric absorption lines.  \n",
    "The `ModelSpectrum` module provides a `SimulatedSpectrum` type, but we'll need to initialize a variable with some specific parameter values.  The function will do that for us."
   ]
  },
  {
   "cell_type": "code",
   "execution_count": 13,
   "metadata": {},
   "outputs": [],
   "source": [
    "\"Create an object that provides a model for the raw spetrum (i.e., before entering the telescope)\"\n",
    "function make_spectrum_object(;lambda_min = 4500, lambda_max = 7500, flux_scale = 1.0,\n",
    "        num_star_lines = 200, num_telluric_lines = 100, limit_line_effect = 10.0)\n",
    "\n",
    "    continuum_param = flux_scale .* [1.0, 1e-5, -2e-8]\n",
    "    \n",
    "    star_line_locs = rand(Uniform(lambda_min,lambda_max),num_star_lines)\n",
    "    star_line_widths = fill(1.0,num_star_lines)\n",
    "    star_line_depths = rand(Uniform(0,1.0),num_star_lines)\n",
    "    \n",
    "    telluric_line_locs = rand(Uniform(lambda_min,lambda_max),num_telluric_lines)\n",
    "    telluric_line_widths = fill(0.2,num_telluric_lines)\n",
    "    telluric_line_depths = rand(Uniform(0,0.4),num_telluric_lines)\n",
    "\n",
    "    SimulatedSpectrum(star_line_locs,star_line_widths,star_line_depths,telluric_line_locs,telluric_line_widths,telluric_line_depths,continuum_param=continuum_param,lambda_mid=0.5*(lambda_min+lambda_max),limit_line_effect=limit_line_effect)\n",
    "end"
   ]
  },
  {
   "cell_type": "markdown",
   "metadata": {},
   "source": [
    "Next, we: \n",
    "1. create a set of wavelengths to observe the spectrum at, \n",
    "2. call the function above to create a spectrum object, \n",
    "3. create an object containing a model for the point spread function, and \n",
    "4. create an object that can compute the convolution of our spectral model with the point spread function model."
   ]
  },
  {
   "cell_type": "code",
   "execution_count": 14,
   "metadata": {},
   "outputs": [
    {
     "data": {
      "text/plain": [
       "ConvolvedSpectrum{SimulatedSpectrum{Float64, Float64, Float64, Float64, Float64, Float64, Float64, Float64, Float64}, GaussianMixtureConvolutionKernel{Float64, Float64}}(SimulatedSpectrum{Float64, Float64, Float64, Float64, Float64, Float64, Float64, Float64, Float64}([5759.04461771341, 5935.216168919393, 5066.30770348079, 5787.915625594012, 5090.477095620626, 5208.49685604649, 5531.295061638182, 5806.214450860399, 5120.453111175745, 5878.7921954548165  …  5814.655632962704, 5685.3808609669, 5968.823465565812, 5543.9000036860725, 5650.480675494859, 5206.525206166321, 5439.718402341051, 5794.951926564469, 5981.331902169326, 5507.503731758521], [1.0, 1.0, 1.0, 1.0, 1.0, 1.0, 1.0, 1.0, 1.0, 1.0  …  1.0, 1.0, 1.0, 1.0, 1.0, 1.0, 1.0, 1.0, 1.0, 1.0], [0.9272722858920843, 0.4252553231807428, 0.7023625411051253, 0.2062303771679308, 0.9956458271841326, 0.7254980816889405, 0.277844784858845, 0.23368899116481612, 0.7131821160030223, 0.4810771900460751  …  0.014312588703146112, 0.5824895205412695, 0.4245670011596592, 0.34720474065745344, 0.9203163101942888, 0.18405273681558687, 0.9785537928403123, 0.233254730389175, 0.4868414284935627, 0.2770917176443486], [5641.785233486089, 5706.3196897881235, 5677.819601927257, 5525.952358283969, 5539.327742159912, 5045.25662545176, 5073.645687329011, 5517.911913620391, 5457.943376577242, 5108.891997182873  …  5701.068136814729, 5008.729127781916, 5491.957811310529, 5277.697119119255, 5553.507383817028, 5898.810005290496, 5486.268590833466, 5264.906433270426, 5673.517822640626, 5101.033166573407], [0.2, 0.2, 0.2, 0.2, 0.2, 0.2, 0.2, 0.2, 0.2, 0.2  …  0.2, 0.2, 0.2, 0.2, 0.2, 0.2, 0.2, 0.2, 0.2, 0.2], [0.10220438467826228, 0.045900472353320065, 0.1292913501227326, 0.0037637817184632107, 0.2286330724610143, 0.22479485511001418, 0.3209626762783855, 0.25508904906272306, 0.1716785129003025, 0.2352781359827847  …  0.09916390386024042, 0.07235748007672767, 0.23987005295892408, 0.19206856740587677, 0.06756330766629741, 0.03107067656525695, 0.27206483278204313, 0.18701133701688102, 0.32886981322623987, 0.07754805452684375], [1.0, 1.0e-5, -2.0e-8], 0.0, 5500.0, 10.0), GaussianMixtureConvolutionKernel{Float64, Float64}(Normal{Float64}[Normal{Float64}(μ=0.0, σ=0.5), Normal{Float64}(μ=0.0, σ=1.0), Normal{Float64}(μ=0.0, σ=2.0)], [0.8, 0.15, 0.05], 1.0000000143325827, 10.0), 10.0)"
      ]
     },
     "execution_count": 14,
     "metadata": {},
     "output_type": "execute_result"
    }
   ],
   "source": [
    "# 1.  Pick range of of wavelength to work on.\n",
    "lambda_min = 5000\n",
    "lambda_max = 6000\n",
    "# You may want to adjust the num_lambda to make things more/less computationally intensive\n",
    "num_lambda = 8*1024\n",
    "lambdas = collect(range(lambda_min,stop=lambda_max, length=num_lambda));\n",
    "\n",
    "# 2.  Create a model  spectrum that we'll analyze below\n",
    "raw_spectrum = make_spectrum_object(lambda_min=lambda_min,lambda_max=lambda_max)\n",
    "\n",
    "# 3.  Create a model for the point spread function (PSF)\n",
    "psf_widths  = [0.5, 1.0, 2.0]\n",
    "psf_weights = [0.8, 0.15, 0.05]\n",
    "psf_model = GaussianMixtureConvolutionKernel(psf_widths,psf_weights)\n",
    "\n",
    "# 4. Create a model for the the convolution of thte raw spectrum with the PDF model\n",
    "conv_spectrum = ConvolvedSpectrum(raw_spectrum,psf_model)"
   ]
  },
  {
   "cell_type": "code",
   "execution_count": 142,
   "metadata": {},
   "outputs": [],
   "source": [
    "result_ref = conv_spectrum.(lambdas);"
   ]
  },
  {
   "cell_type": "markdown",
   "metadata": {},
   "source": [
    "### Visualize what we've created\n",
    "\n",
    "This is very similar to exercise 1.  If you'd like to plot the raw spectrum and the convolved spectrum to see what's going on, there's some plotting code below.  The cells with plots below require that you first load the `Plots` package.  If you are confident you know what it looks like, then you can save some time, by not loading the Plots package.\n",
    "If you'd like to plot the spectrum model we'll be generating, then let go ahead and load the plots package now.\n",
    "Since we don't need the worker processes to plot things, we don't need to load the Plots code on all the worker processes.  "
   ]
  },
  {
   "cell_type": "code",
   "execution_count": 15,
   "metadata": {
    "tags": []
   },
   "outputs": [],
   "source": [
    "using Plots"
   ]
  },
  {
   "cell_type": "code",
   "execution_count": 16,
   "metadata": {},
   "outputs": [
    {
     "data": {
      "image/svg+xml": [
       "<?xml version=\"1.0\" encoding=\"utf-8\"?>\n",
       "<svg xmlns=\"http://www.w3.org/2000/svg\" xmlns:xlink=\"http://www.w3.org/1999/xlink\" width=\"600\" height=\"400\" viewBox=\"0 0 2400 1600\">\n",
       "<defs>\n",
       "  <clipPath id=\"clip500\">\n",
       "    <rect x=\"0\" y=\"0\" width=\"2400\" height=\"1600\"/>\n",
       "  </clipPath>\n",
       "</defs>\n",
       "<path clip-path=\"url(#clip500)\" d=\"\n",
       "M0 1600 L2400 1600 L2400 0 L0 0  Z\n",
       "  \" fill=\"#ffffff\" fill-rule=\"evenodd\" fill-opacity=\"1\"/>\n",
       "<defs>\n",
       "  <clipPath id=\"clip501\">\n",
       "    <rect x=\"480\" y=\"0\" width=\"1681\" height=\"1600\"/>\n",
       "  </clipPath>\n",
       "</defs>\n",
       "<path clip-path=\"url(#clip500)\" d=\"\n",
       "M249.542 1423.18 L2352.76 1423.18 L2352.76 47.2441 L249.542 47.2441  Z\n",
       "  \" fill=\"#ffffff\" fill-rule=\"evenodd\" fill-opacity=\"1\"/>\n",
       "<defs>\n",
       "  <clipPath id=\"clip502\">\n",
       "    <rect x=\"249\" y=\"47\" width=\"2104\" height=\"1377\"/>\n",
       "  </clipPath>\n",
       "</defs>\n",
       "<polyline clip-path=\"url(#clip502)\" style=\"stroke:#000000; stroke-linecap:butt; stroke-linejoin:round; stroke-width:2; stroke-opacity:0.1; fill:none\" points=\"\n",
       "  309.067,1423.18 309.067,47.2441 \n",
       "  \"/>\n",
       "<polyline clip-path=\"url(#clip502)\" style=\"stroke:#000000; stroke-linecap:butt; stroke-linejoin:round; stroke-width:2; stroke-opacity:0.1; fill:none\" points=\"\n",
       "  805.108,1423.18 805.108,47.2441 \n",
       "  \"/>\n",
       "<polyline clip-path=\"url(#clip502)\" style=\"stroke:#000000; stroke-linecap:butt; stroke-linejoin:round; stroke-width:2; stroke-opacity:0.1; fill:none\" points=\"\n",
       "  1301.15,1423.18 1301.15,47.2441 \n",
       "  \"/>\n",
       "<polyline clip-path=\"url(#clip502)\" style=\"stroke:#000000; stroke-linecap:butt; stroke-linejoin:round; stroke-width:2; stroke-opacity:0.1; fill:none\" points=\"\n",
       "  1797.19,1423.18 1797.19,47.2441 \n",
       "  \"/>\n",
       "<polyline clip-path=\"url(#clip502)\" style=\"stroke:#000000; stroke-linecap:butt; stroke-linejoin:round; stroke-width:2; stroke-opacity:0.1; fill:none\" points=\"\n",
       "  2293.23,1423.18 2293.23,47.2441 \n",
       "  \"/>\n",
       "<polyline clip-path=\"url(#clip500)\" style=\"stroke:#000000; stroke-linecap:butt; stroke-linejoin:round; stroke-width:4; stroke-opacity:1; fill:none\" points=\"\n",
       "  249.542,1423.18 2352.76,1423.18 \n",
       "  \"/>\n",
       "<polyline clip-path=\"url(#clip500)\" style=\"stroke:#000000; stroke-linecap:butt; stroke-linejoin:round; stroke-width:4; stroke-opacity:1; fill:none\" points=\"\n",
       "  309.067,1423.18 309.067,1404.28 \n",
       "  \"/>\n",
       "<polyline clip-path=\"url(#clip500)\" style=\"stroke:#000000; stroke-linecap:butt; stroke-linejoin:round; stroke-width:4; stroke-opacity:1; fill:none\" points=\"\n",
       "  805.108,1423.18 805.108,1404.28 \n",
       "  \"/>\n",
       "<polyline clip-path=\"url(#clip500)\" style=\"stroke:#000000; stroke-linecap:butt; stroke-linejoin:round; stroke-width:4; stroke-opacity:1; fill:none\" points=\"\n",
       "  1301.15,1423.18 1301.15,1404.28 \n",
       "  \"/>\n",
       "<polyline clip-path=\"url(#clip500)\" style=\"stroke:#000000; stroke-linecap:butt; stroke-linejoin:round; stroke-width:4; stroke-opacity:1; fill:none\" points=\"\n",
       "  1797.19,1423.18 1797.19,1404.28 \n",
       "  \"/>\n",
       "<polyline clip-path=\"url(#clip500)\" style=\"stroke:#000000; stroke-linecap:butt; stroke-linejoin:round; stroke-width:4; stroke-opacity:1; fill:none\" points=\"\n",
       "  2293.23,1423.18 2293.23,1404.28 \n",
       "  \"/>\n",
       "<path clip-path=\"url(#clip500)\" d=\"M253.604 1449.29 L271.961 1449.29 L271.961 1453.23 L257.887 1453.23 L257.887 1461.7 Q258.905 1461.35 259.924 1461.19 Q260.942 1461 261.961 1461 Q267.748 1461 271.127 1464.18 Q274.507 1467.35 274.507 1472.76 Q274.507 1478.34 271.035 1481.44 Q267.563 1484.52 261.243 1484.52 Q259.067 1484.52 256.799 1484.15 Q254.553 1483.78 252.146 1483.04 L252.146 1478.34 Q254.229 1479.48 256.451 1480.03 Q258.674 1480.59 261.151 1480.59 Q265.155 1480.59 267.493 1478.48 Q269.831 1476.38 269.831 1472.76 Q269.831 1469.15 267.493 1467.05 Q265.155 1464.94 261.151 1464.94 Q259.276 1464.94 257.401 1465.36 Q255.549 1465.77 253.604 1466.65 L253.604 1449.29 Z\" fill=\"#000000\" fill-rule=\"evenodd\" fill-opacity=\"1\" /><path clip-path=\"url(#clip500)\" d=\"M293.72 1452.37 Q290.109 1452.37 288.28 1455.94 Q286.474 1459.48 286.474 1466.61 Q286.474 1473.71 288.28 1477.28 Q290.109 1480.82 293.72 1480.82 Q297.354 1480.82 299.16 1477.28 Q300.988 1473.71 300.988 1466.61 Q300.988 1459.48 299.16 1455.94 Q297.354 1452.37 293.72 1452.37 M293.72 1448.67 Q299.53 1448.67 302.586 1453.27 Q305.664 1457.86 305.664 1466.61 Q305.664 1475.33 302.586 1479.94 Q299.53 1484.52 293.72 1484.52 Q287.91 1484.52 284.831 1479.94 Q281.775 1475.33 281.775 1466.61 Q281.775 1457.86 284.831 1453.27 Q287.91 1448.67 293.72 1448.67 Z\" fill=\"#000000\" fill-rule=\"evenodd\" fill-opacity=\"1\" /><path clip-path=\"url(#clip500)\" d=\"M323.882 1452.37 Q320.271 1452.37 318.442 1455.94 Q316.636 1459.48 316.636 1466.61 Q316.636 1473.71 318.442 1477.28 Q320.271 1480.82 323.882 1480.82 Q327.516 1480.82 329.321 1477.28 Q331.15 1473.71 331.15 1466.61 Q331.15 1459.48 329.321 1455.94 Q327.516 1452.37 323.882 1452.37 M323.882 1448.67 Q329.692 1448.67 332.747 1453.27 Q335.826 1457.86 335.826 1466.61 Q335.826 1475.33 332.747 1479.94 Q329.692 1484.52 323.882 1484.52 Q318.072 1484.52 314.993 1479.94 Q311.937 1475.33 311.937 1466.61 Q311.937 1457.86 314.993 1453.27 Q318.072 1448.67 323.882 1448.67 Z\" fill=\"#000000\" fill-rule=\"evenodd\" fill-opacity=\"1\" /><path clip-path=\"url(#clip500)\" d=\"M354.044 1452.37 Q350.432 1452.37 348.604 1455.94 Q346.798 1459.48 346.798 1466.61 Q346.798 1473.71 348.604 1477.28 Q350.432 1480.82 354.044 1480.82 Q357.678 1480.82 359.483 1477.28 Q361.312 1473.71 361.312 1466.61 Q361.312 1459.48 359.483 1455.94 Q357.678 1452.37 354.044 1452.37 M354.044 1448.67 Q359.854 1448.67 362.909 1453.27 Q365.988 1457.86 365.988 1466.61 Q365.988 1475.33 362.909 1479.94 Q359.854 1484.52 354.044 1484.52 Q348.233 1484.52 345.155 1479.94 Q342.099 1475.33 342.099 1466.61 Q342.099 1457.86 345.155 1453.27 Q348.233 1448.67 354.044 1448.67 Z\" fill=\"#000000\" fill-rule=\"evenodd\" fill-opacity=\"1\" /><path clip-path=\"url(#clip500)\" d=\"M749.645 1449.29 L768.002 1449.29 L768.002 1453.23 L753.928 1453.23 L753.928 1461.7 Q754.946 1461.35 755.965 1461.19 Q756.983 1461 758.002 1461 Q763.789 1461 767.168 1464.18 Q770.548 1467.35 770.548 1472.76 Q770.548 1478.34 767.076 1481.44 Q763.604 1484.52 757.284 1484.52 Q755.108 1484.52 752.84 1484.15 Q750.594 1483.78 748.187 1483.04 L748.187 1478.34 Q750.27 1479.48 752.493 1480.03 Q754.715 1480.59 757.192 1480.59 Q761.196 1480.59 763.534 1478.48 Q765.872 1476.38 765.872 1472.76 Q765.872 1469.15 763.534 1467.05 Q761.196 1464.94 757.192 1464.94 Q755.317 1464.94 753.442 1465.36 Q751.59 1465.77 749.645 1466.65 L749.645 1449.29 Z\" fill=\"#000000\" fill-rule=\"evenodd\" fill-opacity=\"1\" /><path clip-path=\"url(#clip500)\" d=\"M783.789 1479.92 L800.108 1479.92 L800.108 1483.85 L778.164 1483.85 L778.164 1479.92 Q780.826 1477.16 785.409 1472.53 Q790.015 1467.88 791.196 1466.54 Q793.441 1464.01 794.321 1462.28 Q795.224 1460.52 795.224 1458.83 Q795.224 1456.07 793.279 1454.34 Q791.358 1452.6 788.256 1452.6 Q786.057 1452.6 783.603 1453.37 Q781.173 1454.13 778.395 1455.68 L778.395 1450.96 Q781.219 1449.82 783.673 1449.25 Q786.127 1448.67 788.164 1448.67 Q793.534 1448.67 796.728 1451.35 Q799.923 1454.04 799.923 1458.53 Q799.923 1460.66 799.113 1462.58 Q798.326 1464.48 796.219 1467.07 Q795.64 1467.74 792.539 1470.96 Q789.437 1474.15 783.789 1479.92 Z\" fill=\"#000000\" fill-rule=\"evenodd\" fill-opacity=\"1\" /><path clip-path=\"url(#clip500)\" d=\"M809.969 1449.29 L828.325 1449.29 L828.325 1453.23 L814.251 1453.23 L814.251 1461.7 Q815.27 1461.35 816.288 1461.19 Q817.307 1461 818.325 1461 Q824.112 1461 827.492 1464.18 Q830.872 1467.35 830.872 1472.76 Q830.872 1478.34 827.4 1481.44 Q823.927 1484.52 817.608 1484.52 Q815.432 1484.52 813.163 1484.15 Q810.918 1483.78 808.511 1483.04 L808.511 1478.34 Q810.594 1479.48 812.816 1480.03 Q815.038 1480.59 817.515 1480.59 Q821.52 1480.59 823.858 1478.48 Q826.196 1476.38 826.196 1472.76 Q826.196 1469.15 823.858 1467.05 Q821.52 1464.94 817.515 1464.94 Q815.64 1464.94 813.765 1465.36 Q811.913 1465.77 809.969 1466.65 L809.969 1449.29 Z\" fill=\"#000000\" fill-rule=\"evenodd\" fill-opacity=\"1\" /><path clip-path=\"url(#clip500)\" d=\"M850.085 1452.37 Q846.473 1452.37 844.645 1455.94 Q842.839 1459.48 842.839 1466.61 Q842.839 1473.71 844.645 1477.28 Q846.473 1480.82 850.085 1480.82 Q853.719 1480.82 855.524 1477.28 Q857.353 1473.71 857.353 1466.61 Q857.353 1459.48 855.524 1455.94 Q853.719 1452.37 850.085 1452.37 M850.085 1448.67 Q855.895 1448.67 858.95 1453.27 Q862.029 1457.86 862.029 1466.61 Q862.029 1475.33 858.95 1479.94 Q855.895 1484.52 850.085 1484.52 Q844.274 1484.52 841.196 1479.94 Q838.14 1475.33 838.14 1466.61 Q838.14 1457.86 841.196 1453.27 Q844.274 1448.67 850.085 1448.67 Z\" fill=\"#000000\" fill-rule=\"evenodd\" fill-opacity=\"1\" /><path clip-path=\"url(#clip500)\" d=\"M1245.69 1449.29 L1264.04 1449.29 L1264.04 1453.23 L1249.97 1453.23 L1249.97 1461.7 Q1250.99 1461.35 1252.01 1461.19 Q1253.02 1461 1254.04 1461 Q1259.83 1461 1263.21 1464.18 Q1266.59 1467.35 1266.59 1472.76 Q1266.59 1478.34 1263.12 1481.44 Q1259.64 1484.52 1253.33 1484.52 Q1251.15 1484.52 1248.88 1484.15 Q1246.64 1483.78 1244.23 1483.04 L1244.23 1478.34 Q1246.31 1479.48 1248.53 1480.03 Q1250.76 1480.59 1253.23 1480.59 Q1257.24 1480.59 1259.58 1478.48 Q1261.91 1476.38 1261.91 1472.76 Q1261.91 1469.15 1259.58 1467.05 Q1257.24 1464.94 1253.23 1464.94 Q1251.36 1464.94 1249.48 1465.36 Q1247.63 1465.77 1245.69 1466.65 L1245.69 1449.29 Z\" fill=\"#000000\" fill-rule=\"evenodd\" fill-opacity=\"1\" /><path clip-path=\"url(#clip500)\" d=\"M1275.85 1449.29 L1294.2 1449.29 L1294.2 1453.23 L1280.13 1453.23 L1280.13 1461.7 Q1281.15 1461.35 1282.17 1461.19 Q1283.19 1461 1284.2 1461 Q1289.99 1461 1293.37 1464.18 Q1296.75 1467.35 1296.75 1472.76 Q1296.75 1478.34 1293.28 1481.44 Q1289.81 1484.52 1283.49 1484.52 Q1281.31 1484.52 1279.04 1484.15 Q1276.8 1483.78 1274.39 1483.04 L1274.39 1478.34 Q1276.47 1479.48 1278.7 1480.03 Q1280.92 1480.59 1283.39 1480.59 Q1287.4 1480.59 1289.74 1478.48 Q1292.07 1476.38 1292.07 1472.76 Q1292.07 1469.15 1289.74 1467.05 Q1287.4 1464.94 1283.39 1464.94 Q1281.52 1464.94 1279.64 1465.36 Q1277.79 1465.77 1275.85 1466.65 L1275.85 1449.29 Z\" fill=\"#000000\" fill-rule=\"evenodd\" fill-opacity=\"1\" /><path clip-path=\"url(#clip500)\" d=\"M1315.96 1452.37 Q1312.35 1452.37 1310.52 1455.94 Q1308.72 1459.48 1308.72 1466.61 Q1308.72 1473.71 1310.52 1477.28 Q1312.35 1480.82 1315.96 1480.82 Q1319.6 1480.82 1321.4 1477.28 Q1323.23 1473.71 1323.23 1466.61 Q1323.23 1459.48 1321.4 1455.94 Q1319.6 1452.37 1315.96 1452.37 M1315.96 1448.67 Q1321.77 1448.67 1324.83 1453.27 Q1327.91 1457.86 1327.91 1466.61 Q1327.91 1475.33 1324.83 1479.94 Q1321.77 1484.52 1315.96 1484.52 Q1310.15 1484.52 1307.07 1479.94 Q1304.02 1475.33 1304.02 1466.61 Q1304.02 1457.86 1307.07 1453.27 Q1310.15 1448.67 1315.96 1448.67 Z\" fill=\"#000000\" fill-rule=\"evenodd\" fill-opacity=\"1\" /><path clip-path=\"url(#clip500)\" d=\"M1346.13 1452.37 Q1342.51 1452.37 1340.69 1455.94 Q1338.88 1459.48 1338.88 1466.61 Q1338.88 1473.71 1340.69 1477.28 Q1342.51 1480.82 1346.13 1480.82 Q1349.76 1480.82 1351.57 1477.28 Q1353.39 1473.71 1353.39 1466.61 Q1353.39 1459.48 1351.57 1455.94 Q1349.76 1452.37 1346.13 1452.37 M1346.13 1448.67 Q1351.94 1448.67 1354.99 1453.27 Q1358.07 1457.86 1358.07 1466.61 Q1358.07 1475.33 1354.99 1479.94 Q1351.94 1484.52 1346.13 1484.52 Q1340.32 1484.52 1337.24 1479.94 Q1334.18 1475.33 1334.18 1466.61 Q1334.18 1457.86 1337.24 1453.27 Q1340.32 1448.67 1346.13 1448.67 Z\" fill=\"#000000\" fill-rule=\"evenodd\" fill-opacity=\"1\" /><path clip-path=\"url(#clip500)\" d=\"M1741.73 1449.29 L1760.08 1449.29 L1760.08 1453.23 L1746.01 1453.23 L1746.01 1461.7 Q1747.03 1461.35 1748.05 1461.19 Q1749.07 1461 1750.08 1461 Q1755.87 1461 1759.25 1464.18 Q1762.63 1467.35 1762.63 1472.76 Q1762.63 1478.34 1759.16 1481.44 Q1755.69 1484.52 1749.37 1484.52 Q1747.19 1484.52 1744.92 1484.15 Q1742.68 1483.78 1740.27 1483.04 L1740.27 1478.34 Q1742.35 1479.48 1744.57 1480.03 Q1746.8 1480.59 1749.27 1480.59 Q1753.28 1480.59 1755.62 1478.48 Q1757.95 1476.38 1757.95 1472.76 Q1757.95 1469.15 1755.62 1467.05 Q1753.28 1464.94 1749.27 1464.94 Q1747.4 1464.94 1745.52 1465.36 Q1743.67 1465.77 1741.73 1466.65 L1741.73 1449.29 Z\" fill=\"#000000\" fill-rule=\"evenodd\" fill-opacity=\"1\" /><path clip-path=\"url(#clip500)\" d=\"M1770.66 1449.29 L1792.88 1449.29 L1792.88 1451.28 L1780.34 1483.85 L1775.45 1483.85 L1787.26 1453.23 L1770.66 1453.23 L1770.66 1449.29 Z\" fill=\"#000000\" fill-rule=\"evenodd\" fill-opacity=\"1\" /><path clip-path=\"url(#clip500)\" d=\"M1802.05 1449.29 L1820.41 1449.29 L1820.41 1453.23 L1806.33 1453.23 L1806.33 1461.7 Q1807.35 1461.35 1808.37 1461.19 Q1809.39 1461 1810.41 1461 Q1816.19 1461 1819.57 1464.18 Q1822.95 1467.35 1822.95 1472.76 Q1822.95 1478.34 1819.48 1481.44 Q1816.01 1484.52 1809.69 1484.52 Q1807.51 1484.52 1805.25 1484.15 Q1803 1483.78 1800.59 1483.04 L1800.59 1478.34 Q1802.68 1479.48 1804.9 1480.03 Q1807.12 1480.59 1809.6 1480.59 Q1813.6 1480.59 1815.94 1478.48 Q1818.28 1476.38 1818.28 1472.76 Q1818.28 1469.15 1815.94 1467.05 Q1813.6 1464.94 1809.6 1464.94 Q1807.72 1464.94 1805.85 1465.36 Q1804 1465.77 1802.05 1466.65 L1802.05 1449.29 Z\" fill=\"#000000\" fill-rule=\"evenodd\" fill-opacity=\"1\" /><path clip-path=\"url(#clip500)\" d=\"M1842.17 1452.37 Q1838.56 1452.37 1836.73 1455.94 Q1834.92 1459.48 1834.92 1466.61 Q1834.92 1473.71 1836.73 1477.28 Q1838.56 1480.82 1842.17 1480.82 Q1845.8 1480.82 1847.61 1477.28 Q1849.44 1473.71 1849.44 1466.61 Q1849.44 1459.48 1847.61 1455.94 Q1845.8 1452.37 1842.17 1452.37 M1842.17 1448.67 Q1847.98 1448.67 1851.03 1453.27 Q1854.11 1457.86 1854.11 1466.61 Q1854.11 1475.33 1851.03 1479.94 Q1847.98 1484.52 1842.17 1484.52 Q1836.36 1484.52 1833.28 1479.94 Q1830.22 1475.33 1830.22 1466.61 Q1830.22 1457.86 1833.28 1453.27 Q1836.36 1448.67 1842.17 1448.67 Z\" fill=\"#000000\" fill-rule=\"evenodd\" fill-opacity=\"1\" /><path clip-path=\"url(#clip500)\" d=\"M2248.47 1464.71 Q2245.33 1464.71 2243.47 1466.86 Q2241.65 1469.01 2241.65 1472.76 Q2241.65 1476.49 2243.47 1478.67 Q2245.33 1480.82 2248.47 1480.82 Q2251.62 1480.82 2253.45 1478.67 Q2255.3 1476.49 2255.3 1472.76 Q2255.3 1469.01 2253.45 1466.86 Q2251.62 1464.71 2248.47 1464.71 M2257.76 1450.06 L2257.76 1454.31 Q2256 1453.48 2254.19 1453.04 Q2252.41 1452.6 2250.65 1452.6 Q2246.02 1452.6 2243.57 1455.73 Q2241.14 1458.85 2240.79 1465.17 Q2242.15 1463.16 2244.22 1462.09 Q2246.28 1461 2248.75 1461 Q2253.96 1461 2256.97 1464.18 Q2260 1467.32 2260 1472.76 Q2260 1478.09 2256.85 1481.31 Q2253.71 1484.52 2248.47 1484.52 Q2242.48 1484.52 2239.31 1479.94 Q2236.14 1475.33 2236.14 1466.61 Q2236.14 1458.41 2240.03 1453.55 Q2243.91 1448.67 2250.47 1448.67 Q2252.22 1448.67 2254.01 1449.01 Q2255.81 1449.36 2257.76 1450.06 Z\" fill=\"#000000\" fill-rule=\"evenodd\" fill-opacity=\"1\" /><path clip-path=\"url(#clip500)\" d=\"M2278.06 1452.37 Q2274.45 1452.37 2272.62 1455.94 Q2270.81 1459.48 2270.81 1466.61 Q2270.81 1473.71 2272.62 1477.28 Q2274.45 1480.82 2278.06 1480.82 Q2281.69 1480.82 2283.5 1477.28 Q2285.33 1473.71 2285.33 1466.61 Q2285.33 1459.48 2283.5 1455.94 Q2281.69 1452.37 2278.06 1452.37 M2278.06 1448.67 Q2283.87 1448.67 2286.92 1453.27 Q2290 1457.86 2290 1466.61 Q2290 1475.33 2286.92 1479.94 Q2283.87 1484.52 2278.06 1484.52 Q2272.25 1484.52 2269.17 1479.94 Q2266.11 1475.33 2266.11 1466.61 Q2266.11 1457.86 2269.17 1453.27 Q2272.25 1448.67 2278.06 1448.67 Z\" fill=\"#000000\" fill-rule=\"evenodd\" fill-opacity=\"1\" /><path clip-path=\"url(#clip500)\" d=\"M2308.22 1452.37 Q2304.61 1452.37 2302.78 1455.94 Q2300.97 1459.48 2300.97 1466.61 Q2300.97 1473.71 2302.78 1477.28 Q2304.61 1480.82 2308.22 1480.82 Q2311.85 1480.82 2313.66 1477.28 Q2315.49 1473.71 2315.49 1466.61 Q2315.49 1459.48 2313.66 1455.94 Q2311.85 1452.37 2308.22 1452.37 M2308.22 1448.67 Q2314.03 1448.67 2317.09 1453.27 Q2320.16 1457.86 2320.16 1466.61 Q2320.16 1475.33 2317.09 1479.94 Q2314.03 1484.52 2308.22 1484.52 Q2302.41 1484.52 2299.33 1479.94 Q2296.27 1475.33 2296.27 1466.61 Q2296.27 1457.86 2299.33 1453.27 Q2302.41 1448.67 2308.22 1448.67 Z\" fill=\"#000000\" fill-rule=\"evenodd\" fill-opacity=\"1\" /><path clip-path=\"url(#clip500)\" d=\"M2338.38 1452.37 Q2334.77 1452.37 2332.94 1455.94 Q2331.14 1459.48 2331.14 1466.61 Q2331.14 1473.71 2332.94 1477.28 Q2334.77 1480.82 2338.38 1480.82 Q2342.02 1480.82 2343.82 1477.28 Q2345.65 1473.71 2345.65 1466.61 Q2345.65 1459.48 2343.82 1455.94 Q2342.02 1452.37 2338.38 1452.37 M2338.38 1448.67 Q2344.19 1448.67 2347.25 1453.27 Q2350.33 1457.86 2350.33 1466.61 Q2350.33 1475.33 2347.25 1479.94 Q2344.19 1484.52 2338.38 1484.52 Q2332.57 1484.52 2329.49 1479.94 Q2326.44 1475.33 2326.44 1466.61 Q2326.44 1457.86 2329.49 1453.27 Q2332.57 1448.67 2338.38 1448.67 Z\" fill=\"#000000\" fill-rule=\"evenodd\" fill-opacity=\"1\" /><path clip-path=\"url(#clip500)\" d=\"M1302.04 1524.09 L1318.5 1568.04 L1312.29 1568.04 L1302.29 1541.69 L1290.01 1568.04 L1283.8 1568.04 L1299.43 1533.86 L1297.07 1527.56 Q1295.58 1523.55 1292.17 1523.55 L1289.12 1523.55 L1289.12 1518.52 L1292.84 1518.58 Q1300.03 1518.68 1302.04 1524.09 Z\" fill=\"#000000\" fill-rule=\"evenodd\" fill-opacity=\"1\" /><polyline clip-path=\"url(#clip502)\" style=\"stroke:#000000; stroke-linecap:butt; stroke-linejoin:round; stroke-width:2; stroke-opacity:0.1; fill:none\" points=\"\n",
       "  249.542,1388.04 2352.76,1388.04 \n",
       "  \"/>\n",
       "<polyline clip-path=\"url(#clip502)\" style=\"stroke:#000000; stroke-linecap:butt; stroke-linejoin:round; stroke-width:2; stroke-opacity:0.1; fill:none\" points=\"\n",
       "  249.542,1062.98 2352.76,1062.98 \n",
       "  \"/>\n",
       "<polyline clip-path=\"url(#clip502)\" style=\"stroke:#000000; stroke-linecap:butt; stroke-linejoin:round; stroke-width:2; stroke-opacity:0.1; fill:none\" points=\"\n",
       "  249.542,737.925 2352.76,737.925 \n",
       "  \"/>\n",
       "<polyline clip-path=\"url(#clip502)\" style=\"stroke:#000000; stroke-linecap:butt; stroke-linejoin:round; stroke-width:2; stroke-opacity:0.1; fill:none\" points=\"\n",
       "  249.542,412.868 2352.76,412.868 \n",
       "  \"/>\n",
       "<polyline clip-path=\"url(#clip502)\" style=\"stroke:#000000; stroke-linecap:butt; stroke-linejoin:round; stroke-width:2; stroke-opacity:0.1; fill:none\" points=\"\n",
       "  249.542,87.8107 2352.76,87.8107 \n",
       "  \"/>\n",
       "<polyline clip-path=\"url(#clip500)\" style=\"stroke:#000000; stroke-linecap:butt; stroke-linejoin:round; stroke-width:4; stroke-opacity:1; fill:none\" points=\"\n",
       "  249.542,1423.18 249.542,47.2441 \n",
       "  \"/>\n",
       "<polyline clip-path=\"url(#clip500)\" style=\"stroke:#000000; stroke-linecap:butt; stroke-linejoin:round; stroke-width:4; stroke-opacity:1; fill:none\" points=\"\n",
       "  249.542,1388.04 268.44,1388.04 \n",
       "  \"/>\n",
       "<polyline clip-path=\"url(#clip500)\" style=\"stroke:#000000; stroke-linecap:butt; stroke-linejoin:round; stroke-width:4; stroke-opacity:1; fill:none\" points=\"\n",
       "  249.542,1062.98 268.44,1062.98 \n",
       "  \"/>\n",
       "<polyline clip-path=\"url(#clip500)\" style=\"stroke:#000000; stroke-linecap:butt; stroke-linejoin:round; stroke-width:4; stroke-opacity:1; fill:none\" points=\"\n",
       "  249.542,737.925 268.44,737.925 \n",
       "  \"/>\n",
       "<polyline clip-path=\"url(#clip500)\" style=\"stroke:#000000; stroke-linecap:butt; stroke-linejoin:round; stroke-width:4; stroke-opacity:1; fill:none\" points=\"\n",
       "  249.542,412.868 268.44,412.868 \n",
       "  \"/>\n",
       "<polyline clip-path=\"url(#clip500)\" style=\"stroke:#000000; stroke-linecap:butt; stroke-linejoin:round; stroke-width:4; stroke-opacity:1; fill:none\" points=\"\n",
       "  249.542,87.8107 268.44,87.8107 \n",
       "  \"/>\n",
       "<path clip-path=\"url(#clip500)\" d=\"M126.205 1373.84 Q122.593 1373.84 120.765 1377.4 Q118.959 1380.94 118.959 1388.07 Q118.959 1395.18 120.765 1398.74 Q122.593 1402.29 126.205 1402.29 Q129.839 1402.29 131.644 1398.74 Q133.473 1395.18 133.473 1388.07 Q133.473 1380.94 131.644 1377.4 Q129.839 1373.84 126.205 1373.84 M126.205 1370.13 Q132.015 1370.13 135.07 1374.74 Q138.149 1379.32 138.149 1388.07 Q138.149 1396.8 135.07 1401.41 Q132.015 1405.99 126.205 1405.99 Q120.394 1405.99 117.316 1401.41 Q114.26 1396.8 114.26 1388.07 Q114.26 1379.32 117.316 1374.74 Q120.394 1370.13 126.205 1370.13 Z\" fill=\"#000000\" fill-rule=\"evenodd\" fill-opacity=\"1\" /><path clip-path=\"url(#clip500)\" d=\"M146.366 1399.44 L151.251 1399.44 L151.251 1405.32 L146.366 1405.32 L146.366 1399.44 Z\" fill=\"#000000\" fill-rule=\"evenodd\" fill-opacity=\"1\" /><path clip-path=\"url(#clip500)\" d=\"M171.436 1373.84 Q167.825 1373.84 165.996 1377.4 Q164.19 1380.94 164.19 1388.07 Q164.19 1395.18 165.996 1398.74 Q167.825 1402.29 171.436 1402.29 Q175.07 1402.29 176.876 1398.74 Q178.704 1395.18 178.704 1388.07 Q178.704 1380.94 176.876 1377.4 Q175.07 1373.84 171.436 1373.84 M171.436 1370.13 Q177.246 1370.13 180.301 1374.74 Q183.38 1379.32 183.38 1388.07 Q183.38 1396.8 180.301 1401.41 Q177.246 1405.99 171.436 1405.99 Q165.626 1405.99 162.547 1401.41 Q159.491 1396.8 159.491 1388.07 Q159.491 1379.32 162.547 1374.74 Q165.626 1370.13 171.436 1370.13 Z\" fill=\"#000000\" fill-rule=\"evenodd\" fill-opacity=\"1\" /><path clip-path=\"url(#clip500)\" d=\"M201.598 1373.84 Q197.987 1373.84 196.158 1377.4 Q194.352 1380.94 194.352 1388.07 Q194.352 1395.18 196.158 1398.74 Q197.987 1402.29 201.598 1402.29 Q205.232 1402.29 207.037 1398.74 Q208.866 1395.18 208.866 1388.07 Q208.866 1380.94 207.037 1377.4 Q205.232 1373.84 201.598 1373.84 M201.598 1370.13 Q207.408 1370.13 210.463 1374.74 Q213.542 1379.32 213.542 1388.07 Q213.542 1396.8 210.463 1401.41 Q207.408 1405.99 201.598 1405.99 Q195.787 1405.99 192.709 1401.41 Q189.653 1396.8 189.653 1388.07 Q189.653 1379.32 192.709 1374.74 Q195.787 1370.13 201.598 1370.13 Z\" fill=\"#000000\" fill-rule=\"evenodd\" fill-opacity=\"1\" /><path clip-path=\"url(#clip500)\" d=\"M127.2 1048.78 Q123.589 1048.78 121.76 1052.35 Q119.955 1055.89 119.955 1063.02 Q119.955 1070.12 121.76 1073.69 Q123.589 1077.23 127.2 1077.23 Q130.834 1077.23 132.64 1073.69 Q134.468 1070.12 134.468 1063.02 Q134.468 1055.89 132.64 1052.35 Q130.834 1048.78 127.2 1048.78 M127.2 1045.08 Q133.01 1045.08 136.066 1049.68 Q139.144 1054.27 139.144 1063.02 Q139.144 1071.74 136.066 1076.35 Q133.01 1080.93 127.2 1080.93 Q121.39 1080.93 118.311 1076.35 Q115.256 1071.74 115.256 1063.02 Q115.256 1054.27 118.311 1049.68 Q121.39 1045.08 127.2 1045.08 Z\" fill=\"#000000\" fill-rule=\"evenodd\" fill-opacity=\"1\" /><path clip-path=\"url(#clip500)\" d=\"M147.362 1074.38 L152.246 1074.38 L152.246 1080.26 L147.362 1080.26 L147.362 1074.38 Z\" fill=\"#000000\" fill-rule=\"evenodd\" fill-opacity=\"1\" /><path clip-path=\"url(#clip500)\" d=\"M166.459 1076.33 L182.778 1076.33 L182.778 1080.26 L160.834 1080.26 L160.834 1076.33 Q163.496 1073.57 168.079 1068.94 Q172.686 1064.29 173.866 1062.95 Q176.112 1060.42 176.991 1058.69 Q177.894 1056.93 177.894 1055.24 Q177.894 1052.48 175.95 1050.75 Q174.028 1049.01 170.927 1049.01 Q168.727 1049.01 166.274 1049.78 Q163.843 1050.54 161.065 1052.09 L161.065 1047.37 Q163.89 1046.23 166.343 1045.66 Q168.797 1045.08 170.834 1045.08 Q176.204 1045.08 179.399 1047.76 Q182.593 1050.45 182.593 1054.94 Q182.593 1057.07 181.783 1058.99 Q180.996 1060.89 178.889 1063.48 Q178.311 1064.15 175.209 1067.37 Q172.107 1070.56 166.459 1076.33 Z\" fill=\"#000000\" fill-rule=\"evenodd\" fill-opacity=\"1\" /><path clip-path=\"url(#clip500)\" d=\"M192.639 1045.7 L210.996 1045.7 L210.996 1049.64 L196.922 1049.64 L196.922 1058.11 Q197.94 1057.76 198.959 1057.6 Q199.977 1057.41 200.996 1057.41 Q206.783 1057.41 210.162 1060.59 Q213.542 1063.76 213.542 1069.17 Q213.542 1074.75 210.07 1077.85 Q206.598 1080.93 200.278 1080.93 Q198.102 1080.93 195.834 1080.56 Q193.588 1080.19 191.181 1079.45 L191.181 1074.75 Q193.264 1075.89 195.487 1076.44 Q197.709 1077 200.186 1077 Q204.19 1077 206.528 1074.89 Q208.866 1072.78 208.866 1069.17 Q208.866 1065.56 206.528 1063.46 Q204.19 1061.35 200.186 1061.35 Q198.311 1061.35 196.436 1061.77 Q194.584 1062.18 192.639 1063.06 L192.639 1045.7 Z\" fill=\"#000000\" fill-rule=\"evenodd\" fill-opacity=\"1\" /><path clip-path=\"url(#clip500)\" d=\"M126.205 723.723 Q122.593 723.723 120.765 727.288 Q118.959 730.83 118.959 737.959 Q118.959 745.066 120.765 748.631 Q122.593 752.172 126.205 752.172 Q129.839 752.172 131.644 748.631 Q133.473 745.066 133.473 737.959 Q133.473 730.83 131.644 727.288 Q129.839 723.723 126.205 723.723 M126.205 720.02 Q132.015 720.02 135.07 724.626 Q138.149 729.209 138.149 737.959 Q138.149 746.686 135.07 751.293 Q132.015 755.876 126.205 755.876 Q120.394 755.876 117.316 751.293 Q114.26 746.686 114.26 737.959 Q114.26 729.209 117.316 724.626 Q120.394 720.02 126.205 720.02 Z\" fill=\"#000000\" fill-rule=\"evenodd\" fill-opacity=\"1\" /><path clip-path=\"url(#clip500)\" d=\"M146.366 749.325 L151.251 749.325 L151.251 755.205 L146.366 755.205 L146.366 749.325 Z\" fill=\"#000000\" fill-rule=\"evenodd\" fill-opacity=\"1\" /><path clip-path=\"url(#clip500)\" d=\"M161.482 720.645 L179.839 720.645 L179.839 724.58 L165.765 724.58 L165.765 733.052 Q166.783 732.705 167.802 732.543 Q168.82 732.358 169.839 732.358 Q175.626 732.358 179.005 735.529 Q182.385 738.7 182.385 744.117 Q182.385 749.696 178.913 752.797 Q175.44 755.876 169.121 755.876 Q166.945 755.876 164.677 755.506 Q162.431 755.135 160.024 754.395 L160.024 749.696 Q162.107 750.83 164.329 751.385 Q166.552 751.941 169.028 751.941 Q173.033 751.941 175.371 749.834 Q177.709 747.728 177.709 744.117 Q177.709 740.506 175.371 738.399 Q173.033 736.293 169.028 736.293 Q167.153 736.293 165.278 736.709 Q163.427 737.126 161.482 738.006 L161.482 720.645 Z\" fill=\"#000000\" fill-rule=\"evenodd\" fill-opacity=\"1\" /><path clip-path=\"url(#clip500)\" d=\"M201.598 723.723 Q197.987 723.723 196.158 727.288 Q194.352 730.83 194.352 737.959 Q194.352 745.066 196.158 748.631 Q197.987 752.172 201.598 752.172 Q205.232 752.172 207.037 748.631 Q208.866 745.066 208.866 737.959 Q208.866 730.83 207.037 727.288 Q205.232 723.723 201.598 723.723 M201.598 720.02 Q207.408 720.02 210.463 724.626 Q213.542 729.209 213.542 737.959 Q213.542 746.686 210.463 751.293 Q207.408 755.876 201.598 755.876 Q195.787 755.876 192.709 751.293 Q189.653 746.686 189.653 737.959 Q189.653 729.209 192.709 724.626 Q195.787 720.02 201.598 720.02 Z\" fill=\"#000000\" fill-rule=\"evenodd\" fill-opacity=\"1\" /><path clip-path=\"url(#clip500)\" d=\"M127.2 398.666 Q123.589 398.666 121.76 402.231 Q119.955 405.773 119.955 412.902 Q119.955 420.009 121.76 423.574 Q123.589 427.115 127.2 427.115 Q130.834 427.115 132.64 423.574 Q134.468 420.009 134.468 412.902 Q134.468 405.773 132.64 402.231 Q130.834 398.666 127.2 398.666 M127.2 394.963 Q133.01 394.963 136.066 399.569 Q139.144 404.152 139.144 412.902 Q139.144 421.629 136.066 426.236 Q133.01 430.819 127.2 430.819 Q121.39 430.819 118.311 426.236 Q115.256 421.629 115.256 412.902 Q115.256 404.152 118.311 399.569 Q121.39 394.963 127.2 394.963 Z\" fill=\"#000000\" fill-rule=\"evenodd\" fill-opacity=\"1\" /><path clip-path=\"url(#clip500)\" d=\"M147.362 424.268 L152.246 424.268 L152.246 430.148 L147.362 430.148 L147.362 424.268 Z\" fill=\"#000000\" fill-rule=\"evenodd\" fill-opacity=\"1\" /><path clip-path=\"url(#clip500)\" d=\"M161.251 395.588 L183.473 395.588 L183.473 397.578 L170.927 430.148 L166.042 430.148 L177.848 399.523 L161.251 399.523 L161.251 395.588 Z\" fill=\"#000000\" fill-rule=\"evenodd\" fill-opacity=\"1\" /><path clip-path=\"url(#clip500)\" d=\"M192.639 395.588 L210.996 395.588 L210.996 399.523 L196.922 399.523 L196.922 407.995 Q197.94 407.648 198.959 407.486 Q199.977 407.301 200.996 407.301 Q206.783 407.301 210.162 410.472 Q213.542 413.643 213.542 419.06 Q213.542 424.638 210.07 427.74 Q206.598 430.819 200.278 430.819 Q198.102 430.819 195.834 430.449 Q193.588 430.078 191.181 429.338 L191.181 424.638 Q193.264 425.773 195.487 426.328 Q197.709 426.884 200.186 426.884 Q204.19 426.884 206.528 424.777 Q208.866 422.671 208.866 419.06 Q208.866 415.449 206.528 413.342 Q204.19 411.236 200.186 411.236 Q198.311 411.236 196.436 411.652 Q194.584 412.069 192.639 412.949 L192.639 395.588 Z\" fill=\"#000000\" fill-rule=\"evenodd\" fill-opacity=\"1\" /><path clip-path=\"url(#clip500)\" d=\"M117.015 101.156 L124.654 101.156 L124.654 74.79 L116.343 76.4566 L116.343 72.1974 L124.607 70.5307 L129.283 70.5307 L129.283 101.156 L136.922 101.156 L136.922 105.091 L117.015 105.091 L117.015 101.156 Z\" fill=\"#000000\" fill-rule=\"evenodd\" fill-opacity=\"1\" /><path clip-path=\"url(#clip500)\" d=\"M146.366 99.2111 L151.251 99.2111 L151.251 105.091 L146.366 105.091 L146.366 99.2111 Z\" fill=\"#000000\" fill-rule=\"evenodd\" fill-opacity=\"1\" /><path clip-path=\"url(#clip500)\" d=\"M171.436 73.6094 Q167.825 73.6094 165.996 77.1742 Q164.19 80.7158 164.19 87.8454 Q164.19 94.9519 165.996 98.5167 Q167.825 102.058 171.436 102.058 Q175.07 102.058 176.876 98.5167 Q178.704 94.9519 178.704 87.8454 Q178.704 80.7158 176.876 77.1742 Q175.07 73.6094 171.436 73.6094 M171.436 69.9057 Q177.246 69.9057 180.301 74.5122 Q183.38 79.0955 183.38 87.8454 Q183.38 96.5722 180.301 101.179 Q177.246 105.762 171.436 105.762 Q165.626 105.762 162.547 101.179 Q159.491 96.5722 159.491 87.8454 Q159.491 79.0955 162.547 74.5122 Q165.626 69.9057 171.436 69.9057 Z\" fill=\"#000000\" fill-rule=\"evenodd\" fill-opacity=\"1\" /><path clip-path=\"url(#clip500)\" d=\"M201.598 73.6094 Q197.987 73.6094 196.158 77.1742 Q194.352 80.7158 194.352 87.8454 Q194.352 94.9519 196.158 98.5167 Q197.987 102.058 201.598 102.058 Q205.232 102.058 207.037 98.5167 Q208.866 94.9519 208.866 87.8454 Q208.866 80.7158 207.037 77.1742 Q205.232 73.6094 201.598 73.6094 M201.598 69.9057 Q207.408 69.9057 210.463 74.5122 Q213.542 79.0955 213.542 87.8454 Q213.542 96.5722 210.463 101.179 Q207.408 105.762 201.598 105.762 Q195.787 105.762 192.709 101.179 Q189.653 96.5722 189.653 87.8454 Q189.653 79.0955 192.709 74.5122 Q195.787 69.9057 201.598 69.9057 Z\" fill=\"#000000\" fill-rule=\"evenodd\" fill-opacity=\"1\" /><path clip-path=\"url(#clip500)\" d=\"M16.4842 798.694 L16.4842 771.385 L21.895 771.385 L21.895 792.265 L35.8996 792.265 L35.8996 773.422 L41.3104 773.422 L41.3104 792.265 L64.0042 792.265 L64.0042 798.694 L16.4842 798.694 Z\" fill=\"#000000\" fill-rule=\"evenodd\" fill-opacity=\"1\" /><path clip-path=\"url(#clip500)\" d=\"M14.479 761.455 L14.479 755.598 L64.0042 755.598 L64.0042 761.455 L14.479 761.455 Z\" fill=\"#000000\" fill-rule=\"evenodd\" fill-opacity=\"1\" /><path clip-path=\"url(#clip500)\" d=\"M49.9359 743.949 L28.3562 743.949 L28.3562 738.092 L49.7131 738.092 Q54.7739 738.092 57.3202 736.119 Q59.8346 734.146 59.8346 730.199 Q59.8346 725.457 56.8109 722.719 Q53.7872 719.95 48.5673 719.95 L28.3562 719.95 L28.3562 714.094 L64.0042 714.094 L64.0042 719.95 L58.5296 719.95 Q61.7762 722.083 63.3676 724.915 Q64.9272 727.716 64.9272 731.44 Q64.9272 737.583 61.1078 740.766 Q57.2883 743.949 49.9359 743.949 M27.4968 729.212 L27.4968 729.212 Z\" fill=\"#000000\" fill-rule=\"evenodd\" fill-opacity=\"1\" /><path clip-path=\"url(#clip500)\" d=\"M28.3562 672.398 L45.7028 685.289 L64.0042 671.73 L64.0042 678.637 L49.9996 689.013 L64.0042 699.389 L64.0042 706.296 L45.3526 692.45 L28.3562 705.118 L28.3562 698.211 L41.0558 688.758 L28.3562 679.305 L28.3562 672.398 Z\" fill=\"#000000\" fill-rule=\"evenodd\" fill-opacity=\"1\" /><polyline clip-path=\"url(#clip502)\" style=\"stroke:#009af9; stroke-linecap:butt; stroke-linejoin:round; stroke-width:4; stroke-opacity:1; fill:none\" points=\"\n",
       "  309.067,108.67 309.309,111.707 309.551,115.697 309.794,120.85 310.036,127.39 310.278,135.544 310.52,145.536 310.763,157.632 311.005,172.649 311.247,194.435 \n",
       "  311.489,235.805 311.732,319.225 311.974,449.134 312.216,571.072 312.458,603.68 312.701,538.982 312.943,452.487 313.185,405.524 313.427,399.04 313.669,409.767 \n",
       "  313.912,422.438 314.154,431.792 314.396,436.506 314.638,436.259 314.881,431.052 315.123,421.115 315.365,406.88 315.607,388.949 315.85,368.055 316.092,345.012 \n",
       "  316.334,320.671 316.576,295.995 316.819,272.901 317.061,258.129 317.303,271.388 317.545,343.045 317.787,471.476 318.03,574.586 318.272,551.059 318.514,410.462 \n",
       "  318.756,259.875 318.999,170.771 319.241,136.819 319.483,128.108 319.725,127.709 319.968,130.712 320.21,136.361 320.452,144.74 320.694,156.064 320.937,170.569 \n",
       "  321.179,188.478 321.421,209.966 321.663,235.129 321.906,263.945 322.148,296.246 322.39,331.691 322.632,369.756 322.874,409.738 323.117,450.769 323.359,491.866 \n",
       "  323.601,531.984 323.843,570.099 324.086,605.302 324.328,636.903 324.57,664.528 324.812,688.216 325.055,708.565 325.297,727.134 325.539,747.218 325.781,773.452 \n",
       "  326.024,807.162 326.266,841.273 326.508,866.839 326.75,886.236 326.992,910.61 327.235,945.758 327.477,988.744 327.719,1034.07 327.961,1077.31 328.204,1115.01 \n",
       "  328.446,1144.28 328.688,1162.77 328.93,1168.92 329.173,1162.11 329.415,1142.7 329.657,1112.07 329.899,1072.33 330.142,1026.22 330.384,976.686 330.626,926.651 \n",
       "  330.868,878.805 331.111,835.785 331.353,800.715 331.595,776.34 331.837,760.699 332.079,744.731 332.322,720.395 332.564,689.923 332.806,660.746 333.048,635.463 \n",
       "  333.291,611.546 333.533,586.119 333.775,557.918 334.017,526.82 334.26,493.236 334.502,457.84 334.744,421.45 334.986,384.939 335.229,349.156 335.471,314.867 \n",
       "  335.713,282.715 335.955,253.188 336.198,226.613 336.44,203.158 336.682,182.847 336.924,165.584 337.166,151.176 337.409,139.366 337.651,129.853 337.893,122.324 \n",
       "  338.135,116.466 338.378,111.985 338.62,108.614 338.862,106.128 339.104,104.395 339.347,103.704 339.589,105.822 339.831,115.179 340.073,135.775 340.316,161.349 \n",
       "  340.558,173.374 340.8,160.698 341.042,134.701 341.284,113.772 341.527,103.887 341.769,100.892 342.011,100.288 342.253,100.207 342.496,100.207 342.738,100.227 \n",
       "  342.98,100.266 343.222,100.335 343.465,100.448 343.707,100.629 343.949,100.912 344.191,101.348 344.434,102.006 344.676,102.98 344.918,104.401 345.16,106.437 \n",
       "  345.403,109.307 345.645,113.286 345.887,118.71 346.129,125.981 346.371,135.564 346.614,147.978 346.856,163.783 347.098,183.552 347.34,207.842 347.583,237.144 \n",
       "  347.825,271.836 348.067,312.125 348.309,357.994 348.552,409.144 348.794,464.96 349.036,524.484 349.278,586.417 349.521,649.145 349.763,710.796 350.005,769.325 \n",
       "  350.247,822.62 350.489,868.63 350.732,905.496 350.974,931.673 351.216,946.053 351.458,948.039 351.701,937.605 351.943,915.309 352.185,882.263 352.427,840.078 \n",
       "  352.67,790.764 352.912,736.616 353.154,680.081 353.396,623.624 353.639,569.594 353.881,520.106 354.123,476.936 354.365,441.447 354.608,414.536 354.85,396.609 \n",
       "  355.092,387.589 355.334,386.946 355.576,393.749 355.819,406.734 356.061,424.393 356.303,445.058 356.545,466.997 356.788,488.504 357.03,507.985 357.272,524.029 \n",
       "  357.514,535.479 357.757,541.474 357.999,541.481 358.241,535.307 358.483,523.091 358.726,505.27 358.968,482.54 359.21,455.793 359.452,426.049 359.695,394.387 \n",
       "  359.937,361.875 360.179,329.509 360.421,298.166 360.663,268.567 360.906,241.261 361.148,216.619 361.39,194.841 361.632,175.979 361.875,159.954 362.117,146.596 \n",
       "  362.359,135.663 362.601,126.875 362.844,119.934 363.086,114.547 363.328,110.437 363.57,107.354 363.813,105.078 364.055,103.427 364.297,102.248 364.539,101.419 \n",
       "  364.781,100.845 365.024,100.454 365.266,100.191 365.508,100.016 365.75,99.9012 365.993,99.8265 366.235,99.7778 366.477,99.7461 366.719,99.725 366.962,99.7105 \n",
       "  367.204,99.7001 367.446,99.6921 367.688,99.6856 367.931,99.68 368.173,99.6748 368.415,99.6699 368.657,99.6652 368.9,99.6605 369.142,99.6559 369.384,99.6513 \n",
       "  369.626,99.6467 369.868,99.6421 370.111,99.6376 370.353,99.633 370.595,99.6284 370.837,99.6239 371.08,99.6193 371.322,99.6147 371.564,99.6102 371.806,99.6056 \n",
       "  372.049,99.601 372.291,99.5965 372.533,99.5919 372.775,99.5874 373.018,99.5828 373.26,99.5782 373.502,99.5737 373.744,99.5691 373.986,99.5646 374.229,99.56 \n",
       "  374.471,99.5555 374.713,99.5509 374.955,99.5464 375.198,99.5418 375.44,99.5373 375.682,99.5327 375.924,99.5282 376.167,99.5237 376.409,99.5192 376.651,99.5147 \n",
       "  376.893,99.5103 377.136,99.506 377.378,99.5019 377.62,99.4983 377.862,99.4952 378.105,99.4933 378.347,99.4933 378.589,99.4964 378.831,99.5045 379.073,99.5207 \n",
       "  379.316,99.5494 379.558,99.5975 379.8,99.6749 380.042,99.7963 380.285,99.9821 380.527,100.261 380.769,100.671 381.011,101.264 381.254,102.108 381.496,103.289 \n",
       "  381.738,104.916 381.98,107.119 382.223,110.056 382.465,113.907 382.707,118.877 382.949,125.185 383.192,133.061 383.434,142.729 383.676,154.399 383.918,168.239 \n",
       "  384.16,184.366 384.403,202.818 384.645,223.537 384.887,246.358 385.129,270.994 385.372,297.043 385.614,323.994 385.856,351.251 386.098,378.157 386.341,404.034 \n",
       "  386.583,428.217 386.825,450.088 387.067,469.102 387.31,484.805 387.552,496.841 387.794,504.952 388.036,508.967 388.278,508.806 388.521,504.463 388.763,496.018 \n",
       "  389.005,483.639 389.247,467.588 389.49,448.231 389.732,426.036 389.974,401.562 390.216,375.446 390.459,348.367 390.701,321.017 390.943,294.057 391.185,268.092 \n",
       "  391.428,243.637 391.67,221.101 391.912,200.784 392.154,182.878 392.397,167.484 392.639,154.632 392.881,144.309 393.123,136.487 393.365,131.154 393.608,128.341 \n",
       "  393.85,128.144 394.092,130.745 394.334,136.425 394.577,145.566 394.819,158.645 395.061,176.218 395.303,198.892 395.546,227.276 395.788,261.937 396.03,303.324 \n",
       "  396.272,351.706 396.515,407.094 396.757,469.172 396.999,537.249 397.241,610.246 397.483,686.886 397.726,766.54 397.968,850.75 398.21,942.081 398.452,1035.53 \n",
       "  398.695,1112.4 398.937,1155.27 399.179,1167.57 399.421,1165.37 399.664,1157.34 399.906,1141.8 400.148,1114.9 400.39,1075.13 400.633,1023.26 400.875,961.227 \n",
       "  401.117,891.464 401.359,816.57 401.602,739.143 401.844,661.621 402.086,586.173 402.328,514.601 402.57,448.299 402.813,388.231 403.055,334.95 403.297,288.635 \n",
       "  403.539,249.157 403.782,216.137 404.024,189.025 404.266,167.164 404.508,149.845 404.751,136.364 404.993,126.052 405.235,118.349 405.477,113.218 405.72,113.398 \n",
       "  405.962,131.297 406.204,195.244 406.446,326.548 406.689,479.007 406.931,538.496 407.173,449.687 407.415,291.938 407.657,172.267 407.9,118.356 408.142,102.809 \n",
       "  408.384,99.9701 408.626,99.8631 408.869,100.273 409.111,100.938 409.353,101.91 409.595,103.299 409.838,105.243 410.08,107.918 410.322,111.536 410.564,116.348 \n",
       "  410.807,122.638 411.049,130.719 411.291,140.921 411.533,153.571 411.775,168.978 412.018,187.398 412.26,209.004 412.502,233.858 412.744,261.873 412.987,292.791 \n",
       "  413.229,326.162 413.471,361.333 413.713,397.463 413.956,433.541 414.198,468.429 414.44,500.916 414.682,529.787 414.925,553.899 415.167,572.252 415.409,584.06 \n",
       "  415.651,588.807 415.894,586.286 416.136,576.611 416.378,560.214 416.62,537.813 416.862,510.362 417.105,478.99 417.347,444.929 417.589,409.442 417.831,373.759 \n",
       "  418.074,339.021 418.316,306.241 418.558,276.279 418.8,249.837 419.043,227.462 419.285,209.567 419.527,196.447 419.769,188.311 420.012,185.296 420.254,187.485 \n",
       "  420.496,194.912 420.738,207.556 420.98,225.329 421.223,248.052 421.465,275.427 421.707,307.009 421.949,342.184 422.192,380.151 422.434,419.921 422.676,460.333 \n",
       "  422.918,500.085 423.161,537.786 423.403,572.025 423.645,601.446 423.887,624.829 424.13,641.175 424.372,649.763 424.614,650.212 424.856,642.497 425.099,626.958 \n",
       "  425.341,604.271 425.583,575.398 425.825,541.523 426.067,503.967 426.31,464.107 426.552,423.289 426.794,382.761 427.036,343.612 427.279,306.729 427.521,272.781 \n",
       "  427.763,242.211 428.005,215.252 428.248,191.949 428.49,172.192 428.732,155.755 428.974,142.327 429.217,131.554 429.459,123.062 429.701,116.483 429.943,111.473 \n",
       "  430.186,107.721 430.428,104.959 430.67,102.958 430.912,101.534 431.154,100.538 431.397,99.8543 431.639,99.3975 431.881,99.105 432.123,98.9343 432.366,98.86 \n",
       "  432.608,98.8719 432.85,98.9742 433.092,99.1864 433.335,99.5457 433.577,100.11 433.819,100.965 434.061,102.226 434.304,104.052 434.546,106.649 434.788,110.279 \n",
       "  435.03,115.27 435.272,122.014 435.515,130.978 435.757,142.688 435.999,157.724 436.241,176.696 436.484,200.213 436.726,228.84 436.968,263.048 437.21,303.158 \n",
       "  437.453,349.277 437.695,401.242 437.937,458.569 438.179,520.42 438.422,585.589 438.664,652.513 438.906,719.326 439.148,783.923 439.391,844.075 439.633,897.551 \n",
       "  439.875,942.264 440.117,976.412 440.359,998.618 440.602,1008.05 440.844,1004.48 441.086,988.368 441.328,960.802 441.571,923.465 441.813,878.521 442.055,828.452 \n",
       "  442.297,775.888 442.54,723.402 442.782,673.327 443.024,627.589 443.266,587.587 443.509,554.121 443.751,527.386 443.993,507.016 444.235,492.175 444.477,481.69 \n",
       "  444.72,474.188 444.962,468.244 445.204,462.507 445.446,455.806 445.689,447.224 445.931,436.134 446.173,422.218 446.415,405.444 446.658,386.034 446.9,364.41 \n",
       "  447.142,341.14 447.384,316.872 447.627,292.28 447.869,268.014 448.111,244.654 448.353,222.683 448.596,202.47 448.838,184.265 449.08,168.197 449.322,154.292 \n",
       "  449.564,142.488 449.807,132.653 450.049,124.609 450.291,118.148 450.533,113.055 450.776,109.117 451.018,106.134 451.26,103.932 451.502,102.362 451.745,101.303 \n",
       "  451.987,100.668 452.229,100.395 452.471,100.456 452.714,100.846 452.956,101.59 453.198,102.738 453.44,104.379 453.682,106.834 453.925,111.897 454.167,127.596 \n",
       "  454.409,175.862 454.651,283.718 454.894,434.349 455.136,535.234 455.378,504.107 455.62,378.498 455.863,263.715 456.105,210.499 456.347,202.722 456.589,212.915 \n",
       "  456.832,227.732 457.074,243.44 457.316,259.184 457.558,274.634 457.801,289.567 458.043,303.847 458.285,317.445 458.527,330.464 458.769,343.138 459.012,355.832 \n",
       "  459.254,369.017 459.496,383.231 459.738,399.028 459.981,416.913 460.223,437.279 460.465,460.34 460.707,486.079 460.95,514.212 461.192,544.171 461.434,575.113 \n",
       "  461.676,605.958 461.919,635.44 462.161,662.192 462.403,684.832 462.645,702.061 462.888,712.764 463.13,716.093 463.372,711.535 463.614,698.958 463.856,678.619 \n",
       "  464.099,651.152 464.341,617.513 464.583,578.914 464.825,536.73 465.068,492.405 465.31,447.361 465.552,402.91 465.794,360.193 466.037,320.135 466.279,283.418 \n",
       "  466.521,250.484 466.763,221.545 467.006,196.616 467.248,175.55 467.49,158.077 467.732,143.845 467.974,132.458 468.217,123.505 468.459,116.587 468.701,111.33 \n",
       "  468.943,107.403 469.186,104.517 469.428,102.43 469.67,100.946 469.912,99.9064 470.155,99.19 470.397,98.7035 470.639,98.378 470.881,98.163 471.124,98.0228 \n",
       "  471.366,97.9321 471.608,97.8739 471.85,97.8364 472.093,97.812 472.335,97.7957 472.577,97.7844 472.819,97.7761 473.061,97.7695 473.304,97.764 473.546,97.759 \n",
       "  473.788,97.7544 474.03,97.7499 474.273,97.7456 474.515,97.7413 474.757,97.7371 474.999,97.7328 475.242,97.7286 475.484,97.7244 475.726,97.7202 475.968,97.7161 \n",
       "  476.211,97.712 476.453,97.7081 476.695,97.7045 476.937,97.7014 477.179,97.6991 477.422,97.6985 477.664,97.7028 477.906,97.7421 478.148,98.0584 478.391,99.9579 \n",
       "  478.633,107.75 478.875,128.751 479.117,163.963 479.36,195.262 479.602,196.88 479.844,167.621 480.086,132.607 480.329,111.471 480.571,104.427 480.813,104.335 \n",
       "  481.055,106.817 481.298,110.702 481.54,116.053 481.782,123.243 482.024,132.752 482.266,145.126 482.509,160.972 482.751,180.929 482.993,205.643 483.235,235.714 \n",
       "  483.478,271.647 483.72,313.786 483.962,362.253 484.204,416.889 484.447,477.22 484.689,542.447 484.931,611.48 485.173,683.005 485.416,755.6 485.658,827.861 \n",
       "  485.9,898.532 486.142,966.613 486.385,1031.4 486.627,1092.47 486.869,1149.56 487.111,1202.43 487.353,1250.67 487.596,1293.55 487.838,1329.92 488.08,1358.29 \n",
       "  488.322,1376.94 488.565,1384.24 488.807,1378.92 489.049,1360.38 489.291,1328.87 489.534,1285.52 489.776,1232.24 490.018,1171.42 490.26,1105.68 490.503,1037.47 \n",
       "  490.745,968.86 490.987,901.409 491.229,836.099 491.471,773.428 491.714,713.536 491.956,656.357 492.198,601.757 492.44,549.633 492.683,499.969 492.925,452.851 \n",
       "  493.167,408.451 493.409,366.989 493.652,328.694 493.894,293.774 494.136,262.385 494.378,234.62 494.621,210.512 494.863,190.043 495.105,173.162 495.347,159.81 \n",
       "  495.59,149.95 495.832,143.591 496.074,140.819 496.316,141.815 496.558,146.874 496.801,156.409 497.043,170.95 497.285,191.121 497.527,217.614 497.77,251.133 \n",
       "  498.012,292.332 498.254,341.741 498.496,399.676 498.739,466.151 498.981,540.796 499.223,622.787 499.465,710.801 499.708,803.005 499.95,897.08 500.192,990.301 \n",
       "  500.434,1079.64 500.676,1161.94 500.919,1234.07 501.161,1293.12 501.403,1336.63 501.645,1362.73 501.888,1370.25 502.13,1358.88 502.372,1329.11 502.614,1282.25 \n",
       "  502.857,1220.31 503.099,1145.85 503.341,1061.85 503.583,971.451 503.826,877.8 504.068,783.87 504.31,692.306 504.552,605.321 504.795,524.632 505.037,451.436 \n",
       "  505.279,386.431 505.521,329.86 505.763,281.584 506.006,241.161 506.248,207.936 506.49,181.117 506.732,159.849 506.975,143.277 507.217,130.583 507.459,121.025 \n",
       "  507.701,113.949 507.944,108.825 508.186,105.412 508.428,104.558 508.67,110.073 508.913,128.856 509.155,162.072 509.397,192.386 509.639,194.282 509.882,165.599 \n",
       "  510.124,130.438 510.366,108.331 510.608,99.7505 510.85,97.5655 511.093,97.1808 511.335,97.1245 511.577,97.1108 511.819,97.1029 512.062,97.0968 512.304,97.0916 \n",
       "  512.546,97.0869 512.788,97.0825 513.031,97.0782 513.273,97.074 513.515,97.0699 513.757,97.0657 514,97.0616 514.242,97.0575 514.484,97.0534 514.726,97.0493 \n",
       "  514.968,97.0452 515.211,97.0411 515.453,97.037 515.695,97.0329 515.937,97.0288 516.18,97.0247 516.422,97.0206 516.664,97.0165 516.906,97.0124 517.149,97.0083 \n",
       "  517.391,97.0042 517.633,97.0001 517.875,96.996 518.118,96.9919 518.36,96.9878 518.602,96.9837 518.844,96.9796 519.087,96.9756 519.329,96.9715 519.571,96.9674 \n",
       "  519.813,96.9633 520.055,96.9593 520.298,96.9553 520.54,96.9513 520.782,96.9474 521.024,96.9438 521.267,96.9405 521.509,96.9377 521.751,96.936 521.993,96.936 \n",
       "  522.236,96.9387 522.478,96.9459 522.72,96.9602 522.962,96.9857 523.205,97.0307 523.447,97.1361 523.689,97.634 523.931,100.622 524.173,114.591 524.416,158.999 \n",
       "  524.658,249.596 524.9,356.944 525.142,403.005 525.385,346.613 525.627,240.046 525.869,158.447 526.111,123.193 526.354,116.069 526.596,119.145 526.838,125.383 \n",
       "  527.08,133.288 527.323,142.756 527.565,153.863 527.807,166.655 528.049,181.122 528.292,197.182 528.534,214.679 528.776,233.385 529.018,253.01 529.26,273.218 \n",
       "  529.503,293.651 529.745,313.965 529.987,333.861 530.229,353.126 530.472,371.668 530.714,389.536 530.956,406.94 531.198,424.237 531.441,441.909 531.683,460.506 \n",
       "  531.925,480.58 532.167,502.598 532.41,526.853 532.652,553.391 532.894,581.955 533.136,611.964 533.379,642.545 533.621,672.596 533.863,700.899 534.105,726.259 \n",
       "  534.347,747.64 534.59,764.299 534.832,775.872 535.074,782.412 535.316,784.363 535.559,782.475 535.801,777.668 536.043,770.881 536.285,762.917 536.528,754.32 \n",
       "  536.77,745.309 537.012,735.776 537.254,725.342 537.497,713.472 537.739,699.623 537.981,683.396 538.223,664.677 538.465,643.741 538.708,621.314 538.95,598.573 \n",
       "  539.192,577.105 539.434,558.807 539.677,545.754 539.919,540.039 540.161,543.593 540.403,558.005 540.646,584.356 540.888,623.08 541.13,673.865 541.372,735.604 \n",
       "  541.615,806.408 541.857,883.672 542.099,964.208 542.341,1044.42 542.584,1120.52 542.826,1188.8 543.068,1245.87 543.31,1288.95 543.552,1316.15 543.795,1326.65 \n",
       "  544.037,1320.86 544.279,1300.52 544.521,1268.56 544.764,1228.96 545.006,1186.32 545.248,1145.39 545.49,1110.55 545.733,1085.23 545.975,1071.52 546.217,1069.89 \n",
       "  546.459,1079.27 546.702,1097.27 546.944,1120.7 547.186,1146.1 547.428,1170.33 547.67,1190.95 547.913,1206.43 548.155,1216.1 548.397,1219.91 548.639,1218.16 \n",
       "  548.882,1211.17 549.124,1199.09 549.366,1181.78 549.608,1158.96 549.851,1130.28 550.093,1095.53 550.335,1054.79 550.577,1008.51 550.82,957.462 551.062,902.746 \n",
       "  551.304,845.649 551.546,787.575 551.789,729.97 552.031,674.284 552.273,621.949 552.515,574.371 552.757,532.917 553,498.891 553.242,473.504 553.484,457.891 \n",
       "  553.726,453.241 553.969,460.79 554.211,480.879 554.453,511.4 554.695,548.702 554.938,591.127 555.18,639.529 555.422,693.891 555.664,751.77 555.907,809.711 \n",
       "  556.149,864.494 556.391,913.321 556.633,953.747 556.876,983.726 557.118,1001.71 557.36,1006.71 557.602,998.397 557.844,977.059 558.087,943.69 558.329,900.499 \n",
       "  558.571,853.062 558.813,813.789 559.056,797.311 559.298,796.702 559.54,769.564 559.782,681.358 560.025,555.039 560.267,441.033 560.509,360.74 560.751,305.548 \n",
       "  560.994,263.362 561.236,228.682 561.478,199.883 561.72,176.31 561.962,157.396 562.205,142.549 562.447,131.176 562.689,122.718 562.931,116.664 563.174,112.569 \n",
       "  563.416,110.052 563.658,108.797 563.9,108.545 564.143,109.086 564.385,110.247 564.627,111.879 564.869,113.857 565.112,116.064 565.354,118.389 565.596,120.727 \n",
       "  565.838,122.976 566.081,125.036 566.323,126.819 566.565,128.245 566.807,129.251 567.049,129.79 567.292,129.841 567.534,129.403 567.776,128.499 568.018,127.176 \n",
       "  568.261,125.501 568.503,123.557 568.745,121.454 568.987,119.428 569.23,118.518 569.472,122.906 569.714,143.042 569.956,189.785 570.199,251.559 570.441,285.457 \n",
       "  570.683,260.755 570.925,200.576 571.167,150.271 571.41,127.504 571.652,123.468 571.894,126.929 572.136,132.959 572.379,140.347 572.621,148.887 572.863,158.502 \n",
       "  573.105,169.093 573.348,180.513 573.59,192.574 573.832,205.043 574.074,217.654 574.317,230.114 574.559,242.114 574.801,253.344 575.043,263.5 575.286,272.301 \n",
       "  575.528,279.493 575.77,284.861 576.012,288.237 576.254,289.511 576.497,288.682 576.739,286.088 576.981,282.992 577.223,281.82 577.466,283.72 577.708,284.136 \n",
       "  577.95,274.803 578.192,253.958 578.435,229.244 578.677,208.159 578.919,191.904 579.161,178.49 579.404,166.483 579.646,155.496 579.888,145.542 580.13,136.683 \n",
       "  580.372,128.942 580.615,122.299 580.857,116.699 581.099,112.059 581.341,108.279 581.584,105.252 581.826,102.868 582.068,101.022 582.31,99.6175 582.553,98.5687 \n",
       "  582.795,97.8025 583.037,97.2587 583.279,96.8905 583.522,96.6632 583.764,96.5544 584.006,96.5531 584.248,96.6594 584.491,96.8846 584.733,97.2511 584.975,97.793 \n",
       "  585.217,98.5564 585.459,99.5992 585.702,100.991 585.944,102.812 586.186,105.151 586.428,108.1 586.671,111.752 586.913,116.193 587.155,121.494 587.397,127.703 \n",
       "  587.64,134.835 587.882,142.863 588.124,151.715 588.366,161.262 588.609,171.325 588.851,181.675 589.093,192.04 589.335,202.122 589.578,211.61 589.82,220.209 \n",
       "  590.062,227.655 590.304,233.745 590.546,238.354 590.789,241.454 591.031,243.122 591.273,243.549 591.515,243.023 591.758,241.923 592,240.69 592.242,239.796 \n",
       "  592.484,239.707 592.727,240.845 592.969,243.551 593.211,248.057 593.453,254.46 593.696,262.717 593.938,272.645 594.18,283.945 594.422,296.231 594.664,309.078 \n",
       "  594.907,322.077 595.149,334.949 595.391,347.983 595.633,363.643 595.876,389.492 596.118,436.295 596.36,501.425 596.602,553.987 596.845,561.488 597.087,533.804 \n",
       "  597.329,510.986 597.571,516.025 597.814,545.126 598.056,588.054 598.298,639.176 598.54,696.162 598.783,757.294 599.025,820.537 599.267,883.482 599.509,943.533 \n",
       "  599.751,998.173 599.994,1045.25 600.236,1083.28 600.478,1111.64 600.72,1130.73 600.963,1141.97 601.205,1147.6 601.447,1150.4 601.689,1153.21 601.932,1158.52 \n",
       "  602.174,1167.94 602.416,1181.95 602.658,1199.79 602.901,1219.6 603.143,1238.82 603.385,1254.75 603.627,1265.18 603.869,1268.85 604.112,1265.81 604.354,1257.41 \n",
       "  604.596,1246.01 604.838,1234.43 605.081,1225.33 605.323,1220.62 605.565,1221 605.807,1225.79 606.05,1233.03 606.292,1239.82 606.534,1242.85 606.776,1238.98 \n",
       "  607.019,1225.71 607.261,1201.58 607.503,1166.31 607.745,1120.77 607.988,1066.77 608.23,1006.73 608.472,943.286 608.714,878.996 608.956,816.016 609.199,755.963 \n",
       "  609.441,699.842 609.683,648.089 609.925,600.666 610.168,557.205 610.41,517.156 610.652,479.913 610.894,444.925 611.137,411.754 611.379,380.111 611.621,349.853 \n",
       "  611.863,320.968 612.106,293.54 612.348,267.714 612.59,243.658 612.832,221.536 613.075,201.48 613.317,183.583 613.559,167.888 613.801,154.39 614.043,143.046 \n",
       "  614.286,133.786 614.528,126.526 614.77,121.191 615.012,117.726 615.255,116.117 615.497,116.398 615.739,118.668 615.981,123.094 616.224,129.911 616.466,139.416 \n",
       "  616.708,151.96 616.95,167.924 617.193,187.696 617.435,211.638 617.677,240.046 617.919,273.116 618.161,310.906 618.404,353.309 618.646,400.041 618.888,450.64 \n",
       "  619.13,504.495 619.373,560.874 619.615,618.982 619.857,678.006 620.099,737.158 620.342,795.695 620.584,852.913 620.826,908.118 621.068,960.567 621.311,1009.41 \n",
       "  621.553,1053.62 621.795,1091.99 622.037,1123.13 622.28,1145.53 622.522,1157.73 622.764,1158.42 623.006,1146.7 623.248,1122.2 623.491,1085.24 623.733,1036.91 \n",
       "  623.975,979.033 624.217,914.095 624.46,845.092 624.702,775.325 624.944,708.188 625.186,646.949 625.429,594.552 625.671,553.459 625.913,525.521 626.155,511.898 \n",
       "  626.398,513.015 626.64,528.562 626.882,557.526 627.124,598.253 627.366,648.537 627.609,705.733 627.851,766.883 628.093,828.858 628.335,888.501 628.578,942.782 \n",
       "  628.82,988.94 629.062,1024.62 629.304,1047.98 629.547,1057.81 629.789,1053.52 630.031,1035.24 630.273,1003.72 630.516,960.31 630.758,906.813 631,845.392 \n",
       "  631.242,778.402 631.485,708.248 631.727,637.243 631.969,567.493 632.211,500.801 632.453,438.607 632.696,381.966 632.938,331.543 633.18,287.646 633.422,250.268 \n",
       "  633.665,219.149 633.907,193.837 634.149,173.747 634.391,158.221 634.634,146.582 634.876,138.258 635.118,133.387 635.36,135.133 635.603,153.694 635.845,202.809 \n",
       "  636.087,275.769 636.329,326.657 636.572,310.444 636.814,241.848 637.056,174.64 637.298,137.737 637.54,124.44 637.783,120.477 638.025,118.622 638.267,116.93 \n",
       "  638.509,115.121 638.752,113.225 638.994,111.312 639.236,109.454 639.478,107.727 639.721,106.204 639.963,104.959 640.205,104.071 640.447,103.625 640.69,103.718 \n",
       "  640.932,104.462 641.174,105.99 641.416,108.457 641.658,112.039 641.901,116.936 642.143,123.359 642.385,131.526 642.627,141.643 642.87,153.892 643.112,168.403 \n",
       "  643.354,185.238 643.596,204.418 643.839,226.241 644.081,252.833 644.323,291.486 644.565,354.069 644.808,440.087 645.05,516.026 645.292,538.33 645.534,507.376 \n",
       "  645.777,465.667 646.019,443.72 646.261,439.829 646.503,441.274 646.745,440.401 646.988,434.917 647.23,424.625 647.472,409.919 647.714,391.416 647.957,369.87 \n",
       "  648.199,346.117 648.441,321.02 648.683,295.419 648.926,270.085 649.168,245.687 649.41,222.767 649.652,201.727 649.895,182.831 650.137,166.211 650.379,151.886 \n",
       "  650.621,139.784 650.863,129.761 651.106,121.631 651.348,115.188 651.59,110.223 651.832,106.547 652.075,104.002 652.317,102.476 652.559,101.912 652.801,102.318 \n",
       "  653.044,103.774 653.286,106.443 653.528,110.569 653.77,116.491 654.013,124.635 654.255,135.515 654.497,149.722 654.739,167.902 654.982,190.728 655.224,218.861 \n",
       "  655.466,252.895 655.708,293.302 655.95,340.359 656.193,394.085 656.435,454.178 656.677,519.962 656.919,590.356 657.162,663.873 657.404,738.644 657.646,812.483 \n",
       "  657.888,882.98 658.131,947.63 658.373,1003.98 658.615,1049.8 658.857,1083.25 659.1,1103 659.342,1108.42 659.584,1099.65 659.826,1077.63 660.069,1044.13 \n",
       "  660.311,1001.74 660.553,954.306 660.795,908.758 661.037,878.073 661.28,876.349 661.522,896.741 661.764,901.652 662.006,865.033 662.249,811.546 662.491,782.534 \n",
       "  662.733,789.789 662.975,821.332 663.218,864.37 663.46,911.642 663.702,958.659 663.944,1001.75 664.187,1037.7 664.429,1063.93 664.671,1078.62 664.913,1080.86 \n",
       "  665.155,1070.72 665.398,1049.2 665.64,1018.21 665.882,980.393 666.124,938.921 666.367,897.22 666.609,858.673 666.851,826.311 667.093,802.523 667.336,788.829 \n",
       "  667.578,785.743 667.82,792.735 668.062,808.305 668.305,830.159 668.547,855.449 668.789,881.06 669.031,903.898 669.274,921.156 669.516,930.521 669.758,930.325 \n",
       "  670,919.616 670.242,898.167 670.485,866.427 670.727,825.426 670.969,776.648 671.211,721.89 671.454,663.111 671.696,602.299 671.938,541.34 672.18,481.925 \n",
       "  672.423,425.47 672.665,373.081 672.907,325.53 673.149,283.271 673.392,246.467 673.634,215.033 673.876,188.689 674.118,167.015 674.36,149.504 674.603,135.604 \n",
       "  674.845,124.761 675.087,116.448 675.329,110.182 675.572,105.537 675.814,102.151 676.056,99.7221 676.298,98.0084 676.541,96.8183 676.783,96.0048 677.025,95.4571 \n",
       "  677.267,95.0939 677.51,94.8563 677.752,94.7029 677.994,94.6049 678.236,94.5427 678.479,94.5033 678.721,94.4782 678.963,94.4619 679.205,94.4509 679.447,94.4431 \n",
       "  679.69,94.4371 679.932,94.4322 680.174,94.4279 680.416,94.4239 680.659,94.4201 680.901,94.4165 681.143,94.4128 681.385,94.4092 681.628,94.4056 681.87,94.4021 \n",
       "  682.112,94.3985 682.354,94.3949 682.597,94.3914 682.839,94.3878 683.081,94.3842 683.323,94.3807 683.565,94.3771 683.808,94.3735 684.05,94.37 684.292,94.3664 \n",
       "  684.534,94.3628 684.777,94.3593 685.019,94.3557 685.261,94.3522 685.503,94.3486 685.746,94.345 685.988,94.3415 686.23,94.3379 686.472,94.3344 686.715,94.3308 \n",
       "  686.957,94.3273 687.199,94.3237 687.441,94.3202 687.684,94.3166 687.926,94.3131 688.168,94.3095 688.41,94.306 688.652,94.3024 688.895,94.2989 689.137,94.2953 \n",
       "  689.379,94.2918 689.621,94.2882 689.864,94.2847 690.106,94.2812 690.348,94.2776 690.59,94.2741 690.833,94.2705 691.075,94.267 691.317,94.2635 691.559,94.2599 \n",
       "  691.802,94.2564 692.044,94.2529 692.286,94.2493 692.528,94.2458 692.771,94.2424 693.013,94.239 693.255,94.2357 693.497,94.2327 693.739,94.2301 693.982,94.2283 \n",
       "  694.224,94.2278 694.466,94.2296 694.708,94.2354 694.951,94.2477 695.193,94.2708 695.435,94.3111 695.677,94.379 695.92,94.4898 696.162,94.6664 696.404,94.9424 \n",
       "  696.646,95.3655 696.889,96.003 697.131,96.9473 697.373,98.3227 697.615,100.293 697.857,103.069 698.1,106.915 698.342,112.157 698.584,119.18 698.826,128.432 \n",
       "  699.069,140.413 699.311,155.661 699.553,174.727 699.795,198.142 700.038,226.377 700.28,259.792 700.522,298.582 700.764,342.724 701.007,391.925 701.249,445.588 \n",
       "  701.491,502.785 701.733,562.261 701.976,622.46 702.218,681.579 702.46,737.651 702.702,788.645 702.944,832.591 703.187,867.701 703.429,892.491 703.671,905.886 \n",
       "  703.913,907.294 704.156,896.652 704.398,874.432 704.64,841.601 704.882,799.558 705.125,750.028 705.367,694.952 705.609,636.356 705.851,576.233 706.094,516.432 \n",
       "  706.336,458.573 706.578,403.984 706.82,353.67 707.062,308.306 707.305,268.25 707.547,233.585 707.789,204.163 708.031,179.656 708.274,159.616 708.516,143.523 \n",
       "  708.758,130.86 709,121.423 709.243,116.983 709.485,126.698 709.727,173.243 709.969,277.238 710.212,407.089 710.454,468.345 710.696,403.738 710.938,270.997 \n",
       "  711.181,163.997 711.423,113.417 711.665,98.1262 711.907,95.1408 712.149,94.9232 712.392,95.2325 712.634,95.769 712.876,96.5539 713.118,97.6583 713.361,99.1744 \n",
       "  713.603,101.215 713.845,103.911 714.087,107.413 714.33,111.884 714.572,117.495 714.814,124.419 715.056,132.815 715.299,142.823 715.541,154.549 715.783,168.05 \n",
       "  716.025,183.328 716.268,200.323 716.51,218.91 716.752,238.905 716.994,260.078 717.236,282.175 717.479,304.947 717.721,328.18 717.963,351.741 718.205,375.61 \n",
       "  718.448,399.912 718.69,424.938 718.932,451.142 719.174,479.115 719.417,509.532 719.659,543.066 719.901,580.283 720.143,621.517 720.386,666.762 720.628,715.564 \n",
       "  720.87,766.975 721.112,819.541 721.354,871.364 721.597,920.217 721.839,963.709 722.081,999.48 722.323,1025.4 722.566,1039.76 722.808,1041.41 723.05,1029.84 \n",
       "  723.292,1005.25 723.535,968.478 723.777,920.94 724.019,864.506 724.261,801.348 724.504,733.785 724.746,664.128 724.988,594.55 725.23,526.969 725.473,462.976 \n",
       "  725.715,403.791 725.957,350.251 726.199,302.824 726.441,261.65 726.684,226.593 726.926,197.303 727.168,173.278 727.41,153.925 727.653,138.609 727.895,126.7 \n",
       "  728.137,117.6 728.379,110.769 728.622,105.734 728.864,102.096 729.106,99.5311 729.348,97.7816 729.591,96.6544 729.833,96.0112 730.075,95.7626 730.317,95.8616 \n",
       "  730.559,96.2984 730.802,97.0964 731.044,98.3092 731.286,100.017 731.528,102.326 731.771,105.359 732.013,109.259 732.255,114.174 732.497,120.252 732.74,127.63 \n",
       "  732.982,136.419 733.224,146.69 733.466,158.458 733.709,171.668 733.951,186.183 734.193,201.776 734.435,218.129 734.678,234.836 734.92,251.417 735.162,267.338 \n",
       "  735.404,282.036 735.646,294.955 735.889,305.579 736.131,313.462 736.373,318.264 736.615,319.776 736.858,317.93 737.1,312.807 737.342,304.632 737.584,293.756 \n",
       "  737.827,280.632 738.069,265.782 738.311,249.765 738.553,233.142 738.796,216.443 739.038,200.141 739.28,184.634 739.522,170.232 739.765,157.151 740.007,145.522 \n",
       "  740.249,135.39 740.491,126.735 740.733,119.48 740.976,113.51 741.218,108.687 741.46,104.858 741.702,101.871 741.945,99.5805 742.187,97.8542 742.429,96.5748 \n",
       "  742.671,95.6429 742.914,94.9765 743.156,94.5097 743.398,94.192 743.64,93.9859 743.883,93.8656 744.125,93.8161 744.367,93.8321 744.609,93.9182 744.851,94.0896 \n",
       "  745.094,94.3736 745.336,94.8121 745.578,95.464 745.82,96.4097 746.063,97.7545 746.305,99.6323 746.547,102.21 746.789,105.687 747.032,110.301 747.274,116.316 \n",
       "  747.516,124.024 747.758,133.731 748.001,145.739 748.243,160.324 748.485,177.715 748.727,198.059 748.97,221.396 749.212,247.624 749.454,276.483 749.696,307.53 \n",
       "  749.938,340.142 750.181,373.519 750.423,406.712 750.665,438.664 750.907,468.259 751.15,494.392 751.392,516.037 751.634,532.317 751.876,542.573 752.119,546.416 \n",
       "  752.361,543.77 752.603,534.889 752.845,520.364 753.088,501.106 753.33,478.316 753.572,453.442 753.814,428.129 754.056,404.16 754.299,383.401 754.541,367.731 \n",
       "  754.783,358.98 755.025,358.851 755.268,368.84 755.51,390.143 755.752,423.553 755.994,469.356 756.237,527.227 756.479,596.145 756.721,674.347 756.963,759.341 \n",
       "  757.206,847.997 757.448,936.744 757.69,1021.85 757.932,1099.77 758.175,1167.59 758.417,1223.33 758.659,1266.25 758.901,1296.95 759.143,1317.23 759.386,1329.75 \n",
       "  759.628,1337.53 759.87,1343.33 760.112,1349.08 760.355,1355.49 760.597,1361.83 760.839,1366.06 761.081,1365.24 761.324,1356.01 761.566,1335.28 761.808,1300.75 \n",
       "  762.05,1251.32 762.293,1187.27 762.535,1110.2 762.777,1022.79 763.019,928.44 763.262,830.825 763.504,733.525 763.746,639.708 763.988,551.918 764.23,471.98 \n",
       "  764.473,400.996 764.715,339.412 764.957,287.132 765.199,243.649 765.442,208.18 765.684,179.782 765.926,157.451 766.168,140.196 766.411,127.096 766.653,117.323 \n",
       "  766.895,110.169 767.137,105.045 767.38,101.478 767.622,99.1024 767.864,97.6532 768.106,96.9511 768.348,96.895 768.591,97.4537 768.833,98.6597 769.075,100.606 \n",
       "  769.317,103.441 769.56,107.369 769.802,112.641 770.044,119.555 770.286,128.438 770.529,139.64 770.771,153.507 771.013,170.361 771.255,190.464 771.498,213.99 \n",
       "  771.74,240.985 771.982,271.336 772.224,304.741 772.467,340.691 772.709,378.466 772.951,417.139 773.193,455.611 773.435,492.652 773.678,526.964 773.92,557.253 \n",
       "  774.162,582.311 774.404,601.094 774.647,612.794 774.889,616.898 775.131,613.223 775.373,601.934 775.616,583.524 775.858,558.787 776.1,528.755 776.342,494.629 \n",
       "  776.585,457.7 776.827,419.268 777.069,380.569 777.311,342.711 777.553,306.63 777.796,273.06 778.038,242.52 778.28,215.325 778.522,191.596 778.765,171.295 \n",
       "  779.007,154.256 779.249,140.216 779.491,128.856 779.734,119.828 779.976,112.776 780.218,107.362 780.46,103.276 780.703,100.243 780.945,98.0293 781.187,96.4395 \n",
       "  781.429,95.3162 781.672,94.5349 781.914,94 782.156,93.6391 782.398,93.3992 782.64,93.2419 782.883,93.1398 783.125,93.0742 783.367,93.0323 783.609,93.0054 \n",
       "  783.852,92.9879 784.094,92.9762 784.336,92.968 784.578,92.962 784.821,92.9571 785.063,92.953 785.305,92.9493 785.547,92.9458 785.79,92.9424 786.032,92.9391 \n",
       "  786.274,92.9358 786.516,92.9325 786.759,92.9293 787.001,92.9261 787.243,92.9228 787.485,92.9196 787.727,92.9164 787.97,92.9131 788.212,92.9099 788.454,92.9067 \n",
       "  788.696,92.9034 788.939,92.9002 789.181,92.897 789.423,92.8938 789.665,92.8905 789.908,92.8873 790.15,92.8841 790.392,92.8809 790.634,92.8777 790.877,92.8744 \n",
       "  791.119,92.8712 791.361,92.868 791.603,92.8648 791.845,92.8616 792.088,92.8584 792.33,92.8553 792.572,92.8523 792.814,92.8495 793.057,92.8469 793.299,92.8449 \n",
       "  793.541,92.8439 793.783,92.8446 794.026,92.8481 794.268,92.8563 794.51,92.8723 794.752,92.901 794.995,92.9496 795.237,93.0295 795.479,93.1574 795.721,93.3579 \n",
       "  795.964,93.6662 796.206,94.1316 796.448,94.8223 796.69,95.8299 796.932,97.2757 797.175,99.3159 797.417,102.147 797.659,106.011 797.901,111.197 798.144,118.038 \n",
       "  798.386,126.911 798.628,138.221 798.87,152.385 799.113,169.807 799.355,190.85 799.597,215.795 799.839,244.802 800.082,277.869 800.324,314.795 800.566,355.148 \n",
       "  800.808,398.248 801.05,443.166 801.293,488.743 801.535,533.627 801.777,576.338 802.019,615.338 802.262,649.13 802.504,676.342 802.746,695.83 802.988,706.748 \n",
       "  803.231,708.619 803.473,701.388 803.715,685.519 803.957,662.141 804.2,632.936 804.442,599.117 804.684,560.32 804.926,515.866 805.169,467.51 805.411,419.036 \n",
       "  805.653,373.255 805.895,331.046 806.137,292.535 806.38,257.89 806.622,227.307 806.864,200.865 807.106,178.486 807.349,159.969 807.591,145.026 807.833,133.328 \n",
       "  808.075,124.541 808.318,118.354 808.56,114.51 808.802,112.815 809.044,113.159 809.287,115.513 809.529,119.938 809.771,126.574 810.013,135.642 810.255,147.429 \n",
       "  810.498,162.276 810.74,180.563 810.982,202.691 811.224,229.059 811.467,260.042 811.709,295.972 811.951,337.111 812.193,383.638 812.436,435.629 812.678,493.044 \n",
       "  812.92,555.711 813.162,623.302 813.405,695.302 813.647,770.956 813.889,849.223 814.131,928.718 814.374,1007.68 814.616,1083.98 814.858,1155.22 815.1,1218.88 \n",
       "  815.342,1272.57 815.585,1314.33 815.827,1342.93 816.069,1358.08 816.311,1360.54 816.554,1352.04 816.796,1335 817.038,1312.12 817.28,1285.93 817.523,1258.34 \n",
       "  817.765,1230.39 818.007,1202.11 818.249,1172.65 818.492,1140.55 818.734,1104.15 818.976,1061.94 819.218,1012.92 819.461,956.809 819.703,894.099 819.945,825.976 \n",
       "  820.187,754.159 820.429,680.666 820.672,607.582 820.914,536.853 821.156,470.13 821.398,408.677 821.641,353.342 821.883,304.561 822.125,262.418 822.367,226.724 \n",
       "  822.61,197.309 822.852,175.476 823.094,169.163 823.336,200.564 823.579,295.157 823.821,430.533 824.063,509.78 824.305,455.365 824.547,312.705 824.79,187.562 \n",
       "  825.032,127.987 825.274,119.248 825.516,133.498 825.759,146.935 826.001,143.758 826.243,125.956 826.485,107.589 826.728,97.1958 826.97,93.4901 827.212,92.6037 \n",
       "  827.454,92.4455 827.697,92.4143 827.939,92.4018 828.181,92.3938 828.423,92.3879 828.666,92.3833 828.908,92.3794 829.15,92.3758 829.392,92.3725 829.634,92.3692 \n",
       "  829.877,92.3661 830.119,92.3629 830.361,92.3598 830.603,92.3567 830.846,92.3536 831.088,92.3505 831.33,92.3474 831.572,92.3444 831.815,92.3413 832.057,92.3382 \n",
       "  832.299,92.3351 832.541,92.3321 832.784,92.3314 833.026,92.3647 833.268,92.7364 833.51,95.355 833.752,107.661 833.995,145.769 834.237,220.773 834.479,306.364 \n",
       "  834.721,346.284 834.964,336.921 835.206,365.397 835.448,485.23 835.69,594.869 835.933,558.023 836.175,391.961 836.417,225.314 836.659,132.978 836.902,100.855 \n",
       "  837.144,93.5192 837.386,92.395 837.628,92.2759 837.871,92.2647 838.113,92.2612 838.355,92.2581 838.597,92.2551 838.839,92.252 839.082,92.249 839.324,92.2467 \n",
       "  839.566,92.2553 839.808,92.3841 840.051,93.3947 840.293,98.6389 840.535,116.642 840.777,156.324 841.02,208.171 841.262,236.718 841.504,216.281 841.746,165.604 \n",
       "  841.989,122.132 842.231,100.633 842.473,93.875 842.715,92.4876 842.958,92.3207 843.2,92.3449 843.442,92.4043 843.684,92.488 843.926,92.6012 844.169,92.7514 \n",
       "  844.411,92.947 844.653,93.197 844.895,93.5105 845.138,93.8965 845.38,94.363 845.622,94.9161 845.864,95.5592 846.107,96.2921 846.349,97.1101 846.591,98.0034 \n",
       "  846.833,98.9568 847.076,99.9494 847.318,100.955 847.56,101.945 847.802,102.884 848.044,103.74 848.287,104.48 848.529,105.072 848.771,105.493 849.013,105.724 \n",
       "  849.256,105.77 849.498,105.802 849.74,107.121 849.982,115.991 850.225,150.273 850.467,233.605 850.709,355.473 850.951,439.934 851.194,412.293 851.436,297.306 \n",
       "  851.678,184.864 851.92,123.416 852.163,101.887 852.405,96.4783 852.647,95.1021 852.889,94.4432 853.131,93.9384 853.374,93.521 853.616,93.1791 853.858,92.9037 \n",
       "  854.1,92.6856 854.343,92.5158 854.585,92.3858 854.827,92.2901 855.069,92.2512 855.312,92.5087 855.554,94.3946 855.796,102.337 856.038,123.893 856.281,160.165 \n",
       "  856.523,192.487 856.765,194.108 857.007,163.547 857.249,126.687 857.492,104.048 857.734,96.8472 857.976,101.229 858.218,119.719 858.461,154.38 858.703,190.846 \n",
       "  858.945,204.387 859.187,196.792 859.43,209.052 859.672,270.518 859.914,343.853 860.156,358.128 860.399,300.3 860.641,227.445 860.883,189.264 861.125,188.613 \n",
       "  861.368,208.525 861.61,237.897 861.852,273.298 862.094,314.106 862.336,360.083 862.579,410.79 862.821,465.479 863.063,523.076 863.305,582.193 863.548,641.17 \n",
       "  863.79,698.14 864.032,751.12 864.274,798.128 864.517,837.295 864.759,866.996 865.001,885.957 865.243,893.347 865.486,888.84 865.728,872.634 865.97,845.443 \n",
       "  866.212,808.438 866.455,763.171 866.697,711.46 866.939,655.272 867.181,596.601 867.423,537.352 867.666,479.242 867.908,423.733 868.15,371.978 868.392,324.806 \n",
       "  868.635,282.731 868.877,245.972 869.119,214.516 869.361,188.298 869.604,168.056 869.846,158.172 870.088,170.262 870.33,215.935 870.573,280.077 870.815,312.125 \n",
       "  871.057,277.942 871.299,205.773 871.541,147.143 871.784,120.704 872.026,115.696 872.268,119.434 872.51,126.57 872.753,135.918 872.995,147.406 873.237,161.115 \n",
       "  873.479,177.086 873.722,195.283 873.964,215.563 874.206,237.661 874.448,261.181 874.691,285.594 874.933,310.253 875.175,334.411 875.417,357.262 875.66,378.042 \n",
       "  875.902,396.541 876.144,415.362 876.386,445.385 876.628,507.281 876.871,607.963 877.113,701.192 877.355,709.355 877.597,616.515 877.84,491.046 878.082,398.107 \n",
       "  878.324,345.694 878.566,313.69 878.809,287.629 879.051,262.991 879.293,239.35 879.535,217.1 879.778,196.629 880.02,178.204 880.262,161.963 880.504,147.933 \n",
       "  880.746,136.049 880.989,126.176 881.231,118.134 881.473,111.716 881.715,106.712 881.958,102.922 882.2,100.172 882.442,98.3247 882.684,97.2868 882.927,97.02 \n",
       "  883.169,97.5468 883.411,98.9593 883.653,101.426 883.896,105.201 884.138,110.627 884.38,118.143 884.622,128.278 884.865,141.646 885.107,158.925 885.349,180.822 \n",
       "  885.591,208.032 885.833,241.176 886.076,280.73 886.318,326.948 886.56,379.796 886.802,438.884 887.045,503.438 887.287,572.294 887.529,643.938 887.771,716.582 \n",
       "  888.014,788.265 888.256,856.983 888.498,920.808 888.74,977.996 888.983,1027.07 889.225,1066.88 889.467,1096.6 889.709,1115.81 889.952,1124.46 890.194,1122.96 \n",
       "  890.436,1112.19 890.678,1093.61 890.92,1069.26 891.163,1041.66 891.405,1013.76 891.647,988.614 891.889,969.084 892.132,957.524 892.374,955.477 892.616,963.524 \n",
       "  892.858,981.283 893.101,1007.56 893.343,1040.62 893.585,1078.47 893.827,1119.09 894.07,1160.59 894.312,1201.21 894.554,1239.27 894.796,1273.04 895.038,1300.66 \n",
       "  895.281,1320.21 895.523,1329.9 895.765,1328.55 896.007,1316.32 896.25,1293.55 896.492,1256.74 896.734,1199.12 896.976,1120.27 897.219,1029.29 897.461,935.062 \n",
       "  897.703,840.876 897.945,747.764 898.188,657.35 898.43,571.693 898.672,492.591 898.914,421.297 899.157,358.491 899.399,304.345 899.641,258.614 899.883,220.741 \n",
       "  900.125,189.963 900.368,165.403 900.61,146.151 900.852,131.32 901.094,120.086 901.337,111.72 901.579,105.59 901.821,101.172 902.063,98.0388 902.306,95.8523 \n",
       "  902.548,94.3506 902.79,93.3358 903.032,92.6617 903.275,92.2224 903.517,91.9437 903.759,91.775 904.001,91.6841 904.243,91.6528 904.486,91.6748 904.728,91.7543 \n",
       "  904.97,91.9067 905.212,92.16 905.455,92.5582 905.697,93.1649 905.939,94.0698 906.181,95.3946 906.424,97.3011 906.666,99.9991 906.908,103.754 907.15,108.894 \n",
       "  907.393,115.811 907.635,124.964 907.877,136.872 908.119,152.097 908.362,171.223 908.604,194.826 908.846,223.427 909.088,257.445 909.33,297.141 909.573,342.556 \n",
       "  909.815,393.46 910.057,449.308 910.299,509.208 910.542,571.917 910.784,635.862 911.026,699.19 911.268,759.846 911.511,815.681 911.753,864.581 911.995,904.686 \n",
       "  912.237,934.93 912.48,956.331 912.722,973.145 912.964,989.457 913.206,999.035 913.449,982.589 913.691,927.599 913.933,846.792 914.175,763.78 914.417,689.437 \n",
       "  914.66,621.714 914.902,557.054 915.144,494.754 915.386,435.693 915.629,380.935 915.871,331.281 916.113,287.197 916.355,248.846 916.598,216.127 916.84,188.74 \n",
       "  917.082,166.235 917.324,148.074 917.567,133.677 917.809,122.462 918.051,113.874 918.293,107.408 918.535,102.622 918.778,99.1371 919.02,96.6412 919.262,94.8825 \n",
       "  919.504,93.6629 919.747,92.8305 919.989,92.2711 920.231,91.9008 920.473,91.6592 920.716,91.5036 920.958,91.4047 921.2,91.3423 921.442,91.3032 921.685,91.2785 \n",
       "  921.927,91.2628 922.169,91.2525 922.411,91.2454 922.654,91.2402 922.896,91.2361 923.138,91.2325 923.38,91.2295 923.622,91.2305 923.865,91.2874 924.107,91.8982 \n",
       "  924.349,96.1623 924.591,116.071 924.834,177.294 925.076,296.591 925.318,428.796 925.56,473.489 925.803,389.437 926.045,251.488 926.287,150.546 926.529,106.332 \n",
       "  926.772,93.8505 927.014,91.5094 927.256,91.2116 927.498,91.1839 927.74,91.1803 927.983,91.1788 928.225,91.1785 928.467,91.1799 928.709,91.1845 928.952,91.1943 \n",
       "  929.194,91.2127 929.436,91.2469 929.678,91.334 929.921,91.764 930.163,94.307 930.405,105.865 930.647,141.49 930.89,211.693 931.132,291.117 931.374,320.646 \n",
       "  931.616,274.231 931.859,195.013 932.101,137.7 932.343,115.324 932.585,113.675 932.827,120.197 933.07,130.446 933.312,143.875 933.554,160.918 933.796,182.158 \n",
       "  934.039,208.167 934.281,239.443 934.523,276.354 934.765,319.07 935.008,367.503 935.25,421.257 935.492,479.593 935.734,541.432 935.977,605.397 936.219,669.901 \n",
       "  936.461,733.265 936.703,793.869 936.945,850.302 937.188,901.483 937.43,946.73 937.672,985.758 937.914,1018.6 938.157,1045.46 938.399,1066.56 938.641,1081.92 \n",
       "  938.883,1091.3 939.126,1094.15 939.368,1089.64 939.61,1076.85 939.852,1054.94 940.095,1023.37 940.337,982.071 940.579,931.576 940.821,873.003 941.064,807.997 \n",
       "  941.306,738.588 941.548,666.996 941.79,595.441 942.032,525.964 942.275,460.291 942.517,399.755 942.759,345.259 943.001,297.293 943.244,255.986 943.486,221.171 \n",
       "  943.728,192.471 943.97,169.374 944.213,151.313 944.455,137.722 944.697,128.092 944.939,122.009 945.182,119.174 945.424,119.424 945.666,122.734 945.908,129.209 \n",
       "  946.151,139.075 946.393,152.652 946.635,170.321 946.877,192.487 947.119,219.528 947.362,251.738 947.604,289.272 947.846,332.085 948.088,379.884 948.331,432.083 \n",
       "  948.573,487.781 948.815,545.76 949.057,604.509 949.3,662.277 949.542,717.15 949.784,767.152 950.026,810.361 950.269,845.036 950.511,869.731 950.753,883.407 \n",
       "  950.995,885.508 951.237,876.012 951.48,855.446 951.722,824.857 951.964,785.757 952.206,740.026 952.449,689.802 952.691,637.353 952.933,584.937 953.175,534.683 \n",
       "  953.418,488.465 953.66,447.819 953.902,413.866 954.144,387.275 954.387,368.258 954.629,356.588 954.871,351.645 955.113,352.483 955.356,357.913 955.598,366.587 \n",
       "  955.84,377.092 956.082,388.031 956.324,398.105 956.567,406.174 956.809,411.311 957.051,412.836 957.293,410.333 957.536,403.655 957.778,392.907 958.02,378.42 \n",
       "  958.262,360.708 958.505,340.423 958.747,318.299 958.989,295.1 959.231,271.572 959.474,248.4 959.716,226.172 959.958,205.363 960.2,186.321 960.442,169.267 \n",
       "  960.685,154.304 960.927,141.434 961.169,130.575 961.411,121.581 961.654,114.268 961.896,108.426 962.138,103.841 962.38,100.304 962.623,97.6214 962.865,95.621 \n",
       "  963.107,94.1539 963.349,93.0953 963.592,92.3437 963.834,91.8184 964.076,91.457 964.318,91.212 964.561,91.0482 964.803,90.9401 965.045,90.8696 965.287,90.8239 \n",
       "  965.529,90.7944 965.772,90.7753 966.014,90.7627 966.256,90.7541 966.498,90.748 966.741,90.7433 966.983,90.7395 967.225,90.7362 967.467,90.7332 967.71,90.7304 \n",
       "  967.952,90.7276 968.194,90.7249 968.436,90.7222 968.679,90.7195 968.921,90.7169 969.163,90.7142 969.405,90.7116 969.648,90.709 969.89,90.7063 970.132,90.7037 \n",
       "  970.374,90.7011 970.616,90.6986 970.859,90.6962 971.101,90.694 971.343,90.6922 971.585,90.6911 971.828,90.6912 972.07,90.6935 972.312,90.6994 972.554,90.7114 \n",
       "  972.797,90.7336 973.039,90.7722 973.281,90.8372 973.523,90.9437 973.766,91.1144 974.008,91.3826 974.25,91.7967 974.492,92.425 974.734,93.3623 974.977,94.7379 \n",
       "  975.219,96.7233 975.461,99.5422 975.703,103.479 975.946,108.886 976.188,116.189 976.43,125.888 976.672,138.55 976.915,154.8 977.157,175.29 977.399,200.673 \n",
       "  977.641,231.551 977.884,268.424 978.126,311.627 978.368,361.265 978.61,417.149 978.853,478.745 979.095,545.136 979.337,615.01 979.579,686.675 979.821,758.112 \n",
       "  980.064,827.053 980.306,891.096 980.548,947.838 980.79,995.026 981.033,1030.7 981.275,1053.34 981.517,1061.95 981.759,1056.19 982.002,1036.33 982.244,1003.3 \n",
       "  982.486,958.609 982.728,904.259 982.971,842.62 983.213,776.3 983.455,708.003 983.697,640.398 983.939,576.003 984.182,517.08 984.424,465.569 984.666,423.029 \n",
       "  984.908,390.615 985.151,369.059 985.393,358.68 985.635,359.396 985.877,370.747 986.12,391.926 986.362,421.814 986.604,459.018 986.846,501.952 987.089,549.112 \n",
       "  987.331,600.182 987.573,658.555 987.815,731.642 988.058,819.749 988.3,899.891 988.542,938.648 988.784,932.104 989.026,910.889 989.269,901.858 989.511,908.16 \n",
       "  989.753,922.526 989.995,940.472 990.238,961.331 990.48,985.524 990.722,1013.06 990.964,1043.14 991.207,1074.09 991.449,1103.59 991.691,1128.87 991.933,1147.09 \n",
       "  992.176,1155.65 992.418,1152.49 992.66,1136.31 992.902,1106.73 993.145,1064.22 993.387,1010.06 993.629,946.2 993.871,874.989 994.113,799.021 994.356,720.899 \n",
       "  994.598,643.066 994.84,567.671 995.082,496.475 995.325,430.809 995.567,371.563 995.809,319.217 996.051,273.881 996.294,235.367 996.536,203.255 996.778,176.965 \n",
       "  997.02,155.823 997.263,139.116 997.505,126.142 997.747,116.236 997.989,108.799 998.231,103.309 998.474,99.3225 998.716,96.4744 998.958,94.4726 999.2,93.088 \n",
       "  999.443,92.1454 999.685,91.5136 999.927,91.0966 1000.17,90.8253 1000.41,90.6513 1000.65,90.541 1000.9,90.4719 1001.14,90.4288 1001.38,90.402 1001.62,90.3851 \n",
       "  1001.87,90.3742 1002.11,90.367 1002.35,90.3618 1002.59,90.3578 1002.83,90.3547 1003.08,90.352 1003.32,90.3498 1003.56,90.3482 1003.8,90.3476 1004.05,90.3485 \n",
       "  1004.29,90.3521 1004.53,90.3601 1004.77,90.3756 1005.01,90.4034 1005.26,90.4508 1005.5,90.5295 1005.74,90.6568 1005.98,90.8589 1006.23,91.1735 1006.47,91.6546 \n",
       "  1006.71,92.3783 1006.95,93.4485 1007.19,95.0054 1007.44,97.2331 1007.68,100.369 1007.92,104.709 1008.16,110.618 1008.41,118.528 1008.65,128.94 1008.89,142.409 \n",
       "  1009.13,159.536 1009.37,180.931 1009.62,207.182 1009.86,238.806 1010.1,276.196 1010.34,319.556 1010.59,368.846 1010.83,423.727 1011.07,483.515 1011.31,547.163 \n",
       "  1011.55,613.259 1011.8,680.062 1012.04,745.557 1012.28,807.555 1012.52,863.803 1012.77,912.12 1013.01,950.537 1013.25,977.428 1013.49,991.625 1013.73,992.499 \n",
       "  1013.98,980.014 1014.22,954.719 1014.46,917.718 1014.7,870.582 1014.95,815.243 1015.19,753.863 1015.43,688.692 1015.67,621.936 1015.91,555.637 1016.16,491.577 \n",
       "  1016.4,431.213 1016.64,375.641 1016.88,325.589 1017.13,281.442 1017.37,243.275 1017.61,210.912 1017.85,183.982 1018.09,161.981 1018.34,144.327 1018.58,130.409 \n",
       "  1018.82,119.626 1019.06,111.414 1019.31,105.265 1019.55,100.737 1019.79,97.4576 1020.03,95.121 1020.28,93.4831 1020.52,92.3531 1020.76,91.5858 1021,91.0728 \n",
       "  1021.24,90.735 1021.49,90.5157 1021.73,90.3752 1021.97,90.2863 1022.21,90.2305 1022.46,90.1957 1022.7,90.1739 1022.94,90.16 1023.18,90.151 1023.42,90.1447 \n",
       "  1023.67,90.1402 1023.91,90.1365 1024.15,90.1334 1024.39,90.1306 1024.64,90.1279 1024.88,90.1254 1025.12,90.1229 1025.36,90.1204 1025.6,90.1179 1025.85,90.1154 \n",
       "  1026.09,90.1129 1026.33,90.1105 1026.57,90.108 1026.82,90.1055 1027.06,90.1031 1027.3,90.1006 1027.54,90.0981 1027.78,90.0957 1028.03,90.0932 1028.27,90.0908 \n",
       "  1028.51,90.0883 1028.75,90.0858 1029,90.0834 1029.24,90.0809 1029.48,90.0785 1029.72,90.076 1029.96,90.0736 1030.21,90.0711 1030.45,90.0686 1030.69,90.0662 \n",
       "  1030.93,90.0637 1031.18,90.0613 1031.42,90.0588 1031.66,90.0564 1031.9,90.0539 1032.14,90.0515 1032.39,90.049 1032.63,90.0466 1032.87,90.0442 1033.11,90.0417 \n",
       "  1033.36,90.0393 1033.6,90.0368 1033.84,90.0344 1034.08,90.032 1034.32,90.0297 1034.57,90.0274 1034.81,90.0253 1035.05,90.0234 1035.29,90.0219 1035.54,90.0211 \n",
       "  1035.78,90.0216 1036.02,90.024 1036.26,90.0296 1036.5,90.0404 1036.75,90.0593 1036.99,90.0907 1037.23,90.141 1037.47,90.2197 1037.72,90.3399 1037.96,90.5199 \n",
       "  1038.2,90.7846 1038.44,91.1672 1038.69,91.7104 1038.93,92.4689 1039.17,93.5101 1039.41,94.9152 1039.65,96.7797 1039.9,99.2113 1040.14,102.328 1040.38,106.254 \n",
       "  1040.62,111.11 1040.87,117.011 1041.11,124.047 1041.35,132.28 1041.59,141.725 1041.83,152.342 1042.08,164.026 1042.32,176.597 1042.56,189.803 1042.8,203.319 \n",
       "  1043.05,216.762 1043.29,229.7 1043.53,241.681 1043.77,252.251 1044.01,260.989 1044.26,267.531 1044.5,271.596 1044.74,273.004 1044.98,271.694 1045.23,267.723 \n",
       "  1045.47,261.266 1045.71,252.6 1045.95,242.087 1046.19,230.147 1046.44,217.232 1046.68,203.795 1046.92,190.269 1047.16,177.04 1047.41,164.435 1047.65,152.71 \n",
       "  1047.89,142.045 1048.13,132.549 1048.37,124.266 1048.62,117.18 1048.86,111.233 1049.1,106.334 1049.34,102.37 1049.59,99.2201 1049.83,96.7599 1050.07,94.8712 \n",
       "  1050.31,93.4456 1050.55,92.3874 1050.8,91.6159 1051.04,91.0828 1051.28,90.9545 1051.52,92.8383 1051.77,104.52 1052.01,147.811 1052.25,250.405 1052.49,396.992 \n",
       "  1052.73,494.815 1052.98,457.734 1053.22,320.093 1053.46,189.122 1053.7,119.332 1053.95,95.8729 1054.19,90.6849 1054.43,89.9134 1054.67,89.8334 1054.91,89.8254 \n",
       "  1055.16,89.8226 1055.4,89.8201 1055.64,89.8177 1055.88,89.8153 1056.13,89.8129 1056.37,89.8106 1056.61,89.8082 1056.85,89.8058 1057.1,89.8034 1057.34,89.8011 \n",
       "  1057.58,89.7987 1057.82,89.7963 1058.06,89.794 1058.31,89.7916 1058.55,89.7892 1058.79,89.7869 1059.03,89.7845 1059.28,89.7822 1059.52,89.7798 1059.76,89.7774 \n",
       "  1060,89.7751 1060.24,89.7727 1060.49,89.7704 1060.73,89.7681 1060.97,89.7671 1061.21,89.7851 1061.46,89.9936 1061.7,91.4694 1061.94,98.4234 1062.18,120.006 \n",
       "  1062.42,162.5 1062.67,210.271 1062.91,227.304 1063.15,197.911 1063.39,148.348 1063.64,111.634 1063.88,95.4105 1064.12,90.8183 1064.36,90.0001 1064.6,89.9802 \n",
       "  1064.85,90.1162 1065.09,90.3435 1065.33,90.6934 1065.57,91.2217 1065.82,92.006 1066.06,93.151 1066.3,94.7953 1066.54,97.1176 1066.78,100.344 1067.03,104.752 \n",
       "  1067.27,110.673 1067.51,118.496 1067.75,128.653 1068,141.614 1068.24,157.867 1068.48,177.886 1068.72,202.095 1068.96,230.833 1069.21,264.297 1069.45,302.505 \n",
       "  1069.69,345.303 1069.93,392.713 1070.18,446.617 1070.42,514.241 1070.66,606.947 1070.9,721.781 1071.14,821.686 1071.39,862.709 1071.63,847.925 1071.87,820.368 \n",
       "  1072.11,808.334 1072.36,808.565 1072.6,808.218 1072.84,799.949 1073.08,781.859 1073.32,754.306 1073.57,718.411 1073.81,675.656 1074.05,627.727 1074.29,576.408 \n",
       "  1074.54,523.469 1074.78,470.573 1075.02,419.239 1075.26,371.015 1075.51,328.073 1075.75,293.563 1075.99,269.102 1076.23,249.766 1076.47,225.928 1076.72,194.673 \n",
       "  1076.96,163.542 1077.2,140.074 1077.44,124.827 1077.69,114.814 1077.93,107.723 1078.17,102.5 1078.41,98.6547 1078.65,95.8607 1078.9,93.8632 1079.14,92.458 \n",
       "  1079.38,91.4853 1079.62,90.8225 1079.87,90.3778 1080.11,90.084 1080.35,89.8925 1080.59,89.7695 1080.83,89.6913 1081.08,89.642 1081.32,89.6111 1081.56,89.5917 \n",
       "  1081.8,89.5793 1082.05,89.5711 1082.29,89.5655 1082.53,89.5613 1082.77,89.558 1083.01,89.5551 1083.26,89.5525 1083.5,89.5501 1083.74,89.5477 1083.98,89.5454 \n",
       "  1084.23,89.5431 1084.47,89.5408 1084.71,89.5385 1084.95,89.5362 1085.19,89.5339 1085.44,89.5316 1085.68,89.5294 1085.92,89.5271 1086.16,89.5248 1086.41,89.5225 \n",
       "  1086.65,89.5203 1086.89,89.518 1087.13,89.5157 1087.37,89.5134 1087.62,89.5112 1087.86,89.5089 1088.1,89.5066 1088.34,89.5044 1088.59,89.5021 1088.83,89.4998 \n",
       "  1089.07,89.4976 1089.31,89.4953 1089.55,89.493 1089.8,89.4908 1090.04,89.4885 1090.28,89.4862 1090.52,89.484 1090.77,89.4817 1091.01,89.4795 1091.25,89.4772 \n",
       "  1091.49,89.4749 1091.74,89.4727 1091.98,89.4704 1092.22,89.4682 1092.46,89.4659 1092.7,89.4637 1092.95,89.4614 1093.19,89.4592 1093.43,89.4569 1093.67,89.4546 \n",
       "  1093.92,89.4524 1094.16,89.4501 1094.4,89.4479 1094.64,89.4457 1094.88,89.4434 1095.13,89.4412 1095.37,89.4389 1095.61,89.4367 1095.85,89.4345 1096.1,89.4322 \n",
       "  1096.34,89.4301 1096.58,89.4279 1096.82,89.4259 1097.06,89.4241 1097.31,89.4227 1097.55,89.4218 1097.79,89.4221 1098.03,89.4242 1098.28,89.4293 1098.52,89.4395 \n",
       "  1098.76,89.458 1099,89.4896 1099.24,89.5417 1099.49,89.6255 1099.73,89.7573 1099.97,89.9606 1100.21,90.2686 1100.46,90.7271 1100.7,91.3982 1100.94,92.3643 \n",
       "  1101.18,93.7318 1101.42,95.6358 1101.67,98.2426 1101.91,101.752 1102.15,106.398 1102.39,112.443 1102.64,120.175 1102.88,129.89 1103.12,141.883 1103.36,156.419 \n",
       "  1103.6,173.714 1103.85,193.901 1104.09,217.003 1104.33,242.906 1104.57,271.334 1104.82,301.834 1105.06,333.777 1105.3,366.363 1105.54,398.649 1105.78,429.589 \n",
       "  1106.03,458.088 1106.27,483.064 1106.51,503.512 1106.75,518.58 1107,527.619 1107.24,530.234 1107.48,526.316 1107.72,516.045 1107.96,499.886 1108.21,478.553 \n",
       "  1108.45,452.963 1108.69,424.183 1108.93,393.359 1109.18,361.664 1109.42,330.235 1109.66,300.136 1109.9,272.321 1110.15,247.62 1110.39,226.732 1110.63,210.235 \n",
       "  1110.87,198.592 1111.11,192.169 1111.36,191.244 1111.6,196.017 1111.84,206.602 1112.08,223.025 1112.33,245.197 1112.57,272.896 1112.81,305.733 1113.05,343.131 \n",
       "  1113.29,384.298 1113.54,428.226 1113.78,473.697 1114.02,519.307 1114.26,563.521 1114.51,604.733 1114.75,641.352 1114.99,671.892 1115.23,695.064 1115.47,709.862 \n",
       "  1115.72,715.627 1115.96,712.101 1116.2,699.435 1116.44,678.186 1116.69,649.268 1116.93,613.892 1117.17,573.479 1117.41,529.568 1117.65,483.716 1117.9,437.412 \n",
       "  1118.14,392 1118.38,348.623 1118.62,308.186 1118.87,271.341 1119.11,238.495 1119.35,209.829 1119.59,185.339 1119.83,164.87 1120.08,148.169 1120.32,134.93 \n",
       "  1120.56,124.835 1120.8,117.597 1121.05,112.989 1121.29,110.873 1121.53,111.22 1121.77,114.124 1122.01,119.807 1122.26,128.624 1122.5,141.048 1122.74,157.655 \n",
       "  1122.98,179.095 1123.23,206.052 1123.47,239.187 1123.71,279.079 1123.95,326.15 1124.19,380.588 1124.44,442.275 1124.68,510.714 1124.92,584.987 1125.16,663.727 \n",
       "  1125.41,745.126 1125.65,826.979 1125.89,906.77 1126.13,981.788 1126.37,1049.27 1126.62,1106.58 1126.86,1151.36 1127.1,1181.7 1127.34,1196.28 1127.59,1194.46 \n",
       "  1127.83,1176.32 1128.07,1142.66 1128.31,1094.93 1128.56,1035.17 1128.8,965.784 1129.04,889.472 1129.28,808.993 1129.52,727.027 1129.77,646.031 1130.01,568.126 \n",
       "  1130.25,495.023 1130.49,427.988 1130.74,367.838 1130.98,314.972 1131.22,269.425 1131.46,230.933 1131.7,199.007 1131.95,173.007 1132.19,152.21 1132.43,135.865 \n",
       "  1132.67,123.24 1132.92,113.653 1133.16,106.497 1133.4,101.242 1133.64,97.448 1133.88,94.7526 1134.13,92.8688 1134.37,91.5731 1134.61,90.696 1134.85,90.1114 \n",
       "  1135.1,89.7277 1135.34,89.4796 1135.58,89.3214 1135.82,89.2218 1136.06,89.1597 1136.31,89.1213 1136.55,89.0976 1136.79,89.0828 1137.03,89.0735 1137.28,89.0673 \n",
       "  1137.52,89.0631 1137.76,89.0601 1138,89.058 1138.24,89.0569 1138.49,89.0571 1138.73,89.0592 1138.97,89.0645 1139.21,89.0752 1139.46,89.0947 1139.7,89.1283 \n",
       "  1139.94,89.1844 1140.18,89.2757 1140.42,89.4211 1140.67,89.6482 1140.91,89.9969 1141.15,90.5228 1141.39,91.303 1141.64,92.4415 1141.88,94.0755 1142.12,96.3821 \n",
       "  1142.36,99.5848 1142.6,103.958 1142.85,109.831 1143.09,117.584 1143.33,127.646 1143.57,140.48 1143.82,156.564 1144.06,176.364 1144.3,200.296 1144.54,228.688 \n",
       "  1144.78,261.73 1145.03,299.429 1145.27,341.563 1145.51,387.651 1145.75,436.924 1146,488.33 1146.24,540.551 1146.48,592.047 1146.72,641.125 1146.97,686.025 \n",
       "  1147.21,725.026 1147.45,756.551 1147.69,779.272 1147.93,792.206 1148.18,794.785 1148.42,786.892 1148.66,768.877 1148.9,741.529 1149.15,706.014 1149.39,663.8 \n",
       "  1149.63,616.551 1149.87,566.022 1150.11,513.95 1150.36,461.962 1150.6,411.492 1150.84,363.729 1151.08,319.584 1151.33,279.682 1151.57,244.377 1151.81,213.778 \n",
       "  1152.05,187.797 1152.29,166.191 1152.54,148.618 1152.78,134.683 1153.02,123.983 1153.26,116.143 1153.51,110.853 1153.75,107.884 1153.99,107.115 1154.23,108.537 \n",
       "  1154.47,112.263 1154.72,118.526 1154.96,127.675 1155.2,140.162 1155.44,156.516 1155.69,177.314 1155.93,203.143 1156.17,234.545 1156.41,271.956 1156.65,315.649 \n",
       "  1156.9,365.658 1157.14,421.724 1157.38,483.24 1157.62,549.221 1157.87,618.297 1158.11,688.732 1158.35,758.484 1158.59,825.29 1158.83,886.78 1159.08,940.617 \n",
       "  1159.32,984.643 1159.56,1017.02 1159.8,1036.37 1160.05,1041.85 1160.29,1033.24 1160.53,1010.95 1160.77,975.99 1161.01,929.909 1161.26,874.675 1161.5,812.552 \n",
       "  1161.74,745.964 1161.98,677.356 1162.23,609.065 1162.47,543.22 1162.71,481.672 1162.95,425.937 1163.19,377.186 1163.44,336.245 1163.68,303.61 1163.92,279.487 \n",
       "  1164.16,263.819 1164.41,256.322 1164.65,256.52 1164.89,263.765 1165.13,277.262 1165.38,296.08 1165.62,319.173 1165.86,345.392 1166.1,373.516 1166.34,402.297 \n",
       "  1166.59,430.558 1166.83,457.273 1167.07,481.41 1167.31,501.566 1167.56,516.153 1167.8,524.397 1168.04,526.773 1168.28,524.186 1168.52,517.324 1168.77,506.87 \n",
       "  1169.01,493.848 1169.25,479.634 1169.49,465.807 1169.74,454.009 1169.98,445.808 1170.22,442.578 1170.46,445.384 1170.7,454.88 1170.95,471.241 1171.19,494.13 \n",
       "  1171.43,522.703 1171.67,555.654 1171.92,591.304 1172.16,627.709 1172.4,662.797 1172.64,694.508 1172.88,720.93 1173.13,740.426 1173.37,751.733 1173.61,754.039 \n",
       "  1173.85,747.017 1174.1,730.84 1174.34,706.152 1174.58,674.019 1174.82,635.859 1175.06,593.353 1175.31,548.359 1175.55,502.824 1175.79,458.704 1176.03,417.902 \n",
       "  1176.28,382.212 1176.52,353.283 1176.76,332.591 1177,321.413 1177.24,320.81 1177.49,331.597 1177.73,354.318 1177.97,389.204 1178.21,436.131 1178.46,494.579 \n",
       "  1178.7,563.59 1178.94,641.737 1179.18,727.126 1179.42,817.463 1179.67,910.373 1179.91,1004.18 1180.15,1098.09 1180.39,1188.7 1180.64,1265.67 1180.88,1318.72 \n",
       "  1181.12,1349.57 1181.36,1365.81 1181.6,1369.55 1181.85,1359.63 1182.09,1331.33 1182.33,1280.49 1182.57,1211.81 1182.82,1133.42 1183.06,1049.48 1183.3,961.64 \n",
       "  1183.54,871.916 1183.79,782.858 1184.03,696.939 1184.27,616.228 1184.51,542.289 1184.75,476.18 1185,418.702 1185.24,371.895 1185.48,344.701 1185.72,362.034 \n",
       "  1185.97,454.226 1186.21,599.497 1186.45,688.966 1186.69,630.18 1186.93,470.922 1187.18,332.113 1187.42,268.225 1187.66,258.966 1187.9,273.679 1188.15,298.271 \n",
       "  1188.39,329.139 1188.63,365.537 1188.87,406.992 1189.11,452.799 1189.36,501.949 1189.6,553.129 1189.84,604.758 1190.08,655.051 1190.33,702.113 1190.57,744.046 \n",
       "  1190.81,779.068 1191.05,805.636 1191.29,822.553 1191.54,829.052 1191.78,824.858 1192.02,810.209 1192.26,785.839 1192.51,752.931 1192.75,713.031 1192.99,667.949 \n",
       "  1193.23,619.637 1193.47,570.071 1193.72,521.14 1193.96,474.553 1194.2,431.766 1194.44,393.942 1194.69,361.935 1194.93,336.296 1195.17,317.301 1195.41,304.992 \n",
       "  1195.65,299.212 1195.9,299.653 1196.14,305.885 1196.38,317.379 1196.62,333.516 1196.87,353.596 1197.11,376.825 1197.35,402.314 1197.59,429.08 1197.83,456.049 \n",
       "  1198.08,482.088 1198.32,506.032 1198.56,526.744 1198.8,543.176 1199.05,554.426 1199.29,559.811 1199.53,558.907 1199.77,551.585 1200.01,538.021 1200.26,518.681 \n",
       "  1200.5,494.286 1200.74,465.756 1200.98,434.146 1201.23,400.573 1201.47,366.146 1201.71,331.9 1201.95,298.749 1202.2,267.447 1202.44,238.567 1202.68,212.498 \n",
       "  1202.92,189.451 1203.16,169.48 1203.41,152.508 1203.65,138.357 1203.89,126.777 1204.13,117.482 1204.38,110.166 1204.62,104.534 1204.86,100.315 1205.1,97.2729 \n",
       "  1205.34,95.2206 1205.59,94.0221 1205.83,93.5995 1206.07,93.9362 1206.31,95.0802 1206.56,97.1479 1206.8,100.327 1207.04,104.88 1207.28,111.142 1207.52,119.523 \n",
       "  1207.77,130.495 1208.01,144.585 1208.25,162.346 1208.49,184.33 1208.74,211.044 1208.98,242.905 1209.22,280.174 1209.46,322.905 1209.7,370.885 1209.95,423.585 \n",
       "  1210.19,480.141 1210.43,539.349 1210.67,599.704 1210.92,659.468 1211.16,716.775 1211.4,769.758 1211.64,816.686 1211.88,856.093 1212.13,886.875 1212.37,908.354 \n",
       "  1212.61,920.279 1212.85,922.791 1213.1,916.34 1213.34,901.592 1213.58,879.33 1213.82,850.383 1214.06,815.576 1214.31,775.722 1214.55,731.639 1214.79,684.171 \n",
       "  1215.03,634.218 1215.28,582.744 1215.52,530.764 1215.76,479.312 1216,429.401 1216.24,382.097 1216.49,339.271 1216.73,306.413 1216.97,296.4 1217.21,322.279 \n",
       "  1217.46,369.426 1217.7,385.543 1217.94,334.403 1218.18,244.814 1218.43,170.37 1218.67,130.377 1218.91,113.236 1219.15,105.244 1219.39,100.354 1219.64,96.882 \n",
       "  1219.88,94.3602 1220.12,92.5554 1220.36,91.2981 1220.61,90.4604 1220.85,89.9511 1221.09,89.7119 1221.33,89.7148 1221.57,89.9611 1221.82,90.4809 1222.06,91.3344 \n",
       "  1222.3,92.6142 1222.54,94.4477 1222.79,96.9998 1223.03,100.475 1223.27,105.117 1223.51,111.207 1223.75,119.057 1224,128.998 1224.24,141.365 1224.48,156.474 \n",
       "  1224.72,174.595 1224.97,195.923 1225.21,220.542 1225.45,248.411 1225.69,279.471 1225.93,314.507 1226.18,358.131 1226.42,422.597 1226.66,519.941 1226.9,633.375 \n",
       "  1227.15,707.935 1227.39,705.64 1227.63,654.875 1227.87,609.951 1228.11,591.161 1228.36,587.087 1228.6,583.659 1228.84,574.771 1229.08,559.238 1229.33,537.483 \n",
       "  1229.57,510.396 1229.81,479.074 1230.05,444.725 1230.29,408.585 1230.54,371.852 1230.78,335.617 1231.02,300.821 1231.26,268.219 1231.51,238.364 1231.75,211.611 \n",
       "  1231.99,188.127 1232.23,167.919 1232.47,150.862 1232.72,136.73 1232.96,125.235 1233.2,116.049 1233.44,108.838 1233.69,103.274 1233.93,99.0533 1234.17,95.9054 \n",
       "  1234.41,93.5965 1234.65,91.9307 1234.9,90.7483 1235.14,89.9224 1235.38,89.3547 1235.62,88.9705 1235.87,88.7144 1236.11,88.5462 1236.35,88.4373 1236.59,88.3675 \n",
       "  1236.84,88.3233 1237.08,88.2955 1237.32,88.2779 1237.56,88.2668 1237.8,88.2595 1238.05,88.2545 1238.29,88.2509 1238.53,88.2481 1238.77,88.2458 1239.02,88.2437 \n",
       "  1239.26,88.2418 1239.5,88.2399 1239.74,88.2381 1239.98,88.2363 1240.23,88.2345 1240.47,88.2327 1240.71,88.2309 1240.95,88.2291 1241.2,88.2273 1241.44,88.2256 \n",
       "  1241.68,88.2238 1241.92,88.222 1242.16,88.2202 1242.41,88.2185 1242.65,88.2167 1242.89,88.2149 1243.13,88.2131 1243.38,88.2114 1243.62,88.2096 1243.86,88.2078 \n",
       "  1244.1,88.206 1244.34,88.2043 1244.59,88.2025 1244.83,88.2007 1245.07,88.199 1245.31,88.1972 1245.56,88.1954 1245.8,88.1937 1246.04,88.1919 1246.28,88.1901 \n",
       "  1246.52,88.1884 1246.77,88.1866 1247.01,88.1849 1247.25,88.1831 1247.49,88.1813 1247.74,88.1796 1247.98,88.1778 1248.22,88.1761 1248.46,88.1743 1248.7,88.1726 \n",
       "  1248.95,88.1708 1249.19,88.169 1249.43,88.1673 1249.67,88.1655 1249.92,88.1638 1250.16,88.162 1250.4,88.1603 1250.64,88.1585 1250.88,88.1568 1251.13,88.155 \n",
       "  1251.37,88.1533 1251.61,88.1516 1251.85,88.1498 1252.1,88.1481 1252.34,88.1464 1252.58,88.1448 1252.82,88.1433 1253.06,88.142 1253.31,88.141 1253.55,88.1406 \n",
       "  1253.79,88.1414 1254.03,88.1442 1254.28,88.1503 1254.52,88.162 1254.76,88.1831 1255,88.2193 1255.25,88.2797 1255.49,88.3784 1255.73,88.5362 1255.97,88.7839 \n",
       "  1256.21,89.1661 1256.46,89.746 1256.7,90.6112 1256.94,91.8812 1257.18,93.7149 1257.43,96.3196 1257.67,99.9586 1257.91,104.959 1258.15,111.717 1258.39,120.695 \n",
       "  1258.64,132.425 1258.88,147.484 1259.12,166.485 1259.36,190.035 1259.61,218.7 1259.85,252.952 1260.09,293.107 1260.33,339.274 1260.57,391.283 1260.82,448.648 \n",
       "  1261.06,510.524 1261.3,575.696 1261.54,642.597 1261.79,709.347 1262.03,773.836 1262.27,833.82 1262.51,887.054 1262.75,931.424 1263,965.089 1263.24,986.605 \n",
       "  1263.48,995.029 1263.72,989.988 1263.97,971.707 1264.21,940.988 1264.45,899.157 1264.69,847.966 1264.93,789.473 1265.18,725.905 1265.42,659.515 1265.66,592.461 \n",
       "  1265.9,526.688 1266.15,463.847 1266.39,405.246 1266.63,351.821 1266.87,304.149 1267.11,262.473 1267.36,226.75 1267.6,196.711 1267.84,171.917 1268.08,151.821 \n",
       "  1268.33,135.822 1268.57,123.306 1268.81,113.684 1269.05,106.413 1269.29,101.013 1269.54,97.073 1269.78,94.2522 1270.02,92.277 1270.26,90.9352 1270.51,90.069 \n",
       "  1270.75,89.5687 1270.99,89.3668 1271.23,89.4344 1271.47,89.7788 1271.72,90.4437 1271.96,91.513 1272.2,93.1397 1272.44,95.7986 1272.69,101.77 1272.93,120.065 \n",
       "  1273.17,172.125 1273.41,277.766 1273.66,408.987 1273.9,479.561 1274.14,437.279 1274.38,336.221 1274.62,263.477 1274.87,247.171 1275.11,267.712 1275.35,304.079 \n",
       "  1275.59,347.484 1275.84,395.465 1276.08,446.969 1276.32,500.904 1276.56,555.914 1276.8,610.409 1277.05,662.622 1277.29,710.702 1277.53,752.821 1277.77,787.287 \n",
       "  1278.02,812.659 1278.26,827.84 1278.5,832.165 1278.74,825.441 1278.98,807.965 1279.23,780.504 1279.47,744.235 1279.71,700.664 1279.95,651.524 1280.2,598.655 \n",
       "  1280.44,543.899 1280.68,488.991 1280.92,435.476 1281.16,384.646 1281.41,337.503 1281.65,294.744 1281.89,256.776 1282.13,223.739 1282.38,195.549 1282.62,171.949 \n",
       "  1282.86,152.554 1283.1,136.9 1283.34,124.494 1283.59,114.903 1283.83,108.255 1284.07,107.556 1284.31,124.412 1284.56,180.511 1284.8,282.386 1285.04,380.254 \n",
       "  1285.28,393.658 1285.52,310.071 1285.77,203.784 1286.01,140.278 1286.25,120.462 1286.49,115.24 1286.74,107.544 1286.98,98.0266 1287.22,91.5324 1287.46,88.8095 \n",
       "  1287.7,88.0643 1287.95,87.9242 1288.19,87.9028 1288.43,87.8977 1288.67,87.8949 1288.92,87.8926 1289.16,87.8906 1289.4,87.8888 1289.64,87.8871 1289.88,87.8854 \n",
       "  1290.13,87.8838 1290.37,87.8821 1290.61,87.8805 1290.85,87.8789 1291.1,87.8773 1291.34,87.8756 1291.58,87.874 1291.82,87.8724 1292.07,87.8708 1292.31,87.8692 \n",
       "  1292.55,87.8676 1292.79,87.8659 1293.03,87.8643 1293.28,87.8627 1293.52,87.8611 1293.76,87.8595 1294,87.8579 1294.25,87.8563 1294.49,87.8548 1294.73,87.8533 \n",
       "  1294.97,87.8519 1295.21,87.8508 1295.46,87.85 1295.7,87.8499 1295.94,87.8509 1296.18,87.8539 1296.43,87.8604 1296.67,87.8726 1296.91,87.8942 1297.15,87.931 \n",
       "  1297.39,87.9918 1297.64,88.0904 1297.88,88.2469 1298.12,88.491 1298.36,88.8649 1298.61,89.4285 1298.85,90.2637 1299.09,91.4813 1299.33,93.2276 1299.57,95.691 \n",
       "  1299.82,99.1092 1300.06,103.774 1300.3,110.033 1300.54,118.292 1300.79,129.004 1301.03,142.658 1301.27,159.758 1301.51,180.795 1301.75,206.205 1302,236.33 \n",
       "  1302.24,271.365 1302.48,311.308 1302.72,355.917 1302.97,404.671 1303.21,456.752 1303.45,511.037 1303.69,566.127 1303.93,620.39 1304.18,672.037 1304.42,719.21 \n",
       "  1304.66,760.096 1304.9,793.04 1305.15,816.653 1305.39,829.913 1305.63,832.235 1305.87,823.516 1306.11,804.143 1306.36,774.96 1306.6,737.215 1306.84,692.464 \n",
       "  1307.08,642.468 1307.33,589.082 1307.57,534.137 1307.81,479.347 1308.05,426.219 1308.29,376.006 1308.54,329.668 1308.78,287.867 1309.02,250.986 1309.26,219.16 \n",
       "  1309.51,192.32 1309.75,170.247 1309.99,152.627 1310.23,139.096 1310.48,129.289 1310.72,122.868 1310.96,119.553 1311.2,119.132 1311.44,121.468 1311.69,126.488 \n",
       "  1311.93,134.175 1312.17,144.543 1312.41,157.614 1312.66,173.385 1312.9,191.801 1313.14,212.723 1313.38,235.909 1313.62,260.994 1313.87,287.488 1314.11,314.776 \n",
       "  1314.35,342.143 1314.59,368.803 1314.84,393.944 1315.08,416.781 1315.32,436.613 1315.56,452.885 1315.8,465.231 1316.05,473.521 1316.29,477.874 1316.53,478.658 \n",
       "  1316.77,476.462 1317.02,472.042 1317.26,466.247 1317.5,459.932 1317.74,453.87 1317.98,448.669 1318.23,444.704 1318.47,442.091 1318.71,440.669 1318.95,440.039 \n",
       "  1319.2,439.612 1319.44,438.687 1319.68,436.533 1319.92,432.475 1320.16,425.957 1320.41,416.605 1320.65,404.25 1320.89,388.936 1321.13,370.911 1321.38,350.591 \n",
       "  1321.62,328.521 1321.86,305.325 1322.1,281.655 1322.34,258.145 1322.59,235.377 1322.83,213.845 1323.07,193.943 1323.31,175.956 1323.56,160.066 1323.8,146.36 \n",
       "  1324.04,134.855 1324.28,125.519 1324.52,118.298 1324.77,113.143 1325.01,110.037 1325.25,109.021 1325.49,110.211 1325.74,113.819 1325.98,120.158 1326.22,129.648 \n",
       "  1326.46,142.81 1326.7,160.247 1326.95,182.621 1327.19,210.606 1327.43,244.839 1327.67,285.858 1327.92,334.023 1328.16,389.453 1328.4,451.981 1328.64,521.273 \n",
       "  1328.89,597.312 1329.13,680.703 1329.37,770.591 1329.61,860.454 1329.85,939.895 1330.1,1004.46 1330.34,1058.29 1330.58,1105.06 1330.82,1143.01 1331.07,1168.4 \n",
       "  1331.31,1178.8 1331.55,1173.42 1331.79,1152.59 1332.03,1117.43 1332.28,1069.72 1332.52,1011.74 1332.76,946.112 1333,875.622 1333.25,803.037 1333.49,730.963 \n",
       "  1333.73,661.733 1333.97,597.335 1334.21,539.396 1334.46,489.193 1334.7,447.7 1334.94,415.658 1335.18,393.75 1335.43,383.453 1335.67,390.103 1335.91,427.413 \n",
       "  1336.15,510.52 1336.39,624.677 1336.64,710.982 1336.88,726.028 1337.12,700.532 1337.36,694.341 1337.61,727.569 1337.85,784.868 1338.09,848.975 1338.33,911.582 \n",
       "  1338.57,969.454 1338.82,1021.02 1339.06,1065.35 1339.3,1101.96 1339.54,1130.63 1339.79,1151.25 1340.03,1163.67 1340.27,1167.57 1340.51,1162.44 1340.75,1147.65 \n",
       "  1341,1122.62 1341.24,1087.01 1341.48,1040.88 1341.72,984.875 1341.97,920.238 1342.21,848.801 1342.45,772.837 1342.69,694.885 1342.93,617.533 1343.18,543.232 \n",
       "  1343.42,474.137 1343.66,412.017 1343.9,358.221 1344.15,313.703 1344.39,279.079 1344.63,254.715 1344.87,240.804 1345.12,237.447 1345.36,244.7 1345.6,262.598 \n",
       "  1345.84,291.148 1346.08,330.293 1346.33,379.852 1346.57,439.447 1346.81,508.423 1347.05,585.769 1347.3,670.065 1347.54,759.449 1347.78,851.621 1348.02,943.894 \n",
       "  1348.26,1033.29 1348.51,1116.65 1348.75,1190.84 1348.99,1252.91 1349.23,1300.27 1349.48,1330.91 1349.72,1343.57 1349.96,1338.22 1350.2,1317.71 1350.44,1289.94 \n",
       "  1350.69,1262.02 1350.93,1223.42 1351.17,1149.38 1351.41,1036.7 1351.66,912.418 1351.9,799.912 1352.14,702.237 1352.38,614.511 1352.62,533.67 1352.87,459.07 \n",
       "  1353.11,391.559 1353.35,332.377 1353.59,281.955 1353.84,239.812 1354.08,205.115 1354.32,176.999 1354.56,154.606 1354.8,137.082 1355.05,123.613 1355.29,113.447 \n",
       "  1355.53,105.924 1355.77,100.481 1356.02,96.6557 1356.26,94.0866 1356.5,92.5026 1356.74,91.7166 1356.98,91.6165 1357.23,92.1576 1357.47,93.3551 1357.71,95.2783 \n",
       "  1357.95,98.0451 1358.2,101.815 1358.44,106.785 1358.68,113.175 1358.92,121.22 1359.16,131.155 1359.41,143.191 1359.65,157.5 1359.89,174.185 1360.13,193.259 \n",
       "  1360.38,214.619 1360.62,238.03 1360.86,263.115 1361.1,289.347 1361.34,316.063 1361.59,342.484 1361.83,367.751 1362.07,390.962 1362.31,411.234 1362.56,427.75 \n",
       "  1362.8,439.816 1363.04,446.912 1363.28,448.726 1363.53,445.177 1363.77,436.422 1364.01,422.844 1364.25,405.025 1364.49,383.704 1364.74,359.725 1364.98,333.983 \n",
       "  1365.22,307.372 1365.46,280.73 1365.71,254.801 1365.95,230.205 1366.19,207.421 1366.43,186.78 1366.67,168.471 1366.92,152.557 1367.16,138.992 1367.4,127.647 \n",
       "  1367.64,118.331 1367.89,110.82 1368.13,104.87 1368.37,100.239 1368.61,96.6948 1368.85,94.0287 1369.1,92.0565 1369.34,90.6216 1369.58,89.5946 1369.82,88.8713 \n",
       "  1370.07,88.3701 1370.31,88.0281 1370.55,87.7984 1370.79,87.6464 1371.03,87.5472 1371.28,87.4833 1371.52,87.4427 1371.76,87.4169 1372,87.4007 1372.25,87.3905 \n",
       "  1372.49,87.3838 1372.73,87.3794 1372.97,87.3763 1373.21,87.374 1373.46,87.3721 1373.7,87.3704 1373.94,87.3689 1374.18,87.3674 1374.43,87.366 1374.67,87.3647 \n",
       "  1374.91,87.3633 1375.15,87.362 1375.39,87.3606 1375.64,87.3592 1375.88,87.3579 1376.12,87.3566 1376.36,87.3552 1376.61,87.3539 1376.85,87.3525 1377.09,87.3515 \n",
       "  1377.33,87.3557 1377.57,87.4305 1377.82,88.1518 1378.06,92.7933 1378.3,112.759 1378.54,169.03 1378.79,268.231 1379.03,363.303 1379.27,377.386 1379.51,297.368 \n",
       "  1379.75,192.138 1380,123.413 1380.24,95.9859 1380.48,88.9328 1380.72,87.8241 1380.97,87.8732 1381.21,88.1549 1381.45,88.5916 1381.69,89.2333 1381.94,90.1594 \n",
       "  1382.18,91.4742 1382.42,93.3101 1382.66,95.8313 1382.9,99.2361 1383.15,103.757 1383.39,109.659 1383.63,117.232 1383.87,126.779 1384.12,138.604 1384.36,152.986 \n",
       "  1384.6,170.158 1384.84,190.274 1385.08,213.382 1385.33,239.393 1385.57,268.056 1385.81,298.944 1386.05,331.445 1386.3,364.77 1386.54,397.98 1386.78,430.018 \n",
       "  1387.02,459.767 1387.26,486.109 1387.51,507.998 1387.75,524.522 1387.99,534.973 1388.23,538.892 1388.48,536.106 1388.72,526.738 1388.96,511.2 1389.2,490.161 \n",
       "  1389.44,464.502 1389.69,435.252 1389.93,403.521 1390.17,370.431 1390.41,337.053 1390.66,304.349 1390.9,273.136 1391.14,244.057 1391.38,217.57 1391.62,193.955 \n",
       "  1391.87,173.328 1392.11,155.661 1392.35,140.817 1392.59,128.574 1392.84,118.657 1393.08,110.768 1393.32,104.601 1393.56,99.8617 1393.8,96.2818 1394.05,93.6227 \n",
       "  1394.29,91.6802 1394.53,90.2844 1394.77,89.2977 1395.02,88.6129 1395.26,88.1713 1395.5,88.1909 1395.74,90.6946 1395.98,105.318 1396.23,158.581 1396.47,283.036 \n",
       "  1396.71,457.92 1396.95,570.816 1397.2,521.877 1397.44,356.376 1397.68,202.058 1397.92,120.996 1398.16,94.0942 1398.41,88.2294 1398.65,87.3913 1398.89,87.3434 \n",
       "  1399.13,87.3965 1399.38,87.4863 1399.62,87.6216 1399.86,87.8211 1400.1,88.1103 1400.35,88.5227 1400.59,89.101 1400.83,89.8992 1401.07,90.9829 1401.31,92.4308 \n",
       "  1401.56,94.3348 1401.8,96.7987 1402.04,99.9375 1402.28,103.874 1402.53,108.737 1402.77,114.653 1403.01,121.748 1403.25,130.139 1403.49,139.93 1403.74,151.217 \n",
       "  1403.98,164.11 1404.22,178.921 1404.46,197.002 1404.71,222.624 1404.95,262.852 1405.19,318.34 1405.43,371.343 1405.67,397.778 1405.92,398.044 1406.16,397.339 \n",
       "  1406.4,415.883 1406.64,457.247 1406.89,515.835 1407.13,578.356 1407.37,628.401 1407.61,662.742 1407.85,693.844 1408.1,732.199 1408.34,777.086 1408.58,822.99 \n",
       "  1408.82,865.754 1409.07,903.106 1409.31,933.611 1409.55,956.172 1409.79,969.928 1410.03,974.254 1410.28,968.763 1410.52,953.324 1410.76,928.087 1411,893.512 \n",
       "  1411.25,850.39 1411.49,799.852 1411.73,743.339 1411.97,682.538 1412.21,619.294 1412.46,555.485 1412.7,492.901 1412.94,433.132 1413.18,377.477 1413.43,326.89 \n",
       "  1413.67,281.962 1413.91,242.939 1414.15,209.765 1414.39,182.14 1414.64,159.592 1414.88,141.543 1415.12,127.364 1415.36,116.445 1415.61,108.328 1415.85,103.242 \n",
       "  1416.09,103.395 1416.33,113.312 1416.57,134.221 1416.82,154.837 1417.06,156.986 1417.3,137.502 1417.54,112.418 1417.79,96.0587 1418.03,89.4562 1418.27,87.6737 \n",
       "  1418.51,87.3177 1418.76,87.2545 1419,87.2553 1419.24,87.2927 1419.48,87.3721 1419.72,87.5095 1419.97,87.731 1420.21,88.0764 1420.45,88.6029 1420.69,89.3914 \n",
       "  1420.94,90.5529 1421.18,92.2372 1421.42,94.6414 1421.66,98.0206 1421.9,102.697 1422.15,109.066 1422.39,117.608 1422.63,128.879 1422.87,143.514 1423.12,162.203 \n",
       "  1423.36,185.666 1423.6,214.61 1423.84,249.668 1424.08,291.333 1424.33,339.875 1424.57,395.256 1424.81,457.067 1425.05,524.474 1425.3,596.22 1425.54,670.671 \n",
       "  1425.78,745.926 1426.02,819.986 1426.26,890.952 1426.51,957.233 1426.75,1017.73 1426.99,1071.91 1427.23,1119.91 1427.48,1162.56 1427.72,1201.34 1427.96,1237.48 \n",
       "  1428.2,1269.85 1428.44,1294.86 1428.69,1310.13 1428.93,1316.3 1429.17,1314.04 1429.41,1301.99 1429.66,1278.07 1429.9,1240.74 1430.14,1189.62 1430.38,1125.51 \n",
       "  1430.62,1050.19 1430.87,966.252 1431.11,876.737 1431.35,784.852 1431.59,693.678 1431.84,605.93 1432.08,523.804 1432.32,448.889 1432.56,382.167 1432.8,324.056 \n",
       "  1433.05,274.504 1433.29,233.089 1433.53,199.134 1433.77,171.805 1434.02,150.2 1434.26,133.414 1434.5,120.595 1434.74,110.966 1434.98,103.853 1435.23,98.6837 \n",
       "  1435.47,94.9869 1435.71,92.3853 1435.95,90.5835 1436.2,89.3578 1436.44,88.5757 1436.68,88.4739 1436.92,91.2612 1437.17,105.992 1437.41,152.831 1437.65,246.513 \n",
       "  1437.89,353.869 1438.13,394.73 1438.38,331.5 1438.62,220.848 1438.86,137.497 1439.1,100.145 1439.35,89.38 1439.59,87.3212 1439.83,87.0552 1440.07,87.0315 \n",
       "  1440.31,87.0303 1440.56,87.0317 1440.8,87.0352 1441.04,87.0419 1441.28,87.054 1441.53,87.0747 1441.77,87.109 1442.01,87.1646 1442.25,87.2527 1442.49,87.3899 \n",
       "  1442.74,87.5996 1442.98,87.9149 1443.22,88.381 1443.46,89.0588 1443.71,90.0282 1443.95,91.3919 1444.19,93.2789 1444.43,95.8466 1444.67,99.2825 1444.92,103.802 \n",
       "  1445.16,109.648 1445.4,117.076 1445.64,126.35 1445.89,137.725 1446.13,151.42 1446.37,167.604 1446.61,186.361 1446.85,207.672 1447.1,231.385 1447.34,257.203 \n",
       "  1447.58,284.67 1447.82,313.172 1448.07,341.956 1448.31,370.151 1448.55,396.812 1448.79,420.968 1449.03,441.682 1449.28,458.107 1449.52,469.549 1449.76,475.511 \n",
       "  1450,475.729 1450.25,470.194 1450.49,459.154 1450.73,443.092 1450.97,422.695 1451.21,398.807 1451.46,372.372 1451.7,344.379 1451.94,315.806 1452.18,287.572 \n",
       "  1452.43,260.503 1452.67,235.311 1452.91,212.585 1453.15,192.801 1453.39,176.339 1453.64,163.51 1453.88,154.592 1454.12,149.858 1454.36,149.61 1454.61,154.195 \n",
       "  1454.85,164.022 1455.09,179.556 1455.33,201.325 1455.58,230.123 1455.82,268.402 1456.06,324.998 1456.3,420.318 1456.54,571.382 1456.79,746.787 1457.03,862.383 \n",
       "  1457.27,875.167 1457.51,842.41 1457.76,840.326 1458,884.42 1458.24,950.851 1458.48,1018.78 1458.72,1079 1458.97,1127.71 1459.21,1162.68 1459.45,1182.39 \n",
       "  1459.69,1185.97 1459.94,1173.29 1460.18,1144.92 1460.42,1102.17 1460.66,1046.92 1460.9,981.559 1461.15,908.793 1461.39,831.502 1461.63,752.558 1461.87,674.672 \n",
       "  1462.12,600.265 1462.36,531.362 1462.6,469.524 1462.84,415.817 1463.08,370.814 1463.33,334.622 1463.57,306.936 1463.81,287.106 1464.05,274.219 1464.3,267.174 \n",
       "  1464.54,264.766 1464.78,265.784 1465.02,269.278 1465.26,275.681 1465.51,289.64 1465.75,321.326 1465.99,375.039 1466.23,427.765 1466.48,437.758 1466.72,393.504 \n",
       "  1466.96,329.445 1467.2,280.953 1467.44,253.429 1467.69,236.413 1467.93,222.033 1468.17,207.807 1468.41,193.561 1468.66,179.614 1468.9,166.303 1469.14,153.899 \n",
       "  1469.38,142.598 1469.62,132.518 1469.87,123.709 1470.11,116.161 1470.35,109.816 1470.59,104.581 1470.84,100.339 1471.08,96.9619 1471.32,94.3208 1471.56,92.2904 \n",
       "  1471.81,90.7559 1472.05,89.6154 1472.29,88.7818 1472.53,88.1825 1472.77,87.7584 1473.02,87.4632 1473.26,87.2608 1473.5,87.1242 1473.74,87.0333 1473.99,86.9737 \n",
       "  1474.23,86.935 1474.47,86.9102 1474.71,86.8944 1474.95,86.8843 1475.2,86.8778 1475.44,86.8736 1475.68,86.8707 1475.92,86.8685 1476.17,86.8669 1476.41,86.8655 \n",
       "  1476.65,86.8643 1476.89,86.8632 1477.13,86.8621 1477.38,86.8611 1477.62,86.86 1477.86,86.859 1478.1,86.858 1478.35,86.8569 1478.59,86.8559 1478.83,86.8549 \n",
       "  1479.07,86.8539 1479.31,86.8529 1479.56,86.8519 1479.8,86.8509 1480.04,86.85 1480.28,86.8491 1480.53,86.8484 1480.77,86.848 1481.01,86.848 1481.25,86.849 \n",
       "  1481.49,86.8515 1481.74,86.8569 1481.98,86.867 1482.22,86.8853 1482.46,86.917 1482.71,86.9708 1482.95,87.0602 1483.19,87.206 1483.43,87.4395 1483.67,87.8075 \n",
       "  1483.92,88.3777 1484.16,89.2473 1484.4,90.5519 1484.64,92.4777 1484.89,95.2741 1485.13,99.2682 1485.37,104.878 1485.61,112.624 1485.85,123.135 1486.1,137.147 \n",
       "  1486.34,155.487 1486.58,179.041 1486.82,208.706 1487.07,245.314 1487.31,289.541 1487.55,341.799 1487.79,402.122 1488.03,470.071 1488.28,544.661 1488.52,624.346 \n",
       "  1488.76,707.068 1489,790.381 1489.25,871.64 1489.49,948.24 1489.73,1017.86 1489.97,1078.67 1490.22,1129.46 1490.46,1169.67 1490.7,1199.3 1490.94,1218.71 \n",
       "  1491.18,1228.43 1491.43,1228.87 1491.67,1220.25 1491.91,1202.48 1492.15,1175.29 1492.4,1138.35 1492.64,1091.59 1492.88,1035.73 1493.12,973.822 1493.36,913.515 \n",
       "  1493.61,864.25 1493.85,822.498 1494.09,763.54 1494.33,668.623 1494.58,554.092 1494.82,451.166 1495.06,372.311 1495.3,312.283 1495.54,264.13 1495.79,224.656 \n",
       "  1496.03,192.675 1496.27,167.426 1496.51,148.166 1496.76,134.184 1497,124.858 1497.24,119.714 1497.48,118.454 1497.72,120.982 1497.97,127.401 1498.21,138.011 \n",
       "  1498.45,153.277 1498.69,173.801 1498.94,200.262 1499.18,233.344 1499.42,273.655 1499.66,321.627 1499.9,377.41 1500.15,440.788 1500.39,511.11 1500.63,587.266 \n",
       "  1500.87,667.72 1501.12,750.599 1501.36,833.841 1501.6,915.378 1501.84,993.32 1502.08,1066.11 1502.33,1132.59 1502.57,1192.03 1502.81,1243.99 1503.05,1288.17 \n",
       "  1503.3,1324.2 1503.54,1351.48 1503.78,1369.11 1504.02,1375.89 1504.26,1370.47 1504.51,1351.62 1504.75,1318.46 1504.99,1270.79 1505.23,1209.26 1505.48,1135.96 \n",
       "  1505.72,1055.93 1505.96,978.401 1506.2,910.832 1506.44,844.539 1506.69,757.688 1506.93,645.956 1507.17,533.159 1507.41,442.737 1507.66,377.58 1507.9,326.734 \n",
       "  1508.14,279.128 1508.38,232.7 1508.63,192.645 1508.87,162.541 1509.11,141.193 1509.35,125.85 1509.59,114.58 1509.84,106.294 1510.08,100.274 1510.32,95.9695 \n",
       "  1510.56,92.9401 1510.81,90.8422 1511.05,89.4124 1511.29,88.4531 1511.53,87.8196 1511.77,87.4075 1512.02,87.1435 1512.26,86.977 1512.5,86.8733 1512.74,86.8097 \n",
       "  1512.99,86.7711 1513.23,86.7478 1513.47,86.7339 1513.71,86.7255 1513.95,86.7204 1514.2,86.7172 1514.44,86.715 1514.68,86.7134 1514.92,86.7121 1515.17,86.711 \n",
       "  1515.41,86.71 1515.65,86.7091 1515.89,86.7081 1516.13,86.7072 1516.38,86.7063 1516.62,86.7054 1516.86,86.7045 1517.1,86.7036 1517.35,86.7027 1517.59,86.7018 \n",
       "  1517.83,86.7009 1518.07,86.7001 1518.31,86.6992 1518.56,86.6984 1518.8,86.6976 1519.04,86.6969 1519.28,86.6964 1519.53,86.6962 1519.77,86.6965 1520.01,86.6978 \n",
       "  1520.25,86.7007 1520.49,86.7064 1520.74,86.7167 1520.98,86.7344 1521.22,86.764 1521.46,86.8124 1521.71,86.8901 1521.95,87.0122 1522.19,87.201 1522.43,87.4879 \n",
       "  1522.67,87.9168 1522.92,88.5475 1523.16,89.4599 1523.4,90.7582 1523.64,92.5755 1523.89,95.0773 1524.13,98.4646 1524.37,102.974 1524.61,108.876 1524.85,116.468 \n",
       "  1525.1,126.067 1525.34,137.987 1525.58,152.527 1525.82,169.937 1526.07,190.392 1526.31,213.962 1526.55,240.578 1526.79,270.007 1527.04,301.835 1527.28,335.454 \n",
       "  1527.52,370.073 1527.76,404.74 1528,438.373 1528.25,469.82 1528.49,497.92 1528.73,521.575 1528.97,539.823 1529.22,551.906 1529.46,557.323 1529.7,555.874 \n",
       "  1529.94,547.675 1530.18,533.153 1530.43,513.02 1530.67,488.222 1530.91,459.881 1531.15,429.217 1531.4,397.473 1531.64,365.842 1531.88,335.404 1532.12,307.077 \n",
       "  1532.36,281.586 1532.61,259.443 1532.85,240.958 1533.09,226.253 1533.33,215.291 1533.58,207.913 1533.82,203.876 1534.06,202.887 1534.3,204.634 1534.54,208.809 \n",
       "  1534.79,215.118 1535.03,223.285 1535.27,233.048 1535.51,244.142 1535.76,256.285 1536,269.163 1536.24,282.413 1536.48,295.621 1536.72,308.318 1536.97,319.999 \n",
       "  1537.21,330.143 1537.45,338.239 1537.69,343.829 1537.94,346.537 1538.18,346.103 1538.42,342.406 1538.66,335.476 1538.9,325.497 1539.15,312.793 1539.39,297.809 \n",
       "  1539.63,281.076 1539.87,263.182 1540.12,244.735 1540.36,226.333 1540.6,208.538 1540.84,191.861 1541.08,176.754 1541.33,163.616 1541.57,152.802 1541.81,144.642 \n",
       "  1542.05,139.468 1542.3,137.634 1542.54,139.544 1542.78,145.663 1543.02,156.531 1543.26,172.756 1543.51,194.998 1543.75,223.93 1543.99,260.195 1544.23,304.334 \n",
       "  1544.48,356.715 1544.72,417.445 1544.96,486.293 1545.2,562.615 1545.45,645.304 1545.69,732.765 1545.93,822.924 1546.17,913.286 1546.41,1001.03 1546.66,1083.12 \n",
       "  1546.9,1156.53 1547.14,1218.36 1547.38,1266.04 1547.63,1297.56 1547.87,1311.52 1548.11,1307.31 1548.35,1285.12 1548.59,1245.92 1548.84,1191.41 1549.08,1123.9 \n",
       "  1549.32,1046.1 1549.56,961.014 1549.81,871.698 1550.05,781.101 1550.29,691.914 1550.53,606.454 1550.77,526.588 1551.02,453.702 1551.26,388.71 1551.5,332.098 \n",
       "  1551.74,283.986 1551.99,244.216 1552.23,212.435 1552.47,188.188 1552.71,170.986 1552.95,160.377 1553.2,155.989 1553.44,157.55 1553.68,164.903 1553.92,177.985 \n",
       "  1554.17,196.8 1554.41,221.376 1554.65,251.707 1554.89,287.694 1555.13,329.085 1555.38,375.414 1555.62,425.968 1555.86,479.75 1556.1,535.485 1556.35,591.644 \n",
       "  1556.59,646.491 1556.83,698.166 1557.07,744.782 1557.31,784.542 1557.56,815.856 1557.8,837.459 1558.04,848.515 1558.28,848.693 1558.53,838.224 1558.77,817.913 \n",
       "  1559.01,789.122 1559.25,753.716 1559.49,713.973 1559.74,672.465 1559.98,631.919 1560.22,595.053 1560.46,564.414 1560.71,542.214 1560.95,530.181 1561.19,529.443 \n",
       "  1561.43,540.44 1561.67,562.893 1561.92,595.81 1562.16,637.548 1562.4,685.917 1562.64,738.319 1562.89,791.912 1563.13,843.796 1563.37,891.208 1563.61,931.708 \n",
       "  1563.86,963.374 1564.1,984.959 1564.34,996.029 1564.58,997.051 1564.82,989.411 1565.07,975.358 1565.31,957.849 1565.55,940.306 1565.79,926.294 1566.04,919.141 \n",
       "  1566.28,921.564 1566.52,935.327 1566.76,960.991 1567,997.804 1567.25,1043.73 1567.49,1095.64 1567.73,1149.62 1567.97,1201.34 1568.22,1246.5 1568.46,1281.19 \n",
       "  1568.7,1302.22 1568.94,1307.37 1569.18,1295.47 1569.43,1266.45 1569.67,1221.23 1569.91,1161.57 1570.15,1089.9 1570.4,1009.07 1570.64,922.141 1570.88,832.171 \n",
       "  1571.12,742.029 1571.36,654.256 1571.61,570.968 1571.85,493.791 1572.09,423.853 1572.33,361.799 1572.58,307.843 1572.82,261.835 1573.06,223.339 1573.3,191.717 \n",
       "  1573.54,166.209 1573.79,145.993 1574.03,130.248 1574.27,118.196 1574.51,109.125 1574.76,102.412 1575,97.5263 1575.24,94.0286 1575.48,91.5652 1575.72,89.8582 \n",
       "  1575.97,88.6944 1576.21,87.9134 1576.45,87.3976 1576.69,87.0623 1576.94,86.8476 1577.18,86.7122 1577.42,86.628 1577.66,86.5764 1577.9,86.5451 1578.15,86.5264 \n",
       "  1578.39,86.5152 1578.63,86.5084 1578.87,86.5044 1579.12,86.5018 1579.36,86.5001 1579.6,86.4989 1579.84,86.4981 1580.08,86.4976 1580.33,86.4974 1580.57,86.499 \n",
       "  1580.81,86.5194 1581.05,86.7216 1581.3,88.1306 1581.54,94.7684 1581.78,115.424 1582.02,156.244 1582.27,202.394 1582.51,219.226 1582.75,191.332 1582.99,143.792 \n",
       "  1583.23,108.57 1583.48,93.2712 1583.72,89.4763 1583.96,89.6729 1584.2,91.0928 1584.45,93.2726 1584.69,96.3562 1584.93,100.63 1585.17,106.454 1585.41,114.26 \n",
       "  1585.66,124.546 1585.9,137.868 1586.14,154.828 1586.38,176.042 1586.63,202.103 1586.87,233.539 1587.11,270.755 1587.35,313.974 1587.59,363.175 1587.84,418.037 \n",
       "  1588.08,477.899 1588.32,541.733 1588.56,608.144 1588.81,675.4 1589.05,741.49 1589.29,804.219 1589.53,861.321 1589.77,910.59 1590.02,950.025 1590.26,977.96 \n",
       "  1590.5,993.185 1590.74,995.03 1590.99,983.414 1591.23,958.856 1591.47,922.435 1591.71,875.715 1591.95,820.642 1592.2,759.413 1592.44,694.343 1592.68,627.743 \n",
       "  1592.92,561.799 1593.17,498.493 1593.41,439.544 1593.65,386.383 1593.89,340.156 1594.13,301.752 1594.38,271.846 1594.62,250.945 1594.86,239.439 1595.1,237.639 \n",
       "  1595.35,245.795 1595.59,264.102 1595.83,292.674 1596.07,331.507 1596.31,380.418 1596.56,438.977 1596.8,506.443 1597.04,581.7 1597.28,663.225 1597.53,749.081 \n",
       "  1597.77,836.95 1598.01,924.228 1598.25,1008.29 1598.5,1087.15 1598.74,1160.01 1598.98,1225.61 1599.22,1278.62 1599.46,1311.08 1599.71,1319.53 1599.95,1305.75 \n",
       "  1600.19,1273.25 1600.43,1226.68 1600.68,1169.9 1600.92,1104.47 1601.16,1031.43 1601.4,952.784 1601.64,871.186 1601.89,789.366 1602.13,709.786 1602.37,634.488 \n",
       "  1602.61,565.007 1602.86,502.337 1603.1,446.95 1603.34,398.855 1603.58,357.683 1603.82,322.796 1604.07,293.388 1604.31,268.585 1604.55,247.529 1604.79,229.433 \n",
       "  1605.04,213.626 1605.28,199.565 1605.52,186.844 1605.76,175.181 1606,164.4 1606.25,154.406 1606.49,145.168 1606.73,136.69 1606.97,128.995 1607.22,122.111 \n",
       "  1607.46,116.06 1607.7,110.851 1607.94,106.477 1608.18,102.92 1608.43,100.146 1608.67,98.1153 1608.91,96.7805 1609.15,96.0926 1609.4,96.0015 1609.64,96.4581 \n",
       "  1609.88,97.4139 1610.12,98.8213 1610.36,100.633 1610.61,102.802 1610.85,105.286 1611.09,108.043 1611.33,111.048 1611.58,114.291 1611.82,117.794 1612.06,121.624 \n",
       "  1612.3,125.909 1612.54,130.855 1612.79,136.767 1613.03,144.064 1613.27,153.292 1613.51,165.127 1613.76,180.364 1614,199.901 1614.24,224.686 1614.48,255.654 \n",
       "  1614.72,293.638 1614.97,339.261 1615.21,392.816 1615.45,454.159 1615.69,522.621 1615.94,596.962 1616.18,675.401 1616.42,755.705 1616.66,835.369 1616.91,911.839 \n",
       "  1617.15,982.768 1617.39,1046.25 1617.63,1100.96 1617.87,1146.28 1618.12,1182.14 1618.36,1208.96 1618.6,1227.35 1618.84,1237.94 1619.09,1241.21 1619.33,1237.47 \n",
       "  1619.57,1226.9 1619.81,1209.73 1620.05,1186.43 1620.3,1157.77 1620.54,1124.85 1620.78,1089 1621.02,1051.52 1621.27,1013.49 1621.51,975.546 1621.75,937.843 \n",
       "  1621.99,900.062 1622.23,861.568 1622.48,821.613 1622.72,779.544 1622.96,734.97 1623.2,687.853 1623.45,638.524 1623.69,587.639 1623.93,536.08 1624.17,484.85 \n",
       "  1624.41,434.962 1624.66,387.35 1624.9,342.802 1625.14,301.92 1625.38,265.102 1625.63,232.547 1625.87,204.274 1626.11,180.149 1626.35,159.916 1626.59,143.236 \n",
       "  1626.84,129.715 1627.08,118.938 1627.32,110.49 1627.56,103.976 1627.81,99.0351 1628.05,95.3488 1628.29,92.6428 1628.53,90.6885 1628.77,89.2996 1629.02,88.3284 \n",
       "  1629.26,87.66 1629.5,87.2074 1629.74,86.906 1629.99,86.7087 1630.23,86.5822 1630.47,86.5037 1630.71,86.458 1630.95,86.4357 1631.2,86.4324 1631.44,86.4477 \n",
       "  1631.68,86.4852 1631.92,86.5533 1632.17,86.6662 1632.41,86.8461 1632.65,87.1257 1632.89,87.5521 1633.13,88.1913 1633.38,89.1337 1633.62,90.5005 1633.86,92.4507 \n",
       "  1634.1,95.1878 1634.35,98.9666 1634.59,104.097 1634.83,110.948 1635.07,119.956 1635.32,131.765 1635.56,148.241 1635.8,176.78 1636.04,238.622 1636.28,363.848 \n",
       "  1636.53,543.339 1636.77,691.045 1637.01,723.795 1637.25,653.306 1637.5,562.496 1637.74,522.885 1637.98,540.289 1638.22,585.738 1638.46,637.965 1638.71,688.539 \n",
       "  1638.95,734.255 1639.19,773.147 1639.43,803.605 1639.68,824.331 1639.92,834.423 1640.16,833.435 1640.4,821.409 1640.64,798.878 1640.89,766.819 1641.13,726.588 \n",
       "  1641.37,679.824 1641.61,628.337 1641.86,573.993 1642.1,518.607 1642.34,463.843 1642.58,411.14 1642.82,361.66 1643.07,316.266 1643.31,275.515 1643.55,239.688 \n",
       "  1643.79,208.873 1644.04,183.467 1644.28,166.696 1644.52,171.767 1644.76,226.891 1645,348.891 1645.25,484.471 1645.49,522.003 1645.73,420.303 1645.97,265.062 \n",
       "  1646.22,154.119 1646.46,105.767 1646.7,91.6013 1646.94,88.3497 1647.18,87.4591 1647.43,87.0368 1647.67,86.7747 1647.91,86.6063 1648.15,86.4993 1648.4,86.4322 \n",
       "  1648.64,86.3908 1648.88,86.3655 1649.12,86.3503 1649.36,86.3411 1649.61,86.3356 1649.85,86.3323 1650.09,86.3302 1650.33,86.3289 1650.58,86.3279 1650.82,86.3272 \n",
       "  1651.06,86.3266 1651.3,86.3261 1651.54,86.3256 1651.79,86.3251 1652.03,86.3257 1652.27,86.3415 1652.51,86.5202 1652.76,87.8605 1653,94.6071 1653.24,117.08 \n",
       "  1653.48,164.992 1653.73,224.947 1653.97,254.609 1654.21,227.066 1654.45,167.414 1654.69,118.511 1654.94,95.1543 1655.18,88.3274 1655.42,89.1292 1655.66,99.5759 \n",
       "  1655.91,132.829 1656.15,198.884 1656.39,274.009 1656.63,301.921 1656.87,256.941 1657.12,179.341 1657.36,121.259 1657.6,95.3619 1657.84,87.9364 1658.09,86.5293 \n",
       "  1658.33,86.3591 1658.57,86.3608 1658.81,86.3871 1659.05,86.4287 1659.3,86.4915 1659.54,86.5845 1659.78,86.7202 1660.02,86.9151 1660.27,87.191 1660.51,87.5763 \n",
       "  1660.75,88.1068 1660.99,88.8275 1661.23,89.794 1661.48,91.0744 1661.72,92.7504 1661.96,94.9198 1662.2,97.6979 1662.45,101.22 1662.69,105.642 1662.93,111.147 \n",
       "  1663.17,117.939 1663.41,126.252 1663.66,136.345 1663.9,148.503 1664.14,163.032 1664.38,180.25 1664.63,200.48 1664.87,224.033 1665.11,251.182 1665.35,282.147 \n",
       "  1665.59,317.051 1665.84,355.895 1666.08,398.513 1666.32,444.539 1666.56,493.376 1666.81,544.168 1667.05,595.806 1667.29,646.935 1667.53,696.003 1667.77,741.33 \n",
       "  1668.02,781.204 1668.26,813.994 1668.5,838.277 1668.74,852.963 1668.99,857.405 1669.23,851.488 1669.47,835.682 1669.71,811.063 1669.95,779.283 1670.2,742.506 \n",
       "  1670.44,703.307 1670.68,664.532 1670.92,629.133 1671.17,599.99 1671.41,579.72 1671.65,570.492 1671.89,573.871 1672.14,590.683 1672.38,620.938 1672.62,663.8 \n",
       "  1672.86,717.624 1673.1,780.037 1673.35,848.082 1673.59,918.393 1673.83,987.394 1674.07,1051.52 1674.32,1107.4 1674.56,1152.09 1674.8,1183.21 1675.04,1199.06 \n",
       "  1675.28,1198.72 1675.53,1182.08 1675.77,1149.78 1676.01,1103.19 1676.25,1044.27 1676.5,975.425 1676.74,899.321 1676.98,818.736 1677.22,736.379 1677.46,654.749 \n",
       "  1677.71,576.017 1677.95,501.949 1678.19,433.864 1678.43,372.632 1678.68,318.698 1678.92,272.131 1679.16,232.696 1679.4,199.923 1679.64,173.181 1679.89,151.75 \n",
       "  1680.13,134.878 1680.37,121.826 1680.61,111.904 1680.86,104.497 1681.1,99.069 1681.34,95.1762 1681.58,92.4596 1681.82,90.6418 1682.07,89.5199 1682.31,88.9579 \n",
       "  1682.55,88.8811 1682.79,89.2708 1683.04,90.1627 1683.28,91.6456 1683.52,93.8628 1683.76,97.0139 1684,101.356 1684.25,107.205 1684.49,114.933 1684.73,124.959 \n",
       "  1684.97,137.74 1685.22,153.751 1685.46,173.456 1685.7,197.273 1685.94,225.538 1686.18,258.45 1686.43,296.033 1686.67,338.083 1686.91,384.14 1687.15,433.461 \n",
       "  1687.4,485.023 1687.64,537.548 1687.88,589.557 1688.12,639.448 1688.36,685.6 1688.61,726.49 1688.85,760.805 1689.09,787.544 1689.33,806.085 1689.58,816.217 \n",
       "  1689.82,818.117 1690.06,812.302 1690.3,799.527 1690.55,780.69 1690.79,756.727 1691.03,728.532 1691.27,696.909 1691.51,662.561 1691.76,626.106 1692,588.119 \n",
       "  1692.24,549.179 1692.48,509.913 1692.73,471.028 1692.97,433.327 1693.21,397.703 1693.45,365.13 1693.69,336.632 1693.94,313.258 1694.18,296.054 1694.42,286.028 \n",
       "  1694.66,284.121 1694.91,291.171 1695.15,307.866 1695.39,334.702 1695.63,371.924 1695.87,419.468 1696.12,476.907 1696.36,543.402 1696.6,617.679 1696.84,698.078 \n",
       "  1697.09,782.742 1697.33,869.764 1697.57,956.568 1697.81,1038.69 1698.05,1110.63 1698.3,1169.2 1698.54,1214.08 1698.78,1244.98 1699.02,1260.6 1699.27,1260.21 \n",
       "  1699.51,1244.99 1699.75,1217.37 1699.99,1177.31 1700.23,1119.89 1700.48,1042.37 1700.72,951.692 1700.96,858.477 1701.2,768.164 1701.45,681.685 1701.69,599.593 \n",
       "  1701.93,523.15 1702.17,453.723 1702.41,392.375 1702.66,339.772 1702.9,296.218 1703.14,261.72 1703.38,236.047 1703.63,218.797 1703.87,209.446 1704.11,207.388 \n",
       "  1704.35,211.957 1704.59,222.444 1704.84,238.088 1705.08,258.077 1705.32,281.533 1705.56,307.51 1705.81,334.989 1706.05,362.896 1706.29,390.118 1706.53,415.541 \n",
       "  1706.77,438.094 1707.02,456.799 1707.26,470.826 1707.5,479.538 1707.74,482.53 1707.99,479.657 1708.23,471.038 1708.47,457.045 1708.71,438.279 1708.96,415.537 \n",
       "  1709.2,389.85 1709.44,362.871 1709.68,337.821 1709.92,319.432 1710.17,309.02 1710.41,297.771 1710.65,272.849 1710.89,234.223 1711.14,195.296 1711.38,166.436 \n",
       "  1711.62,149.533 1711.86,150.261 1712.1,192.546 1712.35,307.927 1712.59,475.161 1712.83,581.671 1713.07,528.09 1713.32,360.126 1713.56,204.834 1713.8,123.139 \n",
       "  1714.04,95.4965 1714.28,88.9015 1714.53,87.4766 1714.77,86.9932 1715.01,86.7181 1715.25,86.5395 1715.5,86.4232 1715.74,86.3486 1715.98,86.3015 1716.22,86.2721 \n",
       "  1716.46,86.254 1716.71,86.243 1716.95,86.2364 1717.19,86.2325 1717.43,86.2301 1717.68,86.2286 1717.92,86.2277 1718.16,86.2271 1718.4,86.2267 1718.64,86.2263 \n",
       "  1718.89,86.226 1719.13,86.2257 1719.37,86.2254 1719.61,86.2252 1719.86,86.2249 1720.1,86.2247 1720.34,86.2244 1720.58,86.2242 1720.82,86.224 1721.07,86.2237 \n",
       "  1721.31,86.2235 1721.55,86.2232 1721.79,86.223 1722.04,86.2227 1722.28,86.2225 1722.52,86.2223 1722.76,86.222 1723,86.2218 1723.25,86.2215 1723.49,86.2213 \n",
       "  1723.73,86.2211 1723.97,86.2208 1724.22,86.2206 1724.46,86.2204 1724.7,86.2201 1724.94,86.2199 1725.19,86.2197 1725.43,86.2194 1725.67,86.2192 1725.91,86.219 \n",
       "  1726.15,86.2188 1726.4,86.2185 1726.64,86.2183 1726.88,86.2181 1727.12,86.2179 1727.37,86.2176 1727.61,86.2174 1727.85,86.2172 1728.09,86.217 1728.33,86.2168 \n",
       "  1728.58,86.2166 1728.82,86.2165 1729.06,86.2165 1729.3,86.2167 1729.55,86.2172 1729.79,86.2184 1730.03,86.2207 1730.27,86.2249 1730.51,86.2325 1730.76,86.2458 \n",
       "  1731,86.2686 1731.24,86.3069 1731.48,86.3702 1731.73,86.473 1731.97,86.6375 1732.21,86.8962 1732.45,87.2968 1732.69,87.9073 1732.94,88.8226 1733.18,90.1733 \n",
       "  1733.42,92.1341 1733.66,94.935 1733.91,98.8706 1734.15,104.31 1734.39,111.705 1734.63,121.59 1734.87,134.582 1735.12,151.366 1735.36,172.675 1735.6,199.257 \n",
       "  1735.84,231.824 1736.09,270.999 1736.33,317.244 1736.57,370.788 1736.81,431.556 1737.05,499.101 1737.3,572.553 1737.54,650.597 1737.78,731.475 1738.02,813.029 \n",
       "  1738.27,892.779 1738.51,968.037 1738.75,1036.05 1738.99,1094.18 1739.23,1140.04 1739.48,1171.69 1739.72,1187.74 1739.96,1187.5 1740.2,1170.96 1740.45,1138.87 \n",
       "  1740.69,1092.62 1740.93,1034.16 1741.17,965.885 1741.41,890.452 1741.66,810.61 1741.9,729.042 1742.14,648.218 1742.38,570.287 1742.63,496.994 1742.87,429.641 \n",
       "  1743.11,369.083 1743.35,315.756 1743.6,269.726 1743.84,230.755 1744.08,198.376 1744.32,171.961 1744.56,150.797 1744.81,134.136 1745.05,121.246 1745.29,111.444 \n",
       "  1745.53,104.114 1745.78,98.7248 1746.02,94.8277 1746.26,92.0556 1746.5,90.116 1746.74,88.7809 1746.99,87.8771 1747.23,87.2756 1747.47,86.8828 1747.71,86.6322 \n",
       "  1747.96,86.4776 1748.2,86.3884 1748.44,86.3451 1748.68,86.3366 1748.92,86.3579 1749.17,86.4094 1749.41,86.4958 1749.65,86.6309 1749.89,86.8993 1750.14,87.9817 \n",
       "  1750.38,93.8755 1750.62,119.306 1750.86,193.81 1751.1,332.42 1751.35,476.931 1751.59,515.046 1751.83,412.577 1752.07,260.915 1752.32,156.447 1752.56,114.145 \n",
       "  1752.8,104.784 1753.04,105.691 1753.28,108.786 1753.53,112.323 1753.77,115.996 1754.01,119.683 1754.25,123.27 1754.5,126.633 1754.74,129.65 1754.98,132.201 \n",
       "  1755.22,134.181 1755.46,135.506 1755.71,136.118 1755.95,135.99 1756.19,135.128 1756.43,133.57 1756.68,131.384 1756.92,128.664 1757.16,125.52 1757.4,122.077 \n",
       "  1757.64,118.463 1757.89,114.804 1758.13,111.219 1758.37,107.818 1758.61,104.7 1758.86,101.953 1759.1,99.6652 1759.34,97.9274 1759.58,96.8465 1759.82,96.5584 \n",
       "  1760.07,97.2452 1760.31,99.1525 1760.55,102.609 1760.79,108.044 1761.04,116.005 1761.28,127.16 1761.52,142.303 1761.76,162.33 1762.01,188.199 1762.25,220.865 \n",
       "  1762.49,261.183 1762.73,309.791 1762.97,366.974 1763.22,432.532 1763.46,505.683 1763.7,585.015 1763.94,668.533 1764.19,753.79 1764.43,838.113 1764.67,918.882 \n",
       "  1764.91,993.808 1765.15,1061.16 1765.4,1119.91 1765.64,1169.72 1765.88,1210.83 1766.12,1243.92 1766.37,1269.88 1766.61,1289.6 1766.85,1303.79 1767.09,1312.86 \n",
       "  1767.33,1316.86 1767.58,1315.35 1767.82,1307.51 1768.06,1292.14 1768.3,1267.83 1768.55,1233.25 1768.79,1187.36 1769.03,1129.77 1769.27,1060.94 1769.51,982.25 \n",
       "  1769.76,895.96 1770,804.986 1770.24,712.574 1770.48,621.933 1770.73,535.916 1770.97,456.78 1771.21,386.064 1771.45,324.579 1771.69,272.484 1771.94,229.42 \n",
       "  1772.18,194.667 1772.42,167.298 1772.66,146.314 1772.91,130.746 1773.15,119.738 1773.39,112.597 1773.63,108.821 1773.87,108.123 1774.12,110.43 1774.36,115.889 \n",
       "  1774.6,124.856 1774.84,137.886 1775.09,155.707 1775.33,179.182 1775.57,209.256 1775.81,246.875 1776.05,292.884 1776.3,347.899 1776.54,412.171 1776.78,485.439 \n",
       "  1777.02,566.813 1777.27,654.702 1777.51,746.82 1777.75,840.291 1777.99,931.864 1778.23,1018.22 1778.48,1096.31 1778.72,1163.74 1778.96,1219.01 1779.2,1261.62 \n",
       "  1779.45,1292.08 1779.69,1311.6 1779.93,1321.83 1780.17,1324.46 1780.42,1320.89 1780.66,1311.98 1780.9,1298.02 1781.14,1278.75 1781.38,1253.48 1781.63,1221.33 \n",
       "  1781.87,1181.44 1782.11,1133.19 1782.35,1076.39 1782.6,1011.4 1782.84,939.234 1783.08,861.475 1783.32,780.22 1783.56,697.889 1783.81,617.01 1784.05,540.01 \n",
       "  1784.29,469.03 1784.53,405.803 1784.78,351.599 1785.02,307.234 1785.26,273.128 1785.5,249.386 1785.74,235.888 1785.99,232.37 1786.23,238.469 1786.47,253.757 \n",
       "  1786.71,277.728 1786.96,309.776 1787.2,349.153 1787.44,394.922 1787.68,445.926 1787.92,500.777 1788.17,557.87 1788.41,615.441 1788.65,671.653 1788.89,724.701 \n",
       "  1789.14,772.926 1789.38,814.923 1789.62,849.612 1789.86,876.266 1790.1,894.505 1790.35,904.234 1790.59,905.575 1790.83,898.783 1791.07,884.19 1791.32,862.171 \n",
       "  1791.56,833.154 1791.8,797.652 1792.04,756.31 1792.28,709.948 1792.53,659.577 1792.77,606.388 1793.01,551.702 1793.25,496.893 1793.5,443.299 1793.74,392.13 \n",
       "  1793.98,344.396 1794.22,300.854 1794.46,261.988 1794.71,228.015 1794.95,198.912 1795.19,174.465 1795.43,154.311 1795.68,137.997 1795.92,125.023 1796.16,114.882 \n",
       "  1796.4,107.087 1796.64,101.194 1796.89,96.8103 1797.13,93.6007 1797.37,91.2877 1797.61,89.6466 1797.86,88.5002 1798.1,87.7116 1798.34,87.1774 1798.58,86.821 \n",
       "  1798.83,86.5869 1799.07,86.4354 1799.31,86.3389 1799.55,86.2783 1799.79,86.2408 1800.04,86.218 1800.28,86.2043 1800.52,86.1963 1800.76,86.1916 1801.01,86.1889 \n",
       "  1801.25,86.1874 1801.49,86.1865 1801.73,86.1861 1801.97,86.1859 1802.22,86.1857 1802.46,86.1857 1802.7,86.1857 1802.94,86.1857 1803.19,86.1857 1803.43,86.1857 \n",
       "  1803.67,86.1858 1803.91,86.1859 1804.15,86.186 1804.4,86.1863 1804.64,86.1868 1804.88,86.1877 1805.12,86.1895 1805.37,86.1943 1805.61,86.2302 1805.85,86.5953 \n",
       "  1806.09,89.4218 1806.33,104.406 1806.58,157.289 1806.82,277.613 1807.06,441.397 1807.3,540.408 1807.55,486.569 1807.79,329.858 1808.03,189.455 1808.27,118.38 \n",
       "  1808.51,96.5716 1808.76,93.8489 1809,96.3633 1809.24,100.82 1809.48,107.055 1809.73,115.515 1809.97,126.796 1810.21,141.584 1810.45,160.64 1810.69,184.769 \n",
       "  1810.94,214.787 1811.18,251.464 1811.42,295.459 1811.66,347.244 1811.91,407.026 1812.15,474.664 1812.39,549.603 1812.63,630.819 1812.87,716.799 1813.12,805.551 \n",
       "  1813.36,894.652 1813.6,981.349 1813.84,1062.68 1814.09,1135.64 1814.33,1197.36 1814.57,1245.31 1814.81,1277.44 1815.05,1292.35 1815.3,1289.38 1815.54,1268.66 \n",
       "  1815.78,1231.1 1816.02,1178.34 1816.27,1112.59 1816.51,1036.53 1816.75,953.092 1816.99,865.279 1817.24,776.002 1817.48,687.92 1817.72,603.32 1817.96,524.039 \n",
       "  1818.2,451.429 1818.45,386.354 1818.69,329.231 1818.93,280.117 1819.17,238.959 1819.42,206.161 1819.66,182.997 1819.9,169.814 1820.14,162.072 1820.38,151.413 \n",
       "  1820.63,134.58 1820.87,116.98 1821.11,104.678 1821.35,98.3856 1821.6,95.8873 1821.84,95.501 1822.08,96.6574 1822.32,99.3463 1822.56,103.783 1822.81,110.325 \n",
       "  1823.05,119.454 1823.29,131.777 1823.53,148.003 1823.78,168.929 1824.02,195.394 1824.26,228.227 1824.5,268.172 1824.74,315.791 1824.99,371.364 1825.23,434.778 \n",
       "  1825.47,505.435 1825.71,582.188 1825.96,663.337 1826.2,746.686 1826.44,829.69 1826.68,909.667 1826.92,984.071 1827.17,1050.77 1827.41,1108.3 1827.65,1155.98 \n",
       "  1827.89,1193.99 1828.14,1223.18 1828.38,1244.79 1828.62,1260.16 1828.86,1270.32 1829.1,1275.68 1829.35,1275.95 1829.59,1270.11 1829.83,1256.65 1830.07,1233.88 \n",
       "  1830.32,1200.35 1830.56,1155.19 1830.8,1098.35 1831.04,1030.73 1831.28,954.105 1831.53,870.952 1831.77,784.393 1832.01,698.788 1832.25,621.625 1832.5,563.214 \n",
       "  1832.74,525.801 1832.98,489.866 1833.22,429.179 1833.46,345.795 1833.71,267.278 1833.95,211.529 1834.19,175.954 1834.43,151.951 1834.68,134.351 1834.92,121.065 \n",
       "  1835.16,111.091 1835.4,103.715 1835.65,98.3459 1835.89,94.5011 1836.13,91.7912 1836.37,89.9112 1836.61,88.6273 1836.86,87.7641 1837.1,87.1928 1837.34,86.8205 \n",
       "  1837.58,86.5817 1837.83,86.4309 1838.07,86.3371 1838.31,86.2797 1838.55,86.2451 1838.79,86.2246 1839.04,86.2127 1839.28,86.2059 1839.52,86.2021 1839.76,86.2 \n",
       "  1840.01,86.1989 1840.25,86.1984 1840.49,86.1982 1840.73,86.1981 1840.97,86.1982 1841.22,86.1983 1841.46,86.1984 1841.7,86.1985 1841.94,86.1987 1842.19,86.1988 \n",
       "  1842.43,86.199 1842.67,86.1991 1842.91,86.1992 1843.15,86.1994 1843.4,86.1995 1843.64,86.1997 1843.88,86.1998 1844.12,86.2 1844.37,86.2001 1844.61,86.2003 \n",
       "  1844.85,86.2004 1845.09,86.2006 1845.33,86.2007 1845.58,86.2009 1845.82,86.2011 1846.06,86.2012 1846.3,86.2014 1846.55,86.2015 1846.79,86.2017 1847.03,86.2018 \n",
       "  1847.27,86.202 1847.51,86.2022 1847.76,86.2023 1848,86.2025 1848.24,86.2027 1848.48,86.2028 1848.73,86.203 1848.97,86.2032 1849.21,86.2034 1849.45,86.2037 \n",
       "  1849.69,86.2042 1849.94,86.2048 1850.18,86.2058 1850.42,86.2076 1850.66,86.2107 1850.91,86.216 1851.15,86.2251 1851.39,86.2406 1851.63,86.2668 1851.88,86.3103 \n",
       "  1852.12,86.3815 1852.36,86.4963 1852.6,86.6787 1852.84,86.964 1853.09,87.4033 1853.33,88.069 1853.57,89.062 1853.81,90.5198 1854.06,92.6261 1854.3,95.6206 \n",
       "  1854.54,99.8099 1854.78,105.576 1855.02,113.383 1855.27,123.782 1855.51,137.405 1855.75,154.954 1855.99,177.18 1856.24,204.846 1856.48,238.685 1856.72,279.334 \n",
       "  1856.96,327.261 1857.2,382.689 1857.45,445.507 1857.69,515.194 1857.93,590.754 1858.17,670.685 1858.42,752.993 1858.66,835.263 1858.9,914.798 1859.14,988.83 \n",
       "  1859.38,1054.78 1859.63,1110.58 1859.87,1154.9 1860.11,1187.45 1860.35,1209.01 1860.6,1221.41 1860.84,1227.34 1861.08,1229.87 1861.32,1232.05 1861.56,1236.36 \n",
       "  1861.81,1244.24 1862.05,1255.87 1862.29,1270.03 1862.53,1284.32 1862.78,1295.53 1863.02,1300.11 1863.26,1294.73 1863.5,1276.77 1863.74,1244.63 1863.99,1197.96 \n",
       "  1864.23,1137.59 1864.47,1065.4 1864.71,984.039 1864.96,896.602 1865.2,806.308 1865.44,716.225 1865.68,629.064 1865.92,547.045 1866.17,471.832 1866.41,404.539 \n",
       "  1866.65,345.778 1866.89,295.728 1867.14,254.232 1867.38,220.888 1867.62,195.138 1867.86,176.341 1868.1,163.829 1868.35,156.952 1868.59,155.098 1868.83,157.703 \n",
       "  1869.07,164.242 1869.32,174.218 1869.56,187.14 1869.8,202.502 1870.04,219.765 1870.29,238.345 1870.53,257.608 1870.77,276.877 1871.01,295.447 1871.25,312.614 \n",
       "  1871.5,327.711 1871.74,340.144 1871.98,349.435 1872.22,355.261 1872.47,357.489 1872.71,356.199 1872.95,351.703 1873.19,344.544 1873.43,335.497 1873.68,325.539 \n",
       "  1873.92,315.832 1874.16,307.676 1874.4,302.462 1874.65,301.617 1874.89,306.534 1875.13,318.501 1875.37,338.624 1875.61,367.743 1875.86,406.357 1876.1,454.552 \n",
       "  1876.34,511.945 1876.58,577.645 1876.83,650.243 1877.07,727.827 1877.31,808.038 1877.55,888.156 1877.79,965.23 1878.04,1036.24 1878.28,1098.3 1878.52,1148.86 \n",
       "  1878.76,1185.92 1879.01,1208.29 1879.25,1215.69 1879.49,1208.86 1879.73,1189.62 1879.97,1160.68 1880.22,1125.45 1880.46,1087.7 1880.7,1051.14 1880.94,1019.03 \n",
       "  1881.19,993.788 1881.43,976.783 1881.67,968.227 1881.91,967.272 1882.15,972.251 1882.4,981.007 1882.64,991.252 1882.88,1000.88 1883.12,1008.2 1883.37,1012.02 \n",
       "  1883.61,1011.68 1883.85,1006.92 1884.09,997.824 1884.33,984.631 1884.58,967.655 1884.82,947.197 1885.06,923.515 1885.3,896.813 1885.55,867.269 1885.79,835.067 \n",
       "  1886.03,800.456 1886.27,763.8 1886.51,725.638 1886.76,686.733 1887,648.11 1887.24,611.066 1887.48,577.148 1887.73,548.092 1887.97,525.729 1888.21,511.857 \n",
       "  1888.45,508.09 1888.7,515.711 1888.94,535.526 1889.18,567.746 1889.42,611.903 1889.66,666.818 1889.91,730.616 1890.15,800.795 1890.39,874.356 1890.63,947.972 \n",
       "  1890.88,1018.19 1891.12,1081.68 1891.36,1135.43 1891.6,1176.97 1891.84,1204.56 1892.09,1217.23 1892.33,1214.88 1892.57,1198.16 1892.81,1168.38 1893.06,1127.34 \n",
       "  1893.3,1077.12 1893.54,1019.87 1893.78,957.68 1894.02,892.437 1894.27,825.76 1894.51,758.987 1894.75,693.199 1894.99,629.262 1895.24,567.868 1895.48,509.586 \n",
       "  1895.72,454.878 1895.96,404.115 1896.2,357.575 1896.45,315.441 1896.69,277.79 1896.93,244.599 1897.17,215.745 1897.42,191.025 1897.66,170.173 1897.9,152.884 \n",
       "  1898.14,138.847 1898.38,127.854 1898.63,120.379 1898.87,119.65 1899.11,134.796 1899.35,176.608 1899.6,236.751 1899.84,276.111 1900.08,262.549 1900.32,214.387 \n",
       "  1900.56,175.569 1900.81,165.962 1901.05,178.748 1901.29,203.48 1901.53,235.655 1901.78,274.475 1902.02,320.074 1902.26,372.534 1902.5,431.65 1902.74,496.857 \n",
       "  1902.99,567.184 1903.23,641.237 1903.47,717.219 1903.71,792.974 1903.96,866.091 1904.2,934.025 1904.44,994.266 1904.68,1044.52 1904.92,1082.87 1905.17,1107.99 \n",
       "  1905.41,1119.22 1905.65,1116.65 1905.89,1101.14 1906.14,1074.17 1906.38,1037.78 1906.62,994.269 1906.86,946.039 1907.11,895.334 1907.35,844.064 1907.59,793.686 \n",
       "  1907.83,745.151 1908.07,698.925 1908.32,655.073 1908.56,613.377 1908.8,573.466 1909.04,534.939 1909.29,497.46 1909.53,460.819 1909.77,424.96 1910.01,389.969 \n",
       "  1910.25,356.052 1910.5,323.491 1910.74,292.599 1910.98,263.683 1911.22,237.005 1911.47,212.765 1911.71,191.081 1911.95,171.992 1912.19,155.454 1912.43,141.358 \n",
       "  1912.68,129.537 1912.92,119.784 1913.16,111.868 1913.4,105.547 1913.65,100.581 1913.89,96.7431 1914.13,93.825 1914.37,91.6419 1914.61,90.0351 1914.86,88.8713 \n",
       "  1915.1,88.0421 1915.34,87.4608 1915.58,87.06 1915.83,86.7885 1916.07,86.608 1916.31,86.4911 1916.55,86.4186 1916.79,86.3779 1917.04,86.3616 1917.28,86.3669 \n",
       "  1917.52,86.3956 1917.76,86.454 1918.01,86.5546 1918.25,86.7172 1918.49,86.9719 1918.73,87.3624 1918.97,87.9503 1919.22,88.8211 1919.46,90.0898 1919.7,91.9085 \n",
       "  1919.94,94.4731 1920.19,98.0308 1920.43,102.885 1920.67,109.397 1920.91,117.993 1921.15,129.209 1921.4,144.168 1921.64,166.995 1921.88,211.133 1922.12,301.635 \n",
       "  1922.37,447.825 1922.61,595.74 1922.85,654.242 1923.09,606.799 1923.33,534.471 1923.58,508.975 1923.82,533.864 1924.06,582.788 1924.3,637.422 1924.55,690.568 \n",
       "  1924.79,739.312 1925.03,781.696 1925.27,816.033 1925.52,840.908 1925.76,855.264 1926,858.474 1926.24,850.385 1926.48,831.333 1926.73,802.121 1926.97,763.963 \n",
       "  1927.21,718.403 1927.45,667.212 1927.7,612.279 1927.94,555.489 1928.18,498.624 1928.42,443.27 1928.66,390.754 1928.91,342.103 1929.15,298.03 1929.39,258.945 \n",
       "  1929.63,224.982 1929.88,196.045 1930.12,171.857 1930.36,152.01 1930.6,136.02 1930.84,123.365 1931.09,113.525 1931.33,106.006 1931.57,100.362 1931.81,96.2011 \n",
       "  1932.06,93.1945 1932.3,91.0737 1932.54,89.6285 1932.78,88.7027 1933.02,88.1896 1933.27,88.0281 1933.51,88.2005 1933.75,88.7326 1933.99,89.6958 1934.24,91.2106 \n",
       "  1934.48,93.4534 1934.72,96.663 1934.96,101.148 1935.2,107.294 1935.45,115.564 1935.69,126.502 1935.93,140.719 1936.17,158.88 1936.42,181.679 1936.66,209.793 \n",
       "  1936.9,243.84 1937.14,284.318 1937.38,331.537 1937.63,385.553 1937.87,446.101 1938.11,512.547 1938.35,583.846 1938.6,658.535 1938.84,734.756 1939.08,810.315 \n",
       "  1939.32,882.781 1939.56,949.627 1939.81,1008.41 1940.05,1056.97 1940.29,1093.65 1940.53,1117.52 1940.78,1128.51 1941.02,1127.57 1941.26,1116.67 1941.5,1098.68 \n",
       "  1941.74,1077.19 1941.99,1056.12 1942.23,1039.34 1942.47,1030.2 1942.71,1031.13 1942.96,1043.26 1943.2,1066.32 1943.44,1098.57 1943.68,1137.07 1943.93,1177.94 \n",
       "  1944.17,1216.85 1944.41,1249.46 1944.65,1271.9 1944.89,1281.09 1945.14,1274.97 1945.38,1252.66 1945.62,1214.38 1945.86,1161.34 1946.11,1095.59 1946.35,1019.72 \n",
       "  1946.59,936.673 1946.83,849.472 1947.07,761.035 1947.32,674.005 1947.56,590.629 1947.8,512.692 1948.04,441.483 1948.29,377.806 1948.53,322.02 1948.77,274.103 \n",
       "  1949.01,233.722 1949.25,200.32 1949.5,173.187 1949.74,151.536 1949.98,134.561 1950.22,121.478 1950.47,111.567 1950.71,104.184 1950.95,98.7756 1951.19,94.8787 \n",
       "  1951.43,92.1168 1951.68,90.191 1951.92,88.8699 1952.16,87.9782 1952.4,87.3859 1952.65,86.9989 1952.89,86.75 1953.13,86.5925 1953.37,86.4945 1953.61,86.4346 \n",
       "  1953.86,86.3986 1954.1,86.3774 1954.34,86.3653 1954.58,86.3586 1954.83,86.3553 1955.07,86.3541 1955.31,86.3543 1955.55,86.356 1955.79,86.3593 1956.04,86.3652 \n",
       "  1956.28,86.3749 1956.52,86.3909 1956.76,86.4169 1957.01,86.4585 1957.25,86.5244 1957.49,86.6271 1957.73,86.785 1957.97,87.0239 1958.22,87.3798 1958.46,87.9018 \n",
       "  1958.7,88.6553 1958.94,89.7256 1959.19,91.2213 1959.43,93.2778 1959.67,96.0592 1959.91,99.7591 1960.15,104.599 1960.4,110.825 1960.64,118.697 1960.88,128.481 \n",
       "  1961.12,140.429 1961.37,154.764 1961.61,171.652 1961.85,191.181 1962.09,213.34 1962.34,237.993 1962.58,264.867 1962.82,293.546 1963.06,323.474 1963.3,353.975 \n",
       "  1963.55,384.279 1963.79,413.569 1964.03,441.031 1964.27,465.912 1964.52,487.575 1964.76,505.546 1965,519.547 1965.24,529.503 1965.48,535.53 1965.73,537.901 \n",
       "  1965.97,536.988 1966.21,533.208 1966.45,526.954 1966.7,518.552 1966.94,508.23 1967.18,496.113 1967.42,482.239 1967.66,466.593 1967.91,449.154 1968.15,429.936 \n",
       "  1968.39,409.025 1968.63,386.601 1968.88,362.945 1969.12,338.428 1969.36,313.486 1969.6,288.593 1969.84,264.222 1970.09,240.819 1970.33,218.769 1970.57,198.385 \n",
       "  1970.81,179.891 1971.06,163.426 1971.3,149.044 1971.54,136.729 1971.78,126.412 1972.02,117.986 1972.27,111.33 1972.51,106.327 1972.75,102.883 1972.99,100.947 \n",
       "  1973.24,100.526 1973.48,101.696 1973.72,104.616 1973.96,109.532 1974.2,116.779 1974.45,126.778 1974.69,140.023 1974.93,157.057 1975.17,178.45 1975.42,204.752 \n",
       "  1975.66,236.444 1975.9,273.886 1976.14,317.251 1976.38,366.469 1976.63,421.168 1976.87,480.641 1977.11,543.815 1977.35,609.265 1977.6,675.242 1977.84,739.739 \n",
       "  1978.08,800.582 1978.32,855.551 1978.57,902.512 1978.81,939.555 1979.05,965.128 1979.29,978.152 1979.53,978.11 1979.78,965.099 1980.02,939.844 1980.26,903.678 \n",
       "  1980.5,858.477 1980.75,806.578 1980.99,750.665 1981.23,693.646 1981.47,638.522 1981.71,588.25 1981.96,545.615 1982.2,513.102 1982.44,492.785 1982.68,486.223 \n",
       "  1982.93,494.385 1983.17,517.583 1983.41,555.447 1983.65,606.916 1983.89,670.267 1984.14,743.175 1984.38,822.797 1984.62,905.889 1984.86,988.948 1985.11,1068.37 \n",
       "  1985.35,1140.62 1985.59,1202.43 1985.83,1250.94 1986.07,1283.87 1986.32,1299.67 1986.56,1297.56 1986.8,1277.59 1987.04,1240.63 1987.29,1188.27 1987.53,1122.73 \n",
       "  1987.77,1046.66 1988.01,963.017 1988.25,874.82 1988.5,785.007 1988.74,696.269 1988.98,610.928 1989.22,530.855 1989.47,457.437 1989.71,391.565 1989.95,333.676 \n",
       "  1990.19,283.806 1990.43,241.665 1990.68,206.715 1990.92,178.255 1991.16,155.492 1991.4,137.605 1991.65,123.79 1991.89,113.301 1992.13,105.472 1992.37,99.7257 \n",
       "  1992.61,95.577 1992.86,92.6309 1993.1,90.5728 1993.34,89.1584 1993.58,88.2018 1993.83,87.5654 1994.07,87.1487 1994.31,86.8803 1994.55,86.7102 1994.79,86.6042 \n",
       "  1995.04,86.5393 1995.28,86.5003 1995.52,86.4773 1995.76,86.464 1996.01,86.4566 1996.25,86.4527 1996.49,86.4508 1996.73,86.45 1996.98,86.4499 1997.22,86.4502 \n",
       "  1997.46,86.4506 1997.7,86.4511 1997.94,86.4517 1998.19,86.4523 1998.43,86.4529 1998.67,86.4536 1998.91,86.4542 1999.16,86.4549 1999.4,86.4555 1999.64,86.4562 \n",
       "  1999.88,86.4568 2000.12,86.4575 2000.37,86.4581 2000.61,86.4588 2000.85,86.4594 2001.09,86.4601 2001.34,86.4607 2001.58,86.4614 2001.82,86.462 2002.06,86.4627 \n",
       "  2002.3,86.4633 2002.55,86.464 2002.79,86.4646 2003.03,86.4653 2003.27,86.466 2003.52,86.4667 2003.76,86.4674 2004,86.4681 2004.24,86.4689 2004.48,86.4698 \n",
       "  2004.73,86.471 2004.97,86.4726 2005.21,86.475 2005.45,86.4787 2005.7,86.4846 2005.94,86.4944 2006.18,86.5105 2006.42,86.5368 2006.66,86.5797 2006.91,86.6485 \n",
       "  2007.15,86.7577 2007.39,86.9283 2007.63,87.191 2007.88,87.5891 2008.12,88.1832 2008.36,89.0558 2008.6,90.317 2008.84,92.1105 2009.09,94.6196 2009.33,98.0724 \n",
       "  2009.57,102.745 2009.81,108.965 2010.06,117.102 2010.3,127.568 2010.54,140.795 2010.78,157.218 2011.02,177.243 2011.27,201.216 2011.51,229.375 2011.75,261.812 \n",
       "  2011.99,298.43 2012.24,338.905 2012.48,382.663 2012.72,428.864 2012.96,476.418 2013.2,524.006 2013.45,570.139 2013.69,613.227 2013.93,651.666 2014.17,683.94 \n",
       "  2014.42,708.712 2014.66,724.925 2014.9,731.869 2015.14,729.237 2015.39,717.146 2015.63,696.128 2015.87,667.092 2016.11,631.259 2016.35,590.075 2016.6,545.118 \n",
       "  2016.84,497.996 2017.08,450.254 2017.32,403.294 2017.57,358.315 2017.81,316.272 2018.05,277.859 2018.29,243.511 2018.53,213.423 2018.78,187.583 2019.02,165.814 \n",
       "  2019.26,147.813 2019.5,133.198 2019.75,121.541 2019.99,112.406 2020.23,105.371 2020.47,100.045 2020.71,96.0794 2020.96,93.1767 2021.2,91.0868 2021.44,89.6067 \n",
       "  2021.68,88.5755 2021.93,87.8688 2022.17,87.3923 2022.41,87.0761 2022.65,86.8698 2022.89,86.7374 2023.14,86.6539 2023.38,86.6021 2023.62,86.5706 2023.86,86.5519 \n",
       "  2024.11,86.5411 2024.35,86.5351 2024.59,86.5319 2024.83,86.5304 2025.07,86.5299 2025.32,86.53 2025.56,86.5303 2025.8,86.5309 2026.04,86.5315 2026.29,86.5322 \n",
       "  2026.53,86.5329 2026.77,86.5336 2027.01,86.5343 2027.25,86.5351 2027.5,86.5358 2027.74,86.5365 2027.98,86.5373 2028.22,86.538 2028.47,86.5387 2028.71,86.5395 \n",
       "  2028.95,86.5402 2029.19,86.541 2029.43,86.5417 2029.68,86.5425 2029.92,86.5432 2030.16,86.5439 2030.4,86.5447 2030.65,86.5454 2030.89,86.5462 2031.13,86.5469 \n",
       "  2031.37,86.5477 2031.61,86.5484 2031.86,86.5492 2032.1,86.5499 2032.34,86.5507 2032.58,86.5514 2032.83,86.5522 2033.07,86.5529 2033.31,86.5537 2033.55,86.5545 \n",
       "  2033.8,86.5552 2034.04,86.556 2034.28,86.5567 2034.52,86.5575 2034.76,86.5582 2035.01,86.559 2035.25,86.5598 2035.49,86.5605 2035.73,86.5613 2035.98,86.5621 \n",
       "  2036.22,86.5628 2036.46,86.5636 2036.7,86.5644 2036.94,86.5651 2037.19,86.5659 2037.43,86.5667 2037.67,86.5674 2037.91,86.5682 2038.16,86.569 2038.4,86.5697 \n",
       "  2038.64,86.5705 2038.88,86.5713 2039.12,86.5721 2039.37,86.5728 2039.61,86.5738 2039.85,86.5776 2040.09,86.6233 2040.34,87.0762 2040.58,90.1562 2040.82,104.22 \n",
       "  2041.06,146.488 2041.3,226.729 2041.55,312.453 2041.79,337.371 2042.03,278.417 2042.27,187.676 2042.52,123.286 2042.76,95.7654 2043,88.17 2043.24,86.7798 \n",
       "  2043.48,86.6134 2043.73,86.6088 2043.97,86.624 2044.21,86.6502 2044.45,86.6928 2044.7,86.7612 2044.94,86.8694 2045.18,87.0385 2045.42,87.2987 2045.66,87.6928 \n",
       "  2045.91,88.2809 2046.15,89.1443 2046.39,90.3919 2046.63,92.1658 2046.88,94.6472 2047.12,98.0617 2047.36,102.683 2047.6,108.833 2047.84,116.881 2048.09,127.232 \n",
       "  2048.33,140.315 2048.57,156.562 2048.81,176.375 2049.06,200.096 2049.3,227.96 2049.54,260.058 2049.78,296.291 2050.02,336.334 2050.27,379.612 2050.51,425.291 \n",
       "  2050.75,472.286 2050.99,519.293 2051.24,564.847 2051.48,607.391 2051.72,645.368 2051.96,677.316 2052.21,701.964 2052.45,718.317 2052.69,725.719 2052.93,723.902 \n",
       "  2053.17,712.991 2053.42,693.495 2053.66,666.266 2053.9,632.434 2054.14,593.33 2054.39,550.407 2054.63,505.148 2054.87,458.989 2055.11,413.253 2055.35,369.091 \n",
       "  2055.6,327.445 2055.84,289.031 2056.08,254.331 2056.32,223.607 2056.57,196.923 2056.81,174.176 2057.05,155.135 2057.29,139.479 2057.53,126.852 2057.78,117.036 \n",
       "  2058.02,110.614 2058.26,110.333 2058.5,120.832 2058.75,141.734 2058.99,159.441 2059.23,156.679 2059.47,134.183 2059.71,109.418 2059.96,94.5946 2060.2,88.9264 \n",
       "  2060.44,87.3793 2060.68,86.9907 2060.93,86.849 2061.17,86.771 2061.41,86.723 2061.65,86.6935 2061.89,86.6757 2062.14,86.6652 2062.38,86.6593 2062.62,86.6561 \n",
       "  2062.86,86.6546 2063.11,86.6542 2063.35,86.6543 2063.59,86.6547 2063.83,86.6553 2064.07,86.6561 2064.32,86.6568 2064.56,86.6577 2064.8,86.6585 2065.04,86.6593 \n",
       "  2065.29,86.6602 2065.53,86.6611 2065.77,86.6637 2066.01,86.6936 2066.25,87.0311 2066.5,89.6807 2066.74,103.724 2066.98,153.133 2067.22,265.084 2067.47,416.612 \n",
       "  2067.71,507.025 2067.95,455.62 2068.19,309.768 2068.43,179.612 2068.68,113.352 2068.92,91.9604 2069.16,87.4168 2069.4,86.7849 2069.65,86.7532 2069.89,86.8005 \n",
       "  2070.13,86.8836 2070.37,87.0167 2070.62,87.2265 2070.86,87.5523 2071.1,88.0503 2071.34,88.8 2071.58,89.9107 2071.83,91.5301 2072.07,93.8534 2072.31,97.1329 \n",
       "  2072.55,101.687 2072.8,107.906 2073.04,116.26 2073.28,127.293 2073.52,141.618 2073.76,159.899 2074.01,182.824 2074.25,211.063 2074.49,245.225 2074.73,285.79 \n",
       "  2074.98,333.05 2075.22,387.036 2075.46,447.46 2075.7,513.656 2075.94,584.555 2076.19,658.67 2076.43,734.128 2076.67,808.729 2076.91,880.047 2077.16,945.565 \n",
       "  2077.4,1002.84 2077.64,1049.71 2077.88,1084.5 2078.12,1106.37 2078.37,1115.8 2078.61,1114.75 2078.85,1105.13 2079.09,1086.13 2079.34,1055.76 2079.58,1019.93 \n",
       "  2079.82,998.531 2080.06,1011.24 2080.3,1045.03 2080.55,1049.92 2080.79,996.32 2081.03,915.6 2081.27,854.637 2081.52,825.094 2081.76,813.102 2082,805.252 \n",
       "  2082.24,795.236 2082.48,780.541 2082.73,760.029 2082.97,733.282 2083.21,700.482 2083.45,662.338 2083.7,619.996 2083.94,574.922 2084.18,528.798 2084.42,483.413 \n",
       "  2084.66,440.579 2084.91,402.06 2085.15,369.519 2085.39,344.476 2085.63,328.279 2085.88,322.075 2086.12,326.782 2086.36,343.057 2086.6,371.263 2086.84,411.427 \n",
       "  2087.09,463.197 2087.33,525.806 2087.57,598.039 2087.81,678.216 2088.06,764.204 2088.3,853.449 2088.54,943.051 2088.78,1029.87 2089.03,1110.64 2089.27,1182.2 \n",
       "  2089.51,1241.58 2089.75,1286.26 2089.99,1314.28 2090.24,1324.38 2090.48,1316.12 2090.72,1289.86 2090.96,1246.78 2091.21,1188.77 2091.45,1118.5 2091.69,1039.68 \n",
       "  2091.93,956.956 2092.17,873.858 2092.42,789.596 2092.66,701.363 2092.9,611.413 2093.14,526.981 2093.39,453.147 2093.63,390.391 2093.87,337.494 2094.11,293.501 \n",
       "  2094.35,257.72 2094.6,229.402 2094.84,207.66 2095.08,191.517 2095.32,179.966 2095.57,172.027 2095.81,166.788 2096.05,163.434 2096.29,161.266 2096.53,159.708 \n",
       "  2096.78,158.315 2097.02,156.767 2097.26,154.861 2097.5,152.509 2097.75,149.722 2097.99,146.604 2098.23,143.344 2098.47,140.211 2098.71,137.549 2098.96,135.775 \n",
       "  2099.2,135.388 2099.44,136.966 2099.68,141.171 2099.93,148.756 2100.17,160.553 2100.41,177.461 2100.65,200.416 2100.89,230.344 2101.14,268.098 2101.38,314.37 \n",
       "  2101.62,369.596 2101.86,433.848 2102.11,506.74 2102.35,587.348 2102.59,674.176 2102.83,765.172 2103.07,857.811 2103.32,949.236 2103.56,1036.46 2103.8,1116.59 \n",
       "  2104.04,1187.04 2104.29,1245.72 2104.53,1291.16 2104.77,1322.54 2105.01,1339.65 2105.26,1342.94 2105.5,1334.18 2105.74,1318.42 2105.98,1304.01 2106.22,1291.89 \n",
       "  2106.47,1264.86 2106.71,1203.69 2106.95,1107.63 2107.19,994.932 2107.44,886.805 2107.68,790.217 2107.92,701.733 2108.16,618.158 2108.4,539.22 2108.65,465.974 \n",
       "  2108.89,399.517 2109.13,340.578 2109.37,289.455 2109.62,246.058 2109.86,209.982 2110.1,180.592 2110.34,157.113 2110.58,138.709 2110.83,124.546 2111.07,113.84 \n",
       "  2111.31,105.887 2111.55,100.078 2111.8,95.9072 2112.04,92.9604 2112.28,90.9119 2112.52,89.5107 2112.76,88.5673 2113.01,87.9421 2113.25,87.5343 2113.49,87.2725 \n",
       "  2113.73,87.1072 2113.98,87.0045 2114.22,86.9418 2114.46,86.9044 2114.7,86.8824 2114.94,86.87 2115.19,86.8632 2115.43,86.8598 2115.67,86.8584 2115.91,86.858 \n",
       "  2116.16,86.8583 2116.4,86.8589 2116.64,86.8597 2116.88,86.8606 2117.12,86.8616 2117.37,86.8626 2117.61,86.8636 2117.85,86.8646 2118.09,86.8656 2118.34,86.8667 \n",
       "  2118.58,86.8677 2118.82,86.8687 2119.06,86.8698 2119.3,86.8708 2119.55,86.8718 2119.79,86.8729 2120.03,86.8739 2120.27,86.8749 2120.52,86.876 2120.76,86.877 \n",
       "  2121,86.878 2121.24,86.8791 2121.48,86.8801 2121.73,86.8811 2121.97,86.8822 2122.21,86.8832 2122.45,86.8843 2122.7,86.8853 2122.94,86.8863 2123.18,86.8874 \n",
       "  2123.42,86.8884 2123.67,86.8895 2123.91,86.8905 2124.15,86.8916 2124.39,86.8926 2124.63,86.8937 2124.88,86.8947 2125.12,86.8957 2125.36,86.8968 2125.6,86.8979 \n",
       "  2125.85,86.8989 2126.09,86.9 2126.33,86.901 2126.57,86.9021 2126.81,86.9031 2127.06,86.9042 2127.3,86.9052 2127.54,86.9063 2127.78,86.9073 2128.03,86.9084 \n",
       "  2128.27,86.9095 2128.51,86.9105 2128.75,86.9116 2128.99,86.9127 2129.24,86.9139 2129.48,86.9152 2129.72,86.9166 2129.96,86.9184 2130.21,86.9207 2130.45,86.9241 \n",
       "  2130.69,86.9294 2130.93,86.9377 2131.17,86.9514 2131.42,86.9739 2131.66,87.0108 2131.9,87.071 2132.14,87.1679 2132.39,87.322 2132.63,87.5635 2132.87,87.9366 \n",
       "  2133.11,88.504 2133.35,89.3536 2133.6,90.6058 2133.84,92.4218 2134.08,95.0133 2134.32,98.6517 2134.57,103.676 2134.81,110.502 2135.05,119.618 2135.29,131.59 \n",
       "  2135.53,147.045 2135.78,166.652 2136.02,191.09 2136.26,221.007 2136.5,256.964 2136.75,299.375 2136.99,348.438 2137.23,404.07 2137.47,465.848 2137.71,532.963 \n",
       "  2137.96,604.198 2138.2,677.936 2138.44,752.196 2138.68,824.709 2138.93,893.021 2139.17,954.63 2139.41,1007.13 2139.65,1048.37 2139.89,1076.59 2140.14,1090.58 \n",
       "  2140.38,1089.7 2140.62,1074.01 2140.86,1044.19 2141.11,1001.54 2141.35,947.872 2141.59,885.383 2141.83,816.509 2142.08,743.773 2142.32,669.644 2142.56,596.411 \n",
       "  2142.8,526.085 2143.04,460.34 2143.29,400.485 2143.53,347.475 2143.77,301.941 2144.01,264.255 2144.26,234.59 2144.5,212.995 2144.74,199.463 2144.98,193.986 \n",
       "  2145.22,196.589 2145.47,207.352 2145.71,226.398 2145.95,253.87 2146.19,289.879 2146.44,334.44 2146.68,387.393 2146.92,448.331 2147.16,516.522 2147.4,590.859 \n",
       "  2147.65,669.824 2147.89,751.49 2148.13,833.564 2148.37,913.463 2148.62,988.431 2148.86,1055.68 2149.1,1112.56 2149.34,1156.73 2149.58,1186.29 2149.83,1199.95 \n",
       "  2150.07,1197.12 2150.31,1177.92 2150.55,1143.18 2150.8,1094.43 2151.04,1033.71 2151.28,963.485 2151.52,886.467 2151.76,805.429 2152.01,723.055 2152.25,641.796 \n",
       "  2152.49,563.759 2152.73,490.639 2152.98,423.678 2153.22,363.673 2153.46,311 2153.7,265.673 2153.94,227.412 2154.19,195.714 2154.43,169.929 2154.67,149.327 \n",
       "  2154.91,133.153 2155.16,120.676 2155.4,111.215 2155.64,104.165 2155.88,99.0009 2156.12,95.2885 2156.37,92.6741 2156.61,90.8809 2156.85,89.6997 2157.09,88.9801 \n",
       "  2157.34,88.623 2157.58,88.5736 2157.82,88.8174 2158.06,89.3775 2158.3,90.3141 2158.55,91.7258 2158.79,93.7514 2159.03,96.5723 2159.27,100.415 2159.52,105.55 \n",
       "  2159.76,112.314 2160,121.209 2160.24,133.306 2160.49,150.783 2160.73,175.915 2160.97,207.007 2161.21,236.7 2161.45,259.61 2161.7,279.751 2161.94,304.871 \n",
       "  2162.18,337.566 2162.42,375.549 2162.67,415.926 2162.91,456.733 2163.15,496.5 2163.39,533.84 2163.63,567.373 2163.88,595.784 2164.12,617.905 2164.36,632.792 \n",
       "  2164.6,639.797 2164.85,638.609 2165.09,629.283 2165.33,612.228 2165.57,588.185 2165.81,558.169 2166.06,523.399 2166.3,485.217 2166.54,445.002 2166.78,404.089 \n",
       "  2167.03,363.699 2167.27,324.885 2167.51,288.493 2167.75,255.148 2167.99,225.249 2168.24,198.99 2168.48,176.381 2168.72,157.287 2168.96,141.465 2169.21,128.653 \n",
       "  2169.45,119.072 2169.69,116.09 2169.93,134.285 2170.17,206.634 2170.42,357.517 2170.66,532.469 2170.9,598.89 2171.14,493.832 2171.39,310.323 2171.63,171.882 \n",
       "  2171.87,109.626 2172.11,91.5093 2172.35,87.9127 2172.6,87.3538 2172.84,87.24 2173.08,87.191 2173.32,87.1627 2173.57,87.1461 2173.81,87.1367 2174.05,87.1317 \n",
       "  2174.29,87.1293 2174.53,87.1284 2174.78,87.1285 2175.02,87.1291 2175.26,87.13 2175.5,87.131 2175.75,87.1321 2175.99,87.1333 2176.23,87.1345 2176.47,87.1357 \n",
       "  2176.71,87.1369 2176.96,87.1381 2177.2,87.1393 2177.44,87.1405 2177.68,87.1417 2177.93,87.1429 2178.17,87.1442 2178.41,87.1454 2178.65,87.1466 2178.9,87.1478 \n",
       "  2179.14,87.149 2179.38,87.1503 2179.62,87.1515 2179.86,87.1527 2180.11,87.1539 2180.35,87.1552 2180.59,87.1564 2180.83,87.1576 2181.08,87.1588 2181.32,87.1601 \n",
       "  2181.56,87.1613 2181.8,87.1625 2182.04,87.1638 2182.29,87.165 2182.53,87.1662 2182.77,87.1675 2183.01,87.1687 2183.26,87.1699 2183.5,87.1712 2183.74,87.1724 \n",
       "  2183.98,87.1742 2184.22,87.185 2184.47,87.3099 2184.71,88.4002 2184.95,94.8792 2185.19,120.589 2185.44,187.038 2185.68,292.803 2185.92,378.879 2186.16,372.29 \n",
       "  2186.4,279.493 2186.65,179.469 2186.89,134.746 2187.13,168.451 2187.37,288.298 2187.62,454.041 2187.86,549.89 2188.1,489.314 2188.34,327.959 2188.58,186.509 \n",
       "  2188.83,115.42 2189.07,92.7249 2189.31,87.9464 2189.55,87.2719 2189.8,87.2087 2190.04,87.2063 2190.28,87.2085 2190.52,87.2121 2190.76,87.224 2191.01,87.3297 \n",
       "  2191.25,88.2605 2191.49,94.0866 2191.73,118.654 2191.98,186.55 2192.22,303.6 2192.46,412.048 2192.7,423.293 2192.94,327.046 2193.19,205.721 2193.43,128.693 \n",
       "  2193.67,99.1879 2193.91,92.7468 2194.16,93.2779 2194.4,95.6932 2194.64,99.2166 2194.88,104.315 2195.12,113.647 2195.37,138.161 2195.61,205.784 2195.85,346.805 \n",
       "  2196.09,532.261 2196.34,646.629 2196.58,603.951 2196.82,464.753 2197.06,352.627 2197.31,316.249 2197.55,331.238 2197.79,366.155 2198.03,406.649 2198.27,448.353 \n",
       "  2198.52,489.533 2198.76,528.784 2199,564.7 2199.24,595.904 2199.49,621.14 2199.73,639.354 2199.97,649.767 2200.21,651.939 2200.45,645.797 2200.7,631.652 \n",
       "  2200.94,610.176 2201.18,582.365 2201.42,549.473 2201.67,512.94 2201.91,474.307 2202.15,435.129 2202.39,396.904 2202.63,360.996 2202.88,328.588 2203.12,300.643 \n",
       "  2203.36,277.878 2203.6,260.758 2203.85,249.501 2204.09,244.092 2204.33,244.308 2204.57,249.748 2204.81,259.865 2205.06,274.004 2205.3,291.447 2205.54,311.451 \n",
       "  2205.78,333.296 2206.03,356.332 2206.27,380.025 2206.51,404.004 2206.75,428.091 2206.99,452.331 2207.24,476.987 2207.48,502.517 2207.72,529.518 2207.96,558.638 \n",
       "  2208.21,590.462 2208.45,625.397 2208.69,663.557 2208.93,704.692 2209.17,748.166 2209.42,793.002 2209.66,837.988 2209.9,881.837 2210.14,923.34 2210.39,961.503 \n",
       "  2210.63,995.62 2210.87,1025.26 2211.11,1050.17 2211.35,1070.16 2211.6,1084.92 2211.84,1093.96 2212.08,1096.53 2212.32,1091.67 2212.57,1078.41 2212.81,1055.89 \n",
       "  2213.05,1023.59 2213.29,981.513 2213.53,930.249 2213.78,871.008 2214.02,805.531 2214.26,735.953 2214.5,664.61 2214.75,593.849 2214.99,525.852 2215.23,462.502 \n",
       "  2215.47,405.294 2215.72,355.301 2215.96,313.177 2216.2,279.19 2216.44,253.278 2216.68,235.11 2216.93,224.149 2217.17,219.753 2217.41,221.374 2217.65,228.829 \n",
       "  2217.9,241.985 2218.14,259.181 2218.38,276.43 2218.62,290.36 2218.86,301.443 2219.11,312.046 2219.35,322.773 2219.59,332.353 2219.83,339.393 2220.08,343.106 \n",
       "  2220.32,343.166 2220.56,339.51 2220.8,332.271 2221.04,321.744 2221.29,308.367 2221.53,292.678 2221.77,275.288 2222.01,256.831 2222.26,237.931 2222.5,219.167 \n",
       "  2222.74,201.046 2222.98,183.983 2223.22,168.297 2223.47,154.203 2223.71,141.824 2223.95,131.206 2224.19,122.33 2224.44,115.137 2224.68,109.546 2224.92,105.477 \n",
       "  2225.16,102.868 2225.4,101.69 2225.65,101.965 2225.89,103.767 2226.13,107.232 2226.37,112.559 2226.62,119.999 2226.86,129.846 2227.1,142.422 2227.34,158.044 \n",
       "  2227.58,177.003 2227.83,199.522 2228.07,225.718 2228.31,255.568 2228.55,288.868 2228.8,325.212 2229.04,363.971 2229.28,404.295 2229.52,445.129 2229.76,485.254 \n",
       "  2230.01,523.334 2230.25,557.994 2230.49,587.894 2230.73,611.819 2230.98,628.759 2231.22,637.979 2231.46,639.072 2231.7,631.99 2231.94,617.047 2232.19,594.893 \n",
       "  2232.43,566.472 2232.67,532.954 2232.91,495.651 2233.16,455.938 2233.4,415.168 2233.64,374.596 2233.88,335.326 2234.13,298.26 2234.37,264.085 2234.61,233.261 \n",
       "  2234.85,206.036 2235.09,182.468 2235.34,162.458 2235.58,145.787 2235.82,132.15 2236.06,121.196 2236.31,112.551 2236.55,105.845 2236.79,100.734 2237.03,96.9029 \n",
       "  2237.27,94.0803 2237.52,92.0357 2237.76,90.5801 2238,89.5628 2238.24,88.8664 2238.49,88.4023 2238.73,88.106 2238.97,87.9321 2239.21,87.8515 2239.45,87.8478 \n",
       "  2239.7,87.9156 2239.94,88.0591 2240.18,88.2914 2240.42,88.6342 2240.67,89.1179 2240.91,89.7813 2241.15,90.6721 2241.39,91.8458 2241.63,93.3648 2241.88,95.2961 \n",
       "  2242.12,97.7087 2242.36,100.669 2242.6,104.234 2242.85,108.449 2243.09,113.337 2243.33,118.894 2243.57,125.08 2243.81,131.82 2244.06,138.994 2244.3,146.445 \n",
       "  2244.54,153.976 2244.78,161.361 2245.03,168.354 2245.27,174.701 2245.51,180.16 2245.75,184.51 2245.99,187.571 2246.24,189.218 2246.48,189.388 2246.72,188.085 \n",
       "  2246.96,185.387 2247.21,181.438 2247.45,176.439 2247.69,170.642 2247.93,164.331 2248.17,157.815 2248.42,151.404 2248.66,145.407 2248.9,140.116 2249.14,135.801 \n",
       "  2249.39,132.705 2249.63,131.047 2249.87,131.023 2250.11,132.808 2250.36,136.565 2250.6,142.452 2250.84,150.626 2251.08,161.25 2251.32,174.496 2251.57,190.546 \n",
       "  2251.81,209.586 2252.05,231.801 2252.29,257.359 2252.54,286.39 2252.78,318.961 2253.02,355.046 2253.26,394.484 2253.5,436.951 2253.75,481.921 2253.99,528.651 \n",
       "  2254.23,576.18 2254.47,623.345 2254.72,668.832 2254.96,711.248 2255.2,749.208 2255.44,781.432 2255.68,806.834 2255.93,824.597 2256.17,834.221 2256.41,835.544 \n",
       "  2256.65,828.743 2256.9,814.315 2257.14,793.058 2257.38,766.047 2257.62,734.614 2257.86,700.326 2258.11,664.944 2258.35,630.374 2258.59,598.581 2258.83,571.477 \n",
       "  2259.08,550.786 2259.32,537.907 2259.56,533.778 2259.8,538.771 2260.04,552.636 2260.29,574.494 2260.53,602.89 2260.77,635.893 2261.01,671.242 2261.26,706.509 \n",
       "  2261.5,739.269 2261.74,767.275 2261.98,788.596 2262.22,801.74 2262.47,805.733 2262.71,800.163 2262.95,785.181 2263.19,761.457 2263.44,730.114 2263.68,692.613 \n",
       "  2263.92,650.636 2264.16,605.949 2264.4,560.27 2264.65,515.156 2264.89,471.914 2265.13,431.535 2265.37,394.677 2265.62,361.669 2265.86,332.549 2266.1,307.119 \n",
       "  2266.34,285.01 2266.58,265.752 2266.83,248.841 2267.07,233.785 2267.31,220.151 2267.55,207.581 2267.8,195.813 2268.04,184.672 2268.28,174.064 2268.52,163.963 \n",
       "  2268.77,154.387 2269.01,145.386 2269.25,137.021 2269.49,129.351 2269.73,122.423 2269.98,116.263 2270.22,110.876 2270.46,106.244 2270.7,102.327 2270.95,99.0725 \n",
       "  2271.19,96.4138 2271.43,94.2787 2271.67,92.5932 2271.91,91.2849 2272.16,90.2865 2272.4,89.5373 2272.64,88.9845 2272.88,88.5833 2273.13,88.2972 2273.37,88.0964 \n",
       "  2273.61,87.9581 2273.85,87.8644 2274.09,87.8021 2274.34,87.7616 2274.58,87.7359 2274.82,87.72 2275.06,87.7106 2275.31,87.7054 2275.55,87.7029 2275.79,87.702 \n",
       "  2276.03,87.7023 2276.27,87.7034 2276.52,87.7051 2276.76,87.7077 2277,87.7114 2277.24,87.7169 2277.49,87.7255 2277.73,87.7391 2277.97,87.7611 2278.21,87.7965 \n",
       "  2278.45,87.8534 2278.7,87.944 2278.94,88.0865 2279.18,88.3076 2279.42,88.6459 2279.67,89.1554 2279.91,89.9114 2280.15,91.0154 2280.39,92.6019 2280.63,94.8452 \n",
       "  2280.88,97.9659 2281.12,102.236 2281.36,107.982 2281.6,115.586 2281.85,125.477 2282.09,138.123 2282.33,154.01 2282.57,173.616 2282.81,197.376 2283.06,225.646 \n",
       "  2283.3,258.704 2283.54,296.97 2283.78,341.667 2284.03,395.179 2284.27,458.363 2284.51,526.335 2284.75,594.666 2284.99,675.349 2285.24,786.688 2285.48,906.813 \n",
       "  2285.72,971.378 2285.96,951.459 2286.21,890.361 2286.45,841.7 2286.69,817.292 2286.93,802.299 2287.18,783.68 2287.42,756.878 2287.66,721.781 2287.9,679.655 \n",
       "  2288.14,632.155 2288.39,581.06 2288.63,528.149 2288.87,475.097 2289.11,423.397 2289.36,374.296 2289.6,328.761 2289.84,287.464 2290.08,250.798 2290.32,218.896 \n",
       "  2290.57,191.679 2290.81,168.894 2291.05,150.171 2291.29,135.062 2291.54,123.083 2291.78,113.751 2292.02,106.606 2292.26,101.228 2292.5,97.2469 2292.75,94.3493 \n",
       "  2292.99,92.275 2293.23,90.8143 \n",
       "  \"/>\n",
       "<polyline clip-path=\"url(#clip502)\" style=\"stroke:#e26f46; stroke-linecap:butt; stroke-linejoin:round; stroke-width:4; stroke-opacity:1; fill:none\" points=\"\n",
       "  309.067,126.331 309.309,132.485 309.551,140.241 309.794,150.026 310.036,162.318 310.278,177.593 310.52,196.216 310.763,218.316 311.005,243.638 311.247,271.453 \n",
       "  311.489,300.541 311.732,329.31 311.974,356.03 312.216,379.134 312.458,397.51 312.701,410.693 312.943,418.889 313.185,422.841 313.427,423.574 313.669,422.114 \n",
       "  313.912,419.264 314.154,415.494 314.396,410.95 314.638,405.564 314.881,399.203 315.123,391.823 315.365,383.583 315.607,374.891 315.85,366.383 316.092,358.827 \n",
       "  316.334,352.953 316.576,349.25 316.819,347.758 317.061,347.938 317.303,348.666 317.545,348.4 317.787,345.504 318.03,338.646 318.272,327.164 318.514,311.283 \n",
       "  318.756,292.106 318.999,271.387 319.241,251.166 319.483,233.379 319.725,219.552 319.968,210.645 320.21,207.056 320.452,208.736 320.694,215.35 320.937,226.434 \n",
       "  321.179,241.506 321.421,260.12 321.663,281.877 321.906,306.412 322.148,333.359 322.39,362.334 322.632,392.92 322.874,424.665 323.117,457.098 323.359,489.752 \n",
       "  323.601,522.193 323.843,554.056 324.086,585.07 324.328,615.084 324.57,644.071 324.812,672.119 325.055,699.407 325.297,726.175 325.539,752.679 325.781,779.164 \n",
       "  326.024,805.83 326.266,832.806 326.508,860.126 326.75,887.702 326.992,915.292 327.235,942.473 327.477,968.629 327.719,992.967 327.961,1014.56 328.204,1032.42 \n",
       "  328.446,1045.61 328.688,1053.34 328.93,1055.04 329.173,1050.49 329.415,1039.79 329.657,1023.37 329.899,1001.98 330.142,976.583 330.384,948.255 330.626,918.086 \n",
       "  330.868,887.068 331.111,856.011 331.353,825.483 331.595,795.8 331.837,767.039 332.079,739.094 332.322,711.738 332.564,684.687 332.806,657.657 333.048,630.397 \n",
       "  333.291,602.712 333.533,574.474 333.775,545.629 334.017,516.2 334.26,486.288 334.502,456.071 334.744,425.798 334.986,395.77 335.229,366.323 335.471,337.801 \n",
       "  335.713,310.533 335.955,284.813 336.198,260.879 336.44,238.911 336.682,219.021 336.924,201.26 337.166,185.627 337.409,172.078 337.651,160.547 337.893,150.951 \n",
       "  338.135,143.208 338.378,137.234 338.62,132.934 338.862,130.186 339.104,128.811 339.347,128.553 339.589,129.073 339.831,129.959 340.073,130.775 340.316,131.122 \n",
       "  340.558,130.708 340.8,129.399 341.042,127.239 341.284,124.426 341.527,121.258 341.769,118.063 342.011,115.13 342.253,112.671 342.496,110.801 342.738,109.55 \n",
       "  342.98,108.894 343.222,108.781 343.465,109.163 343.707,110.013 343.949,111.338 344.191,113.178 344.434,115.614 344.676,118.759 344.918,122.762 345.16,127.804 \n",
       "  345.403,134.098 345.645,141.887 345.887,151.44 346.129,163.045 346.371,177 346.614,193.602 346.856,213.13 347.098,235.825 347.34,261.869 347.583,291.362 \n",
       "  347.825,324.296 348.067,360.536 348.309,399.798 348.552,441.641 348.794,485.456 349.036,530.475 349.278,575.787 349.521,620.359 349.763,663.08 350.005,702.801 \n",
       "  350.247,738.396 350.489,768.811 350.732,793.126 350.974,810.611 351.216,820.764 351.458,823.352 351.701,818.43 351.943,806.341 352.185,787.71 352.427,763.41 \n",
       "  352.67,734.525 352.912,702.29 353.154,668.035 353.396,633.114 353.639,598.841 353.881,566.427 354.123,536.922 354.365,511.176 354.608,489.798 354.85,473.144 \n",
       "  355.092,461.307 355.334,454.129 355.576,451.221 355.819,451.994 356.061,455.701 356.303,461.485 356.545,468.423 356.788,475.583 357.03,482.071 357.272,487.069 \n",
       "  357.514,489.88 357.757,489.95 357.999,486.89 358.241,480.486 358.483,470.697 358.726,457.645 358.968,441.598 359.21,422.942 359.452,402.157 359.695,379.779 \n",
       "  359.937,356.375 360.179,332.504 360.421,308.7 360.663,285.441 360.906,263.138 361.148,242.123 361.39,222.645 361.632,204.87 361.875,188.885 362.117,174.71 \n",
       "  362.359,162.306 362.601,151.587 362.844,142.434 363.086,134.704 363.328,128.245 363.57,122.898 363.813,118.51 364.055,114.937 364.297,112.045 364.539,109.718 \n",
       "  364.781,107.852 365.024,106.359 365.266,105.165 365.508,104.21 365.75,103.443 365.993,102.825 366.235,102.324 366.477,101.915 366.719,101.579 366.962,101.3 \n",
       "  367.204,101.066 367.446,100.869 367.688,100.701 367.931,100.557 368.173,100.433 368.415,100.326 368.657,100.233 368.9,100.151 369.142,100.08 369.384,100.018 \n",
       "  369.626,99.9628 369.868,99.9146 370.111,99.8724 370.353,99.8354 370.595,99.803 370.837,99.7748 371.08,99.7501 371.322,99.7289 371.564,99.7106 371.806,99.695 \n",
       "  372.049,99.682 372.291,99.6713 372.533,99.6629 372.775,99.6566 373.018,99.6525 373.26,99.6504 373.502,99.6506 373.744,99.653 373.986,99.6577 374.229,99.6651 \n",
       "  374.471,99.6752 374.713,99.6883 374.955,99.7048 375.198,99.725 375.44,99.7494 375.682,99.7785 375.924,99.813 376.167,99.8535 376.409,99.9011 376.651,99.9566 \n",
       "  376.893,100.021 377.136,100.097 377.378,100.186 377.62,100.29 377.862,100.412 378.105,100.557 378.347,100.73 378.589,100.938 378.831,101.188 379.073,101.492 \n",
       "  379.316,101.865 379.558,102.324 379.8,102.894 380.042,103.602 380.285,104.485 380.527,105.587 380.769,106.962 381.011,108.676 381.254,110.803 381.496,113.431 \n",
       "  381.738,116.659 381.98,120.597 382.223,125.365 382.465,131.085 382.707,137.883 382.949,145.882 383.192,155.191 383.434,165.904 383.676,178.084 383.918,191.761 \n",
       "  384.16,206.922 384.403,223.502 384.645,241.382 384.887,260.382 385.129,280.268 385.372,300.749 385.614,321.488 385.856,342.111 386.098,362.216 386.341,381.393 \n",
       "  386.583,399.232 386.825,415.344 387.067,429.367 387.31,440.985 387.552,449.932 387.794,456.006 388.036,459.067 388.278,459.049 388.521,455.955 388.763,449.862 \n",
       "  389.005,440.917 389.247,429.333 389.49,415.388 389.732,399.41 389.974,381.776 390.216,362.893 390.459,343.188 390.701,323.096 390.943,303.041 391.185,283.431 \n",
       "  391.428,264.642 391.67,247.012 391.912,230.84 392.154,216.384 392.397,203.864 392.639,193.469 392.881,185.368 393.123,179.719 393.365,176.68 393.608,176.419 \n",
       "  393.85,179.123 394.092,185 394.334,194.281 394.577,207.215 394.819,224.06 395.061,245.068 395.303,270.468 395.546,300.44 395.788,335.097 396.03,374.452 \n",
       "  396.272,418.391 396.515,466.643 396.757,518.749 396.999,574.022 397.241,631.528 397.483,690.062 397.726,748.17 397.968,804.189 398.21,856.342 398.452,902.856 \n",
       "  398.695,942.102 398.937,972.724 399.179,993.736 399.421,1004.57 399.664,1005.09 399.906,995.502 400.148,976.361 400.39,948.457 400.633,912.776 400.875,870.455 \n",
       "  401.117,822.742 401.359,770.962 401.602,716.472 401.844,660.618 402.086,604.682 402.328,549.838 402.57,497.115 402.813,447.369 403.055,401.276 403.297,359.344 \n",
       "  403.539,321.94 403.782,289.332 404.024,261.738 404.266,239.37 404.508,222.453 404.751,211.197 404.993,205.712 405.235,205.87 405.477,211.139 405.72,220.444 \n",
       "  405.962,232.127 406.204,244.066 406.446,253.947 406.689,259.674 406.931,259.778 407.173,253.725 407.415,242.012 407.657,226.013 407.9,207.643 408.142,188.926 \n",
       "  408.384,171.616 408.626,156.949 408.869,145.572 409.111,137.613 409.353,132.851 409.595,130.894 409.838,131.33 410.08,133.826 410.322,138.17 410.564,144.266 \n",
       "  410.807,152.114 411.049,161.774 411.291,173.337 411.533,186.888 411.775,202.489 412.018,220.152 412.26,239.828 412.502,261.388 412.744,284.616 412.987,309.202 \n",
       "  413.229,334.743 413.471,360.747 413.713,386.643 413.956,411.805 414.198,435.567 414.44,457.261 414.682,476.241 414.925,491.918 415.167,503.792 415.409,511.48 \n",
       "  415.651,514.739 415.894,513.478 416.136,507.767 416.378,497.838 416.62,484.067 416.862,466.963 417.105,447.141 417.347,425.293 417.589,402.159 417.831,378.498 \n",
       "  418.074,355.058 418.316,332.551 418.558,311.64 418.8,292.916 419.043,276.892 419.285,264.002 419.527,254.588 419.769,248.91 420.012,247.141 420.254,249.368 \n",
       "  420.496,255.592 420.738,265.727 420.98,279.592 421.223,296.916 421.465,317.329 421.707,340.361 421.949,365.45 422.192,391.94 422.434,419.103 422.676,446.147 \n",
       "  422.918,472.248 423.161,496.573 423.403,518.317 423.645,536.735 423.887,551.175 424.13,561.113 424.372,566.175 424.614,566.159 424.856,561.041 425.099,550.976 \n",
       "  425.341,536.291 425.583,517.458 425.825,495.074 426.067,469.824 426.31,442.448 426.552,413.7 426.794,384.319 427.036,354.992 427.279,326.335 427.521,298.869 \n",
       "  427.763,273.014 428.005,249.08 428.248,227.273 428.49,207.702 428.732,190.386 428.974,175.277 429.217,162.264 429.459,151.201 429.701,141.909 429.943,134.201 \n",
       "  430.186,127.883 430.428,122.77 430.67,118.688 430.912,115.48 431.154,113.009 431.397,111.163 431.639,109.846 431.881,108.989 432.123,108.542 432.366,108.477 \n",
       "  432.608,108.788 432.85,109.49 433.092,110.621 433.335,112.243 433.577,114.444 433.819,117.341 434.061,121.078 434.304,125.835 434.546,131.824 434.788,139.286 \n",
       "  435.03,148.495 435.272,159.75 435.515,173.365 435.757,189.661 435.999,208.946 436.241,231.502 436.484,257.559 436.726,287.27 436.968,320.688 437.21,357.742 \n",
       "  437.453,398.209 437.695,441.707 437.937,487.676 438.179,535.385 438.422,583.939 438.664,632.305 438.906,679.343 439.148,723.856 439.391,764.646 439.633,800.567 \n",
       "  439.875,830.598 440.117,853.896 440.359,869.851 440.602,878.126 440.844,878.685 441.086,871.795 441.328,858.016 441.571,838.167 441.813,813.278 442.055,784.523 \n",
       "  442.297,753.145 442.54,720.387 442.782,687.41 443.024,655.233 443.266,624.68 443.509,596.346 443.751,570.581 443.993,547.499 444.235,526.994 444.477,508.779 \n",
       "  444.72,492.433 444.962,477.451 445.204,463.297 445.446,449.454 445.689,435.461 445.931,420.949 446.173,405.657 446.415,389.443 446.658,372.281 446.9,354.254 \n",
       "  447.142,335.53 447.384,316.348 447.627,296.988 447.869,277.753 448.111,258.94 448.353,240.829 448.596,223.665 448.838,207.645 449.08,192.92 449.322,179.586 \n",
       "  449.564,167.693 449.807,157.246 450.049,148.213 450.291,140.534 450.533,134.133 450.776,128.92 451.018,124.811 451.26,121.734 451.502,119.647 451.745,118.557 \n",
       "  451.987,118.545 452.229,119.788 452.471,122.581 452.714,127.331 452.956,134.529 453.198,144.654 453.44,158.047 453.682,174.734 453.925,194.273 454.167,215.671 \n",
       "  454.409,237.424 454.651,257.723 454.894,274.784 455.136,287.235 455.378,294.43 455.62,296.609 455.863,294.827 456.105,290.694 456.347,286.002 456.589,282.357 \n",
       "  456.832,280.922 457.074,282.304 457.316,286.599 457.558,293.533 457.801,302.637 458.043,313.408 458.285,325.417 458.527,338.369 458.769,352.108 459.012,366.598 \n",
       "  459.254,381.887 459.496,398.064 459.738,415.22 459.981,433.414 460.223,452.639 460.465,472.802 460.707,493.702 460.95,515.028 461.192,536.356 461.434,557.157 \n",
       "  461.676,576.823 461.919,594.689 462.161,610.07 462.403,622.303 462.645,630.781 462.888,634.998 463.13,634.579 463.372,629.307 463.614,619.139 463.856,604.214 \n",
       "  464.099,584.842 464.341,561.491 464.583,534.759 464.825,505.339 465.068,473.987 465.31,441.475 465.552,408.561 465.794,375.95 466.037,344.273 466.279,314.058 \n",
       "  466.521,285.729 466.763,259.591 467.006,235.842 467.248,214.571 467.49,195.783 467.732,179.401 467.974,165.295 468.217,153.29 468.459,143.185 468.701,134.765 \n",
       "  468.943,127.814 469.186,122.126 469.428,117.505 469.67,113.774 469.912,110.778 470.155,108.381 470.397,106.467 470.639,104.94 470.881,103.722 471.124,102.748 \n",
       "  471.366,101.966 471.608,101.337 471.85,100.829 472.093,100.417 472.335,100.082 472.577,99.8098 472.819,99.5901 473.061,99.4147 473.304,99.2779 473.546,99.1757 \n",
       "  473.788,99.1058 474.03,99.0666 474.273,99.058 474.515,99.0804 474.757,99.1354 474.999,99.2257 475.242,99.3556 475.484,99.5324 475.726,99.7685 475.968,100.085 \n",
       "  476.211,100.515 476.453,101.115 476.695,101.961 476.937,103.16 477.179,104.838 477.422,107.126 477.664,110.13 477.906,113.889 478.148,118.337 478.391,123.274 \n",
       "  478.633,128.367 478.875,133.194 479.117,137.321 479.36,140.405 479.602,142.286 479.844,143.046 480.086,143.017 480.329,142.73 480.571,142.827 480.813,143.969 \n",
       "  481.055,146.756 481.298,151.682 481.54,159.134 481.782,169.414 482.024,182.77 482.266,199.427 482.509,219.604 482.751,243.518 482.993,271.36 483.235,303.283 \n",
       "  483.478,339.365 483.72,379.594 483.962,423.837 484.204,471.838 484.447,523.211 484.689,577.447 484.931,633.93 485.173,691.965 485.416,750.796 485.658,809.64 \n",
       "  485.9,867.707 486.142,924.216 486.385,978.406 486.627,1029.53 486.869,1076.88 487.111,1119.71 487.353,1157.33 487.596,1189.04 487.838,1214.17 488.08,1232.11 \n",
       "  488.322,1242.37 488.565,1244.58 488.807,1238.58 489.049,1224.43 489.291,1202.43 489.534,1173.12 489.776,1137.26 490.018,1095.77 490.26,1049.68 490.503,1000.07 \n",
       "  490.745,948.012 490.987,894.496 491.229,840.406 491.471,786.499 491.714,733.397 491.956,681.596 492.198,631.484 492.44,583.366 492.683,537.483 492.925,494.032 \n",
       "  493.167,453.183 493.409,415.09 493.652,379.889 493.894,347.707 494.136,318.661 494.378,292.856 494.621,270.389 494.863,251.351 495.105,235.835 495.347,223.942 \n",
       "  495.59,215.786 495.832,211.509 496.074,211.279 496.316,215.297 496.558,223.795 496.801,237.029 497.043,255.266 497.285,278.766 497.527,307.753 497.77,342.39 \n",
       "  498.012,382.738 498.254,428.727 498.496,480.114 498.739,536.456 498.981,597.087 499.223,661.104 499.465,727.368 499.708,794.521 499.95,861.019 500.192,925.184 \n",
       "  500.434,985.263 500.676,1039.51 500.919,1086.26 501.161,1124.02 501.403,1151.55 501.645,1167.9 501.888,1172.53 502.13,1165.25 502.372,1146.32 502.614,1116.38 \n",
       "  502.857,1076.4 503.099,1027.71 503.341,971.807 503.583,910.383 503.826,845.176 504.068,777.913 504.31,710.23 504.552,643.609 504.795,579.334 505.037,518.456 \n",
       "  505.279,461.781 505.521,409.87 505.763,363.055 506.006,321.466 506.248,285.07 506.49,253.703 506.732,227.12 506.975,205.025 507.217,187.102 507.459,173.02 \n",
       "  507.701,162.429 507.944,154.934 508.186,150.069 508.428,147.271 508.67,145.887 508.913,145.207 509.155,144.542 509.397,143.313 509.639,141.137 509.882,137.878 \n",
       "  510.124,133.649 510.366,128.753 510.608,123.595 510.85,118.584 511.093,114.045 511.335,110.185 511.577,107.074 511.819,104.68 512.062,102.9 512.304,101.608 \n",
       "  512.546,100.674 512.788,99.9937 513.031,99.4852 513.273,99.0928 513.515,98.78 513.757,98.5243 514,98.3118 514.242,98.1337 514.484,97.9841 514.726,97.8589 \n",
       "  514.968,97.7546 515.211,97.6685 515.453,97.5981 515.695,97.5416 515.937,97.4972 516.18,97.4637 516.422,97.44 516.664,97.4253 516.906,97.4191 517.149,97.4211 \n",
       "  517.391,97.4312 517.633,97.4495 517.875,97.4764 518.118,97.5126 518.36,97.5591 518.602,97.6174 518.844,97.6894 519.087,97.7775 519.329,97.8849 519.571,98.0153 \n",
       "  519.813,98.1734 520.055,98.3647 520.298,98.5959 520.54,98.8755 520.782,99.2154 521.024,99.6333 521.267,100.158 521.509,100.839 521.751,101.758 521.993,103.047 \n",
       "  522.236,104.903 522.478,107.603 522.72,111.494 522.962,116.959 523.205,124.341 523.447,133.835 523.689,145.365 523.931,158.47 524.173,172.28 524.416,185.578 \n",
       "  524.658,196.993 524.9,205.273 525.142,209.575 525.385,209.681 525.627,206.068 525.869,199.813 526.111,192.357 526.354,185.213 526.596,179.692 526.838,176.73 \n",
       "  527.08,176.823 527.323,180.075 527.565,186.303 527.807,195.159 528.049,206.236 528.292,219.135 528.534,233.5 528.776,249.028 529.018,265.461 529.26,282.582 \n",
       "  529.503,300.21 529.745,318.2 529.987,336.442 530.229,354.871 530.472,373.471 530.714,392.267 530.956,411.327 531.198,430.75 531.441,450.645 531.683,471.115 \n",
       "  531.925,492.231 532.167,514.008 532.41,536.391 532.652,559.232 532.894,582.295 533.136,605.255 533.379,627.717 533.621,649.241 533.863,669.374 534.105,687.684 \n",
       "  534.347,703.798 534.59,717.429 534.832,728.392 535.074,736.615 535.316,742.133 535.559,745.07 535.801,745.616 536.043,743.996 536.285,740.445 536.528,735.184 \n",
       "  536.77,728.408 537.012,720.285 537.254,710.973 537.497,700.638 537.739,689.486 537.981,677.796 538.223,665.949 538.465,654.448 538.708,643.924 538.95,635.131 \n",
       "  539.192,628.918 539.434,626.185 539.677,627.829 539.919,634.677 540.161,647.41 540.403,666.502 540.646,692.148 540.888,724.225 541.13,762.259 541.372,805.42 \n",
       "  541.615,852.548 541.857,902.197 542.099,952.708 542.341,1002.31 542.584,1049.21 542.826,1091.76 543.068,1128.5 543.31,1158.34 543.552,1180.59 543.795,1195.06 \n",
       "  544.037,1202.03 544.279,1202.28 544.521,1196.96 544.764,1187.54 545.006,1175.65 545.248,1162.94 545.49,1150.91 545.733,1140.82 545.975,1133.55 546.217,1129.57 \n",
       "  546.459,1128.92 546.702,1131.25 546.944,1135.89 547.186,1141.97 547.428,1148.46 547.67,1154.34 547.913,1158.67 548.155,1160.58 548.397,1159.4 548.639,1154.58 \n",
       "  548.882,1145.75 549.124,1132.67 549.366,1115.23 549.608,1093.43 549.851,1067.38 550.093,1037.32 550.335,1003.6 550.577,966.685 550.82,927.178 551.062,885.792 \n",
       "  551.304,843.348 551.546,800.756 551.789,758.988 552.031,719.053 552.273,681.964 552.515,648.699 552.757,620.173 553,597.188 553.242,580.403 553.484,570.293 \n",
       "  553.726,567.118 553.969,570.903 554.211,581.423 554.453,598.202 554.695,620.526 554.938,647.458 555.18,677.867 555.422,710.461 555.664,743.836 555.907,776.529 \n",
       "  556.149,807.082 556.391,834.121 556.633,856.433 556.876,873.039 557.118,883.249 557.36,886.687 557.602,883.281 557.844,873.202 558.087,856.781 558.329,834.408 \n",
       "  558.571,806.455 558.813,773.247 559.056,735.099 559.298,692.413 559.54,645.789 559.782,596.115 560.025,544.59 560.267,492.648 560.509,441.815 560.751,393.522 \n",
       "  560.994,348.939 561.236,308.866 561.478,273.702 561.72,243.486 561.962,217.982 562.205,196.779 562.447,179.386 562.689,165.298 562.931,154.038 563.174,145.175 \n",
       "  563.416,138.334 563.658,133.186 563.9,129.447 564.143,126.871 564.385,125.243 564.627,124.375 564.869,124.102 565.112,124.279 565.354,124.779 565.596,125.489 \n",
       "  565.838,126.313 566.081,127.167 566.323,127.986 566.565,128.724 566.807,129.355 567.049,129.891 567.292,130.381 567.534,130.927 567.776,131.69 568.018,132.884 \n",
       "  568.261,134.762 568.503,137.572 568.745,141.495 568.987,146.57 569.23,152.627 569.472,159.258 569.714,165.844 569.956,171.651 570.199,175.983 570.441,178.347 \n",
       "  570.683,178.586 570.925,176.934 571.167,173.971 571.41,170.5 571.652,167.377 571.894,165.349 572.136,164.941 572.379,166.418 572.621,169.793 572.863,174.897 \n",
       "  573.105,181.443 573.348,189.098 573.59,197.52 573.832,206.389 574.074,215.415 574.317,224.332 574.559,232.905 574.801,240.919 575.043,248.189 575.286,254.555 \n",
       "  575.528,259.89 575.77,264.094 576.012,267.096 576.254,268.837 576.497,269.267 576.739,268.332 576.981,265.971 577.223,262.132 577.466,256.783 577.708,249.946 \n",
       "  577.95,241.715 578.192,232.274 578.435,221.891 578.677,210.894 578.919,199.636 579.161,188.458 579.404,177.653 579.646,167.449 579.888,157.999 580.13,149.389 \n",
       "  580.372,141.652 580.615,134.781 580.857,128.744 581.099,123.495 581.341,118.977 581.584,115.13 581.826,111.891 582.068,109.199 582.31,106.992 582.553,105.215 \n",
       "  582.795,103.814 583.037,102.746 583.279,101.973 583.522,101.466 583.764,101.204 584.006,101.177 584.248,101.384 584.491,101.832 584.733,102.538 584.975,103.528 \n",
       "  585.217,104.832 585.459,106.49 585.702,108.545 585.944,111.042 586.186,114.026 586.428,117.538 586.671,121.614 586.913,126.277 587.155,131.538 587.397,137.387 \n",
       "  587.64,143.797 587.882,150.714 588.124,158.063 588.366,165.744 588.609,173.636 588.851,181.604 589.093,189.498 589.335,197.171 589.578,204.477 589.82,211.29 \n",
       "  590.062,217.507 590.304,223.062 590.546,227.928 590.789,232.126 591.031,235.724 591.273,238.837 591.515,241.622 591.758,244.268 592,246.985 592.242,249.992 \n",
       "  592.484,253.505 592.727,257.721 592.969,262.814 593.211,268.929 593.453,276.181 593.696,284.671 593.938,294.49 594.18,305.735 594.422,318.512 594.664,332.922 \n",
       "  594.907,349.041 595.149,366.87 595.391,386.305 595.633,407.108 595.876,428.928 596.118,451.368 596.36,474.093 596.602,496.945 596.845,520.039 597.087,543.786 \n",
       "  597.329,568.831 597.571,595.923 597.814,625.738 598.056,658.711 598.298,694.918 598.54,734.033 598.783,775.36 599.025,817.925 599.267,860.6 599.509,902.238 \n",
       "  599.751,941.795 599.994,978.426 600.236,1011.55 600.478,1040.89 600.72,1066.45 600.963,1088.52 601.205,1107.55 601.447,1124.12 601.689,1138.84 601.932,1152.22 \n",
       "  602.174,1164.65 602.416,1176.32 602.658,1187.23 602.901,1197.24 603.143,1206.07 603.385,1213.45 603.627,1219.14 603.869,1223.02 604.112,1225.09 604.354,1225.51 \n",
       "  604.596,1224.53 604.838,1222.44 605.081,1219.46 605.323,1215.69 605.565,1211.05 605.807,1205.23 606.05,1197.73 606.292,1187.88 606.534,1174.97 606.776,1158.28 \n",
       "  607.019,1137.24 607.261,1111.47 607.503,1080.86 607.745,1045.6 607.988,1006.12 608.23,963.098 608.472,917.376 608.714,869.865 608.956,821.484 609.199,773.086 \n",
       "  609.441,725.404 609.683,679.022 609.925,634.365 610.168,591.702 610.41,551.172 610.652,512.812 610.894,476.591 611.137,442.44 611.379,410.277 611.621,380.029 \n",
       "  611.863,351.643 612.106,325.09 612.348,300.367 612.59,277.488 612.832,256.483 613.075,237.386 613.317,220.233 613.559,205.057 613.801,191.882 614.043,180.73 \n",
       "  614.286,171.62 614.528,164.572 614.77,159.613 615.012,156.783 615.255,156.141 615.497,157.765 615.739,161.759 615.981,168.249 616.224,177.381 616.466,189.314 \n",
       "  616.708,204.211 616.95,222.228 617.193,243.499 617.435,268.123 617.677,296.149 617.919,327.563 618.161,362.275 618.404,400.117 618.646,440.837 618.888,484.097 \n",
       "  619.13,529.485 619.373,576.513 619.615,624.634 619.857,673.244 620.099,721.694 620.342,769.292 620.584,815.311 620.826,858.991 621.068,899.543 621.311,936.165 \n",
       "  621.553,968.048 621.795,994.411 622.037,1014.52 622.28,1027.76 622.522,1033.63 622.764,1031.86 623.006,1022.4 623.248,1005.48 623.491,981.651 623.733,951.77 \n",
       "  623.975,916.986 624.217,878.706 624.46,838.534 624.702,798.196 624.944,759.456 625.186,724.017 625.429,693.437 625.671,669.04 625.913,651.849 626.155,642.53 \n",
       "  626.398,641.359 626.64,648.207 626.882,662.552 627.124,683.5 627.366,709.84 627.609,740.097 627.851,772.61 628.093,805.61 628.335,837.31 628.578,865.984 \n",
       "  628.82,890.049 629.062,908.141 629.304,919.168 629.547,922.356 629.789,917.278 630.031,903.857 630.273,882.359 630.516,853.362 630.758,817.71 631,776.462 \n",
       "  631.242,730.826 631.485,682.093 631.727,631.567 631.969,580.513 632.211,530.099 632.453,481.36 632.696,435.174 632.938,392.253 633.18,353.148 633.422,318.268 \n",
       "  633.665,287.902 633.907,262.245 634.149,241.4 634.391,225.367 634.634,214.005 634.876,206.964 635.118,203.637 635.36,203.126 635.603,204.281 635.845,205.813 \n",
       "  636.087,206.47 636.329,205.243 636.572,201.54 636.814,195.271 637.056,186.825 637.298,176.935 637.54,166.485 637.783,156.315 638.025,147.07 638.267,139.137 \n",
       "  638.509,132.646 638.752,127.539 638.994,123.646 639.236,120.768 639.478,118.727 639.721,117.4 639.963,116.721 640.205,116.681 640.447,117.314 640.69,118.689 \n",
       "  640.932,120.896 641.174,124.046 641.416,128.266 641.658,133.7 641.901,140.513 642.143,148.892 642.385,159.047 642.627,171.209 642.87,185.604 643.112,202.416 \n",
       "  643.354,221.726 643.596,243.434 643.839,267.183 644.081,292.314 644.323,317.869 644.565,342.673 644.808,365.478 645.05,385.146 645.292,400.824 645.534,412.052 \n",
       "  645.777,418.787 646.019,421.333 646.261,420.202 646.503,415.969 646.745,409.148 646.988,400.127 647.23,389.172 647.472,376.459 647.714,362.141 647.957,346.394 \n",
       "  648.199,329.452 648.441,311.611 648.683,293.221 648.926,274.659 649.168,256.303 649.41,238.504 649.652,221.572 649.895,205.762 650.137,191.268 650.379,178.225 \n",
       "  650.621,166.713 650.863,156.768 651.106,148.39 651.348,141.556 651.59,136.234 651.832,132.391 652.075,130.009 652.317,129.093 652.559,129.679 652.801,131.843 \n",
       "  653.044,135.704 653.286,141.427 653.528,149.225 653.77,159.35 654.013,172.091 654.255,187.761 654.497,206.68 654.739,229.161 654.982,255.476 655.224,285.842 \n",
       "  655.466,320.383 655.708,359.105 655.95,401.867 656.193,448.362 656.435,498.094 656.677,550.377 656.919,604.338 657.162,658.933 657.404,712.979 657.646,765.203 \n",
       "  657.888,814.299 658.131,858.999 658.373,898.155 658.615,930.816 658.857,956.313 659.1,974.319 659.342,984.9 659.584,988.52 659.826,986.011 660.069,978.498 \n",
       "  660.311,967.281 660.553,953.712 660.795,939.071 661.037,924.489 661.28,910.919 661.522,899.157 661.764,889.889 662.006,883.722 662.249,881.18 662.491,882.639 \n",
       "  662.733,888.234 662.975,897.758 663.218,910.599 663.46,925.752 663.702,941.898 663.944,957.545 664.187,971.204 664.429,981.553 664.671,987.582 664.913,988.682 \n",
       "  665.155,984.692 665.398,975.893 665.64,962.963 665.882,946.901 666.124,928.92 666.367,910.336 666.609,892.445 666.851,876.407 667.093,863.143 667.336,853.259 \n",
       "  667.578,846.993 667.82,844.2 668.062,844.369 668.305,846.673 668.547,850.04 668.789,853.247 669.031,855.02 669.274,854.138 669.516,849.518 669.758,840.296 \n",
       "  670,825.875 670.242,805.96 670.485,780.562 670.727,749.977 670.969,714.757 671.211,675.657 671.454,633.577 671.696,589.5 671.938,544.433 672.18,499.352 \n",
       "  672.423,455.152 672.665,412.618 672.907,372.393 673.149,334.974 673.392,300.701 673.634,269.77 673.876,242.244 674.118,218.072 674.36,197.115 674.603,179.161 \n",
       "  674.845,163.952 675.087,151.205 675.329,140.625 675.572,131.921 675.814,124.816 676.056,119.056 676.298,114.413 676.541,110.685 676.783,107.701 677.025,105.314 \n",
       "  677.267,103.404 677.51,101.873 677.752,100.641 677.994,99.6438 678.236,98.8318 678.479,98.1656 678.721,97.6146 678.963,97.1552 679.205,96.769 679.447,96.4419 \n",
       "  679.69,96.1629 679.932,95.9235 680.174,95.717 680.416,95.5382 680.659,95.3828 680.901,95.2474 681.143,95.1293 681.385,95.0261 681.628,94.9358 681.87,94.8569 \n",
       "  682.112,94.7879 682.354,94.7276 682.597,94.6749 682.839,94.6289 683.081,94.5888 683.323,94.5538 683.565,94.5233 683.808,94.4968 684.05,94.4736 684.292,94.4535 \n",
       "  684.534,94.436 684.777,94.4208 685.019,94.4075 685.261,94.396 685.503,94.386 685.746,94.3773 685.988,94.3699 686.23,94.3636 686.472,94.3582 686.715,94.3539 \n",
       "  686.957,94.3505 687.199,94.3481 687.441,94.3467 687.684,94.3463 687.926,94.347 688.168,94.349 688.41,94.3524 688.652,94.3573 688.895,94.3641 689.137,94.3729 \n",
       "  689.379,94.3841 689.621,94.398 689.864,94.4149 690.106,94.4354 690.348,94.46 690.59,94.4891 690.833,94.5235 691.075,94.5639 691.317,94.6111 691.559,94.6661 \n",
       "  691.802,94.7298 692.044,94.8036 692.286,94.8889 692.528,94.9872 692.771,95.1007 693.013,95.2315 693.255,95.3827 693.497,95.5577 693.739,95.7609 693.982,95.9979 \n",
       "  694.224,96.2758 694.466,96.6037 694.708,96.9933 694.951,97.4599 695.193,98.0234 695.435,98.7095 695.677,99.5514 695.92,100.592 696.162,101.885 696.404,103.5 \n",
       "  696.646,105.523 696.889,108.058 697.131,111.236 697.373,115.211 697.615,120.163 697.857,126.302 698.1,133.864 698.342,143.11 698.584,154.318 698.826,167.775 \n",
       "  699.069,183.768 699.311,202.562 699.553,224.39 699.795,249.424 700.038,277.758 700.28,309.38 700.522,344.156 700.764,381.811 701.007,421.912 701.249,463.871 \n",
       "  701.491,506.942 701.733,550.24 701.976,592.768 702.218,633.444 702.46,671.155 702.702,704.801 702.944,733.35 703.187,755.892 703.429,771.685 703.671,780.203 \n",
       "  703.913,781.159 704.156,774.523 704.398,760.528 704.64,739.654 704.882,712.6 705.125,680.246 705.367,643.607 705.609,603.78 705.851,561.891 706.094,519.044 \n",
       "  706.336,476.28 706.578,434.546 706.82,394.675 707.062,357.389 707.305,323.306 707.547,292.969 707.789,266.868 708.031,245.451 708.274,229.1 708.516,218.07 \n",
       "  708.758,212.376 709,211.658 709.243,215.072 709.485,221.25 709.727,228.392 709.969,234.496 710.212,237.697 710.454,236.626 710.696,230.686 710.938,220.156 \n",
       "  711.181,206.084 711.423,190.013 711.665,173.621 711.907,158.389 712.149,145.378 712.392,135.155 712.634,127.838 712.876,123.233 713.118,120.984 713.361,120.708 \n",
       "  713.603,122.076 713.845,124.855 714.087,128.912 714.33,134.193 714.572,140.7 714.814,148.466 715.056,157.536 715.299,167.949 715.541,179.733 715.783,192.893 \n",
       "  716.025,207.414 716.268,223.258 716.51,240.37 716.752,258.682 716.994,278.121 717.236,298.622 717.479,320.134 717.721,342.635 717.963,366.137 718.205,390.692 \n",
       "  718.448,416.388 718.69,443.346 718.932,471.697 719.174,501.567 719.417,533.041 719.659,566.132 719.901,600.75 720.143,636.662 720.386,673.476 720.628,710.622 \n",
       "  720.87,747.358 721.112,782.782 721.354,815.872 721.597,845.532 721.839,870.655 722.081,890.191 722.323,903.216 722.566,908.994 722.808,907.033 723.05,897.119 \n",
       "  723.292,879.335 723.535,854.055 723.777,821.931 724.019,783.842 724.261,740.853 724.504,694.146 724.746,644.96 724.988,594.528 725.23,544.019 725.473,494.493 \n",
       "  725.715,446.863 725.957,401.871 726.199,360.081 726.441,321.875 726.684,287.468 726.926,256.924 727.168,230.176 727.41,207.059 727.653,187.33 727.895,170.697 \n",
       "  728.137,156.84 728.379,145.433 728.622,136.158 728.864,128.718 729.106,122.845 729.348,118.304 729.591,114.902 729.833,112.479 730.075,110.915 730.317,110.126 \n",
       "  730.559,110.057 730.802,110.686 731.044,112.012 731.286,114.057 731.528,116.857 731.771,120.46 732.013,124.915 732.255,130.272 732.497,136.568 732.74,143.827 \n",
       "  732.982,152.047 733.224,161.195 733.466,171.202 733.709,181.959 733.951,193.312 734.193,205.067 734.435,216.987 734.678,228.802 734.92,240.216 735.162,250.921 \n",
       "  735.404,260.606 735.646,268.975 735.889,275.762 736.131,280.742 736.373,283.747 736.615,284.673 736.858,283.486 737.1,280.227 737.342,275.004 737.584,267.992 \n",
       "  737.827,259.417 738.069,249.55 738.311,238.686 738.553,227.136 738.796,215.206 739.038,203.188 739.28,191.348 739.522,179.915 739.765,169.079 740.007,158.984 \n",
       "  740.249,149.732 740.491,141.384 740.733,133.962 740.976,127.456 741.218,121.832 741.46,117.035 741.702,112.998 741.945,109.647 742.187,106.903 742.429,104.693 \n",
       "  742.671,102.944 742.914,101.594 743.156,100.587 743.398,99.8801 743.64,99.4382 743.883,99.2388 744.125,99.2708 744.367,99.5351 744.609,100.045 744.851,100.828 \n",
       "  745.094,101.925 745.336,103.391 745.578,105.3 745.82,107.741 746.063,110.819 746.305,114.656 746.547,119.391 746.789,125.174 747.032,132.162 747.274,140.516 \n",
       "  747.516,150.389 747.758,161.92 748.001,175.222 748.243,190.367 748.485,207.377 748.727,226.208 748.97,246.744 749.212,268.787 749.454,292.051 749.696,316.164 \n",
       "  749.938,340.678 750.181,365.075 750.423,388.791 750.665,411.239 750.907,431.833 751.15,450.026 751.392,465.34 751.634,477.399 751.876,485.954 752.119,490.917 \n",
       "  752.361,492.37 752.603,490.579 752.845,485.997 753.088,479.257 753.33,471.154 753.572,462.619 753.814,454.692 754.056,448.479 754.299,445.104 754.541,445.665 \n",
       "  754.783,451.174 755.025,462.505 755.268,480.339 755.51,505.115 755.752,536.983 755.994,575.778 756.237,621.001 756.479,671.829 756.721,727.143 756.963,785.579 \n",
       "  757.206,845.608 757.448,905.63 757.69,964.077 757.932,1019.52 758.175,1070.75 758.417,1116.87 758.659,1157.28 758.901,1191.74 759.143,1220.23 759.386,1242.97 \n",
       "  759.628,1260.24 759.87,1272.31 760.112,1279.34 760.355,1281.31 760.597,1278.02 760.839,1269.06 761.081,1253.93 761.324,1232.09 761.566,1203.09 761.808,1166.65 \n",
       "  762.05,1122.8 762.293,1071.87 762.535,1014.58 762.777,951.942 763.019,885.255 763.262,815.994 763.504,745.717 763.746,675.955 763.988,608.13 764.23,543.469 \n",
       "  764.473,482.963 764.715,427.336 764.957,377.044 765.199,332.293 765.442,293.07 765.684,259.183 765.926,230.308 766.168,206.032 766.411,185.888 766.653,169.399 \n",
       "  766.895,156.095 767.137,145.544 767.38,137.358 767.622,131.208 767.864,126.824 768.106,124.001 768.348,122.595 768.591,122.521 768.833,123.748 769.075,126.295 \n",
       "  769.317,130.221 769.56,135.623 769.802,142.623 770.044,151.358 770.286,161.97 770.529,174.589 770.771,189.322 771.013,206.234 771.255,225.335 771.498,246.563 \n",
       "  771.74,269.769 771.982,294.712 772.224,321.049 772.467,348.336 772.709,376.035 772.951,403.53 773.193,430.139 773.435,455.151 773.678,477.846 773.92,497.537 \n",
       "  774.162,513.599 774.404,525.507 774.647,532.858 774.889,535.401 775.131,533.046 775.373,525.872 775.616,514.12 775.858,498.182 776.1,478.576 776.342,455.919 \n",
       "  776.585,430.895 776.827,404.219 777.069,376.603 777.311,348.725 777.553,321.206 777.796,294.584 778.038,269.303 778.28,245.705 778.522,224.034 778.765,204.432 \n",
       "  779.007,186.957 779.249,171.591 779.491,158.252 779.734,146.815 779.976,137.122 780.218,128.995 780.46,122.25 780.703,116.702 780.945,112.175 781.187,108.509 \n",
       "  781.429,105.556 781.672,103.189 781.914,101.296 782.156,99.7858 782.398,98.5798 782.64,97.6148 782.883,96.8399 783.125,96.2143 783.367,95.7059 783.609,95.2894 \n",
       "  783.852,94.9455 784.094,94.6591 784.336,94.4185 784.578,94.2147 784.821,94.041 785.063,93.8919 785.305,93.7633 785.547,93.652 785.79,93.5553 786.032,93.4713 \n",
       "  786.274,93.3983 786.516,93.3349 786.759,93.28 787.001,93.2327 787.243,93.1922 787.485,93.158 787.727,93.1293 787.97,93.106 788.212,93.0876 788.454,93.0738 \n",
       "  788.696,93.0646 788.939,93.0599 789.181,93.0595 789.423,93.0636 789.665,93.0724 789.908,93.0859 790.15,93.1046 790.392,93.1288 790.634,93.159 790.877,93.1957 \n",
       "  791.119,93.2396 791.361,93.2916 791.603,93.3526 791.845,93.4238 792.088,93.5066 792.33,93.6028 792.572,93.7143 792.814,93.8437 793.057,93.9944 793.299,94.1704 \n",
       "  793.541,94.377 793.783,94.6207 794.026,94.9105 794.268,95.2575 794.51,95.6764 794.752,96.1863 794.995,96.8117 795.237,97.5843 795.479,98.5444 795.721,99.743 \n",
       "  795.964,101.244 796.206,103.126 796.448,105.484 796.69,108.435 796.932,112.113 797.175,116.675 797.417,122.298 797.659,129.178 797.901,137.525 798.144,147.555 \n",
       "  798.386,159.487 798.628,173.523 798.87,189.843 799.113,208.581 799.355,229.814 799.597,253.542 799.839,279.673 800.082,308.007 800.324,338.229 800.566,369.904 \n",
       "  800.808,402.478 801.05,435.292 801.293,467.598 801.535,498.588 801.777,527.422 802.019,553.274 802.262,575.366 802.504,593.01 802.746,605.646 802.988,612.866 \n",
       "  803.231,614.438 803.473,610.316 803.715,600.637 803.957,585.713 804.2,566.019 804.442,542.168 804.684,514.887 804.926,484.984 805.169,453.313 805.411,420.737 \n",
       "  805.653,388.083 805.895,356.111 806.137,325.481 806.38,296.735 806.622,270.288 806.864,246.433 807.106,225.353 807.349,207.133 807.591,191.791 807.833,179.29 \n",
       "  808.075,169.567 808.318,162.545 808.56,158.154 808.802,156.343 809.044,157.088 809.287,160.402 809.529,166.336 809.771,174.98 810.013,186.46 810.255,200.934 \n",
       "  810.498,218.58 810.74,239.59 810.982,264.155 811.224,292.451 811.467,324.626 811.709,360.785 811.951,400.969 812.193,445.143 812.436,493.176 812.678,544.827 \n",
       "  812.92,599.726 813.162,657.364 813.405,717.084 813.647,778.078 813.889,839.401 814.131,899.985 814.374,958.678 814.616,1014.29 814.858,1065.66 815.1,1111.7 \n",
       "  815.342,1151.5 815.585,1184.35 815.827,1209.82 816.069,1227.73 816.311,1238.21 816.554,1241.59 816.796,1238.39 817.038,1229.23 817.28,1214.73 817.523,1195.47 \n",
       "  817.765,1171.91 818.007,1144.38 818.249,1113.06 818.492,1078.05 818.734,1039.38 818.976,997.116 819.218,951.377 819.461,902.416 819.703,850.645 819.945,796.644 \n",
       "  820.187,741.154 820.429,685.052 820.672,629.318 820.914,574.997 821.156,523.173 821.398,474.936 821.641,431.34 821.883,393.349 822.125,361.735 822.367,336.953 \n",
       "  822.61,318.986 822.852,307.22 823.094,300.399 823.336,296.706 823.579,294.007 823.821,290.207 824.063,283.637 824.305,273.368 824.547,259.339 824.79,242.277 \n",
       "  825.032,223.427 825.274,204.198 825.516,185.844 825.759,169.244 826.001,154.851 826.243,142.743 826.485,132.758 826.728,124.62 826.97,118.041 827.212,112.765 \n",
       "  827.454,108.579 827.697,105.308 827.939,102.794 828.181,100.895 828.423,99.4856 828.666,98.4544 828.908,97.7123 829.15,97.1913 829.392,96.8437 829.634,96.6388 \n",
       "  829.877,96.5593 830.119,96.5985 830.361,96.7586 830.603,97.0512 830.846,97.5008 831.088,98.1514 831.33,99.0787 831.572,100.406 831.815,102.323 832.057,105.106 \n",
       "  832.299,109.129 832.541,114.853 832.784,122.798 833.026,133.472 833.268,147.277 833.51,164.393 833.752,184.656 833.995,207.47 834.237,231.757 834.479,255.981 \n",
       "  834.721,278.252 834.964,296.525 835.206,308.875 835.448,313.813 835.69,310.576 835.933,299.33 836.175,281.189 836.417,258.046 836.659,232.245 836.902,206.163 \n",
       "  837.144,181.83 837.386,160.668 837.628,143.408 837.871,130.162 838.113,120.604 838.355,114.189 838.597,110.341 838.839,108.583 839.082,108.58 839.324,110.127 \n",
       "  839.566,113.076 839.808,117.246 840.051,122.343 840.293,127.908 840.535,133.327 840.777,137.903 841.02,140.974 841.262,142.053 841.504,140.94 841.746,137.761 \n",
       "  841.989,132.942 842.231,127.104 842.473,120.927 842.715,115.015 842.958,109.807 843.2,105.543 843.442,102.28 843.684,99.9387 843.926,98.3689 844.169,97.3987 \n",
       "  844.411,96.8719 844.653,96.6652 844.895,96.692 845.138,96.8962 845.38,97.2451 845.622,97.7201 845.864,98.3111 846.107,99.0117 846.349,99.8173 846.591,100.725 \n",
       "  846.833,101.734 847.076,102.854 847.318,104.109 847.56,105.553 847.802,107.289 848.044,109.488 848.287,112.406 848.529,116.385 848.771,121.827 849.013,129.123 \n",
       "  849.256,138.545 849.498,150.1 849.74,163.4 849.982,177.585 850.225,191.358 850.467,203.15 850.709,211.408 850.951,214.922 851.194,213.111 851.436,206.17 \n",
       "  851.678,195.023 851.92,181.109 852.163,166.063 852.405,151.393 852.647,138.246 852.889,127.294 853.131,118.766 853.374,112.555 853.616,108.369 853.858,105.87 \n",
       "  854.1,104.769 854.343,104.87 854.585,106.07 854.827,108.316 855.069,111.554 855.312,115.661 855.554,120.413 855.796,125.481 856.038,130.47 856.281,135.011 \n",
       "  856.523,138.857 856.765,141.982 857.007,144.619 857.249,147.243 857.492,150.473 857.734,154.944 857.976,161.161 858.218,169.38 858.461,179.545 858.703,191.288 \n",
       "  858.945,203.977 859.187,216.827 859.43,229.037 859.672,239.96 859.914,249.258 860.156,257.021 860.399,263.815 860.641,270.624 860.883,278.701 861.125,289.356 \n",
       "  861.368,303.739 861.61,322.663 861.852,346.506 862.094,375.196 862.336,408.27 862.579,444.956 862.821,484.27 863.063,525.096 863.305,566.242 863.548,606.486 \n",
       "  863.79,644.609 864.032,679.431 864.274,709.843 864.517,734.852 864.759,753.623 865.001,765.514 865.243,770.113 865.486,767.257 865.728,757.044 865.97,739.821 \n",
       "  866.212,716.17 866.455,686.875 866.697,652.878 866.939,615.236 867.181,575.071 867.423,533.526 867.666,491.733 867.908,450.775 868.15,411.669 868.392,375.338 \n",
       "  868.635,342.58 868.877,314.019 869.119,290.047 869.361,270.749 869.604,255.853 869.846,244.721 870.088,236.409 870.33,229.805 870.573,223.829 870.815,217.641 \n",
       "  871.057,210.809 871.299,203.377 871.541,195.822 871.784,188.912 872.026,183.51 872.268,180.387 872.51,180.096 872.753,182.909 872.995,188.839 873.237,197.697 \n",
       "  873.479,209.175 873.722,222.913 873.964,238.559 874.206,255.804 874.448,274.405 874.691,294.185 874.933,315.02 875.175,336.799 875.417,359.338 875.66,382.283 \n",
       "  875.902,405.002 876.144,426.507 876.386,445.467 876.628,460.327 876.871,469.535 877.113,471.841 877.355,466.572 877.597,453.815 877.84,434.43 878.082,409.898 \n",
       "  878.324,382.044 878.566,352.717 878.809,323.525 879.051,295.667 879.293,269.889 879.535,246.544 879.778,225.7 880.02,207.255 880.262,191.04 880.504,176.875 \n",
       "  880.746,164.599 880.989,154.081 881.231,145.209 881.473,137.889 881.715,132.041 881.958,127.595 882.2,124.499 882.442,122.725 882.684,122.274 882.927,123.182 \n",
       "  883.169,125.529 883.411,129.44 883.653,135.089 883.896,142.697 884.138,152.529 884.38,164.886 884.622,180.095 884.865,198.49 885.107,220.395 885.349,246.095 \n",
       "  885.591,275.816 885.833,309.692 886.076,347.736 886.318,389.823 886.56,435.665 886.802,484.804 887.045,536.611 887.287,590.299 887.529,644.943 887.771,699.517 \n",
       "  888.014,752.934 888.256,804.095 888.498,851.941 888.74,895.507 888.983,933.974 889.225,966.71 889.467,993.315 889.709,1013.65 889.952,1027.84 890.194,1036.32 \n",
       "  890.436,1039.76 890.678,1039.1 890.92,1035.45 891.163,1030.07 891.405,1024.24 891.647,1019.24 891.889,1016.21 892.132,1016.09 892.374,1019.56 892.616,1027 \n",
       "  892.858,1038.46 893.101,1053.67 893.343,1072.06 893.585,1092.82 893.827,1114.92 894.07,1137.21 894.312,1158.42 894.554,1177.27 894.796,1192.45 895.038,1202.71 \n",
       "  895.281,1206.9 895.523,1203.99 895.765,1193.15 896.007,1173.82 896.25,1145.7 896.492,1108.88 896.734,1063.83 896.976,1011.38 897.219,952.693 897.461,889.205 \n",
       "  897.703,822.508 897.945,754.246 898.188,686.009 898.43,619.251 898.672,555.217 898.914,494.914 899.157,439.086 899.399,388.228 899.641,342.596 899.883,302.239 \n",
       "  900.125,267.033 900.368,236.717 900.61,210.932 900.852,189.254 901.094,171.227 901.337,156.386 901.579,144.284 901.821,134.501 902.063,126.657 902.306,120.416 \n",
       "  902.548,115.489 902.79,111.632 903.032,108.644 903.275,106.364 903.517,104.665 903.759,103.451 904.001,102.655 904.243,102.234 904.486,102.166 904.728,102.454 \n",
       "  904.97,103.119 905.212,104.205 905.455,105.781 905.697,107.936 905.939,110.791 906.181,114.493 906.424,119.22 906.666,125.18 906.908,132.613 907.15,141.787 \n",
       "  907.393,152.989 907.635,166.521 907.877,182.689 908.119,201.782 908.362,224.056 908.604,249.715 908.846,278.884 909.088,311.583 909.33,347.712 909.573,387.023 \n",
       "  909.815,429.116 910.057,473.43 910.299,519.25 910.542,565.728 910.784,611.905 911.026,656.749 911.268,699.186 911.511,738.132 911.753,772.522 911.995,801.324 \n",
       "  912.237,823.568 912.48,838.376 912.722,845.015 912.964,842.969 913.206,832.022 913.449,812.335 913.691,784.481 913.933,749.436 914.175,708.506 914.417,663.215 \n",
       "  914.66,615.158 914.902,565.869 915.144,516.72 915.386,468.855 915.629,423.172 915.871,380.33 916.113,340.777 916.355,304.78 916.598,272.459 916.84,243.809 \n",
       "  917.082,218.73 917.324,197.041 917.567,178.5 917.809,162.829 918.051,149.724 918.293,138.876 918.535,129.979 918.778,122.747 919.02,116.916 919.262,112.248 \n",
       "  919.504,108.54 919.747,105.614 919.989,103.326 920.231,101.555 920.473,100.205 920.716,99.203 920.958,98.4927 921.2,98.0365 921.442,97.8159 921.685,97.8356 \n",
       "  921.927,98.1335 922.169,98.7959 922.411,99.977 922.654,101.919 922.896,104.964 923.138,109.541 923.38,116.113 923.622,125.082 923.865,136.639 924.107,150.608 \n",
       "  924.349,166.317 924.591,182.56 924.834,197.703 925.076,209.939 925.318,217.636 925.56,219.704 925.803,215.852 926.045,206.661 926.287,193.443 926.529,177.938 \n",
       "  926.772,161.939 927.014,146.967 927.256,134.069 927.498,123.766 927.74,116.132 927.983,110.95 928.225,107.885 928.467,106.626 928.709,106.981 928.952,108.9 \n",
       "  929.194,112.455 929.436,117.766 929.678,124.893 929.921,133.727 930.163,143.898 930.405,154.745 930.647,165.376 930.89,174.81 931.132,182.187 931.374,186.991 \n",
       "  931.616,189.2 931.859,189.34 932.101,188.402 932.343,187.662 932.585,188.462 932.827,192.003 933.07,199.216 933.312,210.709 933.554,226.799 933.796,247.571 \n",
       "  934.039,272.951 934.281,302.765 934.523,336.763 934.765,374.625 935.008,415.949 935.25,460.24 935.492,506.899 935.734,555.231 935.977,604.457 936.219,653.742 \n",
       "  936.461,702.229 936.703,749.074 936.945,793.478 937.188,834.714 937.43,872.139 937.672,905.2 937.914,933.426 938.157,956.417 938.399,973.83 938.641,985.363 \n",
       "  938.883,990.752 939.126,989.776 939.368,982.274 939.61,968.168 939.852,947.498 940.095,920.446 940.337,887.366 940.579,848.794 940.821,805.447 941.064,758.202 \n",
       "  941.306,708.067 941.548,656.129 941.79,603.502 942.032,551.277 942.275,500.464 942.517,451.959 942.759,406.504 943.001,364.68 943.244,326.902 943.486,293.426 \n",
       "  943.728,264.371 943.97,239.746 944.213,219.477 944.455,203.441 944.697,191.49 944.939,183.481 945.182,179.289 945.424,178.826 945.666,182.042 945.908,188.925 \n",
       "  946.151,199.496 946.393,213.791 946.635,231.847 946.877,253.676 947.119,279.24 947.362,308.427 947.604,341.028 947.846,376.71 948.088,415.009 948.331,455.315 \n",
       "  948.573,496.88 948.815,538.826 949.057,580.17 949.3,619.857 949.542,656.803 949.784,689.943 950.026,718.284 950.269,740.96 950.511,757.28 950.753,766.769 \n",
       "  950.995,769.202 951.237,764.622 951.48,753.339 951.722,735.923 951.964,713.172 952.206,686.072 952.449,655.746 952.691,623.394 952.933,590.231 953.175,557.425 \n",
       "  953.418,526.04 953.66,496.987 953.902,470.987 954.144,448.543 954.387,429.928 954.629,415.19 954.871,404.161 955.113,396.488 955.356,391.664 955.598,389.068 \n",
       "  955.84,388.009 956.082,387.773 956.324,387.66 956.567,387.028 956.809,385.318 957.051,382.083 957.293,377 957.536,369.881 957.778,360.667 958.02,349.424 \n",
       "  958.262,336.325 958.505,321.631 958.747,305.669 958.989,288.808 959.231,271.434 959.474,253.927 959.716,236.646 959.958,219.908 960.2,203.982 960.442,189.081 \n",
       "  960.685,175.356 960.927,162.903 961.169,151.765 961.411,141.937 961.654,133.376 961.896,126.009 962.138,119.743 962.38,114.471 962.623,110.079 962.865,106.454 \n",
       "  963.107,103.486 963.349,101.074 963.592,99.1256 963.834,97.5591 964.076,96.3038 964.318,95.3 964.561,94.4976 964.803,93.8555 965.045,93.3405 965.287,92.926 \n",
       "  965.529,92.5908 965.772,92.3186 966.014,92.0964 966.256,91.9146 966.498,91.7655 966.741,91.6435 966.983,91.5441 967.225,91.4642 967.467,91.4014 967.71,91.3539 \n",
       "  967.952,91.3206 968.194,91.3006 968.436,91.2937 968.679,91.2995 968.921,91.3182 969.163,91.3503 969.405,91.3963 969.648,91.4571 969.89,91.5339 970.132,91.6281 \n",
       "  970.374,91.7415 970.616,91.8766 970.859,92.036 971.101,92.2235 971.343,92.4435 971.585,92.7019 971.828,93.0061 972.07,93.3655 972.312,93.7926 972.554,94.3034 \n",
       "  972.797,94.9188 973.039,95.6659 973.281,96.5799 973.523,97.706 973.766,99.1023 974.008,100.842 974.25,103.018 974.492,105.745 974.734,109.163 974.977,113.442 \n",
       "  975.219,118.782 975.461,125.419 975.703,133.618 975.946,143.679 976.188,155.923 976.43,170.692 976.672,188.331 976.915,209.171 977.157,233.513 977.399,261.6 \n",
       "  977.641,293.595 977.884,329.547 978.126,369.373 978.368,412.827 978.61,459.487 978.853,508.742 979.095,559.796 979.337,611.672 979.579,663.245 979.821,713.275 \n",
       "  980.064,760.453 980.306,803.461 980.548,841.037 980.79,872.037 981.033,895.501 981.275,910.706 981.517,917.217 981.759,914.91 982.002,903.993 982.244,884.999 \n",
       "  982.486,858.767 982.728,826.403 982.971,789.23 983.213,748.729 983.455,706.475 983.697,664.064 983.939,623.054 984.182,584.899 984.424,550.903 984.666,522.174 \n",
       "  984.908,499.599 985.151,483.828 985.393,475.268 985.635,474.094 985.877,480.257 986.12,493.499 986.362,513.36 986.604,539.178 986.846,570.076 987.089,604.965 \n",
       "  987.331,642.552 987.573,681.4 987.815,720.025 988.058,757.043 988.3,791.329 988.542,822.159 988.784,849.291 989.026,872.958 989.269,893.767 989.511,912.535 \n",
       "  989.753,930.094 989.995,947.122 990.238,964.007 990.48,980.79 990.722,997.157 990.964,1012.48 991.207,1025.89 991.449,1036.37 991.691,1042.83 991.933,1044.22 \n",
       "  992.176,1039.63 992.418,1028.32 992.66,1009.84 992.902,984.052 993.145,951.13 993.387,911.577 993.629,866.182 993.871,815.964 994.113,762.113 994.356,705.906 \n",
       "  994.598,648.639 994.84,591.556 995.082,535.789 995.325,482.315 995.567,431.928 995.809,385.225 996.051,342.604 996.294,304.276 996.536,270.288 996.778,240.546 \n",
       "  997.02,214.844 997.263,192.897 997.505,174.365 997.747,158.877 997.989,146.059 998.231,135.541 998.474,126.978 998.716,120.053 998.958,114.484 999.2,110.024 \n",
       "  999.443,106.463 999.685,103.624 999.927,101.361 1000.17,99.5565 1000.41,98.1144 1000.65,96.9593 1000.9,96.0321 1001.14,95.2866 1001.38,94.6875 1001.62,94.2079 \n",
       "  1001.87,93.8272 1002.11,93.5303 1002.35,93.3059 1002.59,93.1462 1002.83,93.0458 1003.08,93.0016 1003.32,93.0125 1003.56,93.0795 1003.8,93.2052 1004.05,93.3951 \n",
       "  1004.29,93.6568 1004.53,94.0017 1004.77,94.4452 1005.01,95.0082 1005.26,95.7181 1005.5,96.6113 1005.74,97.7347 1005.98,99.1484 1006.23,100.929 1006.47,103.172 \n",
       "  1006.71,105.995 1006.95,109.542 1007.19,113.986 1007.44,119.528 1007.68,126.402 1007.92,134.872 1008.16,145.227 1008.41,157.776 1008.65,172.838 1008.89,190.731 \n",
       "  1009.13,211.747 1009.37,236.141 1009.62,264.101 1009.86,295.724 1010.1,330.992 1010.34,369.748 1010.59,411.676 1010.83,456.288 1011.07,502.921 1011.31,550.74 \n",
       "  1011.55,598.755 1011.8,645.85 1012.04,690.826 1012.28,732.443 1012.52,769.483 1012.77,800.806 1013.01,825.408 1013.25,842.477 1013.49,851.44 1013.73,851.991 \n",
       "  1013.98,844.109 1014.22,828.065 1014.46,804.4 1014.7,773.896 1014.95,737.535 1015.19,696.442 1015.43,651.828 1015.67,604.934 1015.91,556.969 1016.16,509.059 \n",
       "  1016.4,462.215 1016.64,417.291 1016.88,374.975 1017.13,335.777 1017.37,300.035 1017.61,267.926 1017.85,239.483 1018.09,214.624 1018.34,193.171 1018.58,174.877 \n",
       "  1018.82,159.452 1019.06,146.581 1019.31,135.944 1019.55,127.23 1019.79,120.146 1020.03,114.424 1020.28,109.827 1020.52,106.148 1020.76,103.21 1021,100.866 \n",
       "  1021.24,98.9938 1021.49,97.494 1021.73,96.2873 1021.97,95.3108 1022.21,94.5149 1022.46,93.861 1022.7,93.3192 1022.94,92.8664 1023.18,92.485 1023.42,92.1611 \n",
       "  1023.67,91.8841 1023.91,91.646 1024.15,91.4401 1024.39,91.2615 1024.64,91.1061 1024.88,90.9705 1025.12,90.8522 1025.36,90.7487 1025.6,90.6583 1025.85,90.5793 \n",
       "  1026.09,90.5104 1026.33,90.4502 1026.57,90.3978 1026.82,90.3523 1027.06,90.3127 1027.3,90.2784 1027.54,90.2488 1027.78,90.2232 1028.03,90.2012 1028.27,90.1824 \n",
       "  1028.51,90.1663 1028.75,90.1527 1029,90.1412 1029.24,90.1316 1029.48,90.1237 1029.72,90.1174 1029.96,90.1125 1030.21,90.109 1030.45,90.1068 1030.69,90.1058 \n",
       "  1030.93,90.1061 1031.18,90.1077 1031.42,90.1106 1031.66,90.1149 1031.9,90.1207 1032.14,90.1282 1032.39,90.1375 1032.63,90.1488 1032.87,90.1624 1033.11,90.1785 \n",
       "  1033.36,90.1974 1033.6,90.2197 1033.84,90.2456 1034.08,90.2759 1034.32,90.3112 1034.57,90.3525 1034.81,90.4009 1035.05,90.4578 1035.29,90.525 1035.54,90.605 \n",
       "  1035.78,90.7008 1036.02,90.8165 1036.26,90.9573 1036.5,91.1299 1036.75,91.343 1036.99,91.6077 1037.23,91.9381 1037.47,92.3519 1037.72,92.8709 1037.96,93.5222 \n",
       "  1038.2,94.3378 1038.44,95.3563 1038.69,96.6221 1038.93,98.1859 1039.17,100.104 1039.41,102.438 1039.65,105.252 1039.9,108.611 1040.14,112.577 1040.38,117.205 \n",
       "  1040.62,122.541 1040.87,128.613 1041.11,135.43 1041.35,142.972 1041.59,151.191 1041.83,160.003 1042.08,169.292 1042.32,178.904 1042.56,188.651 1042.8,198.318 \n",
       "  1043.05,207.67 1043.29,216.457 1043.53,224.429 1043.77,231.348 1044.01,236.995 1044.26,241.188 1044.5,243.788 1044.74,244.708 1044.98,243.918 1045.23,241.446 \n",
       "  1045.47,237.379 1045.71,231.856 1045.95,225.058 1046.19,217.205 1046.44,208.537 1046.68,199.307 1046.92,189.769 1047.16,180.163 1047.41,170.71 1047.65,161.606 \n",
       "  1047.89,153.012 1048.13,145.058 1048.37,137.839 1048.62,131.425 1048.86,125.867 1049.1,121.21 1049.34,117.516 1049.59,114.89 1049.83,113.506 1050.07,113.634 \n",
       "  1050.31,115.638 1050.55,119.948 1050.8,126.98 1051.04,136.994 1051.28,149.936 1051.52,165.273 1051.77,181.91 1052.01,198.239 1052.25,212.34 1052.49,222.326 \n",
       "  1052.73,226.739 1052.98,224.881 1053.22,216.982 1053.46,204.142 1053.7,188.062 1053.95,170.663 1054.19,153.708 1054.43,138.517 1054.67,125.847 1054.91,115.919 \n",
       "  1055.16,108.548 1055.4,103.313 1055.64,99.716 1055.88,97.2872 1056.13,95.6464 1056.37,94.5164 1056.61,93.7124 1056.85,93.1196 1057.1,92.6705 1057.34,92.3269 \n",
       "  1057.58,92.067 1057.82,91.878 1058.06,91.7523 1058.31,91.6853 1058.55,91.6753 1058.79,91.7246 1059.03,91.8417 1059.28,92.0451 1059.52,92.3692 1059.76,92.8722 \n",
       "  1060,93.6431 1060.24,94.8061 1060.49,96.5169 1060.73,98.9442 1060.97,102.235 1061.21,106.462 1061.46,111.567 1061.7,117.316 1061.94,123.28 1062.18,128.879 \n",
       "  1062.42,133.466 1062.67,136.456 1062.91,137.457 1063.15,136.364 1063.39,133.39 1063.64,129.013 1063.88,123.87 1064.12,118.626 1064.36,113.858 1064.6,109.975 \n",
       "  1064.85,107.208 1065.09,105.631 1065.33,105.22 1065.57,105.909 1065.82,107.642 1066.06,110.407 1066.3,114.248 1066.54,119.268 1066.78,125.625 1067.03,133.521 \n",
       "  1067.27,143.193 1067.51,154.903 1067.75,168.934 1068,185.579 1068.24,205.138 1068.48,227.906 1068.72,254.156 1068.96,284.103 1069.21,317.86 1069.45,355.358 \n",
       "  1069.69,396.267 1069.93,439.921 1070.18,485.27 1070.42,530.903 1070.66,575.146 1070.9,616.229 1071.14,652.496 1071.39,682.605 1071.63,705.659 1071.87,721.253 \n",
       "  1072.11,729.412 1072.36,730.471 1072.6,724.936 1072.84,713.37 1073.08,696.327 1073.32,674.348 1073.57,647.991 1073.81,617.872 1074.05,584.692 1074.29,549.239 \n",
       "  1074.54,512.358 1074.78,474.907 1075.02,437.689 1075.26,401.404 1075.51,366.611 1075.75,333.709 1075.99,302.955 1076.23,274.489 1076.47,248.379 1076.72,224.653 \n",
       "  1076.96,203.321 1077.2,184.381 1077.44,167.809 1077.69,153.542 1077.93,141.468 1078.17,131.421 1078.41,123.193 1078.65,116.544 1078.9,111.227 1079.14,107.008 \n",
       "  1079.38,103.673 1079.62,101.039 1079.87,98.9555 1080.11,97.3015 1080.35,95.9817 1080.59,94.9223 1080.83,94.0659 1081.08,93.3686 1081.32,92.7961 1081.56,92.3223 \n",
       "  1081.8,91.9269 1082.05,91.5943 1082.29,91.3125 1082.53,91.0719 1082.77,90.8654 1083.01,90.6872 1083.26,90.5327 1083.5,90.3983 1083.74,90.2811 1083.98,90.1788 \n",
       "  1084.23,90.0893 1084.47,90.011 1084.71,89.9425 1084.95,89.8826 1085.19,89.8303 1085.44,89.7845 1085.68,89.7447 1085.92,89.7099 1086.16,89.6796 1086.41,89.6533 \n",
       "  1086.65,89.6305 1086.89,89.6106 1087.13,89.5934 1087.37,89.5784 1087.62,89.5655 1087.86,89.5542 1088.1,89.5445 1088.34,89.536 1088.59,89.5286 1088.83,89.5222 \n",
       "  1089.07,89.5167 1089.31,89.5119 1089.55,89.5078 1089.8,89.5042 1090.04,89.5013 1090.28,89.4989 1090.52,89.4971 1090.77,89.4957 1091.01,89.495 1091.25,89.4949 \n",
       "  1091.49,89.4954 1091.74,89.4967 1091.98,89.4988 1092.22,89.5018 1092.46,89.5059 1092.7,89.5113 1092.95,89.518 1093.19,89.5264 1093.43,89.5366 1093.67,89.549 \n",
       "  1093.92,89.5637 1094.16,89.5812 1094.4,89.6018 1094.64,89.626 1094.88,89.6542 1095.13,89.6871 1095.37,89.7252 1095.61,89.7693 1095.85,89.8203 1096.1,89.8791 \n",
       "  1096.34,89.9471 1096.58,90.0256 1096.82,90.1165 1097.06,90.222 1097.31,90.345 1097.55,90.4891 1097.79,90.6588 1098.03,90.8602 1098.28,91.1009 1098.52,91.3911 \n",
       "  1098.76,91.7436 1099,92.1754 1099.24,92.7079 1099.49,93.369 1099.73,94.1934 1099.97,95.2251 1100.21,96.5184 1100.46,98.1394 1100.7,100.168 1100.94,102.698 \n",
       "  1101.18,105.839 1101.42,109.716 1101.67,114.465 1101.91,120.236 1102.15,127.184 1102.39,135.465 1102.64,145.227 1102.88,156.604 1103.12,169.699 1103.36,184.576 \n",
       "  1103.6,201.249 1103.85,219.663 1104.09,239.694 1104.33,261.132 1104.57,283.683 1104.82,306.969 1105.06,330.532 1105.3,353.849 1105.54,376.348 1105.78,397.431 \n",
       "  1106.03,416.502 1106.27,432.994 1106.51,446.4 1106.75,456.298 1107,462.381 1107.24,464.471 1107.48,462.533 1107.72,456.679 1107.96,447.167 1108.21,434.387 \n",
       "  1108.45,418.847 1108.69,401.149 1108.93,381.964 1109.18,362.005 1109.42,342.001 1109.66,322.672 1109.9,304.707 1110.15,288.745 1110.39,275.362 1110.63,265.062 \n",
       "  1110.87,258.263 1111.11,255.295 1111.36,256.393 1111.6,261.695 1111.84,271.232 1112.08,284.928 1112.33,302.589 1112.57,323.906 1112.81,348.446 1113.05,375.659 \n",
       "  1113.29,404.88 1113.54,435.34 1113.78,466.189 1114.02,496.514 1114.26,525.375 1114.51,551.836 1114.75,575.009 1114.99,594.09 1115.23,608.399 1115.47,617.411 \n",
       "  1115.72,620.786 1115.96,618.381 1116.2,610.26 1116.44,596.687 1116.69,578.109 1116.93,555.132 1117.17,528.485 1117.41,498.983 1117.65,467.484 1117.9,434.85 \n",
       "  1118.14,401.911 1118.38,369.429 1118.62,338.081 1118.87,308.436 1119.11,280.952 1119.35,255.978 1119.59,233.757 1119.83,214.443 1120.08,198.122 1120.32,184.826 \n",
       "  1120.56,174.559 1120.8,167.318 1121.05,163.11 1121.29,161.969 1121.53,163.97 1121.77,169.229 1122.01,177.911 1122.26,190.223 1122.5,206.402 1122.74,226.698 \n",
       "  1122.98,251.352 1123.23,280.569 1123.47,314.484 1123.71,353.132 1123.95,396.414 1124.19,444.063 1124.44,495.626 1124.68,550.444 1124.92,607.644 1125.16,666.155 \n",
       "  1125.41,724.72 1125.65,781.941 1125.89,836.326 1126.13,886.35 1126.37,930.524 1126.62,967.472 1126.86,995.997 1127.1,1015.15 1127.34,1024.28 1127.59,1023.06 \n",
       "  1127.83,1011.55 1128.07,990.121 1128.31,959.499 1128.56,920.689 1128.8,874.93 1129.04,823.626 1129.28,768.274 1129.52,710.393 1129.77,651.451 1130.01,592.811 \n",
       "  1130.25,535.677 1130.49,481.065 1130.74,429.78 1130.98,382.409 1131.22,339.331 1131.46,300.729 1131.7,266.62 1131.95,236.877 1132.19,211.266 1132.43,189.472 \n",
       "  1132.67,171.133 1132.92,155.859 1133.16,143.26 1133.4,132.957 1133.64,124.595 1133.88,117.853 1134.13,112.447 1134.37,108.129 1134.61,104.69 1134.85,101.954 \n",
       "  1135.1,99.7781 1135.34,98.0459 1135.58,96.6643 1135.82,95.5598 1136.06,94.6752 1136.31,93.9663 1136.55,93.3992 1136.79,92.9483 1137.03,92.5943 1137.28,92.3233 \n",
       "  1137.52,92.1252 1137.76,91.9934 1138,91.9239 1138.24,91.9156 1138.49,91.9694 1138.73,92.0891 1138.97,92.2815 1139.21,92.5566 1139.46,92.9289 1139.7,93.4179 \n",
       "  1139.94,94.0499 1140.18,94.8593 1140.42,95.8905 1140.67,97.2003 1140.91,98.8602 1141.15,100.959 1141.39,103.604 1141.64,106.926 1141.88,111.078 1142.12,116.239 \n",
       "  1142.36,122.61 1142.6,130.414 1142.85,139.889 1143.09,151.286 1143.33,164.851 1143.57,180.82 1143.82,199.398 1144.06,220.743 1144.3,244.944 1144.54,272.006 \n",
       "  1144.78,301.826 1145.03,334.183 1145.27,368.719 1145.51,404.94 1145.75,442.219 1146,479.801 1146.24,516.833 1146.48,552.386 1146.72,585.493 1146.97,615.198 \n",
       "  1147.21,640.596 1147.45,660.88 1147.69,675.388 1147.93,683.636 1148.18,685.347 1148.42,680.468 1148.66,669.169 1148.9,651.84 1149.15,629.062 1149.39,601.582 \n",
       "  1149.63,570.265 1149.87,536.054 1150.11,499.924 1150.36,462.835 1150.6,425.692 1150.84,389.316 1151.08,354.414 1151.33,321.57 1151.57,291.236 1151.81,263.736 \n",
       "  1152.05,239.277 1152.29,217.964 1152.54,199.824 1152.78,184.824 1153.02,172.898 1153.26,163.967 1153.51,157.961 1153.75,154.832 1153.99,154.573 1154.23,157.22 \n",
       "  1154.47,162.858 1154.72,171.618 1154.96,183.669 1155.2,199.206 1155.44,218.43 1155.69,241.526 1155.93,268.637 1156.17,299.835 1156.41,335.091 1156.65,374.25 \n",
       "  1156.9,417.001 1157.14,462.867 1157.38,511.188 1157.62,561.126 1157.87,611.679 1158.11,661.702 1158.35,709.95 1158.59,755.124 1158.83,795.929 1159.08,831.134 \n",
       "  1159.32,859.639 1159.56,880.531 1159.8,893.137 1160.05,897.064 1160.29,892.222 1160.53,878.833 1160.77,857.421 1161.01,828.787 1161.26,793.968 1161.5,754.183 \n",
       "  1161.74,710.778 1161.98,665.163 1162.23,618.751 1162.47,572.898 1162.71,528.862 1162.95,487.755 1163.19,450.517 1163.44,417.896 1163.68,390.442 1163.92,368.497 \n",
       "  1164.16,352.21 1164.41,341.539 1164.65,336.273 1164.89,336.048 1165.13,340.364 1165.38,348.607 1165.62,360.077 1165.86,374.007 1166.1,389.589 1166.34,406.007 \n",
       "  1166.59,422.463 1166.83,438.214 1167.07,452.602 1167.31,465.088 1167.56,475.28 1167.8,482.958 1168.04,488.085 1168.28,490.812 1168.52,491.466 1168.77,490.533 \n",
       "  1169.01,488.625 1169.25,486.439 1169.49,484.714 1169.74,484.179 1169.98,485.497 1170.22,489.222 1170.46,495.747 1170.7,505.272 1170.95,517.778 1171.19,533.019 \n",
       "  1171.43,550.53 1171.67,569.643 1171.92,589.531 1172.16,609.249 1172.4,627.8 1172.64,644.189 1172.88,657.488 1173.13,666.897 1173.37,671.791 1173.61,671.757 \n",
       "  1173.85,666.629 1174.1,656.492 1174.34,641.684 1174.58,622.785 1174.82,600.586 1175.06,576.058 1175.31,550.311 1175.55,524.547 1175.79,500.019 1176.03,477.98 \n",
       "  1176.28,459.645 1176.52,446.145 1176.76,438.493 1177,437.547 1177.24,443.984 1177.49,458.267 1177.73,480.628 1177.97,511.043 1178.21,549.221 1178.46,594.595 \n",
       "  1178.7,646.312 1178.94,703.242 1179.18,763.989 1179.42,826.913 1179.67,890.18 1179.91,951.817 1180.15,1009.8 1180.39,1062.15 1180.64,1107.03 1180.88,1142.85 \n",
       "  1181.12,1168.35 1181.36,1182.66 1181.6,1185.32 1181.85,1176.31 1182.09,1156.04 1182.33,1125.32 1182.57,1085.3 1182.82,1037.45 1183.06,983.488 1183.3,925.308 \n",
       "  1183.54,864.93 1183.79,804.436 1184.03,745.898 1184.27,691.287 1184.51,642.339 1184.75,600.384 1185,566.153 1185.24,539.622 1185.48,519.94 1185.72,505.521 \n",
       "  1185.97,494.32 1186.21,484.247 1186.45,473.645 1186.69,461.678 1186.93,448.514 1187.18,435.26 1187.42,423.651 1187.66,415.615 1187.9,412.841 1188.15,416.455 \n",
       "  1188.39,426.877 1188.63,443.838 1188.87,466.524 1189.11,493.75 1189.36,524.14 1189.6,556.253 1189.84,588.669 1190.08,620.038 1190.33,649.109 1190.57,674.748 \n",
       "  1190.81,695.969 1191.05,711.959 1191.29,722.109 1191.54,726.037 1191.78,723.611 1192.02,714.947 1192.26,700.411 1192.51,680.594 1192.75,656.281 1192.99,628.409 \n",
       "  1193.23,598.018 1193.47,566.2 1193.72,534.048 1193.96,502.609 1194.2,472.843 1194.44,445.591 1194.69,421.55 1194.93,401.26 1195.17,385.099 1195.41,373.28 \n",
       "  1195.65,365.862 1195.9,362.758 1196.14,363.748 1196.38,368.491 1196.62,376.539 1196.87,387.355 1197.11,400.323 1197.35,414.766 1197.59,429.966 1197.83,445.18 \n",
       "  1198.08,459.666 1198.32,472.707 1198.56,483.636 1198.8,491.863 1199.05,496.899 1199.29,498.378 1199.53,496.074 1199.77,489.906 1200.01,479.944 1200.26,466.402 \n",
       "  1200.5,449.621 1200.74,430.05 1200.98,408.219 1201.23,384.714 1201.47,360.137 1201.71,335.088 1201.95,310.129 1202.2,285.769 1202.44,262.445 1202.68,240.511 \n",
       "  1202.92,220.235 1203.16,201.801 1203.41,185.311 1203.65,170.802 1203.89,158.25 1204.13,147.59 1204.38,138.727 1204.62,131.552 1204.86,125.954 1205.1,121.831 \n",
       "  1205.34,119.1 1205.59,117.71 1205.83,117.642 1206.07,118.917 1206.31,121.601 1206.56,125.801 1206.8,131.67 1207.04,139.398 1207.28,149.209 1207.52,161.351 \n",
       "  1207.77,176.083 1208.01,193.659 1208.25,214.31 1208.49,238.219 1208.74,265.5 1208.98,296.175 1209.22,330.149 1209.46,367.194 1209.7,406.937 1209.95,448.852 \n",
       "  1210.19,492.27 1210.43,536.39 1210.67,580.308 1210.92,623.053 1211.16,663.627 1211.4,701.049 1211.64,734.406 1211.88,762.892 1212.13,785.841 1212.37,802.756 \n",
       "  1212.61,813.318 1212.85,817.393 1213.1,815.019 1213.34,806.399 1213.58,791.878 1213.82,771.924 1214.06,747.113 1214.31,718.116 1214.55,685.688 1214.79,650.667 \n",
       "  1215.03,613.962 1215.28,576.536 1215.52,539.368 1215.76,503.389 1216,469.39 1216.24,437.924 1216.49,409.209 1216.73,383.084 1216.97,359.044 1217.21,336.347 \n",
       "  1217.46,314.206 1217.7,291.99 1217.94,269.396 1218.18,246.524 1218.43,223.843 1218.67,202.056 1218.91,181.916 1219.15,164.056 1219.39,148.866 1219.64,136.46 \n",
       "  1219.88,126.706 1220.12,119.305 1220.36,113.881 1220.61,110.059 1220.85,107.517 1221.09,106.009 1221.33,105.371 1221.57,105.516 1221.82,106.414 1222.06,108.091 \n",
       "  1222.3,110.61 1222.54,114.068 1222.79,118.589 1223.03,124.326 1223.27,131.449 1223.51,140.151 1223.75,150.645 1224,163.167 1224.24,177.974 1224.48,195.337 \n",
       "  1224.72,215.53 1224.97,238.789 1225.21,265.248 1225.45,294.856 1225.69,327.277 1225.93,361.812 1226.18,397.362 1226.42,432.484 1226.66,465.53 1226.9,494.861 \n",
       "  1227.15,519.088 1227.39,537.264 1227.63,548.992 1227.87,554.398 1228.11,554.012 1228.36,548.575 1228.6,538.866 1228.84,525.568 1229.08,509.22 1229.33,490.227 \n",
       "  1229.57,468.923 1229.81,445.633 1230.05,420.724 1230.29,394.625 1230.54,367.823 1230.78,340.833 1231.02,314.172 1231.26,288.317 1231.51,263.684 1231.75,240.608 \n",
       "  1231.99,219.336 1232.23,200.022 1232.47,182.74 1232.72,167.487 1232.96,154.201 1233.2,142.77 1233.44,133.05 1233.69,124.875 1233.93,118.068 1234.17,112.454 \n",
       "  1234.41,107.861 1234.65,104.131 1234.9,101.121 1235.14,98.7033 1235.38,96.7676 1235.62,95.2206 1235.87,93.9844 1236.11,92.9951 1236.35,92.2006 1236.59,91.5596 \n",
       "  1236.84,91.0392 1237.08,90.6136 1237.32,90.2627 1237.56,89.9709 1237.8,89.7264 1238.05,89.5197 1238.29,89.3438 1238.53,89.1931 1238.77,89.0632 1239.02,88.9509 \n",
       "  1239.26,88.8533 1239.5,88.7683 1239.74,88.6941 1239.98,88.6293 1240.23,88.5727 1240.47,88.5232 1240.71,88.4799 1240.95,88.4421 1241.2,88.4091 1241.44,88.3803 \n",
       "  1241.68,88.3552 1241.92,88.3333 1242.16,88.3143 1242.41,88.2977 1242.65,88.2834 1242.89,88.2709 1243.13,88.2601 1243.38,88.2507 1243.62,88.2426 1243.86,88.2355 \n",
       "  1244.1,88.2294 1244.34,88.2241 1244.59,88.2196 1244.83,88.2157 1245.07,88.2125 1245.31,88.2098 1245.56,88.2076 1245.8,88.206 1246.04,88.2049 1246.28,88.2044 \n",
       "  1246.52,88.2044 1246.77,88.2052 1247.01,88.2067 1247.25,88.2091 1247.49,88.2124 1247.74,88.2169 1247.98,88.2227 1248.22,88.2301 1248.46,88.2392 1248.7,88.2504 \n",
       "  1248.95,88.2639 1249.19,88.2802 1249.43,88.2997 1249.67,88.3228 1249.92,88.35 1250.16,88.3821 1250.4,88.4196 1250.64,88.4634 1250.88,88.5142 1251.13,88.5731 \n",
       "  1251.37,88.6412 1251.61,88.7197 1251.85,88.8102 1252.1,88.9143 1252.34,89.034 1252.58,89.1717 1252.82,89.3303 1253.06,89.5134 1253.31,89.7252 1253.55,89.9714 \n",
       "  1253.79,90.2588 1254.03,90.5963 1254.28,90.9955 1254.52,91.4712 1254.76,92.0429 1255,92.7356 1255.25,93.5817 1255.49,94.6233 1255.73,95.9138 1255.97,97.5214 \n",
       "  1256.21,99.5314 1256.46,102.05 1256.7,105.208 1256.94,109.161 1257.18,114.097 1257.43,120.232 1257.67,127.814 1257.91,137.122 1258.15,148.454 1258.39,162.128 \n",
       "  1258.64,178.466 1258.88,197.777 1259.12,220.342 1259.36,246.389 1259.61,276.071 1259.85,309.439 1260.09,346.415 1260.33,386.773 1260.57,430.124 1260.82,475.898 \n",
       "  1261.06,523.354 1261.3,571.582 1261.54,619.53 1261.79,666.034 1262.03,709.867 1262.27,749.786 1262.51,784.595 1262.75,813.204 1263,834.683 1263.24,848.318 \n",
       "  1263.48,853.648 1263.72,850.491 1263.97,838.956 1264.21,819.436 1264.45,792.587 1264.69,759.289 1264.93,720.597 1265.18,677.688 1265.42,631.799 1265.66,584.167 \n",
       "  1265.9,535.978 1266.15,488.318 1266.39,442.136 1266.63,398.219 1266.87,357.183 1267.11,319.466 1267.36,285.335 1267.6,254.908 1267.84,228.17 1268.08,204.997 \n",
       "  1268.33,185.185 1268.57,168.474 1268.81,154.57 1269.05,143.168 1269.29,133.967 1269.54,126.685 1269.78,121.074 1270.02,116.928 1270.26,114.1 1270.51,112.517 \n",
       "  1270.75,112.199 1270.99,113.279 1271.23,116.012 1271.47,120.773 1271.72,128.015 1271.96,138.189 1272.2,151.621 1272.44,168.369 1272.69,188.1 1272.93,210.036 \n",
       "  1273.17,233.021 1273.41,255.715 1273.66,276.883 1273.9,295.709 1274.14,312.03 1274.38,326.407 1274.62,340.009 1274.87,354.342 1275.11,370.905 1275.35,390.865 \n",
       "  1275.59,414.85 1275.84,442.867 1276.08,474.36 1276.32,508.336 1276.56,543.531 1276.8,578.561 1277.05,612.038 1277.29,642.655 1277.53,669.236 1277.77,690.776 \n",
       "  1278.02,706.468 1278.26,715.721 1278.5,718.183 1278.74,713.743 1278.98,702.537 1279.23,684.934 1279.47,661.514 1279.71,633.034 1279.95,600.389 1280.2,564.56 \n",
       "  1280.44,526.569 1280.68,487.431 1280.92,448.112 1281.16,409.496 1281.41,372.362 1281.65,337.378 1281.89,305.105 1282.13,276.017 1282.38,250.523 1282.62,228.988 \n",
       "  1282.86,211.739 1283.1,199.038 1283.34,191.011 1283.59,187.553 1283.83,188.216 1284.07,192.133 1284.31,198.018 1284.56,204.278 1284.8,209.237 1285.04,211.423 \n",
       "  1285.28,209.845 1285.52,204.173 1285.77,194.772 1286.01,182.565 1286.25,168.795 1286.49,154.74 1286.74,141.482 1286.98,129.766 1287.22,119.966 1287.46,112.137 \n",
       "  1287.7,106.113 1287.95,101.61 1288.19,98.3098 1288.43,95.9161 1288.67,94.1808 1288.92,92.9121 1289.16,91.9694 1289.4,91.2538 1289.64,90.6981 1289.88,90.2577 \n",
       "  1290.13,89.9026 1290.37,89.6131 1290.61,89.3754 1290.85,89.1799 1291.1,89.0193 1291.34,88.888 1291.58,88.7815 1291.82,88.6965 1292.07,88.6302 1292.31,88.5807 \n",
       "  1292.55,88.5463 1292.79,88.526 1293.03,88.5194 1293.28,88.5261 1293.52,88.5463 1293.76,88.5803 1294,88.6288 1294.25,88.6928 1294.49,88.7737 1294.73,88.8732 \n",
       "  1294.97,88.9936 1295.21,89.1377 1295.46,89.3092 1295.7,89.5129 1295.94,89.7549 1296.18,90.0431 1296.43,90.3879 1296.67,90.8028 1296.91,91.3054 1297.15,91.9185 \n",
       "  1297.39,92.6717 1297.64,93.603 1297.88,94.7611 1298.12,96.2075 1298.36,98.019 1298.61,100.291 1298.85,103.138 1299.09,106.7 1299.33,111.141 1299.57,116.649 \n",
       "  1299.82,123.438 1300.06,131.744 1300.3,141.822 1300.54,153.933 1300.79,168.34 1301.03,185.29 1301.27,204.997 1301.51,227.626 1301.75,253.27 1302,281.928 \n",
       "  1302.24,313.49 1302.48,347.715 1302.72,384.222 1302.97,422.486 1303.21,461.837 1303.45,501.477 1303.69,540.501 1303.93,577.927 1304.18,612.736 1304.42,643.919 \n",
       "  1304.66,670.524 1304.9,691.705 1305.15,706.77 1305.39,715.215 1305.63,716.756 1305.87,711.346 1306.11,699.174 1306.36,680.659 1306.6,656.422 1306.84,627.257 \n",
       "  1307.08,594.084 1307.33,557.901 1307.57,519.743 1307.81,480.624 1308.05,441.506 1308.29,403.257 1308.54,366.631 1308.78,332.253 1309.02,300.607 1309.26,272.047 \n",
       "  1309.51,246.802 1309.75,224.994 1309.99,206.658 1310.23,191.759 1310.48,180.215 1310.72,171.915 1310.96,166.729 1311.2,164.527 1311.44,165.177 1311.69,168.55 \n",
       "  1311.93,174.517 1312.17,182.944 1312.41,193.683 1312.66,206.563 1312.9,221.379 1313.14,237.889 1313.38,255.803 1313.62,274.788 1313.87,294.466 1314.11,314.424 \n",
       "  1314.35,334.228 1314.59,353.437 1314.84,371.627 1315.08,388.408 1315.32,403.448 1315.56,416.494 1315.8,427.379 1316.05,436.04 1316.29,442.512 1316.53,446.926 \n",
       "  1316.77,449.488 1317.02,450.467 1317.26,450.159 1317.5,448.864 1317.74,446.857 1317.98,444.359 1318.23,441.523 1318.47,438.418 1318.71,435.027 1318.95,431.257 \n",
       "  1319.2,426.948 1319.44,421.899 1319.68,415.891 1319.92,408.712 1320.16,400.185 1320.41,390.187 1320.65,378.664 1320.89,365.643 1321.13,351.23 1321.38,335.606 \n",
       "  1321.62,319.019 1321.86,301.764 1322.1,284.17 1322.34,266.578 1322.59,249.331 1322.83,232.751 1323.07,217.135 1323.31,202.746 1323.56,189.808 1323.8,178.512 \n",
       "  1324.04,169.019 1324.28,161.471 1324.52,155.995 1324.77,152.721 1325.01,151.791 1325.25,153.365 1325.49,157.633 1325.74,164.817 1325.98,175.171 1326.22,188.975 \n",
       "  1326.46,206.527 1326.7,228.127 1326.95,254.057 1327.19,284.553 1327.43,319.78 1327.67,359.787 1327.92,404.477 1328.16,453.564 1328.4,506.54 1328.64,562.655 \n",
       "  1328.89,620.913 1329.13,680.095 1329.37,738.805 1329.61,795.537 1329.85,848.754 1330.1,896.976 1330.34,938.848 1330.58,973.203 1330.82,999.109 1331.07,1015.9 \n",
       "  1331.31,1023.22 1331.55,1021 1331.79,1009.49 1332.03,989.293 1332.28,961.269 1332.52,926.567 1332.76,886.548 1333,842.74 1333.25,796.777 1333.49,750.344 \n",
       "  1333.73,705.134 1333.97,662.798 1334.21,624.911 1334.46,592.916 1334.7,568.054 1334.94,551.274 1335.18,543.136 1335.43,543.716 1335.67,552.572 1335.91,568.776 \n",
       "  1336.15,591.045 1336.39,617.941 1336.64,648.094 1336.88,680.394 1337.12,714.082 1337.36,748.728 1337.61,784.104 1337.85,820.011 1338.09,856.121 1338.33,891.875 \n",
       "  1338.57,926.474 1338.82,958.934 1339.06,988.186 1339.3,1013.18 1339.54,1032.96 1339.79,1046.73 1340.03,1053.86 1340.27,1053.92 1340.51,1046.64 1340.75,1031.93 \n",
       "  1341,1009.88 1341.24,980.804 1341.48,945.186 1341.72,903.743 1341.97,857.39 1342.21,807.23 1342.45,754.515 1342.69,700.606 1342.93,646.913 1343.18,594.846 \n",
       "  1343.42,545.757 1343.66,500.899 1343.9,461.389 1344.15,428.188 1344.39,402.087 1344.63,383.709 1344.87,373.508 1345.12,371.782 1345.36,378.669 1345.6,394.161 \n",
       "  1345.84,418.089 1346.08,450.125 1346.33,489.763 1346.57,536.311 1346.81,588.879 1347.05,646.371 1347.3,707.492 1347.54,770.763 1347.78,834.554 1348.02,897.133 \n",
       "  1348.26,956.723 1348.51,1011.58 1348.75,1060.05 1348.99,1100.65 1349.23,1132.14 1349.48,1153.51 1349.72,1164.02 1349.96,1163.23 1350.2,1150.98 1350.44,1127.42 \n",
       "  1350.69,1093.03 1350.93,1048.65 1351.17,995.507 1351.41,935.178 1351.66,869.514 1351.9,800.526 1352.14,730.236 1352.38,660.529 1352.62,593.037 1352.87,529.063 \n",
       "  1353.11,469.557 1353.35,415.135 1353.59,366.117 1353.84,322.586 1354.08,284.437 1354.32,251.427 1354.56,223.215 1354.8,199.398 1355.05,179.539 1355.29,163.192 \n",
       "  1355.53,149.922 1355.77,139.326 1356.02,131.038 1356.26,124.741 1356.5,120.174 1356.74,117.129 1356.98,115.452 1357.23,115.041 1357.47,115.84 1357.71,117.836 \n",
       "  1357.95,121.049 1358.2,125.525 1358.44,131.328 1358.68,138.532 1358.92,147.205 1359.16,157.4 1359.41,169.146 1359.65,182.432 1359.89,197.197 1360.13,213.322 \n",
       "  1360.38,230.623 1360.62,248.849 1360.86,267.676 1361.1,286.722 1361.34,305.549 1361.59,323.681 1361.83,340.623 1362.07,355.88 1362.31,368.984 1362.56,379.515 \n",
       "  1362.8,387.123 1363.04,391.55 1363.28,392.643 1363.53,390.362 1363.77,384.781 1364.01,376.088 1364.25,364.571 1364.49,350.602 1364.74,334.616 1364.98,317.092 \n",
       "  1365.22,298.523 1365.46,279.399 1365.71,260.18 1365.95,241.284 1366.19,223.072 1366.43,205.835 1366.67,189.799 1366.92,175.116 1367.16,161.873 1367.4,150.099 \n",
       "  1367.64,139.773 1367.89,130.832 1368.13,123.185 1368.37,116.72 1368.61,111.312 1368.85,106.833 1369.1,103.158 1369.34,100.168 1369.58,97.7514 1369.82,95.8114 \n",
       "  1370.07,94.2616 1370.31,93.0284 1370.55,92.0497 1370.79,91.2744 1371.03,90.6607 1371.28,90.1751 1371.52,89.7914 1371.76,89.4887 1372,89.2514 1372.25,89.0674 \n",
       "  1372.49,88.9281 1372.73,88.8274 1372.97,88.7615 1373.21,88.7281 1373.46,88.7268 1373.7,88.7585 1373.94,88.8253 1374.18,88.9309 1374.43,89.08 1374.67,89.2799 \n",
       "  1374.91,89.5413 1375.15,89.8821 1375.39,90.3328 1375.64,90.9465 1375.88,91.8126 1376.12,93.0734 1376.36,94.9397 1376.61,97.6974 1376.85,101.693 1377.09,107.288 \n",
       "  1377.33,114.773 1377.57,124.252 1377.82,135.523 1378.06,147.982 1378.3,160.625 1378.54,172.144 1378.79,181.147 1379.03,186.439 1379.27,187.294 1379.51,183.631 \n",
       "  1379.75,176.035 1380,165.623 1380.24,153.789 1380.48,141.918 1380.72,131.149 1380.97,122.239 1381.21,115.547 1381.45,111.107 1381.69,108.746 1381.94,108.204 \n",
       "  1382.18,109.236 1382.42,111.66 1382.66,115.384 1382.9,120.401 1383.15,126.765 1383.39,134.575 1383.63,143.95 1383.87,155.008 1384.12,167.849 1384.36,182.537 \n",
       "  1384.6,199.089 1384.84,217.458 1385.08,237.525 1385.33,259.088 1385.57,281.859 1385.81,305.459 1386.05,329.434 1386.3,353.253 1386.54,376.335 1386.78,398.067 \n",
       "  1387.02,417.831 1387.26,435.031 1387.51,449.128 1387.75,459.662 1387.99,466.282 1388.23,468.764 1388.48,467.024 1388.72,461.121 1388.96,451.258 1389.2,437.766 \n",
       "  1389.44,421.087 1389.69,401.751 1389.93,380.346 1390.17,357.489 1390.41,333.798 1390.66,309.863 1390.9,286.225 1391.14,263.357 1391.38,241.653 1391.62,221.419 \n",
       "  1391.87,202.877 1392.11,186.163 1392.35,171.343 1392.59,158.419 1392.84,147.347 1393.08,138.058 1393.32,130.48 1393.56,124.572 1393.8,120.352 1394.05,117.941 \n",
       "  1394.29,117.584 1394.53,119.655 1394.77,124.62 1395.02,132.93 1395.26,144.862 1395.5,160.315 1395.74,178.624 1395.98,198.457 1396.23,217.876 1396.47,234.59 \n",
       "  1396.71,246.356 1396.95,251.46 1397.2,249.104 1397.44,239.598 1397.68,224.281 1397.92,205.198 1398.16,184.648 1398.41,164.725 1398.65,146.996 1398.89,132.356 \n",
       "  1399.13,121.068 1399.38,112.919 1399.62,107.431 1399.86,104.036 1400.1,102.216 1400.35,101.563 1400.59,101.8 1400.83,102.768 1401.07,104.398 1401.31,106.684 \n",
       "  1401.56,109.666 1401.8,113.411 1402.04,118.011 1402.28,123.578 1402.53,130.248 1402.77,138.184 1403.01,147.574 1403.25,158.625 1403.49,171.55 1403.74,186.534 \n",
       "  1403.98,203.707 1404.22,223.101 1404.46,244.63 1404.71,268.094 1404.95,293.213 1405.19,319.689 1405.43,347.28 1405.67,375.85 1405.92,405.394 1406.16,436.001 \n",
       "  1406.4,467.786 1406.64,500.81 1406.89,535.014 1407.13,570.182 1407.37,605.946 1407.61,641.821 1407.85,677.237 1408.1,711.57 1408.34,744.155 1408.58,774.287 \n",
       "  1408.82,801.227 1409.07,824.218 1409.31,842.517 1409.55,855.434 1409.79,862.379 1410.03,862.91 1410.28,856.763 1410.52,843.875 1410.76,824.395 1411,798.677 \n",
       "  1411.25,767.271 1411.49,730.898 1411.73,690.419 1411.97,646.797 1412.21,601.058 1412.46,554.242 1412.7,507.36 1412.94,461.352 1413.18,417.054 1413.43,375.172 \n",
       "  1413.67,336.266 1413.91,300.751 1414.15,268.903 1414.39,240.869 1414.64,216.686 1414.88,196.292 1415.12,179.53 1415.36,166.147 1415.61,155.787 1415.85,147.988 \n",
       "  1416.09,142.203 1416.33,137.828 1416.57,134.266 1416.82,130.997 1417.06,127.64 1417.3,123.998 1417.54,120.061 1417.79,115.968 1418.03,111.949 1418.27,108.253 \n",
       "  1418.51,105.089 1418.76,102.594 1419,100.824 1419.24,99.7744 1419.48,99.4046 1419.72,99.6677 1419.97,100.534 1420.21,102.008 1420.45,104.132 1420.69,106.995 \n",
       "  1420.94,110.728 1421.18,115.505 1421.42,121.539 1421.66,129.088 1421.9,138.444 1422.15,149.933 1422.39,163.911 1422.63,180.745 1422.87,200.806 1423.12,224.444 \n",
       "  1423.36,251.97 1423.6,283.622 1423.84,319.547 1424.08,359.766 1424.33,404.158 1424.57,452.441 1424.81,504.172 1425.05,558.75 1425.3,615.439 1425.54,673.399 \n",
       "  1425.78,731.733 1426.02,789.524 1426.26,845.888 1426.51,900.003 1426.75,951.135 1426.99,998.639 1427.23,1041.95 1427.48,1080.56 1427.72,1113.98 1427.96,1141.73 \n",
       "  1428.2,1163.33 1428.44,1178.25 1428.69,1185.98 1428.93,1186.06 1429.17,1178.08 1429.41,1161.76 1429.66,1137.02 1429.9,1103.99 1430.14,1063.05 1430.38,1014.89 \n",
       "  1430.62,960.433 1430.87,900.856 1431.11,837.51 1431.35,771.853 1431.59,705.369 1431.84,639.489 1432.08,575.517 1432.32,514.572 1432.56,457.55 1432.8,405.107 \n",
       "  1433.05,357.656 1433.29,315.384 1433.53,278.286 1433.77,246.194 1434.02,218.822 1434.26,195.813 1434.5,176.775 1434.74,161.332 1434.98,149.16 1435.23,140.026 \n",
       "  1435.47,133.807 1435.71,130.493 1435.95,130.146 1436.2,132.828 1436.44,138.482 1436.68,146.798 1436.92,157.107 1437.17,168.341 1437.41,179.103 1437.65,187.868 \n",
       "  1437.89,193.25 1438.13,194.3 1438.38,190.712 1438.62,182.892 1438.86,171.844 1439.1,158.935 1439.35,145.591 1439.59,133.034 1439.83,122.107 1440.07,113.225 \n",
       "  1440.31,106.431 1440.56,101.506 1440.8,98.1043 1441.04,95.8552 1441.28,94.4337 1441.53,93.5915 1441.77,93.1606 1442.01,93.0416 1442.25,93.1872 1442.49,93.5871 \n",
       "  1442.74,94.2575 1442.98,95.2339 1443.22,96.5684 1443.46,98.3278 1443.71,100.594 1443.95,103.462 1444.19,107.043 1444.43,111.458 1444.67,116.838 1444.92,123.319 \n",
       "  1445.16,131.035 1445.4,140.111 1445.64,150.656 1445.89,162.75 1446.13,176.433 1446.37,191.697 1446.61,208.471 1446.85,226.62 1447.1,245.931 1447.34,266.118 \n",
       "  1447.58,286.82 1447.82,307.61 1448.07,328.008 1448.31,347.499 1448.55,365.551 1448.79,381.643 1449.03,395.288 1449.28,406.061 1449.52,413.621 1449.76,417.731 \n",
       "  1450,418.272 1450.25,415.252 1450.49,408.807 1450.73,399.194 1450.97,386.782 1451.21,372.031 1451.46,355.474 1451.7,337.695 1451.94,319.303 1452.18,300.915 \n",
       "  1452.43,283.139 1452.67,266.558 1452.91,251.727 1453.15,239.173 1453.39,229.405 1453.64,222.925 1453.88,220.254 1454.12,221.95 1454.36,228.623 1454.61,240.926 \n",
       "  1454.85,259.513 1455.09,284.953 1455.33,317.602 1455.58,357.454 1455.82,404.008 1456.06,456.211 1456.3,512.502 1456.54,570.987 1456.79,629.696 1457.03,686.873 \n",
       "  1457.27,741.193 1457.51,791.846 1457.76,838.468 1458,880.949 1458.24,919.188 1458.48,952.899 1458.72,981.508 1458.97,1004.18 1459.21,1019.94 1459.45,1027.83 \n",
       "  1459.69,1027.11 1459.94,1017.35 1460.18,998.564 1460.42,971.143 1460.66,935.889 1460.9,893.92 1461.15,846.598 1461.39,795.435 1461.63,742.006 1461.87,687.866 \n",
       "  1462.12,634.475 1462.36,583.143 1462.6,534.982 1462.84,490.88 1463.08,451.489 1463.33,417.24 1463.57,388.352 1463.81,364.869 1464.05,346.675 1464.3,333.515 \n",
       "  1464.54,324.989 1464.78,320.529 1465.02,319.373 1465.26,320.555 1465.51,322.92 1465.75,325.206 1465.99,326.175 1466.23,324.77 1466.48,320.277 1466.72,312.423 \n",
       "  1466.96,301.391 1467.2,287.747 1467.44,272.29 1467.69,255.889 1467.93,239.328 1468.17,223.217 1468.41,207.954 1468.66,193.754 1468.9,180.691 1469.14,168.757 \n",
       "  1469.38,157.909 1469.62,148.099 1469.87,139.279 1470.11,131.409 1470.35,124.449 1470.59,118.356 1470.84,113.076 1471.08,108.551 1471.32,104.713 1471.56,101.489 \n",
       "  1471.81,98.8081 1472.05,96.5965 1472.29,94.7862 1472.53,93.314 1472.77,92.123 1473.02,91.1634 1473.26,90.3923 1473.5,89.7733 1473.74,89.2763 1473.99,88.8767 \n",
       "  1474.23,88.5545 1474.47,88.2938 1474.71,88.0822 1474.95,87.9098 1475.2,87.7691 1475.44,87.6541 1475.68,87.5606 1475.92,87.4851 1476.17,87.4251 1476.41,87.3788 \n",
       "  1476.65,87.3449 1476.89,87.3225 1477.13,87.3111 1477.38,87.3103 1477.62,87.3203 1477.86,87.3412 1478.1,87.3735 1478.35,87.4177 1478.59,87.4747 1478.83,87.5456 \n",
       "  1479.07,87.6316 1479.31,87.7343 1479.56,87.8554 1479.8,87.9974 1480.04,88.1629 1480.28,88.3552 1480.53,88.5783 1480.77,88.8373 1481.01,89.1385 1481.25,89.4899 \n",
       "  1481.49,89.9018 1481.74,90.3872 1481.98,90.9634 1482.22,91.6526 1482.46,92.4837 1482.71,93.4945 1482.95,94.734 1483.19,96.2658 1483.43,98.171 1483.67,100.553 \n",
       "  1483.92,103.544 1484.16,107.303 1484.4,112.032 1484.64,117.968 1484.89,125.395 1485.13,134.64 1485.37,146.072 1485.61,160.098 1485.85,177.147 1486.1,197.657 \n",
       "  1486.34,222.048 1486.58,250.697 1486.82,283.904 1487.07,321.853 1487.31,364.579 1487.55,411.935 1487.79,463.569 1488.03,518.914 1488.28,577.188 1488.52,637.414 \n",
       "  1488.76,698.46 1489,759.082 1489.25,817.99 1489.49,873.906 1489.73,925.627 1489.97,972.073 1490.22,1012.33 1490.46,1045.66 1490.7,1071.52 1490.94,1089.56 \n",
       "  1491.18,1099.59 1491.43,1101.62 1491.67,1095.76 1491.91,1082.28 1492.15,1061.57 1492.4,1034.07 1492.64,1000.31 1492.88,960.829 1493.12,916.177 1493.36,866.927 \n",
       "  1493.61,813.708 1493.85,757.257 1494.09,698.476 1494.33,638.463 1494.58,578.487 1494.82,519.917 1495.06,464.111 1495.3,412.282 1495.54,365.4 1495.79,324.124 \n",
       "  1496.03,288.801 1496.27,259.509 1496.51,236.128 1496.76,218.429 1497,206.145 1497.24,199.037 1497.48,196.924 1497.72,199.707 1497.97,207.365 1498.21,219.95 \n",
       "  1498.45,237.563 1498.69,260.326 1498.94,288.351 1499.18,321.703 1499.42,360.364 1499.66,404.2 1499.9,452.933 1500.15,506.124 1500.39,563.164 1500.63,623.283 \n",
       "  1500.87,685.572 1501.12,749.006 1501.36,812.491 1501.6,874.899 1501.84,935.11 1502.08,992.042 1502.33,1044.68 1502.57,1092.07 1502.81,1133.35 1503.05,1167.74 \n",
       "  1503.3,1194.55 1503.54,1213.16 1503.78,1223.1 1504.02,1223.99 1504.26,1215.67 1504.51,1198.16 1504.75,1171.69 1504.99,1136.71 1505.23,1093.9 1505.48,1044.08 \n",
       "  1505.72,988.21 1505.96,927.37 1506.2,862.72 1506.44,795.509 1506.69,727.057 1506.93,658.723 1507.17,591.86 1507.41,527.729 1507.66,467.424 1507.9,411.803 \n",
       "  1508.14,361.442 1508.38,316.636 1508.63,277.419 1508.87,243.617 1509.11,214.894 1509.35,190.812 1509.59,170.868 1509.84,154.536 1510.08,141.293 1510.32,130.644 \n",
       "  1510.56,122.135 1510.81,115.366 1511.05,109.994 1511.29,105.733 1511.53,102.348 1511.77,99.6494 1512.02,97.4893 1512.26,95.7497 1512.5,94.3392 1512.74,93.1868 \n",
       "  1512.99,92.2376 1513.23,91.4492 1513.47,90.7893 1513.71,90.2327 1513.95,89.7601 1514.2,89.3567 1514.44,89.0108 1514.68,88.7133 1514.92,88.4571 1515.17,88.2366 \n",
       "  1515.41,88.0471 1515.65,87.8849 1515.89,87.7472 1516.13,87.6313 1516.38,87.5352 1516.62,87.4573 1516.86,87.3963 1517.1,87.3509 1517.35,87.3205 1517.59,87.3044 \n",
       "  1517.83,87.3023 1518.07,87.3141 1518.31,87.3398 1518.56,87.38 1518.8,87.4355 1519.04,87.5074 1519.28,87.5974 1519.53,87.7079 1519.77,87.8419 1520.01,88.0035 \n",
       "  1520.25,88.1984 1520.49,88.4337 1520.74,88.7191 1520.98,89.0668 1521.22,89.4933 1521.46,90.0194 1521.71,90.6722 1521.95,91.4859 1522.19,92.5038 1522.43,93.7795 \n",
       "  1522.67,95.3791 1522.92,97.3823 1523.16,99.8841 1523.4,102.995 1523.64,106.843 1523.89,111.569 1524.13,117.328 1524.37,124.284 1524.61,132.604 1524.85,142.45 \n",
       "  1525.1,153.97 1525.34,167.287 1525.58,182.486 1525.82,199.6 1526.07,218.598 1526.31,239.375 1526.55,261.739 1526.79,285.41 1527.04,310.015 1527.28,335.096 \n",
       "  1527.52,360.121 1527.76,384.498 1528,407.601 1528.25,428.794 1528.49,447.467 1528.73,463.06 1528.97,475.098 1529.22,483.219 1529.46,487.194 1529.7,486.94 \n",
       "  1529.94,482.529 1530.18,474.186 1530.43,462.276 1530.67,447.284 1530.91,429.792 1531.15,410.445 1531.4,389.922 1531.64,368.903 1531.88,348.038 1532.12,327.922 \n",
       "  1532.36,309.072 1532.61,291.919 1532.85,276.796 1533.09,263.937 1533.33,253.483 1533.58,245.49 1533.82,239.935 1534.06,236.737 1534.3,235.759 1534.54,236.825 \n",
       "  1534.79,239.724 1535.03,244.223 1535.27,250.064 1535.51,256.972 1535.76,264.654 1536,272.804 1536.24,281.103 1536.48,289.225 1536.72,296.845 1536.97,303.642 \n",
       "  1537.21,309.316 1537.45,313.596 1537.69,316.253 1537.94,317.112 1538.18,316.063 1538.42,313.067 1538.66,308.16 1538.9,301.454 1539.15,293.135 1539.39,283.453 \n",
       "  1539.63,272.714 1539.87,261.27 1540.12,249.503 1540.36,237.817 1540.6,226.626 1540.84,216.345 1541.08,207.389 1541.33,200.163 1541.57,195.07 1541.81,192.507 \n",
       "  1542.05,192.868 1542.3,196.546 1542.54,203.933 1542.78,215.417 1543.02,231.37 1543.26,252.14 1543.51,278.026 1543.75,309.26 1543.99,345.976 1544.23,388.176 \n",
       "  1544.48,435.705 1544.72,488.217 1544.96,545.151 1545.2,605.722 1545.45,668.913 1545.69,733.489 1545.93,798.022 1546.17,860.934 1546.41,920.554 1546.66,975.189 \n",
       "  1546.9,1023.2 1547.14,1063.07 1547.38,1093.52 1547.63,1113.52 1547.87,1122.4 1548.11,1119.86 1548.35,1106 1548.59,1081.29 1548.84,1046.58 1549.08,1003.03 \n",
       "  1549.32,952.053 1549.56,895.228 1549.81,834.248 1550.05,770.82 1550.29,706.601 1550.53,643.131 1550.77,581.789 1551.02,523.755 1551.26,469.995 1551.5,421.258 \n",
       "  1551.74,378.087 1551.99,340.839 1552.23,309.716 1552.47,284.789 1552.71,266.038 1552.95,253.372 1553.2,246.655 1553.44,245.725 1553.68,250.392 1553.92,260.45 \n",
       "  1554.17,275.659 1554.41,295.739 1554.65,320.352 1554.89,349.082 1555.13,381.419 1555.38,416.75 1555.62,454.35 1555.86,493.384 1556.1,532.922 1556.35,571.96 \n",
       "  1556.59,609.452 1556.83,644.354 1557.07,675.671 1557.31,702.508 1557.56,724.125 1557.8,739.98 1558.04,749.777 1558.28,753.49 1558.53,751.379 1558.77,743.994 \n",
       "  1559.01,732.154 1559.25,716.913 1559.49,699.51 1559.74,681.309 1559.98,663.717 1560.22,648.117 1560.46,635.777 1560.71,627.784 1560.95,624.973 1561.19,627.878 \n",
       "  1561.43,636.698 1561.67,651.288 1561.92,671.161 1562.16,695.529 1562.4,723.35 1562.64,753.4 1562.89,784.358 1563.13,814.901 1563.37,843.796 1563.61,869.992 \n",
       "  1563.86,892.703 1564.1,911.464 1564.34,926.174 1564.58,937.099 1564.82,944.853 1565.07,950.339 1565.31,954.669 1565.55,959.051 1565.79,964.673 1566.04,972.57 \n",
       "  1566.28,983.516 1566.52,997.921 1566.76,1015.77 1567,1036.59 1567.25,1059.5 1567.49,1083.19 1567.73,1106.13 1567.97,1126.56 1568.22,1142.74 1568.46,1153.02 \n",
       "  1568.7,1155.96 1568.94,1150.46 1569.18,1135.85 1569.43,1111.87 1569.67,1078.71 1569.91,1036.99 1570.15,987.692 1570.4,932.069 1570.64,871.584 1570.88,807.801 \n",
       "  1571.12,742.301 1571.36,676.596 1571.61,612.069 1571.85,549.917 1572.09,491.122 1572.33,436.43 1572.58,386.355 1572.82,341.19 1573.06,301.029 1573.3,265.794 \n",
       "  1573.54,235.275 1573.79,209.159 1574.03,187.065 1574.27,168.57 1574.51,153.241 1574.76,140.65 1575,130.392 1575.24,122.092 1575.48,115.418 1575.72,110.077 \n",
       "  1575.97,105.818 1576.21,102.43 1576.45,99.7395 1576.69,97.605 1576.94,95.9128 1577.18,94.5733 1577.42,93.5168 1577.66,92.6898 1577.9,92.0525 1578.15,91.5763 \n",
       "  1578.39,91.2433 1578.63,91.0465 1578.87,90.9927 1579.12,91.1069 1579.36,91.4389 1579.6,92.0699 1579.84,93.1169 1580.08,94.7279 1580.33,97.0652 1580.57,100.272 \n",
       "  1580.81,104.421 1581.05,109.463 1581.3,115.179 1581.54,121.167 1581.78,126.882 1582.02,131.718 1582.27,135.134 1582.51,136.781 1582.75,136.595 1582.99,134.828 \n",
       "  1583.23,132.001 1583.48,128.809 1583.72,125.986 1583.96,124.205 1584.2,123.998 1584.45,125.745 1584.69,129.694 1584.93,136.014 1585.17,144.844 1585.41,156.333 \n",
       "  1585.66,170.659 1585.9,188.031 1586.14,208.672 1586.38,232.789 1586.63,260.547 1586.87,292.035 1587.11,327.235 1587.35,365.992 1587.59,407.999 1587.84,452.776 \n",
       "  1588.08,499.667 1588.32,547.843 1588.56,596.319 1588.81,643.982 1589.05,689.629 1589.29,732.02 1589.53,769.928 1589.77,802.203 1590.02,827.834 1590.26,845.997 \n",
       "  1590.5,856.109 1590.74,857.862 1590.99,851.239 1591.23,836.522 1591.47,814.279 1591.71,785.336 1591.95,750.741 1592.2,711.709 1592.44,669.574 1592.68,625.729 \n",
       "  1592.92,581.577 1593.17,538.483 1593.41,497.733 1593.65,460.507 1593.89,427.859 1594.13,400.701 1594.38,379.805 1594.62,365.796 1594.86,359.154 1595.1,360.218 \n",
       "  1595.35,369.182 1595.59,386.091 1595.83,410.83 1596.07,443.121 1596.31,482.505 1596.56,528.335 1596.8,579.769 1597.04,635.772 1597.28,695.118 1597.53,756.405 \n",
       "  1597.77,818.078 1598.01,878.459 1598.25,935.796 1598.5,988.315 1598.74,1034.3 1598.98,1072.18 1599.22,1100.62 1599.46,1118.61 1599.71,1125.54 1599.95,1121.25 \n",
       "  1600.19,1106.02 1600.43,1080.52 1600.68,1045.82 1600.92,1003.21 1601.16,954.202 1601.4,900.363 1601.64,843.292 1601.89,784.521 1602.13,725.472 1602.37,667.404 \n",
       "  1602.61,611.378 1602.86,558.241 1603.1,508.612 1603.34,462.886 1603.58,421.255 1603.82,383.73 1604.07,350.176 1604.31,320.348 1604.55,293.93 1604.79,270.568 \n",
       "  1605.04,249.9 1605.28,231.576 1605.52,215.281 1605.76,200.739 1606,187.718 1606.25,176.034 1606.49,165.541 1606.73,156.131 1606.97,147.723 1607.22,140.257 \n",
       "  1607.46,133.688 1607.7,127.98 1607.94,123.102 1608.18,119.026 1608.43,115.723 1608.67,113.162 1608.91,111.312 1609.15,110.14 1609.4,109.615 1609.64,109.705 \n",
       "  1609.88,110.383 1610.12,111.624 1610.36,113.412 1610.61,115.74 1610.85,118.618 1611.09,122.069 1611.33,126.145 1611.58,130.923 1611.82,136.52 1612.06,143.093 \n",
       "  1612.3,150.846 1612.54,160.035 1612.79,170.969 1613.03,184.006 1613.27,199.544 1613.51,218.01 1613.76,239.839 1614,265.445 1614.24,295.191 1614.48,329.352 \n",
       "  1614.72,368.077 1614.97,411.356 1615.21,458.989 1615.45,510.568 1615.69,565.473 1615.94,622.888 1616.18,681.824 1616.42,741.171 1616.66,799.748 1616.91,856.369 \n",
       "  1617.15,909.906 1617.39,959.342 1617.63,1003.82 1617.87,1042.65 1618.12,1075.35 1618.36,1101.62 1618.6,1121.34 1618.84,1134.54 1619.09,1141.37 1619.33,1142.1 \n",
       "  1619.57,1137.09 1619.81,1126.76 1620.05,1111.6 1620.3,1092.13 1620.54,1068.88 1620.78,1042.38 1621.02,1013.11 1621.27,981.508 1621.51,947.914 1621.75,912.604 \n",
       "  1621.99,875.776 1622.23,837.569 1622.48,798.092 1622.72,757.451 1622.96,715.784 1623.2,673.28 1623.45,630.193 1623.69,586.85 1623.93,543.638 1624.17,500.992 \n",
       "  1624.41,459.366 1624.66,419.207 1624.9,380.934 1625.14,344.909 1625.38,311.425 1625.63,280.689 1625.87,252.826 1626.11,227.873 1626.35,205.794 1626.59,186.484 \n",
       "  1626.84,169.786 1627.08,155.502 1627.32,143.413 1627.56,133.282 1627.81,124.873 1628.05,117.957 1628.29,112.317 1628.53,107.757 1628.77,104.099 1629.02,101.189 \n",
       "  1629.26,98.8963 1629.5,97.1095 1629.74,95.7383 1629.99,94.7105 1630.23,93.9697 1630.47,93.4745 1630.71,93.1963 1630.95,93.1182 1631.2,93.2346 1631.44,93.5507 \n",
       "  1631.68,94.0827 1631.92,94.8587 1632.17,95.9203 1632.41,97.3254 1632.65,99.1534 1632.89,101.512 1633.13,104.552 1633.38,108.479 1633.62,113.586 1633.86,120.271 \n",
       "  1634.1,129.061 1634.35,140.617 1634.59,155.697 1634.83,175.074 1635.07,199.394 1635.32,228.988 1635.56,263.686 1635.8,302.692 1636.04,344.581 1636.28,387.463 \n",
       "  1636.53,429.293 1636.77,468.273 1637.01,503.2 1637.25,533.682 1637.5,560.125 1637.74,583.503 1637.98,604.997 1638.22,625.607 1638.46,645.865 1638.71,665.702 \n",
       "  1638.95,684.489 1639.19,701.201 1639.43,714.64 1639.68,723.648 1639.92,727.273 1640.16,724.874 1640.4,716.153 1640.64,701.154 1640.89,680.229 1641.13,653.984 \n",
       "  1641.37,623.226 1641.61,588.915 1641.86,552.113 1642.1,513.949 1642.34,475.596 1642.58,438.25 1642.82,403.11 1643.07,371.339 1643.31,343.996 1643.55,321.915 \n",
       "  1643.79,305.556 1644.04,294.836 1644.28,289.008 1644.52,286.647 1644.76,285.789 1645,284.236 1645.25,279.964 1645.49,271.54 1645.73,258.41 1645.97,240.984 \n",
       "  1646.22,220.482 1646.46,198.599 1646.7,177.098 1646.94,157.454 1647.18,140.636 1647.43,127.049 1647.67,116.618 1647.91,108.946 1648.15,103.483 1648.4,99.6707 \n",
       "  1648.64,97.0254 1648.88,95.1747 1649.12,93.8572 1649.36,92.9031 1649.61,92.2097 1649.85,91.7199 1650.09,91.4082 1650.33,91.2741 1650.58,91.3426 1650.82,91.6699 \n",
       "  1651.06,92.3506 1651.3,93.5242 1651.54,95.371 1651.79,98.0946 1652.03,101.882 1652.27,106.844 1652.51,112.948 1652.76,119.96 1653,127.428 1653.24,134.719 \n",
       "  1653.48,141.138 1653.73,146.081 1653.97,149.21 1654.21,150.567 1654.45,150.601 1654.69,150.063 1654.94,149.805 1655.18,150.53 1655.42,152.564 1655.66,155.736 \n",
       "  1655.91,159.394 1656.15,162.569 1656.39,164.233 1656.63,163.573 1656.87,160.2 1657.12,154.238 1657.36,146.265 1657.6,137.15 1657.84,127.835 1658.09,119.143 \n",
       "  1658.33,111.646 1658.57,105.628 1658.81,101.119 1659.05,97.971 1659.3,95.9498 1659.54,94.8078 1659.78,94.3331 1660.02,94.3706 1660.27,94.8255 1660.51,95.6542 \n",
       "  1660.75,96.854 1660.99,98.4523 1661.23,100.5 1661.48,103.064 1661.72,106.229 1661.96,110.096 1662.2,114.778 1662.45,120.405 1662.69,127.122 1662.93,135.087 \n",
       "  1663.17,144.473 1663.41,155.461 1663.66,168.24 1663.9,182.997 1664.14,199.915 1664.38,219.159 1664.63,240.869 1664.87,265.141 1665.11,292.018 1665.35,321.473 \n",
       "  1665.59,353.391 1665.84,387.558 1666.08,423.647 1666.32,461.214 1666.56,499.695 1666.81,538.412 1667.05,576.593 1667.29,613.391 1667.53,647.924 1667.77,679.311 \n",
       "  1668.02,706.728 1668.26,729.455 1668.5,746.93 1668.74,758.797 1668.99,764.949 1669.23,765.55 1669.47,761.056 1669.71,752.204 1669.95,739.995 1670.2,725.647 \n",
       "  1670.44,710.541 1670.68,696.145 1670.92,683.933 1671.17,675.297 1671.41,671.458 1671.65,673.385 1671.89,681.728 1672.14,696.763 1672.38,718.365 1672.62,745.999 \n",
       "  1672.86,778.739 1673.1,815.312 1673.35,854.161 1673.59,893.528 1673.83,931.546 1674.07,966.346 1674.32,996.149 1674.56,1019.37 1674.8,1034.69 1675.04,1041.12 \n",
       "  1675.28,1038.07 1675.53,1025.32 1675.77,1003.07 1676.01,971.88 1676.25,932.633 1676.5,886.48 1676.74,834.767 1676.98,778.953 1677.22,720.537 1677.46,660.985 \n",
       "  1677.71,601.665 1677.95,543.798 1678.19,488.417 1678.43,436.352 1678.68,388.211 1678.92,344.395 1679.16,305.11 1679.4,270.388 1679.64,240.12 1679.89,214.082 \n",
       "  1680.13,191.974 1680.37,173.443 1680.61,158.111 1680.86,145.6 1681.1,135.548 1681.34,127.623 1681.58,121.534 1681.82,117.034 1682.07,113.928 1682.31,112.075 \n",
       "  1682.55,111.382 1682.79,111.81 1683.04,113.368 1683.28,116.115 1683.52,120.152 1683.76,125.62 1684,132.696 1684.25,141.583 1684.49,152.504 1684.73,165.688 \n",
       "  1684.97,181.357 1685.22,199.708 1685.46,220.897 1685.7,245.018 1685.94,272.083 1686.18,302.004 1686.43,334.577 1686.67,369.476 1686.91,406.242 1687.15,444.295 \n",
       "  1687.4,482.943 1687.64,521.405 1687.88,558.843 1688.12,594.396 1688.36,627.223 1688.61,656.543 1688.85,681.674 1689.09,702.062 1689.33,717.309 1689.58,727.182 \n",
       "  1689.82,731.616 1690.06,730.704 1690.3,724.685 1690.55,713.914 1690.79,698.844 1691.03,680 1691.27,657.958 1691.51,633.328 1691.76,606.749 1692,578.876 \n",
       "  1692.24,550.383 1692.48,521.964 1692.73,494.329 1692.97,468.209 1693.21,444.346 1693.45,423.492 1693.69,406.39 1693.94,393.765 1694.18,386.297 1694.42,384.605 \n",
       "  1694.66,389.213 1694.91,400.528 1695.15,418.81 1695.39,444.141 1695.63,476.401 1695.87,515.247 1696.12,560.091 1696.36,610.096 1696.6,664.175 1696.84,721.011 \n",
       "  1697.09,779.085 1697.33,836.73 1697.57,892.193 1697.81,943.716 1698.05,989.609 1698.3,1028.33 1698.54,1058.56 1698.78,1079.25 1699.02,1089.63 1699.27,1089.28 \n",
       "  1699.51,1078.14 1699.75,1056.49 1699.99,1024.96 1700.23,984.544 1700.48,936.527 1700.72,882.452 1700.96,824.034 1701.2,763.061 1701.45,701.301 1701.69,640.412 \n",
       "  1701.93,581.871 1702.17,526.933 1702.41,476.605 1702.66,431.649 1702.9,392.589 1703.14,359.736 1703.38,333.205 1703.63,312.942 1703.87,298.745 1704.11,290.287 \n",
       "  1704.35,287.131 1704.59,288.75 1704.84,294.537 1705.08,303.826 1705.32,315.899 1705.56,330.001 1705.81,345.359 1706.05,361.195 1706.29,376.745 1706.53,391.287 \n",
       "  1706.77,404.153 1707.02,414.765 1707.26,422.648 1707.5,427.455 1707.74,428.985 1707.99,427.186 1708.23,422.157 1708.47,414.133 1708.71,403.464 1708.96,390.576 \n",
       "  1709.2,375.947 1709.44,360.076 1709.68,343.488 1709.92,326.758 1710.17,310.539 1710.41,295.602 1710.65,282.818 1710.89,273.074 1711.14,267.111 1711.38,265.291 \n",
       "  1711.62,267.368 1711.86,272.353 1712.1,278.535 1712.35,283.728 1712.59,285.685 1712.83,282.592 1713.07,273.493 1713.32,258.507 1713.56,238.77 1713.8,216.132 \n",
       "  1714.04,192.712 1714.28,170.447 1714.53,150.767 1714.77,134.453 1715.01,121.673 1715.25,112.133 1715.5,105.281 1715.74,100.488 1715.98,97.1679 1716.22,94.8513 \n",
       "  1716.46,93.1942 1716.71,91.9651 1716.95,91.0177 1717.19,90.2632 1717.43,89.6482 1717.68,89.1399 1717.92,88.7163 1718.16,88.3619 1718.4,88.0644 1718.64,87.8138 \n",
       "  1718.89,87.6019 1719.13,87.4218 1719.37,87.2677 1719.61,87.1352 1719.86,87.0206 1720.1,86.9208 1720.34,86.8335 1720.58,86.757 1720.82,86.6896 1721.07,86.6304 \n",
       "  1721.31,86.5783 1721.55,86.5326 1721.79,86.4925 1722.04,86.4577 1722.28,86.4277 1722.52,86.402 1722.76,86.3803 1723,86.3624 1723.25,86.348 1723.49,86.3369 \n",
       "  1723.73,86.3291 1723.97,86.3245 1724.22,86.323 1724.46,86.3248 1724.7,86.3298 1724.94,86.3383 1725.19,86.3504 1725.43,86.3666 1725.67,86.3871 1725.91,86.4125 \n",
       "  1726.15,86.4431 1726.4,86.4798 1726.64,86.5231 1726.88,86.574 1727.12,86.6334 1727.37,86.7023 1727.61,86.7821 1727.85,86.8742 1728.09,86.9802 1728.33,87.1021 \n",
       "  1728.58,87.2422 1728.82,87.4032 1729.06,87.5883 1729.3,87.8015 1729.55,88.0477 1729.79,88.3331 1730.03,88.6654 1730.27,89.0545 1730.51,89.5132 1730.76,90.058 \n",
       "  1731,90.7104 1731.24,91.498 1731.48,92.457 1731.73,93.634 1731.97,95.0886 1732.21,96.8969 1732.45,99.1548 1732.69,101.982 1732.94,105.526 1733.18,109.966 \n",
       "  1733.42,115.514 1733.66,122.423 1733.91,130.98 1734.15,141.511 1734.39,154.371 1734.63,169.94 1734.87,188.609 1735.12,210.763 1735.36,236.758 1735.6,266.9 \n",
       "  1735.84,301.409 1736.09,340.395 1736.33,383.823 1736.57,431.488 1736.81,482.986 1737.05,537.706 1737.3,594.819 1737.54,653.29 1737.78,711.897 1738.02,769.266 \n",
       "  1738.27,823.926 1738.51,874.364 1738.75,919.096 1738.99,956.74 1739.23,986.088 1739.48,1006.17 1739.72,1016.31 1739.96,1016.16 1740.2,1005.73 1740.45,985.371 \n",
       "  1740.69,955.773 1740.93,917.911 1741.17,873.003 1741.41,822.432 1741.66,767.686 1741.9,710.277 1742.14,651.676 1742.38,593.252 1742.63,536.221 1742.87,481.615 \n",
       "  1743.11,430.255 1743.35,382.747 1743.6,339.489 1743.84,300.681 1744.08,266.355 1744.32,236.398 1744.56,210.588 1744.81,188.618 1745.05,170.134 1745.29,154.753 \n",
       "  1745.53,142.088 1745.78,131.764 1746.02,123.431 1746.26,116.771 1746.5,111.506 1746.74,107.394 1746.99,104.235 1747.23,101.869 1747.47,100.175 1747.71,99.0795 \n",
       "  1747.96,98.5613 1748.2,98.6706 1748.44,99.5481 1748.68,101.445 1748.92,104.732 1749.17,109.881 1749.41,117.405 1749.65,127.734 1749.89,141.057 1750.14,157.141 \n",
       "  1750.38,175.192 1750.62,193.827 1750.86,211.207 1751.1,225.326 1751.35,234.415 1751.59,237.338 1751.83,233.861 1752.07,224.713 1752.32,211.409 1752.56,195.894 \n",
       "  1752.8,180.125 1753.04,165.718 1753.28,153.732 1753.53,144.621 1753.77,138.329 1754.01,134.455 1754.25,132.434 1754.5,131.683 1754.74,131.686 1754.98,132.04 \n",
       "  1755.22,132.453 1755.46,132.733 1755.71,132.76 1755.95,132.471 1756.19,131.842 1756.43,130.879 1756.68,129.612 1756.92,128.087 1757.16,126.368 1757.4,124.531 \n",
       "  1757.64,122.662 1757.89,120.858 1758.13,119.221 1758.37,117.864 1758.61,116.907 1758.86,116.484 1759.1,116.741 1759.34,117.848 1759.58,119.997 1759.82,123.414 \n",
       "  1760.07,128.361 1760.31,135.142 1760.55,144.103 1760.79,155.632 1761.04,170.15 1761.28,188.099 1761.52,209.924 1761.76,236.042 1762.01,266.811 1762.25,302.494 \n",
       "  1762.49,343.219 1762.73,388.945 1762.97,439.432 1763.22,494.225 1763.46,552.65 1763.7,613.84 1763.94,676.758 1764.19,740.26 1764.43,803.149 1764.67,864.247 \n",
       "  1764.91,922.453 1765.15,976.804 1765.4,1026.5 1765.64,1070.93 1765.88,1109.66 1766.12,1142.41 1766.37,1169.01 1766.61,1189.35 1766.85,1203.36 1767.09,1210.95 \n",
       "  1767.33,1211.98 1767.58,1206.3 1767.82,1193.7 1768.06,1174.01 1768.3,1147.13 1768.55,1113.06 1768.79,1071.98 1769.03,1024.31 1769.27,970.711 1769.51,912.076 \n",
       "  1769.76,849.539 1770,784.4 1770.24,718.063 1770.48,651.957 1770.73,587.449 1770.97,525.776 1771.21,467.982 1771.45,414.882 1771.69,367.051 1771.94,324.824 \n",
       "  1772.18,288.33 1772.42,257.524 1772.66,232.241 1772.91,212.239 1773.15,197.253 1773.39,187.03 1773.63,181.372 1773.87,180.152 1774.12,183.334 1774.36,190.975 \n",
       "  1774.6,203.217 1774.84,220.271 1775.09,242.389 1775.33,269.832 1775.57,302.822 1775.81,341.498 1776.05,385.867 1776.3,435.756 1776.54,490.781 1776.78,550.313 \n",
       "  1777.02,613.483 1777.27,679.193 1777.51,746.155 1777.75,812.952 1777.99,878.114 1778.23,940.202 1778.48,997.892 1778.72,1050.05 1778.96,1095.77 1779.2,1134.42 \n",
       "  1779.45,1165.62 1779.69,1189.25 1779.93,1205.33 1780.17,1214.05 1780.42,1215.63 1780.66,1210.31 1780.9,1198.34 1781.14,1179.9 1781.38,1155.18 1781.63,1124.36 \n",
       "  1781.87,1087.68 1782.11,1045.48 1782.35,998.214 1782.6,946.532 1782.84,891.247 1783.08,833.345 1783.32,773.962 1783.56,714.341 1783.81,655.775 1784.05,599.552 \n",
       "  1784.29,546.899 1784.53,498.931 1784.78,456.61 1785.02,420.72 1785.26,391.848 1785.5,370.387 1785.74,356.537 1785.99,350.312 1786.23,351.556 1786.47,359.956 \n",
       "  1786.71,375.049 1786.96,396.232 1787.2,422.776 1787.44,453.832 1787.68,488.45 1787.92,525.591 1788.17,564.16 1788.41,603.028 1788.65,641.07 1788.89,677.199 \n",
       "  1789.14,710.402 1789.38,739.768 1789.62,764.519 1789.86,784.021 1790.1,797.802 1790.35,805.548 1790.59,807.104 1790.83,802.464 1791.07,791.762 1791.32,775.262 \n",
       "  1791.56,753.347 1791.8,726.506 1792.04,695.329 1792.28,660.487 1792.53,622.718 1792.77,582.81 1793.01,541.572 1793.25,499.812 1793.5,458.307 1793.74,417.775 \n",
       "  1793.98,378.849 1794.22,342.063 1794.46,307.832 1794.71,276.451 1794.95,248.094 1795.19,222.822 1795.43,200.598 1795.68,181.301 1795.92,164.747 1796.16,150.709 \n",
       "  1796.4,138.931 1796.64,129.146 1796.89,121.092 1797.13,114.516 1797.37,109.184 1797.61,104.887 1797.86,101.442 1798.1,98.6886 1798.34,96.4939 1798.58,94.7467 \n",
       "  1798.83,93.3561 1799.07,92.2487 1799.31,91.3662 1799.55,90.6627 1799.79,90.1025 1800.04,89.6584 1800.28,89.3096 1800.52,89.041 1800.76,88.8417 1801.01,88.7045 \n",
       "  1801.25,88.6252 1801.49,88.6021 1801.73,88.636 1801.97,88.7296 1802.22,88.8877 1802.46,89.1172 1802.7,89.4276 1802.94,89.8331 1803.19,90.3553 1803.43,91.0305 \n",
       "  1803.67,91.9213 1803.91,93.134 1804.15,94.843 1804.4,97.3163 1804.64,100.935 1804.88,106.192 1805.12,113.646 1805.37,123.826 1805.61,137.077 1805.85,153.368 \n",
       "  1806.09,172.124 1806.33,192.141 1806.58,211.654 1806.82,228.582 1807.06,240.925 1807.3,247.203 1807.55,246.825 1807.79,240.254 1808.03,228.928 1808.27,214.953 \n",
       "  1808.51,200.676 1808.76,188.271 1809,179.444 1809.24,175.309 1809.48,176.429 1809.73,182.964 1809.97,194.853 1810.21,211.967 1810.45,234.208 1810.69,261.546 \n",
       "  1810.94,294.003 1811.18,331.607 1811.42,374.331 1811.66,422.04 1811.91,474.434 1812.15,531.014 1812.39,591.059 1812.63,653.616 1812.87,717.512 1813.12,781.375 \n",
       "  1813.36,843.676 1813.6,902.79 1813.84,957.057 1814.09,1004.86 1814.33,1044.72 1814.57,1075.34 1814.81,1095.7 1815.05,1105.11 1815.3,1103.27 1815.54,1090.22 \n",
       "  1815.78,1066.42 1816.02,1032.67 1816.27,990.092 1816.51,940.044 1816.75,884.074 1816.99,823.826 1817.24,760.968 1817.48,697.119 1817.72,633.783 1817.96,572.302 \n",
       "  1818.2,513.808 1818.45,459.203 1818.69,409.138 1818.93,364.01 1819.17,323.971 1819.42,288.959 1819.66,258.733 1819.9,232.932 1820.14,211.135 1820.38,192.926 \n",
       "  1820.63,177.935 1820.87,165.878 1821.11,156.562 1821.35,149.878 1821.6,145.791 1821.84,144.32 1822.08,145.53 1822.32,149.528 1822.56,156.468 1822.81,166.551 \n",
       "  1823.05,180.027 1823.29,197.186 1823.53,218.342 1823.78,243.807 1824.02,273.857 1824.26,308.695 1824.5,348.413 1824.74,392.957 1824.99,442.09 1825.23,495.379 \n",
       "  1825.47,552.181 1825.71,611.66 1825.96,672.808 1826.2,734.495 1826.44,795.522 1826.68,854.691 1826.92,910.87 1827.17,963.051 1827.41,1010.39 1827.65,1052.24 \n",
       "  1827.89,1088.13 1828.14,1117.75 1828.38,1140.92 1828.62,1157.52 1828.86,1167.48 1829.1,1170.69 1829.35,1167.04 1829.59,1156.41 1829.83,1138.72 1830.07,1113.95 \n",
       "  1830.32,1082.24 1830.56,1043.94 1830.8,999.615 1831.04,950.081 1831.28,896.351 1831.53,839.564 1831.77,780.885 1832.01,721.414 1832.25,662.106 1832.5,603.746 \n",
       "  1832.74,546.962 1832.98,492.282 1833.22,440.191 1833.46,391.178 1833.71,345.739 1833.95,304.337 1834.19,267.344 1834.43,234.974 1834.68,207.239 1834.92,183.951 \n",
       "  1835.16,164.749 1835.4,149.155 1835.65,136.643 1835.89,126.684 1836.13,118.797 1836.37,112.562 1836.61,107.632 1836.86,103.725 1837.1,100.62 1837.34,98.1402 \n",
       "  1837.58,96.1507 1837.83,94.5451 1838.07,93.2406 1838.31,92.1731 1838.55,91.2928 1838.79,90.561 1839.04,89.9478 1839.28,89.4301 1839.52,88.9899 1839.76,88.6132 \n",
       "  1840.01,88.2892 1840.25,88.0092 1840.49,87.7665 1840.73,87.5556 1840.97,87.372 1841.22,87.212 1841.46,87.0727 1841.7,86.9515 1841.94,86.8462 1842.19,86.755 \n",
       "  1842.43,86.6761 1842.67,86.6083 1842.91,86.5502 1843.15,86.5009 1843.4,86.4594 1843.64,86.4248 1843.88,86.3966 1844.12,86.3741 1844.37,86.3569 1844.61,86.3446 \n",
       "  1844.85,86.3369 1845.09,86.3338 1845.33,86.3351 1845.58,86.3408 1845.82,86.351 1846.06,86.366 1846.3,86.3861 1846.55,86.4116 1846.79,86.4431 1847.03,86.4811 \n",
       "  1847.27,86.5266 1847.51,86.5802 1847.76,86.643 1848,86.7162 1848.24,86.8012 1848.48,86.8994 1848.73,87.0128 1848.97,87.1435 1849.21,87.2939 1849.45,87.4671 \n",
       "  1849.69,87.6667 1849.94,87.897 1850.18,88.1636 1850.42,88.4731 1850.66,88.8341 1850.91,89.2574 1851.15,89.757 1851.39,90.3507 1851.63,91.0617 1851.88,91.92 \n",
       "  1852.12,92.9642 1852.36,94.2439 1852.6,95.8226 1852.84,97.7808 1853.09,100.22 1853.33,103.265 1853.57,107.071 1853.81,111.824 1854.06,117.747 1854.3,125.1 \n",
       "  1854.54,134.183 1854.78,145.332 1855.02,158.914 1855.27,175.322 1855.51,194.958 1855.75,218.218 1855.99,245.466 1856.24,277.014 1856.48,313.082 1856.72,353.777 \n",
       "  1856.96,399.051 1857.2,448.683 1857.45,502.254 1857.69,559.14 1857.93,618.517 1858.17,679.388 1858.42,740.617 1858.66,800.998 1858.9,859.318 1859.14,914.445 \n",
       "  1859.38,965.405 1859.63,1011.45 1859.87,1052.12 1860.11,1087.24 1860.35,1116.94 1860.6,1141.6 1860.84,1161.74 1861.08,1177.99 1861.32,1190.89 1861.56,1200.88 \n",
       "  1861.81,1208.15 1862.05,1212.62 1862.29,1213.92 1862.53,1211.46 1862.78,1204.46 1863.02,1192.07 1863.26,1173.52 1863.5,1148.18 1863.74,1115.67 1863.99,1075.99 \n",
       "  1864.23,1029.46 1864.47,976.764 1864.71,918.918 1864.96,857.17 1865.2,792.935 1865.44,727.694 1865.68,662.905 1865.92,599.93 1866.17,539.966 1866.41,484.01 \n",
       "  1866.65,432.835 1866.89,386.988 1867.14,346.798 1867.38,312.405 1867.62,283.779 1867.86,260.76 1868.1,243.08 1868.35,230.399 1868.59,222.316 1868.83,218.398 \n",
       "  1869.07,218.184 1869.32,221.195 1869.56,226.943 1869.8,234.93 1870.04,244.65 1870.29,255.6 1870.53,267.28 1870.77,279.204 1871.01,290.911 1871.25,301.98 \n",
       "  1871.5,312.046 1871.74,320.818 1871.98,328.093 1872.22,333.777 1872.47,337.893 1872.71,340.593 1872.95,342.158 1873.19,343.001 1873.43,343.654 1873.68,344.754 \n",
       "  1873.92,347.02 1874.16,351.224 1874.4,358.157 1874.65,368.589 1874.89,383.227 1875.13,402.669 1875.37,427.366 1875.61,457.575 1875.86,493.329 1876.1,534.41 \n",
       "  1876.34,580.335 1876.58,630.353 1876.83,683.461 1877.07,738.437 1877.31,793.885 1877.55,848.303 1877.79,900.16 1878.04,947.982 1878.28,990.445 1878.52,1026.46 \n",
       "  1878.76,1055.25 1879.01,1076.4 1879.25,1089.91 1879.49,1096.17 1879.73,1095.95 1879.97,1090.32 1880.22,1080.55 1880.46,1068.05 1880.7,1054.18 1880.94,1040.21 \n",
       "  1881.19,1027.16 1881.43,1015.79 1881.67,1006.51 1881.91,999.432 1882.15,994.352 1882.4,990.839 1882.64,988.293 1882.88,986.027 1883.12,983.342 1883.37,979.582 \n",
       "  1883.61,974.187 1883.85,966.716 1884.09,956.859 1884.33,944.435 1884.58,929.38 1884.82,911.735 1885.06,891.635 1885.3,869.296 1885.55,845.012 1885.79,819.16 \n",
       "  1886.03,792.2 1886.27,764.683 1886.51,737.253 1886.76,710.648 1887,685.692 1887.24,663.271 1887.48,644.31 1887.73,629.73 1887.97,620.396 1888.21,617.066 \n",
       "  1888.45,620.331 1888.7,630.558 1888.94,647.839 1889.18,671.964 1889.42,702.389 1889.66,738.249 1889.91,778.371 1890.15,821.322 1890.39,865.475 1890.63,909.084 \n",
       "  1890.88,950.376 1891.12,987.644 1891.36,1019.34 1891.6,1044.15 1891.84,1061.05 1892.09,1069.37 1892.33,1068.78 1892.57,1059.33 1892.81,1041.36 1893.06,1015.51 \n",
       "  1893.3,982.621 1893.54,943.709 1893.78,899.871 1894.02,852.242 1894.27,801.937 1894.51,750.018 1894.75,697.461 1894.99,645.139 1895.24,593.818 1895.48,544.15 \n",
       "  1895.72,496.68 1895.96,451.852 1896.2,410.023 1896.45,371.474 1896.69,336.428 1896.93,305.07 1897.17,277.565 1897.42,254.062 1897.66,234.699 1897.9,219.573 \n",
       "  1898.14,208.704 1898.38,201.975 1898.63,199.085 1898.87,199.53 1899.11,202.639 1899.35,207.662 1899.6,213.926 1899.84,220.989 1900.08,228.767 1900.32,237.591 \n",
       "  1900.56,248.158 1900.81,261.403 1901.05,278.322 1901.29,299.791 1901.53,326.43 1901.78,358.528 1902.02,396.026 1902.26,438.551 1902.5,485.46 1902.74,535.891 \n",
       "  1902.99,588.808 1903.23,643.036 1903.47,697.29 1903.71,750.216 1903.96,800.433 1904.2,846.59 1904.44,887.425 1904.68,921.833 1904.92,948.921 1905.17,968.061 \n",
       "  1905.41,978.921 1905.65,981.482 1905.89,976.022 1906.14,963.094 1906.38,943.47 1906.62,918.086 1906.86,887.967 1907.11,854.158 1907.35,817.666 1907.59,779.405 \n",
       "  1907.83,740.16 1908.07,700.572 1908.32,661.136 1908.56,622.211 1908.8,584.046 1909.04,546.804 1909.29,510.595 1909.53,475.497 1909.77,441.584 1910.01,408.932 \n",
       "  1910.25,377.632 1910.5,347.787 1910.74,319.508 1910.98,292.905 1911.22,268.081 1911.47,245.119 1911.71,224.077 1911.95,204.983 1912.19,187.829 1912.43,172.576 \n",
       "  1912.68,159.152 1912.92,147.458 1913.16,137.375 1913.4,128.769 1913.65,121.495 1913.89,115.407 1914.13,110.359 1914.37,106.215 1914.61,102.843 1914.86,100.129 \n",
       "  1915.1,97.9669 1915.34,96.268 1915.58,94.9557 1915.83,93.9673 1916.07,93.2527 1916.31,92.7734 1916.55,92.502 1916.79,92.4217 1917.04,92.5256 1917.28,92.8169 \n",
       "  1917.52,93.3089 1917.76,94.0265 1918.01,95.0069 1918.25,96.3024 1918.49,97.9843 1918.73,100.149 1918.97,102.926 1919.22,106.495 1919.46,111.098 1919.7,117.067 \n",
       "  1919.94,124.836 1920.19,134.956 1920.43,148.067 1920.67,164.846 1920.91,185.902 1921.15,211.627 1921.4,242.04 1921.64,276.671 1921.88,314.527 1922.12,354.19 \n",
       "  1922.37,394.047 1922.61,432.592 1922.85,468.724 1923.09,501.942 1923.33,532.366 1923.58,560.577 1923.82,587.341 1924.06,613.3 1924.3,638.723 1924.55,663.393 \n",
       "  1924.79,686.627 1925.03,707.409 1925.27,724.577 1925.52,737.006 1925.76,743.756 1926,744.171 1926.24,737.914 1926.48,724.975 1926.73,705.641 1926.97,680.459 \n",
       "  1927.21,650.178 1927.45,615.702 1927.7,578.029 1927.94,538.198 1928.18,497.241 1928.42,456.133 1928.66,415.757 1928.91,376.876 1929.15,340.113 1929.39,305.944 \n",
       "  1929.63,274.696 1929.88,246.555 1930.12,221.586 1930.36,199.744 1930.6,180.901 1930.84,164.867 1931.09,151.408 1931.33,140.271 1931.57,131.194 1931.81,123.928 \n",
       "  1932.06,118.24 1932.3,113.925 1932.54,110.815 1932.78,108.776 1933.02,107.717 1933.27,107.587 1933.51,108.38 1933.75,110.136 1933.99,112.939 1934.24,116.919 \n",
       "  1934.48,122.252 1934.72,129.16 1934.96,137.908 1935.2,148.797 1935.45,162.161 1935.69,178.35 1935.93,197.723 1936.17,220.621 1936.42,247.351 1936.66,278.156 \n",
       "  1936.9,313.191 1937.14,352.489 1937.38,395.94 1937.63,443.264 1937.87,493.997 1938.11,547.486 1938.35,602.89 1938.6,659.208 1938.84,715.307 1939.08,769.98 \n",
       "  1939.32,822.003 1939.56,870.219 1939.81,913.608 1940.05,951.374 1940.29,983.009 1940.53,1008.35 1940.78,1027.59 1941.02,1041.3 1941.26,1050.39 1941.5,1056 \n",
       "  1941.74,1059.44 1941.99,1062.06 1942.23,1065.1 1942.47,1069.57 1942.71,1076.16 1942.96,1085.13 1943.2,1096.27 1943.44,1108.94 1943.68,1122.08 1943.93,1134.35 \n",
       "  1944.17,1144.19 1944.41,1150 1944.65,1150.31 1944.89,1143.81 1945.14,1129.56 1945.38,1107.01 1945.62,1076.03 1945.86,1036.92 1946.11,990.38 1946.35,937.448 \n",
       "  1946.59,879.4 1946.83,817.677 1947.07,753.781 1947.32,689.198 1947.56,625.315 1947.8,563.364 1948.04,504.381 1948.29,449.179 1948.53,398.344 1948.77,352.239 \n",
       "  1949.01,311.023 1949.25,274.681 1949.5,243.05 1949.74,215.856 1949.98,192.748 1950.22,173.324 1950.47,157.162 1950.71,143.836 1950.95,132.942 1951.19,124.1 \n",
       "  1951.43,116.968 1951.68,111.244 1951.92,106.667 1952.16,103.015 1952.4,100.104 1952.65,97.7822 1952.89,95.9278 1953.13,94.4425 1953.37,93.2493 1953.61,92.2876 \n",
       "  1953.86,91.511 1954.1,90.8834 1954.34,90.3778 1954.58,89.9736 1954.83,89.6558 1955.07,89.4135 1955.31,89.2396 1955.55,89.1298 1955.79,89.0825 1956.04,89.099 \n",
       "  1956.28,89.1834 1956.52,89.3427 1956.76,89.5878 1957.01,89.934 1957.25,90.4018 1957.49,91.0179 1957.73,91.8169 1957.97,92.8419 1958.22,94.1467 1958.46,95.7964 \n",
       "  1958.7,97.8692 1958.94,100.457 1959.19,103.664 1959.43,107.609 1959.67,112.423 1959.91,118.244 1960.15,125.214 1960.4,133.477 1960.64,143.166 1960.88,154.396 \n",
       "  1961.12,167.257 1961.37,181.803 1961.61,198.039 1961.85,215.917 1962.09,235.326 1962.34,256.086 1962.58,277.953 1962.82,300.619 1963.06,323.717 1963.3,346.841 \n",
       "  1963.55,369.556 1963.79,391.418 1964.03,411.997 1964.27,430.894 1964.52,447.761 1964.76,462.314 1965,474.341 1965.24,483.71 1965.48,490.358 1965.73,494.294 \n",
       "  1965.97,495.578 1966.21,494.314 1966.45,490.63 1966.7,484.671 1966.94,476.588 1967.18,466.53 1967.42,454.646 1967.66,441.086 1967.91,426.006 1968.15,409.572 \n",
       "  1968.39,391.97 1968.63,373.406 1968.88,354.11 1969.12,334.33 1969.36,314.335 1969.6,294.398 1969.84,274.795 1970.09,255.791 1970.33,237.631 1970.57,220.534 \n",
       "  1970.81,204.688 1971.06,190.245 1971.3,177.321 1971.54,166.003 1971.78,156.351 1972.02,148.409 1972.27,142.208 1972.51,137.784 1972.75,135.182 1972.99,134.465 \n",
       "  1973.24,135.724 1973.48,139.083 1973.72,144.699 1973.96,152.762 1974.2,163.492 1974.45,177.126 1974.69,193.908 1974.93,214.069 1975.17,237.807 1975.42,265.264 \n",
       "  1975.66,296.494 1975.9,331.445 1976.14,369.93 1976.38,411.611 1976.63,455.982 1976.87,502.368 1977.11,549.93 1977.35,597.685 1977.6,644.53 1977.84,689.291 \n",
       "  1978.08,730.768 1978.32,767.793 1978.57,799.296 1978.81,824.363 1979.05,842.295 1979.29,852.657 1979.53,855.315 1979.78,850.458 1980.02,838.608 1980.26,820.605 \n",
       "  1980.5,797.577 1980.75,770.904 1980.99,742.153 1981.23,713.012 1981.47,685.217 1981.71,660.471 1981.96,640.362 1982.2,626.296 1982.44,619.417 1982.68,620.56 \n",
       "  1982.93,630.196 1983.17,648.408 1983.41,674.876 1983.65,708.88 1983.89,749.325 1984.14,794.781 1984.38,843.544 1984.62,893.701 1984.86,943.223 1985.11,990.047 \n",
       "  1985.35,1032.18 1985.59,1067.77 1985.83,1095.24 1986.07,1113.28 1986.32,1121.01 1986.56,1117.9 1986.8,1103.88 1987.04,1079.28 1987.29,1044.82 1987.53,1001.56 \n",
       "  1987.77,950.812 1988.01,894.09 1988.25,833.014 1988.5,769.233 1988.74,704.345 1988.98,639.835 1989.22,577.014 1989.47,516.99 1989.71,460.639 1989.95,408.6 \n",
       "  1990.19,361.285 1990.43,318.891 1990.68,281.433 1990.92,248.77 1991.16,220.644 1991.4,196.708 1991.65,176.563 1991.89,159.783 1992.13,145.936 1992.37,134.607 \n",
       "  1992.61,125.408 1992.86,117.984 1993.1,112.024 1993.34,107.256 1993.58,103.449 1993.83,100.411 1994.07,97.9837 1994.31,96.0382 1994.55,94.4719 1994.79,93.2034 \n",
       "  1995.04,92.1687 1995.28,91.318 1995.52,90.6129 1995.76,90.0235 1996.01,89.527 1996.25,89.1057 1996.49,88.7459 1996.73,88.437 1996.98,88.1707 1997.22,87.9404 \n",
       "  1997.46,87.7407 1997.7,87.5676 1997.94,87.4173 1998.19,87.2872 1998.43,87.1746 1998.67,87.0777 1998.91,86.9946 1999.16,86.9238 1999.4,86.8641 1999.64,86.8143 \n",
       "  1999.88,86.7737 2000.12,86.7413 2000.37,86.7166 2000.61,86.699 2000.85,86.6882 2001.09,86.6839 2001.34,86.6859 2001.58,86.6942 2001.82,86.7089 2002.06,86.7301 \n",
       "  2002.3,86.7581 2002.55,86.7934 2002.79,86.8365 2003.03,86.888 2003.27,86.9489 2003.52,87.0201 2003.76,87.1029 2004,87.199 2004.24,87.3102 2004.48,87.4388 \n",
       "  2004.73,87.588 2004.97,87.7613 2005.21,87.9637 2005.45,88.2013 2005.7,88.4819 2005.94,88.816 2006.18,89.2169 2006.42,89.702 2006.66,90.2939 2006.91,91.0215 \n",
       "  2007.15,91.9222 2007.39,93.0432 2007.63,94.444 2007.88,96.1987 2008.12,98.398 2008.36,101.152 2008.6,104.59 2008.84,108.866 2009.09,114.154 2009.33,120.649 \n",
       "  2009.57,128.563 2009.81,138.121 2010.06,149.553 2010.3,163.079 2010.54,178.903 2010.78,197.191 2011.02,218.058 2011.27,241.549 2011.51,267.617 2011.75,296.115 \n",
       "  2011.99,326.774 2012.24,359.205 2012.48,392.89 2012.72,427.193 2012.96,461.375 2013.2,494.614 2013.45,526.039 2013.69,554.764 2013.93,579.934 2014.17,600.762 \n",
       "  2014.42,616.573 2014.66,626.843 2014.9,631.224 2015.14,629.565 2015.39,621.924 2015.63,608.561 2015.87,589.924 2016.11,566.625 2016.35,539.403 2016.6,509.09 \n",
       "  2016.84,476.562 2017.08,442.701 2017.32,408.357 2017.57,374.309 2017.81,341.242 2018.05,309.728 2018.29,280.216 2018.53,253.027 2018.78,228.362 2019.02,206.312 \n",
       "  2019.26,186.871 2019.5,169.954 2019.75,155.415 2019.99,143.066 2020.23,132.692 2020.47,124.065 2020.71,116.958 2020.96,111.152 2021.2,106.443 2021.44,102.648 \n",
       "  2021.68,99.6039 2021.93,97.1704 2022.17,95.2287 2022.41,93.6795 2022.65,92.4417 2022.89,91.4493 2023.14,90.65 2023.38,90.002 2023.62,89.473 2023.86,89.0376 \n",
       "  2024.11,88.6762 2024.35,88.3738 2024.59,88.1187 2024.83,87.9019 2025.07,87.7165 2025.32,87.5572 2025.56,87.4197 2025.8,87.3005 2026.04,87.1971 2026.29,87.1072 \n",
       "  2026.53,87.0291 2026.77,86.9612 2027.01,86.9022 2027.25,86.851 2027.5,86.8068 2027.74,86.7687 2027.98,86.736 2028.22,86.708 2028.47,86.6843 2028.71,86.6643 \n",
       "  2028.95,86.6476 2029.19,86.634 2029.43,86.6229 2029.68,86.6143 2029.92,86.6078 2030.16,86.6033 2030.4,86.6006 2030.65,86.5997 2030.89,86.6003 2031.13,86.6025 \n",
       "  2031.37,86.6062 2031.61,86.6115 2031.86,86.6182 2032.1,86.6265 2032.34,86.6365 2032.58,86.648 2032.83,86.6614 2033.07,86.6766 2033.31,86.6939 2033.55,86.7134 \n",
       "  2033.8,86.7354 2034.04,86.7601 2034.28,86.788 2034.52,86.8196 2034.76,86.8557 2035.01,86.8971 2035.25,86.9451 2035.49,87.0013 2035.73,87.0677 2035.98,87.1465 \n",
       "  2036.22,87.2409 2036.46,87.3544 2036.7,87.4911 2036.94,87.6563 2037.19,87.8565 2037.43,88.1011 2037.67,88.4046 2037.91,88.7917 2038.16,89.3043 2038.4,90.0133 \n",
       "  2038.64,91.0326 2038.88,92.5323 2039.12,94.7467 2039.37,97.9647 2039.61,102.495 2039.85,108.601 2040.09,116.4 2040.34,125.762 2040.58,136.228 2040.82,146.987 \n",
       "  2041.06,156.954 2041.3,164.938 2041.55,169.879 2041.79,171.084 2042.03,168.392 2042.27,162.215 2042.52,153.437 2042.76,143.211 2043,132.715 2043.24,122.936 \n",
       "  2043.48,114.543 2043.73,107.854 2043.97,102.893 2044.21,99.482 2044.45,97.3515 2044.7,96.224 2044.94,95.8694 2045.18,96.1286 2045.42,96.9168 2045.66,98.2143 \n",
       "  2045.91,100.055 2046.15,102.513 2046.39,105.7 2046.63,109.755 2046.88,114.842 2047.12,121.149 2047.36,128.881 2047.6,138.257 2047.84,149.501 2048.09,162.83 \n",
       "  2048.33,178.441 2048.57,196.499 2048.81,217.116 2049.06,240.333 2049.3,266.105 2049.54,294.285 2049.78,324.608 2050.02,356.688 2050.27,390.016 2050.51,423.968 \n",
       "  2050.75,457.816 2050.99,490.758 2051.24,521.941 2051.48,550.504 2051.72,575.614 2051.96,596.507 2052.21,612.53 2052.45,623.174 2052.69,628.099 2052.93,627.155 \n",
       "  2053.17,620.391 2053.42,608.044 2053.66,590.533 2053.9,568.429 2054.14,542.429 2054.39,513.314 2054.63,481.917 2054.87,449.079 2055.11,415.616 2055.35,382.292 \n",
       "  2055.6,349.79 2055.84,318.702 2056.08,289.521 2056.32,262.638 2056.57,238.35 2056.81,216.858 2057.05,198.273 2057.29,182.602 2057.53,169.744 2057.78,159.473 \n",
       "  2058.02,151.437 2058.26,145.173 2058.5,140.151 2058.75,135.836 2058.99,131.759 2059.23,127.59 2059.47,123.171 2059.71,118.516 2059.96,113.775 2060.2,109.171 \n",
       "  2060.44,104.929 2060.68,101.225 2060.93,98.1519 2061.17,95.7235 2061.41,93.887 2061.65,92.552 2061.89,91.6162 2062.14,90.9851 2062.38,90.5824 2062.62,90.3535 \n",
       "  2062.86,90.2637 2063.11,90.295 2063.35,90.443 2063.59,90.7166 2063.83,91.1421 2064.07,91.7717 2064.32,92.6997 2064.56,94.0833 2064.8,96.1673 2065.04,99.3006 \n",
       "  2065.29,103.934 2065.53,110.58 2065.77,119.719 2066.01,131.657 2066.25,146.35 2066.5,163.244 2066.74,181.197 2066.98,198.542 2067.22,213.318 2067.47,223.625 \n",
       "  2067.71,228.043 2067.95,225.955 2068.19,217.704 2068.43,204.509 2068.68,188.18 2068.92,170.714 2069.16,153.913 2069.4,139.111 2069.65,127.06 2069.89,117.974 \n",
       "  2070.13,111.674 2070.37,107.766 2070.62,105.8 2070.86,105.382 2071.1,106.233 2071.34,108.206 2071.58,111.273 2071.83,115.509 2072.07,121.067 2072.31,128.164 \n",
       "  2072.55,137.069 2072.8,148.088 2073.04,161.557 2073.28,177.829 2073.52,197.258 2073.76,220.183 2074.01,246.903 2074.25,277.654 2074.49,312.577 2074.73,351.695 \n",
       "  2074.98,394.882 2075.22,441.844 2075.46,492.1 2075.7,544.981 2075.94,599.632 2076.19,655.037 2076.43,710.053 2076.67,763.461 2076.91,814.03 2077.16,860.59 \n",
       "  2077.4,902.111 2077.64,937.771 2077.88,967.027 2078.12,989.646 2078.37,1005.72 2078.61,1015.63 2078.85,1019.99 2079.09,1019.52 2079.34,1014.93 2079.58,1006.85 \n",
       "  2079.82,995.736 2080.06,981.902 2080.3,965.563 2080.55,946.936 2080.79,926.311 2081.03,904.085 2081.27,880.727 2081.52,856.687 2081.76,832.301 2082,807.713 \n",
       "  2082.24,782.853 2082.48,757.485 2082.73,731.303 2082.97,704.037 2083.21,675.565 2083.45,645.979 2083.7,615.614 2083.94,585.047 2084.18,555.056 2084.42,526.571 \n",
       "  2084.66,500.614 2084.91,478.242 2085.15,460.49 2085.39,448.322 2085.63,442.586 2085.88,443.979 2086.12,453.007 2086.36,469.96 2086.6,494.884 2086.84,527.565 \n",
       "  2087.09,567.513 2087.33,613.959 2087.57,665.862 2087.81,721.924 2088.06,780.62 2088.3,840.243 2088.54,898.958 2088.78,954.873 2089.03,1006.11 2089.27,1050.9 \n",
       "  2089.51,1087.63 2089.75,1114.99 2089.99,1131.95 2090.24,1137.88 2090.48,1132.54 2090.72,1116.12 2090.96,1089.16 2091.21,1052.57 2091.45,1007.54 2091.69,955.467 \n",
       "  2091.93,897.902 2092.17,836.465 2092.42,772.792 2092.66,708.469 2092.9,644.986 2093.14,583.676 2093.39,525.677 2093.63,471.89 2093.87,422.961 2094.11,379.27 \n",
       "  2094.35,340.949 2094.6,307.911 2094.84,279.888 2095.08,256.482 2095.32,237.207 2095.57,221.531 2095.81,208.916 2096.05,198.84 2096.29,190.824 2096.53,184.446 \n",
       "  2096.78,179.356 2097.02,175.277 2097.26,172.016 2097.5,169.461 2097.75,167.585 2097.99,166.437 2098.23,166.15 2098.47,166.925 2098.71,169.039 2098.96,172.829 \n",
       "  2099.2,178.693 2099.44,187.078 2099.68,198.467 2099.93,213.366 2100.17,232.283 2100.41,255.699 2100.65,284.045 2100.89,317.661 2101.14,356.764 2101.38,401.407 \n",
       "  2101.62,451.449 2101.86,506.522 2102.11,566.021 2102.35,629.097 2102.59,694.669 2102.83,761.461 2103.07,828.047 2103.32,892.917 2103.56,954.551 2103.8,1011.5 \n",
       "  2104.04,1062.43 2104.29,1106.24 2104.53,1142.02 2104.77,1169.1 2105.01,1186.99 2105.26,1195.39 2105.5,1194.11 2105.74,1183.05 2105.98,1162.22 2106.22,1131.83 \n",
       "  2106.47,1092.29 2106.71,1044.32 2106.95,989.018 2107.19,927.768 2107.44,862.222 2107.68,794.149 2107.92,725.305 2108.16,657.306 2108.4,591.532 2108.65,529.087 \n",
       "  2108.89,470.787 2109.13,417.18 2109.37,368.581 2109.62,325.111 2109.86,286.727 2110.1,253.254 2110.34,224.418 2110.58,199.866 2110.83,179.196 2111.07,161.976 \n",
       "  2111.31,147.77 2111.55,136.153 2111.8,126.727 2112.04,119.128 2112.28,113.033 2112.52,108.161 2112.76,104.274 2113.01,101.173 2113.25,98.6951 2113.49,96.7087 \n",
       "  2113.73,95.1083 2113.98,93.8107 2114.22,92.7509 2114.46,91.8783 2114.7,91.1538 2114.94,90.5473 2115.19,90.0355 2115.43,89.6007 2115.67,89.2288 2115.91,88.9091 \n",
       "  2116.16,88.6332 2116.4,88.3941 2116.64,88.1866 2116.88,88.0062 2117.12,87.8492 2117.37,87.7126 2117.61,87.5939 2117.85,87.4907 2118.09,87.4012 2118.34,87.3237 \n",
       "  2118.58,87.2569 2118.82,87.1992 2119.06,87.1497 2119.3,87.1074 2119.55,87.0712 2119.79,87.0405 2120.03,87.0146 2120.27,86.9927 2120.52,86.9745 2120.76,86.9593 \n",
       "  2121,86.9468 2121.24,86.9367 2121.48,86.9285 2121.73,86.9222 2121.97,86.9174 2122.21,86.9139 2122.45,86.9118 2122.7,86.9108 2122.94,86.9108 2123.18,86.9119 \n",
       "  2123.42,86.914 2123.67,86.9173 2123.91,86.9216 2124.15,86.9272 2124.39,86.9341 2124.63,86.9425 2124.88,86.9527 2125.12,86.9648 2125.36,86.9792 2125.6,86.9961 \n",
       "  2125.85,87.016 2126.09,87.0393 2126.33,87.0664 2126.57,87.098 2126.81,87.1347 2127.06,87.1773 2127.3,87.2264 2127.54,87.2832 2127.78,87.3485 2128.03,87.4236 \n",
       "  2128.27,87.5098 2128.51,87.6087 2128.75,87.7221 2128.99,87.8521 2129.24,88.0012 2129.48,88.1724 2129.72,88.3694 2129.96,88.5967 2130.21,88.86 2130.45,89.1664 \n",
       "  2130.69,89.5251 2130.93,89.9478 2131.17,90.4499 2131.42,91.0509 2131.66,91.7767 2131.9,92.6605 2132.14,93.7452 2132.39,95.0858 2132.63,96.7525 2132.87,98.8335 \n",
       "  2133.11,101.439 2133.35,104.705 2133.6,108.795 2133.84,113.905 2134.08,120.267 2134.32,128.143 2134.57,137.833 2134.81,149.661 2135.05,163.974 2135.29,181.129 \n",
       "  2135.53,201.476 2135.78,225.34 2136.02,252.994 2136.26,284.638 2136.5,320.368 2136.75,360.145 2136.99,403.775 2137.23,450.886 2137.47,500.911 2137.71,553.089 \n",
       "  2137.96,606.47 2138.2,659.937 2138.44,712.235 2138.68,762.023 2138.93,807.926 2139.17,848.597 2139.41,882.788 2139.65,909.411 2139.89,927.599 2140.14,936.755 \n",
       "  2140.38,936.588 2140.62,927.129 2140.86,908.731 2141.11,882.054 2141.35,848.027 2141.59,807.799 2141.83,762.687 2142.08,714.107 2142.32,663.518 2142.56,612.355 \n",
       "  2142.8,561.987 2143.04,513.671 2143.29,468.527 2143.53,427.521 2143.77,391.461 2144.01,361.002 2144.26,336.66 2144.5,318.824 2144.74,307.778 2144.98,303.71 \n",
       "  2145.22,306.726 2145.47,316.852 2145.71,334.031 2145.95,358.112 2146.19,388.835 2146.44,425.811 2146.68,468.504 2146.92,516.209 2147.16,568.043 2147.4,622.94 \n",
       "  2147.65,679.658 2147.89,736.804 2148.13,792.864 2148.37,846.254 2148.62,895.38 2148.86,938.704 2149.1,974.812 2149.34,1002.49 2149.58,1020.77 2149.83,1029.01 \n",
       "  2150.07,1026.91 2150.31,1014.5 2150.55,992.2 2150.8,960.743 2151.04,921.152 2151.28,874.681 2151.52,822.747 2151.76,766.856 2152.01,708.531 2152.25,649.244 \n",
       "  2152.49,590.352 2152.73,533.058 2152.98,478.367 2153.22,427.076 2153.46,379.763 2153.7,336.796 2153.94,298.35 2154.19,264.433 2154.43,234.913 2154.67,209.55 \n",
       "  2154.91,188.029 2155.16,169.988 2155.4,155.043 2155.64,142.807 2155.88,132.914 2156.12,125.023 2156.37,118.832 2156.61,114.082 2156.85,110.559 2157.09,108.093 \n",
       "  2157.34,106.563 2157.58,105.892 2157.82,106.045 2158.06,107.035 2158.3,108.916 2158.55,111.783 2158.79,115.772 2159.03,121.051 2159.27,127.808 2159.52,136.235 \n",
       "  2159.76,146.507 2160,158.76 2160.24,173.077 2160.49,189.475 2160.73,207.912 2160.97,228.293 2161.21,250.486 2161.45,274.333 2161.7,299.645 2161.94,326.19 \n",
       "  2162.18,353.67 2162.42,381.694 2162.67,409.766 2162.91,437.28 2163.15,463.543 2163.39,487.807 2163.63,509.316 2163.88,527.353 2164.12,541.29 2164.36,550.627 \n",
       "  2164.6,555.019 2164.85,554.3 2165.09,548.487 2165.33,537.779 2165.57,522.54 2165.81,503.284 2166.06,480.64 2166.3,455.324 2166.54,428.1 2166.78,399.753 \n",
       "  2167.03,371.061 2167.27,342.78 2167.51,315.643 2167.75,290.371 2167.99,267.688 2168.24,248.342 2168.48,233.088 2168.72,222.636 2168.96,217.536 2169.21,218.001 \n",
       "  2169.45,223.712 2169.69,233.663 2169.93,246.111 2170.17,258.725 2170.42,268.915 2170.66,274.305 2170.9,273.224 2171.14,265.06 2171.39,250.378 2171.63,230.743 \n",
       "  2171.87,208.328 2172.11,185.42 2172.35,163.976 2172.6,145.342 2172.84,130.165 2173.08,118.483 2173.32,109.911 2173.57,103.849 2173.81,99.6617 2174.05,96.7877 \n",
       "  2174.29,94.7895 2174.53,93.3577 2174.78,92.2903 2175.02,91.4628 2175.26,90.8013 2175.5,90.2622 2175.75,89.8186 2175.99,89.4526 2176.23,89.1509 2176.47,88.9029 \n",
       "  2176.71,88.7 2176.96,88.535 2177.2,88.4019 2177.44,88.2959 2177.68,88.2131 2177.93,88.1508 2178.17,88.1066 2178.41,88.0791 2178.65,88.0674 2178.9,88.0712 \n",
       "  2179.14,88.0906 2179.38,88.1262 2179.62,88.1794 2179.86,88.2519 2180.11,88.3464 2180.35,88.4661 2180.59,88.6153 2180.83,88.7992 2181.08,89.0245 2181.32,89.2995 \n",
       "  2181.56,89.6351 2181.8,90.0472 2182.04,90.5602 2182.29,91.2141 2182.53,92.0749 2182.77,93.2496 2183.01,94.9039 2183.26,97.2776 2183.5,100.69 2183.74,105.523 \n",
       "  2183.98,112.174 2184.22,120.975 2184.47,132.088 2184.71,145.408 2184.95,160.513 2185.19,176.694 2185.44,193.082 2185.68,208.838 2185.92,223.345 2186.16,236.304 \n",
       "  2186.4,247.702 2186.65,257.62 2186.89,265.985 2187.13,272.372 2187.37,275.97 2187.62,275.756 2187.86,270.832 2188.1,260.791 2188.34,245.957 2188.58,227.423 \n",
       "  2188.83,206.851 2189.07,186.136 2189.31,167.047 2189.55,150.966 2189.8,138.781 2190.04,130.928 2190.28,127.511 2190.52,128.433 2190.76,133.449 2191.01,142.148 \n",
       "  2191.25,153.863 2191.49,167.586 2191.73,181.946 2191.98,195.318 2192.22,206.053 2192.46,212.801 2192.7,214.821 2192.94,212.191 2193.19,205.852 2193.43,197.461 \n",
       "  2193.67,189.115 2193.91,183.012 2194.16,181.13 2194.4,184.968 2194.64,195.366 2194.88,212.389 2195.12,235.286 2195.37,262.541 2195.61,292.045 2195.85,321.417 \n",
       "  2196.09,348.416 2196.34,371.379 2196.58,389.553 2196.82,403.216 2197.06,413.543 2197.31,422.254 2197.55,431.154 2197.79,441.704 2198.03,454.729 2198.27,470.322 \n",
       "  2198.52,487.914 2198.76,506.474 2199,524.735 2199.24,541.409 2199.49,555.336 2199.73,565.587 2199.97,571.495 2200.21,572.672 2200.45,568.992 2200.7,560.57 \n",
       "  2200.94,547.734 2201.18,531 2201.42,511.034 2201.67,488.614 2201.91,464.595 2202.15,439.868 2202.39,415.314 2202.63,391.777 2202.88,370.023 2203.12,350.715 \n",
       "  2203.36,334.399 2203.6,321.482 2203.85,312.236 2204.09,306.794 2204.33,305.163 2204.57,307.234 2204.81,312.807 2205.06,321.608 2205.3,333.319 2205.54,347.602 \n",
       "  2205.78,364.122 2206.03,382.574 2206.27,402.703 2206.51,424.311 2206.75,447.272 2206.99,471.522 2207.24,497.058 2207.48,523.909 2207.72,552.121 2207.96,581.723 \n",
       "  2208.21,612.702 2208.45,644.972 2208.69,678.357 2208.93,712.583 2209.17,747.271 2209.42,781.953 2209.66,816.09 2209.9,849.089 2210.14,880.337 2210.39,909.215 \n",
       "  2210.63,935.119 2210.87,957.471 2211.11,975.727 2211.35,989.374 2211.6,997.942 2211.84,1001.01 2212.08,998.208 2212.32,989.268 2212.57,974.024 2212.81,952.457 \n",
       "  2213.05,924.725 2213.29,891.177 2213.53,852.372 2213.78,809.065 2214.02,762.193 2214.26,712.829 2214.5,662.141 2214.75,611.329 2214.99,561.57 2215.23,513.96 \n",
       "  2215.47,469.472 2215.72,428.916 2215.96,392.914 2216.2,361.893 2216.44,336.076 2216.68,315.492 2216.93,299.989 2217.17,289.247 2217.41,282.803 2217.65,280.082 \n",
       "  2217.9,280.425 2218.14,283.128 2218.38,287.481 2218.62,292.793 2218.86,298.426 2219.11,303.808 2219.35,308.443 2219.59,311.917 2219.83,313.894 2220.08,314.124 \n",
       "  2220.32,312.439 2220.56,308.759 2220.8,303.091 2221.04,295.527 2221.29,286.24 2221.53,275.464 2221.77,263.492 2222.01,250.645 2222.26,237.263 2222.5,223.685 \n",
       "  2222.74,210.235 2222.98,197.205 2223.22,184.857 2223.47,173.408 2223.71,163.035 2223.95,153.878 2224.19,146.042 2224.44,139.606 2224.68,134.632 2224.92,131.171 \n",
       "  2225.16,129.277 2225.4,129.006 2225.65,130.429 2225.89,133.63 2226.13,138.709 2226.37,145.777 2226.62,154.951 2226.86,166.346 2227.1,180.058 2227.34,196.156 \n",
       "  2227.58,214.66 2227.83,235.532 2228.07,258.651 2228.31,283.809 2228.55,310.698 2228.8,338.904 2229.04,367.914 2229.28,397.119 2229.52,425.836 2229.76,453.329 \n",
       "  2230.01,478.837 2230.25,501.611 2230.49,520.947 2230.73,536.223 2230.98,546.933 2231.22,552.714 2231.46,553.366 2231.7,548.867 2231.94,539.366 2232.19,525.185 \n",
       "  2232.43,506.791 2232.67,484.777 2232.91,459.825 2233.16,432.675 2233.4,404.081 2233.64,374.787 2233.88,345.484 2234.13,316.796 2234.37,289.252 2234.61,263.278 \n",
       "  2234.85,239.195 2235.09,217.215 2235.34,197.454 2235.58,179.938 2235.82,164.62 2236.06,151.396 2236.31,140.118 2236.55,130.61 2236.79,122.682 2237.03,116.14 \n",
       "  2237.27,110.793 2237.52,106.464 2237.76,102.991 2238,100.23 2238.24,98.0585 2238.49,96.3722 2238.73,95.0868 2238.97,94.1356 2239.21,93.468 2239.45,93.0482 \n",
       "  2239.7,92.8534 2239.94,92.8725 2240.18,93.1045 2240.42,93.5574 2240.67,94.2467 2240.91,95.1943 2241.15,96.4268 2241.39,97.974 2241.63,99.8668 2241.88,102.135 \n",
       "  2242.12,104.804 2242.36,107.894 2242.6,111.413 2242.85,115.36 2243.09,119.715 2243.33,124.444 2243.57,129.491 2243.81,134.783 2244.06,140.225 2244.3,145.709 \n",
       "  2244.54,151.112 2244.78,156.299 2245.03,161.137 2245.27,165.491 2245.51,169.242 2245.75,172.282 2245.99,174.533 2246.24,175.941 2246.48,176.489 2246.72,176.195 \n",
       "  2246.96,175.115 2247.21,173.34 2247.45,170.996 2247.69,168.236 2247.93,165.24 2248.17,162.206 2248.42,159.343 2248.66,156.869 2248.9,155.001 2249.14,153.956 \n",
       "  2249.39,153.942 2249.63,155.161 2249.87,157.804 2250.11,162.053 2250.36,168.079 2250.6,176.041 2250.84,186.089 2251.08,198.359 2251.32,212.971 2251.57,230.024 \n",
       "  2251.81,249.593 2252.05,271.714 2252.29,296.378 2252.54,323.52 2252.78,353.005 2253.02,384.617 2253.26,418.05 2253.5,452.902 2253.75,488.676 2253.99,524.785 \n",
       "  2254.23,560.563 2254.47,595.285 2254.72,628.195 2254.96,658.54 2255.2,685.599 2255.44,708.725 2255.68,727.382 2255.93,741.169 2256.17,749.858 2256.41,753.401 \n",
       "  2256.65,751.95 2256.9,745.854 2257.14,735.653 2257.38,722.061 2257.62,705.936 2257.86,688.253 2258.11,670.054 2258.35,652.399 2258.59,636.316 2258.83,622.739 \n",
       "  2259.08,612.456 2259.32,606.057 2259.56,603.891 2259.8,606.043 2260.04,612.317 2260.29,622.245 2260.53,635.112 2260.77,649.996 2261.01,665.824 2261.26,681.444 \n",
       "  2261.5,695.69 2261.74,707.456 2261.98,715.767 2262.22,719.827 2262.47,719.068 2262.71,713.173 2262.95,702.083 2263.19,685.987 2263.44,665.298 2263.68,640.613 \n",
       "  2263.92,612.667 2264.16,582.275 2264.4,550.285 2264.65,517.521 2264.89,484.744 2265.13,452.614 2265.37,421.672 2265.62,392.323 2265.86,364.839 2266.1,339.368 \n",
       "  2266.34,315.948 2266.58,294.529 2266.83,274.999 2267.07,257.203 2267.31,240.965 2267.55,226.11 2267.8,212.471 2268.04,199.905 2268.28,188.292 2268.52,177.54 \n",
       "  2268.77,167.582 2269.01,158.372 2269.25,149.878 2269.49,142.08 2269.73,134.965 2269.98,128.517 2270.22,122.721 2270.46,117.555 2270.7,112.993 2270.95,109.001 \n",
       "  2271.19,105.542 2271.43,102.572 2271.67,100.046 2271.91,97.9166 2272.16,96.1371 2272.4,94.6624 2272.64,93.4501 2272.88,92.4611 2273.13,91.6604 2273.37,91.0171 \n",
       "  2273.61,90.5048 2273.85,90.1009 2274.09,89.7867 2274.34,89.547 2274.58,89.3696 2274.82,89.2449 2275.06,89.1658 2275.31,89.1267 2275.55,89.1241 2275.79,89.1557 \n",
       "  2276.03,89.2208 2276.27,89.3197 2276.52,89.4541 2276.76,89.627 2277,89.8431 2277.24,90.1092 2277.49,90.4341 2277.73,90.8303 2277.97,91.3137 2278.21,91.9057 \n",
       "  2278.45,92.6338 2278.7,93.5341 2278.94,94.6524 2279.18,96.047 2279.42,97.7912 2279.67,99.9757 2279.91,102.711 2280.15,106.132 2280.39,110.395 2280.63,115.686 \n",
       "  2280.88,122.215 2281.12,130.219 2281.36,139.961 2281.6,151.725 2281.85,165.815 2282.09,182.548 2282.33,202.25 2282.57,225.244 2282.81,251.83 2283.06,282.263 \n",
       "  2283.3,316.704 2283.54,355.162 2283.78,397.418 2284.03,442.94 2284.27,490.813 2284.51,539.704 2284.75,587.899 2284.99,633.416 2285.24,674.209 2285.48,708.41 \n",
       "  2285.72,734.577 2285.96,751.862 2286.21,760.072 2286.45,759.598 2286.69,751.259 2286.93,736.085 2287.18,715.139 2287.42,689.393 2287.66,659.68 2287.9,626.722 \n",
       "  2288.14,591.178 2288.39,553.699 2288.63,514.963 2288.87,475.677 2289.11,436.559 2289.36,398.299 2289.6,361.528 2289.84,326.778 2290.08,294.467 2290.32,264.888 \n",
       "  2290.57,238.208 2290.81,214.482 2291.05,193.666 2291.29,175.634 2291.54,160.202 2291.78,147.146 2292.02,136.215 2292.26,127.154 2292.5,119.709 2292.75,113.641 \n",
       "  2292.99,108.728 2293.23,104.773 \n",
       "  \"/>\n",
       "<path clip-path=\"url(#clip500)\" d=\"\n",
       "M1566.55 1377.32 L2282.65 1377.32 L2282.65 1221.8 L1566.55 1221.8  Z\n",
       "  \" fill=\"#ffffff\" fill-rule=\"evenodd\" fill-opacity=\"1\"/>\n",
       "<polyline clip-path=\"url(#clip500)\" style=\"stroke:#000000; stroke-linecap:butt; stroke-linejoin:round; stroke-width:4; stroke-opacity:1; fill:none\" points=\"\n",
       "  1566.55,1377.32 2282.65,1377.32 2282.65,1221.8 1566.55,1221.8 1566.55,1377.32 \n",
       "  \"/>\n",
       "<polyline clip-path=\"url(#clip500)\" style=\"stroke:#009af9; stroke-linecap:butt; stroke-linejoin:round; stroke-width:4; stroke-opacity:1; fill:none\" points=\"\n",
       "  1589.92,1273.64 1730.14,1273.64 \n",
       "  \"/>\n",
       "<path clip-path=\"url(#clip500)\" d=\"M1769.89 1274.71 Q1771.4 1275.22 1772.81 1276.89 Q1774.25 1278.55 1775.68 1281.47 L1780.43 1290.92 L1775.4 1290.92 L1770.98 1282.05 Q1769.27 1278.58 1767.65 1277.44 Q1766.05 1276.31 1763.27 1276.31 L1758.18 1276.31 L1758.18 1290.92 L1753.51 1290.92 L1753.51 1256.36 L1764.06 1256.36 Q1769.99 1256.36 1772.9 1258.83 Q1775.82 1261.31 1775.82 1266.31 Q1775.82 1269.57 1774.29 1271.73 Q1772.79 1273.88 1769.89 1274.71 M1758.18 1260.2 L1758.18 1272.47 L1764.06 1272.47 Q1767.44 1272.47 1769.15 1270.92 Q1770.89 1269.34 1770.89 1266.31 Q1770.89 1263.28 1769.15 1261.75 Q1767.44 1260.2 1764.06 1260.2 L1758.18 1260.2 Z\" fill=\"#000000\" fill-rule=\"evenodd\" fill-opacity=\"1\" /><path clip-path=\"url(#clip500)\" d=\"M1797 1277.88 Q1791.84 1277.88 1789.85 1279.06 Q1787.86 1280.24 1787.86 1283.09 Q1787.86 1285.36 1789.34 1286.7 Q1790.84 1288.02 1793.41 1288.02 Q1796.95 1288.02 1799.08 1285.52 Q1801.24 1283 1801.24 1278.83 L1801.24 1277.88 L1797 1277.88 M1805.5 1276.12 L1805.5 1290.92 L1801.24 1290.92 L1801.24 1286.98 Q1799.78 1289.34 1797.6 1290.48 Q1795.43 1291.59 1792.28 1291.59 Q1788.3 1291.59 1785.94 1289.36 Q1783.6 1287.12 1783.6 1283.37 Q1783.6 1278.99 1786.51 1276.77 Q1789.45 1274.55 1795.26 1274.55 L1801.24 1274.55 L1801.24 1274.13 Q1801.24 1271.19 1799.29 1269.6 Q1797.37 1267.98 1793.88 1267.98 Q1791.65 1267.98 1789.55 1268.51 Q1787.44 1269.04 1785.5 1270.11 L1785.5 1266.17 Q1787.83 1265.27 1790.03 1264.83 Q1792.23 1264.36 1794.32 1264.36 Q1799.94 1264.36 1802.72 1267.28 Q1805.5 1270.2 1805.5 1276.12 Z\" fill=\"#000000\" fill-rule=\"evenodd\" fill-opacity=\"1\" /><path clip-path=\"url(#clip500)\" d=\"M1811.79 1264.99 L1816.05 1264.99 L1821.38 1285.22 L1826.68 1264.99 L1831.7 1264.99 L1837.02 1285.22 L1842.32 1264.99 L1846.58 1264.99 L1839.8 1290.92 L1834.78 1290.92 L1829.2 1269.67 L1823.6 1290.92 L1818.57 1290.92 L1811.79 1264.99 Z\" fill=\"#000000\" fill-rule=\"evenodd\" fill-opacity=\"1\" /><path clip-path=\"url(#clip500)\" d=\"M1884.64 1265.75 L1884.64 1269.78 Q1882.83 1268.86 1880.89 1268.39 Q1878.95 1267.93 1876.86 1267.93 Q1873.69 1267.93 1872.09 1268.9 Q1870.52 1269.87 1870.52 1271.82 Q1870.52 1273.3 1871.65 1274.16 Q1872.79 1274.99 1876.21 1275.75 L1877.67 1276.08 Q1882.21 1277.05 1884.11 1278.83 Q1886.03 1280.59 1886.03 1283.76 Q1886.03 1287.37 1883.16 1289.48 Q1880.31 1291.59 1875.31 1291.59 Q1873.23 1291.59 1870.96 1291.17 Q1868.71 1290.78 1866.21 1289.97 L1866.21 1285.57 Q1868.57 1286.79 1870.87 1287.42 Q1873.16 1288.02 1875.4 1288.02 Q1878.41 1288.02 1880.03 1287 Q1881.65 1285.96 1881.65 1284.09 Q1881.65 1282.35 1880.47 1281.42 Q1879.32 1280.5 1875.36 1279.64 L1873.88 1279.3 Q1869.92 1278.46 1868.16 1276.75 Q1866.4 1275.01 1866.4 1272 Q1866.4 1268.35 1868.99 1266.36 Q1871.58 1264.36 1876.35 1264.36 Q1878.71 1264.36 1880.8 1264.71 Q1882.88 1265.06 1884.64 1265.75 Z\" fill=\"#000000\" fill-rule=\"evenodd\" fill-opacity=\"1\" /><path clip-path=\"url(#clip500)\" d=\"M1896.93 1287.03 L1896.93 1300.78 L1892.65 1300.78 L1892.65 1264.99 L1896.93 1264.99 L1896.93 1268.92 Q1898.27 1266.61 1900.31 1265.5 Q1902.37 1264.36 1905.22 1264.36 Q1909.94 1264.36 1912.88 1268.11 Q1915.84 1271.86 1915.84 1277.98 Q1915.84 1284.09 1912.88 1287.84 Q1909.94 1291.59 1905.22 1291.59 Q1902.37 1291.59 1900.31 1290.48 Q1898.27 1289.34 1896.93 1287.03 M1911.42 1277.98 Q1911.42 1273.28 1909.48 1270.61 Q1907.56 1267.93 1904.18 1267.93 Q1900.8 1267.93 1898.85 1270.61 Q1896.93 1273.28 1896.93 1277.98 Q1896.93 1282.67 1898.85 1285.36 Q1900.8 1288.02 1904.18 1288.02 Q1907.56 1288.02 1909.48 1285.36 Q1911.42 1282.67 1911.42 1277.98 Z\" fill=\"#000000\" fill-rule=\"evenodd\" fill-opacity=\"1\" /><path clip-path=\"url(#clip500)\" d=\"M1945.08 1276.89 L1945.08 1278.97 L1925.5 1278.97 Q1925.77 1283.37 1928.13 1285.68 Q1930.52 1287.98 1934.75 1287.98 Q1937.21 1287.98 1939.5 1287.37 Q1941.82 1286.77 1944.08 1285.57 L1944.08 1289.6 Q1941.79 1290.57 1939.38 1291.08 Q1936.98 1291.59 1934.5 1291.59 Q1928.3 1291.59 1924.66 1287.98 Q1921.05 1284.36 1921.05 1278.21 Q1921.05 1271.84 1924.48 1268.11 Q1927.93 1264.36 1933.76 1264.36 Q1938.99 1264.36 1942.02 1267.74 Q1945.08 1271.1 1945.08 1276.89 M1940.82 1275.64 Q1940.77 1272.14 1938.85 1270.06 Q1936.95 1267.98 1933.81 1267.98 Q1930.24 1267.98 1928.09 1269.99 Q1925.96 1272 1925.63 1275.66 L1940.82 1275.64 Z\" fill=\"#000000\" fill-rule=\"evenodd\" fill-opacity=\"1\" /><path clip-path=\"url(#clip500)\" d=\"M1970.73 1265.98 L1970.73 1269.97 Q1968.92 1268.97 1967.09 1268.48 Q1965.29 1267.98 1963.44 1267.98 Q1959.29 1267.98 1957 1270.61 Q1954.71 1273.23 1954.71 1277.98 Q1954.71 1282.72 1957 1285.36 Q1959.29 1287.98 1963.44 1287.98 Q1965.29 1287.98 1967.09 1287.49 Q1968.92 1286.98 1970.73 1285.98 L1970.73 1289.92 Q1968.94 1290.75 1967.02 1291.17 Q1965.13 1291.59 1962.97 1291.59 Q1957.12 1291.59 1953.67 1287.91 Q1950.22 1284.23 1950.22 1277.98 Q1950.22 1271.63 1953.69 1268 Q1957.19 1264.36 1963.25 1264.36 Q1965.22 1264.36 1967.09 1264.78 Q1968.97 1265.17 1970.73 1265.98 Z\" fill=\"#000000\" fill-rule=\"evenodd\" fill-opacity=\"1\" /><path clip-path=\"url(#clip500)\" d=\"M1982.35 1257.63 L1982.35 1264.99 L1991.12 1264.99 L1991.12 1268.3 L1982.35 1268.3 L1982.35 1282.37 Q1982.35 1285.54 1983.2 1286.45 Q1984.08 1287.35 1986.75 1287.35 L1991.12 1287.35 L1991.12 1290.92 L1986.75 1290.92 Q1981.81 1290.92 1979.94 1289.09 Q1978.06 1287.23 1978.06 1282.37 L1978.06 1268.3 L1974.94 1268.3 L1974.94 1264.99 L1978.06 1264.99 L1978.06 1257.63 L1982.35 1257.63 Z\" fill=\"#000000\" fill-rule=\"evenodd\" fill-opacity=\"1\" /><path clip-path=\"url(#clip500)\" d=\"M2011.75 1268.97 Q2011.03 1268.55 2010.17 1268.37 Q2009.34 1268.16 2008.32 1268.16 Q2004.71 1268.16 2002.76 1270.52 Q2000.84 1272.86 2000.84 1277.26 L2000.84 1290.92 L1996.56 1290.92 L1996.56 1264.99 L2000.84 1264.99 L2000.84 1269.02 Q2002.19 1266.66 2004.34 1265.52 Q2006.49 1264.36 2009.57 1264.36 Q2010.01 1264.36 2010.54 1264.43 Q2011.07 1264.48 2011.72 1264.6 L2011.75 1268.97 Z\" fill=\"#000000\" fill-rule=\"evenodd\" fill-opacity=\"1\" /><path clip-path=\"url(#clip500)\" d=\"M2015.77 1280.68 L2015.77 1264.99 L2020.03 1264.99 L2020.03 1280.52 Q2020.03 1284.2 2021.47 1286.05 Q2022.9 1287.88 2025.77 1287.88 Q2029.22 1287.88 2031.21 1285.68 Q2033.23 1283.48 2033.23 1279.69 L2033.23 1264.99 L2037.49 1264.99 L2037.49 1290.92 L2033.23 1290.92 L2033.23 1286.93 Q2031.68 1289.29 2029.62 1290.45 Q2027.58 1291.59 2024.87 1291.59 Q2020.4 1291.59 2018.09 1288.81 Q2015.77 1286.03 2015.77 1280.68 M2026.49 1264.36 L2026.49 1264.36 Z\" fill=\"#000000\" fill-rule=\"evenodd\" fill-opacity=\"1\" /><path clip-path=\"url(#clip500)\" d=\"M2066.44 1269.97 Q2068.04 1267.1 2070.26 1265.73 Q2072.49 1264.36 2075.49 1264.36 Q2079.55 1264.36 2081.74 1267.21 Q2083.94 1270.04 2083.94 1275.27 L2083.94 1290.92 L2079.66 1290.92 L2079.66 1275.41 Q2079.66 1271.68 2078.34 1269.87 Q2077.02 1268.07 2074.31 1268.07 Q2071 1268.07 2069.08 1270.27 Q2067.16 1272.47 2067.16 1276.26 L2067.16 1290.92 L2062.88 1290.92 L2062.88 1275.41 Q2062.88 1271.66 2061.56 1269.87 Q2060.24 1268.07 2057.49 1268.07 Q2054.22 1268.07 2052.3 1270.29 Q2050.38 1272.49 2050.38 1276.26 L2050.38 1290.92 L2046.1 1290.92 L2046.1 1264.99 L2050.38 1264.99 L2050.38 1269.02 Q2051.84 1266.63 2053.87 1265.5 Q2055.91 1264.36 2058.71 1264.36 Q2061.54 1264.36 2063.5 1265.8 Q2065.49 1267.23 2066.44 1269.97 Z\" fill=\"#000000\" fill-rule=\"evenodd\" fill-opacity=\"1\" /><polyline clip-path=\"url(#clip500)\" style=\"stroke:#e26f46; stroke-linecap:butt; stroke-linejoin:round; stroke-width:4; stroke-opacity:1; fill:none\" points=\"\n",
       "  1589.92,1325.48 1730.14,1325.48 \n",
       "  \"/>\n",
       "<path clip-path=\"url(#clip500)\" d=\"M1781.38 1310.86 L1781.38 1315.79 Q1779.01 1313.59 1776.33 1312.5 Q1773.67 1311.41 1770.66 1311.41 Q1764.73 1311.41 1761.58 1315.05 Q1758.44 1318.66 1758.44 1325.51 Q1758.44 1332.34 1761.58 1335.97 Q1764.73 1339.58 1770.66 1339.58 Q1773.67 1339.58 1776.33 1338.5 Q1779.01 1337.41 1781.38 1335.21 L1781.38 1340.09 Q1778.92 1341.76 1776.17 1342.59 Q1773.44 1343.43 1770.38 1343.43 Q1762.53 1343.43 1758.02 1338.63 Q1753.51 1333.82 1753.51 1325.51 Q1753.51 1317.18 1758.02 1312.39 Q1762.53 1307.57 1770.38 1307.57 Q1773.48 1307.57 1776.21 1308.4 Q1778.97 1309.21 1781.38 1310.86 Z\" fill=\"#000000\" fill-rule=\"evenodd\" fill-opacity=\"1\" /><path clip-path=\"url(#clip500)\" d=\"M1798.46 1319.82 Q1795.03 1319.82 1793.04 1322.5 Q1791.05 1325.16 1791.05 1329.82 Q1791.05 1334.47 1793.02 1337.15 Q1795.01 1339.82 1798.46 1339.82 Q1801.86 1339.82 1803.85 1337.13 Q1805.84 1334.45 1805.84 1329.82 Q1805.84 1325.21 1803.85 1322.52 Q1801.86 1319.82 1798.46 1319.82 M1798.46 1316.2 Q1804.01 1316.2 1807.19 1319.82 Q1810.36 1323.43 1810.36 1329.82 Q1810.36 1336.18 1807.19 1339.82 Q1804.01 1343.43 1798.46 1343.43 Q1792.88 1343.43 1789.71 1339.82 Q1786.56 1336.18 1786.56 1329.82 Q1786.56 1323.43 1789.71 1319.82 Q1792.88 1316.2 1798.46 1316.2 Z\" fill=\"#000000\" fill-rule=\"evenodd\" fill-opacity=\"1\" /><path clip-path=\"url(#clip500)\" d=\"M1838.97 1327.11 L1838.97 1342.76 L1834.71 1342.76 L1834.71 1327.25 Q1834.71 1323.57 1833.27 1321.74 Q1831.84 1319.91 1828.97 1319.91 Q1825.52 1319.91 1823.53 1322.11 Q1821.54 1324.31 1821.54 1328.1 L1821.54 1342.76 L1817.26 1342.76 L1817.26 1316.83 L1821.54 1316.83 L1821.54 1320.86 Q1823.07 1318.52 1825.13 1317.36 Q1827.21 1316.2 1829.92 1316.2 Q1834.39 1316.2 1836.68 1318.98 Q1838.97 1321.74 1838.97 1327.11 Z\" fill=\"#000000\" fill-rule=\"evenodd\" fill-opacity=\"1\" /><path clip-path=\"url(#clip500)\" d=\"M1844.41 1316.83 L1848.92 1316.83 L1857.02 1338.59 L1865.13 1316.83 L1869.64 1316.83 L1859.92 1342.76 L1854.13 1342.76 L1844.41 1316.83 Z\" fill=\"#000000\" fill-rule=\"evenodd\" fill-opacity=\"1\" /><path clip-path=\"url(#clip500)\" d=\"M1885.57 1319.82 Q1882.14 1319.82 1880.15 1322.5 Q1878.16 1325.16 1878.16 1329.82 Q1878.16 1334.47 1880.13 1337.15 Q1882.12 1339.82 1885.57 1339.82 Q1888.97 1339.82 1890.96 1337.13 Q1892.95 1334.45 1892.95 1329.82 Q1892.95 1325.21 1890.96 1322.52 Q1888.97 1319.82 1885.57 1319.82 M1885.57 1316.2 Q1891.12 1316.2 1894.29 1319.82 Q1897.46 1323.43 1897.46 1329.82 Q1897.46 1336.18 1894.29 1339.82 Q1891.12 1343.43 1885.57 1343.43 Q1879.99 1343.43 1876.82 1339.82 Q1873.67 1336.18 1873.67 1329.82 Q1873.67 1323.43 1876.82 1319.82 Q1879.99 1316.2 1885.57 1316.2 Z\" fill=\"#000000\" fill-rule=\"evenodd\" fill-opacity=\"1\" /><path clip-path=\"url(#clip500)\" d=\"M1904.52 1306.74 L1908.78 1306.74 L1908.78 1342.76 L1904.52 1342.76 L1904.52 1306.74 Z\" fill=\"#000000\" fill-rule=\"evenodd\" fill-opacity=\"1\" /><path clip-path=\"url(#clip500)\" d=\"M1914.64 1316.83 L1919.15 1316.83 L1927.25 1338.59 L1935.36 1316.83 L1939.87 1316.83 L1930.15 1342.76 L1924.36 1342.76 L1914.64 1316.83 Z\" fill=\"#000000\" fill-rule=\"evenodd\" fill-opacity=\"1\" /><path clip-path=\"url(#clip500)\" d=\"M1967.93 1328.73 L1967.93 1330.81 L1948.34 1330.81 Q1948.62 1335.21 1950.98 1337.52 Q1953.37 1339.82 1957.6 1339.82 Q1960.06 1339.82 1962.35 1339.21 Q1964.66 1338.61 1966.93 1337.41 L1966.93 1341.44 Q1964.64 1342.41 1962.23 1342.92 Q1959.82 1343.43 1957.35 1343.43 Q1951.14 1343.43 1947.51 1339.82 Q1943.9 1336.2 1943.9 1330.05 Q1943.9 1323.68 1947.32 1319.95 Q1950.77 1316.2 1956.61 1316.2 Q1961.84 1316.2 1964.87 1319.58 Q1967.93 1322.94 1967.93 1328.73 M1963.67 1327.48 Q1963.62 1323.98 1961.7 1321.9 Q1959.8 1319.82 1956.65 1319.82 Q1953.09 1319.82 1950.94 1321.83 Q1948.81 1323.84 1948.48 1327.5 L1963.67 1327.48 Z\" fill=\"#000000\" fill-rule=\"evenodd\" fill-opacity=\"1\" /><path clip-path=\"url(#clip500)\" d=\"M1991.98 1320.76 L1991.98 1306.74 L1996.24 1306.74 L1996.24 1342.76 L1991.98 1342.76 L1991.98 1338.87 Q1990.63 1341.18 1988.57 1342.32 Q1986.54 1343.43 1983.67 1343.43 Q1978.97 1343.43 1976 1339.68 Q1973.06 1335.93 1973.06 1329.82 Q1973.06 1323.7 1976 1319.95 Q1978.97 1316.2 1983.67 1316.2 Q1986.54 1316.2 1988.57 1317.34 Q1990.63 1318.45 1991.98 1320.76 M1977.46 1329.82 Q1977.46 1334.51 1979.38 1337.2 Q1981.33 1339.86 1984.71 1339.86 Q1988.09 1339.86 1990.03 1337.2 Q1991.98 1334.51 1991.98 1329.82 Q1991.98 1325.12 1990.03 1322.45 Q1988.09 1319.77 1984.71 1319.77 Q1981.33 1319.77 1979.38 1322.45 Q1977.46 1325.12 1977.46 1329.82 Z\" fill=\"#000000\" fill-rule=\"evenodd\" fill-opacity=\"1\" /><path clip-path=\"url(#clip500)\" d=\"M2036.61 1317.59 L2036.61 1321.62 Q2034.8 1320.7 2032.86 1320.23 Q2030.91 1319.77 2028.83 1319.77 Q2025.66 1319.77 2024.06 1320.74 Q2022.49 1321.71 2022.49 1323.66 Q2022.49 1325.14 2023.62 1326 Q2024.75 1326.83 2028.18 1327.59 L2029.64 1327.92 Q2034.18 1328.89 2036.07 1330.67 Q2038 1332.43 2038 1335.6 Q2038 1339.21 2035.12 1341.32 Q2032.28 1343.43 2027.28 1343.43 Q2025.19 1343.43 2022.93 1343.01 Q2020.68 1342.62 2018.18 1341.81 L2018.18 1337.41 Q2020.54 1338.63 2022.83 1339.26 Q2025.12 1339.86 2027.37 1339.86 Q2030.38 1339.86 2032 1338.84 Q2033.62 1337.8 2033.62 1335.93 Q2033.62 1334.19 2032.44 1333.26 Q2031.28 1332.34 2027.32 1331.48 L2025.84 1331.14 Q2021.88 1330.3 2020.12 1328.59 Q2018.37 1326.85 2018.37 1323.84 Q2018.37 1320.19 2020.96 1318.2 Q2023.55 1316.2 2028.32 1316.2 Q2030.68 1316.2 2032.76 1316.55 Q2034.85 1316.9 2036.61 1317.59 Z\" fill=\"#000000\" fill-rule=\"evenodd\" fill-opacity=\"1\" /><path clip-path=\"url(#clip500)\" d=\"M2048.9 1338.87 L2048.9 1352.62 L2044.62 1352.62 L2044.62 1316.83 L2048.9 1316.83 L2048.9 1320.76 Q2050.24 1318.45 2052.28 1317.34 Q2054.34 1316.2 2057.18 1316.2 Q2061.91 1316.2 2064.85 1319.95 Q2067.81 1323.7 2067.81 1329.82 Q2067.81 1335.93 2064.85 1339.68 Q2061.91 1343.43 2057.18 1343.43 Q2054.34 1343.43 2052.28 1342.32 Q2050.24 1341.18 2048.9 1338.87 M2063.39 1329.82 Q2063.39 1325.12 2061.44 1322.45 Q2059.52 1319.77 2056.14 1319.77 Q2052.76 1319.77 2050.82 1322.45 Q2048.9 1325.12 2048.9 1329.82 Q2048.9 1334.51 2050.82 1337.2 Q2052.76 1339.86 2056.14 1339.86 Q2059.52 1339.86 2061.44 1337.2 Q2063.39 1334.51 2063.39 1329.82 Z\" fill=\"#000000\" fill-rule=\"evenodd\" fill-opacity=\"1\" /><path clip-path=\"url(#clip500)\" d=\"M2097.05 1328.73 L2097.05 1330.81 L2077.46 1330.81 Q2077.74 1335.21 2080.1 1337.52 Q2082.49 1339.82 2086.72 1339.82 Q2089.18 1339.82 2091.47 1339.21 Q2093.78 1338.61 2096.05 1337.41 L2096.05 1341.44 Q2093.76 1342.41 2091.35 1342.92 Q2088.94 1343.43 2086.47 1343.43 Q2080.26 1343.43 2076.63 1339.82 Q2073.02 1336.2 2073.02 1330.05 Q2073.02 1323.68 2076.44 1319.95 Q2079.89 1316.2 2085.73 1316.2 Q2090.96 1316.2 2093.99 1319.58 Q2097.05 1322.94 2097.05 1328.73 M2092.79 1327.48 Q2092.74 1323.98 2090.82 1321.9 Q2088.92 1319.82 2085.77 1319.82 Q2082.21 1319.82 2080.06 1321.83 Q2077.93 1323.84 2077.6 1327.5 L2092.79 1327.48 Z\" fill=\"#000000\" fill-rule=\"evenodd\" fill-opacity=\"1\" /><path clip-path=\"url(#clip500)\" d=\"M2122.69 1317.82 L2122.69 1321.81 Q2120.89 1320.81 2119.06 1320.32 Q2117.25 1319.82 2115.4 1319.82 Q2111.26 1319.82 2108.97 1322.45 Q2106.68 1325.07 2106.68 1329.82 Q2106.68 1334.56 2108.97 1337.2 Q2111.26 1339.82 2115.4 1339.82 Q2117.25 1339.82 2119.06 1339.33 Q2120.89 1338.82 2122.69 1337.82 L2122.69 1341.76 Q2120.91 1342.59 2118.99 1343.01 Q2117.09 1343.43 2114.94 1343.43 Q2109.08 1343.43 2105.63 1339.75 Q2102.18 1336.07 2102.18 1329.82 Q2102.18 1323.47 2105.66 1319.84 Q2109.15 1316.2 2115.22 1316.2 Q2117.18 1316.2 2119.06 1316.62 Q2120.93 1317.01 2122.69 1317.82 Z\" fill=\"#000000\" fill-rule=\"evenodd\" fill-opacity=\"1\" /><path clip-path=\"url(#clip500)\" d=\"M2134.31 1309.47 L2134.31 1316.83 L2143.09 1316.83 L2143.09 1320.14 L2134.31 1320.14 L2134.31 1334.21 Q2134.31 1337.38 2135.17 1338.29 Q2136.05 1339.19 2138.71 1339.19 L2143.09 1339.19 L2143.09 1342.76 L2138.71 1342.76 Q2133.78 1342.76 2131.91 1340.93 Q2130.03 1339.07 2130.03 1334.21 L2130.03 1320.14 L2126.91 1320.14 L2126.91 1316.83 L2130.03 1316.83 L2130.03 1309.47 L2134.31 1309.47 Z\" fill=\"#000000\" fill-rule=\"evenodd\" fill-opacity=\"1\" /><path clip-path=\"url(#clip500)\" d=\"M2163.71 1320.81 Q2162.99 1320.39 2162.14 1320.21 Q2161.3 1320 2160.29 1320 Q2156.68 1320 2154.73 1322.36 Q2152.81 1324.7 2152.81 1329.1 L2152.81 1342.76 L2148.53 1342.76 L2148.53 1316.83 L2152.81 1316.83 L2152.81 1320.86 Q2154.15 1318.5 2156.3 1317.36 Q2158.46 1316.2 2161.54 1316.2 Q2161.98 1316.2 2162.51 1316.27 Q2163.04 1316.32 2163.69 1316.44 L2163.71 1320.81 Z\" fill=\"#000000\" fill-rule=\"evenodd\" fill-opacity=\"1\" /><path clip-path=\"url(#clip500)\" d=\"M2167.74 1332.52 L2167.74 1316.83 L2172 1316.83 L2172 1332.36 Q2172 1336.04 2173.43 1337.89 Q2174.87 1339.72 2177.74 1339.72 Q2181.19 1339.72 2183.18 1337.52 Q2185.19 1335.32 2185.19 1331.53 L2185.19 1316.83 L2189.45 1316.83 L2189.45 1342.76 L2185.19 1342.76 L2185.19 1338.77 Q2183.64 1341.13 2181.58 1342.29 Q2179.55 1343.43 2176.84 1343.43 Q2172.37 1343.43 2170.05 1340.65 Q2167.74 1337.87 2167.74 1332.52 M2178.46 1316.2 L2178.46 1316.2 Z\" fill=\"#000000\" fill-rule=\"evenodd\" fill-opacity=\"1\" /><path clip-path=\"url(#clip500)\" d=\"M2218.41 1321.81 Q2220.01 1318.94 2222.23 1317.57 Q2224.45 1316.2 2227.46 1316.2 Q2231.51 1316.2 2233.71 1319.05 Q2235.91 1321.88 2235.91 1327.11 L2235.91 1342.76 L2231.63 1342.76 L2231.63 1327.25 Q2231.63 1323.52 2230.31 1321.71 Q2228.99 1319.91 2226.28 1319.91 Q2222.97 1319.91 2221.05 1322.11 Q2219.13 1324.31 2219.13 1328.1 L2219.13 1342.76 L2214.85 1342.76 L2214.85 1327.25 Q2214.85 1323.5 2213.53 1321.71 Q2212.21 1319.91 2209.45 1319.91 Q2206.19 1319.91 2204.27 1322.13 Q2202.35 1324.33 2202.35 1328.1 L2202.35 1342.76 L2198.06 1342.76 L2198.06 1316.83 L2202.35 1316.83 L2202.35 1320.86 Q2203.8 1318.47 2205.84 1317.34 Q2207.88 1316.2 2210.68 1316.2 Q2213.5 1316.2 2215.47 1317.64 Q2217.46 1319.07 2218.41 1321.81 Z\" fill=\"#000000\" fill-rule=\"evenodd\" fill-opacity=\"1\" /></svg>\n"
      ]
     },
     "execution_count": 16,
     "metadata": {},
     "output_type": "execute_result"
    }
   ],
   "source": [
    "plot(lambdas,raw_spectrum.(lambdas),xlabel=\"λ\", ylabel=\"Flux\", label=\"Raw spectrum\", legend=:bottomright)\n",
    "plot!(lambdas,conv_spectrum.(lambdas), label=\"Convolved spectrum\")"
   ]
  },
  {
   "cell_type": "markdown",
   "metadata": {},
   "source": [
    "That's fairly crowded, you it may be useful to zoom in on a narrower range."
   ]
  },
  {
   "cell_type": "code",
   "execution_count": 143,
   "metadata": {},
   "outputs": [
    {
     "data": {
      "image/svg+xml": [
       "<?xml version=\"1.0\" encoding=\"utf-8\"?>\n",
       "<svg xmlns=\"http://www.w3.org/2000/svg\" xmlns:xlink=\"http://www.w3.org/1999/xlink\" width=\"600\" height=\"400\" viewBox=\"0 0 2400 1600\">\n",
       "<defs>\n",
       "  <clipPath id=\"clip580\">\n",
       "    <rect x=\"0\" y=\"0\" width=\"2400\" height=\"1600\"/>\n",
       "  </clipPath>\n",
       "</defs>\n",
       "<path clip-path=\"url(#clip580)\" d=\"\n",
       "M0 1600 L2400 1600 L2400 0 L0 0  Z\n",
       "  \" fill=\"#ffffff\" fill-rule=\"evenodd\" fill-opacity=\"1\"/>\n",
       "<defs>\n",
       "  <clipPath id=\"clip581\">\n",
       "    <rect x=\"480\" y=\"0\" width=\"1681\" height=\"1600\"/>\n",
       "  </clipPath>\n",
       "</defs>\n",
       "<path clip-path=\"url(#clip580)\" d=\"\n",
       "M249.542 1423.18 L2352.76 1423.18 L2352.76 47.2441 L249.542 47.2441  Z\n",
       "  \" fill=\"#ffffff\" fill-rule=\"evenodd\" fill-opacity=\"1\"/>\n",
       "<defs>\n",
       "  <clipPath id=\"clip582\">\n",
       "    <rect x=\"249\" y=\"47\" width=\"2104\" height=\"1377\"/>\n",
       "  </clipPath>\n",
       "</defs>\n",
       "<polyline clip-path=\"url(#clip582)\" style=\"stroke:#000000; stroke-linecap:butt; stroke-linejoin:round; stroke-width:2; stroke-opacity:0.1; fill:none\" points=\"\n",
       "  467.936,1423.18 467.936,47.2441 \n",
       "  \"/>\n",
       "<polyline clip-path=\"url(#clip582)\" style=\"stroke:#000000; stroke-linecap:butt; stroke-linejoin:round; stroke-width:2; stroke-opacity:0.1; fill:none\" points=\"\n",
       "  944.543,1423.18 944.543,47.2441 \n",
       "  \"/>\n",
       "<polyline clip-path=\"url(#clip582)\" style=\"stroke:#000000; stroke-linecap:butt; stroke-linejoin:round; stroke-width:2; stroke-opacity:0.1; fill:none\" points=\"\n",
       "  1421.15,1423.18 1421.15,47.2441 \n",
       "  \"/>\n",
       "<polyline clip-path=\"url(#clip582)\" style=\"stroke:#000000; stroke-linecap:butt; stroke-linejoin:round; stroke-width:2; stroke-opacity:0.1; fill:none\" points=\"\n",
       "  1897.76,1423.18 1897.76,47.2441 \n",
       "  \"/>\n",
       "<polyline clip-path=\"url(#clip580)\" style=\"stroke:#000000; stroke-linecap:butt; stroke-linejoin:round; stroke-width:4; stroke-opacity:1; fill:none\" points=\"\n",
       "  249.542,1423.18 2352.76,1423.18 \n",
       "  \"/>\n",
       "<polyline clip-path=\"url(#clip580)\" style=\"stroke:#000000; stroke-linecap:butt; stroke-linejoin:round; stroke-width:4; stroke-opacity:1; fill:none\" points=\"\n",
       "  467.936,1423.18 467.936,1404.28 \n",
       "  \"/>\n",
       "<polyline clip-path=\"url(#clip580)\" style=\"stroke:#000000; stroke-linecap:butt; stroke-linejoin:round; stroke-width:4; stroke-opacity:1; fill:none\" points=\"\n",
       "  944.543,1423.18 944.543,1404.28 \n",
       "  \"/>\n",
       "<polyline clip-path=\"url(#clip580)\" style=\"stroke:#000000; stroke-linecap:butt; stroke-linejoin:round; stroke-width:4; stroke-opacity:1; fill:none\" points=\"\n",
       "  1421.15,1423.18 1421.15,1404.28 \n",
       "  \"/>\n",
       "<polyline clip-path=\"url(#clip580)\" style=\"stroke:#000000; stroke-linecap:butt; stroke-linejoin:round; stroke-width:4; stroke-opacity:1; fill:none\" points=\"\n",
       "  1897.76,1423.18 1897.76,1404.28 \n",
       "  \"/>\n",
       "<path clip-path=\"url(#clip580)\" d=\"M412.473 1449.29 L430.83 1449.29 L430.83 1453.23 L416.756 1453.23 L416.756 1461.7 Q417.774 1461.35 418.793 1461.19 Q419.811 1461 420.83 1461 Q426.617 1461 429.996 1464.18 Q433.376 1467.35 433.376 1472.76 Q433.376 1478.34 429.904 1481.44 Q426.431 1484.52 420.112 1484.52 Q417.936 1484.52 415.668 1484.15 Q413.422 1483.78 411.015 1483.04 L411.015 1478.34 Q413.098 1479.48 415.32 1480.03 Q417.543 1480.59 420.019 1480.59 Q424.024 1480.59 426.362 1478.48 Q428.7 1476.38 428.7 1472.76 Q428.7 1469.15 426.362 1467.05 Q424.024 1464.94 420.019 1464.94 Q418.144 1464.94 416.269 1465.36 Q414.418 1465.77 412.473 1466.65 L412.473 1449.29 Z\" fill=\"#000000\" fill-rule=\"evenodd\" fill-opacity=\"1\" /><path clip-path=\"url(#clip580)\" d=\"M452.589 1452.37 Q448.978 1452.37 447.149 1455.94 Q445.343 1459.48 445.343 1466.61 Q445.343 1473.71 447.149 1477.28 Q448.978 1480.82 452.589 1480.82 Q456.223 1480.82 458.028 1477.28 Q459.857 1473.71 459.857 1466.61 Q459.857 1459.48 458.028 1455.94 Q456.223 1452.37 452.589 1452.37 M452.589 1448.67 Q458.399 1448.67 461.454 1453.27 Q464.533 1457.86 464.533 1466.61 Q464.533 1475.33 461.454 1479.94 Q458.399 1484.52 452.589 1484.52 Q446.779 1484.52 443.7 1479.94 Q440.644 1475.33 440.644 1466.61 Q440.644 1457.86 443.7 1453.27 Q446.779 1448.67 452.589 1448.67 Z\" fill=\"#000000\" fill-rule=\"evenodd\" fill-opacity=\"1\" /><path clip-path=\"url(#clip580)\" d=\"M473.561 1479.92 L481.2 1479.92 L481.2 1453.55 L472.89 1455.22 L472.89 1450.96 L481.153 1449.29 L485.829 1449.29 L485.829 1479.92 L493.468 1479.92 L493.468 1483.85 L473.561 1483.85 L473.561 1479.92 Z\" fill=\"#000000\" fill-rule=\"evenodd\" fill-opacity=\"1\" /><path clip-path=\"url(#clip580)\" d=\"M512.912 1452.37 Q509.301 1452.37 507.473 1455.94 Q505.667 1459.48 505.667 1466.61 Q505.667 1473.71 507.473 1477.28 Q509.301 1480.82 512.912 1480.82 Q516.547 1480.82 518.352 1477.28 Q520.181 1473.71 520.181 1466.61 Q520.181 1459.48 518.352 1455.94 Q516.547 1452.37 512.912 1452.37 M512.912 1448.67 Q518.723 1448.67 521.778 1453.27 Q524.857 1457.86 524.857 1466.61 Q524.857 1475.33 521.778 1479.94 Q518.723 1484.52 512.912 1484.52 Q507.102 1484.52 504.024 1479.94 Q500.968 1475.33 500.968 1466.61 Q500.968 1457.86 504.024 1453.27 Q507.102 1448.67 512.912 1448.67 Z\" fill=\"#000000\" fill-rule=\"evenodd\" fill-opacity=\"1\" /><path clip-path=\"url(#clip580)\" d=\"M889.08 1449.29 L907.436 1449.29 L907.436 1453.23 L893.362 1453.23 L893.362 1461.7 Q894.381 1461.35 895.399 1461.19 Q896.418 1461 897.436 1461 Q903.223 1461 906.603 1464.18 Q909.983 1467.35 909.983 1472.76 Q909.983 1478.34 906.51 1481.44 Q903.038 1484.52 896.719 1484.52 Q894.543 1484.52 892.274 1484.15 Q890.029 1483.78 887.622 1483.04 L887.622 1478.34 Q889.705 1479.48 891.927 1480.03 Q894.149 1480.59 896.626 1480.59 Q900.631 1480.59 902.969 1478.48 Q905.307 1476.38 905.307 1472.76 Q905.307 1469.15 902.969 1467.05 Q900.631 1464.94 896.626 1464.94 Q894.751 1464.94 892.876 1465.36 Q891.024 1465.77 889.08 1466.65 L889.08 1449.29 Z\" fill=\"#000000\" fill-rule=\"evenodd\" fill-opacity=\"1\" /><path clip-path=\"url(#clip580)\" d=\"M929.195 1452.37 Q925.584 1452.37 923.756 1455.94 Q921.95 1459.48 921.95 1466.61 Q921.95 1473.71 923.756 1477.28 Q925.584 1480.82 929.195 1480.82 Q932.83 1480.82 934.635 1477.28 Q936.464 1473.71 936.464 1466.61 Q936.464 1459.48 934.635 1455.94 Q932.83 1452.37 929.195 1452.37 M929.195 1448.67 Q935.006 1448.67 938.061 1453.27 Q941.14 1457.86 941.14 1466.61 Q941.14 1475.33 938.061 1479.94 Q935.006 1484.52 929.195 1484.52 Q923.385 1484.52 920.307 1479.94 Q917.251 1475.33 917.251 1466.61 Q917.251 1457.86 920.307 1453.27 Q923.385 1448.67 929.195 1448.67 Z\" fill=\"#000000\" fill-rule=\"evenodd\" fill-opacity=\"1\" /><path clip-path=\"url(#clip580)\" d=\"M962.204 1453.37 L950.399 1471.81 L962.204 1471.81 L962.204 1453.37 M960.978 1449.29 L966.857 1449.29 L966.857 1471.81 L971.788 1471.81 L971.788 1475.7 L966.857 1475.7 L966.857 1483.85 L962.204 1483.85 L962.204 1475.7 L946.603 1475.7 L946.603 1471.19 L960.978 1449.29 Z\" fill=\"#000000\" fill-rule=\"evenodd\" fill-opacity=\"1\" /><path clip-path=\"url(#clip580)\" d=\"M989.519 1452.37 Q985.908 1452.37 984.079 1455.94 Q982.274 1459.48 982.274 1466.61 Q982.274 1473.71 984.079 1477.28 Q985.908 1480.82 989.519 1480.82 Q993.153 1480.82 994.959 1477.28 Q996.788 1473.71 996.788 1466.61 Q996.788 1459.48 994.959 1455.94 Q993.153 1452.37 989.519 1452.37 M989.519 1448.67 Q995.329 1448.67 998.385 1453.27 Q1001.46 1457.86 1001.46 1466.61 Q1001.46 1475.33 998.385 1479.94 Q995.329 1484.52 989.519 1484.52 Q983.709 1484.52 980.63 1479.94 Q977.575 1475.33 977.575 1466.61 Q977.575 1457.86 980.63 1453.27 Q983.709 1448.67 989.519 1448.67 Z\" fill=\"#000000\" fill-rule=\"evenodd\" fill-opacity=\"1\" /><path clip-path=\"url(#clip580)\" d=\"M1365.69 1449.29 L1384.04 1449.29 L1384.04 1453.23 L1369.97 1453.23 L1369.97 1461.7 Q1370.99 1461.35 1372.01 1461.19 Q1373.02 1461 1374.04 1461 Q1379.83 1461 1383.21 1464.18 Q1386.59 1467.35 1386.59 1472.76 Q1386.59 1478.34 1383.12 1481.44 Q1379.64 1484.52 1373.33 1484.52 Q1371.15 1484.52 1368.88 1484.15 Q1366.64 1483.78 1364.23 1483.04 L1364.23 1478.34 Q1366.31 1479.48 1368.53 1480.03 Q1370.76 1480.59 1373.23 1480.59 Q1377.24 1480.59 1379.58 1478.48 Q1381.91 1476.38 1381.91 1472.76 Q1381.91 1469.15 1379.58 1467.05 Q1377.24 1464.94 1373.23 1464.94 Q1371.36 1464.94 1369.48 1465.36 Q1367.63 1465.77 1365.69 1466.65 L1365.69 1449.29 Z\" fill=\"#000000\" fill-rule=\"evenodd\" fill-opacity=\"1\" /><path clip-path=\"url(#clip580)\" d=\"M1405.8 1452.37 Q1402.19 1452.37 1400.36 1455.94 Q1398.56 1459.48 1398.56 1466.61 Q1398.56 1473.71 1400.36 1477.28 Q1402.19 1480.82 1405.8 1480.82 Q1409.44 1480.82 1411.24 1477.28 Q1413.07 1473.71 1413.07 1466.61 Q1413.07 1459.48 1411.24 1455.94 Q1409.44 1452.37 1405.8 1452.37 M1405.8 1448.67 Q1411.61 1448.67 1414.67 1453.27 Q1417.75 1457.86 1417.75 1466.61 Q1417.75 1475.33 1414.67 1479.94 Q1411.61 1484.52 1405.8 1484.52 Q1399.99 1484.52 1396.91 1479.94 Q1393.86 1475.33 1393.86 1466.61 Q1393.86 1457.86 1396.91 1453.27 Q1399.99 1448.67 1405.8 1448.67 Z\" fill=\"#000000\" fill-rule=\"evenodd\" fill-opacity=\"1\" /><path clip-path=\"url(#clip580)\" d=\"M1424.78 1449.29 L1447.01 1449.29 L1447.01 1451.28 L1434.46 1483.85 L1429.58 1483.85 L1441.38 1453.23 L1424.78 1453.23 L1424.78 1449.29 Z\" fill=\"#000000\" fill-rule=\"evenodd\" fill-opacity=\"1\" /><path clip-path=\"url(#clip580)\" d=\"M1466.13 1452.37 Q1462.51 1452.37 1460.69 1455.94 Q1458.88 1459.48 1458.88 1466.61 Q1458.88 1473.71 1460.69 1477.28 Q1462.51 1480.82 1466.13 1480.82 Q1469.76 1480.82 1471.57 1477.28 Q1473.39 1473.71 1473.39 1466.61 Q1473.39 1459.48 1471.57 1455.94 Q1469.76 1452.37 1466.13 1452.37 M1466.13 1448.67 Q1471.94 1448.67 1474.99 1453.27 Q1478.07 1457.86 1478.07 1466.61 Q1478.07 1475.33 1474.99 1479.94 Q1471.94 1484.52 1466.13 1484.52 Q1460.32 1484.52 1457.24 1479.94 Q1454.18 1475.33 1454.18 1466.61 Q1454.18 1457.86 1457.24 1453.27 Q1460.32 1448.67 1466.13 1448.67 Z\" fill=\"#000000\" fill-rule=\"evenodd\" fill-opacity=\"1\" /><path clip-path=\"url(#clip580)\" d=\"M1842.29 1449.29 L1860.65 1449.29 L1860.65 1453.23 L1846.58 1453.23 L1846.58 1461.7 Q1847.59 1461.35 1848.61 1461.19 Q1849.63 1461 1850.65 1461 Q1856.44 1461 1859.82 1464.18 Q1863.2 1467.35 1863.2 1472.76 Q1863.2 1478.34 1859.72 1481.44 Q1856.25 1484.52 1849.93 1484.52 Q1847.76 1484.52 1845.49 1484.15 Q1843.24 1483.78 1840.83 1483.04 L1840.83 1478.34 Q1842.92 1479.48 1845.14 1480.03 Q1847.36 1480.59 1849.84 1480.59 Q1853.84 1480.59 1856.18 1478.48 Q1858.52 1476.38 1858.52 1472.76 Q1858.52 1469.15 1856.18 1467.05 Q1853.84 1464.94 1849.84 1464.94 Q1847.96 1464.94 1846.09 1465.36 Q1844.24 1465.77 1842.29 1466.65 L1842.29 1449.29 Z\" fill=\"#000000\" fill-rule=\"evenodd\" fill-opacity=\"1\" /><path clip-path=\"url(#clip580)\" d=\"M1873.22 1479.92 L1880.86 1479.92 L1880.86 1453.55 L1872.55 1455.22 L1872.55 1450.96 L1880.81 1449.29 L1885.49 1449.29 L1885.49 1479.92 L1893.13 1479.92 L1893.13 1483.85 L1873.22 1483.85 L1873.22 1479.92 Z\" fill=\"#000000\" fill-rule=\"evenodd\" fill-opacity=\"1\" /><path clip-path=\"url(#clip580)\" d=\"M1912.57 1452.37 Q1908.96 1452.37 1907.13 1455.94 Q1905.33 1459.48 1905.33 1466.61 Q1905.33 1473.71 1907.13 1477.28 Q1908.96 1480.82 1912.57 1480.82 Q1916.2 1480.82 1918.01 1477.28 Q1919.84 1473.71 1919.84 1466.61 Q1919.84 1459.48 1918.01 1455.94 Q1916.2 1452.37 1912.57 1452.37 M1912.57 1448.67 Q1918.38 1448.67 1921.44 1453.27 Q1924.51 1457.86 1924.51 1466.61 Q1924.51 1475.33 1921.44 1479.94 Q1918.38 1484.52 1912.57 1484.52 Q1906.76 1484.52 1903.68 1479.94 Q1900.63 1475.33 1900.63 1466.61 Q1900.63 1457.86 1903.68 1453.27 Q1906.76 1448.67 1912.57 1448.67 Z\" fill=\"#000000\" fill-rule=\"evenodd\" fill-opacity=\"1\" /><path clip-path=\"url(#clip580)\" d=\"M1942.73 1452.37 Q1939.12 1452.37 1937.29 1455.94 Q1935.49 1459.48 1935.49 1466.61 Q1935.49 1473.71 1937.29 1477.28 Q1939.12 1480.82 1942.73 1480.82 Q1946.37 1480.82 1948.17 1477.28 Q1950 1473.71 1950 1466.61 Q1950 1459.48 1948.17 1455.94 Q1946.37 1452.37 1942.73 1452.37 M1942.73 1448.67 Q1948.54 1448.67 1951.6 1453.27 Q1954.68 1457.86 1954.68 1466.61 Q1954.68 1475.33 1951.6 1479.94 Q1948.54 1484.52 1942.73 1484.52 Q1936.92 1484.52 1933.84 1479.94 Q1930.79 1475.33 1930.79 1466.61 Q1930.79 1457.86 1933.84 1453.27 Q1936.92 1448.67 1942.73 1448.67 Z\" fill=\"#000000\" fill-rule=\"evenodd\" fill-opacity=\"1\" /><path clip-path=\"url(#clip580)\" d=\"M1302.04 1524.09 L1318.5 1568.04 L1312.29 1568.04 L1302.29 1541.69 L1290.01 1568.04 L1283.8 1568.04 L1299.43 1533.86 L1297.07 1527.56 Q1295.58 1523.55 1292.17 1523.55 L1289.12 1523.55 L1289.12 1518.52 L1292.84 1518.58 Q1300.03 1518.68 1302.04 1524.09 Z\" fill=\"#000000\" fill-rule=\"evenodd\" fill-opacity=\"1\" /><polyline clip-path=\"url(#clip582)\" style=\"stroke:#000000; stroke-linecap:butt; stroke-linejoin:round; stroke-width:2; stroke-opacity:0.1; fill:none\" points=\"\n",
       "  249.542,1388.07 2352.76,1388.07 \n",
       "  \"/>\n",
       "<polyline clip-path=\"url(#clip582)\" style=\"stroke:#000000; stroke-linecap:butt; stroke-linejoin:round; stroke-width:2; stroke-opacity:0.1; fill:none\" points=\"\n",
       "  249.542,1060.3 2352.76,1060.3 \n",
       "  \"/>\n",
       "<polyline clip-path=\"url(#clip582)\" style=\"stroke:#000000; stroke-linecap:butt; stroke-linejoin:round; stroke-width:2; stroke-opacity:0.1; fill:none\" points=\"\n",
       "  249.542,732.527 2352.76,732.527 \n",
       "  \"/>\n",
       "<polyline clip-path=\"url(#clip582)\" style=\"stroke:#000000; stroke-linecap:butt; stroke-linejoin:round; stroke-width:2; stroke-opacity:0.1; fill:none\" points=\"\n",
       "  249.542,404.756 2352.76,404.756 \n",
       "  \"/>\n",
       "<polyline clip-path=\"url(#clip582)\" style=\"stroke:#000000; stroke-linecap:butt; stroke-linejoin:round; stroke-width:2; stroke-opacity:0.1; fill:none\" points=\"\n",
       "  249.542,76.9842 2352.76,76.9842 \n",
       "  \"/>\n",
       "<polyline clip-path=\"url(#clip580)\" style=\"stroke:#000000; stroke-linecap:butt; stroke-linejoin:round; stroke-width:4; stroke-opacity:1; fill:none\" points=\"\n",
       "  249.542,1423.18 249.542,47.2441 \n",
       "  \"/>\n",
       "<polyline clip-path=\"url(#clip580)\" style=\"stroke:#000000; stroke-linecap:butt; stroke-linejoin:round; stroke-width:4; stroke-opacity:1; fill:none\" points=\"\n",
       "  249.542,1388.07 268.44,1388.07 \n",
       "  \"/>\n",
       "<polyline clip-path=\"url(#clip580)\" style=\"stroke:#000000; stroke-linecap:butt; stroke-linejoin:round; stroke-width:4; stroke-opacity:1; fill:none\" points=\"\n",
       "  249.542,1060.3 268.44,1060.3 \n",
       "  \"/>\n",
       "<polyline clip-path=\"url(#clip580)\" style=\"stroke:#000000; stroke-linecap:butt; stroke-linejoin:round; stroke-width:4; stroke-opacity:1; fill:none\" points=\"\n",
       "  249.542,732.527 268.44,732.527 \n",
       "  \"/>\n",
       "<polyline clip-path=\"url(#clip580)\" style=\"stroke:#000000; stroke-linecap:butt; stroke-linejoin:round; stroke-width:4; stroke-opacity:1; fill:none\" points=\"\n",
       "  249.542,404.756 268.44,404.756 \n",
       "  \"/>\n",
       "<polyline clip-path=\"url(#clip580)\" style=\"stroke:#000000; stroke-linecap:butt; stroke-linejoin:round; stroke-width:4; stroke-opacity:1; fill:none\" points=\"\n",
       "  249.542,76.9842 268.44,76.9842 \n",
       "  \"/>\n",
       "<path clip-path=\"url(#clip580)\" d=\"M126.205 1373.87 Q122.593 1373.87 120.765 1377.43 Q118.959 1380.98 118.959 1388.11 Q118.959 1395.21 120.765 1398.78 Q122.593 1402.32 126.205 1402.32 Q129.839 1402.32 131.644 1398.78 Q133.473 1395.21 133.473 1388.11 Q133.473 1380.98 131.644 1377.43 Q129.839 1373.87 126.205 1373.87 M126.205 1370.17 Q132.015 1370.17 135.07 1374.77 Q138.149 1379.36 138.149 1388.11 Q138.149 1396.83 135.07 1401.44 Q132.015 1406.02 126.205 1406.02 Q120.394 1406.02 117.316 1401.44 Q114.26 1396.83 114.26 1388.11 Q114.26 1379.36 117.316 1374.77 Q120.394 1370.17 126.205 1370.17 Z\" fill=\"#000000\" fill-rule=\"evenodd\" fill-opacity=\"1\" /><path clip-path=\"url(#clip580)\" d=\"M146.366 1399.47 L151.251 1399.47 L151.251 1405.35 L146.366 1405.35 L146.366 1399.47 Z\" fill=\"#000000\" fill-rule=\"evenodd\" fill-opacity=\"1\" /><path clip-path=\"url(#clip580)\" d=\"M171.436 1373.87 Q167.825 1373.87 165.996 1377.43 Q164.19 1380.98 164.19 1388.11 Q164.19 1395.21 165.996 1398.78 Q167.825 1402.32 171.436 1402.32 Q175.07 1402.32 176.876 1398.78 Q178.704 1395.21 178.704 1388.11 Q178.704 1380.98 176.876 1377.43 Q175.07 1373.87 171.436 1373.87 M171.436 1370.17 Q177.246 1370.17 180.301 1374.77 Q183.38 1379.36 183.38 1388.11 Q183.38 1396.83 180.301 1401.44 Q177.246 1406.02 171.436 1406.02 Q165.626 1406.02 162.547 1401.44 Q159.491 1396.83 159.491 1388.11 Q159.491 1379.36 162.547 1374.77 Q165.626 1370.17 171.436 1370.17 Z\" fill=\"#000000\" fill-rule=\"evenodd\" fill-opacity=\"1\" /><path clip-path=\"url(#clip580)\" d=\"M201.598 1373.87 Q197.987 1373.87 196.158 1377.43 Q194.352 1380.98 194.352 1388.11 Q194.352 1395.21 196.158 1398.78 Q197.987 1402.32 201.598 1402.32 Q205.232 1402.32 207.037 1398.78 Q208.866 1395.21 208.866 1388.11 Q208.866 1380.98 207.037 1377.43 Q205.232 1373.87 201.598 1373.87 M201.598 1370.17 Q207.408 1370.17 210.463 1374.77 Q213.542 1379.36 213.542 1388.11 Q213.542 1396.83 210.463 1401.44 Q207.408 1406.02 201.598 1406.02 Q195.787 1406.02 192.709 1401.44 Q189.653 1396.83 189.653 1388.11 Q189.653 1379.36 192.709 1374.77 Q195.787 1370.17 201.598 1370.17 Z\" fill=\"#000000\" fill-rule=\"evenodd\" fill-opacity=\"1\" /><path clip-path=\"url(#clip580)\" d=\"M127.2 1046.1 Q123.589 1046.1 121.76 1049.66 Q119.955 1053.2 119.955 1060.33 Q119.955 1067.44 121.76 1071 Q123.589 1074.55 127.2 1074.55 Q130.834 1074.55 132.64 1071 Q134.468 1067.44 134.468 1060.33 Q134.468 1053.2 132.64 1049.66 Q130.834 1046.1 127.2 1046.1 M127.2 1042.39 Q133.01 1042.39 136.066 1047 Q139.144 1051.58 139.144 1060.33 Q139.144 1069.06 136.066 1073.67 Q133.01 1078.25 127.2 1078.25 Q121.39 1078.25 118.311 1073.67 Q115.256 1069.06 115.256 1060.33 Q115.256 1051.58 118.311 1047 Q121.39 1042.39 127.2 1042.39 Z\" fill=\"#000000\" fill-rule=\"evenodd\" fill-opacity=\"1\" /><path clip-path=\"url(#clip580)\" d=\"M147.362 1071.7 L152.246 1071.7 L152.246 1077.58 L147.362 1077.58 L147.362 1071.7 Z\" fill=\"#000000\" fill-rule=\"evenodd\" fill-opacity=\"1\" /><path clip-path=\"url(#clip580)\" d=\"M166.459 1073.64 L182.778 1073.64 L182.778 1077.58 L160.834 1077.58 L160.834 1073.64 Q163.496 1070.89 168.079 1066.26 Q172.686 1061.61 173.866 1060.26 Q176.112 1057.74 176.991 1056 Q177.894 1054.25 177.894 1052.56 Q177.894 1049.8 175.95 1048.07 Q174.028 1046.33 170.927 1046.33 Q168.727 1046.33 166.274 1047.09 Q163.843 1047.86 161.065 1049.41 L161.065 1044.69 Q163.89 1043.55 166.343 1042.97 Q168.797 1042.39 170.834 1042.39 Q176.204 1042.39 179.399 1045.08 Q182.593 1047.76 182.593 1052.25 Q182.593 1054.38 181.783 1056.31 Q180.996 1058.2 178.889 1060.8 Q178.311 1061.47 175.209 1064.69 Q172.107 1067.88 166.459 1073.64 Z\" fill=\"#000000\" fill-rule=\"evenodd\" fill-opacity=\"1\" /><path clip-path=\"url(#clip580)\" d=\"M192.639 1043.02 L210.996 1043.02 L210.996 1046.95 L196.922 1046.95 L196.922 1055.43 Q197.94 1055.08 198.959 1054.92 Q199.977 1054.73 200.996 1054.73 Q206.783 1054.73 210.162 1057.9 Q213.542 1061.07 213.542 1066.49 Q213.542 1072.07 210.07 1075.17 Q206.598 1078.25 200.278 1078.25 Q198.102 1078.25 195.834 1077.88 Q193.588 1077.51 191.181 1076.77 L191.181 1072.07 Q193.264 1073.2 195.487 1073.76 Q197.709 1074.32 200.186 1074.32 Q204.19 1074.32 206.528 1072.21 Q208.866 1070.1 208.866 1066.49 Q208.866 1062.88 206.528 1060.77 Q204.19 1058.67 200.186 1058.67 Q198.311 1058.67 196.436 1059.08 Q194.584 1059.5 192.639 1060.38 L192.639 1043.02 Z\" fill=\"#000000\" fill-rule=\"evenodd\" fill-opacity=\"1\" /><path clip-path=\"url(#clip580)\" d=\"M126.205 718.326 Q122.593 718.326 120.765 721.891 Q118.959 725.432 118.959 732.562 Q118.959 739.669 120.765 743.233 Q122.593 746.775 126.205 746.775 Q129.839 746.775 131.644 743.233 Q133.473 739.669 133.473 732.562 Q133.473 725.432 131.644 721.891 Q129.839 718.326 126.205 718.326 M126.205 714.622 Q132.015 714.622 135.07 719.229 Q138.149 723.812 138.149 732.562 Q138.149 741.289 135.07 745.895 Q132.015 750.479 126.205 750.479 Q120.394 750.479 117.316 745.895 Q114.26 741.289 114.26 732.562 Q114.26 723.812 117.316 719.229 Q120.394 714.622 126.205 714.622 Z\" fill=\"#000000\" fill-rule=\"evenodd\" fill-opacity=\"1\" /><path clip-path=\"url(#clip580)\" d=\"M146.366 743.928 L151.251 743.928 L151.251 749.807 L146.366 749.807 L146.366 743.928 Z\" fill=\"#000000\" fill-rule=\"evenodd\" fill-opacity=\"1\" /><path clip-path=\"url(#clip580)\" d=\"M161.482 715.247 L179.839 715.247 L179.839 719.183 L165.765 719.183 L165.765 727.655 Q166.783 727.307 167.802 727.145 Q168.82 726.96 169.839 726.96 Q175.626 726.96 179.005 730.132 Q182.385 733.303 182.385 738.719 Q182.385 744.298 178.913 747.4 Q175.44 750.479 169.121 750.479 Q166.945 750.479 164.677 750.108 Q162.431 749.738 160.024 748.997 L160.024 744.298 Q162.107 745.432 164.329 745.988 Q166.552 746.543 169.028 746.543 Q173.033 746.543 175.371 744.437 Q177.709 742.331 177.709 738.719 Q177.709 735.108 175.371 733.002 Q173.033 730.895 169.028 730.895 Q167.153 730.895 165.278 731.312 Q163.427 731.729 161.482 732.608 L161.482 715.247 Z\" fill=\"#000000\" fill-rule=\"evenodd\" fill-opacity=\"1\" /><path clip-path=\"url(#clip580)\" d=\"M201.598 718.326 Q197.987 718.326 196.158 721.891 Q194.352 725.432 194.352 732.562 Q194.352 739.669 196.158 743.233 Q197.987 746.775 201.598 746.775 Q205.232 746.775 207.037 743.233 Q208.866 739.669 208.866 732.562 Q208.866 725.432 207.037 721.891 Q205.232 718.326 201.598 718.326 M201.598 714.622 Q207.408 714.622 210.463 719.229 Q213.542 723.812 213.542 732.562 Q213.542 741.289 210.463 745.895 Q207.408 750.479 201.598 750.479 Q195.787 750.479 192.709 745.895 Q189.653 741.289 189.653 732.562 Q189.653 723.812 192.709 719.229 Q195.787 714.622 201.598 714.622 Z\" fill=\"#000000\" fill-rule=\"evenodd\" fill-opacity=\"1\" /><path clip-path=\"url(#clip580)\" d=\"M127.2 390.554 Q123.589 390.554 121.76 394.119 Q119.955 397.661 119.955 404.791 Q119.955 411.897 121.76 415.462 Q123.589 419.003 127.2 419.003 Q130.834 419.003 132.64 415.462 Q134.468 411.897 134.468 404.791 Q134.468 397.661 132.64 394.119 Q130.834 390.554 127.2 390.554 M127.2 386.851 Q133.01 386.851 136.066 391.457 Q139.144 396.041 139.144 404.791 Q139.144 413.517 136.066 418.124 Q133.01 422.707 127.2 422.707 Q121.39 422.707 118.311 418.124 Q115.256 413.517 115.256 404.791 Q115.256 396.041 118.311 391.457 Q121.39 386.851 127.2 386.851 Z\" fill=\"#000000\" fill-rule=\"evenodd\" fill-opacity=\"1\" /><path clip-path=\"url(#clip580)\" d=\"M147.362 416.156 L152.246 416.156 L152.246 422.036 L147.362 422.036 L147.362 416.156 Z\" fill=\"#000000\" fill-rule=\"evenodd\" fill-opacity=\"1\" /><path clip-path=\"url(#clip580)\" d=\"M161.251 387.476 L183.473 387.476 L183.473 389.467 L170.927 422.036 L166.042 422.036 L177.848 391.411 L161.251 391.411 L161.251 387.476 Z\" fill=\"#000000\" fill-rule=\"evenodd\" fill-opacity=\"1\" /><path clip-path=\"url(#clip580)\" d=\"M192.639 387.476 L210.996 387.476 L210.996 391.411 L196.922 391.411 L196.922 399.883 Q197.94 399.536 198.959 399.374 Q199.977 399.189 200.996 399.189 Q206.783 399.189 210.162 402.36 Q213.542 405.531 213.542 410.948 Q213.542 416.527 210.07 419.628 Q206.598 422.707 200.278 422.707 Q198.102 422.707 195.834 422.337 Q193.588 421.966 191.181 421.226 L191.181 416.527 Q193.264 417.661 195.487 418.216 Q197.709 418.772 200.186 418.772 Q204.19 418.772 206.528 416.665 Q208.866 414.559 208.866 410.948 Q208.866 407.337 206.528 405.23 Q204.19 403.124 200.186 403.124 Q198.311 403.124 196.436 403.541 Q194.584 403.957 192.639 404.837 L192.639 387.476 Z\" fill=\"#000000\" fill-rule=\"evenodd\" fill-opacity=\"1\" /><path clip-path=\"url(#clip580)\" d=\"M117.015 90.3291 L124.654 90.3291 L124.654 63.9635 L116.343 65.6301 L116.343 61.3709 L124.607 59.7042 L129.283 59.7042 L129.283 90.3291 L136.922 90.3291 L136.922 94.2642 L117.015 94.2642 L117.015 90.3291 Z\" fill=\"#000000\" fill-rule=\"evenodd\" fill-opacity=\"1\" /><path clip-path=\"url(#clip580)\" d=\"M146.366 88.3846 L151.251 88.3846 L151.251 94.2642 L146.366 94.2642 L146.366 88.3846 Z\" fill=\"#000000\" fill-rule=\"evenodd\" fill-opacity=\"1\" /><path clip-path=\"url(#clip580)\" d=\"M171.436 62.7829 Q167.825 62.7829 165.996 66.3477 Q164.19 69.8893 164.19 77.0189 Q164.19 84.1254 165.996 87.6902 Q167.825 91.2318 171.436 91.2318 Q175.07 91.2318 176.876 87.6902 Q178.704 84.1254 178.704 77.0189 Q178.704 69.8893 176.876 66.3477 Q175.07 62.7829 171.436 62.7829 M171.436 59.0792 Q177.246 59.0792 180.301 63.6857 Q183.38 68.269 183.38 77.0189 Q183.38 85.7457 180.301 90.3522 Q177.246 94.9355 171.436 94.9355 Q165.626 94.9355 162.547 90.3522 Q159.491 85.7457 159.491 77.0189 Q159.491 68.269 162.547 63.6857 Q165.626 59.0792 171.436 59.0792 Z\" fill=\"#000000\" fill-rule=\"evenodd\" fill-opacity=\"1\" /><path clip-path=\"url(#clip580)\" d=\"M201.598 62.7829 Q197.987 62.7829 196.158 66.3477 Q194.352 69.8893 194.352 77.0189 Q194.352 84.1254 196.158 87.6902 Q197.987 91.2318 201.598 91.2318 Q205.232 91.2318 207.037 87.6902 Q208.866 84.1254 208.866 77.0189 Q208.866 69.8893 207.037 66.3477 Q205.232 62.7829 201.598 62.7829 M201.598 59.0792 Q207.408 59.0792 210.463 63.6857 Q213.542 68.269 213.542 77.0189 Q213.542 85.7457 210.463 90.3522 Q207.408 94.9355 201.598 94.9355 Q195.787 94.9355 192.709 90.3522 Q189.653 85.7457 189.653 77.0189 Q189.653 68.269 192.709 63.6857 Q195.787 59.0792 201.598 59.0792 Z\" fill=\"#000000\" fill-rule=\"evenodd\" fill-opacity=\"1\" /><path clip-path=\"url(#clip580)\" d=\"M16.4842 798.694 L16.4842 771.385 L21.895 771.385 L21.895 792.265 L35.8996 792.265 L35.8996 773.422 L41.3104 773.422 L41.3104 792.265 L64.0042 792.265 L64.0042 798.694 L16.4842 798.694 Z\" fill=\"#000000\" fill-rule=\"evenodd\" fill-opacity=\"1\" /><path clip-path=\"url(#clip580)\" d=\"M14.479 761.455 L14.479 755.598 L64.0042 755.598 L64.0042 761.455 L14.479 761.455 Z\" fill=\"#000000\" fill-rule=\"evenodd\" fill-opacity=\"1\" /><path clip-path=\"url(#clip580)\" d=\"M49.9359 743.949 L28.3562 743.949 L28.3562 738.092 L49.7131 738.092 Q54.7739 738.092 57.3202 736.119 Q59.8346 734.146 59.8346 730.199 Q59.8346 725.457 56.8109 722.719 Q53.7872 719.95 48.5673 719.95 L28.3562 719.95 L28.3562 714.094 L64.0042 714.094 L64.0042 719.95 L58.5296 719.95 Q61.7762 722.083 63.3676 724.915 Q64.9272 727.716 64.9272 731.44 Q64.9272 737.583 61.1078 740.766 Q57.2883 743.949 49.9359 743.949 M27.4968 729.212 L27.4968 729.212 Z\" fill=\"#000000\" fill-rule=\"evenodd\" fill-opacity=\"1\" /><path clip-path=\"url(#clip580)\" d=\"M28.3562 672.398 L45.7028 685.289 L64.0042 671.73 L64.0042 678.637 L49.9996 689.013 L64.0042 699.389 L64.0042 706.296 L45.3526 692.45 L28.3562 705.118 L28.3562 698.211 L41.0558 688.758 L28.3562 679.305 L28.3562 672.398 Z\" fill=\"#000000\" fill-rule=\"evenodd\" fill-opacity=\"1\" /><polyline clip-path=\"url(#clip582)\" style=\"stroke:#009af9; stroke-linecap:butt; stroke-linejoin:round; stroke-width:4; stroke-opacity:1; fill:none\" points=\"\n",
       "  309.067,98.018 311.007,101.08 312.946,105.103 314.886,110.299 316.825,116.894 318.765,125.117 320.704,135.192 322.644,147.389 324.583,162.531 326.523,184.499 \n",
       "  328.462,226.214 330.402,310.331 332.342,441.324 334.281,564.282 336.221,597.161 338.16,531.923 340.1,444.706 342.039,397.351 343.979,390.813 345.918,401.629 \n",
       "  347.858,414.406 349.798,423.838 351.737,428.591 353.677,428.343 355.616,423.092 357.556,413.072 359.495,398.718 361.435,380.637 363.374,359.569 365.314,336.334 \n",
       "  367.254,311.789 369.193,286.907 371.133,263.62 373.072,248.725 375.012,262.094 376.951,334.35 378.891,463.853 380.83,567.825 382.77,544.101 384.71,402.33 \n",
       "  386.649,250.485 388.589,160.637 390.528,126.402 392.468,117.618 394.407,117.215 396.347,120.243 398.286,125.94 400.226,134.389 402.166,145.808 404.105,160.434 \n",
       "  406.045,178.492 407.984,200.16 409.924,225.533 411.863,254.59 413.803,287.16 415.742,322.901 417.682,361.284 419.622,401.599 421.561,442.974 423.501,484.414 \n",
       "  425.44,524.867 427.38,563.3 429.319,598.797 431.259,630.662 433.198,658.517 435.138,682.404 437.078,702.923 439.017,721.646 440.957,741.899 442.896,768.351 \n",
       "  444.836,802.343 446.775,836.739 448.715,862.519 450.654,882.077 452.594,906.655 454.534,942.096 456.473,985.442 458.413,1031.15 460.352,1074.75 462.292,1112.76 \n",
       "  464.231,1142.28 466.171,1160.92 468.11,1167.13 470.05,1160.25 471.99,1140.69 473.929,1109.79 475.869,1069.73 477.808,1023.23 479.748,973.282 481.687,922.83 \n",
       "  483.627,874.584 485.566,831.205 487.506,795.842 489.446,771.264 491.385,755.492 493.325,739.39 495.264,714.851 497.204,684.125 499.143,654.704 501.083,629.21 \n",
       "  503.022,605.093 504.962,579.454 506.901,551.017 508.841,519.66 510.781,485.795 512.72,450.103 514.66,413.41 516.599,376.594 518.539,340.512 520.478,305.937 \n",
       "  522.418,273.516 524.357,243.742 526.297,216.945 528.237,193.294 530.176,172.814 532.116,155.407 534.055,140.879 535.995,128.97 537.934,119.378 539.874,111.785 \n",
       "  541.813,105.878 543.753,101.36 545.693,97.9614 547.632,95.4543 549.572,93.7069 551.511,93.0105 553.451,95.1464 555.39,104.581 557.33,125.349 559.269,151.137 \n",
       "  561.209,163.262 563.149,150.48 565.088,124.266 567.028,103.162 568.967,93.1944 570.907,90.1752 572.846,89.5657 574.786,89.4835 576.725,89.484 578.665,89.5043 \n",
       "  580.605,89.5439 582.544,89.6127 584.484,89.7266 586.423,89.9091 588.363,90.1952 590.302,90.6347 592.242,91.2976 594.181,92.2804 596.121,93.7128 598.061,95.766 \n",
       "  600,98.6601 601.94,102.672 603.879,108.142 605.819,115.473 607.758,125.136 609.698,137.654 611.637,153.59 613.577,173.525 615.517,198.018 617.456,227.564 \n",
       "  619.396,262.546 621.335,303.172 623.275,349.423 625.214,401.001 627.154,457.283 629.093,517.304 631.033,579.755 632.973,643.006 634.912,705.172 636.852,764.19 \n",
       "  638.791,817.93 640.731,864.325 642.67,901.498 644.61,927.894 646.549,942.394 648.489,944.396 650.429,933.875 652.368,911.393 654.308,878.071 656.247,835.534 \n",
       "  658.187,785.808 660.126,731.208 662.066,674.2 664.005,617.272 665.945,562.791 667.884,512.89 669.824,469.359 671.764,433.574 673.703,406.438 675.643,388.361 \n",
       "  677.582,379.266 679.522,378.618 681.461,385.477 683.401,398.571 685.34,416.378 687.28,437.215 689.22,459.337 691.159,481.024 693.099,500.667 695.038,516.845 \n",
       "  696.978,528.391 698.917,534.436 700.857,534.443 702.796,528.218 704.736,515.899 706.676,497.929 708.615,475.009 710.555,448.039 712.494,418.047 714.434,386.121 \n",
       "  716.373,353.338 718.313,320.701 720.252,289.096 722.192,259.25 724.132,231.716 726.071,206.868 728.011,184.909 729.95,165.888 731.89,149.73 733.829,136.261 \n",
       "  735.769,125.236 737.708,116.375 739.648,109.376 741.588,103.944 743.527,99.7995 745.467,96.6903 747.406,94.3962 749.346,92.7311 751.285,91.542 753.225,90.706 \n",
       "  755.164,90.1274 757.104,89.7328 759.044,89.4675 760.983,89.2914 762.923,89.1757 764.862,89.1003 766.802,89.0513 768.741,89.0193 770.681,88.998 772.62,88.9834 \n",
       "  774.56,88.9729 776.5,88.9649 778.439,88.9583 780.379,88.9526 782.318,88.9474 784.258,88.9424 786.197,88.9377 788.137,88.9329 790.076,88.9283 792.016,88.9237 \n",
       "  793.956,88.919 795.895,88.9144 797.835,88.9098 799.774,88.9052 801.714,88.9006 803.653,88.896 805.593,88.8914 807.532,88.8868 809.472,88.8822 811.412,88.8776 \n",
       "  813.351,88.873 815.291,88.8684 817.23,88.8638 819.17,88.8592 821.109,88.8546 823.049,88.85 824.988,88.8454 826.928,88.8408 828.868,88.8362 830.807,88.8316 \n",
       "  832.747,88.8271 834.686,88.8225 836.626,88.8179 838.565,88.8133 840.505,88.8087 842.444,88.8041 844.384,88.7995 846.323,88.795 848.263,88.7904 850.203,88.7859 \n",
       "  852.142,88.7815 854.082,88.7772 856.021,88.7731 857.961,88.7694 859.9,88.7663 861.84,88.7644 863.779,88.7644 865.719,88.7675 867.659,88.7757 869.598,88.792 \n",
       "  871.538,88.8209 873.477,88.8694 875.417,88.9475 877.356,89.0699 879.296,89.2572 881.235,89.5381 883.175,89.9516 885.115,90.5499 887.054,91.4011 888.994,92.5922 \n",
       "  890.933,94.2321 892.873,96.4536 894.812,99.4149 896.752,103.299 898.691,108.31 900.631,114.671 902.571,122.612 904.51,132.362 906.45,144.128 908.389,158.084 \n",
       "  910.329,174.346 912.268,192.952 914.208,213.844 916.147,236.855 918.087,261.697 920.027,287.964 921.966,315.14 923.906,342.624 925.845,369.755 927.785,395.848 \n",
       "  929.724,420.234 931.664,442.287 933.603,461.46 935.543,477.294 937.483,489.431 939.422,497.609 941.362,501.658 943.301,501.495 945.241,497.116 947.18,488.601 \n",
       "  949.12,476.118 951.059,459.933 952.999,440.415 954.939,418.034 956.878,393.356 958.818,367.022 960.757,339.717 962.697,312.138 964.636,284.953 966.576,258.771 \n",
       "  968.515,234.112 970.455,211.388 972.395,190.901 974.334,172.846 976.274,157.323 978.213,144.363 980.153,133.954 982.092,126.067 984.032,120.69 985.971,117.853 \n",
       "  987.911,117.654 989.851,120.277 991.79,126.004 993.73,135.221 995.669,148.41 997.609,166.13 999.548,188.993 1001.49,217.614 1003.43,252.564 1005.37,294.297 \n",
       "  1007.31,343.084 1009.25,398.934 1011.19,461.531 1013.13,530.176 1015.06,603.782 1017,681.063 1018.94,761.381 1020.88,846.295 1022.82,938.388 1024.76,1032.62 \n",
       "  1026.7,1110.13 1028.64,1153.36 1030.58,1165.76 1032.52,1163.55 1034.46,1155.44 1036.4,1139.78 1038.34,1112.65 1040.28,1072.55 1042.22,1020.24 1044.16,957.695 \n",
       "  1046.1,887.349 1048.04,811.83 1049.98,733.755 1051.92,655.587 1053.86,579.508 1055.8,507.339 1057.73,440.483 1059.67,379.913 1061.61,326.187 1063.55,279.486 \n",
       "  1065.49,239.678 1067.43,206.382 1069.37,179.044 1071.31,157 1073.25,139.537 1075.19,125.943 1077.13,115.545 1079.07,107.778 1081.01,102.604 1082.95,102.785 \n",
       "  1084.89,120.834 1086.83,185.315 1088.77,317.715 1090.71,471.447 1092.65,531.433 1094.59,441.883 1096.53,282.816 1098.47,162.146 1100.41,107.785 1102.34,92.108 \n",
       "  1104.28,89.2451 1106.22,89.1373 1108.16,89.5505 1110.1,90.2209 1112.04,91.2017 1113.98,92.6013 1115.92,94.5616 1117.86,97.2591 1119.8,100.908 1121.74,105.76 \n",
       "  1123.68,112.103 1125.62,120.251 1127.56,130.538 1129.5,143.294 1131.44,158.83 1133.38,177.403 1135.32,199.189 1137.26,224.251 1139.2,252.5 1141.14,283.677 \n",
       "  1143.08,317.326 1145.01,352.791 1146.95,389.223 1148.89,425.602 1150.83,460.781 1152.77,493.539 1154.71,522.652 1156.65,546.965 1158.59,565.471 1160.53,577.378 \n",
       "  1162.47,582.165 1164.41,579.622 1166.35,569.866 1168.29,553.332 1170.23,530.744 1172.17,503.064 1174.11,471.43 1176.05,437.085 1177.99,401.302 1179.93,365.321 \n",
       "  1181.87,330.293 1183.81,297.239 1185.75,267.027 1187.69,240.363 1189.62,217.802 1191.56,199.757 1193.5,186.528 1195.44,178.324 1197.38,175.284 1199.32,177.491 \n",
       "  1201.26,184.98 1203.2,197.73 1205.14,215.651 1207.08,238.564 1209.02,266.167 1210.96,298.013 1212.9,333.482 1214.84,371.766 1216.78,411.868 1218.72,452.618 \n",
       "  1220.66,492.701 1222.6,530.717 1224.54,565.242 1226.48,594.909 1228.42,618.488 1230.36,634.969 1232.29,643.63 1234.23,644.082 1236.17,636.302 1238.11,620.634 \n",
       "  1240.05,597.757 1241.99,568.644 1243.93,534.486 1245.87,496.616 1247.81,456.422 1249.75,415.264 1251.69,374.398 1253.63,334.922 1255.57,297.731 1257.51,263.499 \n",
       "  1259.45,232.674 1261.39,205.49 1263.33,181.992 1265.27,162.07 1267.21,145.495 1269.15,131.956 1271.09,121.093 1273.03,112.53 1274.96,105.896 1276.9,100.844 \n",
       "  1278.84,97.0609 1280.78,94.2754 1282.72,92.2584 1284.66,90.8223 1286.6,89.8176 1288.54,89.1284 1290.48,88.6678 1292.42,88.3728 1294.36,88.2007 1296.3,88.1258 \n",
       "  1298.24,88.1378 1300.18,88.2409 1302.12,88.4549 1304.06,88.8172 1306,89.3865 1307.94,90.248 1309.88,91.52 1311.82,93.3614 1313.76,95.9799 1315.7,99.6405 \n",
       "  1317.64,104.672 1319.57,111.474 1321.51,120.512 1323.45,132.319 1325.39,147.481 1327.33,166.612 1329.27,190.325 1331.21,219.191 1333.15,253.685 1335.09,294.129 \n",
       "  1337.03,340.634 1338.97,393.033 1340.91,450.839 1342.85,513.207 1344.79,578.919 1346.73,646.403 1348.67,713.773 1350.61,778.909 1352.55,839.564 1354.49,893.487 \n",
       "  1356.43,938.573 1358.37,973.006 1360.31,995.398 1362.24,1004.91 1364.18,1001.31 1366.12,985.062 1368.06,957.266 1370,919.618 1371.94,874.297 1373.88,823.811 \n",
       "  1375.82,770.808 1377.76,717.884 1379.7,667.39 1381.64,621.27 1383.58,580.934 1385.52,547.189 1387.46,520.231 1389.4,499.69 1391.34,484.725 1393.28,474.152 \n",
       "  1395.22,466.588 1397.16,460.594 1399.1,454.81 1401.04,448.053 1402.98,439.399 1404.92,428.217 1406.85,414.184 1408.79,397.27 1410.73,377.698 1412.67,355.894 \n",
       "  1414.61,332.429 1416.55,307.958 1418.49,283.162 1420.43,258.693 1422.37,235.137 1424.31,212.983 1426.25,192.601 1428.19,174.244 1430.13,158.042 1432.07,144.021 \n",
       "  1434.01,132.118 1435.95,122.201 1437.89,114.089 1439.83,107.575 1441.77,102.44 1443.71,98.4682 1445.65,95.461 1447.59,93.2406 1449.52,91.657 1451.46,90.5896 \n",
       "  1453.4,89.9486 1455.34,89.6739 1457.28,89.7349 1459.22,90.1287 1461.16,90.879 1463.1,92.0358 1465.04,93.691 1466.98,96.1669 1468.92,101.272 1470.86,117.102 \n",
       "  1472.8,165.771 1474.74,274.527 1476.68,426.417 1478.62,528.144 1480.56,496.757 1482.5,370.099 1484.44,254.357 1486.38,200.697 1488.32,192.855 1490.26,203.134 \n",
       "  1492.2,218.074 1494.13,233.913 1496.07,249.789 1498.01,265.368 1499.95,280.425 1501.89,294.824 1503.83,308.537 1505.77,321.664 1507.71,334.444 1509.65,347.244 \n",
       "  1511.59,360.539 1513.53,374.872 1515.47,390.8 1517.41,408.835 1519.35,429.371 1521.29,452.624 1523.23,478.578 1525.17,506.946 1527.11,537.155 1529.05,568.356 \n",
       "  1530.99,599.458 1532.93,629.187 1534.87,656.163 1536.8,678.991 1538.74,696.364 1540.68,707.157 1542.62,710.513 1544.56,705.917 1546.5,693.235 1548.44,672.727 \n",
       "  1550.38,645.03 1552.32,611.111 1554.26,572.189 1556.2,529.653 1558.14,484.958 1560.08,439.537 1562.02,394.715 1563.96,351.641 1565.9,311.249 1567.84,274.225 \n",
       "  1569.78,241.016 1571.72,211.835 1573.66,186.698 1575.6,165.456 1577.54,147.837 1579.48,133.486 1581.41,122.004 1583.35,112.977 1585.29,106.001 1587.23,100.7 \n",
       "  1589.17,96.7399 1591.11,93.8296 1593.05,91.7256 1594.99,90.2289 1596.93,89.1809 1598.87,88.4585 1600.81,87.968 1602.75,87.6397 1604.69,87.423 1606.63,87.2816 \n",
       "  1608.57,87.1902 1610.51,87.1314 1612.45,87.0936 1614.39,87.069 1616.33,87.0526 1618.27,87.0412 1620.21,87.0328 1622.15,87.0262 1624.08,87.0206 1626.02,87.0156 \n",
       "  1627.96,87.0109 1629.9,87.0064 1631.84,87.0021 1633.78,86.9977 1635.72,86.9934 1637.66,86.9892 1639.6,86.9849 1641.54,86.9807 1643.48,86.9764 1645.42,86.9723 \n",
       "  1647.36,86.9682 1649.3,86.9643 1651.24,86.9606 1653.18,86.9575 1655.12,86.9552 1657.06,86.9546 1659,86.9589 1660.94,86.9985 1662.88,87.3175 1664.82,89.2329 \n",
       "  1666.75,97.0904 1668.69,118.267 1670.63,153.773 1672.57,185.333 1674.51,186.964 1676.45,157.461 1678.39,122.154 1680.33,100.842 1682.27,93.7395 1684.21,93.646 \n",
       "  1686.15,96.1493 1688.09,100.067 1690.03,105.462 1691.97,112.713 1693.91,122.3 1695.85,134.778 1697.79,150.756 1699.73,170.881 1701.67,195.801 1703.61,226.123 \n",
       "  1705.55,262.355 1707.49,304.847 1709.43,353.718 1711.36,408.811 1713.3,469.646 1715.24,535.418 1717.18,605.026 1719.12,677.149 1721.06,750.35 1723,823.214 \n",
       "  1724.94,894.476 1726.88,963.126 1728.82,1028.45 1730.76,1090.03 1732.7,1147.6 1734.64,1200.91 1736.58,1249.56 1738.52,1292.79 1740.46,1329.47 1742.4,1358.07 \n",
       "  1744.34,1376.88 1746.28,1384.24 1748.22,1378.88 1750.16,1360.18 1752.1,1328.41 1754.03,1284.7 1755.97,1230.97 1757.91,1169.65 1759.85,1103.35 1761.79,1034.57 \n",
       "  1763.73,965.392 1765.67,897.377 1767.61,831.521 1769.55,768.327 1771.49,707.935 1773.43,650.279 1775.37,595.223 1777.31,542.663 1779.25,492.584 1781.19,445.073 \n",
       "  1783.13,400.302 1785.07,358.493 1787.01,319.88 1788.95,284.668 1790.89,253.016 1792.83,225.019 1794.77,200.71 1796.71,180.07 1798.64,163.048 1800.58,149.585 \n",
       "  1802.52,139.642 1804.46,133.231 1806.4,130.435 1808.34,131.44 1810.28,136.541 1812.22,146.155 1814.16,160.817 1816.1,181.158 1818.04,207.872 1819.98,241.67 \n",
       "  1821.92,283.214 1823.86,333.035 1825.8,391.454 1827.74,458.484 1829.68,533.753 1831.62,616.428 1833.56,705.178 1835.5,798.151 1837.44,893.012 1839.38,987.011 \n",
       "  1841.31,1077.1 1843.25,1160.09 1845.19,1232.81 1847.13,1292.36 1849.07,1336.24 1851.01,1362.55 1852.95,1370.14 1854.89,1358.67 1856.83,1328.65 1858.77,1281.4 \n",
       "  1860.71,1218.94 1862.65,1143.86 1864.59,1059.16 1866.53,968.004 1868.47,873.571 1870.41,778.856 1872.35,686.528 1874.29,598.817 1876.23,517.453 1878.17,443.646 \n",
       "  1880.11,378.098 1882.05,321.055 1883.99,272.375 1885.92,231.615 1887.86,198.113 1889.8,171.069 1891.74,149.624 1893.68,132.914 1895.62,120.114 1897.56,110.476 \n",
       "  1899.5,103.341 1901.44,98.1739 1903.38,94.732 1905.32,93.8718 1907.26,99.4322 1909.2,118.372 1911.14,151.866 1913.08,182.432 1915.02,184.345 1916.96,155.422 \n",
       "  1918.9,119.968 1920.84,97.6758 1922.78,89.0237 1924.72,86.8204 1926.66,86.4326 1928.59,86.3758 1930.53,86.362 1932.47,86.3541 1934.41,86.3479 1936.35,86.3426 \n",
       "  1938.29,86.3379 1940.23,86.3334 1942.17,86.3291 1944.11,86.3249 1946.05,86.3207 1947.99,86.3165 1949.93,86.3124 1951.87,86.3082 1953.81,86.3041 1955.75,86.3 \n",
       "  1957.69,86.2958 1959.63,86.2917 1961.57,86.2875 1963.51,86.2834 1965.45,86.2793 1967.39,86.2751 1969.33,86.271 1971.26,86.2669 1973.2,86.2627 1975.14,86.2586 \n",
       "  1977.08,86.2545 1979.02,86.2504 1980.96,86.2462 1982.9,86.2421 1984.84,86.238 1986.78,86.2338 1988.72,86.2297 1990.66,86.2256 1992.6,86.2215 1994.54,86.2174 \n",
       "  1996.48,86.2133 1998.42,86.2092 2000.36,86.2051 2002.3,86.2011 2004.24,86.1972 2006.18,86.1936 2008.12,86.1902 2010.06,86.1875 2012,86.1857 2013.94,86.1857 \n",
       "  2015.87,86.1884 2017.81,86.1956 2019.75,86.2101 2021.69,86.2358 2023.63,86.2812 2025.57,86.3875 2027.51,86.8896 2029.45,89.9026 2031.39,103.988 2033.33,148.767 \n",
       "  2035.27,240.12 2037.21,348.365 2039.15,394.811 2041.09,337.947 2043.03,230.491 2044.97,148.211 2046.91,112.662 2048.85,105.478 2050.79,108.58 2052.73,114.87 \n",
       "  2054.67,122.841 2056.61,132.389 2058.54,143.588 2060.48,156.487 2062.42,171.075 2064.36,187.269 2066.3,204.912 2068.24,223.774 2070.18,243.563 2072.12,263.94 \n",
       "  2074.06,284.544 2076,305.027 2077.94,325.089 2079.88,344.516 2081.82,363.212 2083.76,381.229 2085.7,398.778 2087.64,416.22 2089.58,434.039 2091.52,452.792 \n",
       "  2093.46,473.034 2095.4,495.235 2097.34,519.693 2099.28,546.453 2101.22,575.255 2103.15,605.515 2105.09,636.351 2107.03,666.653 2108.97,695.193 2110.91,720.764 \n",
       "  2112.85,742.324 2114.79,759.122 2116.73,770.791 2118.67,777.386 2120.61,779.353 2122.55,777.449 2124.49,772.603 2126.43,765.759 2128.37,757.728 2130.31,749.059 \n",
       "  2132.25,739.973 2134.19,730.361 2136.13,719.839 2138.07,707.87 2140.01,693.906 2141.95,677.543 2143.89,658.668 2145.82,637.557 2147.76,614.942 2149.7,592.012 \n",
       "  2151.64,570.365 2153.58,551.914 2155.52,538.752 2157.46,532.989 2159.4,536.573 2161.34,551.105 2163.28,577.676 2165.22,616.724 2167.16,667.933 2169.1,730.188 \n",
       "  2171.04,801.582 2172.98,879.492 2174.92,960.701 2176.86,1041.58 2178.8,1118.32 2180.74,1187.17 2182.68,1244.71 2184.62,1288.16 2186.56,1315.58 2188.5,1326.17 \n",
       "  2190.43,1320.33 2192.37,1299.82 2194.31,1267.6 2196.25,1227.67 2198.19,1184.67 2200.13,1143.4 2202.07,1108.27 2204.01,1082.74 2205.95,1068.91 2207.89,1067.27 \n",
       "  2209.83,1076.72 2211.77,1094.88 2213.71,1118.5 2215.65,1144.11 2217.59,1168.54 2219.53,1189.34 2221.47,1204.95 2223.41,1214.69 2225.35,1218.53 2227.29,1216.77 \n",
       "  2229.23,1209.73 2231.17,1197.54 2233.1,1180.09 2235.04,1157.08 2236.98,1128.16 2238.92,1093.12 2240.86,1052.04 2242.8,1005.37 2244.74,953.898 2246.68,898.725 \n",
       "  2248.62,841.151 2250.56,782.592 2252.5,724.506 2254.44,668.355 2256.38,615.583 2258.32,567.608 2260.26,525.808 2262.2,491.498 2264.14,465.899 2266.08,450.155 \n",
       "  2268.02,445.466 2269.96,453.079 2271.9,473.335 2273.84,504.111 2275.77,541.725 2277.71,584.504 2279.65,633.31 2281.59,688.126 2283.53,746.488 2285.47,804.913 \n",
       "  2287.41,860.154 2289.35,909.388 2291.29,950.152 2293.23,980.381 \n",
       "  \"/>\n",
       "<polyline clip-path=\"url(#clip582)\" style=\"stroke:#e26f46; stroke-linecap:butt; stroke-linejoin:round; stroke-width:4; stroke-opacity:1; fill:none\" points=\"\n",
       "  309.067,115.826 311.007,122.031 312.946,129.853 314.886,139.719 316.825,152.114 318.765,167.516 320.704,186.295 322.644,208.579 324.583,234.113 326.523,262.16 \n",
       "  328.462,291.491 330.402,320.5 332.342,347.444 334.281,370.74 336.221,389.27 338.16,402.563 340.1,410.827 342.039,414.813 343.979,415.552 345.918,414.079 \n",
       "  347.858,411.206 349.798,407.404 351.737,402.823 353.677,397.391 355.616,390.977 357.556,383.536 359.495,375.227 361.435,366.462 363.374,357.883 365.314,350.264 \n",
       "  367.254,344.341 369.193,340.607 371.133,339.103 373.072,339.284 375.012,340.018 376.951,339.75 378.891,336.83 380.83,329.914 382.77,318.336 384.71,302.323 \n",
       "  386.649,282.986 388.589,262.094 390.528,241.704 392.468,223.769 394.407,209.826 396.347,200.844 398.286,197.225 400.226,198.919 402.166,205.588 404.105,216.765 \n",
       "  406.045,231.963 407.984,250.732 409.924,272.671 411.863,297.411 413.803,324.583 415.742,353.8 417.682,384.641 419.622,416.652 421.561,449.356 423.501,482.282 \n",
       "  425.44,514.994 427.38,547.123 429.319,578.396 431.259,608.661 433.198,637.89 435.138,666.172 437.078,693.688 439.017,720.679 440.957,747.405 442.896,774.111 \n",
       "  444.836,801 446.775,828.201 448.715,855.749 450.654,883.555 452.594,911.376 454.534,938.784 456.473,965.159 458.413,989.7 460.352,1011.47 462.292,1029.48 \n",
       "  464.231,1042.78 466.171,1050.57 468.11,1052.29 470.05,1047.7 471.99,1036.91 473.929,1020.35 475.869,998.789 477.808,973.179 479.748,944.614 481.687,914.193 \n",
       "  483.627,882.916 485.566,851.599 487.506,820.817 489.446,790.886 491.385,761.885 493.325,733.706 495.264,706.122 497.204,678.845 499.143,651.589 501.083,624.101 \n",
       "  503.022,596.185 504.962,567.711 506.901,538.626 508.841,508.951 510.781,478.789 512.72,448.32 514.66,417.794 516.599,387.515 518.539,357.822 520.478,329.062 \n",
       "  522.418,301.567 524.357,275.631 526.297,251.498 528.237,229.347 530.176,209.29 532.116,191.381 534.055,175.617 535.995,161.956 537.934,150.327 539.874,140.651 \n",
       "  541.813,132.844 543.753,126.82 545.693,122.484 547.632,119.713 549.572,118.326 551.511,118.067 553.451,118.591 555.39,119.485 557.33,120.307 559.269,120.657 \n",
       "  561.209,120.24 563.149,118.92 565.088,116.742 567.028,113.905 568.967,110.711 570.907,107.489 572.846,104.532 574.786,102.052 576.725,100.166 578.665,98.9051 \n",
       "  580.605,98.2433 582.544,98.1295 584.484,98.5148 586.423,99.3723 588.363,100.708 590.302,102.564 592.242,105.02 594.181,108.191 596.121,112.227 598.061,117.311 \n",
       "  600,123.658 601.94,131.512 603.879,141.145 605.819,152.846 607.758,166.918 609.698,183.659 611.637,203.35 613.577,226.234 615.517,252.496 617.456,282.235 \n",
       "  619.396,315.444 621.335,351.987 623.275,391.577 625.214,433.769 627.154,477.95 629.093,523.346 631.033,569.036 632.973,613.98 634.912,657.057 636.852,697.111 \n",
       "  638.791,733.002 640.731,763.671 642.67,788.19 644.61,805.82 646.549,816.058 648.489,818.668 650.429,813.705 652.368,801.515 654.308,782.728 656.247,758.226 \n",
       "  658.187,729.099 660.126,696.595 662.066,662.054 664.005,626.841 665.945,592.282 667.884,559.597 669.824,529.846 671.764,503.885 673.703,482.328 675.643,465.535 \n",
       "  677.582,453.599 679.522,446.362 681.461,443.429 683.401,444.209 685.34,447.947 687.28,453.779 689.22,460.775 691.159,467.995 693.099,474.537 695.038,479.577 \n",
       "  696.978,482.411 698.917,482.481 700.857,479.396 702.796,472.939 704.736,463.068 706.676,449.907 708.615,433.726 710.555,414.914 712.494,393.955 714.434,371.391 \n",
       "  716.373,347.791 718.313,323.721 720.252,299.718 722.192,276.265 724.132,253.775 726.071,232.585 728.011,212.944 729.95,195.021 731.89,178.903 733.829,164.609 \n",
       "  735.769,152.102 737.708,141.293 739.648,132.063 741.588,124.269 743.527,117.756 745.467,112.364 747.406,107.94 749.346,104.337 751.285,101.421 753.225,99.0744 \n",
       "  755.164,97.1927 757.104,95.6873 759.044,94.4837 760.983,93.5204 762.923,92.7473 764.862,92.1242 766.802,91.6191 768.741,91.2067 770.681,90.8673 772.62,90.5857 \n",
       "  774.56,90.35 776.5,90.1511 778.439,89.9819 780.379,89.837 782.318,89.7122 784.258,89.604 786.197,89.5099 788.137,89.4278 790.076,89.356 792.016,89.293 \n",
       "  793.956,89.2377 795.895,89.1892 797.835,89.1467 799.774,89.1093 801.714,89.0767 803.653,89.0482 805.593,89.0234 807.532,89.0019 809.472,88.9834 811.412,88.9677 \n",
       "  813.351,88.9546 815.291,88.9438 817.23,88.9353 819.17,88.929 821.109,88.9248 823.049,88.9228 824.988,88.9229 826.928,88.9254 828.868,88.9302 830.807,88.9376 \n",
       "  832.747,88.9477 834.686,88.961 836.626,88.9776 838.565,88.998 840.505,89.0226 842.444,89.052 844.384,89.0867 846.323,89.1276 848.263,89.1755 850.203,89.2315 \n",
       "  852.142,89.2969 854.082,89.3733 856.021,89.4627 857.961,89.5676 859.9,89.6911 861.84,89.8374 863.779,90.0117 865.719,90.2206 867.659,90.473 869.598,90.78 \n",
       "  871.538,91.1559 873.477,91.6192 875.417,92.1931 877.356,92.907 879.296,93.7973 881.235,94.9088 883.175,96.2959 885.115,98.0235 887.054,100.168 888.994,102.818 \n",
       "  890.933,106.073 892.873,110.045 894.812,114.852 896.752,120.62 898.691,127.475 900.631,135.54 902.571,144.928 904.51,155.729 906.45,168.011 908.389,181.803 \n",
       "  910.329,197.09 912.268,213.809 914.208,231.837 916.147,250.997 918.087,271.049 920.027,291.701 921.966,312.613 923.906,333.408 925.845,353.681 927.785,373.018 \n",
       "  929.724,391.007 931.664,407.253 933.603,421.393 935.543,433.108 937.483,442.13 939.422,448.254 941.362,451.341 943.301,451.323 945.241,448.203 947.18,442.059 \n",
       "  949.12,433.039 951.059,421.359 952.999,407.297 954.939,391.186 956.878,373.405 958.818,354.364 960.757,334.495 962.697,314.234 964.636,294.012 966.576,274.238 \n",
       "  968.515,255.292 970.455,237.515 972.395,221.208 974.334,206.632 976.274,194.007 978.213,183.525 980.153,175.356 982.092,169.66 984.032,166.595 985.971,166.332 \n",
       "  987.911,169.059 989.851,174.985 991.79,184.343 993.73,197.385 995.669,214.371 997.609,235.555 999.548,261.166 1001.49,291.39 1003.43,326.336 1005.37,366.019 \n",
       "  1007.31,410.325 1009.25,458.98 1011.19,511.521 1013.13,567.256 1015.06,625.242 1017,684.265 1018.94,742.858 1020.88,799.345 1022.82,851.933 1024.76,898.836 \n",
       "  1026.7,938.409 1028.64,969.287 1030.58,990.475 1032.52,1001.4 1034.46,1001.92 1036.4,992.255 1038.34,972.955 1040.28,944.818 1042.22,908.839 1044.16,866.165 \n",
       "  1046.1,818.053 1048.04,765.841 1049.98,710.896 1051.92,654.575 1053.86,598.171 1055.8,542.87 1057.73,489.707 1059.67,439.545 1061.61,393.067 1063.55,350.785 \n",
       "  1065.49,313.069 1067.43,280.188 1069.37,252.364 1071.31,229.809 1073.25,212.751 1075.19,201.401 1077.13,195.87 1079.07,196.029 1081.01,201.342 1082.95,210.725 \n",
       "  1084.89,222.506 1086.83,234.544 1088.77,244.508 1090.71,250.283 1092.65,250.388 1094.59,244.284 1096.53,232.473 1098.47,216.341 1100.41,197.817 1102.34,178.944 \n",
       "  1104.28,161.489 1106.22,146.7 1108.16,135.228 1110.1,127.202 1112.04,122.401 1113.98,120.427 1115.92,120.866 1117.86,123.384 1119.8,127.764 1121.74,133.911 \n",
       "  1123.68,141.824 1125.62,151.565 1127.56,163.224 1129.5,176.889 1131.44,192.62 1133.38,210.431 1135.32,230.271 1137.26,252.011 1139.2,275.433 1141.14,300.225 \n",
       "  1143.08,325.979 1145.01,352.2 1146.95,378.312 1148.89,403.684 1150.83,427.645 1152.77,449.52 1154.71,468.658 1156.65,484.466 1158.59,496.439 1160.53,504.192 \n",
       "  1162.47,507.478 1164.41,506.206 1166.35,500.448 1168.29,490.435 1170.23,476.549 1172.17,459.303 1174.11,439.315 1176.05,417.285 1177.99,393.958 1179.93,370.099 \n",
       "  1181.87,346.463 1183.81,323.769 1185.75,302.683 1187.69,283.802 1189.62,267.645 1191.56,254.646 1193.5,245.154 1195.44,239.429 1197.38,237.645 1199.32,239.891 \n",
       "  1201.26,246.167 1203.2,256.386 1205.14,270.367 1207.08,287.836 1209.02,308.419 1210.96,331.644 1212.9,356.942 1214.84,383.654 1216.78,411.043 1218.72,438.313 \n",
       "  1220.66,464.632 1222.6,489.16 1224.54,511.086 1226.48,529.657 1228.42,544.218 1230.36,554.239 1232.29,559.343 1234.23,559.327 1236.17,554.166 1238.11,544.018 \n",
       "  1240.05,529.21 1241.99,510.219 1243.93,487.648 1245.87,462.188 1247.81,434.583 1249.75,405.595 1251.69,375.968 1253.63,346.397 1255.57,317.5 1257.51,289.805 \n",
       "  1259.45,263.734 1261.39,239.6 1263.33,217.611 1265.27,197.876 1267.21,180.417 1269.15,165.181 1271.09,152.06 1273.03,140.904 1274.96,131.535 1276.9,123.762 \n",
       "  1278.84,117.392 1280.78,112.236 1282.72,108.119 1284.66,104.884 1286.6,102.393 1288.54,100.531 1290.48,99.2035 1292.42,98.3392 1294.36,97.8886 1296.3,97.8234 \n",
       "  1298.24,98.1371 1300.18,98.845 1302.12,99.9855 1304.06,101.621 1306,103.84 1307.94,106.761 1309.88,110.529 1311.82,115.326 1313.76,121.365 1315.7,128.889 \n",
       "  1317.64,138.176 1319.57,149.524 1321.51,163.253 1323.45,179.685 1325.39,199.131 1327.33,221.876 1329.27,248.15 1331.21,278.109 1333.15,311.807 1335.09,349.169 \n",
       "  1337.03,389.975 1338.97,433.836 1340.91,480.189 1342.85,528.296 1344.79,577.256 1346.73,626.025 1348.67,673.456 1350.61,718.342 1352.55,759.471 1354.49,795.693 \n",
       "  1356.43,825.975 1358.37,849.467 1360.31,865.555 1362.24,873.9 1364.18,874.463 1366.12,867.515 1368.06,853.621 1370,833.607 1371.94,808.51 1373.88,779.514 \n",
       "  1375.82,747.875 1377.76,714.844 1379.7,681.591 1381.64,649.145 1383.58,618.337 1385.52,589.766 1387.46,563.786 1389.4,540.512 1391.34,519.835 1393.28,501.468 \n",
       "  1395.22,484.985 1397.16,469.878 1399.1,455.606 1401.04,441.647 1402.98,427.538 1404.92,412.904 1406.85,397.485 1408.79,381.135 1410.73,363.83 1412.67,345.652 \n",
       "  1414.61,326.772 1416.55,307.43 1418.49,287.909 1420.43,268.512 1422.37,249.543 1424.31,231.281 1426.25,213.973 1428.19,197.82 1430.13,182.971 1432.07,169.526 \n",
       "  1434.01,157.534 1435.95,146.999 1437.89,137.891 1439.83,130.148 1441.77,123.693 1443.71,118.437 1445.65,114.293 1447.59,111.191 1449.52,109.086 1451.46,107.988 \n",
       "  1453.4,107.975 1455.34,109.229 1457.28,112.045 1459.22,116.835 1461.16,124.092 1463.1,134.303 1465.04,147.807 1466.98,164.633 1468.92,184.336 1470.86,205.912 \n",
       "  1472.8,227.847 1474.74,248.315 1476.68,265.519 1478.62,278.074 1480.56,285.329 1482.5,287.527 1484.44,285.73 1486.38,281.562 1488.32,276.83 1490.26,273.155 \n",
       "  1492.2,271.708 1494.13,273.101 1496.07,277.432 1498.01,284.424 1499.95,293.604 1501.89,304.465 1503.83,316.575 1505.77,329.635 1507.71,343.489 1509.65,358.1 \n",
       "  1511.59,373.516 1513.53,389.828 1515.47,407.128 1517.41,425.474 1519.35,444.859 1521.29,465.19 1523.23,486.265 1525.17,507.77 1527.11,529.275 1529.05,550.25 \n",
       "  1530.99,570.08 1532.93,588.095 1534.87,603.605 1536.8,615.94 1538.74,624.489 1540.68,628.741 1542.62,628.318 1544.56,623.002 1546.5,612.75 1548.44,597.7 \n",
       "  1550.38,578.166 1552.32,554.62 1554.26,527.665 1556.2,497.999 1558.14,466.385 1560.08,433.602 1562.02,400.413 1563.96,367.53 1565.9,335.588 1567.84,305.121 \n",
       "  1569.78,276.555 1571.72,250.2 1573.66,226.251 1575.6,204.803 1577.54,185.858 1579.48,169.34 1581.41,155.116 1583.35,143.011 1585.29,132.821 1587.23,124.33 \n",
       "  1589.17,117.322 1591.11,111.586 1593.05,106.926 1594.99,103.165 1596.93,100.143 1598.87,97.726 1600.81,95.796 1602.75,94.2567 1604.69,93.0282 1606.63,92.0459 \n",
       "  1608.57,91.258 1610.51,90.6238 1612.45,90.1112 1614.39,89.6955 1616.33,89.3578 1618.27,89.0835 1620.21,88.8619 1622.15,88.6851 1624.08,88.5471 1626.02,88.4442 \n",
       "  1627.96,88.3736 1629.9,88.3341 1631.84,88.3254 1633.78,88.348 1635.72,88.4035 1637.66,88.4946 1639.6,88.6255 1641.54,88.8038 1643.48,89.0418 1645.42,89.3607 \n",
       "  1647.36,89.7951 1649.3,90.3994 1651.24,91.2528 1653.18,92.4617 1655.12,94.1538 1657.06,96.461 1659,99.4898 1660.94,103.28 1662.88,107.766 1664.82,112.744 \n",
       "  1666.75,117.879 1668.69,122.746 1670.63,126.908 1672.57,130.018 1674.51,131.914 1676.45,132.681 1678.39,132.651 1680.33,132.362 1682.27,132.46 1684.21,133.612 \n",
       "  1686.15,136.422 1688.09,141.389 1690.03,148.904 1691.97,159.269 1693.91,172.736 1695.85,189.532 1697.79,209.879 1699.73,233.991 1701.67,262.066 1703.61,294.256 \n",
       "  1705.55,330.64 1707.49,371.204 1709.43,415.817 1711.36,464.219 1713.3,516.021 1715.24,570.709 1717.18,627.665 1719.12,686.184 1721.06,745.506 1723,804.842 \n",
       "  1724.94,863.393 1726.88,920.374 1728.82,975.017 1730.76,1026.57 1732.7,1074.31 1734.64,1117.5 1736.58,1155.44 1738.52,1187.41 1740.46,1212.75 1742.4,1230.84 \n",
       "  1744.34,1241.19 1746.28,1243.42 1748.22,1237.37 1750.16,1223.1 1752.1,1200.92 1754.03,1171.36 1755.97,1135.2 1757.91,1093.36 1759.85,1046.88 1761.79,996.862 \n",
       "  1763.73,944.369 1765.67,890.406 1767.61,835.865 1769.55,781.508 1771.49,727.962 1773.43,675.728 1775.37,625.198 1777.31,576.678 1779.25,530.411 1781.19,486.598 \n",
       "  1783.13,445.408 1785.07,406.996 1787.01,371.501 1788.95,339.051 1790.89,309.762 1792.83,283.742 1794.77,261.087 1796.71,241.89 1798.64,226.245 1800.58,214.252 \n",
       "  1802.52,206.029 1804.46,201.716 1806.4,201.484 1808.34,205.535 1810.28,214.104 1812.22,227.449 1814.16,245.838 1816.1,269.534 1818.04,298.763 1819.98,333.689 \n",
       "  1821.92,374.375 1823.86,420.747 1825.8,472.563 1827.74,529.376 1829.68,590.514 1831.62,655.065 1833.56,721.883 1835.5,789.596 1837.44,856.65 1839.38,921.35 \n",
       "  1841.31,981.931 1843.25,1036.63 1845.19,1083.77 1847.13,1121.85 1849.07,1149.6 1851.01,1166.1 1852.95,1170.76 1854.89,1163.42 1856.83,1144.34 1858.77,1114.14 \n",
       "  1860.71,1073.83 1862.65,1024.73 1864.59,968.363 1866.53,906.425 1868.47,840.674 1870.41,772.85 1872.35,704.601 1874.29,637.424 1876.23,572.612 1878.17,511.226 \n",
       "  1880.11,454.078 1882.05,401.733 1883.99,354.527 1885.92,312.591 1887.86,275.89 1889.8,244.262 1891.74,217.457 1893.68,195.178 1895.62,177.105 1897.56,162.905 \n",
       "  1899.5,152.226 1901.44,144.669 1903.38,139.763 1905.32,136.942 1907.26,135.545 1909.2,134.86 1911.14,134.189 1913.08,132.95 1915.02,130.756 1916.96,127.47 \n",
       "  1918.9,123.205 1920.84,118.268 1922.78,113.068 1924.72,108.014 1926.66,103.438 1928.59,99.545 1930.53,96.4083 1932.47,93.9939 1934.41,92.1999 1936.35,90.8963 \n",
       "  1938.29,89.9552 1940.23,89.269 1942.17,88.7562 1944.11,88.3605 1946.05,88.0451 1947.99,87.7873 1949.93,87.573 1951.87,87.3934 1953.81,87.2426 1955.75,87.1164 \n",
       "  1957.69,87.0112 1959.63,86.9243 1961.57,86.8534 1963.51,86.7963 1965.45,86.7516 1967.39,86.7178 1969.33,86.6939 1971.26,86.6791 1973.2,86.6729 1975.14,86.6749 \n",
       "  1977.08,86.685 1979.02,86.7035 1980.96,86.7306 1982.9,86.7671 1984.84,86.814 1986.78,86.8728 1988.72,86.9454 1990.66,87.0343 1992.6,87.1425 1994.54,87.2741 \n",
       "  1996.48,87.4335 1998.42,87.6263 2000.36,87.8594 2002.3,88.1414 2004.24,88.4841 2006.18,88.9055 2008.12,89.4349 2010.06,90.1216 2012,91.0482 2013.94,92.3475 \n",
       "  2015.87,94.2193 2017.81,96.942 2019.75,100.866 2021.69,106.376 2023.63,113.819 2025.57,123.393 2027.51,135.019 2029.45,148.234 2031.39,162.159 2033.33,175.568 \n",
       "  2035.27,187.078 2037.21,195.427 2039.15,199.766 2041.09,199.873 2043.03,196.229 2044.97,189.922 2046.91,182.404 2048.85,175.2 2050.79,169.633 2052.73,166.646 \n",
       "  2054.67,166.74 2056.61,170.019 2058.54,176.299 2060.48,185.229 2062.42,196.399 2064.36,209.405 2066.3,223.89 2068.24,239.548 2070.18,256.118 2072.12,273.382 \n",
       "  2074.06,291.158 2076,309.297 2077.94,327.691 2079.88,346.275 2081.82,365.03 2083.76,383.983 2085.7,403.203 2087.64,422.787 2089.58,442.849 2091.52,463.49 \n",
       "  2093.46,484.781 2095.4,506.741 2097.34,529.31 2099.28,552.342 2101.22,575.598 2103.15,598.75 2105.09,621.4 2107.03,643.103 2108.97,663.404 2110.91,681.867 \n",
       "  2112.85,698.116 2114.79,711.861 2116.73,722.915 2118.67,731.206 2120.61,736.77 2122.55,739.732 2124.49,740.282 2126.43,738.649 2128.37,735.069 2130.31,729.764 \n",
       "  2132.25,722.931 2134.19,714.74 2136.13,705.351 2138.07,694.929 2140.01,683.684 2141.95,671.897 2143.89,659.951 2145.82,648.353 2147.76,637.742 2149.7,628.875 \n",
       "  2151.64,622.61 2153.58,619.854 2155.52,621.512 2157.46,628.417 2159.4,641.257 2161.34,660.508 2163.28,686.369 2165.22,718.714 2167.16,757.065 2169.1,800.587 \n",
       "  2171.04,848.108 2172.98,898.171 2174.92,949.104 2176.86,999.117 2178.8,1046.41 2180.74,1089.31 2182.68,1126.36 2184.62,1156.45 2186.56,1178.89 2188.5,1193.48 \n",
       "  2190.43,1200.51 2192.37,1200.76 2194.31,1195.39 2196.25,1185.9 2198.19,1173.91 2200.13,1161.09 2202.07,1148.96 2204.01,1138.79 2205.95,1131.46 2207.89,1127.44 \n",
       "  2209.83,1126.79 2211.77,1129.14 2213.71,1133.82 2215.65,1139.94 2217.59,1146.49 2219.53,1152.42 2221.47,1156.78 2223.41,1158.71 2225.35,1157.52 2227.29,1152.66 \n",
       "  2229.23,1143.76 2231.17,1130.57 2233.1,1112.98 2235.04,1091 2236.98,1064.73 2238.92,1034.42 2240.86,1000.42 2242.8,963.198 2244.74,923.361 2246.68,881.629 \n",
       "  2248.62,838.831 2250.56,795.883 2252.5,753.767 2254.44,713.498 2256.38,676.099 2258.32,642.557 2260.26,613.792 2262.2,590.615 2264.14,573.69 2266.08,563.495 \n",
       "  2268.02,560.294 2269.96,564.111 2271.9,574.718 2273.84,591.638 2275.77,614.148 2277.71,641.305 2279.65,671.968 2281.59,704.834 2283.53,738.488 2285.47,771.454 \n",
       "  2287.41,802.262 2289.35,829.527 2291.29,852.026 2293.23,868.77 \n",
       "  \"/>\n",
       "<path clip-path=\"url(#clip580)\" d=\"\n",
       "M1566.55 1377.32 L2282.65 1377.32 L2282.65 1221.8 L1566.55 1221.8  Z\n",
       "  \" fill=\"#ffffff\" fill-rule=\"evenodd\" fill-opacity=\"1\"/>\n",
       "<polyline clip-path=\"url(#clip580)\" style=\"stroke:#000000; stroke-linecap:butt; stroke-linejoin:round; stroke-width:4; stroke-opacity:1; fill:none\" points=\"\n",
       "  1566.55,1377.32 2282.65,1377.32 2282.65,1221.8 1566.55,1221.8 1566.55,1377.32 \n",
       "  \"/>\n",
       "<polyline clip-path=\"url(#clip580)\" style=\"stroke:#009af9; stroke-linecap:butt; stroke-linejoin:round; stroke-width:4; stroke-opacity:1; fill:none\" points=\"\n",
       "  1589.92,1273.64 1730.14,1273.64 \n",
       "  \"/>\n",
       "<path clip-path=\"url(#clip580)\" d=\"M1769.89 1274.71 Q1771.4 1275.22 1772.81 1276.89 Q1774.25 1278.55 1775.68 1281.47 L1780.43 1290.92 L1775.4 1290.92 L1770.98 1282.05 Q1769.27 1278.58 1767.65 1277.44 Q1766.05 1276.31 1763.27 1276.31 L1758.18 1276.31 L1758.18 1290.92 L1753.51 1290.92 L1753.51 1256.36 L1764.06 1256.36 Q1769.99 1256.36 1772.9 1258.83 Q1775.82 1261.31 1775.82 1266.31 Q1775.82 1269.57 1774.29 1271.73 Q1772.79 1273.88 1769.89 1274.71 M1758.18 1260.2 L1758.18 1272.47 L1764.06 1272.47 Q1767.44 1272.47 1769.15 1270.92 Q1770.89 1269.34 1770.89 1266.31 Q1770.89 1263.28 1769.15 1261.75 Q1767.44 1260.2 1764.06 1260.2 L1758.18 1260.2 Z\" fill=\"#000000\" fill-rule=\"evenodd\" fill-opacity=\"1\" /><path clip-path=\"url(#clip580)\" d=\"M1797 1277.88 Q1791.84 1277.88 1789.85 1279.06 Q1787.86 1280.24 1787.86 1283.09 Q1787.86 1285.36 1789.34 1286.7 Q1790.84 1288.02 1793.41 1288.02 Q1796.95 1288.02 1799.08 1285.52 Q1801.24 1283 1801.24 1278.83 L1801.24 1277.88 L1797 1277.88 M1805.5 1276.12 L1805.5 1290.92 L1801.24 1290.92 L1801.24 1286.98 Q1799.78 1289.34 1797.6 1290.48 Q1795.43 1291.59 1792.28 1291.59 Q1788.3 1291.59 1785.94 1289.36 Q1783.6 1287.12 1783.6 1283.37 Q1783.6 1278.99 1786.51 1276.77 Q1789.45 1274.55 1795.26 1274.55 L1801.24 1274.55 L1801.24 1274.13 Q1801.24 1271.19 1799.29 1269.6 Q1797.37 1267.98 1793.88 1267.98 Q1791.65 1267.98 1789.55 1268.51 Q1787.44 1269.04 1785.5 1270.11 L1785.5 1266.17 Q1787.83 1265.27 1790.03 1264.83 Q1792.23 1264.36 1794.32 1264.36 Q1799.94 1264.36 1802.72 1267.28 Q1805.5 1270.2 1805.5 1276.12 Z\" fill=\"#000000\" fill-rule=\"evenodd\" fill-opacity=\"1\" /><path clip-path=\"url(#clip580)\" d=\"M1811.79 1264.99 L1816.05 1264.99 L1821.38 1285.22 L1826.68 1264.99 L1831.7 1264.99 L1837.02 1285.22 L1842.32 1264.99 L1846.58 1264.99 L1839.8 1290.92 L1834.78 1290.92 L1829.2 1269.67 L1823.6 1290.92 L1818.57 1290.92 L1811.79 1264.99 Z\" fill=\"#000000\" fill-rule=\"evenodd\" fill-opacity=\"1\" /><path clip-path=\"url(#clip580)\" d=\"M1884.64 1265.75 L1884.64 1269.78 Q1882.83 1268.86 1880.89 1268.39 Q1878.95 1267.93 1876.86 1267.93 Q1873.69 1267.93 1872.09 1268.9 Q1870.52 1269.87 1870.52 1271.82 Q1870.52 1273.3 1871.65 1274.16 Q1872.79 1274.99 1876.21 1275.75 L1877.67 1276.08 Q1882.21 1277.05 1884.11 1278.83 Q1886.03 1280.59 1886.03 1283.76 Q1886.03 1287.37 1883.16 1289.48 Q1880.31 1291.59 1875.31 1291.59 Q1873.23 1291.59 1870.96 1291.17 Q1868.71 1290.78 1866.21 1289.97 L1866.21 1285.57 Q1868.57 1286.79 1870.87 1287.42 Q1873.16 1288.02 1875.4 1288.02 Q1878.41 1288.02 1880.03 1287 Q1881.65 1285.96 1881.65 1284.09 Q1881.65 1282.35 1880.47 1281.42 Q1879.32 1280.5 1875.36 1279.64 L1873.88 1279.3 Q1869.92 1278.46 1868.16 1276.75 Q1866.4 1275.01 1866.4 1272 Q1866.4 1268.35 1868.99 1266.36 Q1871.58 1264.36 1876.35 1264.36 Q1878.71 1264.36 1880.8 1264.71 Q1882.88 1265.06 1884.64 1265.75 Z\" fill=\"#000000\" fill-rule=\"evenodd\" fill-opacity=\"1\" /><path clip-path=\"url(#clip580)\" d=\"M1896.93 1287.03 L1896.93 1300.78 L1892.65 1300.78 L1892.65 1264.99 L1896.93 1264.99 L1896.93 1268.92 Q1898.27 1266.61 1900.31 1265.5 Q1902.37 1264.36 1905.22 1264.36 Q1909.94 1264.36 1912.88 1268.11 Q1915.84 1271.86 1915.84 1277.98 Q1915.84 1284.09 1912.88 1287.84 Q1909.94 1291.59 1905.22 1291.59 Q1902.37 1291.59 1900.31 1290.48 Q1898.27 1289.34 1896.93 1287.03 M1911.42 1277.98 Q1911.42 1273.28 1909.48 1270.61 Q1907.56 1267.93 1904.18 1267.93 Q1900.8 1267.93 1898.85 1270.61 Q1896.93 1273.28 1896.93 1277.98 Q1896.93 1282.67 1898.85 1285.36 Q1900.8 1288.02 1904.18 1288.02 Q1907.56 1288.02 1909.48 1285.36 Q1911.42 1282.67 1911.42 1277.98 Z\" fill=\"#000000\" fill-rule=\"evenodd\" fill-opacity=\"1\" /><path clip-path=\"url(#clip580)\" d=\"M1945.08 1276.89 L1945.08 1278.97 L1925.5 1278.97 Q1925.77 1283.37 1928.13 1285.68 Q1930.52 1287.98 1934.75 1287.98 Q1937.21 1287.98 1939.5 1287.37 Q1941.82 1286.77 1944.08 1285.57 L1944.08 1289.6 Q1941.79 1290.57 1939.38 1291.08 Q1936.98 1291.59 1934.5 1291.59 Q1928.3 1291.59 1924.66 1287.98 Q1921.05 1284.36 1921.05 1278.21 Q1921.05 1271.84 1924.48 1268.11 Q1927.93 1264.36 1933.76 1264.36 Q1938.99 1264.36 1942.02 1267.74 Q1945.08 1271.1 1945.08 1276.89 M1940.82 1275.64 Q1940.77 1272.14 1938.85 1270.06 Q1936.95 1267.98 1933.81 1267.98 Q1930.24 1267.98 1928.09 1269.99 Q1925.96 1272 1925.63 1275.66 L1940.82 1275.64 Z\" fill=\"#000000\" fill-rule=\"evenodd\" fill-opacity=\"1\" /><path clip-path=\"url(#clip580)\" d=\"M1970.73 1265.98 L1970.73 1269.97 Q1968.92 1268.97 1967.09 1268.48 Q1965.29 1267.98 1963.44 1267.98 Q1959.29 1267.98 1957 1270.61 Q1954.71 1273.23 1954.71 1277.98 Q1954.71 1282.72 1957 1285.36 Q1959.29 1287.98 1963.44 1287.98 Q1965.29 1287.98 1967.09 1287.49 Q1968.92 1286.98 1970.73 1285.98 L1970.73 1289.92 Q1968.94 1290.75 1967.02 1291.17 Q1965.13 1291.59 1962.97 1291.59 Q1957.12 1291.59 1953.67 1287.91 Q1950.22 1284.23 1950.22 1277.98 Q1950.22 1271.63 1953.69 1268 Q1957.19 1264.36 1963.25 1264.36 Q1965.22 1264.36 1967.09 1264.78 Q1968.97 1265.17 1970.73 1265.98 Z\" fill=\"#000000\" fill-rule=\"evenodd\" fill-opacity=\"1\" /><path clip-path=\"url(#clip580)\" d=\"M1982.35 1257.63 L1982.35 1264.99 L1991.12 1264.99 L1991.12 1268.3 L1982.35 1268.3 L1982.35 1282.37 Q1982.35 1285.54 1983.2 1286.45 Q1984.08 1287.35 1986.75 1287.35 L1991.12 1287.35 L1991.12 1290.92 L1986.75 1290.92 Q1981.81 1290.92 1979.94 1289.09 Q1978.06 1287.23 1978.06 1282.37 L1978.06 1268.3 L1974.94 1268.3 L1974.94 1264.99 L1978.06 1264.99 L1978.06 1257.63 L1982.35 1257.63 Z\" fill=\"#000000\" fill-rule=\"evenodd\" fill-opacity=\"1\" /><path clip-path=\"url(#clip580)\" d=\"M2011.75 1268.97 Q2011.03 1268.55 2010.17 1268.37 Q2009.34 1268.16 2008.32 1268.16 Q2004.71 1268.16 2002.76 1270.52 Q2000.84 1272.86 2000.84 1277.26 L2000.84 1290.92 L1996.56 1290.92 L1996.56 1264.99 L2000.84 1264.99 L2000.84 1269.02 Q2002.19 1266.66 2004.34 1265.52 Q2006.49 1264.36 2009.57 1264.36 Q2010.01 1264.36 2010.54 1264.43 Q2011.07 1264.48 2011.72 1264.6 L2011.75 1268.97 Z\" fill=\"#000000\" fill-rule=\"evenodd\" fill-opacity=\"1\" /><path clip-path=\"url(#clip580)\" d=\"M2015.77 1280.68 L2015.77 1264.99 L2020.03 1264.99 L2020.03 1280.52 Q2020.03 1284.2 2021.47 1286.05 Q2022.9 1287.88 2025.77 1287.88 Q2029.22 1287.88 2031.21 1285.68 Q2033.23 1283.48 2033.23 1279.69 L2033.23 1264.99 L2037.49 1264.99 L2037.49 1290.92 L2033.23 1290.92 L2033.23 1286.93 Q2031.68 1289.29 2029.62 1290.45 Q2027.58 1291.59 2024.87 1291.59 Q2020.4 1291.59 2018.09 1288.81 Q2015.77 1286.03 2015.77 1280.68 M2026.49 1264.36 L2026.49 1264.36 Z\" fill=\"#000000\" fill-rule=\"evenodd\" fill-opacity=\"1\" /><path clip-path=\"url(#clip580)\" d=\"M2066.44 1269.97 Q2068.04 1267.1 2070.26 1265.73 Q2072.49 1264.36 2075.49 1264.36 Q2079.55 1264.36 2081.74 1267.21 Q2083.94 1270.04 2083.94 1275.27 L2083.94 1290.92 L2079.66 1290.92 L2079.66 1275.41 Q2079.66 1271.68 2078.34 1269.87 Q2077.02 1268.07 2074.31 1268.07 Q2071 1268.07 2069.08 1270.27 Q2067.16 1272.47 2067.16 1276.26 L2067.16 1290.92 L2062.88 1290.92 L2062.88 1275.41 Q2062.88 1271.66 2061.56 1269.87 Q2060.24 1268.07 2057.49 1268.07 Q2054.22 1268.07 2052.3 1270.29 Q2050.38 1272.49 2050.38 1276.26 L2050.38 1290.92 L2046.1 1290.92 L2046.1 1264.99 L2050.38 1264.99 L2050.38 1269.02 Q2051.84 1266.63 2053.87 1265.5 Q2055.91 1264.36 2058.71 1264.36 Q2061.54 1264.36 2063.5 1265.8 Q2065.49 1267.23 2066.44 1269.97 Z\" fill=\"#000000\" fill-rule=\"evenodd\" fill-opacity=\"1\" /><polyline clip-path=\"url(#clip580)\" style=\"stroke:#e26f46; stroke-linecap:butt; stroke-linejoin:round; stroke-width:4; stroke-opacity:1; fill:none\" points=\"\n",
       "  1589.92,1325.48 1730.14,1325.48 \n",
       "  \"/>\n",
       "<path clip-path=\"url(#clip580)\" d=\"M1781.38 1310.86 L1781.38 1315.79 Q1779.01 1313.59 1776.33 1312.5 Q1773.67 1311.41 1770.66 1311.41 Q1764.73 1311.41 1761.58 1315.05 Q1758.44 1318.66 1758.44 1325.51 Q1758.44 1332.34 1761.58 1335.97 Q1764.73 1339.58 1770.66 1339.58 Q1773.67 1339.58 1776.33 1338.5 Q1779.01 1337.41 1781.38 1335.21 L1781.38 1340.09 Q1778.92 1341.76 1776.17 1342.59 Q1773.44 1343.43 1770.38 1343.43 Q1762.53 1343.43 1758.02 1338.63 Q1753.51 1333.82 1753.51 1325.51 Q1753.51 1317.18 1758.02 1312.39 Q1762.53 1307.57 1770.38 1307.57 Q1773.48 1307.57 1776.21 1308.4 Q1778.97 1309.21 1781.38 1310.86 Z\" fill=\"#000000\" fill-rule=\"evenodd\" fill-opacity=\"1\" /><path clip-path=\"url(#clip580)\" d=\"M1798.46 1319.82 Q1795.03 1319.82 1793.04 1322.5 Q1791.05 1325.16 1791.05 1329.82 Q1791.05 1334.47 1793.02 1337.15 Q1795.01 1339.82 1798.46 1339.82 Q1801.86 1339.82 1803.85 1337.13 Q1805.84 1334.45 1805.84 1329.82 Q1805.84 1325.21 1803.85 1322.52 Q1801.86 1319.82 1798.46 1319.82 M1798.46 1316.2 Q1804.01 1316.2 1807.19 1319.82 Q1810.36 1323.43 1810.36 1329.82 Q1810.36 1336.18 1807.19 1339.82 Q1804.01 1343.43 1798.46 1343.43 Q1792.88 1343.43 1789.71 1339.82 Q1786.56 1336.18 1786.56 1329.82 Q1786.56 1323.43 1789.71 1319.82 Q1792.88 1316.2 1798.46 1316.2 Z\" fill=\"#000000\" fill-rule=\"evenodd\" fill-opacity=\"1\" /><path clip-path=\"url(#clip580)\" d=\"M1838.97 1327.11 L1838.97 1342.76 L1834.71 1342.76 L1834.71 1327.25 Q1834.71 1323.57 1833.27 1321.74 Q1831.84 1319.91 1828.97 1319.91 Q1825.52 1319.91 1823.53 1322.11 Q1821.54 1324.31 1821.54 1328.1 L1821.54 1342.76 L1817.26 1342.76 L1817.26 1316.83 L1821.54 1316.83 L1821.54 1320.86 Q1823.07 1318.52 1825.13 1317.36 Q1827.21 1316.2 1829.92 1316.2 Q1834.39 1316.2 1836.68 1318.98 Q1838.97 1321.74 1838.97 1327.11 Z\" fill=\"#000000\" fill-rule=\"evenodd\" fill-opacity=\"1\" /><path clip-path=\"url(#clip580)\" d=\"M1844.41 1316.83 L1848.92 1316.83 L1857.02 1338.59 L1865.13 1316.83 L1869.64 1316.83 L1859.92 1342.76 L1854.13 1342.76 L1844.41 1316.83 Z\" fill=\"#000000\" fill-rule=\"evenodd\" fill-opacity=\"1\" /><path clip-path=\"url(#clip580)\" d=\"M1885.57 1319.82 Q1882.14 1319.82 1880.15 1322.5 Q1878.16 1325.16 1878.16 1329.82 Q1878.16 1334.47 1880.13 1337.15 Q1882.12 1339.82 1885.57 1339.82 Q1888.97 1339.82 1890.96 1337.13 Q1892.95 1334.45 1892.95 1329.82 Q1892.95 1325.21 1890.96 1322.52 Q1888.97 1319.82 1885.57 1319.82 M1885.57 1316.2 Q1891.12 1316.2 1894.29 1319.82 Q1897.46 1323.43 1897.46 1329.82 Q1897.46 1336.18 1894.29 1339.82 Q1891.12 1343.43 1885.57 1343.43 Q1879.99 1343.43 1876.82 1339.82 Q1873.67 1336.18 1873.67 1329.82 Q1873.67 1323.43 1876.82 1319.82 Q1879.99 1316.2 1885.57 1316.2 Z\" fill=\"#000000\" fill-rule=\"evenodd\" fill-opacity=\"1\" /><path clip-path=\"url(#clip580)\" d=\"M1904.52 1306.74 L1908.78 1306.74 L1908.78 1342.76 L1904.52 1342.76 L1904.52 1306.74 Z\" fill=\"#000000\" fill-rule=\"evenodd\" fill-opacity=\"1\" /><path clip-path=\"url(#clip580)\" d=\"M1914.64 1316.83 L1919.15 1316.83 L1927.25 1338.59 L1935.36 1316.83 L1939.87 1316.83 L1930.15 1342.76 L1924.36 1342.76 L1914.64 1316.83 Z\" fill=\"#000000\" fill-rule=\"evenodd\" fill-opacity=\"1\" /><path clip-path=\"url(#clip580)\" d=\"M1967.93 1328.73 L1967.93 1330.81 L1948.34 1330.81 Q1948.62 1335.21 1950.98 1337.52 Q1953.37 1339.82 1957.6 1339.82 Q1960.06 1339.82 1962.35 1339.21 Q1964.66 1338.61 1966.93 1337.41 L1966.93 1341.44 Q1964.64 1342.41 1962.23 1342.92 Q1959.82 1343.43 1957.35 1343.43 Q1951.14 1343.43 1947.51 1339.82 Q1943.9 1336.2 1943.9 1330.05 Q1943.9 1323.68 1947.32 1319.95 Q1950.77 1316.2 1956.61 1316.2 Q1961.84 1316.2 1964.87 1319.58 Q1967.93 1322.94 1967.93 1328.73 M1963.67 1327.48 Q1963.62 1323.98 1961.7 1321.9 Q1959.8 1319.82 1956.65 1319.82 Q1953.09 1319.82 1950.94 1321.83 Q1948.81 1323.84 1948.48 1327.5 L1963.67 1327.48 Z\" fill=\"#000000\" fill-rule=\"evenodd\" fill-opacity=\"1\" /><path clip-path=\"url(#clip580)\" d=\"M1991.98 1320.76 L1991.98 1306.74 L1996.24 1306.74 L1996.24 1342.76 L1991.98 1342.76 L1991.98 1338.87 Q1990.63 1341.18 1988.57 1342.32 Q1986.54 1343.43 1983.67 1343.43 Q1978.97 1343.43 1976 1339.68 Q1973.06 1335.93 1973.06 1329.82 Q1973.06 1323.7 1976 1319.95 Q1978.97 1316.2 1983.67 1316.2 Q1986.54 1316.2 1988.57 1317.34 Q1990.63 1318.45 1991.98 1320.76 M1977.46 1329.82 Q1977.46 1334.51 1979.38 1337.2 Q1981.33 1339.86 1984.71 1339.86 Q1988.09 1339.86 1990.03 1337.2 Q1991.98 1334.51 1991.98 1329.82 Q1991.98 1325.12 1990.03 1322.45 Q1988.09 1319.77 1984.71 1319.77 Q1981.33 1319.77 1979.38 1322.45 Q1977.46 1325.12 1977.46 1329.82 Z\" fill=\"#000000\" fill-rule=\"evenodd\" fill-opacity=\"1\" /><path clip-path=\"url(#clip580)\" d=\"M2036.61 1317.59 L2036.61 1321.62 Q2034.8 1320.7 2032.86 1320.23 Q2030.91 1319.77 2028.83 1319.77 Q2025.66 1319.77 2024.06 1320.74 Q2022.49 1321.71 2022.49 1323.66 Q2022.49 1325.14 2023.62 1326 Q2024.75 1326.83 2028.18 1327.59 L2029.64 1327.92 Q2034.18 1328.89 2036.07 1330.67 Q2038 1332.43 2038 1335.6 Q2038 1339.21 2035.12 1341.32 Q2032.28 1343.43 2027.28 1343.43 Q2025.19 1343.43 2022.93 1343.01 Q2020.68 1342.62 2018.18 1341.81 L2018.18 1337.41 Q2020.54 1338.63 2022.83 1339.26 Q2025.12 1339.86 2027.37 1339.86 Q2030.38 1339.86 2032 1338.84 Q2033.62 1337.8 2033.62 1335.93 Q2033.62 1334.19 2032.44 1333.26 Q2031.28 1332.34 2027.32 1331.48 L2025.84 1331.14 Q2021.88 1330.3 2020.12 1328.59 Q2018.37 1326.85 2018.37 1323.84 Q2018.37 1320.19 2020.96 1318.2 Q2023.55 1316.2 2028.32 1316.2 Q2030.68 1316.2 2032.76 1316.55 Q2034.85 1316.9 2036.61 1317.59 Z\" fill=\"#000000\" fill-rule=\"evenodd\" fill-opacity=\"1\" /><path clip-path=\"url(#clip580)\" d=\"M2048.9 1338.87 L2048.9 1352.62 L2044.62 1352.62 L2044.62 1316.83 L2048.9 1316.83 L2048.9 1320.76 Q2050.24 1318.45 2052.28 1317.34 Q2054.34 1316.2 2057.18 1316.2 Q2061.91 1316.2 2064.85 1319.95 Q2067.81 1323.7 2067.81 1329.82 Q2067.81 1335.93 2064.85 1339.68 Q2061.91 1343.43 2057.18 1343.43 Q2054.34 1343.43 2052.28 1342.32 Q2050.24 1341.18 2048.9 1338.87 M2063.39 1329.82 Q2063.39 1325.12 2061.44 1322.45 Q2059.52 1319.77 2056.14 1319.77 Q2052.76 1319.77 2050.82 1322.45 Q2048.9 1325.12 2048.9 1329.82 Q2048.9 1334.51 2050.82 1337.2 Q2052.76 1339.86 2056.14 1339.86 Q2059.52 1339.86 2061.44 1337.2 Q2063.39 1334.51 2063.39 1329.82 Z\" fill=\"#000000\" fill-rule=\"evenodd\" fill-opacity=\"1\" /><path clip-path=\"url(#clip580)\" d=\"M2097.05 1328.73 L2097.05 1330.81 L2077.46 1330.81 Q2077.74 1335.21 2080.1 1337.52 Q2082.49 1339.82 2086.72 1339.82 Q2089.18 1339.82 2091.47 1339.21 Q2093.78 1338.61 2096.05 1337.41 L2096.05 1341.44 Q2093.76 1342.41 2091.35 1342.92 Q2088.94 1343.43 2086.47 1343.43 Q2080.26 1343.43 2076.63 1339.82 Q2073.02 1336.2 2073.02 1330.05 Q2073.02 1323.68 2076.44 1319.95 Q2079.89 1316.2 2085.73 1316.2 Q2090.96 1316.2 2093.99 1319.58 Q2097.05 1322.94 2097.05 1328.73 M2092.79 1327.48 Q2092.74 1323.98 2090.82 1321.9 Q2088.92 1319.82 2085.77 1319.82 Q2082.21 1319.82 2080.06 1321.83 Q2077.93 1323.84 2077.6 1327.5 L2092.79 1327.48 Z\" fill=\"#000000\" fill-rule=\"evenodd\" fill-opacity=\"1\" /><path clip-path=\"url(#clip580)\" d=\"M2122.69 1317.82 L2122.69 1321.81 Q2120.89 1320.81 2119.06 1320.32 Q2117.25 1319.82 2115.4 1319.82 Q2111.26 1319.82 2108.97 1322.45 Q2106.68 1325.07 2106.68 1329.82 Q2106.68 1334.56 2108.97 1337.2 Q2111.26 1339.82 2115.4 1339.82 Q2117.25 1339.82 2119.06 1339.33 Q2120.89 1338.82 2122.69 1337.82 L2122.69 1341.76 Q2120.91 1342.59 2118.99 1343.01 Q2117.09 1343.43 2114.94 1343.43 Q2109.08 1343.43 2105.63 1339.75 Q2102.18 1336.07 2102.18 1329.82 Q2102.18 1323.47 2105.66 1319.84 Q2109.15 1316.2 2115.22 1316.2 Q2117.18 1316.2 2119.06 1316.62 Q2120.93 1317.01 2122.69 1317.82 Z\" fill=\"#000000\" fill-rule=\"evenodd\" fill-opacity=\"1\" /><path clip-path=\"url(#clip580)\" d=\"M2134.31 1309.47 L2134.31 1316.83 L2143.09 1316.83 L2143.09 1320.14 L2134.31 1320.14 L2134.31 1334.21 Q2134.31 1337.38 2135.17 1338.29 Q2136.05 1339.19 2138.71 1339.19 L2143.09 1339.19 L2143.09 1342.76 L2138.71 1342.76 Q2133.78 1342.76 2131.91 1340.93 Q2130.03 1339.07 2130.03 1334.21 L2130.03 1320.14 L2126.91 1320.14 L2126.91 1316.83 L2130.03 1316.83 L2130.03 1309.47 L2134.31 1309.47 Z\" fill=\"#000000\" fill-rule=\"evenodd\" fill-opacity=\"1\" /><path clip-path=\"url(#clip580)\" d=\"M2163.71 1320.81 Q2162.99 1320.39 2162.14 1320.21 Q2161.3 1320 2160.29 1320 Q2156.68 1320 2154.73 1322.36 Q2152.81 1324.7 2152.81 1329.1 L2152.81 1342.76 L2148.53 1342.76 L2148.53 1316.83 L2152.81 1316.83 L2152.81 1320.86 Q2154.15 1318.5 2156.3 1317.36 Q2158.46 1316.2 2161.54 1316.2 Q2161.98 1316.2 2162.51 1316.27 Q2163.04 1316.32 2163.69 1316.44 L2163.71 1320.81 Z\" fill=\"#000000\" fill-rule=\"evenodd\" fill-opacity=\"1\" /><path clip-path=\"url(#clip580)\" d=\"M2167.74 1332.52 L2167.74 1316.83 L2172 1316.83 L2172 1332.36 Q2172 1336.04 2173.43 1337.89 Q2174.87 1339.72 2177.74 1339.72 Q2181.19 1339.72 2183.18 1337.52 Q2185.19 1335.32 2185.19 1331.53 L2185.19 1316.83 L2189.45 1316.83 L2189.45 1342.76 L2185.19 1342.76 L2185.19 1338.77 Q2183.64 1341.13 2181.58 1342.29 Q2179.55 1343.43 2176.84 1343.43 Q2172.37 1343.43 2170.05 1340.65 Q2167.74 1337.87 2167.74 1332.52 M2178.46 1316.2 L2178.46 1316.2 Z\" fill=\"#000000\" fill-rule=\"evenodd\" fill-opacity=\"1\" /><path clip-path=\"url(#clip580)\" d=\"M2218.41 1321.81 Q2220.01 1318.94 2222.23 1317.57 Q2224.45 1316.2 2227.46 1316.2 Q2231.51 1316.2 2233.71 1319.05 Q2235.91 1321.88 2235.91 1327.11 L2235.91 1342.76 L2231.63 1342.76 L2231.63 1327.25 Q2231.63 1323.52 2230.31 1321.71 Q2228.99 1319.91 2226.28 1319.91 Q2222.97 1319.91 2221.05 1322.11 Q2219.13 1324.31 2219.13 1328.1 L2219.13 1342.76 L2214.85 1342.76 L2214.85 1327.25 Q2214.85 1323.5 2213.53 1321.71 Q2212.21 1319.91 2209.45 1319.91 Q2206.19 1319.91 2204.27 1322.13 Q2202.35 1324.33 2202.35 1328.1 L2202.35 1342.76 L2198.06 1342.76 L2198.06 1316.83 L2202.35 1316.83 L2202.35 1320.86 Q2203.8 1318.47 2205.84 1317.34 Q2207.88 1316.2 2210.68 1316.2 Q2213.5 1316.2 2215.47 1317.64 Q2217.46 1319.07 2218.41 1321.81 Z\" fill=\"#000000\" fill-rule=\"evenodd\" fill-opacity=\"1\" /></svg>\n"
      ]
     },
     "execution_count": 143,
     "metadata": {},
     "output_type": "execute_result"
    }
   ],
   "source": [
    "idx_plot = 1:min(1024,length(lambdas))\n",
    "plot(lambdas[idx_plot],raw_spectrum.(lambdas[idx_plot]),xlabel=\"λ\", ylabel=\"Flux\", label=\"Raw spectrum\", legend=:bottomright)\n",
    "plot!(lambdas[idx_plot],result_ref[idx_plot], label=\"Convolved spectrum\")"
   ]
  },
  {
   "cell_type": "markdown",
   "metadata": {},
   "source": [
    "### Benchmarking serial code\n",
    "\n",
    "First, let's benchmark the calculation of this spectrum on a single processor.  To keep things speedy, we'll time each method just a few times, rather than using `@btime`."
   ]
  },
  {
   "cell_type": "code",
   "execution_count": 139,
   "metadata": {},
   "outputs": [
    {
     "data": {
      "text/plain": [
       "2"
      ]
     },
     "execution_count": 139,
     "metadata": {},
     "output_type": "execute_result"
    }
   ],
   "source": [
    "num_runs = 2"
   ]
  },
  {
   "cell_type": "code",
   "execution_count": 61,
   "metadata": {},
   "outputs": [
    {
     "name": "stdout",
     "output_type": "stream",
     "text": [
      "  3.297228 seconds (5.80 M allocations: 828.104 MiB, 2.71% gc time, 2.14% compilation time)\n",
      "  3.182834 seconds (5.54 M allocations: 811.591 MiB, 1.93% gc time)\n",
      "  3.191187 seconds (5.54 M allocations: 811.591 MiB, 1.91% gc time)\n"
     ]
    }
   ],
   "source": [
    "for i in 1:num_runs @time conv_spectrum(lambdas); end"
   ]
  },
  {
   "cell_type": "markdown",
   "metadata": {},
   "source": [
    "Thinking back to [exercise 1](https://psuastro528.github.io/lab6-start/ex1.html), you may remember that we improved the performance by reducing memory allocations.  There were a few ways to do that, and we'll repeat just a few of them here for reference."
   ]
  },
  {
   "cell_type": "code",
   "execution_count": 20,
   "metadata": {},
   "outputs": [
    {
     "data": {
      "text/plain": [
       "compute_using_for_loop (generic function with 1 method)"
      ]
     },
     "execution_count": 20,
     "metadata": {},
     "output_type": "execute_result"
    }
   ],
   "source": [
    "function compute_using_for_loop(x::AbstractArray, spectrum::T) where T<:AbstractSpectrum\n",
    "    out = zeros(length(x))\n",
    "    for i in 1:length(x)\n",
    "        out[i] = conv_spectrum(x[i])\n",
    "    end\n",
    "    return out\n",
    "end"
   ]
  },
  {
   "cell_type": "code",
   "execution_count": 21,
   "metadata": {},
   "outputs": [
    {
     "name": "stdout",
     "output_type": "stream",
     "text": [
      "  0.885898 seconds (2.28 M allocations: 163.978 MiB, 3.65% gc time, 2.77% compilation time)\n",
      "  0.868327 seconds (2.27 M allocations: 162.958 MiB, 4.16% gc time)\n",
      "  0.857818 seconds (2.27 M allocations: 162.958 MiB, 2.60% gc time)\n"
     ]
    }
   ],
   "source": [
    "for i in 1:num_runs @time compute_using_for_loop(lambdas,conv_spectrum) end"
   ]
  },
  {
   "cell_type": "markdown",
   "metadata": {},
   "source": [
    "As before, writing the code as an explicit for loop significantly decreased the number of allocations and improved performance."
   ]
  },
  {
   "cell_type": "markdown",
   "metadata": {},
   "source": [
    "### Broadcasting\n",
    "Thinking about to some previous labs, we made use of Julia's [dot syntax](https://docs.julialang.org/en/v1/manual/functions/#man-vectorized-1) to [\\\"broadcast\\\" and \\\"fuse\\\"](https://docs.julialang.org/en/v1/base/arrays/#Broadcast-and-vectorization-1) the array operation.\n",
    "\n",
    "2b.  How do you expect the performance and memory allocations to compare to our for loop above?"
   ]
  },
  {
   "cell_type": "code",
   "execution_count": 32,
   "metadata": {},
   "outputs": [
    {
     "data": {
      "text/plain": [
       "missing"
      ]
     },
     "execution_count": 32,
     "metadata": {},
     "output_type": "execute_result"
    }
   ],
   "source": [
    "response_2b = missing # INSERT response as String, e.g. \"The same\" or \"50% faster\"."
   ]
  },
  {
   "cell_type": "code",
   "execution_count": 22,
   "metadata": {},
   "outputs": [
    {
     "name": "stdout",
     "output_type": "stream",
     "text": [
      "  0.869163 seconds (2.26 M allocations: 162.904 MiB, 3.93% gc time)\n",
      "  0.851318 seconds (2.26 M allocations: 162.904 MiB, 2.62% gc time)\n",
      "  0.864887 seconds (2.26 M allocations: 162.904 MiB, 2.58% gc time)\n"
     ]
    }
   ],
   "source": [
    "for i in 1:num_runs @time conv_spectrum.(lambdas); end"
   ]
  },
  {
   "cell_type": "markdown",
   "metadata": {},
   "source": [
    "2c.  How did the results compare to your prediction?   If different, what could explain the difference(s)?  "
   ]
  },
  {
   "cell_type": "code",
   "execution_count": 33,
   "metadata": {},
   "outputs": [
    {
     "data": {
      "text/plain": [
       "missing"
      ]
     },
     "execution_count": 33,
     "metadata": {},
     "output_type": "execute_result"
    }
   ],
   "source": [
    "response_2c = missing # INSERT response as String"
   ]
  },
  {
   "cell_type": "markdown",
   "metadata": {},
   "source": [
    "### map\n",
    "Again, thinking back to the last exercise, a very useful and closely related programming pattern is [map](https://docs.julialang.org/en/v1/base/collections/#Base.map) (or [mapreduce](https://docs.julialang.org/en/v1/base/collections/#Base.mapreduce-Tuple{Any,Any,Any})).  `map(func,collection)` applies func to every element of the collection and returns a collection similar in size to collection.  "
   ]
  },
  {
   "cell_type": "code",
   "execution_count": 23,
   "metadata": {},
   "outputs": [
    {
     "name": "stdout",
     "output_type": "stream",
     "text": [
      "  0.896989 seconds (2.31 M allocations: 165.642 MiB, 3.13% gc time, 4.55% compilation time)\n",
      "  0.864507 seconds (2.26 M allocations: 162.779 MiB, 2.87% gc time)\n",
      "  0.863779 seconds (2.26 M allocations: 162.779 MiB, 3.93% gc time)\n"
     ]
    }
   ],
   "source": [
    "for i in 1:num_runs @time map(conv_spectrum,lambdas) end"
   ]
  },
  {
   "cell_type": "markdown",
   "metadata": {},
   "source": [
    "The performance of map results should be very similar to the broadcasted and fused version above.  \n",
    "Before we start parallelizing code, let's increase the number of times we'll benchmark each function."
   ]
  },
  {
   "cell_type": "code",
   "execution_count": 140,
   "metadata": {},
   "outputs": [
    {
     "data": {
      "text/plain": [
       "5"
      ]
     },
     "execution_count": 140,
     "metadata": {},
     "output_type": "execute_result"
    }
   ],
   "source": [
    "num_runs = 5"
   ]
  },
  {
   "cell_type": "markdown",
   "metadata": {},
   "source": [
    "Notice that `num_runs` has now been set to two different values at different parts of this notebook.  The value of `num_runs` will depend on which of the cells has been run most recently.\n",
    "Sometimes, it can be conveneient to change a variable like this.  But it also makes it very easy to confuse yourself.  E.g., the code that you see in the notebook at any time is no longer guarenteed to be a complete representation of what the computer has computed.  \n",
    "\n",
    "(In previous semesters, when I used Jupyter notebooks, by far the most common problem students encountered was running cells out of order and getting into some unintended state.  So my first suggestion was nearly always \"Restart your kernel and step through the notebook in order.\"  While that's not a big deal for small notebooks, it can quickly become tediuos and time consuming.  Pluto solved that problem!  That's why I'm only using Jupyter for a few exercises that wouldn't work well with a Pluto notebook.)"
   ]
  },
  {
   "cell_type": "code",
   "execution_count": 145,
   "metadata": {},
   "outputs": [
    {
     "ename": "LoadError",
     "evalue": "LoadError: UndefVarError: @test not defined\nin expression starting at In[145]:1",
     "output_type": "error",
     "traceback": [
      "LoadError: UndefVarError: @test not defined\nin expression starting at In[145]:1",
      "",
      "Stacktrace:",
      " [1] top-level scope",
      "   @ :0",
      " [2] eval",
      "   @ ./boot.jl:360 [inlined]",
      " [3] include_string(mapexpr::typeof(REPL.softscope), mod::Module, code::String, filename::String)",
      "   @ Base ./loading.jl:1094"
     ]
    }
   ],
   "source": []
  },
  {
   "cell_type": "markdown",
   "metadata": {},
   "source": [
    "### Parallelizing with pmap\n",
    "If you can write your computations in terms of calling `map`, then one easy way to parallelize your code is to replace the call to `map` with a call to `pmap`, a parallel map.\n",
    "If you only have one worker process, then it will still run in serial.  But if you have multiple workers, then `pmap` will parallelize your code.  When parallelizing code, it's always good to double check that your results are consistent with the reference implementation."
   ]
  },
  {
   "cell_type": "code",
   "execution_count": 148,
   "metadata": {},
   "outputs": [
    {
     "data": {
      "text/plain": [
       "\u001b[32m\u001b[1mTest Passed\u001b[22m\u001b[39m"
      ]
     },
     "execution_count": 148,
     "metadata": {},
     "output_type": "execute_result"
    }
   ],
   "source": [
    "using Test\n",
    "@test isapprox(pmap(conv_spectrum,lambdas), result_ref)"
   ]
  },
  {
   "cell_type": "markdown",
   "metadata": {},
   "source": [
    "2d.  How much faster do you expect the code to run using `pmap`?"
   ]
  },
  {
   "cell_type": "raw",
   "metadata": {},
   "source": [
    "response_2d = missing # INSERT responce as string"
   ]
  },
  {
   "cell_type": "code",
   "execution_count": 34,
   "metadata": {},
   "outputs": [
    {
     "name": "stdout",
     "output_type": "stream",
     "text": [
      "  3.791174 seconds (4.11 M allocations: 291.095 MiB, 2.03% gc time, 27.28% compilation time)\n",
      "  0.536929 seconds (707.13 k allocations: 86.949 MiB, 3.83% gc time)\n",
      "  0.522642 seconds (707.16 k allocations: 86.951 MiB, 4.98% gc time)\n",
      "  0.508952 seconds (707.22 k allocations: 86.951 MiB, 2.02% gc time)\n",
      "  0.511752 seconds (707.10 k allocations: 86.948 MiB, 2.40% gc time)\n"
     ]
    }
   ],
   "source": [
    "for i in 1:num_runs @time pmap(conv_spectrum,lambdas) end"
   ]
  },
  {
   "cell_type": "code",
   "execution_count": 35,
   "metadata": {},
   "outputs": [
    {
     "name": "stdout",
     "output_type": "stream",
     "text": [
      "  1.556305 seconds (1.41 M allocations: 72.840 MiB, 0.92% gc time, 28.42% compilation time)\n",
      "  0.431909 seconds (495.84 k allocations: 19.376 MiB, 4.90% gc time)\n",
      "  0.396931 seconds (495.67 k allocations: 19.370 MiB)\n",
      "  0.400318 seconds (495.60 k allocations: 19.368 MiB)\n",
      "  0.424178 seconds (495.58 k allocations: 19.368 MiB, 5.47% gc time)\n"
     ]
    }
   ],
   "source": [
    "for i in 1:num_runs @time pmap(x->conv_spectrum.(x),lambdas) end"
   ]
  },
  {
   "cell_type": "markdown",
   "metadata": {},
   "source": [
    "2e.  By what speed-up factor did the wall time decrease for each of the two cases (ignoring the first call affected by compilation)?   How can you explain the difference?"
   ]
  },
  {
   "cell_type": "code",
   "execution_count": 36,
   "metadata": {},
   "outputs": [
    {
     "data": {
      "text/plain": [
       "missing"
      ]
     },
     "execution_count": 36,
     "metadata": {},
     "output_type": "execute_result"
    }
   ],
   "source": [
    "response_2e = missing # INSERT responce as string"
   ]
  },
  {
   "cell_type": "markdown",
   "metadata": {},
   "source": [
    "You were likely disappointed in the speed-up factor.  What could have gone wrong?  In this case, we have a non-trivial, but still modest amount of work to do for each wavelength.  `pmap` distributes the work one element at a time.  The overhead in distributing the work and assembling the pieces likely ate into the potential performance gains.  To improve on this, we can tell `pmap` to distribute the work in batches.  Below, we'll specify a batch_size via an optional named parameter."
   ]
  },
  {
   "cell_type": "code",
   "execution_count": 94,
   "metadata": {},
   "outputs": [
    {
     "name": "stdout",
     "output_type": "stream",
     "text": [
      "  0.292494 seconds (50.82 k allocations: 1.811 MiB)\n",
      "  0.284662 seconds (50.93 k allocations: 1.820 MiB)\n",
      "  0.298728 seconds (50.93 k allocations: 1.820 MiB, 7.32% gc time)\n",
      "  0.295360 seconds (50.93 k allocations: 1.820 MiB)\n",
      "  0.293948 seconds (50.93 k allocations: 1.820 MiB)\n"
     ]
    }
   ],
   "source": [
    "for i in 1:num_runs @time pmap(conv_spectrum,lambdas,batch_size=512) end"
   ]
  },
  {
   "cell_type": "code",
   "execution_count": 95,
   "metadata": {},
   "outputs": [
    {
     "name": "stdout",
     "output_type": "stream",
     "text": [
      "  0.510169 seconds (316.92 k allocations: 17.395 MiB, 28.50% compilation time)\n",
      "  0.289120 seconds (50.53 k allocations: 1.691 MiB)\n",
      "  0.285926 seconds (50.53 k allocations: 1.690 MiB)\n",
      "  0.285158 seconds (50.52 k allocations: 1.690 MiB)\n",
      "  0.283380 seconds (50.53 k allocations: 1.691 MiB)\n"
     ]
    }
   ],
   "source": [
    "for i in 1:num_runs @time pmap(x->conv_spectrum.(x),lambdas,batch_size=512) end"
   ]
  },
  {
   "cell_type": "markdown",
   "metadata": {},
   "source": [
    "2f.  How much faster was the code using `pmap` with batches than the the serial version (focusing on the version using broadcasting)?  How does this compare to your original expectations?"
   ]
  },
  {
   "cell_type": "code",
   "execution_count": 46,
   "metadata": {},
   "outputs": [
    {
     "data": {
      "text/plain": [
       "missing"
      ]
     },
     "execution_count": 46,
     "metadata": {},
     "output_type": "execute_result"
    }
   ],
   "source": [
    "response_2f = missing # INSERT responce as string"
   ]
  },
  {
   "cell_type": "markdown",
   "metadata": {},
   "source": [
    "Remember that we originally added one less worker processes than the number of physical cores avaliable to us.  Let's try adding one more worker process and comparing the performance."
   ]
  },
  {
   "cell_type": "code",
   "execution_count": 48,
   "metadata": {},
   "outputs": [
    {
     "data": {
      "text/plain": [
       "1-element Vector{Int64}:\n",
       " 9"
      ]
     },
     "execution_count": 48,
     "metadata": {},
     "output_type": "execute_result"
    }
   ],
   "source": [
    "if nworkers() < num_cores_to_use\n",
    "    procs_without_code = addprocs(num_cores_to_use-nworkers())\n",
    "end"
   ]
  },
  {
   "cell_type": "code",
   "execution_count": 49,
   "metadata": {},
   "outputs": [
    {
     "data": {
      "text/plain": [
       "1-element Vector{Int64}:\n",
       " 9"
      ]
     },
     "execution_count": 49,
     "metadata": {},
     "output_type": "execute_result"
    }
   ],
   "source": [
    "procs_without_code"
   ]
  },
  {
   "cell_type": "markdown",
   "metadata": {},
   "source": [
    "2g.  How long do you expect our function to take using `pmap` (using same batch size) now that we have one more worker process?"
   ]
  },
  {
   "cell_type": "code",
   "execution_count": 50,
   "metadata": {},
   "outputs": [
    {
     "data": {
      "text/plain": [
       "missing"
      ]
     },
     "execution_count": 50,
     "metadata": {},
     "output_type": "execute_result"
    }
   ],
   "source": [
    "response_2g = missing # INSERT RESPONSE"
   ]
  },
  {
   "cell_type": "markdown",
   "metadata": {},
   "source": [
    "Let's test that.  But before we can, we'll need to load the code onto the recently added worker node."
   ]
  },
  {
   "cell_type": "code",
   "execution_count": 55,
   "metadata": {},
   "outputs": [
    {
     "name": "stdout",
     "output_type": "stream",
     "text": [
      "      From worker 8:\t\u001b[32m\u001b[1m  Activating\u001b[22m\u001b[39m environment at `/storage/home/e/ebf11/Teach/Astro528/Fall2021/lab6-dev/Project.toml`\n",
      "      From worker 3:\t\u001b[32m\u001b[1m  Activating\u001b[22m\u001b[39m environment at `/storage/home/e/ebf11/Teach/Astro528/Fall2021/lab6-dev/Project.toml`\n",
      "      From worker 2:\t\u001b[32m\u001b[1m  Activating\u001b[22m\u001b[39m environment at `/storage/home/e/ebf11/Teach/Astro528/Fall2021/lab6-dev/Project.toml`\n",
      "      From worker 6:\t\u001b[32m\u001b[1m  Activating\u001b[22m\u001b[39m environment at `/storage/home/e/ebf11/Teach/Astro528/Fall2021/lab6-dev/Project.toml`\n",
      "      From worker 7:\t\u001b[32m\u001b[1m  Activating\u001b[22m\u001b[39m environment at `/storage/home/e/ebf11/Teach/Astro528/Fall2021/lab6-dev/Project.toml`\n",
      "      From worker 5:\t\u001b[32m\u001b[1m  Activating\u001b[22m\u001b[39m environment at `/storage/home/e/ebf11/Teach/Astro528/Fall2021/lab6-dev/Project.toml`\n",
      "      From worker 4:\t\u001b[32m\u001b[1m  Activating\u001b[22m\u001b[39m environment at `/storage/home/e/ebf11/Teach/Astro528/Fall2021/lab6-dev/Project.toml`\n"
     ]
    },
    {
     "name": "stderr",
     "output_type": "stream",
     "text": [
      "\u001b[32m\u001b[1m  Activating\u001b[22m\u001b[39m environment at `/storage/home/e/ebf11/Teach/Astro528/Fall2021/lab6-dev/Project.toml`\n"
     ]
    },
    {
     "name": "stdout",
     "output_type": "stream",
     "text": [
      "      From worker 9:\t\u001b[32m\u001b[1m  Activating\u001b[22m\u001b[39m environment at `/storage/home/e/ebf11/Teach/Astro528/Fall2021/lab6-dev/Project.toml`\n"
     ]
    }
   ],
   "source": [
    "@everywhere (using Pkg; Pkg.UPDATED_REGISTRY_THIS_SESSION[] = true; Pkg.activate(\".\"))"
   ]
  },
  {
   "cell_type": "code",
   "execution_count": 56,
   "metadata": {},
   "outputs": [],
   "source": [
    "@everywhere using Distributions"
   ]
  },
  {
   "cell_type": "markdown",
   "metadata": {},
   "source": [
    "We don't need/want to reread read and recompile our code on every worker node.  Instead, we'll use the [`@spawnat` macro](https://docs.julialang.org/en/v1/stdlib/Distributed/#Distributed.@spawnat) to tell julia to `include` our code only on specific processors.\n",
    "`@spawnat` sends the code to the worker(s), but doesn't wait for the result.  Instead it gets a [Future](https://docs.julialang.org/en/v1/stdlib/Distributed/#Distributed.Future) that can be used to retreive the results when we need it by calling [`fetch`](https://docs.julialang.org/en/v1/stdlib/Distributed/#Base.fetch-Tuple{Distributed.Future}).  Here, we want to wait until the worker has finished loading the code, so we'll just do both in one line."
   ]
  },
  {
   "cell_type": "code",
   "execution_count": 57,
   "metadata": {},
   "outputs": [
    {
     "name": "stdout",
     "output_type": "stream",
     "text": [
      "      From worker 9:\tWARNING: replacing module lab6.\n"
     ]
    }
   ],
   "source": [
    "map(proc->fetch(@spawnat proc include(\"src/lab6.jl\") ),  procs_without_code);"
   ]
  },
  {
   "cell_type": "code",
   "execution_count": 58,
   "metadata": {},
   "outputs": [],
   "source": [
    "@everywhere using .lab6"
   ]
  },
  {
   "cell_type": "code",
   "execution_count": 149,
   "metadata": {},
   "outputs": [
    {
     "data": {
      "text/plain": [
       "\u001b[32m\u001b[1mTest Passed\u001b[22m\u001b[39m"
      ]
     },
     "execution_count": 149,
     "metadata": {},
     "output_type": "execute_result"
    }
   ],
   "source": [
    "@test isapprox(pmap(conv_spectrum,lambdas,batch_size=512), result_ref)"
   ]
  },
  {
   "cell_type": "code",
   "execution_count": 93,
   "metadata": {},
   "outputs": [
    {
     "name": "stdout",
     "output_type": "stream",
     "text": [
      "  0.286140 seconds (50.82 k allocations: 1.811 MiB)\n",
      "  0.295901 seconds (50.93 k allocations: 1.820 MiB)\n",
      "  0.285647 seconds (50.93 k allocations: 1.820 MiB)\n",
      "  0.281314 seconds (50.93 k allocations: 1.820 MiB)\n",
      "  0.278026 seconds (50.93 k allocations: 1.820 MiB)\n"
     ]
    }
   ],
   "source": [
    "for i in 1:num_runs @time pmap(conv_spectrum,lambdas,batch_size=512) end"
   ]
  },
  {
   "cell_type": "markdown",
   "metadata": {},
   "source": [
    "2h.  How did the runtime compare when we used `pmap` with as many worker processes as physical cores avaliable compared to when we used one fewer worker processes than the number of physical cores avaliable?\n",
    "How does this compare to your original expectations?   Try to explain any differences."
   ]
  },
  {
   "cell_type": "code",
   "execution_count": null,
   "metadata": {},
   "outputs": [],
   "source": [
    "response_2h = missing # INSERT RESPONSE"
   ]
  },
  {
   "cell_type": "markdown",
   "metadata": {},
   "source": [
    "### Shared Arrays\n",
    "Sometime the map programming pattern is limiting, inefficient, or just too cumbersome to use.  In these cases, it can be useful to define a [`SharedArray`](https://docs.julialang.org/en/v1.0/stdlib/SharedArrays/#Shared-Arrays-1).  A SharedArray is only possible when using a [shared memory system](https://en.wikipedia.org/wiki/Shared_memory), i.e., one computer has multiple processor cores that are all able to read and write data stored in a common memory system.   Data stored in a SharedArray is visible and accessible to every process.  A SharedArray also specifies which indices have been assigned to each worker process.  When an operation is to be parallelized, this information can be used to spread the work over the worker processes.  \n",
    "(Note that code using SharedArray's can not run using processors split across multiple compute nodes, as we'll do in the next lab.) \n",
    "\n",
    "First, we'll create a SharedArray from our existing array of wavelengths."
   ]
  },
  {
   "cell_type": "code",
   "execution_count": 63,
   "metadata": {},
   "outputs": [],
   "source": [
    "using SharedArrays"
   ]
  },
  {
   "cell_type": "code",
   "execution_count": 64,
   "metadata": {},
   "outputs": [
    {
     "data": {
      "text/plain": [
       "SharedVector{Float64} (alias for SharedArray{Float64, 1})"
      ]
     },
     "execution_count": 64,
     "metadata": {},
     "output_type": "execute_result"
    }
   ],
   "source": [
    "lambdas_shared = SharedArray(lambdas)\n",
    "typeof(lambdas_shared)"
   ]
  },
  {
   "cell_type": "markdown",
   "metadata": {},
   "source": [
    "We apply `map` to a SharedArray just like to a regular Array, but the calculation is still performed in serial."
   ]
  },
  {
   "cell_type": "code",
   "execution_count": 150,
   "metadata": {},
   "outputs": [
    {
     "data": {
      "text/plain": [
       "\u001b[32m\u001b[1mTest Passed\u001b[22m\u001b[39m"
      ]
     },
     "execution_count": 150,
     "metadata": {},
     "output_type": "execute_result"
    }
   ],
   "source": [
    "@test isapprox(map(conv_spectrum,lambdas_shared), result_ref)"
   ]
  },
  {
   "cell_type": "code",
   "execution_count": 65,
   "metadata": {},
   "outputs": [
    {
     "name": "stdout",
     "output_type": "stream",
     "text": [
      "  1.792326 seconds (4.60 M allocations: 330.959 MiB, 4.45% gc time, 2.45% compilation time)\n",
      "  1.744523 seconds (4.52 M allocations: 326.338 MiB, 3.60% gc time)\n",
      "  1.730317 seconds (4.52 M allocations: 326.338 MiB, 2.90% gc time)\n",
      "  1.739779 seconds (4.52 M allocations: 326.338 MiB, 3.60% gc time)\n",
      "  1.742719 seconds (4.52 M allocations: 326.338 MiB, 3.60% gc time)\n"
     ]
    }
   ],
   "source": [
    "for i in 1:num_runs @time map(conv_spectrum,lambdas_shared) end"
   ]
  },
  {
   "cell_type": "markdown",
   "metadata": {},
   "source": [
    "Similarly, we can apply `pmap` to a SharedArray, and the calculation will be parallelized just like a regular Array."
   ]
  },
  {
   "cell_type": "code",
   "execution_count": 66,
   "metadata": {},
   "outputs": [
    {
     "name": "stdout",
     "output_type": "stream",
     "text": [
      "  0.838092 seconds (1.41 M allocations: 128.461 MiB, 7.33% gc time, 32.42% compilation time)\n",
      "  0.538854 seconds (706.92 k allocations: 86.935 MiB, 3.15% gc time)\n",
      "  0.540950 seconds (706.88 k allocations: 86.933 MiB, 2.73% gc time)\n",
      "  0.537545 seconds (707.03 k allocations: 86.939 MiB, 3.96% gc time)\n",
      "  0.511410 seconds (706.88 k allocations: 86.933 MiB, 2.18% gc time)\n"
     ]
    }
   ],
   "source": [
    "for i in 1:num_runs @time pmap(conv_spectrum,lambdas_shared) end"
   ]
  },
  {
   "cell_type": "markdown",
   "metadata": {},
   "source": [
    "As before, the performance wasn't particularly impressive.  \n",
    "\n",
    "2i.  What do you suggest we do to improve the performance of `pmap` applied to a SharedArray?  "
   ]
  },
  {
   "cell_type": "code",
   "execution_count": 67,
   "metadata": {},
   "outputs": [
    {
     "data": {
      "text/plain": [
       "missing"
      ]
     },
     "execution_count": 67,
     "metadata": {},
     "output_type": "execute_result"
    }
   ],
   "source": [
    "response_2i = missing # INSERT RESPONSE"
   ]
  },
  {
   "cell_type": "markdown",
   "metadata": {},
   "source": [
    "Try implementing and benchmarking your suggestion in the cell below."
   ]
  },
  {
   "cell_type": "code",
   "execution_count": 227,
   "metadata": {},
   "outputs": [],
   "source": [
    "# TODO:  Insert your code "
   ]
  },
  {
   "cell_type": "markdown",
   "metadata": {},
   "source": [
    "2j.  How did the performance compare to using `pmap` on regular Array (with similar optimizations)?  Is there anything fundamentally different about what the computer is doing that should affect the performance?"
   ]
  },
  {
   "cell_type": "code",
   "execution_count": 96,
   "metadata": {},
   "outputs": [
    {
     "data": {
      "text/plain": [
       "missing"
      ]
     },
     "execution_count": 96,
     "metadata": {},
     "output_type": "execute_result"
    }
   ],
   "source": [
    "response_2j = missing # INSERT RESPONSE"
   ]
  },
  {
   "cell_type": "markdown",
   "metadata": {},
   "source": [
    "Pro tip:  There are fancy ways of initializing a SharedArray that can help minimize the number of allocations and spread the work of initializing the matrix over all the worker processes.  In case you're curious, I'll demonstrate below.  I find the syntax a little confusing, so I suggest skipping over this for now.  But you may want to return to it later if you want to initialize a SharedArray efficiently for your project."
   ]
  },
  {
   "cell_type": "code",
   "execution_count": 98,
   "metadata": {},
   "outputs": [
    {
     "data": {
      "text/plain": [
       "compute_by_initializing_shared_array (generic function with 2 methods)"
      ]
     },
     "execution_count": 98,
     "metadata": {},
     "output_type": "execute_result"
    }
   ],
   "source": [
    "# If we are initializing the array using values stored in a generic Array\n",
    "function compute_by_initializing_shared_array(x::AbstractArray, spectrum::T) where T<:AbstractSpectrum\n",
    "   SharedArray{Float64}(size(x), init = S-> S[SharedArrays.localindices(S)] .= spectrum.(view(x,SharedArrays.localindices(S))) )\n",
    "end\n",
    "\n",
    "#  If we are initializing the array using values already stored in a SharedArray, then assign work based on the input SharedArray\n",
    "function compute_by_initializing_shared_array(x::SharedArray, spectrum::T) where T<:AbstractSpectrum\n",
    "   SharedArray{Float64}(size(x), init = S-> S[SharedArrays.localindices(x)] .= spectrum.(view(x,SharedArrays.localindices(x))) )\n",
    "end"
   ]
  },
  {
   "cell_type": "code",
   "execution_count": 99,
   "metadata": {},
   "outputs": [
    {
     "name": "stdout",
     "output_type": "stream",
     "text": [
      "  1.304374 seconds (971.11 k allocations: 60.131 MiB, 1.58% gc time, 26.67% compilation time)\n",
      "  0.274844 seconds (2.02 k allocations: 170.672 KiB)\n",
      "  0.270967 seconds (2.03 k allocations: 171.812 KiB)\n",
      "  0.273504 seconds (2.02 k allocations: 169.734 KiB)\n",
      "  0.271373 seconds (2.03 k allocations: 170.344 KiB)\n"
     ]
    }
   ],
   "source": [
    "for i in 1:num_runs @time compute_by_initializing_shared_array(lambdas_shared,conv_spectrum) end"
   ]
  },
  {
   "cell_type": "markdown",
   "metadata": {},
   "source": [
    "## Distributed Arrays\n",
    "Sometimes, you want to spread the work over more processor cores than are available on a single workstation.  Or maybe you don't actually need the features of a SharedArray, so you want to write your code in a more general way, so that it could be parallelized on a [distributed memory system](https://en.wikipedia.org/wiki/Distributed_memory).  This can be useful even if your job could in principle be run on a single node with $N$ processor cores.  If you submit a job that requires $N$ processor cores on the same node, then your job is likely to wait in the queue longer than it you submit a job that requires $N$ processor cores that could be spread over multiple compute nodes.  If you want to make use a very large number of cores (e.g., using a cloud provider like Amazon AWS, Google Compute Engine, Microsoft Azure), then you'll need to use a distributed memory system.  For a long time, [MPI](https://en.wikipedia.org/wiki/Message_Passing_Interface) was the most common way to use distributed memory systems.  If you're programming with C/C++ or Fortran, then you will likely still be using MPI.  ([MPI.jl](https://github.com/JuliaParallel/MPI.jl) proivdes a wrapper for Julia to use most of the common MPI functions.)  Julia's [DistributedArrays.jl](https://juliaparallel.github.io/DistributedArrays.jl/latest/index.html) package is an attempt to make programming for distributed memory systems a little easier.  \n",
    "\n",
    "Like for SharedArrays, there are several ways to initialize a `DistributedArray` (`DArray` for short) efficiently, where each workers initializes its own data.  Functions like `dzeros`, `dones`, `drand`, `drandn` and `dfill` act similarly to their counterparts without a `d` prefix, but create DArrays instead of regular Arrays.\n",
    "\n",
    "Here we'll create a distributed array by simply applying `distribute` to our existing array of wavelengths."
   ]
  },
  {
   "cell_type": "code",
   "execution_count": 104,
   "metadata": {},
   "outputs": [
    {
     "data": {
      "text/plain": [
       "(8192,)"
      ]
     },
     "execution_count": 104,
     "metadata": {},
     "output_type": "execute_result"
    }
   ],
   "source": [
    "@everywhere using DistributedArrays\n",
    "lambdas_dist = distribute(lambdas)\n",
    "typeof(lambdas_dist)\n",
    "size(lambdas_dist)"
   ]
  },
  {
   "cell_type": "markdown",
   "metadata": {},
   "source": [
    "As usual, the first time we call a function, it takes some extra time and memory to compile it.  So let's do that again, this time benchmarking the `distribute` operation."
   ]
  },
  {
   "cell_type": "code",
   "execution_count": 105,
   "metadata": {},
   "outputs": [
    {
     "name": "stdout",
     "output_type": "stream",
     "text": [
      "  0.000650 seconds (978 allocations: 175.906 KiB)\n"
     ]
    },
    {
     "data": {
      "text/plain": [
       "DArray{Float64, 1, Vector{Float64}}"
      ]
     },
     "execution_count": 105,
     "metadata": {},
     "output_type": "execute_result"
    }
   ],
   "source": [
    "@time lambdas_dist = distribute(lambdas);\n",
    "typeof(lambdas_dist)"
   ]
  },
  {
   "cell_type": "markdown",
   "metadata": {},
   "source": [
    "In this case, distribute should be quite fast.  That's because we're creating a `DArray` on a shared memory system.  So the computer doesn't actually have to send communications over a network to access the data.  \n",
    "\n",
    "When we apply map to a `DArray`, map parallelizes the calculation and returns the results in a `DArray`.  Each worker only operates on the subset of the array that is local to that worker process.  \n",
    "We can view the part of the array that is local to each worker with `localpart()` and `localindices()`.  Note that none of the array was assigned to the delegator process."
   ]
  },
  {
   "cell_type": "code",
   "execution_count": 130,
   "metadata": {},
   "outputs": [
    {
     "data": {
      "text/plain": [
       "(indices = (1:0,), values = Float64[])"
      ]
     },
     "execution_count": 130,
     "metadata": {},
     "output_type": "execute_result"
    }
   ],
   "source": [
    "fetch(@spawnat 1 (;indices=DistributedArrays.localindices(lambdas_dist),  values=localpart(lambdas_dist)) )"
   ]
  },
  {
   "cell_type": "code",
   "execution_count": 132,
   "metadata": {},
   "outputs": [
    {
     "data": {
      "text/plain": [
       "(indices = (1:1024,), values = [5000.0, 5000.12208521548, 5000.24417043096, 5000.3662556464415, 5000.488340861922, 5000.610426077402, 5000.732511292882, 5000.854596508363, 5000.976681723843, 5001.0987669393235  …  5123.794408497131, 5123.916493712612, 5124.038578928092, 5124.160664143572, 5124.282749359053, 5124.404834574533, 5124.526919790013, 5124.649005005494, 5124.771090220975, 5124.893175436455])"
      ]
     },
     "execution_count": 132,
     "metadata": {},
     "output_type": "execute_result"
    }
   ],
   "source": [
    "fetch(@spawnat first(workers()) (;indices=DistributedArrays.localindices(lambdas_dist),  values=localpart(lambdas_dist)) )"
   ]
  },
  {
   "cell_type": "markdown",
   "metadata": {},
   "source": [
    "2k.  Before we benchmark this, what do you expect for the performance of `map` applied to DArray?"
   ]
  },
  {
   "cell_type": "code",
   "execution_count": 109,
   "metadata": {},
   "outputs": [
    {
     "data": {
      "text/plain": [
       "missing"
      ]
     },
     "execution_count": 109,
     "metadata": {},
     "output_type": "execute_result"
    }
   ],
   "source": [
    "response_2k = missing # INSERT response "
   ]
  },
  {
   "cell_type": "code",
   "execution_count": 151,
   "metadata": {},
   "outputs": [
    {
     "data": {
      "text/plain": [
       "\u001b[32m\u001b[1mTest Passed\u001b[22m\u001b[39m"
      ]
     },
     "execution_count": 151,
     "metadata": {},
     "output_type": "execute_result"
    }
   ],
   "source": [
    "@test isapprox(map(conv_spectrum,lambdas_dist), result_ref)"
   ]
  },
  {
   "cell_type": "code",
   "execution_count": 152,
   "metadata": {},
   "outputs": [
    {
     "name": "stdout",
     "output_type": "stream",
     "text": [
      "  0.267977 seconds (1.33 k allocations: 137.344 KiB)\n",
      "  0.272009 seconds (1.44 k allocations: 147.172 KiB)\n",
      "  0.273820 seconds (1.44 k allocations: 145.516 KiB)\n",
      "  0.269379 seconds (1.45 k allocations: 146.281 KiB)\n",
      "  0.271698 seconds (1.44 k allocations: 146.000 KiB)\n"
     ]
    },
    {
     "data": {
      "text/plain": [
       "DArray{Float64, 1, Vector{Float64}}"
      ]
     },
     "execution_count": 152,
     "metadata": {},
     "output_type": "execute_result"
    }
   ],
   "source": [
    "for i in 1:num_runs @time map(conv_spectrum,lambdas_dist) end\n",
    "typeof(map(conv_spectrum,lambdas_dist))"
   ]
  },
  {
   "cell_type": "markdown",
   "metadata": {},
   "source": [
    "2l.  How did the actual performance compare to your expectations?"
   ]
  },
  {
   "cell_type": "code",
   "execution_count": 112,
   "metadata": {},
   "outputs": [
    {
     "data": {
      "text/plain": [
       "missing"
      ]
     },
     "execution_count": 112,
     "metadata": {},
     "output_type": "execute_result"
    }
   ],
   "source": [
    "response_2l = missing # INSERT response "
   ]
  },
  {
   "cell_type": "markdown",
   "metadata": {},
   "source": [
    "Since map returned a `DArray`, we shouldn't assume that all the data is avaliable to the master process.\n",
    "In this case, we've only added processors that are on the same node, so we know that the data is actually all on one compute node.\n",
    "But a `DArray` can't count on that being true.  Indeed, in a future exercise, we'll use multiple cores that are spread over multiple nodes.  \n",
    "In order to bring make all the data in the DArray accessible to the master process, we could `collect` the data.\n",
    "\n",
    "2m.  How do you expect the performance to compare when we run map on a `DArray` with and without collecting the data at the end?"
   ]
  },
  {
   "cell_type": "code",
   "execution_count": 114,
   "metadata": {},
   "outputs": [
    {
     "data": {
      "text/plain": [
       "missing"
      ]
     },
     "execution_count": 114,
     "metadata": {},
     "output_type": "execute_result"
    }
   ],
   "source": [
    "response_2m = missing # INSERT response"
   ]
  },
  {
   "cell_type": "code",
   "execution_count": 137,
   "metadata": {},
   "outputs": [
    {
     "name": "stdout",
     "output_type": "stream",
     "text": [
      "  0.898616 seconds (478.96 k allocations: 16.174 MiB)\n",
      "  0.924482 seconds (479.09 k allocations: 16.188 MiB)\n",
      "  0.940512 seconds (481.96 k allocations: 16.316 MiB, 1.73% gc time)\n",
      "  0.901266 seconds (479.10 k allocations: 16.189 MiB)\n",
      "  0.907086 seconds (479.09 k allocations: 16.188 MiB)\n"
     ]
    }
   ],
   "source": [
    "for i in 1:num_runs @time collect(map(conv_spectrum,lambdas_dist)) end"
   ]
  },
  {
   "cell_type": "markdown",
   "metadata": {},
   "source": [
    "2n. How did the actual performance compare to your expectations?"
   ]
  },
  {
   "cell_type": "code",
   "execution_count": 138,
   "metadata": {
    "tags": []
   },
   "outputs": [
    {
     "data": {
      "text/plain": [
       "missing"
      ]
     },
     "execution_count": 138,
     "metadata": {},
     "output_type": "execute_result"
    }
   ],
   "source": [
    "response_2n = missing # INSERT response"
   ]
  },
  {
   "cell_type": "markdown",
   "metadata": {},
   "source": [
    "## Reducing Data Transport\n",
    "Copying all that data back into one array for the master process to use added a significant amount to the total time.  If the data had to move over the network, then it would have taken even longer.\n",
    "Fortunately, often you don't actually need to bring all the data back to the delegator process.  For example, you might have several calculations that can be done, each leaving the data distributed across many workers, until the very end.\n",
    "Another common scenario is that you want to performing a task that can be phrased as a [`mapreduce`](https://en.wikipedia.org/wiki/MapReduce) programming pattern.  For example, imagine that we only wanted to compute the mean squared error between two models.  \n",
    "For testing purposes, it'll be good to first implement it as a serial for loop."
   ]
  },
  {
   "cell_type": "code",
   "execution_count": 154,
   "metadata": {},
   "outputs": [
    {
     "data": {
      "text/plain": [
       "calc_mse_loop (generic function with 1 method)"
      ]
     },
     "execution_count": 154,
     "metadata": {},
     "output_type": "execute_result"
    }
   ],
   "source": [
    "function calc_mse_loop(lambdas::AbstractArray, spec1::AbstractSpectrum, spec2::AbstractSpectrum,  v::Number)\n",
    "    c = lab6.speed_of_light\n",
    "    z = v/c \n",
    "    spec2_shifted = doppler_shifted_spectrum(spec2,z)\n",
    "    tmp1 = spec1(first(lambdas))\n",
    "    tmp2 = spec2_shifted(first(lambdas))\n",
    "    mse = zero(promote_type(typeof(tmp1),typeof(tmp2)))\n",
    "    for i in eachindex(lambdas)\n",
    "        @inbounds l = lambdas[i]\n",
    "        flux1 = spec1(l)\n",
    "        flux2 = spec2_shifted(l)\n",
    "        mse += (flux1-flux2)^2\n",
    "    end\n",
    "    mse /= length(lambdas)\n",
    "    return mse\n",
    "end"
   ]
  },
  {
   "cell_type": "markdown",
   "metadata": {},
   "source": [
    "Now we'll implement the same calculation using mapreduce."
   ]
  },
  {
   "cell_type": "code",
   "execution_count": 155,
   "metadata": {},
   "outputs": [
    {
     "data": {
      "text/plain": [
       "calc_mse_mapreduce (generic function with 1 method)"
      ]
     },
     "execution_count": 155,
     "metadata": {},
     "output_type": "execute_result"
    }
   ],
   "source": [
    "function calc_mse_mapreduce(lambdas::AbstractArray, spec1::AbstractSpectrum, spec2::AbstractSpectrum,  v::Number)\n",
    "    c = lab6.speed_of_light\n",
    "    z = v/c \n",
    "    spec2_shifted = doppler_shifted_spectrum(spec2,z)\n",
    "    mse = mapreduce(x->(spec1(x)-spec2_shifted(x))^2, +, lambdas)\n",
    "    mse /= length(lambdas)\n",
    "end"
   ]
  },
  {
   "cell_type": "markdown",
   "metadata": {
    "tags": []
   },
   "source": [
    "When writing parallel code, it's always good to check that the results are consistent regardless of whether you compute in serial or parallel for some test cases."
   ]
  },
  {
   "cell_type": "code",
   "execution_count": 157,
   "metadata": {},
   "outputs": [
    {
     "data": {
      "text/plain": [
       "\u001b[32m\u001b[1mTest Passed\u001b[22m\u001b[39m"
      ]
     },
     "execution_count": 157,
     "metadata": {},
     "output_type": "execute_result"
    }
   ],
   "source": [
    "@test calc_mse_loop(lambdas,conv_spectrum,conv_spectrum,10.0) ≈  calc_mse_mapreduce(lambdas,conv_spectrum,conv_spectrum,10.0) "
   ]
  },
  {
   "cell_type": "markdown",
   "metadata": {},
   "source": [
    "2o.  How do you expect the performance of `calc_mse_mapreduce` version will compare to twice the cost of applying `map` to `conv_spectrum` and the wavelengths stored as a `DArray`? \n",
    "How do you expect the performance of `calc_mse_mapreduce` version will compare to twice the cost of applying `map` to `conv_spectrum` and the wavelengths stored as a `DArray` *and* collecting the results to the delegator process?\n",
    "(Remember, that calculating the mean squared error between two models involves evaluating two spectral models for each wavelength.)"
   ]
  },
  {
   "cell_type": "code",
   "execution_count": 158,
   "metadata": {},
   "outputs": [
    {
     "data": {
      "text/plain": [
       "missing"
      ]
     },
     "execution_count": 158,
     "metadata": {},
     "output_type": "execute_result"
    }
   ],
   "source": [
    "response_2o = missing # INSERT response"
   ]
  },
  {
   "cell_type": "code",
   "execution_count": 159,
   "metadata": {},
   "outputs": [
    {
     "name": "stdout",
     "output_type": "stream",
     "text": [
      "  3.508425 seconds (8.98 M allocations: 651.638 MiB, 3.80% gc time)\n",
      "  3.491763 seconds (8.98 M allocations: 651.554 MiB, 3.46% gc time)\n"
     ]
    },
    {
     "data": {
      "text/plain": [
       "7.939686081035728e-10"
      ]
     },
     "execution_count": 159,
     "metadata": {},
     "output_type": "execute_result"
    }
   ],
   "source": [
    "@time calc_mse_loop(lambdas,conv_spectrum,conv_spectrum,10.0) \n",
    "@time calc_mse_mapreduce(lambdas,conv_spectrum,conv_spectrum,10.0) "
   ]
  },
  {
   "cell_type": "code",
   "execution_count": 160,
   "metadata": {},
   "outputs": [
    {
     "name": "stdout",
     "output_type": "stream",
     "text": [
      "  1.026052 seconds (804.18 k allocations: 48.571 MiB, 1.56% gc time, 27.88% compilation time)\n",
      "  0.539834 seconds (1.32 k allocations: 145.891 KiB)\n",
      "  0.538430 seconds (1.32 k allocations: 145.828 KiB)\n",
      "  0.535960 seconds (1.33 k allocations: 144.953 KiB)\n",
      "  0.540800 seconds (1.32 k allocations: 145.828 KiB)\n"
     ]
    }
   ],
   "source": [
    "for i in 1:num_runs @time calc_mse_mapreduce(lambdas_dist,conv_spectrum,conv_spectrum,10.0) end"
   ]
  },
  {
   "cell_type": "markdown",
   "metadata": {},
   "source": [
    "2o.  How did the actual performance compare to your expectations?"
   ]
  },
  {
   "cell_type": "markdown",
   "metadata": {},
   "source": [
    "response_2o = missing # INSERT response"
   ]
  },
  {
   "cell_type": "markdown",
   "metadata": {},
   "source": [
    "### Distributed for loops\n",
    "\n",
    "While map, pmap and mapreduce can be very convenient, sometimes it's more natural to express your calculation in terms of a for loop.  We can do that with julia's [`@distributed`](https://docs.julialang.org/en/v1/stdlib/Distributed/#Distributed.@distributed) macro (with more explanation [here](https://docs.julialang.org/en/v1/manual/parallel-computing/#Parallel-Map-and-Loops-1)).  We'll try that below."
   ]
  },
  {
   "cell_type": "code",
   "execution_count": 52,
   "metadata": {},
   "outputs": [
    {
     "data": {
      "text/plain": [
       "compute_using_distributed_for_loop_unsynced (generic function with 1 method)"
      ]
     },
     "execution_count": 52,
     "metadata": {},
     "output_type": "execute_result"
    }
   ],
   "source": [
    "function compute_using_distributed_for_loop_unsynced(x::AbstractArray, spectrum::T) where T<:AbstractSpectrum\n",
    "    out = zeros(length(x))  # Problematic since workers won't write to out on master\n",
    "    @distributed for i in 1:length(x)\n",
    "        out[i] = conv_spectrum(x[i])\n",
    "    end\n",
    "    return out\n",
    "end"
   ]
  },
  {
   "cell_type": "code",
   "execution_count": 53,
   "metadata": {},
   "outputs": [
    {
     "name": "stdout",
     "output_type": "stream",
     "text": [
      "  0.015375 seconds (20.85 k allocations: 1.323 MiB, 99.82% compilation time)\n",
      "  0.000006 seconds (7 allocations: 32.531 KiB)\n",
      "  0.000008 seconds (7 allocations: 32.531 KiB)\n"
     ]
    }
   ],
   "source": [
    "for i in 1:num_runs @time res=   compute_using_distributed_for_loop_unsynced(lambdas_dist,conv_spectrum) end"
   ]
  },
  {
   "cell_type": "markdown",
   "metadata": {},
   "source": [
    "Wow, that was fast!  Or was it?  No.  Actually, what happened is that Julia started the computations on the workers, and let the master process keep going, without waiting for the workers to finish.  \n",
    "Sometimes we want to do this, so the master processes can do other work while waiting on the workers to finish.  Also, each worker wrote to its own out array, so we didn't even get the output.  \n",
    "For timing purposes, we want to make sure all the work is complete and the workers have synchronized.\n",
    "We can do this by adding the [`@sync` macro](https://docs.julialang.org/en/v1/stdlib/Distributed/#Base.@sync)."
   ]
  },
  {
   "cell_type": "code",
   "execution_count": 162,
   "metadata": {},
   "outputs": [
    {
     "data": {
      "text/plain": [
       "compute_using_distributed_for_loop (generic function with 1 method)"
      ]
     },
     "execution_count": 162,
     "metadata": {},
     "output_type": "execute_result"
    }
   ],
   "source": [
    "function compute_using_distributed_for_loop(x::AbstractArray, spectrum::T) where T<:AbstractSpectrum\n",
    "    out =  SharedArray(zeros(length(x)))\n",
    "    @sync @distributed for i in 1:length(x)\n",
    "        out[i] = conv_spectrum(x[i])\n",
    "    end\n",
    "    return out\n",
    "end"
   ]
  },
  {
   "cell_type": "code",
   "execution_count": 166,
   "metadata": {},
   "outputs": [
    {
     "data": {
      "text/plain": [
       "\u001b[32m\u001b[1mTest Passed\u001b[22m\u001b[39m"
      ]
     },
     "execution_count": 166,
     "metadata": {},
     "output_type": "execute_result"
    }
   ],
   "source": [
    "@test isapprox( compute_using_distributed_for_loop(lambdas,conv_spectrum) , result_ref)"
   ]
  },
  {
   "cell_type": "markdown",
   "metadata": {},
   "source": [
    "2p.  How do you expect the performance of `compute_using_distributed_for_loop` to compare to the performance of using `pmap` to compute the spectrum (after using a good base size)?"
   ]
  },
  {
   "cell_type": "code",
   "execution_count": 167,
   "metadata": {},
   "outputs": [
    {
     "data": {
      "text/plain": [
       "missing"
      ]
     },
     "execution_count": 167,
     "metadata": {},
     "output_type": "execute_result"
    }
   ],
   "source": [
    "response_2p = missing # INSERT response"
   ]
  },
  {
   "cell_type": "code",
   "execution_count": 172,
   "metadata": {},
   "outputs": [
    {
     "name": "stdout",
     "output_type": "stream",
     "text": [
      "  0.457005 seconds (55.83 k allocations: 3.325 MiB, 9.34% compilation time)\n",
      "  0.278865 seconds (2.08 k allocations: 159.203 KiB)\n",
      "  0.278020 seconds (2.08 k allocations: 159.172 KiB)\n",
      "  0.275911 seconds (2.08 k allocations: 159.109 KiB)\n",
      "  0.276224 seconds (2.08 k allocations: 159.781 KiB)\n"
     ]
    }
   ],
   "source": [
    "for i in 1:num_runs @time compute_using_distributed_for_loop(lambdas_dist,conv_spectrum) end"
   ]
  },
  {
   "cell_type": "markdown",
   "metadata": {},
   "source": [
    "The `@distributed` macro also works with data stored in a SharedArray or even regular Array. For example..."
   ]
  },
  {
   "cell_type": "code",
   "execution_count": 173,
   "metadata": {},
   "outputs": [
    {
     "name": "stdout",
     "output_type": "stream",
     "text": [
      "  0.342240 seconds (56.01 k allocations: 3.339 MiB, 12.49% compilation time)\n",
      "  0.274226 seconds (2.26 k allocations: 173.922 KiB)\n",
      "  0.272958 seconds (2.26 k allocations: 173.312 KiB)\n",
      "  0.272343 seconds (2.42 k allocations: 187.969 KiB)\n",
      "  0.281497 seconds (2.26 k allocations: 173.953 KiB)\n"
     ]
    }
   ],
   "source": [
    "for i in 1:num_runs @time compute_using_distributed_for_loop(lambdas_shared,conv_spectrum) end"
   ]
  },
  {
   "cell_type": "code",
   "execution_count": 174,
   "metadata": {},
   "outputs": [
    {
     "name": "stdout",
     "output_type": "stream",
     "text": [
      "  0.272496 seconds (1.97 k allocations: 150.359 KiB)\n",
      "  0.271747 seconds (2.08 k allocations: 160.500 KiB)\n",
      "  0.274466 seconds (2.08 k allocations: 160.203 KiB)\n",
      "  0.274446 seconds (2.08 k allocations: 160.500 KiB)\n",
      "  0.272727 seconds (2.08 k allocations: 159.500 KiB)\n"
     ]
    }
   ],
   "source": [
    "for i in 1:num_runs @time compute_using_distributed_for_loop(lambdas,conv_spectrum) end"
   ]
  },
  {
   "cell_type": "markdown",
   "metadata": {},
   "source": [
    "2q.  How did the benchmarking results compare to your predictions?"
   ]
  },
  {
   "cell_type": "code",
   "execution_count": 175,
   "metadata": {},
   "outputs": [
    {
     "data": {
      "text/plain": [
       "missing"
      ]
     },
     "execution_count": 175,
     "metadata": {},
     "output_type": "execute_result"
    }
   ],
   "source": [
    "response_2q = missing # INSERT response"
   ]
  },
  {
   "cell_type": "markdown",
   "metadata": {},
   "source": [
    "In this case, we don't notice a significant difference in performance with the distributed for loop depending on how the lambdas were stored, since all three are being stored in a shared memory system.  Once we use multiple compute nodes and communications must travel over a network, differences in performance will become more apparent."
   ]
  },
  {
   "cell_type": "markdown",
   "metadata": {},
   "source": [
    "There's also an option to specify a reducing operation that is performed on the result of each pass through the `@distributed` for loop.  (The function to perform the reduction is provided in parentheses before the `for`.)"
   ]
  },
  {
   "cell_type": "code",
   "execution_count": 176,
   "metadata": {},
   "outputs": [
    {
     "data": {
      "text/plain": [
       "calc_mse_distributed_loop (generic function with 1 method)"
      ]
     },
     "execution_count": 176,
     "metadata": {},
     "output_type": "execute_result"
    }
   ],
   "source": [
    "function calc_mse_distributed_loop(lambdas::DArray, spec1::AbstractSpectrum, spec2::AbstractSpectrum,  v::Number)\n",
    "    c = lab6.speed_of_light\n",
    "    z = v/c \n",
    "    spec2_shifted = doppler_shifted_spectrum(spec2,z)\n",
    "    mse = @distributed (+) for i in eachindex(lambdas)\n",
    "        @inbounds l = lambdas[i]\n",
    "        flux1 = spec1(l)\n",
    "        flux2 = spec2_shifted(l)\n",
    "        (flux1-flux2)^2  # result of last line will be reduced by + operator\n",
    "    end\n",
    "    mse /= length(lambdas)\n",
    "    return mse\n",
    "end"
   ]
  },
  {
   "cell_type": "code",
   "execution_count": 177,
   "metadata": {},
   "outputs": [
    {
     "data": {
      "text/plain": [
       "\u001b[32m\u001b[1mTest Passed\u001b[22m\u001b[39m"
      ]
     },
     "execution_count": 177,
     "metadata": {},
     "output_type": "execute_result"
    }
   ],
   "source": [
    "@test calc_mse_loop(lambdas,conv_spectrum,conv_spectrum,10.0) ≈ calc_mse_distributed_loop(lambdas_dist, conv_spectrum, conv_spectrum, 10.0) "
   ]
  },
  {
   "cell_type": "markdown",
   "metadata": {},
   "source": [
    "2r.  How do you expect that the performance of the `@distributed` for loop with a reduction operator will perform compared to `mapreduce` on a distributed array?"
   ]
  },
  {
   "cell_type": "code",
   "execution_count": 178,
   "metadata": {},
   "outputs": [
    {
     "data": {
      "text/plain": [
       "missing"
      ]
     },
     "execution_count": 178,
     "metadata": {},
     "output_type": "execute_result"
    }
   ],
   "source": [
    "response_2r = missing # RESPONSE"
   ]
  },
  {
   "cell_type": "code",
   "execution_count": 179,
   "metadata": {},
   "outputs": [
    {
     "name": "stdout",
     "output_type": "stream",
     "text": [
      "  0.543660 seconds (1.31 k allocations: 125.297 KiB)\n",
      "  0.542247 seconds (1.42 k allocations: 133.734 KiB)\n",
      "  0.540659 seconds (1.41 k allocations: 133.203 KiB)\n",
      "  0.542365 seconds (1.42 k allocations: 135.078 KiB)\n",
      "  0.540872 seconds (1.41 k allocations: 132.703 KiB)\n"
     ]
    }
   ],
   "source": [
    "for i in 1:num_runs @time calc_mse_distributed_loop(lambdas_dist, conv_spectrum, conv_spectrum, 10.0) end"
   ]
  },
  {
   "cell_type": "markdown",
   "metadata": {},
   "source": [
    "2s.  How did the results compare to your expectations?"
   ]
  },
  {
   "cell_type": "code",
   "execution_count": 180,
   "metadata": {},
   "outputs": [
    {
     "data": {
      "text/plain": [
       "missing"
      ]
     },
     "execution_count": 180,
     "metadata": {},
     "output_type": "execute_result"
    }
   ],
   "source": [
    "response_2s = missing # RESPONSE"
   ]
  },
  {
   "cell_type": "markdown",
   "metadata": {},
   "source": [
    "## Distributed for loop using FLoops"
   ]
  },
  {
   "cell_type": "markdown",
   "metadata": {},
   "source": [
    "Here we'll demonstrate one more way to perform the same calculation in parallel, using the [FLoops.jl](https://juliafolds.github.io/FLoops.jl/dev/) package. This package is still young, experimental and likely to change.  But it seems to hold a lot of promise for enabling programmers to implement more complex calculations in parallel efficiently for the programmer, and hopefully eventually also efficiently for the computers. "
   ]
  },
  {
   "cell_type": "code",
   "execution_count": 182,
   "metadata": {},
   "outputs": [
    {
     "name": "stderr",
     "output_type": "stream",
     "text": [
      "┌ Info: Precompiling FLoops [cc61a311-1640-44b5-9fba-1b764f453329]\n",
      "└ @ Base loading.jl:1317\n"
     ]
    }
   ],
   "source": [
    "using FLoops"
   ]
  },
  {
   "cell_type": "code",
   "execution_count": 183,
   "metadata": {},
   "outputs": [
    {
     "data": {
      "text/plain": [
       "calc_mse_flloop (generic function with 1 method)"
      ]
     },
     "execution_count": 183,
     "metadata": {},
     "output_type": "execute_result"
    }
   ],
   "source": [
    "function calc_mse_flloop(lambdas::AbstractArray, spec1::AbstractSpectrum, spec2::AbstractSpectrum,  v::Number; ex = ThreadedEx())\n",
    "    c = lab6.speed_of_light\n",
    "    z = v/c \n",
    "    spec2_shifted = doppler_shifted_spectrum(spec2,z)\n",
    "    tmp1 = spec1(first(lambdas))\n",
    "    tmp2 = spec2_shifted(first(lambdas))\n",
    "    mse = zero(promote_type(typeof(tmp1),typeof(tmp2)))\n",
    "    @sync @floop ex for i in eachindex(lambdas)\n",
    "        @inbounds l = lambdas[i]\n",
    "        flux1 = spec1(l)\n",
    "        flux2 = spec2_shifted(l)\n",
    "        @reduce(mse += (flux1-flux2)^2)\n",
    "    end\n",
    "    mse /= length(lambdas)\n",
    "    return mse\n",
    "end"
   ]
  },
  {
   "cell_type": "code",
   "execution_count": 184,
   "metadata": {},
   "outputs": [
    {
     "data": {
      "text/plain": [
       "\u001b[32m\u001b[1mTest Passed\u001b[22m\u001b[39m"
      ]
     },
     "execution_count": 184,
     "metadata": {},
     "output_type": "execute_result"
    }
   ],
   "source": [
    "@test calc_mse_loop(lambdas,conv_spectrum,conv_spectrum,10.0) ≈ calc_mse_flloop(lambdas, conv_spectrum, conv_spectrum, 10.0, ex=DistributedEx()  ) "
   ]
  },
  {
   "cell_type": "code",
   "execution_count": 185,
   "metadata": {},
   "outputs": [
    {
     "name": "stdout",
     "output_type": "stream",
     "text": [
      "  6.368498 seconds (306.63 k allocations: 17.197 MiB, 1.97% compilation time)\n",
      "  0.979938 seconds (4.03 k allocations: 322.500 KiB)\n",
      "  1.102403 seconds (4.24 k allocations: 331.625 KiB)\n",
      "  0.919745 seconds (3.83 k allocations: 315.312 KiB)\n",
      "  1.178537 seconds (3.94 k allocations: 319.484 KiB)\n"
     ]
    }
   ],
   "source": [
    "for i in 1:num_runs @time calc_mse_flloop(lambdas, conv_spectrum, conv_spectrum, 10.0, ex=DistributedEx() ) end"
   ]
  },
  {
   "cell_type": "markdown",
   "metadata": {},
   "source": [
    "## Comparing Multi-threading vs Multi-processing performance more easily"
   ]
  },
  {
   "cell_type": "markdown",
   "metadata": {},
   "source": [
    "Wouldn't it be nice if we didn't have to rewrite our code for each architectures?  There are some relatively young packages that make this possible (e.g., [FLoops.jl](https://juliafolds.github.io/FLoops.jl/dev/) and [KernelAbstractions.jl](https://juliagpu.github.io/KernelAbstractions.jl/stable/)).  Below we'll compare the performance of serial, multi-threaded and multi-processing versions of our function by simply specifying a different *executor*, as shown below."
   ]
  },
  {
   "cell_type": "code",
   "execution_count": 189,
   "metadata": {},
   "outputs": [
    {
     "name": "stdout",
     "output_type": "stream",
     "text": [
      "  3.608461 seconds (8.98 M allocations: 651.643 MiB, 5.65% gc time)\n",
      "  3.545486 seconds (8.98 M allocations: 651.639 MiB, 3.94% gc time)\n",
      "  3.556694 seconds (8.98 M allocations: 651.639 MiB, 3.93% gc time)\n",
      "  3.529609 seconds (8.98 M allocations: 651.639 MiB, 3.51% gc time)\n",
      "  3.543153 seconds (8.98 M allocations: 651.639 MiB, 3.93% gc time)\n"
     ]
    }
   ],
   "source": [
    "for i in 1:num_runs @time calc_mse_flloop(lambdas, conv_spectrum, conv_spectrum, 10.0, ex = SequentialEx(simd = Val(true)) ) end"
   ]
  },
  {
   "cell_type": "code",
   "execution_count": 190,
   "metadata": {},
   "outputs": [
    {
     "name": "stdout",
     "output_type": "stream",
     "text": [
      "  0.650798 seconds (8.99 M allocations: 651.935 MiB, 16.59% gc time, 0.83% compilation time)\n",
      "  0.727545 seconds (8.98 M allocations: 651.655 MiB, 26.03% gc time)\n",
      "  0.910814 seconds (8.98 M allocations: 651.655 MiB, 41.01% gc time)\n",
      "  0.726503 seconds (8.98 M allocations: 651.655 MiB, 26.12% gc time)\n",
      "  0.731827 seconds (8.98 M allocations: 651.655 MiB, 26.29% gc time)\n"
     ]
    }
   ],
   "source": [
    "for i in 1:num_runs @time calc_mse_flloop(lambdas, conv_spectrum, conv_spectrum, 10.0, ex = ThreadedEx() ) end   # default if we don't specify ex explicitly"
   ]
  },
  {
   "cell_type": "code",
   "execution_count": 191,
   "metadata": {},
   "outputs": [
    {
     "name": "stdout",
     "output_type": "stream",
     "text": [
      "  0.607610 seconds (3.71 k allocations: 304.984 KiB)\n",
      "  0.667173 seconds (3.82 k allocations: 314.188 KiB)\n",
      "  0.632044 seconds (3.82 k allocations: 317.250 KiB)\n",
      "  0.817953 seconds (3.82 k allocations: 313.609 KiB)\n",
      "  0.606187 seconds (3.82 k allocations: 315.125 KiB)\n"
     ]
    }
   ],
   "source": [
    "for i in 1:num_runs @time calc_mse_flloop(lambdas, conv_spectrum, conv_spectrum, 10.0, ex=DistributedEx() ) end"
   ]
  },
  {
   "cell_type": "markdown",
   "metadata": {},
   "source": [
    "When I last tested FLoops, it still wasn't as fast as using mapreduce on a distributed array or a distributed for loop for simple problems.  \n",
    "But there may be some more complex problems, where the greater flexibility of FLoops is valuable to the programmer (e.g., if you have a large dataset and want to do several calculations using one pass through your data)."
   ]
  },
  {
   "cell_type": "markdown",
   "metadata": {},
   "source": [
    "2t.  Think about your class project and the parallel programming patterns demonstrated in this exercise.  \n",
    "Could your key calculation be phrased as a mapreduce problem?  Could it be phrased as one or more map calculations?  Is it advantageous to using a distributed for loop or FLoops?  \n",
    "Do you see a reason to implement different parts of the problem using different programming patterns?\n",
    "If you were to parallelize your code using multi-processing, which of the methods above would you choose?  Why?"
   ]
  },
  {
   "cell_type": "code",
   "execution_count": 228,
   "metadata": {},
   "outputs": [],
   "source": [
    "response_2t = missing #= \n",
    "\"\"\"\n",
    "Example \n",
    "multi-line\n",
    "response\n",
    "\"\"\"\n",
    "=#;"
   ]
  },
  {
   "cell_type": "markdown",
   "metadata": {},
   "source": [
    "2u.  *If* you're planning to parallelize your class project for distributed memory, then before you parallelize your class project, get some practice by parallelizing the function `calc_χ²` (at bottom of notebook) using whichever parallelization strategy that you plan to use for your project."
   ]
  },
  {
   "cell_type": "code",
   "execution_count": 220,
   "metadata": {},
   "outputs": [
    {
     "data": {
      "text/plain": [
       "calc_χ²_my_way (generic function with 1 method)"
      ]
     },
     "execution_count": 220,
     "metadata": {},
     "output_type": "execute_result"
    }
   ],
   "source": [
    "# response_u2: \n",
    "function calc_χ²_my_way(lambdas::AbstractArray, spec1::AbstractSpectrum, spec2::AbstractSpectrum, σ1::AbstractArray, σ2::AbstractArray, v::Number; #= any optional parameters? =# )\n",
    "    # INSERT YOUR CODE HERE\n",
    "    return missing\n",
    "end"
   ]
  },
  {
   "cell_type": "code",
   "execution_count": 225,
   "metadata": {},
   "outputs": [],
   "source": [
    "σ_obs1 = 0.02*ones(size(lambdas))\n",
    "σ_obs2 = 0.02*ones(size(lambdas));"
   ]
  },
  {
   "cell_type": "code",
   "execution_count": 223,
   "metadata": {},
   "outputs": [
    {
     "name": "stdout",
     "output_type": "stream",
     "text": [
      "\u001b[91m\u001b[1mTest Failed\u001b[22m\u001b[39m at \u001b[39m\u001b[1mIn[223]:1\u001b[22m\n",
      "  Expression: abs(calc_χ²_my_way(lambdas, conv_spectrum, conv_spectrum, σ_obs1, σ_obs2, 0.0)) < 1.0e-8\n",
      "   Evaluated: missing < 1.0e-8\n"
     ]
    },
    {
     "ename": "LoadError",
     "evalue": "\u001b[91mThere was an error during testing\u001b[39m",
     "output_type": "error",
     "traceback": [
      "\u001b[91mThere was an error during testing\u001b[39m",
      "",
      "Stacktrace:",
      " [1] record(ts::Test.FallbackTestSet, t::Union{Test.Error, Test.Fail})",
      "   @ Test /buildworker/worker/package_linux64/build/usr/share/julia/stdlib/v1.6/Test/src/Test.jl:772",
      " [2] do_test(result::Test.ExecutionResult, orig_expr::Any)",
      "   @ Test /buildworker/worker/package_linux64/build/usr/share/julia/stdlib/v1.6/Test/src/Test.jl:555",
      " [3] top-level scope",
      "   @ In[223]:1",
      " [4] eval",
      "   @ ./boot.jl:360 [inlined]",
      " [5] include_string(mapexpr::typeof(REPL.softscope), mod::Module, code::String, filename::String)",
      "   @ Base ./loading.jl:1094"
     ]
    }
   ],
   "source": [
    "@test abs(calc_χ²_my_way(lambdas,conv_spectrum, conv_spectrum, σ_obs1, σ_obs2, 0.0 )) < 1e-8"
   ]
  },
  {
   "cell_type": "code",
   "execution_count": 224,
   "metadata": {},
   "outputs": [
    {
     "name": "stdout",
     "output_type": "stream",
     "text": [
      "\u001b[91m\u001b[1mError During Test\u001b[22m\u001b[39m at \u001b[39m\u001b[1mIn[224]:1\u001b[22m\n",
      "  Test threw exception\n",
      "  Expression: calc_χ²_my_way(lambdas, conv_spectrum, conv_spectrum, σ_obs1, σ_obs2, 10.0) ≈ calc_χ²_loop(lambdas, conv_spectrum, conv_spectrum, σ_obs1, σ_obs2, 10.0)\n",
      "  MethodError: no method matching zero(::Type{Any})\n",
      "  \u001b[0mClosest candidates are:\n",
      "  \u001b[0m  zero(::Type{Union{Missing, T}}) where T at missing.jl:105\n",
      "  \u001b[0m  zero(\u001b[91m::Union{Type{P}, P}\u001b[39m) where P<:Dates.Period at /buildworker/worker/package_linux64/build/usr/share/julia/stdlib/v1.6/Dates/src/periods.jl:53\n",
      "  \u001b[0m  zero(\u001b[91m::AbstractIrrational\u001b[39m) at irrationals.jl:148\n",
      "  \u001b[0m  ...\n",
      "  Stacktrace:\n",
      "    [1] \u001b[0m\u001b[1mzero\u001b[22m\u001b[0m\u001b[1m(\u001b[22m\u001b[90m#unused#\u001b[39m::\u001b[0mType\u001b[90m{Any}\u001b[39m\u001b[0m\u001b[1m)\u001b[22m\n",
      "  \u001b[90m    @ \u001b[39m\u001b[90mBase\u001b[39m \u001b[90m./\u001b[39m\u001b[90;4mmissing.jl:106\u001b[0m\n",
      "    [2] \u001b[0m\u001b[1mcalc_χ²_loop\u001b[22m\u001b[0m\u001b[1m(\u001b[22m\u001b[90mlambdas\u001b[39m::\u001b[0mVector\u001b[90m{Float64}\u001b[39m, \u001b[90mspec1\u001b[39m::\u001b[0mConvolvedSpectrum\u001b[90m{SimulatedSpectrum{Float64, Float64, Float64, Float64, Float64, Float64, Float64, Float64, Float64}, GaussianMixtureConvolutionKernel{Float64, Float64}}\u001b[39m, \u001b[90mspec2\u001b[39m::\u001b[0mConvolvedSpectrum\u001b[90m{SimulatedSpectrum{Float64, Float64, Float64, Float64, Float64, Float64, Float64, Float64, Float64}, GaussianMixtureConvolutionKernel{Float64, Float64}}\u001b[39m, \u001b[90mσ1\u001b[39m::\u001b[0mVector\u001b[90m{Float64}\u001b[39m, \u001b[90mσ2\u001b[39m::\u001b[0mVector\u001b[90m{Float64}\u001b[39m, \u001b[90mv\u001b[39m::\u001b[0mFloat64\u001b[0m\u001b[1m)\u001b[22m\n",
      "  \u001b[90m    @ \u001b[39m\u001b[35mMain\u001b[39m \u001b[90m./\u001b[39m\u001b[90;4mIn[221]:8\u001b[0m\n",
      "    [3] top-level scope\n",
      "  \u001b[90m    @ \u001b[39m\u001b[90;4mIn[224]:1\u001b[0m\n",
      "    [4] \u001b[0m\u001b[1meval\u001b[22m\n",
      "  \u001b[90m    @ \u001b[39m\u001b[90m./\u001b[39m\u001b[90;4mboot.jl:360\u001b[0m\u001b[90m [inlined]\u001b[39m\n",
      "    [5] \u001b[0m\u001b[1minclude_string\u001b[22m\u001b[0m\u001b[1m(\u001b[22m\u001b[90mmapexpr\u001b[39m::\u001b[0mtypeof(REPL.softscope), \u001b[90mmod\u001b[39m::\u001b[0mModule, \u001b[90mcode\u001b[39m::\u001b[0mString, \u001b[90mfilename\u001b[39m::\u001b[0mString\u001b[0m\u001b[1m)\u001b[22m\n",
      "  \u001b[90m    @ \u001b[39m\u001b[90mBase\u001b[39m \u001b[90m./\u001b[39m\u001b[90;4mloading.jl:1094\u001b[0m\n",
      "    [6] \u001b[0m\u001b[1msoftscope_include_string\u001b[22m\u001b[0m\u001b[1m(\u001b[22m\u001b[90mm\u001b[39m::\u001b[0mModule, \u001b[90mcode\u001b[39m::\u001b[0mString, \u001b[90mfilename\u001b[39m::\u001b[0mString\u001b[0m\u001b[1m)\u001b[22m\n",
      "  \u001b[90m    @ \u001b[39m\u001b[36mSoftGlobalScope\u001b[39m \u001b[90m~/.julia/packages/SoftGlobalScope/u4UzH/src/\u001b[39m\u001b[90;4mSoftGlobalScope.jl:65\u001b[0m\n",
      "    [7] \u001b[0m\u001b[1mexecute_request\u001b[22m\u001b[0m\u001b[1m(\u001b[22m\u001b[90msocket\u001b[39m::\u001b[0mZMQ.Socket, \u001b[90mmsg\u001b[39m::\u001b[0mIJulia.Msg\u001b[0m\u001b[1m)\u001b[22m\n",
      "  \u001b[90m    @ \u001b[39m\u001b[32mIJulia\u001b[39m \u001b[90m~/.julia/packages/IJulia/e8kqU/src/\u001b[39m\u001b[90;4mexecute_request.jl:67\u001b[0m\n",
      "    [8] \u001b[0m\u001b[1m#invokelatest#2\u001b[22m\n",
      "  \u001b[90m    @ \u001b[39m\u001b[90m./\u001b[39m\u001b[90;4messentials.jl:708\u001b[0m\u001b[90m [inlined]\u001b[39m\n",
      "    [9] \u001b[0m\u001b[1minvokelatest\u001b[22m\n",
      "  \u001b[90m    @ \u001b[39m\u001b[90m./\u001b[39m\u001b[90;4messentials.jl:706\u001b[0m\u001b[90m [inlined]\u001b[39m\n",
      "   [10] \u001b[0m\u001b[1meventloop\u001b[22m\u001b[0m\u001b[1m(\u001b[22m\u001b[90msocket\u001b[39m::\u001b[0mZMQ.Socket\u001b[0m\u001b[1m)\u001b[22m\n",
      "  \u001b[90m    @ \u001b[39m\u001b[32mIJulia\u001b[39m \u001b[90m~/.julia/packages/IJulia/e8kqU/src/\u001b[39m\u001b[90;4meventloop.jl:8\u001b[0m\n",
      "   [11] \u001b[0m\u001b[1m(::IJulia.var\"#15#18\")\u001b[22m\u001b[0m\u001b[1m(\u001b[22m\u001b[0m\u001b[1m)\u001b[22m\n",
      "  \u001b[90m    @ \u001b[39m\u001b[32mIJulia\u001b[39m \u001b[90m./\u001b[39m\u001b[90;4mtask.jl:406\u001b[0m\n"
     ]
    },
    {
     "ename": "LoadError",
     "evalue": "\u001b[91mThere was an error during testing\u001b[39m",
     "output_type": "error",
     "traceback": [
      "\u001b[91mThere was an error during testing\u001b[39m",
      "",
      "Stacktrace:",
      " [1] record(ts::Test.FallbackTestSet, t::Union{Test.Error, Test.Fail})",
      "   @ Test /buildworker/worker/package_linux64/build/usr/share/julia/stdlib/v1.6/Test/src/Test.jl:772",
      " [2] do_test(result::Test.ExecutionResult, orig_expr::Any)",
      "   @ Test /buildworker/worker/package_linux64/build/usr/share/julia/stdlib/v1.6/Test/src/Test.jl:555",
      " [3] top-level scope",
      "   @ In[224]:1",
      " [4] eval",
      "   @ ./boot.jl:360 [inlined]",
      " [5] include_string(mapexpr::typeof(REPL.softscope), mod::Module, code::String, filename::String)",
      "   @ Base ./loading.jl:1094"
     ]
    }
   ],
   "source": [
    "@test calc_χ²_my_way(lambdas,conv_spectrum, conv_spectrum, σ_obs1, σ_obs2, 10.0 ) ≈ calc_χ²_loop(lambdas,conv_spectrum, conv_spectrum, σ_obs1, σ_obs2, 10.0 )"
   ]
  },
  {
   "cell_type": "code",
   "execution_count": 226,
   "metadata": {},
   "outputs": [
    {
     "data": {
      "text/plain": [
       "calc_χ²_loop (generic function with 1 method)"
      ]
     },
     "execution_count": 226,
     "metadata": {},
     "output_type": "execute_result"
    }
   ],
   "source": [
    "function calc_χ²_loop(lambdas::AbstractArray, spec1::AbstractSpectrum, spec2::AbstractSpectrum, σ1::AbstractArray, σ2::AbstractArray, v::Number )\n",
    "    @assert size(lambdas) == size(σ1) == size(σ2)\n",
    "    c = lab6.speed_of_light\n",
    "    z = v/c \n",
    "    spec2_shifted = doppler_shifted_spectrum(spec2,z)\n",
    "    tmp1 = spec1(first(lambdas))\n",
    "    tmp2 = spec2_shifted(first(lambdas))\n",
    "    χ² = zero(promote_type(typeof(tmp1),typeof(tmp2),eltype(σ1),eltype(σ2)))\n",
    "    for i in eachindex(lambdas)\n",
    "        @inbounds l = lambdas[i]\n",
    "        flux1 = spec1(l)\n",
    "        flux2 = spec2_shifted(l)\n",
    "        @inbounds χ² += (flux1-flux2)^2/(σ1[i]^2+σ2[i]^2)\n",
    "    end\n",
    "    return χ²\n",
    "end"
   ]
  },
  {
   "cell_type": "code",
   "execution_count": null,
   "metadata": {},
   "outputs": [],
   "source": []
  }
 ],
 "metadata": {
  "kernelspec": {
   "display_name": "Julia 1.6.0",
   "language": "julia",
   "name": "julia-1.6"
  },
  "language_info": {
   "file_extension": ".jl",
   "mimetype": "application/julia",
   "name": "julia",
   "version": "1.6.0"
  }
 },
 "nbformat": 4,
 "nbformat_minor": 4
}
