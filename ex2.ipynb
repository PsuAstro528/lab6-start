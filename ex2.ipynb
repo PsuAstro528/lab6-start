{
 "cells": [
  {
   "cell_type": "markdown",
   "metadata": {},
   "source": [
    "# Astro 528, Lab 6, Exercise 2\n",
    "## Parallelization for Multi-Core Workstations (using multiple processes)\n",
    "\n",
    "### Hardware configuration for this exercise\n",
    "In this lab exercise, we'll explore a few different ways that we can parallelize calculations across multiple cores of a single workstation or server.  Some of the syntax and programming patterns are very similar as to what you'll use later when we parallelize our code for distributed computing (i.e., over a number of processors that do not have direct access to the same memory.)\n",
    "\n",
    "Fortunately, most modern workstations and even laptops have multiple cores.  As of 2021, most of the ICS-ACI compute nodes have 14-24 cores.  (The high-memory nodes have 40 cores. The HPRC nodes are configured to offer many more virtual cores, but HPRC jobs should not use more than 20 cores.)  \n",
    "\n",
    "For this exercise, it's important that you actually have access to multiple processor cores.  If you're using Julia installed on your own machine, then you don't need to do anything special before starting the lab.  However, if you're using the ICDS-ACI portal to access the Jupyter Lab server, then you will need to have requested multiple processor cores when you first submited the request for the JupyterLab server using the box labeled \"Number of Cores\", i.e. _before you start executing cells in this notebook_.  Here's a [screenshot](images/portal_screenshot.png) showing the screen where you specify multiple cores.  \n",
    "\n",
    "While we're in class, please ask for just 4 cores, since there are many of us using the same two compute nodes at once.  \n",
    "If you return to working on the lab outside of class (and not right before the deadline), then feel free to try benchmarking the code using 8 cores, 12 or even 16 cores.  If you do ask for several cores, then please be extra diligent about deleting your session via the ICDS-ACI Portal when you're done, so they become avaliable to other members of the class."
   ]
  },
  {
   "cell_type": "markdown",
   "metadata": {},
   "source": [
    "### Why Jupyter?\n",
    "For this exercise, we're using a Jupyter notebook, instead of a Pluto notebook.  Why?\n",
    "In the previous exercise, we parallelized our code using one process that organized its computation into multiple threads, all within a Pluto notebook.  Pluto worked well for that kind of parallelism.  In contrast, for this exercise, we're going to parallelize our code using multiple processes. \n",
    "Pluto already uses multiple processes to analyze, run and display the Pluto notebook, so you can't (easily) parallelize your code over multiple processes within a Pluto notebook environment.  \n",
    "\n",
    "Since each Jupyter notebook is executed using a separate Julia kernel, they are more ammenable to parallelization via multiple processes.  \n",
    "\n",
    "### Multi-process vs Multi-threading\n",
    "As discussed in [the previous exercise](https://psuastro528.github.io/lab6-start/ex1.html), both approaches are viable ways to parallelize code over multiple processors contained within one workstation/compute node/server.  Multiple threads within a single process all have access to the memory that the operating system (OS) has assigned to that process.  However, different processes are assigned separate memory locations.  While it is possible to send data from one process to another, it needs to be done explicitly.  For simples codes, I usually start with multi-threading, as it tends to be a little easier to implement and is often more efficient.  For more complex codes (e.g., integrating PDEs), there can be advanages to using multiple processes (e.g., reducing need for memory locks).  However, the main reason I want students to get experience parallelizing code using multiple processes is that this apporach is necessary to scale up the level parallelism to use more compute cores than exist in compute node.  If we write (and test) our code to run in parallel using multiple processes on one workstation, then there will be relatively little work to implement a distributed memory parallelization.  \n",
    "\n",
    "### Installing packages\n",
    "First, let's make sure that the packages we'll use are installed."
   ]
  },
  {
   "cell_type": "code",
   "execution_count": 1,
   "metadata": {},
   "outputs": [
    {
     "name": "stderr",
     "output_type": "stream",
     "text": [
      "\u001b[32m\u001b[1m  Activating\u001b[22m\u001b[39m environment at `/storage/home/e/ebf11/Teach/Astro528/Fall2021/lab6-start/Project.toml`\n",
      "\u001b[32m\u001b[1mPrecompiling\u001b[22m\u001b[39m project...\n",
      "\u001b[32m  ✓ \u001b[39m\u001b[90mHypertextLiteral\u001b[39m\n",
      "\u001b[32m  ✓ \u001b[39mPlutoUI\n",
      "\u001b[32m  ✓ \u001b[39mPlutoTeachingTools\n",
      "\u001b[32m  ✓ \u001b[39m\u001b[90mGR_jll\u001b[39m\n",
      "\u001b[32m  ✓ \u001b[39m\u001b[90mPlotUtils\u001b[39m\n",
      "\u001b[32m  ✓ \u001b[39m\u001b[90mGR\u001b[39m\n",
      "\u001b[32m  ✓ \u001b[39m\u001b[90mRecipesPipeline\u001b[39m\n",
      "\u001b[32m  ✓ \u001b[39m\u001b[90mPlotThemes\u001b[39m\n",
      "\u001b[32m  ✓ \u001b[39mPlots\n",
      "\u001b[32m  ✓ \u001b[39mlab6\n",
      "10 dependencies successfully precompiled in 88 seconds (155 already precompiled)\n"
     ]
    }
   ],
   "source": [
    "using Pkg\n",
    "Pkg.UPDATED_REGISTRY_THIS_SESSION[] = true   # Tell Julia package manager not to download an updated registry for speed's sake\n",
    "Pkg.activate(\".\")                            # Project.toml specifies the packages required for this lab\n",
    "Pkg.instantiate()                            # Install any packages needed"
   ]
  },
  {
   "cell_type": "markdown",
   "metadata": {},
   "source": [
    "### Getting setup for parallel computation"
   ]
  },
  {
   "cell_type": "markdown",
   "metadata": {},
   "source": [
    "First, let us load Julia's `Distributed` module that provides much of the needed functionality."
   ]
  },
  {
   "cell_type": "code",
   "execution_count": 2,
   "metadata": {},
   "outputs": [
    {
     "data": {
      "text/plain": [
       "1"
      ]
     },
     "execution_count": 2,
     "metadata": {},
     "output_type": "execute_result"
    }
   ],
   "source": [
    "using Distributed\n",
    "nworkers()"
   ]
  },
  {
   "cell_type": "markdown",
   "metadata": {},
   "source": [
    "Note that even if you have a Jupyter notebook server (or remote desktop or PBS job) that has been allocated multiple cores, that doesn't mean that you'll use them.  By default, Julia starts running on a single core which is the one worker process.  \n",
    "To enable parallel computing, we need to tell Julia how many processor cores to use.  By default, we're just using one.  How many should we add?  \n",
    "Let's get some information about the hardware that we're running on."
   ]
  },
  {
   "cell_type": "code",
   "execution_count": 3,
   "metadata": {},
   "outputs": [
    {
     "name": "stdout",
     "output_type": "stream",
     "text": [
      "Intel(R) Xeon(R) CPU E5-2680 v4 @ 2.40GHz: \n",
      "          speed         user         nice          sys         idle          irq\n",
      "#1-28  3087 MHz    2490210 s      13374 s    1436839 s  711967916 s          0 s\n"
     ]
    }
   ],
   "source": [
    "Sys.cpu_summary()"
   ]
  },
  {
   "cell_type": "markdown",
   "metadata": {},
   "source": [
    "As discussed in exercise 1, just because the compute node we've been assigned has many cores, doesn't mean that we're allowed to use all of them.  \n",
    "We'll check if this notebook is running inside a PBS job, and if so, use the number of cores that we've been assigned.  If we're not inside a PBS job, then we'll use the number of physical cores. "
   ]
  },
  {
   "cell_type": "code",
   "execution_count": 4,
   "metadata": {},
   "outputs": [],
   "source": [
    "using CpuId"
   ]
  },
  {
   "cell_type": "code",
   "execution_count": 5,
   "metadata": {},
   "outputs": [
    {
     "data": {
      "text/plain": [
       "4"
      ]
     },
     "execution_count": 5,
     "metadata": {},
     "output_type": "execute_result"
    }
   ],
   "source": [
    "if haskey(ENV,\"PBS_NUM_PPN\")\n",
    "    pbs_procs_per_node = parse(Int64,ENV[\"PBS_NUM_PPN\"])\n",
    "    num_cores_to_use = pbs_procs_per_node \n",
    "else\n",
    "    num_physical_cores = cpucores()\n",
    "    num_cores_to_use = num_physical_cores \n",
    "end"
   ]
  },
  {
   "cell_type": "markdown",
   "metadata": {
    "tags": []
   },
   "source": [
    "2a.  How many cores will you be using for this exercise (i.e., the result of cell above)? "
   ]
  },
  {
   "cell_type": "code",
   "execution_count": 6,
   "metadata": {},
   "outputs": [
    {
     "data": {
      "text/plain": [
       "missing"
      ]
     },
     "execution_count": 6,
     "metadata": {},
     "output_type": "execute_result"
    }
   ],
   "source": [
    "response_2a = missing # Explicilty set to integer (i.e., don't set to num_cores_to_use, so we'll be able to provide appropriate feedback on your future responces.)"
   ]
  },
  {
   "cell_type": "markdown",
   "metadata": {},
   "source": [
    "Next, we'll tell Julia to add several worker processes. "
   ]
  },
  {
   "cell_type": "code",
   "execution_count": 7,
   "metadata": {},
   "outputs": [
    {
     "data": {
      "text/plain": [
       "3-element Vector{Int64}:\n",
       " 2\n",
       " 3\n",
       " 4"
      ]
     },
     "execution_count": 7,
     "metadata": {},
     "output_type": "execute_result"
    }
   ],
   "source": [
    "if num_cores_to_use>1\n",
    "    addprocs(num_cores_to_use-1)\n",
    "end"
   ]
  },
  {
   "cell_type": "markdown",
   "metadata": {},
   "source": [
    "`addprocs(N)` returned a list of ids that you can use to refer to specific workers within Julia.  (We won't be using these, but it can be useful if you want finer grained control.)  \n",
    "If you're every unsure of how many workers you currently have avaliable, you can run `nworkers()`."
   ]
  },
  {
   "cell_type": "code",
   "execution_count": 8,
   "metadata": {},
   "outputs": [
    {
     "data": {
      "text/plain": [
       "3"
      ]
     },
     "execution_count": 8,
     "metadata": {},
     "output_type": "execute_result"
    }
   ],
   "source": [
    "nworkers()"
   ]
  },
  {
   "cell_type": "markdown",
   "metadata": {},
   "source": [
    "Note that the list of workers now excludes 1 and the number of workers is equal to the number you added, rather than being one plus that number.  Why?  The original process is now in charge of delegating the work amongst the worker processes. (Historically, this process was referred to as the \"master process\", and you're likely to still that terminology in online documentation and questions.  I'll try to use the \"delegator process\" instead.)  When you have a lot of workers, it's often advantageous to let one process focus on managing all the communications and other overhead associated with parallelization.  That way the worker processes are likely to stay more nearly in sync, rather than having to repeatedly wait for the delegator process to catch up.  On the other hand, if there is relatively little overhead work for the delegator process, then it is often useful to set the number of workers equal to the number of available CPU cores, even though that means one process will have to do a little more work than the others.  We'll try both below.\n",
    "\n",
    "### Loading Packages and modules\n",
    "\n",
    "Now, that we have loaded the `Distributed` package, we can use the functions and macros that it provides to start code and packages that we want to use during this exercise onto the other processes.  Unlike when we were using multi-threading, with distributed computing each worker has its own chunk of memory and the programmer can control whether code is to be loaded on every process or just one/some.  \n",
    "But before we load packages onto worker processes, we need to make sure that each worker is using the same environment (i.e., knows which versions of which packages should be avaliable).  We'll do that by telling each worker to activate the same environment, as specificed in the lab's `Project.toml` file.  \n",
    "In this case, we don't need to install or instantiate on each worker, since we already installed them above, and on ICDS-ACI, each worker have access to the same filesystem.  (We also signal that workers should not attempt to update the Julia package registry.  Asking multiple processes to try to update the reigstry at once would be annoyingly slow (and I worry that it might even cause your Julia depot to get messed up).)"
   ]
  },
  {
   "cell_type": "code",
   "execution_count": 9,
   "metadata": {},
   "outputs": [
    {
     "name": "stderr",
     "output_type": "stream",
     "text": [
      "\u001b[32m\u001b[1m  Activating\u001b[22m\u001b[39m environment at `/storage/home/e/ebf11/Teach/Astro528/Fall2021/lab6-start/Project.toml`\n"
     ]
    },
    {
     "name": "stdout",
     "output_type": "stream",
     "text": [
      "      From worker 3:\t\u001b[32m\u001b[1m  Activating\u001b[22m\u001b[39m environment at `/storage/home/e/ebf11/Teach/Astro528/Fall2021/lab6-start/Project.toml`\n",
      "      From worker 4:\t\u001b[32m\u001b[1m  Activating\u001b[22m\u001b[39m environment at `/storage/home/e/ebf11/Teach/Astro528/Fall2021/lab6-start/Project.toml`\n",
      "      From worker 2:\t\u001b[32m\u001b[1m  Activating\u001b[22m\u001b[39m environment at `/storage/home/e/ebf11/Teach/Astro528/Fall2021/lab6-start/Project.toml`\n"
     ]
    }
   ],
   "source": [
    "@everywhere using Pkg\n",
    "@everywhere Pkg.UPDATED_REGISTRY_THIS_SESSION[] = true\n",
    "@everywhere Pkg.activate(\".\")"
   ]
  },
  {
   "cell_type": "markdown",
   "metadata": {},
   "source": [
    "Next, we want the packages that we plan to use for our computations below to be loaded and in scope on each worker.  In order to make sure that we don't trigger multiple worker processes trying to precompile packages at once, we'll first have the delegator process precompile all the packages used in this exercise. "
   ]
  },
  {
   "cell_type": "code",
   "execution_count": 10,
   "metadata": {},
   "outputs": [],
   "source": [
    "Pkg.precompile()"
   ]
  },
  {
   "cell_type": "markdown",
   "metadata": {},
   "source": [
    "Again, we'll use the `@everywhere` macro in front of the `using` statement to load packages on both the delegator and worker processes.  "
   ]
  },
  {
   "cell_type": "code",
   "execution_count": 11,
   "metadata": {},
   "outputs": [],
   "source": [
    "@everywhere using Distributions "
   ]
  },
  {
   "cell_type": "markdown",
   "metadata": {
    "tags": []
   },
   "source": [
    "Typing `@everywhere` in front of every line of code would get very annoying fast.  So it's better to put the common code that you want every worker to load into a separate file (and even better is to organize the code into one or more modules or packages).  Then, we can load a whole bunch of functions that we'll want to use with one line.\n",
    "In this exercise, we'll load the same code as in exercise 1 of this lab.  (As before, you don't need to review all the code in `src` unless you find it interesting or useful to see the programming patterns being demonstrated.)  The main difference in this exercise is that we'll include the file `src/lab6.jl` instead of the file `model_spectrum.jl`. `lab6.jl` includes the code from `model_spectrum.jl` (and the other files that it includes) and wraps them in a module named `lab6`.  (In contrast, Pluto's `ingredients` command automatically wraps code from a file into a module and returns it, so that Pluto can keep track of dependancies, which it needs to do to make a reactive notebook.)  \n",
    "We preface the `include` with `@everywhere`, since we want all of the processors to be able to make use of these function and types."
   ]
  },
  {
   "cell_type": "code",
   "execution_count": 12,
   "metadata": {},
   "outputs": [],
   "source": [
    "@everywhere include(\"src/lab6.jl\")"
   ]
  },
  {
   "cell_type": "markdown",
   "metadata": {},
   "source": [
    "Now, we'll bring that module into scope.  Note that since this is not a package, we need to include a `.` to tell Julia that it can the module in the current namespace, rather than needing to load a package."
   ]
  },
  {
   "cell_type": "code",
   "execution_count": 13,
   "metadata": {},
   "outputs": [],
   "source": [
    "using .lab6"
   ]
  },
  {
   "cell_type": "markdown",
   "metadata": {},
   "source": [
    "### Initialize data to be analyzed\n",
    "In this exercise, we're going to create a model spectrum consisting of continuum, stellar absorption lines, telluric absorption lines.  \n",
    "The `ModelSpectrum` module provides a `SimulatedSpectrum` type, but we'll need to initialize a variable with some specific parameter values.  The function will do that for us."
   ]
  },
  {
   "cell_type": "code",
   "execution_count": 14,
   "metadata": {},
   "outputs": [
    {
     "data": {
      "text/plain": [
       "make_spectrum_object"
      ]
     },
     "execution_count": 14,
     "metadata": {},
     "output_type": "execute_result"
    }
   ],
   "source": [
    "\"Create an object that provides a model for the raw spetrum (i.e., before entering the telescope)\"\n",
    "function make_spectrum_object(;lambda_min = 4500, lambda_max = 7500, flux_scale = 1.0,\n",
    "        num_star_lines = 200, num_telluric_lines = 100, limit_line_effect = 10.0)\n",
    "\n",
    "    continuum_param = flux_scale .* [1.0, 1e-5, -2e-8]\n",
    "    \n",
    "    star_line_locs = rand(Uniform(lambda_min,lambda_max),num_star_lines)\n",
    "    star_line_widths = fill(1.0,num_star_lines)\n",
    "    star_line_depths = rand(Uniform(0,1.0),num_star_lines)\n",
    "    \n",
    "    telluric_line_locs = rand(Uniform(lambda_min,lambda_max),num_telluric_lines)\n",
    "    telluric_line_widths = fill(0.2,num_telluric_lines)\n",
    "    telluric_line_depths = rand(Uniform(0,0.4),num_telluric_lines)\n",
    "\n",
    "    SimulatedSpectrum(star_line_locs,star_line_widths,star_line_depths,telluric_line_locs,telluric_line_widths,telluric_line_depths,continuum_param=continuum_param,lambda_mid=0.5*(lambda_min+lambda_max),limit_line_effect=limit_line_effect)\n",
    "end"
   ]
  },
  {
   "cell_type": "markdown",
   "metadata": {},
   "source": [
    "Next, we: \n",
    "1. create a set of wavelengths to observe the spectrum at, \n",
    "2. call the function above to create a spectrum object, \n",
    "3. create an object containing a model for the point spread function, and \n",
    "4. create an object that can compute the convolution of our spectral model with the point spread function model."
   ]
  },
  {
   "cell_type": "code",
   "execution_count": 15,
   "metadata": {},
   "outputs": [
    {
     "data": {
      "text/plain": [
       "ConvolvedSpectrum{SimulatedSpectrum{Float64, Float64, Float64, Float64, Float64, Float64, Float64, Float64, Float64}, GaussianMixtureConvolutionKernel{Float64, Float64}}(SimulatedSpectrum{Float64, Float64, Float64, Float64, Float64, Float64, Float64, Float64, Float64}([5488.267825793544, 5511.888405043832, 5736.366291542665, 5704.439840224283, 5323.186074337256, 5248.872606787122, 5074.929789996959, 5376.14388978225, 5217.818263369708, 5326.136967173288  …  5364.334837068857, 5619.46975505717, 5612.864431057814, 5559.751338080999, 5208.338939107042, 5363.273977534414, 5776.98278032224, 5561.548549371528, 5795.179044351849, 5187.152569485664], [1.0, 1.0, 1.0, 1.0, 1.0, 1.0, 1.0, 1.0, 1.0, 1.0  …  1.0, 1.0, 1.0, 1.0, 1.0, 1.0, 1.0, 1.0, 1.0, 1.0], [0.10286226840105162, 0.45995355130440285, 0.5918379078999765, 0.9470092064610041, 0.04030317141091899, 0.15134950878106013, 0.7399917654578803, 0.5589171866276614, 0.5324541005997911, 0.2738419431350201  …  0.48693456893242026, 0.9154476511376253, 0.8104372778969426, 0.5254633080515212, 0.09517690104645471, 0.1649439377802675, 0.31075922075693607, 0.4136643494794183, 0.4389560600685041, 0.04935997251007751], [5113.515911384477, 5119.614620181935, 5516.118931511924, 5114.217203598987, 5487.824445866941, 5176.611572984252, 5963.267442631865, 5848.894233191664, 5128.379731066021, 5818.381226046608  …  5172.081599400605, 5208.204052540036, 5642.783085784491, 5215.782824523355, 5628.401830620257, 5079.209980449799, 5958.91713579543, 5525.139169440068, 5277.222625712991, 5635.549123475147], [0.2, 0.2, 0.2, 0.2, 0.2, 0.2, 0.2, 0.2, 0.2, 0.2  …  0.2, 0.2, 0.2, 0.2, 0.2, 0.2, 0.2, 0.2, 0.2, 0.2], [0.20594484640135874, 0.11108767947544838, 0.027587947218190936, 0.16808274608662055, 0.1547298991445552, 0.2738007326623829, 0.14724046847365538, 0.17775833062929927, 0.3180467080077956, 0.07983737940056122  …  0.09300531727212419, 0.2082285341926422, 0.2759484091382592, 0.32180957025981166, 0.25494968945599095, 0.10389496821599745, 0.0821671139975516, 0.29739082180705084, 0.14703812029078653, 0.21954157729928855], [1.0, 1.0e-5, -2.0e-8], 0.0, 5500.0, 10.0), GaussianMixtureConvolutionKernel{Float64, Float64}(Normal{Float64}[Normal{Float64}(μ=0.0, σ=0.5), Normal{Float64}(μ=0.0, σ=1.0), Normal{Float64}(μ=0.0, σ=2.0)], [0.8, 0.15, 0.05], 1.0000000143325827, 10.0), 10.0)"
      ]
     },
     "execution_count": 15,
     "metadata": {},
     "output_type": "execute_result"
    }
   ],
   "source": [
    "# 1.  Pick range of of wavelength to work on.\n",
    "lambda_min = 5000\n",
    "lambda_max = 6000\n",
    "# You may want to adjust the num_lambda to make things more/less computationally intensive\n",
    "num_lambda = 8*1024\n",
    "lambdas = collect(range(lambda_min,stop=lambda_max, length=num_lambda));\n",
    "\n",
    "# 2.  Create a model  spectrum that we'll analyze below\n",
    "raw_spectrum = make_spectrum_object(lambda_min=lambda_min,lambda_max=lambda_max)\n",
    "\n",
    "# 3.  Create a model for the point spread function (PSF)\n",
    "psf_widths  = [0.5, 1.0, 2.0]\n",
    "psf_weights = [0.8, 0.15, 0.05]\n",
    "psf_model = GaussianMixtureConvolutionKernel(psf_widths,psf_weights)\n",
    "\n",
    "# 4. Create a model for the the convolution of thte raw spectrum with the PDF model\n",
    "conv_spectrum = ConvolvedSpectrum(raw_spectrum,psf_model)"
   ]
  },
  {
   "cell_type": "code",
   "execution_count": 16,
   "metadata": {},
   "outputs": [],
   "source": [
    "result_ref = conv_spectrum.(lambdas);"
   ]
  },
  {
   "cell_type": "markdown",
   "metadata": {},
   "source": [
    "### Visualize what we've created\n",
    "\n",
    "This is very similar to exercise 1.  If you'd like to plot the raw spectrum and the convolved spectrum to see what's going on, there's some plotting code below.  The cells with plots below require that you first load the `Plots` package.  If you are confident you know what it looks like, then you can save some time, by not loading the Plots package.\n",
    "If you'd like to plot the spectrum model we'll be generating, then let go ahead and load the plots package now.\n",
    "Since we don't need the worker processes to plot things, we don't need to load the Plots code on all the worker processes.  "
   ]
  },
  {
   "cell_type": "code",
   "execution_count": 17,
   "metadata": {
    "tags": []
   },
   "outputs": [],
   "source": [
    "using Plots"
   ]
  },
  {
   "cell_type": "code",
   "execution_count": 18,
   "metadata": {},
   "outputs": [
    {
     "data": {
      "image/svg+xml": [
       "<?xml version=\"1.0\" encoding=\"utf-8\"?>\n",
       "<svg xmlns=\"http://www.w3.org/2000/svg\" xmlns:xlink=\"http://www.w3.org/1999/xlink\" width=\"600\" height=\"400\" viewBox=\"0 0 2400 1600\">\n",
       "<defs>\n",
       "  <clipPath id=\"clip510\">\n",
       "    <rect x=\"0\" y=\"0\" width=\"2400\" height=\"1600\"/>\n",
       "  </clipPath>\n",
       "</defs>\n",
       "<path clip-path=\"url(#clip510)\" d=\"\n",
       "M0 1600 L2400 1600 L2400 0 L0 0  Z\n",
       "  \" fill=\"#ffffff\" fill-rule=\"evenodd\" fill-opacity=\"1\"/>\n",
       "<defs>\n",
       "  <clipPath id=\"clip511\">\n",
       "    <rect x=\"480\" y=\"0\" width=\"1681\" height=\"1600\"/>\n",
       "  </clipPath>\n",
       "</defs>\n",
       "<path clip-path=\"url(#clip510)\" d=\"\n",
       "M249.542 1423.18 L2352.76 1423.18 L2352.76 47.2441 L249.542 47.2441  Z\n",
       "  \" fill=\"#ffffff\" fill-rule=\"evenodd\" fill-opacity=\"1\"/>\n",
       "<defs>\n",
       "  <clipPath id=\"clip512\">\n",
       "    <rect x=\"249\" y=\"47\" width=\"2104\" height=\"1377\"/>\n",
       "  </clipPath>\n",
       "</defs>\n",
       "<polyline clip-path=\"url(#clip512)\" style=\"stroke:#000000; stroke-linecap:butt; stroke-linejoin:round; stroke-width:2; stroke-opacity:0.1; fill:none\" points=\"\n",
       "  309.067,1423.18 309.067,47.2441 \n",
       "  \"/>\n",
       "<polyline clip-path=\"url(#clip512)\" style=\"stroke:#000000; stroke-linecap:butt; stroke-linejoin:round; stroke-width:2; stroke-opacity:0.1; fill:none\" points=\"\n",
       "  805.108,1423.18 805.108,47.2441 \n",
       "  \"/>\n",
       "<polyline clip-path=\"url(#clip512)\" style=\"stroke:#000000; stroke-linecap:butt; stroke-linejoin:round; stroke-width:2; stroke-opacity:0.1; fill:none\" points=\"\n",
       "  1301.15,1423.18 1301.15,47.2441 \n",
       "  \"/>\n",
       "<polyline clip-path=\"url(#clip512)\" style=\"stroke:#000000; stroke-linecap:butt; stroke-linejoin:round; stroke-width:2; stroke-opacity:0.1; fill:none\" points=\"\n",
       "  1797.19,1423.18 1797.19,47.2441 \n",
       "  \"/>\n",
       "<polyline clip-path=\"url(#clip512)\" style=\"stroke:#000000; stroke-linecap:butt; stroke-linejoin:round; stroke-width:2; stroke-opacity:0.1; fill:none\" points=\"\n",
       "  2293.23,1423.18 2293.23,47.2441 \n",
       "  \"/>\n",
       "<polyline clip-path=\"url(#clip510)\" style=\"stroke:#000000; stroke-linecap:butt; stroke-linejoin:round; stroke-width:4; stroke-opacity:1; fill:none\" points=\"\n",
       "  249.542,1423.18 2352.76,1423.18 \n",
       "  \"/>\n",
       "<polyline clip-path=\"url(#clip510)\" style=\"stroke:#000000; stroke-linecap:butt; stroke-linejoin:round; stroke-width:4; stroke-opacity:1; fill:none\" points=\"\n",
       "  309.067,1423.18 309.067,1404.28 \n",
       "  \"/>\n",
       "<polyline clip-path=\"url(#clip510)\" style=\"stroke:#000000; stroke-linecap:butt; stroke-linejoin:round; stroke-width:4; stroke-opacity:1; fill:none\" points=\"\n",
       "  805.108,1423.18 805.108,1404.28 \n",
       "  \"/>\n",
       "<polyline clip-path=\"url(#clip510)\" style=\"stroke:#000000; stroke-linecap:butt; stroke-linejoin:round; stroke-width:4; stroke-opacity:1; fill:none\" points=\"\n",
       "  1301.15,1423.18 1301.15,1404.28 \n",
       "  \"/>\n",
       "<polyline clip-path=\"url(#clip510)\" style=\"stroke:#000000; stroke-linecap:butt; stroke-linejoin:round; stroke-width:4; stroke-opacity:1; fill:none\" points=\"\n",
       "  1797.19,1423.18 1797.19,1404.28 \n",
       "  \"/>\n",
       "<polyline clip-path=\"url(#clip510)\" style=\"stroke:#000000; stroke-linecap:butt; stroke-linejoin:round; stroke-width:4; stroke-opacity:1; fill:none\" points=\"\n",
       "  2293.23,1423.18 2293.23,1404.28 \n",
       "  \"/>\n",
       "<path clip-path=\"url(#clip510)\" d=\"M253.604 1451.02 L271.961 1451.02 L271.961 1454.96 L257.887 1454.96 L257.887 1463.43 Q258.905 1463.08 259.924 1462.92 Q260.942 1462.73 261.961 1462.73 Q267.748 1462.73 271.127 1465.9 Q274.507 1469.08 274.507 1474.49 Q274.507 1480.07 271.035 1483.17 Q267.563 1486.25 261.243 1486.25 Q259.067 1486.25 256.799 1485.88 Q254.553 1485.51 252.146 1484.77 L252.146 1480.07 Q254.229 1481.2 256.451 1481.76 Q258.674 1482.32 261.151 1482.32 Q265.155 1482.32 267.493 1480.21 Q269.831 1478.1 269.831 1474.49 Q269.831 1470.88 267.493 1468.77 Q265.155 1466.67 261.151 1466.67 Q259.276 1466.67 257.401 1467.08 Q255.549 1467.5 253.604 1468.38 L253.604 1451.02 Z\" fill=\"#000000\" fill-rule=\"evenodd\" fill-opacity=\"1\" /><path clip-path=\"url(#clip510)\" d=\"M293.72 1454.1 Q290.109 1454.1 288.28 1457.66 Q286.474 1461.2 286.474 1468.33 Q286.474 1475.44 288.28 1479.01 Q290.109 1482.55 293.72 1482.55 Q297.354 1482.55 299.16 1479.01 Q300.988 1475.44 300.988 1468.33 Q300.988 1461.2 299.16 1457.66 Q297.354 1454.1 293.72 1454.1 M293.72 1450.39 Q299.53 1450.39 302.586 1455 Q305.664 1459.58 305.664 1468.33 Q305.664 1477.06 302.586 1481.67 Q299.53 1486.25 293.72 1486.25 Q287.91 1486.25 284.831 1481.67 Q281.775 1477.06 281.775 1468.33 Q281.775 1459.58 284.831 1455 Q287.91 1450.39 293.72 1450.39 Z\" fill=\"#000000\" fill-rule=\"evenodd\" fill-opacity=\"1\" /><path clip-path=\"url(#clip510)\" d=\"M323.882 1454.1 Q320.271 1454.1 318.442 1457.66 Q316.636 1461.2 316.636 1468.33 Q316.636 1475.44 318.442 1479.01 Q320.271 1482.55 323.882 1482.55 Q327.516 1482.55 329.321 1479.01 Q331.15 1475.44 331.15 1468.33 Q331.15 1461.2 329.321 1457.66 Q327.516 1454.1 323.882 1454.1 M323.882 1450.39 Q329.692 1450.39 332.747 1455 Q335.826 1459.58 335.826 1468.33 Q335.826 1477.06 332.747 1481.67 Q329.692 1486.25 323.882 1486.25 Q318.072 1486.25 314.993 1481.67 Q311.937 1477.06 311.937 1468.33 Q311.937 1459.58 314.993 1455 Q318.072 1450.39 323.882 1450.39 Z\" fill=\"#000000\" fill-rule=\"evenodd\" fill-opacity=\"1\" /><path clip-path=\"url(#clip510)\" d=\"M354.044 1454.1 Q350.432 1454.1 348.604 1457.66 Q346.798 1461.2 346.798 1468.33 Q346.798 1475.44 348.604 1479.01 Q350.432 1482.55 354.044 1482.55 Q357.678 1482.55 359.483 1479.01 Q361.312 1475.44 361.312 1468.33 Q361.312 1461.2 359.483 1457.66 Q357.678 1454.1 354.044 1454.1 M354.044 1450.39 Q359.854 1450.39 362.909 1455 Q365.988 1459.58 365.988 1468.33 Q365.988 1477.06 362.909 1481.67 Q359.854 1486.25 354.044 1486.25 Q348.233 1486.25 345.155 1481.67 Q342.099 1477.06 342.099 1468.33 Q342.099 1459.58 345.155 1455 Q348.233 1450.39 354.044 1450.39 Z\" fill=\"#000000\" fill-rule=\"evenodd\" fill-opacity=\"1\" /><path clip-path=\"url(#clip510)\" d=\"M749.645 1451.02 L768.002 1451.02 L768.002 1454.96 L753.928 1454.96 L753.928 1463.43 Q754.946 1463.08 755.965 1462.92 Q756.983 1462.73 758.002 1462.73 Q763.789 1462.73 767.168 1465.9 Q770.548 1469.08 770.548 1474.49 Q770.548 1480.07 767.076 1483.17 Q763.604 1486.25 757.284 1486.25 Q755.108 1486.25 752.84 1485.88 Q750.594 1485.51 748.187 1484.77 L748.187 1480.07 Q750.27 1481.2 752.493 1481.76 Q754.715 1482.32 757.192 1482.32 Q761.196 1482.32 763.534 1480.21 Q765.872 1478.1 765.872 1474.49 Q765.872 1470.88 763.534 1468.77 Q761.196 1466.67 757.192 1466.67 Q755.317 1466.67 753.442 1467.08 Q751.59 1467.5 749.645 1468.38 L749.645 1451.02 Z\" fill=\"#000000\" fill-rule=\"evenodd\" fill-opacity=\"1\" /><path clip-path=\"url(#clip510)\" d=\"M783.789 1481.64 L800.108 1481.64 L800.108 1485.58 L778.164 1485.58 L778.164 1481.64 Q780.826 1478.89 785.409 1474.26 Q790.015 1469.61 791.196 1468.27 Q793.441 1465.74 794.321 1464.01 Q795.224 1462.25 795.224 1460.56 Q795.224 1457.8 793.279 1456.07 Q791.358 1454.33 788.256 1454.33 Q786.057 1454.33 783.603 1455.09 Q781.173 1455.86 778.395 1457.41 L778.395 1452.69 Q781.219 1451.55 783.673 1450.97 Q786.127 1450.39 788.164 1450.39 Q793.534 1450.39 796.728 1453.08 Q799.923 1455.77 799.923 1460.26 Q799.923 1462.39 799.113 1464.31 Q798.326 1466.2 796.219 1468.8 Q795.64 1469.47 792.539 1472.69 Q789.437 1475.88 783.789 1481.64 Z\" fill=\"#000000\" fill-rule=\"evenodd\" fill-opacity=\"1\" /><path clip-path=\"url(#clip510)\" d=\"M809.969 1451.02 L828.325 1451.02 L828.325 1454.96 L814.251 1454.96 L814.251 1463.43 Q815.27 1463.08 816.288 1462.92 Q817.307 1462.73 818.325 1462.73 Q824.112 1462.73 827.492 1465.9 Q830.872 1469.08 830.872 1474.49 Q830.872 1480.07 827.4 1483.17 Q823.927 1486.25 817.608 1486.25 Q815.432 1486.25 813.163 1485.88 Q810.918 1485.51 808.511 1484.77 L808.511 1480.07 Q810.594 1481.2 812.816 1481.76 Q815.038 1482.32 817.515 1482.32 Q821.52 1482.32 823.858 1480.21 Q826.196 1478.1 826.196 1474.49 Q826.196 1470.88 823.858 1468.77 Q821.52 1466.67 817.515 1466.67 Q815.64 1466.67 813.765 1467.08 Q811.913 1467.5 809.969 1468.38 L809.969 1451.02 Z\" fill=\"#000000\" fill-rule=\"evenodd\" fill-opacity=\"1\" /><path clip-path=\"url(#clip510)\" d=\"M850.085 1454.1 Q846.473 1454.1 844.645 1457.66 Q842.839 1461.2 842.839 1468.33 Q842.839 1475.44 844.645 1479.01 Q846.473 1482.55 850.085 1482.55 Q853.719 1482.55 855.524 1479.01 Q857.353 1475.44 857.353 1468.33 Q857.353 1461.2 855.524 1457.66 Q853.719 1454.1 850.085 1454.1 M850.085 1450.39 Q855.895 1450.39 858.95 1455 Q862.029 1459.58 862.029 1468.33 Q862.029 1477.06 858.95 1481.67 Q855.895 1486.25 850.085 1486.25 Q844.274 1486.25 841.196 1481.67 Q838.14 1477.06 838.14 1468.33 Q838.14 1459.58 841.196 1455 Q844.274 1450.39 850.085 1450.39 Z\" fill=\"#000000\" fill-rule=\"evenodd\" fill-opacity=\"1\" /><path clip-path=\"url(#clip510)\" d=\"M1245.69 1451.02 L1264.04 1451.02 L1264.04 1454.96 L1249.97 1454.96 L1249.97 1463.43 Q1250.99 1463.08 1252.01 1462.92 Q1253.02 1462.73 1254.04 1462.73 Q1259.83 1462.73 1263.21 1465.9 Q1266.59 1469.08 1266.59 1474.49 Q1266.59 1480.07 1263.12 1483.17 Q1259.64 1486.25 1253.33 1486.25 Q1251.15 1486.25 1248.88 1485.88 Q1246.64 1485.51 1244.23 1484.77 L1244.23 1480.07 Q1246.31 1481.2 1248.53 1481.76 Q1250.76 1482.32 1253.23 1482.32 Q1257.24 1482.32 1259.58 1480.21 Q1261.91 1478.1 1261.91 1474.49 Q1261.91 1470.88 1259.58 1468.77 Q1257.24 1466.67 1253.23 1466.67 Q1251.36 1466.67 1249.48 1467.08 Q1247.63 1467.5 1245.69 1468.38 L1245.69 1451.02 Z\" fill=\"#000000\" fill-rule=\"evenodd\" fill-opacity=\"1\" /><path clip-path=\"url(#clip510)\" d=\"M1275.85 1451.02 L1294.2 1451.02 L1294.2 1454.96 L1280.13 1454.96 L1280.13 1463.43 Q1281.15 1463.08 1282.17 1462.92 Q1283.19 1462.73 1284.2 1462.73 Q1289.99 1462.73 1293.37 1465.9 Q1296.75 1469.08 1296.75 1474.49 Q1296.75 1480.07 1293.28 1483.17 Q1289.81 1486.25 1283.49 1486.25 Q1281.31 1486.25 1279.04 1485.88 Q1276.8 1485.51 1274.39 1484.77 L1274.39 1480.07 Q1276.47 1481.2 1278.7 1481.76 Q1280.92 1482.32 1283.39 1482.32 Q1287.4 1482.32 1289.74 1480.21 Q1292.07 1478.1 1292.07 1474.49 Q1292.07 1470.88 1289.74 1468.77 Q1287.4 1466.67 1283.39 1466.67 Q1281.52 1466.67 1279.64 1467.08 Q1277.79 1467.5 1275.85 1468.38 L1275.85 1451.02 Z\" fill=\"#000000\" fill-rule=\"evenodd\" fill-opacity=\"1\" /><path clip-path=\"url(#clip510)\" d=\"M1315.96 1454.1 Q1312.35 1454.1 1310.52 1457.66 Q1308.72 1461.2 1308.72 1468.33 Q1308.72 1475.44 1310.52 1479.01 Q1312.35 1482.55 1315.96 1482.55 Q1319.6 1482.55 1321.4 1479.01 Q1323.23 1475.44 1323.23 1468.33 Q1323.23 1461.2 1321.4 1457.66 Q1319.6 1454.1 1315.96 1454.1 M1315.96 1450.39 Q1321.77 1450.39 1324.83 1455 Q1327.91 1459.58 1327.91 1468.33 Q1327.91 1477.06 1324.83 1481.67 Q1321.77 1486.25 1315.96 1486.25 Q1310.15 1486.25 1307.07 1481.67 Q1304.02 1477.06 1304.02 1468.33 Q1304.02 1459.58 1307.07 1455 Q1310.15 1450.39 1315.96 1450.39 Z\" fill=\"#000000\" fill-rule=\"evenodd\" fill-opacity=\"1\" /><path clip-path=\"url(#clip510)\" d=\"M1346.13 1454.1 Q1342.51 1454.1 1340.69 1457.66 Q1338.88 1461.2 1338.88 1468.33 Q1338.88 1475.44 1340.69 1479.01 Q1342.51 1482.55 1346.13 1482.55 Q1349.76 1482.55 1351.57 1479.01 Q1353.39 1475.44 1353.39 1468.33 Q1353.39 1461.2 1351.57 1457.66 Q1349.76 1454.1 1346.13 1454.1 M1346.13 1450.39 Q1351.94 1450.39 1354.99 1455 Q1358.07 1459.58 1358.07 1468.33 Q1358.07 1477.06 1354.99 1481.67 Q1351.94 1486.25 1346.13 1486.25 Q1340.32 1486.25 1337.24 1481.67 Q1334.18 1477.06 1334.18 1468.33 Q1334.18 1459.58 1337.24 1455 Q1340.32 1450.39 1346.13 1450.39 Z\" fill=\"#000000\" fill-rule=\"evenodd\" fill-opacity=\"1\" /><path clip-path=\"url(#clip510)\" d=\"M1741.73 1451.02 L1760.08 1451.02 L1760.08 1454.96 L1746.01 1454.96 L1746.01 1463.43 Q1747.03 1463.08 1748.05 1462.92 Q1749.07 1462.73 1750.08 1462.73 Q1755.87 1462.73 1759.25 1465.9 Q1762.63 1469.08 1762.63 1474.49 Q1762.63 1480.07 1759.16 1483.17 Q1755.69 1486.25 1749.37 1486.25 Q1747.19 1486.25 1744.92 1485.88 Q1742.68 1485.51 1740.27 1484.77 L1740.27 1480.07 Q1742.35 1481.2 1744.57 1481.76 Q1746.8 1482.32 1749.27 1482.32 Q1753.28 1482.32 1755.62 1480.21 Q1757.95 1478.1 1757.95 1474.49 Q1757.95 1470.88 1755.62 1468.77 Q1753.28 1466.67 1749.27 1466.67 Q1747.4 1466.67 1745.52 1467.08 Q1743.67 1467.5 1741.73 1468.38 L1741.73 1451.02 Z\" fill=\"#000000\" fill-rule=\"evenodd\" fill-opacity=\"1\" /><path clip-path=\"url(#clip510)\" d=\"M1770.66 1451.02 L1792.88 1451.02 L1792.88 1453.01 L1780.34 1485.58 L1775.45 1485.58 L1787.26 1454.96 L1770.66 1454.96 L1770.66 1451.02 Z\" fill=\"#000000\" fill-rule=\"evenodd\" fill-opacity=\"1\" /><path clip-path=\"url(#clip510)\" d=\"M1802.05 1451.02 L1820.41 1451.02 L1820.41 1454.96 L1806.33 1454.96 L1806.33 1463.43 Q1807.35 1463.08 1808.37 1462.92 Q1809.39 1462.73 1810.41 1462.73 Q1816.19 1462.73 1819.57 1465.9 Q1822.95 1469.08 1822.95 1474.49 Q1822.95 1480.07 1819.48 1483.17 Q1816.01 1486.25 1809.69 1486.25 Q1807.51 1486.25 1805.25 1485.88 Q1803 1485.51 1800.59 1484.77 L1800.59 1480.07 Q1802.68 1481.2 1804.9 1481.76 Q1807.12 1482.32 1809.6 1482.32 Q1813.6 1482.32 1815.94 1480.21 Q1818.28 1478.1 1818.28 1474.49 Q1818.28 1470.88 1815.94 1468.77 Q1813.6 1466.67 1809.6 1466.67 Q1807.72 1466.67 1805.85 1467.08 Q1804 1467.5 1802.05 1468.38 L1802.05 1451.02 Z\" fill=\"#000000\" fill-rule=\"evenodd\" fill-opacity=\"1\" /><path clip-path=\"url(#clip510)\" d=\"M1842.17 1454.1 Q1838.56 1454.1 1836.73 1457.66 Q1834.92 1461.2 1834.92 1468.33 Q1834.92 1475.44 1836.73 1479.01 Q1838.56 1482.55 1842.17 1482.55 Q1845.8 1482.55 1847.61 1479.01 Q1849.44 1475.44 1849.44 1468.33 Q1849.44 1461.2 1847.61 1457.66 Q1845.8 1454.1 1842.17 1454.1 M1842.17 1450.39 Q1847.98 1450.39 1851.03 1455 Q1854.11 1459.58 1854.11 1468.33 Q1854.11 1477.06 1851.03 1481.67 Q1847.98 1486.25 1842.17 1486.25 Q1836.36 1486.25 1833.28 1481.67 Q1830.22 1477.06 1830.22 1468.33 Q1830.22 1459.58 1833.28 1455 Q1836.36 1450.39 1842.17 1450.39 Z\" fill=\"#000000\" fill-rule=\"evenodd\" fill-opacity=\"1\" /><path clip-path=\"url(#clip510)\" d=\"M2248.47 1466.44 Q2245.33 1466.44 2243.47 1468.59 Q2241.65 1470.74 2241.65 1474.49 Q2241.65 1478.22 2243.47 1480.39 Q2245.33 1482.55 2248.47 1482.55 Q2251.62 1482.55 2253.45 1480.39 Q2255.3 1478.22 2255.3 1474.49 Q2255.3 1470.74 2253.45 1468.59 Q2251.62 1466.44 2248.47 1466.44 M2257.76 1451.78 L2257.76 1456.04 Q2256 1455.21 2254.19 1454.77 Q2252.41 1454.33 2250.65 1454.33 Q2246.02 1454.33 2243.57 1457.45 Q2241.14 1460.58 2240.79 1466.9 Q2242.15 1464.89 2244.22 1463.82 Q2246.28 1462.73 2248.75 1462.73 Q2253.96 1462.73 2256.97 1465.9 Q2260 1469.05 2260 1474.49 Q2260 1479.82 2256.85 1483.03 Q2253.71 1486.25 2248.47 1486.25 Q2242.48 1486.25 2239.31 1481.67 Q2236.14 1477.06 2236.14 1468.33 Q2236.14 1460.14 2240.03 1455.28 Q2243.91 1450.39 2250.47 1450.39 Q2252.22 1450.39 2254.01 1450.74 Q2255.81 1451.09 2257.76 1451.78 Z\" fill=\"#000000\" fill-rule=\"evenodd\" fill-opacity=\"1\" /><path clip-path=\"url(#clip510)\" d=\"M2278.06 1454.1 Q2274.45 1454.1 2272.62 1457.66 Q2270.81 1461.2 2270.81 1468.33 Q2270.81 1475.44 2272.62 1479.01 Q2274.45 1482.55 2278.06 1482.55 Q2281.69 1482.55 2283.5 1479.01 Q2285.33 1475.44 2285.33 1468.33 Q2285.33 1461.2 2283.5 1457.66 Q2281.69 1454.1 2278.06 1454.1 M2278.06 1450.39 Q2283.87 1450.39 2286.92 1455 Q2290 1459.58 2290 1468.33 Q2290 1477.06 2286.92 1481.67 Q2283.87 1486.25 2278.06 1486.25 Q2272.25 1486.25 2269.17 1481.67 Q2266.11 1477.06 2266.11 1468.33 Q2266.11 1459.58 2269.17 1455 Q2272.25 1450.39 2278.06 1450.39 Z\" fill=\"#000000\" fill-rule=\"evenodd\" fill-opacity=\"1\" /><path clip-path=\"url(#clip510)\" d=\"M2308.22 1454.1 Q2304.61 1454.1 2302.78 1457.66 Q2300.97 1461.2 2300.97 1468.33 Q2300.97 1475.44 2302.78 1479.01 Q2304.61 1482.55 2308.22 1482.55 Q2311.85 1482.55 2313.66 1479.01 Q2315.49 1475.44 2315.49 1468.33 Q2315.49 1461.2 2313.66 1457.66 Q2311.85 1454.1 2308.22 1454.1 M2308.22 1450.39 Q2314.03 1450.39 2317.09 1455 Q2320.16 1459.58 2320.16 1468.33 Q2320.16 1477.06 2317.09 1481.67 Q2314.03 1486.25 2308.22 1486.25 Q2302.41 1486.25 2299.33 1481.67 Q2296.27 1477.06 2296.27 1468.33 Q2296.27 1459.58 2299.33 1455 Q2302.41 1450.39 2308.22 1450.39 Z\" fill=\"#000000\" fill-rule=\"evenodd\" fill-opacity=\"1\" /><path clip-path=\"url(#clip510)\" d=\"M2338.38 1454.1 Q2334.77 1454.1 2332.94 1457.66 Q2331.14 1461.2 2331.14 1468.33 Q2331.14 1475.44 2332.94 1479.01 Q2334.77 1482.55 2338.38 1482.55 Q2342.02 1482.55 2343.82 1479.01 Q2345.65 1475.44 2345.65 1468.33 Q2345.65 1461.2 2343.82 1457.66 Q2342.02 1454.1 2338.38 1454.1 M2338.38 1450.39 Q2344.19 1450.39 2347.25 1455 Q2350.33 1459.58 2350.33 1468.33 Q2350.33 1477.06 2347.25 1481.67 Q2344.19 1486.25 2338.38 1486.25 Q2332.57 1486.25 2329.49 1481.67 Q2326.44 1477.06 2326.44 1468.33 Q2326.44 1459.58 2329.49 1455 Q2332.57 1450.39 2338.38 1450.39 Z\" fill=\"#000000\" fill-rule=\"evenodd\" fill-opacity=\"1\" /><path clip-path=\"url(#clip510)\" d=\"M1302.04 1524.09 L1318.5 1568.04 L1312.29 1568.04 L1302.29 1541.69 L1290.01 1568.04 L1283.8 1568.04 L1299.43 1533.86 L1297.07 1527.56 Q1295.58 1523.55 1292.17 1523.55 L1289.12 1523.55 L1289.12 1518.52 L1292.84 1518.58 Q1300.03 1518.68 1302.04 1524.09 Z\" fill=\"#000000\" fill-rule=\"evenodd\" fill-opacity=\"1\" /><polyline clip-path=\"url(#clip512)\" style=\"stroke:#000000; stroke-linecap:butt; stroke-linejoin:round; stroke-width:2; stroke-opacity:0.1; fill:none\" points=\"\n",
       "  249.542,1387.7 2352.76,1387.7 \n",
       "  \"/>\n",
       "<polyline clip-path=\"url(#clip512)\" style=\"stroke:#000000; stroke-linecap:butt; stroke-linejoin:round; stroke-width:2; stroke-opacity:0.1; fill:none\" points=\"\n",
       "  249.542,1062.73 2352.76,1062.73 \n",
       "  \"/>\n",
       "<polyline clip-path=\"url(#clip512)\" style=\"stroke:#000000; stroke-linecap:butt; stroke-linejoin:round; stroke-width:2; stroke-opacity:0.1; fill:none\" points=\"\n",
       "  249.542,737.754 2352.76,737.754 \n",
       "  \"/>\n",
       "<polyline clip-path=\"url(#clip512)\" style=\"stroke:#000000; stroke-linecap:butt; stroke-linejoin:round; stroke-width:2; stroke-opacity:0.1; fill:none\" points=\"\n",
       "  249.542,412.781 2352.76,412.781 \n",
       "  \"/>\n",
       "<polyline clip-path=\"url(#clip512)\" style=\"stroke:#000000; stroke-linecap:butt; stroke-linejoin:round; stroke-width:2; stroke-opacity:0.1; fill:none\" points=\"\n",
       "  249.542,87.8086 2352.76,87.8086 \n",
       "  \"/>\n",
       "<polyline clip-path=\"url(#clip510)\" style=\"stroke:#000000; stroke-linecap:butt; stroke-linejoin:round; stroke-width:4; stroke-opacity:1; fill:none\" points=\"\n",
       "  249.542,1423.18 249.542,47.2441 \n",
       "  \"/>\n",
       "<polyline clip-path=\"url(#clip510)\" style=\"stroke:#000000; stroke-linecap:butt; stroke-linejoin:round; stroke-width:4; stroke-opacity:1; fill:none\" points=\"\n",
       "  249.542,1387.7 268.44,1387.7 \n",
       "  \"/>\n",
       "<polyline clip-path=\"url(#clip510)\" style=\"stroke:#000000; stroke-linecap:butt; stroke-linejoin:round; stroke-width:4; stroke-opacity:1; fill:none\" points=\"\n",
       "  249.542,1062.73 268.44,1062.73 \n",
       "  \"/>\n",
       "<polyline clip-path=\"url(#clip510)\" style=\"stroke:#000000; stroke-linecap:butt; stroke-linejoin:round; stroke-width:4; stroke-opacity:1; fill:none\" points=\"\n",
       "  249.542,737.754 268.44,737.754 \n",
       "  \"/>\n",
       "<polyline clip-path=\"url(#clip510)\" style=\"stroke:#000000; stroke-linecap:butt; stroke-linejoin:round; stroke-width:4; stroke-opacity:1; fill:none\" points=\"\n",
       "  249.542,412.781 268.44,412.781 \n",
       "  \"/>\n",
       "<polyline clip-path=\"url(#clip510)\" style=\"stroke:#000000; stroke-linecap:butt; stroke-linejoin:round; stroke-width:4; stroke-opacity:1; fill:none\" points=\"\n",
       "  249.542,87.8086 268.44,87.8086 \n",
       "  \"/>\n",
       "<path clip-path=\"url(#clip510)\" d=\"M126.205 1373.5 Q122.593 1373.5 120.765 1377.06 Q118.959 1380.6 118.959 1387.73 Q118.959 1394.84 120.765 1398.4 Q122.593 1401.95 126.205 1401.95 Q129.839 1401.95 131.644 1398.4 Q133.473 1394.84 133.473 1387.73 Q133.473 1380.6 131.644 1377.06 Q129.839 1373.5 126.205 1373.5 M126.205 1369.79 Q132.015 1369.79 135.07 1374.4 Q138.149 1378.98 138.149 1387.73 Q138.149 1396.46 135.07 1401.07 Q132.015 1405.65 126.205 1405.65 Q120.394 1405.65 117.316 1401.07 Q114.26 1396.46 114.26 1387.73 Q114.26 1378.98 117.316 1374.4 Q120.394 1369.79 126.205 1369.79 Z\" fill=\"#000000\" fill-rule=\"evenodd\" fill-opacity=\"1\" /><path clip-path=\"url(#clip510)\" d=\"M146.366 1399.1 L151.251 1399.1 L151.251 1404.98 L146.366 1404.98 L146.366 1399.1 Z\" fill=\"#000000\" fill-rule=\"evenodd\" fill-opacity=\"1\" /><path clip-path=\"url(#clip510)\" d=\"M171.436 1373.5 Q167.825 1373.5 165.996 1377.06 Q164.19 1380.6 164.19 1387.73 Q164.19 1394.84 165.996 1398.4 Q167.825 1401.95 171.436 1401.95 Q175.07 1401.95 176.876 1398.4 Q178.704 1394.84 178.704 1387.73 Q178.704 1380.6 176.876 1377.06 Q175.07 1373.5 171.436 1373.5 M171.436 1369.79 Q177.246 1369.79 180.301 1374.4 Q183.38 1378.98 183.38 1387.73 Q183.38 1396.46 180.301 1401.07 Q177.246 1405.65 171.436 1405.65 Q165.626 1405.65 162.547 1401.07 Q159.491 1396.46 159.491 1387.73 Q159.491 1378.98 162.547 1374.4 Q165.626 1369.79 171.436 1369.79 Z\" fill=\"#000000\" fill-rule=\"evenodd\" fill-opacity=\"1\" /><path clip-path=\"url(#clip510)\" d=\"M201.598 1373.5 Q197.987 1373.5 196.158 1377.06 Q194.352 1380.6 194.352 1387.73 Q194.352 1394.84 196.158 1398.4 Q197.987 1401.95 201.598 1401.95 Q205.232 1401.95 207.037 1398.4 Q208.866 1394.84 208.866 1387.73 Q208.866 1380.6 207.037 1377.06 Q205.232 1373.5 201.598 1373.5 M201.598 1369.79 Q207.408 1369.79 210.463 1374.4 Q213.542 1378.98 213.542 1387.73 Q213.542 1396.46 210.463 1401.07 Q207.408 1405.65 201.598 1405.65 Q195.787 1405.65 192.709 1401.07 Q189.653 1396.46 189.653 1387.73 Q189.653 1378.98 192.709 1374.4 Q195.787 1369.79 201.598 1369.79 Z\" fill=\"#000000\" fill-rule=\"evenodd\" fill-opacity=\"1\" /><path clip-path=\"url(#clip510)\" d=\"M127.2 1048.52 Q123.589 1048.52 121.76 1052.09 Q119.955 1055.63 119.955 1062.76 Q119.955 1069.87 121.76 1073.43 Q123.589 1076.97 127.2 1076.97 Q130.834 1076.97 132.64 1073.43 Q134.468 1069.87 134.468 1062.76 Q134.468 1055.63 132.64 1052.09 Q130.834 1048.52 127.2 1048.52 M127.2 1044.82 Q133.01 1044.82 136.066 1049.43 Q139.144 1054.01 139.144 1062.76 Q139.144 1071.49 136.066 1076.09 Q133.01 1080.68 127.2 1080.68 Q121.39 1080.68 118.311 1076.09 Q115.256 1071.49 115.256 1062.76 Q115.256 1054.01 118.311 1049.43 Q121.39 1044.82 127.2 1044.82 Z\" fill=\"#000000\" fill-rule=\"evenodd\" fill-opacity=\"1\" /><path clip-path=\"url(#clip510)\" d=\"M147.362 1074.13 L152.246 1074.13 L152.246 1080.01 L147.362 1080.01 L147.362 1074.13 Z\" fill=\"#000000\" fill-rule=\"evenodd\" fill-opacity=\"1\" /><path clip-path=\"url(#clip510)\" d=\"M166.459 1076.07 L182.778 1076.07 L182.778 1080.01 L160.834 1080.01 L160.834 1076.07 Q163.496 1073.32 168.079 1068.69 Q172.686 1064.03 173.866 1062.69 Q176.112 1060.17 176.991 1058.43 Q177.894 1056.67 177.894 1054.98 Q177.894 1052.23 175.95 1050.49 Q174.028 1048.76 170.927 1048.76 Q168.727 1048.76 166.274 1049.52 Q163.843 1050.28 161.065 1051.84 L161.065 1047.11 Q163.89 1045.98 166.343 1045.4 Q168.797 1044.82 170.834 1044.82 Q176.204 1044.82 179.399 1047.51 Q182.593 1050.19 182.593 1054.68 Q182.593 1056.81 181.783 1058.73 Q180.996 1060.63 178.889 1063.22 Q178.311 1063.9 175.209 1067.11 Q172.107 1070.31 166.459 1076.07 Z\" fill=\"#000000\" fill-rule=\"evenodd\" fill-opacity=\"1\" /><path clip-path=\"url(#clip510)\" d=\"M192.639 1045.45 L210.996 1045.45 L210.996 1049.38 L196.922 1049.38 L196.922 1057.85 Q197.94 1057.51 198.959 1057.34 Q199.977 1057.16 200.996 1057.16 Q206.783 1057.16 210.162 1060.33 Q213.542 1063.5 213.542 1068.92 Q213.542 1074.5 210.07 1077.6 Q206.598 1080.68 200.278 1080.68 Q198.102 1080.68 195.834 1080.31 Q193.588 1079.94 191.181 1079.2 L191.181 1074.5 Q193.264 1075.63 195.487 1076.19 Q197.709 1076.74 200.186 1076.74 Q204.19 1076.74 206.528 1074.64 Q208.866 1072.53 208.866 1068.92 Q208.866 1065.31 206.528 1063.2 Q204.19 1061.09 200.186 1061.09 Q198.311 1061.09 196.436 1061.51 Q194.584 1061.93 192.639 1062.81 L192.639 1045.45 Z\" fill=\"#000000\" fill-rule=\"evenodd\" fill-opacity=\"1\" /><path clip-path=\"url(#clip510)\" d=\"M126.205 723.552 Q122.593 723.552 120.765 727.117 Q118.959 730.659 118.959 737.788 Q118.959 744.895 120.765 748.46 Q122.593 752.001 126.205 752.001 Q129.839 752.001 131.644 748.46 Q133.473 744.895 133.473 737.788 Q133.473 730.659 131.644 727.117 Q129.839 723.552 126.205 723.552 M126.205 719.849 Q132.015 719.849 135.07 724.455 Q138.149 729.038 138.149 737.788 Q138.149 746.515 135.07 751.122 Q132.015 755.705 126.205 755.705 Q120.394 755.705 117.316 751.122 Q114.26 746.515 114.26 737.788 Q114.26 729.038 117.316 724.455 Q120.394 719.849 126.205 719.849 Z\" fill=\"#000000\" fill-rule=\"evenodd\" fill-opacity=\"1\" /><path clip-path=\"url(#clip510)\" d=\"M146.366 749.154 L151.251 749.154 L151.251 755.034 L146.366 755.034 L146.366 749.154 Z\" fill=\"#000000\" fill-rule=\"evenodd\" fill-opacity=\"1\" /><path clip-path=\"url(#clip510)\" d=\"M161.482 720.474 L179.839 720.474 L179.839 724.409 L165.765 724.409 L165.765 732.881 Q166.783 732.534 167.802 732.372 Q168.82 732.187 169.839 732.187 Q175.626 732.187 179.005 735.358 Q182.385 738.529 182.385 743.946 Q182.385 749.524 178.913 752.626 Q175.44 755.705 169.121 755.705 Q166.945 755.705 164.677 755.335 Q162.431 754.964 160.024 754.223 L160.024 749.524 Q162.107 750.659 164.329 751.214 Q166.552 751.77 169.028 751.77 Q173.033 751.77 175.371 749.663 Q177.709 747.557 177.709 743.946 Q177.709 740.335 175.371 738.228 Q173.033 736.122 169.028 736.122 Q167.153 736.122 165.278 736.538 Q163.427 736.955 161.482 737.835 L161.482 720.474 Z\" fill=\"#000000\" fill-rule=\"evenodd\" fill-opacity=\"1\" /><path clip-path=\"url(#clip510)\" d=\"M201.598 723.552 Q197.987 723.552 196.158 727.117 Q194.352 730.659 194.352 737.788 Q194.352 744.895 196.158 748.46 Q197.987 752.001 201.598 752.001 Q205.232 752.001 207.037 748.46 Q208.866 744.895 208.866 737.788 Q208.866 730.659 207.037 727.117 Q205.232 723.552 201.598 723.552 M201.598 719.849 Q207.408 719.849 210.463 724.455 Q213.542 729.038 213.542 737.788 Q213.542 746.515 210.463 751.122 Q207.408 755.705 201.598 755.705 Q195.787 755.705 192.709 751.122 Q189.653 746.515 189.653 737.788 Q189.653 729.038 192.709 724.455 Q195.787 719.849 201.598 719.849 Z\" fill=\"#000000\" fill-rule=\"evenodd\" fill-opacity=\"1\" /><path clip-path=\"url(#clip510)\" d=\"M127.2 398.58 Q123.589 398.58 121.76 402.145 Q119.955 405.686 119.955 412.816 Q119.955 419.922 121.76 423.487 Q123.589 427.029 127.2 427.029 Q130.834 427.029 132.64 423.487 Q134.468 419.922 134.468 412.816 Q134.468 405.686 132.64 402.145 Q130.834 398.58 127.2 398.58 M127.2 394.876 Q133.01 394.876 136.066 399.483 Q139.144 404.066 139.144 412.816 Q139.144 421.543 136.066 426.149 Q133.01 430.732 127.2 430.732 Q121.39 430.732 118.311 426.149 Q115.256 421.543 115.256 412.816 Q115.256 404.066 118.311 399.483 Q121.39 394.876 127.2 394.876 Z\" fill=\"#000000\" fill-rule=\"evenodd\" fill-opacity=\"1\" /><path clip-path=\"url(#clip510)\" d=\"M147.362 424.182 L152.246 424.182 L152.246 430.061 L147.362 430.061 L147.362 424.182 Z\" fill=\"#000000\" fill-rule=\"evenodd\" fill-opacity=\"1\" /><path clip-path=\"url(#clip510)\" d=\"M161.251 395.501 L183.473 395.501 L183.473 397.492 L170.927 430.061 L166.042 430.061 L177.848 399.436 L161.251 399.436 L161.251 395.501 Z\" fill=\"#000000\" fill-rule=\"evenodd\" fill-opacity=\"1\" /><path clip-path=\"url(#clip510)\" d=\"M192.639 395.501 L210.996 395.501 L210.996 399.436 L196.922 399.436 L196.922 407.908 Q197.94 407.561 198.959 407.399 Q199.977 407.214 200.996 407.214 Q206.783 407.214 210.162 410.385 Q213.542 413.557 213.542 418.973 Q213.542 424.552 210.07 427.654 Q206.598 430.732 200.278 430.732 Q198.102 430.732 195.834 430.362 Q193.588 429.992 191.181 429.251 L191.181 424.552 Q193.264 425.686 195.487 426.242 Q197.709 426.797 200.186 426.797 Q204.19 426.797 206.528 424.691 Q208.866 422.584 208.866 418.973 Q208.866 415.362 206.528 413.256 Q204.19 411.149 200.186 411.149 Q198.311 411.149 196.436 411.566 Q194.584 411.983 192.639 412.862 L192.639 395.501 Z\" fill=\"#000000\" fill-rule=\"evenodd\" fill-opacity=\"1\" /><path clip-path=\"url(#clip510)\" d=\"M117.015 101.153 L124.654 101.153 L124.654 74.7878 L116.343 76.4545 L116.343 72.1952 L124.607 70.5286 L129.283 70.5286 L129.283 101.153 L136.922 101.153 L136.922 105.089 L117.015 105.089 L117.015 101.153 Z\" fill=\"#000000\" fill-rule=\"evenodd\" fill-opacity=\"1\" /><path clip-path=\"url(#clip510)\" d=\"M146.366 99.209 L151.251 99.209 L151.251 105.089 L146.366 105.089 L146.366 99.209 Z\" fill=\"#000000\" fill-rule=\"evenodd\" fill-opacity=\"1\" /><path clip-path=\"url(#clip510)\" d=\"M171.436 73.6073 Q167.825 73.6073 165.996 77.172 Q164.19 80.7137 164.19 87.8433 Q164.19 94.9497 165.996 98.5145 Q167.825 102.056 171.436 102.056 Q175.07 102.056 176.876 98.5145 Q178.704 94.9497 178.704 87.8433 Q178.704 80.7137 176.876 77.172 Q175.07 73.6073 171.436 73.6073 M171.436 69.9036 Q177.246 69.9036 180.301 74.51 Q183.38 79.0933 183.38 87.8433 Q183.38 96.5701 180.301 101.177 Q177.246 105.76 171.436 105.76 Q165.626 105.76 162.547 101.177 Q159.491 96.5701 159.491 87.8433 Q159.491 79.0933 162.547 74.51 Q165.626 69.9036 171.436 69.9036 Z\" fill=\"#000000\" fill-rule=\"evenodd\" fill-opacity=\"1\" /><path clip-path=\"url(#clip510)\" d=\"M201.598 73.6073 Q197.987 73.6073 196.158 77.172 Q194.352 80.7137 194.352 87.8433 Q194.352 94.9497 196.158 98.5145 Q197.987 102.056 201.598 102.056 Q205.232 102.056 207.037 98.5145 Q208.866 94.9497 208.866 87.8433 Q208.866 80.7137 207.037 77.172 Q205.232 73.6073 201.598 73.6073 M201.598 69.9036 Q207.408 69.9036 210.463 74.51 Q213.542 79.0933 213.542 87.8433 Q213.542 96.5701 210.463 101.177 Q207.408 105.76 201.598 105.76 Q195.787 105.76 192.709 101.177 Q189.653 96.5701 189.653 87.8433 Q189.653 79.0933 192.709 74.51 Q195.787 69.9036 201.598 69.9036 Z\" fill=\"#000000\" fill-rule=\"evenodd\" fill-opacity=\"1\" /><path clip-path=\"url(#clip510)\" d=\"M16.4842 798.694 L16.4842 771.385 L21.895 771.385 L21.895 792.265 L35.8996 792.265 L35.8996 773.422 L41.3104 773.422 L41.3104 792.265 L64.0042 792.265 L64.0042 798.694 L16.4842 798.694 Z\" fill=\"#000000\" fill-rule=\"evenodd\" fill-opacity=\"1\" /><path clip-path=\"url(#clip510)\" d=\"M14.479 761.455 L14.479 755.598 L64.0042 755.598 L64.0042 761.455 L14.479 761.455 Z\" fill=\"#000000\" fill-rule=\"evenodd\" fill-opacity=\"1\" /><path clip-path=\"url(#clip510)\" d=\"M49.9359 743.949 L28.3562 743.949 L28.3562 738.092 L49.7131 738.092 Q54.7739 738.092 57.3202 736.119 Q59.8346 734.146 59.8346 730.199 Q59.8346 725.457 56.8109 722.719 Q53.7872 719.95 48.5673 719.95 L28.3562 719.95 L28.3562 714.094 L64.0042 714.094 L64.0042 719.95 L58.5296 719.95 Q61.7762 722.083 63.3676 724.915 Q64.9272 727.716 64.9272 731.44 Q64.9272 737.583 61.1078 740.766 Q57.2883 743.949 49.9359 743.949 M27.4968 729.212 L27.4968 729.212 Z\" fill=\"#000000\" fill-rule=\"evenodd\" fill-opacity=\"1\" /><path clip-path=\"url(#clip510)\" d=\"M28.3562 672.398 L45.7028 685.289 L64.0042 671.73 L64.0042 678.637 L49.9996 689.013 L64.0042 699.389 L64.0042 706.296 L45.3526 692.45 L28.3562 705.118 L28.3562 698.211 L41.0558 688.758 L28.3562 679.305 L28.3562 672.398 Z\" fill=\"#000000\" fill-rule=\"evenodd\" fill-opacity=\"1\" /><polyline clip-path=\"url(#clip512)\" style=\"stroke:#009af9; stroke-linecap:butt; stroke-linejoin:round; stroke-width:4; stroke-opacity:1; fill:none\" points=\"\n",
       "  309.067,100.807 309.309,100.803 309.551,100.798 309.794,100.793 310.036,100.788 310.278,100.784 310.52,100.779 310.763,100.775 311.005,100.77 311.247,100.766 \n",
       "  311.489,100.762 311.732,100.759 311.974,100.758 312.216,100.758 312.458,100.763 312.701,100.773 312.943,100.794 313.185,100.83 313.427,100.89 313.669,100.987 \n",
       "  313.912,101.14 314.154,101.374 314.396,101.727 314.638,102.247 314.881,103.003 315.123,104.081 315.365,105.592 315.607,107.677 315.85,110.503 316.092,114.27 \n",
       "  316.334,119.207 316.576,125.564 316.819,133.611 317.061,143.614 317.303,155.828 317.545,170.469 317.787,187.69 318.03,207.555 318.272,230.011 318.514,254.87 \n",
       "  318.756,281.786 318.999,310.252 319.241,339.605 319.483,369.037 319.725,397.634 319.968,424.417 320.21,448.392 320.452,468.617 320.694,484.257 320.937,494.644 \n",
       "  321.179,499.325 321.421,498.092 321.663,491 321.906,478.361 322.148,460.723 322.39,438.827 322.632,413.562 322.874,385.898 323.117,356.83 323.359,327.315 \n",
       "  323.601,298.23 323.843,270.324 324.086,244.198 324.328,220.291 324.57,198.884 324.812,180.106 325.055,163.958 325.297,150.336 325.539,139.06 325.781,129.895 \n",
       "  326.024,122.582 326.266,116.853 326.508,112.451 326.75,109.141 326.992,106.718 327.235,105.014 327.477,103.9 327.719,103.289 327.961,103.139 328.204,103.452 \n",
       "  328.446,104.282 328.688,105.74 328.93,107.996 329.173,111.29 329.415,115.94 329.657,122.347 329.899,130.997 330.142,142.46 330.384,157.385 330.626,176.476 \n",
       "  330.868,200.468 331.111,230.085 331.353,265.982 331.595,308.69 331.837,358.538 332.079,415.584 332.322,479.543 332.564,549.736 332.806,625.047 333.048,703.92 \n",
       "  333.291,784.385 333.533,864.135 333.775,940.738 334.017,1012.24 334.26,1078.14 334.502,1139.1 334.744,1192.87 334.986,1230.57 335.229,1241.42 335.471,1222.39 \n",
       "  335.713,1180.99 335.955,1128.41 336.198,1071.01 336.44,1009.78 336.682,945.117 336.924,879.252 337.166,815.644 337.409,758.047 337.651,710.175 337.893,676.561 \n",
       "  338.135,666.237 338.378,696.873 338.62,782.168 338.862,895.018 339.104,967.069 339.347,967.442 339.589,944.187 339.831,953.166 340.073,1000.05 340.316,1063.08 \n",
       "  340.558,1125.26 340.8,1178.75 341.042,1219.79 341.284,1246 341.527,1255.91 341.769,1248.87 342.011,1225.07 342.253,1185.51 342.496,1131.86 342.738,1066.36 \n",
       "  342.98,991.631 343.222,910.514 343.465,825.882 343.707,740.474 343.949,656.76 344.191,576.833 344.434,502.35 344.676,434.575 344.918,374.842 345.16,326.379 \n",
       "  345.403,297.214 345.645,296.791 345.887,317.661 346.129,324.601 346.371,287.809 346.614,221.987 346.856,164.741 347.098,132.527 347.34,118.263 347.583,111.69 \n",
       "  347.825,107.874 348.067,105.312 348.309,103.543 348.552,102.332 348.794,101.515 349.036,100.972 349.278,100.616 349.521,100.386 349.763,100.239 350.005,100.146 \n",
       "  350.247,100.087 350.489,100.05 350.732,100.026 350.974,100.01 351.216,99.9989 351.458,99.9906 351.701,99.984 351.943,99.9782 352.185,99.973 352.427,99.968 \n",
       "  352.67,99.9632 352.912,99.9585 353.154,99.9539 353.396,99.9492 353.639,99.9446 353.881,99.94 354.123,99.9353 354.365,99.9307 354.608,99.9261 354.85,99.9215 \n",
       "  355.092,99.9169 355.334,99.9123 355.576,99.9077 355.819,99.903 356.061,99.8984 356.303,99.8938 356.545,99.8892 356.788,99.8846 357.03,99.88 357.272,99.8754 \n",
       "  357.514,99.8708 357.757,99.8662 357.999,99.8616 358.241,99.857 358.483,99.8524 358.726,99.8478 358.968,99.8432 359.21,99.8386 359.452,99.834 359.695,99.8294 \n",
       "  359.937,99.8248 360.179,99.8202 360.421,99.8156 360.663,99.811 360.906,99.8064 361.148,99.8018 361.39,99.7972 361.632,99.7926 361.875,99.788 362.117,99.7834 \n",
       "  362.359,99.7788 362.601,99.7742 362.844,99.7696 363.086,99.7651 363.328,99.7605 363.57,99.7559 363.813,99.7514 364.055,99.7469 364.297,99.7424 364.539,99.7381 \n",
       "  364.781,99.734 365.024,99.7303 365.266,99.7274 365.508,99.7256 365.75,99.726 365.993,99.73 366.235,99.7399 366.477,99.7594 366.719,99.7943 366.962,99.8534 \n",
       "  367.204,99.9499 367.446,100.103 367.688,100.341 367.931,100.704 368.173,101.247 368.415,102.044 368.657,103.196 368.9,104.833 369.142,107.118 369.384,110.257 \n",
       "  369.626,114.496 369.868,120.125 370.111,127.472 370.353,136.897 370.595,148.778 370.837,163.491 371.08,181.382 371.322,202.738 371.564,227.75 371.806,256.476 \n",
       "  372.049,288.8 372.291,324.412 372.533,362.776 372.775,403.129 373.018,444.492 373.26,485.695 373.502,525.425 373.744,562.296 373.986,594.921 374.229,622.002 \n",
       "  374.471,642.412 374.713,655.275 374.955,660.026 375.198,656.456 375.44,644.721 375.682,625.337 375.924,599.139 376.167,567.224 376.409,530.869 376.651,491.453 \n",
       "  376.893,450.37 377.136,408.945 377.378,368.373 377.62,329.662 377.862,293.608 378.105,260.779 378.347,231.517 378.589,205.963 378.831,184.082 379.073,165.701 \n",
       "  379.316,150.543 379.558,138.27 379.8,128.506 380.042,120.875 380.285,115.011 380.527,110.583 380.769,107.293 381.011,104.889 381.254,103.162 381.496,101.94 \n",
       "  381.738,101.089 381.98,100.506 382.223,100.114 382.465,99.8777 382.707,99.9917 382.949,102.01 383.192,112.593 383.434,147.8 383.676,222.369 383.918,314.781 \n",
       "  384.16,359.315 384.403,315.484 384.645,223.15 384.887,148.204 385.129,112.631 385.372,101.834 385.614,99.6629 385.856,99.3659 386.098,99.3345 386.341,99.3283 \n",
       "  386.583,99.3237 386.825,99.3192 387.067,99.3146 387.31,99.3101 387.552,99.3056 387.794,99.3012 388.036,99.2979 388.278,99.3141 388.521,99.5469 388.763,101.385 \n",
       "  389.005,111.012 389.247,144.406 389.49,218.859 389.732,317.576 389.974,373.818 390.216,337.139 390.459,241.245 390.701,157.638 390.943,115.785 391.185,102.467 \n",
       "  391.428,99.6677 391.67,99.2693 391.912,99.2272 392.154,99.2204 392.397,99.216 392.639,99.2118 392.881,99.208 393.123,99.2047 393.365,99.2024 393.608,99.2017 \n",
       "  393.85,99.2038 394.092,99.2104 394.334,99.2247 394.577,99.2513 394.819,99.2974 395.061,99.3742 395.303,99.4982 395.546,99.6941 395.788,99.9972 396.03,100.458 \n",
       "  396.272,101.147 396.515,102.161 396.757,103.629 396.999,105.724 397.241,108.667 397.483,112.74 397.726,118.289 397.968,125.736 398.21,135.575 398.452,148.369 \n",
       "  398.695,164.738 398.937,185.334 399.179,210.808 399.421,241.756 399.664,278.663 399.906,321.83 400.148,371.307 400.39,426.83 400.633,487.786 400.875,553.202 \n",
       "  401.117,621.785 401.359,692.002 401.602,762.199 401.844,830.739 402.086,896.138 402.328,957.178 402.57,1012.97 402.813,1062.99 403.055,1107.01 403.297,1145.11 \n",
       "  403.539,1177.53 403.782,1204.64 404.024,1226.78 404.266,1244.2 404.508,1256.9 404.751,1264.51 404.993,1266.28 405.235,1261.02 405.477,1247.35 405.72,1223.87 \n",
       "  405.962,1189.84 406.204,1146.9 406.446,1102.27 406.689,1067.89 406.931,1043.59 407.173,999.78 407.415,904.469 407.657,770.327 407.9,640.47 408.142,538.469 \n",
       "  408.384,460.672 408.626,398.089 408.869,346.706 409.111,305.731 409.353,275.068 409.595,254.53 409.838,243.769 410.08,242.329 410.322,249.678 410.564,265.231 \n",
       "  410.807,288.337 411.049,318.262 411.291,354.156 411.533,395.024 411.775,439.701 412.018,486.845 412.26,534.945 412.502,582.356 412.744,627.354 412.987,668.207 \n",
       "  413.229,703.268 413.471,731.066 413.713,750.398 413.956,760.409 414.198,760.647 414.44,751.097 414.682,732.177 414.925,704.709 415.167,669.857 415.409,629.048 \n",
       "  415.651,583.87 415.894,535.976 416.136,486.98 416.378,438.375 416.62,391.459 416.862,347.292 417.105,306.666 417.347,270.107 417.589,237.885 417.831,210.05 \n",
       "  418.074,186.464 418.316,166.852 418.558,150.84 418.8,138.001 419.043,127.885 419.285,120.052 419.527,114.09 419.769,109.629 420.012,106.344 420.254,103.967 \n",
       "  420.496,102.273 420.738,101.086 420.98,100.268 421.223,99.7119 421.465,99.3412 421.707,99.0986 421.949,98.9444 422.192,98.8516 422.434,98.8032 422.676,98.7902 \n",
       "  422.918,98.8103 423.161,98.8676 423.403,98.9726 423.645,99.1435 423.887,99.4079 424.13,99.8047 424.372,100.388 424.614,101.228 424.856,102.418 425.099,104.075 \n",
       "  425.341,106.345 425.583,109.403 425.825,113.453 426.067,118.73 426.31,125.489 426.552,134.003 426.794,144.545 427.036,157.375 427.279,172.722 427.521,190.756 \n",
       "  427.763,211.572 428.005,235.164 428.248,261.408 428.49,290.049 428.732,320.7 428.974,352.85 429.217,385.884 429.459,419.118 429.701,451.852 429.943,483.419 \n",
       "  430.186,513.252 430.428,540.931 430.67,566.227 430.912,589.116 431.154,609.765 431.397,628.492 431.639,645.759 431.881,662.595 432.123,682.654 432.366,716.295 \n",
       "  432.608,778.451 432.85,865.788 433.092,933.915 433.335,931.544 433.577,864.683 433.819,786.869 434.061,733.17 434.304,700.204 434.546,672.934 434.788,642.968 \n",
       "  435.03,608.346 435.272,569.562 435.515,527.742 435.757,484.163 435.999,440.106 436.241,396.767 436.484,355.191 436.726,316.231 436.968,280.516 437.21,248.456 \n",
       "  437.453,220.251 437.695,195.916 437.937,175.32 438.179,158.257 438.422,144.812 438.664,137.085 438.906,143.906 439.148,183.614 439.391,265.799 439.633,353.825 \n",
       "  439.875,376.076 440.117,309.853 440.359,212.718 440.602,146.281 440.844,120.575 441.086,117.357 441.328,122.551 441.571,131.504 441.813,143.732 442.055,159.78 \n",
       "  442.297,180.399 442.54,206.392 442.782,238.559 443.024,277.639 443.266,324.238 443.509,378.749 443.751,441.271 443.993,511.527 444.235,588.797 444.477,671.875 \n",
       "  444.72,759.047 444.962,848.125 445.204,936.508 445.446,1021.3 445.689,1099.48 445.931,1168.07 446.173,1224.38 446.415,1266.19 446.658,1291.97 446.9,1300.97 \n",
       "  447.142,1293.4 447.384,1270.34 447.627,1233.73 447.869,1186.23 448.111,1131 448.353,1071.51 448.596,1011.28 448.838,953.693 449.08,901.783 449.322,858.11 \n",
       "  449.564,824.653 449.807,802.754 450.049,793.076 450.291,795.593 450.533,809.593 450.776,833.699 451.018,865.927 451.26,903.777 451.502,944.367 451.745,984.615 \n",
       "  451.987,1021.46 452.229,1052.09 452.471,1074.23 452.714,1086.33 452.956,1087.75 453.198,1078.91 453.44,1061.26 453.682,1037.18 453.925,1009.75 454.167,982.445 \n",
       "  454.409,958.707 454.651,941.54 454.894,933.149 455.136,934.684 455.378,946.14 455.62,966.43 455.863,993.597 456.105,1025.12 456.347,1058.25 456.589,1090.27 \n",
       "  456.832,1118.77 457.074,1141.64 457.316,1157.19 457.558,1164.04 457.801,1161.16 458.043,1147.76 458.285,1123.41 458.527,1088.04 458.769,1042.03 459.012,986.253 \n",
       "  459.254,922.101 459.496,851.41 459.738,776.364 459.981,699.333 460.223,622.701 460.465,548.693 460.707,479.24 460.95,415.883 461.192,359.735 461.434,311.492 \n",
       "  461.676,271.485 461.919,239.758 462.161,216.151 462.403,200.395 462.645,192.177 462.888,191.196 463.13,197.191 463.372,209.946 463.614,229.273 463.856,254.977 \n",
       "  464.099,286.809 464.341,324.409 464.583,367.268 464.825,414.789 465.068,466.776 465.31,524.733 465.552,592.19 465.794,668.961 466.037,741.959 466.279,791.34 \n",
       "  466.521,812.526 466.763,819.997 467.006,826.725 467.248,833.045 467.49,833.776 467.732,825.605 467.974,807.973 468.217,781.78 468.459,748.623 468.701,710.52 \n",
       "  468.943,669.768 469.186,628.804 469.428,590.055 469.67,555.789 469.912,527.983 470.155,508.379 470.397,499.523 470.639,508.847 470.881,554.381 471.124,654.521 \n",
       "  471.366,786.966 471.608,873.636 471.85,860.151 472.093,787.662 472.335,732.914 472.577,722.398 472.819,738.38 473.061,760.844 473.304,781.398 473.546,798.514 \n",
       "  473.788,812.99 474.03,826.448 474.273,840.917 474.515,858.561 474.757,881.385 474.999,910.931 475.242,947.995 475.484,992.424 475.726,1043.03 475.968,1097.61 \n",
       "  476.211,1153.14 476.453,1206.03 476.695,1252.5 476.937,1288.93 477.179,1312.2 477.422,1320.02 477.664,1311.02 477.906,1284.9 478.148,1242.37 478.391,1185.02 \n",
       "  478.633,1115.17 478.875,1035.63 479.117,949.482 479.36,859.851 479.602,769.743 479.844,681.882 480.086,598.614 480.329,521.849 480.571,453.054 480.813,393.279 \n",
       "  481.055,343.207 481.298,303.23 481.54,273.52 481.782,254.107 482.024,244.941 482.266,245.932 482.509,256.974 482.751,277.94 482.993,308.654 483.235,348.849 \n",
       "  483.478,398.102 483.72,455.771 483.962,520.929 484.204,592.315 484.447,668.303 484.689,746.906 484.931,825.812 485.173,902.459 485.416,974.144 485.658,1038.16 \n",
       "  485.9,1091.97 486.142,1133.32 486.385,1160.45 486.627,1172.19 486.869,1168.04 487.111,1148.22 487.353,1113.68 487.596,1066.01 487.838,1007.36 488.08,940.308 \n",
       "  488.322,867.669 488.565,792.348 488.807,717.167 489.049,644.709 489.291,577.198 489.534,516.403 489.776,463.59 490.018,419.502 490.26,384.388 490.503,358.058 \n",
       "  490.745,339.958 490.987,329.278 491.229,325.051 491.471,326.272 491.714,331.994 491.956,341.433 492.198,354.044 492.44,369.588 492.683,388.171 492.925,410.251 \n",
       "  493.167,436.615 493.409,468.297 493.652,506.454 493.894,552.182 494.136,606.291 494.378,669.065 494.621,740.039 494.863,817.85 495.105,900.202 495.347,984 \n",
       "  495.59,1065.65 495.832,1141.5 496.074,1208.32 496.316,1263.85 496.558,1307.04 496.801,1338.19 497.043,1358.79 497.285,1371.04 497.527,1377.32 497.77,1379.51 \n",
       "  498.012,1378.55 498.254,1374.17 498.496,1364.94 498.739,1348.57 498.981,1322.48 499.223,1284.38 499.465,1232.79 499.708,1167.46 499.95,1089.45 500.192,1001.08 \n",
       "  500.434,905.545 500.676,806.575 500.919,707.938 501.161,613.062 501.403,524.743 501.645,444.985 501.888,374.964 502.13,315.093 502.372,265.152 502.614,224.455 \n",
       "  502.857,192.015 503.099,166.693 503.341,147.32 503.583,132.779 503.826,122.065 504.068,114.312 504.31,108.798 504.552,104.942 504.795,102.29 505.037,100.496 \n",
       "  505.279,99.3017 505.521,98.5184 505.763,98.0125 506.006,97.6905 506.248,97.4882 506.49,97.3628 506.732,97.2861 506.975,97.2402 507.217,97.2141 507.459,97.2017 \n",
       "  507.701,97.2007 507.944,97.2117 508.186,97.2384 508.428,97.2886 508.67,97.3749 508.913,97.5173 509.155,97.7463 509.397,98.1065 509.639,98.6627 509.882,99.5064 \n",
       "  510.124,100.765 510.366,102.611 510.608,105.274 510.85,109.054 511.093,114.329 511.335,121.571 511.577,131.347 511.819,144.323 512.062,161.255 512.304,182.971 \n",
       "  512.546,210.34 512.788,244.224 513.031,285.421 513.273,334.59 513.515,392.168 513.757,458.286 514,532.683 514.242,614.637 514.484,702.915 514.726,795.76 \n",
       "  514.968,890.906 515.211,985.645 515.453,1076.94 515.695,1161.57 515.937,1236.33 516.18,1298.21 516.422,1344.64 516.664,1373.7 516.906,1384.24 517.149,1376.08 \n",
       "  517.391,1350.02 517.633,1307.83 517.875,1252.18 518.118,1186.4 518.36,1114.28 518.602,1039.73 518.844,966.496 519.087,897.835 519.329,836.288 519.571,783.507 \n",
       "  519.813,740.194 520.055,706.137 520.298,680.333 520.54,661.186 520.782,646.738 521.024,634.907 521.267,623.698 521.509,611.385 521.751,596.622 521.993,578.509 \n",
       "  522.236,556.607 522.478,530.901 522.72,501.739 522.962,469.754 523.205,435.769 523.447,400.711 523.689,365.528 523.931,331.12 524.173,298.285 524.416,267.684 \n",
       "  524.658,239.824 524.9,215.053 525.142,193.575 525.385,175.47 525.627,160.722 525.869,149.252 526.111,140.946 526.354,135.684 526.596,133.363 526.838,133.906 \n",
       "  527.08,137.272 527.323,143.447 527.565,152.439 527.807,164.258 528.049,178.887 528.292,196.266 528.534,216.256 528.776,238.621 529.018,263.01 529.26,288.947 \n",
       "  529.503,315.836 529.745,342.973 529.987,369.578 530.229,394.836 530.472,417.946 530.714,438.22 530.956,455.454 531.198,471.692 531.441,496.284 531.683,549.962 \n",
       "  531.925,647.475 532.167,754.704 532.41,790.779 532.652,719.183 532.894,599.398 533.136,510.034 533.379,476.961 533.621,493.976 533.863,551.104 534.105,617.336 \n",
       "  534.347,640.174 534.59,601.734 534.832,547.329 535.074,533.468 535.316,570.199 535.559,616.318 535.801,622.134 536.043,582.295 536.285,534.375 536.528,508.817 \n",
       "  536.77,507.114 537.012,519.696 537.254,541.107 537.497,570.502 537.739,608.484 537.981,655.523 538.223,711.51 538.465,775.615 538.708,846.258 538.95,921.151 \n",
       "  539.192,997.411 539.434,1071.74 539.677,1140.65 539.919,1200.72 540.161,1248.86 540.403,1282.55 540.646,1300.07 540.888,1300.59 541.13,1284.34 541.372,1252.5 \n",
       "  541.615,1207.23 541.857,1151.41 542.099,1088.44 542.341,1021.98 542.584,955.566 542.826,892.401 543.068,835.039 543.31,785.229 543.552,743.825 543.795,710.798 \n",
       "  544.037,685.341 544.279,666.043 544.521,651.111 544.764,638.61 545.006,626.778 545.248,614.746 545.49,604.229 545.733,600.8 545.975,608.356 546.217,615.841 \n",
       "  546.459,598.318 546.702,545.3 546.944,475.981 547.186,414.646 547.428,367.762 547.67,329.963 547.913,296.416 548.155,265.613 548.397,237.541 548.639,212.425 \n",
       "  548.882,190.393 549.124,171.434 549.366,155.424 549.608,142.151 549.851,131.343 550.093,122.698 550.335,115.903 550.577,110.652 550.82,106.663 551.062,103.683 \n",
       "  551.304,101.494 551.546,99.9118 551.789,98.7863 552.031,97.9984 552.273,97.4555 552.515,97.09 552.757,96.8959 553,97.3063 553.242,101.427 553.484,122.309 \n",
       "  553.726,190.916 553.969,334.608 554.211,510.157 554.453,591.547 554.695,504.622 554.938,328.255 555.18,187.108 555.422,120.829 555.664,100.907 555.907,96.9427 \n",
       "  556.149,96.4108 556.391,96.3625 556.633,96.3623 556.876,96.3698 557.118,96.3855 557.36,96.4143 557.602,96.4638 557.844,96.546 558.087,96.6785 558.329,96.8875 \n",
       "  558.571,97.2106 558.813,97.7008 559.056,98.4316 559.298,99.5029 559.54,101.047 559.782,103.236 560.025,106.287 560.267,110.471 560.509,116.111 560.751,123.586 \n",
       "  560.994,133.327 561.236,145.801 561.478,161.498 561.72,180.901 561.962,204.462 562.205,232.637 562.447,266.449 562.689,310.107 562.931,376.484 563.174,485.152 \n",
       "  563.416,632.884 563.658,762.071 563.9,805.079 564.143,770.489 564.385,728.688 564.627,722.909 564.869,745.565 565.112,775.363 565.354,800.142 565.596,815.701 \n",
       "  565.838,820.796 566.081,815.136 566.323,798.968 566.565,773 566.807,738.348 567.049,696.456 567.292,648.995 567.534,597.754 567.776,544.528 568.018,491.021 \n",
       "  568.261,438.753 568.503,389.006 568.745,342.777 568.987,300.772 569.23,263.408 569.472,230.843 569.714,203.011 569.956,179.673 570.199,160.464 570.441,144.936 \n",
       "  570.683,132.606 570.925,122.985 571.167,115.606 571.41,110.042 571.652,105.916 571.894,102.907 572.136,100.749 572.379,99.2248 572.621,98.166 572.863,97.4418 \n",
       "  573.105,96.9539 573.348,96.63 573.59,96.4178 573.832,96.2805 574.074,96.1925 574.317,96.1364 574.559,96.1006 574.801,96.0782 575.043,96.0729 575.286,96.1729 \n",
       "  575.528,96.9975 575.77,101.21 576.012,115.358 576.254,145.78 576.497,184.264 576.739,203.855 576.981,186.981 577.223,150.214 577.466,125.148 577.708,130.285 \n",
       "  577.95,165.473 578.192,208.852 578.435,223.926 578.677,196 578.919,149.851 579.161,115.968 579.404,101.086 579.646,96.8728 579.888,96.0783 580.13,95.9743 \n",
       "  580.372,95.9618 580.615,95.9574 580.857,95.9535 581.099,95.9496 581.341,95.9457 581.584,95.9419 581.826,95.938 582.068,95.9341 582.31,95.9302 582.553,95.9263 \n",
       "  582.795,95.9224 583.037,95.9185 583.279,95.9146 583.522,95.9108 583.764,95.9069 584.006,95.903 584.248,95.8991 584.491,95.8953 584.733,95.8914 584.975,95.8876 \n",
       "  585.217,95.8839 585.459,95.8803 585.702,95.877 585.944,95.874 586.186,95.8718 586.428,95.8708 586.671,95.8719 586.913,95.8764 587.155,95.8865 587.397,95.9054 \n",
       "  587.64,95.9384 587.882,95.9932 588.124,96.0811 588.366,96.2188 588.609,96.4298 588.851,96.7473 589.093,97.2166 589.335,97.8991 589.578,98.8758 589.82,100.252 \n",
       "  590.062,102.16 590.304,104.766 590.546,108.273 590.789,112.92 591.031,118.986 591.273,126.786 591.515,136.666 591.758,148.992 592,164.138 592.242,182.463 \n",
       "  592.484,204.291 592.727,229.884 592.969,259.408 593.211,292.913 593.453,330.306 593.696,371.339 593.938,415.613 594.18,462.59 594.422,511.629 594.664,562.029 \n",
       "  594.907,613.076 595.149,664.091 595.391,714.457 595.633,763.636 595.876,811.152 596.118,856.565 596.36,899.417 596.602,939.191 596.845,975.26 597.087,1006.86 \n",
       "  597.329,1033.1 597.571,1052.96 597.814,1065.33 598.056,1069.15 598.298,1063.45 598.54,1047.53 598.783,1021.04 599.025,984.112 599.267,937.4 599.509,882.083 \n",
       "  599.751,819.805 599.994,752.557 600.236,682.517 600.478,611.889 600.72,542.73 600.963,476.827 601.205,415.601 601.447,360.063 601.689,310.81 601.932,268.059 \n",
       "  602.174,231.708 602.416,201.404 602.658,176.617 602.901,156.714 603.143,141.017 603.385,128.852 603.627,119.586 603.869,112.646 604.112,107.533 604.354,103.828 \n",
       "  604.596,101.186 604.838,99.3321 605.081,98.0514 605.323,97.1804 605.565,96.5968 605.807,96.2115 606.05,95.9606 606.292,95.7993 606.534,95.6965 606.776,95.6316 \n",
       "  607.019,95.5906 607.261,95.5645 607.503,95.5476 607.745,95.5361 607.988,95.528 608.23,95.5217 608.472,95.5165 608.714,95.512 608.956,95.5078 609.199,95.5038 \n",
       "  609.441,95.4998 609.683,95.496 609.925,95.4922 610.168,95.4884 610.41,95.4845 610.652,95.4807 610.894,95.4769 611.137,95.4732 611.379,95.4694 611.621,95.4656 \n",
       "  611.863,95.4618 612.106,95.458 612.348,95.4542 612.59,95.4504 612.832,95.4466 613.075,95.4428 613.317,95.439 613.559,95.4352 613.801,95.4315 614.043,95.4277 \n",
       "  614.286,95.4239 614.528,95.4201 614.77,95.4163 615.012,95.4126 615.255,95.4092 615.497,95.4111 615.739,95.4562 615.981,95.7382 616.224,96.8486 616.466,99.6691 \n",
       "  616.708,104.057 616.95,107.486 617.193,107.018 617.435,103.087 617.677,98.8909 617.919,96.4741 618.161,95.6032 618.404,95.3955 618.646,95.3596 618.888,95.3524 \n",
       "  619.13,95.3484 619.373,95.3446 619.615,95.3408 619.857,95.3371 620.099,95.3333 620.342,95.3295 620.584,95.3258 620.826,95.322 621.068,95.3182 621.311,95.3145 \n",
       "  621.553,95.3107 621.795,95.3069 622.037,95.3032 622.28,95.2994 622.522,95.2957 622.764,95.2919 623.006,95.2882 623.248,95.2844 623.491,95.2806 623.733,95.2769 \n",
       "  623.975,95.2731 624.217,95.2694 624.46,95.2656 624.702,95.2619 624.944,95.2581 625.186,95.2544 625.429,95.2506 625.671,95.2469 625.913,95.2431 626.155,95.2394 \n",
       "  626.398,95.2356 626.64,95.2319 626.882,95.2281 627.124,95.2244 627.366,95.2207 627.609,95.2169 627.851,95.2132 628.093,95.2094 628.335,95.2057 628.578,95.202 \n",
       "  628.82,95.1982 629.062,95.1945 629.304,95.1907 629.547,95.187 629.789,95.1833 630.031,95.1795 630.273,95.1758 630.516,95.1721 630.758,95.1683 631,95.1646 \n",
       "  631.242,95.1609 631.485,95.1571 631.727,95.1534 631.969,95.1497 632.211,95.146 632.453,95.1422 632.696,95.1385 632.938,95.1348 633.18,95.1311 633.422,95.1273 \n",
       "  633.665,95.1236 633.907,95.1199 634.149,95.1162 634.391,95.1125 634.634,95.1088 634.876,95.1051 635.118,95.1014 635.36,95.0978 635.603,95.0943 635.845,95.0909 \n",
       "  636.087,95.0879 636.329,95.0854 636.572,95.084 636.814,95.0844 637.056,95.0879 637.298,95.0965 637.54,95.1139 637.783,95.1456 638.025,95.2001 638.267,95.291 \n",
       "  638.509,95.4385 638.752,95.6726 638.994,96.037 639.236,96.5942 639.478,97.4316 639.721,98.6691 639.963,100.467 640.205,103.038 640.447,106.652 640.69,111.649 \n",
       "  640.932,118.444 641.174,127.53 641.416,139.474 641.658,154.908 641.901,174.508 642.143,198.961 642.385,228.925 642.627,264.974 642.87,307.537 643.112,356.827 \n",
       "  643.354,412.776 643.596,474.975 643.839,542.626 644.081,614.521 644.323,689.043 644.565,764.205 644.808,837.723 645.05,907.123 645.292,969.869 645.534,1023.52 \n",
       "  645.777,1065.88 646.019,1095.15 646.261,1110.07 646.503,1109.96 646.745,1094.84 646.988,1065.37 647.23,1022.83 647.472,969.035 647.714,906.174 647.957,836.694 \n",
       "  648.199,763.129 648.441,687.954 648.683,613.45 648.926,541.622 649.168,474.293 649.41,413.893 649.652,365.543 649.895,337.587 650.137,332.245 650.379,330.875 \n",
       "  650.621,304.427 650.863,249.14 651.106,191.006 651.348,151.307 651.59,130.018 651.832,118.611 652.075,111.444 652.317,106.417 652.559,102.809 652.801,100.243 \n",
       "  653.044,98.4463 653.286,97.2079 653.528,96.3677 653.77,95.8063 654.013,95.4366 654.255,95.1966 654.497,95.0428 654.739,94.9451 654.982,94.8836 655.224,94.8449 \n",
       "  655.466,94.8204 655.708,94.8046 655.95,94.7941 656.193,94.7869 656.435,94.782 656.677,94.7788 656.919,94.7774 657.162,94.7785 657.404,94.7836 657.646,94.8008 \n",
       "  657.888,94.9128 658.131,95.821 658.373,101.478 658.615,125.573 658.857,193.119 659.1,311.638 659.342,424.555 659.584,440.626 659.826,345.347 660.069,221.248 \n",
       "  660.311,141.311 660.553,110.792 660.795,104.861 661.037,106.624 661.28,110.623 661.522,115.937 661.764,122.63 662.006,130.893 662.249,140.909 662.491,152.826 \n",
       "  662.733,166.734 662.975,182.65 663.218,200.495 663.46,220.089 663.702,241.24 663.944,264.447 664.187,293.849 664.429,342.822 664.671,430.91 664.913,552.752 \n",
       "  665.155,648.147 665.398,649.703 665.64,568.561 665.882,478.045 666.124,424.201 666.367,401.458 666.609,389.73 666.851,378.05 667.093,363.615 667.336,346.516 \n",
       "  667.578,327.5 667.82,307.473 668.062,287.398 668.305,268.265 668.547,251.064 668.789,236.769 669.031,226.326 669.274,220.647 669.516,220.601 669.758,227.006 \n",
       "  670,240.611 670.242,262.068 670.485,291.898 670.727,330.44 670.969,377.799 671.211,433.786 671.454,497.857 671.696,569.072 671.938,646.062 672.18,727.03 \n",
       "  672.423,809.779 672.665,891.779 672.907,970.271 673.149,1042.4 673.392,1105.37 673.634,1156.61 673.876,1193.97 674.118,1215.83 674.36,1221.21 674.603,1209.89 \n",
       "  674.845,1182.39 675.087,1139.94 675.329,1084.4 675.572,1018.11 675.814,943.784 676.056,864.277 676.298,782.446 676.541,700.977 676.783,622.254 677.025,548.255 \n",
       "  677.267,480.493 677.51,419.989 677.752,367.288 677.994,322.499 678.236,285.359 678.479,255.312 678.721,231.594 678.963,213.312 679.205,199.518 679.447,189.275 \n",
       "  679.69,181.703 679.932,176.018 680.174,171.551 680.416,167.759 680.659,164.231 680.901,160.674 681.143,156.908 681.385,152.845 681.628,148.475 681.87,143.842 \n",
       "  682.112,139.033 682.354,134.155 682.597,129.321 682.839,124.641 683.081,120.213 683.323,116.113 683.565,112.396 683.808,109.095 684.05,106.22 684.292,103.765 \n",
       "  684.534,101.707 684.777,100.013 685.019,98.6441 685.261,97.5566 685.503,96.7077 685.746,96.0565 685.988,95.5656 686.23,95.2024 686.472,94.9395 686.715,94.7547 \n",
       "  686.957,94.6314 687.199,94.5584 687.441,94.5297 687.684,94.5455 687.926,94.6126 688.168,94.7459 688.41,94.9706 688.652,95.3249 688.895,95.8639 689.137,96.6641 \n",
       "  689.379,97.8288 689.621,99.4936 689.864,101.833 690.106,105.066 690.348,109.457 690.59,115.323 690.833,123.027 691.075,132.971 691.317,145.585 691.559,161.304 \n",
       "  691.802,180.545 692.044,203.667 692.286,230.933 692.528,262.469 692.771,298.22 693.013,337.911 693.255,381.02 693.497,426.762 693.739,474.098 693.982,521.753 \n",
       "  694.224,568.269 694.466,612.07 694.708,651.55 694.951,685.168 695.193,711.545 695.435,729.562 695.677,738.436 695.92,737.778 696.162,727.623 696.404,708.43 \n",
       "  696.646,681.047 696.889,646.658 697.131,606.701 697.373,562.777 697.615,516.556 697.857,469.684 698.1,423.709 698.342,380.012 698.584,339.769 698.826,303.927 \n",
       "  699.069,273.197 699.311,248.067 699.553,228.819 699.795,215.552 700.038,208.207 700.28,206.593 700.522,210.406 700.764,219.314 701.007,233.542 701.249,256.445 \n",
       "  701.491,300.128 701.733,384.585 701.976,509.467 702.218,619.285 702.46,641.499 702.702,576.982 702.944,497.202 703.187,453.548 703.429,443.386 703.671,445.582 \n",
       "  703.913,447.357 704.156,444.735 704.398,437.092 704.64,424.667 704.882,407.984 705.125,387.735 705.367,364.729 705.609,339.835 705.851,313.929 706.094,287.843 \n",
       "  706.336,262.324 706.578,238.005 706.82,215.421 707.062,195.257 707.305,179.61 707.547,174.995 707.789,192.806 708.031,235.527 708.274,275.947 708.516,272.829 \n",
       "  708.758,221.713 709,160.806 709.243,121.63 709.485,105.066 709.727,99.5293 709.969,97.4473 710.212,96.3074 710.454,95.5437 710.696,95.0155 710.938,94.6536 \n",
       "  711.181,94.4091 711.423,94.2461 711.665,94.1388 711.907,94.0688 712.149,94.0234 712.392,93.9939 712.634,93.9748 712.876,93.9622 713.118,93.9539 713.361,93.9486 \n",
       "  713.603,93.9458 713.845,93.9455 714.087,93.9484 714.33,93.956 714.572,93.9706 714.814,93.9957 715.056,94.0366 715.299,94.1007 715.541,94.1986 715.783,94.3448 \n",
       "  716.025,94.5586 716.268,94.8657 716.51,95.2987 716.752,95.8986 716.994,96.7157 717.236,97.8094 717.479,99.2485 717.721,101.109 717.963,103.473 718.205,106.424 \n",
       "  718.448,110.042 718.69,114.396 718.932,119.538 719.174,125.494 719.417,132.257 719.659,139.778 719.901,147.96 720.143,156.659 720.386,165.686 720.628,174.899 \n",
       "  720.87,184.777 721.112,198.85 721.354,228.423 721.597,290.369 721.839,381.413 722.081,451.963 722.323,444.709 722.566,368.015 722.808,284.186 723.05,233.248 \n",
       "  723.292,210.998 723.535,200.442 723.777,192.195 724.019,183.717 724.261,174.805 724.504,165.699 724.746,156.672 724.988,147.963 725.23,139.768 725.473,132.235 \n",
       "  725.715,125.458 725.957,119.487 726.199,114.331 726.441,109.964 726.684,106.333 726.926,103.37 727.168,100.994 727.41,99.122 727.653,97.6727 727.895,96.5694 \n",
       "  728.137,95.7432 728.379,95.1347 728.622,94.6936 728.864,94.3787 729.106,94.1573 729.348,94.0037 729.591,93.8985 729.833,93.8273 730.075,93.7794 730.317,93.7473 \n",
       "  730.559,93.7258 730.802,93.7112 731.044,93.7013 731.286,93.6947 731.528,93.6906 731.771,93.6891 732.013,93.6907 732.255,93.6969 732.497,93.7103 732.74,93.7352 \n",
       "  732.982,93.7785 733.224,93.8505 733.466,93.9669 733.709,94.1511 733.951,94.4365 734.193,94.8707 734.435,95.5199 734.678,96.4742 734.92,97.8535 735.162,99.815 \n",
       "  735.404,102.568 735.646,106.491 735.889,112.957 736.131,127.955 736.373,169.702 736.615,266.588 736.858,417.446 737.1,545.999 737.342,557.861 737.584,462.496 \n",
       "  737.827,360.561 738.069,318.73 738.311,330.526 738.553,367.553 738.796,413.48 739.038,462.837 739.28,513.635 739.522,564.361 739.765,613.409 740.007,659.075 \n",
       "  740.249,699.652 740.491,733.53 740.733,759.306 740.976,775.874 741.218,782.509 741.46,778.917 741.702,765.258 741.945,742.166 742.187,710.943 742.429,674.858 \n",
       "  742.671,643.287 742.914,635.543 743.156,666.709 743.398,709.823 743.64,695.573 743.883,591.887 744.125,450.323 744.367,337.46 744.609,269.33 744.851,228.591 \n",
       "  745.094,199.678 745.336,176.55 745.578,157.606 745.82,142.259 746.063,130.035 746.305,120.467 746.547,113.107 746.789,107.541 747.032,103.402 747.274,100.374 \n",
       "  747.516,98.1963 747.758,96.6545 748.001,95.5804 748.243,94.8439 748.485,94.3465 748.727,94.0155 748.97,93.7984 749.212,93.6578 749.454,93.5676 749.696,93.5103 \n",
       "  749.938,93.4738 750.181,93.4505 750.423,93.4353 750.665,93.4251 750.907,93.4177 751.15,93.4121 751.392,93.4075 751.634,93.4035 751.876,93.3998 752.119,93.3962 \n",
       "  752.361,93.3928 752.603,93.3894 752.845,93.386 753.088,93.3826 753.33,93.3793 753.572,93.376 753.814,93.3726 754.056,93.3693 754.299,93.3659 754.541,93.3626 \n",
       "  754.783,93.3593 755.025,93.3559 755.268,93.3526 755.51,93.3493 755.752,93.3459 755.994,93.3426 756.237,93.3393 756.479,93.3359 756.721,93.3326 756.963,93.3293 \n",
       "  757.206,93.326 757.448,93.3226 757.69,93.3193 757.932,93.316 758.175,93.3127 758.417,93.3093 758.659,93.306 758.901,93.3027 759.143,93.2994 759.386,93.296 \n",
       "  759.628,93.2927 759.87,93.2894 760.112,93.2861 760.355,93.2828 760.597,93.2795 760.839,93.2761 761.081,93.2728 761.324,93.2695 761.566,93.2662 761.808,93.2629 \n",
       "  762.05,93.2596 762.293,93.2563 762.535,93.2529 762.777,93.2496 763.019,93.2463 763.262,93.243 763.504,93.2397 763.746,93.2364 763.988,93.2331 764.23,93.2298 \n",
       "  764.473,93.2265 764.715,93.2232 764.957,93.2199 765.199,93.2166 765.442,93.2133 765.684,93.21 765.926,93.2067 766.168,93.2034 766.411,93.2001 766.653,93.1968 \n",
       "  766.895,93.1935 767.137,93.1902 767.38,93.1869 767.622,93.1836 767.864,93.1803 768.106,93.177 768.348,93.1737 768.591,93.1704 768.833,93.1671 769.075,93.1639 \n",
       "  769.317,93.1606 769.56,93.1573 769.802,93.154 770.044,93.1507 770.286,93.1474 770.529,93.1441 770.771,93.1408 771.013,93.1376 771.255,93.1343 771.498,93.131 \n",
       "  771.74,93.1277 771.982,93.1244 772.224,93.1212 772.467,93.1179 772.709,93.1146 772.951,93.1113 773.193,93.108 773.435,93.1048 773.678,93.1015 773.92,93.0982 \n",
       "  774.162,93.0949 774.404,93.0917 774.647,93.0884 774.889,93.0851 775.131,93.0819 775.373,93.0786 775.616,93.0753 775.858,93.0721 776.1,93.0688 776.342,93.0655 \n",
       "  776.585,93.0623 776.827,93.059 777.069,93.0557 777.311,93.0525 777.553,93.0492 777.796,93.0459 778.038,93.0427 778.28,93.0394 778.522,93.0362 778.765,93.0329 \n",
       "  779.007,93.0297 779.249,93.0264 779.491,93.0232 779.734,93.02 779.976,93.0168 780.218,93.0136 780.46,93.0106 780.703,93.0078 780.945,93.0053 781.187,93.0034 \n",
       "  781.429,93.0025 781.672,93.0032 781.914,93.0067 782.156,93.0146 782.398,93.0294 782.64,93.0552 782.883,93.0977 783.125,93.1656 783.367,93.2711 783.609,93.4316 \n",
       "  783.852,93.6707 784.094,94.0207 784.336,94.5238 784.578,95.2347 784.821,96.2224 785.063,97.5712 785.305,99.3824 785.547,101.773 785.79,104.875 786.032,108.83 \n",
       "  786.274,113.784 786.516,119.879 786.759,127.243 787.001,135.975 787.243,146.131 787.485,157.711 787.727,170.645 787.97,184.783 788.212,199.887 788.454,215.632 \n",
       "  788.696,231.613 788.939,247.356 789.181,262.342 789.423,276.032 789.665,287.901 789.908,297.467 790.15,304.328 790.392,308.187 790.634,308.873 790.877,306.357 \n",
       "  791.119,300.752 791.361,292.303 791.603,281.375 791.845,268.424 792.088,253.968 792.33,238.557 792.572,222.739 792.814,207.039 793.057,191.932 793.299,177.839 \n",
       "  793.541,165.115 793.783,154.061 794.026,144.934 794.268,137.96 794.51,133.364 794.752,131.386 794.995,132.304 795.237,136.451 795.479,144.224 795.721,156.084 \n",
       "  795.964,172.547 796.206,194.156 796.448,221.451 796.69,254.911 796.932,294.902 797.175,341.603 797.417,394.942 797.659,454.527 797.901,519.598 798.144,588.996 \n",
       "  798.386,661.161 798.628,734.168 798.87,805.804 799.113,873.688 799.355,935.415 799.597,988.74 799.839,1031.76 800.082,1063.07 800.324,1081.94 800.566,1088.31 \n",
       "  800.808,1082.92 801.05,1067.11 801.293,1042.82 801.535,1012.33 801.777,978.091 802.019,942.527 802.262,907.881 802.504,876.083 802.746,848.687 802.988,826.846 \n",
       "  803.231,811.334 803.473,802.582 803.715,800.736 803.957,805.712 804.2,817.242 804.442,834.903 804.684,858.134 804.926,886.232 805.169,918.396 805.411,954.048 \n",
       "  805.653,994.1 805.895,1042.91 806.137,1105.76 806.38,1176.33 806.622,1230.23 806.864,1248.3 807.106,1241.56 807.349,1235.24 807.591,1239.91 807.833,1250.94 \n",
       "  808.075,1261.74 808.318,1268.98 808.56,1271.27 808.802,1267.54 809.044,1256.6 809.287,1237.14 809.529,1207.92 809.771,1167.99 810.013,1116.96 810.255,1055.16 \n",
       "  810.498,983.763 810.74,904.704 810.982,820.502 811.224,734.003 811.467,648.087 811.709,565.39 811.951,488.097 812.193,417.819 812.436,355.548 812.678,301.697 \n",
       "  812.92,256.181 813.162,218.537 813.405,188.037 813.647,163.808 813.889,144.919 814.131,130.46 814.374,119.585 814.616,111.544 814.858,105.7 815.1,101.539 \n",
       "  815.342,98.8399 815.585,98.8227 815.827,108.773 816.069,150.201 816.311,252.202 816.554,403.473 816.796,514.213 817.038,498.104 817.28,389.528 817.523,283.656 \n",
       "  817.765,211.161 818.007,157.797 818.249,120.421 818.492,101.117 818.734,94.3662 818.976,92.7826 819.218,92.5296 819.461,92.4992 819.703,92.4938 819.945,92.4904 \n",
       "  820.187,92.4872 820.429,92.484 820.672,92.4809 820.914,92.4778 821.156,92.4747 821.398,92.4718 821.641,92.4689 821.883,92.4663 822.125,92.4642 822.367,92.4628 \n",
       "  822.61,92.4628 822.852,92.4652 823.094,92.4717 823.336,92.4849 823.579,92.5092 823.821,92.5513 824.063,92.6218 824.305,92.7366 824.547,92.9194 824.79,93.2046 \n",
       "  825.032,93.6418 825.274,94.3004 825.516,95.2759 825.759,96.6967 826.001,98.7323 826.243,101.601 826.485,105.576 826.728,110.994 826.97,118.254 827.212,127.822 \n",
       "  827.454,140.214 827.697,155.987 827.939,175.715 828.181,199.949 828.423,229.178 828.666,263.778 828.908,303.953 829.15,349.682 829.392,400.668 829.634,456.292 \n",
       "  829.877,515.598 830.119,577.287 830.361,639.75 830.603,701.117 830.846,759.349 831.088,812.339 831.33,858.042 831.572,894.6 831.815,920.468 832.057,934.523 \n",
       "  832.299,936.146 832.541,925.264 832.784,902.359 833.026,868.429 833.268,824.919 833.51,773.617 833.752,716.534 833.995,655.772 834.237,593.399 834.479,531.337 \n",
       "  834.721,471.271 834.964,414.582 835.206,362.317 835.448,315.18 835.69,273.549 835.933,237.513 836.175,206.919 836.417,181.432 836.659,160.587 836.902,143.847 \n",
       "  837.144,130.641 837.386,120.41 837.628,112.628 837.871,106.827 838.113,102.6 838.355,99.6132 838.597,97.6042 838.839,96.3784 839.082,95.8073 839.324,95.8248 \n",
       "  839.566,96.4242 839.808,97.6574 840.051,99.6338 840.293,102.521 840.535,106.547 840.777,111.995 841.02,119.208 841.262,128.578 841.504,140.537 841.746,155.542 \n",
       "  841.989,174.051 842.231,196.496 842.473,223.242 842.715,254.55 842.958,290.531 843.2,331.103 843.442,375.959 843.684,424.543 843.926,476.056 844.169,529.477 \n",
       "  844.411,583.628 844.653,637.258 844.895,689.153 845.138,738.249 845.38,783.74 845.622,825.14 845.864,862.306 846.107,895.382 846.349,924.701 846.591,950.623 \n",
       "  846.833,973.371 847.076,992.884 847.318,1008.73 847.56,1020.08 847.802,1025.8 848.044,1024.63 848.287,1015.33 848.529,996.957 848.771,969.029 849.013,931.656 \n",
       "  849.256,885.597 849.498,832.233 849.74,773.477 849.982,711.635 850.225,649.246 850.467,588.927 850.709,533.237 850.951,484.562 851.194,445.032 851.436,416.46 \n",
       "  851.678,400.294 851.92,397.581 852.163,408.934 852.405,434.493 852.647,473.897 852.889,526.254 853.131,590.135 853.374,663.577 853.616,744.136 853.858,828.964 \n",
       "  854.1,914.928 854.343,998.771 854.585,1077.28 854.827,1147.49 855.069,1206.82 855.312,1253.21 855.554,1285.23 855.796,1302.07 856.038,1303.54 856.281,1290.01 \n",
       "  856.523,1262.29 856.765,1221.64 857.007,1169.58 857.249,1107.9 857.492,1038.62 857.734,963.955 857.976,886.86 858.218,812.877 858.461,752.349 858.703,714.498 \n",
       "  858.945,688.743 859.187,642.173 859.43,557.649 859.672,458.825 859.914,377.898 860.156,322.694 860.399,284.41 860.641,254.89 860.883,230.594 861.125,210.2 \n",
       "  861.368,192.969 861.61,178.317 861.852,165.759 862.094,154.908 862.336,145.464 862.579,137.203 862.821,129.962 863.063,123.622 863.305,118.093 863.548,113.305 \n",
       "  863.79,109.197 864.032,105.711 864.274,102.79 864.517,100.376 864.759,98.4086 865.001,96.8302 865.243,95.5828 865.486,94.6122 865.728,93.8689 865.97,93.3085 \n",
       "  866.212,92.8925 866.455,92.5884 866.697,92.3693 866.939,92.2139 867.181,92.1049 867.423,92.0295 867.666,91.9778 867.908,91.9426 868.15,91.9186 868.392,91.9021 \n",
       "  868.635,91.8906 868.877,91.8824 869.119,91.8762 869.361,91.8712 869.604,91.8671 869.846,91.8635 870.088,91.8601 870.33,91.857 870.573,91.8539 870.815,91.8509 \n",
       "  871.057,91.8481 871.299,91.8453 871.541,91.8428 871.784,91.8406 872.026,91.8391 872.268,91.8387 872.51,91.8402 872.753,91.8449 872.995,91.8547 873.237,91.8731 \n",
       "  873.479,91.905 873.722,91.9581 873.964,92.0439 874.206,92.1794 874.448,92.3888 874.691,92.7065 874.933,93.18 875.175,93.8738 875.417,94.8732 875.66,96.289 \n",
       "  875.902,98.2614 876.144,100.964 876.386,104.604 876.628,109.425 876.871,115.702 877.113,123.735 877.355,133.835 877.597,146.309 877.84,161.438 878.082,179.448 \n",
       "  878.324,200.483 878.566,224.571 878.809,251.597 879.051,281.277 879.293,313.15 879.535,346.602 879.778,381.069 880.02,416.656 880.262,454.752 880.504,496.224 \n",
       "  880.746,536.241 880.989,563.867 881.231,572.764 881.473,568.572 881.715,560.448 881.958,551.289 882.2,539.086 882.442,521.946 882.684,499.594 882.927,472.719 \n",
       "  883.169,442.352 883.411,409.631 883.653,375.698 883.896,341.633 884.138,308.399 884.38,276.803 884.622,247.474 884.865,220.851 885.107,197.192 885.349,176.59 \n",
       "  885.591,158.999 885.833,144.261 886.076,132.14 886.318,122.351 886.56,114.585 886.802,108.53 887.045,103.891 887.287,100.399 887.529,97.8163 887.771,95.9424 \n",
       "  888.014,94.6129 888.256,93.6983 888.498,93.1013 888.74,92.7543 888.983,92.6171 889.225,92.6762 889.467,92.9445 889.709,93.4633 889.952,94.3056 890.194,95.581 \n",
       "  890.436,97.4422 890.678,100.092 890.92,103.79 891.163,108.859 891.405,115.69 891.647,124.743 891.889,136.539 892.132,151.651 892.374,170.681 892.616,194.23 \n",
       "  892.858,222.854 893.101,257.016 893.343,297.023 893.585,342.966 893.827,394.654 894.07,451.564 894.312,512.808 894.554,577.126 894.796,642.914 895.038,708.297 \n",
       "  895.281,771.244 895.523,829.711 895.765,881.815 896.007,925.995 896.25,961.177 896.492,986.999 896.734,1004.46 896.976,1017.3 897.219,1032.02 897.461,1051.31 \n",
       "  897.703,1063.54 897.945,1048.73 898.188,1003.4 898.43,946.398 898.672,895.346 898.914,852.152 899.157,811.048 899.399,767.916 899.641,721.571 899.883,672.241 \n",
       "  900.125,620.679 900.368,567.893 900.61,515.031 900.852,463.288 901.094,413.809 901.337,367.62 901.579,325.584 901.821,288.381 902.063,256.523 902.306,230.383 \n",
       "  902.548,210.245 902.79,196.349 903.032,188.939 903.275,188.306 903.517,194.81 903.759,208.885 904.001,231.025 904.243,261.747 904.486,301.526 904.728,350.706 \n",
       "  904.97,409.398 905.212,477.36 905.455,553.879 905.697,637.679 905.939,726.863 906.181,818.923 906.424,910.837 906.666,999.265 906.908,1080.84 907.15,1152.54 \n",
       "  907.393,1212.04 907.635,1258.11 907.877,1290.77 908.119,1311.41 908.362,1322.55 908.604,1327.47 908.846,1329.66 909.088,1332.15 909.33,1336.97 909.573,1344.75 \n",
       "  909.815,1354.53 910.057,1363.95 910.299,1369.63 910.542,1367.77 910.784,1354.82 911.026,1328.01 911.268,1285.84 911.511,1228.2 911.753,1156.38 911.995,1072.85 \n",
       "  912.237,980.848 912.48,884.028 912.722,786.031 912.964,690.171 913.206,599.213 913.449,515.244 913.691,439.649 913.933,373.152 914.175,315.909 914.417,267.626 \n",
       "  914.66,227.681 914.902,195.241 915.144,169.364 915.386,149.078 915.629,133.445 915.871,121.596 916.113,112.763 916.355,106.284 916.598,101.608 916.84,98.2875 \n",
       "  917.082,95.9661 917.324,94.3688 917.567,93.2866 917.809,92.5647 918.051,92.0902 918.293,91.7829 918.535,91.5866 918.778,91.4627 919.02,91.3853 919.262,91.3372 \n",
       "  919.504,91.3074 919.747,91.2887 919.989,91.2767 920.231,91.2687 920.473,91.2629 920.716,91.2585 920.958,91.2548 921.2,91.2516 921.442,91.2485 921.685,91.2456 \n",
       "  921.927,91.2427 922.169,91.2399 922.411,91.2371 922.654,91.2343 922.896,91.2316 923.138,91.2289 923.38,91.2263 923.622,91.2238 923.865,91.2216 924.107,91.2199 \n",
       "  924.349,91.2191 924.591,91.2196 924.834,91.2223 925.076,91.2287 925.318,91.2409 925.56,91.2623 925.803,91.2977 926.045,91.3545 926.287,91.4432 926.529,91.5784 \n",
       "  926.772,91.7806 927.014,92.0776 927.256,92.506 927.498,93.1133 927.74,93.9599 927.983,95.12 928.225,96.683 928.467,98.7533 928.709,101.449 928.952,104.897 \n",
       "  929.194,109.233 929.436,114.588 929.678,121.081 929.921,128.809 930.163,137.834 930.405,148.167 930.647,159.759 930.89,172.489 931.132,186.156 931.374,200.483 \n",
       "  931.616,215.117 931.859,229.641 932.101,243.596 932.343,256.505 932.585,267.902 932.827,277.364 933.07,284.547 933.312,289.216 933.554,291.268 933.796,290.757 \n",
       "  934.039,287.904 934.281,283.093 934.523,276.874 934.765,269.935 935.008,263.085 935.25,257.215 935.492,253.261 935.734,252.155 935.977,254.777 936.219,261.901 \n",
       "  936.461,274.143 936.703,291.91 936.945,315.353 937.188,344.34 937.43,378.423 937.672,416.844 937.914,458.54 938.157,502.179 938.399,546.217 938.641,588.967 \n",
       "  938.883,628.686 939.126,663.675 939.368,692.377 939.61,713.476 939.852,725.975 940.095,729.264 940.337,723.153 940.579,707.884 940.821,684.106 941.064,652.826 \n",
       "  941.306,615.333 941.548,573.11 941.79,527.733 942.032,480.778 942.275,433.728 942.517,387.905 942.759,344.41 943.001,304.098 943.244,267.565 943.486,235.159 \n",
       "  943.728,207.002 943.97,183.029 944.213,163.025 944.455,146.676 944.697,133.602 944.939,123.397 945.182,115.658 945.424,110.008 945.666,106.109 945.908,103.668 \n",
       "  946.151,102.444 946.393,102.239 946.635,102.896 946.877,104.289 947.119,106.314 947.362,108.88 947.604,111.902 947.846,115.291 948.088,118.954 948.331,122.785 \n",
       "  948.573,126.676 948.815,130.51 949.057,134.174 949.3,137.564 949.542,140.596 949.784,143.217 950.026,145.412 950.269,147.218 950.511,148.728 950.753,150.098 \n",
       "  950.995,151.544 951.237,153.341 951.48,155.814 951.722,159.321 951.964,164.24 952.206,170.937 952.449,179.744 952.691,190.93 952.933,204.666 953.175,221.001 \n",
       "  953.418,239.838 953.66,260.918 953.902,283.814 954.144,307.939 954.387,332.561 954.629,356.839 954.871,379.863 955.113,400.708 955.356,418.5 955.598,432.594 \n",
       "  955.84,443.472 956.082,456.323 956.324,488.061 956.567,564.519 956.809,683.022 957.051,771.86 957.293,744.098 957.536,609.014 957.778,460.78 958.02,363.634 \n",
       "  958.262,313.928 958.505,286.618 958.747,267.72 958.989,253.833 959.231,245.198 959.474,242.709 959.716,247.25 959.958,259.601 960.2,280.395 960.442,310.08 \n",
       "  960.685,348.875 960.927,396.72 961.169,453.221 961.411,517.612 961.654,588.716 961.896,664.939 962.138,744.283 962.38,824.398 962.623,902.658 962.865,976.285 \n",
       "  963.107,1042.48 963.349,1098.6 963.592,1142.29 963.834,1171.68 964.076,1185.47 964.318,1183.04 964.561,1164.49 964.803,1130.64 965.045,1082.96 965.287,1023.46 \n",
       "  965.529,954.563 965.772,878.916 966.014,799.254 966.256,718.22 966.498,638.233 966.741,561.373 966.983,489.318 967.225,423.3 967.467,364.11 967.71,312.13 \n",
       "  967.952,267.379 968.194,229.587 968.436,198.264 968.679,172.773 968.921,152.396 969.163,136.392 969.405,124.039 969.648,114.665 969.89,107.671 970.132,102.54 \n",
       "  970.374,98.8362 970.616,96.2068 970.859,94.3701 971.101,93.1074 971.343,92.253 971.585,91.6837 971.828,91.3101 972.07,91.0684 972.312,90.9142 972.554,90.8169 \n",
       "  972.797,90.7561 973.039,90.7183 973.281,90.6947 973.523,90.6798 973.766,90.6701 974.008,90.6634 974.25,90.6585 974.492,90.6547 974.734,90.6514 974.977,90.6484 \n",
       "  975.219,90.6455 975.461,90.6428 975.703,90.6401 975.946,90.6375 976.188,90.6349 976.43,90.6322 976.672,90.6296 976.915,90.627 977.157,90.6244 977.399,90.6219 \n",
       "  977.641,90.6194 977.884,90.6171 978.126,90.6149 978.368,90.6131 978.61,90.6118 978.853,90.6113 979.095,90.6122 979.337,90.6151 979.579,90.6211 979.821,90.6318 \n",
       "  980.064,90.6494 980.306,90.6769 980.548,90.7186 980.79,90.7798 981.033,90.868 981.275,90.9923 981.517,91.1642 981.759,91.3976 982.002,91.7088 982.244,92.1164 \n",
       "  982.486,92.6408 982.728,93.3038 982.971,94.1267 983.213,95.1297 983.455,96.3298 983.697,97.7383 983.939,99.3596 984.182,101.188 984.424,103.207 984.666,105.387 \n",
       "  984.908,107.686 985.151,110.049 985.393,112.41 985.635,114.695 985.877,116.824 986.12,118.717 986.362,120.3 986.604,121.507 986.846,122.286 987.089,122.603 \n",
       "  987.331,122.444 987.573,121.815 987.815,120.745 988.058,119.279 988.3,117.479 988.542,115.417 988.784,113.171 989.026,110.823 989.269,108.447 989.511,106.114 \n",
       "  989.753,103.883 989.995,101.799 990.238,99.8977 990.48,98.199 990.722,96.7123 990.964,95.4365 991.207,94.3624 991.449,93.4746 991.691,92.754 991.933,92.1793 \n",
       "  992.176,91.7288 992.418,91.3816 992.66,91.1183 992.902,90.9218 993.145,90.7774 993.387,90.6728 993.629,90.598 993.871,90.5451 994.113,90.5081 994.356,90.4824 \n",
       "  994.598,90.4644 994.84,90.4519 995.082,90.4429 995.325,90.4365 995.567,90.4317 995.809,90.4282 996.051,90.4259 996.294,90.4249 996.536,90.4257 996.778,90.4294 \n",
       "  997.02,90.4379 997.263,90.454 997.505,90.4825 997.747,90.5309 997.989,90.6103 998.231,90.7378 998.474,90.9382 998.716,91.2477 998.958,91.7173 999.2,92.4179 \n",
       "  999.443,93.4464 999.685,94.9319 999.927,97.0432 1000.17,99.9962 1000.41,104.061 1000.65,109.566 1000.9,116.903 1001.14,126.523 1001.38,138.932 1001.62,154.673 \n",
       "  1001.87,174.309 1002.11,198.383 1002.35,227.383 1002.59,261.687 1002.83,301.507 1003.08,346.833 1003.32,397.379 1003.56,452.541 1003.8,511.39 1004.05,572.683 \n",
       "  1004.29,634.925 1004.53,696.466 1004.77,755.639 1005.01,810.91 1005.26,861.037 1005.5,905.185 1005.74,942.991 1005.98,974.554 1006.23,1000.34 1006.47,1021 \n",
       "  1006.71,1037.18 1006.95,1049.34 1007.19,1057.52 1007.44,1061.36 1007.68,1060.07 1007.92,1052.57 1008.16,1037.73 1008.41,1014.55 1008.65,982.412 1008.89,941.246 \n",
       "  1009.13,891.578 1009.37,834.531 1009.62,771.718 1009.86,705.085 1010.1,636.724 1010.34,568.688 1010.59,502.838 1010.83,440.726 1011.07,383.531 1011.31,332.037 \n",
       "  1011.55,286.652 1011.8,247.453 1012.04,214.246 1012.28,186.635 1012.52,164.088 1012.77,145.997 1013.01,131.73 1013.25,120.667 1013.49,112.23 1013.73,105.901 \n",
       "  1013.98,101.231 1014.22,97.839 1014.46,95.4154 1014.7,93.7109 1014.95,92.5308 1015.19,91.7264 1015.43,91.1865 1015.67,90.8294 1015.91,90.5967 1016.16,90.447 \n",
       "  1016.4,90.3519 1016.64,90.292 1016.88,90.2546 1017.13,90.2312 1017.37,90.2165 1017.61,90.2072 1017.85,90.2014 1018.09,90.1979 1018.34,90.1966 1018.58,90.1977 \n",
       "  1018.82,90.2022 1019.06,90.212 1019.31,90.2299 1019.55,90.261 1019.79,90.3125 1020.03,90.3955 1020.28,90.5261 1020.52,90.7277 1020.76,91.0332 1021,91.4881 \n",
       "  1021.24,92.1543 1021.49,93.1138 1021.73,94.4731 1021.97,96.3675 1022.21,98.9648 1022.46,102.468 1022.7,107.114 1022.94,113.176 1023.18,120.954 1023.42,130.766 \n",
       "  1023.67,142.933 1023.91,157.761 1024.15,175.517 1024.39,196.399 1024.64,220.51 1024.88,247.829 1025.12,278.188 1025.36,311.255 1025.6,346.529 1025.85,383.354 \n",
       "  1026.09,420.971 1026.33,458.782 1026.57,497.605 1026.82,543.253 1027.06,609.36 1027.3,705.19 1027.54,806.098 1027.78,855.742 1028.03,829.002 1028.27,766.6 \n",
       "  1028.51,721.457 1028.75,707.409 1029,711.637 1029.24,722.248 1029.48,734.898 1029.72,748.824 1029.96,763.945 1030.21,780.032 1030.45,796.571 1030.69,812.779 \n",
       "  1030.93,827.655 1031.18,840.067 1031.42,848.879 1031.66,853.245 1031.9,853.383 1032.14,851.865 1032.39,852.889 1032.63,855.46 1032.87,846.82 1033.11,812.743 \n",
       "  1033.36,756.511 1033.6,695.592 1033.84,641.483 1034.08,593.873 1034.32,548.983 1034.57,504.992 1034.81,461.821 1035.05,419.935 1035.29,379.842 1035.54,341.992 \n",
       "  1035.78,306.752 1036.02,274.4 1036.26,245.12 1036.5,218.998 1036.75,196.028 1036.99,176.122 1037.23,159.118 1037.47,144.802 1037.72,132.921 1037.96,123.2 \n",
       "  1038.2,115.36 1038.44,109.125 1038.69,104.238 1038.93,100.461 1039.17,97.5829 1039.41,95.4213 1039.65,93.8208 1039.9,92.6528 1040.14,91.8125 1040.38,91.2166 \n",
       "  1040.62,90.8 1040.87,90.5128 1041.11,90.3174 1041.35,90.1863 1041.59,90.0992 1041.83,90.042 1042.08,90.0047 1042.32,89.9803 1042.56,89.9643 1042.8,89.9536 \n",
       "  1043.05,89.9462 1043.29,89.9409 1043.53,89.9368 1043.77,89.9334 1044.01,89.9305 1044.26,89.9278 1044.5,89.9253 1044.74,89.923 1044.98,89.9209 1045.23,89.9192 \n",
       "  1045.47,89.918 1045.71,89.9177 1045.95,89.9194 1046.19,89.9277 1046.44,89.9947 1046.68,90.5802 1046.92,94.3914 1047.16,111.298 1047.41,160.744 1047.65,251.84 \n",
       "  1047.89,345.141 1048.13,367.294 1048.37,298.067 1048.62,198.525 1048.86,130.857 1049.1,103.831 1049.34,98.3269 1049.59,99.9893 1049.83,103.987 1050.07,109.588 \n",
       "  1050.31,117.031 1050.55,126.733 1050.8,139.162 1051.04,154.807 1051.28,174.153 1051.52,197.645 1051.77,225.645 1052.01,258.389 1052.25,295.936 1052.49,338.12 \n",
       "  1052.73,384.514 1052.98,434.405 1053.22,486.784 1053.46,540.36 1053.7,593.603 1053.95,644.805 1054.19,692.167 1054.43,733.899 1054.67,768.334 1054.91,794.036 \n",
       "  1055.16,809.899 1055.4,815.225 1055.64,809.781 1055.88,793.805 1056.13,768 1056.37,733.475 1056.61,691.669 1056.85,644.253 1057.1,593.015 1057.34,539.755 \n",
       "  1057.58,486.18 1057.82,433.816 1058.06,383.953 1058.31,337.595 1058.55,295.453 1058.79,257.952 1059.03,225.254 1059.28,197.298 1059.52,173.847 1059.76,154.538 \n",
       "  1060,138.925 1060.24,126.523 1060.49,116.842 1060.73,109.415 1060.97,103.814 1061.21,99.6603 1061.46,96.6316 1061.7,94.4605 1061.94,92.9316 1062.18,91.8758 \n",
       "  1062.42,91.1648 1062.67,90.7043 1062.91,90.429 1063.15,90.2976 1063.39,90.2905 1063.64,90.4078 1063.88,90.6696 1064.12,91.1183 1064.36,91.8223 1064.6,92.8811 \n",
       "  1064.85,94.4324 1065.09,96.6597 1065.33,99.801 1065.57,104.156 1065.82,110.091 1066.06,118.044 1066.3,128.514 1066.54,142.057 1066.78,159.256 1067.03,180.691 \n",
       "  1067.27,206.893 1067.51,238.286 1067.75,275.125 1068,317.434 1068.24,364.952 1068.48,417.099 1068.72,472.967 1068.96,531.348 1069.21,590.791 1069.45,649.695 \n",
       "  1069.69,706.419 1069.93,759.385 1070.18,807.18 1070.42,848.612 1070.66,882.738 1070.9,908.851 1071.14,926.444 1071.39,935.168 1071.63,934.795 1071.87,925.219 \n",
       "  1072.11,906.477 1072.36,878.8 1072.6,842.673 1072.84,798.887 1073.08,748.552 1073.32,693.082 1073.57,634.127 1073.81,573.465 1074.05,512.883 1074.29,454.049 \n",
       "  1074.54,398.403 1074.78,347.079 1075.02,300.864 1075.26,260.192 1075.51,225.179 1075.75,195.668 1075.99,171.295 1076.23,151.557 1076.47,135.873 1076.72,123.637 \n",
       "  1076.96,114.262 1077.2,107.203 1077.44,101.978 1077.69,98.1743 1077.93,95.4515 1078.17,93.5335 1078.41,92.2039 1078.65,91.2966 1078.9,90.6871 1079.14,90.2837 \n",
       "  1079.38,90.0206 1079.62,89.8514 1079.87,89.7439 1080.11,89.6764 1080.35,89.6342 1080.59,89.6079 1080.83,89.5914 1081.08,89.5809 1081.32,89.5738 1081.56,89.5688 \n",
       "  1081.8,89.565 1082.05,89.5619 1082.29,89.5592 1082.53,89.5567 1082.77,89.5543 1083.01,89.5519 1083.26,89.5496 1083.5,89.5473 1083.74,89.545 1083.98,89.5427 \n",
       "  1084.23,89.5404 1084.47,89.5382 1084.71,89.5359 1084.95,89.5336 1085.19,89.5313 1085.44,89.529 1085.68,89.5268 1085.92,89.5245 1086.16,89.5222 1086.41,89.5199 \n",
       "  1086.65,89.5177 1086.89,89.5154 1087.13,89.5131 1087.37,89.5109 1087.62,89.5086 1087.86,89.5063 1088.1,89.504 1088.34,89.5018 1088.59,89.4995 1088.83,89.4972 \n",
       "  1089.07,89.495 1089.31,89.4927 1089.55,89.4905 1089.8,89.4882 1090.04,89.4861 1090.28,89.4839 1090.52,89.4819 1090.77,89.4801 1091.01,89.4787 1091.25,89.478 \n",
       "  1091.49,89.4785 1091.74,89.4812 1091.98,89.4874 1092.22,89.4998 1092.46,89.5221 1092.7,89.5605 1092.95,89.6247 1093.19,89.7291 1093.43,89.8956 1093.67,90.1559 \n",
       "  1093.92,90.5559 1094.16,91.1601 1094.4,92.0577 1094.64,93.3691 1094.88,95.2538 1095.13,97.9183 1095.37,101.623 1095.61,106.69 1095.85,113.505 1096.1,122.517 \n",
       "  1096.34,134.233 1096.58,149.204 1096.82,168.002 1097.06,191.19 1097.31,219.278 1097.55,252.677 1097.79,291.643 1098.03,336.221 1098.28,386.188 1098.52,441.014 \n",
       "  1098.76,499.83 1099,561.425 1099.24,624.263 1099.49,686.536 1099.73,746.25 1099.97,801.327 1100.21,849.747 1100.46,889.698 1100.7,919.861 1100.94,940.26 \n",
       "  1101.18,954.548 1101.42,972.283 1101.67,1002.64 1101.91,1034.5 1102.15,1030.65 1102.39,966.74 1102.64,866.559 1102.88,772.741 1103.12,702.226 1103.36,647.902 \n",
       "  1103.6,600.457 1103.85,556.104 1104.09,514.142 1104.33,474.564 1104.57,437.357 1104.82,402.451 1105.06,369.755 1105.3,339.204 1105.54,310.784 1105.78,284.547 \n",
       "  1106.03,260.609 1106.27,239.149 1106.51,220.401 1106.75,204.651 1107,192.224 1107.24,183.492 1107.48,178.857 1107.72,178.754 1107.96,183.635 1108.21,193.955 \n",
       "  1108.45,210.143 1108.69,232.573 1108.93,261.514 1109.18,297.091 1109.42,339.222 1109.66,387.576 1109.9,441.526 1110.15,500.12 1110.39,562.069 1110.63,625.77 \n",
       "  1110.87,689.341 1111.11,750.699 1111.36,807.658 1111.6,858.045 1111.84,899.834 1112.08,931.273 1112.33,951.004 1112.57,958.156 1112.81,952.412 1113.05,934.022 \n",
       "  1113.29,903.796 1113.54,863.037 1113.78,813.449 1114.02,757.025 1114.26,695.908 1114.51,632.27 1114.75,568.18 1114.99,505.51 1115.23,445.859 1115.47,390.504 \n",
       "  1115.72,340.391 1115.96,296.14 1116.2,258.085 1116.44,226.319 1116.69,200.752 1116.93,181.172 1117.17,167.294 1117.41,158.81 1117.65,155.42 1117.9,156.851 \n",
       "  1118.14,162.86 1118.38,173.225 1118.62,187.728 1118.87,206.126 1119.11,228.118 1119.35,253.316 1119.59,281.218 1119.83,311.191 1120.08,342.465 1120.32,374.144 \n",
       "  1120.56,405.232 1120.8,434.675 1121.05,461.414 1121.29,484.448 1121.53,502.901 1121.77,516.09 1122.01,523.575 1122.26,525.204 1122.5,521.134 1122.74,511.832 \n",
       "  1122.98,498.045 1123.23,480.754 1123.47,461.107 1123.71,440.332 1123.95,419.645 1124.19,400.16 1124.44,382.806 1124.68,368.262 1124.92,356.918 1125.16,348.854 \n",
       "  1125.41,343.86 1125.65,341.469 1125.89,341.018 1126.13,341.715 1126.37,342.721 1126.62,343.219 1126.86,342.48 1127.1,339.914 1127.34,335.108 1127.59,327.837 \n",
       "  1127.83,318.071 1128.07,305.954 1128.31,291.783 1128.56,275.968 1128.8,258.994 1129.04,241.38 1129.28,223.64 1129.52,206.253 1129.77,189.631 1130.01,174.11 \n",
       "  1130.25,159.933 1130.49,147.254 1130.74,136.142 1130.98,126.593 1131.22,118.542 1131.46,111.878 1131.7,106.462 1131.95,102.138 1132.19,98.7458 1132.43,96.13 \n",
       "  1132.67,94.1469 1132.92,92.6686 1133.16,91.5847 1133.4,90.8028 1133.64,90.2478 1133.88,89.8601 1134.13,89.5933 1134.37,89.4125 1134.61,89.2916 1134.85,89.2118 \n",
       "  1135.1,89.1599 1135.34,89.1312 1135.58,89.1729 1135.82,89.7017 1136.06,92.8232 1136.31,104.845 1136.55,134.851 1136.79,180.625 1137.03,215.211 1137.28,208.799 \n",
       "  1137.52,167.357 1137.76,124.33 1138,100.001 1138.24,91.3919 1138.49,89.3938 1138.73,89.0818 1138.97,89.0472 1139.21,89.0427 1139.46,89.0405 1139.7,89.0384 \n",
       "  1139.94,89.0363 1140.18,89.0342 1140.42,89.0322 1140.67,89.0301 1140.91,89.0281 1141.15,89.0261 1141.39,89.0244 1141.64,89.0229 1141.88,89.0219 1142.12,89.0218 \n",
       "  1142.36,89.0233 1142.6,89.0277 1142.85,89.0368 1143.09,89.0539 1143.33,89.0841 1143.57,89.1358 1143.82,89.2216 1144.06,89.3611 1144.3,89.5834 1144.54,89.9313 \n",
       "  1144.78,90.4666 1145.03,91.2764 1145.27,92.4817 1145.51,94.2462 1145.75,96.7873 1146,100.387 1146.24,105.404 1146.48,112.28 1146.72,121.547 1146.97,133.828 \n",
       "  1147.21,149.828 1147.45,170.316 1147.69,196.093 1147.93,227.954 1148.18,266.623 1148.42,312.694 1148.66,366.544 1148.9,428.261 1149.15,497.566 1149.39,573.747 \n",
       "  1149.63,655.623 1149.87,741.528 1150.11,829.339 1150.36,916.538 1150.6,1000.32 1150.84,1077.74 1151.08,1145.87 1151.33,1201.97 1151.57,1243.71 1151.81,1269.3 \n",
       "  1152.05,1277.6 1152.29,1268.25 1152.54,1241.66 1152.78,1199 1153.02,1142.11 1153.26,1073.35 1153.51,995.467 1153.75,911.397 1153.99,824.089 1154.23,736.335 \n",
       "  1154.47,650.637 1154.72,569.103 1154.96,493.384 1155.2,424.657 1155.44,363.64 1155.69,310.641 1155.93,265.626 1156.17,228.306 1156.41,198.221 1156.65,174.829 \n",
       "  1156.9,157.584 1157.14,146.003 1157.38,139.716 1157.62,138.506 1157.87,142.327 1158.11,151.307 1158.35,165.738 1158.59,186.045 1158.83,212.741 1159.08,246.365 \n",
       "  1159.32,287.414 1159.56,336.255 1159.8,393.041 1160.05,457.622 1160.29,529.475 1160.53,607.64 1160.77,690.689 1161.01,776.736 1161.26,863.469 1161.5,948.242 \n",
       "  1161.74,1028.2 1161.98,1100.44 1162.23,1162.34 1162.47,1211.87 1162.71,1247.8 1162.95,1269.27 1163.19,1275 1163.44,1262.44 1163.68,1228.36 1163.92,1173.23 \n",
       "  1164.16,1103.42 1164.41,1025.78 1164.65,943.536 1164.89,858.077 1165.13,771.221 1165.38,685.267 1165.62,602.432 1165.86,524.558 1166.1,453.022 1166.34,388.726 \n",
       "  1166.59,332.128 1166.83,283.292 1167.07,241.961 1167.31,207.637 1167.56,179.653 1167.8,157.255 1168.04,139.654 1168.28,126.085 1168.52,115.838 1168.77,108.289 \n",
       "  1169.01,102.909 1169.25,99.2766 1169.49,97.0779 1169.74,96.104 1169.98,96.2484 1170.22,97.5034 1170.46,99.9563 1170.7,103.788 1170.95,109.282 1171.19,116.905 \n",
       "  1171.43,127.549 1171.67,142.708 1171.92,163.561 1172.16,188.8 1172.4,214.871 1172.64,240.573 1172.88,269.241 1173.13,304.576 1173.37,347.147 1173.61,395.512 \n",
       "  1173.85,448.109 1174.1,503.602 1174.34,560.592 1174.58,617.472 1174.82,672.445 1175.06,723.601 1175.31,769.025 1175.55,806.915 1175.79,835.699 1176.03,854.142 \n",
       "  1176.28,861.438 1176.52,857.263 1176.76,841.802 1177,815.734 1177.24,780.186 1177.49,736.646 1177.73,686.866 1177.97,632.741 1178.21,576.195 1178.46,519.066 \n",
       "  1178.7,463.015 1178.94,409.457 1179.18,359.51 1179.42,313.987 1179.67,273.391 1179.91,237.955 1180.15,207.673 1180.39,182.364 1180.64,161.722 1180.88,145.382 \n",
       "  1181.12,132.969 1181.36,124.154 1181.6,118.695 1181.85,116.476 1182.09,117.537 1182.33,122.094 1182.57,130.548 1182.82,143.492 1183.06,161.682 1183.3,186.013 \n",
       "  1183.54,217.446 1183.79,256.93 1184.03,305.282 1184.27,363.052 1184.51,430.38 1184.75,506.857 1185,591.418 1185.24,682.303 1185.48,777.09 1185.72,872.838 \n",
       "  1185.97,966.318 1186.21,1054.32 1186.45,1134 1186.69,1203.16 1186.93,1260.47 1187.18,1305.55 1187.42,1338.83 1187.66,1361.29 1187.9,1374.14 1188.15,1378.42 \n",
       "  1188.39,1374.7 1188.63,1362.93 1188.87,1342.48 1189.11,1312.37 1189.36,1271.54 1189.6,1219.28 1189.84,1155.52 1190.08,1081.05 1190.33,997.523 1190.57,907.379 \n",
       "  1190.81,813.563 1191.05,719.223 1191.29,627.386 1191.54,540.683 1191.78,461.163 1192.02,390.2 1192.26,328.49 1192.51,276.127 1192.75,232.717 1192.99,197.517 \n",
       "  1193.23,169.572 1193.47,147.83 1193.72,131.24 1193.96,118.816 1194.2,109.68 1194.44,103.079 1194.69,98.3921 1194.93,95.1192 1195.17,92.8716 1195.41,91.353 \n",
       "  1195.65,90.3433 1195.9,89.6825 1196.14,89.2566 1196.38,88.9861 1196.62,88.8169 1196.87,88.7122 1197.11,88.6483 1197.35,88.6095 1197.59,88.5876 1197.83,88.5984 \n",
       "  1198.08,88.8678 1198.32,90.9494 1198.56,101.474 1198.8,136.625 1199.05,211.772 1199.29,306.14 1199.53,353.254 1199.77,310.395 1200.01,216.635 1200.26,139.491 \n",
       "  1200.5,102.498 1200.74,91.1692 1200.98,88.8739 1201.23,88.5599 1201.47,88.5291 1201.71,88.5254 1201.95,88.5234 1202.2,88.5215 1202.44,88.5196 1202.68,88.5177 \n",
       "  1202.92,88.5158 1203.16,88.5139 1203.41,88.512 1203.65,88.5103 1203.89,88.512 1204.13,88.567 1204.38,89.1701 1204.62,93.5347 1204.86,114.706 1205.1,182.515 \n",
       "  1205.34,320.871 1205.59,484.174 1205.83,552.658 1206.07,463.615 1206.31,297.347 1206.56,168.599 1206.8,109.655 1207.04,92.3376 1207.28,88.9651 1207.52,88.5216 \n",
       "  1207.77,88.4804 1208.01,88.4762 1208.25,88.4743 1208.49,88.4725 1208.74,88.4709 1208.98,88.4695 1209.22,88.4684 1209.46,88.468 1209.7,88.4689 1209.95,88.4718 \n",
       "  1210.19,88.4783 1210.43,88.4908 1210.67,88.5131 1210.92,88.5513 1211.16,88.6151 1211.4,88.7189 1211.64,88.8845 1211.88,89.1439 1212.13,89.5433 1212.37,90.1483 \n",
       "  1212.61,91.0497 1212.85,92.3713 1213.1,94.2781 1213.34,96.9856 1213.58,100.769 1213.82,105.971 1214.06,113.008 1214.31,122.376 1214.55,134.643 1214.79,150.44 \n",
       "  1215.03,170.441 1215.28,195.333 1215.52,225.769 1215.76,262.308 1216,305.352 1216.24,355.067 1216.49,411.305 1216.73,473.54 1216.97,540.824 1217.21,611.774 \n",
       "  1217.46,684.612 1217.7,757.259 1217.94,827.487 1218.18,893.113 1218.43,952.214 1218.67,1003.34 1218.91,1045.65 1219.15,1079.01 1219.39,1103.93 1219.64,1121.42 \n",
       "  1219.88,1132.74 1220.12,1139.11 1220.36,1141.46 1220.61,1140.15 1220.85,1134.99 1221.09,1125.2 1221.33,1109.61 1221.57,1086.94 1221.82,1056.1 1222.06,1016.55 \n",
       "  1222.3,969.26 1222.54,919.835 1222.79,883.534 1223.03,879.705 1223.27,899.288 1223.51,883.596 1223.75,782.556 1224,625.785 1224.24,483.353 1224.48,385.995 \n",
       "  1224.72,322.102 1224.97,274.77 1225.21,236.31 1225.45,204.557 1225.69,178.779 1225.93,158.417 1226.18,142.925 1226.42,131.806 1226.66,124.65 1226.9,121.17 \n",
       "  1227.15,121.221 1227.39,124.811 1227.63,132.097 1227.87,143.379 1228.11,159.071 1228.36,179.671 1228.6,205.713 1228.84,237.715 1229.08,276.107 1229.33,321.168 \n",
       "  1229.57,372.945 1229.81,431.192 1230.05,495.307 1230.29,564.297 1230.54,636.764 1230.78,710.926 1231.02,784.663 1231.26,855.614 1231.51,921.288 1231.75,979.204 \n",
       "  1231.99,1027.05 1232.23,1062.84 1232.47,1085.02 1232.72,1092.62 1232.96,1085.31 1233.2,1063.41 1233.44,1027.88 1233.69,980.253 1233.93,922.511 1234.17,856.965 \n",
       "  1234.41,786.089 1234.65,712.377 1234.9,638.192 1235.14,565.657 1235.38,496.557 1235.62,432.293 1235.87,373.855 1236.11,321.835 1236.35,276.464 1236.59,237.662 \n",
       "  1236.84,205.105 1237.08,178.289 1237.32,156.601 1237.56,139.369 1237.8,125.915 1238.05,115.592 1238.29,107.806 1238.53,102.032 1238.77,97.8226 1239.02,94.8082 \n",
       "  1239.26,92.6898 1239.5,91.2338 1239.74,90.263 1239.98,89.6476 1240.23,89.2978 1240.47,89.1562 1240.71,89.1932 1240.95,89.4022 1241.2,89.7977 1241.44,90.4133 \n",
       "  1241.68,91.3011 1241.92,92.5306 1242.16,94.1888 1242.41,96.378 1242.65,99.2141 1242.89,102.822 1243.13,107.329 1243.38,112.859 1243.62,119.521 1243.86,127.402 \n",
       "  1244.1,136.636 1244.34,147.967 1244.59,165.448 1244.83,202.6 1245.07,282.454 1245.31,407.928 1245.56,521.032 1245.8,539.303 1246.04,458.161 1246.28,356.567 \n",
       "  1246.52,296.217 1246.77,277.195 1247.01,276.033 1247.25,277.855 1247.49,277.893 1247.74,275.257 1247.98,269.96 1248.22,262.239 1248.46,252.444 1248.7,241.006 \n",
       "  1248.95,228.419 1249.19,215.207 1249.43,201.908 1249.67,189.047 1249.92,177.126 1250.16,166.611 1250.4,157.932 1250.64,151.485 1250.88,147.632 1251.13,146.708 \n",
       "  1251.37,149.021 1251.61,154.857 1251.85,164.463 1252.1,178.041 1252.34,195.726 1252.58,217.557 1252.82,243.45 1253.06,273.171 1253.31,306.305 1253.55,342.244 \n",
       "  1253.79,380.18 1254.03,419.113 1254.28,457.884 1254.52,495.213 1254.76,529.769 1255,560.238 1255.25,585.407 1255.49,604.245 1255.73,615.98 1255.97,620.159 \n",
       "  1256.21,616.695 1256.46,605.889 1256.7,588.431 1256.94,565.378 1257.18,538.116 1257.43,508.301 1257.67,477.795 1257.91,448.592 1258.15,422.733 1258.39,402.231 \n",
       "  1258.64,388.978 1258.88,384.671 1259.12,390.719 1259.36,408.171 1259.61,437.641 1259.85,479.248 1260.09,532.567 1260.33,596.61 1260.57,669.817 1260.82,750.094 \n",
       "  1261.06,834.864 1261.3,921.164 1261.54,1005.77 1261.79,1085.33 1262.03,1156.57 1262.27,1216.43 1262.51,1262.29 1262.75,1292.07 1263,1304.4 1263.24,1298.71 \n",
       "  1263.48,1275.24 1263.72,1235 1263.97,1179.73 1264.21,1111.75 1264.45,1033.8 1264.69,948.865 1264.93,859.963 1265.18,770.003 1265.42,681.613 1265.66,597.037 \n",
       "  1265.9,518.054 1266.15,445.953 1266.39,381.534 1266.63,325.148 1266.87,276.761 1267.11,236.025 1267.36,202.365 1267.6,175.054 1267.84,153.286 1268.08,136.239 \n",
       "  1268.33,123.118 1268.57,113.191 1268.81,105.806 1269.05,100.404 1269.29,96.5188 1269.54,93.773 1269.78,91.8677 1270.02,90.5735 1270.26,89.719 1270.51,89.1802 \n",
       "  1270.75,88.8716 1270.99,88.738 1271.23,88.7494 1271.47,88.8955 1271.72,89.1837 1271.96,89.6363 1272.2,90.2899 1272.44,91.1942 1272.69,92.4114 1272.93,94.0147 \n",
       "  1273.17,96.0865 1273.41,98.7151 1273.66,101.991 1273.9,105.998 1274.14,110.812 1274.38,116.486 1274.62,123.046 1274.87,130.478 1275.11,138.727 1275.35,147.712 \n",
       "  1275.59,157.552 1275.84,169.705 1276.08,190.117 1276.32,230.98 1276.56,298.444 1276.8,367.834 1277.05,391.858 1277.29,358.442 1277.53,316.217 1277.77,321.912 \n",
       "  1278.02,377.973 1278.26,426.542 1278.5,409.972 1278.74,336.108 1278.98,259.054 1279.23,211.423 1279.47,188.385 1279.71,175.494 1279.95,165.14 1280.2,155.365 \n",
       "  1280.44,146.04 1280.68,137.345 1280.92,129.459 1281.16,122.52 1281.41,116.633 1281.65,111.882 1281.89,108.345 1282.13,106.111 1282.38,105.294 1282.62,106.056 \n",
       "  1282.86,108.616 1283.1,113.267 1283.34,120.377 1283.59,130.393 1283.83,143.835 1284.07,161.273 1284.31,183.303 1284.56,210.503 1284.8,243.389 1285.04,282.35 \n",
       "  1285.28,327.585 1285.52,379.038 1285.77,436.341 1286.01,498.762 1286.25,565.187 1286.49,634.118 1286.74,703.712 1286.98,771.853 1287.22,836.261 1287.46,894.624 \n",
       "  1287.7,944.75 1287.95,984.727 1288.19,1013.05 1288.43,1028.75 1288.67,1031.42 1288.92,1021.28 1289.16,999.089 1289.4,966.078 1289.64,923.834 1289.88,874.165 \n",
       "  1290.13,818.964 1290.37,760.096 1290.61,699.305 1290.85,638.154 1291.1,577.988 1291.34,519.92 1291.58,464.835 1291.82,413.402 1292.07,366.091 1292.31,323.187 \n",
       "  1292.55,284.818 1292.79,250.969 1293.03,221.506 1293.28,196.198 1293.52,174.744 1293.76,156.789 1294,141.957 1294.25,129.858 1294.49,120.115 1294.73,112.372 \n",
       "  1294.97,106.303 1295.21,101.618 1295.46,98.0721 1295.7,95.4592 1295.94,93.6191 1296.18,92.4358 1296.43,91.8389 1296.67,91.8053 1296.91,92.3616 1297.15,93.5884 \n",
       "  1297.39,95.6246 1297.64,98.6727 1297.88,103.004 1298.12,108.962 1298.36,116.962 1298.61,127.492 1298.85,141.098 1299.09,158.369 1299.33,179.914 1299.57,206.323 \n",
       "  1299.82,238.124 1300.06,275.728 1300.3,319.367 1300.54,369.035 1300.79,424.424 1301.03,484.883 1301.27,549.385 1301.51,616.54 1301.75,684.637 1302,751.744 \n",
       "  1302.24,815.849 1302.48,875.046 1302.72,927.738 1302.97,972.827 1303.21,1009.86 1303.45,1039.08 1303.69,1061.38 1303.93,1078.13 1304.18,1090.95 1304.42,1101.39 \n",
       "  1304.66,1110.72 1304.9,1119.74 1305.15,1128.75 1305.39,1137.61 1305.63,1145.86 1305.87,1152.96 1306.11,1158.37 1306.36,1161.67 1306.6,1162.59 1306.84,1161.03 \n",
       "  1307.08,1156.97 1307.33,1150.46 1307.57,1141.49 1307.81,1129.95 1308.05,1115.52 1308.29,1097.63 1308.54,1075.48 1308.78,1048.17 1309.02,1014.83 1309.26,974.846 \n",
       "  1309.51,928.05 1309.75,874.833 1309.99,816.2 1310.23,753.715 1310.48,689.377 1310.72,625.447 1310.96,564.258 1311.2,508.046 1311.44,458.808 1311.69,418.2 \n",
       "  1311.93,387.482 1312.17,367.486 1312.41,358.614 1312.66,360.848 1312.9,373.766 1313.14,396.571 1313.38,428.117 1313.62,466.942 1313.87,511.312 1314.11,559.273 \n",
       "  1314.35,608.713 1314.59,657.441 1314.84,703.28 1315.08,744.164 1315.32,778.249 1315.56,804.011 1315.8,820.349 1316.05,826.656 1316.29,822.87 1316.53,809.49 \n",
       "  1316.77,787.547 1317.02,758.542 1317.26,724.341 1317.5,687.032 1317.74,648.779 1317.98,611.65 1318.23,577.469 1318.47,547.69 1318.71,523.311 1318.95,504.834 \n",
       "  1319.2,492.281 1319.44,485.251 1319.68,483.02 1319.92,484.663 1320.16,489.19 1320.41,495.67 1320.65,503.339 1320.89,511.679 1321.13,520.452 1321.38,529.692 \n",
       "  1321.62,539.662 1321.86,550.76 1322.1,563.419 1322.34,577.976 1322.59,594.565 1322.83,613.021 1323.07,632.836 1323.31,653.152 1323.56,672.814 1323.8,690.463 \n",
       "  1324.04,704.668 1324.28,714.064 1324.52,717.496 1324.77,714.14 1325.01,703.585 1325.25,685.883 1325.49,661.551 1325.74,631.539 1325.98,597.161 1326.22,560.008 \n",
       "  1326.46,521.849 1326.7,484.518 1326.95,449.811 1327.19,419.386 1327.43,394.676 1327.67,376.815 1327.92,366.584 1328.16,364.379 1328.4,370.197 1328.64,383.652 \n",
       "  1328.89,404.006 1329.13,430.232 1329.37,461.08 1329.61,495.162 1329.85,531.032 1330.1,567.257 1330.34,602.479 1330.58,635.453 1330.82,665.064 1331.07,690.336 \n",
       "  1331.31,710.435 1331.55,724.764 1331.79,733.628 1332.03,740.943 1332.28,759.361 1332.52,807.59 1332.76,882.247 1333,930.768 1333.25,892.815 1333.49,775.361 \n",
       "  1333.73,645.609 1333.97,552.839 1334.21,496.967 1334.46,460.69 1334.7,434.547 1334.94,416.919 1335.18,408.707 1335.43,410.975 1335.67,424.392 1335.91,449.12 \n",
       "  1336.15,484.78 1336.39,530.449 1336.64,584.683 1336.88,645.559 1337.12,710.757 1337.36,777.651 1337.61,843.427 1337.85,905.222 1338.09,960.268 1338.33,1006.04 \n",
       "  1338.57,1040.39 1338.82,1061.68 1339.06,1068.88 1339.3,1061.61 1339.54,1040.15 1339.79,1005.44 1340.03,958.978 1340.27,902.745 1340.51,839.047 1340.75,770.386 \n",
       "  1341,699.322 1341.24,628.34 1341.48,559.747 1341.72,495.593 1341.97,437.624 1342.21,387.264 1342.45,345.617 1342.69,313.491 1342.93,291.422 1343.18,279.712 \n",
       "  1343.42,278.448 1343.66,287.526 1343.9,306.648 1344.15,335.321 1344.39,372.836 1344.63,418.251 1344.87,470.365 1345.12,527.714 1345.36,588.567 1345.6,650.958 \n",
       "  1345.84,712.733 1346.08,771.625 1346.33,825.354 1346.57,871.742 1346.81,908.837 1347.05,935.027 1347.3,949.151 1347.54,950.571 1347.78,939.214 1348.02,915.577 \n",
       "  1348.26,880.689 1348.51,836.032 1348.75,783.44 1348.99,724.971 1349.23,662.783 1349.48,599.078 1349.72,536.585 1349.96,481.314 1350.2,449.104 1350.44,465.661 \n",
       "  1350.69,534.463 1350.93,593.487 1351.17,556.959 1351.41,424.65 1351.66,281.841 1351.9,190.414 1352.14,147.355 1352.38,127.628 1352.62,116.184 1352.87,108.119 \n",
       "  1353.11,102.148 1353.35,97.7545 1353.59,94.5703 1353.84,92.3001 1354.08,90.7077 1354.32,89.6087 1354.56,88.8621 1354.8,88.363 1355.05,88.0343 1355.29,87.8212 \n",
       "  1355.53,87.685 1355.77,87.599 1356.02,87.5455 1356.26,87.5124 1356.5,87.492 1356.74,87.4795 1356.98,87.4716 1357.23,87.4665 1357.47,87.463 1357.71,87.4605 \n",
       "  1357.95,87.4584 1358.2,87.4567 1358.44,87.4551 1358.68,87.4536 1358.92,87.4522 1359.16,87.4507 1359.41,87.4493 1359.65,87.4479 1359.89,87.4465 1360.13,87.4451 \n",
       "  1360.38,87.4437 1360.62,87.4423 1360.86,87.4409 1361.1,87.4395 1361.34,87.4381 1361.59,87.4367 1361.83,87.4353 1362.07,87.434 1362.31,87.4326 1362.56,87.4312 \n",
       "  1362.8,87.4298 1363.04,87.4284 1363.28,87.427 1363.53,87.4256 1363.77,87.4242 1364.01,87.4228 1364.25,87.4215 1364.49,87.4201 1364.74,87.4187 1364.98,87.4173 \n",
       "  1365.22,87.416 1365.46,87.4147 1365.71,87.4135 1365.95,87.4125 1366.19,87.4118 1366.43,87.4116 1366.67,87.4123 1366.92,87.4148 1367.16,87.4201 1367.4,87.4303 \n",
       "  1367.64,87.4487 1367.89,87.4804 1368.13,87.5336 1368.37,87.621 1368.61,87.7616 1368.85,87.9838 1369.1,88.3288 1369.34,88.8558 1369.58,89.6473 1369.82,90.8171 \n",
       "  1370.07,92.5179 1370.31,94.9504 1370.55,98.3727 1370.79,103.109 1371.03,109.554 1371.28,118.181 1371.52,129.532 1371.76,144.214 1372,162.878 1372.25,186.187 \n",
       "  1372.49,214.78 1372.73,249.218 1372.97,289.923 1373.21,337.116 1373.46,390.75 1373.7,450.451 1373.94,515.471 1374.18,584.669 1374.43,656.504 1374.67,729.081 \n",
       "  1374.91,800.209 1375.15,867.506 1375.39,928.525 1375.64,980.898 1375.88,1022.49 1376.12,1051.54 1376.36,1066.79 1376.61,1067.55 1376.85,1053.81 1377.09,1026.16 \n",
       "  1377.33,985.807 1377.57,934.47 1377.82,874.25 1378.06,807.496 1378.3,736.654 1378.54,664.12 1378.79,592.108 1379.03,522.552 1379.27,457.028 1379.51,396.723 \n",
       "  1379.75,342.424 1380,294.543 1380.24,253.159 1380.48,218.076 1380.72,188.89 1380.97,165.051 1381.21,145.927 1381.45,130.854 1381.69,119.179 1381.94,110.29 \n",
       "  1382.18,103.636 1382.42,98.7372 1382.66,95.1917 1382.9,92.6879 1383.15,91.1821 1383.39,92.0883 1383.63,102.791 1383.87,143.77 1384.12,239.95 1384.36,374.653 \n",
       "  1384.6,460.692 1384.84,421.719 1385.08,293.679 1385.33,175.057 1385.57,113.019 1385.81,92.5089 1386.05,88.1492 1386.3,88.5795 1386.54,95.6852 1386.78,127.389 \n",
       "  1387.02,219.421 1387.26,387.279 1387.51,556.521 1387.75,592.934 1387.99,462.674 1388.23,279.279 1388.48,154.936 1388.72,103.707 1388.96,90.0305 1389.2,87.5995 \n",
       "  1389.44,87.3071 1389.69,87.2824 1389.93,87.2804 1390.17,87.2802 1390.41,87.2811 1390.66,87.2836 1390.9,87.2891 1391.14,87.2996 1391.38,87.3185 1391.62,87.3511 \n",
       "  1391.87,87.4061 1392.11,87.4966 1392.35,87.6428 1392.59,87.8746 1392.84,88.2362 1393.08,88.7907 1393.32,89.6274 1393.56,90.8693 1393.8,92.6831 1394.05,95.2892 \n",
       "  1394.29,98.9732 1394.53,104.096 1394.77,111.103 1395.02,120.53 1395.26,132.999 1395.5,149.216 1395.74,169.947 1395.98,195.992 1396.23,228.134 1396.47,267.089 \n",
       "  1396.71,313.429 1396.95,367.509 1397.2,429.375 1397.44,498.696 1397.68,574.688 1397.92,656.075 1398.16,741.083 1398.41,827.471 1398.65,912.618 1398.89,993.661 \n",
       "  1399.13,1067.67 1399.38,1131.87 1399.62,1183.83 1399.86,1221.73 1400.1,1244.45 1400.35,1251.69 1400.59,1243.99 1400.83,1222.61 1401.07,1189.41 1401.31,1146.63 \n",
       "  1401.56,1096.64 1401.8,1041.78 1402.04,984.194 1402.28,925.727 1402.53,867.931 1402.77,812.088 1403.01,759.286 1403.25,710.487 1403.49,666.581 1403.74,628.404 \n",
       "  1403.98,596.708 1404.22,572.107 1404.46,554.998 1404.71,545.483 1404.95,543.318 1405.19,547.891 1405.43,558.245 1405.67,573.147 1405.92,591.192 1406.16,610.932 \n",
       "  1406.4,631.027 1406.64,650.38 1406.89,668.264 1407.13,684.407 1407.37,699.028 1407.61,712.809 1407.85,726.807 1408.1,742.298 1408.34,760.578 1408.58,782.737 \n",
       "  1408.82,809.443 1409.07,840.768 1409.31,876.077 1409.55,914.016 1409.79,952.597 1410.03,989.369 1410.28,1021.66 1410.52,1046.83 1410.76,1062.6 1411,1067.22 \n",
       "  1411.25,1059.68 1411.49,1039.83 1411.73,1008.39 1411.97,966.909 1412.21,917.647 1412.46,863.432 1412.7,807.457 1412.94,753.065 1413.18,703.558 1413.43,662.276 \n",
       "  1413.67,633.918 1413.91,628.214 1414.15,660.516 1414.39,733.773 1414.64,811.978 1414.88,843.009 1415.12,824.015 1415.36,802.346 1415.61,810.95 1415.85,844.793 \n",
       "  1416.09,886.945 1416.33,927.035 1416.57,961.101 1416.82,987.919 1417.06,1007.46 1417.3,1020.51 1417.54,1028.43 1417.79,1032.92 1418.03,1035.74 1418.27,1038.41 \n",
       "  1418.51,1042.03 1418.76,1047.16 1419,1053.86 1419.24,1061.9 1419.48,1070.9 1419.72,1080.63 1419.97,1091.08 1420.21,1102.47 1420.45,1115.13 1420.69,1129.28 \n",
       "  1420.94,1144.78 1421.18,1161.07 1421.42,1177.1 1421.66,1191.49 1421.9,1202.75 1422.15,1209.44 1422.39,1210.36 1422.63,1204.63 1422.87,1191.64 1423.12,1170.98 \n",
       "  1423.36,1142.44 1423.6,1105.93 1423.84,1061.6 1424.08,1009.89 1424.33,951.669 1424.57,888.331 1424.81,821.779 1425.05,754.389 1425.3,688.915 1425.54,628.412 \n",
       "  1425.78,576.167 1426.02,535.097 1426.26,506.389 1426.51,489.253 1426.75,483.291 1426.99,489.982 1427.23,510.566 1427.48,544.077 1427.72,588.004 1427.96,639.476 \n",
       "  1428.2,695.614 1428.44,753.605 1428.69,811.31 1428.93,869.03 1429.17,930.897 1429.41,999.516 1429.66,1062.9 1429.9,1094.2 1430.14,1077.59 1430.38,1027.14 \n",
       "  1430.62,968.767 1430.87,914.442 1431.11,861.431 1431.35,804.874 1431.59,743.536 1431.84,678.71 1432.08,612.415 1432.32,546.65 1432.56,483.17 1432.8,423.408 \n",
       "  1433.05,368.438 1433.29,318.969 1433.53,275.369 1433.77,237.703 1434.02,205.788 1434.26,179.25 1434.5,157.584 1434.74,140.211 1434.98,126.525 1435.23,115.93 \n",
       "  1435.47,107.868 1435.71,101.84 1435.95,97.4114 1436.2,94.2184 1436.44,91.9656 1436.68,90.4216 1436.92,89.4129 1437.17,88.8177 1437.41,88.5611 1437.65,88.6114 \n",
       "  1437.89,88.9793 1438.13,89.7192 1438.38,90.9329 1438.62,92.7765 1438.86,95.4682 1439.1,99.2983 1439.35,104.638 1439.59,111.948 1439.83,121.782 1440.07,134.787 \n",
       "  1440.31,151.69 1440.56,173.283 1440.8,200.385 1441.04,233.8 1441.28,274.253 1441.53,322.323 1441.77,378.361 1442.01,442.407 1442.25,514.119 1442.49,592.709 \n",
       "  1442.74,676.902 1442.98,764.933 1443.22,854.575 1443.46,943.214 1443.71,1027.96 1443.95,1105.79 1444.19,1173.75 1444.43,1229.09 1444.67,1269.49 1444.92,1293.2 \n",
       "  1445.16,1299.19 1445.4,1287.18 1445.64,1257.72 1445.89,1212.08 1446.13,1152.23 1446.37,1080.64 1446.61,1000.15 1446.85,913.758 1447.1,824.47 1447.34,735.091 \n",
       "  1447.58,648.119 1447.82,565.63 1448.07,489.227 1448.31,420.019 1448.55,358.638 1448.79,305.292 1449.03,259.826 1449.28,221.804 1449.52,190.59 1449.76,165.424 \n",
       "  1450,145.492 1450.25,129.979 1450.49,118.127 1450.73,109.389 1450.97,104.257 1451.21,107.154 1451.46,130.427 1451.7,187.529 1451.94,264.653 1452.18,308.2 \n",
       "  1452.43,277.902 1452.67,200.804 1452.91,133.883 1453.15,100.412 1453.39,89.7208 1453.64,87.4264 1453.88,87.0645 1454.12,87.0039 1454.36,86.9833 1454.61,86.9719 \n",
       "  1454.85,86.9649 1455.09,86.9605 1455.33,86.9576 1455.58,86.9555 1455.82,86.9538 1456.06,86.9525 1456.3,86.9512 1456.54,86.9501 1456.79,86.9489 1457.03,86.9478 \n",
       "  1457.27,86.9467 1457.51,86.9456 1457.76,86.9445 1458,86.9435 1458.24,86.9424 1458.48,86.9413 1458.72,86.9402 1458.97,86.9391 1459.21,86.938 1459.45,86.937 \n",
       "  1459.69,86.9359 1459.94,86.9348 1460.18,86.9337 1460.42,86.9326 1460.66,86.9316 1460.9,86.9306 1461.15,86.9324 1461.39,86.9727 1461.63,87.3756 1461.87,90.0477 \n",
       "  1462.12,101.897 1462.36,136.399 1462.6,199.554 1462.84,263.568 1463.08,277.785 1463.33,228.994 1463.57,159.778 1463.81,112.658 1464.05,93.1817 1464.3,87.9661 \n",
       "  1464.54,87.0358 1464.78,86.923 1465.02,86.9128 1465.26,86.9113 1465.51,86.9102 1465.75,86.9091 1465.99,86.9081 1466.23,86.907 1466.48,86.906 1466.72,86.9049 \n",
       "  1466.96,86.9038 1467.2,86.9028 1467.44,86.9017 1467.69,86.9007 1467.93,86.8996 1468.17,86.8986 1468.41,86.8975 1468.66,86.8965 1468.9,86.8954 1469.14,86.8944 \n",
       "  1469.38,86.8933 1469.62,86.8923 1469.87,86.8912 1470.11,86.8902 1470.35,86.8891 1470.59,86.8881 1470.84,86.887 1471.08,86.886 1471.32,86.8849 1471.56,86.8839 \n",
       "  1471.81,86.8829 1472.05,86.8818 1472.29,86.8808 1472.53,86.8797 1472.77,86.8787 1473.02,86.8777 1473.26,86.8766 1473.5,86.8756 1473.74,86.8746 1473.99,86.8736 \n",
       "  1474.23,86.8727 1474.47,86.8718 1474.71,86.8712 1474.95,86.8708 1475.2,86.871 1475.44,86.8722 1475.68,86.8751 1475.92,86.8809 1476.17,86.8918 1476.41,86.9108 \n",
       "  1476.65,86.9434 1476.89,86.9975 1477.13,87.0857 1477.38,87.2269 1477.62,87.4489 1477.86,87.792 1478.1,88.3137 1478.35,89.094 1478.59,90.2422 1478.83,91.9045 \n",
       "  1479.07,94.272 1479.31,97.5886 1479.56,102.159 1479.8,108.352 1480.04,116.605 1480.28,127.417 1480.53,141.34 1480.77,158.959 1481.01,180.864 1481.25,207.608 \n",
       "  1481.49,239.666 1481.74,277.373 1481.98,320.87 1482.22,370.046 1482.46,424.484 1482.71,483.431 1482.95,545.778 1483.19,610.069 1483.43,674.542 1483.67,737.193 \n",
       "  1483.92,795.876 1484.16,848.418 1484.4,892.752 1484.64,927.049 1484.89,949.846 1485.13,960.148 1485.37,957.499 1485.61,942.015 1485.85,914.38 1486.1,875.791 \n",
       "  1486.34,827.873 1486.58,772.567 1486.82,712.001 1487.07,648.352 1487.31,583.721 1487.55,520.023 1487.79,458.903 1488.03,401.678 1488.28,349.312 1488.52,302.417 \n",
       "  1488.76,261.28 1489,225.902 1489.25,196.058 1489.49,171.347 1489.73,151.258 1489.97,135.215 1490.22,122.629 1490.46,112.923 1490.7,105.568 1490.94,100.09 \n",
       "  1491.18,96.0811 1491.43,93.2023 1491.67,91.18 1491.91,89.8011 1492.15,88.9073 1492.4,88.3888 1492.64,88.1794 1492.88,88.254 1493.12,88.6276 1493.36,89.3573 \n",
       "  1493.61,90.5466 1493.85,92.3528 1494.09,94.9953 1494.33,98.7658 1494.58,104.038 1494.82,111.274 1495.06,121.027 1495.3,133.94 1495.54,150.724 1495.79,172.132 \n",
       "  1496.03,198.913 1496.27,231.753 1496.51,271.193 1496.76,317.552 1497,370.842 1497.24,430.694 1497.48,496.32 1497.72,566.503 1497.97,639.643 1498.21,713.846 \n",
       "  1498.45,787.054 1498.69,857.198 1498.94,922.347 1499.18,980.828 1499.42,1031.3 1499.66,1072.77 1499.9,1104.56 1500.15,1126.21 1500.39,1137.44 1500.63,1138.08 \n",
       "  1500.87,1128.07 1501.12,1107.55 1501.36,1076.91 1501.6,1036.95 1501.84,988.946 1502.08,934.699 1502.33,876.478 1502.57,816.877 1502.81,758.599 1503.05,704.2 \n",
       "  1503.3,655.833 1503.54,615.043 1503.78,582.64 1504.02,558.659 1504.26,542.424 1504.51,532.68 1504.75,527.775 1504.99,525.863 1505.23,525.099 1505.48,523.803 \n",
       "  1505.72,520.591 1505.96,514.46 1506.2,504.827 1506.44,491.54 1506.69,474.848 1506.93,455.351 1507.17,433.934 1507.41,411.683 1507.66,389.797 1507.9,369.497 \n",
       "  1508.14,351.934 1508.38,338.109 1508.63,328.798 1508.87,324.502 1509.11,325.405 1509.35,331.366 1509.59,341.925 1509.84,356.329 1510.08,373.589 1510.32,392.534 \n",
       "  1510.56,411.896 1510.81,430.378 1511.05,446.742 1511.29,459.877 1511.53,468.864 1511.77,473.026 1512.02,471.957 1512.26,465.54 1512.5,453.935 1512.74,437.56 \n",
       "  1512.99,417.046 1513.23,393.187 1513.47,366.88 1513.71,339.066 1513.95,310.664 1514.2,282.527 1514.44,255.397 1514.68,229.881 1514.92,206.448 1515.17,185.582 \n",
       "  1515.41,168.774 1515.65,162.131 1515.89,181.611 1516.13,245.084 1516.38,336.527 1516.62,388.25 1516.86,347.095 1517.1,245.59 1517.35,156.708 1517.59,111.366 \n",
       "  1517.83,96.3591 1518.07,93.1557 1518.31,93.3811 1518.56,95.0282 1518.8,97.9828 1519.04,102.543 1519.28,109.162 1519.53,118.425 1519.77,131.054 1520.01,147.895 \n",
       "  1520.25,169.893 1520.49,198.055 1520.74,233.372 1520.98,276.726 1521.22,328.774 1521.46,389.805 1521.71,459.614 1521.95,537.385 1522.19,621.633 1522.43,710.22 \n",
       "  1522.67,800.467 1522.92,889.363 1523.16,973.854 1523.4,1051.17 1523.64,1119.11 1523.89,1176.27 1524.13,1222.13 1524.37,1256.92 1524.61,1281.48 1524.85,1296.93 \n",
       "  1525.1,1304.42 1525.34,1304.86 1525.58,1298.85 1525.82,1286.64 1526.07,1268.21 1526.31,1243.47 1526.55,1212.37 1526.79,1175.11 1527.04,1132.34 1527.28,1085.3 \n",
       "  1527.52,1035.85 1527.76,986.519 1528,940.264 1528.25,900.216 1528.49,869.261 1528.73,849.619 1528.97,842.487 1529.22,847.831 1529.46,864.389 1529.7,889.871 \n",
       "  1529.94,921.32 1530.18,955.549 1530.43,989.566 1530.67,1020.9 1530.91,1047.8 1531.15,1069.26 1531.4,1084.96 1531.64,1095.09 1531.88,1100.18 1532.12,1100.92 \n",
       "  1532.36,1098.02 1532.61,1092.17 1532.85,1083.94 1533.09,1073.84 1533.33,1062.28 1533.58,1049.65 1533.82,1036.38 1534.06,1022.99 1534.3,1010.16 1534.54,998.768 \n",
       "  1534.79,989.877 1535.03,984.669 1535.27,984.357 1535.51,990.051 1535.76,1002.61 1536,1022.46 1536.24,1049.49 1536.48,1082.88 1536.72,1121.05 1536.97,1161.7 \n",
       "  1537.21,1201.89 1537.45,1238.31 1537.69,1267.51 1537.94,1286.28 1538.18,1291.96 1538.42,1282.69 1538.66,1257.59 1538.9,1216.84 1539.15,1161.58 1539.39,1093.8 \n",
       "  1539.63,1016.07 1539.87,931.373 1540.12,842.782 1540.36,753.272 1540.6,665.526 1540.84,581.807 1541.08,503.883 1541.33,433.002 1541.57,369.906 1541.81,314.881 \n",
       "  1542.05,267.833 1542.3,228.363 1542.54,195.858 1542.78,169.567 1543.02,148.676 1543.26,132.362 1543.51,119.84 1543.75,110.388 1543.99,103.374 1544.23,98.2536 \n",
       "  1544.48,94.5772 1544.72,91.9801 1544.96,90.1751 1545.2,88.9406 1545.45,88.1097 1545.69,87.5592 1545.93,87.2002 1546.17,86.9696 1546.41,86.8239 1546.66,86.7359 \n",
       "  1546.9,86.7149 1547.14,86.9514 1547.38,88.3419 1547.63,93.2088 1547.87,104.047 1548.11,118.368 1548.35,126.456 1548.59,121.048 1548.84,107.109 1549.08,95.008 \n",
       "  1549.32,88.9686 1549.56,87.052 1549.81,86.65 1550.05,86.5928 1550.29,86.5866 1550.53,86.5855 1550.77,86.5847 1551.02,86.5839 1551.26,86.5831 1551.5,86.5823 \n",
       "  1551.74,86.5815 1551.99,86.5807 1552.23,86.58 1552.47,86.5792 1552.71,86.5784 1552.95,86.5776 1553.2,86.5768 1553.44,86.5761 1553.68,86.5753 1553.92,86.5756 \n",
       "  1554.17,86.5928 1554.41,86.8078 1554.65,88.5657 1554.89,98.2278 1555.13,133.527 1555.38,216.888 1555.62,335.733 1555.86,414.769 1556.1,384.398 1556.35,272.765 \n",
       "  1556.59,166.767 1556.83,110.374 1557.07,91.4522 1557.31,87.2878 1557.56,86.693 1557.8,86.6685 1558.04,86.7224 1558.28,86.8107 1558.53,86.9428 1558.77,87.1368 \n",
       "  1559.01,87.4171 1559.25,87.8153 1559.49,88.3715 1559.74,89.1356 1559.98,90.1679 1560.22,91.5389 1560.46,93.3292 1560.71,95.6267 1560.95,98.5241 1561.19,102.113 \n",
       "  1561.43,106.48 1561.67,111.695 1561.92,117.805 1562.16,124.826 1562.4,132.731 1562.64,141.444 1562.89,150.835 1563.13,160.72 1563.37,170.859 1563.61,180.966 \n",
       "  1563.86,190.72 1564.1,199.782 1564.34,207.811 1564.58,214.488 1564.82,219.536 1565.07,222.738 1565.31,223.953 1565.55,223.128 1565.79,220.3 1566.04,215.592 \n",
       "  1566.28,209.208 1566.52,201.414 1566.76,192.524 1567,182.875 1567.25,172.808 1567.49,162.651 1567.73,152.695 1567.97,143.191 1568.22,134.337 1568.46,126.317 \n",
       "  1568.7,119.616 1568.94,116.725 1569.18,126.935 1569.43,169.508 1569.67,255.603 1569.91,349.067 1570.15,375.302 1570.4,307.7 1570.64,204.35 1570.88,130.724 \n",
       "  1571.12,98.8462 1571.36,89.6628 1571.61,87.658 1571.85,87.1608 1572.09,86.9343 1572.33,86.7894 1572.58,86.6922 1572.82,86.6276 1573.06,86.5852 1573.3,86.5578 \n",
       "  1573.54,86.5402 1573.79,86.529 1574.03,86.5218 1574.27,86.5172 1574.51,86.5142 1574.76,86.5122 1575,86.5107 1575.24,86.5095 1575.48,86.5086 1575.72,86.5077 \n",
       "  1575.97,86.507 1576.21,86.5062 1576.45,86.5055 1576.69,86.5048 1576.94,86.5041 1577.18,86.5034 1577.42,86.5027 1577.66,86.5019 1577.9,86.5012 1578.15,86.5005 \n",
       "  1578.39,86.4998 1578.63,86.4991 1578.87,86.4984 1579.12,86.4977 1579.36,86.497 1579.6,86.4964 1579.84,86.4957 1580.08,86.495 1580.33,86.4943 1580.57,86.4936 \n",
       "  1580.81,86.4929 1581.05,86.4922 1581.3,86.4915 1581.54,86.4908 1581.78,86.4901 1582.02,86.4894 1582.27,86.4888 1582.51,86.4902 1582.75,86.5228 1582.99,86.8912 \n",
       "  1583.23,89.6695 1583.48,103.743 1583.72,150.939 1583.96,252.327 1584.2,380.518 1584.45,446.139 1584.69,393.381 1584.93,287.375 1585.17,247.763 1585.41,317.666 \n",
       "  1585.66,419.376 1585.9,435.929 1586.14,340.803 1586.38,214.089 1586.63,130.594 1586.87,96.9834 1587.11,88.1993 1587.35,86.6694 1587.59,86.4896 1587.84,86.4866 \n",
       "  1588.08,86.6411 1588.32,88.0197 1588.56,96.2597 1588.81,129.116 1589.05,214.468 1589.29,351.14 1589.53,463.503 1589.77,456.491 1590.02,336.646 1590.26,202.998 \n",
       "  1590.5,123.861 1590.74,94.7323 1590.99,87.7236 1591.23,86.5959 1591.47,86.4727 1591.71,86.463 1591.95,86.4619 1592.2,86.4612 1592.44,86.4606 1592.68,86.46 \n",
       "  1592.92,86.4594 1593.17,86.4589 1593.41,86.4586 1593.65,86.4585 1593.89,86.4589 1594.13,86.4602 1594.38,86.4629 1594.62,86.4681 1594.86,86.4775 1595.1,86.4938 \n",
       "  1595.35,86.5213 1595.59,86.5667 1595.83,86.6403 1596.07,86.7575 1596.31,86.9411 1596.56,87.224 1596.8,87.6533 1597.04,88.2947 1597.28,89.238 1597.53,90.6043 \n",
       "  1597.77,92.5526 1598.01,95.2878 1598.25,99.0681 1598.5,104.211 1598.74,111.096 1598.98,120.168 1599.22,131.966 1599.46,147.41 1599.71,169.364 1599.95,206.94 \n",
       "  1600.19,277.738 1600.43,390.203 1600.68,509.346 1600.92,570.228 1601.16,556.179 1601.4,521.85 1601.64,519.966 1601.89,555.067 1602.13,608.37 1602.37,666.053 \n",
       "  1602.61,722.515 1602.86,775.578 1603.1,823.981 1603.34,866.81 1603.58,903.407 1603.82,933.321 1604.07,956.227 1604.31,971.841 1604.55,979.854 1604.79,979.906 \n",
       "  1605.04,971.616 1605.28,954.657 1605.52,928.867 1605.76,894.363 1606,851.634 1606.25,801.583 1606.49,745.519 1606.73,685.073 1606.97,622.087 1607.22,558.463 \n",
       "  1607.46,496.019 1607.7,436.363 1607.94,380.793 1608.18,330.257 1608.43,285.335 1608.67,246.265 1608.91,212.998 1609.15,185.255 1609.4,162.607 1609.64,144.533 \n",
       "  1609.88,130.487 1610.12,119.946 1610.36,112.449 1610.61,107.631 1610.85,105.239 1611.09,105.146 1611.33,107.362 1611.58,112.03 1611.82,119.426 1612.06,129.947 \n",
       "  1612.3,144.092 1612.54,162.438 1612.79,185.601 1613.03,214.195 1613.27,248.77 1613.51,289.749 1613.76,337.364 1614,391.58 1614.24,452.037 1614.48,518 \n",
       "  1614.72,588.333 1614.97,661.493 1615.21,735.572 1615.45,808.352 1615.69,877.414 1615.94,940.26 1616.18,994.465 1616.42,1037.82 1616.66,1068.5 1616.91,1085.18 \n",
       "  1617.15,1087.1 1617.39,1074.21 1617.63,1047.07 1617.87,1007.12 1618.12,957.396 1618.36,904.874 1618.6,861.338 1618.84,832.829 1619.09,800.985 1619.33,733.15 \n",
       "  1619.57,625.797 1619.81,512.327 1620.05,421.106 1620.3,353.996 1620.54,301.859 1620.78,258.672 1621.02,222.342 1621.27,192.112 1621.51,167.389 1621.75,147.53 \n",
       "  1621.99,131.856 1622.23,119.7 1622.48,110.432 1622.72,103.485 1622.96,98.3652 1623.2,94.6536 1623.45,92.007 1623.69,90.1505 1623.93,88.8691 1624.17,87.9988 \n",
       "  1624.41,87.4171 1624.66,87.0344 1624.9,86.7865 1625.14,86.6284 1625.38,86.5291 1625.63,86.4675 1625.87,86.4299 1626.11,86.4072 1626.35,86.3937 1626.59,86.3856 \n",
       "  1626.84,86.3807 1627.08,86.3779 1627.32,86.3761 1627.56,86.3752 1627.81,86.3749 1628.05,86.3752 1628.29,86.3766 1628.53,86.3797 1628.77,86.3856 1629.02,86.3963 \n",
       "  1629.26,86.4151 1629.5,86.4473 1629.74,86.5011 1629.99,86.5894 1630.23,86.7321 1630.47,86.9587 1630.71,87.3126 1630.95,87.8567 1631.2,88.6795 1631.44,89.9038 \n",
       "  1631.68,91.6964 1631.92,94.2783 1632.17,97.936 1632.41,103.032 1632.65,110.015 1632.89,119.418 1633.13,131.863 1633.38,148.046 1633.62,168.71 1633.86,194.612 \n",
       "  1634.1,226.465 1634.35,264.878 1634.59,310.272 1634.83,362.808 1635.07,422.302 1635.32,488.178 1635.56,559.424 1635.8,634.604 1636.04,711.901 1636.28,789.199 \n",
       "  1636.53,864.204 1636.77,934.583 1637.01,998.098 1637.25,1052.73 1637.5,1096.8 1637.74,1128.98 1637.98,1148.37 1638.22,1154.49 1638.46,1147.24 1638.71,1126.93 \n",
       "  1638.95,1094.26 1639.19,1050.29 1639.43,996.486 1639.68,934.683 1639.92,867.055 1640.16,796.066 1640.4,724.378 1640.64,654.744 1640.89,589.875 1641.13,532.313 \n",
       "  1641.37,484.307 1641.61,447.709 1641.86,423.898 1642.1,413.726 1642.34,417.496 1642.58,434.96 1642.82,465.34 1643.07,507.357 1643.31,559.279 1643.55,618.976 \n",
       "  1643.79,683.988 1644.04,751.605 1644.28,818.964 1644.52,883.162 1644.76,941.374 1645,990.992 1645.25,1029.75 1645.49,1055.85 1645.73,1068.07 1645.97,1065.8 \n",
       "  1646.22,1049.11 1646.46,1018.73 1646.7,975.958 1646.94,922.596 1647.18,860.809 1647.43,792.98 1647.67,721.557 1647.91,648.912 1648.15,577.215 1648.4,508.34 \n",
       "  1648.64,443.798 1648.88,384.711 1649.12,331.813 1649.36,285.484 1649.61,245.796 1649.85,212.585 1650.09,185.521 1650.33,164.185 1650.58,148.135 1650.82,136.967 \n",
       "  1651.06,130.371 1651.3,128.162 1651.54,130.313 1651.79,136.959 1652.03,148.401 1652.27,165.084 1652.51,187.568 1652.76,216.48 1653,252.452 1653.24,296.045 \n",
       "  1653.48,347.669 1653.73,407.491 1653.97,475.35 1654.21,550.681 1654.45,632.459 1654.69,719.169 1654.94,808.816 1655.18,898.967 1655.42,986.849 1655.66,1069.47 \n",
       "  1655.91,1143.8 1656.15,1206.92 1656.39,1256.24 1656.63,1289.66 1656.87,1305.72 1657.12,1303.72 1657.36,1283.75 1657.6,1246.69 1657.84,1194.16 1658.09,1128.41 \n",
       "  1658.33,1052.14 1658.57,968.379 1658.81,880.245 1659.05,790.825 1659.3,703.012 1659.54,619.402 1659.78,542.218 1660.02,473.289 1660.27,414.046 1660.51,365.56 \n",
       "  1660.75,328.583 1660.99,303.608 1661.23,290.919 1661.48,290.655 1661.72,303.083 1661.96,330.085 1662.2,379.964 1662.45,472.21 1662.69,621.327 1662.93,792.652 \n",
       "  1663.17,903.571 1663.41,919.361 1663.66,905.975 1663.9,943.663 1664.14,1037.05 1664.38,1131.73 1664.63,1187.03 1664.87,1210.77 1665.11,1228.54 1665.35,1247.6 \n",
       "  1665.59,1260.11 1665.84,1258.77 1666.08,1240.93 1666.32,1206.69 1666.56,1157.4 1666.81,1095.16 1667.05,1022.52 1667.29,942.329 1667.53,857.556 1667.77,771.118 \n",
       "  1668.02,685.732 1668.26,603.804 1668.5,527.356 1668.74,457.981 1668.99,396.855 1669.23,344.758 1669.47,302.131 1669.71,269.142 1669.95,245.747 1670.2,231.755 \n",
       "  1670.44,226.88 1670.68,230.767 1670.92,243.016 1671.17,263.175 1671.41,290.723 1671.65,325.044 1671.89,365.393 1672.14,410.866 1672.38,460.383 1672.62,512.689 \n",
       "  1672.86,566.378 1673.1,619.956 1673.35,671.927 1673.59,720.907 1673.83,765.761 1674.07,805.714 1674.32,840.454 1674.56,870.166 1674.8,895.505 1675.04,917.484 \n",
       "  1675.28,937.291 1675.53,956.057 1675.77,974.619 1676.01,993.314 1676.25,1011.84 1676.5,1029.25 1676.74,1044.03 1676.98,1054.28 1677.22,1058.01 1677.46,1053.43 \n",
       "  1677.71,1039.16 1677.95,1014.52 1678.19,979.596 1678.43,935.248 1678.68,883.059 1678.92,825.167 1679.16,764.073 1679.4,702.415 1679.64,642.76 1679.89,587.412 \n",
       "  1680.13,538.271 1680.37,496.73 1680.61,463.629 1680.86,439.261 1681.1,423.414 1681.34,415.459 1681.58,414.454 1681.82,419.269 1682.07,428.715 1682.31,441.668 \n",
       "  1682.55,457.178 1682.79,474.563 1683.04,493.466 1683.28,513.887 1683.52,536.172 1683.76,560.954 1684,589.062 1684.25,621.4 1684.49,658.975 1684.73,703.689 \n",
       "  1684.97,760.771 1685.22,839.553 1685.46,941.934 1685.7,1043.26 1685.94,1105.37 1686.18,1122.27 1686.43,1124.73 1686.67,1136.13 1686.91,1153.83 1687.15,1166.27 \n",
       "  1687.4,1166.27 1687.64,1151.47 1687.88,1121.79 1688.12,1078.24 1688.36,1022.55 1688.61,956.942 1688.85,883.949 1689.09,806.26 1689.33,726.521 1689.58,647.192 \n",
       "  1689.82,570.428 1690.06,497.994 1690.3,431.225 1690.55,371.015 1690.79,317.843 1691.03,271.818 1691.27,232.744 1691.51,200.189 1691.76,173.559 1692,152.165 \n",
       "  1692.24,135.279 1692.48,122.188 1692.73,112.302 1692.97,105.7 1693.21,105.337 1693.45,121.307 1693.69,168.671 1693.94,243.91 1694.18,301.702 1694.42,290.982 \n",
       "  1694.66,220.752 1694.91,147.329 1695.15,105.515 1695.39,90.5645 1695.63,87.0132 1695.87,86.4102 1696.12,86.3141 1696.36,86.2874 1696.6,86.2759 1696.84,86.273 \n",
       "  1697.09,86.2779 1697.33,86.2921 1697.57,86.3199 1697.81,86.3688 1698.05,86.4512 1698.3,86.5869 1698.54,86.8062 1698.78,87.1574 1699.02,87.7475 1699.27,89.0905 \n",
       "  1699.51,94.173 1699.75,115.44 1699.99,183.348 1700.23,327.469 1700.48,510.101 1700.72,606.971 1700.96,537.594 1701.2,376.138 1701.45,251.003 1701.69,207.258 \n",
       "  1701.93,218.236 1702.17,253.652 1702.41,301.281 1702.66,358.597 1702.9,425.271 1703.14,500.82 1703.38,584.141 1703.63,673.433 1703.87,766.254 1704.11,859.671 \n",
       "  1704.35,950.512 1704.59,1035.69 1704.84,1112.54 1705.08,1179.14 1705.32,1234.48 1705.56,1278.5 1705.81,1311.96 1706.05,1336.11 1706.29,1352.29 1706.53,1361.54 \n",
       "  1706.77,1364.23 1707.02,1360.01 1707.26,1347.77 1707.5,1325.97 1707.74,1293.03 1707.99,1247.73 1708.23,1189.62 1708.47,1119.22 1708.71,1038.14 1708.96,948.903 \n",
       "  1709.2,854.7 1709.44,759.059 1709.68,665.488 1709.92,577.179 1710.17,496.801 1710.41,426.39 1710.65,367.345 1710.89,320.492 1711.14,286.195 1711.38,264.485 \n",
       "  1711.62,255.181 1711.86,257.984 1712.1,272.532 1712.35,298.426 1712.59,335.205 1712.83,382.311 1713.07,439.014 1713.32,504.352 1713.56,577.057 1713.8,655.513 \n",
       "  1714.04,737.738 1714.28,821.395 1714.53,903.86 1714.77,982.308 1715.01,1053.85 1715.25,1115.71 1715.5,1165.34 1715.74,1200.64 1715.98,1220.07 1716.22,1222.79 \n",
       "  1716.46,1208.67 1716.71,1178.34 1716.95,1133.15 1717.19,1075.06 1717.43,1006.5 1717.68,930.235 1717.92,849.199 1718.16,766.308 1718.4,684.327 1718.64,605.748 \n",
       "  1718.89,532.703 1719.13,466.907 1719.37,409.64 1719.61,361.75 1719.86,323.684 1720.1,295.525 1720.34,277.045 1720.58,267.783 1720.82,267.314 1721.07,276.343 \n",
       "  1721.31,299.035 1721.55,342.735 1721.79,406.448 1722.04,466.63 1722.28,493.526 1722.52,491.225 1722.76,502.606 1723,569.819 1723.25,687.68 1723.49,785.735 \n",
       "  1723.73,786.43 1723.97,695.505 1724.22,588.785 1724.46,518.156 1724.7,480.594 1724.94,455.378 1725.19,430.69 1725.43,403.597 1725.67,374.392 1725.91,344.01 \n",
       "  1726.15,313.422 1726.4,283.503 1726.64,254.993 1726.88,228.471 1727.12,204.352 1727.37,182.886 1727.61,164.175 1727.85,148.198 1728.09,134.836 1728.33,123.901 \n",
       "  1728.58,115.17 1728.82,108.407 1729.06,103.387 1729.3,99.9209 1729.55,97.8639 1729.79,97.1324 1730.03,97.7099 1730.27,99.6527 1730.51,103.09 1730.76,108.226 \n",
       "  1731,115.365 1731.24,125.184 1731.48,140.163 1731.73,168.397 1731.97,225.247 1732.21,317.318 1732.45,413.031 1732.69,456.224 1732.94,434.123 1733.18,395.096 \n",
       "  1733.42,384.641 1733.66,406.503 1733.91,444.551 1734.15,486.928 1734.39,528.71 1734.63,567.74 1734.87,602.47 1735.12,631.519 1735.36,653.685 1735.6,668.022 \n",
       "  1735.84,673.907 1736.09,671.087 1736.33,659.703 1736.57,640.278 1736.81,613.688 1737.05,581.104 1737.3,543.929 1737.54,503.75 1737.78,462.586 1738.02,424.733 \n",
       "  1738.27,402.803 1738.51,423.762 1738.75,509.224 1738.99,620.174 1739.23,654.509 1739.48,562.72 1739.72,418.249 1739.96,318.456 1740.2,287.327 1740.45,299.759 \n",
       "  1740.69,333.243 1740.93,379.284 1741.17,435.797 1741.41,501.948 1741.66,576.737 1741.9,658.749 1742.14,746.117 1742.38,836.54 1742.63,927.331 1742.87,1015.52 \n",
       "  1743.11,1097.96 1743.35,1171.54 1743.6,1233.3 1743.84,1280.67 1744.08,1311.61 1744.32,1324.76 1744.56,1319.53 1744.81,1296.15 1745.05,1255.66 1745.29,1199.8 \n",
       "  1745.53,1130.92 1745.78,1051.8 1746.02,965.467 1746.26,875.009 1746.5,783.389 1746.74,693.293 1746.99,607.02 1747.23,526.397 1747.47,452.749 1747.71,386.908 \n",
       "  1747.96,329.244 1748.2,279.732 1748.44,238.026 1748.68,203.546 1748.92,175.555 1749.17,153.235 1749.41,135.747 1749.65,122.283 1749.89,112.094 1750.14,104.517 \n",
       "  1750.38,98.9816 1750.62,95.0148 1750.86,92.2359 1751.1,90.3485 1751.35,89.1321 1751.59,88.4323 1751.83,88.1533 1752.07,88.2515 1752.32,88.7315 1752.56,89.6454 \n",
       "  1752.8,91.0929 1753.04,93.2239 1753.28,96.2422 1753.53,100.408 1753.77,106.04 1754.01,113.514 1754.25,123.259 1754.5,135.741 1754.74,151.451 1754.98,170.872 \n",
       "  1755.22,194.448 1755.46,222.541 1755.71,255.385 1755.95,293.035 1756.19,335.322 1756.43,381.815 1756.68,431.796 1756.92,484.249 1757.16,537.881 1757.4,591.156 \n",
       "  1757.64,642.364 1757.89,689.702 1758.13,731.381 1758.37,765.736 1758.61,791.332 1758.86,807.07 1759.1,812.26 1759.34,806.675 1759.58,790.568 1759.82,764.654 \n",
       "  1760.07,730.059 1760.31,688.245 1760.55,640.909 1760.79,589.877 1761.04,536.998 1761.28,484.041 1761.52,432.613 1761.76,384.102 1762.01,339.632 1762.25,300.054 \n",
       "  1762.49,265.951 1762.73,237.655 1762.97,215.29 1763.22,198.802 1763.46,188.008 1763.7,182.629 1763.94,182.327 1764.19,186.732 1764.43,195.46 1764.67,208.131 \n",
       "  1764.91,224.373 1765.15,243.835 1765.4,266.19 1765.64,291.144 1765.88,318.438 1766.12,347.862 1766.37,379.259 1766.61,412.522 1766.85,447.588 1767.09,484.413 \n",
       "  1767.33,522.935 1767.58,563.022 1767.82,604.407 1768.06,646.63 1768.3,688.981 1768.55,730.479 1768.79,769.875 1769.03,805.704 1769.27,836.371 1769.51,860.283 \n",
       "  1769.76,875.981 1770,882.287 1770.24,878.423 1770.48,864.1 1770.73,839.553 1770.97,805.53 1771.21,763.237 1771.45,714.237 1771.69,660.333 1771.94,603.441 \n",
       "  1772.18,545.462 1772.42,488.179 1772.66,433.175 1772.91,381.776 1773.15,335.032 1773.39,293.721 1773.63,258.37 1773.87,229.303 1774.12,206.689 1774.36,190.594 \n",
       "  1774.6,181.029 1774.84,177.989 1775.09,181.476 1775.33,191.506 1775.57,208.103 1775.81,231.268 1776.05,260.942 1776.3,296.959 1776.54,338.989 1776.78,386.489 \n",
       "  1777.02,438.66 1777.27,494.423 1777.51,552.413 1777.75,611.005 1777.99,668.364 1778.23,722.52 1778.48,771.47 1778.72,813.292 1778.96,846.267 1779.2,868.99 \n",
       "  1779.45,880.469 1779.69,880.195 1779.93,868.179 1780.17,844.952 1780.42,811.523 1780.66,769.309 1780.9,720.033 1781.14,665.611 1781.38,608.026 1781.63,549.21 \n",
       "  1781.87,490.946 1782.11,434.778 1782.35,381.963 1782.6,333.438 1782.84,289.815 1783.08,251.408 1783.32,218.262 1783.56,190.203 1783.81,166.893 1784.05,147.88 \n",
       "  1784.29,132.649 1784.53,120.66 1784.78,111.386 1785.02,104.334 1785.26,99.0624 1785.5,95.1867 1785.74,92.3844 1785.99,90.3916 1786.23,88.9976 1786.47,88.0386 \n",
       "  1786.71,87.3902 1786.96,86.9602 1787.2,86.6821 1787.44,86.5093 1787.68,86.4111 1787.92,86.3692 1788.17,86.3759 1788.41,86.433 1788.65,86.5522 1788.89,86.757 \n",
       "  1789.14,87.0853 1789.38,87.5936 1789.62,88.3632 1789.86,89.507 1790.1,91.1783 1790.35,93.5804 1790.59,96.9762 1790.83,101.699 1791.07,108.158 1791.32,116.846 \n",
       "  1791.56,128.338 1791.8,143.28 1792.04,162.375 1792.28,186.355 1792.53,215.938 1792.77,251.775 1793.01,294.39 1793.25,344.109 1793.5,400.983 1793.74,464.726 \n",
       "  1793.98,534.654 1794.22,609.649 1794.46,688.152 1794.71,768.184 1794.95,847.413 1795.19,923.257 1795.43,993.023 1795.68,1054.07 1795.92,1104.01 1796.16,1140.87 \n",
       "  1796.4,1163.29 1796.64,1170.62 1796.89,1163.04 1797.13,1141.53 1797.37,1107.84 1797.61,1064.32 1797.86,1013.75 1798.1,959.093 1798.34,903.246 1798.58,848.834 \n",
       "  1798.83,798.022 1799.07,752.406 1799.31,712.977 1799.55,680.153 1799.79,653.868 1800.04,633.684 1800.28,618.917 1800.52,608.74 1800.76,602.263 1801.01,598.579 \n",
       "  1801.25,596.78 1801.49,595.957 1801.73,595.207 1801.97,593.631 1802.22,590.364 1802.46,584.608 1802.7,575.688 1802.94,563.099 1803.19,546.553 1803.43,526.01 \n",
       "  1803.67,501.682 1803.91,474.019 1804.15,443.668 1804.4,411.417 1804.64,378.133 1804.88,344.693 1805.12,311.927 1805.37,280.567 1805.61,251.212 1805.85,224.31 \n",
       "  1806.09,200.152 1806.33,178.878 1806.58,160.497 1806.82,144.905 1807.06,131.916 1807.3,121.287 1807.55,112.738 1807.79,105.979 1808.03,100.726 1808.27,96.7116 \n",
       "  1808.51,93.694 1808.76,91.463 1809,89.8405 1809.24,88.6796 1809.48,87.8624 1809.73,87.2963 1809.97,86.9104 1810.21,86.6515 1810.45,86.4806 1810.69,86.3695 \n",
       "  1810.94,86.2985 1811.18,86.2538 1811.42,86.2261 1811.66,86.2093 1811.91,86.1991 1812.15,86.1932 1812.39,86.1897 1812.63,86.1878 1812.87,86.1867 1813.12,86.1861 \n",
       "  1813.36,86.1858 1813.6,86.1857 1813.84,86.1857 1814.09,86.1857 1814.33,86.1858 1814.57,86.1859 1814.81,86.1862 1815.05,86.1871 1815.3,86.1974 1815.54,86.3228 \n",
       "  1815.78,87.4176 1816.02,93.9169 1816.27,119.687 1816.51,186.24 1816.75,292.08 1816.99,378.1 1817.24,371.34 1817.48,278.147 1817.72,175.35 1817.96,115.114 \n",
       "  1818.2,94.2593 1818.45,94.3319 1818.69,109.293 1818.93,139.192 1819.17,171.635 1819.42,182.141 1819.66,161.942 1819.9,130.136 1820.14,108.398 1820.38,100.87 \n",
       "  1820.63,101.412 1820.87,105.008 1821.11,109.865 1821.35,115.631 1821.6,122.268 1821.84,129.746 1822.08,137.997 1822.32,146.899 1822.56,156.278 1822.81,165.909 \n",
       "  1823.05,175.521 1823.29,184.812 1823.53,193.458 1823.78,201.136 1824.02,207.541 1824.26,212.408 1824.5,215.528 1824.74,216.764 1824.99,216.062 1825.23,213.452 \n",
       "  1825.47,209.05 1825.71,203.045 1825.96,195.69 1826.2,187.279 1826.44,178.134 1826.68,168.579 1826.92,158.925 1827.17,149.452 1827.41,140.399 1827.65,131.954 \n",
       "  1827.89,124.253 1828.14,117.38 1828.38,111.37 1828.62,106.217 1828.86,101.883 1829.1,98.3051 1829.35,95.4047 1829.59,93.095 1829.83,91.2878 1830.07,89.898 \n",
       "  1830.32,88.8473 1830.56,88.0663 1830.8,87.4954 1831.04,87.085 1831.28,86.7947 1831.53,86.5928 1831.77,86.4545 1832.01,86.3615 1832.25,86.2998 1832.5,86.2596 \n",
       "  1832.74,86.2338 1832.98,86.2176 1833.22,86.2075 1833.46,86.2014 1833.71,86.1977 1833.95,86.1956 1834.19,86.1944 1834.43,86.1938 1834.68,86.1935 1834.92,86.1934 \n",
       "  1835.16,86.1934 1835.4,86.1934 1835.65,86.1935 1835.89,86.1936 1836.13,86.1937 1836.37,86.1938 1836.61,86.194 1836.86,86.1941 1837.1,86.1942 1837.34,86.1943 \n",
       "  1837.58,86.1945 1837.83,86.1946 1838.07,86.1947 1838.31,86.1949 1838.55,86.195 1838.79,86.1951 1839.04,86.1953 1839.28,86.1954 1839.52,86.1956 1839.76,86.1958 \n",
       "  1840.01,86.196 1840.25,86.1963 1840.49,86.1968 1840.73,86.1975 1840.97,86.1986 1841.22,86.2006 1841.46,86.204 1841.7,86.2097 1841.94,86.2193 1842.19,86.2352 \n",
       "  1842.43,86.2613 1842.67,86.3033 1842.91,86.3702 1843.15,86.475 1843.4,86.6364 1843.64,86.8815 1843.88,87.2476 1844.12,87.7858 1844.37,88.5642 1844.61,89.672 \n",
       "  1844.85,91.223 1845.09,93.3589 1845.33,96.2517 1845.58,100.104 1845.82,105.149 1846.06,111.641 1846.3,119.852 1846.55,130.054 1846.79,142.504 1847.03,157.419 \n",
       "  1847.27,174.952 1847.51,195.165 1847.76,218.002 1848,243.266 1848.24,270.605 1848.48,299.498 1848.73,329.269 1848.97,359.098 1849.21,388.053 1849.45,415.142 \n",
       "  1849.69,439.359 1849.94,459.749 1850.18,475.47 1850.42,485.853 1850.66,490.441 1850.91,489.034 1851.15,481.692 1851.39,468.74 1851.63,450.738 1851.88,428.444 \n",
       "  1852.12,402.76 1852.36,374.672 1852.6,345.187 1852.84,315.276 1853.09,285.822 1853.33,257.582 1853.57,231.16 1853.81,206.998 1854.06,185.374 1854.3,166.417 \n",
       "  1854.54,150.124 1854.78,136.387 1855.02,125.02 1855.27,115.783 1855.51,108.411 1855.75,102.63 1855.99,98.1747 1856.24,94.7989 1856.48,92.2842 1856.72,90.442 \n",
       "  1856.96,89.1147 1857.2,88.1739 1857.45,87.5181 1857.69,87.0681 1857.93,86.7645 1858.17,86.5628 1858.42,86.4311 1858.66,86.3463 1858.9,86.2927 1859.14,86.2594 \n",
       "  1859.38,86.239 1859.63,86.2268 1859.87,86.2196 1860.11,86.2155 1860.35,86.2132 1860.6,86.212 1860.84,86.2114 1861.08,86.2112 1861.32,86.2111 1861.56,86.2112 \n",
       "  1861.81,86.2113 1862.05,86.2115 1862.29,86.2117 1862.53,86.2119 1862.78,86.2121 1863.02,86.2123 1863.26,86.2125 1863.5,86.2127 1863.74,86.213 1863.99,86.2132 \n",
       "  1864.23,86.2134 1864.47,86.2136 1864.71,86.2138 1864.96,86.214 1865.2,86.2142 1865.44,86.2145 1865.68,86.2147 1865.92,86.2149 1866.17,86.2152 1866.41,86.2175 \n",
       "  1866.65,86.249 1866.89,86.5719 1867.14,88.8273 1867.38,99.4085 1867.62,132.132 1867.86,196.311 1868.1,268.082 1868.35,293.186 1868.59,248.486 1868.83,173.864 \n",
       "  1869.07,118.832 1869.32,94.5791 1869.56,87.695 1869.8,86.3982 1870.04,86.2338 1870.29,86.2199 1870.53,86.2193 1870.77,86.2195 1871.01,86.2197 1871.25,86.2199 \n",
       "  1871.5,86.2202 1871.74,86.2204 1871.98,86.2206 1872.22,86.2209 1872.47,86.2211 1872.71,86.2214 1872.95,86.2216 1873.19,86.2218 1873.43,86.2221 1873.68,86.2223 \n",
       "  1873.92,86.2226 1874.16,86.2228 1874.4,86.2231 1874.65,86.2233 1874.89,86.2236 1875.13,86.2238 1875.37,86.2241 1875.61,86.2244 1875.86,86.2247 1876.1,86.2251 \n",
       "  1876.34,86.2256 1876.58,86.2262 1876.83,86.2273 1877.07,86.229 1877.31,86.2318 1877.55,86.2365 1877.79,86.2444 1878.04,86.2577 1878.28,86.2798 1878.52,86.3158 \n",
       "  1878.76,86.374 1879.01,86.4666 1879.25,86.6116 1879.49,86.8354 1879.73,87.1752 1879.97,87.6832 1880.22,88.4304 1880.46,89.512 1880.7,91.0524 1880.94,93.2107 \n",
       "  1881.19,96.185 1881.43,100.216 1881.67,105.59 1881.91,112.631 1882.15,121.7 1882.4,133.179 1882.64,147.454 1882.88,164.889 1883.12,185.793 1883.37,210.39 \n",
       "  1883.61,238.775 1883.85,270.877 1884.09,306.432 1884.33,344.953 1884.58,385.724 1884.82,427.803 1885.06,470.052 1885.3,511.198 1885.55,550.076 1885.79,586.785 \n",
       "  1886.03,626.412 1886.27,683.851 1886.51,775.155 1886.76,883.318 1887,942.791 1887.24,902.059 1887.48,791.567 1887.73,683.856 1887.97,613.676 1888.21,571.585 \n",
       "  1888.45,540.953 1888.7,514.839 1888.94,492.863 1889.18,476.453 1889.42,467.064 1889.66,465.752 1889.91,473.052 1890.15,488.926 1890.39,512.758 1890.63,543.382 \n",
       "  1890.88,579.163 1891.12,618.095 1891.36,657.938 1891.6,696.359 1891.84,731.079 1892.09,760.014 1892.33,781.397 1892.57,793.875 1892.81,796.583 1893.06,789.17 \n",
       "  1893.3,771.804 1893.54,745.139 1893.78,710.244 1894.02,668.52 1894.27,621.591 1894.51,571.195 1894.75,519.07 1894.99,466.859 1895.24,416.025 1895.48,367.793 \n",
       "  1895.72,323.113 1895.96,282.65 1896.2,246.794 1896.45,215.682 1896.69,189.244 1896.93,167.242 1897.17,149.319 1897.42,135.044 1897.66,123.949 1897.9,115.561 \n",
       "  1898.14,109.428 1898.38,105.131 1898.63,102.296 1898.87,100.597 1899.11,99.7537 1899.35,99.5304 1899.6,99.7299 1899.84,100.189 1900.08,100.775 1900.32,101.379 \n",
       "  1900.56,101.916 1900.81,102.321 1901.05,102.547 1901.29,102.565 1901.53,102.361 1901.78,101.936 1902.02,101.305 1902.26,100.492 1902.5,99.5304 1902.74,98.4598 \n",
       "  1902.99,97.3236 1903.23,96.1669 1903.47,95.0352 1903.71,93.9735 1903.96,93.0262 1904.2,92.2384 1904.44,91.6573 1904.68,91.3355 1904.92,91.3336 1905.17,91.724 \n",
       "  1905.41,92.5946 1905.65,94.0513 1905.89,96.2205 1906.14,99.2484 1906.38,103.3 1906.62,108.552 1906.86,115.187 1907.11,123.381 1907.35,133.29 1907.59,145.028 \n",
       "  1907.83,158.653 1908.07,174.148 1908.32,191.399 1908.56,210.188 1908.8,230.182 1909.04,250.933 1909.29,271.891 1909.53,292.423 1909.77,311.84 1910.01,329.434 \n",
       "  1910.25,344.523 1910.5,356.49 1910.74,364.829 1910.98,369.178 1911.22,369.343 1911.47,365.318 1911.71,357.281 1911.95,345.581 1912.19,330.716 1912.43,313.294 \n",
       "  1912.68,293.994 1912.92,273.524 1913.16,252.573 1913.4,231.782 1913.65,211.706 1913.89,192.801 1914.13,175.407 1914.37,159.75 1914.61,145.947 1914.86,134.02 \n",
       "  1915.1,123.912 1915.34,115.506 1915.58,108.641 1915.83,103.135 1916.07,98.7974 1916.31,95.4383 1916.55,92.8814 1916.79,90.968 1917.04,89.5599 1917.28,88.5409 \n",
       "  1917.52,87.8155 1917.76,87.3075 1918.01,86.9576 1918.25,86.7205 1918.49,86.5624 1918.73,86.4594 1918.97,86.4053 1919.22,86.5288 1919.46,87.9706 1919.7,96.7329 \n",
       "  1919.94,131.751 1920.19,222.811 1920.43,368.771 1920.67,488.968 1920.91,481.747 1921.15,353.845 1921.4,210.998 1921.64,126.333 1921.88,95.1459 1922.12,87.6371 \n",
       "  1922.37,86.429 1922.61,86.2979 1922.85,86.2885 1923.09,86.2884 1923.33,86.2888 1923.58,86.2893 1923.82,86.2898 1924.06,86.2903 1924.3,86.291 1924.55,86.292 \n",
       "  1924.79,86.2935 1925.03,86.2959 1925.27,86.2998 1925.52,86.3065 1925.76,86.3179 1926,86.3372 1926.24,86.3697 1926.48,86.4238 1926.73,86.5125 1926.97,86.656 \n",
       "  1927.21,86.885 1927.45,87.2448 1927.7,87.8016 1927.94,88.6507 1928.18,89.9254 1928.42,91.81 1928.66,94.5532 1928.91,98.4842 1929.15,104.028 1929.39,111.722 \n",
       "  1929.63,122.225 1929.88,136.324 1930.12,154.923 1930.36,179.023 1930.6,209.67 1930.84,247.885 1931.09,294.559 1931.33,350.357 1931.57,415.745 1931.81,491.496 \n",
       "  1932.06,579.381 1932.3,680.254 1932.54,787.652 1932.78,886.789 1933.02,968.17 1933.27,1036.83 1933.51,1101.01 1933.75,1161.02 1933.99,1212.75 1934.24,1253.74 \n",
       "  1934.48,1284.07 1934.72,1305.13 1934.96,1318.7 1935.2,1326.43 1935.45,1329.57 1935.69,1328.77 1935.93,1324.12 1936.17,1315.25 1936.42,1301.53 1936.66,1282.23 \n",
       "  1936.9,1256.82 1937.14,1225.22 1937.38,1188.05 1937.63,1146.86 1937.87,1104.19 1938.11,1063.47 1938.35,1028.66 1938.6,1003.76 1938.84,992.146 1939.08,995.995 \n",
       "  1939.32,1015.86 1939.56,1050.5 1939.81,1096.99 1940.05,1151.09 1940.29,1207.71 1940.53,1261.57 1940.78,1307.69 1941.02,1341.88 1941.26,1361.03 1941.5,1363.96 \n",
       "  1941.74,1353.6 1941.99,1334.29 1942.23,1299.94 1942.47,1236.19 1942.71,1143.57 1942.96,1040.49 1943.2,943.782 1943.44,867.004 1943.68,827.173 1943.93,821.884 \n",
       "  1944.17,800.644 1944.41,708.109 1944.65,560.253 1944.89,422.649 1945.14,330.633 1945.38,275.945 1945.62,241.6 1945.86,219.156 1946.11,206.216 1946.35,202.203 \n",
       "  1946.59,206.893 1946.83,220.149 1947.07,241.868 1947.32,271.949 1947.56,310.229 1947.8,356.422 1948.04,410.044 1948.29,470.351 1948.53,536.279 1948.77,606.423 \n",
       "  1949.01,679.025 1949.25,752.013 1949.5,823.067 1949.74,889.72 1949.98,949.484 1950.22,999.995 1950.47,1039.17 1950.71,1065.32 1950.95,1077.31 1951.19,1074.61 \n",
       "  1951.43,1057.34 1951.68,1026.26 1951.92,982.711 1952.16,928.534 1952.4,865.924 1952.65,797.294 1952.89,725.113 1953.13,651.77 1953.37,579.444 1953.61,510.014 \n",
       "  1953.86,445.066 1954.1,386.421 1954.34,338.781 1954.58,315.873 1954.83,340.476 1955.07,414.82 1955.31,480.852 1955.55,458.67 1955.79,347.106 1956.04,224.307 \n",
       "  1956.28,147.675 1956.52,114.811 1956.76,102.603 1957.01,97.0475 1957.25,93.6311 1957.49,91.2747 1957.73,89.6356 1957.97,88.5105 1958.22,87.7505 1958.46,87.2454 \n",
       "  1958.7,86.9151 1958.94,86.7026 1959.19,86.5681 1959.43,86.4843 1959.67,86.4331 1959.91,86.4023 1960.15,86.3842 1960.4,86.3738 1960.64,86.3681 1960.88,86.365 \n",
       "  1961.12,86.3635 1961.37,86.363 1961.61,86.3629 1961.85,86.3631 1962.09,86.3634 1962.34,86.3639 1962.58,86.3644 1962.82,86.3649 1963.06,86.3654 1963.3,86.3659 \n",
       "  1963.55,86.3665 1963.79,86.367 1964.03,86.3675 1964.27,86.3681 1964.52,86.3686 1964.76,86.3691 1965,86.3697 1965.24,86.3702 1965.48,86.3707 1965.73,86.3713 \n",
       "  1965.97,86.3718 1966.21,86.3724 1966.45,86.3729 1966.7,86.3734 1966.94,86.374 1967.18,86.3745 1967.42,86.3751 1967.66,86.3756 1967.91,86.3762 1968.15,86.3767 \n",
       "  1968.39,86.3773 1968.63,86.3778 1968.88,86.3784 1969.12,86.3789 1969.36,86.3795 1969.6,86.38 1969.84,86.3806 1970.09,86.3811 1970.33,86.3817 1970.57,86.3822 \n",
       "  1970.81,86.3828 1971.06,86.3833 1971.3,86.3839 1971.54,86.3844 1971.78,86.385 1972.02,86.3856 1972.27,86.3861 1972.51,86.3867 1972.75,86.3872 1972.99,86.3878 \n",
       "  1973.24,86.3884 1973.48,86.3889 1973.72,86.3895 1973.96,86.3901 1974.2,86.3906 1974.45,86.3912 1974.69,86.3918 1974.93,86.3923 1975.17,86.3929 1975.42,86.3936 \n",
       "  1975.66,86.3942 1975.9,86.3949 1976.14,86.3958 1976.38,86.397 1976.63,86.3986 1976.87,86.4011 1977.11,86.405 1977.35,86.4115 1977.6,86.4223 1977.84,86.4401 \n",
       "  1978.08,86.4695 1978.32,86.5175 1978.57,86.595 1978.81,86.7181 1979.05,86.9113 1979.29,87.2098 1979.53,87.6641 1979.78,88.3451 1980.02,89.3505 1980.26,90.8118 \n",
       "  1980.5,92.9029 1980.75,95.8488 1980.99,99.9338 1981.23,105.509 1981.47,112.995 1981.71,122.885 1981.96,135.735 1982.2,152.15 1982.44,172.757 1982.68,198.165 \n",
       "  1982.93,228.919 1983.17,265.434 1983.41,307.927 1983.65,356.349 1983.89,410.327 1984.14,469.124 1984.38,531.63 1984.62,596.401 1984.86,661.736 1985.11,725.795 \n",
       "  1985.35,786.754 1985.59,842.954 1985.83,893.043 1986.07,936.059 1986.32,971.461 1986.56,999.078 1986.8,1019 1987.04,1031.44 1987.29,1036.59 1987.53,1034.5 \n",
       "  1987.77,1025.08 1988.01,1008.08 1988.25,983.211 1988.5,950.31 1988.74,909.46 1988.98,861.118 1989.22,806.174 1989.47,745.935 1989.71,682.044 1989.95,616.35 \n",
       "  1990.19,550.744 1990.43,487.011 1990.68,426.693 1990.92,371.003 1991.16,320.781 1991.4,276.492 1991.65,238.269 1991.89,206.055 1992.13,180.277 1992.37,164.372 \n",
       "  1992.61,169.348 1992.86,210.54 1993.1,281.528 1993.34,332.047 1993.58,310.76 1993.83,232.015 1994.07,155.264 1994.31,113.496 1994.55,99.687 1994.79,97.8733 \n",
       "  1995.04,99.8884 1995.28,103.55 1995.52,108.599 1995.76,115.154 1996.01,123.397 1996.25,133.517 1996.49,145.695 1996.73,160.085 1996.98,176.796 1997.22,195.872 \n",
       "  1997.46,217.286 1997.7,240.92 1997.94,266.569 1998.19,293.939 1998.43,322.66 1998.67,352.308 1998.91,382.426 1999.16,412.556 1999.4,442.268 1999.64,471.264 \n",
       "  1999.88,499.961 2000.12,532.087 2000.37,580.313 2000.61,665.549 2000.85,788.905 2001.09,895.898 2001.34,912.646 2001.58,837.783 2001.82,743.752 2002.06,685.472 \n",
       "  2002.3,662.382 2002.55,653.258 2002.79,644.75 2003.03,632.596 2003.27,616.046 2003.52,595.205 2003.76,570.443 2004,542.325 2004.24,511.608 2004.48,479.245 \n",
       "  2004.73,446.362 2004.97,414.238 2005.21,384.264 2005.45,357.894 2005.7,336.597 2005.94,321.802 2006.18,314.845 2006.42,316.91 2006.66,328.98 2006.91,351.779 \n",
       "  2007.15,385.714 2007.39,430.828 2007.63,486.743 2007.88,552.627 2008.12,627.167 2008.36,708.597 2008.6,794.898 2008.84,884.474 2009.09,976.934 2009.33,1071.12 \n",
       "  2009.57,1159.29 2009.81,1227.85 2010.06,1270.68 2010.3,1294.16 2010.54,1304.78 2010.78,1302.23 2011.02,1284.17 2011.27,1249.83 2011.51,1200.04 2011.75,1136.7 \n",
       "  2011.99,1062.32 2012.24,979.82 2012.48,892.231 2012.72,802.538 2012.96,713.516 2013.2,627.603 2013.45,546.815 2013.69,472.7 2013.93,406.34 2014.17,348.378 \n",
       "  2014.42,299.084 2014.66,258.424 2014.9,226.156 2015.14,201.907 2015.39,185.261 2015.63,175.816 2015.87,173.243 2016.11,177.313 2016.35,187.91 2016.6,205.022 \n",
       "  2016.84,228.726 2017.08,259.142 2017.32,296.389 2017.57,340.531 2017.81,391.52 2018.05,449.168 2018.29,513.197 2018.53,583.299 2018.78,658.775 2019.02,737.554 \n",
       "  2019.26,816.153 2019.5,891.728 2019.75,963.309 2019.99,1030.08 2020.23,1089.87 2020.47,1139.83 2020.71,1177.43 2020.96,1200.81 2021.2,1208.71 2021.44,1200.57 \n",
       "  2021.68,1176.55 2021.93,1137.51 2022.17,1085 2022.41,1021.1 2022.65,948.312 2022.89,869.376 2023.14,787.079 2023.38,704.093 2023.62,622.83 2023.86,545.33 \n",
       "  2024.11,473.195 2024.35,407.564 2024.59,349.12 2024.83,298.135 2025.07,254.526 2025.32,217.934 2025.56,187.794 2025.8,163.419 2026.04,144.056 2026.29,128.947 \n",
       "  2026.53,117.366 2026.77,108.653 2027.01,102.231 2027.25,97.6123 2027.5,94.4044 2027.74,92.3072 2027.98,91.109 2028.22,90.6826 2028.47,90.9819 2028.71,92.0415 \n",
       "  2028.95,93.9772 2029.19,96.9898 2029.43,101.369 2029.68,107.5 2029.92,115.864 2030.16,127.036 2030.4,141.683 2030.65,160.543 2030.89,184.398 2031.13,214.036 \n",
       "  2031.37,250.196 2031.61,293.507 2031.86,344.41 2032.1,403.098 2032.34,469.556 2032.58,544.098 2032.83,628.781 2033.07,727.498 2033.31,838.823 2033.55,946.263 \n",
       "  2033.8,1028.44 2034.04,1084.11 2034.28,1129.96 2034.52,1175.48 2034.76,1216.3 2035.01,1245.19 2035.25,1258.16 2035.49,1253.94 2035.73,1232.64 2035.98,1195.3 \n",
       "  2036.22,1143.67 2036.46,1080.17 2036.7,1007.73 2036.94,929.621 2037.19,849.282 2037.43,770.164 2037.67,695.557 2037.91,628.439 2038.16,571.36 2038.4,526.335 \n",
       "  2038.64,494.784 2038.88,477.489 2039.12,474.59 2039.37,485.605 2039.61,509.48 2039.85,544.653 2040.09,589.141 2040.34,640.629 2040.58,696.572 2040.82,754.298 \n",
       "  2041.06,811.115 2041.3,864.427 2041.55,911.859 2041.79,951.383 2042.03,981.455 2042.27,1001.14 2042.52,1010.21 2042.76,1009.22 2043,999.482 2043.24,982.99 \n",
       "  2043.48,962.259 2043.73,940.065 2043.97,919.151 2044.21,901.906 2044.45,890.077 2044.7,884.558 2044.94,885.288 2045.18,891.27 2045.42,900.722 2045.66,911.313 \n",
       "  2045.91,920.468 2046.15,925.681 2046.39,924.84 2046.63,916.641 2046.88,901.318 2047.12,881.311 2047.36,859.487 2047.6,833.717 2047.84,795.766 2048.09,742.077 \n",
       "  2048.33,681.933 2048.57,628.364 2048.81,587.131 2049.06,558.141 2049.3,540.832 2049.54,535.565 2049.78,542.782 2050.02,562.378 2050.27,593.534 2050.51,634.736 \n",
       "  2050.75,683.853 2050.99,738.27 2051.24,795.04 2051.48,851.062 2051.72,903.254 2051.96,948.736 2052.21,984.985 2052.45,1009.97 2052.69,1022.26 2052.93,1021.09 \n",
       "  2053.17,1006.35 2053.42,978.633 2053.66,939.095 2053.9,889.41 2054.14,831.624 2054.39,768.012 2054.63,700.937 2054.87,632.708 2055.11,565.457 2055.35,501.046 \n",
       "  2055.6,441.003 2055.84,386.488 2056.08,338.292 2056.32,296.855 2056.57,262.31 2056.81,234.533 2057.05,213.196 2057.29,197.826 2057.53,187.845 2057.78,182.617 \n",
       "  2058.02,181.47 2058.26,183.722 2058.5,188.687 2058.75,195.691 2058.99,204.071 2059.23,213.183 2059.47,222.411 2059.71,231.177 2059.96,238.952 2060.2,245.276 \n",
       "  2060.44,249.772 2060.68,252.162 2060.93,252.276 2061.17,250.06 2061.41,245.574 2061.65,238.985 2061.89,230.551 2062.14,220.604 2062.38,209.52 2062.62,197.701 \n",
       "  2062.86,185.544 2063.11,173.423 2063.35,161.666 2063.59,150.546 2063.83,140.272 2064.07,130.986 2064.32,122.767 2064.56,115.638 2064.8,109.573 2065.04,104.51 \n",
       "  2065.29,100.36 2065.53,97.0207 2065.77,94.3803 2066.01,92.3296 2066.25,90.765 2066.5,89.5935 2066.74,88.7341 2066.98,88.1196 2067.22,87.697 2067.47,87.4268 \n",
       "  2067.71,87.2834 2067.95,87.2555 2068.19,87.3466 2068.43,87.5769 2068.68,87.9863 2068.92,88.6388 2069.16,89.6273 2069.4,91.081 2069.65,93.1726 2069.89,96.1262 \n",
       "  2070.13,100.225 2070.37,105.817 2070.62,113.318 2070.86,123.211 2071.1,136.037 2071.34,152.379 2071.58,172.837 2071.83,198.001 2072.07,228.47 2072.31,265.269 \n",
       "  2072.55,311.643 2072.8,376.148 2073.04,469.374 2073.28,584.216 2073.52,682.579 2073.76,730.394 2074.01,741.904 2074.25,757.289 2074.49,793.565 2074.73,841.497 \n",
       "  2074.98,888.266 2075.22,927.008 2075.46,954.831 2075.7,970.331 2075.94,972.819 2076.19,962.345 2076.43,940.474 2076.67,913.113 2076.91,894.707 2077.16,902.107 \n",
       "  2077.4,925.242 2077.64,910.794 2077.88,816.171 2078.12,670.419 2078.37,536.653 2078.61,441.882 2078.85,375.783 2079.09,323.741 2079.34,279.396 2079.58,241.202 \n",
       "  2079.82,208.763 2080.06,181.71 2080.3,159.56 2080.55,141.748 2080.79,127.677 2081.03,116.753 2081.27,108.417 2081.52,102.163 2081.76,97.5492 2082,94.2018 \n",
       "  2082.24,91.8131 2082.48,90.1362 2082.73,88.9782 2082.97,88.1915 2083.21,87.6656 2083.45,87.3197 2083.7,87.096 2083.94,86.9537 2084.18,86.8648 2084.42,86.8102 \n",
       "  2084.66,86.7773 2084.91,86.758 2085.15,86.747 2085.39,86.741 2085.63,86.738 2085.88,86.7367 2086.12,86.7364 2086.36,86.7366 2086.6,86.7372 2086.84,86.7379 \n",
       "  2087.09,86.7388 2087.33,86.7397 2087.57,86.7406 2087.81,86.7415 2088.06,86.7424 2088.3,86.7433 2088.54,86.7443 2088.78,86.7452 2089.03,86.7461 2089.27,86.7471 \n",
       "  2089.51,86.748 2089.75,86.7489 2089.99,86.7499 2090.24,86.7508 2090.48,86.7517 2090.72,86.7527 2090.96,86.7536 2091.21,86.7546 2091.45,86.7555 2091.69,86.7564 \n",
       "  2091.93,86.7574 2092.17,86.7583 2092.42,86.7593 2092.66,86.7602 2092.9,86.7612 2093.14,86.7621 2093.39,86.763 2093.63,86.764 2093.87,86.7649 2094.11,86.7659 \n",
       "  2094.35,86.7668 2094.6,86.7678 2094.84,86.7687 2095.08,86.7697 2095.32,86.7707 2095.57,86.7716 2095.81,86.7726 2096.05,86.7735 2096.29,86.7745 2096.53,86.7754 \n",
       "  2096.78,86.7764 2097.02,86.7774 2097.26,86.7783 2097.5,86.7793 2097.75,86.7802 2097.99,86.7812 2098.23,86.7822 2098.47,86.7831 2098.71,86.7841 2098.96,86.785 \n",
       "  2099.2,86.786 2099.44,86.787 2099.68,86.7879 2099.93,86.7889 2100.17,86.7899 2100.41,86.7909 2100.65,86.7918 2100.89,86.7928 2101.14,86.7938 2101.38,86.7947 \n",
       "  2101.62,86.7957 2101.86,86.7967 2102.11,86.7977 2102.35,86.7986 2102.59,86.7996 2102.83,86.8006 2103.07,86.8016 2103.32,86.8026 2103.56,86.8035 2103.8,86.8045 \n",
       "  2104.04,86.8055 2104.29,86.8065 2104.53,86.8075 2104.77,86.8085 2105.01,86.8096 2105.26,86.8108 2105.5,86.8122 2105.74,86.8138 2105.98,86.816 2106.22,86.8193 \n",
       "  2106.47,86.8242 2106.71,86.8322 2106.95,86.8451 2107.19,86.8664 2107.44,86.9012 2107.68,86.9579 2107.92,87.0489 2108.16,87.1933 2108.4,87.4191 2108.65,87.767 \n",
       "  2108.89,88.2947 2109.13,89.0828 2109.37,90.2412 2109.62,91.917 2109.86,94.302 2110.1,97.6417 2110.34,102.242 2110.58,108.473 2110.83,116.773 2111.07,127.644 \n",
       "  2111.31,141.637 2111.55,159.34 2111.8,181.341 2112.04,208.195 2112.28,240.375 2112.52,278.213 2112.76,321.847 2113.01,371.159 2113.25,425.73 2113.49,484.798 \n",
       "  2113.73,547.248 2113.98,611.618 2114.22,676.139 2114.46,738.802 2114.7,797.457 2114.94,849.93 2115.19,894.155 2115.43,928.308 2115.67,950.929 2115.91,961.032 \n",
       "  2116.16,958.169 2116.4,942.467 2116.64,914.619 2116.88,875.829 2117.12,827.731 2117.37,772.274 2117.61,711.587 2117.85,647.849 2118.09,583.162 2118.34,519.439 \n",
       "  2118.58,458.321 2118.82,401.122 2119.06,348.8 2119.3,301.966 2119.55,260.903 2119.79,225.615 2120.03,195.877 2120.27,171.298 2120.52,151.382 2120.76,135.578 \n",
       "  2121,123.33 2121.24,114.118 2121.48,107.485 2121.73,103.061 2121.97,100.58 2122.21,99.8867 2122.45,100.947 2122.7,103.848 2122.94,108.801 2123.18,116.136 \n",
       "  2123.42,126.294 2123.67,139.815 2123.91,157.313 2124.15,179.449 2124.39,206.887 2124.63,240.239 2124.88,280.011 2125.12,326.528 2125.36,379.866 2125.6,439.787 \n",
       "  2125.85,505.681 2126.09,576.533 2126.33,650.908 2126.57,726.975 2126.81,802.561 2127.06,875.244 2127.3,942.472 2127.54,1001.71 2127.78,1050.61 2128.03,1087.15 \n",
       "  2128.27,1109.81 2128.51,1117.67 2128.75,1110.52 2128.99,1088.86 2129.24,1053.92 2129.48,1007.57 2129.72,952.222 2129.96,890.632 2130.21,825.75 2130.45,760.5 \n",
       "  2130.69,697.59 2130.93,639.333 2131.17,587.514 2131.42,543.304 2131.66,507.229 2131.9,479.196 2132.14,458.568 2132.39,444.274 2132.63,434.951 2132.87,429.129 \n",
       "  2133.11,425.649 2133.35,424.927 2133.6,431.133 2133.84,450.806 2134.08,480.913 2134.32,498.185 2134.57,478.032 2134.81,426.194 2135.05,371.006 2135.29,329.692 \n",
       "  2135.53,300.27 2135.78,275.785 2136.02,252.77 2136.26,230.633 2136.5,209.663 2136.75,190.227 2136.99,172.597 2137.23,156.935 2137.47,143.296 2137.71,131.649 \n",
       "  2137.96,121.888 2138.2,113.86 2138.44,107.377 2138.68,102.238 2138.93,98.2422 2139.17,95.1999 2139.41,92.9417 2139.65,91.3244 2139.89,90.2352 2140.14,89.5941 \n",
       "  2140.38,89.3567 2140.62,89.5165 2140.86,90.1082 2141.11,91.2118 2141.35,92.9576 2141.59,95.5326 2141.83,99.1856 2142.08,104.233 2142.32,111.061 2142.56,120.126 \n",
       "  2142.8,131.944 2143.04,147.084 2143.29,166.138 2143.53,189.692 2143.77,218.283 2144.01,252.349 2144.26,292.173 2144.5,337.82 2144.74,389.084 2144.98,445.442 \n",
       "  2145.22,506.022 2145.47,569.591 2145.71,634.581 2145.95,699.13 2146.19,761.164 2146.44,818.5 2146.68,868.969 2146.92,910.554 2147.16,941.517 2147.4,960.527 \n",
       "  2147.65,966.749 2147.89,959.908 2148.13,940.306 2148.37,908.804 2148.62,866.755 2148.86,815.913 2149.1,758.305 2149.34,696.104 2149.58,631.49 2149.83,566.53 \n",
       "  2150.07,503.072 2150.31,442.672 2150.55,386.542 2150.8,335.539 2151.04,290.17 2151.28,250.627 2151.52,216.831 2151.76,188.493 2152.01,165.167 2152.25,146.314 \n",
       "  2152.49,131.343 2152.73,119.663 2152.98,110.706 2153.22,103.953 2153.46,98.9489 2153.7,95.3023 2153.94,92.6907 2154.19,90.8541 2154.43,89.589 2154.67,88.741 \n",
       "  2154.91,88.1975 2155.16,87.881 2155.4,87.7444 2155.64,87.7669 2155.88,87.9532 2156.12,88.3341 2156.37,88.969 2156.61,89.9513 2156.85,91.4161 2157.09,93.5641 \n",
       "  2157.34,96.8326 2157.58,102.93 2157.82,118.574 2158.06,160.859 2158.3,248.805 2158.55,366.078 2158.79,443.163 2159.03,427.058 2159.27,354.161 2159.52,300.953 \n",
       "  2159.76,298.658 2160,333.216 2160.24,385.826 2160.49,448.014 2160.73,517.218 2160.97,592.168 2161.21,671.418 2161.45,753.103 2161.7,834.962 2161.94,914.428 \n",
       "  2162.18,988.757 2162.42,1055.19 2162.67,1111.17 2162.91,1154.5 2163.15,1183.61 2163.39,1197.64 2163.63,1196.65 2163.88,1181.59 2164.12,1154.25 2164.36,1117.17 \n",
       "  2164.6,1073.35 2164.85,1025.99 2165.09,978.152 2165.33,932.47 2165.57,890.903 2165.81,854.585 2166.06,823.784 2166.3,797.976 2166.54,776.007 2166.78,756.322 \n",
       "  2167.03,737.212 2167.27,717.052 2167.51,694.489 2167.75,668.573 2167.99,638.818 2168.24,605.195 2168.48,568.087 2168.72,528.198 2168.96,486.451 2169.21,443.881 \n",
       "  2169.45,401.54 2169.69,360.412 2169.93,321.354 2170.17,285.052 2170.42,252.002 2170.66,222.509 2170.9,196.694 2171.14,174.522 2171.39,155.827 2171.63,140.347 \n",
       "  2171.87,127.758 2172.11,117.701 2172.35,109.809 2172.6,103.731 2172.84,99.1431 2173.08,95.7607 2173.32,93.3509 2173.57,91.78 2173.81,91.2907 2174.05,93.4248 \n",
       "  2174.29,102.119 2174.53,121.141 2174.78,145.394 2175.02,158.632 2175.26,150.604 2175.5,131.223 2175.75,117.312 2175.99,114.867 2176.23,120.636 2176.47,130.93 \n",
       "  2176.71,144.432 2176.96,161.113 2177.2,181.252 2177.44,205.104 2177.68,232.814 2177.93,264.372 2178.17,299.577 2178.41,338.007 2178.65,379.005 2178.9,421.681 \n",
       "  2179.14,464.923 2179.38,507.443 2179.62,547.831 2179.86,584.63 2180.11,616.419 2180.35,641.91 2180.59,660.026 2180.83,669.981 2181.08,671.337 2181.32,664.034 \n",
       "  2181.56,648.399 2181.8,625.151 2182.04,595.456 2182.29,561.078 2182.53,524.187 2182.77,486.09 2183.01,445.94 2183.26,402.47 2183.5,357.31 2183.74,314.311 \n",
       "  2183.98,275.979 2184.22,242.56 2184.47,213.541 2184.71,188.58 2184.95,167.48 2185.19,150.025 2185.44,135.944 2185.68,124.935 2185.92,116.703 2186.16,110.993 \n",
       "  2186.4,107.617 2186.65,106.477 2186.89,107.579 2187.13,111.049 2187.37,117.13 2187.62,126.183 2187.86,138.676 2188.1,155.165 2188.34,176.262 2188.58,202.597 \n",
       "  2188.83,234.765 2189.07,273.264 2189.31,318.429 2189.55,370.36 2189.8,428.855 2190.04,493.351 2190.28,562.888 2190.52,636.094 2190.76,711.197 2191.01,786.084 \n",
       "  2191.25,858.378 2191.49,925.561 2191.73,985.114 2191.98,1034.67 2192.22,1072.17 2192.46,1096 2192.7,1105.13 2192.94,1099.15 2193.19,1078.31 2193.43,1043.55 \n",
       "  2193.67,996.35 2193.91,938.697 2194.16,872.903 2194.4,801.469 2194.64,726.927 2194.88,651.696 2195.12,577.955 2195.37,507.557 2195.61,441.97 2195.85,382.252 \n",
       "  2196.09,329.068 2196.34,282.719 2196.58,243.208 2196.82,210.306 2197.06,183.626 2197.31,162.707 2197.55,147.072 2197.79,136.301 2198.03,130.071 2198.27,128.201 \n",
       "  2198.52,130.671 2198.76,137.637 2199,149.428 2199.24,166.525 2199.49,189.531 2199.73,219.116 2199.97,255.95 2200.21,300.621 2200.45,353.526 2200.7,414.776 \n",
       "  2200.94,484.08 2201.18,560.662 2201.42,643.197 2201.67,729.803 2201.91,818.085 2202.15,905.264 2202.39,988.355 2202.63,1064.41 2202.88,1130.8 2203.12,1185.42 \n",
       "  2203.36,1226.92 2203.6,1254.79 2203.85,1269.33 2204.09,1271.51 2204.33,1262.75 2204.57,1244.63 2204.81,1218.64 2205.06,1185.97 2205.3,1147.42 2205.54,1103.41 \n",
       "  2205.78,1054.12 2206.03,999.624 2206.27,940.136 2206.51,876.124 2206.75,808.409 2206.99,738.169 2207.24,666.864 2207.48,596.106 2207.72,527.505 2207.96,462.529 \n",
       "  2208.21,402.381 2208.45,347.934 2208.69,299.7 2208.93,257.848 2209.17,222.251 2209.42,192.548 2209.66,168.214 2209.9,148.632 2210.14,133.176 2210.39,121.459 \n",
       "  2210.63,114.301 2210.87,115.792 2211.11,133.071 2211.35,166.149 2211.6,194.971 2211.84,192.835 2212.08,159.748 2212.32,122.097 2212.57,99.2324 2212.81,90.4777 \n",
       "  2213.05,88.1653 2213.29,87.6569 2213.53,87.5094 2213.78,87.4378 2214.02,87.3958 2214.26,87.3713 2214.5,87.358 2214.75,87.352 2214.99,87.3516 2215.23,87.3563 \n",
       "  2215.47,87.367 2215.72,87.3865 2215.96,87.4193 2216.2,87.4732 2216.44,87.5603 2216.68,87.6991 2216.93,87.917 2217.17,88.2543 2217.41,88.7683 2217.65,89.5397 \n",
       "  2217.9,90.6791 2218.14,92.3356 2218.38,94.7059 2218.62,98.0548 2218.86,102.832 2219.11,110.359 2219.35,125.235 2219.59,158.555 2219.83,221.91 2220.08,303.8 \n",
       "  2220.32,360.602 2220.56,361.898 2220.8,332.862 2221.04,320.252 2221.29,341.284 2221.53,386.265 2221.77,443.416 2222.01,507.187 2222.26,575.318 2222.5,646.139 \n",
       "  2222.74,717.773 2222.98,788.069 2223.22,854.682 2223.47,915.196 2223.71,967.27 2223.95,1008.78 2224.19,1037.98 2224.44,1053.59 2224.68,1054.93 2224.92,1041.94 \n",
       "  2225.16,1015.19 2225.4,975.853 2225.65,925.594 2225.89,866.479 2226.13,800.82 2226.37,731.03 2226.62,659.477 2226.86,588.357 2227.1,519.589 2227.34,454.747 \n",
       "  2227.58,395.016 2227.83,341.19 2228.07,293.691 2228.31,252.611 2228.55,217.772 2228.8,188.785 2229.04,165.12 2229.28,146.169 2229.52,131.291 2229.76,119.863 \n",
       "  2230.01,111.311 2230.25,105.13 2230.49,100.898 2230.73,98.2842 2230.98,97.0476 2231.22,97.0319 2231.46,98.1603 2231.7,100.425 2231.94,103.875 2232.19,108.608 \n",
       "  2232.43,114.749 2232.67,122.44 2232.91,131.822 2233.16,143.014 2233.4,156.098 2233.64,171.098 2233.88,187.967 2234.13,206.575 2234.37,226.704 2234.61,248.044 \n",
       "  2234.85,270.212 2235.09,292.761 2235.34,315.211 2235.58,337.08 2235.82,357.926 2236.06,377.375 2236.31,395.162 2236.55,411.147 2236.79,425.323 2237.03,437.808 \n",
       "  2237.27,448.813 2237.52,458.598 2237.76,467.414 2238,475.45 2238.24,482.777 2238.49,489.313 2238.73,494.82 2238.97,498.911 2239.21,501.098 2239.45,500.851 \n",
       "  2239.7,497.673 2239.94,491.171 2240.18,481.123 2240.42,467.528 2240.67,450.63 2240.91,430.931 2241.15,409.177 2241.39,386.331 2241.63,363.542 2241.88,342.098 \n",
       "  2242.12,323.389 2242.36,308.859 2242.6,299.962 2242.85,298.109 2243.09,304.614 2243.33,320.626 2243.57,347.058 2243.81,384.496 2244.06,433.119 2244.3,492.616 \n",
       "  2244.54,562.117 2244.78,640.164 2245.03,724.712 2245.27,813.199 2245.51,902.666 2245.75,989.933 2245.99,1071.82 2246.24,1145.36 2246.48,1208.04 2246.72,1257.95 \n",
       "  2246.96,1293.88 2247.21,1315.3 2247.45,1322.3 2247.69,1315.47 2247.93,1295.69 2248.17,1264.03 2248.42,1221.62 2248.66,1169.62 2248.9,1109.21 2249.14,1041.68 \n",
       "  2249.39,968.453 2249.63,891.154 2249.87,811.627 2250.11,731.888 2250.36,654.07 2250.6,580.536 2250.84,515.238 2251.08,469.132 2251.32,468.036 2251.57,539.427 \n",
       "  2251.81,656.608 2252.05,716.146 2252.29,645.392 2252.54,502.554 2252.78,394.821 2253.02,359.332 2253.26,371.934 2253.5,405.243 2253.75,447.029 2253.99,493.231 \n",
       "  2254.23,541.84 2254.47,591.128 2254.72,639.426 2254.96,685.19 2255.2,727.106 2255.44,764.194 2255.68,795.893 2255.93,822.095 2256.17,843.132 2256.41,859.698 \n",
       "  2256.65,872.702 2256.9,883.095 2257.14,891.671 2257.38,898.899 2257.62,904.807 2257.86,908.947 2258.11,910.446 2258.35,908.141 2258.59,900.763 2258.83,887.146 \n",
       "  2259.08,866.414 2259.32,838.129 2259.56,802.365 2259.8,759.713 2260.04,711.222 2260.29,658.289 2260.53,602.521 2260.77,545.593 2261.01,489.117 2261.26,434.537 \n",
       "  2261.5,383.052 2261.74,335.575 2261.98,292.722 2262.22,254.826 2262.47,221.961 2262.71,193.996 2262.95,170.632 2263.19,151.461 2263.44,136.004 2263.68,123.757 \n",
       "  2263.92,114.217 2264.16,106.91 2264.4,101.407 2264.65,97.3311 2264.89,94.3611 2265.13,92.2323 2265.37,90.7313 2265.62,89.6901 2265.86,88.9794 2266.1,88.5023 \n",
       "  2266.34,88.1873 2266.58,87.9827 2266.83,87.8521 2267.07,87.7703 2267.31,87.7201 2267.55,87.69 2267.8,87.6725 2268.04,87.6628 2268.28,87.6578 2268.52,87.6556 \n",
       "  2268.77,87.6551 2269.01,87.6556 2269.25,87.6569 2269.49,87.6588 2269.73,87.6614 2269.98,87.6651 2270.22,87.6704 2270.46,87.6782 2270.7,87.6902 2270.95,87.7087 \n",
       "  2271.19,87.7374 2271.43,87.7815 2271.67,87.8488 2271.91,87.9504 2272.16,88.1018 2272.4,88.3241 2272.64,88.6456 2272.88,89.1034 2273.13,89.7451 2273.37,90.6299 \n",
       "  2273.61,91.8302 2273.85,93.4315 2274.09,95.5321 2274.34,98.2408 2274.58,101.673 2274.82,105.947 2275.06,111.174 2275.31,117.449 2275.55,124.843 2275.79,133.387 \n",
       "  2276.03,143.064 2276.27,153.797 2276.52,165.442 2276.76,177.786 2277,190.546 2277.24,203.375 2277.49,215.88 2277.73,227.635 2277.97,238.208 2278.21,247.185 \n",
       "  2278.45,254.201 2278.7,259.008 2278.94,261.87 2279.18,265.567 2279.42,281.097 2279.67,331.715 2279.91,432.094 2280.15,540.993 2280.39,568.724 2280.63,480.055 \n",
       "  2280.88,343.43 2281.12,240.411 2281.36,188.429 2281.6,165.22 2281.85,151.777 2282.09,141.125 2282.33,131.841 2282.57,123.796 2282.81,117.006 2283.06,111.468 \n",
       "  2283.3,107.154 2283.54,104.028 2283.78,102.053 2284.03,101.199 2284.27,101.455 2284.51,102.825 2284.75,105.333 2284.99,109.014 2285.24,113.912 2285.48,120.061 \n",
       "  2285.72,127.484 2285.96,136.169 2286.21,146.062 2286.45,157.055 2286.69,168.975 2286.93,181.583 2287.18,194.571 2287.42,207.576 2287.66,220.184 2287.9,231.96 \n",
       "  2288.14,242.463 2288.39,251.277 2288.63,258.038 2288.87,262.456 2289.11,264.337 2289.36,263.598 2289.6,260.273 2289.84,254.507 2290.08,246.55 2290.32,236.736 \n",
       "  2290.57,225.462 2290.81,213.159 2291.05,200.266 2291.29,187.207 2291.54,174.365 2291.78,162.067 2292.02,150.574 2292.26,140.075 2292.5,130.688 2292.75,122.467 \n",
       "  2292.99,115.409 2293.23,109.463 \n",
       "  \"/>\n",
       "<polyline clip-path=\"url(#clip512)\" style=\"stroke:#e26f46; stroke-linecap:butt; stroke-linejoin:round; stroke-width:4; stroke-opacity:1; fill:none\" points=\"\n",
       "  309.067,101.017 309.309,101.046 309.551,101.081 309.794,101.122 310.036,101.169 310.278,101.225 310.52,101.289 310.763,101.363 311.005,101.45 311.247,101.552 \n",
       "  311.489,101.671 311.732,101.812 311.974,101.978 312.216,102.177 312.458,102.417 312.701,102.708 312.943,103.064 313.185,103.502 313.427,104.046 313.669,104.723 \n",
       "  313.912,105.571 314.154,106.634 314.396,107.968 314.638,109.639 314.881,111.728 315.123,114.328 315.365,117.545 315.607,121.5 315.85,126.323 316.092,132.153 \n",
       "  316.334,139.131 316.576,147.395 316.819,157.071 317.061,168.265 317.303,181.049 317.545,195.454 317.787,211.457 318.03,228.97 318.272,247.834 318.514,267.811 \n",
       "  318.756,288.588 318.999,309.777 319.241,330.925 319.483,351.526 319.725,371.045 319.968,388.934 320.21,404.662 320.452,417.74 320.694,427.746 320.937,434.349 \n",
       "  321.179,437.327 321.421,436.58 321.663,432.134 321.906,424.143 322.148,412.878 322.39,398.71 322.632,382.095 322.874,363.543 323.117,343.597 323.359,322.805 \n",
       "  323.601,301.695 323.843,280.753 324.086,260.412 324.328,241.032 324.57,222.9 324.812,206.224 325.055,191.138 325.297,177.711 325.539,165.951 325.781,155.82 \n",
       "  326.024,147.245 326.266,140.131 326.508,134.37 326.75,129.855 326.992,126.486 327.235,124.182 327.477,122.885 327.719,122.566 327.961,123.234 328.204,124.934 \n",
       "  328.446,127.758 328.688,131.84 328.93,137.364 329.173,144.558 329.415,153.697 329.657,165.098 329.899,179.107 330.142,196.095 330.384,216.436 330.626,240.491 \n",
       "  330.868,268.582 331.111,300.966 331.353,337.805 331.595,379.138 331.837,424.853 332.079,474.667 332.322,528.106 332.564,584.503 332.806,642.993 333.048,702.525 \n",
       "  333.291,761.877 333.533,819.677 333.775,874.444 334.017,924.64 334.26,968.738 334.502,1005.32 334.744,1033.2 334.986,1051.52 335.229,1059.87 335.471,1058.37 \n",
       "  335.713,1047.7 335.955,1029.08 336.198,1004.21 336.44,975.15 336.682,944.243 336.924,913.914 337.166,886.518 337.409,864.147 337.651,848.448 337.893,840.456 \n",
       "  338.135,840.507 338.378,848.244 338.62,862.734 338.862,882.666 339.104,906.589 339.347,933.112 339.589,961.005 339.831,989.207 340.073,1016.73 340.316,1042.56 \n",
       "  340.558,1065.55 340.8,1084.41 341.042,1097.77 341.284,1104.33 341.527,1102.96 341.769,1092.88 342.011,1073.73 342.253,1045.58 342.496,1008.97 342.738,964.81 \n",
       "  342.98,914.345 343.222,859.048 343.465,800.54 343.707,740.501 343.949,680.581 344.191,622.297 344.434,566.941 344.676,515.487 344.918,468.513 345.16,426.174 \n",
       "  345.403,388.232 345.645,354.148 345.887,323.235 346.129,294.828 346.371,268.43 346.614,243.8 346.856,220.953 347.098,200.092 347.34,181.487 347.583,165.363 \n",
       "  347.825,151.811 348.067,140.76 348.309,131.989 348.552,125.179 348.794,119.968 349.036,116.007 349.278,112.989 349.521,110.669 349.763,108.86 350.005,107.424 \n",
       "  350.247,106.267 350.489,105.321 350.732,104.538 350.974,103.884 351.216,103.333 351.458,102.866 351.701,102.467 351.943,102.126 352.185,101.831 352.427,101.577 \n",
       "  352.67,101.356 352.912,101.164 353.154,100.996 353.396,100.849 353.639,100.721 353.881,100.608 354.123,100.51 354.365,100.423 354.608,100.348 354.85,100.282 \n",
       "  355.092,100.224 355.334,100.173 355.576,100.129 355.819,100.09 356.061,100.056 356.303,100.027 356.545,100.002 356.788,99.9793 357.03,99.96 357.272,99.9433 \n",
       "  357.514,99.9288 357.757,99.9163 357.999,99.9055 358.241,99.8964 358.483,99.8888 358.726,99.8826 358.968,99.8777 359.21,99.8742 359.452,99.8719 359.695,99.8711 \n",
       "  359.937,99.8717 360.179,99.8739 360.421,99.8778 360.663,99.8836 360.906,99.8915 361.148,99.9019 361.39,99.9149 361.632,99.9311 361.875,99.9507 362.117,99.9742 \n",
       "  362.359,100.002 362.601,100.035 362.844,100.074 363.086,100.119 363.328,100.172 363.57,100.233 363.813,100.304 364.055,100.387 364.297,100.482 364.539,100.592 \n",
       "  364.781,100.721 365.024,100.871 365.266,101.046 365.508,101.253 365.75,101.499 365.993,101.792 366.235,102.145 366.477,102.575 366.719,103.1 366.962,103.747 \n",
       "  367.204,104.551 367.446,105.553 367.688,106.807 367.931,108.379 368.173,110.351 368.415,112.82 368.657,115.903 368.9,119.736 369.142,124.471 369.384,130.283 \n",
       "  369.626,137.356 369.868,145.887 370.111,156.074 370.353,168.109 370.595,182.164 370.837,198.377 371.08,216.839 371.322,237.579 371.564,260.543 371.806,285.587 \n",
       "  372.049,312.463 372.291,340.816 372.533,370.179 372.775,399.987 373.018,429.583 373.26,458.247 373.502,485.219 373.744,509.731 373.986,531.046 374.229,548.496 \n",
       "  374.471,561.513 374.713,569.663 374.955,572.669 375.198,570.43 375.44,563.023 375.682,550.699 375.924,533.872 376.167,513.092 376.409,489.017 376.651,462.376 \n",
       "  376.893,433.935 377.136,404.457 377.378,374.674 377.62,345.252 377.862,316.773 378.105,289.719 378.347,264.465 378.589,241.278 378.831,220.318 379.073,201.656 \n",
       "  379.316,185.28 379.558,171.113 379.8,159.03 380.042,148.877 380.285,140.488 380.527,133.701 380.769,128.386 381.011,124.46 381.254,121.908 381.496,120.801 \n",
       "  381.738,121.285 381.98,123.56 382.223,127.812 382.465,134.122 382.707,142.353 382.949,152.059 383.192,162.441 383.434,172.401 383.676,180.693 383.918,186.155 \n",
       "  384.16,187.958 384.403,185.792 384.645,179.946 384.887,171.228 385.129,160.779 385.372,149.82 385.614,139.424 385.856,130.36 386.098,123.045 386.341,117.584 \n",
       "  386.583,113.88 386.825,111.75 387.067,111.039 387.31,111.692 387.552,113.779 387.794,117.471 388.036,122.975 388.278,130.42 388.521,139.726 388.763,150.498 \n",
       "  389.005,161.963 389.247,173.016 389.49,182.367 389.732,188.778 389.974,191.332 390.216,189.642 390.459,183.948 390.701,175.057 390.943,164.15 391.185,152.522 \n",
       "  391.428,141.331 391.67,131.421 391.912,123.257 392.154,116.948 392.397,112.347 392.639,109.162 392.881,107.063 393.123,105.744 393.365,104.965 393.608,104.556 \n",
       "  393.85,104.41 394.092,104.467 394.334,104.7 394.577,105.108 394.819,105.703 395.061,106.514 395.303,107.578 395.546,108.951 395.788,110.704 396.03,112.926 \n",
       "  396.272,115.73 396.515,119.256 396.757,123.67 396.999,129.174 397.241,136.001 397.483,144.416 397.726,154.718 397.968,167.228 398.21,182.287 398.452,200.238 \n",
       "  398.695,221.416 398.937,246.12 399.179,274.598 399.421,307.018 399.664,343.449 399.906,383.836 400.148,427.987 400.39,475.564 400.633,526.086 400.875,578.94 \n",
       "  401.117,633.403 401.359,688.674 401.602,743.908 401.844,798.258 402.086,850.911 402.328,901.122 402.57,948.236 402.813,991.701 403.055,1031.07 403.297,1065.98 \n",
       "  403.539,1096.17 403.782,1121.4 404.024,1141.48 404.266,1156.25 404.508,1165.52 404.751,1169.15 404.993,1166.99 405.235,1158.93 405.477,1144.84 405.72,1124.64 \n",
       "  405.962,1098.23 406.204,1065.53 406.446,1026.54 406.689,981.391 406.931,930.443 407.173,874.416 407.415,814.432 407.657,752.017 407.9,689.012 408.142,627.407 \n",
       "  408.384,569.158 408.626,515.992 408.869,469.283 409.111,429.987 409.353,398.648 409.595,375.449 409.838,360.292 410.08,352.869 410.322,352.721 410.564,359.273 \n",
       "  410.807,371.861 411.049,389.73 411.291,412.046 411.533,437.893 411.775,466.28 412.018,496.158 412.26,526.431 412.502,555.991 412.744,583.742 412.987,608.643 \n",
       "  413.229,629.739 413.471,646.206 413.713,657.382 413.956,662.798 414.198,662.193 414.44,655.531 414.682,642.991 414.925,624.959 415.167,602.001 415.409,574.832 \n",
       "  415.651,544.271 415.894,511.202 416.136,476.53 416.378,441.134 416.62,405.837 416.862,371.371 417.105,338.357 417.347,307.292 417.589,278.544 417.831,252.354 \n",
       "  418.074,228.847 418.316,208.043 418.558,189.877 418.8,174.216 419.043,160.878 419.285,149.647 419.527,140.294 419.769,132.583 420.012,126.288 420.254,121.195 \n",
       "  420.496,117.11 420.738,113.862 420.98,111.301 421.223,109.303 421.465,107.765 421.707,106.602 421.949,105.75 422.192,105.16 422.434,104.799 422.676,104.646 \n",
       "  422.918,104.691 423.161,104.94 423.403,105.405 423.645,106.115 423.887,107.108 424.13,108.436 424.372,110.165 424.614,112.377 424.856,115.167 425.099,118.646 \n",
       "  425.341,122.939 425.583,128.186 425.825,134.533 426.067,142.133 426.31,151.138 426.552,161.693 426.794,173.927 427.036,187.943 427.279,203.809 427.521,221.552 \n",
       "  427.763,241.145 428.005,262.506 428.248,285.492 428.49,309.902 428.732,335.484 428.974,361.943 429.217,388.956 429.459,416.2 429.701,443.367 429.943,470.201 \n",
       "  430.186,496.52 430.428,522.241 430.67,547.382 430.912,572.049 431.154,596.386 431.397,620.491 431.639,644.309 431.881,667.525 432.123,689.497 432.366,709.248 \n",
       "  432.608,725.564 432.85,737.169 433.092,742.953 433.335,742.178 433.577,734.619 433.819,720.582 434.061,700.807 434.304,676.3 434.546,648.144 434.788,617.338 \n",
       "  435.03,584.722 435.272,550.956 435.515,516.566 435.757,482.003 435.999,447.699 436.241,414.109 436.484,381.724 436.726,351.074 436.968,322.716 437.21,297.221 \n",
       "  437.453,275.145 437.695,256.983 437.937,243.099 438.179,233.624 438.422,228.365 438.664,226.725 438.906,227.711 439.148,230.025 439.391,232.272 439.633,233.227 \n",
       "  439.875,232.098 440.117,228.715 440.359,223.574 440.602,217.733 440.844,212.591 441.086,209.627 441.328,210.164 441.571,215.228 441.813,225.501 442.055,241.365 \n",
       "  442.297,262.977 442.54,290.359 442.782,323.453 443.024,362.145 443.266,406.25 443.509,455.479 443.751,509.4 443.993,567.396 444.235,628.648 444.477,692.119 \n",
       "  444.72,756.571 444.962,820.6 445.204,882.678 445.446,941.229 445.689,994.7 445.931,1041.65 446.173,1080.84 446.415,1111.29 446.658,1132.38 446.9,1143.88 \n",
       "  447.142,1145.96 447.384,1139.22 447.627,1124.65 447.869,1103.54 448.111,1077.49 448.353,1048.23 448.596,1017.59 448.838,987.363 449.08,959.211 449.322,934.596 \n",
       "  449.564,914.693 449.807,900.337 450.049,891.986 450.291,889.713 450.533,893.207 450.776,901.81 451.018,914.568 451.26,930.298 451.502,947.68 451.745,965.355 \n",
       "  451.987,982.022 452.229,996.542 452.471,1008.03 452.714,1015.91 452.956,1019.99 453.198,1020.42 453.44,1017.73 453.682,1012.73 453.925,1006.43 454.167,999.963 \n",
       "  454.409,994.418 454.651,990.771 454.894,989.764 455.136,991.835 455.378,997.073 455.62,1005.22 455.863,1015.67 456.105,1027.55 456.347,1039.79 456.589,1051.17 \n",
       "  456.832,1060.44 457.074,1066.39 457.316,1067.91 457.558,1064.08 457.801,1054.16 458.043,1037.67 458.285,1014.42 458.527,984.443 458.769,948.094 459.012,905.963 \n",
       "  459.254,858.875 459.496,807.847 459.738,754.043 459.981,698.715 460.223,643.149 460.465,588.602 460.707,536.258 460.95,487.182 461.192,442.292 461.434,402.336 \n",
       "  461.676,367.898 461.919,339.393 462.161,317.091 462.403,301.131 462.645,291.543 462.888,288.273 463.13,291.194 463.372,300.123 463.614,314.819 463.856,334.984 \n",
       "  464.099,360.235 464.341,390.086 464.583,423.906 464.825,460.892 465.068,500.047 465.31,540.191 465.552,580.007 465.794,618.116 466.037,653.187 466.279,684.04 \n",
       "  466.521,709.739 466.763,729.643 467.006,743.423 467.248,751.038 467.49,752.704 467.732,748.852 467.974,740.108 468.217,727.287 468.459,711.391 468.701,693.615 \n",
       "  468.943,675.323 469.186,658.009 469.428,643.206 469.67,632.354 469.912,626.632 470.155,626.77 470.397,632.899 470.639,644.474 470.881,660.314 471.124,678.797 \n",
       "  471.366,698.145 471.608,716.77 471.85,733.56 472.093,748.041 472.335,760.377 472.577,771.219 472.819,781.475 473.061,792.081 473.304,803.83 473.546,817.304 \n",
       "  473.788,832.882 474.03,850.788 474.273,871.154 474.515,894.036 474.757,919.405 474.999,947.099 475.242,976.761 475.484,1007.79 475.726,1039.32 475.968,1070.22 \n",
       "  476.211,1099.13 476.453,1124.58 476.695,1145.04 476.937,1159.06 477.179,1165.37 477.422,1163 477.664,1151.34 477.906,1130.17 478.148,1099.71 478.391,1060.6 \n",
       "  478.633,1013.83 478.875,960.698 479.117,902.738 479.36,841.609 479.602,779.03 479.844,716.695 480.086,656.209 480.329,599.034 480.571,546.459 480.813,499.576 \n",
       "  481.055,459.277 481.298,426.255 481.54,401.022 481.782,383.915 482.024,375.121 482.266,374.678 482.509,382.493 482.751,398.335 482.993,421.837 483.235,452.487 \n",
       "  483.478,489.616 483.72,532.394 483.962,579.821 484.204,630.731 484.447,683.804 484.689,737.59 484.931,790.544 485.173,841.072 485.416,887.592 485.658,928.597 \n",
       "  485.9,962.721 486.142,988.81 486.385,1005.97 486.627,1013.64 486.869,1011.59 487.111,999.955 487.353,979.236 487.596,950.257 487.838,914.131 488.08,872.2 \n",
       "  488.322,825.964 488.565,777.004 488.807,726.907 489.049,677.192 489.291,629.248 489.534,584.286 489.776,543.296 490.018,507.037 490.26,476.03 490.503,450.575 \n",
       "  490.745,430.779 490.987,416.591 491.229,407.85 491.471,404.333 491.714,405.801 491.956,412.04 492.198,422.893 492.44,438.277 492.683,458.187 492.925,482.682 \n",
       "  493.167,511.855 493.409,545.785 493.652,584.487 493.894,627.851 494.136,675.59 494.378,727.195 494.621,781.922 494.863,838.79 495.105,896.626 495.347,954.118 \n",
       "  495.59,1009.91 495.832,1062.68 496.074,1111.25 496.316,1154.62 496.558,1192.07 496.801,1223.11 497.043,1247.46 497.285,1265.03 497.527,1275.8 497.77,1279.78 \n",
       "  498.012,1276.94 498.254,1267.17 498.496,1250.31 498.739,1226.16 498.981,1194.58 499.223,1155.55 499.465,1109.25 499.708,1056.15 499.95,996.986 500.192,932.803 \n",
       "  500.434,864.892 500.676,794.722 500.919,723.846 501.161,653.799 501.403,586.006 501.645,521.7 501.888,461.863 502.13,407.2 502.372,358.133 502.614,314.817 \n",
       "  502.857,277.176 503.099,244.947 503.341,217.731 503.583,195.042 503.826,176.347 504.068,161.105 504.31,148.795 504.552,138.935 504.795,131.092 505.037,124.89 \n",
       "  505.279,120.009 505.521,116.184 505.763,113.199 506.006,110.881 506.248,109.093 506.49,107.731 506.732,106.715 506.975,105.987 507.217,105.507 507.459,105.248 \n",
       "  507.701,105.196 507.944,105.352 508.186,105.725 508.428,106.337 508.67,107.227 508.913,108.445 509.155,110.062 509.397,112.172 509.639,114.893 509.882,118.375 \n",
       "  510.124,122.803 510.366,128.399 510.608,135.429 510.85,144.204 511.093,155.077 511.335,168.443 511.577,184.73 511.819,204.39 512.062,227.877 512.304,255.632 \n",
       "  512.546,288.049 512.788,325.45 513.031,368.044 513.273,415.894 513.515,468.881 513.757,526.673 514,588.702 514.242,654.152 514.484,721.956 514.726,790.816 \n",
       "  514.968,859.24 515.211,925.586 515.453,988.138 515.695,1045.18 515.937,1095.09 516.18,1136.44 516.422,1168.05 516.664,1189.1 516.906,1199.19 517.149,1198.33 \n",
       "  517.391,1186.99 517.633,1166.07 517.875,1136.81 518.118,1100.75 518.36,1059.6 518.602,1015.15 518.844,969.148 519.087,923.179 519.329,878.595 519.571,836.436 \n",
       "  519.813,797.397 520.055,761.82 520.298,729.714 520.54,700.801 520.782,674.586 521.024,650.425 521.267,627.61 521.509,605.439 521.751,583.28 521.993,560.624 \n",
       "  522.236,537.111 522.478,512.549 522.72,486.91 522.962,460.319 523.205,433.024 523.447,405.371 523.689,377.767 523.931,350.649 524.173,324.452 524.416,299.59 \n",
       "  524.658,276.43 524.9,255.288 525.142,236.418 525.385,220.013 525.627,206.212 525.869,195.102 526.111,186.732 526.354,181.116 526.596,178.244 526.838,178.086 \n",
       "  527.08,180.596 527.323,185.709 527.565,193.341 527.807,203.385 528.049,215.706 528.292,230.135 528.534,246.473 528.776,264.493 529.018,283.956 529.26,304.629 \n",
       "  529.503,326.314 529.745,348.869 529.987,372.213 530.229,396.314 530.472,421.13 530.714,446.519 530.956,472.139 531.198,497.364 531.441,521.28 531.683,542.772 \n",
       "  531.925,560.727 532.167,574.287 532.41,583.088 532.652,587.388 532.894,588.037 533.136,586.274 533.379,583.43 533.621,580.638 533.863,578.624 534.105,577.657 \n",
       "  534.347,577.617 534.59,578.162 534.832,578.894 535.074,579.508 535.316,579.886 535.559,580.15 535.801,580.685 536.043,582.134 536.285,585.351 536.528,591.331 \n",
       "  536.77,601.088 537.012,615.535 537.254,635.359 537.497,660.937 537.739,692.285 537.981,729.053 538.223,770.539 538.465,815.731 538.708,863.348 538.95,911.9 \n",
       "  539.192,959.746 539.434,1005.17 539.677,1046.47 539.919,1082.05 540.161,1110.51 540.403,1130.74 540.646,1141.99 540.888,1143.92 541.13,1136.63 541.372,1120.65 \n",
       "  541.615,1096.9 541.857,1066.58 542.099,1031.17 542.341,992.228 542.584,951.338 542.826,909.987 543.068,869.481 543.31,830.874 543.552,794.934 543.795,762.129 \n",
       "  544.037,732.636 544.279,706.37 544.521,683.013 544.764,662.051 545.006,642.803 545.248,624.463 545.49,606.15 545.733,586.981 545.975,566.168 546.217,543.122 \n",
       "  546.459,517.547 546.702,489.489 546.944,459.338 547.186,427.754 547.428,395.566 547.67,363.639 547.913,332.759 548.155,303.561 548.397,276.488 548.639,251.8 \n",
       "  548.882,229.607 549.124,209.905 549.366,192.614 549.608,177.611 549.851,164.748 550.093,153.866 550.335,144.807 550.577,137.428 550.82,131.619 551.062,127.328 \n",
       "  551.304,124.589 551.546,123.557 551.789,124.525 552.031,127.916 552.273,134.229 552.515,143.918 552.757,157.211 553,173.905 553.242,193.186 553.484,213.559 \n",
       "  553.726,232.955 553.969,249.024 554.211,259.579 554.453,263.069 554.695,258.941 554.938,247.77 555.18,231.119 555.422,211.167 555.664,190.235 555.907,170.346 \n",
       "  556.149,152.934 556.391,138.744 556.633,127.906 556.876,120.116 557.118,114.841 557.36,111.498 557.602,109.571 557.844,108.668 558.087,108.532 558.329,109.023 \n",
       "  558.571,110.091 558.813,111.757 559.056,114.092 559.298,117.206 559.54,121.247 559.782,126.399 560.025,132.887 560.267,140.983 560.509,151.015 560.751,163.377 \n",
       "  560.994,178.53 561.236,196.997 561.478,219.321 561.72,246.002 561.962,277.389 562.205,313.545 562.447,354.121 562.689,398.268 562.931,444.638 563.174,491.503 \n",
       "  563.416,536.973 563.658,579.27 563.9,616.99 564.143,649.257 564.385,675.749 564.627,696.578 564.869,712.092 565.112,722.652 565.354,728.485 565.596,729.617 \n",
       "  565.838,725.91 566.081,717.166 566.323,703.24 566.565,684.147 566.807,660.116 567.049,631.609 567.292,599.29 567.534,563.975 567.776,526.572 568.018,488.015 \n",
       "  568.261,449.21 568.503,410.994 568.745,374.093 568.987,339.108 569.23,306.501 569.472,276.594 569.714,249.576 569.956,225.518 570.199,204.385 570.441,186.063 \n",
       "  570.683,170.374 570.925,157.096 571.167,145.983 571.41,136.781 571.652,129.237 571.894,123.11 572.136,118.182 572.379,114.255 572.621,111.16 572.863,108.756 \n",
       "  573.105,106.932 573.348,105.61 573.59,104.749 573.832,104.349 574.074,104.451 574.317,105.135 574.559,106.511 574.801,108.693 575.043,111.765 575.286,115.742 \n",
       "  575.528,120.539 575.77,125.955 576.012,131.689 576.254,137.386 576.497,142.702 576.739,147.354 576.981,151.15 577.223,153.979 577.466,155.767 577.708,156.439 \n",
       "  577.95,155.895 578.192,154.032 578.435,150.801 578.677,146.271 578.919,140.665 579.161,134.355 579.404,127.8 579.646,121.466 579.888,115.74 580.13,110.873 \n",
       "  580.372,106.965 580.615,103.983 580.857,101.805 581.099,100.268 581.341,99.208 581.584,98.4809 581.826,97.977 582.068,97.6192 582.31,97.3572 582.553,97.1599 \n",
       "  582.795,97.0091 583.037,96.8939 583.279,96.8078 583.522,96.7466 583.764,96.7075 584.006,96.6884 584.248,96.688 584.491,96.7055 584.733,96.7408 584.975,96.7942 \n",
       "  585.217,96.8665 585.459,96.9594 585.702,97.075 585.944,97.2164 586.186,97.3874 586.428,97.5934 586.671,97.841 586.913,98.1389 587.155,98.4981 587.397,98.933 \n",
       "  587.64,99.4619 587.882,100.108 588.124,100.901 588.366,101.879 588.609,103.088 588.851,104.587 589.093,106.446 589.335,108.752 589.578,111.607 589.82,115.133 \n",
       "  590.062,119.471 590.304,124.779 590.546,131.238 590.789,139.042 591.031,148.401 591.273,159.531 591.515,172.649 591.758,187.967 592,205.676 592.242,225.941 \n",
       "  592.484,248.883 592.727,274.575 592.969,303.027 593.211,334.181 593.453,367.906 593.696,403.996 593.938,442.174 594.18,482.101 594.422,523.38 594.664,565.568 \n",
       "  594.907,608.189 595.149,650.741 595.391,692.705 595.633,733.548 595.876,772.724 596.118,809.675 596.36,843.827 596.602,874.595 596.845,901.379 597.087,923.578 \n",
       "  597.329,940.605 597.571,951.906 597.814,956.99 598.056,955.465 598.298,947.068 598.54,931.702 598.783,909.46 599.025,880.644 599.267,845.765 599.509,805.535 \n",
       "  599.751,760.841 599.994,712.704 600.236,662.228 600.478,610.553 600.72,558.79 600.963,507.976 601.205,459.027 601.447,412.71 601.689,369.616 601.932,330.161 \n",
       "  602.174,294.587 602.416,262.974 602.658,235.268 602.901,211.302 603.143,190.826 603.385,173.534 603.627,159.086 603.869,147.134 604.112,137.333 604.354,129.359 \n",
       "  604.596,122.914 604.838,117.733 605.081,113.584 605.323,110.27 605.565,107.623 605.807,105.509 606.05,103.814 606.292,102.45 606.534,101.347 606.776,100.447 \n",
       "  607.019,99.7085 607.261,99.0966 607.503,98.5856 607.745,98.1553 607.988,97.7903 608.23,97.4785 608.472,97.2107 608.714,96.9795 608.956,96.7792 609.199,96.6051 \n",
       "  609.441,96.4535 609.683,96.3214 609.925,96.2063 610.168,96.1059 610.41,96.0187 610.652,95.9429 610.894,95.8774 611.137,95.8211 611.379,95.773 611.621,95.7324 \n",
       "  611.863,95.6985 612.106,95.671 612.348,95.6493 612.59,95.6334 612.832,95.6232 613.075,95.6191 613.317,95.6222 613.559,95.6347 613.801,95.6605 614.043,95.7059 \n",
       "  614.286,95.7803 614.528,95.896 614.77,96.0679 615.012,96.3105 615.255,96.6345 615.497,97.0415 615.739,97.5189 615.981,98.0374 616.224,98.5508 616.466,99.0025 \n",
       "  616.708,99.3348 616.95,99.5009 617.193,99.4761 617.435,99.2634 617.677,98.8928 617.919,98.4141 618.161,97.8858 618.404,97.3631 618.646,96.8885 618.888,96.4881 \n",
       "  619.13,96.1706 619.373,95.9323 619.615,95.7609 619.857,95.6415 620.099,95.5595 620.342,95.5028 620.584,95.4626 620.826,95.4327 621.068,95.4095 621.311,95.3906 \n",
       "  621.553,95.3747 621.795,95.361 622.037,95.3491 622.28,95.3386 622.522,95.3293 622.764,95.3209 623.006,95.3133 623.248,95.3063 623.491,95.2998 623.733,95.2937 \n",
       "  623.975,95.288 624.217,95.2825 624.46,95.2772 624.702,95.2722 624.944,95.2672 625.186,95.2625 625.429,95.2578 625.671,95.2533 625.913,95.249 626.155,95.2447 \n",
       "  626.398,95.2405 626.64,95.2365 626.882,95.2326 627.124,95.2288 627.366,95.2252 627.609,95.2217 627.851,95.2185 628.093,95.2155 628.335,95.2127 628.578,95.2102 \n",
       "  628.82,95.2081 629.062,95.2063 629.304,95.2051 629.547,95.2045 629.789,95.2046 630.031,95.2055 630.273,95.2073 630.516,95.2103 630.758,95.2147 631,95.2207 \n",
       "  631.242,95.2285 631.485,95.2385 631.727,95.2509 631.969,95.2663 632.211,95.2851 632.453,95.3077 632.696,95.3347 632.938,95.3669 633.18,95.4049 633.422,95.4495 \n",
       "  633.665,95.5017 633.907,95.5626 634.149,95.6333 634.391,95.7151 634.634,95.8097 634.876,95.9189 635.118,96.0447 635.36,96.1896 635.603,96.3568 635.845,96.5499 \n",
       "  636.087,96.7733 636.329,97.0327 636.572,97.3354 636.814,97.6904 637.056,98.1094 637.298,98.6078 637.54,99.2051 637.783,99.9269 638.025,100.807 638.267,101.887 \n",
       "  638.509,103.222 638.752,104.884 638.994,106.959 639.236,109.558 639.478,112.816 639.721,116.899 639.963,122.003 640.205,128.358 640.447,136.231 640.69,145.92 \n",
       "  640.932,157.754 641.174,172.082 641.416,189.266 641.658,209.658 641.901,233.589 642.143,261.34 642.385,293.116 642.627,329.018 642.87,369.017 643.112,412.923 \n",
       "  643.354,460.368 643.596,510.789 643.839,563.425 644.081,617.323 644.323,671.36 644.565,724.271 644.808,774.702 645.05,821.259 645.292,862.576 645.534,897.38 \n",
       "  645.777,924.559 646.019,943.219 646.261,952.739 646.503,952.804 646.745,943.428 646.988,924.957 647.23,898.053 647.472,863.669 647.714,823.001 647.957,777.431 \n",
       "  648.199,728.454 648.441,677.598 648.683,626.323 648.926,575.926 649.168,527.45 649.41,481.618 649.652,438.815 649.895,399.117 650.137,362.38 650.379,328.355 \n",
       "  650.621,296.811 650.863,267.624 651.106,240.806 651.348,216.488 651.59,194.846 651.832,176.02 652.075,160.05 652.317,146.842 652.559,136.175 652.801,127.734 \n",
       "  653.044,121.161 653.286,116.099 653.528,112.224 653.77,109.266 654.013,107.011 654.255,105.298 654.497,104.009 654.739,103.062 654.982,102.397 655.224,101.982 \n",
       "  655.466,101.799 655.708,101.86 655.95,102.207 656.193,102.933 656.435,104.196 656.677,106.242 656.919,109.405 657.162,114.097 657.404,120.75 657.646,129.711 \n",
       "  657.888,141.109 658.131,154.709 658.373,169.807 658.615,185.222 658.857,199.424 659.1,210.791 659.342,217.946 659.584,220.079 659.826,217.157 660.069,209.949 \n",
       "  660.311,199.857 660.553,188.617 660.795,177.952 661.037,169.292 661.28,163.611 661.522,161.406 661.764,162.786 662.006,167.62 662.249,175.69 662.491,186.806 \n",
       "  662.733,200.87 662.975,217.868 663.218,237.815 663.46,260.636 663.702,286.033 663.944,313.358 664.187,341.535 664.429,369.083 664.671,394.262 664.913,415.321 \n",
       "  665.155,430.795 665.398,439.775 665.64,442.066 665.882,438.185 666.124,429.204 666.367,416.499 666.609,401.477 666.851,385.37 667.093,369.122 667.336,353.388 \n",
       "  667.578,338.607 667.82,325.106 668.062,313.194 668.305,303.231 668.547,295.654 668.789,290.97 669.031,289.735 669.274,292.517 669.516,299.859 669.758,312.25 \n",
       "  670,330.085 670.242,353.642 670.485,383.052 670.727,418.274 670.969,459.073 671.211,505.004 671.454,555.4 671.696,609.37 671.938,665.807 672.18,723.414 \n",
       "  672.423,780.735 672.665,836.204 672.907,888.208 673.149,935.149 673.392,975.524 673.634,1007.99 673.876,1031.45 674.118,1045.08 674.36,1048.41 674.603,1041.32 \n",
       "  674.845,1024.07 675.087,997.258 675.329,961.821 675.572,918.945 675.814,870.026 676.056,816.582 676.298,760.184 676.541,702.377 676.783,644.613 677.025,588.195 \n",
       "  677.267,534.229 677.51,483.601 677.752,436.962 677.994,394.725 678.236,357.088 678.479,324.049 678.721,295.441 678.963,270.97 679.205,250.246 679.447,232.822 \n",
       "  679.69,218.225 679.932,205.986 680.174,195.659 680.416,186.838 680.659,179.171 680.901,172.365 681.143,166.183 681.385,160.449 681.628,155.037 681.87,149.866 \n",
       "  682.112,144.894 682.354,140.106 682.597,135.509 682.839,131.121 683.081,126.969 683.323,123.08 683.565,119.478 683.808,116.183 684.05,113.205 684.292,110.551 \n",
       "  684.534,108.216 684.777,106.191 685.019,104.462 685.261,103.01 685.503,101.813 685.746,100.852 685.988,100.104 686.23,99.5508 686.472,99.1768 686.715,98.9703 \n",
       "  686.957,98.9248 687.199,99.04 687.441,99.3228 687.684,99.7886 687.926,100.462 688.168,101.381 688.41,102.595 688.652,104.169 688.895,106.185 689.137,108.747 \n",
       "  689.379,111.978 689.621,116.024 689.864,121.052 690.106,127.252 690.348,134.834 690.59,144.019 690.833,155.035 691.075,168.106 691.317,183.439 691.559,201.211 \n",
       "  691.802,221.548 692.044,244.51 692.286,270.072 692.528,298.108 692.771,328.376 693.013,360.514 693.255,394.03 693.497,428.314 693.739,462.648 693.982,496.227 \n",
       "  694.224,528.191 694.466,557.658 694.708,583.767 694.951,605.721 695.193,622.826 695.435,634.535 695.677,640.474 695.92,640.469 696.162,634.556 696.404,622.982 \n",
       "  696.646,606.194 696.889,584.817 697.131,559.623 697.373,531.495 697.615,501.384 697.857,470.274 698.1,439.133 698.342,408.893 698.584,380.416 698.826,354.484 \n",
       "  699.069,331.796 699.311,312.975 699.553,298.573 699.795,289.082 700.038,284.917 700.28,286.369 700.522,293.53 700.764,306.185 701.007,323.705 701.249,344.978 \n",
       "  701.491,368.437 701.733,392.185 701.976,414.243 702.218,432.841 702.46,446.699 702.702,455.199 702.944,458.403 703.187,456.924 703.429,451.682 703.671,443.646 \n",
       "  703.913,433.626 704.156,422.165 704.398,409.538 704.64,395.829 704.882,381.045 705.125,365.222 705.367,348.499 705.609,331.157 705.851,313.613 706.094,296.382 \n",
       "  706.336,280.019 706.578,265.034 706.82,251.805 707.062,240.489 707.305,230.969 707.547,222.846 707.789,215.499 708.031,208.214 708.274,200.337 708.516,191.434 \n",
       "  708.758,181.384 709,170.407 709.243,158.981 709.485,147.721 709.727,137.228 709.969,127.963 710.212,120.19 710.454,113.963 710.696,109.168 710.938,105.591 \n",
       "  711.181,102.978 711.423,101.088 711.665,99.7168 711.907,98.708 712.149,97.9515 712.392,97.3727 712.634,96.9236 712.876,96.5735 713.118,96.3025 713.361,96.098 \n",
       "  713.603,95.9517 713.845,95.8586 714.087,95.8165 714.33,95.8256 714.572,95.8885 714.814,96.0107 715.056,96.2006 715.299,96.47 715.541,96.8346 715.783,97.3138 \n",
       "  716.025,97.932 716.268,98.7179 716.51,99.7055 716.752,100.933 716.994,102.444 717.236,104.283 717.479,106.5 717.721,109.144 717.963,112.264 718.205,115.913 \n",
       "  718.448,120.143 718.69,125.017 718.932,130.614 719.174,137.039 719.417,144.436 719.659,152.986 719.901,162.888 720.143,174.317 720.386,187.346 720.628,201.856 \n",
       "  720.87,217.44 721.112,233.351 721.354,248.523 721.597,261.69 721.839,271.586 722.081,277.19 722.323,277.939 722.566,273.854 722.808,265.522 723.05,253.962 \n",
       "  723.292,240.394 723.535,226.008 723.777,211.777 724.019,198.361 724.261,186.105 724.504,175.098 724.746,165.27 724.988,156.479 725.23,148.576 725.473,141.44 \n",
       "  725.715,134.988 725.957,129.171 726.199,123.959 726.441,119.33 726.684,115.263 726.926,111.731 727.168,108.699 727.41,106.127 727.653,103.972 727.895,102.186 \n",
       "  728.137,100.723 728.379,99.5399 728.622,98.5939 728.864,97.8486 729.106,97.2711 729.348,96.8344 729.591,96.5147 729.833,96.2937 730.075,96.1567 730.317,96.0931 \n",
       "  730.559,96.0956 730.802,96.1602 731.044,96.2859 731.286,96.4747 731.528,96.7316 731.771,97.0649 732.013,97.4865 732.255,98.0124 732.497,98.6642 732.74,99.4707 \n",
       "  732.982,100.472 733.224,101.725 733.466,103.314 733.709,105.368 733.951,108.08 734.193,111.73 734.435,116.71 734.678,123.53 734.92,132.792 735.162,145.123 \n",
       "  735.404,161.052 735.646,180.858 735.889,204.401 736.131,231.026 736.373,259.568 736.615,288.503 736.858,316.248 737.1,341.51 737.342,363.611 737.584,382.655 \n",
       "  737.827,399.499 738.069,415.518 738.311,432.236 738.553,450.954 738.796,472.46 739.038,496.891 739.28,523.754 739.522,552.065 739.765,580.546 740.007,607.828 \n",
       "  740.249,632.617 740.491,653.817 740.733,670.614 740.976,682.509 741.218,689.329 741.46,691.185 741.702,688.4 741.945,681.388 742.187,670.521 742.429,656.005 \n",
       "  742.671,637.807 742.914,615.687 743.156,589.318 743.398,558.487 743.64,523.31 743.883,484.376 744.125,442.784 744.367,400.024 744.609,357.764 744.851,317.583 \n",
       "  745.094,280.75 745.336,248.085 745.578,219.935 745.82,196.237 746.063,176.641 746.305,160.639 746.547,147.675 746.789,137.216 747.032,128.797 747.274,122.029 \n",
       "  747.516,116.593 747.758,112.231 748.001,108.736 748.243,105.938 748.485,103.699 748.727,101.906 748.97,100.468 749.212,99.3093 749.454,98.372 749.696,97.6087 \n",
       "  749.938,96.9824 750.181,96.4642 750.423,96.0317 750.665,95.6675 750.907,95.3583 751.15,95.0938 751.392,94.866 751.634,94.6688 751.876,94.4972 752.119,94.3474 \n",
       "  752.361,94.2164 752.603,94.1015 752.845,94.0007 753.088,93.9123 753.33,93.8346 753.572,93.7665 753.814,93.7068 754.056,93.6545 754.299,93.6087 754.541,93.5687 \n",
       "  754.783,93.5337 755.025,93.5032 755.268,93.4766 755.51,93.4533 755.752,93.433 755.994,93.4152 756.237,93.3997 756.479,93.386 756.721,93.374 756.963,93.3634 \n",
       "  757.206,93.354 757.448,93.3456 757.69,93.3381 757.932,93.3313 758.175,93.3251 758.417,93.3194 758.659,93.3141 758.901,93.3092 759.143,93.3046 759.386,93.3002 \n",
       "  759.628,93.2961 759.87,93.2921 760.112,93.2882 760.355,93.2844 760.597,93.2808 760.839,93.2772 761.081,93.2736 761.324,93.2702 761.566,93.2667 761.808,93.2633 \n",
       "  762.05,93.2599 762.293,93.2565 762.535,93.2531 762.777,93.2498 763.019,93.2465 763.262,93.2431 763.504,93.2398 763.746,93.2365 763.988,93.2332 764.23,93.2298 \n",
       "  764.473,93.2265 764.715,93.2232 764.957,93.2199 765.199,93.2166 765.442,93.2133 765.684,93.21 765.926,93.2067 766.168,93.2034 766.411,93.2001 766.653,93.1968 \n",
       "  766.895,93.1935 767.137,93.1902 767.38,93.1869 767.622,93.1836 767.864,93.1803 768.106,93.1771 768.348,93.1738 768.591,93.1705 768.833,93.1672 769.075,93.1639 \n",
       "  769.317,93.1606 769.56,93.1574 769.802,93.1541 770.044,93.1508 770.286,93.1476 770.529,93.1443 770.771,93.1411 771.013,93.1379 771.255,93.1347 771.498,93.1315 \n",
       "  771.74,93.1283 771.982,93.1252 772.224,93.1221 772.467,93.1191 772.709,93.1161 772.951,93.1132 773.193,93.1103 773.435,93.1076 773.678,93.105 773.92,93.1025 \n",
       "  774.162,93.1002 774.404,93.0981 774.647,93.0962 774.889,93.0946 775.131,93.0933 775.373,93.0924 775.616,93.0919 775.858,93.092 776.1,93.0926 776.342,93.094 \n",
       "  776.585,93.0961 776.827,93.0992 777.069,93.1033 777.311,93.1086 777.553,93.1153 777.796,93.1236 778.038,93.1336 778.28,93.1457 778.522,93.1601 778.765,93.1771 \n",
       "  779.007,93.1972 779.249,93.2206 779.491,93.2481 779.734,93.2801 779.976,93.3175 780.218,93.3611 780.46,93.4121 780.703,93.472 780.945,93.5425 781.187,93.6262 \n",
       "  781.429,93.726 781.672,93.8458 781.914,93.991 782.156,94.1681 782.398,94.3858 782.64,94.6553 782.883,94.9905 783.125,95.4096 783.367,95.9348 783.609,96.5937 \n",
       "  783.852,97.4202 784.094,98.4544 784.336,99.7441 784.578,101.344 784.821,103.317 785.063,105.731 785.305,108.66 785.547,112.181 785.79,116.369 786.032,121.298 \n",
       "  786.274,127.029 786.516,133.612 786.759,141.073 787.001,149.413 787.243,158.601 787.485,168.568 787.727,179.205 787.97,190.359 788.212,201.839 788.454,213.414 \n",
       "  788.696,224.823 788.939,235.782 789.181,245.998 789.423,255.181 789.665,263.057 789.908,269.383 790.15,273.962 790.392,276.654 790.634,277.383 790.877,276.141 \n",
       "  791.119,272.994 791.361,268.078 791.603,261.589 791.845,253.782 792.088,244.951 792.33,235.426 792.572,225.555 792.814,215.697 793.057,206.208 793.299,197.439 \n",
       "  793.541,189.732 793.783,183.414 794.026,178.803 794.268,176.206 794.51,175.929 794.752,178.273 794.995,183.54 795.237,192.03 795.479,204.04 795.721,219.851 \n",
       "  795.964,239.716 796.206,263.845 796.448,292.376 796.69,325.359 796.932,362.723 797.175,404.256 797.417,449.585 797.659,498.16 797.901,549.253 798.144,601.966 \n",
       "  798.386,655.253 798.628,707.956 798.87,758.852 799.113,806.713 799.355,850.376 799.597,888.801 799.839,921.147 800.082,946.814 800.324,965.493 800.566,977.181 \n",
       "  800.808,982.184 801.05,981.098 801.293,974.764 801.535,964.223 801.777,950.645 802.019,935.263 802.262,919.309 802.504,903.95 802.746,890.243 802.988,879.1 \n",
       "  803.231,871.262 803.473,867.296 803.715,867.593 803.957,872.379 804.2,881.728 804.442,895.563 804.684,913.661 804.926,935.635 805.169,960.924 805.411,988.774 \n",
       "  805.653,1018.25 805.895,1048.28 806.137,1077.73 806.38,1105.48 806.622,1130.58 806.864,1152.29 807.106,1170.14 807.349,1183.88 807.591,1193.44 807.833,1198.77 \n",
       "  808.075,1199.82 808.318,1196.38 808.56,1188.15 808.802,1174.73 809.044,1155.67 809.287,1130.58 809.529,1099.2 809.771,1061.48 810.013,1017.59 810.255,967.997 \n",
       "  810.498,913.411 810.74,854.789 810.982,793.271 811.224,730.119 811.467,666.64 811.709,604.112 811.951,543.71 812.193,486.453 812.436,433.163 812.678,384.442 \n",
       "  812.92,340.679 813.162,302.073 813.405,268.672 813.647,240.429 813.889,217.27 814.131,199.148 814.374,186.087 814.616,178.182 814.858,175.54 815.1,178.167 \n",
       "  815.342,185.796 815.585,197.722 815.827,212.68 816.069,228.854 816.311,244.042 816.554,255.969 816.796,262.693 817.038,262.976 817.28,256.529 817.523,244.039 \n",
       "  817.765,226.983 818.007,207.284 818.249,186.922 818.492,167.589 818.734,150.479 818.976,136.227 819.218,124.963 819.461,116.456 819.703,110.267 819.945,105.889 \n",
       "  820.187,102.845 820.429,100.738 820.672,99.27 820.914,98.2304 821.156,97.4824 821.398,96.9403 821.641,96.5526 821.883,96.2892 822.125,96.1324 822.367,96.0729 \n",
       "  822.61,96.1063 822.852,96.2331 823.094,96.4578 823.336,96.7902 823.579,97.2455 823.821,97.8463 824.063,98.6235 824.305,99.6185 824.547,100.886 824.79,102.494 \n",
       "  825.032,104.531 825.274,107.106 825.516,110.35 825.759,114.424 826.001,119.513 826.243,125.834 826.485,133.632 826.728,143.176 826.97,154.754 827.212,168.664 \n",
       "  827.454,185.202 827.697,204.645 827.939,227.233 828.181,253.147 828.423,282.484 828.666,315.235 828.908,351.26 829.15,390.276 829.392,431.837 829.634,475.333 \n",
       "  829.877,519.992 830.119,564.899 830.361,609.019 830.603,651.231 830.846,690.379 831.088,725.321 831.33,754.985 831.572,778.424 831.815,794.866 832.057,803.759 \n",
       "  832.299,804.8 832.541,797.957 832.784,783.462 833.026,761.807 833.268,733.712 833.51,700.083 833.752,661.967 833.995,620.495 834.237,576.825 834.479,532.093 \n",
       "  834.721,487.361 834.964,443.582 835.206,401.568 835.448,361.973 835.69,325.29 835.933,291.847 836.175,261.824 836.417,235.268 836.659,212.114 836.902,192.21 \n",
       "  837.144,175.344 837.386,161.261 837.628,149.69 837.871,140.359 838.113,133.01 838.355,127.413 838.597,123.371 838.839,120.73 839.082,119.38 839.324,119.259 \n",
       "  839.566,120.35 839.808,122.686 840.051,126.346 840.293,131.447 840.535,138.148 840.777,146.638 841.02,157.13 841.262,169.851 841.504,185.028 841.746,202.876 \n",
       "  841.989,223.581 842.231,247.279 842.473,274.046 842.715,303.874 842.958,336.662 843.2,372.208 843.442,410.203 843.684,450.239 843.926,491.821 844.169,534.382 \n",
       "  844.411,577.315 844.653,619.995 844.895,661.812 845.138,702.195 845.38,740.628 845.622,776.663 845.864,809.917 846.107,840.059 846.349,866.797 846.591,889.852 \n",
       "  846.833,908.94 847.076,923.76 847.318,933.994 847.56,939.315 847.802,939.417 848.044,934.05 848.287,923.065 848.529,906.467 848.771,884.447 849.013,857.422 \n",
       "  849.256,826.046 849.498,791.213 849.74,754.029 849.982,715.785 850.225,677.899 850.467,641.855 850.709,609.145 850.951,581.195 851.194,559.305 851.436,544.59 \n",
       "  851.678,537.931 851.92,539.929 852.163,550.879 852.405,570.743 852.647,599.147 852.889,635.383 853.131,678.425 853.374,726.961 853.616,779.443 853.858,834.138 \n",
       "  854.1,889.202 854.343,942.751 854.585,992.942 854.827,1038.05 855.069,1076.54 855.312,1107.12 855.554,1128.81 855.796,1140.95 856.038,1143.25 856.281,1135.77 \n",
       "  856.523,1118.94 856.765,1093.48 857.007,1060.39 857.249,1020.86 857.492,976.177 857.734,927.595 857.976,876.268 858.218,823.161 858.461,769.037 858.703,714.484 \n",
       "  858.945,659.998 859.187,606.074 859.43,553.278 859.672,502.275 859.914,453.789 860.156,408.526 860.399,367.073 860.641,329.811 860.883,296.877 861.125,268.17 \n",
       "  861.368,243.396 861.61,222.141 861.852,203.942 862.094,188.341 862.336,174.925 862.579,163.344 862.821,153.309 863.063,144.592 863.305,137.007 863.548,130.409 \n",
       "  863.79,124.675 864.032,119.705 864.274,115.411 864.517,111.717 864.759,108.553 865.001,105.857 865.243,103.571 865.486,101.643 865.728,100.024 865.97,98.6719 \n",
       "  866.212,97.5462 866.455,96.6124 866.697,95.8399 866.939,95.2023 867.181,94.6769 867.423,94.2444 867.666,93.8887 867.908,93.5967 868.15,93.3573 868.392,93.1619 \n",
       "  868.635,93.0034 868.877,92.8761 869.119,92.7757 869.361,92.6988 869.604,92.6427 869.846,92.6056 870.088,92.5861 870.33,92.5833 870.573,92.5971 870.815,92.6273 \n",
       "  871.057,92.6745 871.299,92.7398 871.541,92.8249 871.784,92.9319 872.026,93.0642 872.268,93.226 872.51,93.4232 872.753,93.6635 872.995,93.957 873.237,94.3168 \n",
       "  873.479,94.7603 873.722,95.3097 873.964,95.9936 874.206,96.8482 874.448,97.919 874.691,99.2625 874.933,100.948 875.175,103.058 875.417,105.69 875.66,108.96 \n",
       "  875.902,112.997 876.144,117.946 876.386,123.961 876.628,131.207 876.871,139.849 877.113,150.046 877.355,161.941 877.597,175.656 877.84,191.274 878.082,208.834 \n",
       "  878.324,228.318 878.566,249.639 878.809,272.627 879.051,297.02 879.293,322.445 879.535,348.411 879.778,374.309 880.02,399.421 880.262,422.956 880.504,444.099 \n",
       "  880.746,462.078 880.989,476.232 881.231,486.066 881.473,491.289 881.715,491.82 881.958,487.769 882.2,479.405 882.442,467.117 882.684,451.374 882.927,432.703 \n",
       "  883.169,411.665 883.411,388.842 883.653,364.822 883.896,340.184 884.138,315.481 884.38,291.217 884.622,267.839 884.865,245.713 885.107,225.126 885.349,206.277 \n",
       "  885.591,189.284 885.833,174.19 886.076,160.976 886.318,149.568 886.56,139.857 886.802,131.705 887.045,124.962 887.287,119.473 887.529,115.089 887.771,111.672 \n",
       "  888.014,109.098 888.256,107.267 888.498,106.1 888.74,105.545 888.983,105.574 889.225,106.189 889.467,107.423 889.709,109.338 889.952,112.029 890.194,115.626 \n",
       "  890.436,120.295 890.678,126.234 890.92,133.679 891.163,142.895 891.405,154.174 891.647,167.824 891.889,184.161 892.132,203.489 892.374,226.082 892.616,252.165 \n",
       "  892.858,281.886 893.101,315.295 893.343,352.317 893.585,392.734 893.827,436.173 894.07,482.106 894.312,529.85 894.554,578.598 894.796,627.446 895.038,675.44 \n",
       "  895.281,721.629 895.523,765.107 895.765,805.057 896.007,840.768 896.25,871.643 896.492,897.18 896.734,916.957 896.976,930.618 897.219,937.88 897.461,938.562 \n",
       "  897.703,932.626 897.945,920.225 898.188,901.719 898.43,877.67 898.672,848.79 898.914,815.88 899.157,779.75 899.399,741.171 899.641,700.845 899.883,659.411 \n",
       "  900.125,617.463 900.368,575.583 900.61,534.358 900.852,494.397 901.094,456.322 901.337,420.758 901.579,388.316 901.821,359.579 902.063,335.085 902.306,315.328 \n",
       "  902.548,300.753 902.79,291.757 903.032,288.697 903.275,291.886 903.517,301.587 903.759,318.007 904.001,341.278 904.243,371.431 904.486,408.368 904.728,451.827 \n",
       "  904.97,501.361 905.212,556.307 905.455,615.782 905.697,678.685 905.939,743.733 906.181,809.503 906.424,874.51 906.666,937.288 906.908,996.491 907.15,1050.98 \n",
       "  907.393,1099.89 907.635,1142.69 907.877,1179.21 908.119,1209.56 908.362,1234.13 908.604,1253.42 908.846,1267.99 909.088,1278.29 909.33,1284.6 909.573,1286.92 \n",
       "  909.815,1285.01 910.057,1278.36 910.299,1266.3 910.542,1248.08 910.784,1223.03 911.026,1190.64 911.268,1150.71 911.511,1103.36 911.753,1049.12 911.995,988.882 \n",
       "  912.237,923.838 912.48,855.416 912.722,785.166 912.964,714.659 913.206,645.382 913.449,578.663 913.691,515.608 913.933,457.065 914.175,403.615 914.417,355.579 \n",
       "  914.66,313.049 914.902,275.916 915.144,243.92 915.386,216.686 915.629,193.768 915.871,174.683 916.113,158.941 916.355,146.067 916.598,135.614 916.84,127.18 \n",
       "  917.082,120.408 917.324,114.988 917.567,110.66 917.809,107.203 918.051,104.44 918.293,102.223 918.535,100.438 918.778,98.9914 919.02,97.8114 919.262,96.8416 \n",
       "  919.504,96.0383 919.747,95.368 919.989,94.8047 920.231,94.3283 920.473,93.9233 920.716,93.5779 920.958,93.2826 921.2,93.0301 921.442,92.8145 921.685,92.6313 \n",
       "  921.927,92.4766 922.169,92.3476 922.411,92.2418 922.654,92.1574 922.896,92.0929 923.138,92.0475 923.38,92.0204 923.622,92.0117 923.865,92.0218 924.107,92.0517 \n",
       "  924.349,92.1032 924.591,92.179 924.834,92.283 925.076,92.4203 925.318,92.5981 925.56,92.8257 925.803,93.1151 926.045,93.482 926.287,93.9456 926.529,94.5303 \n",
       "  926.772,95.2658 927.014,96.1878 927.256,97.3387 927.498,98.7677 927.74,100.531 927.983,102.69 928.225,105.313 928.467,108.47 928.709,112.232 928.952,116.666 \n",
       "  929.194,121.834 929.436,127.784 929.678,134.549 929.921,142.135 930.163,150.524 930.405,159.665 930.647,169.469 930.89,179.814 931.132,190.539 931.374,201.453 \n",
       "  931.616,212.337 931.859,222.957 932.101,233.071 932.343,242.447 932.585,250.875 932.827,258.183 933.07,264.251 933.312,269.027 933.554,272.536 933.796,274.883 \n",
       "  934.039,276.265 934.281,276.96 934.523,277.327 934.765,277.788 935.008,278.814 935.25,280.904 935.492,284.558 935.734,290.25 935.977,298.401 936.219,309.346 \n",
       "  936.461,323.312 936.703,340.393 936.945,360.53 937.188,383.504 937.43,408.928 937.672,436.257 937.914,464.8 938.157,493.747 938.399,522.198 938.641,549.206 \n",
       "  938.883,573.82 939.126,595.13 939.368,612.316 939.61,624.688 939.852,631.723 940.095,633.09 940.337,628.668 940.579,618.547 940.821,603.023 941.064,582.575 \n",
       "  941.306,557.841 941.548,529.573 941.79,498.604 942.032,465.8 942.275,432.022 942.517,398.084 942.759,364.729 943.001,332.595 943.244,302.21 943.486,273.978 \n",
       "  943.728,248.181 943.97,224.987 944.213,204.463 944.455,186.586 944.697,171.265 944.939,158.357 945.182,147.683 945.424,139.044 945.666,132.234 945.908,127.046 \n",
       "  946.151,123.286 946.393,120.771 946.635,119.332 946.877,118.817 947.119,119.088 947.362,120.021 947.604,121.5 947.846,123.422 948.088,125.69 948.331,128.215 \n",
       "  948.573,130.918 948.815,133.73 949.057,136.596 949.3,139.477 949.542,142.353 949.784,145.231 950.026,148.141 950.269,151.145 950.511,154.334 950.753,157.826 \n",
       "  950.995,161.767 951.237,166.322 951.48,171.671 951.722,177.992 951.964,185.46 952.206,194.224 952.449,204.4 952.691,216.055 952.933,229.201 953.175,243.787 \n",
       "  953.418,259.701 953.66,276.785 953.902,294.852 954.144,313.715 954.387,333.222 954.629,353.275 954.871,373.83 955.113,394.849 955.356,416.218 955.598,437.62 \n",
       "  955.84,458.409 956.082,477.541 956.324,493.603 956.567,504.986 956.809,510.177 957.051,508.115 957.293,498.503 957.536,481.973 957.778,460.061 958.02,434.966 \n",
       "  958.262,409.206 958.505,385.231 958.747,365.129 958.989,350.461 959.231,342.236 959.474,340.995 959.716,346.934 959.958,360.03 960.2,380.117 960.442,406.933 \n",
       "  960.685,440.109 960.927,479.152 961.169,523.409 961.411,572.047 961.654,624.037 961.896,678.161 962.138,733.034 962.38,787.142 962.623,838.895 962.865,886.685 \n",
       "  963.107,928.96 963.349,964.293 963.592,991.452 963.834,1009.46 964.076,1017.66 964.318,1015.72 964.561,1003.66 964.803,981.879 965.045,951.079 965.287,912.259 \n",
       "  965.529,866.644 965.772,815.622 966.014,760.673 966.256,703.294 966.498,644.933 966.741,586.927 966.983,530.462 967.225,476.532 967.467,425.923 967.71,379.207 \n",
       "  967.952,336.75 968.194,298.727 968.436,265.145 968.679,235.875 968.921,210.681 969.163,189.25 969.405,171.221 969.648,156.209 969.89,143.827 970.132,133.7 \n",
       "  970.374,125.479 970.616,118.847 970.859,113.524 971.101,109.266 971.343,105.867 971.585,103.155 971.828,100.987 972.07,99.2493 972.312,97.8499 972.554,96.716 \n",
       "  972.797,95.7906 973.039,95.0292 973.281,94.3975 973.523,93.8691 973.766,93.4235 974.008,93.045 974.25,92.7214 974.492,92.4434 974.734,92.2035 974.977,91.9959 \n",
       "  975.219,91.8158 975.461,91.6595 975.703,91.524 975.946,91.4066 976.188,91.3051 976.43,91.2179 976.672,91.1433 976.915,91.0802 977.157,91.0273 977.399,90.9839 \n",
       "  977.641,90.9493 977.884,90.923 978.126,90.9047 978.368,90.8945 978.61,90.8926 978.853,90.8996 979.095,90.9165 979.337,90.9448 979.579,90.9864 979.821,91.0441 \n",
       "  980.064,91.1212 980.306,91.2221 980.548,91.3521 980.79,91.5175 981.033,91.7258 981.275,91.9857 981.517,92.3067 981.759,92.6993 982.002,93.1747 982.244,93.7442 \n",
       "  982.486,94.4186 982.728,95.208 982.971,96.1205 983.213,97.1616 983.455,98.3331 983.697,99.6327 983.939,101.053 984.182,102.579 984.424,104.192 984.666,105.867 \n",
       "  984.908,107.57 985.151,109.265 985.393,110.911 985.635,112.464 985.877,113.881 986.12,115.119 986.362,116.139 986.604,116.908 986.846,117.401 987.089,117.6 \n",
       "  987.331,117.499 987.573,117.101 987.815,116.421 988.058,115.479 988.3,114.308 988.542,112.944 988.784,111.429 989.026,109.807 989.269,108.122 989.511,106.415 \n",
       "  989.753,104.726 989.995,103.088 990.238,101.529 990.48,100.072 990.722,98.7324 990.964,97.5203 991.207,96.4401 991.449,95.4916 991.691,94.6706 991.933,93.9702 \n",
       "  992.176,93.3814 992.418,92.8939 992.66,92.497 992.902,92.18 993.145,91.9328 993.387,91.7461 993.629,91.6118 993.871,91.5228 994.113,91.4736 994.356,91.4596 \n",
       "  994.598,91.4774 994.84,91.5251 995.082,91.6016 995.325,91.707 995.567,91.8424 995.809,92.0103 996.051,92.2142 996.294,92.4594 996.536,92.7531 996.778,93.1045 \n",
       "  997.02,93.5262 997.263,94.0343 997.505,94.6501 997.747,95.4008 997.989,96.3217 998.231,97.4579 998.474,98.8666 998.716,100.62 998.958,102.807 999.2,105.539 \n",
       "  999.443,108.947 999.685,113.193 999.927,118.463 1000.17,124.973 1000.41,132.966 1000.65,142.71 1000.9,154.493 1001.14,168.613 1001.38,185.369 1001.62,205.04 \n",
       "  1001.87,227.875 1002.11,254.066 1002.35,283.73 1002.59,316.886 1002.83,353.438 1003.08,393.16 1003.32,435.69 1003.56,480.533 1003.8,527.072 1004.05,574.591 \n",
       "  1004.29,622.306 1004.53,669.403 1004.77,715.079 1005.01,758.583 1005.26,799.244 1005.5,836.495 1005.74,869.883 1005.98,899.062 1006.23,923.774 1006.47,943.827 \n",
       "  1006.71,959.062 1006.95,969.327 1007.19,974.459 1007.44,974.284 1007.68,968.621 1007.92,957.311 1008.16,940.25 1008.41,917.429 1008.65,888.973 1008.89,855.168 \n",
       "  1009.13,816.478 1009.37,773.544 1009.62,727.163 1009.86,678.254 1010.1,627.814 1010.34,576.861 1010.59,526.385 1010.83,477.299 1011.07,430.395 1011.31,386.321 \n",
       "  1011.55,345.562 1011.8,308.441 1012.04,275.12 1012.28,245.622 1012.52,219.851 1012.77,197.615 1013.01,178.654 1013.25,162.664 1013.49,149.317 1013.73,138.28 \n",
       "  1013.98,129.233 1014.22,121.872 1014.46,115.923 1014.7,111.14 1014.95,107.312 1015.19,104.258 1015.43,101.825 1015.67,99.8898 1015.91,98.3501 1016.16,97.125 \n",
       "  1016.4,96.1503 1016.64,95.3757 1016.88,94.7627 1017.13,94.2817 1017.37,93.9108 1017.61,93.6337 1017.85,93.4395 1018.09,93.3208 1018.34,93.2742 1018.58,93.2992 \n",
       "  1018.82,93.399 1019.06,93.5797 1019.31,93.8519 1019.55,94.2304 1019.79,94.7355 1020.03,95.3942 1020.28,96.2414 1020.52,97.3216 1020.76,98.6904 1021,100.416 \n",
       "  1021.24,102.582 1021.49,105.287 1021.73,108.647 1021.97,112.795 1022.21,117.882 1022.46,124.07 1022.7,131.536 1022.94,140.46 1023.18,151.025 1023.42,163.403 \n",
       "  1023.67,177.752 1023.91,194.204 1024.15,212.866 1024.39,233.811 1024.64,257.088 1024.88,282.719 1025.12,310.709 1025.36,341.039 1025.6,373.645 1025.85,408.373 \n",
       "  1026.09,444.915 1026.33,482.744 1026.57,521.056 1026.82,558.782 1027.06,594.66 1027.3,627.405 1027.54,655.914 1027.78,679.484 1028.03,697.961 1028.27,711.767 \n",
       "  1028.51,721.808 1028.75,729.275 1029,735.401 1029.24,741.243 1029.48,747.533 1029.72,754.623 1029.96,762.514 1030.21,770.93 1030.45,779.42 1030.69,787.435 \n",
       "  1030.93,794.396 1031.18,799.722 1031.42,802.843 1031.66,803.198 1031.9,800.245 1032.14,793.479 1032.39,782.473 1032.63,766.934 1032.87,746.763 1033.11,722.1 \n",
       "  1033.36,693.336 1033.6,661.085 1033.84,626.126 1034.08,589.313 1034.32,551.494 1034.57,513.439 1034.81,475.806 1035.05,439.123 1035.29,403.802 1035.54,370.155 \n",
       "  1035.78,338.417 1036.02,308.762 1036.26,281.314 1036.5,256.148 1036.75,233.298 1036.99,212.752 1037.23,194.458 1037.47,178.327 1037.72,164.24 1037.96,152.054 \n",
       "  1038.2,141.607 1038.44,132.73 1038.69,125.251 1038.93,118.999 1039.17,113.811 1039.41,109.536 1039.65,106.036 1039.9,103.185 1040.14,100.874 1040.38,99.0098 \n",
       "  1040.62,97.5111 1040.87,96.3108 1041.11,95.3533 1041.35,94.5933 1041.59,93.9949 1041.83,93.5295 1042.08,93.1757 1042.32,92.9173 1042.56,92.743 1042.8,92.6453 \n",
       "  1043.05,92.6203 1043.29,92.6671 1043.53,92.7883 1043.77,92.9908 1044.01,93.2889 1044.26,93.709 1044.5,94.2986 1044.74,95.1389 1044.98,96.3601 1045.23,98.1572 \n",
       "  1045.47,100.797 1045.71,104.606 1045.95,109.934 1046.19,117.072 1046.44,126.149 1046.68,137.017 1046.92,149.16 1047.16,161.685 1047.41,173.408 1047.65,183.052 \n",
       "  1047.89,189.514 1048.13,192.124 1048.37,190.829 1048.62,186.223 1048.86,179.439 1049.1,171.912 1049.34,165.113 1049.59,160.311 1049.83,158.44 1050.07,160.062 \n",
       "  1050.31,165.425 1050.55,174.56 1050.8,187.387 1051.04,203.786 1051.28,223.641 1051.52,246.841 1051.77,273.257 1052.01,302.715 1052.25,334.955 1052.49,369.612 \n",
       "  1052.73,406.193 1052.98,444.072 1053.22,482.498 1053.46,520.608 1053.7,557.46 1053.95,592.062 1054.19,623.42 1054.43,650.583 1054.67,672.689 1054.91,689.015 \n",
       "  1055.16,699.013 1055.4,702.34 1055.64,698.882 1055.88,688.754 1056.13,672.3 1056.37,650.069 1056.61,622.784 1056.85,591.305 1057.1,556.582 1057.34,519.606 \n",
       "  1057.58,481.364 1057.82,442.794 1058.06,404.751 1058.31,367.978 1058.55,333.086 1058.79,300.548 1059.03,270.693 1059.28,243.719 1059.52,219.702 1059.76,198.614 \n",
       "  1060,180.344 1060.24,164.719 1060.49,151.519 1060.73,140.502 1060.97,131.415 1061.21,124.01 1061.46,118.049 1061.7,113.317 1061.94,109.622 1062.18,106.8 \n",
       "  1062.42,104.718 1062.67,103.267 1062.91,102.372 1063.15,101.981 1063.39,102.072 1063.64,102.65 1063.88,103.747 1064.12,105.425 1064.36,107.775 1064.6,110.919 \n",
       "  1064.85,115.011 1065.09,120.241 1065.33,126.828 1065.57,135.021 1065.82,145.095 1066.06,157.338 1066.3,172.046 1066.54,189.501 1066.78,209.956 1067.03,233.616 \n",
       "  1067.27,260.61 1067.51,290.971 1067.75,324.616 1068,361.333 1068.24,400.765 1068.48,442.414 1068.72,485.646 1068.96,529.706 1069.21,573.748 1069.45,616.857 \n",
       "  1069.69,658.093 1069.93,696.52 1070.18,731.243 1070.42,761.44 1070.66,786.386 1070.9,805.475 1071.14,818.236 1071.39,824.347 1071.63,823.637 1071.87,816.1 \n",
       "  1072.11,801.893 1072.36,781.34 1072.6,754.921 1072.84,723.271 1073.08,687.152 1073.32,647.438 1073.57,605.076 1073.81,561.051 1074.05,516.346 1074.29,471.901 \n",
       "  1074.54,428.571 1074.78,387.103 1075.02,348.104 1075.26,312.034 1075.51,279.201 1075.75,249.765 1075.99,223.756 1076.23,201.091 1076.47,181.597 1076.72,165.037 \n",
       "  1076.96,151.131 1077.2,139.577 1077.44,130.07 1077.69,122.314 1077.93,116.035 1078.17,110.982 1078.41,106.935 1078.65,103.704 1078.9,101.128 1079.14,99.0746 \n",
       "  1079.38,97.4338 1079.62,96.1182 1079.87,95.0577 1080.11,94.1972 1080.35,93.4936 1080.59,92.9135 1080.83,92.4312 1081.08,92.0267 1081.32,91.6848 1081.56,91.3938 \n",
       "  1081.8,91.1444 1082.05,90.9295 1082.29,90.7437 1082.53,90.5824 1082.77,90.4421 1083.01,90.32 1083.26,90.2136 1083.5,90.1211 1083.74,90.0406 1083.98,89.971 \n",
       "  1084.23,89.9108 1084.47,89.8592 1084.71,89.8153 1084.95,89.7783 1085.19,89.7476 1085.44,89.7227 1085.68,89.7032 1085.92,89.6888 1086.16,89.6793 1086.41,89.6744 \n",
       "  1086.65,89.6743 1086.89,89.6788 1087.13,89.6882 1087.37,89.7027 1087.62,89.7225 1087.86,89.7482 1088.1,89.7801 1088.34,89.819 1088.59,89.8655 1088.83,89.9206 \n",
       "  1089.07,89.9852 1089.31,90.0605 1089.55,90.148 1089.8,90.2494 1090.04,90.3665 1090.28,90.5018 1090.52,90.6581 1090.77,90.8391 1091.01,91.0491 1091.25,91.2936 \n",
       "  1091.49,91.5798 1091.74,91.9167 1091.98,92.3158 1092.22,92.7924 1092.46,93.366 1092.7,94.0618 1092.95,94.9126 1093.19,95.9605 1093.43,97.2591 1093.67,98.8763 \n",
       "  1093.92,100.897 1094.16,103.426 1094.4,106.593 1094.64,110.55 1094.88,115.481 1095.13,121.597 1095.37,129.138 1095.61,138.369 1095.85,149.579 1096.1,163.068 \n",
       "  1096.34,179.136 1096.58,198.074 1096.82,220.137 1097.06,245.528 1097.31,274.376 1097.55,306.708 1097.79,342.432 1098.03,381.315 1098.28,422.978 1098.52,466.886 \n",
       "  1098.76,512.363 1099,558.614 1099.24,604.758 1099.49,649.87 1099.73,693.024 1099.97,733.327 1100.21,769.937 1100.46,802.06 1100.7,828.931 1100.94,849.798 \n",
       "  1101.18,863.925 1101.42,870.631 1101.67,869.383 1101.91,859.918 1102.15,842.356 1102.39,817.28 1102.64,785.733 1102.88,749.119 1103.12,709.039 1103.36,667.1 \n",
       "  1103.6,624.732 1103.85,583.08 1104.09,542.952 1104.33,504.853 1104.57,469.045 1104.82,435.634 1105.06,404.65 1105.3,376.102 1105.54,350.02 1105.78,326.467 \n",
       "  1106.03,305.55 1106.27,287.417 1106.51,272.251 1106.75,260.266 1107,251.696 1107.24,246.792 1107.48,245.803 1107.72,248.973 1107.96,256.518 1108.21,268.614 \n",
       "  1108.45,285.373 1108.69,306.828 1108.93,332.902 1109.18,363.398 1109.42,397.973 1109.66,436.129 1109.9,477.205 1110.15,520.38 1110.39,564.686 1110.63,609.026 \n",
       "  1110.87,652.213 1111.11,693.01 1111.36,730.182 1111.6,762.549 1111.84,789.043 1112.08,808.764 1112.33,821.025 1112.57,825.389 1112.81,821.695 1113.05,810.062 \n",
       "  1113.29,790.885 1113.54,764.814 1113.78,732.713 1114.02,695.617 1114.26,654.679 1114.51,611.112 1114.75,566.136 1114.99,520.925 1115.23,476.568 1115.47,434.032 \n",
       "  1115.72,394.146 1115.96,357.581 1116.2,324.859 1116.44,296.353 1116.69,272.302 1116.93,252.828 1117.17,237.957 1117.41,227.631 1117.65,221.731 1117.9,220.081 \n",
       "  1118.14,222.461 1118.38,228.607 1118.62,238.217 1118.87,250.939 1119.11,266.378 1119.35,284.085 1119.59,303.562 1119.83,324.26 1120.08,345.592 1120.32,366.938 \n",
       "  1120.56,387.669 1120.8,407.164 1121.05,424.84 1121.29,440.171 1121.53,452.722 1121.77,462.168 1122.01,468.313 1122.26,471.104 1122.5,470.633 1122.74,467.13 \n",
       "  1122.98,460.95 1123.23,452.551 1123.47,442.46 1123.71,431.243 1123.95,419.461 1124.19,407.643 1124.44,396.243 1124.68,385.621 1124.92,376.023 1125.16,367.568 \n",
       "  1125.41,360.256 1125.65,353.973 1125.89,348.509 1126.13,343.587 1126.37,338.885 1126.62,334.07 1126.86,328.824 1127.1,322.869 1127.34,315.986 1127.59,308.027 \n",
       "  1127.83,298.926 1128.07,288.695 1128.31,277.422 1128.56,265.255 1128.8,252.396 1129.04,239.078 1129.28,225.55 1129.52,212.065 1129.77,198.86 1130.01,186.151 \n",
       "  1130.25,174.116 1130.49,162.9 1130.74,152.603 1130.98,143.288 1131.22,134.978 1131.46,127.666 1131.7,121.316 1131.95,115.874 1132.19,111.268 1132.43,107.421 \n",
       "  1132.67,104.251 1132.92,101.677 1133.16,99.6277 1133.4,98.0417 1133.64,96.8772 1133.88,96.1179 1134.13,95.7805 1134.37,95.9209 1134.61,96.6342 1134.85,98.0449 \n",
       "  1135.1,100.281 1135.34,103.431 1135.58,107.494 1135.82,112.323 1136.06,117.596 1136.31,122.826 1136.55,127.416 1136.79,130.766 1137.03,132.395 1137.28,132.055 \n",
       "  1137.52,129.784 1137.76,125.901 1138,120.93 1138.24,115.476 1138.49,110.108 1138.73,105.264 1138.97,101.204 1139.21,98.018 1139.46,95.6606 1139.7,94.0064 \n",
       "  1139.94,92.8999 1140.18,92.1923 1140.42,91.7613 1140.67,91.5179 1140.91,91.4027 1141.15,91.3803 1141.39,91.4312 1141.64,91.5468 1141.88,91.7248 1142.12,91.9678 \n",
       "  1142.36,92.2816 1142.6,92.6756 1142.85,93.1634 1143.09,93.7633 1143.33,94.5003 1143.57,95.4072 1143.82,96.5275 1144.06,97.9173 1144.3,99.6489 1144.54,101.814 \n",
       "  1144.78,104.529 1145.03,107.937 1145.27,112.213 1145.51,117.57 1145.75,124.256 1146,132.565 1146.24,142.826 1146.48,155.408 1146.72,170.709 1146.97,189.146 \n",
       "  1147.21,211.14 1147.45,237.094 1147.69,267.365 1147.93,302.242 1148.18,341.904 1148.42,386.394 1148.66,435.584 1148.9,489.145 1149.15,546.53 1149.39,606.96 \n",
       "  1149.63,669.426 1149.87,732.707 1150.11,795.398 1150.36,855.957 1150.6,912.77 1150.84,964.213 1151.08,1008.74 1151.33,1044.94 1151.57,1071.65 1151.81,1087.98 \n",
       "  1152.05,1093.39 1152.29,1087.69 1152.54,1071.09 1152.78,1044.17 1153.02,1007.84 1153.26,963.309 1153.51,911.991 1153.75,855.46 1153.99,795.359 1154.23,733.324 \n",
       "  1154.47,670.922 1154.72,609.586 1154.96,550.576 1155.2,494.953 1155.44,443.564 1155.69,397.047 1155.93,355.847 1156.17,320.239 1156.41,290.366 1156.65,266.268 \n",
       "  1156.9,247.923 1157.14,235.277 1157.38,228.273 1157.62,226.871 1157.87,231.059 1158.11,240.856 1158.35,256.304 1158.59,277.454 1158.83,304.338 1159.08,336.943 \n",
       "  1159.32,375.172 1159.56,418.813 1159.8,467.504 1160.05,520.702 1160.29,577.67 1160.53,637.463 1160.77,698.937 1161.01,760.768 1161.26,821.487 1161.5,879.525 \n",
       "  1161.74,933.271 1161.98,981.132 1162.23,1021.61 1162.47,1053.35 1162.71,1075.24 1162.95,1086.47 1163.19,1086.57 1163.44,1075.47 1163.68,1053.5 1163.92,1021.4 \n",
       "  1164.16,980.278 1164.41,931.504 1164.65,876.66 1164.89,817.427 1165.13,755.49 1165.38,692.462 1165.62,629.815 1165.86,568.839 1166.1,510.607 1166.34,455.968 \n",
       "  1166.59,405.541 1166.83,359.73 1167.07,318.738 1167.31,282.595 1167.56,251.188 1167.8,224.293 1168.04,201.609 1168.28,182.788 1168.52,167.466 1168.77,155.288 \n",
       "  1169.01,145.926 1169.25,139.099 1169.49,134.584 1169.74,132.224 1169.98,131.927 1170.22,133.673 1170.46,137.499 1170.7,143.493 1170.95,151.778 1171.19,162.496 \n",
       "  1171.43,175.794 1171.67,191.807 1171.92,210.656 1172.16,232.434 1172.4,257.2 1172.64,284.964 1172.88,315.669 1173.13,349.163 1173.37,385.172 1173.61,423.278 \n",
       "  1173.85,462.903 1174.1,503.308 1174.34,543.614 1174.58,582.829 1174.82,619.894 1175.06,653.733 1175.31,683.304 1175.55,707.663 1175.79,726.002 1176.03,737.703 \n",
       "  1176.28,742.366 1176.52,739.83 1176.76,730.187 1177,713.77 1177.24,691.138 1177.49,663.041 1177.73,630.385 1177.97,594.177 1178.21,555.481 1178.46,515.362 \n",
       "  1178.7,474.85 1178.94,434.89 1179.18,396.321 1179.42,359.856 1179.67,326.066 1179.91,295.392 1180.15,268.148 1180.39,244.54 1180.64,224.692 1180.88,208.67 \n",
       "  1181.12,196.509 1181.36,188.244 1181.6,183.928 1181.85,183.652 1182.09,187.563 1182.33,195.862 1182.57,208.803 1182.82,226.68 1183.06,249.8 1183.3,278.457 \n",
       "  1183.54,312.884 1183.79,353.213 1184.03,399.429 1184.27,451.324 1184.51,508.465 1184.75,570.178 1185,635.541 1185.24,703.412 1185.48,772.462 1185.72,841.244 \n",
       "  1185.97,908.263 1186.21,972.054 1186.45,1031.26 1186.69,1084.69 1186.93,1131.37 1187.18,1170.54 1187.42,1201.66 1187.66,1224.39 1187.9,1238.54 1188.15,1244.02 \n",
       "  1188.39,1240.82 1188.63,1229 1188.87,1208.69 1189.11,1180.07 1189.36,1143.46 1189.6,1099.33 1189.84,1048.33 1190.08,991.314 1190.33,929.353 1190.57,863.682 \n",
       "  1190.81,795.668 1191.05,726.742 1191.29,658.323 1191.54,591.743 1191.78,528.179 1192.02,468.6 1192.26,413.739 1192.51,364.074 1192.75,319.841 1192.99,281.054 \n",
       "  1193.23,247.544 1193.47,218.996 1193.72,194.994 1193.96,175.061 1194.2,158.699 1194.44,145.409 1194.69,134.724 1194.93,126.214 1195.17,119.503 1195.41,114.271 \n",
       "  1195.65,110.257 1195.9,107.266 1196.14,105.171 1196.38,103.925 1196.62,103.568 1196.87,104.235 1197.11,106.139 1197.35,109.547 1197.59,114.709 1197.83,121.763 \n",
       "  1198.08,130.619 1198.32,140.866 1198.56,151.728 1198.8,162.114 1199.05,170.777 1199.29,176.543 1199.53,178.566 1199.77,176.53 1200.01,170.72 1200.26,161.955 \n",
       "  1200.5,151.398 1200.74,140.296 1200.98,129.748 1201.23,120.544 1201.47,113.11 1201.71,107.547 1201.95,103.735 1202.2,101.452 1202.44,100.496 1202.68,100.767 \n",
       "  1202.92,102.33 1203.16,105.429 1203.41,110.473 1203.65,117.963 1203.89,128.36 1204.13,141.912 1204.38,158.442 1204.62,177.19 1204.86,196.753 1205.1,215.189 \n",
       "  1205.34,230.309 1205.59,240.098 1205.83,243.152 1206.07,239.017 1206.31,228.294 1206.56,212.492 1206.8,193.678 1207.04,174.025 1207.28,155.406 1207.52,139.13 \n",
       "  1207.77,125.857 1208.01,115.678 1208.25,108.281 1208.49,103.147 1208.74,99.7137 1208.98,97.4791 1209.22,96.0532 1209.46,95.1623 1209.7,94.6313 1209.95,94.3578 \n",
       "  1210.19,94.2887 1210.43,94.4018 1210.67,94.6949 1210.92,95.1796 1211.16,95.8795 1211.4,96.8306 1211.64,98.0825 1211.88,99.7015 1212.13,101.773 1212.37,104.406 \n",
       "  1212.61,107.735 1212.85,111.926 1213.1,117.175 1213.34,123.715 1213.58,131.812 1213.82,141.767 1214.06,153.908 1214.31,168.583 1214.55,186.152 1214.79,206.964 \n",
       "  1215.03,231.341 1215.28,259.554 1215.52,291.793 1215.76,328.143 1216,368.554 1216.24,412.822 1216.49,460.573 1216.73,511.255 1216.97,564.153 1217.21,618.405 \n",
       "  1217.46,673.04 1217.7,727.026 1217.94,779.323 1218.18,828.941 1218.43,874.996 1218.67,916.746 1218.91,953.628 1219.15,985.254 1219.39,1011.41 1219.64,1032.03 \n",
       "  1219.88,1047.13 1220.12,1056.84 1220.36,1061.28 1220.61,1060.64 1220.85,1055.11 1221.09,1044.9 1221.33,1030.27 1221.57,1011.49 1221.82,988.815 1222.06,962.415 \n",
       "  1222.3,932.32 1222.54,898.389 1222.79,860.341 1223.03,817.872 1223.27,770.825 1223.51,719.39 1223.75,664.245 1224,606.593 1224.24,548.072 1224.48,490.547 \n",
       "  1224.72,435.845 1224.97,385.521 1225.21,340.69 1225.45,301.98 1225.69,269.575 1225.93,243.332 1226.18,222.914 1226.42,207.916 1226.66,197.955 1226.9,192.726 \n",
       "  1227.15,192.02 1227.39,195.728 1227.63,203.825 1227.87,216.349 1228.11,233.374 1228.36,254.981 1228.6,281.229 1228.84,312.123 1229.08,347.578 1229.33,387.389 \n",
       "  1229.57,431.206 1229.81,478.509 1230.05,528.597 1230.29,580.585 1230.54,633.417 1230.78,685.887 1231.02,736.679 1231.26,784.412 1231.51,827.704 1231.75,865.232 \n",
       "  1231.99,895.798 1232.23,918.395 1232.47,932.255 1232.72,936.9 1232.96,932.163 1233.2,918.199 1233.44,895.476 1233.69,864.748 1233.93,827.015 1234.17,783.461 \n",
       "  1234.41,735.398 1234.65,684.198 1234.9,631.226 1235.14,577.783 1235.38,525.052 1235.62,474.063 1235.87,425.666 1236.11,380.514 1236.35,339.068 1236.59,301.602 \n",
       "  1236.84,268.222 1237.08,238.891 1237.32,213.455 1237.56,191.672 1237.8,173.24 1238.05,157.822 1238.29,145.064 1238.53,134.619 1238.77,126.157 1239.02,119.374 \n",
       "  1239.26,114.002 1239.5,109.806 1239.74,106.591 1239.98,104.199 1240.23,102.505 1240.47,101.42 1240.71,100.88 1240.95,100.852 1241.2,101.327 1241.44,102.318 \n",
       "  1241.68,103.865 1241.92,106.037 1242.16,108.938 1242.41,112.72 1242.65,117.601 1242.89,123.869 1243.13,131.892 1243.38,142.085 1243.62,154.859 1243.86,170.508 \n",
       "  1244.1,189.086 1244.34,210.259 1244.59,233.22 1244.83,256.683 1245.07,279.017 1245.31,298.49 1245.56,313.588 1245.8,323.316 1246.04,327.385 1246.28,326.236 \n",
       "  1246.52,320.879 1246.77,312.625 1247.01,302.786 1247.25,292.428 1247.49,282.241 1247.74,272.539 1247.98,263.341 1248.22,254.499 1248.46,245.833 1248.7,237.212 \n",
       "  1248.95,228.612 1249.19,220.123 1249.43,211.931 1249.67,204.298 1249.92,197.529 1250.16,191.948 1250.4,187.879 1250.64,185.634 1250.88,185.5 1251.13,187.731 \n",
       "  1251.37,192.541 1251.61,200.096 1251.85,210.504 1252.1,223.809 1252.34,239.978 1252.58,258.892 1252.82,280.341 1253.06,304.016 1253.31,329.51 1253.55,356.316 \n",
       "  1253.79,383.843 1254.03,411.428 1254.28,438.358 1254.52,463.899 1254.76,487.329 1255,507.974 1255.25,525.246 1255.49,538.68 1255.73,547.964 1255.97,552.969 \n",
       "  1256.21,553.768 1256.46,550.644 1256.7,544.09 1256.94,534.8 1257.18,523.645 1257.43,511.645 1257.67,499.926 1257.91,489.676 1258.15,482.096 1258.39,478.341 \n",
       "  1258.64,479.466 1258.88,486.376 1259.12,499.767 1259.36,520.092 1259.61,547.514 1259.85,581.886 1260.09,622.735 1260.33,669.262 1260.57,720.359 1260.82,774.641 \n",
       "  1261.06,830.489 1261.3,886.119 1261.54,939.647 1261.79,989.18 1262.03,1032.9 1262.27,1069.14 1262.51,1096.48 1262.75,1113.81 1263,1120.38 1263.24,1115.84 \n",
       "  1263.48,1100.24 1263.72,1074.04 1263.97,1038.06 1264.21,993.427 1264.45,941.536 1264.69,883.936 1264.93,822.272 1265.18,758.199 1265.42,693.304 1265.66,629.046 \n",
       "  1265.9,566.707 1266.15,507.351 1266.39,451.813 1266.63,400.688 1266.87,354.346 1267.11,312.947 1267.36,276.474 1267.6,244.762 1267.84,217.532 1268.08,194.427 \n",
       "  1268.33,175.042 1268.57,158.947 1268.81,145.717 1269.05,134.943 1269.29,126.246 1269.54,119.286 1269.78,113.762 1270.02,109.422 1270.26,106.051 1270.51,103.477 \n",
       "  1270.75,101.564 1270.99,100.21 1271.23,99.3395 1271.47,98.9047 1271.72,98.8787 1271.96,99.2538 1272.2,100.038 1272.44,101.254 1272.69,102.934 1272.93,105.122 \n",
       "  1273.17,107.873 1273.41,111.255 1273.66,115.352 1273.9,120.273 1274.14,126.157 1274.38,133.181 1274.62,141.549 1274.87,151.472 1275.11,163.132 1275.35,176.62 \n",
       "  1275.59,191.869 1275.84,208.606 1276.08,226.325 1276.32,244.309 1276.56,261.694 1276.8,277.563 1277.05,291.039 1277.29,301.365 1277.53,307.947 1277.77,310.388 \n",
       "  1278.02,308.511 1278.26,302.39 1278.5,292.376 1278.74,279.103 1278.98,263.442 1279.23,246.408 1279.47,229.031 1279.71,212.223 1279.95,196.684 1280.2,182.85 \n",
       "  1280.44,170.921 1280.68,160.914 1280.92,152.743 1281.16,146.289 1281.41,141.458 1281.65,138.204 1281.89,136.544 1282.13,136.554 1282.38,138.366 1282.62,142.155 \n",
       "  1282.86,148.133 1283.1,156.545 1283.34,167.659 1283.59,181.753 1283.83,199.106 1284.07,219.979 1284.31,244.595 1284.56,273.113 1284.8,305.601 1285.04,342.012 \n",
       "  1285.28,382.161 1285.52,425.698 1285.77,472.101 1286.01,520.669 1286.25,570.529 1286.49,620.655 1286.74,669.901 1286.98,717.043 1287.22,760.83 1287.46,800.047 \n",
       "  1287.7,833.571 1287.95,860.429 1288.19,879.853 1288.43,891.313 1288.67,894.546 1288.92,889.565 1289.16,876.646 1289.4,856.31 1289.64,829.287 1289.88,796.464 \n",
       "  1290.13,758.847 1290.37,717.5 1290.61,673.5 1290.85,627.894 1291.1,581.665 1291.34,535.7 1291.58,490.776 1291.82,447.542 1292.07,406.525 1292.31,368.12 \n",
       "  1292.55,332.607 1292.79,300.154 1293.03,270.832 1293.28,244.629 1293.52,221.464 1293.76,201.202 1294,183.669 1294.25,168.664 1294.49,155.974 1294.73,145.38 \n",
       "  1294.97,136.674 1295.21,129.661 1295.46,124.167 1295.7,120.049 1295.94,117.193 1296.18,115.521 1296.43,114.996 1296.67,115.621 1296.91,117.443 1297.15,120.552 \n",
       "  1297.39,125.086 1297.64,131.221 1297.88,139.181 1298.12,149.22 1298.36,161.623 1298.61,176.695 1298.85,194.74 1299.09,216.051 1299.33,240.887 1299.57,269.447 \n",
       "  1299.82,301.849 1300.06,338.104 1300.3,378.092 1300.54,421.553 1300.79,468.07 1301.03,517.075 1301.27,567.864 1301.51,619.617 1301.75,671.446 1302,722.433 \n",
       "  1302.24,771.695 1302.48,818.431 1302.72,861.976 1302.97,901.837 1303.21,937.717 1303.45,969.519 1303.69,997.323 1303.93,1021.36 1304.18,1041.96 1304.42,1059.51 \n",
       "  1304.66,1074.38 1304.9,1086.91 1305.15,1097.37 1305.39,1105.94 1305.63,1112.7 1305.87,1117.67 1306.11,1120.78 1306.36,1121.93 1306.6,1120.98 1306.84,1117.77 \n",
       "  1307.08,1112.11 1307.33,1103.8 1307.57,1092.64 1307.81,1078.41 1308.05,1060.89 1308.29,1039.87 1308.54,1015.2 1308.78,986.769 1309.02,954.61 1309.26,918.879 \n",
       "  1309.51,879.911 1309.75,838.224 1309.99,794.531 1310.23,749.718 1310.48,704.815 1310.72,660.954 1310.96,619.306 1311.2,581.026 1311.44,547.191 1311.69,518.741 \n",
       "  1311.93,496.434 1312.17,480.805 1312.41,472.143 1312.66,470.476 1312.9,475.569 1313.14,486.936 1313.38,503.857 1313.62,525.41 1313.87,550.503 1314.11,577.926 \n",
       "  1314.35,606.394 1314.59,634.604 1314.84,661.295 1315.08,685.297 1315.32,705.592 1315.56,721.356 1315.8,732.002 1316.05,737.204 1316.29,736.91 1316.53,731.339 \n",
       "  1316.77,720.96 1317.02,706.459 1317.26,688.693 1317.5,668.628 1317.74,647.279 1317.98,625.647 1318.23,604.658 1318.47,585.118 1318.71,567.673 1318.95,552.791 \n",
       "  1319.2,540.756 1319.44,531.677 1319.68,525.518 1319.92,522.123 1320.16,521.261 1320.41,522.662 1320.65,526.048 1320.89,531.165 1321.13,537.79 1321.38,545.737 \n",
       "  1321.62,554.85 1321.86,564.984 1322.1,575.977 1322.34,587.633 1322.59,599.691 1322.83,611.815 1323.07,623.587 1323.31,634.512 1323.56,644.044 1323.8,651.608 \n",
       "  1324.04,656.648 1324.28,658.667 1324.52,657.271 1324.77,652.212 1325.01,643.416 1325.25,631.006 1325.49,615.306 1325.74,596.83 1325.98,576.267 1326.22,554.439 \n",
       "  1326.46,532.263 1326.7,510.7 1326.95,490.702 1327.19,473.162 1327.43,458.869 1327.67,448.464 1327.92,442.412 1328.16,440.98 1328.4,444.232 1328.64,452.025 \n",
       "  1328.89,464.031 1329.13,479.755 1329.37,498.574 1329.61,519.777 1329.85,542.617 1330.1,566.36 1330.34,590.333 1330.58,613.961 1330.82,636.775 1331.07,658.388 \n",
       "  1331.31,678.432 1331.55,696.471 1331.79,711.907 1332.03,723.928 1332.28,731.539 1332.52,733.684 1332.76,729.475 1333,718.445 1333.25,700.78 1333.49,677.43 \n",
       "  1333.73,650.067 1333.97,620.893 1334.21,592.344 1334.46,566.778 1334.7,546.21 1334.94,532.156 1335.18,525.581 1335.43,526.924 1335.67,536.181 1335.91,552.981 \n",
       "  1336.15,576.657 1336.39,606.293 1336.64,640.762 1336.88,678.746 1337.12,718.776 1337.36,759.273 1337.61,798.603 1337.85,835.143 1338.09,867.349 1338.33,893.829 \n",
       "  1338.57,913.408 1338.82,925.182 1339.06,928.563 1339.3,923.303 1339.54,909.504 1339.79,887.607 1340.03,858.362 1340.27,822.795 1340.51,782.144 1340.75,737.809 \n",
       "  1341,691.28 1341.24,644.081 1341.48,597.705 1341.72,553.569 1341.97,512.967 1342.21,477.037 1342.45,446.74 1342.69,422.842 1342.93,405.906 1343.18,396.288 \n",
       "  1343.42,394.137 1343.66,399.398 1343.9,411.814 1344.15,430.932 1344.39,456.11 1344.63,486.524 1344.87,521.186 1345.12,558.958 1345.36,598.585 1345.6,638.72 \n",
       "  1345.84,677.972 1346.08,714.949 1346.33,748.312 1346.57,776.829 1346.81,799.431 1347.05,815.262 1347.3,823.725 1347.54,824.524 1347.78,817.693 1348.02,803.612 \n",
       "  1348.26,783.011 1348.51,756.942 1348.75,726.718 1348.99,693.802 1349.23,659.653 1349.48,625.53 1349.72,592.304 1349.96,560.315 1350.2,529.34 1350.44,498.695 \n",
       "  1350.69,467.476 1350.93,434.872 1351.17,400.47 1351.41,364.441 1351.66,327.56 1351.9,291.053 1352.14,256.317 1352.38,224.627 1352.62,196.898 1352.87,173.573 \n",
       "  1353.11,154.631 1353.35,139.695 1353.59,128.173 1353.84,119.406 1354.08,112.768 1354.32,107.728 1354.56,103.867 1354.8,100.873 1355.05,98.5208 1355.29,96.651 \n",
       "  1355.53,95.1491 1355.77,93.9323 1356.02,92.939 1356.26,92.1223 1356.5,91.4461 1356.74,90.8823 1356.98,90.4088 1357.23,90.0084 1357.47,89.6673 1357.71,89.375 \n",
       "  1357.95,89.1231 1358.2,88.9049 1358.44,88.7152 1358.68,88.55 1358.92,88.4058 1359.16,88.2799 1359.41,88.1702 1359.65,88.0748 1359.89,87.9922 1360.13,87.9211 \n",
       "  1360.38,87.8603 1360.62,87.8091 1360.86,87.7665 1361.1,87.7321 1361.34,87.7051 1361.59,87.6853 1361.83,87.6724 1362.07,87.6662 1362.31,87.6665 1362.56,87.6736 \n",
       "  1362.8,87.6874 1363.04,87.7084 1363.28,87.7368 1363.53,87.7732 1363.77,87.8182 1364.01,87.8727 1364.25,87.9376 1364.49,88.0141 1364.74,88.1034 1364.98,88.2073 \n",
       "  1365.22,88.3276 1365.46,88.4667 1365.71,88.6273 1365.95,88.813 1366.19,89.0278 1366.43,89.2773 1366.67,89.5681 1366.92,89.9089 1367.16,90.3109 1367.4,90.7884 \n",
       "  1367.64,91.3602 1367.89,92.0506 1368.13,92.891 1368.37,93.9222 1368.61,95.1965 1368.85,96.7804 1369.1,98.758 1369.34,101.234 1369.58,104.338 1369.82,108.228 \n",
       "  1370.07,113.09 1370.31,119.146 1370.55,126.65 1370.79,135.89 1371.03,147.18 1371.28,160.857 1371.52,177.269 1371.76,196.758 1372,219.646 1372.25,246.205 \n",
       "  1372.49,276.64 1372.73,311.056 1372.97,349.432 1373.21,391.594 1373.46,437.197 1373.7,485.711 1373.94,536.41 1374.18,588.386 1374.43,640.562 1374.67,691.726 \n",
       "  1374.91,740.571 1375.15,785.752 1375.39,825.947 1375.64,859.917 1375.88,886.576 1376.12,905.046 1376.36,914.705 1376.61,915.227 1376.85,906.595 1377.09,889.105 \n",
       "  1377.33,863.351 1377.57,830.187 1377.82,790.683 1378.06,746.064 1378.3,697.652 1378.54,646.794 1378.79,594.808 1379.03,542.922 1379.27,492.234 1379.51,443.679 \n",
       "  1379.75,398.008 1380,355.783 1380.24,317.379 1380.48,283.006 1380.72,252.73 1380.97,226.511 1381.21,204.239 1381.45,185.79 1381.69,171.066 1381.94,160.037 \n",
       "  1382.18,152.759 1382.42,149.357 1382.66,149.955 1382.9,154.559 1383.15,162.904 1383.39,174.321 1383.63,187.657 1383.87,201.342 1384.12,213.588 1384.36,222.732 \n",
       "  1384.6,227.624 1384.84,227.956 1385.08,224.413 1385.33,218.591 1385.57,212.665 1385.81,208.898 1386.05,209.088 1386.3,214.106 1386.54,223.624 1386.78,236.119 \n",
       "  1387.02,249.167 1387.26,259.953 1387.51,265.901 1387.75,265.245 1387.99,257.401 1388.23,243.037 1388.48,223.838 1388.72,202.057 1388.96,179.999 1389.2,159.576 \n",
       "  1389.44,142.056 1389.69,128 1389.93,117.381 1390.17,109.78 1390.41,104.594 1390.66,101.208 1390.9,99.0983 1391.14,97.8677 1391.38,97.2514 1391.62,97.0921 \n",
       "  1391.87,97.3128 1392.11,97.8929 1392.35,98.8517 1392.59,100.24 1392.84,102.134 1393.08,104.641 1393.32,107.895 1393.56,112.067 1393.8,117.362 1394.05,124.027 \n",
       "  1394.29,132.351 1394.53,142.661 1394.77,155.323 1395.02,170.732 1395.26,189.3 1395.5,211.443 1395.74,237.556 1395.98,267.987 1396.23,303.009 1396.47,342.787 \n",
       "  1396.71,387.342 1396.95,436.521 1397.2,489.971 1397.44,547.119 1397.68,607.166 1397.92,669.093 1398.16,731.687 1398.41,793.575 1398.65,853.286 1398.89,909.314 \n",
       "  1399.13,960.196 1399.38,1004.59 1399.62,1041.36 1399.86,1069.63 1400.1,1088.81 1400.35,1098.69 1400.59,1099.37 1400.83,1091.28 1401.07,1075.16 1401.31,1051.95 \n",
       "  1401.56,1022.8 1401.8,988.935 1402.04,951.662 1402.28,912.269 1402.53,871.999 1402.77,832.015 1403.01,793.378 1403.25,757.023 1403.49,723.754 1403.74,694.228 \n",
       "  1403.98,668.947 1404.22,648.255 1404.46,632.328 1404.71,621.174 1404.95,614.646 1405.19,612.446 1405.43,614.159 1405.67,619.283 1405.92,627.268 1406.16,637.564 \n",
       "  1406.4,649.662 1406.64,663.138 1406.89,677.677 1407.13,693.094 1407.37,709.323 1407.61,726.407 1407.85,744.451 1408.1,763.58 1408.34,783.875 1408.58,805.323 \n",
       "  1408.82,827.759 1409.07,850.837 1409.31,874.015 1409.55,896.563 1409.79,917.597 1410.03,936.141 1410.28,951.202 1410.52,961.853 1410.76,967.328 1411,967.103 \n",
       "  1411.25,960.97 1411.49,949.086 1411.73,932.002 1411.97,910.664 1412.21,886.369 1412.46,860.702 1412.7,835.41 1412.94,812.254 1413.18,792.832 1413.43,778.398 \n",
       "  1413.67,769.722 1413.91,767.017 1414.15,769.958 1414.39,777.806 1414.64,789.59 1414.88,804.307 1415.12,821.075 1415.36,839.22 1415.61,858.257 1415.85,877.823 \n",
       "  1416.09,897.587 1416.33,917.184 1416.57,936.207 1416.82,954.235 1417.06,970.907 1417.3,985.976 1417.54,999.36 1417.79,1011.14 1418.03,1021.54 1418.27,1030.87 \n",
       "  1418.51,1039.49 1418.76,1047.75 1419,1055.93 1419.24,1064.26 1419.48,1072.88 1419.72,1081.87 1419.97,1091.19 1420.21,1100.74 1420.45,1110.33 1420.69,1119.67 \n",
       "  1420.94,1128.39 1421.18,1136.03 1421.42,1142.04 1421.66,1145.84 1421.9,1146.8 1422.15,1144.32 1422.39,1137.83 1422.63,1126.87 1422.87,1111.08 1423.12,1090.26 \n",
       "  1423.36,1064.4 1423.6,1033.71 1423.84,998.588 1424.08,959.687 1424.33,917.869 1424.57,874.197 1424.81,829.906 1425.05,786.343 1425.3,744.912 1425.54,707.002 \n",
       "  1425.78,673.911 1426.02,646.778 1426.26,626.522 1426.51,613.794 1426.75,608.945 1426.99,612.008 1427.23,622.698 1427.48,640.415 1427.72,664.263 1427.96,693.065 \n",
       "  1428.2,725.387 1428.44,759.557 1428.69,793.715 1428.93,825.87 1429.17,854.012 1429.41,876.245 1429.66,890.949 1429.9,896.935 1430.14,893.556 1430.38,880.75 \n",
       "  1430.62,859.008 1430.87,829.267 1431.11,792.769 1431.35,750.904 1431.59,705.09 1431.84,656.682 1432.08,606.924 1432.32,556.932 1432.56,507.685 1432.8,460.031 \n",
       "  1433.05,414.679 1433.29,372.197 1433.53,333.009 1433.77,297.392 1434.02,265.486 1434.26,237.302 1434.5,212.744 1434.74,191.628 1434.98,173.709 1435.23,158.7 \n",
       "  1435.47,146.295 1435.71,136.184 1435.95,128.075 1436.2,121.695 1436.44,116.807 1436.68,113.21 1436.92,110.745 1437.17,109.297 1437.41,108.797 1437.65,109.22 \n",
       "  1437.89,110.592 1438.13,112.983 1438.38,116.515 1438.62,121.36 1438.86,127.742 1439.1,135.933 1439.35,146.253 1439.59,159.065 1439.83,174.766 1440.07,193.77 \n",
       "  1440.31,216.499 1440.56,243.35 1440.8,274.677 1441.04,310.755 1441.28,351.747 1441.53,397.672 1441.77,448.368 1442.01,503.47 1442.25,562.384 1442.49,624.281 \n",
       "  1442.74,688.1 1442.98,752.563 1443.22,816.215 1443.46,877.467 1443.71,934.663 1443.95,986.154 1444.19,1030.37 1444.43,1065.91 1444.67,1091.62 1444.92,1106.62 \n",
       "  1445.16,1110.41 1445.4,1102.86 1445.64,1084.23 1445.89,1055.15 1446.13,1016.6 1446.37,969.826 1446.61,916.296 1446.85,857.617 1447.1,795.453 1447.34,731.449 \n",
       "  1447.58,667.158 1447.82,603.988 1448.07,543.156 1448.31,485.663 1448.55,432.288 1448.79,383.596 1449.03,339.965 1449.28,301.62 1449.52,268.671 1449.76,241.148 \n",
       "  1450,219.007 1450.25,202.121 1450.49,190.228 1450.73,182.865 1450.97,179.312 1451.21,178.56 1451.46,179.367 1451.7,180.376 1451.94,180.318 1452.18,178.215 \n",
       "  1452.43,173.556 1452.67,166.362 1452.91,157.139 1453.15,146.718 1453.39,136.041 1453.64,125.961 1453.88,117.095 1454.12,109.767 1454.36,104.03 1454.61,99.7376 \n",
       "  1454.85,96.6363 1455.09,94.4427 1455.33,92.8988 1455.58,91.7989 1455.82,90.9944 1456.06,90.3862 1456.3,89.9124 1456.54,89.5358 1456.79,89.2346 1457.03,88.9957 \n",
       "  1457.27,88.811 1457.51,88.6754 1457.76,88.5857 1458,88.54 1458.24,88.538 1458.48,88.5812 1458.72,88.6738 1458.97,88.8248 1459.21,89.0514 1459.45,89.3852 \n",
       "  1459.69,89.881 1459.94,90.6275 1460.18,91.7574 1460.42,93.4525 1460.66,95.9359 1460.9,99.4427 1461.15,104.167 1461.39,110.189 1461.63,117.391 1461.87,125.398 \n",
       "  1462.12,133.573 1462.36,141.069 1462.6,146.975 1462.84,150.492 1463.08,151.112 1463.33,148.744 1463.57,143.732 1463.81,136.772 1464.05,128.752 1464.3,120.566 \n",
       "  1464.54,112.948 1464.78,106.387 1465.02,101.099 1465.26,97.0782 1465.51,94.1674 1465.75,92.1396 1465.99,90.7614 1466.23,89.8313 1466.48,89.1951 1466.72,88.7457 \n",
       "  1466.96,88.415 1467.2,88.1607 1467.44,87.9589 1467.69,87.7953 1467.93,87.6614 1468.17,87.5514 1468.41,87.4611 1468.66,87.387 1468.9,87.3265 1469.14,87.2772 \n",
       "  1469.38,87.2373 1469.62,87.2052 1469.87,87.18 1470.11,87.1608 1470.35,87.147 1470.59,87.1385 1470.84,87.135 1471.08,87.1366 1471.32,87.1435 1471.56,87.1559 \n",
       "  1471.81,87.1743 1472.05,87.1992 1472.29,87.2312 1472.53,87.2709 1472.77,87.3193 1473.02,87.3772 1473.26,87.4457 1473.5,87.5263 1473.74,87.6203 1473.99,87.7296 \n",
       "  1474.23,87.8564 1474.47,88.0033 1474.71,88.1735 1474.95,88.3711 1475.2,88.601 1475.44,88.8696 1475.68,89.1852 1475.92,89.5583 1476.17,90.0027 1476.41,90.5361 \n",
       "  1476.65,91.1816 1476.89,91.9692 1477.13,92.9376 1477.38,94.1362 1477.62,95.6281 1477.86,97.4925 1478.1,99.828 1478.35,102.756 1478.59,106.423 1478.83,111.004 \n",
       "  1479.07,116.702 1479.31,123.753 1479.56,132.418 1479.8,142.984 1480.04,155.753 1480.28,171.036 1480.53,189.133 1480.77,210.323 1481.01,234.835 1481.25,262.831 \n",
       "  1481.49,294.376 1481.74,329.419 1481.98,367.77 1482.22,409.078 1482.46,452.827 1482.71,498.329 1482.95,544.735 1483.19,591.05 1483.43,636.171 1483.67,678.921 \n",
       "  1483.92,718.103 1484.16,752.552 1484.4,781.195 1484.64,803.109 1484.89,817.565 1485.13,824.076 1485.37,822.421 1485.61,812.656 1485.85,795.115 1486.1,770.388 \n",
       "  1486.34,739.29 1486.58,702.813 1486.82,662.074 1487.07,618.259 1487.31,572.564 1487.55,526.144 1487.79,480.064 1488.03,435.261 1488.28,392.524 1488.52,352.472 \n",
       "  1488.76,315.555 1489,282.059 1489.25,252.118 1489.49,225.737 1489.73,202.81 1489.97,183.151 1490.22,166.514 1490.46,152.617 1490.7,141.163 1490.94,131.855 \n",
       "  1491.18,124.412 1491.43,118.578 1491.67,114.13 1491.91,110.879 1492.15,108.68 1492.4,107.428 1492.64,107.063 1492.88,107.567 1493.12,108.97 1493.36,111.347 \n",
       "  1493.61,114.819 1493.85,119.557 1494.09,125.779 1494.33,133.747 1494.58,143.768 1494.82,156.179 1495.06,171.344 1495.3,189.632 1495.54,211.4 1495.79,236.967 \n",
       "  1496.03,266.587 1496.27,300.42 1496.51,338.503 1496.76,380.721 1497,426.793 1497.24,476.258 1497.48,528.476 1497.72,582.639 1497.97,637.796 1498.21,692.889 \n",
       "  1498.45,746.79 1498.69,798.35 1498.94,846.448 1499.18,890.028 1499.42,928.143 1499.66,959.981 1499.9,984.895 1500.15,1002.42 1500.39,1012.27 1500.63,1014.38 \n",
       "  1500.87,1008.9 1501.12,996.184 1501.36,976.806 1501.6,951.547 1501.84,921.37 1502.08,887.392 1502.33,850.829 1502.57,812.942 1502.81,774.968 1503.05,738.046 \n",
       "  1503.3,703.154 1503.54,671.053 1503.78,642.249 1504.02,616.977 1504.26,595.204 1504.51,576.662 1504.75,560.891 1504.99,547.3 1505.23,535.229 1505.48,524.022 \n",
       "  1505.72,513.081 1505.96,501.922 1506.2,490.206 1506.44,477.763 1506.69,464.594 1506.93,450.864 1507.17,436.879 1507.41,423.05 1507.66,409.856 1507.9,397.801 \n",
       "  1508.14,387.368 1508.38,378.979 1508.63,372.961 1508.87,369.514 1509.11,368.697 1509.35,370.415 1509.59,374.424 1509.84,380.34 1510.08,387.666 1510.32,395.812 \n",
       "  1510.56,404.137 1510.81,411.98 1511.05,418.702 1511.29,423.718 1511.53,426.532 1511.77,426.758 1512.02,424.141 1512.26,418.569 1512.5,410.071 1512.74,398.819 \n",
       "  1512.99,385.115 1513.23,369.388 1513.47,352.178 1513.71,334.13 1513.95,315.975 1514.2,298.504 1514.44,282.52 1514.68,268.756 1514.92,257.768 1515.17,249.81 \n",
       "  1515.41,244.728 1515.65,241.909 1515.89,240.332 1516.13,238.729 1516.38,235.838 1516.62,230.684 1516.86,222.817 1517.1,212.419 1517.35,200.262 1517.59,187.527 \n",
       "  1517.83,175.555 1518.07,165.593 1518.31,158.628 1518.56,155.317 1518.8,156.02 1519.04,160.894 1519.28,170.005 1519.53,183.422 1519.77,201.268 1520.01,223.74 \n",
       "  1520.25,251.076 1520.49,283.517 1520.74,321.249 1520.98,364.342 1521.22,412.701 1521.46,466.024 1521.71,523.777 1521.95,585.192 1522.19,649.275 1522.43,714.848 \n",
       "  1522.67,780.602 1522.92,845.166 1523.16,907.188 1523.4,965.403 1523.64,1018.71 1523.89,1066.2 1524.13,1107.21 1524.37,1141.31 1524.61,1168.3 1524.85,1188.16 \n",
       "  1525.1,1201.01 1525.34,1207.13 1525.58,1206.85 1525.82,1200.6 1526.07,1188.89 1526.31,1172.28 1526.55,1151.49 1526.79,1127.32 1527.04,1100.72 1527.28,1072.78 \n",
       "  1527.52,1044.67 1527.76,1017.63 1528,992.87 1528.25,971.508 1528.49,954.479 1528.73,942.455 1528.97,935.794 1529.22,934.504 1529.46,938.248 1529.7,946.385 \n",
       "  1529.94,958.035 1530.18,972.16 1530.43,987.666 1530.67,1003.48 1530.91,1018.65 1531.15,1032.38 1531.4,1044.06 1531.64,1053.31 1531.88,1059.93 1532.12,1063.91 \n",
       "  1532.36,1065.36 1532.61,1064.53 1532.85,1061.75 1533.09,1057.41 1533.33,1051.97 1533.58,1045.91 1533.82,1039.74 1534.06,1034.01 1534.3,1029.28 1534.54,1026.1 \n",
       "  1534.79,1024.99 1535.03,1026.42 1535.27,1030.73 1535.51,1038.11 1535.76,1048.56 1536,1061.83 1536.24,1077.42 1536.48,1094.54 1536.72,1112.16 1536.97,1129.03 \n",
       "  1537.21,1143.77 1537.45,1154.9 1537.69,1161 1537.94,1160.78 1538.18,1153.17 1538.42,1137.42 1538.66,1113.15 1538.9,1080.36 1539.15,1039.47 1539.39,991.257 \n",
       "  1539.63,936.794 1539.87,877.399 1540.12,814.532 1540.36,749.711 1540.6,684.423 1540.84,620.054 1541.08,557.825 1541.33,498.755 1541.57,443.635 1541.81,393.025 \n",
       "  1542.05,347.257 1542.3,306.462 1542.54,270.594 1542.78,239.464 1543.02,212.777 1543.26,190.162 1543.51,171.205 1543.75,155.473 1543.99,142.54 1544.23,131.999 \n",
       "  1544.48,123.474 1544.72,116.633 1544.96,111.185 1545.2,106.889 1545.45,103.554 1545.69,101.031 1545.93,99.2168 1546.17,98.0411 1546.41,97.454 1546.66,97.4087 \n",
       "  1546.9,97.8404 1547.14,98.6489 1547.38,99.6885 1547.63,100.773 1547.87,101.694 1548.11,102.258 1548.35,102.32 1548.59,101.816 1548.84,100.774 1549.08,99.3064 \n",
       "  1549.32,97.5823 1549.56,95.787 1549.81,94.0872 1550.05,92.6052 1550.29,91.4086 1550.53,90.5151 1550.77,89.9059 1551.02,89.5429 1551.26,89.3833 1551.5,89.3915 \n",
       "  1551.74,89.5457 1551.99,89.8444 1552.23,90.3124 1552.47,91.0118 1552.71,92.0565 1552.95,93.6293 1553.2,95.9955 1553.44,99.5024 1553.68,104.55 1553.92,111.521 \n",
       "  1554.17,120.674 1554.41,132.002 1554.65,145.111 1554.89,159.142 1555.13,172.817 1555.38,184.602 1555.62,192.988 1555.86,196.809 1556.1,195.516 1556.35,189.31 \n",
       "  1556.59,179.092 1556.83,166.251 1557.07,152.353 1557.31,138.835 1557.56,126.777 1557.8,116.802 1558.04,109.103 1558.28,103.547 1558.53,99.8124 1558.77,97.5195 \n",
       "  1559.01,96.3172 1559.25,95.9306 1559.49,96.1729 1559.74,96.9362 1559.98,98.1728 1560.22,99.8753 1560.46,102.06 1560.71,104.756 1560.95,107.992 1561.19,111.794 \n",
       "  1561.43,116.18 1561.67,121.15 1561.92,126.688 1562.16,132.756 1562.4,139.291 1562.64,146.204 1562.89,153.38 1563.13,160.68 1563.37,167.943 1563.61,174.995 \n",
       "  1563.86,181.648 1564.1,187.717 1564.34,193.024 1564.58,197.405 1564.82,200.726 1565.07,202.882 1565.31,203.812 1565.55,203.495 1565.79,201.96 1566.04,199.283 \n",
       "  1566.28,195.591 1566.52,191.066 1566.76,185.946 1567,180.538 1567.25,175.217 1567.49,170.434 1567.73,166.691 1567.97,164.497 1568.22,164.29 1568.46,166.322 \n",
       "  1568.7,170.541 1568.94,176.498 1569.18,183.325 1569.43,189.821 1569.67,194.646 1569.91,196.587 1570.15,194.826 1570.4,189.138 1570.64,179.929 1570.88,168.138 \n",
       "  1571.12,155.006 1571.36,141.801 1571.61,129.585 1571.85,119.062 1572.09,110.547 1572.33,104.024 1572.58,99.2515 1572.82,95.8809 1573.06,93.552 1573.3,91.9513 \n",
       "  1573.54,90.8371 1573.79,90.0391 1574.03,89.4464 1574.27,88.9906 1574.51,88.6308 1574.76,88.3424 1575,88.1101 1575.24,87.9238 1575.48,87.7758 1575.72,87.6603 \n",
       "  1575.97,87.5724 1576.21,87.5084 1576.45,87.4653 1576.69,87.4407 1576.94,87.4332 1577.18,87.4419 1577.42,87.4666 1577.66,87.5076 1577.9,87.5662 1578.15,87.6442 \n",
       "  1578.39,87.7443 1578.63,87.87 1578.87,88.0261 1579.12,88.2184 1579.36,88.454 1579.6,88.7418 1579.84,89.093 1580.08,89.5227 1580.33,90.0532 1580.57,90.7195 \n",
       "  1580.81,91.5791 1581.05,92.7274 1581.3,94.3172 1581.54,96.5812 1581.78,99.849 1582.02,104.549 1582.27,111.181 1582.51,120.249 1582.75,132.152 1582.99,147.057 \n",
       "  1583.23,164.775 1583.48,184.692 1583.72,205.786 1583.96,226.734 1584.2,246.096 1584.45,262.507 1584.69,274.84 1584.93,282.297 1585.17,284.435 1585.41,281.162 \n",
       "  1585.66,272.737 1585.9,259.782 1586.14,243.296 1586.38,224.628 1586.63,205.388 1586.87,187.291 1587.11,171.967 1587.35,160.779 1587.59,154.665 1587.84,154.04 \n",
       "  1588.08,158.724 1588.32,167.911 1588.56,180.196 1588.81,193.684 1589.05,206.207 1589.29,215.65 1589.53,220.317 1589.77,219.253 1590.02,212.424 1590.26,200.684 \n",
       "  1590.5,185.544 1590.74,168.818 1590.99,152.241 1591.23,137.17 1591.47,124.439 1591.71,114.353 1591.95,106.799 1592.2,101.407 1592.44,97.7024 1592.68,95.2247 \n",
       "  1592.92,93.5901 1593.17,92.514 1593.41,91.8045 1593.65,91.3422 1593.89,91.0582 1594.13,90.9157 1594.38,90.8976 1594.62,90.9985 1594.86,91.221 1595.1,91.5741 \n",
       "  1595.35,92.0736 1595.59,92.7425 1595.83,93.6131 1596.07,94.7282 1596.31,96.1449 1596.56,97.9371 1596.8,100.202 1597.04,103.065 1597.28,106.696 1597.53,111.313 \n",
       "  1597.77,117.209 1598.01,124.757 1598.25,134.418 1598.5,146.73 1598.74,162.266 1598.98,181.557 1599.22,204.989 1599.46,232.687 1599.71,264.42 1599.95,299.571 \n",
       "  1600.19,337.193 1600.43,376.16 1600.68,415.374 1600.92,453.982 1601.16,491.515 1601.4,527.922 1601.64,563.468 1601.89,598.554 1602.13,633.508 1602.37,668.411 \n",
       "  1602.61,703.016 1602.86,736.756 1603.1,768.823 1603.34,798.286 1603.58,824.205 1603.82,845.719 1604.07,862.1 1604.31,872.776 1604.55,877.333 1604.79,875.517 \n",
       "  1605.04,867.225 1605.28,852.505 1605.52,831.562 1605.76,804.758 1606,772.612 1606.25,735.795 1606.49,695.105 1606.73,651.45 1606.97,605.803 1607.22,559.165 \n",
       "  1607.46,512.521 1607.7,466.794 1607.94,422.81 1608.18,381.271 1608.43,342.736 1608.67,307.615 1608.91,276.174 1609.15,248.548 1609.4,224.765 1609.64,204.765 \n",
       "  1609.88,188.437 1610.12,175.638 1610.36,166.225 1610.61,160.073 1610.85,157.096 1611.09,157.256 1611.33,160.573 1611.58,167.124 1611.82,177.042 1612.06,190.497 \n",
       "  1612.3,207.69 1612.54,228.823 1612.79,254.078 1613.03,283.588 1613.27,317.403 1613.51,355.461 1613.76,397.56 1614,443.331 1614.24,492.225 1614.48,543.501 \n",
       "  1614.72,596.234 1614.97,649.331 1615.21,701.564 1615.45,751.61 1615.69,798.116 1615.94,839.761 1616.18,875.33 1616.42,903.789 1616.66,924.342 1616.91,936.483 \n",
       "  1617.15,940.006 1617.39,934.994 1617.63,921.769 1617.87,900.822 1618.12,872.745 1618.36,838.173 1618.6,797.78 1618.84,752.299 1619.09,702.585 1619.33,649.668 \n",
       "  1619.57,594.77 1619.81,539.268 1620.05,484.604 1620.3,432.145 1620.54,383.056 1620.78,338.198 1621.02,298.082 1621.27,262.885 1621.51,232.503 1621.75,206.634 \n",
       "  1621.99,184.857 1622.23,166.697 1622.48,151.677 1622.72,139.344 1622.96,129.284 1623.2,121.127 1623.45,114.55 1623.69,109.272 1623.93,105.053 1624.17,101.691 \n",
       "  1624.41,99.0166 1624.66,96.8907 1624.9,95.2005 1625.14,93.8557 1625.38,92.7847 1625.63,91.9316 1625.87,91.2531 1626.11,90.7161 1626.35,90.2954 1626.59,89.9725 \n",
       "  1626.84,89.7338 1627.08,89.5695 1627.32,89.4735 1627.56,89.442 1627.81,89.4739 1628.05,89.5703 1628.29,89.735 1628.53,89.9741 1628.77,90.2971 1629.02,90.7176 \n",
       "  1629.26,91.2539 1629.5,91.9308 1629.74,92.7811 1629.99,93.8479 1630.23,95.1872 1630.47,96.871 1630.71,98.9909 1630.95,101.662 1631.2,105.027 1631.44,109.259 \n",
       "  1631.68,114.569 1631.92,121.201 1632.17,129.442 1632.41,139.612 1632.65,152.065 1632.89,167.175 1633.13,185.331 1633.38,206.909 1633.62,232.257 1633.86,261.668 \n",
       "  1634.1,295.346 1634.35,333.38 1634.59,375.715 1634.83,422.125 1635.07,472.199 1635.32,525.326 1635.56,580.703 1635.8,637.351 1636.04,694.136 1636.28,749.816 \n",
       "  1636.53,803.081 1636.77,852.615 1637.01,897.146 1637.25,935.504 1637.5,966.676 1637.74,989.844 1637.98,1004.43 1638.22,1010.11 1638.46,1006.85 1638.71,994.893 \n",
       "  1638.95,974.776 1639.19,947.3 1639.43,913.521 1639.68,874.714 1639.92,832.331 1640.16,787.96 1640.4,743.26 1640.64,699.907 1640.89,659.528 1641.13,623.635 \n",
       "  1641.37,593.568 1641.61,570.437 1641.86,555.079 1642.1,548.02 1642.34,549.453 1642.58,559.231 1642.82,576.868 1643.07,601.559 1643.31,632.209 1643.55,667.475 \n",
       "  1643.79,705.817 1644.04,745.563 1644.28,784.97 1644.52,822.301 1644.76,855.895 1645,884.237 1645.25,906.023 1645.49,920.214 1645.73,926.081 1645.97,923.226 \n",
       "  1646.22,911.599 1646.46,891.484 1646.7,863.476 1646.94,828.441 1647.18,787.458 1647.43,741.765 1647.67,692.688 1647.91,641.575 1648.15,589.74 1648.4,538.41 \n",
       "  1648.64,488.68 1648.88,441.492 1649.12,397.615 1649.36,357.646 1649.61,322.02 1649.85,291.026 1650.09,264.839 1650.33,243.543 1650.58,227.167 1650.82,215.711 \n",
       "  1651.06,209.176 1651.3,207.579 1651.54,210.971 1651.79,219.436 1652.03,233.096 1652.27,252.088 1652.51,276.553 1652.76,306.6 1653,342.281 1653.24,383.547 \n",
       "  1653.48,430.217 1653.73,481.94 1653.97,538.169 1654.21,598.14 1654.45,660.865 1654.69,725.139 1654.94,789.567 1655.18,852.595 1655.42,912.574 1655.66,967.821 \n",
       "  1655.91,1016.7 1656.15,1057.7 1656.39,1089.5 1656.63,1111.08 1656.87,1121.73 1657.12,1121.14 1657.36,1109.38 1657.6,1086.92 1657.84,1054.62 1658.09,1013.66 \n",
       "  1658.33,965.52 1658.57,911.876 1658.81,854.547 1659.05,795.418 1659.3,736.371 1659.54,679.235 1659.78,625.742 1660.02,577.504 1660.27,536.003 1660.51,502.584 \n",
       "  1660.75,478.442 1660.99,464.585 1661.23,461.767 1661.48,470.391 1661.72,490.39 1661.96,521.132 1662.2,561.38 1662.45,609.351 1662.69,662.869 1662.93,719.599 \n",
       "  1663.17,777.289 1663.41,833.972 1663.66,888.057 1663.9,938.322 1664.14,983.816 1664.38,1023.74 1664.63,1057.35 1664.87,1083.9 1665.11,1102.69 1665.35,1113.06 \n",
       "  1665.59,1114.51 1665.84,1106.73 1666.08,1089.67 1666.32,1063.58 1666.56,1029 1666.81,986.771 1667.05,938.017 1667.29,884.078 1667.53,826.459 1667.77,766.751 \n",
       "  1668.02,706.562 1668.26,647.44 1668.5,590.816 1668.74,537.963 1668.99,489.963 1669.23,447.693 1669.47,411.825 1669.71,382.834 1669.95,361.006 1670.2,346.463 \n",
       "  1670.44,339.173 1670.68,338.968 1670.92,345.56 1671.17,358.548 1671.41,377.429 1671.65,401.603 1671.89,430.386 1672.14,463.017 1672.38,498.677 1672.62,536.511 \n",
       "  1672.86,575.652 1673.1,615.257 1673.35,654.54 1673.59,692.804 1673.83,729.471 1674.07,764.101 1674.32,796.394 1674.56,826.187 1674.8,853.425 1675.04,878.124 \n",
       "  1675.28,900.324 1675.53,920.039 1675.77,937.214 1676.01,951.689 1676.25,963.185 1676.5,971.313 1676.74,975.6 1676.98,975.54 1677.22,970.654 1677.46,960.563 \n",
       "  1677.71,945.047 1677.95,924.103 1678.19,897.98 1678.43,867.187 1678.68,832.486 1678.92,794.849 1679.16,755.405 1679.4,715.375 1679.64,675.99 1679.89,638.427 \n",
       "  1680.13,603.736 1680.37,572.795 1680.61,546.272 1680.86,524.613 1681.1,508.044 1681.34,496.593 1681.58,490.124 1681.82,488.383 1682.07,491.049 1682.31,497.787 \n",
       "  1682.55,508.294 1682.79,522.343 1683.04,539.808 1683.28,560.672 1683.52,585.008 1683.76,612.934 1684,644.534 1684.25,679.762 1684.49,718.333 1684.73,759.642 \n",
       "  1684.97,802.724 1685.22,846.281 1685.46,888.775 1685.7,928.578 1685.94,964.128 1686.18,994.068 1686.43,1017.33 1686.67,1033.14 1686.91,1041.01 1687.15,1040.66 \n",
       "  1687.4,1031.98 1687.64,1015.04 1687.88,990.067 1688.12,957.487 1688.36,917.951 1688.61,872.334 1688.85,821.719 1689.09,767.34 1689.33,710.524 1689.58,652.612 \n",
       "  1689.82,594.895 1690.06,538.547 1690.3,484.587 1690.55,433.856 1690.79,387.007 1691.03,344.519 1691.27,306.725 1691.51,273.838 1691.76,245.985 1692,223.216 \n",
       "  1692.24,205.498 1692.48,192.67 1692.73,184.383 1692.97,180.031 1693.21,178.719 1693.45,179.288 1693.69,180.422 1693.94,180.828 1694.18,179.45 1694.42,175.653 \n",
       "  1694.66,169.329 1694.91,160.871 1695.15,151.048 1695.39,140.797 1695.63,131.017 1695.87,122.405 1696.12,115.377 1696.36,110.076 1696.6,106.433 1696.84,104.269 \n",
       "  1697.09,103.393 1697.33,103.682 1697.57,105.142 1697.81,107.954 1698.05,112.481 1698.3,119.262 1698.54,128.939 1698.78,142.146 1699.02,159.326 1699.27,180.525 \n",
       "  1699.51,205.219 1699.75,232.243 1699.99,259.887 1700.23,286.193 1700.48,309.388 1700.72,328.352 1700.96,342.979 1701.2,354.304 1701.45,364.341 1701.69,375.696 \n",
       "  1701.93,391.051 1702.17,412.676 1702.41,442.092 1702.66,479.923 1702.9,525.933 1703.14,579.191 1703.38,638.281 1703.63,701.506 1703.87,767.054 1704.11,833.121 \n",
       "  1704.35,897.993 1704.59,960.11 1704.84,1018.11 1705.08,1070.84 1705.32,1117.42 1705.56,1157.15 1705.81,1189.58 1706.05,1214.4 1706.29,1231.39 1706.53,1240.44 \n",
       "  1706.77,1241.44 1707.02,1234.3 1707.26,1218.99 1707.5,1195.51 1707.74,1164.02 1707.99,1124.81 1708.23,1078.43 1708.47,1025.69 1708.71,967.641 1708.96,905.617 \n",
       "  1709.2,841.144 1709.44,775.895 1709.68,711.597 1709.92,649.96 1710.17,592.589 1710.41,540.925 1710.65,496.199 1710.89,459.4 1711.14,431.267 1711.38,412.293 \n",
       "  1711.62,402.739 1711.86,402.645 1712.1,411.852 1712.35,430.009 1712.59,456.587 1712.83,490.878 1713.07,531.995 1713.32,578.876 1713.56,630.287 1713.8,684.832 \n",
       "  1714.04,740.973 1714.28,797.065 1714.53,851.397 1714.77,902.248 1715.01,947.953 1715.25,986.967 1715.5,1017.94 1715.74,1039.78 1715.98,1051.7 1716.22,1053.27 \n",
       "  1716.46,1044.44 1716.71,1025.54 1716.95,997.233 1717.19,960.546 1717.43,916.758 1717.68,867.36 1717.92,813.982 1718.16,758.314 1718.4,702.041 1718.64,646.774 \n",
       "  1718.89,594.004 1719.13,545.061 1719.37,501.087 1719.61,463.026 1719.86,431.61 1720.1,407.354 1720.34,390.545 1720.58,381.231 1720.82,379.206 1721.07,384.015 \n",
       "  1721.31,394.953 1721.55,411.099 1721.79,431.33 1722.04,454.346 1722.28,478.68 1722.52,502.711 1722.76,524.706 1723,542.916 1723.25,555.744 1723.49,561.947 \n",
       "  1723.73,560.834 1723.97,552.388 1724.22,537.259 1724.46,516.621 1724.7,491.94 1724.94,464.71 1725.19,436.242 1725.43,407.54 1725.67,379.28 1725.91,351.872 \n",
       "  1726.15,325.545 1726.4,300.439 1726.64,276.673 1726.88,254.369 1727.12,233.66 1727.37,214.677 1727.61,197.535 1727.85,182.314 1728.09,169.065 1728.33,157.8 \n",
       "  1728.58,148.509 1728.82,141.172 1729.06,135.775 1729.3,132.335 1729.55,130.92 1729.79,131.667 1730.03,134.796 1730.27,140.599 1730.51,149.411 1730.76,161.547 \n",
       "  1731,177.208 1731.24,196.389 1731.48,218.794 1731.73,243.817 1731.97,270.592 1732.21,298.126 1732.45,325.483 1732.69,351.963 1732.94,377.219 1733.18,401.274 \n",
       "  1733.42,424.42 1733.66,447.049 1733.91,469.461 1734.15,491.71 1734.39,513.534 1734.63,534.371 1734.87,553.45 1735.12,569.916 1735.36,582.963 1735.6,591.946 \n",
       "  1735.84,596.471 1736.09,596.447 1736.33,592.121 1736.57,584.077 1736.81,573.209 1737.05,560.638 1737.3,547.587 1737.54,535.196 1737.78,524.327 1738.02,515.394 \n",
       "  1738.27,508.283 1738.51,502.417 1738.75,496.976 1738.99,491.229 1739.23,484.877 1739.48,478.31 1739.72,472.675 1739.96,469.731 1740.2,471.526 1740.45,480.007 \n",
       "  1740.69,496.663 1740.93,522.293 1741.17,556.928 1741.41,599.887 1741.66,649.923 1741.9,705.389 1742.14,764.393 1742.38,824.916 1742.63,884.901 1742.87,942.314 \n",
       "  1743.11,995.195 1743.35,1041.72 1743.6,1080.26 1743.84,1109.43 1744.08,1128.16 1744.32,1135.75 1744.56,1131.88 1744.81,1116.63 1745.05,1090.49 1745.29,1054.31 \n",
       "  1745.53,1009.24 1745.78,956.707 1746.02,898.296 1746.26,835.686 1746.5,770.564 1746.74,704.557 1746.99,639.156 1747.23,575.673 1747.47,515.204 1747.71,458.606 \n",
       "  1747.96,406.495 1748.2,359.255 1748.44,317.059 1748.68,279.895 1748.92,247.604 1749.17,219.907 1749.41,196.449 1749.65,176.821 1749.89,160.598 1750.14,147.355 \n",
       "  1750.38,136.687 1750.62,128.225 1750.86,121.642 1751.1,116.663 1751.35,113.061 1751.59,110.666 1751.83,109.357 1752.07,109.067 1752.32,109.778 1752.56,111.516 \n",
       "  1752.8,114.356 1753.04,118.413 1753.28,123.84 1753.53,130.825 1753.77,139.582 1754.01,150.344 1754.25,163.35 1754.5,178.833 1754.74,197.003 1754.98,218.028 \n",
       "  1755.22,242.013 1755.46,268.979 1755.71,298.845 1755.95,331.409 1756.19,366.336 1756.43,403.15 1756.68,441.234 1756.92,479.842 1757.16,518.116 1757.4,555.117 \n",
       "  1757.64,589.857 1757.89,621.347 1758.13,648.641 1758.37,670.885 1758.61,687.363 1758.86,697.539 1759.1,701.082 1759.34,697.894 1759.58,688.111 1759.82,672.1 \n",
       "  1760.07,650.44 1760.31,623.89 1760.55,593.354 1760.79,559.831 1761.04,524.375 1761.28,488.043 1761.52,451.853 1761.76,416.754 1762.01,383.586 1762.25,353.073 \n",
       "  1762.49,325.8 1762.73,302.217 1762.97,282.642 1763.22,267.267 1763.46,256.177 1763.7,249.361 1763.94,246.731 1764.19,248.141 1764.43,253.398 1764.67,262.281 \n",
       "  1764.91,274.551 1765.15,289.962 1765.4,308.266 1765.64,329.22 1765.88,352.587 1766.12,378.136 1766.37,405.633 1766.61,434.838 1766.85,465.487 1767.09,497.287 \n",
       "  1767.33,529.891 1767.58,562.891 1767.82,595.803 1768.06,628.062 1768.3,659.021 1768.55,687.963 1768.79,714.122 1769.03,736.71 1769.27,754.959 1769.51,768.162 \n",
       "  1769.76,775.72 1770,777.186 1770.24,772.3 1770.48,761.018 1770.73,743.52 1770.97,720.213 1771.21,691.713 1771.45,658.815 1771.69,622.454 1771.94,583.662 \n",
       "  1772.18,543.518 1772.42,503.1 1772.66,463.448 1772.91,425.526 1773.15,390.199 1773.39,358.219 1773.63,330.216 1773.87,306.7 1774.12,288.07 1774.36,274.62 \n",
       "  1774.6,266.55 1774.84,263.977 1775.09,266.94 1775.33,275.401 1775.57,289.242 1775.81,308.261 1776.05,332.157 1776.3,360.521 1776.54,392.828 1776.78,428.425 \n",
       "  1777.02,466.531 1777.27,506.244 1777.51,546.552 1777.75,586.358 1777.99,624.514 1778.23,659.86 1778.48,691.274 1778.72,717.717 1778.96,738.288 1779.2,752.264 \n",
       "  1779.45,759.141 1779.69,758.656 1779.93,750.805 1780.17,735.838 1780.42,714.245 1780.66,686.729 1780.9,654.161 1781.14,617.539 1781.38,577.933 1781.63,536.431 \n",
       "  1781.87,494.091 1782.11,451.898 1782.35,410.728 1782.6,371.321 1782.84,334.269 1783.08,300.006 1783.32,268.818 1783.56,240.847 1783.81,216.116 1784.05,194.542 \n",
       "  1784.29,175.963 1784.53,160.159 1784.78,146.874 1785.02,135.829 1785.26,126.747 1785.5,119.355 1785.74,113.401 1785.99,108.655 1786.23,104.914 1786.47,102.004 \n",
       "  1786.71,99.7781 1786.96,98.1179 1787.2,96.9291 1787.44,96.1409 1787.68,95.7038 1787.92,95.5884 1788.17,95.784 1788.41,96.2992 1788.65,97.1617 1788.89,98.42 \n",
       "  1789.14,100.145 1789.38,102.434 1789.62,105.411 1789.86,109.233 1790.1,114.091 1790.35,120.213 1790.59,127.864 1790.83,137.347 1791.07,148.999 1791.32,163.183 \n",
       "  1791.56,180.28 1791.8,200.671 1792.04,224.72 1792.28,252.75 1792.53,285.016 1792.77,321.674 1793.01,362.75 1793.25,408.117 1793.5,457.462 1793.74,510.274 \n",
       "  1793.98,565.833 1794.22,623.216 1794.46,681.312 1794.71,738.858 1794.95,794.484 1795.19,846.774 1795.43,894.337 1795.68,935.878 1795.92,970.279 1796.16,996.663 \n",
       "  1796.4,1014.45 1796.64,1023.41 1796.89,1023.65 1797.13,1015.63 1797.37,1000.15 1797.61,978.25 1797.86,951.18 1798.1,920.304 1798.34,887.019 1798.58,852.671 \n",
       "  1798.83,818.487 1799.07,785.517 1799.31,754.597 1799.55,726.324 1799.79,701.06 1800.04,678.94 1800.28,659.897 1800.52,643.692 1800.76,629.952 1801.01,618.201 \n",
       "  1801.25,607.898 1801.49,598.464 1801.73,589.318 1801.97,579.899 1802.22,569.691 1802.46,558.246 1802.7,545.204 1802.94,530.307 1803.19,513.408 1803.43,494.479 \n",
       "  1803.67,473.607 1803.91,450.985 1804.15,426.901 1804.4,401.715 1804.64,375.839 1804.88,349.711 1805.12,323.768 1805.37,298.426 1805.61,274.06 1805.85,250.99 \n",
       "  1806.09,229.466 1806.33,209.671 1806.58,191.717 1806.82,175.647 1807.06,161.448 1807.3,149.056 1807.55,138.367 1807.79,129.251 1808.03,121.559 1808.27,115.132 \n",
       "  1808.51,109.813 1808.76,105.448 1809,101.893 1809.24,99.0194 1809.48,96.7097 1809.73,94.8633 1809.97,93.3944 1810.21,92.2313 1810.45,91.3148 1810.69,90.5977 \n",
       "  1810.94,90.0423 1811.18,89.6196 1811.42,89.3081 1811.66,89.0919 1811.91,88.9606 1812.15,88.9077 1812.39,88.931 1812.63,89.0326 1812.87,89.22 1813.12,89.5103 \n",
       "  1813.36,89.9359 1813.6,90.5555 1813.84,91.4681 1814.09,92.831 1814.33,94.8736 1814.57,97.9018 1814.81,102.277 1815.05,108.364 1815.3,116.436 1815.54,126.554 \n",
       "  1815.78,138.454 1816.02,151.465 1816.27,164.533 1816.51,176.357 1816.75,185.622 1816.99,191.294 1817.24,192.871 1817.48,190.504 1817.72,184.957 1817.96,177.399 \n",
       "  1818.2,169.098 1818.45,161.131 1818.69,154.181 1818.93,148.487 1819.17,143.933 1819.42,140.216 1819.66,137.034 1819.9,134.216 1820.14,131.778 1820.38,129.885 \n",
       "  1820.63,128.786 1820.87,128.715 1821.11,129.831 1821.35,132.182 1821.6,135.708 1821.84,140.262 1822.08,145.644 1822.32,151.625 1822.56,157.97 1822.81,164.445 \n",
       "  1823.05,170.828 1823.29,176.901 1823.53,182.464 1823.78,187.328 1824.02,191.328 1824.26,194.323 1824.5,196.206 1824.74,196.908 1824.99,196.398 1825.23,194.691 \n",
       "  1825.47,191.841 1825.71,187.941 1825.96,183.114 1826.2,177.514 1826.44,171.307 1826.68,164.671 1826.92,157.785 1827.17,150.817 1827.41,143.925 1827.65,137.244 \n",
       "  1827.89,130.888 1828.14,124.945 1828.38,119.479 1828.62,114.526 1828.86,110.105 1829.1,106.211 1829.35,102.826 1829.59,99.9206 1829.83,97.455 1830.07,95.3855 \n",
       "  1830.32,93.666 1830.56,92.2504 1830.8,91.0947 1831.04,90.1579 1831.28,89.4032 1831.53,88.7981 1831.77,88.3144 1832.01,87.9286 1832.25,87.6208 1832.5,87.375 \n",
       "  1832.74,87.178 1832.98,87.0194 1833.22,86.891 1833.46,86.7864 1833.71,86.7006 1833.95,86.6297 1834.19,86.5709 1834.43,86.5218 1834.68,86.4808 1834.92,86.4465 \n",
       "  1835.16,86.4179 1835.4,86.3944 1835.65,86.3753 1835.89,86.3602 1836.13,86.3489 1836.37,86.3411 1836.61,86.3367 1836.86,86.3357 1837.1,86.338 1837.34,86.3439 \n",
       "  1837.58,86.3533 1837.83,86.3665 1838.07,86.3837 1838.31,86.4053 1838.55,86.4316 1838.79,86.4631 1839.04,86.5004 1839.28,86.5441 1839.52,86.595 1839.76,86.6542 \n",
       "  1840.01,86.7228 1840.25,86.8023 1840.49,86.8946 1840.73,87.002 1840.97,87.1274 1841.22,87.2748 1841.46,87.4489 1841.7,87.6563 1841.94,87.9051 1842.19,88.2062 \n",
       "  1842.43,88.5736 1842.67,89.0252 1842.91,89.5842 1843.15,90.2799 1843.4,91.1493 1843.64,92.2383 1843.88,93.6033 1844.12,95.3126 1844.37,97.4474 1844.61,100.103 \n",
       "  1844.85,103.387 1845.09,107.423 1845.33,112.342 1845.58,118.286 1845.82,125.397 1846.06,133.815 1846.3,143.667 1846.55,155.06 1846.79,168.067 1847.03,182.716 \n",
       "  1847.27,198.983 1847.51,216.777 1847.76,235.933 1848,256.211 1848.24,277.288 1848.48,298.771 1848.73,320.197 1848.97,341.053 1849.21,360.796 1849.45,378.869 \n",
       "  1849.69,394.736 1849.94,407.902 1850.18,417.94 1850.42,424.518 1850.66,427.413 1850.91,426.526 1851.15,421.887 1851.39,413.655 1851.63,402.106 1851.88,387.618 \n",
       "  1852.12,370.654 1852.36,351.731 1852.6,331.398 1852.84,310.209 1853.09,288.696 1853.33,267.35 1853.57,246.603 1853.81,226.816 1854.06,208.273 1854.3,191.179 \n",
       "  1854.54,175.662 1854.78,161.783 1855.02,149.54 1855.27,138.88 1855.51,129.716 1855.75,121.928 1855.99,115.383 1856.24,109.939 1856.48,105.453 1856.72,101.788 \n",
       "  1856.96,98.8151 1857.2,96.4198 1857.45,94.4993 1857.69,92.9653 1857.93,91.7427 1858.17,90.769 1858.42,89.993 1858.66,89.3733 1858.9,88.8766 1859.14,88.4769 \n",
       "  1859.38,88.1536 1859.63,87.8909 1859.87,87.6764 1860.11,87.5009 1860.35,87.3571 1860.6,87.2396 1860.84,87.1444 1861.08,87.0686 1861.32,87.0098 1861.56,86.9669 \n",
       "  1861.81,86.939 1862.05,86.9261 1862.29,86.9283 1862.53,86.9469 1862.78,86.9833 1863.02,87.0395 1863.26,87.1184 1863.5,87.2236 1863.74,87.3597 1863.99,87.5337 \n",
       "  1864.23,87.7568 1864.47,88.0479 1864.71,88.4398 1864.96,88.9885 1865.2,89.7842 1865.44,90.963 1865.68,92.7133 1865.92,95.2697 1866.17,98.8859 1866.41,103.781 \n",
       "  1866.65,110.063 1866.89,117.64 1867.14,126.154 1867.38,134.954 1867.62,143.161 1867.86,149.796 1868.1,153.973 1868.35,155.096 1868.59,152.999 1868.83,147.99 \n",
       "  1869.07,140.772 1869.32,132.28 1869.56,123.482 1869.8,115.199 1870.04,107.993 1870.29,102.136 1870.53,97.6494 1870.77,94.3828 1871.01,92.0989 1871.25,90.5453 \n",
       "  1871.5,89.4998 1871.74,88.7902 1871.98,88.2953 1872.22,87.9367 1872.47,87.6667 1872.71,87.4574 1872.95,87.2928 1873.19,87.1634 1873.43,87.063 1873.68,86.9872 \n",
       "  1873.92,86.9328 1874.16,86.8972 1874.4,86.8783 1874.65,86.8746 1874.89,86.8854 1875.13,86.91 1875.37,86.9485 1875.61,87.0014 1875.86,87.0695 1876.1,87.1542 \n",
       "  1876.34,87.2574 1876.58,87.3817 1876.83,87.5302 1877.07,87.7073 1877.31,87.9184 1877.55,88.1706 1877.79,88.4729 1878.04,88.8373 1878.28,89.279 1878.52,89.8181 \n",
       "  1878.76,90.4801 1879.01,91.2977 1879.25,92.3128 1879.49,93.5776 1879.73,95.1576 1879.97,97.1328 1880.22,99.6004 1880.46,102.676 1880.7,106.496 1880.94,111.215 \n",
       "  1881.19,117.007 1881.43,124.065 1881.67,132.591 1881.91,142.794 1882.15,154.877 1882.4,169.033 1882.64,185.422 1882.88,204.17 1883.12,225.347 1883.37,248.966 \n",
       "  1883.61,274.977 1883.85,303.271 1884.09,333.691 1884.33,366.041 1884.58,400.092 1884.82,435.566 1885.06,472.095 1885.3,509.155 1885.55,545.98 1885.79,581.497 \n",
       "  1886.03,614.314 1886.27,642.804 1886.51,665.297 1886.76,680.354 1887,687.06 1887.24,685.258 1887.48,675.646 1887.73,659.707 1887.97,639.482 1888.21,617.259 \n",
       "  1888.45,595.263 1888.7,575.407 1888.94,559.155 1889.18,547.487 1889.42,540.934 1889.66,539.655 1889.91,543.506 1890.15,552.096 1890.39,564.823 1890.63,580.9 \n",
       "  1890.88,599.377 1891.12,619.177 1891.36,639.133 1891.6,658.045 1891.84,674.738 1892.09,688.123 1892.33,697.253 1892.57,701.375 1892.81,699.96 1893.06,692.733 \n",
       "  1893.3,679.671 1893.54,660.999 1893.78,637.168 1894.02,608.816 1894.27,576.727 1894.51,541.784 1894.75,504.919 1894.99,467.061 1895.24,429.099 1895.48,391.841 \n",
       "  1895.72,355.986 1895.96,322.109 1896.2,290.651 1896.45,261.916 1896.69,236.08 1896.93,213.205 1897.17,193.25 1897.42,176.097 1897.66,161.565 1897.9,149.432 \n",
       "  1898.14,139.449 1898.38,131.355 1898.63,124.892 1898.87,119.809 1899.11,115.872 1899.35,112.868 1899.6,110.605 1899.84,108.915 1900.08,107.655 1900.32,106.702 \n",
       "  1900.56,105.954 1900.81,105.332 1901.05,104.772 1901.29,104.227 1901.53,103.666 1901.78,103.07 1902.02,102.432 1902.26,101.756 1902.5,101.054 1902.74,100.346 \n",
       "  1902.99,99.6578 1903.23,99.0219 1903.47,98.475 1903.71,98.0585 1903.96,97.8188 1904.2,97.8068 1904.44,98.0793 1904.68,98.6989 1904.92,99.7348 1905.17,101.263 \n",
       "  1905.41,103.367 1905.65,106.136 1905.89,109.664 1906.14,114.045 1906.38,119.373 1906.62,125.735 1906.86,133.204 1907.11,141.831 1907.35,151.64 1907.59,162.621 \n",
       "  1907.83,174.717 1908.07,187.824 1908.32,201.785 1908.56,216.387 1908.8,231.363 1909.04,246.4 1909.29,261.147 1909.53,275.224 1909.77,288.242 1910.01,299.818 \n",
       "  1910.25,309.594 1910.5,317.258 1910.74,322.556 1910.98,325.309 1911.22,325.423 1911.47,322.897 1911.71,317.815 1911.95,310.35 1912.19,300.75 1912.43,289.324 \n",
       "  1912.68,276.427 1912.92,262.44 1913.16,247.752 1913.4,232.743 1913.65,217.767 1913.89,203.14 1914.13,189.131 1914.37,175.958 1914.61,163.78 1914.86,152.706 \n",
       "  1915.1,142.795 1915.34,134.061 1915.58,126.483 1915.83,120.012 1916.07,114.579 1916.31,110.105 1916.55,106.509 1916.79,103.718 1917.04,101.682 1917.28,100.393 \n",
       "  1917.52,99.9043 1917.76,100.358 1918.01,102.004 1918.25,105.208 1918.49,110.42 1918.73,118.101 1918.97,128.596 1919.22,141.956 1919.46,157.779 1919.7,175.094 \n",
       "  1919.94,192.377 1920.19,207.727 1920.43,219.194 1920.67,225.178 1920.91,224.794 1921.15,218.086 1921.4,206.016 1921.64,190.228 1921.88,172.679 1922.12,155.236 \n",
       "  1922.37,139.361 1922.61,125.954 1922.85,115.35 1923.09,107.434 1923.33,101.817 1923.58,97.996 1923.82,95.4826 1924.06,93.8699 1924.3,92.8571 1924.55,92.2422 \n",
       "  1924.79,91.9005 1925.03,91.7623 1925.27,91.7924 1925.52,91.978 1925.76,92.3199 1926,92.8298 1926.24,93.5288 1926.48,94.4487 1926.73,95.6342 1926.97,97.1455 \n",
       "  1927.21,99.0627 1927.45,101.489 1927.7,104.558 1927.94,108.436 1928.18,113.33 1928.42,119.491 1928.66,127.221 1928.91,136.874 1929.15,148.857 1929.39,163.625 \n",
       "  1929.63,181.674 1929.88,203.529 1930.12,229.715 1930.36,260.726 1930.6,296.985 1930.84,338.787 1931.09,386.242 1931.33,439.217 1931.57,497.287 1931.81,559.719 \n",
       "  1932.06,625.478 1932.3,693.284 1932.54,761.694 1932.78,829.21 1933.02,894.395 1933.27,955.965 1933.51,1012.86 1933.75,1064.29 1933.99,1109.7 1934.24,1148.81 \n",
       "  1934.48,1181.54 1934.72,1207.94 1934.96,1228.23 1935.2,1242.67 1935.45,1251.56 1935.69,1255.25 1935.93,1254.06 1936.17,1248.35 1936.42,1238.53 1936.66,1225.1 \n",
       "  1936.9,1208.69 1937.14,1190.07 1937.38,1170.23 1937.63,1150.29 1937.87,1131.52 1938.11,1115.22 1938.35,1102.6 1938.6,1094.72 1938.84,1092.31 1939.08,1095.69 \n",
       "  1939.32,1104.69 1939.56,1118.65 1939.81,1136.42 1940.05,1156.44 1940.29,1176.87 1940.53,1195.71 1940.78,1210.96 1941.02,1220.78 1941.26,1223.62 1941.5,1218.32 \n",
       "  1941.74,1204.22 1941.99,1181.17 1942.23,1149.59 1942.47,1110.29 1942.71,1064.43 1942.96,1013.26 1943.2,958.025 1943.44,899.772 1943.68,839.38 1943.93,777.609 \n",
       "  1944.17,715.247 1944.41,653.264 1944.65,592.899 1944.89,535.649 1945.14,483.148 1945.38,436.979 1945.62,398.486 1945.86,368.633 1946.11,347.951 1946.35,336.565 \n",
       "  1946.59,334.274 1946.83,340.656 1947.07,355.15 1947.32,377.118 1947.56,405.862 1947.8,440.62 1948.04,480.547 1948.29,524.693 1948.53,571.984 1948.77,621.224 \n",
       "  1949.01,671.099 1949.25,720.208 1949.5,767.099 1949.74,810.321 1949.98,848.481 1950.22,880.307 1950.47,904.706 1950.71,920.82 1950.95,928.072 1951.19,926.196 \n",
       "  1951.43,915.256 1951.68,895.646 1951.92,868.08 1952.16,833.567 1952.4,793.381 1952.65,749.01 1952.89,702.105 1953.13,654.385 1953.37,607.535 1953.61,563.048 \n",
       "  1953.86,522.067 1954.1,485.224 1954.34,452.537 1954.58,423.412 1954.83,396.774 1955.07,371.317 1955.31,345.833 1955.55,319.505 1955.79,292.111 1956.04,264.048 \n",
       "  1956.28,236.195 1956.52,209.656 1956.76,185.484 1957.01,164.452 1957.25,146.937 1957.49,132.921 1957.73,122.082 1957.97,113.913 1958.22,107.855 1958.46,103.384 \n",
       "  1958.7,100.064 1958.94,97.56 1959.19,95.6321 1959.43,94.115 1959.67,92.8976 1959.91,91.9052 1960.15,91.0868 1960.4,90.4056 1960.64,89.8348 1960.88,89.3537 \n",
       "  1961.12,88.9458 1961.37,88.5983 1961.61,88.3008 1961.85,88.0448 1962.09,87.8236 1962.34,87.6318 1962.58,87.4649 1962.82,87.3193 1963.06,87.1922 1963.3,87.081 \n",
       "  1963.55,86.9838 1963.79,86.8989 1964.03,86.8248 1964.27,86.7602 1964.52,86.704 1964.76,86.6553 1965,86.6131 1965.24,86.5767 1965.48,86.5455 1965.73,86.5187 \n",
       "  1965.97,86.4959 1966.21,86.4765 1966.45,86.4601 1966.7,86.4463 1966.94,86.4348 1967.18,86.4253 1967.42,86.4175 1967.66,86.4112 1967.91,86.4062 1968.15,86.4024 \n",
       "  1968.39,86.3995 1968.63,86.3976 1968.88,86.3965 1969.12,86.3963 1969.36,86.3967 1969.6,86.398 1969.84,86.4 1970.09,86.4028 1970.33,86.4066 1970.57,86.4113 \n",
       "  1970.81,86.4171 1971.06,86.4242 1971.3,86.4328 1971.54,86.443 1971.78,86.4551 1972.02,86.4694 1972.27,86.4864 1972.51,86.5062 1972.75,86.5295 1972.99,86.5566 \n",
       "  1973.24,86.5883 1973.48,86.625 1973.72,86.6676 1973.96,86.7169 1974.2,86.7738 1974.45,86.8394 1974.69,86.9149 1974.93,87.0016 1975.17,87.1013 1975.42,87.2157 \n",
       "  1975.66,87.3471 1975.9,87.4982 1976.14,87.6721 1976.38,87.8729 1976.63,88.1054 1976.87,88.3757 1977.11,88.6918 1977.35,89.0636 1977.6,89.5039 1977.84,90.0294 \n",
       "  1978.08,90.6618 1978.32,91.4287 1978.57,92.3661 1978.81,93.5201 1979.05,94.9495 1979.29,96.7283 1979.53,98.9493 1979.78,101.727 1980.02,105.202 1980.26,109.541 \n",
       "  1980.5,114.944 1980.75,121.639 1980.99,129.888 1981.23,139.978 1981.47,152.22 1981.71,166.935 1981.96,184.445 1982.2,205.051 1982.44,229.016 1982.68,256.54 \n",
       "  1982.93,287.735 1983.17,322.604 1983.41,361.016 1983.65,402.692 1983.89,447.203 1984.14,493.964 1984.38,542.257 1984.62,591.248 1984.86,640.027 1985.11,687.642 \n",
       "  1985.35,733.145 1985.59,775.63 1985.83,814.27 1986.07,848.341 1986.32,877.236 1986.56,900.47 1986.8,917.678 1987.04,928.602 1987.29,933.083 1987.53,931.053 \n",
       "  1987.77,922.532 1988.01,907.632 1988.25,886.566 1988.5,859.659 1988.74,827.362 1988.98,790.256 1989.22,749.052 1989.47,704.584 1989.71,657.783 1989.95,609.66 \n",
       "  1990.19,561.269 1990.43,513.683 1990.68,467.957 1990.92,425.096 1991.16,386.01 1991.4,351.451 1991.65,321.938 1991.89,297.663 1992.13,278.423 1992.37,263.584 \n",
       "  1992.61,252.129 1992.86,242.794 1993.1,234.277 1993.34,225.484 1993.58,215.735 1993.83,204.886 1994.07,193.308 1994.31,181.76 1994.55,171.176 1994.79,162.458 \n",
       "  1995.04,156.306 1995.28,153.148 1995.52,153.134 1995.76,156.207 1996.01,162.184 1996.25,170.834 1996.49,181.932 1996.73,195.288 1996.98,210.743 1997.22,228.166 \n",
       "  1997.46,247.44 1997.7,268.457 1997.94,291.125 1998.19,315.374 1998.43,341.179 1998.67,368.561 1998.91,397.582 1999.16,428.297 1999.4,460.67 1999.64,494.466 \n",
       "  1999.88,529.13 2000.12,563.707 2000.37,596.854 2000.61,626.954 2000.85,652.348 2001.09,671.62 2001.34,683.866 2001.58,688.859 2001.82,687.06 2002.06,679.466 \n",
       "  2002.3,667.362 2002.55,652.042 2002.79,634.597 2003.03,615.801 2003.27,596.115 2003.52,575.778 2003.76,554.93 2004,533.737 2004.24,512.475 2004.48,491.575 \n",
       "  2004.73,471.629 2004.97,453.364 2005.21,437.605 2005.45,425.226 2005.7,417.107 2005.94,414.083 2006.18,416.905 2006.42,426.199 2006.66,442.428 2006.91,465.86 \n",
       "  2007.15,496.539 2007.39,534.257 2007.63,578.541 2007.88,628.629 2008.12,683.473 2008.36,741.739 2008.6,801.831 2008.84,861.935 2009.09,920.095 2009.33,974.302 \n",
       "  2009.57,1022.61 2009.81,1063.25 2010.06,1094.74 2010.3,1115.95 2010.54,1126.15 2010.78,1125.04 2011.02,1112.73 2011.27,1089.68 2011.51,1056.71 2011.75,1014.91 \n",
       "  2011.99,965.611 2012.24,910.323 2012.48,850.662 2012.72,788.29 2012.96,724.851 2013.2,661.901 2013.45,600.862 2013.69,542.981 2013.93,489.304 2014.17,440.67 \n",
       "  2014.42,397.714 2014.66,360.886 2014.9,330.475 2015.14,306.639 2015.39,289.437 2015.63,278.856 2015.87,274.835 2016.11,277.286 2016.35,286.101 2016.6,301.158 \n",
       "  2016.84,322.308 2017.08,349.37 2017.32,382.104 2017.57,420.19 2017.81,463.201 2018.05,510.582 2018.29,561.626 2018.53,615.468 2018.78,671.085 2019.02,727.305 \n",
       "  2019.26,782.837 2019.5,836.303 2019.75,886.283 2019.99,931.363 2020.23,970.196 2020.47,1001.55 2020.71,1024.38 2020.96,1037.87 2021.2,1041.49 2021.44,1035.02 \n",
       "  2021.68,1018.59 2021.93,992.659 2022.17,957.995 2022.41,915.651 2022.65,866.894 2022.89,813.146 2023.14,755.907 2023.38,696.684 2023.62,636.919 2023.86,577.937 \n",
       "  2024.11,520.894 2024.35,466.748 2024.59,416.243 2024.83,369.904 2025.07,328.049 2025.32,290.809 2025.56,258.155 2025.8,229.926 2026.04,205.865 2026.29,185.652 \n",
       "  2026.53,168.929 2026.77,155.329 2027.01,144.498 2027.25,136.111 2027.5,129.888 2027.74,125.601 2027.98,123.082 2028.22,122.229 2028.47,123.007 2028.71,125.45 \n",
       "  2028.95,129.659 2029.19,135.803 2029.43,144.114 2029.68,154.88 2029.92,168.443 2030.16,185.18 2030.4,205.499 2030.65,229.815 2030.89,258.53 2031.13,292.007 \n",
       "  2031.37,330.529 2031.61,374.255 2031.86,423.167 2032.1,477.01 2032.34,535.245 2032.58,597.008 2032.83,661.12 2033.07,726.122 2033.31,790.358 2033.55,852.085 \n",
       "  2033.8,909.59 2034.04,961.292 2034.28,1005.82 2034.52,1042.05 2034.76,1069.11 2035.01,1086.42 2035.25,1093.65 2035.49,1090.76 2035.73,1078.04 2035.98,1056.1 \n",
       "  2036.22,1025.88 2036.46,988.663 2036.7,945.996 2036.94,899.653 2037.19,851.545 2037.43,803.626 2037.67,757.804 2037.91,715.855 2038.16,679.337 2038.4,649.535 \n",
       "  2038.64,627.402 2038.88,613.536 2039.12,608.16 2039.37,611.124 2039.61,621.931 2039.85,639.762 2040.09,663.53 2040.34,691.936 2040.58,723.536 2040.82,756.815 \n",
       "  2041.06,790.262 2041.3,822.451 2041.55,852.111 2041.79,878.192 2042.03,899.921 2042.27,916.836 2042.52,928.803 2042.76,936.008 2043,938.927 2043.24,938.264 \n",
       "  2043.48,934.885 2043.73,929.718 2043.97,923.665 2044.21,917.512 2044.45,911.849 2044.7,907.019 2044.94,903.098 2045.18,899.896 2045.42,896.994 2045.66,893.805 \n",
       "  2045.91,889.644 2046.15,883.808 2046.39,875.652 2046.63,864.66 2046.88,850.502 2047.12,833.091 2047.36,812.619 2047.6,789.584 2047.84,764.789 2048.09,739.318 \n",
       "  2048.33,714.461 2048.57,691.626 2048.81,672.211 2049.06,657.485 2049.3,648.468 2049.54,645.845 2049.78,649.914 2050.02,660.564 2050.27,677.285 2050.51,699.207 \n",
       "  2050.75,725.152 2050.99,753.706 2051.24,783.29 2051.48,812.25 2051.72,838.942 2051.96,861.812 2052.21,879.479 2052.45,890.802 2052.69,894.931 2052.93,891.343 \n",
       "  2053.17,879.858 2053.42,860.639 2053.66,834.162 2053.9,801.185 2054.14,762.692 2054.39,719.833 2054.63,673.86 2054.87,626.059 2055.11,577.692 2055.35,529.942 \n",
       "  2055.6,483.866 2055.84,440.37 2056.08,400.179 2056.32,363.837 2056.57,331.704 2056.81,303.965 2057.05,280.647 2057.29,261.642 2057.53,246.723 2057.78,235.572 \n",
       "  2058.02,227.8 2058.26,222.966 2058.5,220.598 2058.75,220.206 2058.99,221.301 2059.23,223.402 2059.47,226.054 2059.71,228.834 2059.96,231.363 2060.2,233.313 \n",
       "  2060.44,234.414 2060.68,234.459 2060.93,233.309 2061.17,230.889 2061.41,227.191 2061.65,222.265 2061.89,216.217 2062.14,209.194 2062.38,201.376 2062.62,192.966 \n",
       "  2062.86,184.176 2063.11,175.217 2063.35,166.288 2063.59,157.571 2063.83,149.221 2064.07,141.365 2064.32,134.099 2064.56,127.487 2064.8,121.567 2065.04,116.348 \n",
       "  2065.29,111.819 2065.53,107.955 2065.77,104.715 2066.01,102.052 2066.25,99.9172 2066.5,98.2611 2066.74,97.0392 2066.98,96.2138 2067.22,95.7571 2067.47,95.6529 \n",
       "  2067.71,95.8992 2067.95,96.51 2068.19,97.5173 2068.43,98.974 2068.68,100.956 2068.92,103.566 2069.16,106.934 2069.4,111.225 2069.65,116.638 2069.89,123.413 \n",
       "  2070.13,131.837 2070.37,142.244 2070.62,155.024 2070.86,170.615 2071.1,189.491 2071.34,212.134 2071.58,238.979 2071.83,270.341 2072.07,306.321 2072.31,346.727 \n",
       "  2072.55,391.019 2072.8,438.302 2073.04,487.404 2073.28,536.996 2073.52,585.75 2073.76,632.484 2074.01,676.256 2074.25,716.38 2074.49,752.387 2074.73,783.941 \n",
       "  2074.98,810.766 2075.22,832.596 2075.46,849.164 2075.7,860.21 2075.94,865.49 2076.19,864.759 2076.43,857.756 2076.67,844.18 2076.91,823.724 2077.16,796.162 \n",
       "  2077.4,761.486 2077.64,720.071 2077.88,672.776 2078.12,620.974 2078.37,566.437 2078.61,511.147 2078.85,457.036 2079.09,405.761 2079.34,358.549 2079.58,316.136 \n",
       "  2079.82,278.806 2080.06,246.485 2080.3,218.858 2080.55,195.48 2080.79,175.858 2081.03,159.504 2081.27,145.963 2081.52,134.823 2081.76,125.716 2082,118.314 \n",
       "  2082.24,112.331 2082.48,107.519 2082.73,103.662 2082.97,100.577 2083.21,98.1118 2083.45,96.1401 2083.7,94.5589 2083.94,93.2854 2084.18,92.2537 2084.42,91.4121 \n",
       "  2084.66,90.72 2084.91,90.1461 2085.15,89.6662 2085.39,89.2615 2085.63,88.9178 2085.88,88.6238 2086.12,88.371 2086.36,88.1526 2086.6,87.9633 2086.84,87.7988 \n",
       "  2087.09,87.6555 2087.33,87.5308 2087.57,87.4221 2087.81,87.3275 2088.06,87.2452 2088.3,87.1737 2088.54,87.1118 2088.78,87.0583 2089.03,87.0121 2089.27,86.9725 \n",
       "  2089.51,86.9385 2089.75,86.9094 2089.99,86.8847 2090.24,86.8638 2090.48,86.8461 2090.72,86.8313 2090.96,86.8189 2091.21,86.8087 2091.45,86.8002 2091.69,86.7932 \n",
       "  2091.93,86.7876 2092.17,86.7829 2092.42,86.7794 2092.66,86.7766 2092.9,86.7745 2093.14,86.7729 2093.39,86.7718 2093.63,86.771 2093.87,86.7706 2094.11,86.7705 \n",
       "  2094.35,86.7705 2094.6,86.7708 2094.84,86.7712 2095.08,86.7718 2095.32,86.7724 2095.57,86.7732 2095.81,86.7741 2096.05,86.775 2096.29,86.776 2096.53,86.7772 \n",
       "  2096.78,86.7784 2097.02,86.7797 2097.26,86.7812 2097.5,86.7828 2097.75,86.7846 2097.99,86.7865 2098.23,86.7888 2098.47,86.7913 2098.71,86.7942 2098.96,86.7975 \n",
       "  2099.2,86.8014 2099.44,86.8058 2099.68,86.811 2099.93,86.817 2100.17,86.824 2100.41,86.8323 2100.65,86.8419 2100.89,86.8532 2101.14,86.8664 2101.38,86.8818 \n",
       "  2101.62,86.8998 2101.86,86.9208 2102.11,86.9452 2102.35,86.9736 2102.59,87.0064 2102.83,87.0444 2103.07,87.0883 2103.32,87.1389 2103.56,87.1971 2103.8,87.264 \n",
       "  2104.04,87.3408 2104.29,87.4288 2104.53,87.5297 2104.77,87.6454 2105.01,87.778 2105.26,87.9304 2105.5,88.1057 2105.74,88.3081 2105.98,88.5426 2106.22,88.8158 \n",
       "  2106.47,89.1359 2106.71,89.5136 2106.95,89.9626 2107.19,90.5009 2107.44,91.1518 2107.68,91.9454 2107.92,92.9206 2108.16,94.127 2108.4,95.6282 2108.65,97.5036 \n",
       "  2108.89,99.8524 2109.13,102.796 2109.37,106.483 2109.62,111.087 2109.86,116.814 2110.1,123.898 2110.34,132.603 2110.58,143.215 2110.83,156.038 2111.07,171.382 \n",
       "  2111.31,189.549 2111.55,210.816 2111.8,235.411 2112.04,263.496 2112.28,295.135 2112.52,330.274 2112.76,368.72 2113.01,410.12 2113.25,453.955 2113.49,499.533 \n",
       "  2113.73,546.003 2113.98,592.367 2114.22,637.519 2114.46,680.282 2114.7,719.457 2114.94,753.88 2115.19,782.48 2115.43,804.336 2115.67,818.723 2115.91,825.157 \n",
       "  2116.16,823.424 2116.4,813.585 2116.64,795.979 2116.88,771.204 2117.12,740.078 2117.37,703.598 2117.61,662.888 2117.85,619.136 2118.09,573.545 2118.34,527.271 \n",
       "  2118.58,481.384 2118.82,436.828 2119.06,394.398 2119.3,354.723 2119.55,318.267 2119.79,285.333 2120.03,256.081 2120.27,230.548 2120.52,208.674 2120.76,190.328 \n",
       "  2121,175.337 2121.24,163.513 2121.48,154.671 2121.73,148.655 2121.97,145.352 2122.21,144.7 2122.45,146.701 2122.7,151.42 2122.94,158.984 2123.18,169.576 \n",
       "  2123.42,183.42 2123.67,200.771 2123.91,221.888 2124.15,247.012 2124.39,276.335 2124.63,309.974 2124.88,347.934 2125.12,390.08 2125.36,436.116 2125.6,485.556 \n",
       "  2125.85,537.723 2126.09,591.742 2126.33,646.558 2126.57,700.963 2126.81,753.634 2127.06,803.188 2127.3,848.245 2127.54,887.496 2127.78,919.773 2128.03,944.119 \n",
       "  2128.27,959.842 2128.51,966.564 2128.75,964.247 2128.99,953.204 2129.24,934.079 2129.48,907.818 2129.72,875.612 2129.96,838.83 2130.21,798.937 2130.45,757.413 \n",
       "  2130.69,715.678 2130.93,675.012 2131.17,636.511 2131.42,601.041 2131.66,569.225 2131.9,541.437 2132.14,517.808 2132.39,498.24 2132.63,482.415 2132.87,469.799 \n",
       "  2133.11,459.661 2133.35,451.097 2133.6,443.088 2133.84,434.595 2134.08,424.674 2134.32,412.602 2134.57,397.977 2134.81,380.763 2135.05,361.275 2135.29,340.092 \n",
       "  2135.53,317.933 2135.78,295.537 2136.02,273.559 2136.26,252.505 2136.5,232.726 2136.75,214.428 2136.99,197.711 2137.23,182.6 2137.47,169.081 2137.71,157.109 \n",
       "  2137.96,146.627 2138.2,137.566 2138.44,129.844 2138.68,123.374 2138.93,118.065 2139.17,113.828 2139.41,110.578 2139.65,108.246 2139.89,106.78 2140.14,106.149 \n",
       "  2140.38,106.352 2140.62,107.418 2140.86,109.413 2141.11,112.436 2141.35,116.626 2141.59,122.161 2141.83,129.256 2142.08,138.159 2142.32,149.144 2142.56,162.506 \n",
       "  2142.8,178.542 2143.04,197.543 2143.29,219.767 2143.53,245.42 2143.77,274.632 2144.01,307.433 2144.26,343.723 2144.5,383.259 2144.74,425.636 2144.98,470.274 \n",
       "  2145.22,516.428 2145.47,563.191 2145.71,609.524 2145.95,654.286 2146.19,696.28 2146.44,734.302 2146.68,767.205 2146.92,793.949 2147.16,813.662 2147.4,825.685 \n",
       "  2147.65,829.61 2147.89,825.302 2148.13,812.909 2148.37,792.852 2148.62,765.803 2148.86,732.642 2149.1,694.415 2149.34,652.275 2149.58,607.426 2149.83,561.063 \n",
       "  2150.07,514.325 2150.31,468.245 2150.55,423.722 2150.8,381.495 2151.04,342.134 2151.28,306.037 2151.52,273.44 2151.76,244.436 2152.01,218.988 2152.25,196.963 \n",
       "  2152.49,178.149 2152.73,162.285 2152.98,149.077 2153.22,138.224 2153.46,129.427 2153.7,122.405 2153.94,116.904 2154.19,112.7 2154.43,109.605 2154.67,107.474 \n",
       "  2154.91,106.204 2155.16,105.743 2155.4,106.103 2155.64,107.373 2155.88,109.736 2156.12,113.479 2156.37,118.995 2156.61,126.754 2156.85,137.245 2157.09,150.874 \n",
       "  2157.34,167.845 2157.58,188.059 2157.82,211.052 2158.06,236.042 2158.3,262.073 2158.55,288.253 2158.79,314.011 2159.03,339.298 2159.27,364.66 2159.52,391.141 \n",
       "  2159.76,420.058 2160,452.695 2160.24,490.014 2160.49,532.454 2160.73,579.842 2160.97,631.429 2161.21,685.999 2161.45,742.015 2161.7,797.773 2161.94,851.533 \n",
       "  2162.18,901.62 2162.42,946.513 2162.67,984.916 2162.91,1015.81 2163.15,1038.52 2163.39,1052.71 2163.63,1058.42 2163.88,1056.07 2164.12,1046.39 2164.36,1030.36 \n",
       "  2164.6,1009.15 2164.85,984.023 2165.09,956.215 2165.33,926.86 2165.57,896.912 2165.81,867.088 2166.06,837.845 2166.3,809.378 2166.54,781.652 2166.78,754.445 \n",
       "  2167.03,727.415 2167.27,700.162 2167.51,672.299 2167.75,643.505 2167.99,613.567 2168.24,582.405 2168.48,550.083 2168.72,516.798 2168.96,482.863 2169.21,448.675 \n",
       "  2169.45,414.684 2169.69,381.355 2169.93,349.141 2170.17,318.451 2170.42,289.632 2170.66,262.955 2170.9,238.609 2171.14,216.704 2171.39,197.277 2171.63,180.303 \n",
       "  2171.87,165.714 2172.11,153.414 2172.35,143.293 2172.6,135.246 2172.84,129.172 2173.08,124.972 2173.32,122.534 2173.57,121.713 2173.81,122.312 2174.05,124.076 \n",
       "  2174.29,126.711 2174.53,129.918 2174.78,133.452 2175.02,137.187 2175.26,141.155 2175.5,145.568 2175.75,150.789 2175.99,157.278 2176.23,165.524 2176.47,175.968 \n",
       "  2176.71,188.954 2176.96,204.698 2177.2,223.279 2177.44,244.648 2177.68,268.635 2177.93,294.963 2178.17,323.252 2178.41,353.024 2178.65,383.708 2178.9,414.643 \n",
       "  2179.14,445.098 2179.38,474.29 2179.62,501.416 2179.86,525.684 2180.11,546.354 2180.35,562.774 2180.59,574.418 2180.83,580.912 2181.08,582.055 2181.32,577.827 \n",
       "  2181.56,568.39 2181.8,554.067 2182.04,535.33 2182.29,512.765 2182.53,487.048 2182.77,458.914 2183.01,429.132 2183.26,398.475 2183.5,367.696 2183.74,337.499 \n",
       "  2183.98,308.514 2184.22,281.275 2184.47,256.208 2184.71,233.626 2184.95,213.736 2185.19,196.653 2185.44,182.42 2185.68,171.037 2185.92,162.482 2186.16,156.732 \n",
       "  2186.4,153.785 2186.65,153.67 2186.89,156.46 2187.13,162.27 2187.37,171.264 2187.62,183.639 2187.86,199.62 2188.1,219.438 2188.34,243.31 2188.58,271.41 \n",
       "  2188.83,303.841 2189.07,340.604 2189.31,381.569 2189.55,426.446 2189.8,474.765 2190.04,525.868 2190.28,578.9 2190.52,632.827 2190.76,686.456 2191.01,738.473 \n",
       "  2191.25,787.494 2191.49,832.123 2191.73,871.017 2191.98,902.954 2192.22,926.896 2192.46,942.046 2192.7,947.894 2192.94,944.245 2193.19,931.231 2193.43,909.304 \n",
       "  2193.67,879.207 2193.91,841.941 2194.16,798.7 2194.4,750.817 2194.64,699.694 2194.88,646.738 2195.12,593.299 2195.37,540.622 2195.61,489.809 2195.85,441.792 \n",
       "  2196.09,397.321 2196.34,356.969 2196.58,321.139 2196.82,290.093 2197.06,263.972 2197.31,242.838 2197.55,226.694 2197.79,215.526 2198.03,209.322 2198.27,208.093 \n",
       "  2198.52,211.888 2198.76,220.793 2199,234.932 2199.24,254.444 2199.49,279.463 2199.73,310.089 2199.97,346.347 2200.21,388.152 2200.45,435.267 2200.7,487.275 \n",
       "  2200.94,543.55 2201.18,603.254 2201.42,665.335 2201.67,728.558 2201.91,791.548 2202.15,852.846 2202.39,910.98 2202.63,964.544 2202.88,1012.27 2203.12,1053.08 \n",
       "  2203.36,1086.16 2203.6,1110.96 2203.85,1127.18 2204.09,1134.82 2204.33,1134.05 2204.57,1125.25 2204.81,1108.88 2205.06,1085.51 2205.3,1055.74 2205.54,1020.2 \n",
       "  2205.78,979.545 2206.03,934.429 2206.27,885.554 2206.51,833.659 2206.75,779.528 2206.99,723.988 2207.24,667.893 2207.48,612.105 2207.72,557.463 2207.96,504.754 \n",
       "  2208.21,454.686 2208.45,407.863 2208.69,364.773 2208.93,325.79 2209.17,291.167 2209.42,261.046 2209.66,235.456 2209.9,214.297 2210.14,197.328 2210.39,184.141 \n",
       "  2210.63,174.159 2210.87,166.655 2211.11,160.813 2211.35,155.815 2211.6,150.959 2211.84,145.75 2212.08,139.964 2212.32,133.643 2212.57,127.037 2212.81,120.509 \n",
       "  2213.05,114.428 2213.29,109.086 2213.53,104.649 2213.78,101.155 2214.02,98.539 2214.26,96.6743 2214.5,95.4132 2214.75,94.6178 2214.99,94.1774 2215.23,94.0144 \n",
       "  2215.47,94.0826 2215.72,94.3627 2215.96,94.8578 2216.2,95.5904 2216.44,96.6038 2216.68,97.9663 2216.93,99.7796 2217.17,102.191 2217.41,105.404 2217.65,109.693 \n",
       "  2217.9,115.4 2218.14,122.923 2218.38,132.673 2218.62,145.017 2218.86,160.203 2219.11,178.289 2219.35,199.107 2219.59,222.288 2219.83,247.347 2220.08,273.814 \n",
       "  2220.32,301.393 2220.56,330.059 2220.8,360.096 2221.04,392.022 2221.29,426.439 2221.53,463.842 2221.77,504.446 2222.01,548.074 2222.26,594.115 2222.5,641.573 \n",
       "  2222.74,689.15 2222.98,735.37 2223.22,778.689 2223.47,817.604 2223.71,850.733 2223.95,876.884 2224.19,895.109 2224.44,904.739 2224.68,905.411 2224.92,897.081 \n",
       "  2225.16,880.021 2225.4,854.798 2225.65,822.241 2225.89,783.394 2226.13,739.459 2226.37,691.733 2226.62,641.544 2226.86,590.19 2227.1,538.886 2227.34,488.718 \n",
       "  2227.58,440.613 2227.83,395.318 2228.07,353.391 2228.31,315.208 2228.55,280.975 2228.8,250.747 2229.04,224.456 2229.28,201.938 2229.52,182.96 2229.76,167.247 \n",
       "  2230.01,154.506 2230.25,144.449 2230.49,136.802 2230.73,131.323 2230.98,127.807 2231.22,126.089 2231.46,126.044 2231.7,127.586 2231.94,130.661 2232.19,135.24 \n",
       "  2232.43,141.31 2232.67,148.866 2232.91,157.9 2233.16,168.391 2233.4,180.298 2233.64,193.552 2233.88,208.047 2234.13,223.646 2234.37,240.174 2234.61,257.424 \n",
       "  2234.85,275.163 2235.09,293.142 2235.34,311.108 2235.58,328.813 2235.82,346.028 2236.06,362.551 2236.31,378.216 2236.55,392.897 2236.79,406.503 2237.03,418.979 \n",
       "  2237.27,430.289 2237.52,440.412 2237.76,449.323 2238,456.989 2238.24,463.35 2238.49,468.326 2238.73,471.812 2238.97,473.69 2239.21,473.842 2239.45,472.167 \n",
       "  2239.7,468.609 2239.94,463.172 2240.18,455.95 2240.42,447.137 2240.67,437.046 2240.91,426.109 2241.15,414.88 2241.39,404.023 2241.63,394.297 2241.88,386.531 \n",
       "  2242.12,381.595 2242.36,380.367 2242.6,383.692 2242.85,392.339 2243.09,406.961 2243.33,428.048 2243.57,455.887 2243.81,490.527 2244.06,531.747 2244.3,579.044 \n",
       "  2244.54,631.626 2244.78,688.428 2245.03,748.141 2245.27,809.263 2245.51,870.156 2245.75,929.123 2245.99,984.487 2246.24,1034.67 2246.48,1078.25 2246.72,1114.04 \n",
       "  2246.96,1141.12 2247.21,1158.86 2247.45,1166.93 2247.69,1165.29 2247.93,1154.17 2248.17,1134.07 2248.42,1105.72 2248.66,1070.05 2248.9,1028.24 2249.14,981.651 \n",
       "  2249.39,931.878 2249.63,880.673 2249.87,829.898 2250.11,781.397 2250.36,736.82 2250.6,697.417 2250.84,663.848 2251.08,636.083 2251.32,613.435 2251.57,594.769 \n",
       "  2251.81,578.834 2252.05,564.645 2252.29,551.785 2252.54,540.54 2252.78,531.81 2253.02,526.84 2253.26,526.85 2253.5,532.704 2253.75,544.689 2253.99,562.458 \n",
       "  2254.23,585.12 2254.47,611.424 2254.72,639.966 2254.96,669.377 2255.2,698.451 2255.44,726.214 2255.68,751.947 2255.93,775.166 2256.17,795.587 2256.41,813.069 \n",
       "  2256.65,827.569 2256.9,839.083 2257.14,847.6 2257.38,853.072 2257.62,855.386 2257.86,854.361 2258.11,849.763 2258.35,841.328 2258.59,828.804 2258.83,811.991 \n",
       "  2259.08,790.784 2259.32,765.213 2259.56,735.461 2259.8,701.878 2260.04,664.97 2260.29,625.383 2260.53,583.862 2260.77,541.216 2261.01,498.27 2261.26,455.82 \n",
       "  2261.5,414.599 2261.74,375.241 2261.98,338.264 2262.22,304.055 2262.47,272.87 2262.71,244.841 2262.95,219.985 2263.19,198.225 2263.44,179.409 2263.68,163.324 \n",
       "  2263.92,149.726 2264.16,138.345 2264.4,128.911 2264.65,121.157 2264.89,114.832 2265.13,109.707 2265.37,105.577 2265.62,102.261 2265.86,99.608 2266.1,97.487 \n",
       "  2266.34,95.7916 2266.58,94.4343 2266.83,93.3448 2267.07,92.4671 2267.31,91.757 2267.55,91.18 2267.8,90.7096 2268.04,90.3251 2268.28,90.0108 2268.52,89.7549 \n",
       "  2268.77,89.5485 2269.01,89.385 2269.25,89.2597 2269.49,89.1697 2269.73,89.1133 2269.98,89.0903 2270.22,89.1015 2270.46,89.1497 2270.7,89.239 2270.95,89.3755 \n",
       "  2271.19,89.5677 2271.43,89.8271 2271.67,90.1682 2271.91,90.6097 2272.16,91.1748 2272.4,91.8918 2272.64,92.7948 2272.88,93.9239 2273.13,95.3254 2273.37,97.0514 \n",
       "  2273.61,99.1595 2273.85,101.711 2274.09,104.769 2274.34,108.397 2274.58,112.653 2274.82,117.587 2275.06,123.239 2275.31,129.627 2275.55,136.753 2275.79,144.588 \n",
       "  2276.03,153.078 2276.27,162.144 2276.52,171.685 2276.76,181.59 2277,191.759 2277.24,202.128 2277.49,212.694 2277.73,223.533 2277.97,234.807 2278.21,246.724 \n",
       "  2278.45,259.457 2278.7,273.031 2278.94,287.182 2279.18,301.25 2279.42,314.15 2279.67,324.473 2279.91,330.703 2280.15,331.538 2280.39,326.2 2280.63,314.662 \n",
       "  2280.88,297.696 2281.12,276.731 2281.36,253.572 2281.6,230.052 2281.85,207.733 2282.09,187.715 2282.33,170.591 2282.57,156.509 2282.81,145.307 2283.06,136.66 \n",
       "  2283.3,130.198 2283.54,125.586 2283.78,122.562 2284.03,120.937 2284.27,120.588 2284.51,121.436 2284.75,123.429 2284.99,126.526 2285.24,130.686 2285.48,135.861 \n",
       "  2285.72,141.984 2285.96,148.97 2286.21,156.707 2286.45,165.056 2286.69,173.849 2286.93,182.89 2287.18,191.961 2287.42,200.822 2287.66,209.224 2287.9,216.917 \n",
       "  2288.14,223.661 2288.39,229.236 2288.63,233.454 2288.87,236.169 2289.11,237.283 2289.36,236.754 2289.6,234.598 2289.84,230.884 2290.08,225.734 2290.32,219.315 \n",
       "  2290.57,211.83 2290.81,203.505 2291.05,194.58 2291.29,185.295 2291.54,175.882 2291.78,166.554 2292.02,157.498 2292.26,148.87 2292.5,140.792 2292.75,133.352 \n",
       "  2292.99,126.604 2293.23,120.572 \n",
       "  \"/>\n",
       "<path clip-path=\"url(#clip510)\" d=\"\n",
       "M1566.55 1377.32 L2282.65 1377.32 L2282.65 1221.8 L1566.55 1221.8  Z\n",
       "  \" fill=\"#ffffff\" fill-rule=\"evenodd\" fill-opacity=\"1\"/>\n",
       "<polyline clip-path=\"url(#clip510)\" style=\"stroke:#000000; stroke-linecap:butt; stroke-linejoin:round; stroke-width:4; stroke-opacity:1; fill:none\" points=\"\n",
       "  1566.55,1377.32 2282.65,1377.32 2282.65,1221.8 1566.55,1221.8 1566.55,1377.32 \n",
       "  \"/>\n",
       "<polyline clip-path=\"url(#clip510)\" style=\"stroke:#009af9; stroke-linecap:butt; stroke-linejoin:round; stroke-width:4; stroke-opacity:1; fill:none\" points=\"\n",
       "  1589.92,1273.64 1730.14,1273.64 \n",
       "  \"/>\n",
       "<path clip-path=\"url(#clip510)\" d=\"M1769.89 1274.71 Q1771.4 1275.22 1772.81 1276.89 Q1774.25 1278.55 1775.68 1281.47 L1780.43 1290.92 L1775.4 1290.92 L1770.98 1282.05 Q1769.27 1278.58 1767.65 1277.44 Q1766.05 1276.31 1763.27 1276.31 L1758.18 1276.31 L1758.18 1290.92 L1753.51 1290.92 L1753.51 1256.36 L1764.06 1256.36 Q1769.99 1256.36 1772.9 1258.83 Q1775.82 1261.31 1775.82 1266.31 Q1775.82 1269.57 1774.29 1271.73 Q1772.79 1273.88 1769.89 1274.71 M1758.18 1260.2 L1758.18 1272.47 L1764.06 1272.47 Q1767.44 1272.47 1769.15 1270.92 Q1770.89 1269.34 1770.89 1266.31 Q1770.89 1263.28 1769.15 1261.75 Q1767.44 1260.2 1764.06 1260.2 L1758.18 1260.2 Z\" fill=\"#000000\" fill-rule=\"evenodd\" fill-opacity=\"1\" /><path clip-path=\"url(#clip510)\" d=\"M1797 1277.88 Q1791.84 1277.88 1789.85 1279.06 Q1787.86 1280.24 1787.86 1283.09 Q1787.86 1285.36 1789.34 1286.7 Q1790.84 1288.02 1793.41 1288.02 Q1796.95 1288.02 1799.08 1285.52 Q1801.24 1283 1801.24 1278.83 L1801.24 1277.88 L1797 1277.88 M1805.5 1276.12 L1805.5 1290.92 L1801.24 1290.92 L1801.24 1286.98 Q1799.78 1289.34 1797.6 1290.48 Q1795.43 1291.59 1792.28 1291.59 Q1788.3 1291.59 1785.94 1289.36 Q1783.6 1287.12 1783.6 1283.37 Q1783.6 1278.99 1786.51 1276.77 Q1789.45 1274.55 1795.26 1274.55 L1801.24 1274.55 L1801.24 1274.13 Q1801.24 1271.19 1799.29 1269.6 Q1797.37 1267.98 1793.88 1267.98 Q1791.65 1267.98 1789.55 1268.51 Q1787.44 1269.04 1785.5 1270.11 L1785.5 1266.17 Q1787.83 1265.27 1790.03 1264.83 Q1792.23 1264.36 1794.32 1264.36 Q1799.94 1264.36 1802.72 1267.28 Q1805.5 1270.2 1805.5 1276.12 Z\" fill=\"#000000\" fill-rule=\"evenodd\" fill-opacity=\"1\" /><path clip-path=\"url(#clip510)\" d=\"M1811.79 1264.99 L1816.05 1264.99 L1821.38 1285.22 L1826.68 1264.99 L1831.7 1264.99 L1837.02 1285.22 L1842.32 1264.99 L1846.58 1264.99 L1839.8 1290.92 L1834.78 1290.92 L1829.2 1269.67 L1823.6 1290.92 L1818.57 1290.92 L1811.79 1264.99 Z\" fill=\"#000000\" fill-rule=\"evenodd\" fill-opacity=\"1\" /><path clip-path=\"url(#clip510)\" d=\"M1884.64 1265.75 L1884.64 1269.78 Q1882.83 1268.86 1880.89 1268.39 Q1878.95 1267.93 1876.86 1267.93 Q1873.69 1267.93 1872.09 1268.9 Q1870.52 1269.87 1870.52 1271.82 Q1870.52 1273.3 1871.65 1274.16 Q1872.79 1274.99 1876.21 1275.75 L1877.67 1276.08 Q1882.21 1277.05 1884.11 1278.83 Q1886.03 1280.59 1886.03 1283.76 Q1886.03 1287.37 1883.16 1289.48 Q1880.31 1291.59 1875.31 1291.59 Q1873.23 1291.59 1870.96 1291.17 Q1868.71 1290.78 1866.21 1289.97 L1866.21 1285.57 Q1868.57 1286.79 1870.87 1287.42 Q1873.16 1288.02 1875.4 1288.02 Q1878.41 1288.02 1880.03 1287 Q1881.65 1285.96 1881.65 1284.09 Q1881.65 1282.35 1880.47 1281.42 Q1879.32 1280.5 1875.36 1279.64 L1873.88 1279.3 Q1869.92 1278.46 1868.16 1276.75 Q1866.4 1275.01 1866.4 1272 Q1866.4 1268.35 1868.99 1266.36 Q1871.58 1264.36 1876.35 1264.36 Q1878.71 1264.36 1880.8 1264.71 Q1882.88 1265.06 1884.64 1265.75 Z\" fill=\"#000000\" fill-rule=\"evenodd\" fill-opacity=\"1\" /><path clip-path=\"url(#clip510)\" d=\"M1896.93 1287.03 L1896.93 1300.78 L1892.65 1300.78 L1892.65 1264.99 L1896.93 1264.99 L1896.93 1268.92 Q1898.27 1266.61 1900.31 1265.5 Q1902.37 1264.36 1905.22 1264.36 Q1909.94 1264.36 1912.88 1268.11 Q1915.84 1271.86 1915.84 1277.98 Q1915.84 1284.09 1912.88 1287.84 Q1909.94 1291.59 1905.22 1291.59 Q1902.37 1291.59 1900.31 1290.48 Q1898.27 1289.34 1896.93 1287.03 M1911.42 1277.98 Q1911.42 1273.28 1909.48 1270.61 Q1907.56 1267.93 1904.18 1267.93 Q1900.8 1267.93 1898.85 1270.61 Q1896.93 1273.28 1896.93 1277.98 Q1896.93 1282.67 1898.85 1285.36 Q1900.8 1288.02 1904.18 1288.02 Q1907.56 1288.02 1909.48 1285.36 Q1911.42 1282.67 1911.42 1277.98 Z\" fill=\"#000000\" fill-rule=\"evenodd\" fill-opacity=\"1\" /><path clip-path=\"url(#clip510)\" d=\"M1945.08 1276.89 L1945.08 1278.97 L1925.5 1278.97 Q1925.77 1283.37 1928.13 1285.68 Q1930.52 1287.98 1934.75 1287.98 Q1937.21 1287.98 1939.5 1287.37 Q1941.82 1286.77 1944.08 1285.57 L1944.08 1289.6 Q1941.79 1290.57 1939.38 1291.08 Q1936.98 1291.59 1934.5 1291.59 Q1928.3 1291.59 1924.66 1287.98 Q1921.05 1284.36 1921.05 1278.21 Q1921.05 1271.84 1924.48 1268.11 Q1927.93 1264.36 1933.76 1264.36 Q1938.99 1264.36 1942.02 1267.74 Q1945.08 1271.1 1945.08 1276.89 M1940.82 1275.64 Q1940.77 1272.14 1938.85 1270.06 Q1936.95 1267.98 1933.81 1267.98 Q1930.24 1267.98 1928.09 1269.99 Q1925.96 1272 1925.63 1275.66 L1940.82 1275.64 Z\" fill=\"#000000\" fill-rule=\"evenodd\" fill-opacity=\"1\" /><path clip-path=\"url(#clip510)\" d=\"M1970.73 1265.98 L1970.73 1269.97 Q1968.92 1268.97 1967.09 1268.48 Q1965.29 1267.98 1963.44 1267.98 Q1959.29 1267.98 1957 1270.61 Q1954.71 1273.23 1954.71 1277.98 Q1954.71 1282.72 1957 1285.36 Q1959.29 1287.98 1963.44 1287.98 Q1965.29 1287.98 1967.09 1287.49 Q1968.92 1286.98 1970.73 1285.98 L1970.73 1289.92 Q1968.94 1290.75 1967.02 1291.17 Q1965.13 1291.59 1962.97 1291.59 Q1957.12 1291.59 1953.67 1287.91 Q1950.22 1284.23 1950.22 1277.98 Q1950.22 1271.63 1953.69 1268 Q1957.19 1264.36 1963.25 1264.36 Q1965.22 1264.36 1967.09 1264.78 Q1968.97 1265.17 1970.73 1265.98 Z\" fill=\"#000000\" fill-rule=\"evenodd\" fill-opacity=\"1\" /><path clip-path=\"url(#clip510)\" d=\"M1982.35 1257.63 L1982.35 1264.99 L1991.12 1264.99 L1991.12 1268.3 L1982.35 1268.3 L1982.35 1282.37 Q1982.35 1285.54 1983.2 1286.45 Q1984.08 1287.35 1986.75 1287.35 L1991.12 1287.35 L1991.12 1290.92 L1986.75 1290.92 Q1981.81 1290.92 1979.94 1289.09 Q1978.06 1287.23 1978.06 1282.37 L1978.06 1268.3 L1974.94 1268.3 L1974.94 1264.99 L1978.06 1264.99 L1978.06 1257.63 L1982.35 1257.63 Z\" fill=\"#000000\" fill-rule=\"evenodd\" fill-opacity=\"1\" /><path clip-path=\"url(#clip510)\" d=\"M2011.75 1268.97 Q2011.03 1268.55 2010.17 1268.37 Q2009.34 1268.16 2008.32 1268.16 Q2004.71 1268.16 2002.76 1270.52 Q2000.84 1272.86 2000.84 1277.26 L2000.84 1290.92 L1996.56 1290.92 L1996.56 1264.99 L2000.84 1264.99 L2000.84 1269.02 Q2002.19 1266.66 2004.34 1265.52 Q2006.49 1264.36 2009.57 1264.36 Q2010.01 1264.36 2010.54 1264.43 Q2011.07 1264.48 2011.72 1264.6 L2011.75 1268.97 Z\" fill=\"#000000\" fill-rule=\"evenodd\" fill-opacity=\"1\" /><path clip-path=\"url(#clip510)\" d=\"M2015.77 1280.68 L2015.77 1264.99 L2020.03 1264.99 L2020.03 1280.52 Q2020.03 1284.2 2021.47 1286.05 Q2022.9 1287.88 2025.77 1287.88 Q2029.22 1287.88 2031.21 1285.68 Q2033.23 1283.48 2033.23 1279.69 L2033.23 1264.99 L2037.49 1264.99 L2037.49 1290.92 L2033.23 1290.92 L2033.23 1286.93 Q2031.68 1289.29 2029.62 1290.45 Q2027.58 1291.59 2024.87 1291.59 Q2020.4 1291.59 2018.09 1288.81 Q2015.77 1286.03 2015.77 1280.68 M2026.49 1264.36 L2026.49 1264.36 Z\" fill=\"#000000\" fill-rule=\"evenodd\" fill-opacity=\"1\" /><path clip-path=\"url(#clip510)\" d=\"M2066.44 1269.97 Q2068.04 1267.1 2070.26 1265.73 Q2072.49 1264.36 2075.49 1264.36 Q2079.55 1264.36 2081.74 1267.21 Q2083.94 1270.04 2083.94 1275.27 L2083.94 1290.92 L2079.66 1290.92 L2079.66 1275.41 Q2079.66 1271.68 2078.34 1269.87 Q2077.02 1268.07 2074.31 1268.07 Q2071 1268.07 2069.08 1270.27 Q2067.16 1272.47 2067.16 1276.26 L2067.16 1290.92 L2062.88 1290.92 L2062.88 1275.41 Q2062.88 1271.66 2061.56 1269.87 Q2060.24 1268.07 2057.49 1268.07 Q2054.22 1268.07 2052.3 1270.29 Q2050.38 1272.49 2050.38 1276.26 L2050.38 1290.92 L2046.1 1290.92 L2046.1 1264.99 L2050.38 1264.99 L2050.38 1269.02 Q2051.84 1266.63 2053.87 1265.5 Q2055.91 1264.36 2058.71 1264.36 Q2061.54 1264.36 2063.5 1265.8 Q2065.49 1267.23 2066.44 1269.97 Z\" fill=\"#000000\" fill-rule=\"evenodd\" fill-opacity=\"1\" /><polyline clip-path=\"url(#clip510)\" style=\"stroke:#e26f46; stroke-linecap:butt; stroke-linejoin:round; stroke-width:4; stroke-opacity:1; fill:none\" points=\"\n",
       "  1589.92,1325.48 1730.14,1325.48 \n",
       "  \"/>\n",
       "<path clip-path=\"url(#clip510)\" d=\"M1781.38 1310.86 L1781.38 1315.79 Q1779.01 1313.59 1776.33 1312.5 Q1773.67 1311.41 1770.66 1311.41 Q1764.73 1311.41 1761.58 1315.05 Q1758.44 1318.66 1758.44 1325.51 Q1758.44 1332.34 1761.58 1335.97 Q1764.73 1339.58 1770.66 1339.58 Q1773.67 1339.58 1776.33 1338.5 Q1779.01 1337.41 1781.38 1335.21 L1781.38 1340.09 Q1778.92 1341.76 1776.17 1342.59 Q1773.44 1343.43 1770.38 1343.43 Q1762.53 1343.43 1758.02 1338.63 Q1753.51 1333.82 1753.51 1325.51 Q1753.51 1317.18 1758.02 1312.39 Q1762.53 1307.57 1770.38 1307.57 Q1773.48 1307.57 1776.21 1308.4 Q1778.97 1309.21 1781.38 1310.86 Z\" fill=\"#000000\" fill-rule=\"evenodd\" fill-opacity=\"1\" /><path clip-path=\"url(#clip510)\" d=\"M1798.46 1319.82 Q1795.03 1319.82 1793.04 1322.5 Q1791.05 1325.16 1791.05 1329.82 Q1791.05 1334.47 1793.02 1337.15 Q1795.01 1339.82 1798.46 1339.82 Q1801.86 1339.82 1803.85 1337.13 Q1805.84 1334.45 1805.84 1329.82 Q1805.84 1325.21 1803.85 1322.52 Q1801.86 1319.82 1798.46 1319.82 M1798.46 1316.2 Q1804.01 1316.2 1807.19 1319.82 Q1810.36 1323.43 1810.36 1329.82 Q1810.36 1336.18 1807.19 1339.82 Q1804.01 1343.43 1798.46 1343.43 Q1792.88 1343.43 1789.71 1339.82 Q1786.56 1336.18 1786.56 1329.82 Q1786.56 1323.43 1789.71 1319.82 Q1792.88 1316.2 1798.46 1316.2 Z\" fill=\"#000000\" fill-rule=\"evenodd\" fill-opacity=\"1\" /><path clip-path=\"url(#clip510)\" d=\"M1838.97 1327.11 L1838.97 1342.76 L1834.71 1342.76 L1834.71 1327.25 Q1834.71 1323.57 1833.27 1321.74 Q1831.84 1319.91 1828.97 1319.91 Q1825.52 1319.91 1823.53 1322.11 Q1821.54 1324.31 1821.54 1328.1 L1821.54 1342.76 L1817.26 1342.76 L1817.26 1316.83 L1821.54 1316.83 L1821.54 1320.86 Q1823.07 1318.52 1825.13 1317.36 Q1827.21 1316.2 1829.92 1316.2 Q1834.39 1316.2 1836.68 1318.98 Q1838.97 1321.74 1838.97 1327.11 Z\" fill=\"#000000\" fill-rule=\"evenodd\" fill-opacity=\"1\" /><path clip-path=\"url(#clip510)\" d=\"M1844.41 1316.83 L1848.92 1316.83 L1857.02 1338.59 L1865.13 1316.83 L1869.64 1316.83 L1859.92 1342.76 L1854.13 1342.76 L1844.41 1316.83 Z\" fill=\"#000000\" fill-rule=\"evenodd\" fill-opacity=\"1\" /><path clip-path=\"url(#clip510)\" d=\"M1885.57 1319.82 Q1882.14 1319.82 1880.15 1322.5 Q1878.16 1325.16 1878.16 1329.82 Q1878.16 1334.47 1880.13 1337.15 Q1882.12 1339.82 1885.57 1339.82 Q1888.97 1339.82 1890.96 1337.13 Q1892.95 1334.45 1892.95 1329.82 Q1892.95 1325.21 1890.96 1322.52 Q1888.97 1319.82 1885.57 1319.82 M1885.57 1316.2 Q1891.12 1316.2 1894.29 1319.82 Q1897.46 1323.43 1897.46 1329.82 Q1897.46 1336.18 1894.29 1339.82 Q1891.12 1343.43 1885.57 1343.43 Q1879.99 1343.43 1876.82 1339.82 Q1873.67 1336.18 1873.67 1329.82 Q1873.67 1323.43 1876.82 1319.82 Q1879.99 1316.2 1885.57 1316.2 Z\" fill=\"#000000\" fill-rule=\"evenodd\" fill-opacity=\"1\" /><path clip-path=\"url(#clip510)\" d=\"M1904.52 1306.74 L1908.78 1306.74 L1908.78 1342.76 L1904.52 1342.76 L1904.52 1306.74 Z\" fill=\"#000000\" fill-rule=\"evenodd\" fill-opacity=\"1\" /><path clip-path=\"url(#clip510)\" d=\"M1914.64 1316.83 L1919.15 1316.83 L1927.25 1338.59 L1935.36 1316.83 L1939.87 1316.83 L1930.15 1342.76 L1924.36 1342.76 L1914.64 1316.83 Z\" fill=\"#000000\" fill-rule=\"evenodd\" fill-opacity=\"1\" /><path clip-path=\"url(#clip510)\" d=\"M1967.93 1328.73 L1967.93 1330.81 L1948.34 1330.81 Q1948.62 1335.21 1950.98 1337.52 Q1953.37 1339.82 1957.6 1339.82 Q1960.06 1339.82 1962.35 1339.21 Q1964.66 1338.61 1966.93 1337.41 L1966.93 1341.44 Q1964.64 1342.41 1962.23 1342.92 Q1959.82 1343.43 1957.35 1343.43 Q1951.14 1343.43 1947.51 1339.82 Q1943.9 1336.2 1943.9 1330.05 Q1943.9 1323.68 1947.32 1319.95 Q1950.77 1316.2 1956.61 1316.2 Q1961.84 1316.2 1964.87 1319.58 Q1967.93 1322.94 1967.93 1328.73 M1963.67 1327.48 Q1963.62 1323.98 1961.7 1321.9 Q1959.8 1319.82 1956.65 1319.82 Q1953.09 1319.82 1950.94 1321.83 Q1948.81 1323.84 1948.48 1327.5 L1963.67 1327.48 Z\" fill=\"#000000\" fill-rule=\"evenodd\" fill-opacity=\"1\" /><path clip-path=\"url(#clip510)\" d=\"M1991.98 1320.76 L1991.98 1306.74 L1996.24 1306.74 L1996.24 1342.76 L1991.98 1342.76 L1991.98 1338.87 Q1990.63 1341.18 1988.57 1342.32 Q1986.54 1343.43 1983.67 1343.43 Q1978.97 1343.43 1976 1339.68 Q1973.06 1335.93 1973.06 1329.82 Q1973.06 1323.7 1976 1319.95 Q1978.97 1316.2 1983.67 1316.2 Q1986.54 1316.2 1988.57 1317.34 Q1990.63 1318.45 1991.98 1320.76 M1977.46 1329.82 Q1977.46 1334.51 1979.38 1337.2 Q1981.33 1339.86 1984.71 1339.86 Q1988.09 1339.86 1990.03 1337.2 Q1991.98 1334.51 1991.98 1329.82 Q1991.98 1325.12 1990.03 1322.45 Q1988.09 1319.77 1984.71 1319.77 Q1981.33 1319.77 1979.38 1322.45 Q1977.46 1325.12 1977.46 1329.82 Z\" fill=\"#000000\" fill-rule=\"evenodd\" fill-opacity=\"1\" /><path clip-path=\"url(#clip510)\" d=\"M2036.61 1317.59 L2036.61 1321.62 Q2034.8 1320.7 2032.86 1320.23 Q2030.91 1319.77 2028.83 1319.77 Q2025.66 1319.77 2024.06 1320.74 Q2022.49 1321.71 2022.49 1323.66 Q2022.49 1325.14 2023.62 1326 Q2024.75 1326.83 2028.18 1327.59 L2029.64 1327.92 Q2034.18 1328.89 2036.07 1330.67 Q2038 1332.43 2038 1335.6 Q2038 1339.21 2035.12 1341.32 Q2032.28 1343.43 2027.28 1343.43 Q2025.19 1343.43 2022.93 1343.01 Q2020.68 1342.62 2018.18 1341.81 L2018.18 1337.41 Q2020.54 1338.63 2022.83 1339.26 Q2025.12 1339.86 2027.37 1339.86 Q2030.38 1339.86 2032 1338.84 Q2033.62 1337.8 2033.62 1335.93 Q2033.62 1334.19 2032.44 1333.26 Q2031.28 1332.34 2027.32 1331.48 L2025.84 1331.14 Q2021.88 1330.3 2020.12 1328.59 Q2018.37 1326.85 2018.37 1323.84 Q2018.37 1320.19 2020.96 1318.2 Q2023.55 1316.2 2028.32 1316.2 Q2030.68 1316.2 2032.76 1316.55 Q2034.85 1316.9 2036.61 1317.59 Z\" fill=\"#000000\" fill-rule=\"evenodd\" fill-opacity=\"1\" /><path clip-path=\"url(#clip510)\" d=\"M2048.9 1338.87 L2048.9 1352.62 L2044.62 1352.62 L2044.62 1316.83 L2048.9 1316.83 L2048.9 1320.76 Q2050.24 1318.45 2052.28 1317.34 Q2054.34 1316.2 2057.18 1316.2 Q2061.91 1316.2 2064.85 1319.95 Q2067.81 1323.7 2067.81 1329.82 Q2067.81 1335.93 2064.85 1339.68 Q2061.91 1343.43 2057.18 1343.43 Q2054.34 1343.43 2052.28 1342.32 Q2050.24 1341.18 2048.9 1338.87 M2063.39 1329.82 Q2063.39 1325.12 2061.44 1322.45 Q2059.52 1319.77 2056.14 1319.77 Q2052.76 1319.77 2050.82 1322.45 Q2048.9 1325.12 2048.9 1329.82 Q2048.9 1334.51 2050.82 1337.2 Q2052.76 1339.86 2056.14 1339.86 Q2059.52 1339.86 2061.44 1337.2 Q2063.39 1334.51 2063.39 1329.82 Z\" fill=\"#000000\" fill-rule=\"evenodd\" fill-opacity=\"1\" /><path clip-path=\"url(#clip510)\" d=\"M2097.05 1328.73 L2097.05 1330.81 L2077.46 1330.81 Q2077.74 1335.21 2080.1 1337.52 Q2082.49 1339.82 2086.72 1339.82 Q2089.18 1339.82 2091.47 1339.21 Q2093.78 1338.61 2096.05 1337.41 L2096.05 1341.44 Q2093.76 1342.41 2091.35 1342.92 Q2088.94 1343.43 2086.47 1343.43 Q2080.26 1343.43 2076.63 1339.82 Q2073.02 1336.2 2073.02 1330.05 Q2073.02 1323.68 2076.44 1319.95 Q2079.89 1316.2 2085.73 1316.2 Q2090.96 1316.2 2093.99 1319.58 Q2097.05 1322.94 2097.05 1328.73 M2092.79 1327.48 Q2092.74 1323.98 2090.82 1321.9 Q2088.92 1319.82 2085.77 1319.82 Q2082.21 1319.82 2080.06 1321.83 Q2077.93 1323.84 2077.6 1327.5 L2092.79 1327.48 Z\" fill=\"#000000\" fill-rule=\"evenodd\" fill-opacity=\"1\" /><path clip-path=\"url(#clip510)\" d=\"M2122.69 1317.82 L2122.69 1321.81 Q2120.89 1320.81 2119.06 1320.32 Q2117.25 1319.82 2115.4 1319.82 Q2111.26 1319.82 2108.97 1322.45 Q2106.68 1325.07 2106.68 1329.82 Q2106.68 1334.56 2108.97 1337.2 Q2111.26 1339.82 2115.4 1339.82 Q2117.25 1339.82 2119.06 1339.33 Q2120.89 1338.82 2122.69 1337.82 L2122.69 1341.76 Q2120.91 1342.59 2118.99 1343.01 Q2117.09 1343.43 2114.94 1343.43 Q2109.08 1343.43 2105.63 1339.75 Q2102.18 1336.07 2102.18 1329.82 Q2102.18 1323.47 2105.66 1319.84 Q2109.15 1316.2 2115.22 1316.2 Q2117.18 1316.2 2119.06 1316.62 Q2120.93 1317.01 2122.69 1317.82 Z\" fill=\"#000000\" fill-rule=\"evenodd\" fill-opacity=\"1\" /><path clip-path=\"url(#clip510)\" d=\"M2134.31 1309.47 L2134.31 1316.83 L2143.09 1316.83 L2143.09 1320.14 L2134.31 1320.14 L2134.31 1334.21 Q2134.31 1337.38 2135.17 1338.29 Q2136.05 1339.19 2138.71 1339.19 L2143.09 1339.19 L2143.09 1342.76 L2138.71 1342.76 Q2133.78 1342.76 2131.91 1340.93 Q2130.03 1339.07 2130.03 1334.21 L2130.03 1320.14 L2126.91 1320.14 L2126.91 1316.83 L2130.03 1316.83 L2130.03 1309.47 L2134.31 1309.47 Z\" fill=\"#000000\" fill-rule=\"evenodd\" fill-opacity=\"1\" /><path clip-path=\"url(#clip510)\" d=\"M2163.71 1320.81 Q2162.99 1320.39 2162.14 1320.21 Q2161.3 1320 2160.29 1320 Q2156.68 1320 2154.73 1322.36 Q2152.81 1324.7 2152.81 1329.1 L2152.81 1342.76 L2148.53 1342.76 L2148.53 1316.83 L2152.81 1316.83 L2152.81 1320.86 Q2154.15 1318.5 2156.3 1317.36 Q2158.46 1316.2 2161.54 1316.2 Q2161.98 1316.2 2162.51 1316.27 Q2163.04 1316.32 2163.69 1316.44 L2163.71 1320.81 Z\" fill=\"#000000\" fill-rule=\"evenodd\" fill-opacity=\"1\" /><path clip-path=\"url(#clip510)\" d=\"M2167.74 1332.52 L2167.74 1316.83 L2172 1316.83 L2172 1332.36 Q2172 1336.04 2173.43 1337.89 Q2174.87 1339.72 2177.74 1339.72 Q2181.19 1339.72 2183.18 1337.52 Q2185.19 1335.32 2185.19 1331.53 L2185.19 1316.83 L2189.45 1316.83 L2189.45 1342.76 L2185.19 1342.76 L2185.19 1338.77 Q2183.64 1341.13 2181.58 1342.29 Q2179.55 1343.43 2176.84 1343.43 Q2172.37 1343.43 2170.05 1340.65 Q2167.74 1337.87 2167.74 1332.52 M2178.46 1316.2 L2178.46 1316.2 Z\" fill=\"#000000\" fill-rule=\"evenodd\" fill-opacity=\"1\" /><path clip-path=\"url(#clip510)\" d=\"M2218.41 1321.81 Q2220.01 1318.94 2222.23 1317.57 Q2224.45 1316.2 2227.46 1316.2 Q2231.51 1316.2 2233.71 1319.05 Q2235.91 1321.88 2235.91 1327.11 L2235.91 1342.76 L2231.63 1342.76 L2231.63 1327.25 Q2231.63 1323.52 2230.31 1321.71 Q2228.99 1319.91 2226.28 1319.91 Q2222.97 1319.91 2221.05 1322.11 Q2219.13 1324.31 2219.13 1328.1 L2219.13 1342.76 L2214.85 1342.76 L2214.85 1327.25 Q2214.85 1323.5 2213.53 1321.71 Q2212.21 1319.91 2209.45 1319.91 Q2206.19 1319.91 2204.27 1322.13 Q2202.35 1324.33 2202.35 1328.1 L2202.35 1342.76 L2198.06 1342.76 L2198.06 1316.83 L2202.35 1316.83 L2202.35 1320.86 Q2203.8 1318.47 2205.84 1317.34 Q2207.88 1316.2 2210.68 1316.2 Q2213.5 1316.2 2215.47 1317.64 Q2217.46 1319.07 2218.41 1321.81 Z\" fill=\"#000000\" fill-rule=\"evenodd\" fill-opacity=\"1\" /></svg>\n"
      ]
     },
     "execution_count": 18,
     "metadata": {},
     "output_type": "execute_result"
    }
   ],
   "source": [
    "plot(lambdas,raw_spectrum.(lambdas),xlabel=\"λ\", ylabel=\"Flux\", label=\"Raw spectrum\", legend=:bottomright)\n",
    "plot!(lambdas,conv_spectrum.(lambdas), label=\"Convolved spectrum\")"
   ]
  },
  {
   "cell_type": "markdown",
   "metadata": {},
   "source": [
    "That's fairly crowded, you it may be useful to zoom in on a narrower range."
   ]
  },
  {
   "cell_type": "code",
   "execution_count": 19,
   "metadata": {},
   "outputs": [
    {
     "data": {
      "image/svg+xml": [
       "<?xml version=\"1.0\" encoding=\"utf-8\"?>\n",
       "<svg xmlns=\"http://www.w3.org/2000/svg\" xmlns:xlink=\"http://www.w3.org/1999/xlink\" width=\"600\" height=\"400\" viewBox=\"0 0 2400 1600\">\n",
       "<defs>\n",
       "  <clipPath id=\"clip550\">\n",
       "    <rect x=\"0\" y=\"0\" width=\"2400\" height=\"1600\"/>\n",
       "  </clipPath>\n",
       "</defs>\n",
       "<path clip-path=\"url(#clip550)\" d=\"\n",
       "M0 1600 L2400 1600 L2400 0 L0 0  Z\n",
       "  \" fill=\"#ffffff\" fill-rule=\"evenodd\" fill-opacity=\"1\"/>\n",
       "<defs>\n",
       "  <clipPath id=\"clip551\">\n",
       "    <rect x=\"480\" y=\"0\" width=\"1681\" height=\"1600\"/>\n",
       "  </clipPath>\n",
       "</defs>\n",
       "<path clip-path=\"url(#clip550)\" d=\"\n",
       "M249.542 1423.18 L2352.76 1423.18 L2352.76 47.2441 L249.542 47.2441  Z\n",
       "  \" fill=\"#ffffff\" fill-rule=\"evenodd\" fill-opacity=\"1\"/>\n",
       "<defs>\n",
       "  <clipPath id=\"clip552\">\n",
       "    <rect x=\"249\" y=\"47\" width=\"2104\" height=\"1377\"/>\n",
       "  </clipPath>\n",
       "</defs>\n",
       "<polyline clip-path=\"url(#clip552)\" style=\"stroke:#000000; stroke-linecap:butt; stroke-linejoin:round; stroke-width:2; stroke-opacity:0.1; fill:none\" points=\"\n",
       "  467.936,1423.18 467.936,47.2441 \n",
       "  \"/>\n",
       "<polyline clip-path=\"url(#clip552)\" style=\"stroke:#000000; stroke-linecap:butt; stroke-linejoin:round; stroke-width:2; stroke-opacity:0.1; fill:none\" points=\"\n",
       "  944.543,1423.18 944.543,47.2441 \n",
       "  \"/>\n",
       "<polyline clip-path=\"url(#clip552)\" style=\"stroke:#000000; stroke-linecap:butt; stroke-linejoin:round; stroke-width:2; stroke-opacity:0.1; fill:none\" points=\"\n",
       "  1421.15,1423.18 1421.15,47.2441 \n",
       "  \"/>\n",
       "<polyline clip-path=\"url(#clip552)\" style=\"stroke:#000000; stroke-linecap:butt; stroke-linejoin:round; stroke-width:2; stroke-opacity:0.1; fill:none\" points=\"\n",
       "  1897.76,1423.18 1897.76,47.2441 \n",
       "  \"/>\n",
       "<polyline clip-path=\"url(#clip550)\" style=\"stroke:#000000; stroke-linecap:butt; stroke-linejoin:round; stroke-width:4; stroke-opacity:1; fill:none\" points=\"\n",
       "  249.542,1423.18 2352.76,1423.18 \n",
       "  \"/>\n",
       "<polyline clip-path=\"url(#clip550)\" style=\"stroke:#000000; stroke-linecap:butt; stroke-linejoin:round; stroke-width:4; stroke-opacity:1; fill:none\" points=\"\n",
       "  467.936,1423.18 467.936,1404.28 \n",
       "  \"/>\n",
       "<polyline clip-path=\"url(#clip550)\" style=\"stroke:#000000; stroke-linecap:butt; stroke-linejoin:round; stroke-width:4; stroke-opacity:1; fill:none\" points=\"\n",
       "  944.543,1423.18 944.543,1404.28 \n",
       "  \"/>\n",
       "<polyline clip-path=\"url(#clip550)\" style=\"stroke:#000000; stroke-linecap:butt; stroke-linejoin:round; stroke-width:4; stroke-opacity:1; fill:none\" points=\"\n",
       "  1421.15,1423.18 1421.15,1404.28 \n",
       "  \"/>\n",
       "<polyline clip-path=\"url(#clip550)\" style=\"stroke:#000000; stroke-linecap:butt; stroke-linejoin:round; stroke-width:4; stroke-opacity:1; fill:none\" points=\"\n",
       "  1897.76,1423.18 1897.76,1404.28 \n",
       "  \"/>\n",
       "<path clip-path=\"url(#clip550)\" d=\"M412.473 1451.02 L430.83 1451.02 L430.83 1454.96 L416.756 1454.96 L416.756 1463.43 Q417.774 1463.08 418.793 1462.92 Q419.811 1462.73 420.83 1462.73 Q426.617 1462.73 429.996 1465.9 Q433.376 1469.08 433.376 1474.49 Q433.376 1480.07 429.904 1483.17 Q426.431 1486.25 420.112 1486.25 Q417.936 1486.25 415.668 1485.88 Q413.422 1485.51 411.015 1484.77 L411.015 1480.07 Q413.098 1481.2 415.32 1481.76 Q417.543 1482.32 420.019 1482.32 Q424.024 1482.32 426.362 1480.21 Q428.7 1478.1 428.7 1474.49 Q428.7 1470.88 426.362 1468.77 Q424.024 1466.67 420.019 1466.67 Q418.144 1466.67 416.269 1467.08 Q414.418 1467.5 412.473 1468.38 L412.473 1451.02 Z\" fill=\"#000000\" fill-rule=\"evenodd\" fill-opacity=\"1\" /><path clip-path=\"url(#clip550)\" d=\"M452.589 1454.1 Q448.978 1454.1 447.149 1457.66 Q445.343 1461.2 445.343 1468.33 Q445.343 1475.44 447.149 1479.01 Q448.978 1482.55 452.589 1482.55 Q456.223 1482.55 458.028 1479.01 Q459.857 1475.44 459.857 1468.33 Q459.857 1461.2 458.028 1457.66 Q456.223 1454.1 452.589 1454.1 M452.589 1450.39 Q458.399 1450.39 461.454 1455 Q464.533 1459.58 464.533 1468.33 Q464.533 1477.06 461.454 1481.67 Q458.399 1486.25 452.589 1486.25 Q446.779 1486.25 443.7 1481.67 Q440.644 1477.06 440.644 1468.33 Q440.644 1459.58 443.7 1455 Q446.779 1450.39 452.589 1450.39 Z\" fill=\"#000000\" fill-rule=\"evenodd\" fill-opacity=\"1\" /><path clip-path=\"url(#clip550)\" d=\"M473.561 1481.64 L481.2 1481.64 L481.2 1455.28 L472.89 1456.95 L472.89 1452.69 L481.153 1451.02 L485.829 1451.02 L485.829 1481.64 L493.468 1481.64 L493.468 1485.58 L473.561 1485.58 L473.561 1481.64 Z\" fill=\"#000000\" fill-rule=\"evenodd\" fill-opacity=\"1\" /><path clip-path=\"url(#clip550)\" d=\"M512.912 1454.1 Q509.301 1454.1 507.473 1457.66 Q505.667 1461.2 505.667 1468.33 Q505.667 1475.44 507.473 1479.01 Q509.301 1482.55 512.912 1482.55 Q516.547 1482.55 518.352 1479.01 Q520.181 1475.44 520.181 1468.33 Q520.181 1461.2 518.352 1457.66 Q516.547 1454.1 512.912 1454.1 M512.912 1450.39 Q518.723 1450.39 521.778 1455 Q524.857 1459.58 524.857 1468.33 Q524.857 1477.06 521.778 1481.67 Q518.723 1486.25 512.912 1486.25 Q507.102 1486.25 504.024 1481.67 Q500.968 1477.06 500.968 1468.33 Q500.968 1459.58 504.024 1455 Q507.102 1450.39 512.912 1450.39 Z\" fill=\"#000000\" fill-rule=\"evenodd\" fill-opacity=\"1\" /><path clip-path=\"url(#clip550)\" d=\"M889.08 1451.02 L907.436 1451.02 L907.436 1454.96 L893.362 1454.96 L893.362 1463.43 Q894.381 1463.08 895.399 1462.92 Q896.418 1462.73 897.436 1462.73 Q903.223 1462.73 906.603 1465.9 Q909.983 1469.08 909.983 1474.49 Q909.983 1480.07 906.51 1483.17 Q903.038 1486.25 896.719 1486.25 Q894.543 1486.25 892.274 1485.88 Q890.029 1485.51 887.622 1484.77 L887.622 1480.07 Q889.705 1481.2 891.927 1481.76 Q894.149 1482.32 896.626 1482.32 Q900.631 1482.32 902.969 1480.21 Q905.307 1478.1 905.307 1474.49 Q905.307 1470.88 902.969 1468.77 Q900.631 1466.67 896.626 1466.67 Q894.751 1466.67 892.876 1467.08 Q891.024 1467.5 889.08 1468.38 L889.08 1451.02 Z\" fill=\"#000000\" fill-rule=\"evenodd\" fill-opacity=\"1\" /><path clip-path=\"url(#clip550)\" d=\"M929.195 1454.1 Q925.584 1454.1 923.756 1457.66 Q921.95 1461.2 921.95 1468.33 Q921.95 1475.44 923.756 1479.01 Q925.584 1482.55 929.195 1482.55 Q932.83 1482.55 934.635 1479.01 Q936.464 1475.44 936.464 1468.33 Q936.464 1461.2 934.635 1457.66 Q932.83 1454.1 929.195 1454.1 M929.195 1450.39 Q935.006 1450.39 938.061 1455 Q941.14 1459.58 941.14 1468.33 Q941.14 1477.06 938.061 1481.67 Q935.006 1486.25 929.195 1486.25 Q923.385 1486.25 920.307 1481.67 Q917.251 1477.06 917.251 1468.33 Q917.251 1459.58 920.307 1455 Q923.385 1450.39 929.195 1450.39 Z\" fill=\"#000000\" fill-rule=\"evenodd\" fill-opacity=\"1\" /><path clip-path=\"url(#clip550)\" d=\"M962.204 1455.09 L950.399 1473.54 L962.204 1473.54 L962.204 1455.09 M960.978 1451.02 L966.857 1451.02 L966.857 1473.54 L971.788 1473.54 L971.788 1477.43 L966.857 1477.43 L966.857 1485.58 L962.204 1485.58 L962.204 1477.43 L946.603 1477.43 L946.603 1472.92 L960.978 1451.02 Z\" fill=\"#000000\" fill-rule=\"evenodd\" fill-opacity=\"1\" /><path clip-path=\"url(#clip550)\" d=\"M989.519 1454.1 Q985.908 1454.1 984.079 1457.66 Q982.274 1461.2 982.274 1468.33 Q982.274 1475.44 984.079 1479.01 Q985.908 1482.55 989.519 1482.55 Q993.153 1482.55 994.959 1479.01 Q996.788 1475.44 996.788 1468.33 Q996.788 1461.2 994.959 1457.66 Q993.153 1454.1 989.519 1454.1 M989.519 1450.39 Q995.329 1450.39 998.385 1455 Q1001.46 1459.58 1001.46 1468.33 Q1001.46 1477.06 998.385 1481.67 Q995.329 1486.25 989.519 1486.25 Q983.709 1486.25 980.63 1481.67 Q977.575 1477.06 977.575 1468.33 Q977.575 1459.58 980.63 1455 Q983.709 1450.39 989.519 1450.39 Z\" fill=\"#000000\" fill-rule=\"evenodd\" fill-opacity=\"1\" /><path clip-path=\"url(#clip550)\" d=\"M1365.69 1451.02 L1384.04 1451.02 L1384.04 1454.96 L1369.97 1454.96 L1369.97 1463.43 Q1370.99 1463.08 1372.01 1462.92 Q1373.02 1462.73 1374.04 1462.73 Q1379.83 1462.73 1383.21 1465.9 Q1386.59 1469.08 1386.59 1474.49 Q1386.59 1480.07 1383.12 1483.17 Q1379.64 1486.25 1373.33 1486.25 Q1371.15 1486.25 1368.88 1485.88 Q1366.64 1485.51 1364.23 1484.77 L1364.23 1480.07 Q1366.31 1481.2 1368.53 1481.76 Q1370.76 1482.32 1373.23 1482.32 Q1377.24 1482.32 1379.58 1480.21 Q1381.91 1478.1 1381.91 1474.49 Q1381.91 1470.88 1379.58 1468.77 Q1377.24 1466.67 1373.23 1466.67 Q1371.36 1466.67 1369.48 1467.08 Q1367.63 1467.5 1365.69 1468.38 L1365.69 1451.02 Z\" fill=\"#000000\" fill-rule=\"evenodd\" fill-opacity=\"1\" /><path clip-path=\"url(#clip550)\" d=\"M1405.8 1454.1 Q1402.19 1454.1 1400.36 1457.66 Q1398.56 1461.2 1398.56 1468.33 Q1398.56 1475.44 1400.36 1479.01 Q1402.19 1482.55 1405.8 1482.55 Q1409.44 1482.55 1411.24 1479.01 Q1413.07 1475.44 1413.07 1468.33 Q1413.07 1461.2 1411.24 1457.66 Q1409.44 1454.1 1405.8 1454.1 M1405.8 1450.39 Q1411.61 1450.39 1414.67 1455 Q1417.75 1459.58 1417.75 1468.33 Q1417.75 1477.06 1414.67 1481.67 Q1411.61 1486.25 1405.8 1486.25 Q1399.99 1486.25 1396.91 1481.67 Q1393.86 1477.06 1393.86 1468.33 Q1393.86 1459.58 1396.91 1455 Q1399.99 1450.39 1405.8 1450.39 Z\" fill=\"#000000\" fill-rule=\"evenodd\" fill-opacity=\"1\" /><path clip-path=\"url(#clip550)\" d=\"M1424.78 1451.02 L1447.01 1451.02 L1447.01 1453.01 L1434.46 1485.58 L1429.58 1485.58 L1441.38 1454.96 L1424.78 1454.96 L1424.78 1451.02 Z\" fill=\"#000000\" fill-rule=\"evenodd\" fill-opacity=\"1\" /><path clip-path=\"url(#clip550)\" d=\"M1466.13 1454.1 Q1462.51 1454.1 1460.69 1457.66 Q1458.88 1461.2 1458.88 1468.33 Q1458.88 1475.44 1460.69 1479.01 Q1462.51 1482.55 1466.13 1482.55 Q1469.76 1482.55 1471.57 1479.01 Q1473.39 1475.44 1473.39 1468.33 Q1473.39 1461.2 1471.57 1457.66 Q1469.76 1454.1 1466.13 1454.1 M1466.13 1450.39 Q1471.94 1450.39 1474.99 1455 Q1478.07 1459.58 1478.07 1468.33 Q1478.07 1477.06 1474.99 1481.67 Q1471.94 1486.25 1466.13 1486.25 Q1460.32 1486.25 1457.24 1481.67 Q1454.18 1477.06 1454.18 1468.33 Q1454.18 1459.58 1457.24 1455 Q1460.32 1450.39 1466.13 1450.39 Z\" fill=\"#000000\" fill-rule=\"evenodd\" fill-opacity=\"1\" /><path clip-path=\"url(#clip550)\" d=\"M1842.29 1451.02 L1860.65 1451.02 L1860.65 1454.96 L1846.58 1454.96 L1846.58 1463.43 Q1847.59 1463.08 1848.61 1462.92 Q1849.63 1462.73 1850.65 1462.73 Q1856.44 1462.73 1859.82 1465.9 Q1863.2 1469.08 1863.2 1474.49 Q1863.2 1480.07 1859.72 1483.17 Q1856.25 1486.25 1849.93 1486.25 Q1847.76 1486.25 1845.49 1485.88 Q1843.24 1485.51 1840.83 1484.77 L1840.83 1480.07 Q1842.92 1481.2 1845.14 1481.76 Q1847.36 1482.32 1849.84 1482.32 Q1853.84 1482.32 1856.18 1480.21 Q1858.52 1478.1 1858.52 1474.49 Q1858.52 1470.88 1856.18 1468.77 Q1853.84 1466.67 1849.84 1466.67 Q1847.96 1466.67 1846.09 1467.08 Q1844.24 1467.5 1842.29 1468.38 L1842.29 1451.02 Z\" fill=\"#000000\" fill-rule=\"evenodd\" fill-opacity=\"1\" /><path clip-path=\"url(#clip550)\" d=\"M1873.22 1481.64 L1880.86 1481.64 L1880.86 1455.28 L1872.55 1456.95 L1872.55 1452.69 L1880.81 1451.02 L1885.49 1451.02 L1885.49 1481.64 L1893.13 1481.64 L1893.13 1485.58 L1873.22 1485.58 L1873.22 1481.64 Z\" fill=\"#000000\" fill-rule=\"evenodd\" fill-opacity=\"1\" /><path clip-path=\"url(#clip550)\" d=\"M1912.57 1454.1 Q1908.96 1454.1 1907.13 1457.66 Q1905.33 1461.2 1905.33 1468.33 Q1905.33 1475.44 1907.13 1479.01 Q1908.96 1482.55 1912.57 1482.55 Q1916.2 1482.55 1918.01 1479.01 Q1919.84 1475.44 1919.84 1468.33 Q1919.84 1461.2 1918.01 1457.66 Q1916.2 1454.1 1912.57 1454.1 M1912.57 1450.39 Q1918.38 1450.39 1921.44 1455 Q1924.51 1459.58 1924.51 1468.33 Q1924.51 1477.06 1921.44 1481.67 Q1918.38 1486.25 1912.57 1486.25 Q1906.76 1486.25 1903.68 1481.67 Q1900.63 1477.06 1900.63 1468.33 Q1900.63 1459.58 1903.68 1455 Q1906.76 1450.39 1912.57 1450.39 Z\" fill=\"#000000\" fill-rule=\"evenodd\" fill-opacity=\"1\" /><path clip-path=\"url(#clip550)\" d=\"M1942.73 1454.1 Q1939.12 1454.1 1937.29 1457.66 Q1935.49 1461.2 1935.49 1468.33 Q1935.49 1475.44 1937.29 1479.01 Q1939.12 1482.55 1942.73 1482.55 Q1946.37 1482.55 1948.17 1479.01 Q1950 1475.44 1950 1468.33 Q1950 1461.2 1948.17 1457.66 Q1946.37 1454.1 1942.73 1454.1 M1942.73 1450.39 Q1948.54 1450.39 1951.6 1455 Q1954.68 1459.58 1954.68 1468.33 Q1954.68 1477.06 1951.6 1481.67 Q1948.54 1486.25 1942.73 1486.25 Q1936.92 1486.25 1933.84 1481.67 Q1930.79 1477.06 1930.79 1468.33 Q1930.79 1459.58 1933.84 1455 Q1936.92 1450.39 1942.73 1450.39 Z\" fill=\"#000000\" fill-rule=\"evenodd\" fill-opacity=\"1\" /><path clip-path=\"url(#clip550)\" d=\"M1302.04 1524.09 L1318.5 1568.04 L1312.29 1568.04 L1302.29 1541.69 L1290.01 1568.04 L1283.8 1568.04 L1299.43 1533.86 L1297.07 1527.56 Q1295.58 1523.55 1292.17 1523.55 L1289.12 1523.55 L1289.12 1518.52 L1292.84 1518.58 Q1300.03 1518.68 1302.04 1524.09 Z\" fill=\"#000000\" fill-rule=\"evenodd\" fill-opacity=\"1\" /><polyline clip-path=\"url(#clip552)\" style=\"stroke:#000000; stroke-linecap:butt; stroke-linejoin:round; stroke-width:2; stroke-opacity:0.1; fill:none\" points=\"\n",
       "  249.542,1387.73 2352.76,1387.73 \n",
       "  \"/>\n",
       "<polyline clip-path=\"url(#clip552)\" style=\"stroke:#000000; stroke-linecap:butt; stroke-linejoin:round; stroke-width:2; stroke-opacity:0.1; fill:none\" points=\"\n",
       "  249.542,1060.19 2352.76,1060.19 \n",
       "  \"/>\n",
       "<polyline clip-path=\"url(#clip552)\" style=\"stroke:#000000; stroke-linecap:butt; stroke-linejoin:round; stroke-width:2; stroke-opacity:0.1; fill:none\" points=\"\n",
       "  249.542,732.645 2352.76,732.645 \n",
       "  \"/>\n",
       "<polyline clip-path=\"url(#clip552)\" style=\"stroke:#000000; stroke-linecap:butt; stroke-linejoin:round; stroke-width:2; stroke-opacity:0.1; fill:none\" points=\"\n",
       "  249.542,405.105 2352.76,405.105 \n",
       "  \"/>\n",
       "<polyline clip-path=\"url(#clip552)\" style=\"stroke:#000000; stroke-linecap:butt; stroke-linejoin:round; stroke-width:2; stroke-opacity:0.1; fill:none\" points=\"\n",
       "  249.542,77.5643 2352.76,77.5643 \n",
       "  \"/>\n",
       "<polyline clip-path=\"url(#clip550)\" style=\"stroke:#000000; stroke-linecap:butt; stroke-linejoin:round; stroke-width:4; stroke-opacity:1; fill:none\" points=\"\n",
       "  249.542,1423.18 249.542,47.2441 \n",
       "  \"/>\n",
       "<polyline clip-path=\"url(#clip550)\" style=\"stroke:#000000; stroke-linecap:butt; stroke-linejoin:round; stroke-width:4; stroke-opacity:1; fill:none\" points=\"\n",
       "  249.542,1387.73 268.44,1387.73 \n",
       "  \"/>\n",
       "<polyline clip-path=\"url(#clip550)\" style=\"stroke:#000000; stroke-linecap:butt; stroke-linejoin:round; stroke-width:4; stroke-opacity:1; fill:none\" points=\"\n",
       "  249.542,1060.19 268.44,1060.19 \n",
       "  \"/>\n",
       "<polyline clip-path=\"url(#clip550)\" style=\"stroke:#000000; stroke-linecap:butt; stroke-linejoin:round; stroke-width:4; stroke-opacity:1; fill:none\" points=\"\n",
       "  249.542,732.645 268.44,732.645 \n",
       "  \"/>\n",
       "<polyline clip-path=\"url(#clip550)\" style=\"stroke:#000000; stroke-linecap:butt; stroke-linejoin:round; stroke-width:4; stroke-opacity:1; fill:none\" points=\"\n",
       "  249.542,405.105 268.44,405.105 \n",
       "  \"/>\n",
       "<polyline clip-path=\"url(#clip550)\" style=\"stroke:#000000; stroke-linecap:butt; stroke-linejoin:round; stroke-width:4; stroke-opacity:1; fill:none\" points=\"\n",
       "  249.542,77.5643 268.44,77.5643 \n",
       "  \"/>\n",
       "<path clip-path=\"url(#clip550)\" d=\"M126.205 1373.52 Q122.593 1373.52 120.765 1377.09 Q118.959 1380.63 118.959 1387.76 Q118.959 1394.87 120.765 1398.43 Q122.593 1401.97 126.205 1401.97 Q129.839 1401.97 131.644 1398.43 Q133.473 1394.87 133.473 1387.76 Q133.473 1380.63 131.644 1377.09 Q129.839 1373.52 126.205 1373.52 M126.205 1369.82 Q132.015 1369.82 135.07 1374.43 Q138.149 1379.01 138.149 1387.76 Q138.149 1396.49 135.07 1401.09 Q132.015 1405.68 126.205 1405.68 Q120.394 1405.68 117.316 1401.09 Q114.26 1396.49 114.26 1387.76 Q114.26 1379.01 117.316 1374.43 Q120.394 1369.82 126.205 1369.82 Z\" fill=\"#000000\" fill-rule=\"evenodd\" fill-opacity=\"1\" /><path clip-path=\"url(#clip550)\" d=\"M146.366 1399.13 L151.251 1399.13 L151.251 1405.01 L146.366 1405.01 L146.366 1399.13 Z\" fill=\"#000000\" fill-rule=\"evenodd\" fill-opacity=\"1\" /><path clip-path=\"url(#clip550)\" d=\"M171.436 1373.52 Q167.825 1373.52 165.996 1377.09 Q164.19 1380.63 164.19 1387.76 Q164.19 1394.87 165.996 1398.43 Q167.825 1401.97 171.436 1401.97 Q175.07 1401.97 176.876 1398.43 Q178.704 1394.87 178.704 1387.76 Q178.704 1380.63 176.876 1377.09 Q175.07 1373.52 171.436 1373.52 M171.436 1369.82 Q177.246 1369.82 180.301 1374.43 Q183.38 1379.01 183.38 1387.76 Q183.38 1396.49 180.301 1401.09 Q177.246 1405.68 171.436 1405.68 Q165.626 1405.68 162.547 1401.09 Q159.491 1396.49 159.491 1387.76 Q159.491 1379.01 162.547 1374.43 Q165.626 1369.82 171.436 1369.82 Z\" fill=\"#000000\" fill-rule=\"evenodd\" fill-opacity=\"1\" /><path clip-path=\"url(#clip550)\" d=\"M201.598 1373.52 Q197.987 1373.52 196.158 1377.09 Q194.352 1380.63 194.352 1387.76 Q194.352 1394.87 196.158 1398.43 Q197.987 1401.97 201.598 1401.97 Q205.232 1401.97 207.037 1398.43 Q208.866 1394.87 208.866 1387.76 Q208.866 1380.63 207.037 1377.09 Q205.232 1373.52 201.598 1373.52 M201.598 1369.82 Q207.408 1369.82 210.463 1374.43 Q213.542 1379.01 213.542 1387.76 Q213.542 1396.49 210.463 1401.09 Q207.408 1405.68 201.598 1405.68 Q195.787 1405.68 192.709 1401.09 Q189.653 1396.49 189.653 1387.76 Q189.653 1379.01 192.709 1374.43 Q195.787 1369.82 201.598 1369.82 Z\" fill=\"#000000\" fill-rule=\"evenodd\" fill-opacity=\"1\" /><path clip-path=\"url(#clip550)\" d=\"M127.2 1045.98 Q123.589 1045.98 121.76 1049.55 Q119.955 1053.09 119.955 1060.22 Q119.955 1067.33 121.76 1070.89 Q123.589 1074.43 127.2 1074.43 Q130.834 1074.43 132.64 1070.89 Q134.468 1067.33 134.468 1060.22 Q134.468 1053.09 132.64 1049.55 Q130.834 1045.98 127.2 1045.98 M127.2 1042.28 Q133.01 1042.28 136.066 1046.89 Q139.144 1051.47 139.144 1060.22 Q139.144 1068.95 136.066 1073.55 Q133.01 1078.14 127.2 1078.14 Q121.39 1078.14 118.311 1073.55 Q115.256 1068.95 115.256 1060.22 Q115.256 1051.47 118.311 1046.89 Q121.39 1042.28 127.2 1042.28 Z\" fill=\"#000000\" fill-rule=\"evenodd\" fill-opacity=\"1\" /><path clip-path=\"url(#clip550)\" d=\"M147.362 1071.59 L152.246 1071.59 L152.246 1077.47 L147.362 1077.47 L147.362 1071.59 Z\" fill=\"#000000\" fill-rule=\"evenodd\" fill-opacity=\"1\" /><path clip-path=\"url(#clip550)\" d=\"M166.459 1073.53 L182.778 1073.53 L182.778 1077.47 L160.834 1077.47 L160.834 1073.53 Q163.496 1070.78 168.079 1066.15 Q172.686 1061.49 173.866 1060.15 Q176.112 1057.63 176.991 1055.89 Q177.894 1054.13 177.894 1052.44 Q177.894 1049.69 175.95 1047.95 Q174.028 1046.22 170.927 1046.22 Q168.727 1046.22 166.274 1046.98 Q163.843 1047.74 161.065 1049.29 L161.065 1044.57 Q163.89 1043.44 166.343 1042.86 Q168.797 1042.28 170.834 1042.28 Q176.204 1042.28 179.399 1044.97 Q182.593 1047.65 182.593 1052.14 Q182.593 1054.27 181.783 1056.19 Q180.996 1058.09 178.889 1060.68 Q178.311 1061.35 175.209 1064.57 Q172.107 1067.77 166.459 1073.53 Z\" fill=\"#000000\" fill-rule=\"evenodd\" fill-opacity=\"1\" /><path clip-path=\"url(#clip550)\" d=\"M192.639 1042.91 L210.996 1042.91 L210.996 1046.84 L196.922 1046.84 L196.922 1055.31 Q197.94 1054.97 198.959 1054.8 Q199.977 1054.62 200.996 1054.62 Q206.783 1054.62 210.162 1057.79 Q213.542 1060.96 213.542 1066.38 Q213.542 1071.96 210.07 1075.06 Q206.598 1078.14 200.278 1078.14 Q198.102 1078.14 195.834 1077.77 Q193.588 1077.4 191.181 1076.66 L191.181 1071.96 Q193.264 1073.09 195.487 1073.65 Q197.709 1074.2 200.186 1074.2 Q204.19 1074.2 206.528 1072.1 Q208.866 1069.99 208.866 1066.38 Q208.866 1062.77 206.528 1060.66 Q204.19 1058.55 200.186 1058.55 Q198.311 1058.55 196.436 1058.97 Q194.584 1059.39 192.639 1060.27 L192.639 1042.91 Z\" fill=\"#000000\" fill-rule=\"evenodd\" fill-opacity=\"1\" /><path clip-path=\"url(#clip550)\" d=\"M126.205 718.444 Q122.593 718.444 120.765 722.009 Q118.959 725.55 118.959 732.68 Q118.959 739.786 120.765 743.351 Q122.593 746.893 126.205 746.893 Q129.839 746.893 131.644 743.351 Q133.473 739.786 133.473 732.68 Q133.473 725.55 131.644 722.009 Q129.839 718.444 126.205 718.444 M126.205 714.74 Q132.015 714.74 135.07 719.347 Q138.149 723.93 138.149 732.68 Q138.149 741.407 135.07 746.013 Q132.015 750.597 126.205 750.597 Q120.394 750.597 117.316 746.013 Q114.26 741.407 114.26 732.68 Q114.26 723.93 117.316 719.347 Q120.394 714.74 126.205 714.74 Z\" fill=\"#000000\" fill-rule=\"evenodd\" fill-opacity=\"1\" /><path clip-path=\"url(#clip550)\" d=\"M146.366 744.046 L151.251 744.046 L151.251 749.925 L146.366 749.925 L146.366 744.046 Z\" fill=\"#000000\" fill-rule=\"evenodd\" fill-opacity=\"1\" /><path clip-path=\"url(#clip550)\" d=\"M161.482 715.365 L179.839 715.365 L179.839 719.3 L165.765 719.3 L165.765 727.773 Q166.783 727.425 167.802 727.263 Q168.82 727.078 169.839 727.078 Q175.626 727.078 179.005 730.249 Q182.385 733.421 182.385 738.837 Q182.385 744.416 178.913 747.518 Q175.44 750.597 169.121 750.597 Q166.945 750.597 164.677 750.226 Q162.431 749.856 160.024 749.115 L160.024 744.416 Q162.107 745.55 164.329 746.106 Q166.552 746.661 169.028 746.661 Q173.033 746.661 175.371 744.555 Q177.709 742.448 177.709 738.837 Q177.709 735.226 175.371 733.12 Q173.033 731.013 169.028 731.013 Q167.153 731.013 165.278 731.43 Q163.427 731.847 161.482 732.726 L161.482 715.365 Z\" fill=\"#000000\" fill-rule=\"evenodd\" fill-opacity=\"1\" /><path clip-path=\"url(#clip550)\" d=\"M201.598 718.444 Q197.987 718.444 196.158 722.009 Q194.352 725.55 194.352 732.68 Q194.352 739.786 196.158 743.351 Q197.987 746.893 201.598 746.893 Q205.232 746.893 207.037 743.351 Q208.866 739.786 208.866 732.68 Q208.866 725.55 207.037 722.009 Q205.232 718.444 201.598 718.444 M201.598 714.74 Q207.408 714.74 210.463 719.347 Q213.542 723.93 213.542 732.68 Q213.542 741.407 210.463 746.013 Q207.408 750.597 201.598 750.597 Q195.787 750.597 192.709 746.013 Q189.653 741.407 189.653 732.68 Q189.653 723.93 192.709 719.347 Q195.787 714.74 201.598 714.74 Z\" fill=\"#000000\" fill-rule=\"evenodd\" fill-opacity=\"1\" /><path clip-path=\"url(#clip550)\" d=\"M127.2 390.903 Q123.589 390.903 121.76 394.468 Q119.955 398.01 119.955 405.14 Q119.955 412.246 121.76 415.811 Q123.589 419.352 127.2 419.352 Q130.834 419.352 132.64 415.811 Q134.468 412.246 134.468 405.14 Q134.468 398.01 132.64 394.468 Q130.834 390.903 127.2 390.903 M127.2 387.2 Q133.01 387.2 136.066 391.806 Q139.144 396.39 139.144 405.14 Q139.144 413.866 136.066 418.473 Q133.01 423.056 127.2 423.056 Q121.39 423.056 118.311 418.473 Q115.256 413.866 115.256 405.14 Q115.256 396.39 118.311 391.806 Q121.39 387.2 127.2 387.2 Z\" fill=\"#000000\" fill-rule=\"evenodd\" fill-opacity=\"1\" /><path clip-path=\"url(#clip550)\" d=\"M147.362 416.505 L152.246 416.505 L152.246 422.385 L147.362 422.385 L147.362 416.505 Z\" fill=\"#000000\" fill-rule=\"evenodd\" fill-opacity=\"1\" /><path clip-path=\"url(#clip550)\" d=\"M161.251 387.825 L183.473 387.825 L183.473 389.816 L170.927 422.385 L166.042 422.385 L177.848 391.76 L161.251 391.76 L161.251 387.825 Z\" fill=\"#000000\" fill-rule=\"evenodd\" fill-opacity=\"1\" /><path clip-path=\"url(#clip550)\" d=\"M192.639 387.825 L210.996 387.825 L210.996 391.76 L196.922 391.76 L196.922 400.232 Q197.94 399.885 198.959 399.723 Q199.977 399.538 200.996 399.538 Q206.783 399.538 210.162 402.709 Q213.542 405.88 213.542 411.297 Q213.542 416.876 210.07 419.977 Q206.598 423.056 200.278 423.056 Q198.102 423.056 195.834 422.686 Q193.588 422.315 191.181 421.575 L191.181 416.876 Q193.264 418.01 195.487 418.565 Q197.709 419.121 200.186 419.121 Q204.19 419.121 206.528 417.014 Q208.866 414.908 208.866 411.297 Q208.866 407.686 206.528 405.579 Q204.19 403.473 200.186 403.473 Q198.311 403.473 196.436 403.89 Q194.584 404.306 192.639 405.186 L192.639 387.825 Z\" fill=\"#000000\" fill-rule=\"evenodd\" fill-opacity=\"1\" /><path clip-path=\"url(#clip550)\" d=\"M117.015 90.9092 L124.654 90.9092 L124.654 64.5436 L116.343 66.2102 L116.343 61.951 L124.607 60.2843 L129.283 60.2843 L129.283 90.9092 L136.922 90.9092 L136.922 94.8443 L117.015 94.8443 L117.015 90.9092 Z\" fill=\"#000000\" fill-rule=\"evenodd\" fill-opacity=\"1\" /><path clip-path=\"url(#clip550)\" d=\"M146.366 88.9647 L151.251 88.9647 L151.251 94.8443 L146.366 94.8443 L146.366 88.9647 Z\" fill=\"#000000\" fill-rule=\"evenodd\" fill-opacity=\"1\" /><path clip-path=\"url(#clip550)\" d=\"M171.436 63.363 Q167.825 63.363 165.996 66.9278 Q164.19 70.4695 164.19 77.5991 Q164.19 84.7055 165.996 88.2703 Q167.825 91.812 171.436 91.812 Q175.07 91.812 176.876 88.2703 Q178.704 84.7055 178.704 77.5991 Q178.704 70.4695 176.876 66.9278 Q175.07 63.363 171.436 63.363 M171.436 59.6594 Q177.246 59.6594 180.301 64.2658 Q183.38 68.8491 183.38 77.5991 Q183.38 86.3259 180.301 90.9323 Q177.246 95.5156 171.436 95.5156 Q165.626 95.5156 162.547 90.9323 Q159.491 86.3259 159.491 77.5991 Q159.491 68.8491 162.547 64.2658 Q165.626 59.6594 171.436 59.6594 Z\" fill=\"#000000\" fill-rule=\"evenodd\" fill-opacity=\"1\" /><path clip-path=\"url(#clip550)\" d=\"M201.598 63.363 Q197.987 63.363 196.158 66.9278 Q194.352 70.4695 194.352 77.5991 Q194.352 84.7055 196.158 88.2703 Q197.987 91.812 201.598 91.812 Q205.232 91.812 207.037 88.2703 Q208.866 84.7055 208.866 77.5991 Q208.866 70.4695 207.037 66.9278 Q205.232 63.363 201.598 63.363 M201.598 59.6594 Q207.408 59.6594 210.463 64.2658 Q213.542 68.8491 213.542 77.5991 Q213.542 86.3259 210.463 90.9323 Q207.408 95.5156 201.598 95.5156 Q195.787 95.5156 192.709 90.9323 Q189.653 86.3259 189.653 77.5991 Q189.653 68.8491 192.709 64.2658 Q195.787 59.6594 201.598 59.6594 Z\" fill=\"#000000\" fill-rule=\"evenodd\" fill-opacity=\"1\" /><path clip-path=\"url(#clip550)\" d=\"M16.4842 798.694 L16.4842 771.385 L21.895 771.385 L21.895 792.265 L35.8996 792.265 L35.8996 773.422 L41.3104 773.422 L41.3104 792.265 L64.0042 792.265 L64.0042 798.694 L16.4842 798.694 Z\" fill=\"#000000\" fill-rule=\"evenodd\" fill-opacity=\"1\" /><path clip-path=\"url(#clip550)\" d=\"M14.479 761.455 L14.479 755.598 L64.0042 755.598 L64.0042 761.455 L14.479 761.455 Z\" fill=\"#000000\" fill-rule=\"evenodd\" fill-opacity=\"1\" /><path clip-path=\"url(#clip550)\" d=\"M49.9359 743.949 L28.3562 743.949 L28.3562 738.092 L49.7131 738.092 Q54.7739 738.092 57.3202 736.119 Q59.8346 734.146 59.8346 730.199 Q59.8346 725.457 56.8109 722.719 Q53.7872 719.95 48.5673 719.95 L28.3562 719.95 L28.3562 714.094 L64.0042 714.094 L64.0042 719.95 L58.5296 719.95 Q61.7762 722.083 63.3676 724.915 Q64.9272 727.716 64.9272 731.44 Q64.9272 737.583 61.1078 740.766 Q57.2883 743.949 49.9359 743.949 M27.4968 729.212 L27.4968 729.212 Z\" fill=\"#000000\" fill-rule=\"evenodd\" fill-opacity=\"1\" /><path clip-path=\"url(#clip550)\" d=\"M28.3562 672.398 L45.7028 685.289 L64.0042 671.73 L64.0042 678.637 L49.9996 689.013 L64.0042 699.389 L64.0042 706.296 L45.3526 692.45 L28.3562 705.118 L28.3562 698.211 L41.0558 688.758 L28.3562 679.305 L28.3562 672.398 Z\" fill=\"#000000\" fill-rule=\"evenodd\" fill-opacity=\"1\" /><polyline clip-path=\"url(#clip552)\" style=\"stroke:#009af9; stroke-linecap:butt; stroke-linejoin:round; stroke-width:4; stroke-opacity:1; fill:none\" points=\"\n",
       "  309.067,90.666 311.007,90.6612 312.946,90.6564 314.886,90.6516 316.825,90.6468 318.765,90.6421 320.704,90.6374 322.644,90.6327 324.583,90.6283 326.523,90.624 \n",
       "  328.462,90.6203 330.402,90.6173 332.342,90.6157 334.281,90.6163 336.221,90.6208 338.16,90.6315 340.1,90.6521 342.039,90.6885 343.979,90.7492 345.918,90.8472 \n",
       "  347.858,91.001 349.798,91.2371 351.737,91.5923 353.677,92.117 355.616,92.8786 357.556,93.965 359.495,95.4886 361.435,97.5895 363.374,100.438 365.314,104.235 \n",
       "  367.254,109.211 369.193,115.619 371.133,123.728 373.072,133.811 375.012,146.122 376.951,160.878 378.891,178.235 380.83,198.257 382.77,220.89 384.71,245.946 \n",
       "  386.649,273.074 388.589,301.766 390.528,331.35 392.468,361.015 394.407,389.838 396.347,416.832 398.286,440.997 400.226,461.382 402.166,477.145 404.105,487.614 \n",
       "  406.045,492.332 407.984,491.09 409.924,483.942 411.863,471.203 413.803,453.425 415.742,431.357 417.682,405.892 419.622,378.009 421.561,348.711 423.501,318.964 \n",
       "  425.44,289.649 427.38,261.522 429.319,235.189 431.259,211.094 433.198,189.517 435.138,170.591 437.078,154.315 439.017,140.586 440.957,129.221 442.896,119.983 \n",
       "  444.836,112.612 446.775,106.838 448.715,102.401 450.654,99.065 452.594,96.623 454.534,94.9055 456.473,93.7828 458.413,93.1673 460.352,93.0154 462.292,93.331 \n",
       "  464.231,94.1682 466.171,95.6373 468.11,97.9108 470.05,101.231 471.99,105.919 473.929,112.376 475.869,121.094 477.808,132.648 479.748,147.69 481.687,166.932 \n",
       "  483.627,191.114 485.566,220.965 487.506,257.146 489.446,300.191 491.385,350.433 493.325,407.929 495.264,472.394 497.204,543.142 499.143,619.048 501.083,698.544 \n",
       "  503.022,779.645 504.962,860.025 506.901,937.233 508.841,1009.3 510.781,1075.72 512.72,1137.16 514.66,1191.36 516.599,1229.36 518.539,1240.3 520.478,1221.11 \n",
       "  522.418,1179.39 524.357,1126.39 526.297,1068.54 528.237,1006.82 530.176,941.648 532.116,875.261 534.055,811.151 535.995,753.099 537.934,704.848 539.874,670.969 \n",
       "  541.813,660.563 543.753,691.441 545.693,777.411 547.632,891.152 549.572,963.773 551.511,964.149 553.451,940.709 555.39,949.759 557.33,997.009 559.269,1060.54 \n",
       "  561.209,1123.21 563.149,1177.13 565.088,1218.49 567.028,1244.91 568.967,1254.9 570.907,1247.8 572.846,1223.81 574.786,1183.94 576.725,1129.87 578.665,1063.85 \n",
       "  580.605,988.528 582.544,906.771 584.484,821.469 586.423,735.387 588.363,651.011 590.302,570.453 592.242,495.382 594.181,427.071 596.121,366.866 598.061,318.02 \n",
       "  600,288.625 601.94,288.198 603.879,309.233 605.819,316.228 607.758,279.145 609.698,212.803 611.637,155.104 613.577,122.636 615.517,108.26 617.456,101.635 \n",
       "  619.396,97.7886 621.335,95.2064 623.275,93.4229 625.214,92.2021 627.154,91.3786 629.093,90.8314 631.033,90.473 632.973,90.2413 634.912,90.0932 636.852,89.9993 \n",
       "  638.791,89.9401 640.731,89.9025 642.67,89.8783 644.61,89.8623 646.549,89.851 648.489,89.8427 650.429,89.8359 652.368,89.8301 654.308,89.8249 656.247,89.8199 \n",
       "  658.187,89.8151 660.126,89.8103 662.066,89.8056 664.005,89.8009 665.945,89.7963 667.884,89.7916 669.824,89.787 671.764,89.7823 673.703,89.7776 675.643,89.773 \n",
       "  677.582,89.7683 679.522,89.7637 681.461,89.759 683.401,89.7544 685.34,89.7497 687.28,89.7451 689.22,89.7405 691.159,89.7358 693.099,89.7312 695.038,89.7265 \n",
       "  696.978,89.7219 698.917,89.7172 700.857,89.7126 702.796,89.708 704.736,89.7033 706.676,89.6987 708.615,89.694 710.555,89.6894 712.494,89.6848 714.434,89.6801 \n",
       "  716.373,89.6755 718.313,89.6709 720.252,89.6662 722.192,89.6616 724.132,89.657 726.071,89.6523 728.011,89.6477 729.95,89.6431 731.89,89.6384 733.829,89.6338 \n",
       "  735.769,89.6292 737.708,89.6246 739.648,89.6199 741.588,89.6153 743.527,89.6107 745.467,89.6061 747.406,89.6015 749.346,89.597 751.285,89.5925 753.225,89.5881 \n",
       "  755.164,89.584 757.104,89.5803 759.044,89.5773 760.983,89.5756 762.923,89.576 764.862,89.58 766.802,89.59 768.741,89.6097 770.681,89.6448 772.62,89.7044 \n",
       "  774.56,89.8016 776.5,89.9561 778.439,90.1962 780.379,90.5619 782.318,91.1089 784.258,91.9127 786.197,93.0738 788.137,94.723 790.076,97.0265 792.016,100.19 \n",
       "  793.956,104.463 795.895,110.136 797.835,117.541 799.774,127.041 801.714,139.016 803.653,153.845 805.593,171.877 807.532,193.402 809.472,218.612 811.412,247.564 \n",
       "  813.351,280.144 815.291,316.037 817.23,354.704 819.17,395.377 821.109,437.067 823.049,478.594 824.988,518.639 826.928,555.801 828.868,588.684 830.807,615.979 \n",
       "  832.747,636.551 834.686,649.515 836.626,654.304 838.565,650.705 840.505,638.877 842.444,619.34 844.384,592.936 846.323,560.768 848.263,524.125 850.203,484.399 \n",
       "  852.142,442.991 854.082,401.238 856.021,360.345 857.961,321.329 859.9,284.99 861.84,251.901 863.779,222.408 865.719,196.652 867.659,174.598 869.598,156.072 \n",
       "  871.538,140.795 873.477,128.424 875.417,118.584 877.356,110.892 879.296,104.982 881.235,100.518 883.175,97.2026 885.115,94.7802 887.054,93.0391 888.994,91.8076 \n",
       "  890.933,90.9502 892.873,90.3625 894.812,89.967 896.752,89.7289 898.691,89.8438 900.631,91.8782 902.571,102.545 904.51,138.03 906.45,213.188 908.389,306.33 \n",
       "  910.329,351.217 912.268,307.039 914.208,213.975 916.147,138.437 918.087,102.583 920.027,91.7005 921.966,89.5124 923.906,89.213 925.845,89.1814 927.785,89.1751 \n",
       "  929.724,89.1704 931.664,89.1659 933.603,89.1613 935.543,89.1568 937.483,89.1522 939.422,89.1477 941.362,89.1444 943.301,89.1608 945.241,89.3955 947.18,91.2479 \n",
       "  949.12,100.952 951.059,134.609 952.999,209.65 954.939,309.148 956.878,365.834 958.818,328.865 960.757,232.213 962.697,147.945 964.636,105.762 966.576,92.3383 \n",
       "  968.515,89.5172 970.455,89.1157 972.395,89.0732 974.334,89.0663 976.274,89.0619 978.213,89.0577 980.153,89.0539 982.092,89.0506 984.032,89.0482 985.971,89.0475 \n",
       "  987.911,89.0496 989.851,89.0563 991.79,89.0707 993.73,89.0975 995.669,89.144 997.609,89.2213 999.548,89.3464 1001.49,89.5438 1003.43,89.8493 1005.37,90.3137 \n",
       "  1007.31,91.0081 1009.25,92.0299 1011.19,93.51 1013.13,95.6215 1015.06,98.5879 1017,102.693 1018.94,108.286 1020.88,115.792 1022.82,125.708 1024.76,138.603 \n",
       "  1026.7,155.101 1028.64,175.861 1030.58,201.536 1032.52,232.728 1034.46,269.927 1036.4,313.435 1038.34,363.303 1040.28,419.265 1042.22,480.703 1044.16,546.635 \n",
       "  1046.1,615.76 1048.04,686.532 1049.98,757.284 1051.92,826.365 1053.86,892.281 1055.8,953.804 1057.73,1010.04 1059.67,1060.45 1061.61,1104.82 1063.55,1143.22 \n",
       "  1065.49,1175.9 1067.43,1203.22 1069.37,1225.53 1071.31,1243.09 1073.25,1255.89 1075.19,1263.57 1077.13,1265.34 1079.07,1260.05 1081.01,1246.27 1082.95,1222.6 \n",
       "  1084.89,1188.31 1086.83,1145.02 1088.77,1100.04 1090.71,1065.39 1092.65,1040.9 1094.59,996.742 1096.53,900.678 1098.47,765.476 1100.41,634.593 1102.34,531.785 \n",
       "  1104.28,453.374 1106.22,390.297 1108.16,338.508 1110.1,297.209 1112.04,266.304 1113.98,245.603 1115.92,234.758 1117.86,233.306 1119.8,240.713 1121.74,256.389 \n",
       "  1123.68,279.677 1125.62,309.839 1127.56,346.017 1129.5,387.208 1131.44,432.238 1133.38,479.754 1135.32,528.234 1137.26,576.02 1139.2,621.373 1141.14,662.549 \n",
       "  1143.08,697.887 1145.01,725.904 1146.95,745.389 1148.89,755.479 1150.83,755.719 1152.77,746.094 1154.71,727.024 1156.65,699.339 1158.59,664.212 1160.53,623.08 \n",
       "  1162.47,577.546 1164.41,529.273 1166.35,479.89 1168.29,430.901 1170.23,383.615 1172.17,339.098 1174.11,298.151 1176.05,261.303 1177.99,228.827 1179.93,200.772 \n",
       "  1181.87,177 1183.81,157.232 1185.75,141.094 1187.69,128.153 1189.62,117.957 1191.56,110.063 1193.5,104.054 1195.44,99.5567 1197.38,96.2467 1199.32,93.8503 \n",
       "  1201.26,92.1434 1203.2,90.947 1205.14,90.1218 1207.08,89.5618 1209.02,89.1881 1210.96,88.9436 1212.9,88.7882 1214.84,88.6946 1216.78,88.6459 1218.72,88.6327 \n",
       "  1220.66,88.653 1222.6,88.7107 1224.54,88.8165 1226.48,88.9888 1228.42,89.2553 1230.36,89.6553 1232.29,90.2428 1234.23,91.0897 1236.17,92.2892 1238.11,93.9597 \n",
       "  1240.05,96.2476 1241.99,99.3293 1243.93,103.412 1245.87,108.73 1247.81,115.543 1249.75,124.124 1251.69,134.749 1253.63,147.681 1255.57,163.149 1257.51,181.325 \n",
       "  1259.45,202.306 1261.39,226.084 1263.33,252.535 1265.27,281.403 1267.21,312.297 1269.15,344.7 1271.09,377.995 1273.03,411.492 1274.96,444.484 1276.9,476.301 \n",
       "  1278.84,506.369 1280.78,534.267 1282.72,559.763 1284.66,582.833 1286.6,603.645 1288.54,622.52 1290.48,639.923 1292.42,656.893 1294.36,677.11 1296.3,711.017 \n",
       "  1298.24,773.664 1300.18,861.692 1302.12,930.356 1304.06,927.967 1306,860.577 1307.94,782.149 1309.88,728.025 1311.82,694.799 1313.76,667.313 1315.7,637.111 \n",
       "  1317.64,602.215 1319.57,563.125 1321.51,520.974 1323.45,477.051 1325.39,432.645 1327.33,388.964 1329.27,347.06 1331.21,307.792 1333.15,271.795 1335.09,239.481 \n",
       "  1337.03,211.053 1338.97,186.526 1340.91,165.767 1342.85,148.57 1344.79,135.019 1346.73,127.23 1348.67,134.105 1350.61,174.127 1352.55,256.961 1354.49,345.683 \n",
       "  1356.43,368.11 1358.37,301.364 1360.31,203.461 1362.24,136.499 1364.18,110.59 1366.12,107.346 1368.06,112.581 1370,121.605 1371.94,133.93 1373.88,150.105 \n",
       "  1375.82,170.887 1377.76,197.085 1379.7,229.506 1381.64,268.895 1383.58,315.862 1385.52,370.804 1387.46,433.82 1389.4,504.631 1391.34,582.512 1393.28,666.246 \n",
       "  1395.22,754.107 1397.16,843.889 1399.1,932.97 1401.04,1018.43 1402.98,1097.23 1404.92,1166.37 1406.85,1223.12 1408.79,1265.26 1410.73,1291.24 1412.67,1300.32 \n",
       "  1414.61,1292.68 1416.55,1269.44 1418.49,1232.54 1420.43,1184.66 1422.37,1129 1424.31,1069.03 1426.25,1008.33 1428.19,950.291 1430.13,897.971 1432.07,853.952 \n",
       "  1434.01,820.231 1435.95,798.159 1437.89,788.405 1439.83,790.942 1441.77,805.052 1443.71,829.348 1445.65,861.831 1447.59,899.98 1449.52,940.891 1451.46,981.458 \n",
       "  1453.4,1018.59 1455.34,1049.47 1457.28,1071.78 1459.22,1083.97 1461.16,1085.41 1463.1,1076.5 1465.04,1058.71 1466.98,1034.43 1468.92,1006.79 1470.86,979.27 \n",
       "  1472.8,955.344 1474.74,938.042 1476.68,929.585 1478.62,931.131 1480.56,942.678 1482.5,963.128 1484.44,990.51 1486.38,1022.28 1488.32,1055.67 1490.26,1087.95 \n",
       "  1492.2,1116.67 1494.13,1139.72 1496.07,1155.39 1498.01,1162.3 1499.95,1159.39 1501.89,1145.89 1503.83,1121.35 1505.77,1085.7 1507.71,1039.32 1509.65,983.108 \n",
       "  1511.59,918.449 1513.53,847.2 1515.47,771.561 1517.41,693.921 1519.35,616.683 1521.29,542.09 1523.23,472.089 1525.17,408.231 1527.11,351.639 1529.05,303.015 \n",
       "  1530.99,262.693 1532.93,230.714 1534.87,206.921 1536.8,191.041 1538.74,182.758 1540.68,181.769 1542.62,187.811 1544.56,200.666 1546.5,220.146 1548.44,246.054 \n",
       "  1550.38,278.137 1552.32,316.034 1554.26,359.232 1556.2,407.128 1558.14,459.527 1560.08,517.941 1562.02,585.932 1563.96,663.309 1565.9,736.884 1567.84,786.655 \n",
       "  1569.78,808.009 1571.72,815.539 1573.66,822.319 1575.6,828.69 1577.54,829.426 1579.48,821.191 1581.41,803.419 1583.35,777.019 1585.29,743.601 1587.23,705.197 \n",
       "  1589.17,664.122 1591.11,622.834 1593.05,583.779 1594.99,549.242 1596.93,521.217 1598.87,501.458 1600.81,492.532 1602.75,501.93 1604.69,547.824 1606.63,648.755 \n",
       "  1608.57,782.246 1610.51,869.601 1612.45,856.01 1614.39,782.948 1616.33,727.767 1618.27,717.168 1620.21,733.277 1622.15,755.918 1624.08,776.634 1626.02,793.885 \n",
       "  1627.96,808.476 1629.9,822.041 1631.84,836.624 1633.78,854.407 1635.72,877.412 1637.66,907.191 1639.6,944.548 1641.54,989.328 1643.48,1040.33 1645.42,1095.34 \n",
       "  1647.36,1151.31 1649.3,1204.62 1651.24,1251.46 1653.18,1288.17 1655.12,1311.63 1657.06,1319.51 1659,1310.44 1660.94,1284.11 1662.88,1241.24 1664.82,1183.45 \n",
       "  1666.75,1113.05 1668.69,1032.88 1670.63,946.047 1672.57,855.707 1674.51,764.887 1676.45,676.332 1678.39,592.406 1680.33,515.034 1682.27,445.696 1684.21,385.448 \n",
       "  1686.15,334.981 1688.09,294.688 1690.03,264.743 1691.97,245.177 1693.91,235.938 1695.85,236.938 1697.79,248.067 1699.73,269.198 1701.67,300.155 1703.61,340.667 \n",
       "  1705.55,390.31 1707.49,448.434 1709.43,514.107 1711.36,586.057 1713.3,662.646 1715.24,741.87 1717.18,821.4 1719.12,898.652 1721.06,970.904 1723,1035.43 \n",
       "  1724.94,1089.66 1726.88,1131.34 1728.82,1158.69 1730.76,1170.52 1732.7,1166.33 1734.64,1146.36 1736.58,1111.54 1738.52,1063.49 1740.46,1004.38 1742.4,936.8 \n",
       "  1744.34,863.587 1746.28,787.671 1748.22,711.896 1750.16,638.865 1752.1,570.821 1754.03,509.546 1755.97,456.315 1757.91,411.879 1759.85,376.488 1761.79,349.949 \n",
       "  1763.73,331.706 1765.67,320.941 1767.61,316.682 1769.55,317.912 1771.49,323.679 1773.43,333.193 1775.37,345.904 1777.31,361.571 1779.25,380.3 1781.19,402.555 \n",
       "  1783.13,429.127 1785.07,461.06 1787.01,499.518 1788.95,545.607 1790.89,600.143 1792.83,663.413 1794.77,734.949 1796.71,813.374 1798.64,896.377 1800.58,980.838 \n",
       "  1802.52,1063.13 1804.46,1139.58 1806.4,1206.93 1808.34,1262.9 1810.28,1306.43 1812.22,1337.83 1814.16,1358.59 1816.1,1370.94 1818.04,1377.26 1819.98,1379.47 \n",
       "  1821.92,1378.5 1823.86,1374.09 1825.8,1364.79 1827.74,1348.29 1829.68,1322 1831.62,1283.59 1833.56,1231.59 1835.5,1165.74 1837.44,1087.12 1839.38,998.049 \n",
       "  1841.31,901.762 1843.25,802.011 1845.19,702.594 1847.13,606.969 1849.07,517.952 1851.01,437.563 1852.95,366.989 1854.89,306.644 1856.83,256.309 1858.77,215.291 \n",
       "  1860.71,182.594 1862.65,157.072 1864.59,137.546 1866.53,122.89 1868.47,112.092 1870.41,104.277 1872.35,98.7192 1874.29,94.833 1876.23,92.1605 1878.17,90.3523 \n",
       "  1880.11,89.1483 1882.05,88.3588 1883.99,87.849 1885.92,87.5243 1887.86,87.3205 1889.8,87.1941 1891.74,87.1168 1893.68,87.0705 1895.62,87.0442 1897.56,87.0317 \n",
       "  1899.5,87.0307 1901.44,87.0418 1903.38,87.0687 1905.32,87.1192 1907.26,87.2062 1909.2,87.3498 1911.14,87.5806 1913.08,87.9437 1915.02,88.5042 1916.96,89.3547 \n",
       "  1918.9,90.6231 1920.84,92.4837 1922.78,95.168 1924.72,98.9774 1926.66,104.294 1928.59,111.593 1930.53,121.447 1932.47,134.525 1934.41,151.591 1936.35,173.479 \n",
       "  1938.29,201.064 1940.23,235.216 1942.17,276.738 1944.11,326.295 1946.05,384.329 1947.99,450.969 1949.93,525.954 1951.87,608.555 1953.81,697.532 1955.75,791.11 \n",
       "  1957.69,887.007 1959.63,982.495 1961.57,1074.51 1963.51,1159.81 1965.45,1235.16 1967.39,1297.53 1969.33,1344.33 1971.26,1373.61 1973.2,1384.24 1975.14,1376.01 \n",
       "  1977.08,1349.75 1979.02,1307.23 1980.96,1251.14 1982.9,1184.84 1984.84,1112.15 1986.78,1037.01 1988.72,963.195 1990.66,893.992 1992.6,831.958 1994.54,778.76 \n",
       "  1996.48,735.105 1998.42,700.778 2000.36,674.77 2002.3,655.472 2004.24,640.911 2006.18,628.986 2008.12,617.689 2010.06,605.278 2012,590.398 2013.94,572.143 \n",
       "  2015.87,550.067 2017.81,524.158 2019.75,494.766 2021.69,462.528 2023.63,428.274 2025.57,392.939 2027.51,357.479 2029.45,322.799 2031.39,289.704 2033.33,258.861 \n",
       "  2035.27,230.781 2037.21,205.814 2039.15,184.167 2041.09,165.919 2043.03,151.054 2044.97,139.493 2046.91,131.121 2048.85,125.818 2050.79,123.479 2052.73,124.026 \n",
       "  2054.67,127.418 2056.61,133.642 2058.54,142.706 2060.48,154.617 2062.42,169.363 2064.36,186.879 2066.3,207.026 2068.24,229.568 2070.18,254.15 2072.12,280.292 \n",
       "  2074.06,307.394 2076,334.745 2077.94,361.561 2079.88,387.018 2081.82,410.31 2083.76,430.745 2085.7,448.115 2087.64,464.481 2089.58,489.267 2091.52,543.369 \n",
       "  2093.46,641.653 2095.4,749.729 2097.34,786.089 2099.28,713.928 2101.22,593.197 2103.15,503.126 2105.09,469.792 2107.03,486.941 2108.97,544.521 2110.91,611.276 \n",
       "  2112.85,634.295 2114.79,595.551 2116.73,540.716 2118.67,526.745 2120.61,563.767 2122.55,610.25 2124.49,616.112 2126.43,575.958 2128.37,527.659 2130.31,501.899 \n",
       "  2132.25,500.183 2134.19,512.865 2136.13,534.445 2138.07,564.072 2140.01,602.354 2141.95,649.765 2143.89,706.194 2145.82,770.805 2147.76,842.007 2149.7,917.492 \n",
       "  2151.64,994.355 2153.58,1069.27 2155.52,1138.72 2157.46,1199.27 2159.4,1247.79 2161.34,1281.75 2163.28,1299.4 2165.22,1299.93 2167.16,1283.55 2169.1,1251.46 \n",
       "  2171.04,1205.83 2172.98,1149.57 2174.92,1086.11 2176.86,1019.11 2178.8,952.179 2180.74,888.515 2182.68,830.699 2184.62,780.496 2186.56,738.764 2188.5,705.476 \n",
       "  2190.43,679.818 2192.37,660.368 2194.31,645.318 2196.25,632.718 2198.19,620.793 2200.13,608.666 2202.07,598.066 2204.01,594.609 2205.95,602.225 2207.89,609.769 \n",
       "  2209.83,592.108 2211.77,538.671 2213.71,468.804 2215.65,406.985 2217.59,359.73 2219.53,321.632 2221.47,287.821 2223.41,256.774 2225.35,228.48 2227.29,203.166 \n",
       "  2229.23,180.959 2231.17,161.85 2233.1,145.714 2235.04,132.336 2236.98,121.443 2238.92,112.73 2240.86,105.88 2242.8,100.588 2244.74,96.5678 2246.68,93.5646 \n",
       "  2248.62,91.358 2250.56,89.7632 2252.5,88.6288 2254.44,87.8347 2256.38,87.2875 2258.32,86.9191 2260.26,86.7234 2262.2,87.1371 2264.14,91.2908 2266.08,112.337 \n",
       "  2268.02,181.486 2269.96,326.314 2271.9,503.251 2273.84,585.283 2275.77,497.671 2277.71,319.911 2279.65,177.648 2281.59,110.846 2283.53,90.7666 2285.47,86.7707 \n",
       "  2287.41,86.2345 2289.35,86.1859 2291.29,86.1857 2293.23,86.1933 \n",
       "  \"/>\n",
       "<polyline clip-path=\"url(#clip552)\" style=\"stroke:#e26f46; stroke-linecap:butt; stroke-linejoin:round; stroke-width:4; stroke-opacity:1; fill:none\" points=\"\n",
       "  309.067,90.8768 311.007,90.9068 312.946,90.942 314.886,90.983 316.825,91.0308 318.765,91.0865 320.704,91.1511 322.644,91.2264 324.583,91.314 326.523,91.4164 \n",
       "  328.462,91.5364 330.402,91.6781 332.342,91.8461 334.281,92.0468 336.221,92.2884 338.16,92.5817 340.1,92.9403 342.039,93.3821 343.979,93.93 345.918,94.6129 \n",
       "  347.858,95.4673 349.798,96.5388 351.737,97.883 353.677,99.5676 355.616,101.673 357.556,104.293 359.495,107.536 361.435,111.522 363.374,116.383 365.314,122.259 \n",
       "  367.254,129.292 369.193,137.622 371.133,147.374 373.072,158.656 375.012,171.542 376.951,186.061 378.891,202.19 380.83,219.842 382.77,238.854 384.71,258.989 \n",
       "  386.649,279.93 388.589,301.287 390.528,322.601 392.468,343.366 394.407,363.039 396.347,381.069 398.286,396.921 400.226,410.103 402.166,420.188 404.105,426.843 \n",
       "  406.045,429.845 407.984,429.092 409.924,424.611 411.863,416.557 413.803,405.202 415.742,390.923 417.682,374.176 419.622,355.478 421.561,335.374 423.501,314.418 \n",
       "  425.44,293.14 427.38,272.034 429.319,251.532 431.259,231.999 433.198,213.723 435.138,196.915 437.078,181.71 439.017,168.177 440.957,156.324 442.896,146.113 \n",
       "  444.836,137.47 446.775,130.3 448.715,124.494 450.654,119.943 452.594,116.548 454.534,114.225 456.473,112.918 458.413,112.596 460.352,113.269 462.292,114.983 \n",
       "  464.231,117.829 466.171,121.944 468.11,127.511 470.05,134.762 471.99,143.974 473.929,155.464 475.869,169.584 477.808,186.706 479.748,207.208 481.687,231.453 \n",
       "  483.627,259.766 485.566,292.406 487.506,329.537 489.446,371.196 491.385,417.272 493.325,467.479 495.264,521.341 497.204,578.183 499.143,637.136 501.083,697.138 \n",
       "  503.022,756.959 504.962,815.216 506.901,870.416 508.841,921.008 510.781,965.455 512.72,1002.33 514.66,1030.43 516.599,1048.89 518.539,1057.31 520.478,1055.8 \n",
       "  522.418,1045.04 524.357,1026.28 526.297,1001.2 528.237,971.917 530.176,940.766 532.116,910.198 534.055,882.585 535.995,860.038 537.934,844.214 539.874,836.159 \n",
       "  541.813,836.21 543.753,844.009 545.693,858.613 547.632,878.702 549.572,902.815 551.511,929.547 553.451,957.661 555.39,986.085 557.33,1013.83 559.269,1039.86 \n",
       "  561.209,1063.03 563.149,1082.04 565.088,1095.51 567.028,1102.11 568.967,1100.74 570.907,1090.58 572.846,1071.28 574.786,1042.91 576.725,1006 578.665,961.496 \n",
       "  580.605,910.632 582.544,854.898 584.484,795.927 586.423,735.415 588.363,675.021 590.302,616.276 592.242,560.483 594.181,508.622 596.121,461.277 598.061,418.603 \n",
       "  600,380.361 601.94,346.008 603.879,314.851 605.819,286.22 607.758,259.613 609.698,234.788 611.637,211.761 613.577,190.735 615.517,171.983 617.456,155.732 \n",
       "  619.396,142.073 621.335,130.935 623.275,122.094 625.214,115.23 627.154,109.978 629.093,105.985 631.033,102.944 632.973,100.606 634.912,98.7819 636.852,97.3352 \n",
       "  638.791,96.1691 640.731,95.2155 642.67,94.4264 644.61,93.767 646.549,93.2116 648.489,92.7406 650.429,92.339 652.368,91.9946 654.308,91.698 656.247,91.4414 \n",
       "  658.187,91.2188 660.126,91.025 662.066,90.8558 664.005,90.708 665.945,90.5786 667.884,90.4652 669.824,90.3659 671.764,90.2788 673.703,90.2025 675.643,90.1359 \n",
       "  677.582,90.0775 679.522,90.0264 681.461,89.9818 683.401,89.9429 685.34,89.909 687.28,89.8794 689.22,89.8537 691.159,89.8313 693.099,89.8118 695.038,89.7949 \n",
       "  696.978,89.7803 698.917,89.7677 700.857,89.7569 702.796,89.7477 704.736,89.7401 706.676,89.7338 708.615,89.7289 710.555,89.7253 712.494,89.723 714.434,89.7222 \n",
       "  716.373,89.7228 718.313,89.725 720.252,89.7289 722.192,89.7348 724.132,89.7428 726.071,89.7532 728.011,89.7664 729.95,89.7826 731.89,89.8024 733.829,89.8261 \n",
       "  735.769,89.8543 737.708,89.8876 739.648,89.9267 741.588,89.9724 743.527,90.0256 745.467,90.0873 747.406,90.1589 749.346,90.2417 751.285,90.3377 753.225,90.4491 \n",
       "  755.164,90.5786 757.104,90.7296 759.044,90.9066 760.983,91.1152 762.923,91.3626 764.862,91.6583 766.802,92.0145 768.741,92.447 770.681,92.9764 772.62,93.6291 \n",
       "  774.56,94.4389 776.5,95.4488 778.439,96.7126 780.379,98.2973 782.318,100.285 784.258,102.774 786.197,105.881 788.137,109.744 790.076,114.517 792.016,120.374 \n",
       "  793.956,127.503 795.895,136.102 797.835,146.37 799.774,158.5 801.714,172.665 803.653,189.006 805.593,207.615 807.532,228.518 809.472,251.663 811.412,276.905 \n",
       "  813.351,303.994 815.291,332.571 817.23,362.166 819.17,392.209 821.109,422.04 823.049,450.93 824.988,478.115 826.928,502.82 828.868,524.305 830.807,541.892 \n",
       "  832.747,555.012 834.686,563.226 836.626,566.256 838.565,564 840.505,556.534 842.444,544.113 844.384,527.153 846.323,506.209 848.263,481.943 850.203,455.092 \n",
       "  852.142,426.426 854.082,396.715 856.021,366.697 857.961,337.042 859.9,308.338 861.84,281.07 863.779,255.617 865.719,232.246 867.659,211.121 869.598,192.312 \n",
       "  871.538,175.806 873.477,161.527 875.417,149.349 877.356,139.116 879.296,130.66 881.235,123.82 883.175,118.463 885.115,114.505 887.054,111.934 888.994,110.817 \n",
       "  890.933,111.306 892.873,113.598 894.812,117.884 896.752,124.243 898.691,132.54 900.631,142.323 902.571,152.787 904.51,162.825 906.45,171.182 908.389,176.688 \n",
       "  910.329,178.505 912.268,176.322 914.208,170.43 916.147,161.643 918.087,151.111 920.027,140.066 921.966,129.588 923.906,120.452 925.845,113.079 927.785,107.575 \n",
       "  929.724,103.841 931.664,101.695 933.603,100.979 935.543,101.637 937.483,103.74 939.422,107.461 941.362,113.009 943.301,120.512 945.241,129.892 947.18,140.749 \n",
       "  949.12,152.305 951.059,163.445 952.999,172.87 954.939,179.332 956.878,181.906 958.818,180.203 960.757,174.464 962.697,165.503 964.636,154.509 966.576,142.789 \n",
       "  968.515,131.509 970.455,121.522 972.395,113.293 974.334,106.934 976.274,102.296 978.213,99.087 980.153,96.9708 982.092,95.6415 984.032,94.8564 985.971,94.4443 \n",
       "  987.911,94.2968 989.851,94.354 991.79,94.5895 993.73,95.0005 995.669,95.6006 997.609,96.4171 999.548,97.4901 1001.49,98.8743 1003.43,100.641 1005.37,102.88 \n",
       "  1007.31,105.707 1009.25,109.26 1011.19,113.71 1013.13,119.257 1015.06,126.137 1017,134.619 1018.94,145.002 1020.88,157.611 1022.82,172.789 1024.76,190.883 \n",
       "  1026.7,212.227 1028.64,237.126 1030.58,265.829 1032.52,298.506 1034.46,335.225 1036.4,375.931 1038.34,420.431 1040.28,468.384 1042.22,519.305 1044.16,572.576 \n",
       "  1046.1,627.47 1048.04,683.178 1049.98,738.848 1051.92,793.627 1053.86,846.697 1055.8,897.304 1057.73,944.79 1059.67,988.599 1061.61,1028.28 1063.55,1063.47 \n",
       "  1065.49,1093.89 1067.43,1119.32 1069.37,1139.57 1071.31,1154.44 1073.25,1163.79 1075.19,1167.45 1077.13,1165.28 1079.07,1157.15 1081.01,1142.95 1082.95,1122.59 \n",
       "  1084.89,1095.97 1086.83,1063.01 1088.77,1023.72 1090.71,978.208 1092.65,926.858 1094.59,870.388 1096.53,809.93 1098.47,747.022 1100.41,683.518 1102.34,621.427 \n",
       "  1104.28,562.717 1106.22,509.131 1108.16,462.053 1110.1,422.447 1112.04,390.86 1113.98,367.477 1115.92,352.201 1117.86,344.719 1119.8,344.57 1121.74,351.174 \n",
       "  1123.68,363.861 1125.62,381.872 1127.56,404.364 1129.5,430.415 1131.44,459.027 1133.38,489.14 1135.32,519.653 1137.26,549.446 1139.2,577.417 1141.14,602.514 \n",
       "  1143.08,623.777 1145.01,640.374 1146.95,651.639 1148.89,657.097 1150.83,656.488 1152.77,649.773 1154.71,637.133 1156.65,618.959 1158.59,595.82 1160.53,568.436 \n",
       "  1162.47,537.633 1164.41,504.304 1166.35,469.357 1168.29,433.682 1170.23,398.106 1172.17,363.367 1174.11,330.093 1176.05,298.782 1177.99,269.807 1179.93,243.41 \n",
       "  1181.87,219.717 1183.81,198.749 1185.75,180.44 1187.69,164.655 1189.62,151.211 1191.56,139.892 1193.5,130.464 1195.44,122.693 1197.38,116.348 1199.32,111.215 \n",
       "  1201.26,107.097 1203.2,103.823 1205.14,101.243 1207.08,99.2291 1209.02,97.6782 1210.96,96.5062 1212.9,95.6476 1214.84,95.0533 1216.78,94.6892 1218.72,94.5344 \n",
       "  1220.66,94.5805 1222.6,94.8307 1224.54,95.3001 1226.48,96.0156 1228.42,97.0163 1230.36,98.3549 1232.29,100.098 1234.23,102.327 1236.17,105.139 1238.11,108.645 \n",
       "  1240.05,112.973 1241.99,118.261 1243.93,124.658 1245.87,132.318 1247.81,141.394 1249.75,152.033 1251.69,164.363 1253.63,178.49 1255.57,194.482 1257.51,212.365 \n",
       "  1259.45,232.113 1261.39,253.642 1263.33,276.81 1265.27,301.413 1267.21,327.197 1269.15,353.865 1271.09,381.092 1273.03,408.55 1274.96,435.932 1276.9,462.978 \n",
       "  1278.84,489.506 1280.78,515.429 1282.72,540.769 1284.66,565.631 1286.6,590.16 1288.54,614.456 1290.48,638.462 1292.42,661.862 1294.36,684.007 1296.3,703.914 \n",
       "  1298.24,720.359 1300.18,732.056 1302.12,737.885 1304.06,737.105 1306,729.486 1307.94,715.338 1309.88,695.406 1311.82,670.706 1313.76,642.327 1315.7,611.278 \n",
       "  1317.64,578.404 1319.57,544.372 1321.51,509.71 1323.45,474.873 1325.39,440.298 1327.33,406.443 1329.27,373.802 1331.21,342.91 1333.15,314.328 1335.09,288.631 \n",
       "  1337.03,266.381 1338.97,248.076 1340.91,234.081 1342.85,224.532 1344.79,219.231 1346.73,217.579 1348.67,218.572 1350.61,220.904 1352.55,223.169 1354.49,224.132 \n",
       "  1356.43,222.994 1358.37,219.584 1360.31,214.403 1362.24,208.515 1364.18,203.333 1366.12,200.345 1368.06,200.886 1370,205.99 1371.94,216.345 1373.88,232.334 \n",
       "  1375.82,254.117 1377.76,281.715 1379.7,315.071 1381.64,354.068 1383.58,398.522 1385.52,448.14 1387.46,502.487 1389.4,560.942 1391.34,622.677 1393.28,686.65 \n",
       "  1395.22,751.612 1397.16,816.146 1399.1,878.715 1401.04,937.729 1402.98,991.622 1404.92,1038.94 1406.85,1078.44 1408.79,1109.13 1410.73,1130.39 1412.67,1141.98 \n",
       "  1414.61,1144.08 1416.55,1137.29 1418.49,1122.59 1420.43,1101.33 1422.37,1075.07 1424.31,1045.58 1426.25,1014.7 1428.19,984.227 1430.13,955.852 1432.07,931.043 \n",
       "  1434.01,910.983 1435.95,896.513 1437.89,888.097 1439.83,885.805 1441.77,889.327 1443.71,897.998 1445.65,910.856 1447.59,926.711 1449.52,944.231 1451.46,962.045 \n",
       "  1453.4,978.843 1455.34,993.479 1457.28,1005.06 1459.22,1013 1461.16,1017.11 1463.1,1017.55 1465.04,1014.83 1466.98,1009.79 1468.92,1003.45 1470.86,996.926 \n",
       "  1472.8,991.338 1474.74,987.662 1476.68,986.647 1478.62,988.734 1480.56,994.014 1482.5,1002.22 1484.44,1012.76 1486.38,1024.73 1488.32,1037.07 1490.26,1048.54 \n",
       "  1492.2,1057.88 1494.13,1063.88 1496.07,1065.41 1498.01,1061.55 1499.95,1051.55 1501.89,1034.94 1503.83,1011.49 1505.77,981.284 1507.71,944.648 1509.65,902.184 \n",
       "  1511.59,854.723 1513.53,803.292 1515.47,749.063 1517.41,693.299 1519.35,637.293 1521.29,582.315 1523.23,529.557 1525.17,480.094 1527.11,434.848 1529.05,394.577 \n",
       "  1530.99,359.867 1532.93,331.137 1534.87,308.659 1536.8,292.572 1538.74,282.909 1540.68,279.613 1542.62,282.557 1544.56,291.556 1546.5,306.369 1548.44,326.693 \n",
       "  1550.38,352.144 1552.32,382.23 1554.26,416.318 1556.2,453.596 1558.14,493.06 1560.08,533.522 1562.02,573.652 1563.96,612.062 1565.9,647.41 1567.84,678.507 \n",
       "  1569.78,704.409 1571.72,724.47 1573.66,738.359 1575.6,746.035 1577.54,747.714 1579.48,743.831 1581.41,735.018 1583.35,722.096 1585.29,706.075 1587.23,688.157 \n",
       "  1589.17,669.721 1591.11,652.27 1593.05,637.35 1594.99,626.413 1596.93,620.645 1598.87,620.784 1600.81,626.962 1602.75,638.628 1604.69,654.594 1606.63,673.223 \n",
       "  1608.57,692.724 1610.51,711.496 1612.45,728.418 1614.39,743.014 1616.33,755.447 1618.27,766.375 1620.21,776.712 1622.15,787.402 1624.08,799.244 1626.02,812.825 \n",
       "  1627.96,828.525 1629.9,846.573 1631.84,867.1 1633.78,890.163 1635.72,915.732 1637.66,943.644 1639.6,973.541 1641.54,1004.82 1643.48,1036.6 1645.42,1067.74 \n",
       "  1647.36,1096.88 1649.3,1122.53 1651.24,1143.15 1653.18,1157.28 1655.12,1163.64 1657.06,1161.25 1659,1149.5 1660.94,1128.16 1662.88,1097.46 1664.82,1058.04 \n",
       "  1666.75,1010.9 1668.69,957.352 1670.63,898.933 1672.57,837.321 1674.51,774.248 1676.45,711.421 1678.39,650.456 1680.33,592.83 1682.27,539.839 1684.21,492.586 \n",
       "  1686.15,451.968 1688.09,418.685 1690.03,393.252 1691.97,376.011 1693.91,367.147 1695.85,366.701 1697.79,374.577 1699.73,390.544 1701.67,414.232 1703.61,445.124 \n",
       "  1705.55,482.547 1707.49,525.663 1709.43,573.465 1711.36,624.777 1713.3,678.27 1715.24,732.481 1717.18,785.853 1719.12,836.78 1721.06,883.668 1723,924.996 \n",
       "  1724.94,959.39 1726.88,985.685 1728.82,1002.98 1730.76,1010.71 1732.7,1008.64 1734.64,996.919 1736.58,976.036 1738.52,946.827 1740.46,910.416 1742.4,868.154 \n",
       "  1744.34,821.553 1746.28,772.206 1748.22,721.712 1750.16,671.605 1752.1,623.283 1754.03,577.965 1755.97,536.651 1757.91,500.105 1759.85,468.853 1761.79,443.198 \n",
       "  1763.73,423.245 1765.67,408.944 1767.61,400.134 1769.55,396.59 1771.49,398.07 1773.43,404.358 1775.37,415.297 1777.31,430.802 1779.25,450.87 1781.19,475.558 \n",
       "  1783.13,504.961 1785.07,539.159 1787.01,578.167 1788.95,621.874 1790.89,669.99 1792.83,722.003 1794.77,777.162 1796.71,834.48 1798.64,892.773 1800.58,950.719 \n",
       "  1802.52,1006.95 1804.46,1060.14 1806.4,1109.09 1808.34,1152.81 1810.28,1190.56 1812.22,1221.84 1814.16,1246.38 1816.1,1264.09 1818.04,1274.94 1819.98,1278.96 \n",
       "  1821.92,1276.09 1823.86,1266.24 1825.8,1249.25 1827.74,1224.91 1829.68,1193.08 1831.62,1153.74 1833.56,1107.08 1835.5,1053.56 1837.44,993.926 1839.38,929.236 \n",
       "  1841.31,860.788 1843.25,790.064 1845.19,718.627 1847.13,648.027 1849.07,579.699 1851.01,514.884 1852.95,454.574 1854.89,399.48 1856.83,350.025 1858.77,306.367 \n",
       "  1860.71,268.428 1862.65,235.944 1864.59,208.513 1866.53,185.645 1868.47,166.802 1870.41,151.44 1872.35,139.033 1874.29,129.095 1876.23,121.19 1878.17,114.938 \n",
       "  1880.11,110.019 1882.05,106.164 1883.99,103.155 1885.92,100.819 1887.86,99.0169 1889.8,97.6441 1891.74,96.6203 1893.68,95.8868 1895.62,95.4025 1897.56,95.1411 \n",
       "  1899.5,95.0895 1901.44,95.2463 1903.38,95.622 1905.32,96.2396 1907.26,97.1359 1909.2,98.3634 1911.14,99.9936 1913.08,102.12 1915.02,104.863 1916.96,108.373 \n",
       "  1918.9,112.835 1920.84,118.475 1922.78,125.561 1924.72,134.405 1926.66,145.364 1928.59,158.836 1930.53,175.252 1932.47,195.067 1934.41,218.74 1936.35,246.713 \n",
       "  1938.29,279.387 1940.23,317.084 1942.17,360.014 1944.11,408.242 1946.05,461.648 1947.99,519.897 1949.93,582.416 1951.87,648.383 1953.81,716.722 1955.75,786.127 \n",
       "  1957.69,855.091 1959.63,921.962 1961.57,985.008 1963.51,1042.5 1965.45,1092.81 1967.39,1134.48 1969.33,1166.34 1971.26,1187.56 1973.2,1197.72 1975.14,1196.86 \n",
       "  1977.08,1185.44 1979.02,1164.35 1980.96,1134.86 1982.9,1098.51 1984.84,1057.03 1986.78,1012.24 1988.72,965.868 1990.66,919.536 1992.6,874.599 1994.54,832.107 \n",
       "  1996.48,792.76 1998.42,756.902 2000.36,724.542 2002.3,695.401 2004.24,668.979 2006.18,644.627 2008.12,621.631 2010.06,599.285 2012,576.951 2013.94,554.116 \n",
       "  2015.87,530.417 2017.81,505.661 2019.75,479.82 2021.69,453.018 2023.63,425.508 2025.57,397.637 2027.51,369.814 2029.45,342.482 2031.39,316.078 2033.33,291.019 \n",
       "  2035.27,267.676 2037.21,246.367 2039.15,227.348 2041.09,210.813 2043.03,196.903 2044.97,185.706 2046.91,177.269 2048.85,171.609 2050.79,168.714 2052.73,168.555 \n",
       "  2054.67,171.085 2056.61,176.238 2058.54,183.931 2060.48,194.054 2062.42,206.472 2064.36,221.016 2066.3,237.482 2068.24,255.645 2070.18,275.261 2072.12,296.098 \n",
       "  2074.06,317.955 2076,340.687 2077.94,364.216 2079.88,388.507 2081.82,413.519 2083.76,439.109 2085.7,464.931 2087.64,490.356 2089.58,514.461 2091.52,536.123 \n",
       "  2093.46,554.22 2095.4,567.887 2097.34,576.757 2099.28,581.092 2101.22,581.746 2103.15,579.968 2105.09,577.102 2107.03,574.288 2108.97,572.258 2110.91,571.283 \n",
       "  2112.85,571.243 2114.79,571.792 2116.73,572.53 2118.67,573.149 2120.61,573.53 2122.55,573.796 2124.49,574.336 2126.43,575.796 2128.37,579.039 2130.31,585.066 \n",
       "  2132.25,594.9 2134.19,609.461 2136.13,629.442 2138.07,655.221 2140.01,686.818 2141.95,723.876 2143.89,765.69 2145.82,811.239 2147.76,859.232 2149.7,908.168 \n",
       "  2151.64,956.392 2153.58,1002.18 2155.52,1043.8 2157.46,1079.66 2159.4,1108.35 2161.34,1128.74 2163.28,1140.07 2165.22,1142.02 2167.16,1134.67 2169.1,1118.57 \n",
       "  2171.04,1094.63 2172.98,1064.07 2174.92,1028.38 2176.86,989.131 2178.8,947.917 2180.74,906.24 2182.68,865.413 2184.62,826.501 2186.56,790.278 2188.5,757.213 \n",
       "  2190.43,727.487 2192.37,701.013 2194.31,677.472 2196.25,656.344 2198.19,636.944 2200.13,618.46 2202.07,600.002 2204.01,580.681 2205.95,559.704 2207.89,536.476 \n",
       "  2209.83,510.698 2211.77,482.419 2213.71,452.029 2215.65,420.196 2217.59,387.754 2219.53,355.574 2221.47,324.451 2223.41,295.022 2225.35,267.734 2227.29,242.852 \n",
       "  2229.23,220.484 2231.17,200.625 2233.1,183.198 2235.04,168.076 2236.98,155.111 2238.92,144.143 2240.86,135.013 2242.8,127.576 2244.74,121.721 2246.68,117.396 \n",
       "  2248.62,114.636 2250.56,113.595 2252.5,114.57 2254.44,117.989 2256.38,124.352 2258.32,134.117 2260.26,147.515 2262.2,164.341 2264.14,183.774 2266.08,204.308 \n",
       "  2268.02,223.858 2269.96,240.053 2271.9,250.692 2273.84,254.21 2275.77,250.049 2277.71,238.79 2279.65,222.007 2281.59,201.897 2283.53,180.8 2285.47,160.754 \n",
       "  2287.41,143.204 2289.35,128.902 2291.29,117.979 2293.23,110.127 \n",
       "  \"/>\n",
       "<path clip-path=\"url(#clip550)\" d=\"\n",
       "M1566.55 1377.32 L2282.65 1377.32 L2282.65 1221.8 L1566.55 1221.8  Z\n",
       "  \" fill=\"#ffffff\" fill-rule=\"evenodd\" fill-opacity=\"1\"/>\n",
       "<polyline clip-path=\"url(#clip550)\" style=\"stroke:#000000; stroke-linecap:butt; stroke-linejoin:round; stroke-width:4; stroke-opacity:1; fill:none\" points=\"\n",
       "  1566.55,1377.32 2282.65,1377.32 2282.65,1221.8 1566.55,1221.8 1566.55,1377.32 \n",
       "  \"/>\n",
       "<polyline clip-path=\"url(#clip550)\" style=\"stroke:#009af9; stroke-linecap:butt; stroke-linejoin:round; stroke-width:4; stroke-opacity:1; fill:none\" points=\"\n",
       "  1589.92,1273.64 1730.14,1273.64 \n",
       "  \"/>\n",
       "<path clip-path=\"url(#clip550)\" d=\"M1769.89 1274.71 Q1771.4 1275.22 1772.81 1276.89 Q1774.25 1278.55 1775.68 1281.47 L1780.43 1290.92 L1775.4 1290.92 L1770.98 1282.05 Q1769.27 1278.58 1767.65 1277.44 Q1766.05 1276.31 1763.27 1276.31 L1758.18 1276.31 L1758.18 1290.92 L1753.51 1290.92 L1753.51 1256.36 L1764.06 1256.36 Q1769.99 1256.36 1772.9 1258.83 Q1775.82 1261.31 1775.82 1266.31 Q1775.82 1269.57 1774.29 1271.73 Q1772.79 1273.88 1769.89 1274.71 M1758.18 1260.2 L1758.18 1272.47 L1764.06 1272.47 Q1767.44 1272.47 1769.15 1270.92 Q1770.89 1269.34 1770.89 1266.31 Q1770.89 1263.28 1769.15 1261.75 Q1767.44 1260.2 1764.06 1260.2 L1758.18 1260.2 Z\" fill=\"#000000\" fill-rule=\"evenodd\" fill-opacity=\"1\" /><path clip-path=\"url(#clip550)\" d=\"M1797 1277.88 Q1791.84 1277.88 1789.85 1279.06 Q1787.86 1280.24 1787.86 1283.09 Q1787.86 1285.36 1789.34 1286.7 Q1790.84 1288.02 1793.41 1288.02 Q1796.95 1288.02 1799.08 1285.52 Q1801.24 1283 1801.24 1278.83 L1801.24 1277.88 L1797 1277.88 M1805.5 1276.12 L1805.5 1290.92 L1801.24 1290.92 L1801.24 1286.98 Q1799.78 1289.34 1797.6 1290.48 Q1795.43 1291.59 1792.28 1291.59 Q1788.3 1291.59 1785.94 1289.36 Q1783.6 1287.12 1783.6 1283.37 Q1783.6 1278.99 1786.51 1276.77 Q1789.45 1274.55 1795.26 1274.55 L1801.24 1274.55 L1801.24 1274.13 Q1801.24 1271.19 1799.29 1269.6 Q1797.37 1267.98 1793.88 1267.98 Q1791.65 1267.98 1789.55 1268.51 Q1787.44 1269.04 1785.5 1270.11 L1785.5 1266.17 Q1787.83 1265.27 1790.03 1264.83 Q1792.23 1264.36 1794.32 1264.36 Q1799.94 1264.36 1802.72 1267.28 Q1805.5 1270.2 1805.5 1276.12 Z\" fill=\"#000000\" fill-rule=\"evenodd\" fill-opacity=\"1\" /><path clip-path=\"url(#clip550)\" d=\"M1811.79 1264.99 L1816.05 1264.99 L1821.38 1285.22 L1826.68 1264.99 L1831.7 1264.99 L1837.02 1285.22 L1842.32 1264.99 L1846.58 1264.99 L1839.8 1290.92 L1834.78 1290.92 L1829.2 1269.67 L1823.6 1290.92 L1818.57 1290.92 L1811.79 1264.99 Z\" fill=\"#000000\" fill-rule=\"evenodd\" fill-opacity=\"1\" /><path clip-path=\"url(#clip550)\" d=\"M1884.64 1265.75 L1884.64 1269.78 Q1882.83 1268.86 1880.89 1268.39 Q1878.95 1267.93 1876.86 1267.93 Q1873.69 1267.93 1872.09 1268.9 Q1870.52 1269.87 1870.52 1271.82 Q1870.52 1273.3 1871.65 1274.16 Q1872.79 1274.99 1876.21 1275.75 L1877.67 1276.08 Q1882.21 1277.05 1884.11 1278.83 Q1886.03 1280.59 1886.03 1283.76 Q1886.03 1287.37 1883.16 1289.48 Q1880.31 1291.59 1875.31 1291.59 Q1873.23 1291.59 1870.96 1291.17 Q1868.71 1290.78 1866.21 1289.97 L1866.21 1285.57 Q1868.57 1286.79 1870.87 1287.42 Q1873.16 1288.02 1875.4 1288.02 Q1878.41 1288.02 1880.03 1287 Q1881.65 1285.96 1881.65 1284.09 Q1881.65 1282.35 1880.47 1281.42 Q1879.32 1280.5 1875.36 1279.64 L1873.88 1279.3 Q1869.92 1278.46 1868.16 1276.75 Q1866.4 1275.01 1866.4 1272 Q1866.4 1268.35 1868.99 1266.36 Q1871.58 1264.36 1876.35 1264.36 Q1878.71 1264.36 1880.8 1264.71 Q1882.88 1265.06 1884.64 1265.75 Z\" fill=\"#000000\" fill-rule=\"evenodd\" fill-opacity=\"1\" /><path clip-path=\"url(#clip550)\" d=\"M1896.93 1287.03 L1896.93 1300.78 L1892.65 1300.78 L1892.65 1264.99 L1896.93 1264.99 L1896.93 1268.92 Q1898.27 1266.61 1900.31 1265.5 Q1902.37 1264.36 1905.22 1264.36 Q1909.94 1264.36 1912.88 1268.11 Q1915.84 1271.86 1915.84 1277.98 Q1915.84 1284.09 1912.88 1287.84 Q1909.94 1291.59 1905.22 1291.59 Q1902.37 1291.59 1900.31 1290.48 Q1898.27 1289.34 1896.93 1287.03 M1911.42 1277.98 Q1911.42 1273.28 1909.48 1270.61 Q1907.56 1267.93 1904.18 1267.93 Q1900.8 1267.93 1898.85 1270.61 Q1896.93 1273.28 1896.93 1277.98 Q1896.93 1282.67 1898.85 1285.36 Q1900.8 1288.02 1904.18 1288.02 Q1907.56 1288.02 1909.48 1285.36 Q1911.42 1282.67 1911.42 1277.98 Z\" fill=\"#000000\" fill-rule=\"evenodd\" fill-opacity=\"1\" /><path clip-path=\"url(#clip550)\" d=\"M1945.08 1276.89 L1945.08 1278.97 L1925.5 1278.97 Q1925.77 1283.37 1928.13 1285.68 Q1930.52 1287.98 1934.75 1287.98 Q1937.21 1287.98 1939.5 1287.37 Q1941.82 1286.77 1944.08 1285.57 L1944.08 1289.6 Q1941.79 1290.57 1939.38 1291.08 Q1936.98 1291.59 1934.5 1291.59 Q1928.3 1291.59 1924.66 1287.98 Q1921.05 1284.36 1921.05 1278.21 Q1921.05 1271.84 1924.48 1268.11 Q1927.93 1264.36 1933.76 1264.36 Q1938.99 1264.36 1942.02 1267.74 Q1945.08 1271.1 1945.08 1276.89 M1940.82 1275.64 Q1940.77 1272.14 1938.85 1270.06 Q1936.95 1267.98 1933.81 1267.98 Q1930.24 1267.98 1928.09 1269.99 Q1925.96 1272 1925.63 1275.66 L1940.82 1275.64 Z\" fill=\"#000000\" fill-rule=\"evenodd\" fill-opacity=\"1\" /><path clip-path=\"url(#clip550)\" d=\"M1970.73 1265.98 L1970.73 1269.97 Q1968.92 1268.97 1967.09 1268.48 Q1965.29 1267.98 1963.44 1267.98 Q1959.29 1267.98 1957 1270.61 Q1954.71 1273.23 1954.71 1277.98 Q1954.71 1282.72 1957 1285.36 Q1959.29 1287.98 1963.44 1287.98 Q1965.29 1287.98 1967.09 1287.49 Q1968.92 1286.98 1970.73 1285.98 L1970.73 1289.92 Q1968.94 1290.75 1967.02 1291.17 Q1965.13 1291.59 1962.97 1291.59 Q1957.12 1291.59 1953.67 1287.91 Q1950.22 1284.23 1950.22 1277.98 Q1950.22 1271.63 1953.69 1268 Q1957.19 1264.36 1963.25 1264.36 Q1965.22 1264.36 1967.09 1264.78 Q1968.97 1265.17 1970.73 1265.98 Z\" fill=\"#000000\" fill-rule=\"evenodd\" fill-opacity=\"1\" /><path clip-path=\"url(#clip550)\" d=\"M1982.35 1257.63 L1982.35 1264.99 L1991.12 1264.99 L1991.12 1268.3 L1982.35 1268.3 L1982.35 1282.37 Q1982.35 1285.54 1983.2 1286.45 Q1984.08 1287.35 1986.75 1287.35 L1991.12 1287.35 L1991.12 1290.92 L1986.75 1290.92 Q1981.81 1290.92 1979.94 1289.09 Q1978.06 1287.23 1978.06 1282.37 L1978.06 1268.3 L1974.94 1268.3 L1974.94 1264.99 L1978.06 1264.99 L1978.06 1257.63 L1982.35 1257.63 Z\" fill=\"#000000\" fill-rule=\"evenodd\" fill-opacity=\"1\" /><path clip-path=\"url(#clip550)\" d=\"M2011.75 1268.97 Q2011.03 1268.55 2010.17 1268.37 Q2009.34 1268.16 2008.32 1268.16 Q2004.71 1268.16 2002.76 1270.52 Q2000.84 1272.86 2000.84 1277.26 L2000.84 1290.92 L1996.56 1290.92 L1996.56 1264.99 L2000.84 1264.99 L2000.84 1269.02 Q2002.19 1266.66 2004.34 1265.52 Q2006.49 1264.36 2009.57 1264.36 Q2010.01 1264.36 2010.54 1264.43 Q2011.07 1264.48 2011.72 1264.6 L2011.75 1268.97 Z\" fill=\"#000000\" fill-rule=\"evenodd\" fill-opacity=\"1\" /><path clip-path=\"url(#clip550)\" d=\"M2015.77 1280.68 L2015.77 1264.99 L2020.03 1264.99 L2020.03 1280.52 Q2020.03 1284.2 2021.47 1286.05 Q2022.9 1287.88 2025.77 1287.88 Q2029.22 1287.88 2031.21 1285.68 Q2033.23 1283.48 2033.23 1279.69 L2033.23 1264.99 L2037.49 1264.99 L2037.49 1290.92 L2033.23 1290.92 L2033.23 1286.93 Q2031.68 1289.29 2029.62 1290.45 Q2027.58 1291.59 2024.87 1291.59 Q2020.4 1291.59 2018.09 1288.81 Q2015.77 1286.03 2015.77 1280.68 M2026.49 1264.36 L2026.49 1264.36 Z\" fill=\"#000000\" fill-rule=\"evenodd\" fill-opacity=\"1\" /><path clip-path=\"url(#clip550)\" d=\"M2066.44 1269.97 Q2068.04 1267.1 2070.26 1265.73 Q2072.49 1264.36 2075.49 1264.36 Q2079.55 1264.36 2081.74 1267.21 Q2083.94 1270.04 2083.94 1275.27 L2083.94 1290.92 L2079.66 1290.92 L2079.66 1275.41 Q2079.66 1271.68 2078.34 1269.87 Q2077.02 1268.07 2074.31 1268.07 Q2071 1268.07 2069.08 1270.27 Q2067.16 1272.47 2067.16 1276.26 L2067.16 1290.92 L2062.88 1290.92 L2062.88 1275.41 Q2062.88 1271.66 2061.56 1269.87 Q2060.24 1268.07 2057.49 1268.07 Q2054.22 1268.07 2052.3 1270.29 Q2050.38 1272.49 2050.38 1276.26 L2050.38 1290.92 L2046.1 1290.92 L2046.1 1264.99 L2050.38 1264.99 L2050.38 1269.02 Q2051.84 1266.63 2053.87 1265.5 Q2055.91 1264.36 2058.71 1264.36 Q2061.54 1264.36 2063.5 1265.8 Q2065.49 1267.23 2066.44 1269.97 Z\" fill=\"#000000\" fill-rule=\"evenodd\" fill-opacity=\"1\" /><polyline clip-path=\"url(#clip550)\" style=\"stroke:#e26f46; stroke-linecap:butt; stroke-linejoin:round; stroke-width:4; stroke-opacity:1; fill:none\" points=\"\n",
       "  1589.92,1325.48 1730.14,1325.48 \n",
       "  \"/>\n",
       "<path clip-path=\"url(#clip550)\" d=\"M1781.38 1310.86 L1781.38 1315.79 Q1779.01 1313.59 1776.33 1312.5 Q1773.67 1311.41 1770.66 1311.41 Q1764.73 1311.41 1761.58 1315.05 Q1758.44 1318.66 1758.44 1325.51 Q1758.44 1332.34 1761.58 1335.97 Q1764.73 1339.58 1770.66 1339.58 Q1773.67 1339.58 1776.33 1338.5 Q1779.01 1337.41 1781.38 1335.21 L1781.38 1340.09 Q1778.92 1341.76 1776.17 1342.59 Q1773.44 1343.43 1770.38 1343.43 Q1762.53 1343.43 1758.02 1338.63 Q1753.51 1333.82 1753.51 1325.51 Q1753.51 1317.18 1758.02 1312.39 Q1762.53 1307.57 1770.38 1307.57 Q1773.48 1307.57 1776.21 1308.4 Q1778.97 1309.21 1781.38 1310.86 Z\" fill=\"#000000\" fill-rule=\"evenodd\" fill-opacity=\"1\" /><path clip-path=\"url(#clip550)\" d=\"M1798.46 1319.82 Q1795.03 1319.82 1793.04 1322.5 Q1791.05 1325.16 1791.05 1329.82 Q1791.05 1334.47 1793.02 1337.15 Q1795.01 1339.82 1798.46 1339.82 Q1801.86 1339.82 1803.85 1337.13 Q1805.84 1334.45 1805.84 1329.82 Q1805.84 1325.21 1803.85 1322.52 Q1801.86 1319.82 1798.46 1319.82 M1798.46 1316.2 Q1804.01 1316.2 1807.19 1319.82 Q1810.36 1323.43 1810.36 1329.82 Q1810.36 1336.18 1807.19 1339.82 Q1804.01 1343.43 1798.46 1343.43 Q1792.88 1343.43 1789.71 1339.82 Q1786.56 1336.18 1786.56 1329.82 Q1786.56 1323.43 1789.71 1319.82 Q1792.88 1316.2 1798.46 1316.2 Z\" fill=\"#000000\" fill-rule=\"evenodd\" fill-opacity=\"1\" /><path clip-path=\"url(#clip550)\" d=\"M1838.97 1327.11 L1838.97 1342.76 L1834.71 1342.76 L1834.71 1327.25 Q1834.71 1323.57 1833.27 1321.74 Q1831.84 1319.91 1828.97 1319.91 Q1825.52 1319.91 1823.53 1322.11 Q1821.54 1324.31 1821.54 1328.1 L1821.54 1342.76 L1817.26 1342.76 L1817.26 1316.83 L1821.54 1316.83 L1821.54 1320.86 Q1823.07 1318.52 1825.13 1317.36 Q1827.21 1316.2 1829.92 1316.2 Q1834.39 1316.2 1836.68 1318.98 Q1838.97 1321.74 1838.97 1327.11 Z\" fill=\"#000000\" fill-rule=\"evenodd\" fill-opacity=\"1\" /><path clip-path=\"url(#clip550)\" d=\"M1844.41 1316.83 L1848.92 1316.83 L1857.02 1338.59 L1865.13 1316.83 L1869.64 1316.83 L1859.92 1342.76 L1854.13 1342.76 L1844.41 1316.83 Z\" fill=\"#000000\" fill-rule=\"evenodd\" fill-opacity=\"1\" /><path clip-path=\"url(#clip550)\" d=\"M1885.57 1319.82 Q1882.14 1319.82 1880.15 1322.5 Q1878.16 1325.16 1878.16 1329.82 Q1878.16 1334.47 1880.13 1337.15 Q1882.12 1339.82 1885.57 1339.82 Q1888.97 1339.82 1890.96 1337.13 Q1892.95 1334.45 1892.95 1329.82 Q1892.95 1325.21 1890.96 1322.52 Q1888.97 1319.82 1885.57 1319.82 M1885.57 1316.2 Q1891.12 1316.2 1894.29 1319.82 Q1897.46 1323.43 1897.46 1329.82 Q1897.46 1336.18 1894.29 1339.82 Q1891.12 1343.43 1885.57 1343.43 Q1879.99 1343.43 1876.82 1339.82 Q1873.67 1336.18 1873.67 1329.82 Q1873.67 1323.43 1876.82 1319.82 Q1879.99 1316.2 1885.57 1316.2 Z\" fill=\"#000000\" fill-rule=\"evenodd\" fill-opacity=\"1\" /><path clip-path=\"url(#clip550)\" d=\"M1904.52 1306.74 L1908.78 1306.74 L1908.78 1342.76 L1904.52 1342.76 L1904.52 1306.74 Z\" fill=\"#000000\" fill-rule=\"evenodd\" fill-opacity=\"1\" /><path clip-path=\"url(#clip550)\" d=\"M1914.64 1316.83 L1919.15 1316.83 L1927.25 1338.59 L1935.36 1316.83 L1939.87 1316.83 L1930.15 1342.76 L1924.36 1342.76 L1914.64 1316.83 Z\" fill=\"#000000\" fill-rule=\"evenodd\" fill-opacity=\"1\" /><path clip-path=\"url(#clip550)\" d=\"M1967.93 1328.73 L1967.93 1330.81 L1948.34 1330.81 Q1948.62 1335.21 1950.98 1337.52 Q1953.37 1339.82 1957.6 1339.82 Q1960.06 1339.82 1962.35 1339.21 Q1964.66 1338.61 1966.93 1337.41 L1966.93 1341.44 Q1964.64 1342.41 1962.23 1342.92 Q1959.82 1343.43 1957.35 1343.43 Q1951.14 1343.43 1947.51 1339.82 Q1943.9 1336.2 1943.9 1330.05 Q1943.9 1323.68 1947.32 1319.95 Q1950.77 1316.2 1956.61 1316.2 Q1961.84 1316.2 1964.87 1319.58 Q1967.93 1322.94 1967.93 1328.73 M1963.67 1327.48 Q1963.62 1323.98 1961.7 1321.9 Q1959.8 1319.82 1956.65 1319.82 Q1953.09 1319.82 1950.94 1321.83 Q1948.81 1323.84 1948.48 1327.5 L1963.67 1327.48 Z\" fill=\"#000000\" fill-rule=\"evenodd\" fill-opacity=\"1\" /><path clip-path=\"url(#clip550)\" d=\"M1991.98 1320.76 L1991.98 1306.74 L1996.24 1306.74 L1996.24 1342.76 L1991.98 1342.76 L1991.98 1338.87 Q1990.63 1341.18 1988.57 1342.32 Q1986.54 1343.43 1983.67 1343.43 Q1978.97 1343.43 1976 1339.68 Q1973.06 1335.93 1973.06 1329.82 Q1973.06 1323.7 1976 1319.95 Q1978.97 1316.2 1983.67 1316.2 Q1986.54 1316.2 1988.57 1317.34 Q1990.63 1318.45 1991.98 1320.76 M1977.46 1329.82 Q1977.46 1334.51 1979.38 1337.2 Q1981.33 1339.86 1984.71 1339.86 Q1988.09 1339.86 1990.03 1337.2 Q1991.98 1334.51 1991.98 1329.82 Q1991.98 1325.12 1990.03 1322.45 Q1988.09 1319.77 1984.71 1319.77 Q1981.33 1319.77 1979.38 1322.45 Q1977.46 1325.12 1977.46 1329.82 Z\" fill=\"#000000\" fill-rule=\"evenodd\" fill-opacity=\"1\" /><path clip-path=\"url(#clip550)\" d=\"M2036.61 1317.59 L2036.61 1321.62 Q2034.8 1320.7 2032.86 1320.23 Q2030.91 1319.77 2028.83 1319.77 Q2025.66 1319.77 2024.06 1320.74 Q2022.49 1321.71 2022.49 1323.66 Q2022.49 1325.14 2023.62 1326 Q2024.75 1326.83 2028.18 1327.59 L2029.64 1327.92 Q2034.18 1328.89 2036.07 1330.67 Q2038 1332.43 2038 1335.6 Q2038 1339.21 2035.12 1341.32 Q2032.28 1343.43 2027.28 1343.43 Q2025.19 1343.43 2022.93 1343.01 Q2020.68 1342.62 2018.18 1341.81 L2018.18 1337.41 Q2020.54 1338.63 2022.83 1339.26 Q2025.12 1339.86 2027.37 1339.86 Q2030.38 1339.86 2032 1338.84 Q2033.62 1337.8 2033.62 1335.93 Q2033.62 1334.19 2032.44 1333.26 Q2031.28 1332.34 2027.32 1331.48 L2025.84 1331.14 Q2021.88 1330.3 2020.12 1328.59 Q2018.37 1326.85 2018.37 1323.84 Q2018.37 1320.19 2020.96 1318.2 Q2023.55 1316.2 2028.32 1316.2 Q2030.68 1316.2 2032.76 1316.55 Q2034.85 1316.9 2036.61 1317.59 Z\" fill=\"#000000\" fill-rule=\"evenodd\" fill-opacity=\"1\" /><path clip-path=\"url(#clip550)\" d=\"M2048.9 1338.87 L2048.9 1352.62 L2044.62 1352.62 L2044.62 1316.83 L2048.9 1316.83 L2048.9 1320.76 Q2050.24 1318.45 2052.28 1317.34 Q2054.34 1316.2 2057.18 1316.2 Q2061.91 1316.2 2064.85 1319.95 Q2067.81 1323.7 2067.81 1329.82 Q2067.81 1335.93 2064.85 1339.68 Q2061.91 1343.43 2057.18 1343.43 Q2054.34 1343.43 2052.28 1342.32 Q2050.24 1341.18 2048.9 1338.87 M2063.39 1329.82 Q2063.39 1325.12 2061.44 1322.45 Q2059.52 1319.77 2056.14 1319.77 Q2052.76 1319.77 2050.82 1322.45 Q2048.9 1325.12 2048.9 1329.82 Q2048.9 1334.51 2050.82 1337.2 Q2052.76 1339.86 2056.14 1339.86 Q2059.52 1339.86 2061.44 1337.2 Q2063.39 1334.51 2063.39 1329.82 Z\" fill=\"#000000\" fill-rule=\"evenodd\" fill-opacity=\"1\" /><path clip-path=\"url(#clip550)\" d=\"M2097.05 1328.73 L2097.05 1330.81 L2077.46 1330.81 Q2077.74 1335.21 2080.1 1337.52 Q2082.49 1339.82 2086.72 1339.82 Q2089.18 1339.82 2091.47 1339.21 Q2093.78 1338.61 2096.05 1337.41 L2096.05 1341.44 Q2093.76 1342.41 2091.35 1342.92 Q2088.94 1343.43 2086.47 1343.43 Q2080.26 1343.43 2076.63 1339.82 Q2073.02 1336.2 2073.02 1330.05 Q2073.02 1323.68 2076.44 1319.95 Q2079.89 1316.2 2085.73 1316.2 Q2090.96 1316.2 2093.99 1319.58 Q2097.05 1322.94 2097.05 1328.73 M2092.79 1327.48 Q2092.74 1323.98 2090.82 1321.9 Q2088.92 1319.82 2085.77 1319.82 Q2082.21 1319.82 2080.06 1321.83 Q2077.93 1323.84 2077.6 1327.5 L2092.79 1327.48 Z\" fill=\"#000000\" fill-rule=\"evenodd\" fill-opacity=\"1\" /><path clip-path=\"url(#clip550)\" d=\"M2122.69 1317.82 L2122.69 1321.81 Q2120.89 1320.81 2119.06 1320.32 Q2117.25 1319.82 2115.4 1319.82 Q2111.26 1319.82 2108.97 1322.45 Q2106.68 1325.07 2106.68 1329.82 Q2106.68 1334.56 2108.97 1337.2 Q2111.26 1339.82 2115.4 1339.82 Q2117.25 1339.82 2119.06 1339.33 Q2120.89 1338.82 2122.69 1337.82 L2122.69 1341.76 Q2120.91 1342.59 2118.99 1343.01 Q2117.09 1343.43 2114.94 1343.43 Q2109.08 1343.43 2105.63 1339.75 Q2102.18 1336.07 2102.18 1329.82 Q2102.18 1323.47 2105.66 1319.84 Q2109.15 1316.2 2115.22 1316.2 Q2117.18 1316.2 2119.06 1316.62 Q2120.93 1317.01 2122.69 1317.82 Z\" fill=\"#000000\" fill-rule=\"evenodd\" fill-opacity=\"1\" /><path clip-path=\"url(#clip550)\" d=\"M2134.31 1309.47 L2134.31 1316.83 L2143.09 1316.83 L2143.09 1320.14 L2134.31 1320.14 L2134.31 1334.21 Q2134.31 1337.38 2135.17 1338.29 Q2136.05 1339.19 2138.71 1339.19 L2143.09 1339.19 L2143.09 1342.76 L2138.71 1342.76 Q2133.78 1342.76 2131.91 1340.93 Q2130.03 1339.07 2130.03 1334.21 L2130.03 1320.14 L2126.91 1320.14 L2126.91 1316.83 L2130.03 1316.83 L2130.03 1309.47 L2134.31 1309.47 Z\" fill=\"#000000\" fill-rule=\"evenodd\" fill-opacity=\"1\" /><path clip-path=\"url(#clip550)\" d=\"M2163.71 1320.81 Q2162.99 1320.39 2162.14 1320.21 Q2161.3 1320 2160.29 1320 Q2156.68 1320 2154.73 1322.36 Q2152.81 1324.7 2152.81 1329.1 L2152.81 1342.76 L2148.53 1342.76 L2148.53 1316.83 L2152.81 1316.83 L2152.81 1320.86 Q2154.15 1318.5 2156.3 1317.36 Q2158.46 1316.2 2161.54 1316.2 Q2161.98 1316.2 2162.51 1316.27 Q2163.04 1316.32 2163.69 1316.44 L2163.71 1320.81 Z\" fill=\"#000000\" fill-rule=\"evenodd\" fill-opacity=\"1\" /><path clip-path=\"url(#clip550)\" d=\"M2167.74 1332.52 L2167.74 1316.83 L2172 1316.83 L2172 1332.36 Q2172 1336.04 2173.43 1337.89 Q2174.87 1339.72 2177.74 1339.72 Q2181.19 1339.72 2183.18 1337.52 Q2185.19 1335.32 2185.19 1331.53 L2185.19 1316.83 L2189.45 1316.83 L2189.45 1342.76 L2185.19 1342.76 L2185.19 1338.77 Q2183.64 1341.13 2181.58 1342.29 Q2179.55 1343.43 2176.84 1343.43 Q2172.37 1343.43 2170.05 1340.65 Q2167.74 1337.87 2167.74 1332.52 M2178.46 1316.2 L2178.46 1316.2 Z\" fill=\"#000000\" fill-rule=\"evenodd\" fill-opacity=\"1\" /><path clip-path=\"url(#clip550)\" d=\"M2218.41 1321.81 Q2220.01 1318.94 2222.23 1317.57 Q2224.45 1316.2 2227.46 1316.2 Q2231.51 1316.2 2233.71 1319.05 Q2235.91 1321.88 2235.91 1327.11 L2235.91 1342.76 L2231.63 1342.76 L2231.63 1327.25 Q2231.63 1323.52 2230.31 1321.71 Q2228.99 1319.91 2226.28 1319.91 Q2222.97 1319.91 2221.05 1322.11 Q2219.13 1324.31 2219.13 1328.1 L2219.13 1342.76 L2214.85 1342.76 L2214.85 1327.25 Q2214.85 1323.5 2213.53 1321.71 Q2212.21 1319.91 2209.45 1319.91 Q2206.19 1319.91 2204.27 1322.13 Q2202.35 1324.33 2202.35 1328.1 L2202.35 1342.76 L2198.06 1342.76 L2198.06 1316.83 L2202.35 1316.83 L2202.35 1320.86 Q2203.8 1318.47 2205.84 1317.34 Q2207.88 1316.2 2210.68 1316.2 Q2213.5 1316.2 2215.47 1317.64 Q2217.46 1319.07 2218.41 1321.81 Z\" fill=\"#000000\" fill-rule=\"evenodd\" fill-opacity=\"1\" /></svg>\n"
      ]
     },
     "execution_count": 19,
     "metadata": {},
     "output_type": "execute_result"
    }
   ],
   "source": [
    "idx_plot = 1:min(1024,length(lambdas))\n",
    "plot(lambdas[idx_plot],raw_spectrum.(lambdas[idx_plot]),xlabel=\"λ\", ylabel=\"Flux\", label=\"Raw spectrum\", legend=:bottomright)\n",
    "plot!(lambdas[idx_plot],result_ref[idx_plot], label=\"Convolved spectrum\")"
   ]
  },
  {
   "cell_type": "markdown",
   "metadata": {},
   "source": [
    "### Benchmarking serial code\n",
    "\n",
    "First, let's benchmark the calculation of this spectrum on a single processor.  To keep things speedy, we'll time each method just a few times, rather than using `@btime`."
   ]
  },
  {
   "cell_type": "code",
   "execution_count": 20,
   "metadata": {},
   "outputs": [
    {
     "data": {
      "text/plain": [
       "2"
      ]
     },
     "execution_count": 20,
     "metadata": {},
     "output_type": "execute_result"
    }
   ],
   "source": [
    "num_runs = 2"
   ]
  },
  {
   "cell_type": "code",
   "execution_count": 21,
   "metadata": {},
   "outputs": [
    {
     "name": "stdout",
     "output_type": "stream",
     "text": [
      "  5.152834 seconds (8.25 M allocations: 965.483 MiB, 3.46% gc time, 27.55% compilation time)\n",
      "  3.541437 seconds (5.54 M allocations: 811.591 MiB, 2.58% gc time)\n"
     ]
    }
   ],
   "source": [
    "for i in 1:num_runs @time conv_spectrum(lambdas); end"
   ]
  },
  {
   "cell_type": "markdown",
   "metadata": {},
   "source": [
    "Thinking back to [exercise 1](https://psuastro528.github.io/lab6-start/ex1.html), you may remember that we improved the performance by reducing memory allocations.  There were a few ways to do that, and we'll repeat just a few of them here for reference."
   ]
  },
  {
   "cell_type": "code",
   "execution_count": 22,
   "metadata": {},
   "outputs": [
    {
     "data": {
      "text/plain": [
       "compute_using_for_loop (generic function with 1 method)"
      ]
     },
     "execution_count": 22,
     "metadata": {},
     "output_type": "execute_result"
    }
   ],
   "source": [
    "function compute_using_for_loop(x::AbstractArray, spectrum::T) where T<:AbstractSpectrum\n",
    "    out = zeros(length(x))\n",
    "    for i in 1:length(x)\n",
    "        out[i] = conv_spectrum(x[i])\n",
    "    end\n",
    "    return out\n",
    "end"
   ]
  },
  {
   "cell_type": "code",
   "execution_count": 23,
   "metadata": {},
   "outputs": [
    {
     "name": "stdout",
     "output_type": "stream",
     "text": [
      "  1.879168 seconds (4.65 M allocations: 335.966 MiB, 4.26% gc time, 1.38% compilation time)\n",
      "  1.864056 seconds (4.63 M allocations: 334.947 MiB, 2.98% gc time)\n"
     ]
    }
   ],
   "source": [
    "for i in 1:num_runs @time compute_using_for_loop(lambdas,conv_spectrum) end"
   ]
  },
  {
   "cell_type": "markdown",
   "metadata": {},
   "source": [
    "As before, writing the code as an explicit for loop significantly decreased the number of allocations and improved performance."
   ]
  },
  {
   "cell_type": "markdown",
   "metadata": {},
   "source": [
    "### Broadcasting\n",
    "Thinking about to some previous labs, we made use of Julia's [dot syntax](https://docs.julialang.org/en/v1/manual/functions/#man-vectorized-1) to [\\\"broadcast\\\" and \\\"fuse\\\"](https://docs.julialang.org/en/v1/base/arrays/#Broadcast-and-vectorization-1) the array operation.\n",
    "\n",
    "2b.  How do you expect the performance and memory allocations to compare to our for loop above?"
   ]
  },
  {
   "cell_type": "code",
   "execution_count": 24,
   "metadata": {},
   "outputs": [
    {
     "data": {
      "text/plain": [
       "missing"
      ]
     },
     "execution_count": 24,
     "metadata": {},
     "output_type": "execute_result"
    }
   ],
   "source": [
    "response_2b = missing # INSERT response as String, e.g. \"The same\" or \"50% faster\"."
   ]
  },
  {
   "cell_type": "code",
   "execution_count": 25,
   "metadata": {},
   "outputs": [
    {
     "name": "stdout",
     "output_type": "stream",
     "text": [
      "  1.802682 seconds (4.63 M allocations: 334.829 MiB, 3.08% gc time)\n",
      "  1.873098 seconds (4.63 M allocations: 334.829 MiB, 2.98% gc time)\n"
     ]
    }
   ],
   "source": [
    "for i in 1:num_runs @time conv_spectrum.(lambdas); end"
   ]
  },
  {
   "cell_type": "markdown",
   "metadata": {},
   "source": [
    "2c.  How did the results compare to your prediction?   If different, what could explain the difference(s)?  "
   ]
  },
  {
   "cell_type": "code",
   "execution_count": 26,
   "metadata": {},
   "outputs": [
    {
     "data": {
      "text/plain": [
       "missing"
      ]
     },
     "execution_count": 26,
     "metadata": {},
     "output_type": "execute_result"
    }
   ],
   "source": [
    "response_2c = missing # INSERT response as String"
   ]
  },
  {
   "cell_type": "markdown",
   "metadata": {},
   "source": [
    "### map\n",
    "Again, thinking back to the last exercise, a very useful and closely related programming pattern is [map](https://docs.julialang.org/en/v1/base/collections/#Base.map) (or [mapreduce](https://docs.julialang.org/en/v1/base/collections/#Base.mapreduce-Tuple{Any,Any,Any})).  `map(func,collection)` applies func to every element of the collection and returns a collection similar in size to collection.  "
   ]
  },
  {
   "cell_type": "code",
   "execution_count": 27,
   "metadata": {},
   "outputs": [
    {
     "name": "stdout",
     "output_type": "stream",
     "text": [
      "  1.849650 seconds (4.66 M allocations: 337.442 MiB, 3.39% gc time, 2.26% compilation time)\n",
      "  1.808839 seconds (4.61 M allocations: 334.579 MiB, 3.68% gc time)\n"
     ]
    }
   ],
   "source": [
    "for i in 1:num_runs @time map(conv_spectrum,lambdas) end"
   ]
  },
  {
   "cell_type": "markdown",
   "metadata": {},
   "source": [
    "The performance of map results should be very similar to the broadcasted and fused version above.  \n",
    "Before we start parallelizing code, let's increase the number of times we'll benchmark each function."
   ]
  },
  {
   "cell_type": "code",
   "execution_count": 28,
   "metadata": {},
   "outputs": [
    {
     "data": {
      "text/plain": [
       "5"
      ]
     },
     "execution_count": 28,
     "metadata": {},
     "output_type": "execute_result"
    }
   ],
   "source": [
    "num_runs = 5"
   ]
  },
  {
   "cell_type": "markdown",
   "metadata": {},
   "source": [
    "Notice that `num_runs` has now been set to two different values at different parts of this notebook.  The value of `num_runs` will depend on which of the cells has been run most recently.\n",
    "Sometimes, it can be convenient to change a variable like this.  But it also makes it very easy to confuse yourself.  E.g., the code that you see in the notebook at any time is no longer guaranteed to be a complete representation of what the computer has computed.  \n",
    "\n",
    "(In previous semesters, when I used Jupyter notebooks, by far the most common problem students encountered was running cells out of order and getting into some unintended state.  So my first suggestion was nearly always \"Restart your kernel and step through the notebook in order.\"  While that's not a big deal for small notebooks, it can quickly become tedious and time consuming.  Pluto solved that problem!  That's why I'm only using Jupyter for a few exercises that wouldn't work well with a Pluto notebook.)"
   ]
  },
  {
   "cell_type": "code",
   "execution_count": null,
   "metadata": {},
   "outputs": [],
   "source": []
  },
  {
   "cell_type": "markdown",
   "metadata": {},
   "source": [
    "### Parallelizing with pmap\n",
    "If you can write your computations in terms of calling `map`, then one easy way to parallelize your code is to replace the call to `map` with a call to `pmap`, a parallel map.\n",
    "If you only have one worker process, then it will still run in serial.  But if you have multiple workers, then `pmap` will parallelize your code.  When parallelizing code, it's always good to double check that your results are consistent with the reference implementation."
   ]
  },
  {
   "cell_type": "code",
   "execution_count": 29,
   "metadata": {},
   "outputs": [
    {
     "data": {
      "text/plain": [
       "\u001b[32m\u001b[1mTest Passed\u001b[22m\u001b[39m"
      ]
     },
     "execution_count": 29,
     "metadata": {},
     "output_type": "execute_result"
    }
   ],
   "source": [
    "using Test\n",
    "@test isapprox(pmap(conv_spectrum,lambdas), result_ref)"
   ]
  },
  {
   "cell_type": "markdown",
   "metadata": {},
   "source": [
    "2d.  How much faster do you expect the code to run using `pmap`?"
   ]
  },
  {
   "cell_type": "raw",
   "metadata": {},
   "source": [
    "response_2d = missing # INSERT responce as string"
   ]
  },
  {
   "cell_type": "code",
   "execution_count": 30,
   "metadata": {},
   "outputs": [
    {
     "name": "stdout",
     "output_type": "stream",
     "text": [
      "  1.551047 seconds (711.27 k allocations: 87.020 MiB, 1.20% gc time)\n",
      "  1.526015 seconds (711.02 k allocations: 87.017 MiB, 1.81% gc time)\n",
      "  1.475159 seconds (711.16 k allocations: 87.022 MiB, 0.68% gc time)\n",
      "  1.466889 seconds (710.96 k allocations: 87.016 MiB, 0.64% gc time)\n",
      "  1.481689 seconds (711.49 k allocations: 87.032 MiB, 1.32% gc time)\n"
     ]
    }
   ],
   "source": [
    "for i in 1:num_runs @time pmap(conv_spectrum,lambdas) end"
   ]
  },
  {
   "cell_type": "code",
   "execution_count": 31,
   "metadata": {},
   "outputs": [
    {
     "name": "stdout",
     "output_type": "stream",
     "text": [
      "  2.542684 seconds (1.41 M allocations: 72.833 MiB, 0.71% gc time, 17.64% compilation time)\n",
      "  1.285408 seconds (499.30 k allocations: 19.431 MiB)\n",
      "  1.236709 seconds (498.96 k allocations: 19.420 MiB)\n",
      "  1.275439 seconds (499.16 k allocations: 19.426 MiB, 1.60% gc time)\n",
      "  1.247271 seconds (499.66 k allocations: 19.441 MiB)\n"
     ]
    }
   ],
   "source": [
    "for i in 1:num_runs @time pmap(x->conv_spectrum.(x),lambdas) end"
   ]
  },
  {
   "cell_type": "markdown",
   "metadata": {},
   "source": [
    "2e.  By what speed-up factor did the wall time decrease for each of the two cases (ignoring the first call affected by compilation)?   How can you explain the difference?"
   ]
  },
  {
   "cell_type": "code",
   "execution_count": 32,
   "metadata": {},
   "outputs": [
    {
     "data": {
      "text/plain": [
       "missing"
      ]
     },
     "execution_count": 32,
     "metadata": {},
     "output_type": "execute_result"
    }
   ],
   "source": [
    "response_2e = missing # INSERT responce as string"
   ]
  },
  {
   "cell_type": "markdown",
   "metadata": {},
   "source": [
    "You were likely disappointed in the speed-up factor.  What could have gone wrong?  In this case, we have a non-trivial, but still modest amount of work to do for each wavelength.  `pmap` distributes the work one element at a time.  The overhead in distributing the work and assembling the pieces likely ate into the potential performance gains.  To improve on this, we can tell `pmap` to distribute the work in batches.  Below, we'll specify a batch_size via an optional named parameter."
   ]
  },
  {
   "cell_type": "code",
   "execution_count": 33,
   "metadata": {},
   "outputs": [
    {
     "name": "stdout",
     "output_type": "stream",
     "text": [
      "  1.919383 seconds (944.17 k allocations: 55.184 MiB, 1.05% gc time, 19.63% compilation time)\n",
      "  0.705283 seconds (50.92 k allocations: 1.818 MiB)\n",
      "  0.702224 seconds (50.92 k allocations: 1.818 MiB)\n",
      "  0.705548 seconds (50.92 k allocations: 1.818 MiB)\n",
      "  0.698129 seconds (50.92 k allocations: 1.818 MiB)\n"
     ]
    }
   ],
   "source": [
    "for i in 1:num_runs @time pmap(conv_spectrum,lambdas,batch_size=512) end"
   ]
  },
  {
   "cell_type": "code",
   "execution_count": 34,
   "metadata": {},
   "outputs": [
    {
     "name": "stdout",
     "output_type": "stream",
     "text": [
      "  0.980453 seconds (342.69 k allocations: 19.050 MiB, 18.54% compilation time)\n",
      "  0.710217 seconds (50.52 k allocations: 1.688 MiB)\n",
      "  0.699751 seconds (50.52 k allocations: 1.688 MiB)\n",
      "  0.728943 seconds (50.52 k allocations: 1.689 MiB)\n",
      "  0.704402 seconds (50.52 k allocations: 1.688 MiB)\n"
     ]
    }
   ],
   "source": [
    "for i in 1:num_runs @time pmap(x->conv_spectrum.(x),lambdas,batch_size=512) end"
   ]
  },
  {
   "cell_type": "markdown",
   "metadata": {},
   "source": [
    "2f.  How much faster was the code using `pmap` with batches than the the serial version (focusing on the version using broadcasting)?  How does this compare to your original expectations?"
   ]
  },
  {
   "cell_type": "code",
   "execution_count": 35,
   "metadata": {},
   "outputs": [
    {
     "data": {
      "text/plain": [
       "missing"
      ]
     },
     "execution_count": 35,
     "metadata": {},
     "output_type": "execute_result"
    }
   ],
   "source": [
    "response_2f = missing # INSERT responce as string"
   ]
  },
  {
   "cell_type": "markdown",
   "metadata": {},
   "source": [
    "Remember that we originally added one less worker processes than the number of physical cores avaliable to us.  Let's try adding one more worker process and comparing the performance."
   ]
  },
  {
   "cell_type": "code",
   "execution_count": 36,
   "metadata": {},
   "outputs": [
    {
     "data": {
      "text/plain": [
       "1-element Vector{Int64}:\n",
       " 5"
      ]
     },
     "execution_count": 36,
     "metadata": {},
     "output_type": "execute_result"
    }
   ],
   "source": [
    "if nworkers() < num_cores_to_use\n",
    "    procs_without_code = addprocs(num_cores_to_use-nworkers())\n",
    "end"
   ]
  },
  {
   "cell_type": "code",
   "execution_count": 37,
   "metadata": {},
   "outputs": [
    {
     "data": {
      "text/plain": [
       "1-element Vector{Int64}:\n",
       " 5"
      ]
     },
     "execution_count": 37,
     "metadata": {},
     "output_type": "execute_result"
    }
   ],
   "source": [
    "procs_without_code"
   ]
  },
  {
   "cell_type": "markdown",
   "metadata": {},
   "source": [
    "2g.  How long do you expect our function to take using `pmap` (using same batch size) now that we have one more worker process?"
   ]
  },
  {
   "cell_type": "code",
   "execution_count": 38,
   "metadata": {},
   "outputs": [
    {
     "data": {
      "text/plain": [
       "missing"
      ]
     },
     "execution_count": 38,
     "metadata": {},
     "output_type": "execute_result"
    }
   ],
   "source": [
    "response_2g = missing # INSERT RESPONSE"
   ]
  },
  {
   "cell_type": "markdown",
   "metadata": {},
   "source": [
    "Let's test that.  But before we can, we'll need to load the code onto the recently added worker node."
   ]
  },
  {
   "cell_type": "code",
   "execution_count": 39,
   "metadata": {},
   "outputs": [
    {
     "name": "stdout",
     "output_type": "stream",
     "text": [
      "      From worker 2:\t\u001b[32m\u001b[1m  Activating\u001b[22m\u001b[39m environment at `/storage/home/e/ebf11/Teach/Astro528/Fall2021/lab6-start/Project.toml`\n",
      "      From worker 3:\t\u001b[32m\u001b[1m  Activating\u001b[22m\u001b[39m environment at `/storage/home/e/ebf11/Teach/Astro528/Fall2021/lab6-start/Project.toml`\n",
      "      From worker 4:\t\u001b[32m\u001b[1m  Activating\u001b[22m\u001b[39m environment at `/storage/home/e/ebf11/Teach/Astro528/Fall2021/lab6-start/Project.toml`\n"
     ]
    },
    {
     "name": "stderr",
     "output_type": "stream",
     "text": [
      "\u001b[32m\u001b[1m  Activating\u001b[22m\u001b[39m environment at `/storage/home/e/ebf11/Teach/Astro528/Fall2021/lab6-start/Project.toml`\n"
     ]
    },
    {
     "name": "stdout",
     "output_type": "stream",
     "text": [
      "      From worker 5:\t\u001b[32m\u001b[1m  Activating\u001b[22m\u001b[39m environment at `/storage/home/e/ebf11/Teach/Astro528/Fall2021/lab6-start/Project.toml`\n"
     ]
    }
   ],
   "source": [
    "@everywhere (using Pkg; Pkg.UPDATED_REGISTRY_THIS_SESSION[] = true; Pkg.activate(\".\"))"
   ]
  },
  {
   "cell_type": "code",
   "execution_count": 40,
   "metadata": {},
   "outputs": [],
   "source": [
    "@everywhere using Distributions"
   ]
  },
  {
   "cell_type": "markdown",
   "metadata": {},
   "source": [
    "We don't need/want to reread read and recompile our code on every worker node.  Instead, we'll use the [`@spawnat` macro](https://docs.julialang.org/en/v1/stdlib/Distributed/#Distributed.@spawnat) to tell julia to `include` our code only on specific processors.\n",
    "`@spawnat` sends the code to the worker(s), but doesn't wait for the result.  Instead it gets a [Future](https://docs.julialang.org/en/v1/stdlib/Distributed/#Distributed.Future) that can be used to retreive the results when we need it by calling [`fetch`](https://docs.julialang.org/en/v1/stdlib/Distributed/#Base.fetch-Tuple{Distributed.Future}).  Here, we want to wait until the worker has finished loading the code, so we'll just do both in one line."
   ]
  },
  {
   "cell_type": "code",
   "execution_count": 41,
   "metadata": {},
   "outputs": [],
   "source": [
    "map(proc->fetch(@spawnat proc include(\"src/lab6.jl\") ),  procs_without_code);"
   ]
  },
  {
   "cell_type": "code",
   "execution_count": 42,
   "metadata": {},
   "outputs": [],
   "source": [
    "@everywhere using .lab6"
   ]
  },
  {
   "cell_type": "code",
   "execution_count": 43,
   "metadata": {},
   "outputs": [
    {
     "data": {
      "text/plain": [
       "\u001b[32m\u001b[1mTest Passed\u001b[22m\u001b[39m"
      ]
     },
     "execution_count": 43,
     "metadata": {},
     "output_type": "execute_result"
    }
   ],
   "source": [
    "@test isapprox(pmap(conv_spectrum,lambdas,batch_size=512), result_ref)"
   ]
  },
  {
   "cell_type": "code",
   "execution_count": 44,
   "metadata": {},
   "outputs": [
    {
     "name": "stdout",
     "output_type": "stream",
     "text": [
      "  0.661335 seconds (50.91 k allocations: 1.821 MiB)\n",
      "  0.700139 seconds (50.92 k allocations: 1.819 MiB)\n",
      "  0.706865 seconds (50.92 k allocations: 1.817 MiB)\n",
      "  0.726200 seconds (50.92 k allocations: 1.819 MiB)\n",
      "  0.672302 seconds (50.92 k allocations: 1.817 MiB)\n"
     ]
    }
   ],
   "source": [
    "for i in 1:num_runs @time pmap(conv_spectrum,lambdas,batch_size=512) end"
   ]
  },
  {
   "cell_type": "markdown",
   "metadata": {},
   "source": [
    "2h.  How did the runtime compare when we used `pmap` with as many worker processes as physical cores avaliable compared to when we used one fewer worker processes than the number of physical cores avaliable?\n",
    "How does this compare to your original expectations?   Try to explain any differences."
   ]
  },
  {
   "cell_type": "code",
   "execution_count": 45,
   "metadata": {},
   "outputs": [
    {
     "data": {
      "text/plain": [
       "missing"
      ]
     },
     "execution_count": 45,
     "metadata": {},
     "output_type": "execute_result"
    }
   ],
   "source": [
    "response_2h = missing # INSERT RESPONSE"
   ]
  },
  {
   "cell_type": "markdown",
   "metadata": {},
   "source": [
    "### Shared Arrays\n",
    "Sometime the map programming pattern is limiting, inefficient, or just too cumbersome to use.  In these cases, it can be useful to define a [`SharedArray`](https://docs.julialang.org/en/v1.0/stdlib/SharedArrays/#Shared-Arrays-1).  A SharedArray is only possible when using a [shared memory system](https://en.wikipedia.org/wiki/Shared_memory), i.e., one computer has multiple processor cores that are all able to read and write data stored in a common memory system.   Data stored in a SharedArray is visible and accessible to every process.  A SharedArray also specifies which indices have been assigned to each worker process.  When an operation is to be parallelized, this information can be used to spread the work over the worker processes.  \n",
    "(Note that code using SharedArray's can not run using processors split across multiple compute nodes, as we'll do in the next lab.) \n",
    "\n",
    "First, we'll create a SharedArray from our existing array of wavelengths."
   ]
  },
  {
   "cell_type": "code",
   "execution_count": 46,
   "metadata": {},
   "outputs": [],
   "source": [
    "using SharedArrays"
   ]
  },
  {
   "cell_type": "code",
   "execution_count": 47,
   "metadata": {},
   "outputs": [
    {
     "data": {
      "text/plain": [
       "SharedVector{Float64} (alias for SharedArray{Float64, 1})"
      ]
     },
     "execution_count": 47,
     "metadata": {},
     "output_type": "execute_result"
    }
   ],
   "source": [
    "lambdas_shared = SharedArray(lambdas)\n",
    "typeof(lambdas_shared)"
   ]
  },
  {
   "cell_type": "markdown",
   "metadata": {},
   "source": [
    "We apply `map` to a SharedArray just like to a regular Array, but the calculation is still performed in serial."
   ]
  },
  {
   "cell_type": "code",
   "execution_count": 48,
   "metadata": {},
   "outputs": [
    {
     "data": {
      "text/plain": [
       "\u001b[32m\u001b[1mTest Passed\u001b[22m\u001b[39m"
      ]
     },
     "execution_count": 48,
     "metadata": {},
     "output_type": "execute_result"
    }
   ],
   "source": [
    "@test isapprox(map(conv_spectrum,lambdas_shared), result_ref)"
   ]
  },
  {
   "cell_type": "code",
   "execution_count": 49,
   "metadata": {},
   "outputs": [
    {
     "name": "stdout",
     "output_type": "stream",
     "text": [
      "  1.793625 seconds (4.61 M allocations: 334.579 MiB, 3.26% gc time)\n",
      "  1.823485 seconds (4.61 M allocations: 334.579 MiB, 3.14% gc time)\n",
      "  1.805427 seconds (4.61 M allocations: 334.579 MiB, 3.30% gc time)\n",
      "  1.840026 seconds (4.61 M allocations: 334.579 MiB, 3.29% gc time)\n",
      "  1.934299 seconds (4.61 M allocations: 334.579 MiB, 3.13% gc time)\n"
     ]
    }
   ],
   "source": [
    "for i in 1:num_runs @time map(conv_spectrum,lambdas_shared) end"
   ]
  },
  {
   "cell_type": "markdown",
   "metadata": {},
   "source": [
    "Similarly, we can apply `pmap` to a SharedArray, and the calculation will be parallelized just like a regular Array."
   ]
  },
  {
   "cell_type": "code",
   "execution_count": 50,
   "metadata": {},
   "outputs": [
    {
     "name": "stdout",
     "output_type": "stream",
     "text": [
      "  1.718843 seconds (1.41 M allocations: 128.551 MiB, 1.97% gc time, 16.34% compilation time)\n",
      "  1.395219 seconds (712.64 k allocations: 87.031 MiB, 0.96% gc time)\n",
      "  1.383146 seconds (712.16 k allocations: 87.017 MiB, 0.71% gc time)\n",
      "  1.400681 seconds (711.98 k allocations: 87.011 MiB, 1.64% gc time)\n",
      "  1.388481 seconds (712.19 k allocations: 87.017 MiB, 0.74% gc time)\n"
     ]
    }
   ],
   "source": [
    "for i in 1:num_runs @time pmap(conv_spectrum,lambdas_shared) end"
   ]
  },
  {
   "cell_type": "markdown",
   "metadata": {},
   "source": [
    "As before, the performance wasn't particularly impressive.  \n",
    "\n",
    "2i.  What do you suggest we do to improve the performance of `pmap` applied to a SharedArray?  "
   ]
  },
  {
   "cell_type": "code",
   "execution_count": 51,
   "metadata": {},
   "outputs": [
    {
     "data": {
      "text/plain": [
       "missing"
      ]
     },
     "execution_count": 51,
     "metadata": {},
     "output_type": "execute_result"
    }
   ],
   "source": [
    "response_2i = missing # INSERT RESPONSE"
   ]
  },
  {
   "cell_type": "markdown",
   "metadata": {},
   "source": [
    "Try implementing and benchmarking your suggestion in the cell below."
   ]
  },
  {
   "cell_type": "code",
   "execution_count": 52,
   "metadata": {},
   "outputs": [],
   "source": [
    "# TODO:  Insert your code "
   ]
  },
  {
   "cell_type": "markdown",
   "metadata": {},
   "source": [
    "2j.  How did the performance compare to using `pmap` on regular Array (with similar optimizations)?  Is there anything fundamentally different about what the computer is doing that should affect the performance?"
   ]
  },
  {
   "cell_type": "code",
   "execution_count": 53,
   "metadata": {},
   "outputs": [
    {
     "data": {
      "text/plain": [
       "missing"
      ]
     },
     "execution_count": 53,
     "metadata": {},
     "output_type": "execute_result"
    }
   ],
   "source": [
    "response_2j = missing # INSERT RESPONSE"
   ]
  },
  {
   "cell_type": "markdown",
   "metadata": {},
   "source": [
    "Pro tip:  There are fancy ways of initializing a SharedArray that can help minimize the number of allocations and spread the work of initializing the matrix over all the worker processes.  In case you're curious, I'll demonstrate below.  I find the syntax a little confusing, so I suggest skipping over this for now.  But you may want to return to it later if you want to initialize a SharedArray efficiently for your project."
   ]
  },
  {
   "cell_type": "code",
   "execution_count": 54,
   "metadata": {},
   "outputs": [
    {
     "data": {
      "text/plain": [
       "compute_by_initializing_shared_array (generic function with 2 methods)"
      ]
     },
     "execution_count": 54,
     "metadata": {},
     "output_type": "execute_result"
    }
   ],
   "source": [
    "# If we are initializing the array using values stored in a generic Array\n",
    "function compute_by_initializing_shared_array(x::AbstractArray, spectrum::T) where T<:AbstractSpectrum\n",
    "   SharedArray{Float64}(size(x), init = S-> S[SharedArrays.localindices(S)] .= spectrum.(view(x,SharedArrays.localindices(S))) )\n",
    "end\n",
    "\n",
    "#  If we are initializing the array using values already stored in a SharedArray, then assign work based on the input SharedArray\n",
    "function compute_by_initializing_shared_array(x::SharedArray, spectrum::T) where T<:AbstractSpectrum\n",
    "   SharedArray{Float64}(size(x), init = S-> S[SharedArrays.localindices(x)] .= spectrum.(view(x,SharedArrays.localindices(x))) )\n",
    "end"
   ]
  },
  {
   "cell_type": "code",
   "execution_count": 55,
   "metadata": {},
   "outputs": [
    {
     "name": "stdout",
     "output_type": "stream",
     "text": [
      "  2.000608 seconds (971.70 k allocations: 60.127 MiB, 0.83% gc time, 17.98% compilation time)\n",
      "  0.712586 seconds (1.12 k allocations: 91.125 KiB)\n",
      "  0.670384 seconds (1.12 k allocations: 91.453 KiB)\n",
      "  0.692159 seconds (1.11 k allocations: 90.750 KiB)\n",
      "  0.663515 seconds (1.16 k allocations: 93.953 KiB)\n"
     ]
    }
   ],
   "source": [
    "for i in 1:num_runs @time compute_by_initializing_shared_array(lambdas_shared,conv_spectrum) end"
   ]
  },
  {
   "cell_type": "markdown",
   "metadata": {},
   "source": [
    "## Distributed Arrays\n",
    "Sometimes, you want to spread the work over more processor cores than are available on a single workstation.  Or maybe you don't actually need the features of a SharedArray, so you want to write your code in a more general way, so that it could be parallelized on a [distributed memory system](https://en.wikipedia.org/wiki/Distributed_memory).  This can be useful even if your job could in principle be run on a single node with $N$ processor cores.  If you submit a job that requires $N$ processor cores on the same node, then your job is likely to wait in the queue longer than it you submit a job that requires $N$ processor cores that could be spread over multiple compute nodes.  If you want to make use a very large number of cores (e.g., using a cloud provider like Amazon AWS, Google Compute Engine, Microsoft Azure), then you'll need to use a distributed memory system.  For a long time, [MPI](https://en.wikipedia.org/wiki/Message_Passing_Interface) was the most common way to use distributed memory systems.  If you're programming with C/C++ or Fortran, then you will likely still be using MPI.  ([MPI.jl](https://github.com/JuliaParallel/MPI.jl) proivdes a wrapper for Julia to use most of the common MPI functions.)  Julia's [DistributedArrays.jl](https://juliaparallel.github.io/DistributedArrays.jl/latest/index.html) package is an attempt to make programming for distributed memory systems a little easier.  \n",
    "\n",
    "Like for SharedArrays, there are several ways to initialize a `DistributedArray` (`DArray` for short) efficiently, where each workers initializes its own data.  Functions like `dzeros`, `dones`, `drand`, `drandn` and `dfill` act similarly to their counterparts without a `d` prefix, but create DArrays instead of regular Arrays.\n",
    "\n",
    "Here we'll create a distributed array by simply applying `distribute` to our existing array of wavelengths."
   ]
  },
  {
   "cell_type": "code",
   "execution_count": 56,
   "metadata": {},
   "outputs": [
    {
     "data": {
      "text/plain": [
       "(8192,)"
      ]
     },
     "execution_count": 56,
     "metadata": {},
     "output_type": "execute_result"
    }
   ],
   "source": [
    "@everywhere using DistributedArrays\n",
    "lambdas_dist = distribute(lambdas)\n",
    "typeof(lambdas_dist)\n",
    "size(lambdas_dist)"
   ]
  },
  {
   "cell_type": "markdown",
   "metadata": {},
   "source": [
    "As usual, the first time we call a function, it takes some extra time and memory to compile it.  So let's do that again, this time benchmarking the `distribute` operation."
   ]
  },
  {
   "cell_type": "code",
   "execution_count": 57,
   "metadata": {},
   "outputs": [
    {
     "name": "stdout",
     "output_type": "stream",
     "text": [
      "  0.000843 seconds (537 allocations: 153.703 KiB)\n"
     ]
    },
    {
     "data": {
      "text/plain": [
       "DArray{Float64, 1, Vector{Float64}}"
      ]
     },
     "execution_count": 57,
     "metadata": {},
     "output_type": "execute_result"
    }
   ],
   "source": [
    "@time lambdas_dist = distribute(lambdas);\n",
    "typeof(lambdas_dist)"
   ]
  },
  {
   "cell_type": "markdown",
   "metadata": {},
   "source": [
    "In this case, distribute should be quite fast.  That's because we're creating a `DArray` on a shared memory system.  So the computer doesn't actually have to send communications over a network to access the data.  \n",
    "\n",
    "When we apply map to a `DArray`, map parallelizes the calculation and returns the results in a `DArray`.  Each worker only operates on the subset of the array that is local to that worker process.  \n",
    "We can view the part of the array that is local to each worker with `localpart()` and `localindices()`.  Note that none of the array was assigned to the delegator process."
   ]
  },
  {
   "cell_type": "code",
   "execution_count": null,
   "metadata": {},
   "outputs": [],
   "source": [
    "fetch(@spawnat 1 (;indices=DistributedArrays.localindices(lambdas_dist),  values=localpart(lambdas_dist)) )"
   ]
  },
  {
   "cell_type": "code",
   "execution_count": null,
   "metadata": {},
   "outputs": [],
   "source": [
    "fetch(@spawnat first(workers()) (;indices=DistributedArrays.localindices(lambdas_dist),  values=localpart(lambdas_dist)) )"
   ]
  },
  {
   "cell_type": "markdown",
   "metadata": {},
   "source": [
    "2k.  Before we benchmark this, what do you expect for the performance of `map` applied to DArray?"
   ]
  },
  {
   "cell_type": "code",
   "execution_count": null,
   "metadata": {},
   "outputs": [],
   "source": [
    "response_2k = missing # INSERT response "
   ]
  },
  {
   "cell_type": "code",
   "execution_count": null,
   "metadata": {},
   "outputs": [],
   "source": [
    "@test isapprox(map(conv_spectrum,lambdas_dist), result_ref)"
   ]
  },
  {
   "cell_type": "code",
   "execution_count": null,
   "metadata": {},
   "outputs": [],
   "source": [
    "for i in 1:num_runs @time map(conv_spectrum,lambdas_dist) end\n",
    "typeof(map(conv_spectrum,lambdas_dist))"
   ]
  },
  {
   "cell_type": "markdown",
   "metadata": {},
   "source": [
    "2l.  How did the actual performance compare to your expectations?"
   ]
  },
  {
   "cell_type": "code",
   "execution_count": null,
   "metadata": {},
   "outputs": [],
   "source": [
    "response_2l = missing # INSERT response "
   ]
  },
  {
   "cell_type": "markdown",
   "metadata": {},
   "source": [
    "Since map returned a `DArray`, we shouldn't assume that all the data is avaliable to the master process.\n",
    "In this case, we've only added processors that are on the same node, so we know that the data is actually all on one compute node.\n",
    "But a `DArray` can't count on that being true.  Indeed, in a future exercise, we'll use multiple cores that are spread over multiple nodes.  \n",
    "In order to bring make all the data in the DArray accessible to the master process, we could `collect` the data.\n",
    "\n",
    "2m.  How do you expect the performance to compare when we run map on a `DArray` with and without collecting the data at the end?"
   ]
  },
  {
   "cell_type": "code",
   "execution_count": null,
   "metadata": {},
   "outputs": [],
   "source": [
    "response_2m = missing # INSERT response"
   ]
  },
  {
   "cell_type": "code",
   "execution_count": null,
   "metadata": {},
   "outputs": [],
   "source": [
    "for i in 1:num_runs @time collect(map(conv_spectrum,lambdas_dist)) end"
   ]
  },
  {
   "cell_type": "markdown",
   "metadata": {},
   "source": [
    "2n. How did the actual performance compare to your expectations?"
   ]
  },
  {
   "cell_type": "code",
   "execution_count": null,
   "metadata": {
    "tags": []
   },
   "outputs": [],
   "source": [
    "response_2n = missing # INSERT response"
   ]
  },
  {
   "cell_type": "markdown",
   "metadata": {},
   "source": [
    "## Reducing Data Transport\n",
    "Copying all that data back into one array for the master process to use added a significant amount to the total time.  If the data had to move over the network, then it would have taken even longer.\n",
    "Fortunately, often you don't actually need to bring all the data back to the delegator process.  For example, you might have several calculations that can be done, each leaving the data distributed across many workers, until the very end.\n",
    "Another common scenario is that you want to performing a task that can be phrased as a [`mapreduce`](https://en.wikipedia.org/wiki/MapReduce) programming pattern.  For example, imagine that we only wanted to compute the mean squared error between two models.  \n",
    "For testing purposes, it'll be good to first implement it as a serial for loop."
   ]
  },
  {
   "cell_type": "code",
   "execution_count": null,
   "metadata": {},
   "outputs": [],
   "source": [
    "function calc_mse_loop(lambdas::AbstractArray, spec1::AbstractSpectrum, spec2::AbstractSpectrum,  v::Number)\n",
    "    c = lab6.speed_of_light\n",
    "    z = v/c \n",
    "    spec2_shifted = doppler_shifted_spectrum(spec2,z)\n",
    "    tmp1 = spec1(first(lambdas))\n",
    "    tmp2 = spec2_shifted(first(lambdas))\n",
    "    mse = zero(promote_type(typeof(tmp1),typeof(tmp2)))\n",
    "    for i in eachindex(lambdas)\n",
    "        @inbounds l = lambdas[i]\n",
    "        flux1 = spec1(l)\n",
    "        flux2 = spec2_shifted(l)\n",
    "        mse += (flux1-flux2)^2\n",
    "    end\n",
    "    mse /= length(lambdas)\n",
    "    return mse\n",
    "end"
   ]
  },
  {
   "cell_type": "markdown",
   "metadata": {},
   "source": [
    "Now we'll implement the same calculation using mapreduce."
   ]
  },
  {
   "cell_type": "code",
   "execution_count": null,
   "metadata": {},
   "outputs": [],
   "source": [
    "function calc_mse_mapreduce(lambdas::AbstractArray, spec1::AbstractSpectrum, spec2::AbstractSpectrum,  v::Number)\n",
    "    c = lab6.speed_of_light\n",
    "    z = v/c \n",
    "    spec2_shifted = doppler_shifted_spectrum(spec2,z)\n",
    "    mse = mapreduce(x->(spec1(x)-spec2_shifted(x))^2, +, lambdas)\n",
    "    mse /= length(lambdas)\n",
    "end"
   ]
  },
  {
   "cell_type": "markdown",
   "metadata": {
    "tags": []
   },
   "source": [
    "When writing parallel code, it's always good to check that the results are consistent regardless of whether you compute in serial or parallel for some test cases."
   ]
  },
  {
   "cell_type": "code",
   "execution_count": null,
   "metadata": {},
   "outputs": [],
   "source": [
    "@test calc_mse_loop(lambdas,conv_spectrum,conv_spectrum,10.0) ≈  calc_mse_mapreduce(lambdas,conv_spectrum,conv_spectrum,10.0) "
   ]
  },
  {
   "cell_type": "markdown",
   "metadata": {},
   "source": [
    "2o.  How do you expect the performance of `calc_mse_mapreduce` version will compare to twice the cost of applying `map` to `conv_spectrum` and the wavelengths stored as a `DArray`? \n",
    "How do you expect the performance of `calc_mse_mapreduce` version will compare to twice the cost of applying `map` to `conv_spectrum` and the wavelengths stored as a `DArray` *and* collecting the results to the delegator process?\n",
    "(Remember, that calculating the mean squared error between two models involves evaluating two spectral models for each wavelength.)"
   ]
  },
  {
   "cell_type": "code",
   "execution_count": null,
   "metadata": {},
   "outputs": [],
   "source": [
    "response_2o = missing # INSERT response"
   ]
  },
  {
   "cell_type": "code",
   "execution_count": null,
   "metadata": {},
   "outputs": [],
   "source": [
    "@time calc_mse_loop(lambdas,conv_spectrum,conv_spectrum,10.0) \n",
    "@time calc_mse_mapreduce(lambdas,conv_spectrum,conv_spectrum,10.0) "
   ]
  },
  {
   "cell_type": "code",
   "execution_count": null,
   "metadata": {},
   "outputs": [],
   "source": [
    "for i in 1:num_runs @time calc_mse_mapreduce(lambdas_dist,conv_spectrum,conv_spectrum,10.0) end"
   ]
  },
  {
   "cell_type": "markdown",
   "metadata": {},
   "source": [
    "2o.  How did the actual performance compare to your expectations?"
   ]
  },
  {
   "cell_type": "markdown",
   "metadata": {},
   "source": [
    "response_2o = missing # INSERT response"
   ]
  },
  {
   "cell_type": "markdown",
   "metadata": {},
   "source": [
    "### Distributed for loops\n",
    "\n",
    "While map, pmap and mapreduce can be very convenient, sometimes it's more natural to express your calculation in terms of a for loop.  We can do that with julia's [`@distributed`](https://docs.julialang.org/en/v1/stdlib/Distributed/#Distributed.@distributed) macro (with more explanation [here](https://docs.julialang.org/en/v1/manual/parallel-computing/#Parallel-Map-and-Loops-1)).  We'll try that below."
   ]
  },
  {
   "cell_type": "code",
   "execution_count": null,
   "metadata": {},
   "outputs": [],
   "source": [
    "function compute_using_distributed_for_loop_unsynced(x::AbstractArray, spectrum::T) where T<:AbstractSpectrum\n",
    "    out = zeros(length(x))  # Problematic since workers won't write to out on master\n",
    "    @distributed for i in 1:length(x)\n",
    "        out[i] = conv_spectrum(x[i])\n",
    "    end\n",
    "    return out\n",
    "end"
   ]
  },
  {
   "cell_type": "code",
   "execution_count": null,
   "metadata": {},
   "outputs": [],
   "source": [
    "for i in 1:num_runs @time res=   compute_using_distributed_for_loop_unsynced(lambdas_dist,conv_spectrum) end"
   ]
  },
  {
   "cell_type": "markdown",
   "metadata": {},
   "source": [
    "Wow, that was fast!  Or was it?  No.  Actually, what happened is that Julia started the computations on the workers, and let the master process keep going, without waiting for the workers to finish.  \n",
    "Sometimes we want to do this, so the master processes can do other work while waiting on the workers to finish.  Also, each worker wrote to its own out array, so we didn't even get the output.  \n",
    "For timing purposes, we want to make sure all the work is complete and the workers have synchronized.\n",
    "We can do this by adding the [`@sync` macro](https://docs.julialang.org/en/v1/stdlib/Distributed/#Base.@sync)."
   ]
  },
  {
   "cell_type": "code",
   "execution_count": null,
   "metadata": {},
   "outputs": [],
   "source": [
    "function compute_using_distributed_for_loop(x::AbstractArray, spectrum::T) where T<:AbstractSpectrum\n",
    "    out =  SharedArray(zeros(length(x)))\n",
    "    @sync @distributed for i in 1:length(x)\n",
    "        out[i] = conv_spectrum(x[i])\n",
    "    end\n",
    "    return out\n",
    "end"
   ]
  },
  {
   "cell_type": "code",
   "execution_count": null,
   "metadata": {},
   "outputs": [],
   "source": [
    "@test isapprox( compute_using_distributed_for_loop(lambdas,conv_spectrum) , result_ref)"
   ]
  },
  {
   "cell_type": "markdown",
   "metadata": {},
   "source": [
    "2p.  How do you expect the performance of `compute_using_distributed_for_loop` to compare to the performance of using `pmap` to compute the spectrum (after using a good batch size)?"
   ]
  },
  {
   "cell_type": "code",
   "execution_count": null,
   "metadata": {},
   "outputs": [],
   "source": [
    "response_2p = missing # INSERT response"
   ]
  },
  {
   "cell_type": "code",
   "execution_count": null,
   "metadata": {},
   "outputs": [],
   "source": [
    "for i in 1:num_runs @time compute_using_distributed_for_loop(lambdas_dist,conv_spectrum) end"
   ]
  },
  {
   "cell_type": "markdown",
   "metadata": {},
   "source": [
    "The `@distributed` macro also works with data stored in a SharedArray or even regular Array. For example..."
   ]
  },
  {
   "cell_type": "code",
   "execution_count": null,
   "metadata": {},
   "outputs": [],
   "source": [
    "for i in 1:num_runs @time compute_using_distributed_for_loop(lambdas_shared,conv_spectrum) end"
   ]
  },
  {
   "cell_type": "code",
   "execution_count": null,
   "metadata": {},
   "outputs": [],
   "source": [
    "for i in 1:num_runs @time compute_using_distributed_for_loop(lambdas,conv_spectrum) end"
   ]
  },
  {
   "cell_type": "markdown",
   "metadata": {},
   "source": [
    "2q.  How did the benchmarking results compare to your predictions?"
   ]
  },
  {
   "cell_type": "code",
   "execution_count": null,
   "metadata": {},
   "outputs": [],
   "source": [
    "response_2q = missing # INSERT response"
   ]
  },
  {
   "cell_type": "markdown",
   "metadata": {},
   "source": [
    "In this case, we don't notice a significant difference in performance with the distributed for loop depending on how the lambdas were stored, since all three are being stored in a shared memory system.  Once we use multiple compute nodes and communications must travel over a network, differences in performance will become more apparent."
   ]
  },
  {
   "cell_type": "markdown",
   "metadata": {},
   "source": [
    "There's also an option to specify a reducing operation that is performed on the result of each pass through the `@distributed` for loop.  (The function to perform the reduction is provided in parentheses before the `for`.)"
   ]
  },
  {
   "cell_type": "code",
   "execution_count": null,
   "metadata": {},
   "outputs": [],
   "source": [
    "function calc_mse_distributed_loop(lambdas::DArray, spec1::AbstractSpectrum, spec2::AbstractSpectrum,  v::Number)\n",
    "    c = lab6.speed_of_light\n",
    "    z = v/c \n",
    "    spec2_shifted = doppler_shifted_spectrum(spec2,z)\n",
    "    mse = @distributed (+) for i in eachindex(lambdas)\n",
    "        @inbounds l = lambdas[i]\n",
    "        flux1 = spec1(l)\n",
    "        flux2 = spec2_shifted(l)\n",
    "        (flux1-flux2)^2  # result of last line will be reduced by + operator\n",
    "    end\n",
    "    mse /= length(lambdas)\n",
    "    return mse\n",
    "end"
   ]
  },
  {
   "cell_type": "code",
   "execution_count": null,
   "metadata": {},
   "outputs": [],
   "source": [
    "@test calc_mse_loop(lambdas,conv_spectrum,conv_spectrum,10.0) ≈ calc_mse_distributed_loop(lambdas_dist, conv_spectrum, conv_spectrum, 10.0) "
   ]
  },
  {
   "cell_type": "markdown",
   "metadata": {},
   "source": [
    "2r.  How do you expect that the performance of the `@distributed` for loop with a reduction operator will perform compared to `mapreduce` on a distributed array?"
   ]
  },
  {
   "cell_type": "code",
   "execution_count": null,
   "metadata": {},
   "outputs": [],
   "source": [
    "response_2r = missing # RESPONSE"
   ]
  },
  {
   "cell_type": "code",
   "execution_count": null,
   "metadata": {},
   "outputs": [],
   "source": [
    "for i in 1:num_runs @time calc_mse_distributed_loop(lambdas_dist, conv_spectrum, conv_spectrum, 10.0) end"
   ]
  },
  {
   "cell_type": "markdown",
   "metadata": {},
   "source": [
    "2s.  How did the results compare to your expectations?"
   ]
  },
  {
   "cell_type": "code",
   "execution_count": null,
   "metadata": {},
   "outputs": [],
   "source": [
    "response_2s = missing # RESPONSE"
   ]
  },
  {
   "cell_type": "markdown",
   "metadata": {},
   "source": [
    "## Distributed for loop using FLoops"
   ]
  },
  {
   "cell_type": "markdown",
   "metadata": {},
   "source": [
    "Here we'll demonstrate one more way to perform the same calculation in parallel, using the [FLoops.jl](https://juliafolds.github.io/FLoops.jl/dev/) package. This package is still young, experimental and likely to change.  But it seems to hold a lot of promise for enabling programmers to implement more complex calculations in parallel efficiently for the programmer, and hopefully eventually also efficiently for the computers. "
   ]
  },
  {
   "cell_type": "code",
   "execution_count": null,
   "metadata": {},
   "outputs": [],
   "source": [
    "using FLoops"
   ]
  },
  {
   "cell_type": "code",
   "execution_count": null,
   "metadata": {},
   "outputs": [],
   "source": [
    "function calc_mse_flloop(lambdas::AbstractArray, spec1::AbstractSpectrum, spec2::AbstractSpectrum,  v::Number; ex = ThreadedEx())\n",
    "    c = lab6.speed_of_light\n",
    "    z = v/c \n",
    "    spec2_shifted = doppler_shifted_spectrum(spec2,z)\n",
    "    tmp1 = spec1(first(lambdas))\n",
    "    tmp2 = spec2_shifted(first(lambdas))\n",
    "    mse = zero(promote_type(typeof(tmp1),typeof(tmp2)))\n",
    "    @sync @floop ex for i in eachindex(lambdas)\n",
    "        @inbounds l = lambdas[i]\n",
    "        flux1 = spec1(l)\n",
    "        flux2 = spec2_shifted(l)\n",
    "        @reduce(mse += (flux1-flux2)^2)\n",
    "    end\n",
    "    mse /= length(lambdas)\n",
    "    return mse\n",
    "end"
   ]
  },
  {
   "cell_type": "code",
   "execution_count": null,
   "metadata": {},
   "outputs": [],
   "source": [
    "@test calc_mse_loop(lambdas,conv_spectrum,conv_spectrum,10.0) ≈ calc_mse_flloop(lambdas, conv_spectrum, conv_spectrum, 10.0, ex=DistributedEx()  ) "
   ]
  },
  {
   "cell_type": "code",
   "execution_count": null,
   "metadata": {},
   "outputs": [],
   "source": [
    "for i in 1:num_runs @time calc_mse_flloop(lambdas, conv_spectrum, conv_spectrum, 10.0, ex=DistributedEx() ) end"
   ]
  },
  {
   "cell_type": "markdown",
   "metadata": {},
   "source": [
    "## Comparing Multi-threading vs Multi-processing performance more easily"
   ]
  },
  {
   "cell_type": "markdown",
   "metadata": {},
   "source": [
    "Wouldn't it be nice if we didn't have to rewrite our code for each architecture?  There are some relatively young packages that make this possible (e.g., [FLoops.jl](https://juliafolds.github.io/FLoops.jl/dev/) and [KernelAbstractions.jl](https://juliagpu.github.io/KernelAbstractions.jl/stable/)).  Below we'll compare the performance of serial, multi-threaded and multi-processing versions of our function by simply specifying a different *executor*, as shown below."
   ]
  },
  {
   "cell_type": "code",
   "execution_count": null,
   "metadata": {},
   "outputs": [],
   "source": [
    "for i in 1:num_runs @time calc_mse_flloop(lambdas, conv_spectrum, conv_spectrum, 10.0, ex = SequentialEx(simd = Val(true)) ) end"
   ]
  },
  {
   "cell_type": "code",
   "execution_count": null,
   "metadata": {},
   "outputs": [],
   "source": [
    "for i in 1:num_runs @time calc_mse_flloop(lambdas, conv_spectrum, conv_spectrum, 10.0, ex = ThreadedEx() ) end   # default if we don't specify ex explicitly"
   ]
  },
  {
   "cell_type": "code",
   "execution_count": null,
   "metadata": {},
   "outputs": [],
   "source": [
    "for i in 1:num_runs @time calc_mse_flloop(lambdas, conv_spectrum, conv_spectrum, 10.0, ex=DistributedEx() ) end"
   ]
  },
  {
   "cell_type": "markdown",
   "metadata": {},
   "source": [
    "When I last tested FLoops, it still wasn't as fast as using mapreduce on a distributed array or a distributed for loop for simple problems.  \n",
    "But there may be some more complex problems, where the greater flexibility of FLoops is valuable to the programmer (e.g., if you have a large dataset and want to do several calculations using one pass through your data)."
   ]
  },
  {
   "cell_type": "markdown",
   "metadata": {},
   "source": [
    "2t.  Think about your class project and the parallel programming patterns demonstrated in this exercise.  \n",
    "Could your key calculation be phrased as a mapreduce problem?  Could it be phrased as one or more map calculations?  Is it advantageous to using a distributed for loop or FLoops?  \n",
    "Do you see a reason to implement different parts of the problem using different programming patterns?\n",
    "If you were to parallelize your code using multi-processing, which of the methods above would you choose?  Why?"
   ]
  },
  {
   "cell_type": "code",
   "execution_count": null,
   "metadata": {},
   "outputs": [],
   "source": [
    "response_2t = missing #= \n",
    "\"\"\"\n",
    "Example \n",
    "multi-line\n",
    "response\n",
    "\"\"\"\n",
    "=#;"
   ]
  },
  {
   "cell_type": "markdown",
   "metadata": {},
   "source": [
    "2u.  *If* you're planning to parallelize your class project for distributed memory, then before you parallelize your class project, get some practice by parallelizing the function `calc_χ²` (at bottom of notebook) using whichever parallelization strategy that you plan to use for your project."
   ]
  },
  {
   "cell_type": "code",
   "execution_count": null,
   "metadata": {},
   "outputs": [],
   "source": [
    "# response_u2: \n",
    "function calc_χ²_my_way(lambdas::AbstractArray, spec1::AbstractSpectrum, spec2::AbstractSpectrum, σ1::AbstractArray, σ2::AbstractArray, v::Number; #= any optional parameters? =# )\n",
    "    # INSERT YOUR CODE HERE\n",
    "    return missing\n",
    "end"
   ]
  },
  {
   "cell_type": "code",
   "execution_count": null,
   "metadata": {},
   "outputs": [],
   "source": [
    "σ_obs1 = 0.02*ones(size(lambdas))\n",
    "σ_obs2 = 0.02*ones(size(lambdas));"
   ]
  },
  {
   "cell_type": "code",
   "execution_count": null,
   "metadata": {},
   "outputs": [],
   "source": [
    "function calc_χ²_loop(lambdas::AbstractArray, spec1::AbstractSpectrum, spec2::AbstractSpectrum, σ1::AbstractArray, σ2::AbstractArray, v::Number )\n",
    "    @assert size(lambdas) == size(σ1) == size(σ2)\n",
    "    c = lab6.speed_of_light\n",
    "    z = v/c \n",
    "    spec2_shifted = doppler_shifted_spectrum(spec2,z)\n",
    "    tmp1 = spec1(first(lambdas))\n",
    "    tmp2 = spec2_shifted(first(lambdas))\n",
    "    χ² = zero(promote_type(typeof(tmp1),typeof(tmp2),eltype(σ1),eltype(σ2)))\n",
    "    for i in eachindex(lambdas)\n",
    "        @inbounds l = lambdas[i]\n",
    "        flux1 = spec1(l)\n",
    "        flux2 = spec2_shifted(l)\n",
    "        @inbounds χ² += (flux1-flux2)^2/(σ1[i]^2+σ2[i]^2)\n",
    "    end\n",
    "    return χ²\n",
    "end"
   ]
  },
  {
   "cell_type": "code",
   "execution_count": null,
   "metadata": {},
   "outputs": [],
   "source": [
    "@test abs(calc_χ²_my_way(lambdas,conv_spectrum, conv_spectrum, σ_obs1, σ_obs2, 0.0 )) < 1e-8"
   ]
  },
  {
   "cell_type": "code",
   "execution_count": null,
   "metadata": {},
   "outputs": [],
   "source": [
    "@test calc_χ²_my_way(lambdas,conv_spectrum, conv_spectrum, σ_obs1, σ_obs2, 10.0 ) ≈ calc_χ²_loop(lambdas,conv_spectrum, conv_spectrum, σ_obs1, σ_obs2, 10.0 )"
   ]
  },
  {
   "cell_type": "code",
   "execution_count": null,
   "metadata": {},
   "outputs": [],
   "source": []
  }
 ],
 "metadata": {
  "kernelspec": {
   "display_name": "Julia 1.6.0",
   "language": "julia",
   "name": "julia-1.6"
  },
  "language_info": {
   "file_extension": ".jl",
   "mimetype": "application/julia",
   "name": "julia",
   "version": "1.6.0"
  }
 },
 "nbformat": 4,
 "nbformat_minor": 4
}
