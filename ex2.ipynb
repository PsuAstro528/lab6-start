{
 "cells": [
  {
   "cell_type": "markdown",
   "metadata": {},
   "source": [
    "# Astro 528, Lab 6, Exercise 2\n",
    "## Parallelization for Multi-Core Workstations (using multiple processes)\n",
    "\n",
    "### Hardware configuration for this exercise\n",
    "In this lab exercise, we'll explore a few different ways that we can parallelize calculations across multiple cores of a single workstation or server.  Some of the syntax and programming patterns are very similar as to what you'll use later when we parallelize our code for distributed computing (i.e., over a number of processors that do not have direct access to the same memory.)\n",
    "\n",
    "Fortunately, most modern workstations and even laptops have multiple cores.  As of 2021, most of the ICS-ACI compute nodes have 14-24 cores.  (The high-memory nodes have 40 cores. The HPRC nodes are configured to offer many more virtual cores, but HPRC jobs should not use more than 20 cores.)  \n",
    "\n",
    "For this exercise, it's important that you actually have access to multiple processor cores.  If you're using Julia installed on your own machine, then you don't need to do anything special before starting the lab.  However, if you're using the ICDS-ACI portal to access the Jupyter Lab server, then you will need to have requested multiple processor cores when you first submited the request for the JupyterLab server using the box labeled \"Number of Cores\", i.e. _before you start executing cells in this notebook_.  Here's a [screenshot](images/portal_screenshot.png) showing the screen where you specify multiple cores.  \n",
    "\n",
    "While we're in class, please ask for just 4 cores, since there are many of us using the same two compute nodes at once.  \n",
    "If you return to working on the lab outside of class (and not right before the deadline), then feel free to try benchmarking the code using 8 cores, 12 or even 16 cores.  If you do ask for several cores, then please be extra diligent about deleting your session via the ICDS-ACI Portal when you're done, so they become avaliable to other members of the class."
   ]
  },
  {
   "cell_type": "markdown",
   "metadata": {},
   "source": [
    "### Why Jupyter?\n",
    "For this exercise, we're using a Jupyter notebook, instead of a Pluto notebook.  Why?\n",
    "In the previous exercise, we parallelized our code using one process that organized its computation into multiple threads, all within a Pluto notebook.  Pluto worked well for that kind of parallelism.  In contrast, for this exercise, we're going to parallelize our code using multiple processes. \n",
    "Pluto already uses multiple processes to analyze, run and display the Pluto notebook, so you can't (easily) parallelize your code over multiple processes within a Pluto notebook environment.  \n",
    "\n",
    "Since each Jupyter notebook is executed using a separate Julia kernel, they are more ammenable to parallelization via multiple processes.  \n",
    "\n",
    "### Multi-process vs Multi-threading\n",
    "As discussed in [the previous exercise](https://psuastro528.github.io/lab6-start/ex1.html), both approaches are viable ways to parallelize code over multiple processors contained within one workstation/compute node/server.  Multiple threads within a single process all have access to the memory that the operating system (OS) has assigned to that process.  However, different processes are assigned separate memory locations.  While it is possible to send data from one process to another, it needs to be done explicitly.  For simples codes, I usually start with multi-threading, as it tends to be a little easier to implement and is often more efficient.  For more complex codes (e.g., integrating PDEs), there can be advanages to using multiple processes (e.g., reducing need for memory locks).  However, the main reason I want students to get experience parallelizing code using multiple processes is that this apporach is necessary to scale up the level parallelism to use more compute cores than exist in compute node.  If we write (and test) our code to run in parallel using multiple processes on one workstation, then there will be relatively little work to implement a distributed memory parallelization.  \n",
    "\n",
    "### Installing packages\n",
    "First, let's make sure that the packages we'll use are installed."
   ]
  },
  {
   "cell_type": "code",
   "execution_count": 1,
   "metadata": {},
   "outputs": [
    {
     "name": "stderr",
     "output_type": "stream",
     "text": [
      "\u001b[32m\u001b[1m  Activating\u001b[22m\u001b[39m environment at `/storage/home/e/ebf11/Teach/Astro528/Fall2021/lab6-dev/Project.toml`\n"
     ]
    }
   ],
   "source": [
    "using Pkg\n",
    "Pkg.UPDATED_REGISTRY_THIS_SESSION[] = true   # Tell Julia package manager not to download an updated registry for speed's sake\n",
    "Pkg.activate(\".\")                            # Project.toml specifies the packages required for this lab\n",
    "Pkg.instantiate()                            # Install any packages needed"
   ]
  },
  {
   "cell_type": "markdown",
   "metadata": {},
   "source": [
    "### Getting setup for parallel computation"
   ]
  },
  {
   "cell_type": "markdown",
   "metadata": {},
   "source": [
    "First, let us load Julia's `Distributed` module that provides much of the needed functionality."
   ]
  },
  {
   "cell_type": "code",
   "execution_count": 2,
   "metadata": {},
   "outputs": [
    {
     "data": {
      "text/plain": [
       "1"
      ]
     },
     "execution_count": 2,
     "metadata": {},
     "output_type": "execute_result"
    }
   ],
   "source": [
    "using Distributed\n",
    "nworkers()"
   ]
  },
  {
   "cell_type": "markdown",
   "metadata": {},
   "source": [
    "Note that even if you have a Jupyter notebook server (or remote desktop or PBS job) that has been allocated multiple cores, that doesn't mean that you'll use them.  By default, Julia starts running on a single core which is the one worker process.  \n",
    "To enable parallel computing, we need to tell Julia how many processor cores to use.  By default, we're just using one.  How many should we add?  \n",
    "Let's get some information about the hardware that we're running on."
   ]
  },
  {
   "cell_type": "code",
   "execution_count": 3,
   "metadata": {},
   "outputs": [
    {
     "name": "stdout",
     "output_type": "stream",
     "text": [
      "Intel(R) Xeon(R) CPU E5-2680 v4 @ 2.40GHz: \n",
      "          speed         user         nice          sys         idle          irq\n",
      "#1-28  3152 MHz    2219615 s      11846 s    1259034 s  621418874 s          0 s\n"
     ]
    }
   ],
   "source": [
    "Sys.cpu_summary()"
   ]
  },
  {
   "cell_type": "markdown",
   "metadata": {},
   "source": [
    "As discussed in exercise 1, just because the compute node we've been assigned has many cores, doesn't mean that we're allowed to use all of them.  \n",
    "We'll check if this notebook is running inside a PBS job, and if so, use the number of cores that we've been assigned.  If we're not inside a PBS job, then we'll use the number of physical cores. "
   ]
  },
  {
   "cell_type": "code",
   "execution_count": 4,
   "metadata": {},
   "outputs": [],
   "source": [
    "using CpuId"
   ]
  },
  {
   "cell_type": "code",
   "execution_count": 5,
   "metadata": {},
   "outputs": [
    {
     "data": {
      "text/plain": [
       "8"
      ]
     },
     "execution_count": 5,
     "metadata": {},
     "output_type": "execute_result"
    }
   ],
   "source": [
    "if haskey(ENV,\"PBS_NUM_PPN\")\n",
    "    pbs_procs_per_node = parse(Int64,ENV[\"PBS_NUM_PPN\"])\n",
    "    num_cores_to_use = pbs_procs_per_node \n",
    "else\n",
    "    num_physical_cores = cpucores()\n",
    "    num_cores_to_use = num_physical_cores \n",
    "end"
   ]
  },
  {
   "cell_type": "markdown",
   "metadata": {
    "tags": []
   },
   "source": [
    "2a.  How many cores will you be using for this exercise (i.e., the result of cell above)? "
   ]
  },
  {
   "cell_type": "code",
   "execution_count": 6,
   "metadata": {},
   "outputs": [
    {
     "data": {
      "text/plain": [
       "missing"
      ]
     },
     "execution_count": 6,
     "metadata": {},
     "output_type": "execute_result"
    }
   ],
   "source": [
    "response_2a = missing # Explicilty set to integer (i.e., don't set to num_cores_to_use, so we'll be able to provide appropriate feedback on your future responces.)"
   ]
  },
  {
   "cell_type": "markdown",
   "metadata": {},
   "source": [
    "Next, we'll tell Julia to add several worker processes. "
   ]
  },
  {
   "cell_type": "code",
   "execution_count": 7,
   "metadata": {},
   "outputs": [
    {
     "data": {
      "text/plain": [
       "7-element Vector{Int64}:\n",
       " 2\n",
       " 3\n",
       " 4\n",
       " 5\n",
       " 6\n",
       " 7\n",
       " 8"
      ]
     },
     "execution_count": 7,
     "metadata": {},
     "output_type": "execute_result"
    }
   ],
   "source": [
    "if num_cores_to_use>1\n",
    "    addprocs(num_cores_to_use-1)\n",
    "end"
   ]
  },
  {
   "cell_type": "markdown",
   "metadata": {},
   "source": [
    "`addprocs(N)` returned a list of ids that you can use to refer to specific workers within Julia.  (We won't be using these, but it can be useful if you want finer grained control.)  \n",
    "If you're every unsure of how many workers you currently have avaliable, you can run `nworkers()`."
   ]
  },
  {
   "cell_type": "code",
   "execution_count": 8,
   "metadata": {},
   "outputs": [
    {
     "data": {
      "text/plain": [
       "7"
      ]
     },
     "execution_count": 8,
     "metadata": {},
     "output_type": "execute_result"
    }
   ],
   "source": [
    "nworkers()"
   ]
  },
  {
   "cell_type": "markdown",
   "metadata": {},
   "source": [
    "Note that the list of workers now excludes 1 and the number of workers is equal to the number you added, rather than being one plus that number.  Why?  The original process is now in charge of delegating the work amongst the worker processes. (Historically, this process was referred to as the \"master process\", and you're likely to still that terminology in online documentation and questions.  I'll try to use the \"delegator process\" instead.)  When you have a lot of workers, it's often advantageous to let one process focus on managing all the communications and other overhead associated with parallelization.  That way the worker processes are likely to stay more nearly in sync, rather than having to repeatedly wait for the delegator process to catch up.  On the other hand, if there is relatively little overhead work for the delegator process, then it is often useful to set the number of workers equal to the number of available CPU cores, even though that means one process will have to do a little more work than the others.  We'll try both below.\n",
    "\n",
    "### Loading Packages and modules\n",
    "\n",
    "Now, that we have loaded the `Distributed` package, we can use the functions and macros that it provides to start code and packages that we want to use during this exercise onto the other processes.  Unlike when we were using multi-threading, with distributed computing each worker has its own chunk of memory and the programmer can control whether code is to be loaded on every process or just one/some.  \n",
    "But before we load packages onto worker processes, we need to make sure that each worker is using the same environment (i.e., knows which versions of which packages should be avaliable).  We'll do that by telling each worker to activate the same environment, as specificed in the lab's `Project.toml` file.  \n",
    "In this case, we don't need to install or instantiate on each worker, since we already installed them above, and on ICDS-ACI, each worker have access to the same filesystem.  (We also signal that workers should not attempt to update the Julia package registry.  Asking multiple processes to try to update the reigstry at once would be annoyingly slow (and I worry that it might even cause your Julia depot to get messed up).)"
   ]
  },
  {
   "cell_type": "code",
   "execution_count": 9,
   "metadata": {},
   "outputs": [
    {
     "name": "stderr",
     "output_type": "stream",
     "text": [
      "\u001b[32m\u001b[1m  Activating\u001b[22m\u001b[39m environment at `/storage/home/e/ebf11/Teach/Astro528/Fall2021/lab6-dev/Project.toml`\n"
     ]
    },
    {
     "name": "stdout",
     "output_type": "stream",
     "text": [
      "      From worker 4:\t\u001b[32m\u001b[1m  Activating\u001b[22m\u001b[39m environment at `/storage/home/e/ebf11/Teach/Astro528/Fall2021/lab6-dev/Project.toml`\n",
      "      From worker 3:\t\u001b[32m\u001b[1m  Activating\u001b[22m\u001b[39m environment at `/storage/home/e/ebf11/Teach/Astro528/Fall2021/lab6-dev/Project.toml`\n",
      "      From worker 2:\t\u001b[32m\u001b[1m  Activating\u001b[22m\u001b[39m environment at `/storage/home/e/ebf11/Teach/Astro528/Fall2021/lab6-dev/Project.toml`\n",
      "      From worker 5:\t\u001b[32m\u001b[1m  Activating\u001b[22m\u001b[39m environment at `/storage/home/e/ebf11/Teach/Astro528/Fall2021/lab6-dev/Project.toml`\n",
      "      From worker 6:\t\u001b[32m\u001b[1m  Activating\u001b[22m\u001b[39m environment at `/storage/home/e/ebf11/Teach/Astro528/Fall2021/lab6-dev/Project.toml`\n",
      "      From worker 7:\t\u001b[32m\u001b[1m  Activating\u001b[22m\u001b[39m environment at `/storage/home/e/ebf11/Teach/Astro528/Fall2021/lab6-dev/Project.toml`\n",
      "      From worker 8:\t\u001b[32m\u001b[1m  Activating\u001b[22m\u001b[39m environment at `/storage/home/e/ebf11/Teach/Astro528/Fall2021/lab6-dev/Project.toml`\n"
     ]
    }
   ],
   "source": [
    "@everywhere using Pkg\n",
    "@everywhere Pkg.UPDATED_REGISTRY_THIS_SESSION[] = true\n",
    "@everywhere Pkg.activate(\".\")"
   ]
  },
  {
   "cell_type": "markdown",
   "metadata": {},
   "source": [
    "Next, we want the packages that we plan to use for our computations below to be loaded and in scope on each worker.  In order to make sure that we don't trigger multiple worker processes trying to precompile packages at once, we'll first have the delegator process precompile all the packages used in this exercise. "
   ]
  },
  {
   "cell_type": "code",
   "execution_count": 10,
   "metadata": {},
   "outputs": [],
   "source": [
    "Pkg.precompile()"
   ]
  },
  {
   "cell_type": "markdown",
   "metadata": {},
   "source": [
    "Again, we'll use the `@everywhere` macro in front of the `using` statement to load packages on both the delegator and worker processes.  "
   ]
  },
  {
   "cell_type": "code",
   "execution_count": 11,
   "metadata": {},
   "outputs": [],
   "source": [
    "@everywhere using Distributions "
   ]
  },
  {
   "cell_type": "markdown",
   "metadata": {
    "tags": []
   },
   "source": [
    "Typing `@everywhere` in front of every line of code would get very annoying fast.  So it's better to put the common code that you want every worker to load into a separate file (and even better is to organize the code into one or more modules or packages).  Then, we can load a whole bunch of functions that we'll want to use with one line.\n",
    "In this exercise, we'll load the same code as in exercise 1 of this lab.  (As before, you don't need to review all the code in `src` unless you find it interesting or useful to see the programming patterns being demonstrated.)  The main difference in this exercise is that we'll include the file `src/lab6.jl` instead of the file `model_spectrum.jl`. `lab6.jl` includes the code from `model_spectrum.jl` (and the other files that it includes) and wraps them in a module named `lab6`.  (In contrast, Pluto's `ingredients` command automatically wraps code from a file into a module and returns it, so that Pluto can keep track of dependancies, which it needs to do to make a reactive notebook.)  \n",
    "We preface the `include` with `@everywhere`, since we want all of the processors to be able to make use of these function and types."
   ]
  },
  {
   "cell_type": "code",
   "execution_count": 12,
   "metadata": {},
   "outputs": [],
   "source": [
    "@everywhere include(\"src/lab6.jl\")"
   ]
  },
  {
   "cell_type": "markdown",
   "metadata": {},
   "source": [
    "Now, we'll bring that module into scope.  Note that since this is not a package, we need to include a `.` to tell Julia that it can the module in the current namespace, rather than needing to load a package."
   ]
  },
  {
   "cell_type": "code",
   "execution_count": 13,
   "metadata": {},
   "outputs": [],
   "source": [
    "using .lab6"
   ]
  },
  {
   "cell_type": "markdown",
   "metadata": {},
   "source": [
    "### Initialize data to be analyzed\n",
    "In this exercise, we're going to create a model spectrum consisting of continuum, stellar absorption lines, telluric absorption lines.  \n",
    "The `ModelSpectrum` module provides a `SimulatedSpectrum` type, but we'll need to initialize a variable with some specific parameter values.  The function will do that for us."
   ]
  },
  {
   "cell_type": "code",
   "execution_count": 14,
   "metadata": {},
   "outputs": [
    {
     "data": {
      "text/plain": [
       "make_spectrum_object"
      ]
     },
     "execution_count": 14,
     "metadata": {},
     "output_type": "execute_result"
    }
   ],
   "source": [
    "\"Create an object that provides a model for the raw spetrum (i.e., before entering the telescope)\"\n",
    "function make_spectrum_object(;lambda_min = 4500, lambda_max = 7500, flux_scale = 1.0,\n",
    "        num_star_lines = 200, num_telluric_lines = 100, limit_line_effect = 10.0)\n",
    "\n",
    "    continuum_param = flux_scale .* [1.0, 1e-5, -2e-8]\n",
    "    \n",
    "    star_line_locs = rand(Uniform(lambda_min,lambda_max),num_star_lines)\n",
    "    star_line_widths = fill(1.0,num_star_lines)\n",
    "    star_line_depths = rand(Uniform(0,1.0),num_star_lines)\n",
    "    \n",
    "    telluric_line_locs = rand(Uniform(lambda_min,lambda_max),num_telluric_lines)\n",
    "    telluric_line_widths = fill(0.2,num_telluric_lines)\n",
    "    telluric_line_depths = rand(Uniform(0,0.4),num_telluric_lines)\n",
    "\n",
    "    SimulatedSpectrum(star_line_locs,star_line_widths,star_line_depths,telluric_line_locs,telluric_line_widths,telluric_line_depths,continuum_param=continuum_param,lambda_mid=0.5*(lambda_min+lambda_max),limit_line_effect=limit_line_effect)\n",
    "end"
   ]
  },
  {
   "cell_type": "markdown",
   "metadata": {},
   "source": [
    "Next, we: \n",
    "1. create a set of wavelengths to observe the spectrum at, \n",
    "2. call the function above to create a spectrum object, \n",
    "3. create an object containing a model for the point spread function, and \n",
    "4. create an object that can compute the convolution of our spectral model with the point spread function model."
   ]
  },
  {
   "cell_type": "code",
   "execution_count": 15,
   "metadata": {},
   "outputs": [
    {
     "data": {
      "text/plain": [
       "ConvolvedSpectrum{SimulatedSpectrum{Float64, Float64, Float64, Float64, Float64, Float64, Float64, Float64, Float64}, GaussianMixtureConvolutionKernel{Float64, Float64}}(SimulatedSpectrum{Float64, Float64, Float64, Float64, Float64, Float64, Float64, Float64, Float64}([5566.3667370776475, 5065.2234613131395, 5512.930062293532, 5191.718106161278, 5470.795840899372, 5224.609004782864, 5762.540888292999, 5264.740230036514, 5006.862798862248, 5642.888817917606  …  5529.785192172879, 5222.452182403948, 5038.475304709292, 5291.359886184566, 5661.473255234275, 5935.283893293924, 5960.84694312849, 5167.4907882147345, 5157.897396176972, 5414.955695723995], [1.0, 1.0, 1.0, 1.0, 1.0, 1.0, 1.0, 1.0, 1.0, 1.0  …  1.0, 1.0, 1.0, 1.0, 1.0, 1.0, 1.0, 1.0, 1.0, 1.0], [0.33457394379136285, 0.7775851095765118, 0.1349063648141453, 0.5377769401517216, 0.979774395654085, 0.24096283290397347, 0.24751774614146238, 0.22209866616504859, 0.8384034315859752, 0.36635762852648424  …  0.04506658390918128, 0.12610512530456774, 0.6985468128748997, 0.7045275909443631, 0.30470537103161854, 0.5407534857604117, 0.19235009755715216, 0.4416034585276922, 0.7137929751101677, 0.14824559492062983], [5042.316198967792, 5987.815351987142, 5579.6800228190905, 5438.265710271043, 5695.926051127425, 5435.449453729334, 5937.928233869111, 5592.047818826516, 5674.333821529694, 5052.54857743228  …  5104.358298238129, 5906.0257455962565, 5419.579468555165, 5299.468825256812, 5401.3501196437655, 5996.254141259886, 5848.855185447305, 5886.506974813669, 5605.920921358648, 5512.467110485825], [0.2, 0.2, 0.2, 0.2, 0.2, 0.2, 0.2, 0.2, 0.2, 0.2  …  0.2, 0.2, 0.2, 0.2, 0.2, 0.2, 0.2, 0.2, 0.2, 0.2], [0.26259512580460637, 0.03298255273904847, 0.0929561338612392, 0.07993067324153796, 0.37231030398101883, 0.25845298702627933, 0.319937495783237, 0.2735592097835579, 0.19583197327185947, 0.23778879088388136  …  0.19359350945089684, 0.0031219788228606053, 0.001383934063018888, 0.37098210429880907, 0.31998780515343506, 0.01697853462541925, 0.05544773889336394, 0.07929351704710906, 0.17688834481327637, 0.1777007568474991], [1.0, 1.0e-5, -2.0e-8], 0.0, 5500.0, 10.0), GaussianMixtureConvolutionKernel{Float64, Float64}(Normal{Float64}[Normal{Float64}(μ=0.0, σ=0.5), Normal{Float64}(μ=0.0, σ=1.0), Normal{Float64}(μ=0.0, σ=2.0)], [0.8, 0.15, 0.05], 1.0000000143325827, 10.0), 10.0)"
      ]
     },
     "execution_count": 15,
     "metadata": {},
     "output_type": "execute_result"
    }
   ],
   "source": [
    "# 1.  Pick range of of wavelength to work on.\n",
    "lambda_min = 5000\n",
    "lambda_max = 6000\n",
    "# You may want to adjust the num_lambda to make things more/less computationally intensive\n",
    "num_lambda = 8*1024\n",
    "lambdas = collect(range(lambda_min,stop=lambda_max, length=num_lambda));\n",
    "\n",
    "# 2.  Create a model  spectrum that we'll analyze below\n",
    "raw_spectrum = make_spectrum_object(lambda_min=lambda_min,lambda_max=lambda_max)\n",
    "\n",
    "# 3.  Create a model for the point spread function (PSF)\n",
    "psf_widths  = [0.5, 1.0, 2.0]\n",
    "psf_weights = [0.8, 0.15, 0.05]\n",
    "psf_model = GaussianMixtureConvolutionKernel(psf_widths,psf_weights)\n",
    "\n",
    "# 4. Create a model for the the convolution of thte raw spectrum with the PDF model\n",
    "conv_spectrum = ConvolvedSpectrum(raw_spectrum,psf_model)"
   ]
  },
  {
   "cell_type": "code",
   "execution_count": 16,
   "metadata": {},
   "outputs": [],
   "source": [
    "result_ref = conv_spectrum.(lambdas);"
   ]
  },
  {
   "cell_type": "markdown",
   "metadata": {},
   "source": [
    "### Visualize what we've created\n",
    "\n",
    "This is very similar to exercise 1.  If you'd like to plot the raw spectrum and the convolved spectrum to see what's going on, there's some plotting code below.  The cells with plots below require that you first load the `Plots` package.  If you are confident you know what it looks like, then you can save some time, by not loading the Plots package.\n",
    "If you'd like to plot the spectrum model we'll be generating, then let go ahead and load the plots package now.\n",
    "Since we don't need the worker processes to plot things, we don't need to load the Plots code on all the worker processes.  "
   ]
  },
  {
   "cell_type": "code",
   "execution_count": 17,
   "metadata": {
    "tags": []
   },
   "outputs": [],
   "source": [
    "using Plots"
   ]
  },
  {
   "cell_type": "code",
   "execution_count": 18,
   "metadata": {},
   "outputs": [
    {
     "data": {
      "image/svg+xml": [
       "<?xml version=\"1.0\" encoding=\"utf-8\"?>\n",
       "<svg xmlns=\"http://www.w3.org/2000/svg\" xmlns:xlink=\"http://www.w3.org/1999/xlink\" width=\"600\" height=\"400\" viewBox=\"0 0 2400 1600\">\n",
       "<defs>\n",
       "  <clipPath id=\"clip130\">\n",
       "    <rect x=\"0\" y=\"0\" width=\"2400\" height=\"1600\"/>\n",
       "  </clipPath>\n",
       "</defs>\n",
       "<path clip-path=\"url(#clip130)\" d=\"\n",
       "M0 1600 L2400 1600 L2400 0 L0 0  Z\n",
       "  \" fill=\"#ffffff\" fill-rule=\"evenodd\" fill-opacity=\"1\"/>\n",
       "<defs>\n",
       "  <clipPath id=\"clip131\">\n",
       "    <rect x=\"480\" y=\"0\" width=\"1681\" height=\"1600\"/>\n",
       "  </clipPath>\n",
       "</defs>\n",
       "<path clip-path=\"url(#clip130)\" d=\"\n",
       "M249.542 1423.18 L2352.76 1423.18 L2352.76 47.2441 L249.542 47.2441  Z\n",
       "  \" fill=\"#ffffff\" fill-rule=\"evenodd\" fill-opacity=\"1\"/>\n",
       "<defs>\n",
       "  <clipPath id=\"clip132\">\n",
       "    <rect x=\"249\" y=\"47\" width=\"2104\" height=\"1377\"/>\n",
       "  </clipPath>\n",
       "</defs>\n",
       "<polyline clip-path=\"url(#clip132)\" style=\"stroke:#000000; stroke-linecap:butt; stroke-linejoin:round; stroke-width:2; stroke-opacity:0.1; fill:none\" points=\"\n",
       "  309.067,1423.18 309.067,47.2441 \n",
       "  \"/>\n",
       "<polyline clip-path=\"url(#clip132)\" style=\"stroke:#000000; stroke-linecap:butt; stroke-linejoin:round; stroke-width:2; stroke-opacity:0.1; fill:none\" points=\"\n",
       "  805.108,1423.18 805.108,47.2441 \n",
       "  \"/>\n",
       "<polyline clip-path=\"url(#clip132)\" style=\"stroke:#000000; stroke-linecap:butt; stroke-linejoin:round; stroke-width:2; stroke-opacity:0.1; fill:none\" points=\"\n",
       "  1301.15,1423.18 1301.15,47.2441 \n",
       "  \"/>\n",
       "<polyline clip-path=\"url(#clip132)\" style=\"stroke:#000000; stroke-linecap:butt; stroke-linejoin:round; stroke-width:2; stroke-opacity:0.1; fill:none\" points=\"\n",
       "  1797.19,1423.18 1797.19,47.2441 \n",
       "  \"/>\n",
       "<polyline clip-path=\"url(#clip132)\" style=\"stroke:#000000; stroke-linecap:butt; stroke-linejoin:round; stroke-width:2; stroke-opacity:0.1; fill:none\" points=\"\n",
       "  2293.23,1423.18 2293.23,47.2441 \n",
       "  \"/>\n",
       "<polyline clip-path=\"url(#clip130)\" style=\"stroke:#000000; stroke-linecap:butt; stroke-linejoin:round; stroke-width:4; stroke-opacity:1; fill:none\" points=\"\n",
       "  249.542,1423.18 2352.76,1423.18 \n",
       "  \"/>\n",
       "<polyline clip-path=\"url(#clip130)\" style=\"stroke:#000000; stroke-linecap:butt; stroke-linejoin:round; stroke-width:4; stroke-opacity:1; fill:none\" points=\"\n",
       "  309.067,1423.18 309.067,1404.28 \n",
       "  \"/>\n",
       "<polyline clip-path=\"url(#clip130)\" style=\"stroke:#000000; stroke-linecap:butt; stroke-linejoin:round; stroke-width:4; stroke-opacity:1; fill:none\" points=\"\n",
       "  805.108,1423.18 805.108,1404.28 \n",
       "  \"/>\n",
       "<polyline clip-path=\"url(#clip130)\" style=\"stroke:#000000; stroke-linecap:butt; stroke-linejoin:round; stroke-width:4; stroke-opacity:1; fill:none\" points=\"\n",
       "  1301.15,1423.18 1301.15,1404.28 \n",
       "  \"/>\n",
       "<polyline clip-path=\"url(#clip130)\" style=\"stroke:#000000; stroke-linecap:butt; stroke-linejoin:round; stroke-width:4; stroke-opacity:1; fill:none\" points=\"\n",
       "  1797.19,1423.18 1797.19,1404.28 \n",
       "  \"/>\n",
       "<polyline clip-path=\"url(#clip130)\" style=\"stroke:#000000; stroke-linecap:butt; stroke-linejoin:round; stroke-width:4; stroke-opacity:1; fill:none\" points=\"\n",
       "  2293.23,1423.18 2293.23,1404.28 \n",
       "  \"/>\n",
       "<path clip-path=\"url(#clip130)\" d=\"M253.604 1449.29 L271.961 1449.29 L271.961 1453.23 L257.887 1453.23 L257.887 1461.7 Q258.905 1461.35 259.924 1461.19 Q260.942 1461 261.961 1461 Q267.748 1461 271.127 1464.18 Q274.507 1467.35 274.507 1472.76 Q274.507 1478.34 271.035 1481.44 Q267.563 1484.52 261.243 1484.52 Q259.067 1484.52 256.799 1484.15 Q254.553 1483.78 252.146 1483.04 L252.146 1478.34 Q254.229 1479.48 256.451 1480.03 Q258.674 1480.59 261.151 1480.59 Q265.155 1480.59 267.493 1478.48 Q269.831 1476.38 269.831 1472.76 Q269.831 1469.15 267.493 1467.05 Q265.155 1464.94 261.151 1464.94 Q259.276 1464.94 257.401 1465.36 Q255.549 1465.77 253.604 1466.65 L253.604 1449.29 Z\" fill=\"#000000\" fill-rule=\"evenodd\" fill-opacity=\"1\" /><path clip-path=\"url(#clip130)\" d=\"M293.72 1452.37 Q290.109 1452.37 288.28 1455.94 Q286.474 1459.48 286.474 1466.61 Q286.474 1473.71 288.28 1477.28 Q290.109 1480.82 293.72 1480.82 Q297.354 1480.82 299.16 1477.28 Q300.988 1473.71 300.988 1466.61 Q300.988 1459.48 299.16 1455.94 Q297.354 1452.37 293.72 1452.37 M293.72 1448.67 Q299.53 1448.67 302.586 1453.27 Q305.664 1457.86 305.664 1466.61 Q305.664 1475.33 302.586 1479.94 Q299.53 1484.52 293.72 1484.52 Q287.91 1484.52 284.831 1479.94 Q281.775 1475.33 281.775 1466.61 Q281.775 1457.86 284.831 1453.27 Q287.91 1448.67 293.72 1448.67 Z\" fill=\"#000000\" fill-rule=\"evenodd\" fill-opacity=\"1\" /><path clip-path=\"url(#clip130)\" d=\"M323.882 1452.37 Q320.271 1452.37 318.442 1455.94 Q316.636 1459.48 316.636 1466.61 Q316.636 1473.71 318.442 1477.28 Q320.271 1480.82 323.882 1480.82 Q327.516 1480.82 329.321 1477.28 Q331.15 1473.71 331.15 1466.61 Q331.15 1459.48 329.321 1455.94 Q327.516 1452.37 323.882 1452.37 M323.882 1448.67 Q329.692 1448.67 332.747 1453.27 Q335.826 1457.86 335.826 1466.61 Q335.826 1475.33 332.747 1479.94 Q329.692 1484.52 323.882 1484.52 Q318.072 1484.52 314.993 1479.94 Q311.937 1475.33 311.937 1466.61 Q311.937 1457.86 314.993 1453.27 Q318.072 1448.67 323.882 1448.67 Z\" fill=\"#000000\" fill-rule=\"evenodd\" fill-opacity=\"1\" /><path clip-path=\"url(#clip130)\" d=\"M354.044 1452.37 Q350.432 1452.37 348.604 1455.94 Q346.798 1459.48 346.798 1466.61 Q346.798 1473.71 348.604 1477.28 Q350.432 1480.82 354.044 1480.82 Q357.678 1480.82 359.483 1477.28 Q361.312 1473.71 361.312 1466.61 Q361.312 1459.48 359.483 1455.94 Q357.678 1452.37 354.044 1452.37 M354.044 1448.67 Q359.854 1448.67 362.909 1453.27 Q365.988 1457.86 365.988 1466.61 Q365.988 1475.33 362.909 1479.94 Q359.854 1484.52 354.044 1484.52 Q348.233 1484.52 345.155 1479.94 Q342.099 1475.33 342.099 1466.61 Q342.099 1457.86 345.155 1453.27 Q348.233 1448.67 354.044 1448.67 Z\" fill=\"#000000\" fill-rule=\"evenodd\" fill-opacity=\"1\" /><path clip-path=\"url(#clip130)\" d=\"M749.645 1449.29 L768.002 1449.29 L768.002 1453.23 L753.928 1453.23 L753.928 1461.7 Q754.946 1461.35 755.965 1461.19 Q756.983 1461 758.002 1461 Q763.789 1461 767.168 1464.18 Q770.548 1467.35 770.548 1472.76 Q770.548 1478.34 767.076 1481.44 Q763.604 1484.52 757.284 1484.52 Q755.108 1484.52 752.84 1484.15 Q750.594 1483.78 748.187 1483.04 L748.187 1478.34 Q750.27 1479.48 752.493 1480.03 Q754.715 1480.59 757.192 1480.59 Q761.196 1480.59 763.534 1478.48 Q765.872 1476.38 765.872 1472.76 Q765.872 1469.15 763.534 1467.05 Q761.196 1464.94 757.192 1464.94 Q755.317 1464.94 753.442 1465.36 Q751.59 1465.77 749.645 1466.65 L749.645 1449.29 Z\" fill=\"#000000\" fill-rule=\"evenodd\" fill-opacity=\"1\" /><path clip-path=\"url(#clip130)\" d=\"M783.789 1479.92 L800.108 1479.92 L800.108 1483.85 L778.164 1483.85 L778.164 1479.92 Q780.826 1477.16 785.409 1472.53 Q790.015 1467.88 791.196 1466.54 Q793.441 1464.01 794.321 1462.28 Q795.224 1460.52 795.224 1458.83 Q795.224 1456.07 793.279 1454.34 Q791.358 1452.6 788.256 1452.6 Q786.057 1452.6 783.603 1453.37 Q781.173 1454.13 778.395 1455.68 L778.395 1450.96 Q781.219 1449.82 783.673 1449.25 Q786.127 1448.67 788.164 1448.67 Q793.534 1448.67 796.728 1451.35 Q799.923 1454.04 799.923 1458.53 Q799.923 1460.66 799.113 1462.58 Q798.326 1464.48 796.219 1467.07 Q795.64 1467.74 792.539 1470.96 Q789.437 1474.15 783.789 1479.92 Z\" fill=\"#000000\" fill-rule=\"evenodd\" fill-opacity=\"1\" /><path clip-path=\"url(#clip130)\" d=\"M809.969 1449.29 L828.325 1449.29 L828.325 1453.23 L814.251 1453.23 L814.251 1461.7 Q815.27 1461.35 816.288 1461.19 Q817.307 1461 818.325 1461 Q824.112 1461 827.492 1464.18 Q830.872 1467.35 830.872 1472.76 Q830.872 1478.34 827.4 1481.44 Q823.927 1484.52 817.608 1484.52 Q815.432 1484.52 813.163 1484.15 Q810.918 1483.78 808.511 1483.04 L808.511 1478.34 Q810.594 1479.48 812.816 1480.03 Q815.038 1480.59 817.515 1480.59 Q821.52 1480.59 823.858 1478.48 Q826.196 1476.38 826.196 1472.76 Q826.196 1469.15 823.858 1467.05 Q821.52 1464.94 817.515 1464.94 Q815.64 1464.94 813.765 1465.36 Q811.913 1465.77 809.969 1466.65 L809.969 1449.29 Z\" fill=\"#000000\" fill-rule=\"evenodd\" fill-opacity=\"1\" /><path clip-path=\"url(#clip130)\" d=\"M850.085 1452.37 Q846.473 1452.37 844.645 1455.94 Q842.839 1459.48 842.839 1466.61 Q842.839 1473.71 844.645 1477.28 Q846.473 1480.82 850.085 1480.82 Q853.719 1480.82 855.524 1477.28 Q857.353 1473.71 857.353 1466.61 Q857.353 1459.48 855.524 1455.94 Q853.719 1452.37 850.085 1452.37 M850.085 1448.67 Q855.895 1448.67 858.95 1453.27 Q862.029 1457.86 862.029 1466.61 Q862.029 1475.33 858.95 1479.94 Q855.895 1484.52 850.085 1484.52 Q844.274 1484.52 841.196 1479.94 Q838.14 1475.33 838.14 1466.61 Q838.14 1457.86 841.196 1453.27 Q844.274 1448.67 850.085 1448.67 Z\" fill=\"#000000\" fill-rule=\"evenodd\" fill-opacity=\"1\" /><path clip-path=\"url(#clip130)\" d=\"M1245.69 1449.29 L1264.04 1449.29 L1264.04 1453.23 L1249.97 1453.23 L1249.97 1461.7 Q1250.99 1461.35 1252.01 1461.19 Q1253.02 1461 1254.04 1461 Q1259.83 1461 1263.21 1464.18 Q1266.59 1467.35 1266.59 1472.76 Q1266.59 1478.34 1263.12 1481.44 Q1259.64 1484.52 1253.33 1484.52 Q1251.15 1484.52 1248.88 1484.15 Q1246.64 1483.78 1244.23 1483.04 L1244.23 1478.34 Q1246.31 1479.48 1248.53 1480.03 Q1250.76 1480.59 1253.23 1480.59 Q1257.24 1480.59 1259.58 1478.48 Q1261.91 1476.38 1261.91 1472.76 Q1261.91 1469.15 1259.58 1467.05 Q1257.24 1464.94 1253.23 1464.94 Q1251.36 1464.94 1249.48 1465.36 Q1247.63 1465.77 1245.69 1466.65 L1245.69 1449.29 Z\" fill=\"#000000\" fill-rule=\"evenodd\" fill-opacity=\"1\" /><path clip-path=\"url(#clip130)\" d=\"M1275.85 1449.29 L1294.2 1449.29 L1294.2 1453.23 L1280.13 1453.23 L1280.13 1461.7 Q1281.15 1461.35 1282.17 1461.19 Q1283.19 1461 1284.2 1461 Q1289.99 1461 1293.37 1464.18 Q1296.75 1467.35 1296.75 1472.76 Q1296.75 1478.34 1293.28 1481.44 Q1289.81 1484.52 1283.49 1484.52 Q1281.31 1484.52 1279.04 1484.15 Q1276.8 1483.78 1274.39 1483.04 L1274.39 1478.34 Q1276.47 1479.48 1278.7 1480.03 Q1280.92 1480.59 1283.39 1480.59 Q1287.4 1480.59 1289.74 1478.48 Q1292.07 1476.38 1292.07 1472.76 Q1292.07 1469.15 1289.74 1467.05 Q1287.4 1464.94 1283.39 1464.94 Q1281.52 1464.94 1279.64 1465.36 Q1277.79 1465.77 1275.85 1466.65 L1275.85 1449.29 Z\" fill=\"#000000\" fill-rule=\"evenodd\" fill-opacity=\"1\" /><path clip-path=\"url(#clip130)\" d=\"M1315.96 1452.37 Q1312.35 1452.37 1310.52 1455.94 Q1308.72 1459.48 1308.72 1466.61 Q1308.72 1473.71 1310.52 1477.28 Q1312.35 1480.82 1315.96 1480.82 Q1319.6 1480.82 1321.4 1477.28 Q1323.23 1473.71 1323.23 1466.61 Q1323.23 1459.48 1321.4 1455.94 Q1319.6 1452.37 1315.96 1452.37 M1315.96 1448.67 Q1321.77 1448.67 1324.83 1453.27 Q1327.91 1457.86 1327.91 1466.61 Q1327.91 1475.33 1324.83 1479.94 Q1321.77 1484.52 1315.96 1484.52 Q1310.15 1484.52 1307.07 1479.94 Q1304.02 1475.33 1304.02 1466.61 Q1304.02 1457.86 1307.07 1453.27 Q1310.15 1448.67 1315.96 1448.67 Z\" fill=\"#000000\" fill-rule=\"evenodd\" fill-opacity=\"1\" /><path clip-path=\"url(#clip130)\" d=\"M1346.13 1452.37 Q1342.51 1452.37 1340.69 1455.94 Q1338.88 1459.48 1338.88 1466.61 Q1338.88 1473.71 1340.69 1477.28 Q1342.51 1480.82 1346.13 1480.82 Q1349.76 1480.82 1351.57 1477.28 Q1353.39 1473.71 1353.39 1466.61 Q1353.39 1459.48 1351.57 1455.94 Q1349.76 1452.37 1346.13 1452.37 M1346.13 1448.67 Q1351.94 1448.67 1354.99 1453.27 Q1358.07 1457.86 1358.07 1466.61 Q1358.07 1475.33 1354.99 1479.94 Q1351.94 1484.52 1346.13 1484.52 Q1340.32 1484.52 1337.24 1479.94 Q1334.18 1475.33 1334.18 1466.61 Q1334.18 1457.86 1337.24 1453.27 Q1340.32 1448.67 1346.13 1448.67 Z\" fill=\"#000000\" fill-rule=\"evenodd\" fill-opacity=\"1\" /><path clip-path=\"url(#clip130)\" d=\"M1741.73 1449.29 L1760.08 1449.29 L1760.08 1453.23 L1746.01 1453.23 L1746.01 1461.7 Q1747.03 1461.35 1748.05 1461.19 Q1749.07 1461 1750.08 1461 Q1755.87 1461 1759.25 1464.18 Q1762.63 1467.35 1762.63 1472.76 Q1762.63 1478.34 1759.16 1481.44 Q1755.69 1484.52 1749.37 1484.52 Q1747.19 1484.52 1744.92 1484.15 Q1742.68 1483.78 1740.27 1483.04 L1740.27 1478.34 Q1742.35 1479.48 1744.57 1480.03 Q1746.8 1480.59 1749.27 1480.59 Q1753.28 1480.59 1755.62 1478.48 Q1757.95 1476.38 1757.95 1472.76 Q1757.95 1469.15 1755.62 1467.05 Q1753.28 1464.94 1749.27 1464.94 Q1747.4 1464.94 1745.52 1465.36 Q1743.67 1465.77 1741.73 1466.65 L1741.73 1449.29 Z\" fill=\"#000000\" fill-rule=\"evenodd\" fill-opacity=\"1\" /><path clip-path=\"url(#clip130)\" d=\"M1770.66 1449.29 L1792.88 1449.29 L1792.88 1451.28 L1780.34 1483.85 L1775.45 1483.85 L1787.26 1453.23 L1770.66 1453.23 L1770.66 1449.29 Z\" fill=\"#000000\" fill-rule=\"evenodd\" fill-opacity=\"1\" /><path clip-path=\"url(#clip130)\" d=\"M1802.05 1449.29 L1820.41 1449.29 L1820.41 1453.23 L1806.33 1453.23 L1806.33 1461.7 Q1807.35 1461.35 1808.37 1461.19 Q1809.39 1461 1810.41 1461 Q1816.19 1461 1819.57 1464.18 Q1822.95 1467.35 1822.95 1472.76 Q1822.95 1478.34 1819.48 1481.44 Q1816.01 1484.52 1809.69 1484.52 Q1807.51 1484.52 1805.25 1484.15 Q1803 1483.78 1800.59 1483.04 L1800.59 1478.34 Q1802.68 1479.48 1804.9 1480.03 Q1807.12 1480.59 1809.6 1480.59 Q1813.6 1480.59 1815.94 1478.48 Q1818.28 1476.38 1818.28 1472.76 Q1818.28 1469.15 1815.94 1467.05 Q1813.6 1464.94 1809.6 1464.94 Q1807.72 1464.94 1805.85 1465.36 Q1804 1465.77 1802.05 1466.65 L1802.05 1449.29 Z\" fill=\"#000000\" fill-rule=\"evenodd\" fill-opacity=\"1\" /><path clip-path=\"url(#clip130)\" d=\"M1842.17 1452.37 Q1838.56 1452.37 1836.73 1455.94 Q1834.92 1459.48 1834.92 1466.61 Q1834.92 1473.71 1836.73 1477.28 Q1838.56 1480.82 1842.17 1480.82 Q1845.8 1480.82 1847.61 1477.28 Q1849.44 1473.71 1849.44 1466.61 Q1849.44 1459.48 1847.61 1455.94 Q1845.8 1452.37 1842.17 1452.37 M1842.17 1448.67 Q1847.98 1448.67 1851.03 1453.27 Q1854.11 1457.86 1854.11 1466.61 Q1854.11 1475.33 1851.03 1479.94 Q1847.98 1484.52 1842.17 1484.52 Q1836.36 1484.52 1833.28 1479.94 Q1830.22 1475.33 1830.22 1466.61 Q1830.22 1457.86 1833.28 1453.27 Q1836.36 1448.67 1842.17 1448.67 Z\" fill=\"#000000\" fill-rule=\"evenodd\" fill-opacity=\"1\" /><path clip-path=\"url(#clip130)\" d=\"M2248.47 1464.71 Q2245.33 1464.71 2243.47 1466.86 Q2241.65 1469.01 2241.65 1472.76 Q2241.65 1476.49 2243.47 1478.67 Q2245.33 1480.82 2248.47 1480.82 Q2251.62 1480.82 2253.45 1478.67 Q2255.3 1476.49 2255.3 1472.76 Q2255.3 1469.01 2253.45 1466.86 Q2251.62 1464.71 2248.47 1464.71 M2257.76 1450.06 L2257.76 1454.31 Q2256 1453.48 2254.19 1453.04 Q2252.41 1452.6 2250.65 1452.6 Q2246.02 1452.6 2243.57 1455.73 Q2241.14 1458.85 2240.79 1465.17 Q2242.15 1463.16 2244.22 1462.09 Q2246.28 1461 2248.75 1461 Q2253.96 1461 2256.97 1464.18 Q2260 1467.32 2260 1472.76 Q2260 1478.09 2256.85 1481.31 Q2253.71 1484.52 2248.47 1484.52 Q2242.48 1484.52 2239.31 1479.94 Q2236.14 1475.33 2236.14 1466.61 Q2236.14 1458.41 2240.03 1453.55 Q2243.91 1448.67 2250.47 1448.67 Q2252.22 1448.67 2254.01 1449.01 Q2255.81 1449.36 2257.76 1450.06 Z\" fill=\"#000000\" fill-rule=\"evenodd\" fill-opacity=\"1\" /><path clip-path=\"url(#clip130)\" d=\"M2278.06 1452.37 Q2274.45 1452.37 2272.62 1455.94 Q2270.81 1459.48 2270.81 1466.61 Q2270.81 1473.71 2272.62 1477.28 Q2274.45 1480.82 2278.06 1480.82 Q2281.69 1480.82 2283.5 1477.28 Q2285.33 1473.71 2285.33 1466.61 Q2285.33 1459.48 2283.5 1455.94 Q2281.69 1452.37 2278.06 1452.37 M2278.06 1448.67 Q2283.87 1448.67 2286.92 1453.27 Q2290 1457.86 2290 1466.61 Q2290 1475.33 2286.92 1479.94 Q2283.87 1484.52 2278.06 1484.52 Q2272.25 1484.52 2269.17 1479.94 Q2266.11 1475.33 2266.11 1466.61 Q2266.11 1457.86 2269.17 1453.27 Q2272.25 1448.67 2278.06 1448.67 Z\" fill=\"#000000\" fill-rule=\"evenodd\" fill-opacity=\"1\" /><path clip-path=\"url(#clip130)\" d=\"M2308.22 1452.37 Q2304.61 1452.37 2302.78 1455.94 Q2300.97 1459.48 2300.97 1466.61 Q2300.97 1473.71 2302.78 1477.28 Q2304.61 1480.82 2308.22 1480.82 Q2311.85 1480.82 2313.66 1477.28 Q2315.49 1473.71 2315.49 1466.61 Q2315.49 1459.48 2313.66 1455.94 Q2311.85 1452.37 2308.22 1452.37 M2308.22 1448.67 Q2314.03 1448.67 2317.09 1453.27 Q2320.16 1457.86 2320.16 1466.61 Q2320.16 1475.33 2317.09 1479.94 Q2314.03 1484.52 2308.22 1484.52 Q2302.41 1484.52 2299.33 1479.94 Q2296.27 1475.33 2296.27 1466.61 Q2296.27 1457.86 2299.33 1453.27 Q2302.41 1448.67 2308.22 1448.67 Z\" fill=\"#000000\" fill-rule=\"evenodd\" fill-opacity=\"1\" /><path clip-path=\"url(#clip130)\" d=\"M2338.38 1452.37 Q2334.77 1452.37 2332.94 1455.94 Q2331.14 1459.48 2331.14 1466.61 Q2331.14 1473.71 2332.94 1477.28 Q2334.77 1480.82 2338.38 1480.82 Q2342.02 1480.82 2343.82 1477.28 Q2345.65 1473.71 2345.65 1466.61 Q2345.65 1459.48 2343.82 1455.94 Q2342.02 1452.37 2338.38 1452.37 M2338.38 1448.67 Q2344.19 1448.67 2347.25 1453.27 Q2350.33 1457.86 2350.33 1466.61 Q2350.33 1475.33 2347.25 1479.94 Q2344.19 1484.52 2338.38 1484.52 Q2332.57 1484.52 2329.49 1479.94 Q2326.44 1475.33 2326.44 1466.61 Q2326.44 1457.86 2329.49 1453.27 Q2332.57 1448.67 2338.38 1448.67 Z\" fill=\"#000000\" fill-rule=\"evenodd\" fill-opacity=\"1\" /><path clip-path=\"url(#clip130)\" d=\"M1302.04 1524.09 L1318.5 1568.04 L1312.29 1568.04 L1302.29 1541.69 L1290.01 1568.04 L1283.8 1568.04 L1299.43 1533.86 L1297.07 1527.56 Q1295.58 1523.55 1292.17 1523.55 L1289.12 1523.55 L1289.12 1518.52 L1292.84 1518.58 Q1300.03 1518.68 1302.04 1524.09 Z\" fill=\"#000000\" fill-rule=\"evenodd\" fill-opacity=\"1\" /><polyline clip-path=\"url(#clip132)\" style=\"stroke:#000000; stroke-linecap:butt; stroke-linejoin:round; stroke-width:2; stroke-opacity:0.1; fill:none\" points=\"\n",
       "  249.542,1388.14 2352.76,1388.14 \n",
       "  \"/>\n",
       "<polyline clip-path=\"url(#clip132)\" style=\"stroke:#000000; stroke-linecap:butt; stroke-linejoin:round; stroke-width:2; stroke-opacity:0.1; fill:none\" points=\"\n",
       "  249.542,1063.06 2352.76,1063.06 \n",
       "  \"/>\n",
       "<polyline clip-path=\"url(#clip132)\" style=\"stroke:#000000; stroke-linecap:butt; stroke-linejoin:round; stroke-width:2; stroke-opacity:0.1; fill:none\" points=\"\n",
       "  249.542,737.976 2352.76,737.976 \n",
       "  \"/>\n",
       "<polyline clip-path=\"url(#clip132)\" style=\"stroke:#000000; stroke-linecap:butt; stroke-linejoin:round; stroke-width:2; stroke-opacity:0.1; fill:none\" points=\"\n",
       "  249.542,412.894 2352.76,412.894 \n",
       "  \"/>\n",
       "<polyline clip-path=\"url(#clip132)\" style=\"stroke:#000000; stroke-linecap:butt; stroke-linejoin:round; stroke-width:2; stroke-opacity:0.1; fill:none\" points=\"\n",
       "  249.542,87.811 2352.76,87.811 \n",
       "  \"/>\n",
       "<polyline clip-path=\"url(#clip130)\" style=\"stroke:#000000; stroke-linecap:butt; stroke-linejoin:round; stroke-width:4; stroke-opacity:1; fill:none\" points=\"\n",
       "  249.542,1423.18 249.542,47.2441 \n",
       "  \"/>\n",
       "<polyline clip-path=\"url(#clip130)\" style=\"stroke:#000000; stroke-linecap:butt; stroke-linejoin:round; stroke-width:4; stroke-opacity:1; fill:none\" points=\"\n",
       "  249.542,1388.14 268.44,1388.14 \n",
       "  \"/>\n",
       "<polyline clip-path=\"url(#clip130)\" style=\"stroke:#000000; stroke-linecap:butt; stroke-linejoin:round; stroke-width:4; stroke-opacity:1; fill:none\" points=\"\n",
       "  249.542,1063.06 268.44,1063.06 \n",
       "  \"/>\n",
       "<polyline clip-path=\"url(#clip130)\" style=\"stroke:#000000; stroke-linecap:butt; stroke-linejoin:round; stroke-width:4; stroke-opacity:1; fill:none\" points=\"\n",
       "  249.542,737.976 268.44,737.976 \n",
       "  \"/>\n",
       "<polyline clip-path=\"url(#clip130)\" style=\"stroke:#000000; stroke-linecap:butt; stroke-linejoin:round; stroke-width:4; stroke-opacity:1; fill:none\" points=\"\n",
       "  249.542,412.894 268.44,412.894 \n",
       "  \"/>\n",
       "<polyline clip-path=\"url(#clip130)\" style=\"stroke:#000000; stroke-linecap:butt; stroke-linejoin:round; stroke-width:4; stroke-opacity:1; fill:none\" points=\"\n",
       "  249.542,87.811 268.44,87.811 \n",
       "  \"/>\n",
       "<path clip-path=\"url(#clip130)\" d=\"M126.205 1373.94 Q122.593 1373.94 120.765 1377.5 Q118.959 1381.05 118.959 1388.18 Q118.959 1395.28 120.765 1398.85 Q122.593 1402.39 126.205 1402.39 Q129.839 1402.39 131.644 1398.85 Q133.473 1395.28 133.473 1388.18 Q133.473 1381.05 131.644 1377.5 Q129.839 1373.94 126.205 1373.94 M126.205 1370.24 Q132.015 1370.24 135.07 1374.84 Q138.149 1379.43 138.149 1388.18 Q138.149 1396.9 135.07 1401.51 Q132.015 1406.09 126.205 1406.09 Q120.394 1406.09 117.316 1401.51 Q114.26 1396.9 114.26 1388.18 Q114.26 1379.43 117.316 1374.84 Q120.394 1370.24 126.205 1370.24 Z\" fill=\"#000000\" fill-rule=\"evenodd\" fill-opacity=\"1\" /><path clip-path=\"url(#clip130)\" d=\"M146.366 1399.54 L151.251 1399.54 L151.251 1405.42 L146.366 1405.42 L146.366 1399.54 Z\" fill=\"#000000\" fill-rule=\"evenodd\" fill-opacity=\"1\" /><path clip-path=\"url(#clip130)\" d=\"M171.436 1373.94 Q167.825 1373.94 165.996 1377.5 Q164.19 1381.05 164.19 1388.18 Q164.19 1395.28 165.996 1398.85 Q167.825 1402.39 171.436 1402.39 Q175.07 1402.39 176.876 1398.85 Q178.704 1395.28 178.704 1388.18 Q178.704 1381.05 176.876 1377.5 Q175.07 1373.94 171.436 1373.94 M171.436 1370.24 Q177.246 1370.24 180.301 1374.84 Q183.38 1379.43 183.38 1388.18 Q183.38 1396.9 180.301 1401.51 Q177.246 1406.09 171.436 1406.09 Q165.626 1406.09 162.547 1401.51 Q159.491 1396.9 159.491 1388.18 Q159.491 1379.43 162.547 1374.84 Q165.626 1370.24 171.436 1370.24 Z\" fill=\"#000000\" fill-rule=\"evenodd\" fill-opacity=\"1\" /><path clip-path=\"url(#clip130)\" d=\"M201.598 1373.94 Q197.987 1373.94 196.158 1377.5 Q194.352 1381.05 194.352 1388.18 Q194.352 1395.28 196.158 1398.85 Q197.987 1402.39 201.598 1402.39 Q205.232 1402.39 207.037 1398.85 Q208.866 1395.28 208.866 1388.18 Q208.866 1381.05 207.037 1377.5 Q205.232 1373.94 201.598 1373.94 M201.598 1370.24 Q207.408 1370.24 210.463 1374.84 Q213.542 1379.43 213.542 1388.18 Q213.542 1396.9 210.463 1401.51 Q207.408 1406.09 201.598 1406.09 Q195.787 1406.09 192.709 1401.51 Q189.653 1396.9 189.653 1388.18 Q189.653 1379.43 192.709 1374.84 Q195.787 1370.24 201.598 1370.24 Z\" fill=\"#000000\" fill-rule=\"evenodd\" fill-opacity=\"1\" /><path clip-path=\"url(#clip130)\" d=\"M127.2 1048.86 Q123.589 1048.86 121.76 1052.42 Q119.955 1055.96 119.955 1063.09 Q119.955 1070.2 121.76 1073.76 Q123.589 1077.31 127.2 1077.31 Q130.834 1077.31 132.64 1073.76 Q134.468 1070.2 134.468 1063.09 Q134.468 1055.96 132.64 1052.42 Q130.834 1048.86 127.2 1048.86 M127.2 1045.15 Q133.01 1045.15 136.066 1049.76 Q139.144 1054.34 139.144 1063.09 Q139.144 1071.82 136.066 1076.43 Q133.01 1081.01 127.2 1081.01 Q121.39 1081.01 118.311 1076.43 Q115.256 1071.82 115.256 1063.09 Q115.256 1054.34 118.311 1049.76 Q121.39 1045.15 127.2 1045.15 Z\" fill=\"#000000\" fill-rule=\"evenodd\" fill-opacity=\"1\" /><path clip-path=\"url(#clip130)\" d=\"M147.362 1074.46 L152.246 1074.46 L152.246 1080.34 L147.362 1080.34 L147.362 1074.46 Z\" fill=\"#000000\" fill-rule=\"evenodd\" fill-opacity=\"1\" /><path clip-path=\"url(#clip130)\" d=\"M166.459 1076.4 L182.778 1076.4 L182.778 1080.34 L160.834 1080.34 L160.834 1076.4 Q163.496 1073.65 168.079 1069.02 Q172.686 1064.37 173.866 1063.02 Q176.112 1060.5 176.991 1058.76 Q177.894 1057.01 177.894 1055.32 Q177.894 1052.56 175.95 1050.83 Q174.028 1049.09 170.927 1049.09 Q168.727 1049.09 166.274 1049.85 Q163.843 1050.62 161.065 1052.17 L161.065 1047.45 Q163.89 1046.31 166.343 1045.73 Q168.797 1045.15 170.834 1045.15 Q176.204 1045.15 179.399 1047.84 Q182.593 1050.52 182.593 1055.01 Q182.593 1057.14 181.783 1059.07 Q180.996 1060.96 178.889 1063.56 Q178.311 1064.23 175.209 1067.45 Q172.107 1070.64 166.459 1076.4 Z\" fill=\"#000000\" fill-rule=\"evenodd\" fill-opacity=\"1\" /><path clip-path=\"url(#clip130)\" d=\"M192.639 1045.78 L210.996 1045.78 L210.996 1049.71 L196.922 1049.71 L196.922 1058.19 Q197.94 1057.84 198.959 1057.68 Q199.977 1057.49 200.996 1057.49 Q206.783 1057.49 210.162 1060.66 Q213.542 1063.83 213.542 1069.25 Q213.542 1074.83 210.07 1077.93 Q206.598 1081.01 200.278 1081.01 Q198.102 1081.01 195.834 1080.64 Q193.588 1080.27 191.181 1079.53 L191.181 1074.83 Q193.264 1075.96 195.487 1076.52 Q197.709 1077.07 200.186 1077.07 Q204.19 1077.07 206.528 1074.97 Q208.866 1072.86 208.866 1069.25 Q208.866 1065.64 206.528 1063.53 Q204.19 1061.43 200.186 1061.43 Q198.311 1061.43 196.436 1061.84 Q194.584 1062.26 192.639 1063.14 L192.639 1045.78 Z\" fill=\"#000000\" fill-rule=\"evenodd\" fill-opacity=\"1\" /><path clip-path=\"url(#clip130)\" d=\"M126.205 723.775 Q122.593 723.775 120.765 727.34 Q118.959 730.881 118.959 738.011 Q118.959 745.117 120.765 748.682 Q122.593 752.224 126.205 752.224 Q129.839 752.224 131.644 748.682 Q133.473 745.117 133.473 738.011 Q133.473 730.881 131.644 727.34 Q129.839 723.775 126.205 723.775 M126.205 720.071 Q132.015 720.071 135.07 724.678 Q138.149 729.261 138.149 738.011 Q138.149 746.738 135.07 751.344 Q132.015 755.927 126.205 755.927 Q120.394 755.927 117.316 751.344 Q114.26 746.738 114.26 738.011 Q114.26 729.261 117.316 724.678 Q120.394 720.071 126.205 720.071 Z\" fill=\"#000000\" fill-rule=\"evenodd\" fill-opacity=\"1\" /><path clip-path=\"url(#clip130)\" d=\"M146.366 749.377 L151.251 749.377 L151.251 755.256 L146.366 755.256 L146.366 749.377 Z\" fill=\"#000000\" fill-rule=\"evenodd\" fill-opacity=\"1\" /><path clip-path=\"url(#clip130)\" d=\"M161.482 720.696 L179.839 720.696 L179.839 724.631 L165.765 724.631 L165.765 733.104 Q166.783 732.756 167.802 732.594 Q168.82 732.409 169.839 732.409 Q175.626 732.409 179.005 735.58 Q182.385 738.752 182.385 744.168 Q182.385 749.747 178.913 752.849 Q175.44 755.927 169.121 755.927 Q166.945 755.927 164.677 755.557 Q162.431 755.187 160.024 754.446 L160.024 749.747 Q162.107 750.881 164.329 751.437 Q166.552 751.992 169.028 751.992 Q173.033 751.992 175.371 749.886 Q177.709 747.779 177.709 744.168 Q177.709 740.557 175.371 738.451 Q173.033 736.344 169.028 736.344 Q167.153 736.344 165.278 736.761 Q163.427 737.178 161.482 738.057 L161.482 720.696 Z\" fill=\"#000000\" fill-rule=\"evenodd\" fill-opacity=\"1\" /><path clip-path=\"url(#clip130)\" d=\"M201.598 723.775 Q197.987 723.775 196.158 727.34 Q194.352 730.881 194.352 738.011 Q194.352 745.117 196.158 748.682 Q197.987 752.224 201.598 752.224 Q205.232 752.224 207.037 748.682 Q208.866 745.117 208.866 738.011 Q208.866 730.881 207.037 727.34 Q205.232 723.775 201.598 723.775 M201.598 720.071 Q207.408 720.071 210.463 724.678 Q213.542 729.261 213.542 738.011 Q213.542 746.738 210.463 751.344 Q207.408 755.927 201.598 755.927 Q195.787 755.927 192.709 751.344 Q189.653 746.738 189.653 738.011 Q189.653 729.261 192.709 724.678 Q195.787 720.071 201.598 720.071 Z\" fill=\"#000000\" fill-rule=\"evenodd\" fill-opacity=\"1\" /><path clip-path=\"url(#clip130)\" d=\"M127.2 398.692 Q123.589 398.692 121.76 402.257 Q119.955 405.799 119.955 412.928 Q119.955 420.035 121.76 423.6 Q123.589 427.141 127.2 427.141 Q130.834 427.141 132.64 423.6 Q134.468 420.035 134.468 412.928 Q134.468 405.799 132.64 402.257 Q130.834 398.692 127.2 398.692 M127.2 394.989 Q133.01 394.989 136.066 399.595 Q139.144 404.178 139.144 412.928 Q139.144 421.655 136.066 426.262 Q133.01 430.845 127.2 430.845 Q121.39 430.845 118.311 426.262 Q115.256 421.655 115.256 412.928 Q115.256 404.178 118.311 399.595 Q121.39 394.989 127.2 394.989 Z\" fill=\"#000000\" fill-rule=\"evenodd\" fill-opacity=\"1\" /><path clip-path=\"url(#clip130)\" d=\"M147.362 424.294 L152.246 424.294 L152.246 430.174 L147.362 430.174 L147.362 424.294 Z\" fill=\"#000000\" fill-rule=\"evenodd\" fill-opacity=\"1\" /><path clip-path=\"url(#clip130)\" d=\"M161.251 395.614 L183.473 395.614 L183.473 397.604 L170.927 430.174 L166.042 430.174 L177.848 399.549 L161.251 399.549 L161.251 395.614 Z\" fill=\"#000000\" fill-rule=\"evenodd\" fill-opacity=\"1\" /><path clip-path=\"url(#clip130)\" d=\"M192.639 395.614 L210.996 395.614 L210.996 399.549 L196.922 399.549 L196.922 408.021 Q197.94 407.674 198.959 407.512 Q199.977 407.326 200.996 407.326 Q206.783 407.326 210.162 410.498 Q213.542 413.669 213.542 419.086 Q213.542 424.664 210.07 427.766 Q206.598 430.845 200.278 430.845 Q198.102 430.845 195.834 430.475 Q193.588 430.104 191.181 429.363 L191.181 424.664 Q193.264 425.799 195.487 426.354 Q197.709 426.91 200.186 426.91 Q204.19 426.91 206.528 424.803 Q208.866 422.697 208.866 419.086 Q208.866 415.475 206.528 413.368 Q204.19 411.262 200.186 411.262 Q198.311 411.262 196.436 411.678 Q194.584 412.095 192.639 412.975 L192.639 395.614 Z\" fill=\"#000000\" fill-rule=\"evenodd\" fill-opacity=\"1\" /><path clip-path=\"url(#clip130)\" d=\"M117.015 101.156 L124.654 101.156 L124.654 74.7903 L116.343 76.4569 L116.343 72.1977 L124.607 70.531 L129.283 70.531 L129.283 101.156 L136.922 101.156 L136.922 105.091 L117.015 105.091 L117.015 101.156 Z\" fill=\"#000000\" fill-rule=\"evenodd\" fill-opacity=\"1\" /><path clip-path=\"url(#clip130)\" d=\"M146.366 99.2114 L151.251 99.2114 L151.251 105.091 L146.366 105.091 L146.366 99.2114 Z\" fill=\"#000000\" fill-rule=\"evenodd\" fill-opacity=\"1\" /><path clip-path=\"url(#clip130)\" d=\"M171.436 73.6097 Q167.825 73.6097 165.996 77.1745 Q164.19 80.7162 164.19 87.8458 Q164.19 94.9522 165.996 98.517 Q167.825 102.059 171.436 102.059 Q175.07 102.059 176.876 98.517 Q178.704 94.9522 178.704 87.8458 Q178.704 80.7162 176.876 77.1745 Q175.07 73.6097 171.436 73.6097 M171.436 69.906 Q177.246 69.906 180.301 74.5125 Q183.38 79.0958 183.38 87.8458 Q183.38 96.5726 180.301 101.179 Q177.246 105.762 171.436 105.762 Q165.626 105.762 162.547 101.179 Q159.491 96.5726 159.491 87.8458 Q159.491 79.0958 162.547 74.5125 Q165.626 69.906 171.436 69.906 Z\" fill=\"#000000\" fill-rule=\"evenodd\" fill-opacity=\"1\" /><path clip-path=\"url(#clip130)\" d=\"M201.598 73.6097 Q197.987 73.6097 196.158 77.1745 Q194.352 80.7162 194.352 87.8458 Q194.352 94.9522 196.158 98.517 Q197.987 102.059 201.598 102.059 Q205.232 102.059 207.037 98.517 Q208.866 94.9522 208.866 87.8458 Q208.866 80.7162 207.037 77.1745 Q205.232 73.6097 201.598 73.6097 M201.598 69.906 Q207.408 69.906 210.463 74.5125 Q213.542 79.0958 213.542 87.8458 Q213.542 96.5726 210.463 101.179 Q207.408 105.762 201.598 105.762 Q195.787 105.762 192.709 101.179 Q189.653 96.5726 189.653 87.8458 Q189.653 79.0958 192.709 74.5125 Q195.787 69.906 201.598 69.906 Z\" fill=\"#000000\" fill-rule=\"evenodd\" fill-opacity=\"1\" /><path clip-path=\"url(#clip130)\" d=\"M16.4842 798.694 L16.4842 771.385 L21.895 771.385 L21.895 792.265 L35.8996 792.265 L35.8996 773.422 L41.3104 773.422 L41.3104 792.265 L64.0042 792.265 L64.0042 798.694 L16.4842 798.694 Z\" fill=\"#000000\" fill-rule=\"evenodd\" fill-opacity=\"1\" /><path clip-path=\"url(#clip130)\" d=\"M14.479 761.455 L14.479 755.598 L64.0042 755.598 L64.0042 761.455 L14.479 761.455 Z\" fill=\"#000000\" fill-rule=\"evenodd\" fill-opacity=\"1\" /><path clip-path=\"url(#clip130)\" d=\"M49.9359 743.949 L28.3562 743.949 L28.3562 738.092 L49.7131 738.092 Q54.7739 738.092 57.3202 736.119 Q59.8346 734.146 59.8346 730.199 Q59.8346 725.457 56.8109 722.719 Q53.7872 719.95 48.5673 719.95 L28.3562 719.95 L28.3562 714.094 L64.0042 714.094 L64.0042 719.95 L58.5296 719.95 Q61.7762 722.083 63.3676 724.915 Q64.9272 727.716 64.9272 731.44 Q64.9272 737.583 61.1078 740.766 Q57.2883 743.949 49.9359 743.949 M27.4968 729.212 L27.4968 729.212 Z\" fill=\"#000000\" fill-rule=\"evenodd\" fill-opacity=\"1\" /><path clip-path=\"url(#clip130)\" d=\"M28.3562 672.398 L45.7028 685.289 L64.0042 671.73 L64.0042 678.637 L49.9996 689.013 L64.0042 699.389 L64.0042 706.296 L45.3526 692.45 L28.3562 705.118 L28.3562 698.211 L41.0558 688.758 L28.3562 679.305 L28.3562 672.398 Z\" fill=\"#000000\" fill-rule=\"evenodd\" fill-opacity=\"1\" /><polyline clip-path=\"url(#clip132)\" style=\"stroke:#009af9; stroke-linecap:butt; stroke-linejoin:round; stroke-width:4; stroke-opacity:1; fill:none\" points=\"\n",
       "  309.067,100.814 309.309,100.81 309.551,100.805 309.794,100.8 310.036,100.795 310.278,100.791 310.52,100.786 310.763,100.781 311.005,100.776 311.247,100.772 \n",
       "  311.489,100.767 311.732,100.762 311.974,100.758 312.216,100.753 312.458,100.75 312.701,100.746 312.943,100.745 313.185,100.745 313.427,100.749 313.669,100.76 \n",
       "  313.912,100.781 314.154,100.819 314.396,100.885 314.638,100.995 314.881,101.173 315.123,101.454 315.365,101.89 315.607,102.553 315.85,103.545 316.092,105.005 \n",
       "  316.334,107.117 316.576,110.123 316.819,114.33 317.061,120.119 317.303,127.956 317.545,138.384 317.787,152.029 318.03,169.575 318.272,191.747 318.514,219.271 \n",
       "  318.756,252.828 318.999,292.991 319.241,340.157 319.483,394.476 319.725,455.782 319.968,523.529 320.21,596.749 320.452,674.035 320.694,753.558 320.937,833.109 \n",
       "  321.179,910.195 321.421,982.157 321.663,1046.31 321.906,1100.13 322.148,1141.38 322.39,1168.3 322.632,1179.72 322.874,1175.12 323.117,1154.72 323.359,1119.43 \n",
       "  323.601,1070.77 323.843,1010.83 324.086,942.06 324.328,867.149 324.57,788.864 324.812,709.901 325.055,632.75 325.297,559.612 325.539,492.326 325.781,432.349 \n",
       "  326.024,380.755 326.266,338.261 326.508,305.269 326.75,281.915 326.992,268.114 327.235,263.608 327.477,267.993 327.719,280.74 327.961,301.201 328.204,328.606 \n",
       "  328.446,362.055 328.688,400.509 328.93,442.786 329.173,487.579 329.415,533.482 329.657,579.044 329.899,622.845 330.142,663.582 330.384,700.163 330.626,731.792 \n",
       "  330.868,758.028 331.111,778.797 331.353,794.371 331.595,805.283 331.837,812.207 332.079,815.826 332.322,816.693 332.564,815.132 332.806,811.184 333.048,804.624 \n",
       "  333.291,795.032 333.533,781.92 333.775,764.882 334.017,743.783 334.26,719.186 334.502,694.041 334.744,678.085 334.986,690.208 335.229,740.705 335.471,796.099 \n",
       "  335.713,792.022 335.955,713.316 336.198,618.469 336.44,563.96 336.682,556.125 336.924,576.979 337.166,613.289 337.409,659.618 337.651,713.294 337.893,771.957 \n",
       "  338.135,833.184 338.378,894.668 338.62,954.441 338.862,1011.06 339.104,1063.7 339.347,1112.09 339.589,1156.38 339.831,1196.89 340.073,1233.81 340.316,1266.94 \n",
       "  340.558,1295.53 340.8,1318.17 341.042,1332.98 341.284,1337.8 341.527,1330.54 341.769,1309.53 342.011,1273.86 342.253,1223.55 342.496,1159.63 342.738,1084.05 \n",
       "  342.98,999.484 343.222,909.057 343.465,816.037 343.707,723.555 343.949,634.371 344.191,550.722 344.434,474.242 344.676,405.954 344.918,346.321 345.16,295.326 \n",
       "  345.403,252.58 345.645,217.427 345.887,189.046 346.129,166.539 346.371,149 346.614,135.563 346.856,125.441 347.098,117.942 347.34,112.478 347.583,108.564 \n",
       "  347.825,105.809 348.067,103.909 348.309,102.633 348.552,101.813 348.794,101.334 349.036,101.123 349.278,101.149 349.521,101.417 349.763,101.968 350.005,102.883 \n",
       "  350.247,104.291 350.489,106.373 350.732,109.374 350.974,113.614 351.216,119.496 351.458,127.518 351.701,138.272 351.943,152.447 352.185,170.81 352.427,194.19 \n",
       "  352.67,223.436 352.912,259.37 353.154,302.72 353.396,354.046 353.639,413.656 353.881,481.524 354.123,557.209 354.365,639.802 354.608,727.885 354.85,819.535 \n",
       "  355.092,912.362 355.334,1003.6 355.576,1090.2 355.819,1169.06 356.061,1237.12 356.303,1291.61 356.545,1330.25 356.788,1351.34 357.03,1353.96 357.272,1338 \n",
       "  357.514,1304.15 357.757,1253.9 357.999,1189.39 358.241,1113.27 358.483,1028.51 358.726,938.259 358.968,845.577 359.21,753.327 359.452,664.015 359.695,579.702 \n",
       "  359.937,501.95 360.179,431.809 360.421,369.847 360.663,316.198 360.906,270.641 361.148,232.679 361.39,201.622 361.632,176.667 361.875,156.968 362.117,141.686 \n",
       "  362.359,130.032 362.601,121.294 362.844,114.851 363.086,110.179 363.328,106.846 363.57,104.506 363.813,102.889 364.055,101.79 364.297,101.054 364.539,100.568 \n",
       "  364.781,100.252 365.024,100.049 365.266,99.9199 365.508,99.8385 365.75,99.7872 365.993,99.7547 366.235,99.7337 366.477,99.7195 366.719,99.7095 366.962,99.7019 \n",
       "  367.204,99.6956 367.446,99.6901 367.688,99.685 367.931,99.6802 368.173,99.6755 368.415,99.6708 368.657,99.6662 368.9,99.6618 369.142,99.6612 369.384,99.7174 \n",
       "  369.626,100.353 369.868,104.922 370.111,126.866 370.353,196.38 370.595,336.458 370.837,499.023 371.08,563.657 371.322,471.041 371.564,304.427 371.806,177.416 \n",
       "  372.049,119.966 372.291,103.27 372.533,100.049 372.775,99.6276 373.018,99.5863 373.26,99.5796 373.502,99.575 373.744,99.5704 373.986,99.5659 374.229,99.5615 \n",
       "  374.471,99.5572 374.713,99.5531 374.955,99.5494 375.198,99.5464 375.44,99.5447 375.682,99.5453 375.924,99.55 376.167,99.5615 376.409,99.5847 376.651,99.6271 \n",
       "  376.893,99.7008 377.136,99.8247 377.378,100.028 377.62,100.354 377.862,100.867 378.105,101.66 378.347,102.866 378.589,104.669 378.831,107.317 379.073,111.145 \n",
       "  379.316,116.584 379.558,124.18 379.8,134.606 380.042,148.66 380.285,167.258 380.527,191.405 380.769,222.139 381.011,260.467 381.254,307.37 381.496,364.324 \n",
       "  381.738,435.249 381.98,528.23 382.223,648.013 382.465,777.37 382.707,879.82 382.949,940.723 383.192,984.608 383.434,1037.42 383.676,1099.94 383.918,1161.05 \n",
       "  384.16,1213.31 384.403,1254.57 384.645,1285.15 384.887,1306.18 385.129,1318.99 385.372,1324.71 385.614,1323.98 385.856,1316.92 386.098,1303.1 386.341,1281.78 \n",
       "  386.583,1252.14 386.825,1213.49 387.067,1165.53 387.31,1108.45 387.552,1043 387.794,970.456 388.036,892.57 388.278,811.422 388.521,729.277 388.763,648.417 \n",
       "  389.005,570.98 389.247,498.826 389.49,433.453 389.732,375.95 389.974,327.015 390.216,286.998 390.459,255.986 390.701,233.886 390.943,220.509 391.185,215.64 \n",
       "  391.428,219.142 391.67,231.447 391.912,255.756 392.154,303.005 392.397,391.413 392.639,521.461 392.881,644.076 393.123,694.918 393.365,676.332 393.608,652.532 \n",
       "  393.85,666.532 394.092,712.73 394.334,771.153 394.577,831.196 394.819,891.249 395.061,950.135 395.303,998.867 395.546,1023.29 395.788,1018.41 396.03,993.602 \n",
       "  396.272,960.52 396.515,922.995 396.757,879.498 396.999,828.864 397.241,771.907 397.483,710.556 397.726,647.054 397.968,583.62 398.21,522.321 398.452,464.993 \n",
       "  398.695,413.199 398.937,368.213 399.179,331.027 399.421,302.366 399.664,282.717 399.906,272.365 400.148,271.411 400.39,279.796 400.633,297.304 400.875,323.557 \n",
       "  401.117,358 401.359,399.879 401.602,448.221 401.844,501.814 402.086,559.213 402.328,618.753 402.57,678.613 402.813,736.896 403.055,791.761 403.297,841.572 \n",
       "  403.539,885.072 403.782,921.539 404.024,950.918 404.266,973.872 404.508,991.749 404.751,1006.44 404.993,1020.13 405.235,1034.98 405.477,1052.77 405.72,1074.57 \n",
       "  405.962,1100.51 406.204,1129.65 406.446,1160.09 406.689,1189.12 406.931,1213.58 407.173,1230.25 407.415,1236.27 407.657,1229.46 407.9,1208.57 408.142,1173.4 \n",
       "  408.384,1124.79 408.626,1064.53 408.869,995.16 409.111,919.725 409.353,841.58 409.595,764.144 409.838,690.709 410.08,624.28 410.322,567.454 410.564,522.318 \n",
       "  410.807,490.398 411.049,472.611 411.291,469.261 411.533,480.041 411.775,504.131 412.018,540.664 412.26,590.458 412.502,658.731 412.744,751.786 412.987,859.851 \n",
       "  413.229,947.924 413.471,987.605 413.713,991.56 413.956,991.883 414.198,1001.4 414.44,1012.97 414.682,1017.43 414.925,1010.77 415.167,992.547 415.409,963.793 \n",
       "  415.651,926.131 415.894,881.479 416.136,831.863 416.378,779.251 416.62,725.418 416.862,671.853 417.105,619.709 417.347,569.802 417.589,522.638 417.831,478.475 \n",
       "  418.074,437.385 418.316,399.321 418.558,364.174 418.8,331.814 419.043,302.112 419.285,274.957 419.527,250.256 419.769,227.927 420.012,207.893 420.254,190.076 \n",
       "  420.496,174.386 420.738,160.719 420.98,148.966 421.223,139.126 421.465,132.085 421.707,132.694 421.949,155.147 422.192,218.364 422.434,313.783 422.676,380.034 \n",
       "  422.918,356.746 423.161,264.057 423.403,176.089 423.645,139.019 423.887,160.698 424.13,236.015 424.372,330.756 424.614,374.757 424.856,330.281 425.099,241.518 \n",
       "  425.341,174.544 425.583,150.044 425.825,158.125 426.067,201.669 426.31,305.667 426.552,471.767 426.794,620.191 427.036,640.907 427.279,531.601 427.521,400.336 \n",
       "  427.763,328.153 428.005,313.057 428.248,323.098 428.49,338.438 428.732,352.487 428.974,363.546 429.217,371.011 429.459,374.547 429.701,374.001 429.943,369.403 \n",
       "  430.186,360.964 430.428,349.066 430.67,334.234 430.912,317.107 431.154,298.399 431.397,278.864 431.639,259.259 431.881,240.323 432.123,222.754 432.366,207.199 \n",
       "  432.608,194.262 432.85,184.502 433.092,178.455 433.335,176.641 433.577,179.577 433.819,187.783 434.061,201.777 434.304,222.055 434.546,249.059 434.788,283.14 \n",
       "  435.03,324.495 435.272,373.116 435.515,428.746 435.757,491.016 435.999,560.142 436.241,638.21 436.484,727.942 436.726,824.712 436.968,911.153 437.21,971.534 \n",
       "  437.453,1009.75 437.695,1040.27 437.937,1068.69 438.179,1090.69 438.422,1100.97 438.664,1097.05 438.906,1078.53 439.148,1046.14 439.391,1001.26 439.633,945.777 \n",
       "  439.875,881.939 440.117,812.19 440.359,739.028 440.602,664.856 440.844,591.86 441.086,521.907 441.328,456.49 441.571,396.695 441.813,343.203 442.055,296.327 \n",
       "  442.297,256.053 442.54,222.11 442.782,194.032 443.024,171.224 443.266,153.027 443.509,138.761 443.751,127.768 443.993,119.441 444.235,113.239 444.477,108.696 \n",
       "  444.72,105.423 444.962,103.104 445.204,101.486 445.446,100.378 445.689,99.6322 445.931,99.1414 446.173,98.8293 446.415,98.6438 446.658,98.552 446.9,98.537 \n",
       "  447.142,98.5952 447.384,98.736 447.627,98.982 447.869,99.3711 448.111,99.959 448.353,100.823 448.596,102.067 448.838,103.826 449.08,106.269 449.322,109.607 \n",
       "  449.564,114.09 449.807,120.012 450.049,127.7 450.291,137.513 450.533,149.822 450.776,164.99 451.018,183.35 451.26,205.168 451.502,230.612 451.745,259.713 \n",
       "  451.987,292.336 452.229,328.145 452.471,366.592 452.714,406.914 452.956,448.144 453.198,489.151 453.44,528.689 453.682,565.473 453.925,598.263 454.167,625.942 \n",
       "  454.409,647.609 454.651,662.633 454.894,670.702 455.136,671.829 455.378,666.334 455.62,654.796 455.863,637.988 456.105,616.915 456.347,593.488 456.589,573.637 \n",
       "  456.832,573.283 457.074,614.852 457.316,693.373 457.558,744.374 457.801,697.051 458.043,566.977 458.285,434.902 458.527,349.008 458.769,301.813 459.012,271.714 \n",
       "  459.254,247.287 459.496,225.405 459.738,205.6 459.981,187.862 460.223,172.185 460.465,158.52 460.707,146.775 460.95,136.823 461.192,128.51 461.434,121.668 \n",
       "  461.676,116.118 461.919,111.683 462.161,108.191 462.403,105.482 462.645,103.412 462.888,101.854 463.13,100.699 463.372,99.8557 463.614,99.2489 463.856,98.8186 \n",
       "  464.099,98.518 464.341,98.3108 464.583,98.1701 464.825,98.076 465.068,98.0143 465.31,97.9752 465.552,97.9522 465.794,97.9417 466.037,97.9419 466.279,97.953 \n",
       "  466.521,97.9769 466.763,98.0172 467.006,98.0793 467.248,98.1709 467.49,98.3019 467.732,98.485 467.974,98.7355 468.217,99.072 468.459,99.5156 468.701,100.09 \n",
       "  468.943,100.821 469.186,101.733 469.428,102.853 469.67,104.2 469.912,105.792 470.155,107.636 470.397,109.729 470.639,112.057 470.881,114.589 471.124,117.281 \n",
       "  471.366,120.07 471.608,122.884 471.85,125.637 472.093,128.234 472.335,130.583 472.577,132.59 472.819,134.174 473.061,135.268 473.304,135.823 473.546,135.815 \n",
       "  473.788,135.244 474.03,134.135 474.273,132.536 474.515,130.515 474.757,128.155 474.999,125.546 475.242,122.783 475.484,119.961 475.726,117.163 475.968,114.465 \n",
       "  476.211,111.927 476.453,109.594 476.695,107.495 476.937,105.646 477.179,104.049 477.422,102.696 477.664,101.572 477.906,100.653 478.148,99.9162 478.391,99.3351 \n",
       "  478.633,98.8846 478.875,98.5409 479.117,98.2829 479.36,98.0921 479.602,97.953 479.844,97.8532 480.086,97.7825 480.329,97.7334 480.571,97.7003 480.813,97.6796 \n",
       "  481.055,97.6692 481.298,97.669 481.54,97.6806 481.782,97.7082 482.024,97.7591 482.266,97.8449 482.509,97.9833 482.751,98.2002 482.993,98.5327 483.235,99.0327 \n",
       "  483.478,99.7715 483.72,100.849 483.962,102.442 484.204,105.148 484.447,111.431 484.689,128.621 484.931,167.972 485.173,228.892 485.416,281.344 485.658,288.665 \n",
       "  485.9,255.163 486.142,220.669 486.385,211.553 486.627,225.542 486.869,251.752 487.111,283.954 487.353,320.095 487.596,359.377 487.838,401.051 488.08,444.166 \n",
       "  488.322,487.567 488.565,529.935 488.807,569.849 489.049,605.868 489.291,636.62 489.534,660.888 489.776,677.698 490.018,686.385 490.26,686.64 490.503,678.524 \n",
       "  490.745,662.464 490.987,639.212 491.229,609.786 491.471,575.396 491.714,537.357 491.956,497.013 492.198,455.656 492.44,414.47 492.683,374.478 492.925,336.518 \n",
       "  493.167,301.227 493.409,269.043 493.652,240.217 493.894,214.835 494.136,192.847 494.378,174.092 494.621,158.331 494.863,145.275 495.105,134.608 495.347,126.007 \n",
       "  495.59,119.162 495.832,113.779 496.074,109.598 496.316,106.387 496.558,103.95 496.801,102.119 497.043,100.76 497.285,99.7605 497.527,99.0339 497.77,98.5109 \n",
       "  498.012,98.1383 498.254,97.8755 498.496,97.6919 498.739,97.5647 498.981,97.4773 499.223,97.4176 499.465,97.3771 499.708,97.3498 499.95,97.3317 500.192,97.3202 \n",
       "  500.434,97.3139 500.676,97.3123 500.919,97.3155 501.161,97.3247 501.403,97.3417 501.645,97.3692 501.888,97.4111 502.13,97.4726 502.372,97.5601 502.614,97.6819 \n",
       "  502.857,97.8478 503.099,98.0694 503.341,98.36 503.583,98.7341 503.826,99.207 504.068,99.7941 504.31,100.51 504.552,101.367 504.795,102.375 505.037,103.538 \n",
       "  505.279,104.856 505.521,106.321 505.763,107.921 506.006,109.637 506.248,111.446 506.49,113.323 506.732,115.244 506.975,117.191 507.217,119.158 507.459,121.15 \n",
       "  507.701,123.195 507.944,125.34 508.186,127.66 508.428,130.249 508.67,133.225 508.913,136.72 509.155,140.872 509.397,145.812 509.639,151.658 509.882,158.496 \n",
       "  510.124,166.369 510.366,175.271 510.608,185.141 510.85,195.861 511.093,207.271 511.335,219.179 511.577,231.387 511.819,243.724 512.062,256.079 512.304,268.441 \n",
       "  512.546,280.939 512.788,293.87 513.031,307.731 513.273,323.218 513.515,341.221 513.757,362.782 514,389.028 514.242,421.072 514.484,459.911 514.726,506.463 \n",
       "  514.968,562.298 515.211,631.544 515.453,720.669 515.695,828.143 515.937,931.631 516.18,1003.32 516.422,1043.48 516.664,1076.15 516.906,1115.25 517.149,1156.38 \n",
       "  517.391,1191.4 517.633,1216.5 517.875,1231.34 518.118,1236.93 518.36,1234.7 518.602,1225.98 518.844,1211.81 519.087,1192.77 519.329,1169.04 519.571,1140.57 \n",
       "  519.813,1107.36 520.055,1069.8 520.298,1028.92 520.54,986.556 520.782,945.334 521.024,908.461 521.267,879.382 521.509,861.335 521.751,856.893 521.993,867.58 \n",
       "  522.236,893.611 522.478,933.806 522.72,985.676 522.962,1045.65 523.205,1109.44 523.447,1172.38 523.689,1229.87 523.931,1277.73 524.173,1312.43 524.416,1331.38 \n",
       "  524.658,1332.97 524.9,1316.65 525.142,1282.88 525.385,1232.98 525.627,1169.05 525.869,1093.7 526.111,1009.89 526.354,920.74 526.596,829.284 526.838,738.346 \n",
       "  527.08,650.388 527.323,567.427 527.565,490.985 527.807,422.078 528.049,361.249 528.292,308.617 528.534,263.952 528.776,226.759 529.018,196.411 529.26,172.59 \n",
       "  529.503,156.98 529.745,156.783 529.987,183.973 530.229,237.529 530.472,282.515 530.714,274.973 530.956,217.31 531.198,154.291 531.441,116.773 531.683,102.489 \n",
       "  531.925,98.5993 532.167,97.6175 532.41,97.2551 532.652,97.054 532.894,96.9288 533.136,96.8501 533.379,96.8007 533.621,96.7696 533.863,96.7495 534.105,96.7363 \n",
       "  534.347,96.7269 534.59,96.7199 534.832,96.7142 535.074,96.7093 535.316,96.7048 535.559,96.7005 535.801,96.6963 536.043,96.6922 536.285,96.6882 536.528,96.6841 \n",
       "  536.77,96.6801 537.012,96.676 537.254,96.672 537.497,96.668 537.739,96.6639 537.981,96.6599 538.223,96.6559 538.465,96.6518 538.708,96.6478 538.95,96.6438 \n",
       "  539.192,96.6398 539.434,96.6357 539.677,96.6317 539.919,96.6277 540.161,96.6237 540.403,96.6196 540.646,96.6156 540.888,96.6116 541.13,96.6076 541.372,96.6036 \n",
       "  541.615,96.5995 541.857,96.5955 542.099,96.5915 542.341,96.5875 542.584,96.5835 542.826,96.5795 543.068,96.5754 543.31,96.5714 543.552,96.5674 543.795,96.5634 \n",
       "  544.037,96.5594 544.279,96.5554 544.521,96.5514 544.764,96.5474 545.006,96.5434 545.248,96.5394 545.49,96.5354 545.733,96.5314 545.975,96.5275 546.217,96.5236 \n",
       "  546.459,96.5198 546.702,96.5161 546.944,96.5127 547.186,96.5098 547.428,96.5076 547.67,96.5066 547.913,96.5076 548.155,96.5116 548.397,96.5205 548.639,96.5366 \n",
       "  548.882,96.5637 549.124,96.6069 549.366,96.6736 549.608,96.7736 549.851,96.9201 550.093,97.1307 550.335,97.4274 550.577,97.8379 550.82,98.396 551.062,99.1415 \n",
       "  551.304,100.12 551.546,101.382 551.789,102.981 552.031,104.971 552.273,107.404 552.515,110.323 552.757,113.76 553,117.729 553.242,122.222 553.484,127.225 \n",
       "  553.726,132.92 553.969,141.061 554.211,160.312 554.453,215.113 554.695,336.613 554.938,507.684 555.18,623.775 555.422,587.091 555.664,435.359 555.907,289.346 \n",
       "  556.149,211.146 556.391,184.408 556.633,177.438 556.876,174.52 557.118,171.498 557.36,167.815 557.602,163.581 557.844,158.993 558.087,154.254 558.329,149.558 \n",
       "  558.571,145.081 558.813,140.97 559.056,137.344 559.298,134.292 559.54,131.878 559.782,130.144 560.025,129.122 560.267,128.84 560.509,129.328 560.751,130.628 \n",
       "  560.994,132.793 561.236,135.887 561.478,139.982 561.72,145.149 561.962,151.448 562.205,158.912 562.447,167.534 562.689,177.251 562.931,187.939 563.174,199.395 \n",
       "  563.416,211.347 563.658,223.453 563.9,235.313 564.143,246.492 564.385,256.544 564.627,265.037 564.869,271.582 565.112,275.867 565.354,277.67 565.596,276.882 \n",
       "  565.838,273.514 566.081,267.693 566.323,259.659 566.565,249.74 566.807,238.337 567.049,225.895 567.292,212.876 567.534,199.737 567.776,186.908 568.018,174.78 \n",
       "  568.261,163.692 568.503,153.933 568.745,145.746 568.987,139.333 569.23,134.869 569.472,132.509 569.714,132.405 569.956,134.705 570.199,139.559 570.441,147.112 \n",
       "  570.683,157.495 570.925,170.81 571.167,187.103 571.41,206.342 571.652,228.394 571.894,252.997 572.136,279.748 572.379,308.092 572.621,337.323 572.863,366.61 \n",
       "  573.105,395.015 573.348,421.549 573.59,445.213 573.832,465.069 574.074,480.291 574.317,490.226 574.559,494.438 574.801,492.74 575.043,485.205 575.286,472.166 \n",
       "  575.528,454.185 575.77,432.019 576.012,406.561 576.254,378.786 576.497,349.685 576.739,320.212 576.981,291.231 577.223,263.481 577.466,237.55 577.708,213.863 \n",
       "  577.95,192.686 578.192,174.141 578.435,158.217 578.677,144.803 578.919,133.713 579.161,124.71 579.404,117.53 579.646,111.904 579.888,107.57 580.13,104.289 \n",
       "  580.372,101.846 580.615,100.056 580.857,98.767 581.099,97.8528 581.341,97.2147 581.584,96.7761 581.826,96.479 582.068,96.2804 582.31,96.1494 582.553,96.0638 \n",
       "  582.795,96.0082 583.037,95.9721 583.279,95.9484 583.522,95.9326 583.764,95.9216 584.006,95.9136 584.248,95.9073 584.491,95.9021 584.733,95.8974 584.975,95.8932 \n",
       "  585.217,95.889 585.459,95.885 585.702,95.8811 585.944,95.8772 586.186,95.8733 586.428,95.8694 586.671,95.8655 586.913,95.8617 587.155,95.8578 587.397,95.8539 \n",
       "  587.64,95.85 587.882,95.8462 588.124,95.8423 588.366,95.8384 588.609,95.8346 588.851,95.8307 589.093,95.8268 589.335,95.823 589.578,95.8191 589.82,95.8152 \n",
       "  590.062,95.8114 590.304,95.8075 590.546,95.8037 590.789,95.7998 591.031,95.7959 591.273,95.7921 591.515,95.7882 591.758,95.7844 592,95.7805 592.242,95.7766 \n",
       "  592.484,95.7728 592.727,95.7689 592.969,95.7651 593.211,95.7612 593.453,95.7574 593.696,95.7535 593.938,95.7497 594.18,95.7458 594.422,95.742 594.664,95.7381 \n",
       "  594.907,95.7343 595.149,95.7304 595.391,95.7266 595.633,95.7228 595.876,95.719 596.118,95.7152 596.36,95.7116 596.602,95.708 596.845,95.7048 597.087,95.7021 \n",
       "  597.329,95.7003 597.571,95.7 597.814,95.7025 598.056,95.7096 598.298,95.7243 598.54,95.7515 598.783,95.7989 599.025,95.8783 599.267,96.0077 599.509,96.2138 \n",
       "  599.751,96.5357 599.994,97.0296 600.236,97.7746 600.478,98.88 600.72,100.493 600.963,102.81 601.205,106.084 601.447,110.633 601.689,116.853 601.932,125.214 \n",
       "  602.174,136.264 602.416,150.617 602.658,168.932 602.901,191.884 603.143,220.12 603.385,254.205 603.627,294.56 603.869,341.397 604.112,394.656 604.354,453.964 \n",
       "  604.596,518.596 604.838,587.478 605.081,659.214 605.323,732.134 605.565,804.376 605.807,873.981 606.05,939.001 606.292,997.604 606.534,1048.19 606.776,1089.48 \n",
       "  607.019,1120.65 607.261,1141.37 607.503,1151.91 607.745,1153.14 607.988,1146.52 608.23,1134 608.472,1117.83 608.714,1100.38 608.956,1083.84 609.199,1070.03 \n",
       "  609.441,1060.17 609.683,1054.75 609.925,1053.49 610.168,1055.37 610.41,1058.77 610.652,1061.62 610.894,1061.65 611.137,1056.6 611.379,1044.52 611.621,1023.92 \n",
       "  611.863,993.937 612.106,954.442 612.348,905.995 612.59,849.786 612.832,787.492 613.075,721.104 613.317,652.739 613.559,584.47 613.801,518.179 614.043,455.454 \n",
       "  614.286,397.525 614.528,345.248 614.77,299.119 615.012,259.316 615.255,225.766 615.497,198.21 615.739,176.285 615.981,159.587 616.224,147.74 616.466,140.447 \n",
       "  616.708,137.529 616.95,138.957 617.193,144.86 617.435,155.524 617.677,171.376 617.919,192.942 618.161,220.79 618.404,255.46 618.646,297.372 618.888,346.727 \n",
       "  619.13,403.41 619.373,466.91 619.615,536.257 619.857,610.018 620.099,686.336 620.342,763.029 620.584,837.739 620.826,908.111 621.068,971.983 621.311,1027.54 \n",
       "  621.553,1073.44 621.795,1108.82 622.037,1133.27 622.28,1146.75 622.522,1149.46 622.764,1141.7 623.006,1123.81 623.248,1096.14 623.491,1059.12 623.733,1013.3 \n",
       "  623.975,959.591 624.217,899.827 624.46,839.216 624.702,791.617 624.944,778.488 625.186,801.399 625.429,809.889 625.671,741.965 625.913,608.7 626.155,481.333 \n",
       "  626.398,403.913 626.64,370.784 626.882,363.416 627.124,371.882 627.366,393.007 627.609,425.476 627.851,468.007 628.093,519.028 628.335,576.661 628.578,638.761 \n",
       "  628.82,702.965 629.062,766.761 629.304,827.576 629.547,882.881 629.789,930.313 630.031,967.796 630.273,993.664 630.516,1006.76 630.758,1006.53 631,993.023 \n",
       "  631.242,966.943 631.485,929.575 631.727,882.747 631.969,829.02 632.211,773.228 632.453,727.355 632.696,714.196 632.938,748.512 633.18,794.297 633.422,774.042 \n",
       "  633.665,662.834 633.907,525.253 634.149,429.221 634.391,384.303 634.634,369.337 634.876,368.201 635.118,374.755 635.36,386.97 635.603,403.71 635.845,423.98 \n",
       "  636.087,446.858 636.329,471.501 636.572,497.153 636.814,523.135 637.056,548.845 637.298,573.752 637.54,597.404 637.783,619.441 638.025,639.621 638.267,657.842 \n",
       "  638.509,674.147 638.752,688.718 638.994,701.83 639.236,713.782 639.478,724.811 639.721,734.999 639.963,744.199 640.205,751.994 640.447,757.712 640.69,760.481 \n",
       "  640.932,759.332 641.174,753.329 641.416,741.7 641.658,723.947 641.901,699.927 642.143,669.885 642.385,634.433 642.627,594.504 642.87,551.258 643.112,505.986 \n",
       "  643.354,460.008 643.596,414.579 643.839,370.811 644.081,329.626 644.323,291.722 644.565,257.562 644.808,227.393 645.05,201.26 645.292,179.046 645.534,160.506 \n",
       "  645.777,145.309 646.019,133.069 646.261,123.38 646.503,115.842 646.745,110.074 646.988,105.734 647.23,102.522 647.472,100.184 647.714,98.5093 647.957,97.3286 \n",
       "  648.199,96.5093 648.441,95.9494 648.683,95.5725 648.926,95.3224 649.168,95.1587 649.41,95.0528 649.652,94.9853 649.895,94.9428 650.137,94.9168 650.379,94.9022 \n",
       "  650.621,94.8963 650.863,94.8985 651.106,94.9103 651.348,94.9351 651.59,94.9793 651.832,95.0528 652.075,95.1709 652.317,95.3555 652.559,95.6383 652.801,96.0633 \n",
       "  653.044,96.691 653.286,97.6024 653.528,98.9035 653.77,100.731 654.013,103.254 654.255,106.683 654.497,111.265 654.739,117.286 654.982,125.068 655.224,134.958 \n",
       "  655.466,147.314 655.708,162.489 655.95,180.806 656.193,202.528 656.435,227.832 656.677,256.774 656.919,289.264 657.162,325.043 657.404,363.671 657.646,404.532 \n",
       "  657.888,446.853 658.131,489.746 658.373,532.268 658.615,573.506 658.857,612.662 659.1,649.148 659.342,682.668 659.584,713.263 659.826,741.321 660.069,767.522 \n",
       "  660.311,792.74 660.553,817.88 660.795,843.71 661.037,870.691 661.28,898.856 661.522,927.774 661.764,956.617 662.006,984.315 662.249,1009.79 662.491,1032.2 \n",
       "  662.733,1051.12 662.975,1066.66 663.218,1079.41 663.46,1090.26 663.702,1100.12 663.944,1109.66 664.187,1118.98 664.429,1127.55 664.671,1134.1 664.913,1136.88 \n",
       "  665.155,1133.8 665.398,1122.85 665.64,1102.39 665.882,1071.39 666.124,1029.61 666.367,977.635 666.609,916.801 666.851,849.042 667.093,776.667 667.336,702.144 \n",
       "  667.578,627.882 667.82,556.07 668.062,488.553 668.305,426.771 668.547,371.736 668.789,324.058 669.031,283.982 669.274,251.454 669.516,226.182 669.758,207.698 \n",
       "  670,195.411 670.242,188.652 670.485,186.705 670.727,188.833 670.969,194.291 671.211,202.332 671.454,212.219 671.696,223.226 671.938,234.651 672.18,245.821 \n",
       "  672.423,256.113 672.665,264.968 672.907,271.909 673.149,276.563 673.392,278.674 673.634,278.112 673.876,274.879 674.118,269.101 674.36,261.02 674.603,250.971 \n",
       "  674.845,239.355 675.087,226.621 675.329,213.232 675.572,199.742 675.814,187.494 676.056,182.048 676.298,201.31 676.541,276.401 676.783,413.75 677.025,539.306 \n",
       "  677.267,542.433 677.51,413.188 677.752,256.134 677.994,156.367 678.236,116.07 678.479,104.231 678.721,100.834 678.963,99.4404 679.205,98.7811 679.447,98.6905 \n",
       "  679.69,99.1793 679.932,100.313 680.174,102.202 680.416,105.008 680.659,108.941 680.901,114.262 681.143,121.275 681.385,130.324 681.628,141.774 681.87,155.999 \n",
       "  682.112,173.351 682.354,194.139 682.597,218.588 682.839,246.81 683.081,278.768 683.323,314.248 683.565,352.838 683.808,393.922 684.05,436.685 684.292,480.149 \n",
       "  684.534,523.213 684.777,564.735 685.019,603.611 685.261,638.879 685.503,669.82 685.746,696.038 685.988,717.523 686.23,734.665 686.472,748.217 686.715,759.201 \n",
       "  686.957,768.768 687.199,778.021 687.441,787.837 687.684,798.706 687.926,810.621 688.168,823.046 688.41,834.952 688.652,844.942 688.895,851.422 689.137,852.805 \n",
       "  689.379,847.706 689.621,835.113 689.864,814.498 690.106,785.866 690.348,749.746 690.59,707.119 690.833,659.316 691.075,607.887 691.317,554.473 691.559,500.686 \n",
       "  691.802,448.002 692.044,397.686 692.286,350.75 692.528,307.937 692.771,269.877 693.013,238.172 693.255,219.892 693.497,236.03 693.739,316.359 693.982,451.669 \n",
       "  694.224,550.339 694.466,514.713 694.708,368.179 694.951,221.742 695.193,139.342 695.435,108.978 695.677,100.441 695.92,97.8198 696.162,96.5485 696.404,95.7338 \n",
       "  696.646,95.1862 696.889,94.8209 697.131,94.5806 697.373,94.4244 697.615,94.3241 697.857,94.2601 698.1,94.2194 698.342,94.1935 698.584,94.1765 698.826,94.1652 \n",
       "  699.069,94.1571 699.311,94.151 699.553,94.1461 699.795,94.1418 700.038,94.1378 700.28,94.1341 700.522,94.1305 700.764,94.1269 701.007,94.1234 701.249,94.1198 \n",
       "  701.491,94.1163 701.733,94.1128 701.976,94.1093 702.218,94.1058 702.46,94.1023 702.702,94.0988 702.944,94.0953 703.187,94.0918 703.429,94.0883 703.671,94.0848 \n",
       "  703.913,94.0813 704.156,94.0778 704.398,94.0743 704.64,94.0708 704.882,94.0673 705.125,94.0638 705.367,94.0603 705.609,94.0568 705.851,94.0533 706.094,94.0498 \n",
       "  706.336,94.0463 706.578,94.0428 706.82,94.0393 707.062,94.0359 707.305,94.0324 707.547,94.029 707.789,94.0271 708.031,94.049 708.274,94.3207 708.516,96.3377 \n",
       "  708.758,106.306 709,138.842 709.243,206.641 709.485,288.949 709.727,326.449 709.969,284.943 710.212,202.054 710.454,136.119 710.696,105.3 710.938,96.0742 \n",
       "  711.181,94.2436 711.423,93.9966 711.665,93.9711 711.907,93.9663 712.149,93.9628 712.392,93.9593 712.634,93.9558 712.876,93.9524 713.118,93.9489 713.361,93.9454 \n",
       "  713.603,93.942 713.845,93.9385 714.087,93.9351 714.33,93.9318 714.572,93.9286 714.814,93.9256 715.056,93.9229 715.299,93.9209 715.541,93.92 715.783,93.921 \n",
       "  716.025,93.9252 716.268,93.9345 716.51,93.9524 716.752,93.9836 716.994,94.036 717.236,94.1208 717.479,94.2547 717.721,94.4619 717.963,94.7759 718.205,95.2437 \n",
       "  718.448,95.9284 718.69,96.9137 718.932,98.3081 719.174,100.249 719.417,102.905 719.659,106.479 719.901,111.21 720.143,117.365 720.386,125.236 720.628,135.128 \n",
       "  720.87,147.344 721.112,162.161 721.354,179.807 721.597,200.434 721.839,224.085 722.081,250.672 722.323,279.947 722.566,311.494 722.808,344.723 723.05,378.877 \n",
       "  723.292,413.067 723.535,446.304 723.777,477.561 724.019,505.837 724.261,530.23 724.504,549.999 724.746,564.628 724.988,573.859 725.23,577.713 725.473,576.47 \n",
       "  725.715,570.634 725.957,560.868 726.199,547.921 726.441,532.551 726.684,515.45 726.926,497.202 727.168,478.246 727.41,458.884 727.653,439.296 727.895,419.578 \n",
       "  728.137,399.791 728.379,380.002 728.622,360.32 728.864,340.92 729.106,322.044 729.348,304.002 729.591,287.141 729.833,271.824 730.075,258.394 730.317,247.141 \n",
       "  730.559,238.275 730.802,231.901 731.044,228.012 731.286,226.479 731.528,227.067 731.771,229.443 732.013,233.227 732.255,238.142 732.497,244.567 732.74,254.549 \n",
       "  732.982,271.262 733.224,293.515 733.466,310.549 733.709,310.629 733.951,296.103 734.193,280.162 734.435,270.97 734.678,267.677 734.92,267.081 735.162,267.651 \n",
       "  735.404,269.264 735.646,272.256 735.889,277.031 736.131,283.963 736.373,293.363 736.615,305.448 736.858,320.315 737.1,337.913 737.342,358.019 737.584,380.227 \n",
       "  737.827,403.937 738.069,428.373 738.311,452.606 738.553,475.603 738.796,496.284 739.038,513.597 739.28,526.583 739.522,534.457 739.765,536.657 740.007,532.892 \n",
       "  740.249,523.163 740.491,507.757 740.733,487.226 740.976,462.339 741.218,434.028 741.46,403.322 741.702,371.273 741.945,338.898 742.187,307.124 742.429,276.742 \n",
       "  742.671,248.386 742.914,222.517 743.156,199.428 743.398,179.254 743.64,162 743.883,147.563 744.125,135.769 744.367,126.394 744.609,119.2 744.851,113.951 \n",
       "  745.094,110.435 745.336,108.473 745.578,107.927 745.82,108.701 746.063,110.738 746.305,114.014 746.547,118.524 746.789,124.274 747.032,131.266 747.274,139.48 \n",
       "  747.516,148.867 747.758,159.337 748.001,170.747 748.243,182.907 748.485,195.575 748.727,208.473 748.97,221.299 749.212,233.748 749.454,245.537 749.696,256.43 \n",
       "  749.938,266.264 750.181,274.968 750.423,282.583 750.665,289.258 750.907,295.249 751.15,300.898 751.392,306.598 751.634,312.753 751.876,319.728 752.119,327.8 \n",
       "  752.361,337.112 752.603,347.643 752.845,359.189 753.088,371.368 753.33,383.645 753.572,395.377 753.814,405.87 754.056,414.449 754.299,420.53 754.541,423.682 \n",
       "  754.783,423.686 755.025,420.572 755.268,414.658 755.51,406.685 755.752,398.511 755.994,394.935 756.237,404.419 756.479,431.173 756.721,460.769 756.963,466.838 \n",
       "  757.206,444.243 757.448,417.48 757.69,409.168 757.932,421.192 758.175,445.56 758.417,476.173 758.659,510.066 758.901,545.397 759.143,580.464 759.386,613.57 \n",
       "  759.628,643.104 759.87,667.665 760.112,686.177 760.355,697.988 760.597,702.954 760.839,701.492 761.081,694.598 761.324,683.827 761.566,671.226 761.808,659.217 \n",
       "  762.05,650.433 762.293,647.519 762.535,652.904 762.777,668.564 763.019,695.809 763.262,735.113 763.504,786.005 763.746,847.05 763.988,915.907 764.23,989.484 \n",
       "  764.473,1064.14 764.715,1135.97 764.957,1201.05 765.199,1255.75 765.442,1296.94 765.684,1322.22 765.926,1330.04 766.168,1319.76 766.411,1291.68 766.653,1246.93 \n",
       "  766.895,1187.41 767.137,1115.58 767.38,1034.33 767.622,946.704 767.864,855.795 768.106,764.508 768.348,675.445 768.591,590.795 768.833,512.276 769.075,441.113 \n",
       "  769.317,378.064 769.56,323.464 769.802,277.303 770.044,239.31 770.286,209.042 770.529,185.972 770.771,169.559 771.013,159.31 771.255,154.827 771.498,155.828 \n",
       "  771.74,162.203 771.982,174.424 772.224,195.757 772.467,238.488 772.709,327.604 772.951,476.018 773.193,634.034 773.435,705.955 773.678,663.911 773.92,586.17 \n",
       "  774.162,551.837 774.404,569.856 774.647,613.424 774.889,662.283 775.131,708.299 775.373,748.422 775.616,780.866 775.858,804.257 776.1,817.592 776.342,820.299 \n",
       "  776.585,812.278 776.827,793.913 777.069,766.045 777.311,729.914 777.553,687.069 777.796,639.27 778.038,588.367 778.28,536.195 778.522,484.466 778.765,434.695 \n",
       "  779.007,388.137 779.249,345.763 779.491,308.252 779.734,276.016 779.976,249.24 780.218,227.931 780.46,211.981 780.703,201.226 780.945,195.489 781.187,194.631 \n",
       "  781.429,198.57 781.672,207.291 781.914,220.845 782.156,239.319 782.398,262.805 782.64,291.35 782.883,324.903 783.125,363.267 783.367,406.045 783.609,452.612 \n",
       "  783.852,502.097 784.094,553.399 784.336,605.233 784.578,656.207 784.821,704.935 785.063,750.18 785.305,791.006 785.547,826.924 785.79,858.017 786.032,884.995 \n",
       "  786.274,909.179 786.516,932.378 786.759,956.677 787.001,984.136 787.243,1016.45 787.485,1054.64 787.727,1098.76 787.97,1147.76 788.212,1199.53 788.454,1251.02 \n",
       "  788.696,1298.58 788.939,1338.32 789.181,1366.58 789.423,1380.29 789.665,1377.29 789.908,1356.54 790.15,1318.13 790.392,1263.26 790.634,1194.03 790.877,1113.23 \n",
       "  791.119,1024.09 791.361,929.978 791.603,834.179 791.845,739.726 792.088,649.247 792.33,564.894 792.572,488.314 792.814,420.675 793.057,362.715 793.299,314.824 \n",
       "  793.541,277.135 793.783,249.613 794.026,232.138 794.268,224.575 794.51,226.809 794.752,238.775 794.995,260.439 795.237,291.773 795.479,332.697 795.721,383.006 \n",
       "  795.964,442.292 796.206,509.861 796.448,584.671 796.69,665.275 796.932,749.811 797.175,836.015 797.417,921.286 797.659,1002.79 797.901,1077.57 798.144,1142.77 \n",
       "  798.386,1195.74 798.628,1234.25 798.87,1256.66 799.113,1261.99 799.355,1250.08 799.597,1221.55 799.839,1177.84 800.082,1121.12 800.324,1054.17 800.566,980.273 \n",
       "  800.808,903.048 801.05,826.256 801.293,753.644 801.535,688.758 801.777,634.786 802.019,594.405 802.262,569.654 802.504,561.837 802.746,571.458 802.988,598.192 \n",
       "  803.231,640.9 803.473,697.675 803.715,765.933 803.957,842.527 804.2,923.896 804.442,1006.23 804.684,1085.63 804.926,1158.32 805.169,1220.83 805.411,1270.13 \n",
       "  805.653,1303.84 805.895,1320.29 806.137,1318.66 806.38,1298.98 806.622,1262.13 806.864,1209.76 807.106,1144.18 807.349,1068.22 807.591,985.024 807.833,897.934 \n",
       "  808.075,810.254 808.318,725.122 808.56,645.365 808.802,573.404 809.044,511.172 809.287,460.082 809.529,421.004 809.771,394.286 810.013,379.771 810.255,376.85 \n",
       "  810.498,384.512 810.74,401.402 810.982,425.887 811.224,456.126 811.467,490.133 811.709,525.856 811.951,561.248 812.193,594.346 812.436,623.348 812.678,646.686 \n",
       "  812.92,663.096 813.162,671.672 813.405,671.907 813.647,663.703 813.889,647.367 814.131,623.575 814.374,593.319 814.616,557.827 814.858,518.486 815.1,476.742 \n",
       "  815.342,434.026 815.585,391.668 815.827,350.851 816.069,312.561 816.311,277.579 816.554,246.479 816.796,219.647 817.038,197.319 817.28,179.617 817.523,166.594 \n",
       "  817.765,158.282 818.007,154.72 818.249,155.988 818.492,162.216 818.734,173.588 818.976,190.322 819.218,212.644 819.461,240.745 819.703,274.727 819.945,314.547 \n",
       "  820.187,359.961 820.429,410.469 820.672,465.28 820.914,523.292 821.156,583.097 821.398,643.014 821.641,701.153 821.883,755.5 822.125,804.029 822.367,844.819 \n",
       "  822.61,876.182 822.852,896.777 823.094,905.702 823.336,902.562 823.579,887.496 823.821,861.166 824.063,824.712 824.305,779.667 824.547,727.851 824.79,671.25 \n",
       "  825.032,611.89 825.274,551.722 825.516,492.517 825.759,435.792 826.001,382.758 826.243,334.296 826.485,290.966 826.728,253.027 826.97,220.48 827.212,193.121 \n",
       "  827.454,170.596 827.697,152.46 827.939,138.22 828.181,127.386 828.423,119.503 828.666,114.174 828.908,111.078 829.15,109.977 829.392,110.716 829.634,113.217 \n",
       "  829.877,117.467 830.119,123.503 830.361,131.392 830.603,141.207 830.846,153.004 831.088,166.798 831.33,182.537 831.572,200.084 831.815,219.196 832.057,239.524 \n",
       "  832.299,260.6 832.541,281.861 832.784,302.655 833.026,322.282 833.268,340.022 833.51,355.186 833.752,367.151 833.995,375.411 834.237,379.605 834.479,379.548 \n",
       "  834.721,375.242 834.964,366.877 835.206,354.818 835.448,339.575 835.69,321.771 835.933,302.099 836.175,281.277 836.417,260.004 836.659,238.929 836.902,218.614 \n",
       "  837.144,199.519 837.386,181.992 837.628,166.27 837.871,152.485 838.113,140.684 838.355,130.852 838.597,122.933 838.839,116.858 839.082,112.578 839.324,110.085 \n",
       "  839.566,109.443 839.808,110.81 840.051,114.46 840.293,120.804 840.535,130.393 840.777,143.926 841.02,162.231 841.262,186.259 841.504,217.243 841.746,257.783 \n",
       "  841.989,315.081 842.231,402.83 842.473,527.681 842.715,661.951 842.958,753.981 843.2,790.412 843.442,813.18 843.684,860.159 843.926,930.888 844.169,1008.5 \n",
       "  844.411,1081.38 844.653,1144.86 844.895,1197.35 845.138,1238.6 845.38,1269.18 845.622,1290.09 845.864,1302.49 846.107,1307.29 846.349,1304.88 846.591,1295.04 \n",
       "  846.833,1277 847.076,1249.65 847.318,1211.87 847.56,1162.94 847.802,1102.79 848.044,1032.21 848.287,952.856 848.529,867.128 848.771,777.901 849.013,688.225 \n",
       "  849.256,601.009 849.498,518.764 849.74,443.428 849.982,376.284 850.225,317.969 850.467,268.545 850.709,227.618 850.951,194.465 851.194,168.169 851.436,147.731 \n",
       "  851.678,132.152 851.92,120.504 852.163,111.958 852.405,105.812 852.647,101.488 852.889,98.5291 853.131,96.5835 853.374,95.3939 853.616,94.78 853.858,94.6249 \n",
       "  854.1,94.8632 854.343,95.4703 854.585,96.4537 854.827,97.8454 855.069,99.6954 855.312,102.065 855.554,105.021 855.796,108.626 856.038,112.934 856.281,117.98 \n",
       "  856.523,123.773 856.765,130.289 857.007,137.462 857.249,145.184 857.492,153.299 857.734,161.608 857.976,169.876 858.218,177.839 858.461,185.216 858.703,191.73 \n",
       "  858.945,197.122 859.187,201.166 859.43,203.689 859.672,204.58 859.914,203.798 860.156,201.38 860.399,197.43 860.641,192.119 860.883,185.668 861.125,178.335 \n",
       "  861.368,170.398 861.61,162.137 861.852,153.816 862.094,145.675 862.336,137.914 862.579,130.692 862.821,124.121 863.063,118.269 863.305,113.161 863.548,108.791 \n",
       "  863.79,105.122 864.032,102.098 864.274,99.6503 864.517,97.7043 864.759,96.1838 865.001,95.0158 865.243,94.1336 865.486,93.4782 865.728,92.9991 865.97,92.6543 \n",
       "  866.212,92.41 866.455,92.2394 866.697,92.1219 866.939,92.0418 867.181,91.9879 867.423,91.9517 867.666,91.9274 867.908,91.911 868.15,91.8997 868.392,91.8917 \n",
       "  868.635,91.8857 868.877,91.8811 869.119,91.8774 869.361,91.8743 869.604,91.872 869.846,91.8705 870.088,91.8706 870.33,91.8806 870.573,92.0016 870.815,93.1009 \n",
       "  871.057,100.022 871.299,129.306 871.541,210.495 871.784,350.959 872.026,481.804 872.268,496.283 872.51,381.054 872.753,234.799 872.995,141.399 873.237,105.133 \n",
       "  873.479,96.5391 873.722,96.0424 873.964,97.3103 874.206,99.1652 874.448,101.528 874.691,104.465 874.933,108.05 875.175,112.346 875.417,117.402 875.66,123.241 \n",
       "  875.902,129.857 876.144,137.212 876.386,145.23 876.628,153.799 876.871,162.782 877.113,172.021 877.355,181.358 877.597,190.654 877.84,199.813 878.082,208.811 \n",
       "  878.324,217.726 878.566,226.76 878.809,236.264 879.051,246.748 879.293,258.886 879.535,273.498 879.778,291.524 880.02,313.965 880.262,341.821 880.504,375.996 \n",
       "  880.746,417.201 880.989,465.846 881.231,521.939 881.473,585 881.715,654.006 881.958,727.374 882.2,802.997 882.442,878.348 882.684,950.635 882.927,1017.02 \n",
       "  883.169,1074.88 883.411,1122.08 883.653,1157.22 883.896,1179.86 884.138,1190.58 884.38,1190.96 884.622,1183.42 884.865,1170.85 885.107,1156.29 885.349,1142.42 \n",
       "  885.591,1131.21 885.833,1123.6 886.076,1119.44 886.318,1117.47 886.56,1115.62 886.802,1111.33 887.045,1101.99 887.287,1085.28 887.529,1059.59 887.771,1024.11 \n",
       "  888.014,979.02 888.256,925.334 888.498,864.824 888.74,799.781 888.983,732.783 889.225,666.465 889.467,603.317 889.709,545.516 889.952,494.81 890.194,452.441 \n",
       "  890.436,419.118 890.678,395.016 890.92,379.818 891.163,372.771 891.405,372.764 891.647,378.422 891.889,388.199 892.132,400.476 892.374,413.651 892.616,426.236 \n",
       "  892.858,436.959 893.101,444.879 893.343,449.341 893.585,449.635 893.827,444.818 894.07,434.363 894.312,418.876 894.554,399.629 894.796,377.652 895.038,353.621 \n",
       "  895.281,328.187 895.523,302.105 895.765,276.142 896.007,250.996 896.25,227.245 896.492,205.33 896.734,185.553 896.976,168.078 897.219,152.953 897.461,140.124 \n",
       "  897.703,129.464 897.945,120.794 898.188,113.907 898.43,108.589 898.672,104.635 898.914,101.863 899.157,100.121 899.399,99.2938 899.641,99.3026 899.883,100.106 \n",
       "  900.125,101.694 900.368,104.085 900.61,107.313 900.852,111.424 901.094,116.459 901.337,122.452 901.579,129.454 901.821,137.907 902.063,150.802 902.306,180.467 \n",
       "  902.548,255.163 902.79,397.338 903.032,563.082 903.275,638.064 903.517,562.559 903.759,412.713 904.001,297.191 904.243,246.392 904.486,233.379 904.728,231.683 \n",
       "  904.97,230.729 905.212,228.118 905.455,223.613 905.697,217.381 905.939,209.689 906.181,200.862 906.424,191.257 906.666,181.247 906.908,171.204 907.15,161.485 \n",
       "  907.393,152.424 907.635,144.33 907.877,137.489 908.119,132.174 908.362,128.653 908.604,127.21 908.846,128.174 909.088,132.142 909.33,141.223 909.573,162.998 \n",
       "  909.815,214.611 910.057,310.287 910.299,425.077 910.542,491.492 910.784,474.382 911.026,419.908 911.268,392.559 911.511,409.033 911.753,452.396 911.995,506.883 \n",
       "  912.237,565.805 912.48,625.186 912.722,680.206 912.964,727.531 913.206,767.369 913.449,800.933 913.691,827.709 913.933,846.028 914.175,854.571 914.417,852.794 \n",
       "  914.66,840.748 914.902,818.916 915.144,788.135 915.386,749.543 915.629,704.519 915.871,654.618 916.113,601.486 916.355,546.782 916.598,492.089 916.84,438.843 \n",
       "  917.082,388.266 917.324,341.326 917.567,298.71 917.809,260.831 918.051,227.84 918.293,199.667 918.535,176.064 918.778,156.651 919.02,140.97 919.262,128.524 \n",
       "  919.504,118.812 919.747,111.36 919.989,105.736 920.231,101.562 920.473,98.517 920.716,96.3389 920.958,94.818 921.2,93.7932 921.442,93.1446 921.685,92.7879 \n",
       "  921.927,92.668 922.169,92.7542 922.411,93.036 922.654,93.5199 922.896,94.2268 923.138,95.1904 923.38,96.4556 923.622,98.0783 923.865,100.126 924.107,102.684 \n",
       "  924.349,105.927 924.591,110.695 924.834,121.313 925.076,152.689 925.318,232.507 925.56,370.291 925.803,505.324 926.045,536.771 926.287,447.048 926.529,327.162 \n",
       "  926.772,259.077 927.014,249.629 927.256,271.882 927.498,307.649 927.74,351.384 927.983,402.425 928.225,460.974 928.467,527.08 928.709,600.421 928.952,680.223 \n",
       "  929.194,765.202 929.436,853.546 929.678,942.948 929.921,1030.68 930.163,1113.71 930.405,1188.89 930.647,1253.14 930.89,1303.67 931.132,1338.17 931.374,1355 \n",
       "  931.616,1353.3 931.859,1333.04 932.101,1295.09 932.343,1241.23 932.585,1174.55 932.827,1100.08 933.07,1022.94 933.312,942.949 933.554,853.861 933.796,754.24 \n",
       "  934.039,653.403 934.281,561.592 934.523,481.772 934.765,412.584 935.008,352.747 935.25,301.778 935.492,259.365 935.734,225.062 935.977,198.28 936.219,178.341 \n",
       "  936.461,164.541 936.703,156.193 936.945,152.65 937.188,153.321 937.43,157.665 937.672,165.184 937.914,175.403 938.157,187.849 938.399,202.033 938.641,217.442 \n",
       "  938.883,233.521 939.126,249.685 939.368,265.327 939.61,279.833 939.852,292.612 940.095,303.127 940.337,310.919 940.579,315.643 940.821,317.084 941.064,315.174 \n",
       "  941.306,309.995 941.548,301.772 941.79,290.858 942.032,277.705 942.275,262.838 942.517,246.816 942.759,230.197 943.001,213.511 943.244,197.231 943.486,181.753 \n",
       "  943.728,167.386 943.97,154.348 944.213,142.769 944.455,132.699 944.697,124.125 944.939,116.981 945.182,111.17 945.424,106.582 945.666,103.106 945.908,100.649 \n",
       "  946.151,99.1523 946.393,98.5997 946.635,99.035 946.877,100.572 947.119,103.406 947.362,107.822 947.604,114.208 947.846,123.05 948.088,134.941 948.331,150.564 \n",
       "  948.573,170.679 948.815,196.087 949.057,227.592 949.3,265.941 949.542,311.755 949.784,365.451 950.026,427.161 950.269,496.656 950.511,573.273 950.753,655.877 \n",
       "  950.995,742.84 951.237,832.06 951.48,921.025 951.722,1006.92 951.964,1086.74 952.206,1157.51 952.449,1216.4 952.691,1260.97 952.933,1289.32 953.175,1300.19 \n",
       "  953.418,1293.13 953.66,1268.46 953.902,1227.29 954.144,1171.45 954.387,1103.35 954.629,1025.83 954.871,941.987 955.113,855.003 955.356,767.953 955.598,683.681 \n",
       "  955.84,604.68 956.082,533.019 956.324,470.312 956.567,417.713 956.809,375.948 957.051,345.363 957.293,325.981 957.536,317.574 957.778,319.715 958.02,331.837 \n",
       "  958.262,353.268 958.505,383.256 958.747,420.975 958.989,465.523 959.231,515.898 959.474,570.979 959.716,629.487 959.958,689.972 960.2,750.79 960.442,810.125 \n",
       "  960.685,866.015 960.927,916.435 961.169,959.392 961.411,993.054 961.654,1015.9 961.896,1026.83 962.138,1025.33 962.38,1011.47 962.623,985.997 962.865,950.219 \n",
       "  963.107,905.94 963.349,855.293 963.592,800.557 963.834,743.969 964.076,687.559 964.318,633.013 964.561,581.593 964.803,534.114 965.045,490.978 965.287,452.421 \n",
       "  965.529,419.749 965.772,399.492 966.014,408.977 966.256,466.385 966.498,551.154 966.741,588.456 966.983,524.96 967.225,402.367 967.467,306.341 967.71,281.333 \n",
       "  967.952,316.461 968.194,361.407 968.436,357.218 968.679,292.815 968.921,212.878 969.163,158.039 969.405,131.565 969.648,119.688 969.89,112.84 970.132,107.763 \n",
       "  970.374,103.711 970.616,100.482 970.859,97.9482 971.101,95.9913 971.343,94.5047 971.585,93.3938 971.828,92.5768 972.07,91.9856 972.312,91.5643 972.554,91.2688 \n",
       "  972.797,91.0645 973.039,90.9252 973.281,90.8315 973.523,90.769 973.766,90.7278 974.008,90.7006 974.25,90.6826 974.492,90.6705 974.734,90.6621 974.977,90.6561 \n",
       "  975.219,90.6514 975.461,90.6476 975.703,90.6443 975.946,90.6413 976.188,90.6385 976.43,90.6357 976.672,90.6331 976.915,90.6304 977.157,90.6278 977.399,90.6251 \n",
       "  977.641,90.6225 977.884,90.6199 978.126,90.6173 978.368,90.6146 978.61,90.612 978.853,90.6094 979.095,90.6068 979.337,90.6042 979.579,90.6015 979.821,90.5989 \n",
       "  980.064,90.5963 980.306,90.5937 980.548,90.5911 980.79,90.5885 981.033,90.5859 981.275,90.5832 981.517,90.5806 981.759,90.578 982.002,90.5754 982.244,90.5728 \n",
       "  982.486,90.5702 982.728,90.5676 982.971,90.565 983.213,90.5625 983.455,90.56 983.697,90.5575 983.939,90.5553 984.182,90.5533 984.424,90.5519 984.666,90.5514 \n",
       "  984.908,90.5526 985.151,90.5568 985.393,90.5659 985.635,90.5834 985.877,90.6146 986.12,90.6681 986.362,90.7572 986.604,90.902 986.846,91.1327 987.089,91.4934 \n",
       "  987.331,92.0478 987.573,92.8857 987.815,94.1309 988.058,95.9521 988.3,98.5827 988.542,102.45 988.784,109.076 989.026,125.057 989.269,170.64 989.511,278.035 \n",
       "  989.753,447.529 989.995,594.822 990.238,612.539 990.48,509.224 990.722,398.714 990.964,358.133 991.207,381.224 991.449,436.207 991.691,504.891 991.933,581.433 \n",
       "  992.176,664.255 992.418,754.037 992.66,854.999 992.902,970.666 993.145,1088.99 993.387,1179.86 993.629,1226.62 993.871,1246.12 994.113,1260.79 994.356,1273.66 \n",
       "  994.598,1277.01 994.84,1265.33 995.082,1237.15 995.325,1193.2 995.567,1135.27 995.809,1065.74 996.051,987.388 996.294,903.159 996.536,816.004 996.778,728.714 \n",
       "  997.02,643.786 997.263,563.335 997.505,489.032 997.747,422.092 997.989,363.296 998.231,313.038 998.474,271.392 998.716,238.188 998.958,213.087 999.2,195.652 \n",
       "  999.443,185.402 999.685,181.866 999.927,184.666 1000.17,193.753 1000.41,209.654 1000.65,232.792 1000.9,261.329 1001.14,290.704 1001.38,317.881 1001.62,344.559 \n",
       "  1001.87,373.727 1002.11,405.546 1002.35,437.954 1002.59,468.804 1002.83,496.52 1003.08,519.896 1003.32,537.972 1003.56,550.255 1003.8,557.731 1004.05,565.083 \n",
       "  1004.29,580.724 1004.53,606.426 1004.77,622.627 1005.01,600.349 1005.26,537.864 1005.5,464.724 1005.74,405.745 1005.98,363.169 1006.23,329.821 1006.47,301.343 \n",
       "  1006.71,277.028 1006.95,257.497 1007.19,243.546 1007.44,235.88 1007.68,235.074 1007.92,241.561 1008.16,255.625 1008.41,277.383 1008.65,306.754 1008.89,343.439 \n",
       "  1009.13,386.881 1009.37,436.25 1009.62,490.42 1009.86,547.973 1010.1,607.221 1010.34,666.256 1010.59,723.013 1010.83,775.372 1011.07,821.265 1011.31,858.796 \n",
       "  1011.55,886.36 1011.8,902.746 1012.04,907.219 1012.28,899.574 1012.52,880.145 1012.77,849.78 1013.01,809.779 1013.25,761.8 1013.49,707.749 1013.73,649.647 \n",
       "  1013.98,589.515 1014.22,529.254 1014.46,470.555 1014.7,414.83 1014.95,363.171 1015.19,316.339 1015.43,274.774 1015.67,238.624 1015.91,207.796 1016.16,182.004 \n",
       "  1016.4,160.826 1016.64,143.754 1016.88,130.246 1017.13,119.755 1017.37,111.767 1017.61,105.812 1017.85,101.482 1018.09,98.4299 1018.34,96.3732 1018.58,95.0865 \n",
       "  1018.82,94.395 1019.06,94.1666 1019.31,94.3032 1019.55,94.7321 1019.79,95.3985 1020.03,96.2597 1020.28,97.2787 1020.52,98.4212 1020.76,99.6521 1021,100.935 \n",
       "  1021.24,102.23 1021.49,103.497 1021.73,104.698 1021.97,105.798 1022.21,106.77 1022.46,107.6 1022.7,108.295 1022.94,108.883 1023.18,109.425 1023.42,110.021 \n",
       "  1023.67,110.814 1023.91,112.001 1024.15,113.837 1024.39,116.644 1024.64,120.815 1024.88,126.811 1025.12,135.166 1025.36,146.472 1025.6,161.364 1025.85,180.499 \n",
       "  1026.09,204.514 1026.33,233.985 1026.57,269.374 1026.82,310.966 1027.06,358.81 1027.3,412.663 1027.54,471.941 1027.78,535.689 1028.03,602.575 1028.27,670.913 \n",
       "  1028.51,738.716 1028.75,803.777 1029,863.786 1029.24,916.457 1029.48,959.674 1029.72,991.626 1029.96,1010.94 1030.21,1016.77 1030.45,1008.86 1030.69,987.6 \n",
       "  1030.93,953.947 1031.18,909.41 1031.42,855.936 1031.66,795.802 1031.9,731.479 1032.14,665.513 1032.39,600.404 1032.63,538.51 1032.87,481.974 1033.11,432.669 \n",
       "  1033.36,392.169 1033.6,361.734 1033.84,342.306 1034.08,334.512 1034.32,338.665 1034.57,354.762 1034.81,382.478 1035.05,421.159 1035.29,469.81 1035.54,527.085 \n",
       "  1035.78,591.293 1036.02,660.41 1036.26,732.122 1036.5,803.882 1036.75,873.003 1036.99,936.77 1037.23,992.571 1037.47,1038.04 1037.72,1071.18 1037.96,1090.53 \n",
       "  1038.2,1095.2 1038.44,1084.97 1038.69,1060.28 1038.93,1022.21 1039.17,972.383 1039.41,912.865 1039.65,846.009 1039.9,774.308 1040.14,700.244 1040.38,626.143 \n",
       "  1040.62,554.07 1040.87,485.742 1041.11,422.479 1041.35,365.195 1041.59,314.408 1041.83,270.284 1042.08,232.689 1042.32,201.26 1042.56,175.466 1042.8,154.676 \n",
       "  1043.05,138.214 1043.29,125.405 1043.53,115.608 1043.77,108.241 1044.01,102.794 1044.26,98.8325 1044.5,95.9987 1044.74,94.0042 1044.98,92.6228 1045.23,91.6813 \n",
       "  1045.47,91.0495 1045.71,90.632 1045.95,90.3609 1046.19,90.1993 1046.44,90.2406 1046.68,91.3818 1046.92,97.8368 1047.16,120.974 1047.41,174.203 1047.65,247.582 \n",
       "  1047.89,293.111 1048.13,270.324 1048.37,200.258 1048.62,136.398 1048.86,103.388 1049.1,92.5834 1049.34,90.2524 1049.59,89.9132 1049.83,89.8779 1050.07,89.8735 \n",
       "  1050.31,89.8715 1050.55,89.8699 1050.8,89.8691 1051.04,89.8695 1051.28,89.8722 1051.52,89.8787 1051.77,89.8916 1052.01,89.9153 1052.25,89.9567 1052.49,90.0266 \n",
       "  1052.73,90.1415 1052.98,90.3267 1053.22,90.6197 1053.46,91.0749 1053.7,91.7702 1053.95,92.8149 1054.19,94.3588 1054.43,96.6033 1054.67,99.8131 1054.91,104.329 \n",
       "  1055.16,110.576 1055.4,119.078 1055.64,130.455 1055.88,145.422 1056.13,164.778 1056.37,189.378 1056.61,220.095 1056.85,257.769 1057.1,303.134 1057.34,356.745 \n",
       "  1057.58,418.887 1057.82,489.495 1058.06,568.072 1058.31,653.63 1058.55,744.663 1058.79,839.18 1059.03,934.928 1059.28,1030.04 1059.52,1123.48 1059.76,1212.45 \n",
       "  1060,1287.76 1060.24,1338.81 1060.49,1366.64 1060.73,1379.86 1060.97,1379.46 1061.21,1361.17 1061.46,1324.17 1061.7,1270.57 1061.94,1202.79 1062.18,1123.48 \n",
       "  1062.42,1035.63 1062.67,942.447 1062.91,847.075 1063.15,752.425 1063.39,661.036 1063.64,574.984 1063.88,495.832 1064.12,424.625 1064.36,361.924 1064.6,307.86 \n",
       "  1064.85,262.225 1065.09,224.552 1065.33,194.213 1065.57,170.501 1065.82,152.711 1066.06,140.197 1066.3,132.419 1066.54,128.979 1066.78,129.63 1067.03,134.284 \n",
       "  1067.27,142.995 1067.51,155.941 1067.75,173.385 1068,195.632 1068.24,222.973 1068.48,255.63 1068.72,293.689 1068.96,337.043 1069.21,385.338 1069.45,437.928 \n",
       "  1069.69,493.858 1069.93,551.862 1070.18,610.387 1070.42,667.653 1070.66,721.731 1070.9,770.646 1071.14,812.493 1071.39,845.561 1071.63,868.449 1071.87,880.161 \n",
       "  1072.11,880.202 1072.36,868.747 1072.6,847.268 1072.84,819.976 1073.08,794.039 1073.32,772.705 1073.57,744.442 1073.81,690.012 1074.05,608.551 1074.29,521.531 \n",
       "  1074.54,447.175 1074.78,387.403 1075.02,337.214 1075.26,293.377 1075.51,254.993 1075.75,221.884 1075.99,193.858 1076.23,170.585 1076.47,151.625 1076.72,136.475 \n",
       "  1076.96,124.614 1077.2,115.536 1077.44,108.773 1077.69,103.918 1077.93,100.628 1078.17,98.6291 1078.41,97.7183 1078.65,97.7544 1078.9,98.6525 1079.14,100.375 \n",
       "  1079.38,102.924 1079.62,106.328 1079.87,110.637 1080.11,115.912 1080.35,122.219 1080.59,129.624 1080.83,138.191 1081.08,147.984 1081.32,159.07 1081.56,171.527 \n",
       "  1081.8,185.458 1082.05,201.004 1082.29,218.359 1082.53,237.787 1082.77,259.631 1083.01,284.322 1083.26,312.369 1083.5,344.344 1083.74,380.843 1083.98,422.43 \n",
       "  1084.23,469.564 1084.47,522.507 1084.71,581.234 1084.95,645.336 1085.19,713.945 1085.44,785.694 1085.68,858.718 1085.92,930.715 1086.16,999.071 1086.41,1061.04 \n",
       "  1086.65,1114.01 1086.89,1155.73 1087.13,1184.64 1087.37,1200.12 1087.62,1202.65 1087.86,1193.89 1088.1,1176.66 1088.34,1154.59 1088.59,1131.84 1088.83,1112.49 \n",
       "  1089.07,1100.02 1089.31,1096.8 1089.55,1103.75 1089.8,1120.22 1090.04,1144.16 1090.28,1172.56 1090.52,1201.95 1090.77,1229.05 1091.01,1251.24 1091.25,1266.83 \n",
       "  1091.49,1275.14 1091.74,1276.27 1091.98,1270.85 1092.22,1259.67 1092.46,1243.51 1092.7,1222.99 1092.95,1198.7 1093.19,1171.37 1093.43,1142.02 1093.67,1112.13 \n",
       "  1093.92,1083.56 1094.16,1058.33 1094.4,1038.33 1094.64,1024.89 1094.88,1018.49 1095.13,1018.54 1095.37,1023.46 1095.61,1030.82 1095.85,1037.74 1096.1,1041.29 \n",
       "  1096.34,1038.89 1096.58,1028.66 1096.82,1009.68 1097.06,982.022 1097.31,946.772 1097.55,905.872 1097.79,861.908 1098.03,817.842 1098.28,776.706 1098.52,741.317 \n",
       "  1098.76,713.998 1099,696.365 1099.24,689.18 1099.49,692.303 1099.73,704.735 1099.97,724.751 1100.21,750.111 1100.46,778.315 1100.7,806.863 1100.94,833.493 \n",
       "  1101.18,856.369 1101.42,874.183 1101.67,886.197 1101.91,892.208 1102.15,892.464 1102.39,887.565 1102.64,878.355 1102.88,865.83 1103.12,851.074 1103.36,835.21 \n",
       "  1103.6,819.45 1103.85,805.677 1104.09,798.916 1104.33,811.979 1104.57,862.883 1104.82,949.26 1105.06,1028.5 1105.3,1055.49 1105.54,1014.17 1105.78,923.465 \n",
       "  1106.03,836.919 1106.27,786.841 1106.51,763.805 1106.75,748.92 1107,732.169 1107.24,710.505 1107.48,683.439 1107.72,651.526 1107.96,617.674 1108.21,593.458 \n",
       "  1108.45,608.703 1108.69,695.698 1108.93,825.441 1109.18,897.505 1109.42,834.09 1109.66,646.822 1109.9,443.106 1110.15,314.936 1110.39,259.796 1110.63,240.662 \n",
       "  1110.87,236.643 1111.11,241.93 1111.36,255.611 1111.6,277.57 1111.84,307.628 1112.08,345.413 1112.33,390.325 1112.57,441.498 1112.81,497.782 1113.05,557.733 \n",
       "  1113.29,619.632 1113.54,681.523 1113.78,741.284 1114.02,796.715 1114.26,845.656 1114.51,886.105 1114.75,916.347 1114.99,935.064 1115.23,941.422 1115.47,935.134 \n",
       "  1115.72,916.475 1115.96,886.261 1116.2,845.791 1116.44,796.753 1116.69,741.104 1116.93,680.947 1117.17,618.395 1117.41,555.455 1117.65,493.924 1117.9,435.316 \n",
       "  1118.14,380.817 1118.38,331.264 1118.62,287.16 1118.87,248.697 1119.11,215.807 1119.35,188.213 1119.59,165.489 1119.83,147.112 1120.08,132.514 1120.32,121.121 \n",
       "  1120.56,112.384 1120.8,105.803 1121.05,100.936 1121.29,97.4117 1121.53,94.9252 1121.77,93.2386 1122.01,92.1764 1122.26,91.6218 1122.5,91.5127 1122.74,91.841 \n",
       "  1122.98,92.6528 1123.23,94.0516 1123.47,96.2035 1123.71,99.3445 1123.95,103.788 1124.19,109.933 1124.44,118.267 1124.68,129.368 1124.92,143.9 1125.16,162.595 \n",
       "  1125.41,186.229 1125.65,215.582 1125.89,251.385 1126.13,294.257 1126.37,344.632 1126.62,402.675 1126.86,468.211 1127.1,540.648 1127.34,618.932 1127.59,701.529 \n",
       "  1127.83,786.431 1128.07,871.227 1128.31,953.202 1128.56,1029.49 1128.8,1097.24 1129.04,1153.85 1129.28,1197.14 1129.52,1225.53 1129.77,1238.16 1130.01,1234.97 \n",
       "  1130.25,1216.66 1130.49,1184.62 1130.74,1140.75 1130.98,1087.29 1131.22,1026.63 1131.46,961.102 1131.7,892.825 1131.95,823.638 1132.19,755.04 1132.43,688.194 \n",
       "  1132.67,623.966 1132.92,562.981 1133.16,505.675 1133.4,452.347 1133.64,403.187 1133.88,358.306 1134.13,317.74 1134.37,281.455 1134.61,249.351 1134.85,221.265 \n",
       "  1135.1,196.978 1135.34,176.224 1135.58,158.702 1135.82,144.089 1136.06,132.085 1136.31,122.679 1136.55,117.805 1136.79,127.11 1137.03,175.71 1137.28,290.034 \n",
       "  1137.52,441.652 1137.76,524.664 1138,462.25 1138.24,310.141 1138.49,179.847 1138.73,115.254 1138.97,94.7059 1139.21,90.2389 1139.46,89.4609 1139.7,89.275 \n",
       "  1139.94,89.185 1140.18,89.1312 1140.42,89.1162 1140.67,89.1928 1140.91,89.4788 1141.15,90.0398 1141.39,90.6407 1141.64,90.8094 1141.88,90.3842 1142.12,89.7366 \n",
       "  1142.36,89.2779 1142.6,89.0811 1142.85,89.0253 1143.09,89.0133 1143.33,89.01 1143.57,89.0078 1143.82,89.0056 1144.06,89.0036 1144.3,89.0015 1144.54,88.9994 \n",
       "  1144.78,88.9973 1145.03,88.9952 1145.27,88.9931 1145.51,88.991 1145.75,88.9889 1146,88.9868 1146.24,88.9848 1146.48,88.9827 1146.72,88.9806 1146.97,88.9785 \n",
       "  1147.21,88.9764 1147.45,88.9744 1147.69,88.9723 1147.93,88.9707 1148.18,88.9768 1148.42,89.0733 1148.66,89.8786 1148.9,94.3366 1149.15,110.72 1149.39,149.65 \n",
       "  1149.63,205.577 1149.87,243.336 1150.11,229.748 1150.36,177.412 1150.6,127.238 1150.84,100.364 1151.08,91.2891 1151.33,89.2732 1151.57,88.9715 1151.81,88.9392 \n",
       "  1152.05,88.9351 1152.29,88.9329 1152.54,88.9309 1152.78,88.9288 1153.02,88.9267 1153.26,88.9247 1153.51,88.9226 1153.75,88.9206 1153.99,88.9185 1154.23,88.9164 \n",
       "  1154.47,88.9144 1154.72,88.9123 1154.96,88.9103 1155.2,88.9082 1155.44,88.9062 1155.69,88.9041 1155.93,88.9021 1156.17,88.9 1156.41,88.8979 1156.65,88.8959 \n",
       "  1156.9,88.8938 1157.14,88.8918 1157.38,88.8898 1157.62,88.8877 1157.87,88.8857 1158.11,88.8836 1158.35,88.8816 1158.59,88.8795 1158.83,88.8775 1159.08,88.8764 \n",
       "  1159.32,88.8897 1159.56,89.0576 1159.8,90.3357 1160.05,96.8211 1160.29,118.588 1160.53,165.382 1160.77,224.574 1161.01,254.683 1161.26,228.445 1161.5,169.806 \n",
       "  1161.74,121.195 1161.98,97.753 1162.23,90.537 1162.47,89.0674 1162.71,88.8647 1162.95,88.8441 1163.19,88.8409 1163.44,88.8388 1163.68,88.8368 1163.92,88.8348 \n",
       "  1164.16,88.8327 1164.41,88.8307 1164.65,88.8294 1164.89,88.8378 1165.13,88.9426 1165.38,89.6887 1165.62,93.2057 1165.86,104.117 1166.1,125.589 1166.34,149.707 \n",
       "  1166.59,158.282 1166.83,143.415 1167.07,118.387 1167.31,99.8645 1167.56,91.691 1167.8,89.3917 1168.04,89.0045 1168.28,89.0334 1168.52,89.1607 1168.77,89.3625 \n",
       "  1169.01,89.6658 1169.25,90.1133 1169.49,90.7626 1169.74,91.6889 1169.98,92.9886 1170.22,94.782 1170.46,97.2154 1170.7,100.462 1170.95,104.72 1171.19,110.214 \n",
       "  1171.43,117.23 1171.67,126.487 1171.92,141.098 1172.16,171.886 1172.4,240.081 1172.64,355.748 1172.88,476.125 1173.13,522.358 1173.37,478.13 1173.61,427.326 \n",
       "  1173.85,458.811 1174.1,563.946 1174.34,646.426 1174.58,632.707 1174.82,551.053 1175.06,477.354 1175.31,444.736 1175.55,439.412 1175.79,441.347 1176.03,441.255 \n",
       "  1176.28,436.905 1176.52,428.331 1176.76,416.163 1177,401.298 1177.24,384.899 1177.49,368.805 1177.73,356.85 1177.97,355.968 1178.21,371.204 1178.46,393.544 \n",
       "  1178.7,400.931 1178.94,384.251 1179.18,360.558 1179.42,350.173 1179.67,356.827 1179.91,373.956 1180.15,395.673 1180.39,418.976 1180.64,442.157 1180.88,463.822 \n",
       "  1181.12,482.69 1181.36,497.625 1181.6,507.701 1181.85,512.25 1182.09,510.897 1182.33,503.572 1182.57,490.506 1182.82,472.197 1183.06,449.374 1183.3,422.932 \n",
       "  1183.54,393.872 1183.79,363.232 1184.03,332.025 1184.27,301.18 1184.51,271.504 1184.75,243.65 1185,218.102 1185.24,195.175 1185.48,175.029 1185.72,157.685 \n",
       "  1185.97,143.055 1186.21,130.972 1186.45,121.218 1186.69,113.554 1186.93,107.749 1187.18,103.601 1187.42,100.957 1187.66,99.7319 1187.9,99.9214 1188.15,101.616 \n",
       "  1188.39,105.009 1188.63,110.41 1188.87,118.24 1189.11,129.04 1189.36,143.459 1189.6,162.239 1189.84,186.185 1190.08,216.129 1190.33,252.869 1190.57,297.108 \n",
       "  1190.81,349.371 1191.05,409.925 1191.29,478.692 1191.54,555.174 1191.78,638.4 1192.02,726.888 1192.26,818.656 1192.51,911.266 1192.75,1001.91 1192.99,1087.54 \n",
       "  1193.23,1165.04 1193.47,1231.38 1193.72,1283.87 1193.96,1320.27 1194.2,1339.01 1194.44,1339.25 1194.69,1320.98 1194.93,1285.02 1195.17,1232.92 1195.41,1166.89 \n",
       "  1195.65,1089.64 1195.9,1004.18 1196.14,913.625 1196.38,821.025 1196.62,729.198 1196.87,640.594 1197.11,557.206 1197.35,480.528 1197.59,411.545 1197.83,350.765 \n",
       "  1198.08,298.272 1198.32,253.806 1198.56,216.841 1198.8,186.671 1199.05,162.485 1199.29,143.436 1199.53,128.691 1199.77,117.473 1200.01,109.083 1200.26,102.913 \n",
       "  1200.5,98.4548 1200.74,95.2904 1200.98,93.0903 1201.23,91.6007 1201.47,90.6342 1201.71,90.0598 1201.95,89.7955 1202.2,89.8024 1202.44,90.0822 1202.68,90.6774 \n",
       "  1202.92,91.6744 1203.16,93.2096 1203.41,95.4776 1203.65,98.7418 1203.89,103.345 1204.13,109.72 1204.38,118.398 1204.62,130.013 1204.86,145.297 1205.1,165.07 \n",
       "  1205.34,190.21 1205.59,221.621 1205.83,260.171 1206.07,306.627 1206.31,361.568 1206.56,425.294 1206.8,497.73 1207.04,578.334 1207.28,666.029 1207.52,759.156 \n",
       "  1207.77,855.478 1208.01,952.237 1208.25,1046.27 1208.49,1134.2 1208.74,1212.65 1208.98,1278.58 1209.22,1329.48 1209.46,1363.73 1209.7,1380.69 1209.95,1380.82 \n",
       "  1210.19,1365.63 1210.43,1337.46 1210.67,1299.19 1210.92,1253.91 1211.16,1204.5 1211.4,1153.34 1211.64,1102.09 1211.88,1051.64 1212.13,1002.14 1212.37,953.206 \n",
       "  1212.61,904.128 1212.85,854.147 1213.1,802.663 1213.34,749.392 1213.58,694.433 1213.82,638.254 1214.06,581.622 1214.31,525.495 1214.55,470.893 1214.79,418.795 \n",
       "  1215.03,370.046 1215.28,325.3 1215.52,284.996 1215.76,249.351 1216,218.386 1216.24,191.951 1216.49,169.764 1216.73,151.451 1216.97,136.584 1217.21,124.71 \n",
       "  1217.46,115.378 1217.7,108.162 1217.94,102.67 1218.18,98.5566 1218.43,95.5245 1218.67,93.3245 1218.91,91.7534 1219.15,90.6488 1219.39,89.8842 1219.64,89.3631 \n",
       "  1219.88,89.0133 1220.12,88.7819 1220.36,88.631 1220.61,88.5338 1220.85,88.472 1221.09,88.433 1221.33,88.4085 1221.57,88.3931 1221.82,88.3832 1222.06,88.3767 \n",
       "  1222.3,88.3722 1222.54,88.3688 1222.79,88.3661 1223.03,88.3638 1223.27,88.3617 1223.51,88.3598 1223.75,88.3579 1224,88.356 1224.24,88.3542 1224.48,88.3523 \n",
       "  1224.72,88.3505 1224.97,88.3486 1225.21,88.3468 1225.45,88.345 1225.69,88.3431 1225.93,88.3413 1226.18,88.3395 1226.42,88.3377 1226.66,88.3358 1226.9,88.334 \n",
       "  1227.15,88.3322 1227.39,88.3304 1227.63,88.3285 1227.87,88.3267 1228.11,88.3249 1228.36,88.3231 1228.6,88.3213 1228.84,88.3196 1229.08,88.3179 1229.33,88.3162 \n",
       "  1229.57,88.3147 1229.81,88.3134 1230.05,88.3125 1230.29,88.3122 1230.54,88.3128 1230.78,88.3148 1231.02,88.3191 1231.26,88.3267 1231.51,88.3393 1231.75,88.3593 \n",
       "  1231.99,88.3898 1232.23,88.4353 1232.47,88.5018 1232.72,88.5973 1232.96,88.732 1233.2,88.9193 1233.44,89.176 1233.69,89.5232 1233.93,89.9866 1234.17,90.5979 \n",
       "  1234.41,91.3949 1234.65,92.4234 1234.9,93.7374 1235.14,95.4014 1235.38,97.4921 1235.62,100.1 1235.87,103.335 1236.11,107.326 1236.35,112.229 1236.59,118.232 \n",
       "  1236.84,125.559 1237.08,134.476 1237.32,145.299 1237.56,158.391 1237.8,174.17 1238.05,193.099 1238.29,215.682 1238.53,242.448 1238.77,273.93 1239.02,310.64 \n",
       "  1239.26,353.034 1239.5,401.475 1239.74,456.192 1239.98,517.231 1240.23,584.406 1240.47,657.253 1240.71,734.978 1240.95,816.423 1241.2,900.03 1241.44,983.849 \n",
       "  1241.68,1065.56 1241.92,1142.56 1242.16,1212.04 1242.41,1271.19 1242.65,1317.37 1242.89,1348.29 1243.13,1362.24 1243.38,1358.22 1243.62,1336.05 1243.86,1296.42 \n",
       "  1244.1,1240.84 1244.34,1171.5 1244.59,1091.16 1244.83,1002.9 1245.07,909.935 1245.31,815.377 1245.56,722.088 1245.8,632.526 1246.04,548.658 1246.28,471.923 \n",
       "  1246.52,403.231 1246.77,343.002 1247.01,291.236 1247.25,247.593 1247.49,211.481 1247.74,182.139 1247.98,158.722 1248.22,140.358 1248.46,126.203 1248.7,115.478 \n",
       "  1248.95,107.487 1249.19,101.632 1249.43,97.412 1249.67,94.4198 1249.92,92.3325 1250.16,90.8996 1250.4,89.9315 1250.64,89.2876 1250.88,88.866 1251.13,88.5939 \n",
       "  1251.37,88.4209 1251.61,88.3124 1251.85,88.2451 1252.1,88.2038 1252.34,88.1784 1252.58,88.1629 1252.82,88.1532 1253.06,88.1469 1253.31,88.1427 1253.55,88.1395 \n",
       "  1253.79,88.137 1254.03,88.1349 1254.28,88.133 1254.52,88.1312 1254.76,88.1294 1255,88.1278 1255.25,88.1263 1255.49,88.1251 1255.73,88.1243 1255.97,88.1242 \n",
       "  1256.21,88.1256 1256.46,88.1293 1256.7,88.1371 1256.94,88.1518 1257.18,88.1781 1257.43,88.2232 1257.67,88.2985 1257.91,88.4218 1258.15,88.6195 1258.39,88.931 \n",
       "  1258.64,89.4135 1258.88,90.1486 1259.12,91.2502 1259.36,92.8742 1259.61,95.2296 1259.85,98.5901 1260.09,103.307 1260.33,109.818 1260.57,118.658 1260.82,130.459 \n",
       "  1261.06,145.948 1261.3,165.932 1261.54,191.269 1261.79,222.83 1262.03,261.442 1262.27,307.818 1262.51,362.482 1262.75,425.675 1263,497.277 1263.24,576.727 \n",
       "  1263.48,662.971 1263.72,754.43 1263.97,849.014 1264.21,944.167 1264.45,1036.97 1264.69,1124.27 1264.93,1202.87 1265.18,1269.68 1265.42,1321.97 1265.66,1357.51 \n",
       "  1265.9,1374.75 1266.15,1372.93 1266.39,1352.13 1266.63,1313.27 1266.87,1258.03 1267.11,1188.76 1267.36,1108.27 1267.6,1019.67 1267.84,926.192 1268.08,831.036 \n",
       "  1268.33,737.714 1268.57,651.585 1268.81,581.759 1269.05,536.09 1269.29,505.242 1269.54,460.452 1269.78,386.135 1270.02,301.715 1270.26,234.374 1270.51,190.601 \n",
       "  1270.75,162.51 1270.99,142.72 1271.23,127.895 1271.47,116.698 1271.72,108.342 1271.96,102.205 1272.2,97.7734 1272.44,94.6245 1272.69,92.4234 1272.93,90.9093 \n",
       "  1273.17,89.8844 1273.41,89.2014 1273.66,88.7534 1273.9,88.4638 1274.14,88.2794 1274.38,88.1636 1274.62,88.0917 1274.87,88.0475 1275.11,88.0205 1275.35,88.0039 \n",
       "  1275.59,87.9937 1275.84,87.9871 1276.08,87.9827 1276.32,87.9795 1276.56,87.9771 1276.8,87.975 1277.05,87.9731 1277.29,87.9713 1277.53,87.9696 1277.77,87.9679 \n",
       "  1278.02,87.9662 1278.26,87.9645 1278.5,87.9629 1278.74,87.9612 1278.98,87.9595 1279.23,87.9579 1279.47,87.9562 1279.71,87.9546 1279.95,87.953 1280.2,87.9514 \n",
       "  1280.44,87.9498 1280.68,87.9483 1280.92,87.947 1281.16,87.946 1281.41,87.9454 1281.65,87.9457 1281.89,87.9473 1282.13,87.9513 1282.38,87.959 1282.62,87.9727 \n",
       "  1282.86,87.996 1283.1,88.0341 1283.34,88.0949 1283.59,88.1897 1283.83,88.3349 1284.07,88.5533 1284.31,88.876 1284.56,89.3451 1284.8,90.016 1285.04,90.9602 \n",
       "  1285.28,92.2677 1285.52,94.05 1285.77,96.4411 1286.01,99.5991 1286.25,103.705 1286.49,108.962 1286.74,115.589 1286.98,123.818 1287.22,133.885 1287.46,146.019 \n",
       "  1287.7,160.438 1287.95,177.331 1288.19,196.856 1288.43,219.13 1288.67,244.225 1288.92,272.171 1289.16,302.966 1289.4,336.583 1289.64,372.998 1289.88,412.212 \n",
       "  1290.13,454.27 1290.37,499.287 1290.61,547.447 1290.85,598.985 1291.1,654.139 1291.34,713.074 1291.58,775.774 1291.82,841.924 1292.07,910.795 1292.31,981.152 \n",
       "  1292.55,1051.22 1292.79,1118.73 1293.03,1181 1293.28,1235.15 1293.52,1278.32 1293.76,1307.91 1294,1321.9 1294.25,1318.96 1294.49,1298.64 1294.73,1261.4 \n",
       "  1294.97,1208.57 1295.21,1142.22 1295.46,1064.98 1295.7,979.856 1295.94,889.967 1296.18,798.362 1296.43,707.835 1296.67,620.795 1296.91,539.173 1297.15,464.388 \n",
       "  1297.39,397.346 1297.64,338.479 1297.88,287.811 1298.12,245.029 1298.36,209.575 1298.61,180.725 1298.85,157.664 1299.09,139.552 1299.33,125.571 1299.57,114.961 \n",
       "  1299.82,107.044 1300.06,101.234 1300.3,97.0412 1300.54,94.0638 1300.79,91.9838 1301.03,90.554 1301.27,89.5866 1301.51,88.9424 1301.75,88.5199 1302,88.2471 \n",
       "  1302.24,88.0734 1302.48,87.9644 1302.72,87.8967 1302.97,87.8552 1303.21,87.8298 1303.45,87.8142 1303.69,87.8046 1303.93,87.7984 1304.18,87.7943 1304.42,87.7913 \n",
       "  1304.66,87.7889 1304.9,87.787 1305.15,87.7852 1305.39,87.7835 1305.63,87.7818 1305.87,87.7802 1306.11,87.7787 1306.36,87.7771 1306.6,87.7755 1306.84,87.7739 \n",
       "  1307.08,87.7724 1307.33,87.7708 1307.57,87.7692 1307.81,87.7677 1308.05,87.7661 1308.29,87.7645 1308.54,87.763 1308.78,87.7614 1309.02,87.7598 1309.26,87.7583 \n",
       "  1309.51,87.7567 1309.75,87.7552 1309.99,87.7536 1310.23,87.752 1310.48,87.7505 1310.72,87.7489 1310.96,87.7474 1311.2,87.7458 1311.44,87.7443 1311.69,87.7427 \n",
       "  1311.93,87.7412 1312.17,87.7397 1312.41,87.7382 1312.66,87.7369 1312.9,87.7356 1313.14,87.7346 1313.38,87.734 1313.62,87.734 1313.87,87.735 1314.11,87.7378 \n",
       "  1314.35,87.7432 1314.59,87.7528 1314.84,87.7689 1315.08,87.7946 1315.32,87.8347 1315.56,87.8957 1315.8,87.9866 1316.05,88.1194 1316.29,88.3101 1316.53,88.5791 \n",
       "  1316.77,88.952 1317.02,89.4605 1317.26,90.142 1317.5,91.0399 1317.74,92.2027 1317.98,93.6828 1318.23,95.5341 1318.47,97.8091 1318.71,100.555 1318.95,103.809 \n",
       "  1319.2,107.595 1319.44,111.916 1319.68,116.755 1319.92,122.068 1320.16,127.782 1320.41,133.805 1320.65,140.019 1320.89,146.295 1321.13,152.498 1321.38,158.5 \n",
       "  1321.62,164.193 1321.86,169.499 1322.1,174.382 1322.34,178.853 1322.59,182.977 1322.83,186.867 1323.07,190.677 1323.31,194.588 1323.56,198.789 1323.8,203.451 \n",
       "  1324.04,208.712 1324.28,214.691 1324.52,221.793 1324.77,232.231 1325.01,253.728 1325.25,300.178 1325.49,374.875 1325.74,444.579 1325.98,457.638 1326.22,406.784 \n",
       "  1326.46,338.667 1326.7,293.511 1326.95,273.594 1327.19,264.8 1327.43,257.681 1327.67,249.273 1327.92,239.227 1328.16,227.809 1328.4,215.404 1328.64,202.422 \n",
       "  1328.89,189.267 1329.13,176.31 1329.37,163.875 1329.61,152.223 1329.85,141.549 1330.1,131.976 1330.34,123.565 1330.58,116.319 1330.82,110.196 1331.07,105.116 \n",
       "  1331.31,100.979 1331.55,97.6684 1331.79,95.0658 1332.03,93.0548 1332.28,91.5271 1332.52,90.386 1332.76,89.5476 1333,88.9417 1333.25,88.5109 1333.49,88.2093 \n",
       "  1333.73,88.0014 1333.97,87.8603 1334.21,87.7658 1334.46,87.7034 1334.7,87.6627 1334.94,87.6362 1335.18,87.6192 1335.43,87.6081 1335.67,87.6008 1335.91,87.5959 \n",
       "  1336.15,87.5924 1336.39,87.5897 1336.64,87.5876 1336.88,87.5857 1337.12,87.5841 1337.36,87.5825 1337.61,87.581 1337.85,87.5794 1338.09,87.578 1338.33,87.5765 \n",
       "  1338.57,87.575 1338.82,87.5735 1339.06,87.5721 1339.3,87.5706 1339.54,87.5691 1339.79,87.5677 1340.03,87.5662 1340.27,87.5648 1340.51,87.5633 1340.75,87.5618 \n",
       "  1341,87.5604 1341.24,87.5589 1341.48,87.5575 1341.72,87.556 1341.97,87.5545 1342.21,87.5531 1342.45,87.5516 1342.69,87.5502 1342.93,87.5487 1343.18,87.5473 \n",
       "  1343.42,87.5458 1343.66,87.5444 1343.9,87.543 1344.15,87.5416 1344.39,87.5403 1344.63,87.5391 1344.87,87.5381 1345.12,87.5375 1345.36,87.5377 1345.6,87.5392 \n",
       "  1345.84,87.543 1346.08,87.5507 1346.33,87.5651 1346.57,87.5907 1346.81,87.6344 1347.05,87.7075 1347.3,87.827 1347.54,88.0189 1347.78,88.3214 1348.02,88.7907 \n",
       "  1348.26,89.5063 1348.51,90.5802 1348.75,92.1654 1348.99,94.4676 1349.23,97.7568 1349.48,102.38 1349.72,108.77 1349.96,117.459 1350.2,129.075 1350.44,144.344 \n",
       "  1350.69,164.073 1350.93,189.125 1351.17,220.378 1351.41,258.673 1351.66,304.744 1351.9,359.137 1352.14,422.124 1352.38,493.618 1352.62,573.097 1352.87,659.541 \n",
       "  1353.11,751.404 1353.35,846.619 1353.59,942.648 1353.84,1036.57 1354.08,1125.22 1354.32,1205.35 1354.56,1273.85 1354.8,1327.92 1355.05,1365.25 1355.29,1384.24 \n",
       "  1355.53,1384.07 1355.77,1364.79 1356.02,1327.32 1356.26,1273.37 1356.5,1205.34 1356.74,1126.17 1356.98,1039.08 1357.23,947.43 1357.47,854.475 1357.71,763.201 \n",
       "  1357.95,676.188 1358.2,595.519 1358.44,522.749 1358.68,458.912 1358.92,404.581 1359.16,359.954 1359.41,324.956 1359.65,299.347 1359.89,282.822 1360.13,275.087 \n",
       "  1360.38,275.916 1360.62,285.169 1360.86,302.779 1361.1,328.713 1361.34,362.896 1361.59,405.135 1361.83,455.03 1362.07,511.902 1362.31,574.761 1362.56,642.301 \n",
       "  1362.8,712.961 1363.04,785.017 1363.28,856.705 1363.53,926.35 1363.77,992.467 1364.01,1053.81 1364.25,1109.36 1364.49,1158.27 1364.74,1199.77 1364.98,1233.1 \n",
       "  1365.22,1257.46 1365.46,1272.11 1365.71,1276.54 1365.95,1270.7 1366.19,1255.27 1366.43,1231.9 1366.67,1203.21 1366.92,1172.71 1367.16,1144.4 1367.4,1122.3 \n",
       "  1367.64,1109.78 1367.89,1109.07 1368.13,1120.78 1368.37,1143.79 1368.61,1175.32 1368.85,1211.4 1369.1,1247.33 1369.34,1278.43 1369.58,1300.63 1369.82,1310.97 \n",
       "  1370.07,1307.89 1370.31,1291.36 1370.55,1262.73 1370.79,1224.39 1371.03,1179.43 1371.28,1131.15 1371.52,1082.64 1371.76,1036.52 1372,994.666 1372.25,958.183 \n",
       "  1372.49,927.419 1372.73,902.07 1372.97,881.325 1373.21,864.022 1373.46,848.79 1373.7,834.185 1373.94,818.809 1374.18,801.426 1374.43,781.065 1374.67,757.116 \n",
       "  1374.91,729.406 1375.15,698.242 1375.39,664.417 1375.64,629.174 1375.88,594.126 1376.12,561.142 1376.36,532.201 1376.61,509.24 1376.85,493.994 1377.09,487.854 \n",
       "  1377.33,491.749 1377.57,506.066 1377.82,530.623 1378.06,564.681 1378.3,607.017 1378.54,656.026 1378.79,709.851 1379.03,766.521 1379.27,824.076 1379.51,880.672 \n",
       "  1379.75,934.646 1380,984.555 1380.24,1029.18 1380.48,1067.5 1380.72,1098.67 1380.97,1121.95 1381.21,1136.67 1381.45,1142.22 1381.69,1138.03 1381.94,1123.62 \n",
       "  1382.18,1098.68 1382.42,1063.15 1382.66,1017.39 1382.9,962.174 1383.15,898.795 1383.39,828.995 1383.63,754.87 1383.87,678.719 1384.12,602.859 1384.36,529.448 \n",
       "  1384.6,460.332 1384.84,396.952 1385.08,340.288 1385.33,290.877 1385.57,248.858 1385.81,214.055 1386.05,186.076 1386.3,164.406 1386.54,148.501 1386.78,137.858 \n",
       "  1387.02,132.082 1387.26,130.913 1387.51,134.258 1387.75,142.186 1387.99,154.918 1388.23,172.8 1388.48,196.259 1388.72,225.75 1388.96,261.687 1389.2,304.374 \n",
       "  1389.44,353.927 1389.69,410.198 1389.93,472.714 1390.17,540.625 1390.41,612.679 1390.66,687.228 1390.9,762.265 1391.14,835.498 1391.38,904.459 1391.62,966.644 \n",
       "  1391.87,1019.67 1392.11,1061.47 1392.35,1090.44 1392.59,1105.62 1392.84,1106.83 1393.08,1094.8 1393.32,1071.13 1393.56,1038.35 1393.8,999.753 1394.05,959.2 \n",
       "  1394.29,920.879 1394.53,888.943 1394.77,867.154 1395.02,858.512 1395.26,864.948 1395.5,887.087 1395.74,924.152 1395.98,973.989 1396.23,1033.25 1396.47,1097.69 \n",
       "  1396.71,1162.57 1396.95,1223.1 1397.2,1274.91 1397.44,1314.41 1397.68,1339.18 1397.92,1348.08 1398.16,1341.35 1398.41,1320.45 1398.65,1287.83 1398.89,1246.57 \n",
       "  1399.13,1199.93 1399.38,1150.99 1399.62,1102.24 1399.86,1055.38 1400.1,1011.23 1400.35,969.748 1400.59,930.23 1400.83,891.553 1401.07,852.455 1401.31,811.797 \n",
       "  1401.56,768.76 1401.8,722.956 1402.04,674.462 1402.28,623.774 1402.53,571.707 1402.77,519.28 1403.01,467.584 1403.25,417.671 1403.49,370.47 1403.74,326.727 \n",
       "  1403.98,286.975 1404.22,251.531 1404.46,220.505 1404.71,193.831 1404.95,171.301 1405.19,152.596 1405.43,137.331 1405.67,125.082 1405.92,115.416 1406.16,107.914 \n",
       "  1406.4,102.188 1406.64,97.8901 1406.89,94.7181 1407.13,92.4188 1407.37,90.7855 1407.61,89.6551 1407.85,88.9038 1408.1,88.4433 1408.34,88.2169 1408.58,88.1973 \n",
       "  1408.82,88.3854 1409.07,88.8115 1409.31,89.5377 1409.55,90.6626 1409.79,92.327 1410.03,94.7222 1410.28,98.1115 1410.52,102.979 1410.76,110.959 1411,128.253 \n",
       "  1411.25,170.732 1411.49,256.592 1411.73,371.755 1411.97,451.668 1412.21,445.093 1412.46,384.253 1412.7,340.834 1412.94,344.885 1413.18,383.172 1413.43,437.349 \n",
       "  1413.67,498.674 1413.91,564.049 1414.15,631.676 1414.39,699.699 1414.64,766.025 1414.88,828.402 1415.12,884.537 1415.36,932.233 1415.61,969.532 1415.85,994.847 \n",
       "  1416.09,1007.07 1416.33,1005.67 1416.57,990.706 1416.82,962.832 1417.06,923.263 1417.3,873.671 1417.54,816.074 1417.79,752.701 1418.03,685.846 1418.27,617.739 \n",
       "  1418.51,550.422 1418.76,485.661 1419,424.88 1419.24,369.134 1419.48,319.105 1419.72,275.128 1419.97,237.233 1420.21,205.203 1420.45,178.633 1420.69,156.992 \n",
       "  1420.94,139.679 1421.18,126.071 1421.42,115.558 1421.66,107.575 1421.9,101.614 1422.15,97.2377 1422.39,94.0772 1422.63,91.8321 1422.87,90.2634 1423.12,89.1852 \n",
       "  1423.36,88.4568 1423.6,87.9738 1423.84,87.661 1424.08,87.4657 1424.33,87.3527 1424.57,87.3003 1424.81,87.2976 1425.05,87.3432 1425.3,87.4446 1425.54,87.6183 \n",
       "  1425.78,87.892 1426.02,88.306 1426.26,88.9169 1426.51,89.8006 1426.75,91.0566 1426.99,92.8116 1427.23,95.2229 1427.48,98.4808 1427.72,102.809 1427.96,108.461 \n",
       "  1428.2,115.716 1428.44,124.867 1428.69,136.207 1428.93,150.005 1429.17,166.487 1429.41,185.804 1429.66,208.005 1429.9,233.009 1430.14,260.577 1430.38,290.302 \n",
       "  1430.62,321.598 1430.87,353.71 1431.11,385.734 1431.35,416.656 1431.59,445.398 1431.84,470.884 1432.08,492.1 1432.32,508.166 1432.56,518.392 1432.8,522.33 \n",
       "  1433.05,519.807 1433.29,510.932 1433.53,496.097 1433.77,475.942 1434.02,451.31 1434.26,423.191 1434.5,392.653 1434.74,360.779 1434.98,328.601 1435.23,297.053 \n",
       "  1435.47,266.924 1435.71,238.838 1435.95,213.242 1436.2,190.409 1436.44,170.455 1436.68,153.357 1436.92,138.983 1437.17,127.123 1437.41,117.512 1437.65,109.863 \n",
       "  1437.89,103.881 1438.13,99.2817 1438.38,95.8062 1438.62,93.2237 1438.86,91.3363 1439.1,89.9796 1439.35,89.0201 1439.59,88.3524 1439.83,87.8951 1440.07,87.5869 \n",
       "  1440.31,87.3822 1440.56,87.2483 1440.8,87.162 1441.04,87.107 1441.28,87.0724 1441.53,87.0507 1441.77,87.0373 1442.01,87.0288 1442.25,87.0234 1442.49,87.0198 \n",
       "  1442.74,87.0172 1442.98,87.0153 1443.22,87.0138 1443.46,87.0124 1443.71,87.0112 1443.95,87.01 1444.19,87.0088 1444.43,87.0077 1444.67,87.0065 1444.92,87.0054 \n",
       "  1445.16,87.0043 1445.4,87.0031 1445.64,87.002 1445.89,87.0009 1446.13,86.9998 1446.37,86.9986 1446.61,86.9975 1446.85,86.9964 1447.1,86.9953 1447.34,86.9941 \n",
       "  1447.58,86.993 1447.82,86.9919 1448.07,86.9908 1448.31,86.9897 1448.55,86.9886 1448.79,86.9874 1449.03,86.9863 1449.28,86.9852 1449.52,86.9841 1449.76,86.983 \n",
       "  1450,86.9819 1450.25,86.9809 1450.49,86.9813 1450.73,86.9989 1450.97,87.1472 1451.21,87.9541 1451.46,90.8542 1451.7,97.5758 1451.94,106.935 1452.18,112.866 \n",
       "  1452.43,110.111 1452.67,101.216 1452.91,93.0113 1453.15,88.7332 1453.39,87.3218 1453.64,87.0146 1453.88,86.9689 1454.12,86.9634 1454.36,86.962 1454.61,86.9609 \n",
       "  1454.85,86.9598 1455.09,86.9587 1455.33,86.9576 1455.58,86.9565 1455.82,86.9554 1456.06,86.9543 1456.3,86.9532 1456.54,86.9522 1456.79,86.9511 1457.03,86.95 \n",
       "  1457.27,86.9494 1457.51,86.9564 1457.76,87.0498 1458,87.7949 1458.24,91.764 1458.48,105.786 1458.72,137.693 1458.97,181.113 1459.21,207.326 1459.45,192.963 \n",
       "  1459.69,151.267 1459.94,113.826 1460.18,94.6792 1460.42,88.471 1460.66,87.1437 1460.9,86.9524 1461.15,86.9329 1461.39,86.9306 1461.63,86.9294 1461.87,86.9284 \n",
       "  1462.12,86.9273 1462.36,86.9262 1462.6,86.9251 1462.84,86.9241 1463.08,86.923 1463.33,86.9219 1463.57,86.9209 1463.81,86.9198 1464.05,86.9187 1464.3,86.9177 \n",
       "  1464.54,86.9166 1464.78,86.9155 1465.02,86.9145 1465.26,86.9134 1465.51,86.9124 1465.75,86.9113 1465.99,86.9103 1466.23,86.9092 1466.48,86.9082 1466.72,86.9073 \n",
       "  1466.96,86.9065 1467.2,86.9058 1467.44,86.9055 1467.69,86.9059 1467.93,86.9072 1468.17,86.9104 1468.41,86.9167 1468.66,86.928 1468.9,86.9476 1469.14,86.9802 \n",
       "  1469.38,87.0337 1469.62,87.1191 1469.87,87.2533 1470.11,87.4604 1470.35,87.7747 1470.59,88.2437 1470.84,88.9322 1471.08,89.9268 1471.32,91.34 1471.56,93.3156 \n",
       "  1471.81,96.0326 1472.05,99.7083 1472.29,104.599 1472.53,111 1472.77,119.236 1473.02,129.659 1473.26,142.624 1473.5,158.477 1473.74,177.525 1473.99,200.011 \n",
       "  1474.23,226.081 1474.47,255.755 1474.71,288.9 1474.95,325.212 1475.2,364.206 1475.44,405.224 1475.68,447.457 1475.92,489.994 1476.17,531.884 1476.41,572.22 \n",
       "  1476.65,610.229 1476.89,645.359 1477.13,677.357 1477.38,706.309 1477.62,732.637 1477.86,757.039 1478.1,780.376 1478.35,803.517 1478.59,827.154 1478.83,851.635 \n",
       "  1479.07,876.827 1479.31,902.051 1479.56,926.095 1479.8,947.326 1480.04,963.857 1480.28,973.779 1480.53,975.383 1480.77,967.379 1481.01,949.08 1481.25,920.688 \n",
       "  1481.49,883.973 1481.74,843.035 1481.98,802.339 1482.22,760.096 1482.46,706.642 1482.71,639.392 1482.95,579.192 1483.19,561.557 1483.43,597.611 1483.67,636.302 \n",
       "  1483.92,600.128 1484.16,481.3 1484.4,350.927 1484.64,266.989 1484.89,230.877 1485.13,219.217 1485.37,213.193 1485.61,205.373 1485.85,197.672 1486.1,194.106 \n",
       "  1486.34,195.324 1486.58,199.548 1486.82,205.16 1487.07,211.381 1487.31,217.933 1487.55,224.79 1487.79,232.102 1488.03,240.174 1488.28,249.455 1488.52,260.498 \n",
       "  1488.76,273.921 1489,290.35 1489.25,310.351 1489.49,334.361 1489.73,362.615 1489.97,395.082 1490.22,431.421 1490.46,470.955 1490.7,512.674 1490.94,555.269 \n",
       "  1491.18,597.197 1491.43,636.77 1491.67,672.263 1491.91,702.028 1492.15,724.613 1492.4,738.859 1492.64,743.987 1492.88,739.649 1493.12,725.945 1493.36,703.415 \n",
       "  1493.61,672.994 1493.85,635.94 1494.09,593.75 1494.33,548.062 1494.58,500.559 1494.82,452.882 1495.06,406.557 1495.3,362.943 1495.54,323.203 1495.79,288.291 \n",
       "  1496.03,258.967 1496.27,235.814 1496.51,219.269 1496.76,209.653 1497,207.196 1497.24,212.055 1497.48,224.316 1497.72,243.987 1497.97,270.97 1498.21,305.034 \n",
       "  1498.45,345.769 1498.69,392.55 1498.94,444.501 1499.18,500.476 1499.42,559.056 1499.66,618.572 1499.9,677.161 1500.15,732.84 1500.39,783.617 1500.63,827.612 \n",
       "  1500.87,863.197 1501.12,889.131 1501.36,904.686 1501.6,909.738 1501.84,904.82 1502.08,891.122 1502.33,870.421 1502.57,844.954 1502.81,817.236 1503.05,789.828 \n",
       "  1503.3,765.102 1503.54,745.009 1503.78,730.896 1504.02,723.392 1504.26,722.382 1504.51,727.072 1504.75,736.134 1504.99,747.914 1505.23,760.657 1505.48,772.726 \n",
       "  1505.72,782.774 1505.96,789.845 1506.2,793.401 1506.44,793.278 1506.69,789.578 1506.93,782.547 1507.17,772.446 1507.41,759.457 1507.66,743.628 1507.9,724.877 \n",
       "  1508.14,703.034 1508.38,677.919 1508.63,649.428 1508.87,617.61 1509.11,582.719 1509.35,545.233 1509.59,505.851 1509.84,465.55 1510.08,426.193 1510.32,392.98 \n",
       "  1510.56,378.262 1510.81,396.326 1511.05,437.648 1511.29,454.514 1511.53,408.032 1511.77,321.509 1512.02,248.758 1512.26,213.125 1512.5,205.413 1512.74,212.407 \n",
       "  1512.99,228.217 1513.23,251.428 1513.47,281.789 1513.71,319.092 1513.95,362.943 1514.2,412.699 1514.44,467.432 1514.68,525.912 1514.92,586.618 1515.17,647.764 \n",
       "  1515.41,707.362 1515.65,763.308 1515.89,813.487 1516.13,855.897 1516.38,888.77 1516.62,910.694 1516.86,920.704 1517.1,918.351 1517.35,903.74 1517.59,877.512 \n",
       "  1517.83,840.803 1518.07,795.16 1518.31,742.435 1518.56,684.657 1518.8,623.908 1519.04,562.199 1519.28,501.366 1519.53,442.99 1519.77,388.343 1520.01,338.362 \n",
       "  1520.25,293.656 1520.49,254.527 1520.74,221.014 1520.98,192.943 1521.22,169.99 1521.46,151.731 1521.71,137.695 1521.95,127.407 1522.19,120.42 1522.43,116.335 \n",
       "  1522.67,114.812 1522.92,115.605 1523.16,118.753 1523.4,125.508 1523.64,140.374 1523.89,170.872 1524.13,217.28 1524.37,259.55 1524.61,270.793 1524.85,250.918 \n",
       "  1525.1,226.341 1525.34,216.305 1525.58,219.817 1525.82,228.852 1526.07,238.713 1526.31,249.228 1526.55,264.566 1526.79,291.17 1527.04,327.106 1527.28,352.406 \n",
       "  1527.52,345.499 1527.76,311.415 1528,275.34 1528.25,252.764 1528.49,242.158 1528.73,237.578 1528.97,236.187 1529.22,237.713 1529.46,242.662 1529.7,251.596 \n",
       "  1529.94,265.154 1530.18,285.345 1530.43,320.343 1530.67,391.104 1530.91,519.668 1531.15,681.656 1531.4,786.987 1531.64,770.052 1531.88,676.676 1532.12,598.887 \n",
       "  1532.36,571.834 1532.61,576.238 1532.85,587.838 1533.09,595.556 1533.33,596.368 1533.58,589.771 1533.82,575.979 1534.06,555.564 1534.3,529.378 1534.54,498.485 \n",
       "  1534.79,464.09 1535.03,427.456 1535.27,389.828 1535.51,352.368 1535.76,316.092 1536,281.841 1536.24,250.249 1536.48,221.749 1536.72,196.575 1536.97,174.789 \n",
       "  1537.21,156.309 1537.45,140.947 1537.69,128.439 1537.94,118.485 1538.18,110.775 1538.42,105.018 1538.66,100.959 1538.9,98.3974 1539.15,97.1962 1539.39,97.2908 \n",
       "  1539.63,98.6913 1539.87,101.483 1540.12,105.824 1540.36,111.938 1540.6,120.103 1540.84,130.636 1541.08,143.873 1541.33,160.142 1541.57,179.728 1541.81,202.841 \n",
       "  1542.05,229.576 1542.3,259.879 1542.54,293.508 1542.78,330.015 1543.02,368.731 1543.26,408.77 1543.51,449.049 1543.75,488.332 1543.99,525.286 1544.23,558.553 \n",
       "  1544.48,586.832 1544.72,608.961 1544.96,623.999 1545.2,631.291 1545.45,630.514 1545.69,621.703 1545.93,605.247 1546.17,581.86 1546.41,552.531 1546.66,518.453 \n",
       "  1546.9,480.946 1547.14,441.369 1547.38,401.042 1547.63,361.176 1547.87,322.817 1548.11,286.81 1548.35,253.78 1548.59,224.134 1548.84,198.071 1549.08,175.609 \n",
       "  1549.32,156.622 1549.56,140.869 1549.81,128.037 1550.05,117.769 1550.29,109.698 1550.53,103.463 1550.77,98.7268 1551.02,95.1904 1551.26,92.5934 1551.5,90.7177 \n",
       "  1551.74,89.385 1551.99,88.4534 1552.23,87.8126 1552.47,87.3788 1552.71,87.0897 1552.95,86.9001 1553.2,86.7775 1553.44,86.6994 1553.68,86.6503 1553.92,86.6198 \n",
       "  1554.17,86.601 1554.41,86.5895 1554.65,86.5824 1554.89,86.578 1555.13,86.5752 1555.38,86.5733 1555.62,86.5718 1555.86,86.5707 1556.1,86.5698 1556.35,86.5689 \n",
       "  1556.59,86.5681 1556.83,86.5673 1557.07,86.5665 1557.31,86.5658 1557.56,86.5651 1557.8,86.5644 1558.04,86.5639 1558.28,86.5635 1558.53,86.5635 1558.77,86.5641 \n",
       "  1559.01,86.5657 1559.25,86.569 1559.49,86.5754 1559.74,86.5866 1559.98,86.6058 1560.22,86.6378 1560.46,86.6898 1560.71,86.7729 1560.95,86.9032 1561.19,87.104 \n",
       "  1561.43,87.4084 1561.67,87.8622 1561.92,88.528 1562.16,89.4887 1562.4,90.8524 1562.64,92.7566 1562.89,95.3717 1563.13,98.9035 1563.37,103.594 1563.61,109.717 \n",
       "  1563.86,117.574 1564.1,127.481 1564.34,139.753 1564.58,154.681 1564.82,172.506 1565.07,193.391 1565.31,217.385 1565.55,244.398 1565.79,274.169 1566.04,306.257 \n",
       "  1566.28,340.026 1566.52,374.658 1566.76,409.177 1567,442.487 1567.25,473.427 1567.49,500.834 1567.73,523.62 1567.97,540.837 1568.22,551.746 1568.46,555.87 \n",
       "  1568.7,553.025 1568.94,543.337 1569.18,527.233 1569.43,505.408 1569.67,478.794 1569.91,448.661 1570.15,417.568 1570.4,392.847 1570.64,391.21 1570.88,429.626 \n",
       "  1571.12,490.619 1571.36,509.784 1571.61,442.673 1571.85,325.998 1572.09,227.477 1572.33,171.837 1572.58,144.938 1572.82,129.876 1573.06,119.24 1573.3,110.998 \n",
       "  1573.54,104.576 1573.79,99.6413 1574.03,95.9138 1574.27,93.1451 1574.51,91.1227 1574.76,89.67 1575,88.644 1575.24,87.9321 1575.48,87.4477 1575.72,87.1263 \n",
       "  1575.97,86.9214 1576.21,86.8015 1576.45,86.7471 1576.69,86.7492 1576.94,86.8086 1577.18,86.9361 1577.42,87.1536 1577.66,87.4963 1577.9,88.0161 1578.15,88.786 \n",
       "  1578.39,89.905 1578.63,91.5048 1578.87,93.7561 1579.12,96.8757 1579.36,101.132 1579.6,106.853 1579.84,114.422 1580.08,124.285 1580.33,136.936 1580.57,152.908 \n",
       "  1580.81,172.75 1581.05,196.995 1581.3,226.121 1581.54,260.502 1581.78,300.358 1582.02,345.706 1582.27,396.314 1582.51,451.685 1582.75,511.056 1582.99,573.439 \n",
       "  1583.23,637.689 1583.48,702.607 1583.72,767.046 1583.96,830.024 1584.2,890.786 1584.45,948.831 1584.69,1003.86 1584.93,1055.66 1585.17,1103.96 1585.41,1148.27 \n",
       "  1585.66,1187.73 1585.9,1221.08 1586.14,1246.71 1586.38,1262.75 1586.63,1267.4 1586.87,1259.12 1587.11,1236.97 1587.35,1200.79 1587.59,1151.4 1587.84,1090.55 \n",
       "  1588.08,1020.91 1588.32,945.845 1588.56,869.183 1588.81,794.937 1589.05,727.018 1589.29,668.969 1589.53,623.744 1589.77,593.536 1590.02,579.667 1590.26,582.532 \n",
       "  1590.5,601.609 1590.74,635.51 1590.99,682.084 1591.23,738.552 1591.47,801.667 1591.71,867.89 1591.95,933.577 1592.2,995.162 1592.44,1049.33 1592.68,1093.19 \n",
       "  1592.92,1124.38 1593.17,1141.23 1593.41,1142.78 1593.65,1128.83 1593.89,1099.92 1594.13,1057.28 1594.38,1002.7 1594.62,938.421 1594.86,866.957 1595.1,790.949 \n",
       "  1595.35,712.999 1595.59,635.529 1595.83,560.674 1596.07,490.201 1596.31,425.471 1596.56,367.428 1596.8,316.625 1597.04,273.264 1597.28,237.263 1597.53,208.314 \n",
       "  1597.77,185.956 1598.01,169.63 1598.25,158.742 1598.5,152.842 1598.74,152.606 1598.98,163.588 1599.22,202.501 1599.46,290.887 1599.71,416.281 1599.95,504.616 \n",
       "  1600.19,486.98 1600.43,390.131 1600.68,298.561 1600.92,254.881 1601.16,246.853 1601.4,251.925 1601.64,258.885 1601.89,264.644 1602.13,268.709 1602.37,271.182 \n",
       "  1602.61,272.38 1602.86,272.789 1603.1,273.035 1603.34,273.864 1603.58,276.091 1603.82,280.551 1604.07,288.032 1604.31,299.211 1604.55,314.585 1604.79,334.41 \n",
       "  1605.04,358.657 1605.28,386.979 1605.52,418.707 1605.76,452.867 1606,488.226 1606.25,523.354 1606.49,556.714 1606.73,586.752 1606.97,612.003 1607.22,631.185 \n",
       "  1607.46,643.281 1607.7,647.609 1607.94,643.859 1608.18,632.11 1608.43,612.814 1608.67,586.759 1608.91,555.003 1609.15,518.8 1609.4,479.51 1609.64,438.515 \n",
       "  1609.88,397.138 1610.12,356.571 1610.36,317.829 1610.61,281.712 1610.85,248.795 1611.09,219.429 1611.33,193.763 1611.58,171.773 1611.82,153.357 1612.06,138.876 \n",
       "  1612.3,131.893 1612.54,146.961 1612.79,215.041 1613.03,354.708 1613.27,508.075 1613.51,553.42 1613.76,445.515 1614,277.855 1614.24,157.832 1614.48,106.021 \n",
       "  1614.72,91.5902 1614.97,89.1264 1615.21,89.3398 1615.45,90.2799 1615.69,91.7594 1615.94,93.876 1616.18,96.787 1616.42,100.686 1616.66,105.798 1616.91,112.372 \n",
       "  1617.15,120.673 1617.39,130.966 1617.63,143.496 1617.87,158.47 1618.12,176.026 1618.36,196.211 1618.6,218.951 1618.84,244.033 1619.09,271.089 1619.33,299.586 \n",
       "  1619.57,328.841 1619.81,358.031 1620.05,386.233 1620.3,412.467 1620.54,435.75 1620.78,455.158 1621.02,469.885 1621.27,479.301 1621.51,482.992 1621.75,480.796 \n",
       "  1621.99,472.809 1622.23,459.382 1622.48,441.096 1622.72,418.715 1622.96,393.141 1623.2,365.345 1623.45,336.315 1623.69,306.993 1623.93,278.23 1624.17,250.749 \n",
       "  1624.41,225.121 1624.66,201.756 1624.9,180.906 1625.14,162.679 1625.38,147.055 1625.63,133.916 1625.87,123.071 1626.11,114.281 1626.35,107.283 1626.59,101.808 \n",
       "  1626.84,97.5981 1627.08,94.4158 1627.32,92.0505 1627.56,90.3216 1627.81,89.0785 1628.05,88.1993 1628.29,87.5875 1628.53,87.1686 1628.77,86.8862 1629.02,86.699 \n",
       "  1629.26,86.5767 1629.5,86.4983 1629.74,86.4489 1629.99,86.4187 1630.23,86.4013 1630.47,86.3927 1630.71,86.3911 1630.95,86.396 1631.2,86.4085 1631.44,86.4316 \n",
       "  1631.68,86.4699 1631.92,86.5308 1632.17,86.6255 1632.41,86.7695 1632.65,86.9848 1632.89,87.3014 1633.13,87.7591 1633.38,88.4101 1633.62,89.3209 1633.86,90.5741 \n",
       "  1634.1,92.2698 1634.35,94.526 1634.59,97.4773 1634.83,101.272 1635.07,106.066 1635.32,112.016 1635.56,119.268 1635.8,127.947 1636.04,138.137 1636.28,149.87 \n",
       "  1636.53,163.11 1636.77,177.738 1637.01,193.544 1637.25,210.223 1637.5,227.381 1637.74,244.541 1637.98,261.163 1638.22,276.674 1638.46,290.496 1638.71,302.082 \n",
       "  1638.95,310.954 1639.19,316.73 1639.43,319.16 1639.68,318.134 1639.92,313.699 1640.16,306.049 1640.4,295.516 1640.64,282.542 1640.89,267.65 1641.13,251.41 \n",
       "  1641.37,234.401 1641.61,217.18 1641.86,200.251 1642.1,184.046 1642.34,168.906 1642.58,155.08 1642.82,142.722 1643.07,131.902 1643.31,122.614 1643.55,114.791 \n",
       "  1643.79,108.326 1644.04,103.078 1644.28,98.8942 1644.52,95.6166 1644.76,93.093 1645,91.1833 1645.25,89.7691 1645.49,88.8256 1645.73,88.9409 1645.97,93.6149 \n",
       "  1646.22,114.164 1646.46,168.719 1646.7,257.207 1646.94,331.223 1647.18,328.292 1647.43,251.068 1647.67,163.615 1647.91,111.319 1648.15,91.9052 1648.4,87.1937 \n",
       "  1648.64,86.427 1648.88,86.3406 1649.12,86.3325 1649.36,86.3309 1649.61,86.33 1649.85,86.3301 1650.09,86.3401 1650.33,86.4472 1650.58,87.1819 1650.82,90.55 \n",
       "  1651.06,100.709 1651.3,120.07 1651.54,140.871 1651.79,147.066 1652.03,132.925 1652.27,110.954 1652.51,95.2921 1652.76,88.5731 1653,86.7118 1653.24,86.3688 \n",
       "  1653.48,86.3258 1653.73,86.3218 1653.97,86.3211 1654.21,86.3207 1654.45,86.3202 1654.69,86.3198 1654.94,86.3193 1655.18,86.3188 1655.42,86.3184 1655.66,86.318 \n",
       "  1655.91,86.3176 1656.15,86.3172 1656.39,86.3169 1656.63,86.3168 1656.87,86.3169 1657.12,86.3174 1657.36,86.3187 1657.6,86.3214 1657.84,86.3262 1658.09,86.3346 \n",
       "  1658.33,86.3489 1658.57,86.3725 1658.81,86.4108 1659.05,86.4718 1659.3,86.567 1659.54,86.7135 1659.78,86.9349 1660.02,87.2641 1660.27,87.7458 1660.51,88.4391 \n",
       "  1660.75,89.4208 1660.99,90.7881 1661.23,92.6611 1661.48,95.1841 1661.72,98.526 1661.96,102.877 1662.2,108.446 1662.45,115.45 1662.69,124.101 1662.93,134.597 \n",
       "  1663.17,147.119 1663.41,161.994 1663.66,180.606 1663.9,207.977 1664.14,254.283 1664.38,324.706 1664.63,398.627 1664.87,435.879 1665.11,423.263 1665.35,391.871 \n",
       "  1665.59,374.971 1665.84,377.311 1666.08,387.969 1666.32,398.308 1666.56,404.975 1666.81,407.062 1667.05,404.395 1667.29,397.083 1667.53,385.447 1667.77,369.987 \n",
       "  1668.02,351.346 1668.26,330.265 1668.5,307.54 1668.74,283.976 1668.99,260.423 1669.23,238.146 1669.47,219.877 1669.71,210.311 1669.95,211.674 1670.2,215.362 \n",
       "  1670.44,205.415 1670.68,177.705 1670.92,145.659 1671.17,122.482 1671.41,109.616 1671.65,102.598 1671.89,98.094 1672.14,94.8257 1672.38,92.3856 1672.62,90.5796 \n",
       "  1672.86,89.2637 1673.1,88.3205 1673.35,87.6554 1673.59,87.194 1673.83,86.879 1674.07,86.6674 1674.32,86.5274 1674.56,86.4361 1674.8,86.3776 1675.04,86.3406 \n",
       "  1675.28,86.3175 1675.53,86.3032 1675.77,86.2945 1676.01,86.2892 1676.25,86.2859 1676.5,86.2839 1676.74,86.2826 1676.98,86.2817 1677.22,86.281 1677.46,86.2805 \n",
       "  1677.71,86.28 1677.95,86.2796 1678.19,86.2792 1678.43,86.2788 1678.68,86.2784 1678.92,86.278 1679.16,86.2776 1679.4,86.2773 1679.64,86.2769 1679.89,86.2765 \n",
       "  1680.13,86.2761 1680.37,86.2758 1680.61,86.2754 1680.86,86.275 1681.1,86.2747 1681.34,86.2744 1681.58,86.2742 1681.82,86.274 1682.07,86.2741 1682.31,86.2745 \n",
       "  1682.55,86.2756 1682.79,86.2779 1683.04,86.2823 1683.28,86.2902 1683.52,86.3039 1683.76,86.3274 1684,86.3668 1684.25,86.4315 1684.49,86.536 1684.73,86.702 \n",
       "  1684.97,86.9616 1685.22,87.3607 1685.46,87.9649 1685.7,88.8651 1685.94,90.1945 1686.18,92.2454 1686.43,96.3213 1686.67,108.636 1686.91,149.173 1687.15,251.555 \n",
       "  1687.4,420.095 1687.64,571.589 1687.88,589.723 1688.12,472.429 1688.36,336.021 1688.61,269.457 1688.85,278.457 1689.09,349.23 1689.33,484.814 1689.58,661.705 \n",
       "  1689.82,794.98 1690.06,815.321 1690.3,761.232 1690.55,723.215 1690.79,737.967 1691.03,786.348 1691.27,843.097 1691.51,895.812 1691.76,939.902 1692,973.177 \n",
       "  1692.24,994.212 1692.48,1002.15 1692.73,996.751 1692.97,978.411 1693.21,948.169 1693.45,907.646 1693.69,858.952 1693.94,804.554 1694.18,747.124 1694.42,689.364 \n",
       "  1694.66,633.838 1694.91,582.811 1695.15,538.119 1695.39,501.066 1695.63,472.369 1695.87,452.151 1696.12,439.974 1696.36,434.913 1696.6,435.663 1696.84,440.659 \n",
       "  1697.09,448.206 1697.33,456.608 1697.57,464.276 1697.81,469.825 1698.05,472.142 1698.3,470.428 1698.54,464.222 1698.78,453.391 1699.02,438.107 1699.27,418.807 \n",
       "  1699.51,396.133 1699.75,370.874 1699.99,343.895 1700.23,316.08 1700.48,288.27 1700.72,261.22 1700.96,235.564 1701.2,211.793 1701.45,190.249 1701.69,171.131 \n",
       "  1701.93,154.503 1702.17,140.322 1702.41,128.453 1702.66,118.702 1702.9,110.835 1703.14,104.599 1703.38,99.7413 1703.63,96.0223 1703.87,93.2231 1704.11,91.1513 \n",
       "  1704.35,89.6432 1704.59,88.5634 1704.84,87.8029 1705.08,87.2758 1705.32,86.9164 1705.56,86.6751 1705.81,86.5158 1706.05,86.4121 1706.29,86.3458 1706.53,86.3039 \n",
       "  1706.77,86.2778 1707.02,86.2618 1707.26,86.252 1707.5,86.2462 1707.74,86.2426 1707.99,86.2405 1708.23,86.2392 1708.47,86.2383 1708.71,86.2377 1708.96,86.2372 \n",
       "  1709.2,86.2369 1709.44,86.2365 1709.68,86.2362 1709.92,86.2359 1710.17,86.2356 1710.41,86.2354 1710.65,86.2351 1710.89,86.2348 1711.14,86.235 1711.38,86.2426 \n",
       "  1711.62,86.3328 1711.86,87.043 1712.1,90.8019 1712.35,103.999 1712.59,133.83 1712.83,174.084 1713.07,197.941 1713.32,184.09 1713.56,145.29 1713.8,110.787 \n",
       "  1714.04,93.2648 1714.28,87.619 1714.53,86.4194 1714.77,86.2482 1715.01,86.2314 1715.25,86.23 1715.5,86.2297 1715.74,86.2294 1715.98,86.2292 1716.22,86.2289 \n",
       "  1716.46,86.2287 1716.71,86.2284 1716.95,86.2282 1717.19,86.228 1717.43,86.2278 1717.68,86.2277 1717.92,86.2278 1718.16,86.2281 1718.4,86.229 1718.64,86.2307 \n",
       "  1718.89,86.2338 1719.13,86.2396 1719.37,86.2496 1719.61,86.2667 1719.86,86.2952 1720.1,86.342 1720.34,86.4176 1720.58,86.5376 1720.82,86.7248 1721.07,87.0125 \n",
       "  1721.31,87.4474 1721.55,88.0944 1721.79,89.0413 1722.04,90.4048 1722.28,92.3365 1722.52,95.0286 1722.76,98.7185 1723,103.692 1723.25,110.285 1723.49,118.875 \n",
       "  1723.73,129.876 1723.97,143.721 1724.22,160.835 1724.46,181.612 1724.7,206.369 1724.94,235.313 1725.19,268.493 1725.43,305.761 1725.67,346.736 1725.91,390.785 \n",
       "  1726.15,437.014 1726.4,484.284 1726.64,531.24 1726.88,576.375 1727.12,618.101 1727.37,654.84 1727.61,685.123 1727.85,707.687 1728.09,721.561 1728.33,726.135 \n",
       "  1728.58,721.206 1728.82,706.994 1729.06,684.121 1729.3,653.572 1729.55,616.618 1729.79,574.736 1730.03,529.504 1730.27,482.509 1730.51,435.255 1730.76,389.087 \n",
       "  1731,345.138 1731.24,304.292 1731.48,267.171 1731.73,234.148 1731.97,205.362 1732.21,180.758 1732.45,160.124 1732.69,143.139 1732.94,129.408 1733.18,118.504 \n",
       "  1733.42,109.996 1733.66,103.47 1733.91,98.5496 1734.15,94.9019 1734.39,92.2426 1734.63,90.3362 1734.87,88.9927 1735.12,88.0626 1735.36,87.4314 1735.6,87.014 \n",
       "  1735.84,86.7491 1736.09,86.5959 1736.33,86.5472 1736.57,86.7869 1736.81,88.6294 1737.05,97.5975 1737.3,126.855 1737.54,188.205 1737.78,263.605 1738.02,299.525 \n",
       "  1738.27,264.019 1738.51,190.409 1738.75,132.065 1738.99,106.296 1739.23,101.175 1739.48,103.865 1739.72,109.166 1739.96,115.984 1740.2,124.289 1740.45,134.191 \n",
       "  1740.69,145.775 1740.93,159.06 1741.17,173.99 1741.41,190.415 1741.66,208.083 1741.9,226.638 1742.14,245.624 1742.38,264.5 1742.63,282.661 1742.87,299.469 \n",
       "  1743.11,314.29 1743.35,326.532 1743.6,335.685 1743.84,341.355 1744.08,343.294 1744.32,341.414 1744.56,335.801 1744.81,326.699 1745.05,314.502 1745.29,299.716 \n",
       "  1745.53,282.934 1745.78,264.79 1746.02,245.921 1746.26,226.948 1746.5,208.575 1746.74,192.479 1746.99,184.824 1747.23,202.165 1747.47,265.437 1747.71,363.297 \n",
       "  1747.96,426.244 1748.2,389.853 1748.44,280.096 1748.68,177.076 1748.92,120.975 1749.17,100.252 1749.41,93.8136 1749.65,91.2625 1749.89,89.7294 1750.14,88.6484 \n",
       "  1750.38,87.8761 1750.62,87.3326 1750.86,86.9577 1751.1,86.7059 1751.35,86.544 1751.59,86.4491 1751.83,86.4076 1752.07,86.4136 1752.32,86.4694 1752.56,86.5855 \n",
       "  1752.8,86.7818 1753.04,87.09 1753.28,87.5561 1753.53,88.2442 1753.77,89.2405 1754.01,90.6578 1754.25,92.6406 1754.5,95.3683 1754.74,99.0588 1754.98,103.969 \n",
       "  1755.22,110.391 1755.46,118.647 1755.71,129.08 1755.95,142.029 1756.19,157.816 1756.43,176.711 1756.68,198.899 1756.92,224.453 1757.16,253.292 1757.4,285.16 \n",
       "  1757.64,319.6 1757.89,355.951 1758.13,393.355 1758.37,430.8 1758.61,467.352 1758.86,503.345 1759.1,544.364 1759.34,606.5 1759.58,707.135 1759.82,827.821 \n",
       "  1760.07,897.439 1760.31,860.207 1760.55,748.691 1760.79,639.939 1761.04,569.899 1761.28,527.345 1761.52,493.549 1761.76,460.182 1762.01,426.029 1762.25,392.039 \n",
       "  1762.49,359.508 1762.73,329.704 1762.97,303.79 1763.22,282.804 1763.46,267.631 1763.7,258.994 1763.94,257.439 1764.19,263.318 1764.43,276.775 1764.67,297.731 \n",
       "  1764.91,325.863 1765.15,360.593 1765.4,401.08 1765.64,446.219 1765.88,494.657 1766.12,544.825 1766.37,594.987 1766.61,643.315 1766.85,687.98 1767.09,727.253 \n",
       "  1767.33,759.62 1767.58,783.896 1767.82,799.325 1768.06,805.656 1768.3,803.187 1768.55,792.763 1768.79,775.725 1769.03,753.807 1769.27,728.994 1769.51,703.341 \n",
       "  1769.76,678.785 1770,656.969 1770.24,639.096 1770.48,625.834 1770.73,617.291 1770.97,613.055 1771.21,612.29 1771.45,613.891 1771.69,616.653 1771.94,619.454 \n",
       "  1772.18,621.422 1772.42,622.064 1772.66,621.346 1772.91,619.726 1773.15,618.118 1773.39,617.799 1773.63,620.268 1773.87,627.064 1774.12,639.562 1774.36,658.776 \n",
       "  1774.6,685.183 1774.84,718.601 1775.09,758.131 1775.33,802.182 1775.57,848.568 1775.81,894.675 1776.05,937.673 1776.3,974.753 1776.54,1003.35 1776.78,1021.36 \n",
       "  1777.02,1027.26 1777.27,1020.22 1777.51,1000.17 1777.75,967.696 1777.99,924.018 1778.23,870.851 1778.48,810.262 1778.72,744.516 1778.96,675.92 1779.2,606.681 \n",
       "  1779.45,538.794 1779.69,473.955 1779.93,413.502 1780.17,358.394 1780.42,309.222 1780.66,266.233 1780.9,229.383 1781.14,198.392 1781.38,172.809 1781.63,152.07 \n",
       "  1781.87,135.556 1782.11,122.634 1782.35,112.696 1782.6,105.183 1782.84,99.5978 1783.08,95.5147 1783.32,92.5787 1783.56,90.5021 1783.81,89.057 1784.05,88.0675 \n",
       "  1784.29,87.4009 1784.53,86.959 1784.78,86.6706 1785.02,86.4854 1785.26,86.3683 1785.5,86.2954 1785.74,86.2508 1785.99,86.2238 1786.23,86.2078 1786.47,86.1985 \n",
       "  1786.71,86.1931 1786.96,86.19 1787.2,86.1883 1787.44,86.1873 1787.68,86.1868 1787.92,86.1865 1788.17,86.1863 1788.41,86.1862 1788.65,86.1861 1788.89,86.1861 \n",
       "  1789.14,86.1861 1789.38,86.186 1789.62,86.186 1789.86,86.186 1790.1,86.1859 1790.35,86.1859 1790.59,86.1859 1790.83,86.1859 1791.07,86.1859 1791.32,86.1858 \n",
       "  1791.56,86.1858 1791.8,86.1858 1792.04,86.1858 1792.28,86.1858 1792.53,86.1858 1792.77,86.1857 1793.01,86.1857 1793.25,86.1857 1793.5,86.1857 1793.74,86.1857 \n",
       "  1793.98,86.1857 1794.22,86.1857 1794.46,86.1857 1794.71,86.1857 1794.95,86.1857 1795.19,86.1857 1795.43,86.1858 1795.68,86.1859 1795.92,86.1861 1796.16,86.1866 \n",
       "  1796.4,86.1874 1796.64,86.1888 1796.89,86.1915 1797.13,86.196 1797.37,86.2039 1797.61,86.2173 1797.86,86.2396 1798.1,86.2762 1798.34,86.3355 1798.58,86.43 \n",
       "  1798.83,86.5781 1799.07,86.8067 1799.31,87.1538 1799.55,87.6727 1799.79,88.4357 1800.04,89.54 1800.28,91.1122 1800.52,93.3143 1800.76,96.3481 1801.01,100.459 \n",
       "  1801.25,105.935 1801.49,113.109 1801.73,122.346 1801.97,134.033 1802.22,148.56 1802.46,166.296 1802.7,187.552 1802.94,212.551 1803.19,241.384 1803.43,273.977 \n",
       "  1803.67,310.052 1803.91,349.109 1804.15,390.412 1804.4,432.996 1804.64,475.691 1804.88,517.171 1805.12,556.013 1805.37,590.778 1805.61,620.098 1805.85,642.764 \n",
       "  1806.09,657.809 1806.33,664.576 1806.58,662.764 1806.82,652.456 1807.06,634.106 1807.3,608.51 1807.55,576.748 1807.79,540.111 1808.03,500.012 1808.27,457.903 \n",
       "  1808.51,415.189 1808.76,373.158 1809,332.93 1809.24,295.423 1809.48,261.342 1809.73,231.186 1809.97,205.273 1810.21,183.774 1810.45,166.76 1810.69,154.247 \n",
       "  1810.94,146.244 1811.18,142.783 1811.42,143.958 1811.66,149.933 1811.91,160.952 1812.15,177.317 1812.39,199.368 1812.63,227.436 1812.87,261.791 1813.12,302.575 \n",
       "  1813.36,349.743 1813.6,402.993 1813.84,461.716 1814.09,524.96 1814.33,591.414 1814.57,659.425 1814.81,727.045 1815.05,792.114 1815.3,852.367 1815.54,905.569 \n",
       "  1815.78,949.666 1816.02,982.94 1816.27,1004.16 1816.51,1012.69 1816.75,1008.62 1816.99,992.775 1817.24,966.728 1817.48,932.716 1817.72,893.501 1817.96,852.177 \n",
       "  1818.2,811.922 1818.45,775.73 1818.69,746.164 1818.93,725.205 1819.17,714.459 1819.42,716.013 1819.66,732.705 1819.9,764.147 1820.14,800.516 1820.38,827.52 \n",
       "  1820.63,842.084 1820.87,854.079 1821.11,871.518 1821.35,893.796 1821.6,917.273 1821.84,940.01 1822.08,961.908 1822.32,983.657 1822.56,1006.13 1822.81,1030.08 \n",
       "  1823.05,1055.95 1823.29,1083.68 1823.53,1112.55 1823.78,1141.18 1824.02,1167.53 1824.26,1189.12 1824.5,1203.29 1824.74,1207.51 1824.99,1199.73 1825.23,1178.64 \n",
       "  1825.47,1143.82 1825.71,1095.78 1825.96,1035.93 1826.2,966.349 1826.44,889.605 1826.68,808.483 1826.92,725.758 1827.17,643.998 1827.41,565.414 1827.65,491.777 \n",
       "  1827.89,424.372 1828.14,364.011 1828.38,311.069 1828.62,265.544 1828.86,227.14 1829.1,195.336 1829.35,169.471 1829.59,148.804 1829.83,132.576 1830.07,120.049 \n",
       "  1830.32,110.543 1830.56,103.448 1830.8,98.2408 1831.04,94.4812 1831.28,91.8108 1831.53,89.9448 1831.77,88.6618 1832.01,87.7939 1832.25,87.2161 1832.5,86.8378 \n",
       "  1832.74,86.5944 1832.98,86.441 1833.22,86.3526 1833.46,86.3867 1833.71,87.2627 1833.95,93.4445 1834.19,121.902 1834.43,208.353 1834.68,376.406 1834.92,568.994 \n",
       "  1835.16,668.86 1835.4,661.279 1835.65,632.318 1835.89,565.208 1836.13,414.812 1836.37,248.77 1836.61,144.037 1836.86,103.008 1837.1,93.3668 1837.34,93.1908 \n",
       "  1837.58,95.1796 1837.83,97.9274 1838.07,101.319 1838.31,105.404 1838.55,110.231 1838.79,115.827 1839.04,122.185 1839.28,129.261 1839.52,136.965 1839.76,145.163 \n",
       "  1840.01,153.671 1840.25,162.264 1840.49,170.683 1840.73,178.645 1840.97,185.862 1841.22,192.052 1841.46,196.963 1841.7,200.387 1841.94,202.176 1842.19,202.25 \n",
       "  1842.43,200.606 1842.67,197.317 1842.91,192.526 1843.15,186.436 1843.4,179.297 1843.64,171.387 1843.88,162.996 1844.12,154.407 1844.37,145.883 1844.61,137.652 \n",
       "  1844.85,129.899 1845.09,122.767 1845.33,116.372 1845.58,111.007 1845.82,108.462 1846.06,116.803 1846.3,157.428 1846.55,254.75 1846.79,388.406 1847.03,468.122 \n",
       "  1847.27,421.074 1847.51,289.324 1847.76,171.679 1848,111.543 1848.24,91.8776 1848.48,87.4804 1848.73,86.6859 1848.97,86.4854 1849.21,86.3843 1849.45,86.3193 \n",
       "  1849.69,86.2767 1849.94,86.2493 1850.18,86.2319 1850.42,86.221 1850.66,86.2144 1850.91,86.2105 1851.15,86.2082 1851.39,86.2069 1851.63,86.2063 1851.88,86.206 \n",
       "  1852.12,86.2059 1852.36,86.2059 1852.6,86.206 1852.84,86.2061 1853.09,86.2063 1853.33,86.2064 1853.57,86.2066 1853.81,86.2068 1854.06,86.207 1854.3,86.2072 \n",
       "  1854.54,86.2073 1854.78,86.2075 1855.02,86.2077 1855.27,86.2079 1855.51,86.2081 1855.75,86.2083 1855.99,86.2085 1856.24,86.2086 1856.48,86.2088 1856.72,86.209 \n",
       "  1856.96,86.2092 1857.2,86.2094 1857.45,86.2096 1857.69,86.2098 1857.93,86.21 1858.17,86.2102 1858.42,86.2104 1858.66,86.2106 1858.9,86.2109 1859.14,86.2112 \n",
       "  1859.38,86.2119 1859.63,86.2186 1859.87,86.2937 1860.11,86.899 1860.35,90.2074 1860.6,102.239 1860.84,130.516 1861.08,170.596 1861.32,196.944 1861.56,186.331 \n",
       "  1861.81,148.602 1862.05,113.05 1862.29,94.2636 1862.53,88.0431 1862.78,86.7666 1863.02,86.7147 1863.26,86.9068 1863.5,87.1972 1863.74,87.5914 1863.99,88.1151 \n",
       "  1864.23,88.799 1864.47,89.677 1864.71,90.7846 1864.96,92.1573 1865.2,93.8279 1865.44,95.8239 1865.68,98.1638 1865.92,100.854 1866.17,103.884 1866.41,107.226 \n",
       "  1866.65,110.83 1866.89,114.626 1867.14,118.522 1867.38,122.41 1867.62,126.165 1867.86,129.657 1868.1,132.756 1868.35,135.338 1868.59,137.297 1868.83,138.547 \n",
       "  1869.07,139.036 1869.32,138.74 1869.56,137.673 1869.8,135.882 1870.04,133.445 1870.29,130.462 1870.53,127.055 1870.77,123.353 1871.01,119.487 1871.25,115.583 \n",
       "  1871.5,111.753 1871.74,108.095 1871.98,104.683 1872.22,101.574 1872.47,98.799 1872.71,96.3736 1872.95,94.2948 1873.19,92.5469 1873.43,91.1043 1873.68,89.9353 \n",
       "  1873.92,89.0046 1874.16,88.2767 1874.4,87.7171 1874.65,87.2941 1874.89,86.9799 1875.13,86.7503 1875.37,86.5854 1875.61,86.4688 1875.86,86.3878 1876.1,86.3324 \n",
       "  1876.34,86.2952 1876.58,86.2707 1876.83,86.2548 1877.07,86.2447 1877.31,86.2386 1877.55,86.2351 1877.79,86.2335 1878.04,86.2333 1878.28,86.2346 1878.52,86.2375 \n",
       "  1878.76,86.243 1879.01,86.2521 1879.25,86.2671 1879.49,86.2912 1879.73,86.3293 1879.97,86.3887 1880.22,86.4797 1880.46,86.6172 1880.7,86.8216 1880.94,87.1207 \n",
       "  1881.19,87.5513 1881.43,88.1613 1881.67,89.0114 1881.91,90.1767 1882.15,91.7477 1882.4,93.8302 1882.64,96.5442 1882.88,100.021 1883.12,104.396 1883.37,109.806 \n",
       "  1883.61,116.375 1883.85,124.205 1884.09,133.36 1884.33,143.858 1884.58,155.652 1884.82,168.622 1885.06,182.569 1885.3,197.211 1885.55,212.187 1885.79,227.069 \n",
       "  1886.03,241.38 1886.27,254.616 1886.51,266.278 1886.76,275.9 1887,283.08 1887.24,287.509 1887.48,288.994 1887.73,287.467 1887.97,282.998 1888.21,275.782 \n",
       "  1888.45,266.129 1888.7,254.442 1888.94,241.187 1889.18,226.865 1889.42,211.98 1889.66,197.006 1889.91,182.373 1890.15,168.438 1890.39,155.485 1890.63,143.711 \n",
       "  1890.88,133.235 1891.12,124.103 1891.36,116.3 1891.6,109.762 1891.84,104.391 1892.09,100.068 1892.33,96.6676 1892.57,94.0673 1892.81,92.1589 1893.06,90.8556 \n",
       "  1893.3,90.1002 1893.54,89.8715 1893.78,90.1915 1894.02,91.1325 1894.27,92.8258 1894.51,95.4698 1894.75,99.3393 1894.99,104.794 1895.24,112.283 1895.48,122.349 \n",
       "  1895.72,135.625 1895.96,152.816 1896.2,174.686 1896.45,202.014 1896.69,235.551 1896.93,275.958 1897.17,323.737 1897.42,379.152 1897.66,442.154 1897.9,512.31 \n",
       "  1898.14,588.749 1898.38,670.135 1898.63,754.664 1898.87,840.111 1899.11,923.902 1899.35,1003.24 1899.6,1075.23 1899.84,1137.11 1900.08,1186.33 1900.32,1220.82 \n",
       "  1900.56,1239.08 1900.81,1240.3 1901.05,1224.44 1901.29,1192.18 1901.53,1144.95 1901.78,1084.73 1902.02,1014.01 1902.26,935.548 1902.5,852.219 1902.74,766.848 \n",
       "  1902.99,682.048 1903.23,600.104 1903.47,522.884 1903.71,451.796 1903.96,387.782 1904.2,331.342 1904.44,282.587 1904.68,241.308 1904.92,207.053 1905.17,179.204 \n",
       "  1905.41,157.051 1905.65,139.854 1905.89,126.893 1906.14,117.501 1906.38,111.094 1906.62,107.175 1906.86,105.339 1907.11,105.266 1907.35,106.707 1907.59,109.472 \n",
       "  1907.83,113.405 1908.07,118.375 1908.32,124.253 1908.56,130.9 1908.8,138.157 1909.04,145.835 1909.29,153.717 1909.53,161.56 1909.77,169.097 1910.01,176.056 \n",
       "  1910.25,182.169 1910.5,187.187 1910.74,190.898 1910.98,193.144 1911.22,193.823 1911.47,192.907 1911.71,190.437 1911.95,186.523 1912.19,181.334 1912.43,175.091 \n",
       "  1912.68,168.049 1912.92,160.481 1913.16,152.667 1913.4,144.878 1913.65,137.365 1913.89,130.357 1914.13,124.055 1914.37,118.64 1914.61,114.274 1914.86,111.114 \n",
       "  1915.1,109.325 1915.34,109.086 1915.58,110.608 1915.83,114.141 1916.07,119.972 1916.31,128.433 1916.55,139.883 1916.79,154.695 1917.04,173.23 1917.28,195.803 \n",
       "  1917.52,222.642 1917.76,253.845 1918.01,289.338 1918.25,328.836 1918.49,371.81 1918.73,417.474 1918.97,464.788 1919.22,512.48 1919.46,559.091 1919.7,603.045 \n",
       "  1919.94,642.733 1920.19,676.607 1920.43,703.278 1920.67,721.615 1920.91,730.819 1921.15,730.482 1921.4,720.62 1921.64,701.668 1921.88,674.451 1922.12,640.121 \n",
       "  1922.37,600.079 1922.61,555.881 1922.85,509.135 1923.09,461.41 1923.33,414.148 1923.58,368.602 1923.82,325.786 1924.06,286.459 1924.3,251.114 1924.55,220.003 \n",
       "  1924.79,193.16 1925.03,170.442 1925.27,151.573 1925.52,136.187 1925.76,123.863 1926,114.165 1926.24,106.665 1926.48,100.963 1926.73,96.7011 1926.97,93.5687 \n",
       "  1927.21,91.3044 1927.45,89.6945 1927.7,88.5683 1927.94,87.7934 1928.18,87.2687 1928.42,86.9191 1928.66,86.69 1928.91,86.5423 1929.15,86.4493 1929.39,86.4031 \n",
       "  1929.63,86.5269 1929.88,87.9215 1930.12,96.3981 1930.36,130.356 1930.6,218.912 1930.84,361.351 1931.09,479.336 1931.33,473.225 1931.57,348.721 1931.81,208.917 \n",
       "  1932.06,125.774 1932.3,95.0588 1932.54,87.6439 1932.78,86.4478 1933.02,86.3177 1933.27,86.3084 1933.51,86.3084 1933.75,86.3088 1933.99,86.3092 1934.24,86.3097 \n",
       "  1934.48,86.3101 1934.72,86.3106 1934.96,86.311 1935.2,86.3114 1935.45,86.3119 1935.69,86.3123 1935.93,86.3128 1936.17,86.3132 1936.42,86.3137 1936.66,86.3141 \n",
       "  1936.9,86.3146 1937.14,86.315 1937.38,86.3155 1937.63,86.3159 1937.87,86.3163 1938.11,86.3168 1938.35,86.3173 1938.6,86.3177 1938.84,86.3182 1939.08,86.3186 \n",
       "  1939.32,86.3191 1939.56,86.3195 1939.81,86.32 1940.05,86.3204 1940.29,86.3209 1940.53,86.3213 1940.78,86.3218 1941.02,86.3223 1941.26,86.3227 1941.5,86.3232 \n",
       "  1941.74,86.3237 1941.99,86.3241 1942.23,86.3246 1942.47,86.325 1942.71,86.3255 1942.96,86.326 1943.2,86.3264 1943.44,86.3269 1943.68,86.3274 1943.93,86.3279 \n",
       "  1944.17,86.3283 1944.41,86.3288 1944.65,86.3293 1944.89,86.3298 1945.14,86.3304 1945.38,86.3311 1945.62,86.3319 1945.86,86.333 1946.11,86.3348 1946.35,86.3375 \n",
       "  1946.59,86.342 1946.83,86.3495 1947.07,86.3622 1947.32,86.3834 1947.56,86.4188 1947.8,86.4772 1948.04,86.5791 1948.29,86.8378 1948.53,88.1117 1948.77,95.2053 \n",
       "  1949.01,124.969 1949.25,208.928 1949.5,358.306 1949.74,504.287 1949.98,530.978 1950.22,416.115 1950.47,262.545 1950.71,164.93 1950.95,132.163 1951.19,133.357 \n",
       "  1951.43,147.153 1951.68,166.889 1951.92,191.817 1952.16,222.446 1952.4,259.371 1952.65,303.061 1952.89,353.767 1953.13,411.454 1953.37,475.737 1953.61,545.832 \n",
       "  1953.86,620.522 1954.1,698.167 1954.34,776.73 1954.58,853.855 1954.83,926.974 1955.07,993.437 1955.31,1050.67 1955.55,1096.36 1955.79,1128.55 1956.04,1145.86 \n",
       "  1956.28,1147.53 1956.52,1133.47 1956.76,1104.32 1957.01,1061.33 1957.25,1006.35 1957.49,941.618 1957.73,869.683 1957.97,793.183 1958.22,714.719 1958.46,636.701 \n",
       "  1958.7,561.239 1958.94,490.062 1959.19,424.476 1959.43,365.356 1959.67,313.168 1959.91,268.014 1960.15,229.697 1960.4,197.79 1960.64,171.704 1960.88,150.758 \n",
       "  1961.12,134.234 1961.37,121.424 1961.61,111.663 1961.85,104.349 1962.09,98.961 1962.34,95.057 1962.58,92.2746 1962.82,90.3239 1963.06,88.9785 1963.3,88.0655 \n",
       "  1963.55,87.456 1963.79,87.0559 1964.03,86.7978 1964.27,86.6348 1964.52,86.5348 1964.76,86.4769 1965,86.4481 1965.24,86.4418 1965.48,86.4565 1965.73,86.4955 \n",
       "  1965.97,86.5679 1966.21,86.6895 1966.45,86.8857 1966.7,87.1947 1966.94,87.6728 1967.18,88.4073 1967.42,89.5969 1967.66,92.0673 1967.91,99.3253 1968.15,121.263 \n",
       "  1968.39,171.384 1968.63,245.167 1968.88,301.827 1969.12,299.879 1969.36,252.534 1969.6,210.318 1969.84,201.406 1970.09,220.64 1970.33,255.553 1970.57,300.099 \n",
       "  1970.81,352.939 1971.06,413.979 1971.3,483.043 1971.54,559.563 1971.78,642.493 1972.02,730.289 1972.27,820.915 1972.51,911.9 1972.75,1000.43 1972.99,1083.48 \n",
       "  1973.24,1157.98 1973.48,1221.02 1973.72,1269.99 1973.96,1302.8 1974.2,1318.03 1974.45,1315 1974.69,1293.85 1974.93,1255.51 1975.17,1201.63 1975.42,1134.5 \n",
       "  1975.66,1056.84 1975.9,971.643 1976.14,881.976 1976.38,790.814 1976.63,700.871 1976.87,614.482 1977.11,533.525 1977.35,459.378 1977.6,392.924 1977.84,334.584 \n",
       "  1978.08,284.375 1978.32,241.987 1978.57,206.867 1978.81,178.294 1979.05,155.462 1979.29,137.536 1979.53,123.703 1979.78,113.211 1980.02,105.387 1980.26,99.6491 \n",
       "  1980.5,95.5124 1980.75,92.5806 1980.99,90.5401 1981.23,89.1487 1981.47,88.2253 1981.71,87.6389 1981.96,87.3003 1982.2,87.1544 1982.44,87.1755 1982.68,87.3651 \n",
       "  1982.93,87.7506 1983.17,88.3882 1983.41,89.3656 1983.65,90.8082 1983.89,92.8855 1984.14,95.8183 1984.38,99.886 1984.62,105.432 1984.86,112.866 1985.11,122.662 \n",
       "  1985.35,135.353 1985.59,151.511 1985.83,171.722 1986.07,196.555 1986.32,226.513 1986.56,261.984 1986.8,303.18 1987.04,350.084 1987.29,402.393 1987.53,459.477 \n",
       "  1987.77,520.357 1988.01,583.706 1988.25,647.872 1988.5,710.939 1988.74,770.814 1988.98,825.333 1989.22,872.392 1989.47,910.081 1989.71,936.807 1989.95,951.411 \n",
       "  1990.19,953.249 1990.43,942.24 1990.68,918.871 1990.92,884.161 1991.16,839.589 1991.4,786.987 1991.65,728.423 1991.89,666.096 1992.13,602.422 1992.37,540.716 \n",
       "  1992.61,486.235 1992.86,444.258 1993.1,412.053 1993.34,375.422 1993.58,323.938 1993.83,265.767 1994.07,216.467 1994.31,181.59 1994.55,157.467 1994.79,139.68 \n",
       "  1995.04,125.99 1995.28,115.419 1995.52,107.363 1995.76,101.325 1996.01,96.873 1996.25,93.6456 1996.49,91.3441 1996.73,89.7296 1996.98,88.6153 1997.22,87.8588 \n",
       "  1997.46,87.3534 1997.7,87.0212 1997.94,86.8064 1998.19,86.6697 1998.43,86.5843 1998.67,86.5318 1998.91,86.5002 1999.16,86.4815 1999.4,86.4709 1999.64,86.4651 \n",
       "  1999.88,86.4622 2000.12,86.4613 2000.37,86.4618 2000.61,86.4636 2000.85,86.4671 2001.09,86.4732 2001.34,86.4836 2001.58,86.5009 2001.82,86.5297 2002.06,86.5769 \n",
       "  2002.3,86.6534 2002.55,86.7757 2002.79,86.9683 2003.03,87.2673 2003.27,87.7241 2003.52,88.4112 2003.76,89.4285 2004,90.9105 2004.24,93.0352 2004.48,96.0318 \n",
       "  2004.73,100.189 2004.97,105.863 2005.21,113.477 2005.45,123.525 2005.7,136.559 2005.94,153.176 2006.18,173.994 2006.42,199.613 2006.66,230.571 2006.91,267.291 \n",
       "  2007.15,310.02 2007.39,358.77 2007.63,413.258 2007.88,472.868 2008.12,536.615 2008.36,603.148 2008.6,670.775 2008.84,737.517 2009.09,801.203 2009.33,859.587 \n",
       "  2009.57,910.489 2009.81,951.952 2010.06,982.391 2010.3,1000.73 2010.54,1006.52 2010.78,999.967 2011.02,981.973 2011.27,954.097 2011.51,918.592 2011.75,878.453 \n",
       "  2011.99,836.855 2012.24,795.359 2012.48,753.004 2012.72,709.167 2012.96,666.467 2013.2,628.49 2013.45,596.327 2013.69,568.829 2013.93,544.434 2014.17,521.882 \n",
       "  2014.42,500.157 2014.66,478.421 2014.9,456.039 2015.14,432.616 2015.39,408.007 2015.63,382.291 2015.87,355.74 2016.11,328.76 2016.35,301.834 2016.6,275.476 \n",
       "  2016.84,250.173 2017.08,226.356 2017.32,204.37 2017.57,184.461 2017.81,166.771 2018.05,151.341 2018.29,138.128 2018.53,127.016 2018.78,117.836 2019.02,110.385 \n",
       "  2019.26,104.44 2019.5,99.7794 2019.75,96.1865 2019.99,93.4633 2020.23,91.4336 2020.47,89.9458 2020.71,88.8731 2020.96,88.1124 2021.2,87.5816 2021.44,87.2174 \n",
       "  2021.68,86.9714 2021.93,86.8081 2022.17,86.7015 2022.41,86.6331 2022.65,86.59 2022.89,86.5633 2023.14,86.5473 2023.38,86.5378 2023.62,86.5325 2023.86,86.5297 \n",
       "  2024.11,86.5283 2024.35,86.5279 2024.59,86.528 2024.83,86.5284 2025.07,86.529 2025.32,86.5296 2025.56,86.5304 2025.8,86.5314 2026.04,86.5325 2026.29,86.5338 \n",
       "  2026.53,86.5357 2026.77,86.5384 2027.01,86.5423 2027.25,86.5483 2027.5,86.5575 2027.74,86.5716 2027.98,86.5933 2028.22,86.6262 2028.47,86.6756 2028.71,86.7488 \n",
       "  2028.95,86.8556 2029.19,87.0093 2029.43,87.2269 2029.68,87.53 2029.92,87.9457 2030.16,88.5062 2030.4,89.2495 2030.65,90.2187 2030.89,91.461 2031.13,93.0255 \n",
       "  2031.37,94.9614 2031.61,97.3136 2031.86,100.119 2032.1,103.403 2032.34,107.17 2032.58,111.407 2032.83,116.071 2033.07,121.09 2033.31,126.366 2033.55,131.768 \n",
       "  2033.8,137.143 2034.04,142.319 2034.28,147.116 2034.52,151.352 2034.76,154.858 2035.01,157.49 2035.25,159.132 2035.49,159.715 2035.73,159.211 2035.98,157.643 \n",
       "  2036.22,155.08 2036.46,151.632 2036.7,147.444 2036.94,142.683 2037.19,137.529 2037.43,132.164 2037.67,126.76 2037.91,121.473 2038.16,116.433 2038.4,111.743 \n",
       "  2038.64,107.477 2038.88,103.677 2039.12,100.363 2039.37,97.5281 2039.61,95.1513 2039.85,93.1974 2040.09,91.624 2040.34,90.3859 2040.58,89.4392 2040.82,88.7453 \n",
       "  2041.06,88.2735 2041.3,88.0039 2041.55,87.9307 2041.79,88.0643 2042.03,88.4374 2042.27,89.1412 2042.52,90.6387 2042.76,95.5483 2043,114.282 2043.24,170.723 \n",
       "  2043.48,284.505 2043.73,420.154 2043.97,482.331 2044.21,420.481 2044.45,298.782 2044.7,209.554 2044.94,178.99 2045.18,184.691 2045.42,204.66 2045.66,230.154 \n",
       "  2045.91,259.044 2046.15,290.723 2046.39,324.649 2046.63,360.107 2046.88,396.197 2047.12,431.863 2047.36,465.943 2047.6,497.219 2047.84,524.499 2048.09,546.682 \n",
       "  2048.33,562.838 2048.57,572.267 2048.81,574.557 2049.06,569.604 2049.3,557.628 2049.54,539.153 2049.78,514.971 2050.02,486.082 2050.27,453.631 2050.51,418.827 \n",
       "  2050.75,382.874 2050.99,346.904 2051.24,311.918 2051.48,278.75 2051.72,248.041 2051.96,220.233 2052.21,195.58 2052.45,174.161 2052.69,155.912 2052.93,140.656 \n",
       "  2053.17,128.136 2053.42,118.045 2053.66,110.056 2053.9,103.841 2054.14,99.088 2054.39,95.5166 2054.63,92.8792 2054.87,90.9668 2055.11,89.6077 2055.35,88.6656 \n",
       "  2055.6,88.0363 2055.84,87.6439 2056.08,87.4376 2056.32,87.3891 2056.57,87.4906 2056.81,87.7545 2057.05,88.2135 2057.29,88.9222 2057.53,89.9591 2057.78,91.4297 \n",
       "  2058.02,93.4683 2058.26,96.2407 2058.5,99.9442 2058.75,104.806 2058.99,111.079 2059.23,119.034 2059.47,128.943 2059.71,141.069 2059.96,155.64 2060.2,172.824 \n",
       "  2060.44,192.707 2060.68,215.266 2060.93,240.344 2061.17,267.64 2061.41,296.697 2061.65,326.912 2061.89,357.553 2062.14,387.795 2062.38,416.768 2062.62,443.616 \n",
       "  2062.86,467.57 2063.11,488.018 2063.35,504.583 2063.59,517.234 2063.83,526.64 2064.07,535.316 2064.32,549.279 2064.56,575.563 2064.8,610.761 2065.04,634.868 \n",
       "  2065.29,632.125 2065.53,614.223 2065.77,605.742 2066.01,617.023 2066.25,643.483 2066.5,678.345 2066.74,717.72 2066.98,759.828 2067.22,804.411 2067.47,851.596 \n",
       "  2067.71,897.554 2067.95,931.863 2068.19,945.181 2068.43,939.178 2068.68,922.95 2068.92,902.34 2069.16,877.68 2069.4,848.241 2069.65,814.896 2069.89,779.847 \n",
       "  2070.13,745.757 2070.37,715.232 2070.62,690.52 2070.86,673.301 2071.1,664.533 2071.34,664.37 2071.58,672.161 2071.83,686.531 2072.07,705.52 2072.31,726.785 \n",
       "  2072.55,747.814 2072.8,766.153 2073.04,779.629 2073.28,786.742 2073.52,787.862 2073.76,787.939 2074.01,797.339 2074.25,820.497 2074.49,835.899 2074.73,805.216 \n",
       "  2074.98,720.022 2075.22,615.714 2075.46,527.548 2075.7,461.368 2075.94,407.854 2076.19,360.237 2076.43,316.685 2076.67,277.271 2076.91,242.288 2077.16,211.853 \n",
       "  2077.4,185.885 2077.64,164.145 2077.88,146.278 2078.12,131.856 2078.37,120.42 2078.61,111.509 2078.85,104.684 2079.09,99.5448 2079.34,95.7401 2079.58,92.9699 \n",
       "  2079.82,90.9861 2080.06,89.5886 2080.3,88.6202 2080.55,87.96 2080.79,87.5172 2081.03,87.225 2081.27,87.0354 2081.52,86.9145 2081.76,86.8386 2082,86.792 \n",
       "  2082.24,86.7638 2082.48,86.7473 2082.73,86.738 2082.97,86.7342 2083.21,86.7521 2083.45,86.9765 2083.7,88.6598 2083.94,97.1161 2084.18,125.225 2084.42,185.022 \n",
       "  2084.66,259.631 2084.91,296.262 2085.15,261.666 2085.39,187.351 2085.63,126.605 2085.88,97.6201 2086.12,88.784 2086.36,87.0032 2086.6,86.7626 2086.84,86.7413 \n",
       "  2087.09,86.7408 2087.33,86.7417 2087.57,86.7426 2087.81,86.7436 2088.06,86.7445 2088.3,86.7454 2088.54,86.7464 2088.78,86.7473 2089.03,86.7482 2089.27,86.7492 \n",
       "  2089.51,86.7501 2089.75,86.751 2089.99,86.752 2090.24,86.7529 2090.48,86.7538 2090.72,86.7548 2090.96,86.7557 2091.21,86.7567 2091.45,86.7576 2091.69,86.7585 \n",
       "  2091.93,86.7595 2092.17,86.7604 2092.42,86.7614 2092.66,86.7623 2092.9,86.7633 2093.14,86.7642 2093.39,86.7652 2093.63,86.7661 2093.87,86.7671 2094.11,86.768 \n",
       "  2094.35,86.769 2094.6,86.7699 2094.84,86.7709 2095.08,86.7718 2095.32,86.7728 2095.57,86.7737 2095.81,86.7747 2096.05,86.7756 2096.29,86.7766 2096.53,86.7775 \n",
       "  2096.78,86.7785 2097.02,86.7795 2097.26,86.7804 2097.5,86.7814 2097.75,86.7824 2097.99,86.7833 2098.23,86.7843 2098.47,86.7853 2098.71,86.7863 2098.96,86.7874 \n",
       "  2099.2,86.7885 2099.44,86.7898 2099.68,86.7915 2099.93,86.7936 2100.17,86.7966 2100.41,86.8011 2100.65,86.8082 2100.89,86.8196 2101.14,86.8378 2101.38,86.867 \n",
       "  2101.62,86.9134 2101.86,86.9867 2102.11,87.1005 2102.35,87.2751 2102.59,87.5387 2102.83,87.9309 2103.07,88.5052 2103.32,89.3329 2103.56,90.5067 2103.8,92.1444 \n",
       "  2104.04,94.392 2104.29,97.4257 2104.53,101.453 2104.77,106.71 2105.01,113.494 2105.26,122.42 2105.5,135.711 2105.74,160.406 2105.98,209.069 2106.22,285.29 \n",
       "  2106.47,360.711 2106.71,390.491 2106.95,368.265 2107.19,334.517 2107.44,323.954 2107.68,337.948 2107.92,363.379 2108.16,391.064 2108.4,417.307 2108.65,440.59 \n",
       "  2108.89,459.917 2109.13,474.479 2109.37,483.651 2109.62,487.03 2109.86,484.467 2110.1,476.075 2110.34,462.223 2110.58,443.508 2110.83,420.713 2111.07,394.751 \n",
       "  2111.31,366.608 2111.55,337.276 2111.8,307.705 2112.04,278.746 2112.28,251.121 2112.52,225.4 2112.76,201.989 2113.01,181.14 2113.25,162.959 2113.49,147.434 \n",
       "  2113.73,134.46 2113.98,123.867 2114.22,115.453 2114.46,109.008 2114.7,104.343 2114.94,101.305 2115.19,99.8033 2115.43,99.8159 2115.67,101.405 2115.91,104.722 \n",
       "  2116.16,110.013 2116.4,117.613 2116.64,127.943 2116.88,141.493 2117.12,158.8 2117.37,180.417 2117.61,206.87 2117.85,238.612 2118.09,275.961 2118.34,319.049 \n",
       "  2118.58,367.759 2118.82,421.677 2119.06,480.058 2119.3,541.807 2119.55,605.491 2119.79,669.377 2120.03,731.5 2120.27,789.762 2120.52,842.049 2120.76,886.372 \n",
       "  2121,921.011 2121.24,944.658 2121.48,956.543 2121.73,956.543 2121.97,945.245 2122.21,923.973 2122.45,894.759 2122.7,860.256 2122.94,823.588 2123.18,788.148 \n",
       "  2123.42,757.346 2123.67,734.334 2123.91,721.722 2124.15,721.332 2124.39,734.01 2124.63,759.523 2124.88,796.574 2125.12,842.908 2125.36,895.526 2125.6,950.957 \n",
       "  2125.85,1005.56 2126.09,1055.83 2126.33,1098.64 2126.57,1131.42 2126.81,1152.28 2127.06,1160.05 2127.3,1154.22 2127.54,1134.95 2127.78,1102.91 2128.03,1059.23 \n",
       "  2128.27,1005.4 2128.51,943.195 2128.75,874.571 2128.99,801.613 2129.24,726.428 2129.48,651.063 2129.72,577.411 2129.96,507.131 2130.21,441.583 2130.45,381.781 \n",
       "  2130.69,328.382 2130.93,281.693 2131.17,241.711 2131.42,208.176 2131.66,180.637 2131.9,158.524 2132.14,141.208 2132.39,128.062 2132.63,118.506 2132.87,112.041 \n",
       "  2133.11,108.274 2133.35,106.928 2133.6,107.849 2133.84,111.005 2134.08,116.474 2134.32,124.44 2134.57,135.169 2134.81,148.992 2135.05,166.276 2135.29,187.397 \n",
       "  2135.53,212.7 2135.78,242.464 2136.02,276.866 2136.26,315.941 2136.5,359.564 2136.75,407.435 2136.99,459.081 2137.23,513.883 2137.47,571.098 2137.71,629.91 \n",
       "  2137.96,689.457 2138.2,748.857 2138.44,807.209 2138.68,863.575 2138.93,916.94 2139.17,966.177 2139.41,1010.02 2139.65,1047.05 2139.89,1075.8 2140.14,1094.78 \n",
       "  2140.38,1102.67 2140.62,1098.44 2140.86,1081.54 2141.11,1051.95 2141.35,1010.32 2141.59,957.887 2141.83,896.428 2142.08,828.127 2142.32,755.398 2142.56,680.699 \n",
       "  2142.8,606.367 2143.04,534.472 2143.29,466.72 2143.53,404.392 2143.77,348.342 2144.01,299.009 2144.26,256.48 2144.5,220.548 2144.74,190.795 2144.98,166.663 \n",
       "  2145.22,147.522 2145.47,132.732 2145.71,121.689 2145.95,113.859 2146.19,108.808 2146.44,106.21 2146.68,105.859 2146.92,107.666 2147.16,111.65 2147.4,117.93 \n",
       "  2147.65,126.702 2147.89,138.218 2148.13,152.758 2148.37,170.59 2148.62,191.941 2148.86,216.949 2149.1,245.626 2149.34,277.819 2149.58,313.178 2149.83,351.14 \n",
       "  2150.07,390.918 2150.31,431.518 2150.55,471.766 2150.8,510.361 2151.04,545.936 2151.28,577.14 2151.52,602.723 2151.76,621.613 2152.01,632.997 2152.25,636.375 \n",
       "  2152.49,631.597 2152.73,618.878 2152.98,598.777 2153.22,572.16 2153.46,540.141 2153.7,504.003 2153.94,465.121 2154.19,424.876 2154.43,384.585 2154.67,345.441 \n",
       "  2154.91,308.471 2155.16,274.514 2155.4,244.218 2155.64,218.055 2155.88,196.348 2156.12,179.304 2156.37,167.058 2156.61,159.706 2156.85,157.34 2157.09,160.069 \n",
       "  2157.34,168.029 2157.58,181.382 2157.82,200.297 2158.06,224.922 2158.3,255.34 2158.55,291.527 2158.79,333.294 2159.03,380.243 2159.27,431.726 2159.52,486.824 \n",
       "  2159.76,544.344 2160,602.853 2160.24,660.743 2160.49,716.335 2160.73,768.008 2160.97,814.354 2161.21,854.328 2161.45,887.371 2161.7,913.489 2161.94,933.247 \n",
       "  2162.18,947.683 2162.42,958.142 2162.67,966.049 2162.91,972.669 2163.15,978.899 2163.39,985.117 2163.63,991.144 2163.88,996.285 2164.12,999.462 2164.36,999.385 \n",
       "  2164.6,994.737 2164.85,984.339 2165.09,967.284 2165.33,943.027 2165.57,911.443 2165.81,872.867 2166.06,828.099 2166.3,778.399 2166.54,725.454 2166.78,671.324 \n",
       "  2167.03,618.359 2167.27,569.087 2167.51,526.086 2167.75,491.83 2167.99,468.533 2168.24,457.999 2168.48,461.535 2168.72,480.313 2168.96,517.416 2169.21,581.961 \n",
       "  2169.45,686.532 2169.69,823.238 2169.93,943.601 2170.17,1000.22 2170.42,1007.25 2170.66,1015.57 2170.9,1048.14 2171.14,1094.41 2171.39,1139.58 2171.63,1176.91 \n",
       "  2171.87,1204.77 2172.11,1223.12 2172.35,1232.43 2172.6,1234.01 2172.84,1231.46 2173.08,1230.65 2173.32,1232.5 2173.57,1221.84 2173.81,1175.61 2174.05,1092.1 \n",
       "  2174.29,995.994 2174.53,909.199 2174.78,835.664 2175.02,772.227 2175.26,718.307 2175.5,675.952 2175.75,647.559 2175.99,634.751 2176.23,638.054 2176.47,656.859 \n",
       "  2176.71,689.503 2176.96,733.445 2177.2,785.484 2177.44,842.015 2177.68,899.273 2177.93,953.573 2178.17,1001.51 2178.41,1040.15 2178.65,1067.13 2178.9,1080.79 \n",
       "  2179.14,1080.21 2179.38,1065.23 2179.62,1036.4 2179.86,994.924 2180.11,942.578 2180.35,881.537 2180.59,814.252 2180.83,743.289 2181.08,671.182 2181.32,600.306 \n",
       "  2181.56,532.765 2181.8,470.313 2182.04,414.314 2182.29,365.714 2182.53,325.056 2182.77,292.504 2183.01,267.887 2183.26,250.751 2183.5,240.414 2183.74,236.021 \n",
       "  2183.98,236.602 2184.22,241.112 2184.47,248.481 2184.71,257.646 2184.95,267.592 2185.19,277.379 2185.44,286.168 2185.68,293.249 2185.92,298.06 2186.16,300.199 \n",
       "  2186.4,299.435 2186.65,295.708 2186.89,289.115 2187.13,279.898 2187.37,268.417 2187.62,255.121 2187.86,240.511 2188.1,225.108 2188.34,209.423 2188.58,193.921 \n",
       "  2188.83,179.008 2189.07,165.012 2189.31,152.175 2189.55,140.653 2189.8,130.525 2190.04,121.797 2190.28,114.419 2190.52,108.299 2190.76,103.323 2191.01,99.4557 \n",
       "  2191.25,97.4325 2191.49,101.926 2191.73,128.827 2191.98,205.493 2192.22,336.142 2192.46,453.226 2192.7,459.235 2192.94,348.033 2193.19,213.326 2193.43,129.334 \n",
       "  2193.67,97.0038 2193.91,88.8629 2194.16,87.4683 2194.4,87.2873 2194.64,87.2581 2194.88,87.2472 2195.12,87.2415 2195.37,87.2386 2195.61,87.2374 2195.85,87.2373 \n",
       "  2196.09,87.2377 2196.34,87.2386 2196.58,87.2396 2196.82,87.2407 2197.06,87.242 2197.31,87.2432 2197.55,87.2445 2197.79,87.2457 2198.03,87.247 2198.27,87.2483 \n",
       "  2198.52,87.2496 2198.76,87.2509 2199,87.2521 2199.24,87.2534 2199.49,87.2547 2199.73,87.256 2199.97,87.2573 2200.21,87.2586 2200.45,87.2599 2200.7,87.2612 \n",
       "  2200.94,87.2625 2201.18,87.2638 2201.42,87.2651 2201.67,87.2664 2201.91,87.2677 2202.15,87.269 2202.39,87.2705 2202.63,87.272 2202.88,87.2737 2203.12,87.2758 \n",
       "  2203.36,87.2786 2203.6,87.2825 2203.85,87.2885 2204.09,87.2979 2204.33,87.3132 2204.57,87.3382 2204.81,87.3789 2205.06,87.4449 2205.3,87.5507 2205.54,87.7181 \n",
       "  2205.78,87.9792 2206.03,88.3807 2206.27,88.9886 2206.51,89.8947 2206.75,91.2254 2206.99,93.165 2207.24,96.1381 2207.48,102.042 2207.72,119.327 2207.96,172.565 \n",
       "  2208.21,296.541 2208.45,481.816 2208.69,624.859 2208.93,615.154 2209.17,481.108 2209.42,351.432 2209.66,299.833 2209.9,312.51 2210.14,355.185 2210.39,409.998 \n",
       "  2210.63,471.595 2210.87,538.265 2211.11,608.601 2211.35,680.885 2211.6,753.064 2211.84,822.847 2212.08,887.842 2212.32,945.718 2212.57,994.378 2212.81,1032.13 \n",
       "  2213.05,1057.8 2213.29,1070.85 2213.53,1071.35 2213.78,1059.96 2214.02,1037.79 2214.26,1006.29 2214.5,967.092 2214.75,921.813 2214.99,871.989 2215.23,818.984 \n",
       "  2215.47,763.969 2215.72,707.931 2215.96,651.714 2216.2,596.057 2216.44,541.634 2216.68,489.07 2216.93,438.944 2217.17,391.778 2217.41,348.014 2217.65,307.994 \n",
       "  2217.9,271.938 2218.14,239.94 2218.38,211.974 2218.62,187.897 2218.86,167.48 2219.11,150.422 2219.35,136.379 2219.59,124.986 2219.83,115.877 2220.08,108.698 \n",
       "  2220.32,103.122 2220.56,98.852 2220.8,95.63 2221.04,93.2338 2221.29,91.4776 2221.53,90.2094 2221.77,89.3071 2222.01,88.6748 2222.26,88.2383 2222.5,87.9416 \n",
       "  2222.74,87.7432 2222.98,87.6126 2223.22,87.5281 2223.47,87.4745 2223.71,87.4411 2223.95,87.4209 2224.19,87.4091 2224.44,87.4025 2224.68,87.3992 2224.92,87.3978 \n",
       "  2225.16,87.3975 2225.4,87.398 2225.65,87.3989 2225.89,87.4 2226.13,87.4012 2226.37,87.4025 2226.62,87.4038 2226.86,87.4052 2227.1,87.4065 2227.34,87.4079 \n",
       "  2227.58,87.4093 2227.83,87.4107 2228.07,87.4121 2228.31,87.4135 2228.55,87.415 2228.8,87.4166 2229.04,87.4183 2229.28,87.4203 2229.52,87.4228 2229.76,87.4263 \n",
       "  2230.01,87.4313 2230.25,87.439 2230.49,87.4512 2230.73,87.4708 2230.98,87.5024 2231.22,87.5531 2231.46,87.6338 2231.7,87.7606 2231.94,87.9573 2232.19,88.2579 \n",
       "  2232.43,88.7107 2232.67,89.382 2232.91,90.3617 2233.16,91.769 2233.4,93.758 2233.64,96.5233 2233.88,100.305 2234.13,105.392 2234.37,112.118 2234.61,120.864 \n",
       "  2234.85,132.039 2235.09,146.071 2235.34,163.377 2235.58,184.338 2235.82,209.255 2236.06,238.314 2236.31,271.542 2236.55,308.764 2236.79,349.577 2237.03,393.322 \n",
       "  2237.27,439.088 2237.52,485.721 2237.76,531.866 2238,576.02 2238.24,616.615 2238.49,652.105 2238.73,681.062 2238.97,702.273 2239.21,714.822 2239.45,718.16 \n",
       "  2239.7,712.139 2239.94,697.031 2240.18,673.501 2240.42,642.566 2240.67,605.521 2240.91,563.853 2241.15,519.146 2241.39,472.989 2241.63,426.888 2241.88,382.196 \n",
       "  2242.12,340.066 2242.36,301.414 2242.6,266.917 2242.85,237.012 2243.09,211.924 2243.33,191.689 2243.57,176.196 2243.81,165.213 2244.06,158.424 2244.3,155.448 \n",
       "  2244.54,155.865 2244.78,159.223 2245.03,165.047 2245.27,172.843 2245.51,182.102 2245.75,192.3 2245.99,202.91 2246.24,213.404 2246.48,223.273 2246.72,232.04 \n",
       "  2246.96,239.279 2247.21,244.636 2247.45,247.845 2247.69,248.741 2247.93,247.267 2248.17,243.48 2248.42,237.538 2248.66,229.693 2248.9,220.268 2249.14,209.635 \n",
       "  2249.39,198.194 2249.63,186.342 2249.87,174.455 2250.11,162.867 2250.36,151.859 2250.6,141.647 2250.84,132.384 2251.08,124.158 2251.32,116.999 2251.57,110.89 \n",
       "  2251.81,105.775 2252.05,101.571 2252.29,98.1784 2252.54,95.4881 2252.78,93.3922 2253.02,91.7873 2253.26,90.5792 2253.5,89.6852 2253.75,89.0346 2253.99,88.5691 \n",
       "  2254.23,88.2416 2254.47,88.015 2254.72,87.861 2254.96,87.7581 2255.2,87.6906 2255.44,87.6473 2255.68,87.6201 2255.93,87.6035 2256.17,87.5938 2256.41,87.5884 \n",
       "  2256.65,87.5858 2256.9,87.5848 2257.14,87.5849 2257.38,87.5856 2257.62,87.5866 2257.86,87.5878 2258.11,87.5891 2258.35,87.5905 2258.59,87.592 2258.83,87.5934 \n",
       "  2259.08,87.5949 2259.32,87.5964 2259.56,87.5979 2259.8,87.5993 2260.04,87.6008 2260.29,87.6023 2260.53,87.6038 2260.77,87.6053 2261.01,87.6067 2261.26,87.6082 \n",
       "  2261.5,87.6097 2261.74,87.6112 2261.98,87.6127 2262.22,87.6142 2262.47,87.6157 2262.71,87.6172 2262.95,87.6186 2263.19,87.6201 2263.44,87.6216 2263.68,87.6231 \n",
       "  2263.92,87.6246 2264.16,87.6261 2264.4,87.6276 2264.65,87.6291 2264.89,87.6306 2265.13,87.6321 2265.37,87.6336 2265.62,87.6351 2265.86,87.6366 2266.1,87.6381 \n",
       "  2266.34,87.6396 2266.58,87.6411 2266.83,87.6426 2267.07,87.6443 2267.31,87.6484 2267.55,87.6807 2267.8,87.9293 2268.04,89.2649 2268.28,94.0511 2268.52,105.126 \n",
       "  2268.77,120.52 2269.01,130.245 2269.25,125.679 2269.49,111.044 2269.73,97.5692 2269.98,90.5546 2270.22,88.2454 2270.46,87.7458 2270.7,87.6745 2270.95,87.6689 \n",
       "  2271.19,87.67 2271.43,87.6717 2271.67,87.6737 2271.91,87.676 2272.16,87.6789 2272.4,87.6831 2272.64,87.6892 2272.88,87.6989 2273.13,87.7145 2273.37,87.74 \n",
       "  2273.61,87.7817 2273.85,87.8496 2274.09,87.9589 2274.34,88.1329 2274.58,88.4058 2274.82,88.8277 2275.06,89.4704 2275.31,90.434 2275.55,91.8562 2275.79,93.9222 \n",
       "  2276.03,96.8751 2276.27,101.027 2276.52,106.772 2276.76,114.587 2277,125.043 2277.24,138.797 2277.49,156.584 2277.73,179.188 2277.97,207.412 2278.21,242.026 \n",
       "  2278.45,283.706 2278.7,332.961 2278.94,390.052 2279.18,454.92 2279.42,527.106 2279.67,605.705 2279.91,689.33 2280.15,776.117 2280.39,863.77 2280.63,949.642 \n",
       "  2280.88,1030.85 2281.12,1104.45 2281.36,1167.57 2281.6,1217.64 2281.85,1252.55 2282.09,1270.77 2282.33,1271.5 2282.57,1254.72 2282.81,1221.18 2283.06,1172.36 \n",
       "  2283.3,1110.38 2283.54,1037.83 2283.78,957.648 2284.03,872.93 2284.27,786.765 2284.51,702.139 2284.75,621.975 2284.99,549.415 2285.24,487.721 2285.48,438.41 \n",
       "  2285.72,399.108 2285.96,366.301 2286.21,341.06 2286.45,328.224 2286.69,330.587 2286.93,347.376 2287.18,376.708 2287.42,417.036 2287.66,467.01 2287.9,525.14 \n",
       "  2288.14,589.661 2288.39,658.52 2288.63,729.403 2288.87,799.795 2289.11,867.065 2289.36,928.574 2289.6,981.806 2289.84,1024.51 2290.08,1054.81 2290.32,1071.38 \n",
       "  2290.57,1073.45 2290.81,1060.93 2291.05,1034.35 2291.29,994.887 2291.54,944.209 2291.78,884.401 2292.02,817.809 2292.26,746.887 2292.5,674.052 2292.75,601.553 \n",
       "  2292.99,531.359 2293.23,465.091 \n",
       "  \"/>\n",
       "<polyline clip-path=\"url(#clip132)\" style=\"stroke:#e26f46; stroke-linecap:butt; stroke-linejoin:round; stroke-width:4; stroke-opacity:1; fill:none\" points=\"\n",
       "  309.067,101.033 309.309,101.068 309.551,101.109 309.794,101.158 310.036,101.215 310.278,101.282 310.52,101.359 310.763,101.449 311.005,101.552 311.247,101.672 \n",
       "  311.489,101.81 311.732,101.97 311.974,102.154 312.216,102.367 312.458,102.613 312.701,102.9 312.943,103.235 313.185,103.629 313.427,104.096 313.669,104.651 \n",
       "  313.912,105.319 314.154,106.129 314.396,107.117 314.638,108.334 314.881,109.841 315.123,111.719 315.365,114.066 315.607,117.008 315.85,120.695 316.092,125.314 \n",
       "  316.334,131.082 316.576,138.255 316.819,147.126 317.061,158.022 317.303,171.298 317.545,187.33 317.787,206.502 318.03,229.185 318.272,255.719 318.514,286.381 \n",
       "  318.756,321.363 318.999,360.737 319.241,404.428 319.483,452.183 319.725,503.557 319.968,557.894 320.21,614.329 320.452,671.798 320.694,729.063 320.937,784.754 \n",
       "  321.179,837.416 321.421,885.572 321.663,927.798 321.906,962.787 322.148,989.422 322.39,1006.84 322.632,1014.48 322.874,1012.11 323.117,999.865 323.359,978.211 \n",
       "  323.601,947.949 323.843,910.161 324.086,866.163 324.328,817.436 324.57,765.56 324.812,712.146 325.055,658.771 325.297,606.92 325.539,557.942 325.781,513.014 \n",
       "  326.024,473.116 326.266,439.023 326.508,411.299 326.75,390.303 326.992,376.199 327.235,368.968 327.477,368.424 327.719,374.228 327.961,385.904 328.204,402.856 \n",
       "  328.446,424.383 328.688,449.7 328.93,477.956 329.173,508.266 329.415,539.729 329.657,571.469 329.899,602.658 330.142,632.548 330.384,660.495 330.626,685.979 \n",
       "  330.868,708.611 331.111,728.136 331.353,744.415 331.595,757.419 331.837,767.202 332.079,773.884 332.322,777.639 332.564,778.694 332.806,777.336 333.048,773.918 \n",
       "  333.291,768.872 333.533,762.692 333.775,755.892 334.017,748.945 334.26,742.195 334.502,735.795 334.744,729.691 334.986,723.68 335.229,717.551 335.471,711.265 \n",
       "  335.713,705.125 335.955,699.867 336.198,696.627 336.44,696.772 336.682,701.665 336.924,712.395 337.166,729.579 337.409,753.262 337.651,782.939 337.893,817.662 \n",
       "  338.135,856.2 338.378,897.202 338.62,939.33 338.862,981.346 339.104,1022.15 339.347,1060.8 339.589,1096.44 339.831,1128.31 340.073,1155.69 340.316,1177.85 \n",
       "  340.558,1194.06 340.8,1203.61 341.042,1205.79 341.284,1200.03 341.527,1185.85 341.769,1163.03 342.011,1131.58 342.253,1091.84 342.496,1044.45 342.738,990.369 \n",
       "  342.98,930.793 343.222,867.126 343.465,800.882 343.707,733.601 343.949,666.764 344.191,601.722 344.434,539.634 344.676,481.43 344.918,427.795 345.16,379.165 \n",
       "  345.403,335.748 345.645,297.548 345.887,264.403 346.129,236.024 346.371,212.031 346.614,191.994 346.856,175.457 347.098,161.969 347.34,151.1 347.583,142.457 \n",
       "  347.825,135.692 348.067,130.507 348.309,126.655 348.552,123.944 348.794,122.231 349.036,121.423 349.278,121.477 349.521,122.397 349.763,124.233 350.005,127.087 \n",
       "  350.247,131.106 350.489,136.49 350.732,143.489 350.974,152.401 351.216,163.574 351.458,177.392 351.701,194.275 351.943,214.658 352.185,238.975 352.427,267.632 \n",
       "  352.67,300.984 352.912,339.296 353.154,382.712 353.396,431.216 353.639,484.605 353.881,542.456 354.123,604.107 354.365,668.654 354.608,734.953 354.85,801.642 \n",
       "  355.092,867.183 355.334,929.913 355.576,988.112 355.819,1040.08 356.061,1084.23 356.303,1119.13 356.545,1143.65 356.788,1156.96 357.03,1158.6 357.272,1148.52 \n",
       "  357.514,1127.06 357.757,1094.94 357.999,1053.23 358.241,1003.27 358.483,946.612 358.726,884.939 358.968,819.969 359.21,753.387 359.452,686.772 359.695,621.538 \n",
       "  359.937,558.893 360.179,499.808 360.421,445.013 360.663,394.992 360.906,350.009 361.148,310.125 361.39,275.235 361.632,245.102 361.875,219.389 362.117,197.696 \n",
       "  362.359,179.588 362.601,164.621 362.844,152.361 363.086,142.399 363.328,134.361 363.57,127.915 363.813,122.77 364.055,118.681 364.297,115.439 364.539,112.876 \n",
       "  364.781,110.854 365.024,109.264 365.266,108.021 365.508,107.062 365.75,106.336 365.993,105.81 366.235,105.459 366.477,105.27 366.719,105.24 366.962,105.379 \n",
       "  367.204,105.716 367.446,106.315 367.688,107.291 367.931,108.836 368.173,111.243 368.415,114.924 368.657,120.396 368.9,128.225 369.142,138.908 369.384,152.703 \n",
       "  369.626,169.434 369.868,188.331 370.111,207.979 370.353,226.429 370.595,241.493 370.837,251.168 371.08,254.073 371.322,249.783 371.564,238.925 371.806,223.032 \n",
       "  372.049,204.18 372.291,184.541 372.533,165.978 372.775,149.783 373.018,136.603 373.26,126.514 373.502,119.196 373.744,114.128 373.986,110.747 374.229,108.553 \n",
       "  374.471,107.158 374.713,106.292 374.955,105.779 375.198,105.518 375.44,105.454 375.682,105.563 375.924,105.84 376.167,106.293 376.409,106.941 376.651,107.814 \n",
       "  376.893,108.954 377.136,110.422 377.378,112.295 377.62,114.679 377.862,117.705 378.105,121.542 378.347,126.399 378.589,132.534 378.831,140.256 379.073,149.935 \n",
       "  379.316,162.005 379.558,176.962 379.8,195.361 380.042,217.803 380.285,244.903 380.527,277.243 380.769,315.301 381.011,359.365 381.254,409.439 381.496,465.166 \n",
       "  381.738,525.79 381.98,590.178 382.223,656.905 382.465,724.39 382.707,791.054 382.949,855.466 383.192,916.431 383.434,973.026 383.676,1024.57 383.918,1070.57 \n",
       "  384.16,1110.66 384.403,1144.54 384.645,1171.97 384.887,1192.75 385.129,1206.71 385.372,1213.74 385.614,1213.78 385.856,1206.81 386.098,1192.85 386.341,1171.96 \n",
       "  386.583,1144.32 386.825,1110.15 387.067,1069.85 387.31,1023.96 387.552,973.161 387.794,918.344 388.036,860.532 388.278,800.873 388.521,740.597 388.763,680.963 \n",
       "  389.005,623.215 389.247,568.536 389.49,518.019 389.732,472.65 389.974,433.306 390.216,400.757 390.459,375.683 390.701,358.658 390.943,350.132 391.185,350.359 \n",
       "  391.428,359.319 391.67,376.617 391.912,401.424 392.154,432.484 392.397,468.213 392.639,506.888 392.881,546.88 393.123,586.868 393.365,625.957 393.608,663.675 \n",
       "  393.85,699.825 394.092,734.276 394.334,766.742 394.577,796.637 394.819,823.052 395.061,844.84 395.303,860.795 395.546,869.848 395.788,871.24 396.03,864.629 \n",
       "  396.272,850.119 396.515,828.223 396.757,799.787 396.999,765.893 397.241,727.775 397.483,686.748 397.726,644.149 397.968,601.304 398.21,559.494 398.452,519.925 \n",
       "  398.695,483.706 398.937,451.821 399.179,425.112 399.421,404.264 399.664,389.792 399.906,382.041 400.148,381.179 400.39,387.204 400.633,399.94 400.875,419.052 \n",
       "  401.117,444.043 401.359,474.272 401.602,508.963 401.844,547.231 402.086,588.11 402.328,630.589 402.57,673.657 402.813,716.351 403.055,757.811 403.297,797.327 \n",
       "  403.539,834.378 403.782,868.66 404.024,900.088 404.266,928.783 404.508,955.031 404.751,979.217 404.993,1001.75 405.235,1022.99 405.477,1043.15 405.72,1062.23 \n",
       "  405.962,1080 406.204,1095.97 406.446,1109.41 406.689,1119.43 406.931,1125.05 407.173,1125.32 407.415,1119.39 407.657,1106.66 407.9,1086.81 408.142,1059.94 \n",
       "  408.384,1026.48 408.626,987.304 408.869,943.589 409.111,896.822 409.353,848.685 409.595,800.973 409.838,755.504 410.08,714.024 410.322,678.133 410.564,649.218 \n",
       "  410.807,628.39 411.049,616.435 411.291,613.763 411.533,620.354 411.775,635.716 412.018,658.862 412.26,688.328 412.502,722.241 412.744,758.453 412.987,794.731 \n",
       "  413.229,828.95 413.471,859.284 413.713,884.323 413.956,903.116 414.198,915.136 414.44,920.205 414.682,918.389 414.925,909.925 415.167,895.169 415.409,874.582 \n",
       "  415.651,848.73 415.894,818.281 416.136,784 416.378,746.718 416.62,707.295 416.862,666.579 417.105,625.36 417.347,584.345 417.589,544.129 417.831,505.196 \n",
       "  418.074,467.917 418.316,432.566 418.558,399.331 418.8,368.339 419.043,339.676 419.285,313.414 419.527,289.632 419.769,268.447 420.012,250.027 420.254,234.599 \n",
       "  420.496,222.43 420.738,213.78 420.98,208.818 421.223,207.522 421.465,209.587 421.707,214.381 421.949,220.986 422.192,228.331 422.434,235.393 422.676,241.409 \n",
       "  422.918,246.014 423.161,249.263 423.403,251.521 423.645,253.272 423.887,254.953 424.13,256.873 424.372,259.262 424.614,262.407 424.856,266.777 425.099,273.042 \n",
       "  425.341,281.92 425.583,293.905 425.825,308.958 426.067,326.314 426.31,344.506 426.552,361.634 426.794,375.809 427.036,385.615 427.279,390.45 427.521,390.613 \n",
       "  427.763,387.147 428.005,381.484 428.248,375.049 428.49,368.928 428.732,363.695 428.974,359.401 429.217,355.703 429.459,352.043 429.701,347.831 429.943,342.58 \n",
       "  430.186,335.983 430.428,327.935 430.67,318.519 430.912,307.973 431.154,296.655 431.397,285 431.639,273.499 431.881,262.67 432.123,253.043 432.366,245.147 \n",
       "  432.608,239.501 432.85,236.607 433.092,236.941 433.335,240.952 433.577,249.053 433.819,261.614 434.061,278.953 434.304,301.321 434.546,328.883 434.788,361.693 \n",
       "  435.03,399.657 435.272,442.491 435.515,489.688 435.757,540.473 435.999,593.801 436.241,648.37 436.484,702.675 436.726,755.104 436.968,804.04 437.21,847.97 \n",
       "  437.453,885.573 437.695,915.774 437.937,937.771 438.179,951.022 438.422,955.243 438.664,950.387 438.906,936.645 439.148,914.442 439.391,884.436 439.633,847.505 \n",
       "  439.875,804.717 440.117,757.286 440.359,706.516 440.602,653.734 440.844,600.231 441.086,547.204 441.328,495.708 441.571,446.631 441.813,400.669 442.055,358.323 \n",
       "  442.297,319.908 442.54,285.567 442.782,255.293 443.024,228.955 443.266,206.329 443.509,187.124 443.751,171.006 443.993,157.625 444.235,146.628 444.477,137.676 \n",
       "  444.72,130.456 444.962,124.684 445.204,120.112 445.446,116.528 445.689,113.753 445.931,111.643 446.173,110.083 446.415,108.989 446.658,108.299 446.9,107.976 \n",
       "  447.142,108.005 447.384,108.391 447.627,109.159 447.869,110.355 448.111,112.045 448.353,114.315 448.596,117.273 448.838,121.05 449.08,125.796 449.322,131.678 \n",
       "  449.564,138.88 449.807,147.594 450.049,158.014 450.291,170.325 450.533,184.694 450.776,201.253 451.018,220.086 451.26,241.216 451.502,264.585 451.745,290.05 \n",
       "  451.987,317.368 452.229,346.194 452.471,376.087 452.714,406.514 452.956,436.867 453.198,466.489 453.44,494.702 453.682,520.841 453.925,544.298 454.167,564.561 \n",
       "  454.409,581.26 454.651,594.207 454.894,603.424 455.136,609.151 455.378,611.821 455.62,611.988 455.863,610.209 456.105,606.898 456.347,602.177 456.589,595.78 \n",
       "  456.832,587.051 457.074,575.069 457.316,558.881 457.558,537.79 457.801,511.614 458.043,480.818 458.285,446.494 458.527,410.172 458.769,373.541 459.012,338.16 \n",
       "  459.254,305.233 459.496,275.508 459.738,249.286 459.981,226.516 460.223,206.921 460.465,190.126 460.707,175.74 460.95,163.414 461.192,152.855 461.434,143.827 \n",
       "  461.676,136.133 461.919,129.609 462.161,124.111 462.403,119.509 462.645,115.681 462.888,112.519 463.13,109.921 463.372,107.799 463.614,106.072 463.856,104.672 \n",
       "  464.099,103.539 464.341,102.626 464.583,101.889 464.825,101.297 465.068,100.823 465.31,100.445 465.552,100.148 465.794,99.9208 466.037,99.7553 466.279,99.6469 \n",
       "  466.521,99.5938 466.763,99.5967 467.006,99.6587 467.248,99.7852 467.49,99.9834 467.732,100.262 467.974,100.632 468.217,101.105 468.459,101.693 468.701,102.408 \n",
       "  468.943,103.262 469.186,104.264 469.428,105.422 469.67,106.739 469.912,108.213 470.155,109.836 470.397,111.595 470.639,113.467 470.881,115.425 471.124,117.431 \n",
       "  471.366,119.445 471.608,121.417 471.85,123.298 472.093,125.034 472.335,126.574 472.577,127.871 472.819,128.883 473.061,129.575 473.304,129.925 473.546,129.921 \n",
       "  473.788,129.562 474.03,128.861 474.273,127.841 474.515,126.537 474.757,124.991 474.999,123.25 475.242,121.366 475.484,119.392 475.726,117.379 475.968,115.374 \n",
       "  476.211,113.419 476.453,111.552 476.695,109.801 476.937,108.186 477.179,106.724 477.422,105.42 477.664,104.278 477.906,103.294 478.148,102.462 478.391,101.772 \n",
       "  478.633,101.213 478.875,100.774 479.117,100.444 479.36,100.213 479.602,100.071 479.844,100.011 480.086,100.029 480.329,100.123 480.571,100.293 480.813,100.544 \n",
       "  481.055,100.883 481.298,101.325 481.54,101.892 481.782,102.619 482.024,103.56 482.266,104.796 482.509,106.447 482.751,108.682 482.993,111.717 483.235,115.815 \n",
       "  483.478,121.255 483.72,128.285 483.962,137.066 484.204,147.606 484.447,159.724 484.689,173.051 484.931,187.096 485.173,201.355 485.416,215.454 485.658,229.27 \n",
       "  485.9,242.988 486.142,257.086 486.385,272.225 486.627,289.1 486.869,308.276 487.111,330.064 487.353,354.456 487.596,381.124 487.838,409.469 488.08,438.696 \n",
       "  488.322,467.896 488.565,496.116 488.807,522.414 489.049,545.908 489.291,565.809 489.534,581.45 489.776,592.308 490.018,598.029 490.26,598.432 490.503,593.524 \n",
       "  490.745,583.488 490.987,568.675 491.229,549.578 491.471,526.808 491.714,501.057 491.956,473.064 492.198,443.579 492.44,413.333 492.683,383.006 492.925,353.206 \n",
       "  493.167,324.455 493.409,297.174 493.652,271.686 493.894,248.213 494.136,226.885 494.378,207.751 494.621,190.789 494.863,175.921 495.105,163.027 495.347,151.954 \n",
       "  495.59,142.535 495.832,134.592 496.074,127.946 496.316,122.425 496.558,117.87 496.801,114.132 497.043,111.08 497.285,108.597 497.527,106.584 497.77,104.955 \n",
       "  498.012,103.638 498.254,102.574 498.496,101.713 498.739,101.016 498.981,100.451 499.223,99.9915 499.465,99.6185 499.708,99.316 499.95,99.0719 500.192,98.8773 \n",
       "  500.434,98.7257 500.676,98.6127 500.919,98.5357 501.161,98.4937 501.403,98.4872 501.645,98.518 501.888,98.5892 502.13,98.7052 502.372,98.8715 502.614,99.0948 \n",
       "  502.857,99.3824 503.099,99.7429 503.341,100.185 503.583,100.718 503.826,101.351 504.068,102.091 504.31,102.947 504.552,103.925 504.795,105.029 505.037,106.261 \n",
       "  505.279,107.622 505.521,109.111 505.763,110.726 506.006,112.466 506.248,114.329 506.49,116.317 506.732,118.435 506.975,120.695 507.217,123.116 507.459,125.724 \n",
       "  507.701,128.556 507.944,131.657 508.186,135.083 508.428,138.895 508.67,143.158 508.913,147.94 509.155,153.306 509.397,159.314 509.639,166.013 509.882,173.438 \n",
       "  510.124,181.607 510.366,190.526 510.608,200.189 510.85,210.58 511.093,221.686 511.335,233.504 511.577,246.055 511.819,259.395 512.062,273.635 512.304,288.945 \n",
       "  512.546,305.57 512.788,323.838 513.031,344.151 513.273,366.984 513.515,392.857 513.757,422.296 514,455.779 514.242,493.656 514.484,536.065 514.726,582.855 \n",
       "  514.968,633.525 515.211,687.216 515.453,742.75 515.695,798.733 515.937,853.692 516.18,906.224 516.422,955.11 516.664,999.395 516.906,1038.4 517.149,1071.71 \n",
       "  517.391,1099.09 517.633,1120.45 517.875,1135.84 518.118,1145.37 518.36,1149.22 518.602,1147.7 518.844,1141.18 519.087,1130.14 519.329,1115.2 519.571,1097.07 \n",
       "  519.813,1076.63 520.055,1054.88 520.298,1032.94 520.54,1012.05 520.782,993.503 521.024,978.56 521.267,968.371 521.509,963.865 521.751,965.657 521.993,973.96 \n",
       "  522.236,988.527 522.478,1008.64 522.72,1033.11 522.962,1060.38 523.205,1088.58 523.447,1115.65 523.689,1139.54 523.931,1158.27 524.173,1170.09 524.416,1173.59 \n",
       "  524.658,1167.78 524.9,1152.14 525.142,1126.61 525.385,1091.59 525.627,1047.87 525.869,996.618 526.111,939.217 526.354,877.236 526.596,812.312 526.838,746.078 \n",
       "  527.08,680.087 527.323,615.76 527.565,554.353 527.807,496.939 528.049,444.393 528.292,397.39 528.534,356.385 528.776,321.587 529.018,292.916 529.26,269.966 \n",
       "  529.503,251.995 529.745,237.962 529.987,226.633 530.229,216.741 530.472,207.178 530.714,197.166 530.956,186.353 531.198,174.82 531.441,162.977 531.683,151.413 \n",
       "  531.925,140.712 532.167,131.329 532.41,123.507 532.652,117.277 532.894,112.502 533.136,108.947 533.379,106.345 533.621,104.443 533.863,103.036 534.105,101.97 \n",
       "  534.347,101.136 534.59,100.466 534.832,99.9126 535.074,99.4488 535.316,99.0558 535.559,98.7206 535.801,98.4338 536.043,98.1877 536.285,97.9761 536.528,97.794 \n",
       "  536.77,97.6367 537.012,97.5007 537.254,97.3827 537.497,97.2802 537.739,97.191 537.981,97.1132 538.223,97.0453 538.465,96.986 538.708,96.9341 538.95,96.8888 \n",
       "  539.192,96.8491 539.434,96.8144 539.677,96.7842 539.919,96.7578 540.161,96.7349 540.403,96.7149 540.646,96.6977 540.888,96.6829 541.13,96.6702 541.372,96.6595 \n",
       "  541.615,96.6506 541.857,96.6434 542.099,96.6378 542.341,96.6338 542.584,96.6312 542.826,96.6302 543.068,96.6308 543.31,96.633 543.552,96.637 543.795,96.6429 \n",
       "  544.037,96.6508 544.279,96.661 544.521,96.6737 544.764,96.6892 545.006,96.7078 545.248,96.7298 545.49,96.7557 545.733,96.7859 545.975,96.8211 546.217,96.8619 \n",
       "  546.459,96.9093 546.702,96.9642 546.944,97.0279 547.186,97.1021 547.428,97.1891 547.67,97.2916 547.913,97.4131 548.155,97.5583 548.397,97.7334 548.639,97.9459 \n",
       "  548.882,98.2056 549.124,98.5246 549.366,98.9181 549.608,99.4043 549.851,100.005 550.093,100.746 550.335,101.657 550.577,102.772 550.82,104.133 551.062,105.787 \n",
       "  551.304,107.799 551.546,110.256 551.789,113.285 552.031,117.076 552.273,121.904 552.515,128.15 552.757,136.295 553,146.883 553.242,160.421 553.484,177.227 \n",
       "  553.726,197.237 553.969,219.827 554.211,243.721 554.453,267.04 554.695,287.541 554.938,303.011 555.18,311.712 555.422,312.776 555.664,306.39 555.907,293.74 \n",
       "  556.149,276.719 556.391,257.492 556.633,238.073 556.876,220 557.118,204.2 557.36,191.009 557.602,180.323 557.844,171.777 558.087,164.925 558.329,159.354 \n",
       "  558.571,154.748 558.813,150.902 559.056,147.706 559.298,145.121 559.54,143.148 559.782,141.814 560.025,141.155 560.267,141.206 560.509,142.005 560.751,143.582 \n",
       "  560.994,145.963 561.236,149.165 561.478,153.196 561.72,158.05 561.962,163.7 562.205,170.098 562.447,177.169 562.689,184.807 562.931,192.876 563.174,201.208 \n",
       "  563.416,209.607 563.658,217.852 563.9,225.708 564.143,232.934 564.385,239.293 564.627,244.565 564.869,248.559 565.112,251.125 565.354,252.159 565.596,251.614 \n",
       "  565.838,249.501 566.081,245.892 566.323,240.912 566.565,234.74 566.807,227.595 567.049,219.731 567.292,211.424 567.534,202.962 567.776,194.634 568.018,186.727 \n",
       "  568.261,179.512 568.503,173.246 568.745,168.162 568.987,164.474 569.23,162.372 569.472,162.023 569.714,163.567 569.956,167.121 570.199,172.768 570.441,180.56 \n",
       "  570.683,190.507 570.925,202.572 571.167,216.661 571.41,232.619 571.652,250.223 571.894,269.177 572.136,289.116 572.379,309.605 572.621,330.153 572.863,350.224 \n",
       "  573.105,369.256 573.348,386.685 573.59,401.967 573.832,414.606 574.074,424.177 574.317,430.35 574.559,432.907 574.801,431.751 575.043,426.917 575.286,418.564 \n",
       "  575.528,406.969 575.77,392.507 576.012,375.636 576.254,356.868 576.497,336.744 576.739,315.807 576.981,294.581 577.223,273.545 577.466,253.122 577.708,233.664 \n",
       "  577.95,215.446 578.192,198.665 578.435,183.445 578.677,169.841 578.919,157.848 579.161,147.413 579.404,138.445 579.646,130.829 579.888,124.43 580.13,119.109 \n",
       "  580.372,114.725 580.615,111.143 580.857,108.238 581.099,105.895 581.341,104.015 581.584,102.512 581.826,101.311 582.068,100.352 582.31,99.5848 582.553,98.9689 \n",
       "  582.795,98.472 583.037,98.0683 583.279,97.7379 583.522,97.4651 583.764,97.238 584.006,97.0472 584.248,96.8856 584.491,96.7476 584.733,96.6289 584.975,96.5263 \n",
       "  585.217,96.4372 585.459,96.3594 585.702,96.2912 585.944,96.2315 586.186,96.1789 586.428,96.1326 586.671,96.0919 586.913,96.056 587.155,96.0243 587.397,95.9964 \n",
       "  587.64,95.9718 587.882,95.9502 588.124,95.9311 588.366,95.9144 588.609,95.8997 588.851,95.8868 589.093,95.8756 589.335,95.866 589.578,95.8577 589.82,95.8508 \n",
       "  590.062,95.8451 590.304,95.8407 590.546,95.8374 590.789,95.8355 591.031,95.8349 591.273,95.8358 591.515,95.8382 591.758,95.8425 592,95.8487 592.242,95.8571 \n",
       "  592.484,95.8682 592.727,95.8822 592.969,95.8995 593.211,95.9207 593.453,95.9463 593.696,95.9769 593.938,96.0134 594.18,96.0564 594.422,96.1069 594.664,96.166 \n",
       "  594.907,96.2348 595.149,96.3148 595.391,96.4075 595.633,96.5147 595.876,96.6385 596.118,96.7816 596.36,96.9468 596.602,97.1379 596.845,97.3592 597.087,97.6163 \n",
       "  597.329,97.9162 597.571,98.2676 597.814,98.6818 598.056,99.1733 598.298,99.7606 598.54,100.468 598.783,101.327 599.025,102.377 599.267,103.67 599.509,105.272 \n",
       "  599.751,107.267 599.994,109.757 600.236,112.872 600.478,116.768 600.72,121.633 600.963,127.689 601.205,135.189 601.447,144.426 601.689,155.716 601.932,169.402 \n",
       "  602.174,185.839 602.416,205.38 602.658,228.355 602.901,255.056 603.143,285.705 603.385,320.434 603.627,359.258 603.869,402.054 604.112,448.544 604.354,498.285 \n",
       "  604.596,550.671 604.838,604.939 605.081,660.193 605.323,715.433 605.565,769.601 605.807,821.622 606.05,870.465 606.292,915.195 606.534,955.027 606.776,989.371 \n",
       "  607.019,1017.87 607.261,1040.42 607.503,1057.17 607.745,1068.52 607.988,1075.06 608.23,1077.55 608.472,1076.82 608.714,1073.71 608.956,1069.01 609.199,1063.33 \n",
       "  609.441,1057.12 609.683,1050.56 609.925,1043.6 610.168,1035.94 610.41,1027.06 610.652,1016.32 610.894,1002.99 611.137,986.335 611.379,965.73 611.621,940.69 \n",
       "  611.863,910.94 612.106,876.457 612.348,837.469 612.59,794.454 612.832,748.103 613.075,699.278 613.317,648.951 613.559,598.146 613.801,547.878 614.043,499.105 \n",
       "  614.286,452.684 614.528,409.342 614.77,369.668 615.012,334.107 615.255,302.97 615.497,276.457 615.739,254.68 615.981,237.69 616.224,225.503 616.466,218.128 \n",
       "  616.708,215.582 616.95,217.906 617.193,225.163 617.435,237.436 617.677,254.813 617.919,277.367 618.161,305.124 618.404,338.033 618.646,375.936 618.888,418.534 \n",
       "  619.13,465.365 619.373,515.792 619.615,569.004 619.857,624.023 620.099,679.739 620.342,734.947 620.584,788.393 620.826,838.833 621.068,885.085 621.311,926.079 \n",
       "  621.553,960.897 621.795,988.813 622.037,1009.31 622.28,1022.12 622.522,1027.2 622.764,1024.77 623.006,1015.31 623.248,999.53 623.491,978.299 623.733,952.594 \n",
       "  623.975,923.375 624.217,891.473 624.46,857.508 624.702,821.88 624.944,784.841 625.186,746.655 625.429,707.795 625.671,669.107 625.913,631.882 626.155,597.791 \n",
       "  626.398,568.69 626.64,546.357 626.882,532.224 627.124,527.175 627.366,531.457 627.609,544.688 627.851,565.959 628.093,593.959 628.335,627.121 628.578,663.731 \n",
       "  628.82,702.025 629.062,740.255 629.304,776.751 629.547,809.973 629.789,838.569 630.031,861.434 630.273,877.768 630.516,887.133 630.758,889.481 631,885.158 \n",
       "  631.242,874.858 631.485,859.528 631.727,840.213 631.969,817.892 632.211,793.319 632.453,766.938 632.696,738.895 632.938,709.174 633.18,677.805 633.422,645.084 \n",
       "  633.665,611.729 633.907,578.898 634.149,548.06 634.391,520.766 634.634,498.382 634.876,481.869 635.118,471.667 635.36,467.693 635.603,469.441 635.845,476.118 \n",
       "  636.087,486.797 636.329,500.538 636.572,516.465 636.814,533.807 637.056,551.916 637.298,570.253 637.54,588.386 637.783,605.972 638.025,622.745 638.267,638.502 \n",
       "  638.509,653.088 638.752,666.379 638.994,678.265 639.236,688.628 639.478,697.327 639.721,704.182 639.963,708.971 640.205,711.428 640.447,711.256 640.69,708.145 \n",
       "  640.932,701.802 641.174,691.979 641.416,678.505 641.658,661.314 641.901,640.465 642.143,616.154 642.385,588.712 642.627,558.593 642.87,526.352 643.112,492.619 \n",
       "  643.354,458.06 643.596,423.344 643.839,389.11 644.081,355.941 644.323,324.334 644.565,294.692 644.808,267.312 645.05,242.39 645.292,220.018 645.534,200.202 \n",
       "  645.777,182.876 646.019,167.908 646.261,155.129 646.503,144.338 646.745,135.32 646.988,127.856 647.23,121.733 647.472,116.752 647.714,112.73 647.957,109.505 \n",
       "  648.199,106.933 648.441,104.896 648.683,103.291 648.926,102.034 649.168,101.06 649.41,100.314 649.652,99.756 649.895,99.354 650.137,99.0859 650.379,98.9369 \n",
       "  650.621,98.899 650.863,98.9699 651.106,99.1536 651.348,99.4603 651.59,99.9067 651.832,100.517 652.075,101.325 652.317,102.373 652.559,103.717 652.801,105.425 \n",
       "  653.044,107.583 653.286,110.29 653.528,113.667 653.77,117.853 654.013,123.004 654.255,129.296 654.497,136.917 654.739,146.066 654.982,156.943 655.224,169.744 \n",
       "  655.466,184.649 655.708,201.809 655.95,221.336 656.193,243.291 656.435,267.67 656.677,294.396 656.919,323.318 657.162,354.205 657.404,386.756 657.646,420.609 \n",
       "  657.888,455.36 658.131,490.586 658.373,525.87 658.615,560.83 658.857,595.143 659.1,628.562 659.342,660.932 659.584,692.187 659.826,722.34 660.069,751.467 \n",
       "  660.311,779.673 660.553,807.064 660.795,833.718 661.037,859.659 661.28,884.845 661.522,909.17 661.764,932.472 662.006,954.555 662.249,975.213 662.491,994.253 \n",
       "  662.733,1011.51 662.975,1026.84 663.218,1040.12 663.46,1051.23 663.702,1059.99 663.944,1066.18 664.187,1069.46 664.429,1069.44 664.671,1065.6 664.913,1057.43 \n",
       "  665.155,1044.39 665.398,1026.02 665.64,1002.01 665.882,972.233 666.124,936.786 666.367,896.036 666.609,850.599 666.851,801.314 667.093,749.198 667.336,695.39 \n",
       "  667.578,641.078 667.82,587.437 668.062,535.566 668.305,486.44 668.547,440.873 668.789,399.495 669.031,362.749 669.274,330.886 669.516,303.986 669.758,281.971 \n",
       "  670,264.632 670.242,251.647 670.485,242.612 670.727,237.059 670.969,234.478 671.211,234.332 671.454,236.08 671.696,239.184 671.938,243.128 672.18,247.428 \n",
       "  672.423,251.643 672.665,255.387 672.907,258.342 673.149,260.267 673.392,261.014 673.634,260.541 673.876,258.939 674.118,256.444 674.36,253.459 674.603,250.552 \n",
       "  674.845,248.419 675.087,247.803 675.329,249.353 675.572,253.442 675.814,259.975 676.056,268.258 676.298,276.986 676.541,284.4 676.783,288.61 677.025,288.002 \n",
       "  677.267,281.634 677.51,269.479 677.752,252.45 677.994,232.19 678.236,210.701 678.479,189.933 678.721,171.452 678.963,156.26 679.205,144.779 679.447,136.969 \n",
       "  679.69,132.504 679.932,130.948 680.174,131.893 680.416,135.034 680.659,140.197 680.901,147.328 681.143,156.465 681.385,167.708 681.628,181.18 681.87,197.007 \n",
       "  682.112,215.286 682.354,236.07 682.597,259.353 682.839,285.05 683.081,312.992 683.323,342.921 683.565,374.491 683.808,407.274 684.05,440.777 684.292,474.462 \n",
       "  684.534,507.777 684.777,540.184 685.019,571.193 685.261,600.389 685.503,627.464 685.746,652.226 685.988,674.604 686.23,694.64 686.472,712.466 686.715,728.272 \n",
       "  686.957,742.259 687.199,754.601 687.441,765.399 687.684,774.652 687.926,782.232 688.168,787.888 688.41,791.255 688.652,791.891 688.895,789.316 689.137,783.068 \n",
       "  689.379,772.757 689.621,758.111 689.864,739.02 690.106,715.562 690.348,688.017 690.59,656.867 690.833,622.789 691.075,586.643 691.317,549.447 691.559,512.361 \n",
       "  691.802,476.633 692.044,443.537 692.286,414.247 692.528,389.687 692.771,370.335 693.013,356.053 693.255,345.992 693.497,338.635 693.739,332.009 693.982,324.05 \n",
       "  694.224,313.033 694.466,297.952 694.708,278.724 694.951,256.169 695.193,231.761 695.435,207.253 695.677,184.278 695.92,164.051 696.162,147.232 696.404,133.937 \n",
       "  696.646,123.873 696.889,116.508 697.131,111.234 697.373,107.485 697.615,104.797 697.857,102.828 698.1,101.339 698.342,100.177 698.584,99.2457 698.826,98.4839 \n",
       "  699.069,97.8529 699.311,97.3264 699.553,96.8851 699.795,96.5141 700.038,96.2016 700.28,95.9378 700.522,95.7145 700.764,95.5254 701.007,95.365 701.249,95.229 \n",
       "  701.491,95.1142 701.733,95.0178 701.976,94.9378 702.218,94.8726 702.46,94.8211 702.702,94.7826 702.944,94.7568 703.187,94.7438 703.429,94.7442 703.671,94.7589 \n",
       "  703.913,94.7893 704.156,94.8374 704.398,94.9059 704.64,94.9978 704.882,95.1173 705.125,95.2696 705.367,95.4622 705.609,95.7068 705.851,96.0234 706.094,96.4464 \n",
       "  706.336,97.0345 706.578,97.8831 706.82,99.1376 707.062,101.001 707.305,103.732 707.547,107.612 707.789,112.897 708.031,119.728 708.274,128.035 708.516,137.458 \n",
       "  708.758,147.309 709,156.63 709.243,164.33 709.485,169.391 709.727,171.096 709.969,169.195 710.212,163.968 710.454,156.154 710.696,146.779 710.938,136.934 \n",
       "  711.181,127.565 711.423,119.341 711.665,112.607 711.907,107.418 712.149,103.624 712.392,100.967 712.634,99.1651 712.876,97.9634 713.118,97.1625 713.361,96.6208 \n",
       "  713.603,96.246 713.845,95.982 714.087,95.7964 714.33,95.6711 714.572,95.5965 714.814,95.5672 715.056,95.5806 715.299,95.6361 715.541,95.735 715.783,95.8802 \n",
       "  716.025,96.0775 716.268,96.335 716.51,96.6644 716.752,97.082 716.994,97.6087 717.236,98.2723 717.479,99.108 717.721,100.16 717.963,101.485 718.205,103.148 \n",
       "  718.448,105.233 718.69,107.836 718.932,111.067 719.174,115.056 719.417,119.944 719.659,125.884 719.901,133.038 720.143,141.568 720.386,151.633 720.628,163.374 \n",
       "  720.87,176.908 721.112,192.314 721.354,209.62 721.597,228.794 721.839,249.732 722.081,272.253 722.323,296.091 722.566,320.902 722.808,346.268 723.05,371.708 \n",
       "  723.292,396.697 723.535,420.69 723.777,443.141 724.019,463.539 724.261,481.426 724.504,496.425 724.746,508.256 724.988,516.749 725.23,521.848 725.473,523.605 \n",
       "  725.715,522.172 725.957,517.782 726.199,510.729 726.441,501.346 726.684,489.983 726.926,476.987 727.168,462.694 727.41,447.412 727.653,431.426 727.895,414.992 \n",
       "  728.137,398.347 728.379,381.712 728.622,365.3 728.864,349.318 729.106,333.971 729.348,319.462 729.591,305.986 729.833,293.725 730.075,282.843 730.317,273.478 \n",
       "  730.559,265.74 730.802,259.699 731.044,255.393 731.286,252.814 731.528,251.908 731.771,252.561 732.013,254.592 732.255,257.745 732.497,261.686 732.74,266.025 \n",
       "  732.982,270.352 733.224,274.288 733.466,277.542 733.709,279.965 733.951,281.575 734.193,282.549 734.435,283.196 734.678,283.9 734.92,285.062 735.162,287.055 \n",
       "  735.404,290.19 735.646,294.703 735.889,300.755 736.131,308.439 736.373,317.778 736.615,328.732 736.858,341.192 737.1,354.974 737.342,369.813 737.584,385.364 \n",
       "  737.827,401.206 738.069,416.853 738.311,431.768 738.553,445.393 738.796,457.169 739.038,466.572 739.28,473.137 739.522,476.487 739.765,476.357 740.007,472.607 \n",
       "  740.249,465.235 740.491,454.373 740.733,440.28 740.976,423.327 741.218,403.978 741.46,382.758 741.702,360.232 741.945,336.969 742.187,313.525 742.429,290.411 \n",
       "  742.671,268.082 742.914,246.922 743.156,227.235 743.398,209.249 743.64,193.116 743.883,178.918 744.125,166.682 744.367,156.387 744.609,147.978 744.851,141.378 \n",
       "  745.094,136.496 745.336,133.24 745.578,131.515 745.82,131.236 746.063,132.322 746.305,134.697 746.547,138.29 746.789,143.031 747.032,148.84 747.274,155.635 \n",
       "  747.516,163.317 747.758,171.773 748.001,180.878 748.243,190.489 748.485,200.457 748.727,210.626 748.97,220.842 749.212,230.966 749.454,240.875 749.696,250.475 \n",
       "  749.938,259.708 750.181,268.555 750.423,277.036 750.665,285.208 750.907,293.158 751.15,300.994 751.392,308.829 751.634,316.767 751.876,324.887 752.119,333.23 \n",
       "  752.361,341.785 752.603,350.487 752.845,359.216 753.088,367.805 753.33,376.053 753.572,383.754 753.814,390.721 754.056,396.817 754.299,401.983 754.541,406.26 \n",
       "  754.783,409.789 755.025,412.793 755.268,415.545 755.51,418.317 755.752,421.336 755.994,424.756 756.237,428.663 756.479,433.11 756.721,438.181 756.963,444.041 \n",
       "  757.206,450.968 757.448,459.328 757.69,469.513 757.932,481.835 758.175,496.436 758.417,513.213 758.659,531.798 758.901,551.594 759.143,571.84 759.386,591.713 \n",
       "  759.628,610.425 759.87,627.313 760.112,641.908 760.355,653.987 760.597,663.596 760.839,671.055 761.081,676.943 761.324,682.067 761.566,687.4 761.808,694.02 \n",
       "  762.05,703.021 762.293,715.426 762.535,732.095 762.777,753.638 763.019,780.342 763.262,812.12 763.504,848.484 763.746,888.549 763.988,931.062 764.23,974.467 \n",
       "  764.473,1016.99 764.715,1056.74 764.957,1091.82 765.199,1120.46 765.442,1141.09 765.684,1152.47 765.926,1153.72 766.168,1144.4 766.411,1124.5 766.653,1094.45 \n",
       "  766.895,1055.06 767.137,1007.49 767.38,953.133 767.622,893.584 767.864,830.518 768.106,765.618 768.348,700.5 768.591,636.654 768.833,575.391 769.075,517.823 \n",
       "  769.317,464.848 769.56,417.159 769.802,375.272 770.044,339.564 770.286,310.321 770.529,287.796 770.771,272.243 771.013,263.939 771.255,263.152 771.498,270.059 \n",
       "  771.74,284.622 771.982,306.435 772.224,334.609 772.467,367.731 772.709,403.964 772.951,441.271 773.193,477.731 773.435,511.855 773.678,542.8 773.92,570.418 \n",
       "  774.162,595.107 774.404,617.539 774.647,638.342 774.889,657.835 775.131,675.902 775.373,691.998 775.616,705.273 775.858,714.756 776.1,719.537 776.342,718.911 \n",
       "  776.585,712.466 776.827,700.115 777.069,682.083 777.311,658.87 777.553,631.196 777.796,599.942 778.038,566.089 778.28,530.661 778.522,494.678 778.765,459.112 \n",
       "  779.007,424.852 779.249,392.68 779.491,363.261 779.734,337.135 779.976,314.722 780.218,296.334 780.46,282.189 780.703,272.428 780.945,267.13 781.187,266.331 \n",
       "  781.429,270.027 781.672,278.185 781.914,290.737 782.156,307.58 782.398,328.562 782.64,353.473 782.883,382.034 783.125,413.887 783.367,448.592 783.609,485.632 \n",
       "  783.852,524.425 784.094,564.346 784.336,604.76 784.578,645.06 784.821,684.709 785.063,723.283 785.305,760.504 785.547,796.264 785.79,830.628 786.032,863.818 \n",
       "  786.274,896.176 786.516,928.102 786.759,959.979 787.001,992.09 787.243,1024.54 787.485,1057.18 787.727,1089.57 787.97,1120.97 788.212,1150.35 788.454,1176.45 \n",
       "  788.696,1197.9 788.939,1213.27 789.181,1221.24 789.423,1220.7 789.665,1210.84 789.908,1191.24 790.15,1161.91 790.392,1123.3 790.634,1076.26 790.877,1022 \n",
       "  791.119,962.003 791.361,897.955 791.603,831.621 791.845,764.776 792.088,699.122 792.33,636.23 792.572,577.491 792.814,524.092 793.057,477.009 793.299,437.013 \n",
       "  793.541,404.68 793.783,380.419 794.026,364.489 794.268,357.02 794.51,358.031 794.752,367.434 794.995,385.033 795.237,410.524 795.479,443.471 795.721,483.297 \n",
       "  795.964,529.265 796.206,580.463 796.448,635.796 796.69,693.993 796.932,753.62 797.175,813.111 797.417,870.81 797.659,925.036 797.901,974.141 798.144,1016.59 \n",
       "  798.386,1051.05 798.628,1076.44 798.87,1092 799.113,1097.37 799.355,1092.6 799.597,1078.15 799.839,1054.92 800.082,1024.2 800.324,987.58 800.566,946.956 \n",
       "  800.808,904.387 801.05,862.019 801.293,821.987 801.535,786.309 801.777,756.798 802.019,734.97 802.262,721.974 802.504,718.538 802.746,724.93 802.988,740.946 \n",
       "  803.231,765.919 803.473,798.745 803.715,837.935 803.957,881.685 804.2,927.958 804.442,974.581 804.684,1019.34 804.926,1060.11 805.169,1094.9 805.411,1122.01 \n",
       "  805.653,1140.08 805.895,1148.11 806.137,1145.59 806.38,1132.44 806.622,1109.04 806.864,1076.17 807.106,1035.02 807.349,987.061 807.591,933.991 807.833,877.66 \n",
       "  808.075,819.965 808.318,762.774 808.56,707.837 808.802,656.724 809.044,610.768 809.287,571.019 809.529,538.221 809.771,512.797 810.013,494.855 810.255,484.194 \n",
       "  810.498,480.34 810.74,482.567 810.982,489.949 811.224,501.402 811.467,515.731 811.709,531.689 811.951,548.024 812.193,563.534 812.436,577.11 812.678,587.782 \n",
       "  812.92,594.754 813.162,597.429 813.405,595.427 813.647,588.593 813.889,576.988 814.131,560.879 814.374,540.713 814.616,517.084 814.858,490.702 815.1,462.348 \n",
       "  815.342,432.839 815.585,402.991 815.827,373.589 816.069,345.362 816.311,318.967 816.554,294.977 816.796,273.88 817.038,256.081 817.28,241.913 817.523,231.641 \n",
       "  817.765,225.481 818.007,223.598 818.249,226.124 818.492,233.15 818.734,244.728 818.976,260.863 819.218,281.497 819.461,306.497 819.703,335.634 819.945,368.566 \n",
       "  820.187,404.825 820.429,443.804 820.672,484.758 820.914,526.809 821.156,568.96 821.398,610.127 821.641,649.172 821.883,684.948 822.125,716.351 822.367,742.368 \n",
       "  822.61,762.135 822.852,774.974 823.094,780.437 823.336,778.325 823.579,768.702 823.821,751.888 824.063,728.444 824.305,699.136 824.547,664.895 824.79,626.767 \n",
       "  825.032,585.859 825.274,543.287 825.516,500.123 825.759,457.36 826.001,415.872 826.243,376.393 826.485,339.505 826.728,305.637 826.97,275.067 827.212,247.943 \n",
       "  827.454,224.297 827.697,204.071 827.939,187.136 828.181,173.322 828.423,162.434 828.666,154.269 828.908,148.633 829.15,145.351 829.392,144.265 829.634,145.246 \n",
       "  829.877,148.18 830.119,152.97 830.361,159.523 830.603,167.744 830.846,177.519 831.088,188.714 831.33,201.157 831.572,214.636 831.815,228.896 832.057,243.634 \n",
       "  832.299,258.508 832.541,273.142 832.784,287.139 833.026,300.094 833.268,311.612 833.51,321.328 833.752,328.923 833.995,334.141 834.237,336.805 834.479,336.824 \n",
       "  834.721,334.2 834.964,329.028 835.206,321.489 835.448,311.842 835.69,300.41 835.933,287.561 836.175,273.694 836.417,259.216 836.659,244.529 836.902,230.012 \n",
       "  837.144,216.014 837.386,202.844 837.628,190.767 837.871,180.009 838.113,170.76 838.355,163.184 838.597,157.429 838.839,153.646 839.082,152.001 839.324,152.697 \n",
       "  839.566,155.992 839.808,162.22 840.051,171.8 840.293,185.242 840.535,203.131 840.777,226.084 841.02,254.674 841.262,289.33 841.504,330.222 841.746,377.166 \n",
       "  841.989,429.572 842.231,486.466 842.473,546.596 842.715,608.582 842.958,671.094 843.2,732.981 843.442,793.339 843.684,851.481 843.926,906.862 844.169,958.969 \n",
       "  844.411,1007.25 844.653,1051.07 844.895,1089.76 845.138,1122.63 845.38,1149.05 845.622,1168.51 845.864,1180.61 846.107,1185.07 846.349,1181.73 846.591,1170.5 \n",
       "  846.833,1151.38 847.076,1124.48 847.318,1090.04 847.56,1048.45 847.802,1000.31 848.044,946.425 848.287,887.791 848.529,825.593 848.771,761.141 849.013,695.805 \n",
       "  849.256,630.948 849.498,567.842 849.74,507.613 849.982,451.185 850.225,399.253 850.467,352.269 850.709,310.453 850.951,273.815 851.194,242.19 851.436,215.276 \n",
       "  851.678,192.678 851.92,173.946 852.163,158.609 852.405,146.203 852.647,136.292 852.889,128.481 853.131,122.425 853.374,117.833 853.616,114.464 853.858,112.129 \n",
       "  854.1,110.683 854.343,110.018 854.585,110.059 854.827,110.756 855.069,112.076 855.312,113.999 855.554,116.513 855.796,119.603 856.038,123.248 856.281,127.421 \n",
       "  856.523,132.075 856.765,137.149 857.007,142.562 857.249,148.212 857.492,153.98 857.734,159.728 857.976,165.308 858.218,170.564 858.461,175.338 858.703,179.481 \n",
       "  858.945,182.858 859.187,185.352 859.43,186.878 859.672,187.379 859.914,186.835 860.156,185.262 860.399,182.711 860.641,179.265 860.883,175.034 861.125,170.152 \n",
       "  861.368,164.764 861.61,159.024 861.852,153.085 862.094,147.093 862.336,141.18 862.579,135.463 862.821,130.037 863.063,124.976 863.305,120.332 863.548,116.137 \n",
       "  863.79,112.403 864.032,109.126 864.274,106.29 864.517,103.868 864.759,101.827 865.001,100.13 865.243,98.7381 865.486,97.6134 865.728,96.7205 865.97,96.0271 \n",
       "  866.212,95.5054 866.455,95.1319 866.697,94.8879 866.939,94.7596 867.181,94.7376 867.423,94.8172 867.666,94.999 867.908,95.2911 868.15,95.713 868.392,96.3042 \n",
       "  868.635,97.1373 868.877,98.3374 869.119,100.105 869.361,102.739 869.604,106.643 869.846,112.304 870.088,120.229 870.33,130.819 870.573,144.212 870.815,160.105 \n",
       "  871.057,177.639 871.299,195.392 871.541,211.531 871.784,224.117 872.026,231.504 872.268,232.715 872.51,227.684 872.753,217.273 872.995,203.079 873.237,187.068 \n",
       "  873.479,171.174 873.722,156.972 873.964,145.488 874.206,137.175 874.448,132.021 874.691,129.705 874.933,129.767 875.175,131.736 875.417,135.208 875.66,139.868 \n",
       "  875.902,145.49 876.144,151.915 876.386,159.035 876.628,166.769 876.871,175.063 877.113,183.881 877.355,193.217 877.597,203.096 877.84,213.584 878.082,224.804 \n",
       "  878.324,236.935 878.566,250.222 878.809,264.971 879.051,281.55 879.293,300.367 879.535,321.858 879.778,346.455 880.02,374.553 880.262,406.474 880.504,442.424 \n",
       "  880.746,482.456 880.989,526.433 881.231,574.005 881.473,624.596 881.715,677.412 881.958,731.457 882.2,785.586 882.442,838.56 882.684,889.126 882.927,936.096 \n",
       "  883.169,978.439 883.411,1015.35 883.653,1046.3 883.896,1071.09 884.138,1089.83 884.38,1102.91 884.622,1110.94 884.865,1114.66 885.107,1114.82 885.349,1112.15 \n",
       "  885.591,1107.16 885.833,1100.18 886.076,1091.29 886.318,1080.32 886.56,1066.91 886.802,1050.56 887.045,1030.75 887.287,1007.03 887.529,979.085 887.771,946.819 \n",
       "  888.014,910.408 888.256,870.306 888.498,827.23 888.74,782.116 888.983,736.056 889.225,690.226 889.467,645.799 889.709,603.875 889.952,565.405 890.194,531.147 \n",
       "  890.436,501.621 890.678,477.093 890.92,457.576 891.163,442.844 891.405,432.459 891.647,425.809 891.889,422.154 892.132,420.673 892.374,420.512 892.616,420.831 \n",
       "  892.858,420.847 893.101,419.865 893.343,417.314 893.585,412.763 893.827,405.935 894.07,396.713 894.312,385.124 894.554,371.334 894.796,355.618 895.038,338.335 \n",
       "  895.281,319.9 895.523,300.751 895.765,281.329 896.007,262.048 896.25,243.288 896.492,225.372 896.734,208.565 896.976,193.069 897.219,179.026 897.461,166.518 \n",
       "  897.703,155.579 897.945,146.201 898.188,138.345 898.43,131.951 898.672,126.948 898.914,123.265 899.157,120.841 899.399,119.638 899.641,119.655 899.883,120.95 \n",
       "  900.125,123.664 900.368,128.037 900.61,134.43 900.852,143.301 901.094,155.152 901.337,170.413 901.579,189.276 901.821,211.505 902.063,236.28 902.306,262.144 \n",
       "  902.548,287.103 902.79,308.909 903.032,325.459 903.275,335.231 903.517,337.599 903.759,332.951 904.001,322.559 904.243,308.249 904.486,291.982 904.728,275.474 \n",
       "  904.97,259.95 905.212,246.063 905.455,233.973 905.697,223.503 905.939,214.321 906.181,206.092 906.424,198.572 906.666,191.654 906.908,185.375 907.15,179.901 \n",
       "  907.393,175.513 907.635,172.595 907.877,171.623 908.119,173.146 908.362,177.747 908.604,185.977 908.846,198.253 909.088,214.752 909.33,235.305 909.573,259.369 \n",
       "  909.815,286.064 910.057,314.326 910.299,343.119 910.542,371.664 910.784,399.598 911.026,427.017 911.268,454.376 911.511,482.282 911.753,511.247 911.995,541.478 \n",
       "  912.237,572.754 912.48,604.424 912.722,635.494 912.964,664.776 913.206,691.038 913.449,713.136 913.691,730.103 913.933,741.202 914.175,745.944 914.417,744.086 \n",
       "  914.66,735.627 914.902,720.787 915.144,699.992 915.386,673.844 915.629,643.091 915.871,608.595 916.113,571.285 916.355,532.12 916.598,492.045 916.84,451.954 \n",
       "  917.082,412.657 917.324,374.855 917.567,339.124 917.809,305.902 918.051,275.496 918.293,248.079 918.535,223.711 918.778,202.35 919.02,183.873 919.262,168.097 \n",
       "  919.504,154.799 919.747,143.73 919.989,134.638 920.231,127.273 920.473,121.401 920.716,116.813 920.958,113.322 921.2,110.775 921.442,109.047 921.685,108.046 \n",
       "  921.927,107.716 922.169,108.039 922.411,109.051 922.654,110.856 922.896,113.643 923.138,117.712 923.38,123.474 923.622,131.44 923.865,142.157 924.107,156.102 \n",
       "  924.349,173.529 924.591,194.316 924.834,217.847 925.076,243.005 925.318,268.313 925.56,292.212 925.803,313.427 926.045,331.323 926.287,346.129 926.529,358.953 \n",
       "  926.772,371.594 927.014,386.187 927.256,404.805 927.498,429.119 927.74,460.181 927.983,498.374 928.225,543.46 928.467,594.714 928.709,651.055 928.952,711.157 \n",
       "  929.194,773.532 929.436,836.569 929.678,898.573 929.921,957.797 930.163,1012.49 930.405,1060.96 930.647,1101.63 930.89,1133.15 931.132,1154.42 931.374,1164.71 \n",
       "  931.616,1163.64 931.859,1151.21 932.101,1127.82 932.343,1094.2 932.585,1051.37 932.827,1000.59 933.07,943.307 933.312,881.105 933.554,815.635 933.796,748.571 \n",
       "  934.039,681.547 934.281,616.09 934.523,553.555 934.765,495.071 935.008,441.503 935.25,393.448 935.492,351.239 935.734,314.98 935.977,284.59 936.219,259.843 \n",
       "  936.461,240.411 936.703,225.899 936.945,215.871 937.188,209.864 937.43,207.407 937.672,208.021 937.914,211.225 938.157,216.539 938.399,223.482 938.641,231.579 \n",
       "  938.883,240.357 939.126,249.357 939.368,258.137 939.61,266.281 939.852,273.411 940.095,279.194 940.337,283.36 940.579,285.701 940.821,286.087 941.064,284.465 \n",
       "  941.306,280.858 941.548,275.366 941.79,268.156 942.032,259.449 942.275,249.512 942.517,238.641 942.759,227.146 943.001,215.335 943.244,203.503 943.486,191.922 \n",
       "  943.728,180.831 943.97,170.43 944.213,160.883 944.455,152.313 944.697,144.812 944.939,138.444 945.182,133.252 945.424,129.272 945.666,126.538 945.908,125.095 \n",
       "  946.151,125.006 946.393,126.367 946.635,129.308 946.877,134.003 947.119,140.673 947.362,149.588 947.604,161.062 947.846,175.452 948.088,193.139 948.331,214.519 \n",
       "  948.573,239.981 948.815,269.875 949.057,304.488 949.3,344.008 949.542,388.49 949.784,437.82 950.026,491.688 950.269,549.565 950.511,610.687 950.753,674.06 \n",
       "  950.995,738.466 951.237,802.501 951.48,864.615 951.722,923.172 951.964,976.525 952.206,1023.09 952.449,1061.42 952.691,1090.31 952.933,1108.83 953.175,1116.4 \n",
       "  953.418,1112.82 953.66,1098.29 953.902,1073.42 954.144,1039.16 954.387,996.785 954.629,947.831 954.871,894.009 955.113,837.135 955.356,779.047 955.598,721.534 \n",
       "  955.84,666.269 956.082,614.759 956.324,568.301 956.567,527.964 956.809,494.571 957.051,468.705 957.293,450.711 957.536,440.716 957.778,438.647 958.02,444.246 \n",
       "  958.262,457.096 958.505,476.632 958.747,502.154 958.989,532.843 959.231,567.767 959.474,605.89 959.716,646.089 959.958,687.168 960.2,727.88 960.442,766.959 \n",
       "  960.685,803.153 960.927,835.276 961.169,862.248 961.411,883.146 961.654,897.253 961.896,904.092 962.138,903.459 962.38,895.43 962.623,880.36 962.865,858.867 \n",
       "  963.107,831.796 963.349,800.183 963.592,765.203 963.834,728.134 964.076,690.298 964.318,653.014 964.561,617.523 964.803,584.903 965.045,555.954 965.287,531.092 \n",
       "  965.529,510.252 965.772,492.874 966.014,477.964 966.256,464.27 966.498,450.517 966.741,435.644 966.983,418.976 967.225,400.278 967.467,379.684 967.71,357.552 \n",
       "  967.952,334.32 968.194,310.411 968.436,286.215 968.679,262.126 968.921,238.594 969.163,216.131 969.405,195.266 969.648,176.473 969.89,160.083 970.132,146.233 \n",
       "  970.374,134.863 970.616,125.748 970.859,118.569 971.101,112.97 971.343,108.614 971.585,105.213 971.828,102.537 972.07,100.412 972.312,98.7083 972.554,97.3334 \n",
       "  972.797,96.2177 973.039,95.3083 973.281,94.5645 973.523,93.9539 973.766,93.4506 974.008,93.0337 974.25,92.6865 974.492,92.3955 974.734,92.1501 974.977,91.9419 \n",
       "  975.219,91.7642 975.461,91.6117 975.703,91.4804 975.946,91.367 976.188,91.2688 976.43,91.1839 976.672,91.1104 976.915,91.0472 977.157,90.993 977.399,90.947 \n",
       "  977.641,90.9084 977.884,90.8767 978.126,90.8515 978.368,90.8323 978.61,90.819 978.853,90.8114 979.095,90.8095 979.337,90.8134 979.579,90.8232 979.821,90.8392 \n",
       "  980.064,90.8617 980.306,90.8912 980.548,90.9283 980.79,90.9736 981.033,91.028 981.275,91.0924 981.517,91.1679 981.759,91.2557 982.002,91.3574 982.244,91.4746 \n",
       "  982.486,91.6094 982.728,91.7644 982.971,91.9424 983.213,92.1472 983.455,92.3831 983.697,92.6557 983.939,92.9717 984.182,93.3397 984.424,93.77 984.666,94.2755 \n",
       "  984.908,94.8723 985.151,95.5805 985.393,96.4253 985.635,97.4401 985.877,98.6701 986.12,100.18 986.362,102.064 986.604,104.468 986.846,107.608 987.089,111.804 \n",
       "  987.331,117.504 987.573,125.29 987.815,135.86 988.058,149.95 988.3,168.203 988.542,190.998 988.784,218.269 989.026,249.393 989.269,283.197 989.511,318.135 \n",
       "  989.753,352.615 989.995,385.402 990.238,415.977 990.48,444.733 990.722,472.936 990.964,502.438 991.207,535.252 991.449,573.075 991.691,616.917 991.933,666.875 \n",
       "  992.176,722.109 992.418,780.973 992.66,841.24 992.902,900.393 993.145,955.891 993.387,1005.41 993.629,1047 993.871,1079.2 994.113,1101.03 994.356,1112 \n",
       "  994.598,1111.97 994.84,1101.17 995.082,1080.08 995.325,1049.45 995.567,1010.23 995.809,963.58 996.051,910.835 996.294,853.474 996.536,793.058 996.778,731.163 \n",
       "  997.02,669.32 997.263,608.948 997.505,551.313 997.747,497.49 997.989,448.35 998.231,404.555 998.474,366.57 998.716,334.676 998.958,308.994 999.2,289.507 \n",
       "  999.443,276.074 999.685,268.445 999.927,266.276 1000.17,269.135 1000.41,276.514 1000.65,287.846 1000.9,302.516 1001.14,319.883 1001.38,339.299 1001.62,360.119 \n",
       "  1001.87,381.718 1002.11,403.493 1002.35,424.874 1002.59,445.322 1002.83,464.329 1003.08,481.406 1003.32,496.065 1003.56,507.798 1003.8,516.075 1004.05,520.36 \n",
       "  1004.29,520.167 1004.53,515.152 1004.77,505.217 1005.01,490.605 1005.26,471.94 1005.5,450.207 1005.74,426.664 1005.98,402.709 1006.23,379.73 1006.47,358.99 \n",
       "  1006.71,341.545 1006.95,328.223 1007.19,319.625 1007.44,316.164 1007.68,318.095 1007.92,325.537 1008.16,338.484 1008.41,356.801 1008.65,380.215 1008.89,408.303 \n",
       "  1009.13,440.484 1009.37,476.016 1009.62,514.007 1009.86,553.429 1010.1,593.143 1010.34,631.94 1010.59,668.578 1010.83,701.838 1011.07,730.571 1011.31,753.753 \n",
       "  1011.55,770.533 1011.8,780.278 1012.04,782.596 1012.28,777.364 1012.52,764.725 1012.77,745.079 1013.01,719.059 1013.25,687.494 1013.49,651.36 1013.73,611.731 \n",
       "  1013.98,569.72 1014.22,526.432 1014.46,482.912 1014.7,440.107 1014.95,398.835 1015.19,359.764 1015.43,323.405 1015.67,290.112 1015.91,260.088 1016.16,233.404 \n",
       "  1016.4,210.019 1016.64,189.797 1016.88,172.537 1017.13,157.992 1017.37,145.888 1017.61,135.941 1017.85,127.874 1018.09,121.422 1018.34,116.344 1018.58,112.422 \n",
       "  1018.82,109.468 1019.06,107.318 1019.31,105.834 1019.55,104.901 1019.79,104.423 1020.03,104.319 1020.28,104.523 1020.52,104.981 1020.76,105.646 1021,106.481 \n",
       "  1021.24,107.457 1021.49,108.553 1021.73,109.759 1021.97,111.077 1022.21,112.522 1022.46,114.126 1022.7,115.945 1022.94,118.056 1023.18,120.565 1023.42,123.611 \n",
       "  1023.67,127.366 1023.91,132.036 1024.15,137.868 1024.39,145.14 1024.64,154.165 1024.88,165.276 1025.12,178.826 1025.36,195.165 1025.6,214.628 1025.85,237.513 \n",
       "  1026.09,264.056 1026.33,294.408 1026.57,328.606 1026.82,366.547 1027.06,407.973 1027.3,452.447 1027.54,499.353 1027.78,547.894 1028.03,597.106 1028.27,645.884 \n",
       "  1028.51,693.022 1028.75,737.258 1029,777.332 1029.24,812.045 1029.48,840.324 1029.72,861.281 1029.96,874.262 1030.21,878.892 1030.45,875.099 1030.69,863.126 \n",
       "  1030.93,843.524 1031.18,817.131 1031.42,785.04 1031.66,748.543 1031.9,709.086 1032.14,668.201 1032.39,627.452 1032.63,588.372 1032.87,552.413 1033.11,520.899 \n",
       "  1033.36,494.984 1033.6,475.622 1033.84,463.544 1034.08,459.234 1034.32,462.923 1034.57,474.579 1034.81,493.906 1035.05,520.347 1035.29,553.097 1035.54,591.12 \n",
       "  1035.78,633.171 1036.02,677.833 1036.26,723.56 1036.5,768.724 1036.75,811.68 1036.99,850.823 1037.23,884.656 1037.47,911.857 1037.72,931.331 1037.96,942.267 \n",
       "  1038.2,944.164 1038.44,936.86 1038.69,920.528 1038.93,895.661 1039.17,863.043 1039.41,823.694 1039.65,778.818 1039.9,729.735 1040.14,677.815 1040.38,624.409 \n",
       "  1040.62,570.796 1040.87,518.13 1041.11,467.407 1041.35,419.437 1041.59,374.836 1041.83,334.026 1042.08,297.246 1042.32,264.573 1042.56,235.947 1042.8,211.193 \n",
       "  1043.05,190.058 1043.29,172.232 1043.53,157.375 1043.77,145.14 1044.01,135.192 1044.26,127.225 1044.5,120.982 1044.74,116.265 1044.98,112.953 1045.23,111.009 \n",
       "  1045.47,110.479 1045.71,111.468 1045.95,114.094 1046.19,118.417 1046.44,124.346 1046.68,131.564 1046.92,139.481 1047.16,147.26 1047.41,153.925 1047.65,158.532 \n",
       "  1047.89,160.365 1048.13,159.098 1048.37,154.873 1048.62,148.26 1048.86,140.118 1049.1,131.41 1049.34,123.004 1049.59,115.545 1049.83,109.394 1050.07,104.651 \n",
       "  1050.31,101.215 1050.55,98.8779 1050.8,97.3949 1051.04,96.5421 1051.28,96.1429 1051.52,96.0757 1051.77,96.2687 1052.01,96.6896 1052.25,97.337 1052.49,98.2325 \n",
       "  1052.73,99.4178 1052.98,100.954 1053.22,102.924 1053.46,105.434 1053.7,108.618 1053.95,112.644 1054.19,117.717 1054.43,124.083 1054.67,132.03 1054.91,141.894 \n",
       "  1055.16,154.05 1055.4,168.913 1055.64,186.927 1055.88,208.547 1056.13,234.227 1056.37,264.389 1056.61,299.398 1056.85,339.525 1057.1,384.919 1057.34,435.566 \n",
       "  1057.58,491.257 1057.82,551.561 1058.06,615.8 1058.31,683.037 1058.55,752.075 1058.79,821.472 1059.03,889.578 1059.28,954.598 1059.52,1014.67 1059.76,1067.96 \n",
       "  1060,1112.77 1060.24,1147.65 1060.49,1171.46 1060.73,1183.45 1060.97,1183.29 1061.21,1171.05 1061.46,1147.21 1061.7,1112.62 1061.94,1068.45 1062.18,1016.1 \n",
       "  1062.42,957.191 1062.67,893.444 1062.91,826.615 1063.15,758.423 1063.39,690.48 1063.64,624.234 1063.88,560.928 1064.12,501.575 1064.36,446.948 1064.6,397.593 \n",
       "  1064.85,353.841 1065.09,315.844 1065.33,283.605 1065.57,257.022 1065.82,235.921 1066.06,220.093 1066.3,209.321 1066.54,203.403 1066.78,202.169 1067.03,205.479 \n",
       "  1067.27,213.23 1067.51,225.34 1067.75,241.732 1068,262.317 1068.24,286.964 1068.48,315.478 1068.72,347.572 1068.96,382.848 1069.21,420.783 1069.45,460.716 \n",
       "  1069.69,501.858 1069.93,543.299 1070.18,584.039 1070.42,623.021 1070.66,659.181 1070.9,691.496 1071.14,719.042 1071.39,741.036 1071.63,756.87 1071.87,766.128 \n",
       "  1072.11,768.58 1072.36,764.16 1072.6,752.948 1072.84,735.148 1073.08,711.096 1073.32,681.275 1073.57,646.353 1073.81,607.2 1074.05,564.885 1074.29,520.63 \n",
       "  1074.54,475.729 1074.78,431.438 1075.02,388.875 1075.26,348.936 1075.51,312.255 1075.75,279.206 1075.99,249.933 1076.23,224.4 1076.47,202.446 1076.72,183.832 \n",
       "  1076.96,168.279 1077.2,155.495 1077.44,145.196 1077.69,137.112 1077.93,130.998 1078.17,126.642 1078.41,123.861 1078.65,122.508 1078.9,122.47 1079.14,123.666 \n",
       "  1079.38,126.042 1079.62,129.574 1079.87,134.258 1080.11,140.113 1080.35,147.174 1080.59,155.493 1080.83,165.14 1081.08,176.2 1081.32,188.776 1081.56,202.995 \n",
       "  1081.8,219.003 1082.05,236.975 1082.29,257.107 1082.53,279.617 1082.77,304.738 1083.01,332.708 1083.26,363.749 1083.5,398.049 1083.74,435.735 1083.98,476.842 \n",
       "  1084.23,521.284 1084.47,568.823 1084.71,619.046 1084.95,671.354 1085.19,724.96 1085.44,778.908 1085.68,832.109 1085.92,883.394 1086.16,931.589 1086.41,975.597 \n",
       "  1086.65,1014.49 1086.89,1047.58 1087.13,1074.52 1087.37,1095.31 1087.62,1110.33 1087.86,1120.33 1088.1,1126.32 1088.34,1129.54 1088.59,1131.27 1088.83,1132.75 \n",
       "  1089.07,1135.03 1089.31,1138.89 1089.55,1144.75 1089.8,1152.64 1090.04,1162.26 1090.28,1173.02 1090.52,1184.1 1090.77,1194.62 1091.01,1203.69 1091.25,1210.49 \n",
       "  1091.49,1214.42 1091.74,1215.05 1091.98,1212.19 1092.22,1205.85 1092.46,1196.29 1092.7,1183.91 1092.95,1169.27 1093.19,1153.03 1093.43,1135.91 1093.67,1118.63 \n",
       "  1093.92,1101.89 1094.16,1086.26 1094.4,1072.14 1094.64,1059.74 1094.88,1049.01 1095.13,1039.65 1095.37,1031.15 1095.61,1022.84 1095.85,1013.96 1096.1,1003.72 \n",
       "  1096.34,991.49 1096.58,976.793 1096.82,959.43 1097.06,939.502 1097.31,917.42 1097.55,893.879 1097.79,869.793 1098.03,846.217 1098.28,824.247 1098.52,804.919 \n",
       "  1098.76,789.113 1099,777.474 1099.24,770.36 1099.49,767.816 1099.73,769.577 1099.97,775.101 1100.21,783.626 1100.46,794.243 1100.7,805.973 1100.94,817.853 \n",
       "  1101.18,829.012 1101.42,838.733 1101.67,846.503 1101.91,852.055 1102.15,855.384 1102.39,856.751 1102.64,856.663 1102.88,855.826 1103.12,855.056 1103.36,855.149 \n",
       "  1103.6,856.726 1103.85,860.061 1104.09,864.955 1104.33,870.679 1104.57,876.051 1104.82,879.62 1105.06,879.952 1105.3,875.932 1105.54,866.995 1105.78,853.243 \n",
       "  1106.03,835.404 1106.27,814.668 1106.51,792.465 1106.75,770.239 1107,749.262 1107.24,730.499 1107.48,714.495 1107.72,701.273 1107.96,690.26 1108.21,680.265 \n",
       "  1108.45,669.584 1108.69,656.262 1108.93,638.495 1109.18,615.09 1109.42,585.85 1109.66,551.755 1109.9,514.87 1110.15,477.994 1110.39,444.158 1110.63,416.12 \n",
       "  1110.87,395.969 1111.11,384.945 1111.36,383.437 1111.6,391.137 1111.84,407.241 1112.08,430.659 1112.33,460.15 1112.57,494.418 1112.81,532.144 1113.05,571.992 \n",
       "  1113.29,612.608 1113.54,652.629 1113.78,690.7 1114.02,725.505 1114.26,755.811 1114.51,780.517 1114.75,798.699 1114.99,809.656 1115.23,812.94 1115.47,808.379 \n",
       "  1115.72,796.083 1115.96,776.431 1116.2,750.051 1116.44,717.78 1116.69,680.619 1116.93,639.674 1117.17,596.106 1117.41,551.07 1117.65,505.667 1117.9,460.9 \n",
       "  1118.14,417.641 1118.38,376.61 1118.62,338.363 1118.87,303.288 1119.11,271.621 1119.35,243.454 1119.59,218.757 1119.83,197.406 1120.08,179.201 1120.32,163.894 \n",
       "  1120.56,151.21 1120.8,140.866 1121.05,132.585 1121.29,126.115 1121.53,121.232 1121.77,117.75 1122.01,115.529 1122.26,114.473 1122.5,114.538 1122.74,115.73 \n",
       "  1122.98,118.11 1123.23,121.791 1123.47,126.94 1123.71,133.778 1123.95,142.576 1124.19,153.653 1124.44,167.364 1124.68,184.092 1124.92,204.234 1125.16,228.176 \n",
       "  1125.41,256.272 1125.65,288.815 1125.89,326.004 1126.13,367.913 1126.37,414.455 1126.62,465.357 1126.86,520.137 1127.1,578.091 1127.34,638.29 1127.59,699.603 \n",
       "  1127.83,760.718 1128.07,820.193 1128.31,876.517 1128.56,928.173 1128.8,973.723 1129.04,1011.88 1129.28,1041.57 1129.52,1062 1129.77,1072.7 1130.01,1073.53 \n",
       "  1130.25,1064.69 1130.49,1046.7 1130.74,1020.32 1130.98,986.563 1131.22,946.558 1131.46,901.534 1131.7,852.737 1131.95,801.38 1132.19,748.598 1132.43,695.418 \n",
       "  1132.67,642.738 1132.92,591.323 1133.16,541.803 1133.4,494.68 1133.64,450.346 1133.88,409.099 1134.13,371.168 1134.37,336.741 1134.61,306.001 1134.85,279.161 \n",
       "  1135.1,256.491 1135.34,238.319 1135.58,225 1135.82,216.828 1136.06,213.888 1136.31,215.889 1136.55,222.009 1136.79,230.829 1137.03,240.41 1137.28,248.54 \n",
       "  1137.52,253.114 1137.76,252.548 1138,246.113 1138.24,234.079 1138.49,217.613 1138.73,198.476 1138.97,178.611 1139.21,159.752 1139.46,143.151 1139.7,129.469 \n",
       "  1139.94,118.827 1140.18,110.949 1140.42,105.345 1140.67,101.462 1140.91,98.7949 1141.15,96.9396 1141.39,95.6025 1141.64,94.5887 1141.88,93.7783 1142.12,93.1031 \n",
       "  1142.36,92.5269 1142.6,92.032 1142.85,91.6096 1143.09,91.2542 1143.33,90.9612 1143.57,90.725 1143.82,90.5397 1144.06,90.3993 1144.3,90.2984 1144.54,90.2329 \n",
       "  1144.78,90.1999 1145.03,90.1981 1145.27,90.228 1145.51,90.292 1145.75,90.3955 1146,90.5489 1146.24,90.7711 1146.48,91.0957 1146.72,91.5784 1146.97,92.3062 \n",
       "  1147.21,93.4043 1147.45,95.0361 1147.69,97.3898 1147.93,100.647 1148.18,104.929 1148.42,110.237 1148.66,116.386 1148.9,122.975 1149.15,129.404 1149.39,134.951 \n",
       "  1149.63,138.903 1149.87,140.709 1150.11,140.103 1150.36,137.175 1150.6,132.344 1150.84,126.26 1151.08,119.658 1151.33,113.214 1151.57,107.435 1151.81,102.613 \n",
       "  1152.05,98.8344 1152.29,96.0307 1152.54,94.0434 1152.78,92.6811 1153.02,91.7654 1153.26,91.1507 1153.51,90.7312 1153.75,90.436 1153.99,90.2211 1154.23,90.061 \n",
       "  1154.47,89.941 1154.72,89.853 1154.96,89.7924 1155.2,89.7568 1155.44,89.7448 1155.69,89.756 1155.93,89.7909 1156.17,89.8508 1156.41,89.9383 1156.65,90.0577 \n",
       "  1156.9,90.2163 1157.14,90.4274 1157.38,90.7144 1157.62,91.1173 1157.87,91.7024 1158.11,92.5704 1158.35,93.8639 1158.59,95.764 1158.83,98.4731 1159.08,102.176 \n",
       "  1159.32,106.981 1159.56,112.85 1159.8,119.542 1160.05,126.581 1160.29,133.294 1160.53,138.905 1160.77,142.68 1161.01,144.091 1161.26,142.935 1161.5,139.39 \n",
       "  1161.74,133.966 1161.98,127.387 1162.23,120.437 1162.47,113.806 1162.71,107.992 1162.95,103.266 1163.19,99.7002 1163.44,97.2248 1163.68,95.7051 1163.92,95.0025 \n",
       "  1164.16,95.0125 1164.41,95.6758 1164.65,96.963 1164.89,98.8433 1165.13,101.246 1165.38,104.028 1165.62,106.96 1165.86,109.742 1166.1,112.043 1166.34,113.567 \n",
       "  1166.59,114.114 1166.83,113.635 1167.07,112.239 1167.31,110.172 1167.56,107.762 1167.8,105.355 1168.04,103.251 1168.28,101.672 1168.52,100.752 1168.77,100.551 \n",
       "  1169.01,101.088 1169.25,102.377 1169.49,104.46 1169.74,107.436 1169.98,111.489 1170.22,116.905 1170.46,124.079 1170.7,133.502 1170.95,145.725 1171.19,161.28 \n",
       "  1171.43,180.573 1171.67,203.761 1171.92,230.651 1172.16,260.641 1172.4,292.746 1172.64,325.7 1172.88,358.104 1173.13,388.595 1173.37,415.972 1173.61,439.277 \n",
       "  1173.85,457.833 1174.1,471.26 1174.34,479.488 1174.58,482.768 1174.82,481.661 1175.06,476.978 1175.31,469.681 1175.55,460.741 1175.79,451.017 1176.03,441.165 \n",
       "  1176.28,431.631 1176.52,422.684 1176.76,414.482 1177,407.134 1177.24,400.737 1177.49,395.371 1177.73,391.094 1177.97,387.924 1178.21,385.847 1178.46,384.849 \n",
       "  1178.7,384.947 1178.94,386.214 1179.18,388.773 1179.42,392.758 1179.67,398.248 1179.91,405.196 1180.15,413.384 1180.39,422.403 1180.64,431.677 1180.88,440.52 \n",
       "  1181.12,448.205 1181.36,454.035 1181.6,457.405 1181.85,457.847 1182.09,455.052 1182.33,448.882 1182.57,439.368 1182.82,426.688 1183.06,411.157 1183.3,393.192 \n",
       "  1183.54,373.286 1183.79,351.982 1184.03,329.836 1184.27,307.395 1184.51,285.17 1184.75,263.622 1185,243.141 1185.24,224.048 1185.48,206.586 1185.72,190.927 \n",
       "  1185.97,177.181 1186.21,165.403 1186.45,155.612 1186.69,147.804 1186.93,141.967 1187.18,138.097 1187.42,136.211 1187.66,136.362 1187.9,138.645 1188.15,143.21 \n",
       "  1188.39,150.26 1188.63,160.051 1188.87,172.895 1189.11,189.139 1189.36,209.161 1189.6,233.342 1189.84,262.044 1190.08,295.578 1190.33,334.171 1190.57,377.928 \n",
       "  1190.81,426.797 1191.05,480.536 1191.29,538.686 1191.54,600.548 1191.78,665.184 1192.02,731.419 1192.26,797.867 1192.51,862.971 1192.75,925.059 1192.99,982.412 \n",
       "  1193.23,1033.34 1193.47,1076.27 1193.72,1109.83 1193.96,1132.9 1194.2,1144.7 1194.44,1144.83 1194.69,1133.29 1194.93,1110.46 1195.17,1077.13 1195.41,1034.38 \n",
       "  1195.65,983.589 1195.9,926.332 1196.14,864.292 1196.38,799.187 1196.62,732.69 1196.87,666.359 1197.11,601.582 1197.35,539.537 1197.59,481.164 1197.83,427.161 \n",
       "  1198.08,377.984 1198.32,333.871 1198.56,294.864 1198.8,260.84 1199.05,231.552 1199.29,206.659 1199.53,185.762 1199.77,168.43 1200.01,154.23 1200.26,142.742 \n",
       "  1200.5,133.576 1200.74,126.385 1200.98,120.866 1201.23,116.767 1201.47,113.888 1201.71,112.081 1201.95,111.25 1202.2,111.349 1202.44,112.383 1202.68,114.406 \n",
       "  1202.92,117.525 1203.16,121.9 1203.41,127.743 1203.65,135.321 1203.89,144.951 1204.13,157.004 1204.38,171.889 1204.62,190.05 1204.86,211.948 1205.1,238.039 \n",
       "  1205.34,268.748 1205.59,304.44 1205.83,345.378 1206.07,391.694 1206.31,443.341 1206.56,500.066 1206.8,561.377 1207.04,626.527 1207.28,694.513 1207.52,764.094 \n",
       "  1207.77,833.819 1208.01,902.09 1208.25,967.231 1208.49,1027.58 1208.74,1081.56 1208.98,1127.83 1209.22,1165.29 1209.46,1193.19 1209.7,1211.19 1209.95,1219.3 \n",
       "  1210.19,1217.92 1210.43,1207.73 1210.67,1189.68 1210.92,1164.82 1211.16,1134.27 1211.4,1099.11 1211.64,1060.31 1211.88,1018.71 1212.13,974.971 1212.37,929.598 \n",
       "  1212.61,882.974 1212.85,835.392 1213.1,787.1 1213.34,738.339 1213.58,689.382 1213.82,640.545 1214.06,592.196 1214.31,544.747 1214.55,498.631 1214.79,454.285 \n",
       "  1215.03,412.119 1215.28,372.493 1215.52,335.697 1215.76,301.941 1216,271.345 1216.24,243.942 1216.49,219.683 1216.73,198.451 1216.97,180.07 1217.21,164.324 \n",
       "  1217.46,150.97 1217.7,139.749 1217.94,130.403 1218.18,122.681 1218.43,116.345 1218.67,111.177 1218.91,106.984 1219.15,103.594 1219.39,100.861 1219.64,98.6589 \n",
       "  1219.88,96.8842 1220.12,95.4512 1220.36,94.2903 1220.61,93.3454 1220.85,92.572 1221.09,91.9349 1221.33,91.4063 1221.57,90.9648 1221.82,90.5933 1222.06,90.2788 \n",
       "  1222.3,90.011 1222.54,89.7817 1222.79,89.5847 1223.03,89.4148 1223.27,89.268 1223.51,89.1409 1223.75,89.0308 1224,88.9355 1224.24,88.8531 1224.48,88.782 \n",
       "  1224.72,88.7209 1224.97,88.6685 1225.21,88.624 1225.45,88.5864 1225.69,88.5552 1225.93,88.5297 1226.18,88.5094 1226.42,88.4941 1226.66,88.4833 1226.9,88.4769 \n",
       "  1227.15,88.4749 1227.39,88.4772 1227.63,88.4839 1227.87,88.4953 1228.11,88.5115 1228.36,88.5331 1228.6,88.5604 1228.84,88.5942 1229.08,88.6353 1229.33,88.6846 \n",
       "  1229.57,88.7434 1229.81,88.813 1230.05,88.8953 1230.29,88.9923 1230.54,89.1066 1230.78,89.2413 1231.02,89.4003 1231.26,89.5883 1231.51,89.8109 1231.75,90.0752 \n",
       "  1231.99,90.3898 1232.23,90.7649 1232.47,91.2135 1232.72,91.7507 1232.96,92.395 1233.2,93.1686 1233.44,94.0981 1233.69,95.2151 1233.93,96.557 1234.17,98.1681 \n",
       "  1234.41,100.101 1234.65,102.416 1234.9,105.187 1235.14,108.496 1235.38,112.444 1235.62,117.143 1235.87,122.727 1236.11,129.35 1236.35,137.185 1236.59,146.432 \n",
       "  1236.84,157.314 1237.08,170.077 1237.32,184.993 1237.56,202.349 1237.8,222.447 1238.05,245.593 1238.29,272.087 1238.53,302.206 1238.77,336.191 1239.02,374.22 \n",
       "  1239.26,416.393 1239.5,462.703 1239.74,513.012 1239.98,567.03 1240.23,624.292 1240.47,684.144 1240.71,745.738 1240.95,808.03 1241.2,869.796 1241.44,929.664 \n",
       "  1241.68,986.149 1241.92,1037.71 1242.16,1082.83 1242.41,1120.06 1242.65,1148.13 1242.89,1166 1243.13,1172.93 1243.38,1168.54 1243.62,1152.83 1243.86,1126.18 \n",
       "  1244.1,1089.35 1244.34,1043.43 1244.59,989.803 1244.83,930.027 1245.07,865.791 1245.31,798.812 1245.56,730.76 1245.8,663.183 1246.04,597.455 1246.28,534.727 \n",
       "  1246.52,475.91 1246.77,421.664 1247.01,372.406 1247.25,328.333 1247.49,289.444 1247.74,255.581 1247.98,226.461 1248.22,201.712 1248.46,180.911 1248.7,163.606 \n",
       "  1248.95,149.343 1249.19,137.688 1249.43,128.233 1249.67,120.611 1249.92,114.497 1250.16,109.611 1250.4,105.714 1250.64,102.609 1250.88,100.131 1251.13,98.1502 \n",
       "  1251.37,96.5607 1251.61,95.2797 1251.85,94.2423 1252.1,93.3983 1252.34,92.7089 1252.58,92.1447 1252.82,91.6831 1253.06,91.3071 1253.31,91.004 1253.55,90.7642 \n",
       "  1253.79,90.5807 1254.03,90.4485 1254.28,90.3641 1254.52,90.3254 1254.76,90.3315 1255,90.3825 1255.25,90.4799 1255.49,90.6261 1255.73,90.8251 1255.97,91.0824 \n",
       "  1256.21,91.406 1256.46,91.8063 1256.7,92.2974 1256.94,92.898 1257.18,93.6327 1257.43,94.534 1257.67,95.6441 1257.91,97.0179 1258.15,98.7259 1258.39,100.858 \n",
       "  1258.64,103.528 1258.88,106.878 1259.12,111.082 1259.36,116.352 1259.61,122.941 1259.85,131.145 1260.09,141.303 1260.33,153.798 1260.57,169.049 1260.82,187.501 \n",
       "  1261.06,209.609 1261.3,235.821 1261.54,266.55 1261.79,302.146 1262.03,342.859 1262.27,388.803 1262.51,439.923 1262.75,495.963 1263,556.433 1263.24,620.599 \n",
       "  1263.48,687.475 1263.72,755.835 1263.97,824.236 1264.21,891.067 1264.45,954.603 1264.69,1013.08 1264.93,1064.77 1265.18,1108.09 1265.42,1141.64 1265.66,1164.33 \n",
       "  1265.9,1175.41 1266.15,1174.54 1266.39,1161.81 1266.63,1137.72 1266.87,1103.2 1267.11,1059.55 1267.36,1008.32 1267.6,951.277 1267.84,890.213 1268.08,826.864 \n",
       "  1268.33,762.766 1268.57,699.184 1268.81,637.072 1269.05,577.103 1269.29,519.748 1269.54,465.362 1269.78,414.283 1270.02,366.864 1270.26,323.477 1270.51,284.461 \n",
       "  1270.75,250.049 1270.99,220.317 1271.23,195.146 1271.47,174.239 1271.72,157.162 1271.96,143.398 1272.2,132.416 1272.44,123.707 1272.69,116.822 1272.93,111.383 \n",
       "  1273.17,107.078 1273.41,103.662 1273.66,100.94 1273.9,98.7603 1274.14,97.0056 1274.38,95.584 1274.62,94.424 1274.87,93.4703 1275.11,92.6801 1275.35,92.0202 \n",
       "  1275.59,91.465 1275.84,90.9947 1276.08,90.594 1276.32,90.251 1276.56,89.9564 1276.8,89.7029 1277.05,89.4849 1277.29,89.2976 1277.53,89.1375 1277.77,89.0016 \n",
       "  1278.02,88.8874 1278.26,88.7931 1278.5,88.7171 1278.74,88.6582 1278.98,88.6154 1279.23,88.5881 1279.47,88.5759 1279.71,88.5787 1279.95,88.5967 1280.2,88.6302 \n",
       "  1280.44,88.6802 1280.68,88.7476 1280.92,88.8343 1281.16,88.9422 1281.41,89.0744 1281.65,89.2345 1281.89,89.4273 1282.13,89.659 1282.38,89.9376 1282.62,90.2731 \n",
       "  1282.86,90.6787 1283.1,91.1709 1283.34,91.7705 1283.59,92.5039 1283.83,93.4038 1284.07,94.5105 1284.31,95.8733 1284.56,97.5516 1284.8,99.6162 1285.04,102.15 \n",
       "  1285.28,105.25 1285.52,109.024 1285.77,113.596 1286.01,119.099 1286.25,125.68 1286.49,133.492 1286.74,142.693 1286.98,153.445 1287.22,165.905 1287.46,180.226 \n",
       "  1287.7,196.551 1287.95,215.007 1288.19,235.707 1288.43,258.748 1288.67,284.208 1288.92,312.15 1289.16,342.62 1289.4,375.654 1289.64,411.273 1289.88,449.485 \n",
       "  1290.13,490.275 1290.37,533.596 1290.61,579.353 1290.85,627.382 1291.1,677.42 1291.34,729.085 1291.58,781.844 1291.82,834.993 1292.07,887.654 1292.31,938.773 \n",
       "  1292.55,987.143 1292.79,1031.45 1293.03,1070.32 1293.28,1102.41 1293.52,1126.46 1293.76,1141.41 1294,1146.44 1294.25,1141.07 1294.49,1125.17 1294.73,1099 \n",
       "  1294.97,1063.18 1295.21,1018.68 1295.46,966.756 1295.7,908.88 1295.94,846.646 1296.18,781.7 1296.43,715.649 1296.67,649.994 1296.91,586.069 1297.15,525.002 \n",
       "  1297.39,467.685 1297.64,414.771 1297.88,366.676 1298.12,323.601 1298.36,285.556 1298.61,252.396 1298.85,223.853 1299.09,199.572 1299.33,179.144 1299.57,162.134 \n",
       "  1299.82,148.101 1300.06,136.623 1300.3,127.304 1300.54,119.784 1300.79,113.747 1301.03,108.917 1301.27,105.06 1301.51,101.981 1301.75,99.5198 1302,97.5465 \n",
       "  1302.24,95.9568 1302.48,94.6684 1302.72,93.6166 1302.97,92.7511 1303.21,92.033 1303.45,91.432 1303.69,90.9252 1303.93,90.4944 1304.18,90.1261 1304.42,89.8092 \n",
       "  1304.66,89.5355 1304.9,89.2982 1305.15,89.0918 1305.39,88.9122 1305.63,88.7556 1305.87,88.6191 1306.11,88.5001 1306.36,88.3965 1306.6,88.3065 1306.84,88.2283 \n",
       "  1307.08,88.1606 1307.33,88.1022 1307.57,88.0519 1307.81,88.0088 1308.05,87.9721 1308.29,87.941 1308.54,87.9148 1308.78,87.893 1309.02,87.8751 1309.26,87.8608 \n",
       "  1309.51,87.8495 1309.75,87.8412 1309.99,87.8355 1310.23,87.8322 1310.48,87.8314 1310.72,87.8328 1310.96,87.8366 1311.2,87.8427 1311.44,87.8512 1311.69,87.8624 \n",
       "  1311.93,87.8764 1312.17,87.8936 1312.41,87.9145 1312.66,87.9396 1312.9,87.9697 1313.14,88.0057 1313.38,88.0489 1313.62,88.1009 1313.87,88.1638 1314.11,88.2402 \n",
       "  1314.35,88.3336 1314.59,88.4484 1314.84,88.5901 1315.08,88.7656 1315.32,88.9837 1315.56,89.2551 1315.8,89.5926 1316.05,90.0118 1316.29,90.5309 1316.53,91.1709 \n",
       "  1316.77,91.9558 1317.02,92.9118 1317.26,94.0674 1317.5,95.4523 1317.74,97.0968 1317.98,99.0299 1318.23,101.278 1318.47,103.864 1318.71,106.803 1318.95,110.104 \n",
       "  1319.2,113.766 1319.44,117.777 1319.68,122.116 1319.92,126.748 1320.16,131.631 1320.41,136.714 1320.65,141.942 1320.89,147.259 1321.13,152.611 1321.38,157.954 \n",
       "  1321.62,163.256 1321.86,168.505 1322.1,173.712 1322.34,178.922 1322.59,184.221 1322.83,189.743 1323.07,195.677 1323.31,202.263 1323.56,209.776 1323.8,218.486 \n",
       "  1324.04,228.59 1324.28,240.131 1324.52,252.907 1324.77,266.415 1325.01,279.845 1325.25,292.161 1325.49,302.251 1325.74,309.131 1325.98,312.135 1326.22,311.045 \n",
       "  1326.46,306.117 1326.7,297.99 1326.95,287.528 1327.19,275.627 1327.43,263.063 1327.67,250.395 1327.92,237.954 1328.16,225.882 1328.4,214.201 1328.64,202.887 \n",
       "  1328.89,191.921 1329.13,181.313 1329.37,171.11 1329.61,161.382 1329.85,152.212 1330.1,143.679 1330.34,135.844 1330.58,128.749 1330.82,122.409 1331.07,116.818 \n",
       "  1331.31,111.95 1331.55,107.761 1331.79,104.197 1332.03,101.197 1332.28,98.6961 1332.52,96.6304 1332.76,94.9376 1333,93.5599 1333.25,92.445 1333.49,91.5468 \n",
       "  1333.73,90.8253 1333.97,90.2465 1334.21,89.7822 1334.46,89.4089 1334.7,89.1078 1334.94,88.8637 1335.18,88.6647 1335.43,88.5012 1335.67,88.366 1335.91,88.2532 \n",
       "  1336.15,88.1585 1336.39,88.0785 1336.64,88.0104 1336.88,87.9522 1337.12,87.9024 1337.36,87.8596 1337.61,87.823 1337.85,87.7917 1338.09,87.7651 1338.33,87.7428 \n",
       "  1338.57,87.7245 1338.82,87.7097 1339.06,87.6984 1339.3,87.6905 1339.54,87.6858 1339.79,87.6845 1340.03,87.6867 1340.27,87.6924 1340.51,87.702 1340.75,87.7157 \n",
       "  1341,87.734 1341.24,87.7572 1341.48,87.786 1341.72,87.821 1341.97,87.863 1342.21,87.9128 1342.45,87.9715 1342.69,88.0401 1342.93,88.12 1343.18,88.2127 \n",
       "  1343.42,88.3198 1343.66,88.4434 1343.9,88.5857 1344.15,88.7494 1344.39,88.9378 1344.63,89.1546 1344.87,89.4046 1345.12,89.6935 1345.36,90.0286 1345.6,90.419 \n",
       "  1345.84,90.8764 1346.08,91.4159 1346.33,92.0569 1346.57,92.8245 1346.81,93.7517 1347.05,94.8808 1347.3,96.2666 1347.54,97.9794 1347.78,100.109 1348.02,102.768 \n",
       "  1348.26,106.097 1348.51,110.27 1348.75,115.497 1348.99,122.031 1349.23,130.165 1349.48,140.241 1349.72,152.639 1349.96,167.781 1350.2,186.113 1350.44,208.096 \n",
       "  1350.69,234.183 1350.93,264.797 1351.17,300.295 1351.41,340.943 1351.66,386.869 1351.9,438.036 1352.14,494.204 1352.38,554.901 1352.62,619.411 1352.87,686.763 \n",
       "  1353.11,755.739 1353.35,824.907 1353.59,892.655 1353.84,957.256 1354.08,1016.94 1354.32,1069.96 1354.56,1114.71 1354.8,1149.78 1355.05,1174.06 1355.29,1186.78 \n",
       "  1355.53,1187.56 1355.77,1176.46 1356.02,1153.96 1356.26,1120.91 1356.5,1078.54 1356.74,1028.34 1356.98,972.04 1357.23,911.453 1357.47,848.447 1357.71,784.842 \n",
       "  1357.95,722.347 1358.2,662.5 1358.44,606.638 1358.68,555.872 1358.92,511.092 1359.16,472.967 1359.41,441.975 1359.65,418.424 1359.89,402.482 1360.13,394.198 \n",
       "  1360.38,393.527 1360.62,400.337 1360.86,414.416 1361.1,435.469 1361.34,463.109 1361.59,496.85 1361.83,536.098 1362.07,580.147 1362.31,628.184 1362.56,679.294 \n",
       "  1362.8,732.487 1363.04,786.713 1363.28,840.898 1363.53,893.972 1363.77,944.9 1364.01,992.71 1364.25,1036.52 1364.49,1075.58 1364.74,1109.26 1364.98,1137.14 \n",
       "  1365.22,1158.98 1365.46,1174.8 1365.71,1184.86 1365.95,1189.71 1366.19,1190.17 1366.43,1187.29 1366.67,1182.29 1366.92,1176.48 1367.16,1171.12 1367.4,1167.33 \n",
       "  1367.64,1165.96 1367.89,1167.49 1368.13,1171.94 1368.37,1178.93 1368.61,1187.65 1368.85,1196.98 1369.1,1205.6 1369.34,1212.16 1369.58,1215.4 1369.82,1214.33 \n",
       "  1370.07,1208.26 1370.31,1196.92 1370.55,1180.44 1370.79,1159.31 1371.03,1134.32 1371.28,1106.44 1371.52,1076.73 1371.76,1046.22 1372,1015.8 1372.25,986.191 \n",
       "  1372.49,957.882 1372.73,931.109 1372.97,905.885 1373.21,882.029 1373.46,859.219 1373.7,837.055 1373.94,815.126 1374.18,793.068 1374.43,770.624 1374.67,747.688 \n",
       "  1374.91,724.331 1375.15,700.82 1375.39,677.61 1375.64,655.326 1375.88,634.723 1376.12,616.641 1376.36,601.944 1376.61,591.455 1376.85,585.902 1377.09,585.852 \n",
       "  1377.33,591.673 1377.57,603.498 1377.82,621.208 1378.06,644.437 1378.3,672.584 1378.54,704.845 1378.79,740.253 1379.03,777.722 1379.27,816.097 1379.51,854.197 \n",
       "  1379.75,890.857 1380,924.961 1380.24,955.469 1380.48,981.437 1380.72,1002.03 1380.97,1016.53 1381.21,1024.37 1381.45,1025.1 1381.69,1018.45 1381.94,1004.32 \n",
       "  1382.18,982.777 1382.42,954.115 1382.66,918.814 1382.9,877.558 1383.15,831.214 1383.39,780.807 1383.63,727.477 1383.87,672.434 1384.12,616.902 1384.36,562.068 \n",
       "  1384.6,509.027 1384.84,458.751 1385.08,412.052 1385.33,369.571 1385.57,331.78 1385.81,298.992 1386.05,271.384 1386.3,249.027 1386.54,231.915 1386.78,220.003 \n",
       "  1387.02,213.228 1387.26,211.534 1387.51,214.886 1387.75,223.274 1387.99,236.711 1388.23,255.216 1388.48,278.798 1388.72,307.426 1388.96,341.005 1389.2,379.339 \n",
       "  1389.44,422.105 1389.69,468.831 1389.93,518.874 1390.17,571.419 1390.41,625.482 1390.66,679.937 1390.9,733.544 1391.14,785.007 1391.38,833.034 1391.62,876.406 \n",
       "  1391.87,914.059 1392.11,945.157 1392.35,969.165 1392.59,985.899 1392.84,995.571 1393.08,998.792 1393.32,996.562 1393.56,990.22 1393.8,981.361 1394.05,971.741 \n",
       "  1394.29,963.146 1394.53,957.261 1394.77,955.535 1395.02,959.063 1395.26,968.487 1395.5,983.939 1395.74,1005.02 1395.98,1030.82 1396.23,1060.01 1396.47,1090.93 \n",
       "  1396.71,1121.72 1396.95,1150.5 1397.2,1175.49 1397.44,1195.17 1397.68,1208.36 1397.92,1214.33 1398.16,1212.78 1398.41,1203.84 1398.65,1188.01 1398.89,1166.08 \n",
       "  1399.13,1139 1399.38,1107.8 1399.62,1073.45 1399.86,1036.81 1400.1,998.575 1400.35,959.222 1400.59,919.056 1400.83,878.22 1401.07,836.75 1401.31,794.629 \n",
       "  1401.56,751.845 1401.8,708.433 1402.04,664.507 1402.28,620.277 1402.53,576.047 1402.77,532.197 1403.01,489.159 1403.25,447.39 1403.49,407.334 1403.74,369.396 \n",
       "  1403.98,333.919 1404.22,301.166 1404.46,271.313 1404.71,244.447 1404.95,220.57 1405.19,199.61 1405.43,181.434 1405.67,165.861 1405.92,152.679 1406.16,141.656 \n",
       "  1406.4,132.558 1406.64,125.154 1406.89,119.228 1407.13,114.585 1407.37,111.057 1407.61,108.504 1407.85,106.821 1408.1,105.944 1408.34,105.852 1408.58,106.586 \n",
       "  1408.82,108.258 1409.07,111.068 1409.31,115.319 1409.55,121.414 1409.79,129.83 1410.03,141.063 1410.28,155.533 1410.52,173.468 1410.76,194.802 1411,219.116 \n",
       "  1411.25,245.667 1411.49,273.521 1411.73,301.764 1411.97,329.741 1412.21,357.242 1412.46,384.568 1412.7,412.456 1412.94,441.864 1413.18,473.704 1413.43,508.58 \n",
       "  1413.67,546.611 1413.91,587.375 1414.15,629.947 1414.39,673.029 1414.64,715.101 1414.88,754.571 1415.12,789.904 1415.36,819.716 1415.61,842.838 1415.85,858.365 \n",
       "  1416.09,865.684 1416.33,864.489 1416.57,854.786 1416.82,836.882 1417.06,811.364 1417.3,779.059 1417.54,740.993 1417.79,698.325 1418.03,652.298 1418.27,604.17 \n",
       "  1418.51,555.161 1418.76,506.401 1419,458.892 1419.24,413.478 1419.48,370.83 1419.72,331.435 1419.97,295.611 1420.21,263.511 1420.45,235.149 1420.69,210.422 \n",
       "  1420.94,189.136 1421.18,171.031 1421.42,155.805 1421.66,143.138 1421.9,132.703 1422.15,124.189 1422.39,117.301 1422.63,111.774 1422.87,107.373 1423.12,103.897 \n",
       "  1423.36,101.174 1423.6,99.0632 1423.84,97.4525 1424.08,96.2535 1424.33,95.4001 1424.57,94.8464 1424.81,94.5638 1425.05,94.5407 1425.3,94.7803 1425.54,95.3015 \n",
       "  1425.78,96.1379 1426.02,97.3387 1426.26,98.9693 1426.51,101.111 1426.75,103.863 1426.99,107.338 1427.23,111.666 1427.48,116.988 1427.72,123.454 1427.96,131.215 \n",
       "  1428.2,140.418 1428.44,151.197 1428.69,163.658 1428.93,177.873 1429.17,193.864 1429.41,211.592 1429.66,230.947 1429.9,251.738 1430.14,273.693 1430.38,296.452 \n",
       "  1430.62,319.577 1430.87,342.561 1431.11,364.845 1431.35,385.839 1431.59,404.946 1431.84,421.594 1432.08,435.258 1432.32,445.495 1432.56,451.963 1432.8,454.442 \n",
       "  1433.05,452.847 1433.29,447.233 1433.53,437.789 1433.77,424.833 1434.02,408.787 1434.26,390.159 1434.5,369.514 1434.74,347.445 1434.98,324.546 1435.23,301.385 \n",
       "  1435.47,278.48 1435.71,256.286 1435.95,235.178 1436.2,215.449 1436.44,197.307 1436.68,180.877 1436.92,166.213 1437.17,153.304 1437.41,142.087 1437.65,132.461 \n",
       "  1437.89,124.295 1438.13,117.442 1438.38,111.75 1438.62,107.066 1438.86,103.242 1439.1,100.143 1439.35,97.6465 1439.59,95.6448 1439.83,94.0448 1440.07,92.768 \n",
       "  1440.31,91.749 1440.56,90.9342 1440.8,90.2806 1441.04,89.7535 1441.28,89.3258 1441.53,88.9761 1441.77,88.6879 1442.01,88.4484 1442.25,88.2477 1442.49,88.0783 \n",
       "  1442.74,87.9342 1442.98,87.811 1443.22,87.7051 1443.46,87.6138 1443.71,87.5348 1443.95,87.4665 1444.19,87.4073 1444.43,87.3562 1444.67,87.3121 1444.92,87.2743 \n",
       "  1445.16,87.2422 1445.4,87.2151 1445.64,87.1927 1445.89,87.1746 1446.13,87.1606 1446.37,87.1505 1446.61,87.1443 1446.85,87.1421 1447.1,87.144 1447.34,87.1502 \n",
       "  1447.58,87.1612 1447.82,87.1777 1448.07,87.2007 1448.31,87.2321 1448.55,87.2752 1448.79,87.336 1449.03,87.4239 1449.28,87.5539 1449.52,87.7474 1449.76,88.0319 \n",
       "  1450,88.4391 1450.25,88.999 1450.49,89.7313 1450.73,90.6346 1450.97,91.6763 1451.21,92.7877 1451.46,93.8671 1451.7,94.7938 1451.94,95.4497 1452.18,95.7451 \n",
       "  1452.43,95.6393 1452.67,95.1509 1452.91,94.3532 1453.15,93.3569 1453.39,92.2861 1453.64,91.2535 1453.88,90.3435 1454.12,89.6048 1454.36,89.0524 1454.61,88.6764 \n",
       "  1454.85,88.4536 1455.09,88.3579 1455.33,88.369 1455.58,88.4793 1455.82,88.6993 1456.06,89.063 1456.3,89.6336 1456.54,90.5071 1456.79,91.81 1457.03,93.6879 \n",
       "  1457.27,96.278 1457.51,99.668 1457.76,103.846 1458,108.653 1458.24,113.763 1458.48,118.7 1458.72,122.901 1458.97,125.82 1459.21,127.046 1459.45,126.4 \n",
       "  1459.69,123.976 1459.94,120.119 1460.18,115.345 1460.42,110.222 1460.66,105.264 1460.9,100.849 1461.15,97.1868 1461.39,94.3322 1461.63,92.223 1461.87,90.7317 \n",
       "  1462.12,89.7107 1462.36,89.0236 1462.6,88.5605 1462.84,88.2423 1463.08,88.0162 1463.33,87.8498 1463.57,87.7241 1463.81,87.6281 1464.05,87.5555 1464.3,87.5025 \n",
       "  1464.54,87.4665 1464.78,87.4457 1465.02,87.4389 1465.26,87.445 1465.51,87.4636 1465.75,87.4946 1465.99,87.5381 1466.23,87.5948 1466.48,87.6657 1466.72,87.7522 \n",
       "  1466.96,87.8562 1467.2,87.9803 1467.44,88.1277 1467.69,88.3025 1467.93,88.51 1468.17,88.7569 1468.41,89.0521 1468.66,89.4068 1468.9,89.8355 1469.14,90.3567 \n",
       "  1469.38,90.9946 1469.62,91.7794 1469.87,92.75 1470.11,93.9546 1470.35,95.4534 1470.59,97.3201 1470.84,99.6439 1471.08,102.531 1471.32,106.106 1471.56,110.511 \n",
       "  1471.81,115.909 1472.05,122.477 1472.29,130.404 1472.53,139.89 1472.77,151.132 1473.02,164.322 1473.26,179.631 1473.5,197.199 1473.74,217.124 1473.99,239.446 \n",
       "  1474.23,264.142 1474.47,291.113 1474.71,320.182 1474.95,351.094 1475.2,383.523 1475.44,417.085 1475.68,451.359 1475.92,485.904 1476.17,520.293 1476.41,554.132 \n",
       "  1476.65,587.09 1476.89,618.911 1477.13,649.424 1477.38,678.541 1477.62,706.239 1477.86,732.535 1478.1,757.451 1478.35,780.977 1478.59,803.029 1478.83,823.427 \n",
       "  1479.07,841.87 1479.31,857.944 1479.56,871.14 1479.8,880.894 1480.04,886.64 1480.28,887.873 1480.53,884.214 1480.77,875.464 1481.01,861.65 1481.25,843.041 \n",
       "  1481.49,820.14 1481.74,793.644 1481.98,764.357 1482.22,733.087 1482.46,700.521 1482.71,667.119 1482.95,633.067 1483.19,598.311 1483.43,562.684 1483.67,526.086 \n",
       "  1483.92,488.671 1484.16,450.957 1484.4,413.828 1484.64,378.415 1484.89,345.895 1485.13,317.275 1485.37,293.234 1485.61,274.049 1485.85,259.626 1486.1,249.589 \n",
       "  1486.34,243.409 1486.58,240.515 1486.82,240.383 1487.07,242.584 1487.31,246.812 1487.55,252.878 1487.79,260.703 1488.03,270.301 1488.28,281.751 1488.52,295.176 \n",
       "  1488.76,310.707 1489,328.457 1489.25,348.485 1489.49,370.77 1489.73,395.178 1489.97,421.452 1490.22,449.193 1490.46,477.864 1490.7,506.799 1490.94,535.228 \n",
       "  1491.18,562.304 1491.43,587.145 1491.67,608.881 1491.91,626.702 1492.15,639.904 1492.4,647.933 1492.64,650.415 1492.88,647.187 1493.12,638.299 1493.36,624.023 \n",
       "  1493.61,604.833 1493.85,581.384 1494.09,554.477 1494.33,525.025 1494.58,494.01 1494.82,462.443 1495.06,431.325 1495.3,401.617 1495.54,374.213 1495.79,349.919 \n",
       "  1496.03,329.441 1496.27,313.376 1496.51,302.208 1496.76,296.305 1497,295.921 1497.24,301.193 1497.48,312.138 1497.72,328.649 1497.97,350.492 1498.21,377.296 \n",
       "  1498.45,408.556 1498.69,443.624 1498.94,481.719 1499.18,521.939 1499.42,563.277 1499.66,604.656 1499.9,644.966 1500.15,683.109 1500.39,718.055 1500.63,748.898 \n",
       "  1500.87,774.906 1501.12,795.568 1501.36,810.634 1501.6,820.128 1501.84,824.354 1502.08,823.873 1502.33,819.465 1502.57,812.07 1502.81,802.716 1503.05,792.441 \n",
       "  1503.3,782.217 1503.54,772.873 1503.78,765.046 1504.02,759.14 1504.26,755.313 1504.51,753.488 1504.75,753.38 1504.99,754.545 1505.23,756.434 1505.48,758.447 \n",
       "  1505.72,759.987 1505.96,760.505 1506.2,759.526 1506.44,756.666 1506.69,751.636 1506.93,744.236 1507.17,734.346 1507.41,721.913 1507.66,706.95 1507.9,689.534 \n",
       "  1508.14,669.819 1508.38,648.051 1508.63,624.581 1508.87,599.876 1509.11,574.503 1509.35,549.09 1509.59,524.253 1509.84,500.502 1510.08,478.157 1510.32,457.29 \n",
       "  1510.56,437.735 1510.81,419.18 1511.05,401.318 1511.29,384.031 1511.53,367.531 1511.77,352.425 1512.02,339.664 1512.26,330.403 1512.5,325.797 1512.74,326.814 \n",
       "  1512.99,334.089 1513.23,347.858 1513.47,367.972 1513.71,393.949 1513.95,425.051 1514.2,460.355 1514.44,498.809 1514.68,539.266 1514.92,580.511 1515.17,621.285 \n",
       "  1515.41,660.311 1515.65,696.33 1515.89,728.145 1516.13,754.664 1516.38,774.952 1516.62,788.273 1516.86,794.129 1517.1,792.282 1517.35,782.765 1517.59,765.882 \n",
       "  1517.83,742.184 1518.07,712.441 1518.31,677.595 1518.56,638.713 1518.8,596.929 1519.04,553.392 1519.28,509.214 1519.53,465.426 1519.77,422.944 1520.01,382.542 \n",
       "  1520.25,344.843 1520.49,310.316 1520.74,279.282 1520.98,251.931 1521.22,228.349 1521.46,208.543 1521.71,192.468 1521.95,180.052 1522.19,171.208 1522.43,165.831 \n",
       "  1522.67,163.778 1522.92,164.833 1523.16,168.67 1523.4,174.825 1523.64,182.699 1523.89,191.601 1524.13,200.837 1524.37,209.809 1524.61,218.115 1524.85,225.609 \n",
       "  1525.1,232.392 1525.34,238.746 1525.58,245.01 1525.82,251.455 1526.07,258.17 1526.31,265.009 1526.55,271.608 1526.79,277.471 1527.04,282.096 1527.28,285.121 \n",
       "  1527.52,286.441 1527.76,286.28 1528,285.191 1528.25,284.006 1528.49,283.744 1528.73,285.513 1528.97,290.402 1529.22,299.387 1529.46,313.224 1529.7,332.33 \n",
       "  1529.94,356.646 1530.18,385.529 1530.43,417.705 1530.67,451.34 1530.91,484.255 1531.15,514.248 1531.4,539.459 1531.64,558.668 1531.88,571.443 1532.12,578.095 \n",
       "  1532.36,579.454 1532.61,576.572 1532.85,570.421 1533.09,561.698 1533.33,550.754 1533.58,537.653 1533.82,522.291 1534.06,504.542 1534.3,484.371 1534.54,461.899 \n",
       "  1534.79,437.421 1535.03,411.375 1535.27,384.3 1535.51,356.781 1535.76,329.405 1536,302.716 1536.24,277.189 1536.48,253.216 1536.72,231.097 1536.97,211.041 \n",
       "  1537.21,193.17 1537.45,177.535 1537.69,164.128 1537.94,152.896 1538.18,143.761 1538.42,136.632 1538.66,131.42 1538.9,128.05 1539.15,126.47 1539.39,126.656 \n",
       "  1539.63,128.618 1539.87,132.397 1540.12,138.061 1540.36,145.703 1540.6,155.427 1540.84,167.337 1541.08,181.525 1541.33,198.048 1541.57,216.921 1541.81,238.09 \n",
       "  1542.05,261.423 1542.3,286.697 1542.54,313.586 1542.78,341.662 1543.02,370.398 1543.26,399.175 1543.51,427.308 1543.75,454.06 1543.99,478.681 1544.23,500.438 \n",
       "  1544.48,518.651 1544.72,532.732 1544.96,542.208 1545.2,546.758 1545.45,546.224 1545.69,540.621 1545.93,530.138 1546.17,515.126 1546.41,496.079 1546.66,473.604 \n",
       "  1546.9,448.391 1547.14,421.176 1547.38,392.707 1547.63,363.706 1547.87,334.845 1548.11,306.717 1548.35,279.824 1548.59,254.563 1548.84,231.224 1549.08,209.995 \n",
       "  1549.32,190.969 1549.56,174.153 1549.81,159.486 1550.05,146.855 1550.29,136.103 1550.53,127.054 1550.77,119.516 1551.02,113.295 1551.26,108.207 1551.5,104.075 \n",
       "  1551.74,100.742 1551.99,98.0665 1552.23,95.9274 1552.47,94.2208 1552.71,92.8602 1552.95,91.7745 1553.2,90.9061 1553.44,90.2088 1553.68,89.6462 1553.92,89.1897 \n",
       "  1554.17,88.8171 1554.41,88.5113 1554.65,88.2593 1554.89,88.051 1555.13,87.8788 1555.38,87.737 1555.62,87.6211 1555.86,87.5279 1556.1,87.4549 1556.35,87.4004 \n",
       "  1556.59,87.363 1556.83,87.3421 1557.07,87.3371 1557.31,87.348 1557.56,87.3751 1557.8,87.4192 1558.04,87.4813 1558.28,87.5631 1558.53,87.667 1558.77,87.7962 \n",
       "  1559.01,87.9548 1559.25,88.1486 1559.49,88.3851 1559.74,88.6741 1559.98,89.0284 1560.22,89.465 1560.46,90.0055 1560.71,90.6777 1560.95,91.5171 1561.19,92.5683 \n",
       "  1561.43,93.8864 1561.67,95.5394 1561.92,97.6089 1562.16,100.192 1562.4,103.402 1562.64,107.367 1562.89,112.232 1563.13,118.153 1563.37,125.293 1563.61,133.82 \n",
       "  1563.86,143.894 1564.1,155.659 1564.34,169.234 1564.58,184.697 1564.82,202.073 1565.07,221.321 1565.31,242.323 1565.55,264.876 1565.79,288.687 1566.04,313.37 \n",
       "  1566.28,338.458 1566.52,363.407 1566.76,387.62 1567,410.471 1567.25,431.328 1567.49,449.596 1567.73,464.749 1567.97,476.374 1568.22,484.205 1568.46,488.166 \n",
       "  1568.7,488.389 1568.94,485.219 1569.18,479.179 1569.43,470.905 1569.67,461.03 1569.91,450.05 1570.15,438.205 1570.4,425.401 1570.64,411.228 1570.88,395.082 \n",
       "  1571.12,376.37 1571.36,354.738 1571.61,330.262 1571.85,303.515 1572.09,275.509 1572.33,247.507 1572.58,220.789 1572.82,196.421 1573.06,175.113 1573.3,157.172 \n",
       "  1573.54,142.544 1573.79,130.92 1574.03,121.854 1574.27,114.867 1574.51,109.517 1574.76,105.431 1575,102.319 1575.24,99.9645 1575.48,98.2086 1575.72,96.9385 \n",
       "  1575.97,96.0748 1576.21,95.564 1576.45,95.3736 1576.69,95.4892 1576.94,95.9135 1577.18,96.6667 1577.42,97.7868 1577.66,99.3315 1577.9,101.379 1578.15,104.033 \n",
       "  1578.39,107.42 1578.63,111.695 1578.87,117.043 1579.12,123.677 1579.36,131.837 1579.6,141.793 1579.84,153.829 1580.08,168.247 1580.33,185.345 1580.57,205.414 \n",
       "  1580.81,228.711 1581.05,255.45 1581.3,285.778 1581.54,319.761 1581.78,357.366 1582.02,398.452 1582.27,442.767 1582.51,489.948 1582.75,539.531 1582.99,590.971 \n",
       "  1583.23,643.657 1583.48,696.936 1583.72,750.133 1583.96,802.569 1584.2,853.566 1584.45,902.452 1584.69,948.556 1584.93,991.197 1585.17,1029.68 1585.41,1063.29 \n",
       "  1585.66,1091.3 1585.9,1113 1586.14,1127.74 1586.38,1134.95 1586.63,1134.24 1586.87,1125.44 1587.11,1108.7 1587.35,1084.44 1587.59,1053.5 1587.84,1017.04 \n",
       "  1588.08,976.516 1588.32,933.68 1588.56,890.428 1588.81,848.731 1589.05,810.509 1589.29,777.523 1589.53,751.273 1589.77,732.903 1590.02,723.139 1590.26,722.248 \n",
       "  1590.5,730.021 1590.74,745.791 1590.99,768.469 1591.23,796.61 1591.47,828.487 1591.71,862.191 1591.95,895.724 1592.2,927.106 1592.44,954.471 1592.68,976.156 \n",
       "  1592.92,990.777 1593.17,997.291 1593.41,995.028 1593.65,983.715 1593.89,963.468 1594.13,934.77 1594.38,898.426 1594.62,855.507 1594.86,807.284 1595.1,755.153 \n",
       "  1595.35,700.564 1595.59,644.95 1595.83,589.674 1596.07,535.976 1596.31,484.951 1596.56,437.532 1596.8,394.5 1597.04,356.5 1597.28,324.072 1597.53,297.663 \n",
       "  1597.77,277.628 1598.01,264.182 1598.25,257.326 1598.5,256.73 1598.74,261.63 1598.98,270.78 1599.22,282.503 1599.46,294.862 1599.71,305.942 1599.95,314.175 \n",
       "  1600.19,318.607 1600.43,319.043 1600.68,316.005 1600.92,310.536 1601.16,303.903 1601.4,297.312 1601.64,291.687 1601.89,287.588 1602.13,285.228 1602.37,284.586 \n",
       "  1602.61,285.527 1602.86,287.924 1603.1,291.727 1603.34,296.985 1603.58,303.838 1603.82,312.478 1604.07,323.099 1604.31,335.857 1604.55,350.824 1604.79,367.955 \n",
       "  1605.04,387.075 1605.28,407.862 1605.52,429.855 1605.76,452.463 1606,474.991 1606.25,496.674 1606.49,516.71 1606.73,534.308 1606.97,548.73 1607.22,559.332 \n",
       "  1607.46,565.602 1607.7,567.185 1607.94,563.909 1608.18,555.786 1608.43,543.017 1608.67,525.968 1608.91,505.16 1609.15,481.228 1609.4,454.901 1609.64,426.966 \n",
       "  1609.88,398.247 1610.12,369.588 1610.36,341.856 1610.61,315.934 1610.85,292.727 1611.09,273.134 1611.33,257.984 1611.58,247.922 1611.82,243.239 1612.06,243.697 \n",
       "  1612.3,248.392 1612.54,255.729 1612.79,263.573 1613.03,269.568 1613.27,271.584 1613.51,268.154 1613.76,258.795 1614,244.091 1614.24,225.518 1614.48,205.077 \n",
       "  1614.72,184.849 1614.97,166.604 1615.21,151.556 1615.45,140.309 1615.69,132.939 1615.94,129.175 1616.18,128.581 1616.42,130.707 1616.66,135.184 1616.91,141.751 \n",
       "  1617.15,150.256 1617.39,160.617 1617.63,172.789 1617.87,186.728 1618.12,202.359 1618.36,219.56 1618.6,238.142 1618.84,257.844 1619.09,278.331 1619.33,299.197 \n",
       "  1619.57,319.974 1619.81,340.149 1620.05,359.179 1620.3,376.516 1620.54,391.635 1620.78,404.055 1621.02,413.369 1621.27,419.261 1621.51,421.529 1621.75,420.091 \n",
       "  1621.99,414.995 1622.23,406.41 1622.48,394.624 1622.72,380.019 1622.96,363.057 1623.2,344.251 1623.45,324.141 1623.69,303.269 1623.93,282.151 1624.17,261.262 \n",
       "  1624.41,241.015 1624.66,221.756 1624.9,203.751 1625.14,187.191 1625.38,172.193 1625.63,158.804 1625.87,147.017 1626.11,136.776 1626.35,127.987 1626.59,120.533 \n",
       "  1626.84,114.282 1627.08,109.092 1627.32,104.825 1627.56,101.348 1627.81,98.5366 1628.05,96.2796 1628.29,94.4791 1628.53,93.0507 1628.77,91.9233 1629.02,91.0378 \n",
       "  1629.26,90.3469 1629.5,89.8119 1629.74,89.4032 1629.99,89.098 1630.23,88.8798 1630.47,88.7371 1630.71,88.6631 1630.95,88.6551 1631.2,88.7142 1631.44,88.8457 \n",
       "  1631.68,89.0589 1631.92,89.3677 1632.17,89.7912 1632.41,90.3541 1632.65,91.0878 1632.89,92.0306 1633.13,93.2288 1633.38,94.7366 1633.62,96.6164 1633.86,98.938 \n",
       "  1634.1,101.778 1634.35,105.216 1634.59,109.336 1634.83,114.215 1635.07,119.928 1635.32,126.534 1635.56,134.073 1635.8,142.56 1636.04,151.979 1636.28,162.273 \n",
       "  1636.53,173.347 1636.77,185.059 1637.01,197.219 1637.25,209.6 1637.5,221.931 1637.74,233.918 1637.98,245.246 1638.22,255.594 1638.46,264.656 1638.71,272.148 \n",
       "  1638.95,277.828 1639.19,281.508 1639.43,283.065 1639.68,282.446 1639.92,279.675 1640.16,274.848 1640.4,268.128 1640.64,259.738 1640.89,249.949 1641.13,239.062 \n",
       "  1641.37,227.397 1641.61,215.274 1641.86,203.003 1642.1,190.87 1642.34,179.125 1642.58,167.982 1642.82,157.612 1643.07,148.146 1643.31,139.686 1643.55,132.314 \n",
       "  1643.79,126.109 1644.04,121.171 1644.28,117.639 1644.52,115.698 1644.76,115.575 1645,117.491 1645.25,121.594 1645.49,127.858 1645.73,135.982 1645.97,145.323 \n",
       "  1646.22,154.907 1646.46,163.535 1646.7,169.979 1646.94,173.225 1647.18,172.702 1647.43,168.406 1647.67,160.899 1647.91,151.171 1648.15,140.412 1648.4,129.769 \n",
       "  1648.64,120.16 1648.88,112.175 1649.12,106.074 1649.36,101.858 1649.61,99.3615 1649.85,98.3394 1650.09,98.5191 1650.33,99.6175 1650.58,101.336 1650.82,103.35 \n",
       "  1651.06,105.317 1651.3,106.9 1651.54,107.811 1651.79,107.867 1652.03,107.015 1652.27,105.347 1652.51,103.069 1652.76,100.456 1653,97.7874 1653.24,95.2982 \n",
       "  1653.48,93.1466 1653.73,91.4062 1653.97,90.0784 1654.21,89.1155 1654.45,88.446 1654.69,87.9954 1654.94,87.699 1655.18,87.5067 1655.42,87.3842 1655.66,87.3092 \n",
       "  1655.91,87.2687 1656.15,87.2557 1656.39,87.2667 1656.63,87.3005 1656.87,87.3571 1657.12,87.4378 1657.36,87.5449 1657.6,87.6821 1657.84,87.8543 1658.09,88.0685 \n",
       "  1658.33,88.3342 1658.57,88.6639 1658.81,89.0737 1659.05,89.5848 1659.3,90.2235 1659.54,91.0235 1659.78,92.0259 1660.02,93.2814 1660.27,94.8513 1660.51,96.8088 \n",
       "  1660.75,99.2416 1660.99,102.254 1661.23,105.971 1661.48,110.542 1661.72,116.148 1661.96,123.006 1662.2,131.362 1662.45,141.487 1662.69,153.64 1662.93,168.023 \n",
       "  1663.17,184.715 1663.41,203.597 1663.66,224.3 1663.9,246.187 1664.14,268.395 1664.38,289.943 1664.63,309.869 1664.87,327.386 1665.11,341.99 1665.35,353.497 \n",
       "  1665.59,362 1665.84,367.77 1666.08,371.128 1666.32,372.344 1666.56,371.573 1666.81,368.862 1667.05,364.183 1667.29,357.505 1667.53,348.853 1667.77,338.348 \n",
       "  1668.02,326.227 1668.26,312.824 1668.5,298.539 1668.74,283.779 1668.99,268.91 1669.23,254.208 1669.47,239.837 1669.71,225.85 1669.95,212.223 1670.2,198.906 \n",
       "  1670.44,185.88 1670.68,173.2 1670.92,161 1671.17,149.485 1671.41,138.88 1671.65,129.385 1671.89,121.132 1672.14,114.162 1672.38,108.43 1672.62,103.821 \n",
       "  1672.86,100.179 1673.1,97.3323 1673.35,95.1202 1673.59,93.4017 1673.83,92.0618 1674.07,91.0109 1674.32,90.1808 1674.56,89.5205 1674.8,88.9918 1675.04,88.5659 \n",
       "  1675.28,88.2209 1675.53,87.9401 1675.77,87.7104 1676.01,87.5221 1676.25,87.3674 1676.5,87.2405 1676.74,87.1368 1676.98,87.0532 1677.22,86.9869 1677.46,86.9361 \n",
       "  1677.71,86.8996 1677.95,86.8765 1678.19,86.8662 1678.43,86.8683 1678.68,86.8831 1678.92,86.9105 1679.16,86.9512 1679.4,87.0056 1679.64,87.0746 1679.89,87.1594 \n",
       "  1680.13,87.2615 1680.37,87.3824 1680.61,87.5246 1680.86,87.6908 1681.1,87.8845 1681.34,88.1102 1681.58,88.3733 1681.82,88.6807 1682.07,89.0408 1682.31,89.4641 \n",
       "  1682.55,89.9634 1682.79,90.5545 1683.04,91.2574 1683.28,92.0981 1683.52,93.1126 1683.76,94.3529 1684,95.8988 1684.25,97.875 1684.49,100.475 1684.73,103.991 \n",
       "  1684.97,108.839 1685.22,115.568 1685.46,124.844 1685.7,137.368 1685.94,153.756 1686.18,174.357 1686.43,199.086 1686.67,227.312 1686.91,257.883 1687.15,289.317 \n",
       "  1687.4,320.144 1687.64,349.303 1687.88,376.466 1688.12,402.15 1688.36,427.552 1688.61,454.162 1688.85,483.257 1689.09,515.488 1689.33,550.681 1689.58,587.932 \n",
       "  1689.82,625.908 1690.06,663.25 1690.3,698.889 1690.55,732.189 1690.79,762.893 1691.03,790.923 1691.27,816.153 1691.51,838.24 1691.76,856.578 1692,870.36 \n",
       "  1692.24,878.729 1692.48,880.947 1692.73,876.536 1692.97,865.37 1693.21,847.71 1693.45,824.179 1693.69,795.709 1693.94,763.459 1694.18,728.731 1694.42,692.875 \n",
       "  1694.66,657.202 1694.91,622.911 1695.15,591.021 1695.39,562.326 1695.63,537.356 1695.87,516.372 1696.12,499.365 1696.36,486.083 1696.6,476.062 1696.84,468.679 \n",
       "  1697.09,463.2 1697.33,458.84 1697.57,454.817 1697.81,450.401 1698.05,444.956 1698.3,437.971 1698.54,429.082 1698.78,418.078 1699.02,404.904 1699.27,389.646 \n",
       "  1699.51,372.513 1699.75,353.815 1699.99,333.931 1700.23,313.283 1700.48,292.306 1700.72,271.424 1700.96,251.027 1701.2,231.458 1701.45,212.997 1701.69,195.857 \n",
       "  1701.93,180.185 1702.17,166.062 1702.41,153.508 1702.66,142.497 1702.9,132.958 1703.14,124.794 1703.38,117.883 1703.63,112.094 1703.87,107.292 1704.11,103.344 \n",
       "  1704.35,100.123 1704.59,97.5133 1704.84,95.4111 1705.08,93.7253 1705.32,92.3776 1705.56,91.3025 1705.81,90.4454 1706.05,89.7618 1706.29,89.2162 1706.53,88.7802 \n",
       "  1706.77,88.4317 1707.02,88.1538 1707.26,87.9336 1707.5,87.7615 1707.74,87.6306 1707.99,87.5362 1708.23,87.4753 1708.47,87.4468 1708.71,87.451 1708.96,87.4909 \n",
       "  1709.2,87.5735 1709.44,87.7124 1709.68,87.9322 1709.92,88.2747 1710.17,88.8045 1710.41,89.6141 1710.65,90.8232 1710.89,92.5673 1711.14,94.9739 1711.38,98.1235 \n",
       "  1711.62,102.003 1711.86,106.464 1712.1,111.203 1712.35,115.774 1712.59,119.656 1712.83,122.345 1713.07,123.462 1713.32,122.844 1713.56,120.583 1713.8,117.001 \n",
       "  1714.04,112.577 1714.28,107.84 1714.53,103.265 1714.77,99.2 1715.01,95.8382 1715.25,93.2281 1715.5,91.3117 1715.74,89.9708 1715.98,89.0691 1716.22,88.4808 \n",
       "  1716.46,88.1055 1716.71,87.8707 1716.95,87.7292 1717.19,87.6521 1717.43,87.6235 1717.68,87.6349 1717.92,87.6829 1718.16,87.7666 1718.4,87.8872 1718.64,88.0476 \n",
       "  1718.89,88.2526 1719.13,88.509 1719.37,88.8265 1719.61,89.2182 1719.86,89.7017 1720.1,90.3001 1720.34,91.0436 1720.58,91.9708 1720.82,93.1311 1721.07,94.5866 \n",
       "  1721.31,96.4144 1721.55,98.7086 1721.79,101.583 1722.04,105.172 1722.28,109.632 1722.52,115.141 1722.76,121.897 1723,130.114 1723.25,140.016 1723.49,151.831 \n",
       "  1723.73,165.773 1723.97,182.038 1724.22,200.779 1724.46,222.095 1724.7,246.009 1724.94,272.453 1725.19,301.251 1725.43,332.109 1725.67,364.609 1725.91,398.21 \n",
       "  1726.15,432.254 1726.4,465.984 1726.64,498.573 1726.88,529.15 1727.12,556.841 1727.37,580.809 1727.61,600.299 1727.85,614.677 1728.09,623.461 1728.33,626.354 \n",
       "  1728.58,623.257 1728.82,614.277 1729.06,599.72 1729.3,580.071 1729.55,555.972 1729.79,528.183 1730.03,497.542 1730.27,464.924 1730.51,431.199 1730.76,397.195 \n",
       "  1731,363.665 1731.24,331.263 1731.48,300.527 1731.73,271.874 1731.97,245.593 1732.21,221.859 1732.45,200.738 1732.69,182.208 1732.94,166.172 1733.18,152.478 \n",
       "  1733.42,140.938 1733.66,131.342 1733.91,123.476 1734.15,117.135 1734.39,112.14 1734.63,108.348 1734.87,105.671 1735.12,104.09 1735.36,103.659 1735.6,104.506 \n",
       "  1735.84,106.805 1736.09,110.722 1736.33,116.342 1736.57,123.577 1736.81,132.091 1737.05,141.265 1737.3,150.249 1737.54,158.079 1737.78,163.872 1738.02,167.021 \n",
       "  1738.27,167.356 1738.51,165.195 1738.75,161.283 1738.99,156.635 1739.23,152.327 1739.48,149.308 1739.72,148.263 1739.96,149.571 1740.2,153.325 1740.45,159.401 \n",
       "  1740.69,167.538 1740.93,177.409 1741.17,188.666 1741.41,200.961 1741.66,213.948 1741.9,227.282 1742.14,240.608 1742.38,253.566 1742.63,265.793 1742.87,276.931 \n",
       "  1743.11,286.641 1743.35,294.621 1743.6,300.618 1743.84,304.449 1744.08,306.012 1744.32,305.301 1744.56,302.423 1744.81,297.607 1745.05,291.217 1745.29,283.755 \n",
       "  1745.53,275.844 1745.78,268.187 1746.02,261.49 1746.26,256.34 1746.5,253.066 1746.74,251.607 1746.99,251.44 1747.23,251.607 1747.47,250.869 1747.71,247.953 \n",
       "  1747.96,241.86 1748.2,232.109 1748.44,218.875 1748.68,202.945 1748.92,185.531 1749.17,167.99 1749.41,151.552 1749.65,137.112 1749.89,125.144 1750.14,115.731 \n",
       "  1750.38,108.658 1750.62,103.546 1750.86,99.9685 1751.1,97.5299 1751.35,95.913 1751.59,94.888 1751.83,94.3042 1752.07,94.0744 1752.32,94.1577 1752.56,94.5467 \n",
       "  1752.8,95.2594 1753.04,96.3345 1753.28,97.8296 1753.53,99.8211 1753.77,102.404 1754.01,105.695 1754.25,109.827 1754.5,114.952 1754.74,121.239 1754.98,128.867 \n",
       "  1755.22,138.02 1755.46,148.877 1755.71,161.608 1755.95,176.357 1756.19,193.24 1756.43,212.333 1756.68,233.672 1756.92,257.258 1757.16,283.062 1757.4,311.036 \n",
       "  1757.64,341.104 1757.89,373.143 1758.13,406.928 1758.37,442.043 1758.61,477.781 1758.86,513.062 1759.1,546.404 1759.34,576.009 1759.58,599.955 1759.82,616.489 \n",
       "  1760.07,624.344 1760.31,622.994 1760.55,612.772 1760.79,594.811 1761.04,570.827 1761.28,542.818 1761.52,512.761 1761.76,482.39 1762.01,453.08 1762.25,425.849 \n",
       "  1762.49,401.423 1762.73,380.337 1762.97,363.018 1763.22,349.841 1763.46,341.143 1763.7,337.212 1763.94,338.267 1764.19,344.421 1764.43,355.656 1764.67,371.805 \n",
       "  1764.91,392.541 1765.15,417.373 1765.4,445.655 1765.64,476.601 1765.88,509.309 1766.12,542.793 1766.37,576.021 1766.61,607.962 1766.85,637.632 1767.09,664.148 \n",
       "  1767.33,686.769 1767.58,704.944 1767.82,718.341 1768.06,726.864 1768.3,730.659 1768.55,730.1 1768.79,725.756 1769.03,718.35 1769.27,708.7 1769.51,697.661 \n",
       "  1769.76,686.056 1770,674.628 1770.24,663.987 1770.48,654.583 1770.73,646.697 1770.97,640.446 1771.21,635.809 1771.45,632.667 1771.69,630.854 1771.94,630.203 \n",
       "  1772.18,630.599 1772.42,632.014 1772.66,634.527 1772.91,638.331 1773.15,643.717 1773.39,651.038 1773.63,660.661 1773.87,672.908 1774.12,687.997 1774.36,705.98 \n",
       "  1774.6,726.696 1774.84,749.746 1775.09,774.481 1775.33,800.016 1775.57,825.273 1775.81,849.034 1776.05,870.019 1776.3,886.965 1776.54,898.711 1776.78,904.276 \n",
       "  1777.02,902.92 1777.27,894.195 1777.51,877.966 1777.75,854.418 1777.99,824.035 1778.23,787.567 1778.48,745.973 1778.72,700.364 1778.96,651.937 1779.2,601.908 \n",
       "  1779.45,551.452 1779.69,501.653 1779.93,453.462 1780.17,407.671 1780.42,364.896 1780.66,325.574 1780.9,289.969 1781.14,258.19 1781.38,230.211 1781.63,205.894 \n",
       "  1781.87,185.018 1782.11,167.301 1782.35,152.429 1782.6,140.068 1782.84,129.888 1783.08,121.573 1783.32,114.83 1783.56,109.394 1783.81,105.031 1784.05,101.541 \n",
       "  1784.29,98.7538 1784.53,96.5275 1784.78,94.7461 1785.02,93.316 1785.26,92.1621 1785.5,91.2253 1785.74,90.4592 1785.99,89.8277 1786.23,89.3028 1786.47,88.863 \n",
       "  1786.71,88.4916 1786.96,88.1758 1787.2,87.9057 1787.44,87.6734 1787.68,87.4729 1787.92,87.2992 1788.17,87.1486 1788.41,87.0177 1788.65,86.904 1788.89,86.8053 \n",
       "  1789.14,86.7198 1789.38,86.6459 1789.62,86.5823 1789.86,86.5278 1790.1,86.4814 1790.35,86.4424 1790.59,86.4098 1790.83,86.3832 1791.07,86.3621 1791.32,86.3459 \n",
       "  1791.56,86.3344 1791.8,86.3273 1792.04,86.3245 1792.28,86.3258 1792.53,86.3313 1792.77,86.3409 1793.01,86.355 1793.25,86.3736 1793.5,86.397 1793.74,86.4258 \n",
       "  1793.98,86.4603 1794.22,86.5011 1794.46,86.5489 1794.71,86.6046 1794.95,86.6691 1795.19,86.7437 1795.43,86.8298 1795.68,86.9291 1795.92,87.0437 1796.16,87.1764 \n",
       "  1796.4,87.3304 1796.64,87.5101 1796.89,87.7209 1797.13,87.9698 1797.37,88.2659 1797.61,88.6212 1797.86,89.0508 1798.1,89.5749 1798.34,90.2189 1798.58,91.0159 \n",
       "  1798.83,92.0077 1799.07,93.2469 1799.31,94.7989 1799.55,96.7443 1799.79,99.1805 1800.04,102.223 1800.28,106.008 1800.52,110.69 1800.76,116.444 1801.01,123.459 \n",
       "  1801.25,131.937 1801.49,142.082 1801.73,154.095 1801.97,168.159 1802.22,184.427 1802.46,203.006 1802.7,223.939 1802.94,247.193 1803.19,272.641 1803.43,300.051 \n",
       "  1803.67,329.081 1803.91,359.276 1804.15,390.073 1804.4,420.815 1804.64,450.771 1804.88,479.164 1805.12,505.202 1805.37,528.117 1805.61,547.2 1805.85,561.843 \n",
       "  1806.09,571.57 1806.33,576.062 1806.58,575.179 1806.82,568.968 1807.06,557.66 1807.3,541.658 1807.55,521.518 1807.79,497.917 1808.03,471.622 1808.27,443.453 \n",
       "  1808.51,414.246 1808.76,384.82 1809,355.953 1809.24,328.355 1809.48,302.66 1809.73,279.412 1809.97,259.076 1810.21,242.034 1810.45,228.6 1810.69,219.035 \n",
       "  1810.94,213.554 1811.18,212.34 1811.42,215.552 1811.66,223.327 1811.91,235.776 1812.15,252.974 1812.39,274.952 1812.63,301.669 1812.87,332.999 1813.12,368.703 \n",
       "  1813.36,408.411 1813.6,451.606 1813.84,497.612 1814.09,545.601 1814.33,594.598 1814.57,643.511 1814.81,691.166 1815.05,736.355 1815.3,777.895 1815.54,814.696 \n",
       "  1815.78,845.82 1816.02,870.547 1816.27,888.434 1816.51,899.346 1816.75,903.488 1816.99,901.401 1817.24,893.943 1817.48,882.244 1817.72,867.638 1817.96,851.578 \n",
       "  1818.2,835.539 1818.45,820.906 1818.69,808.877 1818.93,800.368 1819.17,795.956 1819.42,795.854 1819.66,799.937 1819.9,807.802 1820.14,818.871 1820.38,832.491 \n",
       "  1820.63,848.035 1820.87,864.971 1821.11,882.892 1821.35,901.517 1821.6,920.666 1821.84,940.212 1822.08,960.049 1822.32,980.038 1822.56,999.979 1822.81,1019.58 \n",
       "  1823.05,1038.41 1823.29,1055.92 1823.53,1071.41 1823.78,1084.04 1824.02,1092.9 1824.26,1097.03 1824.5,1095.5 1824.74,1087.51 1824.99,1072.45 1825.23,1049.94 \n",
       "  1825.47,1019.94 1825.71,982.708 1825.96,938.833 1826.2,889.187 1826.44,834.872 1826.68,777.153 1826.92,717.377 1827.17,656.894 1827.41,596.986 1827.65,538.81 \n",
       "  1827.89,483.348 1828.14,431.382 1828.38,383.484 1828.62,340.017 1828.86,301.155 1829.1,266.899 1829.35,237.116 1829.59,211.563 1829.83,189.924 1830.07,171.836 \n",
       "  1830.32,156.917 1830.56,144.788 1830.8,135.089 1831.04,127.5 1831.28,121.755 1831.53,117.667 1831.77,115.152 1832.01,114.265 1832.25,115.235 1832.5,118.493 \n",
       "  1832.74,124.672 1832.98,134.552 1833.22,148.935 1833.46,168.438 1833.71,193.226 1833.95,222.75 1834.19,255.562 1834.43,289.301 1834.68,320.905 1834.92,347.036 \n",
       "  1835.16,364.661 1835.4,371.632 1835.65,367.122 1835.89,351.802 1836.13,327.69 1836.37,297.746 1836.61,265.299 1836.86,233.478 1837.1,204.765 1837.34,180.759 \n",
       "  1837.58,162.157 1837.83,148.905 1838.07,140.441 1838.31,135.945 1838.55,134.55 1838.79,135.471 1839.04,138.061 1839.28,141.825 1839.52,146.385 1839.76,151.45 \n",
       "  1840.01,156.783 1840.25,162.174 1840.49,167.427 1840.73,172.36 1840.97,176.797 1841.22,180.579 1841.46,183.571 1841.7,185.662 1841.94,186.777 1842.19,186.877 \n",
       "  1842.43,185.963 1842.67,184.079 1842.91,181.309 1843.15,177.783 1843.4,173.674 1843.64,169.216 1843.88,164.704 1844.12,160.519 1844.37,157.129 1844.61,155.082 \n",
       "  1844.85,154.967 1845.09,157.325 1845.33,162.518 1845.58,170.573 1845.82,181.036 1846.06,192.908 1846.3,204.698 1846.55,214.636 1846.79,220.992 1847.03,222.457 \n",
       "  1847.27,218.43 1847.51,209.173 1847.76,195.729 1848,179.67 1848.24,162.739 1848.48,146.505 1848.73,132.118 1848.97,120.207 1849.21,110.913 1849.45,104.023 \n",
       "  1849.69,99.1214 1849.94,95.7334 1850.18,93.4217 1850.42,91.8348 1850.66,90.7184 1850.91,89.9028 1851.15,89.2821 1851.39,88.793 1851.63,88.3981 1851.88,88.075 \n",
       "  1852.12,87.8088 1852.36,87.5892 1852.6,87.4079 1852.84,87.2582 1853.09,87.1346 1853.33,87.0325 1853.57,86.9483 1853.81,86.8788 1854.06,86.822 1854.3,86.7761 \n",
       "  1854.54,86.74 1854.78,86.713 1855.02,86.6947 1855.27,86.6853 1855.51,86.6852 1855.75,86.6951 1855.99,86.7161 1856.24,86.7495 1856.48,86.7972 1856.72,86.8615 \n",
       "  1856.96,86.9456 1857.2,87.0546 1857.45,87.1967 1857.69,87.3864 1857.93,87.6485 1858.17,88.0237 1858.42,88.5753 1858.66,89.3941 1858.9,90.5978 1859.14,92.3218 \n",
       "  1859.38,94.696 1859.63,97.8071 1859.87,101.653 1860.11,106.099 1860.35,110.856 1860.6,115.493 1860.84,119.494 1861.08,122.354 1861.32,123.685 1861.56,123.306 \n",
       "  1861.81,121.293 1862.05,117.956 1862.29,113.772 1862.53,109.275 1862.78,104.957 1863.02,101.192 1863.26,98.1972 1863.5,96.0494 1863.74,94.7142 1863.99,94.0952 \n",
       "  1864.23,94.0745 1864.47,94.5427 1864.71,95.4125 1864.96,96.6219 1865.2,98.1292 1865.44,99.9062 1865.68,101.93 1865.92,104.176 1866.17,106.615 1866.41,109.21 \n",
       "  1866.65,111.916 1866.89,114.676 1867.14,117.428 1867.38,120.102 1867.62,122.625 1867.86,124.925 1868.1,126.93 1868.35,128.577 1868.59,129.811 1868.83,130.589 \n",
       "  1869.07,130.886 1869.32,130.689 1869.56,130.005 1869.8,128.858 1870.04,127.284 1870.29,125.336 1870.53,123.074 1870.77,120.568 1871.01,117.888 1871.25,115.108 \n",
       "  1871.5,112.295 1871.74,109.514 1871.98,106.819 1872.22,104.256 1872.47,101.86 1872.71,99.6575 1872.95,97.6634 1873.19,95.8845 1873.43,94.3194 1873.68,92.9608 \n",
       "  1873.92,91.7965 1874.16,90.8108 1874.4,89.9861 1874.65,89.304 1874.89,88.7461 1875.13,88.2947 1875.37,87.9336 1875.61,87.6483 1875.86,87.4259 1876.1,87.2555 \n",
       "  1876.34,87.128 1876.58,87.036 1876.83,86.9736 1877.07,86.9365 1877.31,86.9214 1877.55,86.9262 1877.79,86.9499 1878.04,86.9927 1878.28,87.0555 1878.52,87.1408 \n",
       "  1878.76,87.2519 1879.01,87.394 1879.25,87.574 1879.49,87.8013 1879.73,88.0878 1879.97,88.4491 1880.22,88.9044 1880.46,89.4781 1880.7,90.1999 1880.94,91.1057 \n",
       "  1881.19,92.2378 1881.43,93.6458 1881.67,95.386 1881.91,97.5209 1882.15,100.118 1882.4,103.249 1882.64,106.986 1882.88,111.396 1883.12,116.542 1883.37,122.473 \n",
       "  1883.61,129.22 1883.85,136.79 1884.09,145.164 1884.33,154.285 1884.58,164.061 1884.82,174.361 1885.06,185.013 1885.3,195.809 1885.55,206.512 1885.79,216.858 \n",
       "  1886.03,226.572 1886.27,235.378 1886.51,243.011 1886.76,249.232 1887,253.84 1887.24,256.682 1887.48,257.665 1887.73,256.757 1887.97,253.992 1888.21,249.468 \n",
       "  1888.45,243.339 1888.7,235.809 1888.94,227.121 1889.18,217.541 1889.42,207.349 1889.66,196.824 1889.91,186.231 1890.15,175.813 1890.39,165.782 1890.63,156.316 \n",
       "  1890.88,147.554 1891.12,139.598 1891.36,132.516 1891.6,126.345 1891.84,121.1 1892.09,116.777 1892.33,113.364 1892.57,110.848 1892.81,109.22 1893.06,108.486 \n",
       "  1893.3,108.675 1893.54,109.842 1893.78,112.075 1894.02,115.504 1894.27,120.298 1894.51,126.675 1894.75,134.897 1894.99,145.273 1895.24,158.147 1895.48,173.897 \n",
       "  1895.72,192.915 1895.96,215.594 1896.2,242.301 1896.45,273.354 1896.69,308.987 1896.93,349.322 1897.17,394.334 1897.42,443.821 1897.66,497.377 1897.9,554.379 \n",
       "  1898.14,613.979 1898.38,675.107 1898.63,736.5 1898.87,796.732 1899.11,854.266 1899.35,907.518 1899.6,954.929 1899.84,995.039 1900.08,1026.56 1900.32,1048.47 \n",
       "  1900.56,1060 1900.81,1060.79 1901.05,1050.79 1901.29,1030.36 1901.53,1000.18 1901.78,961.255 1902.02,914.836 1902.26,862.366 1902.5,805.397 1902.74,745.516 \n",
       "  1902.99,684.274 1903.23,623.121 1903.47,563.354 1903.71,506.077 1903.96,452.181 1904.2,402.333 1904.44,356.983 1904.68,316.378 1904.92,280.586 1905.17,249.527 \n",
       "  1905.41,223.006 1905.65,200.742 1905.89,182.398 1906.14,167.612 1906.38,156.013 1906.62,147.237 1906.86,140.943 1907.11,136.814 1907.35,134.563 1907.59,133.926 \n",
       "  1907.83,134.667 1908.07,136.566 1908.32,139.416 1908.56,143.019 1908.8,147.183 1909.04,151.716 1909.29,156.428 1909.53,161.13 1909.77,165.639 1910.01,169.781 \n",
       "  1910.25,173.394 1910.5,176.338 1910.74,178.496 1910.98,179.782 1911.22,180.145 1911.47,179.569 1911.71,178.076 1911.95,175.724 1912.19,172.607 1912.43,168.846 \n",
       "  1912.68,164.589 1912.92,160.003 1913.16,155.267 1913.4,150.572 1913.65,146.11 1913.89,142.076 1914.13,138.665 1914.37,136.069 1914.61,134.484 1914.86,134.101 \n",
       "  1915.1,135.119 1915.34,137.737 1915.58,142.158 1915.83,148.587 1916.07,157.226 1916.31,168.266 1916.55,181.878 1916.79,198.202 1917.04,217.328 1917.28,239.282 \n",
       "  1917.52,264.009 1917.76,291.356 1918.01,321.058 1918.25,352.732 1918.49,385.872 1918.73,419.855 1918.97,453.949 1919.22,487.342 1919.46,519.161 1919.7,548.516 \n",
       "  1919.94,574.534 1920.19,596.405 1920.43,613.421 1920.67,625.016 1920.91,630.797 1921.15,630.563 1921.4,624.322 1921.64,612.285 1921.88,594.856 1922.12,572.611 \n",
       "  1922.37,546.262 1922.61,516.622 1922.85,484.561 1923.09,450.964 1923.33,416.689 1923.58,382.538 1923.82,349.22 1924.06,317.336 1924.3,287.366 1924.55,259.663 \n",
       "  1924.79,234.459 1925.03,211.871 1925.27,191.918 1925.52,174.537 1925.76,159.6 1926,146.933 1926.24,136.333 1926.48,127.582 1926.73,120.465 1926.97,114.777 \n",
       "  1927.21,110.337 1927.45,107.003 1927.7,104.688 1927.94,103.38 1928.18,103.165 1928.42,104.248 1928.66,106.952 1928.91,111.693 1929.15,118.904 1929.39,128.906 \n",
       "  1929.63,141.746 1929.88,157.023 1930.12,173.786 1930.36,190.545 1930.6,205.442 1930.84,216.565 1931.09,222.345 1931.33,221.912 1931.57,215.299 1931.81,203.438 \n",
       "  1932.06,187.932 1932.3,170.691 1932.54,153.537 1932.78,137.902 1933.02,124.667 1933.27,114.159 1933.51,106.267 1933.75,100.608 1933.99,96.6902 1934.24,94.031 \n",
       "  1934.48,92.2287 1934.72,90.9842 1934.96,90.0938 1935.2,89.4286 1935.45,88.9116 1935.69,88.4976 1935.93,88.1603 1936.17,87.8831 1936.42,87.6544 1936.66,87.4655 \n",
       "  1936.9,87.3095 1937.14,87.1804 1937.38,87.0732 1937.63,86.984 1937.87,86.9095 1938.11,86.8471 1938.35,86.795 1938.6,86.7515 1938.84,86.7157 1939.08,86.6869 \n",
       "  1939.32,86.6644 1939.56,86.6481 1939.81,86.6377 1940.05,86.6332 1940.29,86.6348 1940.53,86.6424 1940.78,86.6564 1941.02,86.6771 1941.26,86.7049 1941.5,86.7402 \n",
       "  1941.74,86.7836 1941.99,86.836 1942.23,86.8982 1942.47,86.9716 1942.71,87.0575 1942.96,87.158 1943.2,87.2753 1943.44,87.4127 1943.68,87.5738 1943.93,87.7632 \n",
       "  1944.17,87.9867 1944.41,88.2508 1944.65,88.5637 1944.89,88.935 1945.14,89.3763 1945.38,89.9026 1945.62,90.5345 1945.86,91.3039 1946.11,92.2623 1946.35,93.4961 \n",
       "  1946.59,95.1472 1946.83,97.4392 1947.07,100.701 1947.32,105.38 1947.56,112.019 1947.8,121.194 1948.04,133.388 1948.29,148.817 1948.53,167.256 1948.77,187.9 \n",
       "  1949.01,209.357 1949.25,229.805 1949.5,247.316 1949.74,260.279 1949.98,267.815 1950.22,270.041 1950.47,268.11 1950.71,264.003 1950.95,260.141 1951.19,258.941 \n",
       "  1951.43,262.442 1951.68,272.077 1951.92,288.615 1952.16,312.239 1952.4,342.694 1952.65,379.439 1952.89,421.761 1953.13,468.837 1953.37,519.756 1953.61,573.504 \n",
       "  1953.86,628.954 1954.1,684.855 1954.34,739.848 1954.58,792.491 1954.83,841.311 1955.07,884.858 1955.31,921.777 1955.55,950.872 1955.79,971.173 1956.04,981.987 \n",
       "  1956.28,982.937 1956.52,973.982 1956.76,955.424 1957.01,927.883 1957.25,892.269 1957.49,849.724 1957.73,801.568 1957.97,749.221 1958.22,694.14 1958.46,637.748 \n",
       "  1958.7,581.379 1958.94,526.223 1959.19,473.294 1959.43,423.41 1959.67,377.178 1959.91,335.004 1960.15,297.104 1960.4,263.525 1960.64,234.174 1960.88,208.847 \n",
       "  1961.12,187.258 1961.37,169.068 1961.61,153.909 1961.85,141.406 1962.09,131.195 1962.34,122.933 1962.58,116.306 1962.82,111.037 1963.06,106.885 1963.3,103.647 \n",
       "  1963.55,101.153 1963.79,99.2666 1964.03,97.8791 1964.27,96.9074 1964.52,96.2913 1964.76,95.9919 1965,95.9916 1965.24,96.2977 1965.48,96.9477 1965.73,98.0192 \n",
       "  1965.97,99.6412 1966.21,102.004 1966.45,105.363 1966.7,110.024 1966.94,116.314 1967.18,124.518 1967.42,134.811 1967.66,147.185 1967.91,161.412 1968.15,177.062 \n",
       "  1968.39,193.597 1968.63,210.519 1968.88,227.55 1969.12,244.781 1969.36,262.735 1969.6,282.327 1969.84,304.723 1970.09,331.138 1970.33,362.622 1970.57,399.895 \n",
       "  1970.81,443.256 1971.06,492.555 1971.3,547.232 1971.54,606.375 1971.78,668.796 1972.02,733.086 1972.27,797.675 1972.51,860.878 1972.75,920.952 1972.99,976.152 \n",
       "  1973.24,1024.8 1973.48,1065.36 1973.72,1096.5 1973.96,1117.18 1974.2,1126.7 1974.45,1124.71 1974.69,1111.29 1974.93,1086.88 1975.17,1052.31 1975.42,1008.7 \n",
       "  1975.66,957.447 1975.9,900.121 1976.14,838.389 1976.38,773.939 1976.63,708.4 1976.87,643.279 1977.11,579.907 1977.35,519.4 1977.6,462.642 1977.84,410.274 \n",
       "  1978.08,362.705 1978.32,320.131 1978.57,282.56 1978.81,249.846 1979.05,221.726 1979.29,197.848 1979.53,177.809 1979.78,161.18 1980.02,147.53 1980.26,136.444 \n",
       "  1980.5,127.539 1980.75,120.467 1980.99,114.927 1981.23,110.662 1981.47,107.462 1981.71,105.16 1981.96,103.633 1982.2,102.798 1982.44,102.609 1982.68,103.058 \n",
       "  1982.93,104.171 1983.17,106.012 1983.41,108.679 1983.65,112.305 1983.89,117.06 1984.14,123.149 1984.38,130.81 1984.62,140.307 1984.86,151.93 1985.11,165.978 \n",
       "  1985.35,182.75 1985.59,202.527 1985.83,225.554 1986.07,252.014 1986.32,282.005 1986.56,315.518 1986.8,352.412 1987.04,392.394 1987.29,435.008 1987.53,479.629 \n",
       "  1987.77,525.467 1988.01,571.583 1988.25,616.912 1988.5,660.308 1988.74,700.583 1988.98,736.564 1989.22,767.15 1989.47,791.371 1989.71,808.44 1989.95,817.798 \n",
       "  1990.19,819.155 1990.43,812.506 1990.68,798.137 1990.92,776.613 1991.16,748.742 1991.4,715.518 1991.65,678.056 1991.89,637.505 1992.13,594.972 1992.37,551.457 \n",
       "  1992.61,507.815 1992.86,464.745 1993.1,422.819 1993.34,382.514 1993.58,344.254 1993.83,308.432 1994.07,275.406 1994.31,245.476 1994.55,218.847 1994.79,195.604 \n",
       "  1995.04,175.693 1995.28,158.934 1995.52,145.047 1995.76,133.691 1996.01,124.503 1996.25,117.127 1996.49,111.239 1996.73,106.557 1996.98,102.843 1997.22,99.8997 \n",
       "  1997.46,97.5696 1997.7,95.7255 1997.94,94.2662 1998.19,93.1122 1998.43,92.2009 1998.67,91.4838 1998.91,90.9236 1999.16,90.4919 1999.4,90.1675 1999.64,89.935 \n",
       "  1999.88,89.7837 2000.12,89.7065 2000.37,89.7001 2000.61,89.7641 2000.85,89.9009 2001.09,90.1167 2001.34,90.4208 2001.58,90.8275 2001.82,91.3562 2002.06,92.033 \n",
       "  2002.3,92.8928 2002.55,93.9808 2002.79,95.3553 2003.03,97.0904 2003.27,99.2793 2003.52,102.037 2003.76,105.505 2004,109.851 2004.24,115.276 2004.48,122.009 \n",
       "  2004.73,130.312 2004.97,140.474 2005.21,152.805 2005.45,167.628 2005.7,185.265 2005.94,206.02 2006.18,230.161 2006.42,257.895 2006.66,289.342 2006.91,324.512 \n",
       "  2007.15,363.281 2007.39,405.369 2007.63,450.327 2007.88,497.533 2008.12,546.195 2008.36,595.366 2008.6,643.978 2008.84,690.879 2009.09,734.885 2009.33,774.842 \n",
       "  2009.57,809.686 2009.81,838.505 2010.06,860.597 2010.3,875.511 2010.54,883.075 2010.78,883.4 2011.02,876.867 2011.27,864.094 2011.51,845.881 2011.75,823.154 \n",
       "  2011.99,796.903 2012.24,768.119 2012.48,737.738 2012.72,706.597 2012.96,675.4 2013.2,644.686 2013.45,614.824 2013.69,586.015 2013.93,558.305 2014.17,531.619 \n",
       "  2014.42,505.797 2014.66,480.638 2014.9,455.943 2015.14,431.544 2015.39,407.332 2015.63,383.269 2015.87,359.389 2016.11,335.791 2016.35,312.627 2016.6,290.08 \n",
       "  2016.84,268.351 2017.08,247.637 2017.32,228.118 2017.57,209.944 2017.81,193.227 2018.05,178.036 2018.29,164.398 2018.53,152.3 2018.78,141.691 2019.02,132.493 \n",
       "  2019.26,124.604 2019.5,117.907 2019.75,112.277 2019.99,107.586 2020.23,103.71 2020.47,100.531 2020.71,97.9401 2020.96,95.839 2021.2,94.142 2021.44,92.775 \n",
       "  2021.68,91.675 2021.93,90.7898 2022.17,90.0763 2022.41,89.4994 2022.65,89.0312 2022.89,88.6494 2023.14,88.3365 2023.38,88.0787 2023.62,87.8653 2023.86,87.6881 \n",
       "  2024.11,87.5405 2024.35,87.4176 2024.59,87.3156 2024.83,87.2315 2025.07,87.1629 2025.32,87.1083 2025.56,87.0663 2025.8,87.0362 2026.04,87.0175 2026.29,87.0102 \n",
       "  2026.53,87.0148 2026.77,87.032 2027.01,87.0634 2027.25,87.1111 2027.5,87.1782 2027.74,87.2685 2027.98,87.3874 2028.22,87.5416 2028.47,87.7396 2028.71,87.9918 \n",
       "  2028.95,88.3109 2029.19,88.712 2029.43,89.2126 2029.68,89.8329 2029.92,90.5954 2030.16,91.5243 2030.4,92.6453 2030.65,93.9841 2030.89,95.5657 2031.13,97.4123 \n",
       "  2031.37,99.542 2031.61,101.966 2031.86,104.689 2032.1,107.702 2032.34,110.987 2032.58,114.511 2032.83,118.227 2033.07,122.074 2033.31,125.978 2033.55,129.853 \n",
       "  2033.8,133.605 2034.04,137.135 2034.28,140.343 2034.52,143.134 2034.76,145.421 2035.01,147.132 2035.25,148.21 2035.49,148.62 2035.73,148.352 2035.98,147.417 \n",
       "  2036.22,145.849 2036.46,143.704 2036.7,141.056 2036.94,137.993 2037.19,134.612 2037.43,131.016 2037.67,127.308 2037.91,123.586 2038.16,119.942 2038.4,116.458 \n",
       "  2038.64,113.204 2038.88,110.235 2039.12,107.598 2039.37,105.327 2039.61,103.449 2039.85,101.99 2040.09,100.982 2040.34,100.479 2040.58,100.573 2040.82,101.419 \n",
       "  2041.06,103.255 2041.3,106.422 2041.55,111.357 2041.79,118.548 2042.03,128.451 2042.27,141.352 2042.52,157.215 2042.76,175.555 2043,195.392 2043.24,215.332 \n",
       "  2043.48,233.794 2043.73,249.343 2043.97,261.03 2044.21,268.649 2044.45,272.817 2044.7,274.842 2044.94,276.433 2045.18,279.323 2045.42,284.937 2045.66,294.168 \n",
       "  2045.91,307.302 2046.15,324.075 2046.39,343.808 2046.63,365.573 2046.88,388.331 2047.12,411.041 2047.36,432.723 2047.6,452.489 2047.84,469.564 2048.09,483.297 \n",
       "  2048.33,493.169 2048.57,498.804 2048.81,499.982 2049.06,496.642 2049.3,488.881 2049.54,476.95 2049.78,461.236 2050.02,442.239 2050.27,420.547 2050.51,396.804 \n",
       "  2050.75,371.676 2050.99,345.82 2051.24,319.859 2051.48,294.354 2051.72,269.79 2051.96,246.56 2052.21,224.964 2052.45,205.209 2052.69,187.412 2052.93,171.61 \n",
       "  2053.17,157.774 2053.42,145.822 2053.66,135.631 2053.9,127.052 2054.14,119.92 2054.39,114.069 2054.63,109.334 2054.87,105.563 2055.11,102.618 2055.35,100.381 \n",
       "  2055.6,98.7538 2055.84,97.66 2056.08,97.0452 2056.32,96.8767 2056.57,97.1438 2056.81,97.8572 2057.05,99.0485 2057.29,100.77 2057.53,103.095 2057.78,106.115 \n",
       "  2058.02,109.939 2058.26,114.692 2058.5,120.51 2058.75,127.535 2058.99,135.91 2059.23,145.77 2059.47,157.232 2059.71,170.387 2059.96,185.288 2060.2,201.94 \n",
       "  2060.44,220.29 2060.68,240.224 2060.93,261.558 2061.17,284.048 2061.41,307.389 2061.65,331.239 2061.89,355.234 2062.14,379.014 2062.38,402.26 2062.62,424.715 \n",
       "  2062.86,446.207 2063.11,466.654 2063.35,486.058 2063.59,504.481 2063.83,522.015 2064.07,538.759 2064.32,554.812 2064.56,570.291 2064.8,585.368 2065.04,600.304 \n",
       "  2065.29,615.469 2065.53,631.317 2065.77,648.322 2066.01,666.875 2066.25,687.166 2066.5,709.09 2066.74,732.197 2066.98,755.703 2067.22,778.559 2067.47,799.578 \n",
       "  2067.71,817.575 2067.95,831.518 2068.19,840.649 2068.43,844.573 2068.68,843.283 2068.92,837.151 2069.16,826.873 2069.4,813.389 2069.65,797.794 2069.89,781.25 \n",
       "  2070.13,764.892 2070.37,749.761 2070.62,736.725 2070.86,726.435 2071.1,719.276 2071.34,715.36 2071.58,714.523 2071.83,716.36 2072.07,720.266 2072.31,725.495 \n",
       "  2072.55,731.207 2072.8,736.505 2073.04,740.457 2073.28,742.097 2073.52,740.441 2073.76,734.516 2074.01,723.434 2074.25,706.505 2074.49,683.368 2074.73,654.1 \n",
       "  2074.98,619.276 2075.22,579.931 2075.46,537.448 2075.7,493.374 2075.94,449.227 2076.19,406.334 2076.43,365.722 2076.67,328.091 2076.91,293.837 2077.16,263.108 \n",
       "  2077.4,235.88 2077.64,212.011 2077.88,191.296 2078.12,173.49 2078.37,158.331 2078.61,145.55 2078.85,134.876 2079.09,126.047 2079.34,118.812 2079.58,112.936 \n",
       "  2079.82,108.208 2080.06,104.438 2080.3,101.462 2080.55,99.1435 2080.79,97.3701 2081.03,96.0584 2081.27,95.1564 2081.52,94.6494 2081.76,94.5686 2082,95.0012 \n",
       "  2082.24,96.0954 2082.48,98.0557 2082.73,101.118 2082.97,105.499 2083.21,111.321 2083.45,118.522 2083.7,126.781 2083.94,135.487 2084.18,143.78 2084.42,150.673 \n",
       "  2084.66,155.24 2084.91,156.817 2085.15,155.156 2085.39,150.487 2085.63,143.459 2085.88,134.988 2086.12,126.059 2086.36,117.531 2086.6,110.019 2086.84,103.845 \n",
       "  2087.09,99.067 2087.33,95.5564 2087.57,93.082 2087.81,91.3876 2088.06,90.2416 2088.3,89.4607 2088.54,88.9142 2088.78,88.5161 2089.03,88.2134 2089.27,87.9748 \n",
       "  2089.51,87.7821 2089.75,87.6245 2089.99,87.4946 2090.24,87.3874 2090.48,87.2987 2090.72,87.2253 2090.96,87.1642 2091.21,87.1131 2091.45,87.0702 2091.69,87.0338 \n",
       "  2091.93,87.0027 2092.17,86.9761 2092.42,86.9532 2092.66,86.9336 2092.9,86.9167 2093.14,86.9023 2093.39,86.8903 2093.63,86.8806 2093.87,86.8729 2094.11,86.8674 \n",
       "  2094.35,86.864 2094.6,86.8627 2094.84,86.8637 2095.08,86.8669 2095.32,86.8725 2095.57,86.8807 2095.81,86.8916 2096.05,86.9055 2096.29,86.9227 2096.53,86.9433 \n",
       "  2096.78,86.9679 2097.02,86.9967 2097.26,87.0304 2097.5,87.0693 2097.75,87.1142 2097.99,87.1657 2098.23,87.2247 2098.47,87.2922 2098.71,87.3695 2098.96,87.458 \n",
       "  2099.2,87.5596 2099.44,87.6766 2099.68,87.812 2099.93,87.9694 2100.17,88.1538 2100.41,88.3714 2100.65,88.6302 2100.89,88.9406 2101.14,89.3157 2101.38,89.7727 \n",
       "  2101.62,90.3332 2101.86,91.0248 2102.11,91.8825 2102.35,92.9514 2102.59,94.2895 2102.83,95.9732 2103.07,98.1038 2103.32,100.817 2103.56,104.293 2103.8,108.766 \n",
       "  2104.04,114.526 2104.29,121.908 2104.53,131.263 2104.77,142.899 2105.01,157.01 2105.26,173.595 2105.5,192.395 2105.74,212.884 2105.98,234.313 2106.22,255.833 \n",
       "  2106.47,276.644 2106.71,296.152 2106.95,314.056 2107.19,330.368 2107.44,345.33 2107.68,359.277 2107.92,372.483 2108.16,385.044 2108.4,396.824 2108.65,407.471 \n",
       "  2108.89,416.485 2109.13,423.313 2109.37,427.44 2109.62,428.465 2109.86,426.138 2110.1,420.385 2110.34,411.295 2110.58,399.107 2110.83,384.182 2111.07,366.971 \n",
       "  2111.31,347.989 2111.55,327.779 2111.8,306.887 2112.04,285.839 2112.28,265.118 2112.52,245.149 2112.76,226.292 2113.01,208.832 2113.25,192.988 2113.49,178.909 \n",
       "  2113.73,166.691 2113.98,156.384 2114.22,148.008 2114.46,141.566 2114.7,137.059 2114.94,134.498 2115.19,133.917 2115.43,135.377 2115.67,138.979 2115.91,144.858 \n",
       "  2116.16,153.188 2116.4,164.173 2116.64,178.035 2116.88,195.006 2117.12,215.3 2117.37,239.103 2117.61,266.536 2117.85,297.642 2118.09,332.35 2118.34,370.463 \n",
       "  2118.58,411.631 2118.82,455.35 2119.06,500.951 2119.3,547.618 2119.55,594.403 2119.79,640.262 2120.03,684.101 2120.27,724.828 2120.52,761.414 2120.76,792.961 \n",
       "  2121,818.762 2121.24,838.361 2121.48,851.597 2121.73,858.635 2121.97,859.977 2122.21,856.448 2122.45,849.159 2122.7,839.447 2122.94,828.793 2123.18,818.726 \n",
       "  2123.42,810.715 2123.67,806.062 2123.91,805.806 2124.15,810.639 2124.39,820.846 2124.63,836.284 2124.88,856.383 2125.12,880.183 2125.36,906.402 2125.6,933.526 \n",
       "  2125.85,959.907 2126.09,983.876 2126.33,1003.84 2126.57,1018.39 2126.81,1026.35 2127.06,1026.86 2127.3,1019.38 2127.54,1003.73 2127.78,980.04 2128.03,948.771 \n",
       "  2128.27,910.637 2128.51,866.573 2128.75,817.677 2128.99,765.154 2129.24,710.255 2129.48,654.226 2129.72,598.255 2129.96,543.433 2130.21,490.716 2130.45,440.904 \n",
       "  2130.69,394.629 2130.93,352.346 2131.17,314.347 2131.42,280.773 2131.66,251.634 2131.9,226.84 2132.14,206.226 2132.39,189.58 2132.63,176.673 2132.87,167.28 \n",
       "  2133.11,161.202 2133.35,158.276 2133.6,158.389 2133.84,161.479 2134.08,167.534 2134.32,176.587 2134.57,188.708 2134.81,203.986 2135.05,222.519 2135.29,244.394 \n",
       "  2135.53,269.668 2135.78,298.355 2136.02,330.406 2136.26,365.702 2136.5,404.039 2136.75,445.125 2136.99,488.581 2137.23,533.936 2137.47,580.637 2137.71,628.055 \n",
       "  2137.96,675.486 2138.2,722.167 2138.44,767.278 2138.68,809.956 2138.93,849.312 2139.17,884.44 2139.41,914.452 2139.65,938.5 2139.89,955.818 2140.14,965.761 \n",
       "  2140.38,967.845 2140.62,961.79 2140.86,947.546 2141.11,925.32 2141.35,895.576 2141.59,859.026 2141.83,816.597 2142.08,769.397 2142.32,718.648 2142.56,665.634 \n",
       "  2142.8,611.634 2143.04,557.864 2143.29,505.425 2143.53,455.27 2143.77,408.17 2144.01,364.711 2144.26,325.293 2144.5,290.142 2144.74,259.334 2144.98,232.823 \n",
       "  2145.22,210.468 2145.47,192.071 2145.71,177.396 2145.95,166.204 2146.19,158.268 2146.44,153.39 2146.68,151.413 2146.92,152.221 2147.16,155.742 2147.4,161.938 \n",
       "  2147.65,170.8 2147.89,182.326 2148.13,196.513 2148.37,213.33 2148.62,232.706 2148.86,254.507 2149.1,278.522 2149.34,304.448 2149.58,331.888 2149.83,360.346 \n",
       "  2150.07,389.231 2150.31,417.876 2150.55,445.557 2150.8,471.518 2151.04,495.003 2151.28,515.298 2151.52,531.757 2151.76,543.845 2152.01,551.161 2152.25,553.467 \n",
       "  2152.49,550.694 2152.73,542.958 2152.98,530.545 2153.22,513.902 2153.46,493.609 2153.7,470.359 2153.94,444.917 2154.19,418.087 2154.43,390.684 2154.67,363.502 \n",
       "  2154.91,337.285 2155.16,312.719 2155.4,290.411 2155.64,270.889 2155.88,254.601 2156.12,241.922 2156.37,233.154 2156.61,228.544 2156.85,228.282 2157.09,232.507 \n",
       "  2157.34,241.313 2157.58,254.738 2157.82,272.763 2158.06,295.296 2158.3,322.166 2158.55,353.104 2158.79,387.74 2159.03,425.59 2159.27,466.061 2159.52,508.463 \n",
       "  2159.76,552.021 2160,595.911 2160.24,639.294 2160.49,681.357 2160.73,721.36 2160.97,758.674 2161.21,792.816 2161.45,823.468 2161.7,850.479 2161.94,873.856 \n",
       "  2162.18,893.732 2162.42,910.323 2162.67,923.877 2162.91,934.627 2163.15,942.743 2163.39,948.299 2163.63,951.258 2163.88,951.477 2164.12,948.724 2164.36,942.72 \n",
       "  2164.6,933.182 2164.85,919.88 2165.09,902.692 2165.33,881.647 2165.57,856.97 2165.81,829.103 2166.06,798.721 2166.3,766.724 2166.54,734.225 2166.78,702.52 \n",
       "  2167.03,673.04 2167.27,647.303 2167.51,626.834 2167.75,613.081 2167.99,607.297 2168.24,610.407 2168.48,622.882 2168.72,644.614 2168.96,674.865 2169.21,712.286 \n",
       "  2169.45,755.049 2169.69,801.054 2169.93,848.188 2170.17,894.569 2170.42,938.712 2170.66,979.591 2170.9,1016.59 2171.14,1049.38 2171.39,1077.76 2171.63,1101.54 \n",
       "  2171.87,1120.48 2172.11,1134.21 2172.35,1142.28 2172.6,1144.2 2172.84,1139.51 2173.08,1127.87 2173.32,1109.2 2173.57,1083.76 2173.81,1052.22 2174.05,1015.77 \n",
       "  2174.29,975.996 2174.53,934.851 2174.78,894.448 2175.02,856.897 2175.26,824.115 2175.5,797.685 2175.75,778.748 2175.99,767.948 2176.23,765.414 2176.47,770.779 \n",
       "  2176.71,783.217 2176.96,801.503 2177.2,824.097 2177.44,849.229 2177.68,875.007 2177.93,899.521 2178.17,920.948 2178.41,937.65 2178.65,948.254 2178.9,951.716 \n",
       "  2179.14,947.363 2179.38,934.909 2179.62,914.457 2179.86,886.467 2180.11,851.719 2180.35,811.251 2180.59,766.296 2180.83,718.207 2181.08,668.386 2181.32,618.213 \n",
       "  2181.56,568.986 2181.8,521.865 2182.04,477.839 2182.29,437.692 2182.53,401.99 2182.77,371.08 2183.01,345.098 2183.26,323.984 2183.5,307.503 2183.74,295.277 \n",
       "  2183.98,286.813 2184.22,281.532 2184.47,278.808 2184.71,277.989 2184.95,278.429 2185.19,279.515 2185.44,280.685 2185.68,281.448 2185.92,281.395 2186.16,280.211 \n",
       "  2186.4,277.678 2186.65,273.677 2186.89,268.18 2187.13,261.247 2187.37,253.009 2187.62,243.659 2187.86,233.433 2188.1,222.6 2188.34,211.44 2188.58,200.243 \n",
       "  2188.83,189.297 2189.07,178.894 2189.31,169.342 2189.55,160.979 2189.8,154.194 2190.04,149.434 2190.28,147.184 2190.52,147.909 2190.76,151.943 2191.01,159.346 \n",
       "  2191.25,169.75 2191.49,182.254 2191.73,195.435 2191.98,207.497 2192.22,216.565 2192.46,221.052 2192.7,220.011 2192.94,213.344 2193.19,201.814 2193.43,186.852 \n",
       "  2193.67,170.213 2193.91,153.613 2194.16,138.42 2194.4,125.498 2194.64,115.184 2194.88,107.394 2195.12,101.777 2195.37,97.8646 2195.61,95.1942 2195.85,93.3754 \n",
       "  2196.09,92.1147 2196.34,91.2108 2196.58,90.5356 2196.82,90.0117 2197.06,89.5939 2197.31,89.2557 2197.55,88.9803 2197.79,88.7567 2198.03,88.5764 2198.27,88.4327 \n",
       "  2198.52,88.32 2198.76,88.234 2199,88.171 2199.24,88.1283 2199.49,88.104 2199.73,88.0967 2199.97,88.1056 2200.21,88.1304 2200.45,88.1714 2200.7,88.229 \n",
       "  2200.94,88.3043 2201.18,88.3985 2201.42,88.5136 2201.67,88.652 2201.91,88.8166 2202.15,89.0114 2202.39,89.2412 2202.63,89.5121 2202.88,89.8319 2203.12,90.2098 \n",
       "  2203.36,90.6577 2203.6,91.1899 2203.85,91.8244 2204.09,92.5838 2204.33,93.4983 2204.57,94.6093 2204.81,95.9779 2205.06,97.6976 2205.3,99.9139 2205.54,102.851 \n",
       "  2205.78,106.844 2206.03,112.362 2206.27,120.016 2206.51,130.524 2206.75,144.622 2206.99,162.911 2207.24,185.659 2207.48,212.612 2207.72,242.88 2207.96,274.97 \n",
       "  2208.21,307.009 2208.45,337.121 2208.69,363.884 2208.93,386.716 2209.17,406.066 2209.42,423.343 2209.66,440.591 2209.9,460.016 2210.14,483.508 2210.39,512.278 \n",
       "  2210.63,546.687 2210.87,586.265 2211.11,629.88 2211.35,675.958 2211.6,722.715 2211.84,768.344 2212.08,811.14 2212.32,849.592 2212.57,882.425 2212.81,908.629 \n",
       "  2213.05,927.479 2213.29,938.533 2213.53,941.634 2213.78,936.886 2214.02,924.634 2214.26,905.422 2214.5,879.95 2214.75,849.027 2214.99,813.53 2215.23,774.358 \n",
       "  2215.47,732.403 2215.72,688.521 2215.96,643.518 2216.2,598.134 2216.44,553.039 2216.68,508.829 2216.93,466.023 2217.17,425.063 2217.41,386.312 2217.65,350.055 \n",
       "  2217.9,316.5 2218.14,285.776 2218.38,257.942 2218.62,232.99 2218.86,210.85 2219.11,191.404 2219.35,174.493 2219.59,159.925 2219.83,147.491 2220.08,136.973 \n",
       "  2220.32,128.147 2220.56,120.799 2220.8,114.724 2221.04,109.734 2221.29,105.656 2221.53,102.339 2221.77,99.6502 2222.01,97.4754 2222.26,95.7182 2222.5,94.298 \n",
       "  2222.74,93.1484 2222.98,92.2155 2223.22,91.4554 2223.47,90.8334 2223.71,90.3218 2223.95,89.8989 2224.19,89.5475 2224.44,89.2543 2224.68,89.009 2224.92,88.8034 \n",
       "  2225.16,88.6313 2225.4,88.4878 2225.65,88.3691 2225.89,88.2723 2226.13,88.1949 2226.37,88.1353 2226.62,88.0922 2226.86,88.0645 2227.1,88.0516 2227.34,88.0532 \n",
       "  2227.58,88.0692 2227.83,88.0998 2228.07,88.1454 2228.31,88.2069 2228.55,88.2854 2228.8,88.3825 2229.04,88.5003 2229.28,88.6417 2229.52,88.8104 2229.76,89.0113 \n",
       "  2230.01,89.2507 2230.25,89.537 2230.49,89.8812 2230.73,90.2974 2230.98,90.8043 2231.22,91.4259 2231.46,92.1934 2231.7,93.1465 2231.94,94.3355 2232.19,95.8234 \n",
       "  2232.43,97.6885 2232.67,100.026 2232.91,102.95 2233.16,106.597 2233.4,111.124 2233.64,116.708 2233.88,123.547 2234.13,131.854 2234.37,141.851 2234.61,153.76 \n",
       "  2234.85,167.794 2235.09,184.14 2235.34,202.943 2235.58,224.292 2235.82,248.201 2236.06,274.589 2236.31,303.27 2236.55,333.938 2236.79,366.168 2237.03,399.409 \n",
       "  2237.27,433.001 2237.52,466.19 2237.76,498.152 2238,528.028 2238.24,554.959 2238.49,578.131 2238.73,596.816 2238.97,610.406 2239.21,618.454 2239.45,620.696 \n",
       "  2239.7,617.068 2239.94,607.708 2240.18,592.954 2240.42,573.322 2240.67,549.478 2240.91,522.208 2241.15,492.375 2241.39,460.878 2241.63,428.611 2241.88,396.429 \n",
       "  2242.12,365.116 2242.36,335.358 2242.6,307.729 2242.85,282.682 2243.09,260.541 2243.33,241.513 2243.57,225.688 2243.81,213.053 2244.06,203.504 2244.3,196.862 \n",
       "  2244.54,192.881 2244.78,191.268 2245.03,191.688 2245.27,193.78 2245.51,197.164 2245.75,201.454 2245.99,206.265 2246.24,211.227 2246.48,215.99 2246.72,220.234 \n",
       "  2246.96,223.683 2247.21,226.105 2247.45,227.324 2247.69,227.224 2247.93,225.746 2248.17,222.894 2248.42,218.727 2248.66,213.354 2248.9,206.926 2249.14,199.626 \n",
       "  2249.39,191.659 2249.63,183.24 2249.87,174.582 2250.11,165.889 2250.36,157.345 2250.6,149.11 2250.84,141.315 2251.08,134.06 2251.32,127.414 2251.57,121.416 \n",
       "  2251.81,116.081 2252.05,111.397 2252.29,107.339 2252.54,103.864 2252.78,100.924 2253.02,98.4616 2253.26,96.4201 2253.5,94.7425 2253.75,93.3751 2253.99,92.2681 \n",
       "  2254.23,91.3772 2254.47,90.6633 2254.72,90.0929 2254.96,89.6379 2255.2,89.2748 2255.44,88.9845 2255.68,88.7516 2255.93,88.5638 2256.17,88.4116 2256.41,88.2872 \n",
       "  2256.65,88.1849 2256.9,88.1002 2257.14,88.0294 2257.38,87.9699 2257.62,87.9196 2257.86,87.8769 2258.11,87.8405 2258.35,87.8096 2258.59,87.7831 2258.83,87.7607 \n",
       "  2259.08,87.7416 2259.32,87.7256 2259.56,87.7123 2259.8,87.7013 2260.04,87.6924 2260.29,87.6855 2260.53,87.6804 2260.77,87.6768 2261.01,87.6748 2261.26,87.6742 \n",
       "  2261.5,87.6749 2261.74,87.677 2261.98,87.6804 2262.22,87.6853 2262.47,87.6917 2262.71,87.6998 2262.95,87.7099 2263.19,87.7222 2263.44,87.7374 2263.68,87.7558 \n",
       "  2263.92,87.7781 2264.16,87.8052 2264.4,87.8381 2264.65,87.878 2264.89,87.9272 2265.13,87.9888 2265.37,88.0689 2265.62,88.177 2265.86,88.3293 2266.1,88.5506 \n",
       "  2266.34,88.8761 2266.58,89.3516 2266.83,90.0293 2267.07,90.9589 2267.31,92.1731 2267.55,93.6696 2267.8,95.3951 2268.04,97.2368 2268.28,99.0279 2268.52,100.57 \n",
       "  2268.77,101.669 2269.01,102.179 2269.25,102.034 2269.49,101.263 2269.73,99.9881 2269.98,98.3918 2270.22,96.6775 2270.46,95.0304 2270.7,93.5886 2270.95,92.4314 \n",
       "  2271.19,91.5826 2271.43,91.0249 2271.67,90.7178 2271.91,90.6144 2272.16,90.6723 2272.4,90.8605 2272.64,91.1609 2272.88,91.5682 2273.13,92.0879 2273.37,92.7359 \n",
       "  2273.61,93.5377 2273.85,94.529 2274.09,95.7579 2274.34,97.2866 2274.58,99.195 2274.82,101.585 2275.06,104.582 2275.31,108.343 2275.55,113.058 2275.79,118.955 \n",
       "  2276.03,126.301 2276.27,135.404 2276.52,146.61 2276.76,160.302 2277,176.886 2277.24,196.784 2277.49,220.409 2277.73,248.149 2277.97,280.335 2278.21,317.213 \n",
       "  2278.45,358.909 2278.7,405.396 2278.94,456.465 2279.18,511.699 2279.42,570.454 2279.67,631.855 2279.91,694.805 2280.15,758.005 2280.39,819.991 2280.63,879.192 \n",
       "  2280.88,933.988 2281.12,982.79 2281.36,1024.12 2281.6,1056.67 2281.85,1079.41 2282.09,1091.62 2282.33,1092.94 2282.57,1083.41 2282.81,1063.45 2283.06,1033.88 \n",
       "  2283.3,995.834 2283.54,950.76 2283.78,900.315 2284.03,846.299 2284.27,790.571 2284.51,734.971 2284.75,681.243 2284.99,630.987 2285.24,585.609 2285.48,546.304 \n",
       "  2285.72,514.048 2285.96,489.592 2286.21,473.467 2286.45,465.976 2286.69,467.193 2286.93,476.942 2287.18,494.801 2287.42,520.091 2287.66,551.889 2287.9,589.047 \n",
       "  2288.14,630.222 2288.39,673.919 2288.63,718.533 2288.87,762.41 2289.11,803.899 2289.36,841.413 2289.6,873.495 2289.84,898.872 2290.08,916.513 2290.32,925.669 \n",
       "  2290.57,925.908 2290.81,917.125 2291.05,899.549 2291.29,873.715 2291.54,840.435 2291.78,800.747 2292.02,755.855 2292.26,707.067 2292.5,655.728 2292.75,603.156 \n",
       "  2292.99,550.586 2293.23,499.126 \n",
       "  \"/>\n",
       "<path clip-path=\"url(#clip130)\" d=\"\n",
       "M1566.55 1377.32 L2282.65 1377.32 L2282.65 1221.8 L1566.55 1221.8  Z\n",
       "  \" fill=\"#ffffff\" fill-rule=\"evenodd\" fill-opacity=\"1\"/>\n",
       "<polyline clip-path=\"url(#clip130)\" style=\"stroke:#000000; stroke-linecap:butt; stroke-linejoin:round; stroke-width:4; stroke-opacity:1; fill:none\" points=\"\n",
       "  1566.55,1377.32 2282.65,1377.32 2282.65,1221.8 1566.55,1221.8 1566.55,1377.32 \n",
       "  \"/>\n",
       "<polyline clip-path=\"url(#clip130)\" style=\"stroke:#009af9; stroke-linecap:butt; stroke-linejoin:round; stroke-width:4; stroke-opacity:1; fill:none\" points=\"\n",
       "  1589.92,1273.64 1730.14,1273.64 \n",
       "  \"/>\n",
       "<path clip-path=\"url(#clip130)\" d=\"M1769.89 1274.71 Q1771.4 1275.22 1772.81 1276.89 Q1774.25 1278.55 1775.68 1281.47 L1780.43 1290.92 L1775.4 1290.92 L1770.98 1282.05 Q1769.27 1278.58 1767.65 1277.44 Q1766.05 1276.31 1763.27 1276.31 L1758.18 1276.31 L1758.18 1290.92 L1753.51 1290.92 L1753.51 1256.36 L1764.06 1256.36 Q1769.99 1256.36 1772.9 1258.83 Q1775.82 1261.31 1775.82 1266.31 Q1775.82 1269.57 1774.29 1271.73 Q1772.79 1273.88 1769.89 1274.71 M1758.18 1260.2 L1758.18 1272.47 L1764.06 1272.47 Q1767.44 1272.47 1769.15 1270.92 Q1770.89 1269.34 1770.89 1266.31 Q1770.89 1263.28 1769.15 1261.75 Q1767.44 1260.2 1764.06 1260.2 L1758.18 1260.2 Z\" fill=\"#000000\" fill-rule=\"evenodd\" fill-opacity=\"1\" /><path clip-path=\"url(#clip130)\" d=\"M1797 1277.88 Q1791.84 1277.88 1789.85 1279.06 Q1787.86 1280.24 1787.86 1283.09 Q1787.86 1285.36 1789.34 1286.7 Q1790.84 1288.02 1793.41 1288.02 Q1796.95 1288.02 1799.08 1285.52 Q1801.24 1283 1801.24 1278.83 L1801.24 1277.88 L1797 1277.88 M1805.5 1276.12 L1805.5 1290.92 L1801.24 1290.92 L1801.24 1286.98 Q1799.78 1289.34 1797.6 1290.48 Q1795.43 1291.59 1792.28 1291.59 Q1788.3 1291.59 1785.94 1289.36 Q1783.6 1287.12 1783.6 1283.37 Q1783.6 1278.99 1786.51 1276.77 Q1789.45 1274.55 1795.26 1274.55 L1801.24 1274.55 L1801.24 1274.13 Q1801.24 1271.19 1799.29 1269.6 Q1797.37 1267.98 1793.88 1267.98 Q1791.65 1267.98 1789.55 1268.51 Q1787.44 1269.04 1785.5 1270.11 L1785.5 1266.17 Q1787.83 1265.27 1790.03 1264.83 Q1792.23 1264.36 1794.32 1264.36 Q1799.94 1264.36 1802.72 1267.28 Q1805.5 1270.2 1805.5 1276.12 Z\" fill=\"#000000\" fill-rule=\"evenodd\" fill-opacity=\"1\" /><path clip-path=\"url(#clip130)\" d=\"M1811.79 1264.99 L1816.05 1264.99 L1821.38 1285.22 L1826.68 1264.99 L1831.7 1264.99 L1837.02 1285.22 L1842.32 1264.99 L1846.58 1264.99 L1839.8 1290.92 L1834.78 1290.92 L1829.2 1269.67 L1823.6 1290.92 L1818.57 1290.92 L1811.79 1264.99 Z\" fill=\"#000000\" fill-rule=\"evenodd\" fill-opacity=\"1\" /><path clip-path=\"url(#clip130)\" d=\"M1884.64 1265.75 L1884.64 1269.78 Q1882.83 1268.86 1880.89 1268.39 Q1878.95 1267.93 1876.86 1267.93 Q1873.69 1267.93 1872.09 1268.9 Q1870.52 1269.87 1870.52 1271.82 Q1870.52 1273.3 1871.65 1274.16 Q1872.79 1274.99 1876.21 1275.75 L1877.67 1276.08 Q1882.21 1277.05 1884.11 1278.83 Q1886.03 1280.59 1886.03 1283.76 Q1886.03 1287.37 1883.16 1289.48 Q1880.31 1291.59 1875.31 1291.59 Q1873.23 1291.59 1870.96 1291.17 Q1868.71 1290.78 1866.21 1289.97 L1866.21 1285.57 Q1868.57 1286.79 1870.87 1287.42 Q1873.16 1288.02 1875.4 1288.02 Q1878.41 1288.02 1880.03 1287 Q1881.65 1285.96 1881.65 1284.09 Q1881.65 1282.35 1880.47 1281.42 Q1879.32 1280.5 1875.36 1279.64 L1873.88 1279.3 Q1869.92 1278.46 1868.16 1276.75 Q1866.4 1275.01 1866.4 1272 Q1866.4 1268.35 1868.99 1266.36 Q1871.58 1264.36 1876.35 1264.36 Q1878.71 1264.36 1880.8 1264.71 Q1882.88 1265.06 1884.64 1265.75 Z\" fill=\"#000000\" fill-rule=\"evenodd\" fill-opacity=\"1\" /><path clip-path=\"url(#clip130)\" d=\"M1896.93 1287.03 L1896.93 1300.78 L1892.65 1300.78 L1892.65 1264.99 L1896.93 1264.99 L1896.93 1268.92 Q1898.27 1266.61 1900.31 1265.5 Q1902.37 1264.36 1905.22 1264.36 Q1909.94 1264.36 1912.88 1268.11 Q1915.84 1271.86 1915.84 1277.98 Q1915.84 1284.09 1912.88 1287.84 Q1909.94 1291.59 1905.22 1291.59 Q1902.37 1291.59 1900.31 1290.48 Q1898.27 1289.34 1896.93 1287.03 M1911.42 1277.98 Q1911.42 1273.28 1909.48 1270.61 Q1907.56 1267.93 1904.18 1267.93 Q1900.8 1267.93 1898.85 1270.61 Q1896.93 1273.28 1896.93 1277.98 Q1896.93 1282.67 1898.85 1285.36 Q1900.8 1288.02 1904.18 1288.02 Q1907.56 1288.02 1909.48 1285.36 Q1911.42 1282.67 1911.42 1277.98 Z\" fill=\"#000000\" fill-rule=\"evenodd\" fill-opacity=\"1\" /><path clip-path=\"url(#clip130)\" d=\"M1945.08 1276.89 L1945.08 1278.97 L1925.5 1278.97 Q1925.77 1283.37 1928.13 1285.68 Q1930.52 1287.98 1934.75 1287.98 Q1937.21 1287.98 1939.5 1287.37 Q1941.82 1286.77 1944.08 1285.57 L1944.08 1289.6 Q1941.79 1290.57 1939.38 1291.08 Q1936.98 1291.59 1934.5 1291.59 Q1928.3 1291.59 1924.66 1287.98 Q1921.05 1284.36 1921.05 1278.21 Q1921.05 1271.84 1924.48 1268.11 Q1927.93 1264.36 1933.76 1264.36 Q1938.99 1264.36 1942.02 1267.74 Q1945.08 1271.1 1945.08 1276.89 M1940.82 1275.64 Q1940.77 1272.14 1938.85 1270.06 Q1936.95 1267.98 1933.81 1267.98 Q1930.24 1267.98 1928.09 1269.99 Q1925.96 1272 1925.63 1275.66 L1940.82 1275.64 Z\" fill=\"#000000\" fill-rule=\"evenodd\" fill-opacity=\"1\" /><path clip-path=\"url(#clip130)\" d=\"M1970.73 1265.98 L1970.73 1269.97 Q1968.92 1268.97 1967.09 1268.48 Q1965.29 1267.98 1963.44 1267.98 Q1959.29 1267.98 1957 1270.61 Q1954.71 1273.23 1954.71 1277.98 Q1954.71 1282.72 1957 1285.36 Q1959.29 1287.98 1963.44 1287.98 Q1965.29 1287.98 1967.09 1287.49 Q1968.92 1286.98 1970.73 1285.98 L1970.73 1289.92 Q1968.94 1290.75 1967.02 1291.17 Q1965.13 1291.59 1962.97 1291.59 Q1957.12 1291.59 1953.67 1287.91 Q1950.22 1284.23 1950.22 1277.98 Q1950.22 1271.63 1953.69 1268 Q1957.19 1264.36 1963.25 1264.36 Q1965.22 1264.36 1967.09 1264.78 Q1968.97 1265.17 1970.73 1265.98 Z\" fill=\"#000000\" fill-rule=\"evenodd\" fill-opacity=\"1\" /><path clip-path=\"url(#clip130)\" d=\"M1982.35 1257.63 L1982.35 1264.99 L1991.12 1264.99 L1991.12 1268.3 L1982.35 1268.3 L1982.35 1282.37 Q1982.35 1285.54 1983.2 1286.45 Q1984.08 1287.35 1986.75 1287.35 L1991.12 1287.35 L1991.12 1290.92 L1986.75 1290.92 Q1981.81 1290.92 1979.94 1289.09 Q1978.06 1287.23 1978.06 1282.37 L1978.06 1268.3 L1974.94 1268.3 L1974.94 1264.99 L1978.06 1264.99 L1978.06 1257.63 L1982.35 1257.63 Z\" fill=\"#000000\" fill-rule=\"evenodd\" fill-opacity=\"1\" /><path clip-path=\"url(#clip130)\" d=\"M2011.75 1268.97 Q2011.03 1268.55 2010.17 1268.37 Q2009.34 1268.16 2008.32 1268.16 Q2004.71 1268.16 2002.76 1270.52 Q2000.84 1272.86 2000.84 1277.26 L2000.84 1290.92 L1996.56 1290.92 L1996.56 1264.99 L2000.84 1264.99 L2000.84 1269.02 Q2002.19 1266.66 2004.34 1265.52 Q2006.49 1264.36 2009.57 1264.36 Q2010.01 1264.36 2010.54 1264.43 Q2011.07 1264.48 2011.72 1264.6 L2011.75 1268.97 Z\" fill=\"#000000\" fill-rule=\"evenodd\" fill-opacity=\"1\" /><path clip-path=\"url(#clip130)\" d=\"M2015.77 1280.68 L2015.77 1264.99 L2020.03 1264.99 L2020.03 1280.52 Q2020.03 1284.2 2021.47 1286.05 Q2022.9 1287.88 2025.77 1287.88 Q2029.22 1287.88 2031.21 1285.68 Q2033.23 1283.48 2033.23 1279.69 L2033.23 1264.99 L2037.49 1264.99 L2037.49 1290.92 L2033.23 1290.92 L2033.23 1286.93 Q2031.68 1289.29 2029.62 1290.45 Q2027.58 1291.59 2024.87 1291.59 Q2020.4 1291.59 2018.09 1288.81 Q2015.77 1286.03 2015.77 1280.68 M2026.49 1264.36 L2026.49 1264.36 Z\" fill=\"#000000\" fill-rule=\"evenodd\" fill-opacity=\"1\" /><path clip-path=\"url(#clip130)\" d=\"M2066.44 1269.97 Q2068.04 1267.1 2070.26 1265.73 Q2072.49 1264.36 2075.49 1264.36 Q2079.55 1264.36 2081.74 1267.21 Q2083.94 1270.04 2083.94 1275.27 L2083.94 1290.92 L2079.66 1290.92 L2079.66 1275.41 Q2079.66 1271.68 2078.34 1269.87 Q2077.02 1268.07 2074.31 1268.07 Q2071 1268.07 2069.08 1270.27 Q2067.16 1272.47 2067.16 1276.26 L2067.16 1290.92 L2062.88 1290.92 L2062.88 1275.41 Q2062.88 1271.66 2061.56 1269.87 Q2060.24 1268.07 2057.49 1268.07 Q2054.22 1268.07 2052.3 1270.29 Q2050.38 1272.49 2050.38 1276.26 L2050.38 1290.92 L2046.1 1290.92 L2046.1 1264.99 L2050.38 1264.99 L2050.38 1269.02 Q2051.84 1266.63 2053.87 1265.5 Q2055.91 1264.36 2058.71 1264.36 Q2061.54 1264.36 2063.5 1265.8 Q2065.49 1267.23 2066.44 1269.97 Z\" fill=\"#000000\" fill-rule=\"evenodd\" fill-opacity=\"1\" /><polyline clip-path=\"url(#clip130)\" style=\"stroke:#e26f46; stroke-linecap:butt; stroke-linejoin:round; stroke-width:4; stroke-opacity:1; fill:none\" points=\"\n",
       "  1589.92,1325.48 1730.14,1325.48 \n",
       "  \"/>\n",
       "<path clip-path=\"url(#clip130)\" d=\"M1781.38 1310.86 L1781.38 1315.79 Q1779.01 1313.59 1776.33 1312.5 Q1773.67 1311.41 1770.66 1311.41 Q1764.73 1311.41 1761.58 1315.05 Q1758.44 1318.66 1758.44 1325.51 Q1758.44 1332.34 1761.58 1335.97 Q1764.73 1339.58 1770.66 1339.58 Q1773.67 1339.58 1776.33 1338.5 Q1779.01 1337.41 1781.38 1335.21 L1781.38 1340.09 Q1778.92 1341.76 1776.17 1342.59 Q1773.44 1343.43 1770.38 1343.43 Q1762.53 1343.43 1758.02 1338.63 Q1753.51 1333.82 1753.51 1325.51 Q1753.51 1317.18 1758.02 1312.39 Q1762.53 1307.57 1770.38 1307.57 Q1773.48 1307.57 1776.21 1308.4 Q1778.97 1309.21 1781.38 1310.86 Z\" fill=\"#000000\" fill-rule=\"evenodd\" fill-opacity=\"1\" /><path clip-path=\"url(#clip130)\" d=\"M1798.46 1319.82 Q1795.03 1319.82 1793.04 1322.5 Q1791.05 1325.16 1791.05 1329.82 Q1791.05 1334.47 1793.02 1337.15 Q1795.01 1339.82 1798.46 1339.82 Q1801.86 1339.82 1803.85 1337.13 Q1805.84 1334.45 1805.84 1329.82 Q1805.84 1325.21 1803.85 1322.52 Q1801.86 1319.82 1798.46 1319.82 M1798.46 1316.2 Q1804.01 1316.2 1807.19 1319.82 Q1810.36 1323.43 1810.36 1329.82 Q1810.36 1336.18 1807.19 1339.82 Q1804.01 1343.43 1798.46 1343.43 Q1792.88 1343.43 1789.71 1339.82 Q1786.56 1336.18 1786.56 1329.82 Q1786.56 1323.43 1789.71 1319.82 Q1792.88 1316.2 1798.46 1316.2 Z\" fill=\"#000000\" fill-rule=\"evenodd\" fill-opacity=\"1\" /><path clip-path=\"url(#clip130)\" d=\"M1838.97 1327.11 L1838.97 1342.76 L1834.71 1342.76 L1834.71 1327.25 Q1834.71 1323.57 1833.27 1321.74 Q1831.84 1319.91 1828.97 1319.91 Q1825.52 1319.91 1823.53 1322.11 Q1821.54 1324.31 1821.54 1328.1 L1821.54 1342.76 L1817.26 1342.76 L1817.26 1316.83 L1821.54 1316.83 L1821.54 1320.86 Q1823.07 1318.52 1825.13 1317.36 Q1827.21 1316.2 1829.92 1316.2 Q1834.39 1316.2 1836.68 1318.98 Q1838.97 1321.74 1838.97 1327.11 Z\" fill=\"#000000\" fill-rule=\"evenodd\" fill-opacity=\"1\" /><path clip-path=\"url(#clip130)\" d=\"M1844.41 1316.83 L1848.92 1316.83 L1857.02 1338.59 L1865.13 1316.83 L1869.64 1316.83 L1859.92 1342.76 L1854.13 1342.76 L1844.41 1316.83 Z\" fill=\"#000000\" fill-rule=\"evenodd\" fill-opacity=\"1\" /><path clip-path=\"url(#clip130)\" d=\"M1885.57 1319.82 Q1882.14 1319.82 1880.15 1322.5 Q1878.16 1325.16 1878.16 1329.82 Q1878.16 1334.47 1880.13 1337.15 Q1882.12 1339.82 1885.57 1339.82 Q1888.97 1339.82 1890.96 1337.13 Q1892.95 1334.45 1892.95 1329.82 Q1892.95 1325.21 1890.96 1322.52 Q1888.97 1319.82 1885.57 1319.82 M1885.57 1316.2 Q1891.12 1316.2 1894.29 1319.82 Q1897.46 1323.43 1897.46 1329.82 Q1897.46 1336.18 1894.29 1339.82 Q1891.12 1343.43 1885.57 1343.43 Q1879.99 1343.43 1876.82 1339.82 Q1873.67 1336.18 1873.67 1329.82 Q1873.67 1323.43 1876.82 1319.82 Q1879.99 1316.2 1885.57 1316.2 Z\" fill=\"#000000\" fill-rule=\"evenodd\" fill-opacity=\"1\" /><path clip-path=\"url(#clip130)\" d=\"M1904.52 1306.74 L1908.78 1306.74 L1908.78 1342.76 L1904.52 1342.76 L1904.52 1306.74 Z\" fill=\"#000000\" fill-rule=\"evenodd\" fill-opacity=\"1\" /><path clip-path=\"url(#clip130)\" d=\"M1914.64 1316.83 L1919.15 1316.83 L1927.25 1338.59 L1935.36 1316.83 L1939.87 1316.83 L1930.15 1342.76 L1924.36 1342.76 L1914.64 1316.83 Z\" fill=\"#000000\" fill-rule=\"evenodd\" fill-opacity=\"1\" /><path clip-path=\"url(#clip130)\" d=\"M1967.93 1328.73 L1967.93 1330.81 L1948.34 1330.81 Q1948.62 1335.21 1950.98 1337.52 Q1953.37 1339.82 1957.6 1339.82 Q1960.06 1339.82 1962.35 1339.21 Q1964.66 1338.61 1966.93 1337.41 L1966.93 1341.44 Q1964.64 1342.41 1962.23 1342.92 Q1959.82 1343.43 1957.35 1343.43 Q1951.14 1343.43 1947.51 1339.82 Q1943.9 1336.2 1943.9 1330.05 Q1943.9 1323.68 1947.32 1319.95 Q1950.77 1316.2 1956.61 1316.2 Q1961.84 1316.2 1964.87 1319.58 Q1967.93 1322.94 1967.93 1328.73 M1963.67 1327.48 Q1963.62 1323.98 1961.7 1321.9 Q1959.8 1319.82 1956.65 1319.82 Q1953.09 1319.82 1950.94 1321.83 Q1948.81 1323.84 1948.48 1327.5 L1963.67 1327.48 Z\" fill=\"#000000\" fill-rule=\"evenodd\" fill-opacity=\"1\" /><path clip-path=\"url(#clip130)\" d=\"M1991.98 1320.76 L1991.98 1306.74 L1996.24 1306.74 L1996.24 1342.76 L1991.98 1342.76 L1991.98 1338.87 Q1990.63 1341.18 1988.57 1342.32 Q1986.54 1343.43 1983.67 1343.43 Q1978.97 1343.43 1976 1339.68 Q1973.06 1335.93 1973.06 1329.82 Q1973.06 1323.7 1976 1319.95 Q1978.97 1316.2 1983.67 1316.2 Q1986.54 1316.2 1988.57 1317.34 Q1990.63 1318.45 1991.98 1320.76 M1977.46 1329.82 Q1977.46 1334.51 1979.38 1337.2 Q1981.33 1339.86 1984.71 1339.86 Q1988.09 1339.86 1990.03 1337.2 Q1991.98 1334.51 1991.98 1329.82 Q1991.98 1325.12 1990.03 1322.45 Q1988.09 1319.77 1984.71 1319.77 Q1981.33 1319.77 1979.38 1322.45 Q1977.46 1325.12 1977.46 1329.82 Z\" fill=\"#000000\" fill-rule=\"evenodd\" fill-opacity=\"1\" /><path clip-path=\"url(#clip130)\" d=\"M2036.61 1317.59 L2036.61 1321.62 Q2034.8 1320.7 2032.86 1320.23 Q2030.91 1319.77 2028.83 1319.77 Q2025.66 1319.77 2024.06 1320.74 Q2022.49 1321.71 2022.49 1323.66 Q2022.49 1325.14 2023.62 1326 Q2024.75 1326.83 2028.18 1327.59 L2029.64 1327.92 Q2034.18 1328.89 2036.07 1330.67 Q2038 1332.43 2038 1335.6 Q2038 1339.21 2035.12 1341.32 Q2032.28 1343.43 2027.28 1343.43 Q2025.19 1343.43 2022.93 1343.01 Q2020.68 1342.62 2018.18 1341.81 L2018.18 1337.41 Q2020.54 1338.63 2022.83 1339.26 Q2025.12 1339.86 2027.37 1339.86 Q2030.38 1339.86 2032 1338.84 Q2033.62 1337.8 2033.62 1335.93 Q2033.62 1334.19 2032.44 1333.26 Q2031.28 1332.34 2027.32 1331.48 L2025.84 1331.14 Q2021.88 1330.3 2020.12 1328.59 Q2018.37 1326.85 2018.37 1323.84 Q2018.37 1320.19 2020.96 1318.2 Q2023.55 1316.2 2028.32 1316.2 Q2030.68 1316.2 2032.76 1316.55 Q2034.85 1316.9 2036.61 1317.59 Z\" fill=\"#000000\" fill-rule=\"evenodd\" fill-opacity=\"1\" /><path clip-path=\"url(#clip130)\" d=\"M2048.9 1338.87 L2048.9 1352.62 L2044.62 1352.62 L2044.62 1316.83 L2048.9 1316.83 L2048.9 1320.76 Q2050.24 1318.45 2052.28 1317.34 Q2054.34 1316.2 2057.18 1316.2 Q2061.91 1316.2 2064.85 1319.95 Q2067.81 1323.7 2067.81 1329.82 Q2067.81 1335.93 2064.85 1339.68 Q2061.91 1343.43 2057.18 1343.43 Q2054.34 1343.43 2052.28 1342.32 Q2050.24 1341.18 2048.9 1338.87 M2063.39 1329.82 Q2063.39 1325.12 2061.44 1322.45 Q2059.52 1319.77 2056.14 1319.77 Q2052.76 1319.77 2050.82 1322.45 Q2048.9 1325.12 2048.9 1329.82 Q2048.9 1334.51 2050.82 1337.2 Q2052.76 1339.86 2056.14 1339.86 Q2059.52 1339.86 2061.44 1337.2 Q2063.39 1334.51 2063.39 1329.82 Z\" fill=\"#000000\" fill-rule=\"evenodd\" fill-opacity=\"1\" /><path clip-path=\"url(#clip130)\" d=\"M2097.05 1328.73 L2097.05 1330.81 L2077.46 1330.81 Q2077.74 1335.21 2080.1 1337.52 Q2082.49 1339.82 2086.72 1339.82 Q2089.18 1339.82 2091.47 1339.21 Q2093.78 1338.61 2096.05 1337.41 L2096.05 1341.44 Q2093.76 1342.41 2091.35 1342.92 Q2088.94 1343.43 2086.47 1343.43 Q2080.26 1343.43 2076.63 1339.82 Q2073.02 1336.2 2073.02 1330.05 Q2073.02 1323.68 2076.44 1319.95 Q2079.89 1316.2 2085.73 1316.2 Q2090.96 1316.2 2093.99 1319.58 Q2097.05 1322.94 2097.05 1328.73 M2092.79 1327.48 Q2092.74 1323.98 2090.82 1321.9 Q2088.92 1319.82 2085.77 1319.82 Q2082.21 1319.82 2080.06 1321.83 Q2077.93 1323.84 2077.6 1327.5 L2092.79 1327.48 Z\" fill=\"#000000\" fill-rule=\"evenodd\" fill-opacity=\"1\" /><path clip-path=\"url(#clip130)\" d=\"M2122.69 1317.82 L2122.69 1321.81 Q2120.89 1320.81 2119.06 1320.32 Q2117.25 1319.82 2115.4 1319.82 Q2111.26 1319.82 2108.97 1322.45 Q2106.68 1325.07 2106.68 1329.82 Q2106.68 1334.56 2108.97 1337.2 Q2111.26 1339.82 2115.4 1339.82 Q2117.25 1339.82 2119.06 1339.33 Q2120.89 1338.82 2122.69 1337.82 L2122.69 1341.76 Q2120.91 1342.59 2118.99 1343.01 Q2117.09 1343.43 2114.94 1343.43 Q2109.08 1343.43 2105.63 1339.75 Q2102.18 1336.07 2102.18 1329.82 Q2102.18 1323.47 2105.66 1319.84 Q2109.15 1316.2 2115.22 1316.2 Q2117.18 1316.2 2119.06 1316.62 Q2120.93 1317.01 2122.69 1317.82 Z\" fill=\"#000000\" fill-rule=\"evenodd\" fill-opacity=\"1\" /><path clip-path=\"url(#clip130)\" d=\"M2134.31 1309.47 L2134.31 1316.83 L2143.09 1316.83 L2143.09 1320.14 L2134.31 1320.14 L2134.31 1334.21 Q2134.31 1337.38 2135.17 1338.29 Q2136.05 1339.19 2138.71 1339.19 L2143.09 1339.19 L2143.09 1342.76 L2138.71 1342.76 Q2133.78 1342.76 2131.91 1340.93 Q2130.03 1339.07 2130.03 1334.21 L2130.03 1320.14 L2126.91 1320.14 L2126.91 1316.83 L2130.03 1316.83 L2130.03 1309.47 L2134.31 1309.47 Z\" fill=\"#000000\" fill-rule=\"evenodd\" fill-opacity=\"1\" /><path clip-path=\"url(#clip130)\" d=\"M2163.71 1320.81 Q2162.99 1320.39 2162.14 1320.21 Q2161.3 1320 2160.29 1320 Q2156.68 1320 2154.73 1322.36 Q2152.81 1324.7 2152.81 1329.1 L2152.81 1342.76 L2148.53 1342.76 L2148.53 1316.83 L2152.81 1316.83 L2152.81 1320.86 Q2154.15 1318.5 2156.3 1317.36 Q2158.46 1316.2 2161.54 1316.2 Q2161.98 1316.2 2162.51 1316.27 Q2163.04 1316.32 2163.69 1316.44 L2163.71 1320.81 Z\" fill=\"#000000\" fill-rule=\"evenodd\" fill-opacity=\"1\" /><path clip-path=\"url(#clip130)\" d=\"M2167.74 1332.52 L2167.74 1316.83 L2172 1316.83 L2172 1332.36 Q2172 1336.04 2173.43 1337.89 Q2174.87 1339.72 2177.74 1339.72 Q2181.19 1339.72 2183.18 1337.52 Q2185.19 1335.32 2185.19 1331.53 L2185.19 1316.83 L2189.45 1316.83 L2189.45 1342.76 L2185.19 1342.76 L2185.19 1338.77 Q2183.64 1341.13 2181.58 1342.29 Q2179.55 1343.43 2176.84 1343.43 Q2172.37 1343.43 2170.05 1340.65 Q2167.74 1337.87 2167.74 1332.52 M2178.46 1316.2 L2178.46 1316.2 Z\" fill=\"#000000\" fill-rule=\"evenodd\" fill-opacity=\"1\" /><path clip-path=\"url(#clip130)\" d=\"M2218.41 1321.81 Q2220.01 1318.94 2222.23 1317.57 Q2224.45 1316.2 2227.46 1316.2 Q2231.51 1316.2 2233.71 1319.05 Q2235.91 1321.88 2235.91 1327.11 L2235.91 1342.76 L2231.63 1342.76 L2231.63 1327.25 Q2231.63 1323.52 2230.31 1321.71 Q2228.99 1319.91 2226.28 1319.91 Q2222.97 1319.91 2221.05 1322.11 Q2219.13 1324.31 2219.13 1328.1 L2219.13 1342.76 L2214.85 1342.76 L2214.85 1327.25 Q2214.85 1323.5 2213.53 1321.71 Q2212.21 1319.91 2209.45 1319.91 Q2206.19 1319.91 2204.27 1322.13 Q2202.35 1324.33 2202.35 1328.1 L2202.35 1342.76 L2198.06 1342.76 L2198.06 1316.83 L2202.35 1316.83 L2202.35 1320.86 Q2203.8 1318.47 2205.84 1317.34 Q2207.88 1316.2 2210.68 1316.2 Q2213.5 1316.2 2215.47 1317.64 Q2217.46 1319.07 2218.41 1321.81 Z\" fill=\"#000000\" fill-rule=\"evenodd\" fill-opacity=\"1\" /></svg>\n"
      ]
     },
     "execution_count": 18,
     "metadata": {},
     "output_type": "execute_result"
    }
   ],
   "source": [
    "plot(lambdas,raw_spectrum.(lambdas),xlabel=\"λ\", ylabel=\"Flux\", label=\"Raw spectrum\", legend=:bottomright)\n",
    "plot!(lambdas,conv_spectrum.(lambdas), label=\"Convolved spectrum\")"
   ]
  },
  {
   "cell_type": "markdown",
   "metadata": {},
   "source": [
    "That's fairly crowded, you it may be useful to zoom in on a narrower range."
   ]
  },
  {
   "cell_type": "code",
   "execution_count": 19,
   "metadata": {},
   "outputs": [
    {
     "data": {
      "image/svg+xml": [
       "<?xml version=\"1.0\" encoding=\"utf-8\"?>\n",
       "<svg xmlns=\"http://www.w3.org/2000/svg\" xmlns:xlink=\"http://www.w3.org/1999/xlink\" width=\"600\" height=\"400\" viewBox=\"0 0 2400 1600\">\n",
       "<defs>\n",
       "  <clipPath id=\"clip170\">\n",
       "    <rect x=\"0\" y=\"0\" width=\"2400\" height=\"1600\"/>\n",
       "  </clipPath>\n",
       "</defs>\n",
       "<path clip-path=\"url(#clip170)\" d=\"\n",
       "M0 1600 L2400 1600 L2400 0 L0 0  Z\n",
       "  \" fill=\"#ffffff\" fill-rule=\"evenodd\" fill-opacity=\"1\"/>\n",
       "<defs>\n",
       "  <clipPath id=\"clip171\">\n",
       "    <rect x=\"480\" y=\"0\" width=\"1681\" height=\"1600\"/>\n",
       "  </clipPath>\n",
       "</defs>\n",
       "<path clip-path=\"url(#clip170)\" d=\"\n",
       "M249.542 1423.18 L2352.76 1423.18 L2352.76 47.2441 L249.542 47.2441  Z\n",
       "  \" fill=\"#ffffff\" fill-rule=\"evenodd\" fill-opacity=\"1\"/>\n",
       "<defs>\n",
       "  <clipPath id=\"clip172\">\n",
       "    <rect x=\"249\" y=\"47\" width=\"2104\" height=\"1377\"/>\n",
       "  </clipPath>\n",
       "</defs>\n",
       "<polyline clip-path=\"url(#clip172)\" style=\"stroke:#000000; stroke-linecap:butt; stroke-linejoin:round; stroke-width:2; stroke-opacity:0.1; fill:none\" points=\"\n",
       "  467.936,1423.18 467.936,47.2441 \n",
       "  \"/>\n",
       "<polyline clip-path=\"url(#clip172)\" style=\"stroke:#000000; stroke-linecap:butt; stroke-linejoin:round; stroke-width:2; stroke-opacity:0.1; fill:none\" points=\"\n",
       "  944.543,1423.18 944.543,47.2441 \n",
       "  \"/>\n",
       "<polyline clip-path=\"url(#clip172)\" style=\"stroke:#000000; stroke-linecap:butt; stroke-linejoin:round; stroke-width:2; stroke-opacity:0.1; fill:none\" points=\"\n",
       "  1421.15,1423.18 1421.15,47.2441 \n",
       "  \"/>\n",
       "<polyline clip-path=\"url(#clip172)\" style=\"stroke:#000000; stroke-linecap:butt; stroke-linejoin:round; stroke-width:2; stroke-opacity:0.1; fill:none\" points=\"\n",
       "  1897.76,1423.18 1897.76,47.2441 \n",
       "  \"/>\n",
       "<polyline clip-path=\"url(#clip170)\" style=\"stroke:#000000; stroke-linecap:butt; stroke-linejoin:round; stroke-width:4; stroke-opacity:1; fill:none\" points=\"\n",
       "  249.542,1423.18 2352.76,1423.18 \n",
       "  \"/>\n",
       "<polyline clip-path=\"url(#clip170)\" style=\"stroke:#000000; stroke-linecap:butt; stroke-linejoin:round; stroke-width:4; stroke-opacity:1; fill:none\" points=\"\n",
       "  467.936,1423.18 467.936,1404.28 \n",
       "  \"/>\n",
       "<polyline clip-path=\"url(#clip170)\" style=\"stroke:#000000; stroke-linecap:butt; stroke-linejoin:round; stroke-width:4; stroke-opacity:1; fill:none\" points=\"\n",
       "  944.543,1423.18 944.543,1404.28 \n",
       "  \"/>\n",
       "<polyline clip-path=\"url(#clip170)\" style=\"stroke:#000000; stroke-linecap:butt; stroke-linejoin:round; stroke-width:4; stroke-opacity:1; fill:none\" points=\"\n",
       "  1421.15,1423.18 1421.15,1404.28 \n",
       "  \"/>\n",
       "<polyline clip-path=\"url(#clip170)\" style=\"stroke:#000000; stroke-linecap:butt; stroke-linejoin:round; stroke-width:4; stroke-opacity:1; fill:none\" points=\"\n",
       "  1897.76,1423.18 1897.76,1404.28 \n",
       "  \"/>\n",
       "<path clip-path=\"url(#clip170)\" d=\"M412.473 1449.29 L430.83 1449.29 L430.83 1453.23 L416.756 1453.23 L416.756 1461.7 Q417.774 1461.35 418.793 1461.19 Q419.811 1461 420.83 1461 Q426.617 1461 429.996 1464.18 Q433.376 1467.35 433.376 1472.76 Q433.376 1478.34 429.904 1481.44 Q426.431 1484.52 420.112 1484.52 Q417.936 1484.52 415.668 1484.15 Q413.422 1483.78 411.015 1483.04 L411.015 1478.34 Q413.098 1479.48 415.32 1480.03 Q417.543 1480.59 420.019 1480.59 Q424.024 1480.59 426.362 1478.48 Q428.7 1476.38 428.7 1472.76 Q428.7 1469.15 426.362 1467.05 Q424.024 1464.94 420.019 1464.94 Q418.144 1464.94 416.269 1465.36 Q414.418 1465.77 412.473 1466.65 L412.473 1449.29 Z\" fill=\"#000000\" fill-rule=\"evenodd\" fill-opacity=\"1\" /><path clip-path=\"url(#clip170)\" d=\"M452.589 1452.37 Q448.978 1452.37 447.149 1455.94 Q445.343 1459.48 445.343 1466.61 Q445.343 1473.71 447.149 1477.28 Q448.978 1480.82 452.589 1480.82 Q456.223 1480.82 458.028 1477.28 Q459.857 1473.71 459.857 1466.61 Q459.857 1459.48 458.028 1455.94 Q456.223 1452.37 452.589 1452.37 M452.589 1448.67 Q458.399 1448.67 461.454 1453.27 Q464.533 1457.86 464.533 1466.61 Q464.533 1475.33 461.454 1479.94 Q458.399 1484.52 452.589 1484.52 Q446.779 1484.52 443.7 1479.94 Q440.644 1475.33 440.644 1466.61 Q440.644 1457.86 443.7 1453.27 Q446.779 1448.67 452.589 1448.67 Z\" fill=\"#000000\" fill-rule=\"evenodd\" fill-opacity=\"1\" /><path clip-path=\"url(#clip170)\" d=\"M473.561 1479.92 L481.2 1479.92 L481.2 1453.55 L472.89 1455.22 L472.89 1450.96 L481.153 1449.29 L485.829 1449.29 L485.829 1479.92 L493.468 1479.92 L493.468 1483.85 L473.561 1483.85 L473.561 1479.92 Z\" fill=\"#000000\" fill-rule=\"evenodd\" fill-opacity=\"1\" /><path clip-path=\"url(#clip170)\" d=\"M512.912 1452.37 Q509.301 1452.37 507.473 1455.94 Q505.667 1459.48 505.667 1466.61 Q505.667 1473.71 507.473 1477.28 Q509.301 1480.82 512.912 1480.82 Q516.547 1480.82 518.352 1477.28 Q520.181 1473.71 520.181 1466.61 Q520.181 1459.48 518.352 1455.94 Q516.547 1452.37 512.912 1452.37 M512.912 1448.67 Q518.723 1448.67 521.778 1453.27 Q524.857 1457.86 524.857 1466.61 Q524.857 1475.33 521.778 1479.94 Q518.723 1484.52 512.912 1484.52 Q507.102 1484.52 504.024 1479.94 Q500.968 1475.33 500.968 1466.61 Q500.968 1457.86 504.024 1453.27 Q507.102 1448.67 512.912 1448.67 Z\" fill=\"#000000\" fill-rule=\"evenodd\" fill-opacity=\"1\" /><path clip-path=\"url(#clip170)\" d=\"M889.08 1449.29 L907.436 1449.29 L907.436 1453.23 L893.362 1453.23 L893.362 1461.7 Q894.381 1461.35 895.399 1461.19 Q896.418 1461 897.436 1461 Q903.223 1461 906.603 1464.18 Q909.983 1467.35 909.983 1472.76 Q909.983 1478.34 906.51 1481.44 Q903.038 1484.52 896.719 1484.52 Q894.543 1484.52 892.274 1484.15 Q890.029 1483.78 887.622 1483.04 L887.622 1478.34 Q889.705 1479.48 891.927 1480.03 Q894.149 1480.59 896.626 1480.59 Q900.631 1480.59 902.969 1478.48 Q905.307 1476.38 905.307 1472.76 Q905.307 1469.15 902.969 1467.05 Q900.631 1464.94 896.626 1464.94 Q894.751 1464.94 892.876 1465.36 Q891.024 1465.77 889.08 1466.65 L889.08 1449.29 Z\" fill=\"#000000\" fill-rule=\"evenodd\" fill-opacity=\"1\" /><path clip-path=\"url(#clip170)\" d=\"M929.195 1452.37 Q925.584 1452.37 923.756 1455.94 Q921.95 1459.48 921.95 1466.61 Q921.95 1473.71 923.756 1477.28 Q925.584 1480.82 929.195 1480.82 Q932.83 1480.82 934.635 1477.28 Q936.464 1473.71 936.464 1466.61 Q936.464 1459.48 934.635 1455.94 Q932.83 1452.37 929.195 1452.37 M929.195 1448.67 Q935.006 1448.67 938.061 1453.27 Q941.14 1457.86 941.14 1466.61 Q941.14 1475.33 938.061 1479.94 Q935.006 1484.52 929.195 1484.52 Q923.385 1484.52 920.307 1479.94 Q917.251 1475.33 917.251 1466.61 Q917.251 1457.86 920.307 1453.27 Q923.385 1448.67 929.195 1448.67 Z\" fill=\"#000000\" fill-rule=\"evenodd\" fill-opacity=\"1\" /><path clip-path=\"url(#clip170)\" d=\"M962.204 1453.37 L950.399 1471.81 L962.204 1471.81 L962.204 1453.37 M960.978 1449.29 L966.857 1449.29 L966.857 1471.81 L971.788 1471.81 L971.788 1475.7 L966.857 1475.7 L966.857 1483.85 L962.204 1483.85 L962.204 1475.7 L946.603 1475.7 L946.603 1471.19 L960.978 1449.29 Z\" fill=\"#000000\" fill-rule=\"evenodd\" fill-opacity=\"1\" /><path clip-path=\"url(#clip170)\" d=\"M989.519 1452.37 Q985.908 1452.37 984.079 1455.94 Q982.274 1459.48 982.274 1466.61 Q982.274 1473.71 984.079 1477.28 Q985.908 1480.82 989.519 1480.82 Q993.153 1480.82 994.959 1477.28 Q996.788 1473.71 996.788 1466.61 Q996.788 1459.48 994.959 1455.94 Q993.153 1452.37 989.519 1452.37 M989.519 1448.67 Q995.329 1448.67 998.385 1453.27 Q1001.46 1457.86 1001.46 1466.61 Q1001.46 1475.33 998.385 1479.94 Q995.329 1484.52 989.519 1484.52 Q983.709 1484.52 980.63 1479.94 Q977.575 1475.33 977.575 1466.61 Q977.575 1457.86 980.63 1453.27 Q983.709 1448.67 989.519 1448.67 Z\" fill=\"#000000\" fill-rule=\"evenodd\" fill-opacity=\"1\" /><path clip-path=\"url(#clip170)\" d=\"M1365.69 1449.29 L1384.04 1449.29 L1384.04 1453.23 L1369.97 1453.23 L1369.97 1461.7 Q1370.99 1461.35 1372.01 1461.19 Q1373.02 1461 1374.04 1461 Q1379.83 1461 1383.21 1464.18 Q1386.59 1467.35 1386.59 1472.76 Q1386.59 1478.34 1383.12 1481.44 Q1379.64 1484.52 1373.33 1484.52 Q1371.15 1484.52 1368.88 1484.15 Q1366.64 1483.78 1364.23 1483.04 L1364.23 1478.34 Q1366.31 1479.48 1368.53 1480.03 Q1370.76 1480.59 1373.23 1480.59 Q1377.24 1480.59 1379.58 1478.48 Q1381.91 1476.38 1381.91 1472.76 Q1381.91 1469.15 1379.58 1467.05 Q1377.24 1464.94 1373.23 1464.94 Q1371.36 1464.94 1369.48 1465.36 Q1367.63 1465.77 1365.69 1466.65 L1365.69 1449.29 Z\" fill=\"#000000\" fill-rule=\"evenodd\" fill-opacity=\"1\" /><path clip-path=\"url(#clip170)\" d=\"M1405.8 1452.37 Q1402.19 1452.37 1400.36 1455.94 Q1398.56 1459.48 1398.56 1466.61 Q1398.56 1473.71 1400.36 1477.28 Q1402.19 1480.82 1405.8 1480.82 Q1409.44 1480.82 1411.24 1477.28 Q1413.07 1473.71 1413.07 1466.61 Q1413.07 1459.48 1411.24 1455.94 Q1409.44 1452.37 1405.8 1452.37 M1405.8 1448.67 Q1411.61 1448.67 1414.67 1453.27 Q1417.75 1457.86 1417.75 1466.61 Q1417.75 1475.33 1414.67 1479.94 Q1411.61 1484.52 1405.8 1484.52 Q1399.99 1484.52 1396.91 1479.94 Q1393.86 1475.33 1393.86 1466.61 Q1393.86 1457.86 1396.91 1453.27 Q1399.99 1448.67 1405.8 1448.67 Z\" fill=\"#000000\" fill-rule=\"evenodd\" fill-opacity=\"1\" /><path clip-path=\"url(#clip170)\" d=\"M1424.78 1449.29 L1447.01 1449.29 L1447.01 1451.28 L1434.46 1483.85 L1429.58 1483.85 L1441.38 1453.23 L1424.78 1453.23 L1424.78 1449.29 Z\" fill=\"#000000\" fill-rule=\"evenodd\" fill-opacity=\"1\" /><path clip-path=\"url(#clip170)\" d=\"M1466.13 1452.37 Q1462.51 1452.37 1460.69 1455.94 Q1458.88 1459.48 1458.88 1466.61 Q1458.88 1473.71 1460.69 1477.28 Q1462.51 1480.82 1466.13 1480.82 Q1469.76 1480.82 1471.57 1477.28 Q1473.39 1473.71 1473.39 1466.61 Q1473.39 1459.48 1471.57 1455.94 Q1469.76 1452.37 1466.13 1452.37 M1466.13 1448.67 Q1471.94 1448.67 1474.99 1453.27 Q1478.07 1457.86 1478.07 1466.61 Q1478.07 1475.33 1474.99 1479.94 Q1471.94 1484.52 1466.13 1484.52 Q1460.32 1484.52 1457.24 1479.94 Q1454.18 1475.33 1454.18 1466.61 Q1454.18 1457.86 1457.24 1453.27 Q1460.32 1448.67 1466.13 1448.67 Z\" fill=\"#000000\" fill-rule=\"evenodd\" fill-opacity=\"1\" /><path clip-path=\"url(#clip170)\" d=\"M1842.29 1449.29 L1860.65 1449.29 L1860.65 1453.23 L1846.58 1453.23 L1846.58 1461.7 Q1847.59 1461.35 1848.61 1461.19 Q1849.63 1461 1850.65 1461 Q1856.44 1461 1859.82 1464.18 Q1863.2 1467.35 1863.2 1472.76 Q1863.2 1478.34 1859.72 1481.44 Q1856.25 1484.52 1849.93 1484.52 Q1847.76 1484.52 1845.49 1484.15 Q1843.24 1483.78 1840.83 1483.04 L1840.83 1478.34 Q1842.92 1479.48 1845.14 1480.03 Q1847.36 1480.59 1849.84 1480.59 Q1853.84 1480.59 1856.18 1478.48 Q1858.52 1476.38 1858.52 1472.76 Q1858.52 1469.15 1856.18 1467.05 Q1853.84 1464.94 1849.84 1464.94 Q1847.96 1464.94 1846.09 1465.36 Q1844.24 1465.77 1842.29 1466.65 L1842.29 1449.29 Z\" fill=\"#000000\" fill-rule=\"evenodd\" fill-opacity=\"1\" /><path clip-path=\"url(#clip170)\" d=\"M1873.22 1479.92 L1880.86 1479.92 L1880.86 1453.55 L1872.55 1455.22 L1872.55 1450.96 L1880.81 1449.29 L1885.49 1449.29 L1885.49 1479.92 L1893.13 1479.92 L1893.13 1483.85 L1873.22 1483.85 L1873.22 1479.92 Z\" fill=\"#000000\" fill-rule=\"evenodd\" fill-opacity=\"1\" /><path clip-path=\"url(#clip170)\" d=\"M1912.57 1452.37 Q1908.96 1452.37 1907.13 1455.94 Q1905.33 1459.48 1905.33 1466.61 Q1905.33 1473.71 1907.13 1477.28 Q1908.96 1480.82 1912.57 1480.82 Q1916.2 1480.82 1918.01 1477.28 Q1919.84 1473.71 1919.84 1466.61 Q1919.84 1459.48 1918.01 1455.94 Q1916.2 1452.37 1912.57 1452.37 M1912.57 1448.67 Q1918.38 1448.67 1921.44 1453.27 Q1924.51 1457.86 1924.51 1466.61 Q1924.51 1475.33 1921.44 1479.94 Q1918.38 1484.52 1912.57 1484.52 Q1906.76 1484.52 1903.68 1479.94 Q1900.63 1475.33 1900.63 1466.61 Q1900.63 1457.86 1903.68 1453.27 Q1906.76 1448.67 1912.57 1448.67 Z\" fill=\"#000000\" fill-rule=\"evenodd\" fill-opacity=\"1\" /><path clip-path=\"url(#clip170)\" d=\"M1942.73 1452.37 Q1939.12 1452.37 1937.29 1455.94 Q1935.49 1459.48 1935.49 1466.61 Q1935.49 1473.71 1937.29 1477.28 Q1939.12 1480.82 1942.73 1480.82 Q1946.37 1480.82 1948.17 1477.28 Q1950 1473.71 1950 1466.61 Q1950 1459.48 1948.17 1455.94 Q1946.37 1452.37 1942.73 1452.37 M1942.73 1448.67 Q1948.54 1448.67 1951.6 1453.27 Q1954.68 1457.86 1954.68 1466.61 Q1954.68 1475.33 1951.6 1479.94 Q1948.54 1484.52 1942.73 1484.52 Q1936.92 1484.52 1933.84 1479.94 Q1930.79 1475.33 1930.79 1466.61 Q1930.79 1457.86 1933.84 1453.27 Q1936.92 1448.67 1942.73 1448.67 Z\" fill=\"#000000\" fill-rule=\"evenodd\" fill-opacity=\"1\" /><path clip-path=\"url(#clip170)\" d=\"M1302.04 1524.09 L1318.5 1568.04 L1312.29 1568.04 L1302.29 1541.69 L1290.01 1568.04 L1283.8 1568.04 L1299.43 1533.86 L1297.07 1527.56 Q1295.58 1523.55 1292.17 1523.55 L1289.12 1523.55 L1289.12 1518.52 L1292.84 1518.58 Q1300.03 1518.68 1302.04 1524.09 Z\" fill=\"#000000\" fill-rule=\"evenodd\" fill-opacity=\"1\" /><polyline clip-path=\"url(#clip172)\" style=\"stroke:#000000; stroke-linecap:butt; stroke-linejoin:round; stroke-width:2; stroke-opacity:0.1; fill:none\" points=\"\n",
       "  249.542,1419.52 2352.76,1419.52 \n",
       "  \"/>\n",
       "<polyline clip-path=\"url(#clip172)\" style=\"stroke:#000000; stroke-linecap:butt; stroke-linejoin:round; stroke-width:2; stroke-opacity:0.1; fill:none\" points=\"\n",
       "  249.542,1083.94 2352.76,1083.94 \n",
       "  \"/>\n",
       "<polyline clip-path=\"url(#clip172)\" style=\"stroke:#000000; stroke-linecap:butt; stroke-linejoin:round; stroke-width:2; stroke-opacity:0.1; fill:none\" points=\"\n",
       "  249.542,748.365 2352.76,748.365 \n",
       "  \"/>\n",
       "<polyline clip-path=\"url(#clip172)\" style=\"stroke:#000000; stroke-linecap:butt; stroke-linejoin:round; stroke-width:2; stroke-opacity:0.1; fill:none\" points=\"\n",
       "  249.542,412.787 2352.76,412.787 \n",
       "  \"/>\n",
       "<polyline clip-path=\"url(#clip172)\" style=\"stroke:#000000; stroke-linecap:butt; stroke-linejoin:round; stroke-width:2; stroke-opacity:0.1; fill:none\" points=\"\n",
       "  249.542,77.2093 2352.76,77.2093 \n",
       "  \"/>\n",
       "<polyline clip-path=\"url(#clip170)\" style=\"stroke:#000000; stroke-linecap:butt; stroke-linejoin:round; stroke-width:4; stroke-opacity:1; fill:none\" points=\"\n",
       "  249.542,1423.18 249.542,47.2441 \n",
       "  \"/>\n",
       "<polyline clip-path=\"url(#clip170)\" style=\"stroke:#000000; stroke-linecap:butt; stroke-linejoin:round; stroke-width:4; stroke-opacity:1; fill:none\" points=\"\n",
       "  249.542,1419.52 268.44,1419.52 \n",
       "  \"/>\n",
       "<polyline clip-path=\"url(#clip170)\" style=\"stroke:#000000; stroke-linecap:butt; stroke-linejoin:round; stroke-width:4; stroke-opacity:1; fill:none\" points=\"\n",
       "  249.542,1083.94 268.44,1083.94 \n",
       "  \"/>\n",
       "<polyline clip-path=\"url(#clip170)\" style=\"stroke:#000000; stroke-linecap:butt; stroke-linejoin:round; stroke-width:4; stroke-opacity:1; fill:none\" points=\"\n",
       "  249.542,748.365 268.44,748.365 \n",
       "  \"/>\n",
       "<polyline clip-path=\"url(#clip170)\" style=\"stroke:#000000; stroke-linecap:butt; stroke-linejoin:round; stroke-width:4; stroke-opacity:1; fill:none\" points=\"\n",
       "  249.542,412.787 268.44,412.787 \n",
       "  \"/>\n",
       "<polyline clip-path=\"url(#clip170)\" style=\"stroke:#000000; stroke-linecap:butt; stroke-linejoin:round; stroke-width:4; stroke-opacity:1; fill:none\" points=\"\n",
       "  249.542,77.2093 268.44,77.2093 \n",
       "  \"/>\n",
       "<path clip-path=\"url(#clip170)\" d=\"M126.205 1405.32 Q122.593 1405.32 120.765 1408.88 Q118.959 1412.43 118.959 1419.56 Q118.959 1426.66 120.765 1430.23 Q122.593 1433.77 126.205 1433.77 Q129.839 1433.77 131.644 1430.23 Q133.473 1426.66 133.473 1419.56 Q133.473 1412.43 131.644 1408.88 Q129.839 1405.32 126.205 1405.32 M126.205 1401.62 Q132.015 1401.62 135.07 1406.22 Q138.149 1410.81 138.149 1419.56 Q138.149 1428.28 135.07 1432.89 Q132.015 1437.47 126.205 1437.47 Q120.394 1437.47 117.316 1432.89 Q114.26 1428.28 114.26 1419.56 Q114.26 1410.81 117.316 1406.22 Q120.394 1401.62 126.205 1401.62 Z\" fill=\"#000000\" fill-rule=\"evenodd\" fill-opacity=\"1\" /><path clip-path=\"url(#clip170)\" d=\"M146.366 1430.92 L151.251 1430.92 L151.251 1436.8 L146.366 1436.8 L146.366 1430.92 Z\" fill=\"#000000\" fill-rule=\"evenodd\" fill-opacity=\"1\" /><path clip-path=\"url(#clip170)\" d=\"M171.436 1405.32 Q167.825 1405.32 165.996 1408.88 Q164.19 1412.43 164.19 1419.56 Q164.19 1426.66 165.996 1430.23 Q167.825 1433.77 171.436 1433.77 Q175.07 1433.77 176.876 1430.23 Q178.704 1426.66 178.704 1419.56 Q178.704 1412.43 176.876 1408.88 Q175.07 1405.32 171.436 1405.32 M171.436 1401.62 Q177.246 1401.62 180.301 1406.22 Q183.38 1410.81 183.38 1419.56 Q183.38 1428.28 180.301 1432.89 Q177.246 1437.47 171.436 1437.47 Q165.626 1437.47 162.547 1432.89 Q159.491 1428.28 159.491 1419.56 Q159.491 1410.81 162.547 1406.22 Q165.626 1401.62 171.436 1401.62 Z\" fill=\"#000000\" fill-rule=\"evenodd\" fill-opacity=\"1\" /><path clip-path=\"url(#clip170)\" d=\"M201.598 1405.32 Q197.987 1405.32 196.158 1408.88 Q194.352 1412.43 194.352 1419.56 Q194.352 1426.66 196.158 1430.23 Q197.987 1433.77 201.598 1433.77 Q205.232 1433.77 207.037 1430.23 Q208.866 1426.66 208.866 1419.56 Q208.866 1412.43 207.037 1408.88 Q205.232 1405.32 201.598 1405.32 M201.598 1401.62 Q207.408 1401.62 210.463 1406.22 Q213.542 1410.81 213.542 1419.56 Q213.542 1428.28 210.463 1432.89 Q207.408 1437.47 201.598 1437.47 Q195.787 1437.47 192.709 1432.89 Q189.653 1428.28 189.653 1419.56 Q189.653 1410.81 192.709 1406.22 Q195.787 1401.62 201.598 1401.62 Z\" fill=\"#000000\" fill-rule=\"evenodd\" fill-opacity=\"1\" /><path clip-path=\"url(#clip170)\" d=\"M127.2 1069.74 Q123.589 1069.74 121.76 1073.31 Q119.955 1076.85 119.955 1083.98 Q119.955 1091.08 121.76 1094.65 Q123.589 1098.19 127.2 1098.19 Q130.834 1098.19 132.64 1094.65 Q134.468 1091.08 134.468 1083.98 Q134.468 1076.85 132.64 1073.31 Q130.834 1069.74 127.2 1069.74 M127.2 1066.04 Q133.01 1066.04 136.066 1070.64 Q139.144 1075.23 139.144 1083.98 Q139.144 1092.7 136.066 1097.31 Q133.01 1101.89 127.2 1101.89 Q121.39 1101.89 118.311 1097.31 Q115.256 1092.7 115.256 1083.98 Q115.256 1075.23 118.311 1070.64 Q121.39 1066.04 127.2 1066.04 Z\" fill=\"#000000\" fill-rule=\"evenodd\" fill-opacity=\"1\" /><path clip-path=\"url(#clip170)\" d=\"M147.362 1095.34 L152.246 1095.34 L152.246 1101.22 L147.362 1101.22 L147.362 1095.34 Z\" fill=\"#000000\" fill-rule=\"evenodd\" fill-opacity=\"1\" /><path clip-path=\"url(#clip170)\" d=\"M166.459 1097.29 L182.778 1097.29 L182.778 1101.22 L160.834 1101.22 L160.834 1097.29 Q163.496 1094.53 168.079 1089.9 Q172.686 1085.25 173.866 1083.91 Q176.112 1081.39 176.991 1079.65 Q177.894 1077.89 177.894 1076.2 Q177.894 1073.45 175.95 1071.71 Q174.028 1069.97 170.927 1069.97 Q168.727 1069.97 166.274 1070.74 Q163.843 1071.5 161.065 1073.05 L161.065 1068.33 Q163.89 1067.2 166.343 1066.62 Q168.797 1066.04 170.834 1066.04 Q176.204 1066.04 179.399 1068.72 Q182.593 1071.41 182.593 1075.9 Q182.593 1078.03 181.783 1079.95 Q180.996 1081.85 178.889 1084.44 Q178.311 1085.11 175.209 1088.33 Q172.107 1091.52 166.459 1097.29 Z\" fill=\"#000000\" fill-rule=\"evenodd\" fill-opacity=\"1\" /><path clip-path=\"url(#clip170)\" d=\"M192.639 1066.66 L210.996 1066.66 L210.996 1070.6 L196.922 1070.6 L196.922 1079.07 Q197.94 1078.72 198.959 1078.56 Q199.977 1078.38 200.996 1078.38 Q206.783 1078.38 210.162 1081.55 Q213.542 1084.72 213.542 1090.14 Q213.542 1095.71 210.07 1098.82 Q206.598 1101.89 200.278 1101.89 Q198.102 1101.89 195.834 1101.52 Q193.588 1101.15 191.181 1100.41 L191.181 1095.71 Q193.264 1096.85 195.487 1097.4 Q197.709 1097.96 200.186 1097.96 Q204.19 1097.96 206.528 1095.85 Q208.866 1093.75 208.866 1090.14 Q208.866 1086.52 206.528 1084.42 Q204.19 1082.31 200.186 1082.31 Q198.311 1082.31 196.436 1082.73 Q194.584 1083.14 192.639 1084.02 L192.639 1066.66 Z\" fill=\"#000000\" fill-rule=\"evenodd\" fill-opacity=\"1\" /><path clip-path=\"url(#clip170)\" d=\"M126.205 734.164 Q122.593 734.164 120.765 737.729 Q118.959 741.27 118.959 748.4 Q118.959 755.506 120.765 759.071 Q122.593 762.613 126.205 762.613 Q129.839 762.613 131.644 759.071 Q133.473 755.506 133.473 748.4 Q133.473 741.27 131.644 737.729 Q129.839 734.164 126.205 734.164 M126.205 730.46 Q132.015 730.46 135.07 735.067 Q138.149 739.65 138.149 748.4 Q138.149 757.127 135.07 761.733 Q132.015 766.316 126.205 766.316 Q120.394 766.316 117.316 761.733 Q114.26 757.127 114.26 748.4 Q114.26 739.65 117.316 735.067 Q120.394 730.46 126.205 730.46 Z\" fill=\"#000000\" fill-rule=\"evenodd\" fill-opacity=\"1\" /><path clip-path=\"url(#clip170)\" d=\"M146.366 759.766 L151.251 759.766 L151.251 765.645 L146.366 765.645 L146.366 759.766 Z\" fill=\"#000000\" fill-rule=\"evenodd\" fill-opacity=\"1\" /><path clip-path=\"url(#clip170)\" d=\"M161.482 731.085 L179.839 731.085 L179.839 735.02 L165.765 735.02 L165.765 743.493 Q166.783 743.145 167.802 742.983 Q168.82 742.798 169.839 742.798 Q175.626 742.798 179.005 745.969 Q182.385 749.141 182.385 754.557 Q182.385 760.136 178.913 763.238 Q175.44 766.316 169.121 766.316 Q166.945 766.316 164.677 765.946 Q162.431 765.576 160.024 764.835 L160.024 760.136 Q162.107 761.27 164.329 761.826 Q166.552 762.381 169.028 762.381 Q173.033 762.381 175.371 760.275 Q177.709 758.168 177.709 754.557 Q177.709 750.946 175.371 748.84 Q173.033 746.733 169.028 746.733 Q167.153 746.733 165.278 747.15 Q163.427 747.567 161.482 748.446 L161.482 731.085 Z\" fill=\"#000000\" fill-rule=\"evenodd\" fill-opacity=\"1\" /><path clip-path=\"url(#clip170)\" d=\"M201.598 734.164 Q197.987 734.164 196.158 737.729 Q194.352 741.27 194.352 748.4 Q194.352 755.506 196.158 759.071 Q197.987 762.613 201.598 762.613 Q205.232 762.613 207.037 759.071 Q208.866 755.506 208.866 748.4 Q208.866 741.27 207.037 737.729 Q205.232 734.164 201.598 734.164 M201.598 730.46 Q207.408 730.46 210.463 735.067 Q213.542 739.65 213.542 748.4 Q213.542 757.127 210.463 761.733 Q207.408 766.316 201.598 766.316 Q195.787 766.316 192.709 761.733 Q189.653 757.127 189.653 748.4 Q189.653 739.65 192.709 735.067 Q195.787 730.46 201.598 730.46 Z\" fill=\"#000000\" fill-rule=\"evenodd\" fill-opacity=\"1\" /><path clip-path=\"url(#clip170)\" d=\"M127.2 398.586 Q123.589 398.586 121.76 402.151 Q119.955 405.692 119.955 412.822 Q119.955 419.928 121.76 423.493 Q123.589 427.035 127.2 427.035 Q130.834 427.035 132.64 423.493 Q134.468 419.928 134.468 412.822 Q134.468 405.692 132.64 402.151 Q130.834 398.586 127.2 398.586 M127.2 394.882 Q133.01 394.882 136.066 399.489 Q139.144 404.072 139.144 412.822 Q139.144 421.549 136.066 426.155 Q133.01 430.739 127.2 430.739 Q121.39 430.739 118.311 426.155 Q115.256 421.549 115.256 412.822 Q115.256 404.072 118.311 399.489 Q121.39 394.882 127.2 394.882 Z\" fill=\"#000000\" fill-rule=\"evenodd\" fill-opacity=\"1\" /><path clip-path=\"url(#clip170)\" d=\"M147.362 424.188 L152.246 424.188 L152.246 430.067 L147.362 430.067 L147.362 424.188 Z\" fill=\"#000000\" fill-rule=\"evenodd\" fill-opacity=\"1\" /><path clip-path=\"url(#clip170)\" d=\"M161.251 395.507 L183.473 395.507 L183.473 397.498 L170.927 430.067 L166.042 430.067 L177.848 399.442 L161.251 399.442 L161.251 395.507 Z\" fill=\"#000000\" fill-rule=\"evenodd\" fill-opacity=\"1\" /><path clip-path=\"url(#clip170)\" d=\"M192.639 395.507 L210.996 395.507 L210.996 399.442 L196.922 399.442 L196.922 407.915 Q197.94 407.567 198.959 407.405 Q199.977 407.22 200.996 407.22 Q206.783 407.22 210.162 410.391 Q213.542 413.563 213.542 418.979 Q213.542 424.558 210.07 427.66 Q206.598 430.739 200.278 430.739 Q198.102 430.739 195.834 430.368 Q193.588 429.998 191.181 429.257 L191.181 424.558 Q193.264 425.692 195.487 426.248 Q197.709 426.803 200.186 426.803 Q204.19 426.803 206.528 424.697 Q208.866 422.59 208.866 418.979 Q208.866 415.368 206.528 413.262 Q204.19 411.155 200.186 411.155 Q198.311 411.155 196.436 411.572 Q194.584 411.989 192.639 412.868 L192.639 395.507 Z\" fill=\"#000000\" fill-rule=\"evenodd\" fill-opacity=\"1\" /><path clip-path=\"url(#clip170)\" d=\"M117.015 90.5542 L124.654 90.5542 L124.654 64.1886 L116.343 65.8552 L116.343 61.596 L124.607 59.9293 L129.283 59.9293 L129.283 90.5542 L136.922 90.5542 L136.922 94.4893 L117.015 94.4893 L117.015 90.5542 Z\" fill=\"#000000\" fill-rule=\"evenodd\" fill-opacity=\"1\" /><path clip-path=\"url(#clip170)\" d=\"M146.366 88.6097 L151.251 88.6097 L151.251 94.4893 L146.366 94.4893 L146.366 88.6097 Z\" fill=\"#000000\" fill-rule=\"evenodd\" fill-opacity=\"1\" /><path clip-path=\"url(#clip170)\" d=\"M171.436 63.008 Q167.825 63.008 165.996 66.5728 Q164.19 70.1145 164.19 77.2441 Q164.19 84.3505 165.996 87.9153 Q167.825 91.457 171.436 91.457 Q175.07 91.457 176.876 87.9153 Q178.704 84.3505 178.704 77.2441 Q178.704 70.1145 176.876 66.5728 Q175.07 63.008 171.436 63.008 M171.436 59.3043 Q177.246 59.3043 180.301 63.9108 Q183.38 68.4941 183.38 77.2441 Q183.38 85.9709 180.301 90.5773 Q177.246 95.1606 171.436 95.1606 Q165.626 95.1606 162.547 90.5773 Q159.491 85.9709 159.491 77.2441 Q159.491 68.4941 162.547 63.9108 Q165.626 59.3043 171.436 59.3043 Z\" fill=\"#000000\" fill-rule=\"evenodd\" fill-opacity=\"1\" /><path clip-path=\"url(#clip170)\" d=\"M201.598 63.008 Q197.987 63.008 196.158 66.5728 Q194.352 70.1145 194.352 77.2441 Q194.352 84.3505 196.158 87.9153 Q197.987 91.457 201.598 91.457 Q205.232 91.457 207.037 87.9153 Q208.866 84.3505 208.866 77.2441 Q208.866 70.1145 207.037 66.5728 Q205.232 63.008 201.598 63.008 M201.598 59.3043 Q207.408 59.3043 210.463 63.9108 Q213.542 68.4941 213.542 77.2441 Q213.542 85.9709 210.463 90.5773 Q207.408 95.1606 201.598 95.1606 Q195.787 95.1606 192.709 90.5773 Q189.653 85.9709 189.653 77.2441 Q189.653 68.4941 192.709 63.9108 Q195.787 59.3043 201.598 59.3043 Z\" fill=\"#000000\" fill-rule=\"evenodd\" fill-opacity=\"1\" /><path clip-path=\"url(#clip170)\" d=\"M16.4842 798.694 L16.4842 771.385 L21.895 771.385 L21.895 792.265 L35.8996 792.265 L35.8996 773.422 L41.3104 773.422 L41.3104 792.265 L64.0042 792.265 L64.0042 798.694 L16.4842 798.694 Z\" fill=\"#000000\" fill-rule=\"evenodd\" fill-opacity=\"1\" /><path clip-path=\"url(#clip170)\" d=\"M14.479 761.455 L14.479 755.598 L64.0042 755.598 L64.0042 761.455 L14.479 761.455 Z\" fill=\"#000000\" fill-rule=\"evenodd\" fill-opacity=\"1\" /><path clip-path=\"url(#clip170)\" d=\"M49.9359 743.949 L28.3562 743.949 L28.3562 738.092 L49.7131 738.092 Q54.7739 738.092 57.3202 736.119 Q59.8346 734.146 59.8346 730.199 Q59.8346 725.457 56.8109 722.719 Q53.7872 719.95 48.5673 719.95 L28.3562 719.95 L28.3562 714.094 L64.0042 714.094 L64.0042 719.95 L58.5296 719.95 Q61.7762 722.083 63.3676 724.915 Q64.9272 727.716 64.9272 731.44 Q64.9272 737.583 61.1078 740.766 Q57.2883 743.949 49.9359 743.949 M27.4968 729.212 L27.4968 729.212 Z\" fill=\"#000000\" fill-rule=\"evenodd\" fill-opacity=\"1\" /><path clip-path=\"url(#clip170)\" d=\"M28.3562 672.398 L45.7028 685.289 L64.0042 671.73 L64.0042 678.637 L49.9996 689.013 L64.0042 699.389 L64.0042 706.296 L45.3526 692.45 L28.3562 705.118 L28.3562 698.211 L41.0558 688.758 L28.3562 679.305 L28.3562 672.398 Z\" fill=\"#000000\" fill-rule=\"evenodd\" fill-opacity=\"1\" /><polyline clip-path=\"url(#clip172)\" style=\"stroke:#009af9; stroke-linecap:butt; stroke-linejoin:round; stroke-width:4; stroke-opacity:1; fill:none\" points=\"\n",
       "  309.067,90.6325 311.007,90.6275 312.946,90.6226 314.886,90.6177 316.825,90.6128 318.765,90.6079 320.704,90.603 322.644,90.5981 324.583,90.5932 326.523,90.5883 \n",
       "  328.462,90.5835 330.402,90.5787 332.342,90.574 334.281,90.5696 336.221,90.5656 338.16,90.5623 340.1,90.5604 342.039,90.5608 343.979,90.565 345.918,90.5759 \n",
       "  347.858,90.5978 349.798,90.6375 351.737,90.7058 353.677,90.8193 355.616,91.0027 357.556,91.2928 359.495,91.7424 361.435,92.4271 363.374,93.4515 365.314,94.9586 \n",
       "  367.254,97.1391 369.193,100.242 371.133,104.584 373.072,110.561 375.012,118.65 376.951,129.415 378.891,143.5 380.83,161.613 382.77,184.5 384.71,212.914 \n",
       "  386.649,247.554 388.589,289.014 390.528,337.702 392.468,393.775 394.407,457.061 396.347,526.994 398.286,602.578 400.226,682.36 402.166,764.45 404.105,846.569 \n",
       "  406.045,926.144 407.984,1000.43 409.924,1066.66 411.863,1122.21 413.803,1164.79 415.742,1192.58 417.682,1204.37 419.622,1199.62 421.561,1178.57 423.501,1142.13 \n",
       "  425.44,1091.91 427.38,1030.03 429.319,959.038 431.259,881.708 433.198,800.896 435.138,719.383 437.078,639.742 439.017,564.242 440.957,494.784 442.896,432.871 \n",
       "  444.836,379.611 446.775,335.745 448.715,301.688 450.654,277.58 452.594,263.334 454.534,258.682 456.473,263.209 458.413,276.367 460.352,297.489 462.292,325.779 \n",
       "  464.231,360.308 466.171,400.002 468.11,443.645 470.05,489.884 471.99,537.269 473.929,584.302 475.869,629.517 477.808,671.569 479.748,709.331 481.687,741.982 \n",
       "  483.627,769.064 485.566,790.504 487.506,806.581 489.446,817.845 491.385,824.992 493.325,828.728 495.264,829.624 497.204,828.012 499.143,823.937 501.083,817.164 \n",
       "  503.022,807.263 504.962,793.728 506.901,776.14 508.841,754.359 510.781,728.968 512.72,703.011 514.66,686.541 516.599,699.055 518.539,751.182 520.478,808.364 \n",
       "  522.418,804.156 524.357,722.909 526.297,625 528.237,568.73 530.176,560.643 532.116,582.17 534.055,619.652 535.995,667.477 537.934,722.886 539.874,783.443 \n",
       "  541.813,846.647 543.753,910.115 545.693,971.819 547.632,1030.27 549.572,1084.61 551.511,1134.56 553.451,1180.28 555.39,1222.09 557.33,1260.21 559.269,1294.41 \n",
       "  561.209,1323.92 563.149,1347.29 565.088,1362.58 567.028,1367.56 568.967,1360.06 570.907,1338.37 572.846,1301.55 574.786,1249.62 576.725,1183.63 578.665,1105.61 \n",
       "  580.605,1018.32 582.544,924.969 584.484,828.946 586.423,733.478 588.363,641.415 590.302,555.066 592.242,476.116 594.181,405.624 596.121,344.065 598.061,291.424 \n",
       "  600,247.298 601.94,211.01 603.879,181.713 605.819,158.479 607.758,140.374 609.698,126.503 611.637,116.054 613.577,108.313 615.517,102.673 617.456,98.6319 \n",
       "  619.396,95.7881 621.335,93.8269 623.275,92.51 625.214,91.6638 627.154,91.1686 629.093,90.951 631.033,90.978 632.973,91.2544 634.912,91.8231 636.852,92.7683 \n",
       "  638.791,94.2218 640.731,96.3709 642.67,99.4686 644.61,103.845 646.549,109.917 648.489,118.198 650.429,129.3 652.368,143.932 654.308,162.888 656.247,187.023 \n",
       "  658.187,217.213 660.126,254.307 662.066,299.056 664.005,352.04 665.945,413.575 667.884,483.633 669.824,561.762 671.764,647.022 673.703,737.948 675.643,832.557 \n",
       "  677.582,928.381 679.522,1022.56 681.461,1111.96 683.401,1193.37 685.34,1263.62 687.28,1319.88 689.22,1359.76 691.159,1381.53 693.099,1384.24 695.038,1367.76 \n",
       "  696.978,1332.82 698.917,1280.95 700.857,1214.35 702.796,1135.77 704.736,1048.28 706.676,955.114 708.615,859.44 710.555,764.211 712.494,672.016 714.434,584.982 \n",
       "  716.373,504.719 718.313,432.314 720.252,368.351 722.192,312.97 724.132,265.942 726.071,226.754 728.011,194.694 729.95,168.934 731.89,148.599 733.829,132.824 \n",
       "  735.769,120.793 737.708,111.773 739.648,105.123 741.588,100.3 743.527,96.8586 745.467,94.4432 747.406,92.7745 749.346,91.6397 751.285,90.8797 753.225,90.3782 \n",
       "  755.164,90.0519 757.104,89.8423 759.044,89.7091 760.983,89.6251 762.923,89.5722 764.862,89.5386 766.802,89.5169 768.741,89.5023 770.681,89.492 772.62,89.4841 \n",
       "  774.56,89.4776 776.5,89.4719 778.439,89.4667 780.379,89.4617 782.318,89.4568 784.258,89.4521 786.197,89.4473 788.137,89.4427 790.076,89.4421 792.016,89.5001 \n",
       "  793.956,90.1563 795.895,94.8731 797.835,117.525 799.774,189.284 801.714,333.884 803.653,501.697 805.593,568.418 807.532,472.812 809.472,300.819 811.412,169.707 \n",
       "  813.351,110.403 815.291,93.1669 817.23,89.8427 819.17,89.4074 821.109,89.3648 823.049,89.3579 824.988,89.3531 826.928,89.3484 828.868,89.3438 830.807,89.3392 \n",
       "  832.747,89.3347 834.686,89.3305 836.626,89.3267 838.565,89.3236 840.505,89.3218 842.444,89.3225 844.384,89.3273 846.323,89.3392 848.263,89.3631 850.203,89.4069 \n",
       "  852.142,89.4829 854.082,89.6109 856.021,89.8206 857.961,90.1571 859.9,90.6868 861.84,91.5059 863.779,92.7508 865.719,94.6112 867.659,97.3454 869.598,101.297 \n",
       "  871.538,106.911 873.477,114.753 875.417,125.515 877.356,140.023 879.296,159.222 881.235,184.148 883.175,215.874 885.115,255.44 887.054,303.856 888.994,362.65 \n",
       "  890.933,435.865 892.873,531.848 894.812,655.497 896.752,789.031 898.691,894.789 900.631,957.657 902.571,1002.96 904.51,1057.48 906.45,1122.02 908.389,1185.1 \n",
       "  910.329,1239.04 912.268,1281.64 914.208,1313.2 916.147,1334.91 918.087,1348.14 920.027,1354.04 921.966,1353.29 923.906,1346 925.845,1331.73 927.785,1309.73 \n",
       "  929.724,1279.12 931.664,1239.23 933.603,1189.72 935.543,1130.8 937.483,1063.23 939.422,988.351 941.362,907.95 943.301,824.182 945.241,739.385 947.18,655.915 \n",
       "  949.12,575.977 951.059,501.494 952.999,434.01 954.939,374.651 956.878,324.136 958.818,282.827 960.757,250.814 962.697,228.001 964.636,214.192 966.576,209.165 \n",
       "  968.515,212.78 970.455,225.483 972.395,250.576 974.334,299.351 976.274,390.613 978.213,524.86 980.153,651.433 982.092,703.917 984.032,684.731 985.971,660.163 \n",
       "  987.911,674.614 989.851,722.304 991.79,782.613 993.73,844.595 995.669,906.586 997.609,967.374 999.548,1017.68 1001.49,1042.89 1003.43,1037.86 1005.37,1012.24 \n",
       "  1007.31,978.093 1009.25,939.357 1011.19,894.456 1013.13,842.187 1015.06,783.391 1017,720.06 1018.94,654.507 1020.88,589.026 1022.82,525.748 1024.76,466.568 \n",
       "  1026.7,413.102 1028.64,366.665 1030.58,328.278 1032.52,298.691 1034.46,278.408 1036.4,267.721 1038.34,266.737 1040.28,275.393 1042.22,293.466 1044.16,320.566 \n",
       "  1046.1,356.121 1048.04,399.352 1049.98,449.255 1051.92,504.579 1053.86,563.83 1055.8,625.293 1057.73,687.085 1059.67,747.25 1061.61,803.886 1063.55,855.306 \n",
       "  1065.49,900.21 1067.43,937.855 1069.37,968.182 1071.31,991.877 1073.25,1010.33 1075.19,1025.5 1077.13,1039.63 1079.07,1054.96 1081.01,1073.32 1082.95,1095.83 \n",
       "  1084.89,1122.6 1086.83,1152.69 1088.77,1184.11 1090.71,1214.08 1092.65,1239.32 1094.59,1256.53 1096.53,1262.75 1098.47,1255.72 1100.41,1234.15 1102.34,1197.84 \n",
       "  1104.28,1147.67 1106.22,1085.47 1108.16,1013.85 1110.1,935.981 1112.04,855.314 1113.98,775.377 1115.92,699.572 1117.86,630.999 1119.8,572.337 1121.74,525.745 \n",
       "  1123.68,492.793 1125.62,474.433 1127.56,470.974 1129.5,482.102 1131.44,506.97 1133.38,544.683 1135.32,596.084 1137.26,666.561 1139.2,762.621 1141.14,874.175 \n",
       "  1143.08,965.091 1145.01,1006.05 1146.95,1010.14 1148.89,1010.47 1150.83,1020.29 1152.77,1032.24 1154.71,1036.84 1156.65,1029.97 1158.59,1011.16 1160.53,981.473 \n",
       "  1162.47,942.594 1164.41,896.501 1166.35,845.283 1168.29,790.972 1170.23,735.401 1172.17,680.107 1174.11,626.28 1176.05,574.761 1177.99,526.075 1179.93,480.486 \n",
       "  1181.87,438.069 1183.81,398.776 1185.75,362.495 1187.69,329.09 1189.62,298.429 1191.56,270.398 1193.5,244.899 1195.44,221.849 1197.38,201.168 1199.32,182.776 \n",
       "  1201.26,166.579 1203.2,152.471 1205.14,140.338 1207.08,130.181 1209.02,122.913 1210.96,123.541 1212.9,146.719 1214.84,211.977 1216.78,310.477 1218.72,378.867 \n",
       "  1220.66,354.827 1222.6,259.145 1224.54,168.337 1226.48,130.071 1228.42,152.449 1230.36,230.198 1232.29,327.998 1234.23,373.419 1236.17,327.507 1238.11,235.879 \n",
       "  1240.05,166.742 1241.99,141.451 1243.93,149.793 1245.87,194.743 1247.81,302.099 1249.75,473.562 1251.69,626.778 1253.63,648.162 1255.57,535.327 1257.51,399.825 \n",
       "  1259.45,325.311 1261.39,309.728 1263.33,320.093 1265.27,335.928 1267.21,350.43 1269.15,361.847 1271.09,369.553 1273.03,373.203 1274.96,372.639 1276.9,367.892 \n",
       "  1278.84,359.181 1280.78,346.899 1282.72,331.588 1284.66,313.908 1286.6,294.596 1288.54,274.43 1290.48,254.193 1292.42,234.645 1294.36,216.509 1296.3,200.452 \n",
       "  1298.24,187.097 1300.18,177.022 1302.12,170.78 1304.06,168.907 1306,171.938 1307.94,180.409 1309.88,194.855 1311.82,215.787 1313.76,243.664 1315.7,278.844 \n",
       "  1317.64,321.535 1319.57,371.725 1321.51,429.152 1323.45,493.432 1325.39,564.789 1327.33,645.378 1329.27,738.007 1331.21,837.901 1333.15,927.133 1335.09,989.463 \n",
       "  1337.03,1028.91 1338.97,1060.42 1340.91,1089.75 1342.85,1112.46 1344.79,1123.08 1346.73,1119.03 1348.67,1099.92 1350.61,1066.48 1352.55,1020.15 1354.49,962.875 \n",
       "  1356.43,896.976 1358.37,824.975 1360.31,749.451 1362.24,672.885 1364.18,597.531 1366.12,525.32 1368.06,457.791 1370,396.065 1371.94,340.847 1373.88,292.457 \n",
       "  1375.82,250.883 1377.76,215.844 1379.7,186.859 1381.64,163.316 1383.58,144.531 1385.52,129.804 1387.46,118.456 1389.4,109.861 1391.34,103.459 1393.28,98.7689 \n",
       "  1395.22,95.3902 1397.16,92.9956 1399.1,91.3263 1401.04,90.1821 1402.98,89.4121 1404.92,88.9055 1406.85,88.5834 1408.79,88.3918 1410.73,88.2971 1412.67,88.2816 \n",
       "  1414.61,88.3417 1416.55,88.487 1418.49,88.741 1420.43,89.1426 1422.37,89.7495 1424.31,90.6416 1426.25,91.9259 1428.19,93.7413 1430.13,96.2635 1432.07,99.709 \n",
       "  1434.01,104.337 1435.95,110.45 1437.89,118.386 1439.83,128.516 1441.77,141.222 1443.71,156.88 1445.65,175.833 1447.59,198.355 1449.52,224.62 1451.46,254.662 \n",
       "  1453.4,288.337 1455.34,325.302 1457.28,364.991 1459.22,406.615 1461.16,449.176 1463.1,491.506 1465.04,532.321 1466.98,570.293 1468.92,604.141 1470.86,632.714 \n",
       "  1472.8,655.08 1474.74,670.589 1476.68,678.919 1478.62,680.082 1480.56,674.41 1482.5,662.499 1484.44,645.149 1486.38,623.395 1488.32,599.212 1490.26,578.721 \n",
       "  1492.2,578.355 1494.13,621.266 1496.07,702.322 1498.01,754.97 1499.95,706.119 1501.89,571.845 1503.83,435.506 1505.77,346.839 1507.71,298.12 1509.65,267.05 \n",
       "  1511.59,241.834 1513.53,219.245 1515.47,198.802 1517.41,180.491 1519.35,164.308 1521.29,150.201 1523.23,138.077 1525.17,127.803 1527.11,119.223 1529.05,112.16 \n",
       "  1530.99,106.431 1532.93,101.852 1534.87,98.2468 1536.8,95.4504 1538.74,93.3138 1540.68,91.7057 1542.62,90.5135 1544.56,89.6429 1546.5,89.0164 1548.44,88.5723 \n",
       "  1550.38,88.262 1552.32,88.0481 1554.26,87.9029 1556.2,87.8057 1558.14,87.742 1560.08,87.7016 1562.02,87.678 1563.96,87.6671 1565.9,87.6673 1567.84,87.6787 \n",
       "  1569.78,87.7034 1571.72,87.745 1573.66,87.8092 1575.6,87.9037 1577.54,88.039 1579.48,88.2279 1581.41,88.4865 1583.35,88.8338 1585.29,89.2918 1587.23,89.8849 \n",
       "  1589.17,90.6391 1591.11,91.5812 1593.05,92.7366 1594.99,94.1275 1596.93,95.7705 1598.87,97.6739 1600.81,99.835 1602.75,102.238 1604.69,104.852 1606.63,107.63 \n",
       "  1608.57,110.51 1610.51,113.415 1612.45,116.256 1614.39,118.938 1616.33,121.362 1618.27,123.434 1620.21,125.07 1622.15,126.198 1624.08,126.771 1626.02,126.763 \n",
       "  1627.96,126.174 1629.9,125.029 1631.84,123.379 1633.78,121.293 1635.72,118.855 1637.66,116.162 1639.6,113.311 1641.54,110.397 1643.48,107.509 1645.42,104.724 \n",
       "  1647.36,102.104 1649.3,99.6952 1651.24,97.5287 1653.18,95.6201 1655.12,93.9718 1657.06,92.5754 1659,91.4142 1660.94,90.466 1662.88,89.7053 1664.82,89.1055 \n",
       "  1666.75,88.6404 1668.69,88.2856 1670.63,88.0193 1672.57,87.8223 1674.51,87.6788 1676.45,87.5757 1678.39,87.5028 1680.33,87.4521 1682.27,87.4179 1684.21,87.3965 \n",
       "  1686.15,87.3858 1688.09,87.3856 1690.03,87.3976 1691.97,87.4261 1693.91,87.4786 1695.85,87.5672 1697.79,87.7101 1699.73,87.934 1701.67,88.2772 1703.61,88.7933 \n",
       "  1705.55,89.556 1707.49,90.6678 1709.43,92.3131 1711.36,95.1063 1713.3,101.592 1715.24,119.337 1717.18,159.958 1719.12,222.845 1721.06,276.991 1723,284.548 \n",
       "  1724.94,249.964 1726.88,214.357 1728.82,204.946 1730.76,219.387 1732.7,246.443 1734.64,279.685 1736.58,316.992 1738.52,357.543 1740.46,400.562 1742.4,445.069 \n",
       "  1744.34,489.872 1746.28,533.607 1748.22,574.81 1750.16,611.992 1752.1,643.737 1754.03,668.788 1755.97,686.141 1757.91,695.109 1759.85,695.371 1761.79,686.993 \n",
       "  1763.73,670.415 1765.67,646.412 1767.61,616.037 1769.55,580.536 1771.49,541.269 1773.43,499.622 1775.37,456.931 1777.31,414.414 1779.25,373.131 1781.19,333.946 \n",
       "  1783.13,297.516 1785.07,264.292 1787.01,234.535 1788.95,208.335 1790.89,185.636 1792.83,166.276 1794.77,150.006 1796.71,136.529 1798.64,125.517 1800.58,116.639 \n",
       "  1802.52,109.572 1804.46,104.016 1806.4,99.6997 1808.34,96.3854 1810.28,93.8691 1812.22,91.9796 1814.16,90.5761 1816.1,89.5446 1818.04,88.7945 1819.98,88.2547 \n",
       "  1821.92,87.8701 1823.86,87.5988 1825.8,87.4092 1827.74,87.2779 1829.68,87.1876 1831.62,87.126 1833.56,87.0842 1835.5,87.056 1837.44,87.0374 1839.38,87.0255 \n",
       "  1841.31,87.019 1843.25,87.0173 1845.19,87.0207 1847.13,87.0302 1849.07,87.0477 1851.01,87.0761 1852.95,87.1194 1854.89,87.1828 1856.83,87.2732 1858.77,87.3989 \n",
       "  1860.71,87.5702 1862.65,87.7989 1864.59,88.0989 1866.53,88.485 1868.47,88.9732 1870.41,89.5792 1872.35,90.3182 1874.29,91.203 1876.23,92.2432 1878.17,93.4438 \n",
       "  1880.11,94.8041 1882.05,96.317 1883.99,97.969 1885.92,99.7404 1887.86,101.608 1889.8,103.545 1891.74,105.528 1893.68,107.538 1895.62,109.568 1897.56,111.625 \n",
       "  1899.5,113.735 1901.44,115.95 1903.38,118.344 1905.32,121.017 1907.26,124.09 1909.2,127.698 1911.14,131.983 1913.08,137.083 1915.02,143.118 1916.96,150.176 \n",
       "  1918.9,158.304 1920.84,167.493 1922.78,177.682 1924.72,188.748 1926.66,200.526 1928.59,212.818 1930.53,225.421 1932.47,238.156 1934.41,250.909 1936.35,263.671 \n",
       "  1938.29,276.572 1940.23,289.921 1942.17,304.229 1944.11,320.217 1946.05,338.801 1947.99,361.058 1949.93,388.151 1951.87,421.229 1953.81,461.322 1955.75,509.378 \n",
       "  1957.69,567.016 1959.63,638.497 1961.57,730.5 1963.51,841.443 1965.45,948.273 1967.39,1022.27 1969.33,1063.74 1971.26,1097.46 1973.2,1137.82 1975.14,1180.28 \n",
       "  1977.08,1216.43 1979.02,1242.34 1980.96,1257.65 1982.9,1263.43 1984.84,1261.12 1986.78,1252.12 1988.72,1237.5 1990.66,1217.85 1992.6,1193.35 1994.54,1163.96 \n",
       "  1996.48,1129.68 1998.42,1090.9 2000.36,1048.7 2002.3,1004.97 2004.24,962.418 2006.18,924.354 2008.12,894.337 2010.06,875.707 2012,871.122 2013.94,882.154 \n",
       "  2015.87,909.025 2017.81,950.518 2019.75,1004.06 2021.69,1065.98 2023.63,1131.82 2025.57,1196.79 2027.51,1256.14 2029.45,1305.54 2031.39,1341.37 2033.33,1360.92 \n",
       "  2035.27,1362.57 2037.21,1345.72 2039.15,1310.86 2041.09,1259.35 2043.03,1193.35 2044.97,1115.57 2046.91,1029.06 2048.85,937.029 2050.79,842.621 2052.73,748.746 \n",
       "  2054.67,657.949 2056.61,572.31 2058.54,493.399 2060.48,422.268 2062.42,359.476 2064.36,305.144 2066.3,259.037 2068.24,220.643 2070.18,189.315 2072.12,164.726 \n",
       "  2074.06,148.612 2076,148.408 2077.94,176.476 2079.88,231.76 2081.82,278.199 2083.76,270.414 2085.7,210.89 2087.64,145.836 2089.58,107.106 2091.52,92.3616 \n",
       "  2093.46,88.3459 2095.4,87.3324 2097.34,86.9584 2099.28,86.7507 2101.22,86.6215 2103.15,86.5402 2105.09,86.4893 2107.03,86.4571 2108.97,86.4364 2110.91,86.4227 \n",
       "  2112.85,86.4131 2114.79,86.4059 2116.73,86.4 2118.67,86.3949 2120.61,86.3902 2122.55,86.3858 2124.49,86.3815 2126.43,86.3773 2128.37,86.3731 2130.31,86.3689 \n",
       "  2132.25,86.3647 2134.19,86.3605 2136.13,86.3564 2138.07,86.3522 2140.01,86.3481 2141.95,86.3439 2143.89,86.3397 2145.82,86.3356 2147.76,86.3314 2149.7,86.3273 \n",
       "  2151.64,86.3231 2153.58,86.3189 2155.52,86.3148 2157.46,86.3106 2159.4,86.3065 2161.34,86.3023 2163.28,86.2982 2165.22,86.294 2167.16,86.2899 2169.1,86.2857 \n",
       "  2171.04,86.2816 2172.98,86.2774 2174.92,86.2733 2176.86,86.2691 2178.8,86.265 2180.74,86.2609 2182.68,86.2567 2184.62,86.2526 2186.56,86.2484 2188.5,86.2443 \n",
       "  2190.43,86.2401 2192.37,86.236 2194.31,86.2319 2196.25,86.2277 2198.19,86.2236 2200.13,86.2195 2202.07,86.2154 2204.01,86.2113 2205.95,86.2072 2207.89,86.2032 \n",
       "  2209.83,86.1992 2211.77,86.1955 2213.71,86.192 2215.65,86.1889 2217.59,86.1867 2219.53,86.1857 2221.47,86.1867 2223.41,86.1909 2225.35,86.2 2227.29,86.2166 \n",
       "  2229.23,86.2446 2231.17,86.2892 2233.1,86.358 2235.04,86.4612 2236.98,86.6125 2238.92,86.8299 2240.86,87.1361 2242.8,87.56 2244.74,88.1361 2246.68,88.9056 \n",
       "  2248.62,89.9157 2250.56,91.2184 2252.5,92.8691 2254.44,94.9237 2256.38,97.435 2258.32,100.448 2260.26,103.996 2262.2,108.093 2264.14,112.732 2266.08,117.896 \n",
       "  2268.02,123.775 2269.96,132.179 2271.9,152.051 2273.84,208.621 2275.77,334.044 2277.71,510.638 2279.65,630.477 2281.59,592.608 2283.53,435.978 2285.47,285.25 \n",
       "  2287.41,204.526 2289.35,176.925 2291.29,169.73 2293.23,166.718 \n",
       "  \"/>\n",
       "<polyline clip-path=\"url(#clip172)\" style=\"stroke:#e26f46; stroke-linecap:butt; stroke-linejoin:round; stroke-width:4; stroke-opacity:1; fill:none\" points=\"\n",
       "  309.067,90.8579 311.007,90.894 312.946,90.9367 314.886,90.987 316.825,91.046 318.765,91.1147 320.704,91.1946 322.644,91.2872 324.583,91.3943 326.523,91.518 \n",
       "  328.462,91.6607 330.402,91.8253 332.342,92.0152 334.281,92.2349 336.221,92.4894 338.16,92.7855 340.1,93.1316 342.039,93.5383 343.979,94.0196 345.918,94.5934 \n",
       "  347.858,95.2829 349.798,96.1184 351.737,97.1389 353.677,98.3949 355.616,99.9508 357.556,101.889 359.495,104.312 361.435,107.348 363.374,111.155 365.314,115.923 \n",
       "  367.254,121.877 369.193,129.282 371.133,138.44 373.072,149.687 375.012,163.391 376.951,179.941 378.891,199.732 380.83,223.148 382.77,250.538 384.71,282.19 \n",
       "  386.649,318.302 388.589,358.947 390.528,404.048 392.468,453.346 394.407,506.378 396.347,562.469 398.286,620.726 400.226,680.05 402.166,739.165 404.105,796.653 \n",
       "  406.045,851.015 407.984,900.726 409.924,944.315 411.863,980.434 413.803,1007.93 415.742,1025.91 417.682,1033.8 419.622,1031.35 421.561,1018.71 423.501,996.356 \n",
       "  425.44,965.117 427.38,926.109 429.319,880.691 431.259,830.39 433.198,776.84 435.138,721.701 437.078,666.603 439.017,613.078 440.957,562.519 442.896,516.14 \n",
       "  444.836,474.954 446.775,439.76 448.715,411.141 450.654,389.467 452.594,374.908 454.534,367.444 456.473,366.882 458.413,372.873 460.352,384.927 462.292,402.426 \n",
       "  464.231,424.648 466.171,450.782 468.11,479.951 470.05,511.238 471.99,543.718 473.929,576.483 475.869,608.678 477.808,639.533 479.748,668.382 481.687,694.689 \n",
       "  483.627,718.052 485.566,738.207 487.506,755.012 489.446,768.436 491.385,778.535 493.325,785.432 495.264,789.308 497.204,790.398 499.143,788.995 501.083,785.467 \n",
       "  503.022,780.259 504.962,773.879 506.901,766.86 508.841,759.688 510.781,752.72 512.72,746.114 514.66,739.813 516.599,733.608 518.539,727.281 520.478,720.791 \n",
       "  522.418,714.453 524.357,709.026 526.297,705.681 528.237,705.831 530.176,710.882 532.116,721.958 534.055,739.697 535.995,764.144 537.934,794.779 539.874,830.623 \n",
       "  541.813,870.406 543.753,912.731 545.693,956.219 547.632,999.592 549.572,1041.72 551.511,1081.61 553.451,1118.4 555.39,1151.31 557.33,1179.57 559.269,1202.44 \n",
       "  561.209,1219.17 563.149,1229.03 565.088,1231.29 567.028,1225.33 568.967,1210.7 570.907,1187.14 572.846,1154.68 574.786,1113.65 576.725,1064.74 578.665,1008.91 \n",
       "  580.605,947.407 582.544,881.685 584.484,813.302 586.423,743.849 588.363,674.854 590.302,607.712 592.242,543.619 594.181,483.536 596.121,428.17 598.061,377.97 \n",
       "  600,333.151 601.94,293.718 603.879,259.503 605.819,230.207 607.758,205.44 609.698,184.756 611.637,167.685 613.577,153.761 615.517,142.541 617.456,133.62 \n",
       "  619.396,126.636 621.335,121.283 623.275,117.308 625.214,114.509 627.154,112.741 629.093,111.907 631.033,111.962 632.973,112.912 634.912,114.807 636.852,117.753 \n",
       "  638.791,121.902 640.731,127.46 642.67,134.685 644.61,143.885 646.549,155.418 648.489,169.683 650.429,187.111 652.368,208.152 654.308,233.253 656.247,262.836 \n",
       "  658.187,297.265 660.126,336.814 662.066,381.631 664.005,431.701 665.945,486.814 667.884,546.533 669.824,610.175 671.764,676.805 673.703,745.244 675.643,814.086 \n",
       "  677.582,881.743 679.522,946.499 681.461,1006.58 683.401,1060.22 685.34,1105.79 687.28,1141.83 689.22,1167.14 691.159,1180.88 693.099,1182.57 695.038,1172.16 \n",
       "  696.978,1150.01 698.917,1116.85 700.857,1073.79 702.796,1022.22 704.736,963.737 706.676,900.073 708.615,833.005 710.555,764.273 712.494,695.508 714.434,628.168 \n",
       "  716.373,563.5 718.313,502.508 720.252,445.943 722.192,394.308 724.132,347.872 726.071,306.701 728.011,270.685 729.95,239.578 731.89,213.035 733.829,190.642 \n",
       "  735.769,171.949 737.708,156.499 739.648,143.843 741.588,133.56 743.527,125.262 745.467,118.608 747.406,113.297 749.346,109.076 751.285,105.729 753.225,103.083 \n",
       "  755.164,100.996 757.104,99.3546 759.044,98.0722 760.983,97.0815 762.923,96.3325 764.862,95.7891 766.802,95.4271 768.741,95.2321 770.681,95.201 772.62,95.344 \n",
       "  774.56,95.6923 776.5,96.3109 778.439,97.3185 780.379,98.9128 782.318,101.398 784.258,105.198 786.197,110.847 788.137,118.928 790.076,129.956 792.016,144.196 \n",
       "  793.956,161.467 795.895,180.974 797.835,201.257 799.774,220.302 801.714,235.853 803.653,245.84 805.593,248.839 807.532,244.41 809.472,233.202 811.412,216.796 \n",
       "  813.351,197.335 815.291,177.062 817.23,157.9 819.17,141.182 821.109,127.576 823.049,117.161 824.988,109.608 826.928,104.376 828.868,100.885 830.807,98.6208 \n",
       "  832.747,97.1814 834.686,96.2869 836.626,95.7574 838.565,95.4876 840.505,95.4215 842.444,95.5342 844.384,95.8205 846.323,96.2882 848.263,96.957 850.203,97.8576 \n",
       "  852.142,99.0349 854.082,100.55 856.021,102.484 857.961,104.945 859.9,108.069 861.84,112.029 863.779,117.043 865.719,123.376 867.659,131.347 869.598,141.339 \n",
       "  871.538,153.799 873.477,169.238 875.417,188.232 877.356,211.398 879.296,239.373 881.235,272.757 883.175,312.044 885.115,357.531 887.054,409.221 888.994,466.747 \n",
       "  890.933,529.329 892.873,595.796 894.812,664.677 896.752,734.34 898.691,803.157 900.631,869.648 902.571,932.581 904.51,991.003 906.45,1044.21 908.389,1091.7 \n",
       "  910.329,1133.08 912.268,1168.06 914.208,1196.37 916.147,1217.82 918.087,1232.23 920.027,1239.49 921.966,1239.53 923.906,1232.34 925.845,1217.92 927.785,1196.37 \n",
       "  929.724,1167.82 931.664,1132.56 933.603,1090.96 935.543,1043.58 937.483,991.143 939.422,934.556 941.362,874.878 943.301,813.293 945.241,751.071 947.18,689.512 \n",
       "  949.12,629.899 951.059,573.454 952.999,521.306 954.939,474.473 956.878,433.858 958.818,400.259 960.757,374.375 962.697,356.801 964.636,347.999 966.576,348.234 \n",
       "  968.515,357.483 970.455,375.339 972.395,400.947 974.334,433.01 976.274,469.893 978.213,509.816 980.153,551.1 982.092,592.378 984.032,632.73 985.971,671.665 \n",
       "  987.911,708.982 989.851,744.546 991.79,778.06 993.73,808.92 995.669,836.187 997.609,858.679 999.548,875.149 1001.49,884.494 1003.43,885.932 1005.37,879.107 \n",
       "  1007.31,864.129 1009.25,841.526 1011.19,812.171 1013.13,777.183 1015.06,737.835 1017,695.483 1018.94,651.509 1020.88,607.281 1022.82,564.121 1024.76,523.274 \n",
       "  1026.7,485.886 1028.64,452.971 1030.58,425.4 1032.52,403.879 1034.46,388.94 1036.4,380.939 1038.34,380.049 1040.28,386.268 1042.22,399.416 1044.16,419.145 \n",
       "  1046.1,444.943 1048.04,476.147 1049.98,511.958 1051.92,551.462 1053.86,593.661 1055.8,637.511 1057.73,681.969 1059.67,726.041 1061.61,768.84 1063.55,809.632 \n",
       "  1065.49,847.88 1067.43,883.268 1069.37,915.711 1071.31,945.333 1073.25,972.428 1075.19,997.395 1077.13,1020.66 1079.07,1042.59 1081.01,1063.39 1082.95,1083.09 \n",
       "  1084.89,1101.43 1086.83,1117.91 1088.77,1131.79 1090.71,1142.13 1092.65,1147.94 1094.59,1148.21 1096.53,1142.09 1098.47,1128.95 1100.41,1108.47 1102.34,1080.72 \n",
       "  1104.28,1046.19 1106.22,1005.74 1108.16,960.617 1110.1,912.339 1112.04,862.648 1113.98,813.396 1115.92,766.459 1117.86,723.64 1119.8,686.59 1121.74,656.741 \n",
       "  1123.68,635.241 1125.62,622.9 1127.56,620.142 1129.5,626.945 1131.44,642.803 1133.38,666.697 1135.32,697.114 1137.26,732.122 1139.2,769.504 1141.14,806.952 \n",
       "  1143.08,842.276 1145.01,873.59 1146.95,899.437 1148.89,918.836 1150.83,931.245 1152.77,936.477 1154.71,934.603 1156.65,925.865 1158.59,910.633 1160.53,889.382 \n",
       "  1162.47,862.695 1164.41,831.263 1166.35,795.875 1168.29,757.389 1170.23,716.693 1172.17,674.663 1174.11,632.114 1176.05,589.774 1177.99,548.259 1179.93,508.069 \n",
       "  1181.87,469.588 1183.81,433.095 1185.75,398.787 1187.69,366.794 1189.62,337.206 1191.56,310.096 1193.5,285.547 1195.44,263.678 1197.38,244.663 1199.32,228.736 \n",
       "  1201.26,216.174 1203.2,207.245 1205.14,202.123 1207.08,200.785 1209.02,202.917 1210.96,207.866 1212.9,214.684 1214.84,222.266 1216.78,229.556 1218.72,235.766 \n",
       "  1220.66,240.52 1222.6,243.874 1224.54,246.204 1226.48,248.012 1228.42,249.748 1230.36,251.73 1232.29,254.196 1234.23,257.442 1236.17,261.954 1238.11,268.42 \n",
       "  1240.05,277.585 1241.99,289.957 1243.93,305.496 1245.87,323.413 1247.81,342.192 1249.75,359.873 1251.69,374.505 1253.63,384.628 1255.57,389.619 1257.51,389.788 \n",
       "  1259.45,386.209 1261.39,380.364 1263.33,373.721 1265.27,367.402 1267.21,362 1269.15,357.568 1271.09,353.75 1273.03,349.972 1274.96,345.624 1276.9,340.204 \n",
       "  1278.84,333.394 1280.78,325.086 1282.72,315.365 1284.66,304.48 1286.6,292.796 1288.54,280.765 1290.48,268.892 1292.42,257.713 1294.36,247.775 1296.3,239.625 \n",
       "  1298.24,233.797 1300.18,230.809 1302.12,231.154 1304.06,235.294 1306,243.657 1307.94,256.623 1309.88,274.522 1311.82,297.612 1313.76,326.065 1315.7,359.934 \n",
       "  1317.64,399.123 1319.57,443.341 1321.51,492.061 1323.45,544.486 1325.39,599.536 1327.33,655.866 1329.27,711.924 1331.21,766.046 1333.15,816.562 1335.09,861.91 \n",
       "  1337.03,900.727 1338.97,931.904 1340.91,954.61 1342.85,968.289 1344.79,972.646 1346.73,967.633 1348.67,953.448 1350.61,930.528 1352.55,899.553 1354.49,861.43 \n",
       "  1356.43,817.261 1358.37,768.299 1360.31,715.889 1362.24,661.404 1364.18,606.173 1366.12,551.434 1368.06,498.276 1370,447.614 1371.94,400.168 1373.88,356.455 \n",
       "  1375.82,316.8 1377.76,281.35 1379.7,250.098 1381.64,222.91 1383.58,199.554 1385.52,179.728 1387.46,163.091 1389.4,149.277 1391.34,137.925 1393.28,128.684 \n",
       "  1395.22,121.231 1397.16,115.273 1399.1,110.554 1401.04,106.853 1402.98,103.989 1404.92,101.81 1406.85,100.201 1408.79,99.0706 1410.73,98.3583 1412.67,98.0251 \n",
       "  1414.61,98.0552 1416.55,98.4537 1418.49,99.2468 1420.43,100.481 1422.37,102.225 1424.31,104.569 1426.25,107.623 1428.19,111.522 1430.13,116.421 1432.07,122.493 \n",
       "  1434.01,129.927 1435.95,138.922 1437.89,149.678 1439.83,162.387 1441.77,177.22 1443.71,194.314 1445.65,213.755 1447.59,235.567 1449.52,259.691 1451.46,285.978 \n",
       "  1453.4,314.177 1455.34,343.934 1457.28,374.793 1459.22,406.201 1461.16,437.534 1463.1,468.113 1465.04,497.236 1466.98,524.22 1468.92,548.434 1470.86,569.351 \n",
       "  1472.8,586.589 1474.74,599.954 1476.68,609.469 1478.62,615.381 1480.56,618.138 1482.5,618.309 1484.44,616.473 1486.38,613.055 1488.32,608.182 1490.26,601.578 \n",
       "  1492.2,592.568 1494.13,580.199 1496.07,563.488 1498.01,541.716 1499.95,514.695 1501.89,482.904 1503.83,447.472 1505.77,409.977 1507.71,372.164 1509.65,335.641 \n",
       "  1511.59,301.651 1513.53,270.966 1515.47,243.898 1517.41,220.392 1519.35,200.165 1521.29,182.827 1523.23,167.977 1525.17,155.253 1527.11,144.354 1529.05,135.033 \n",
       "  1530.99,127.091 1532.93,120.357 1534.87,114.682 1536.8,109.93 1538.74,105.979 1540.68,102.715 1542.62,100.033 1544.56,97.8422 1546.5,96.0596 1548.44,94.6143 \n",
       "  1550.38,93.4456 1552.32,92.5023 1554.26,91.7422 1556.2,91.1308 1558.14,90.6409 1560.08,90.251 1562.02,89.9446 1563.96,89.7101 1565.9,89.5393 1567.84,89.4273 \n",
       "  1569.78,89.3725 1571.72,89.3755 1573.66,89.4396 1575.6,89.5701 1577.54,89.7747 1579.48,90.0625 1581.41,90.4445 1583.35,90.9326 1585.29,91.5394 1587.23,92.2777 \n",
       "  1589.17,93.1591 1591.11,94.1939 1593.05,95.3892 1594.99,96.7484 1596.93,98.2697 1598.87,99.9454 1600.81,101.761 1602.75,103.694 1604.69,105.715 1606.63,107.786 \n",
       "  1608.57,109.864 1610.51,111.9 1612.45,113.842 1614.39,115.634 1616.33,117.224 1618.27,118.563 1620.21,119.607 1622.15,120.322 1624.08,120.683 1626.02,120.678 \n",
       "  1627.96,120.308 1629.9,119.584 1631.84,118.532 1633.78,117.186 1635.72,115.59 1637.66,113.792 1639.6,111.848 1641.54,109.81 1643.48,107.732 1645.42,105.662 \n",
       "  1647.36,103.645 1649.3,101.717 1651.24,99.9088 1653.18,98.2424 1655.12,96.7326 1657.06,95.3873 1659,94.2083 1660.94,93.1926 1662.88,92.3334 1664.82,91.621 \n",
       "  1666.75,91.0442 1668.69,90.5913 1670.63,90.2506 1672.57,90.0114 1674.51,89.8647 1676.45,89.8032 1678.39,89.822 1680.33,89.9189 1682.27,90.0945 1684.21,90.3533 \n",
       "  1686.15,90.7036 1688.09,91.16 1690.03,91.7454 1691.97,92.4958 1693.91,93.4668 1695.85,94.7427 1697.79,96.4474 1699.73,98.7537 1701.67,101.887 1703.61,106.118 \n",
       "  1705.55,111.733 1707.49,118.99 1709.43,128.055 1711.36,138.935 1713.3,151.444 1715.24,165.202 1717.18,179.699 1719.12,194.419 1721.06,208.974 1723,223.235 \n",
       "  1724.94,237.397 1726.88,251.949 1728.82,267.577 1730.76,284.997 1732.7,304.792 1734.64,327.283 1736.58,352.463 1738.52,379.992 1740.46,409.252 1742.4,439.423 \n",
       "  1744.34,469.566 1746.28,498.696 1748.22,525.843 1750.16,550.096 1752.1,570.64 1754.03,586.785 1755.97,597.995 1757.91,603.899 1759.85,604.316 1761.79,599.249 \n",
       "  1763.73,588.89 1765.67,573.598 1767.61,553.885 1769.55,530.38 1771.49,503.797 1773.43,474.9 1775.37,444.463 1777.31,413.241 1779.25,381.934 1781.19,351.173 \n",
       "  1783.13,321.493 1785.07,293.332 1787.01,267.021 1788.95,242.79 1790.89,220.773 1792.83,201.022 1794.77,183.512 1796.71,168.164 1798.64,154.853 1800.58,143.424 \n",
       "  1802.52,133.7 1804.46,125.5 1806.4,118.64 1808.34,112.941 1810.28,108.239 1812.22,104.38 1814.16,101.229 1816.1,98.6666 1818.04,96.5885 1819.98,94.9069 \n",
       "  1821.92,93.5474 1823.86,92.4487 1825.8,91.5601 1827.74,90.8405 1829.68,90.257 1831.62,89.783 1833.56,89.398 1835.5,89.0857 1837.44,88.8338 1839.38,88.6329 \n",
       "  1841.31,88.4764 1843.25,88.3598 1845.19,88.2803 1847.13,88.2369 1849.07,88.2302 1851.01,88.262 1852.95,88.3355 1854.89,88.4553 1856.83,88.6269 1858.77,88.8574 \n",
       "  1860.71,89.1543 1862.65,89.5265 1864.59,89.9829 1866.53,90.533 1868.47,91.1861 1870.41,91.9507 1872.35,92.8345 1874.29,93.8437 1876.23,94.9829 1878.17,96.2545 \n",
       "  1880.11,97.6594 1882.05,99.1966 1883.99,100.864 1885.92,102.66 1887.86,104.583 1889.8,106.635 1891.74,108.822 1893.68,111.155 1895.62,113.654 1897.56,116.346 \n",
       "  1899.5,119.27 1901.44,122.471 1903.38,126.008 1905.32,129.942 1907.26,134.343 1909.2,139.279 1911.14,144.819 1913.08,151.021 1915.02,157.936 1916.96,165.6 \n",
       "  1918.9,174.033 1920.84,183.241 1922.78,193.215 1924.72,203.942 1926.66,215.406 1928.59,227.606 1930.53,240.562 1932.47,254.333 1934.41,269.033 1936.35,284.837 \n",
       "  1938.29,301.999 1940.23,320.856 1942.17,341.825 1944.11,365.395 1946.05,392.103 1947.99,422.494 1949.93,457.058 1951.87,496.157 1953.81,539.935 1955.75,588.236 \n",
       "  1957.69,640.542 1959.63,695.966 1961.57,753.293 1963.51,811.083 1965.45,867.817 1967.39,922.045 1969.33,972.509 1971.26,1018.22 1973.2,1058.49 1975.14,1092.87 \n",
       "  1977.08,1121.13 1979.02,1143.19 1980.96,1159.08 1982.9,1168.91 1984.84,1172.89 1986.78,1171.32 1988.72,1164.58 1990.66,1153.19 1992.6,1137.77 1994.54,1119.06 \n",
       "  1996.48,1097.96 1998.42,1075.5 2000.36,1052.85 2002.3,1031.29 2004.24,1012.14 2006.18,996.717 2008.12,986.198 2010.06,981.547 2012,983.397 2013.94,991.968 \n",
       "  2015.87,1007.01 2017.81,1027.77 2019.75,1053.03 2021.69,1081.18 2023.63,1110.28 2025.57,1138.24 2027.51,1162.9 2029.45,1182.23 2031.39,1194.43 2033.33,1198.04 \n",
       "  2035.27,1192.05 2037.21,1175.9 2039.15,1149.55 2041.09,1113.39 2043.03,1068.27 2044.97,1015.36 2046.91,956.103 2048.85,892.121 2050.79,825.101 2052.73,756.729 \n",
       "  2054.67,688.607 2056.61,622.203 2058.54,558.814 2060.48,499.546 2062.42,445.304 2064.36,396.783 2066.3,354.454 2068.24,318.533 2070.18,288.936 2072.12,265.245 \n",
       "  2074.06,246.694 2076,232.208 2077.94,220.513 2079.88,210.302 2081.82,200.43 2083.76,190.094 2085.7,178.933 2087.64,167.027 2089.58,154.803 2091.52,142.864 \n",
       "  2093.46,131.819 2095.4,122.133 2097.34,114.058 2099.28,107.627 2101.22,102.698 2103.15,99.0282 2105.09,96.3412 2107.03,94.3782 2108.97,92.926 2110.91,91.8251 \n",
       "  2112.85,90.9649 2114.79,90.2725 2116.73,89.7016 2118.67,89.2229 2120.61,88.8171 2122.55,88.4711 2124.49,88.175 2126.43,87.921 2128.37,87.7026 2130.31,87.5146 \n",
       "  2132.25,87.3522 2134.19,87.2118 2136.13,87.09 2138.07,86.9843 2140.01,86.8922 2141.95,86.8119 2143.89,86.7418 2145.82,86.6805 2147.76,86.627 2149.7,86.5801 \n",
       "  2151.64,86.5392 2153.58,86.5034 2155.52,86.4722 2157.46,86.445 2159.4,86.4213 2161.34,86.4007 2163.28,86.3829 2165.22,86.3676 2167.16,86.3546 2169.1,86.3435 \n",
       "  2171.04,86.3343 2172.98,86.3269 2174.92,86.3211 2176.86,86.3169 2178.8,86.3143 2180.74,86.3132 2182.68,86.3138 2184.62,86.3161 2186.56,86.3203 2188.5,86.3263 \n",
       "  2190.43,86.3345 2192.37,86.3451 2194.31,86.3582 2196.25,86.3742 2198.19,86.3933 2200.13,86.416 2202.07,86.4428 2204.01,86.474 2205.95,86.5103 2207.89,86.5525 \n",
       "  2209.83,86.6013 2211.77,86.658 2213.71,86.7238 2215.65,86.8004 2217.59,86.8902 2219.53,86.996 2221.47,87.1214 2223.41,87.2713 2225.35,87.452 2227.29,87.6714 \n",
       "  2229.23,87.9395 2231.17,88.2688 2233.1,88.675 2235.04,89.1769 2236.98,89.797 2238.92,90.5618 2240.86,91.5021 2242.8,92.6536 2244.74,94.058 2246.68,95.7659 \n",
       "  2248.62,97.8428 2250.56,100.379 2252.5,103.506 2254.44,107.419 2256.38,112.403 2258.32,118.85 2260.26,127.258 2262.2,138.188 2264.14,152.164 2266.08,169.512 \n",
       "  2268.02,190.168 2269.96,213.488 2271.9,238.153 2273.84,262.224 2275.77,283.388 2277.71,299.357 2279.65,308.339 2281.59,309.437 2283.53,302.845 2285.47,289.787 \n",
       "  2287.41,272.216 2289.35,252.369 2291.29,232.322 2293.23,213.666 \n",
       "  \"/>\n",
       "<path clip-path=\"url(#clip170)\" d=\"\n",
       "M1566.55 1377.32 L2282.65 1377.32 L2282.65 1221.8 L1566.55 1221.8  Z\n",
       "  \" fill=\"#ffffff\" fill-rule=\"evenodd\" fill-opacity=\"1\"/>\n",
       "<polyline clip-path=\"url(#clip170)\" style=\"stroke:#000000; stroke-linecap:butt; stroke-linejoin:round; stroke-width:4; stroke-opacity:1; fill:none\" points=\"\n",
       "  1566.55,1377.32 2282.65,1377.32 2282.65,1221.8 1566.55,1221.8 1566.55,1377.32 \n",
       "  \"/>\n",
       "<polyline clip-path=\"url(#clip170)\" style=\"stroke:#009af9; stroke-linecap:butt; stroke-linejoin:round; stroke-width:4; stroke-opacity:1; fill:none\" points=\"\n",
       "  1589.92,1273.64 1730.14,1273.64 \n",
       "  \"/>\n",
       "<path clip-path=\"url(#clip170)\" d=\"M1769.89 1274.71 Q1771.4 1275.22 1772.81 1276.89 Q1774.25 1278.55 1775.68 1281.47 L1780.43 1290.92 L1775.4 1290.92 L1770.98 1282.05 Q1769.27 1278.58 1767.65 1277.44 Q1766.05 1276.31 1763.27 1276.31 L1758.18 1276.31 L1758.18 1290.92 L1753.51 1290.92 L1753.51 1256.36 L1764.06 1256.36 Q1769.99 1256.36 1772.9 1258.83 Q1775.82 1261.31 1775.82 1266.31 Q1775.82 1269.57 1774.29 1271.73 Q1772.79 1273.88 1769.89 1274.71 M1758.18 1260.2 L1758.18 1272.47 L1764.06 1272.47 Q1767.44 1272.47 1769.15 1270.92 Q1770.89 1269.34 1770.89 1266.31 Q1770.89 1263.28 1769.15 1261.75 Q1767.44 1260.2 1764.06 1260.2 L1758.18 1260.2 Z\" fill=\"#000000\" fill-rule=\"evenodd\" fill-opacity=\"1\" /><path clip-path=\"url(#clip170)\" d=\"M1797 1277.88 Q1791.84 1277.88 1789.85 1279.06 Q1787.86 1280.24 1787.86 1283.09 Q1787.86 1285.36 1789.34 1286.7 Q1790.84 1288.02 1793.41 1288.02 Q1796.95 1288.02 1799.08 1285.52 Q1801.24 1283 1801.24 1278.83 L1801.24 1277.88 L1797 1277.88 M1805.5 1276.12 L1805.5 1290.92 L1801.24 1290.92 L1801.24 1286.98 Q1799.78 1289.34 1797.6 1290.48 Q1795.43 1291.59 1792.28 1291.59 Q1788.3 1291.59 1785.94 1289.36 Q1783.6 1287.12 1783.6 1283.37 Q1783.6 1278.99 1786.51 1276.77 Q1789.45 1274.55 1795.26 1274.55 L1801.24 1274.55 L1801.24 1274.13 Q1801.24 1271.19 1799.29 1269.6 Q1797.37 1267.98 1793.88 1267.98 Q1791.65 1267.98 1789.55 1268.51 Q1787.44 1269.04 1785.5 1270.11 L1785.5 1266.17 Q1787.83 1265.27 1790.03 1264.83 Q1792.23 1264.36 1794.32 1264.36 Q1799.94 1264.36 1802.72 1267.28 Q1805.5 1270.2 1805.5 1276.12 Z\" fill=\"#000000\" fill-rule=\"evenodd\" fill-opacity=\"1\" /><path clip-path=\"url(#clip170)\" d=\"M1811.79 1264.99 L1816.05 1264.99 L1821.38 1285.22 L1826.68 1264.99 L1831.7 1264.99 L1837.02 1285.22 L1842.32 1264.99 L1846.58 1264.99 L1839.8 1290.92 L1834.78 1290.92 L1829.2 1269.67 L1823.6 1290.92 L1818.57 1290.92 L1811.79 1264.99 Z\" fill=\"#000000\" fill-rule=\"evenodd\" fill-opacity=\"1\" /><path clip-path=\"url(#clip170)\" d=\"M1884.64 1265.75 L1884.64 1269.78 Q1882.83 1268.86 1880.89 1268.39 Q1878.95 1267.93 1876.86 1267.93 Q1873.69 1267.93 1872.09 1268.9 Q1870.52 1269.87 1870.52 1271.82 Q1870.52 1273.3 1871.65 1274.16 Q1872.79 1274.99 1876.21 1275.75 L1877.67 1276.08 Q1882.21 1277.05 1884.11 1278.83 Q1886.03 1280.59 1886.03 1283.76 Q1886.03 1287.37 1883.16 1289.48 Q1880.31 1291.59 1875.31 1291.59 Q1873.23 1291.59 1870.96 1291.17 Q1868.71 1290.78 1866.21 1289.97 L1866.21 1285.57 Q1868.57 1286.79 1870.87 1287.42 Q1873.16 1288.02 1875.4 1288.02 Q1878.41 1288.02 1880.03 1287 Q1881.65 1285.96 1881.65 1284.09 Q1881.65 1282.35 1880.47 1281.42 Q1879.32 1280.5 1875.36 1279.64 L1873.88 1279.3 Q1869.92 1278.46 1868.16 1276.75 Q1866.4 1275.01 1866.4 1272 Q1866.4 1268.35 1868.99 1266.36 Q1871.58 1264.36 1876.35 1264.36 Q1878.71 1264.36 1880.8 1264.71 Q1882.88 1265.06 1884.64 1265.75 Z\" fill=\"#000000\" fill-rule=\"evenodd\" fill-opacity=\"1\" /><path clip-path=\"url(#clip170)\" d=\"M1896.93 1287.03 L1896.93 1300.78 L1892.65 1300.78 L1892.65 1264.99 L1896.93 1264.99 L1896.93 1268.92 Q1898.27 1266.61 1900.31 1265.5 Q1902.37 1264.36 1905.22 1264.36 Q1909.94 1264.36 1912.88 1268.11 Q1915.84 1271.86 1915.84 1277.98 Q1915.84 1284.09 1912.88 1287.84 Q1909.94 1291.59 1905.22 1291.59 Q1902.37 1291.59 1900.31 1290.48 Q1898.27 1289.34 1896.93 1287.03 M1911.42 1277.98 Q1911.42 1273.28 1909.48 1270.61 Q1907.56 1267.93 1904.18 1267.93 Q1900.8 1267.93 1898.85 1270.61 Q1896.93 1273.28 1896.93 1277.98 Q1896.93 1282.67 1898.85 1285.36 Q1900.8 1288.02 1904.18 1288.02 Q1907.56 1288.02 1909.48 1285.36 Q1911.42 1282.67 1911.42 1277.98 Z\" fill=\"#000000\" fill-rule=\"evenodd\" fill-opacity=\"1\" /><path clip-path=\"url(#clip170)\" d=\"M1945.08 1276.89 L1945.08 1278.97 L1925.5 1278.97 Q1925.77 1283.37 1928.13 1285.68 Q1930.52 1287.98 1934.75 1287.98 Q1937.21 1287.98 1939.5 1287.37 Q1941.82 1286.77 1944.08 1285.57 L1944.08 1289.6 Q1941.79 1290.57 1939.38 1291.08 Q1936.98 1291.59 1934.5 1291.59 Q1928.3 1291.59 1924.66 1287.98 Q1921.05 1284.36 1921.05 1278.21 Q1921.05 1271.84 1924.48 1268.11 Q1927.93 1264.36 1933.76 1264.36 Q1938.99 1264.36 1942.02 1267.74 Q1945.08 1271.1 1945.08 1276.89 M1940.82 1275.64 Q1940.77 1272.14 1938.85 1270.06 Q1936.95 1267.98 1933.81 1267.98 Q1930.24 1267.98 1928.09 1269.99 Q1925.96 1272 1925.63 1275.66 L1940.82 1275.64 Z\" fill=\"#000000\" fill-rule=\"evenodd\" fill-opacity=\"1\" /><path clip-path=\"url(#clip170)\" d=\"M1970.73 1265.98 L1970.73 1269.97 Q1968.92 1268.97 1967.09 1268.48 Q1965.29 1267.98 1963.44 1267.98 Q1959.29 1267.98 1957 1270.61 Q1954.71 1273.23 1954.71 1277.98 Q1954.71 1282.72 1957 1285.36 Q1959.29 1287.98 1963.44 1287.98 Q1965.29 1287.98 1967.09 1287.49 Q1968.92 1286.98 1970.73 1285.98 L1970.73 1289.92 Q1968.94 1290.75 1967.02 1291.17 Q1965.13 1291.59 1962.97 1291.59 Q1957.12 1291.59 1953.67 1287.91 Q1950.22 1284.23 1950.22 1277.98 Q1950.22 1271.63 1953.69 1268 Q1957.19 1264.36 1963.25 1264.36 Q1965.22 1264.36 1967.09 1264.78 Q1968.97 1265.17 1970.73 1265.98 Z\" fill=\"#000000\" fill-rule=\"evenodd\" fill-opacity=\"1\" /><path clip-path=\"url(#clip170)\" d=\"M1982.35 1257.63 L1982.35 1264.99 L1991.12 1264.99 L1991.12 1268.3 L1982.35 1268.3 L1982.35 1282.37 Q1982.35 1285.54 1983.2 1286.45 Q1984.08 1287.35 1986.75 1287.35 L1991.12 1287.35 L1991.12 1290.92 L1986.75 1290.92 Q1981.81 1290.92 1979.94 1289.09 Q1978.06 1287.23 1978.06 1282.37 L1978.06 1268.3 L1974.94 1268.3 L1974.94 1264.99 L1978.06 1264.99 L1978.06 1257.63 L1982.35 1257.63 Z\" fill=\"#000000\" fill-rule=\"evenodd\" fill-opacity=\"1\" /><path clip-path=\"url(#clip170)\" d=\"M2011.75 1268.97 Q2011.03 1268.55 2010.17 1268.37 Q2009.34 1268.16 2008.32 1268.16 Q2004.71 1268.16 2002.76 1270.52 Q2000.84 1272.86 2000.84 1277.26 L2000.84 1290.92 L1996.56 1290.92 L1996.56 1264.99 L2000.84 1264.99 L2000.84 1269.02 Q2002.19 1266.66 2004.34 1265.52 Q2006.49 1264.36 2009.57 1264.36 Q2010.01 1264.36 2010.54 1264.43 Q2011.07 1264.48 2011.72 1264.6 L2011.75 1268.97 Z\" fill=\"#000000\" fill-rule=\"evenodd\" fill-opacity=\"1\" /><path clip-path=\"url(#clip170)\" d=\"M2015.77 1280.68 L2015.77 1264.99 L2020.03 1264.99 L2020.03 1280.52 Q2020.03 1284.2 2021.47 1286.05 Q2022.9 1287.88 2025.77 1287.88 Q2029.22 1287.88 2031.21 1285.68 Q2033.23 1283.48 2033.23 1279.69 L2033.23 1264.99 L2037.49 1264.99 L2037.49 1290.92 L2033.23 1290.92 L2033.23 1286.93 Q2031.68 1289.29 2029.62 1290.45 Q2027.58 1291.59 2024.87 1291.59 Q2020.4 1291.59 2018.09 1288.81 Q2015.77 1286.03 2015.77 1280.68 M2026.49 1264.36 L2026.49 1264.36 Z\" fill=\"#000000\" fill-rule=\"evenodd\" fill-opacity=\"1\" /><path clip-path=\"url(#clip170)\" d=\"M2066.44 1269.97 Q2068.04 1267.1 2070.26 1265.73 Q2072.49 1264.36 2075.49 1264.36 Q2079.55 1264.36 2081.74 1267.21 Q2083.94 1270.04 2083.94 1275.27 L2083.94 1290.92 L2079.66 1290.92 L2079.66 1275.41 Q2079.66 1271.68 2078.34 1269.87 Q2077.02 1268.07 2074.31 1268.07 Q2071 1268.07 2069.08 1270.27 Q2067.16 1272.47 2067.16 1276.26 L2067.16 1290.92 L2062.88 1290.92 L2062.88 1275.41 Q2062.88 1271.66 2061.56 1269.87 Q2060.24 1268.07 2057.49 1268.07 Q2054.22 1268.07 2052.3 1270.29 Q2050.38 1272.49 2050.38 1276.26 L2050.38 1290.92 L2046.1 1290.92 L2046.1 1264.99 L2050.38 1264.99 L2050.38 1269.02 Q2051.84 1266.63 2053.87 1265.5 Q2055.91 1264.36 2058.71 1264.36 Q2061.54 1264.36 2063.5 1265.8 Q2065.49 1267.23 2066.44 1269.97 Z\" fill=\"#000000\" fill-rule=\"evenodd\" fill-opacity=\"1\" /><polyline clip-path=\"url(#clip170)\" style=\"stroke:#e26f46; stroke-linecap:butt; stroke-linejoin:round; stroke-width:4; stroke-opacity:1; fill:none\" points=\"\n",
       "  1589.92,1325.48 1730.14,1325.48 \n",
       "  \"/>\n",
       "<path clip-path=\"url(#clip170)\" d=\"M1781.38 1310.86 L1781.38 1315.79 Q1779.01 1313.59 1776.33 1312.5 Q1773.67 1311.41 1770.66 1311.41 Q1764.73 1311.41 1761.58 1315.05 Q1758.44 1318.66 1758.44 1325.51 Q1758.44 1332.34 1761.58 1335.97 Q1764.73 1339.58 1770.66 1339.58 Q1773.67 1339.58 1776.33 1338.5 Q1779.01 1337.41 1781.38 1335.21 L1781.38 1340.09 Q1778.92 1341.76 1776.17 1342.59 Q1773.44 1343.43 1770.38 1343.43 Q1762.53 1343.43 1758.02 1338.63 Q1753.51 1333.82 1753.51 1325.51 Q1753.51 1317.18 1758.02 1312.39 Q1762.53 1307.57 1770.38 1307.57 Q1773.48 1307.57 1776.21 1308.4 Q1778.97 1309.21 1781.38 1310.86 Z\" fill=\"#000000\" fill-rule=\"evenodd\" fill-opacity=\"1\" /><path clip-path=\"url(#clip170)\" d=\"M1798.46 1319.82 Q1795.03 1319.82 1793.04 1322.5 Q1791.05 1325.16 1791.05 1329.82 Q1791.05 1334.47 1793.02 1337.15 Q1795.01 1339.82 1798.46 1339.82 Q1801.86 1339.82 1803.85 1337.13 Q1805.84 1334.45 1805.84 1329.82 Q1805.84 1325.21 1803.85 1322.52 Q1801.86 1319.82 1798.46 1319.82 M1798.46 1316.2 Q1804.01 1316.2 1807.19 1319.82 Q1810.36 1323.43 1810.36 1329.82 Q1810.36 1336.18 1807.19 1339.82 Q1804.01 1343.43 1798.46 1343.43 Q1792.88 1343.43 1789.71 1339.82 Q1786.56 1336.18 1786.56 1329.82 Q1786.56 1323.43 1789.71 1319.82 Q1792.88 1316.2 1798.46 1316.2 Z\" fill=\"#000000\" fill-rule=\"evenodd\" fill-opacity=\"1\" /><path clip-path=\"url(#clip170)\" d=\"M1838.97 1327.11 L1838.97 1342.76 L1834.71 1342.76 L1834.71 1327.25 Q1834.71 1323.57 1833.27 1321.74 Q1831.84 1319.91 1828.97 1319.91 Q1825.52 1319.91 1823.53 1322.11 Q1821.54 1324.31 1821.54 1328.1 L1821.54 1342.76 L1817.26 1342.76 L1817.26 1316.83 L1821.54 1316.83 L1821.54 1320.86 Q1823.07 1318.52 1825.13 1317.36 Q1827.21 1316.2 1829.92 1316.2 Q1834.39 1316.2 1836.68 1318.98 Q1838.97 1321.74 1838.97 1327.11 Z\" fill=\"#000000\" fill-rule=\"evenodd\" fill-opacity=\"1\" /><path clip-path=\"url(#clip170)\" d=\"M1844.41 1316.83 L1848.92 1316.83 L1857.02 1338.59 L1865.13 1316.83 L1869.64 1316.83 L1859.92 1342.76 L1854.13 1342.76 L1844.41 1316.83 Z\" fill=\"#000000\" fill-rule=\"evenodd\" fill-opacity=\"1\" /><path clip-path=\"url(#clip170)\" d=\"M1885.57 1319.82 Q1882.14 1319.82 1880.15 1322.5 Q1878.16 1325.16 1878.16 1329.82 Q1878.16 1334.47 1880.13 1337.15 Q1882.12 1339.82 1885.57 1339.82 Q1888.97 1339.82 1890.96 1337.13 Q1892.95 1334.45 1892.95 1329.82 Q1892.95 1325.21 1890.96 1322.52 Q1888.97 1319.82 1885.57 1319.82 M1885.57 1316.2 Q1891.12 1316.2 1894.29 1319.82 Q1897.46 1323.43 1897.46 1329.82 Q1897.46 1336.18 1894.29 1339.82 Q1891.12 1343.43 1885.57 1343.43 Q1879.99 1343.43 1876.82 1339.82 Q1873.67 1336.18 1873.67 1329.82 Q1873.67 1323.43 1876.82 1319.82 Q1879.99 1316.2 1885.57 1316.2 Z\" fill=\"#000000\" fill-rule=\"evenodd\" fill-opacity=\"1\" /><path clip-path=\"url(#clip170)\" d=\"M1904.52 1306.74 L1908.78 1306.74 L1908.78 1342.76 L1904.52 1342.76 L1904.52 1306.74 Z\" fill=\"#000000\" fill-rule=\"evenodd\" fill-opacity=\"1\" /><path clip-path=\"url(#clip170)\" d=\"M1914.64 1316.83 L1919.15 1316.83 L1927.25 1338.59 L1935.36 1316.83 L1939.87 1316.83 L1930.15 1342.76 L1924.36 1342.76 L1914.64 1316.83 Z\" fill=\"#000000\" fill-rule=\"evenodd\" fill-opacity=\"1\" /><path clip-path=\"url(#clip170)\" d=\"M1967.93 1328.73 L1967.93 1330.81 L1948.34 1330.81 Q1948.62 1335.21 1950.98 1337.52 Q1953.37 1339.82 1957.6 1339.82 Q1960.06 1339.82 1962.35 1339.21 Q1964.66 1338.61 1966.93 1337.41 L1966.93 1341.44 Q1964.64 1342.41 1962.23 1342.92 Q1959.82 1343.43 1957.35 1343.43 Q1951.14 1343.43 1947.51 1339.82 Q1943.9 1336.2 1943.9 1330.05 Q1943.9 1323.68 1947.32 1319.95 Q1950.77 1316.2 1956.61 1316.2 Q1961.84 1316.2 1964.87 1319.58 Q1967.93 1322.94 1967.93 1328.73 M1963.67 1327.48 Q1963.62 1323.98 1961.7 1321.9 Q1959.8 1319.82 1956.65 1319.82 Q1953.09 1319.82 1950.94 1321.83 Q1948.81 1323.84 1948.48 1327.5 L1963.67 1327.48 Z\" fill=\"#000000\" fill-rule=\"evenodd\" fill-opacity=\"1\" /><path clip-path=\"url(#clip170)\" d=\"M1991.98 1320.76 L1991.98 1306.74 L1996.24 1306.74 L1996.24 1342.76 L1991.98 1342.76 L1991.98 1338.87 Q1990.63 1341.18 1988.57 1342.32 Q1986.54 1343.43 1983.67 1343.43 Q1978.97 1343.43 1976 1339.68 Q1973.06 1335.93 1973.06 1329.82 Q1973.06 1323.7 1976 1319.95 Q1978.97 1316.2 1983.67 1316.2 Q1986.54 1316.2 1988.57 1317.34 Q1990.63 1318.45 1991.98 1320.76 M1977.46 1329.82 Q1977.46 1334.51 1979.38 1337.2 Q1981.33 1339.86 1984.71 1339.86 Q1988.09 1339.86 1990.03 1337.2 Q1991.98 1334.51 1991.98 1329.82 Q1991.98 1325.12 1990.03 1322.45 Q1988.09 1319.77 1984.71 1319.77 Q1981.33 1319.77 1979.38 1322.45 Q1977.46 1325.12 1977.46 1329.82 Z\" fill=\"#000000\" fill-rule=\"evenodd\" fill-opacity=\"1\" /><path clip-path=\"url(#clip170)\" d=\"M2036.61 1317.59 L2036.61 1321.62 Q2034.8 1320.7 2032.86 1320.23 Q2030.91 1319.77 2028.83 1319.77 Q2025.66 1319.77 2024.06 1320.74 Q2022.49 1321.71 2022.49 1323.66 Q2022.49 1325.14 2023.62 1326 Q2024.75 1326.83 2028.18 1327.59 L2029.64 1327.92 Q2034.18 1328.89 2036.07 1330.67 Q2038 1332.43 2038 1335.6 Q2038 1339.21 2035.12 1341.32 Q2032.28 1343.43 2027.28 1343.43 Q2025.19 1343.43 2022.93 1343.01 Q2020.68 1342.62 2018.18 1341.81 L2018.18 1337.41 Q2020.54 1338.63 2022.83 1339.26 Q2025.12 1339.86 2027.37 1339.86 Q2030.38 1339.86 2032 1338.84 Q2033.62 1337.8 2033.62 1335.93 Q2033.62 1334.19 2032.44 1333.26 Q2031.28 1332.34 2027.32 1331.48 L2025.84 1331.14 Q2021.88 1330.3 2020.12 1328.59 Q2018.37 1326.85 2018.37 1323.84 Q2018.37 1320.19 2020.96 1318.2 Q2023.55 1316.2 2028.32 1316.2 Q2030.68 1316.2 2032.76 1316.55 Q2034.85 1316.9 2036.61 1317.59 Z\" fill=\"#000000\" fill-rule=\"evenodd\" fill-opacity=\"1\" /><path clip-path=\"url(#clip170)\" d=\"M2048.9 1338.87 L2048.9 1352.62 L2044.62 1352.62 L2044.62 1316.83 L2048.9 1316.83 L2048.9 1320.76 Q2050.24 1318.45 2052.28 1317.34 Q2054.34 1316.2 2057.18 1316.2 Q2061.91 1316.2 2064.85 1319.95 Q2067.81 1323.7 2067.81 1329.82 Q2067.81 1335.93 2064.85 1339.68 Q2061.91 1343.43 2057.18 1343.43 Q2054.34 1343.43 2052.28 1342.32 Q2050.24 1341.18 2048.9 1338.87 M2063.39 1329.82 Q2063.39 1325.12 2061.44 1322.45 Q2059.52 1319.77 2056.14 1319.77 Q2052.76 1319.77 2050.82 1322.45 Q2048.9 1325.12 2048.9 1329.82 Q2048.9 1334.51 2050.82 1337.2 Q2052.76 1339.86 2056.14 1339.86 Q2059.52 1339.86 2061.44 1337.2 Q2063.39 1334.51 2063.39 1329.82 Z\" fill=\"#000000\" fill-rule=\"evenodd\" fill-opacity=\"1\" /><path clip-path=\"url(#clip170)\" d=\"M2097.05 1328.73 L2097.05 1330.81 L2077.46 1330.81 Q2077.74 1335.21 2080.1 1337.52 Q2082.49 1339.82 2086.72 1339.82 Q2089.18 1339.82 2091.47 1339.21 Q2093.78 1338.61 2096.05 1337.41 L2096.05 1341.44 Q2093.76 1342.41 2091.35 1342.92 Q2088.94 1343.43 2086.47 1343.43 Q2080.26 1343.43 2076.63 1339.82 Q2073.02 1336.2 2073.02 1330.05 Q2073.02 1323.68 2076.44 1319.95 Q2079.89 1316.2 2085.73 1316.2 Q2090.96 1316.2 2093.99 1319.58 Q2097.05 1322.94 2097.05 1328.73 M2092.79 1327.48 Q2092.74 1323.98 2090.82 1321.9 Q2088.92 1319.82 2085.77 1319.82 Q2082.21 1319.82 2080.06 1321.83 Q2077.93 1323.84 2077.6 1327.5 L2092.79 1327.48 Z\" fill=\"#000000\" fill-rule=\"evenodd\" fill-opacity=\"1\" /><path clip-path=\"url(#clip170)\" d=\"M2122.69 1317.82 L2122.69 1321.81 Q2120.89 1320.81 2119.06 1320.32 Q2117.25 1319.82 2115.4 1319.82 Q2111.26 1319.82 2108.97 1322.45 Q2106.68 1325.07 2106.68 1329.82 Q2106.68 1334.56 2108.97 1337.2 Q2111.26 1339.82 2115.4 1339.82 Q2117.25 1339.82 2119.06 1339.33 Q2120.89 1338.82 2122.69 1337.82 L2122.69 1341.76 Q2120.91 1342.59 2118.99 1343.01 Q2117.09 1343.43 2114.94 1343.43 Q2109.08 1343.43 2105.63 1339.75 Q2102.18 1336.07 2102.18 1329.82 Q2102.18 1323.47 2105.66 1319.84 Q2109.15 1316.2 2115.22 1316.2 Q2117.18 1316.2 2119.06 1316.62 Q2120.93 1317.01 2122.69 1317.82 Z\" fill=\"#000000\" fill-rule=\"evenodd\" fill-opacity=\"1\" /><path clip-path=\"url(#clip170)\" d=\"M2134.31 1309.47 L2134.31 1316.83 L2143.09 1316.83 L2143.09 1320.14 L2134.31 1320.14 L2134.31 1334.21 Q2134.31 1337.38 2135.17 1338.29 Q2136.05 1339.19 2138.71 1339.19 L2143.09 1339.19 L2143.09 1342.76 L2138.71 1342.76 Q2133.78 1342.76 2131.91 1340.93 Q2130.03 1339.07 2130.03 1334.21 L2130.03 1320.14 L2126.91 1320.14 L2126.91 1316.83 L2130.03 1316.83 L2130.03 1309.47 L2134.31 1309.47 Z\" fill=\"#000000\" fill-rule=\"evenodd\" fill-opacity=\"1\" /><path clip-path=\"url(#clip170)\" d=\"M2163.71 1320.81 Q2162.99 1320.39 2162.14 1320.21 Q2161.3 1320 2160.29 1320 Q2156.68 1320 2154.73 1322.36 Q2152.81 1324.7 2152.81 1329.1 L2152.81 1342.76 L2148.53 1342.76 L2148.53 1316.83 L2152.81 1316.83 L2152.81 1320.86 Q2154.15 1318.5 2156.3 1317.36 Q2158.46 1316.2 2161.54 1316.2 Q2161.98 1316.2 2162.51 1316.27 Q2163.04 1316.32 2163.69 1316.44 L2163.71 1320.81 Z\" fill=\"#000000\" fill-rule=\"evenodd\" fill-opacity=\"1\" /><path clip-path=\"url(#clip170)\" d=\"M2167.74 1332.52 L2167.74 1316.83 L2172 1316.83 L2172 1332.36 Q2172 1336.04 2173.43 1337.89 Q2174.87 1339.72 2177.74 1339.72 Q2181.19 1339.72 2183.18 1337.52 Q2185.19 1335.32 2185.19 1331.53 L2185.19 1316.83 L2189.45 1316.83 L2189.45 1342.76 L2185.19 1342.76 L2185.19 1338.77 Q2183.64 1341.13 2181.58 1342.29 Q2179.55 1343.43 2176.84 1343.43 Q2172.37 1343.43 2170.05 1340.65 Q2167.74 1337.87 2167.74 1332.52 M2178.46 1316.2 L2178.46 1316.2 Z\" fill=\"#000000\" fill-rule=\"evenodd\" fill-opacity=\"1\" /><path clip-path=\"url(#clip170)\" d=\"M2218.41 1321.81 Q2220.01 1318.94 2222.23 1317.57 Q2224.45 1316.2 2227.46 1316.2 Q2231.51 1316.2 2233.71 1319.05 Q2235.91 1321.88 2235.91 1327.11 L2235.91 1342.76 L2231.63 1342.76 L2231.63 1327.25 Q2231.63 1323.52 2230.31 1321.71 Q2228.99 1319.91 2226.28 1319.91 Q2222.97 1319.91 2221.05 1322.11 Q2219.13 1324.31 2219.13 1328.1 L2219.13 1342.76 L2214.85 1342.76 L2214.85 1327.25 Q2214.85 1323.5 2213.53 1321.71 Q2212.21 1319.91 2209.45 1319.91 Q2206.19 1319.91 2204.27 1322.13 Q2202.35 1324.33 2202.35 1328.1 L2202.35 1342.76 L2198.06 1342.76 L2198.06 1316.83 L2202.35 1316.83 L2202.35 1320.86 Q2203.8 1318.47 2205.84 1317.34 Q2207.88 1316.2 2210.68 1316.2 Q2213.5 1316.2 2215.47 1317.64 Q2217.46 1319.07 2218.41 1321.81 Z\" fill=\"#000000\" fill-rule=\"evenodd\" fill-opacity=\"1\" /></svg>\n"
      ]
     },
     "execution_count": 19,
     "metadata": {},
     "output_type": "execute_result"
    }
   ],
   "source": [
    "idx_plot = 1:min(1024,length(lambdas))\n",
    "plot(lambdas[idx_plot],raw_spectrum.(lambdas[idx_plot]),xlabel=\"λ\", ylabel=\"Flux\", label=\"Raw spectrum\", legend=:bottomright)\n",
    "plot!(lambdas[idx_plot],result_ref[idx_plot], label=\"Convolved spectrum\")"
   ]
  },
  {
   "cell_type": "markdown",
   "metadata": {},
   "source": [
    "### Benchmarking serial code\n",
    "\n",
    "First, let's benchmark the calculation of this spectrum on a single processor.  To keep things speedy, we'll time each method just a few times, rather than using `@btime`."
   ]
  },
  {
   "cell_type": "code",
   "execution_count": 20,
   "metadata": {},
   "outputs": [
    {
     "data": {
      "text/plain": [
       "2"
      ]
     },
     "execution_count": 20,
     "metadata": {},
     "output_type": "execute_result"
    }
   ],
   "source": [
    "num_runs = 2"
   ]
  },
  {
   "cell_type": "code",
   "execution_count": 21,
   "metadata": {},
   "outputs": [
    {
     "name": "stdout",
     "output_type": "stream",
     "text": [
      "  4.779337 seconds (8.49 M allocations: 1001.371 MiB, 3.04% gc time, 27.16% compilation time)\n",
      "  3.462398 seconds (5.78 M allocations: 847.666 MiB, 2.41% gc time)\n"
     ]
    }
   ],
   "source": [
    "for i in 1:num_runs @time conv_spectrum(lambdas); end"
   ]
  },
  {
   "cell_type": "markdown",
   "metadata": {},
   "source": [
    "Thinking back to [exercise 1](https://psuastro528.github.io/lab6-start/ex1.html), you may remember that we improved the performance by reducing memory allocations.  There were a few ways to do that, and we'll repeat just a few of them here for reference."
   ]
  },
  {
   "cell_type": "code",
   "execution_count": 22,
   "metadata": {},
   "outputs": [
    {
     "data": {
      "text/plain": [
       "compute_using_for_loop (generic function with 1 method)"
      ]
     },
     "execution_count": 22,
     "metadata": {},
     "output_type": "execute_result"
    }
   ],
   "source": [
    "function compute_using_for_loop(x::AbstractArray, spectrum::T) where T<:AbstractSpectrum\n",
    "    out = zeros(length(x))\n",
    "    for i in 1:length(x)\n",
    "        out[i] = conv_spectrum(x[i])\n",
    "    end\n",
    "    return out\n",
    "end"
   ]
  },
  {
   "cell_type": "code",
   "execution_count": 23,
   "metadata": {},
   "outputs": [
    {
     "name": "stdout",
     "output_type": "stream",
     "text": [
      "  1.754406 seconds (4.59 M allocations: 331.284 MiB, 3.51% gc time, 1.40% compilation time)\n",
      "  1.731324 seconds (4.57 M allocations: 330.264 MiB, 2.89% gc time)\n"
     ]
    }
   ],
   "source": [
    "for i in 1:num_runs @time compute_using_for_loop(lambdas,conv_spectrum) end"
   ]
  },
  {
   "cell_type": "markdown",
   "metadata": {},
   "source": [
    "As before, writing the code as an explicit for loop significantly decreased the number of allocations and improved performance."
   ]
  },
  {
   "cell_type": "markdown",
   "metadata": {},
   "source": [
    "### Broadcasting\n",
    "Thinking about to some previous labs, we made use of Julia's [dot syntax](https://docs.julialang.org/en/v1/manual/functions/#man-vectorized-1) to [\\\"broadcast\\\" and \\\"fuse\\\"](https://docs.julialang.org/en/v1/base/arrays/#Broadcast-and-vectorization-1) the array operation.\n",
    "\n",
    "2b.  How do you expect the performance and memory allocations to compare to our for loop above?"
   ]
  },
  {
   "cell_type": "code",
   "execution_count": 24,
   "metadata": {},
   "outputs": [
    {
     "data": {
      "text/plain": [
       "missing"
      ]
     },
     "execution_count": 24,
     "metadata": {},
     "output_type": "execute_result"
    }
   ],
   "source": [
    "response_2b = missing # INSERT response as String, e.g. \"The same\" or \"50% faster\"."
   ]
  },
  {
   "cell_type": "code",
   "execution_count": 25,
   "metadata": {},
   "outputs": [
    {
     "name": "stdout",
     "output_type": "stream",
     "text": [
      "  1.730153 seconds (4.56 M allocations: 330.147 MiB, 2.94% gc time)\n",
      "  1.730042 seconds (4.56 M allocations: 330.147 MiB, 2.90% gc time)\n"
     ]
    }
   ],
   "source": [
    "for i in 1:num_runs @time conv_spectrum.(lambdas); end"
   ]
  },
  {
   "cell_type": "markdown",
   "metadata": {},
   "source": [
    "2c.  How did the results compare to your prediction?   If different, what could explain the difference(s)?  "
   ]
  },
  {
   "cell_type": "code",
   "execution_count": 26,
   "metadata": {},
   "outputs": [
    {
     "data": {
      "text/plain": [
       "missing"
      ]
     },
     "execution_count": 26,
     "metadata": {},
     "output_type": "execute_result"
    }
   ],
   "source": [
    "response_2c = missing # INSERT response as String"
   ]
  },
  {
   "cell_type": "markdown",
   "metadata": {},
   "source": [
    "### map\n",
    "Again, thinking back to the last exercise, a very useful and closely related programming pattern is [map](https://docs.julialang.org/en/v1/base/collections/#Base.map) (or [mapreduce](https://docs.julialang.org/en/v1/base/collections/#Base.mapreduce-Tuple{Any,Any,Any})).  `map(func,collection)` applies func to every element of the collection and returns a collection similar in size to collection.  "
   ]
  },
  {
   "cell_type": "code",
   "execution_count": 27,
   "metadata": {},
   "outputs": [
    {
     "name": "stdout",
     "output_type": "stream",
     "text": [
      "  1.812533 seconds (4.60 M allocations: 332.760 MiB, 4.05% gc time, 2.27% compilation time)\n",
      "  1.731754 seconds (4.54 M allocations: 329.897 MiB, 2.90% gc time)\n"
     ]
    }
   ],
   "source": [
    "for i in 1:num_runs @time map(conv_spectrum,lambdas) end"
   ]
  },
  {
   "cell_type": "markdown",
   "metadata": {},
   "source": [
    "The performance of map results should be very similar to the broadcasted and fused version above.  \n",
    "Before we start parallelizing code, let's increase the number of times we'll benchmark each function."
   ]
  },
  {
   "cell_type": "code",
   "execution_count": 28,
   "metadata": {},
   "outputs": [
    {
     "data": {
      "text/plain": [
       "5"
      ]
     },
     "execution_count": 28,
     "metadata": {},
     "output_type": "execute_result"
    }
   ],
   "source": [
    "num_runs = 5"
   ]
  },
  {
   "cell_type": "markdown",
   "metadata": {},
   "source": [
    "Notice that `num_runs` has now been set to two different values at different parts of this notebook.  The value of `num_runs` will depend on which of the cells has been run most recently.\n",
    "Sometimes, it can be convenient to change a variable like this.  But it also makes it very easy to confuse yourself.  E.g., the code that you see in the notebook at any time is no longer guaranteed to be a complete representation of what the computer has computed.  \n",
    "\n",
    "(In previous semesters, when I used Jupyter notebooks, by far the most common problem students encountered was running cells out of order and getting into some unintended state.  So my first suggestion was nearly always \"Restart your kernel and step through the notebook in order.\"  While that's not a big deal for small notebooks, it can quickly become tedious and time consuming.  Pluto solved that problem!  That's why I'm only using Jupyter for a few exercises that wouldn't work well with a Pluto notebook.)"
   ]
  },
  {
   "cell_type": "code",
   "execution_count": null,
   "metadata": {},
   "outputs": [],
   "source": []
  },
  {
   "cell_type": "markdown",
   "metadata": {},
   "source": [
    "### Parallelizing with pmap\n",
    "If you can write your computations in terms of calling `map`, then one easy way to parallelize your code is to replace the call to `map` with a call to `pmap`, a parallel map.\n",
    "If you only have one worker process, then it will still run in serial.  But if you have multiple workers, then `pmap` will parallelize your code.  When parallelizing code, it's always good to double check that your results are consistent with the reference implementation."
   ]
  },
  {
   "cell_type": "code",
   "execution_count": 29,
   "metadata": {},
   "outputs": [
    {
     "data": {
      "text/plain": [
       "\u001b[32m\u001b[1mTest Passed\u001b[22m\u001b[39m"
      ]
     },
     "execution_count": 29,
     "metadata": {},
     "output_type": "execute_result"
    }
   ],
   "source": [
    "using Test\n",
    "@test isapprox(pmap(conv_spectrum,lambdas), result_ref)"
   ]
  },
  {
   "cell_type": "markdown",
   "metadata": {},
   "source": [
    "2d.  How much faster do you expect the code to run using `pmap`?"
   ]
  },
  {
   "cell_type": "raw",
   "metadata": {},
   "source": [
    "response_2d = missing # INSERT responce as string"
   ]
  },
  {
   "cell_type": "code",
   "execution_count": 30,
   "metadata": {},
   "outputs": [
    {
     "name": "stdout",
     "output_type": "stream",
     "text": [
      "  0.539167 seconds (706.89 k allocations: 86.934 MiB, 6.65% gc time)\n",
      "  0.508070 seconds (707.05 k allocations: 86.946 MiB, 2.80% gc time)\n",
      "  0.509087 seconds (706.92 k allocations: 86.941 MiB, 2.24% gc time)\n",
      "  0.509930 seconds (707.02 k allocations: 86.945 MiB, 1.94% gc time)\n",
      "  0.512263 seconds (707.03 k allocations: 86.944 MiB, 4.13% gc time)\n"
     ]
    }
   ],
   "source": [
    "for i in 1:num_runs @time pmap(conv_spectrum,lambdas) end"
   ]
  },
  {
   "cell_type": "code",
   "execution_count": 31,
   "metadata": {},
   "outputs": [
    {
     "name": "stdout",
     "output_type": "stream",
     "text": [
      "  1.599238 seconds (1.41 M allocations: 72.835 MiB, 1.37% gc time, 27.19% compilation time)\n",
      "  0.412470 seconds (495.96 k allocations: 19.380 MiB)\n",
      "  0.437215 seconds (496.15 k allocations: 19.386 MiB)\n",
      "  0.387658 seconds (495.37 k allocations: 19.361 MiB)\n",
      "  0.409433 seconds (495.46 k allocations: 19.365 MiB, 5.13% gc time)\n"
     ]
    }
   ],
   "source": [
    "for i in 1:num_runs @time pmap(x->conv_spectrum.(x),lambdas) end"
   ]
  },
  {
   "cell_type": "markdown",
   "metadata": {},
   "source": [
    "2e.  By what speed-up factor did the wall time decrease for each of the two cases (ignoring the first call affected by compilation)?   How can you explain the difference?"
   ]
  },
  {
   "cell_type": "code",
   "execution_count": 32,
   "metadata": {},
   "outputs": [
    {
     "data": {
      "text/plain": [
       "missing"
      ]
     },
     "execution_count": 32,
     "metadata": {},
     "output_type": "execute_result"
    }
   ],
   "source": [
    "response_2e = missing # INSERT responce as string"
   ]
  },
  {
   "cell_type": "markdown",
   "metadata": {},
   "source": [
    "You were likely disappointed in the speed-up factor.  What could have gone wrong?  In this case, we have a non-trivial, but still modest amount of work to do for each wavelength.  `pmap` distributes the work one element at a time.  The overhead in distributing the work and assembling the pieces likely ate into the potential performance gains.  To improve on this, we can tell `pmap` to distribute the work in batches.  Below, we'll specify a batch_size via an optional named parameter."
   ]
  },
  {
   "cell_type": "code",
   "execution_count": 33,
   "metadata": {},
   "outputs": [
    {
     "name": "stdout",
     "output_type": "stream",
     "text": [
      "  1.561186 seconds (944.44 k allocations: 55.208 MiB, 1.35% gc time, 21.64% compilation time)\n",
      "  0.383491 seconds (51.02 k allocations: 1.835 MiB)\n",
      "  0.375848 seconds (51.12 k allocations: 1.847 MiB)\n",
      "  0.376126 seconds (50.92 k allocations: 1.820 MiB)\n",
      "  0.370411 seconds (50.92 k allocations: 1.820 MiB)\n"
     ]
    }
   ],
   "source": [
    "for i in 1:num_runs @time pmap(conv_spectrum,lambdas,batch_size=512) end"
   ]
  },
  {
   "cell_type": "code",
   "execution_count": 34,
   "metadata": {},
   "outputs": [
    {
     "name": "stdout",
     "output_type": "stream",
     "text": [
      "  0.613838 seconds (342.83 k allocations: 19.060 MiB, 28.19% compilation time)\n",
      "  0.377989 seconds (50.52 k allocations: 1.690 MiB)\n",
      "  0.374546 seconds (50.52 k allocations: 1.689 MiB)\n",
      "  0.368054 seconds (50.67 k allocations: 1.699 MiB)\n",
      "  0.378540 seconds (50.52 k allocations: 1.690 MiB)\n"
     ]
    }
   ],
   "source": [
    "for i in 1:num_runs @time pmap(x->conv_spectrum.(x),lambdas,batch_size=512) end"
   ]
  },
  {
   "cell_type": "markdown",
   "metadata": {},
   "source": [
    "2f.  How much faster was the code using `pmap` with batches than the the serial version (focusing on the version using broadcasting)?  How does this compare to your original expectations?"
   ]
  },
  {
   "cell_type": "code",
   "execution_count": 35,
   "metadata": {},
   "outputs": [
    {
     "data": {
      "text/plain": [
       "missing"
      ]
     },
     "execution_count": 35,
     "metadata": {},
     "output_type": "execute_result"
    }
   ],
   "source": [
    "response_2f = missing # INSERT responce as string"
   ]
  },
  {
   "cell_type": "markdown",
   "metadata": {},
   "source": [
    "Remember that we originally added one less worker processes than the number of physical cores avaliable to us.  Let's try adding one more worker process and comparing the performance."
   ]
  },
  {
   "cell_type": "code",
   "execution_count": 36,
   "metadata": {},
   "outputs": [
    {
     "data": {
      "text/plain": [
       "1-element Vector{Int64}:\n",
       " 9"
      ]
     },
     "execution_count": 36,
     "metadata": {},
     "output_type": "execute_result"
    }
   ],
   "source": [
    "if nworkers() < num_cores_to_use\n",
    "    procs_without_code = addprocs(num_cores_to_use-nworkers())\n",
    "end"
   ]
  },
  {
   "cell_type": "code",
   "execution_count": 37,
   "metadata": {},
   "outputs": [
    {
     "data": {
      "text/plain": [
       "1-element Vector{Int64}:\n",
       " 9"
      ]
     },
     "execution_count": 37,
     "metadata": {},
     "output_type": "execute_result"
    }
   ],
   "source": [
    "procs_without_code"
   ]
  },
  {
   "cell_type": "markdown",
   "metadata": {},
   "source": [
    "2g.  How long do you expect our function to take using `pmap` (using same batch size) now that we have one more worker process?"
   ]
  },
  {
   "cell_type": "code",
   "execution_count": 38,
   "metadata": {},
   "outputs": [
    {
     "data": {
      "text/plain": [
       "missing"
      ]
     },
     "execution_count": 38,
     "metadata": {},
     "output_type": "execute_result"
    }
   ],
   "source": [
    "response_2g = missing # INSERT RESPONSE"
   ]
  },
  {
   "cell_type": "markdown",
   "metadata": {},
   "source": [
    "Let's test that.  But before we can, we'll need to load the code onto the recently added worker node."
   ]
  },
  {
   "cell_type": "code",
   "execution_count": 39,
   "metadata": {},
   "outputs": [
    {
     "name": "stdout",
     "output_type": "stream",
     "text": [
      "      From worker 5:\t\u001b[32m\u001b[1m  Activating\u001b[22m\u001b[39m environment at `/storage/home/e/ebf11/Teach/Astro528/Fall2021/lab6-dev/Project.toml`\n",
      "      From worker 3:\t\u001b[32m\u001b[1m  Activating\u001b[22m\u001b[39m environment at `/storage/home/e/ebf11/Teach/Astro528/Fall2021/lab6-dev/Project.toml`\n",
      "      From worker 8:\t\u001b[32m\u001b[1m  Activating\u001b[22m\u001b[39m environment at `/storage/home/e/ebf11/Teach/Astro528/Fall2021/lab6-dev/Project.toml`\n",
      "      From worker 7:\t\u001b[32m\u001b[1m  Activating\u001b[22m\u001b[39m environment at `/storage/home/e/ebf11/Teach/Astro528/Fall2021/lab6-dev/Project.toml`\n",
      "      From worker 4:\t\u001b[32m\u001b[1m  Activating\u001b[22m\u001b[39m environment at `/storage/home/e/ebf11/Teach/Astro528/Fall2021/lab6-dev/Project.toml`\n",
      "      From worker 2:\t\u001b[32m\u001b[1m  Activating\u001b[22m\u001b[39m environment at `/storage/home/e/ebf11/Teach/Astro528/Fall2021/lab6-dev/Project.toml`\n",
      "      From worker 6:\t\u001b[32m\u001b[1m  Activating\u001b[22m\u001b[39m environment at `/storage/home/e/ebf11/Teach/Astro528/Fall2021/lab6-dev/Project.toml`\n"
     ]
    },
    {
     "name": "stderr",
     "output_type": "stream",
     "text": [
      "\u001b[32m\u001b[1m  Activating\u001b[22m\u001b[39m environment at `/storage/home/e/ebf11/Teach/Astro528/Fall2021/lab6-dev/Project.toml`\n"
     ]
    },
    {
     "name": "stdout",
     "output_type": "stream",
     "text": [
      "      From worker 9:\t\u001b[32m\u001b[1m  Activating\u001b[22m\u001b[39m environment at `/storage/home/e/ebf11/Teach/Astro528/Fall2021/lab6-dev/Project.toml`\n"
     ]
    }
   ],
   "source": [
    "@everywhere (using Pkg; Pkg.UPDATED_REGISTRY_THIS_SESSION[] = true; Pkg.activate(\".\"))"
   ]
  },
  {
   "cell_type": "code",
   "execution_count": 40,
   "metadata": {},
   "outputs": [],
   "source": [
    "@everywhere using Distributions"
   ]
  },
  {
   "cell_type": "markdown",
   "metadata": {},
   "source": [
    "We don't need/want to reread read and recompile our code on every worker node.  Instead, we'll use the [`@spawnat` macro](https://docs.julialang.org/en/v1/stdlib/Distributed/#Distributed.@spawnat) to tell julia to `include` our code only on specific processors.\n",
    "`@spawnat` sends the code to the worker(s), but doesn't wait for the result.  Instead it gets a [Future](https://docs.julialang.org/en/v1/stdlib/Distributed/#Distributed.Future) that can be used to retreive the results when we need it by calling [`fetch`](https://docs.julialang.org/en/v1/stdlib/Distributed/#Base.fetch-Tuple{Distributed.Future}).  Here, we want to wait until the worker has finished loading the code, so we'll just do both in one line."
   ]
  },
  {
   "cell_type": "code",
   "execution_count": 41,
   "metadata": {},
   "outputs": [],
   "source": [
    "map(proc->fetch(@spawnat proc include(\"src/lab6.jl\") ),  procs_without_code);"
   ]
  },
  {
   "cell_type": "code",
   "execution_count": 42,
   "metadata": {},
   "outputs": [],
   "source": [
    "@everywhere using .lab6"
   ]
  },
  {
   "cell_type": "code",
   "execution_count": 43,
   "metadata": {},
   "outputs": [
    {
     "data": {
      "text/plain": [
       "\u001b[32m\u001b[1mTest Passed\u001b[22m\u001b[39m"
      ]
     },
     "execution_count": 43,
     "metadata": {},
     "output_type": "execute_result"
    }
   ],
   "source": [
    "@test isapprox(pmap(conv_spectrum,lambdas,batch_size=512), result_ref)"
   ]
  },
  {
   "cell_type": "code",
   "execution_count": 44,
   "metadata": {},
   "outputs": [
    {
     "name": "stdout",
     "output_type": "stream",
     "text": [
      "  0.288728 seconds (50.82 k allocations: 1.811 MiB)\n",
      "  0.284348 seconds (50.93 k allocations: 1.819 MiB)\n",
      "  0.285549 seconds (50.93 k allocations: 1.820 MiB)\n",
      "  0.277549 seconds (50.93 k allocations: 1.820 MiB)\n",
      "  0.283274 seconds (50.92 k allocations: 1.820 MiB)\n"
     ]
    }
   ],
   "source": [
    "for i in 1:num_runs @time pmap(conv_spectrum,lambdas,batch_size=512) end"
   ]
  },
  {
   "cell_type": "markdown",
   "metadata": {},
   "source": [
    "2h.  How did the runtime compare when we used `pmap` with as many worker processes as physical cores avaliable compared to when we used one fewer worker processes than the number of physical cores avaliable?\n",
    "How does this compare to your original expectations?   Try to explain any differences."
   ]
  },
  {
   "cell_type": "code",
   "execution_count": 45,
   "metadata": {},
   "outputs": [
    {
     "data": {
      "text/plain": [
       "missing"
      ]
     },
     "execution_count": 45,
     "metadata": {},
     "output_type": "execute_result"
    }
   ],
   "source": [
    "response_2h = missing # INSERT RESPONSE"
   ]
  },
  {
   "cell_type": "markdown",
   "metadata": {},
   "source": [
    "### Shared Arrays\n",
    "Sometime the map programming pattern is limiting, inefficient, or just too cumbersome to use.  In these cases, it can be useful to define a [`SharedArray`](https://docs.julialang.org/en/v1.0/stdlib/SharedArrays/#Shared-Arrays-1).  A SharedArray is only possible when using a [shared memory system](https://en.wikipedia.org/wiki/Shared_memory), i.e., one computer has multiple processor cores that are all able to read and write data stored in a common memory system.   Data stored in a SharedArray is visible and accessible to every process.  A SharedArray also specifies which indices have been assigned to each worker process.  When an operation is to be parallelized, this information can be used to spread the work over the worker processes.  \n",
    "(Note that code using SharedArray's can not run using processors split across multiple compute nodes, as we'll do in the next lab.) \n",
    "\n",
    "First, we'll create a SharedArray from our existing array of wavelengths."
   ]
  },
  {
   "cell_type": "code",
   "execution_count": 46,
   "metadata": {},
   "outputs": [],
   "source": [
    "using SharedArrays"
   ]
  },
  {
   "cell_type": "code",
   "execution_count": 47,
   "metadata": {},
   "outputs": [
    {
     "data": {
      "text/plain": [
       "SharedVector{Float64} (alias for SharedArray{Float64, 1})"
      ]
     },
     "execution_count": 47,
     "metadata": {},
     "output_type": "execute_result"
    }
   ],
   "source": [
    "lambdas_shared = SharedArray(lambdas)\n",
    "typeof(lambdas_shared)"
   ]
  },
  {
   "cell_type": "markdown",
   "metadata": {},
   "source": [
    "We apply `map` to a SharedArray just like to a regular Array, but the calculation is still performed in serial."
   ]
  },
  {
   "cell_type": "code",
   "execution_count": 48,
   "metadata": {},
   "outputs": [
    {
     "data": {
      "text/plain": [
       "\u001b[32m\u001b[1mTest Passed\u001b[22m\u001b[39m"
      ]
     },
     "execution_count": 48,
     "metadata": {},
     "output_type": "execute_result"
    }
   ],
   "source": [
    "@test isapprox(map(conv_spectrum,lambdas_shared), result_ref)"
   ]
  },
  {
   "cell_type": "code",
   "execution_count": 49,
   "metadata": {},
   "outputs": [
    {
     "name": "stdout",
     "output_type": "stream",
     "text": [
      "  1.733819 seconds (4.54 M allocations: 329.897 MiB, 3.22% gc time)\n",
      "  1.752635 seconds (4.54 M allocations: 329.897 MiB, 3.67% gc time)\n",
      "  1.787044 seconds (4.54 M allocations: 329.897 MiB, 2.66% gc time)\n",
      "  1.740292 seconds (4.54 M allocations: 329.897 MiB, 3.36% gc time)\n",
      "  1.743320 seconds (4.54 M allocations: 329.897 MiB, 3.34% gc time)\n"
     ]
    }
   ],
   "source": [
    "for i in 1:num_runs @time map(conv_spectrum,lambdas_shared) end"
   ]
  },
  {
   "cell_type": "markdown",
   "metadata": {},
   "source": [
    "Similarly, we can apply `pmap` to a SharedArray, and the calculation will be parallelized just like a regular Array."
   ]
  },
  {
   "cell_type": "code",
   "execution_count": 50,
   "metadata": {},
   "outputs": [
    {
     "name": "stdout",
     "output_type": "stream",
     "text": [
      "  0.799970 seconds (1.41 M allocations: 128.459 MiB, 4.68% gc time, 32.19% compilation time)\n",
      "  0.519909 seconds (706.84 k allocations: 86.933 MiB, 2.66% gc time)\n",
      "  0.499529 seconds (706.84 k allocations: 86.931 MiB, 2.08% gc time)\n",
      "  0.505934 seconds (706.86 k allocations: 86.934 MiB, 2.31% gc time)\n",
      "  0.507281 seconds (706.79 k allocations: 86.930 MiB, 4.22% gc time)\n"
     ]
    }
   ],
   "source": [
    "for i in 1:num_runs @time pmap(conv_spectrum,lambdas_shared) end"
   ]
  },
  {
   "cell_type": "markdown",
   "metadata": {},
   "source": [
    "As before, the performance wasn't particularly impressive.  \n",
    "\n",
    "2i.  What do you suggest we do to improve the performance of `pmap` applied to a SharedArray?  "
   ]
  },
  {
   "cell_type": "code",
   "execution_count": 51,
   "metadata": {},
   "outputs": [
    {
     "data": {
      "text/plain": [
       "missing"
      ]
     },
     "execution_count": 51,
     "metadata": {},
     "output_type": "execute_result"
    }
   ],
   "source": [
    "response_2i = missing # INSERT RESPONSE"
   ]
  },
  {
   "cell_type": "markdown",
   "metadata": {},
   "source": [
    "Try implementing and benchmarking your suggestion in the cell below."
   ]
  },
  {
   "cell_type": "code",
   "execution_count": 52,
   "metadata": {},
   "outputs": [],
   "source": [
    "# TODO:  Insert your code "
   ]
  },
  {
   "cell_type": "markdown",
   "metadata": {},
   "source": [
    "2j.  How did the performance compare to using `pmap` on regular Array (with similar optimizations)?  Is there anything fundamentally different about what the computer is doing that should affect the performance?"
   ]
  },
  {
   "cell_type": "code",
   "execution_count": 53,
   "metadata": {},
   "outputs": [
    {
     "data": {
      "text/plain": [
       "missing"
      ]
     },
     "execution_count": 53,
     "metadata": {},
     "output_type": "execute_result"
    }
   ],
   "source": [
    "response_2j = missing # INSERT RESPONSE"
   ]
  },
  {
   "cell_type": "markdown",
   "metadata": {},
   "source": [
    "Pro tip:  There are fancy ways of initializing a SharedArray that can help minimize the number of allocations and spread the work of initializing the matrix over all the worker processes.  In case you're curious, I'll demonstrate below.  I find the syntax a little confusing, so I suggest skipping over this for now.  But you may want to return to it later if you want to initialize a SharedArray efficiently for your project."
   ]
  },
  {
   "cell_type": "code",
   "execution_count": 54,
   "metadata": {},
   "outputs": [
    {
     "data": {
      "text/plain": [
       "compute_by_initializing_shared_array (generic function with 2 methods)"
      ]
     },
     "execution_count": 54,
     "metadata": {},
     "output_type": "execute_result"
    }
   ],
   "source": [
    "# If we are initializing the array using values stored in a generic Array\n",
    "function compute_by_initializing_shared_array(x::AbstractArray, spectrum::T) where T<:AbstractSpectrum\n",
    "   SharedArray{Float64}(size(x), init = S-> S[SharedArrays.localindices(S)] .= spectrum.(view(x,SharedArrays.localindices(S))) )\n",
    "end\n",
    "\n",
    "#  If we are initializing the array using values already stored in a SharedArray, then assign work based on the input SharedArray\n",
    "function compute_by_initializing_shared_array(x::SharedArray, spectrum::T) where T<:AbstractSpectrum\n",
    "   SharedArray{Float64}(size(x), init = S-> S[SharedArrays.localindices(x)] .= spectrum.(view(x,SharedArrays.localindices(x))) )\n",
    "end"
   ]
  },
  {
   "cell_type": "code",
   "execution_count": 55,
   "metadata": {},
   "outputs": [
    {
     "name": "stdout",
     "output_type": "stream",
     "text": [
      "  1.274556 seconds (971.11 k allocations: 60.109 MiB, 1.51% gc time, 27.77% compilation time)\n",
      "  0.265127 seconds (2.03 k allocations: 170.438 KiB)\n",
      "  0.265564 seconds (2.07 k allocations: 173.938 KiB)\n",
      "  0.261706 seconds (2.02 k allocations: 170.641 KiB)\n",
      "  0.260606 seconds (2.03 k allocations: 170.703 KiB)\n"
     ]
    }
   ],
   "source": [
    "for i in 1:num_runs @time compute_by_initializing_shared_array(lambdas_shared,conv_spectrum) end"
   ]
  },
  {
   "cell_type": "markdown",
   "metadata": {},
   "source": [
    "## Distributed Arrays\n",
    "Sometimes, you want to spread the work over more processor cores than are available on a single workstation.  Or maybe you don't actually need the features of a SharedArray, so you want to write your code in a more general way, so that it could be parallelized on a [distributed memory system](https://en.wikipedia.org/wiki/Distributed_memory).  This can be useful even if your job could in principle be run on a single node with $N$ processor cores.  If you submit a job that requires $N$ processor cores on the same node, then your job is likely to wait in the queue longer than it you submit a job that requires $N$ processor cores that could be spread over multiple compute nodes.  If you want to make use a very large number of cores (e.g., using a cloud provider like Amazon AWS, Google Compute Engine, Microsoft Azure), then you'll need to use a distributed memory system.  For a long time, [MPI](https://en.wikipedia.org/wiki/Message_Passing_Interface) was the most common way to use distributed memory systems.  If you're programming with C/C++ or Fortran, then you will likely still be using MPI.  ([MPI.jl](https://github.com/JuliaParallel/MPI.jl) proivdes a wrapper for Julia to use most of the common MPI functions.)  Julia's [DistributedArrays.jl](https://juliaparallel.github.io/DistributedArrays.jl/latest/index.html) package is an attempt to make programming for distributed memory systems a little easier.  \n",
    "\n",
    "Like for SharedArrays, there are several ways to initialize a `DistributedArray` (`DArray` for short) efficiently, where each workers initializes its own data.  Functions like `dzeros`, `dones`, `drand`, `drandn` and `dfill` act similarly to their counterparts without a `d` prefix, but create DArrays instead of regular Arrays.\n",
    "\n",
    "Here we'll create a distributed array by simply applying `distribute` to our existing array of wavelengths."
   ]
  },
  {
   "cell_type": "code",
   "execution_count": 56,
   "metadata": {},
   "outputs": [
    {
     "data": {
      "text/plain": [
       "(8192,)"
      ]
     },
     "execution_count": 56,
     "metadata": {},
     "output_type": "execute_result"
    }
   ],
   "source": [
    "@everywhere using DistributedArrays\n",
    "lambdas_dist = distribute(lambdas)\n",
    "typeof(lambdas_dist)\n",
    "size(lambdas_dist)"
   ]
  },
  {
   "cell_type": "markdown",
   "metadata": {},
   "source": [
    "As usual, the first time we call a function, it takes some extra time and memory to compile it.  So let's do that again, this time benchmarking the `distribute` operation."
   ]
  },
  {
   "cell_type": "code",
   "execution_count": 57,
   "metadata": {},
   "outputs": [
    {
     "name": "stdout",
     "output_type": "stream",
     "text": [
      "  0.000904 seconds (981 allocations: 176.266 KiB)\n"
     ]
    },
    {
     "data": {
      "text/plain": [
       "DArray{Float64, 1, Vector{Float64}}"
      ]
     },
     "execution_count": 57,
     "metadata": {},
     "output_type": "execute_result"
    }
   ],
   "source": [
    "@time lambdas_dist = distribute(lambdas);\n",
    "typeof(lambdas_dist)"
   ]
  },
  {
   "cell_type": "markdown",
   "metadata": {},
   "source": [
    "In this case, distribute should be quite fast.  That's because we're creating a `DArray` on a shared memory system.  So the computer doesn't actually have to send communications over a network to access the data.  \n",
    "\n",
    "When we apply map to a `DArray`, map parallelizes the calculation and returns the results in a `DArray`.  Each worker only operates on the subset of the array that is local to that worker process.  \n",
    "We can view the part of the array that is local to each worker with `localpart()` and `localindices()`.  Note that none of the array was assigned to the delegator process."
   ]
  },
  {
   "cell_type": "code",
   "execution_count": 58,
   "metadata": {},
   "outputs": [
    {
     "data": {
      "text/plain": [
       "(indices = (1:0,), values = Float64[])"
      ]
     },
     "execution_count": 58,
     "metadata": {},
     "output_type": "execute_result"
    }
   ],
   "source": [
    "fetch(@spawnat 1 (;indices=DistributedArrays.localindices(lambdas_dist),  values=localpart(lambdas_dist)) )"
   ]
  },
  {
   "cell_type": "code",
   "execution_count": 59,
   "metadata": {},
   "outputs": [
    {
     "data": {
      "text/plain": [
       "(indices = (1:1024,), values = [5000.0, 5000.12208521548, 5000.24417043096, 5000.3662556464415, 5000.488340861922, 5000.610426077402, 5000.732511292882, 5000.854596508363, 5000.976681723843, 5001.0987669393235  …  5123.794408497131, 5123.916493712612, 5124.038578928092, 5124.160664143572, 5124.282749359053, 5124.404834574533, 5124.526919790013, 5124.649005005494, 5124.771090220975, 5124.893175436455])"
      ]
     },
     "execution_count": 59,
     "metadata": {},
     "output_type": "execute_result"
    }
   ],
   "source": [
    "fetch(@spawnat first(workers()) (;indices=DistributedArrays.localindices(lambdas_dist),  values=localpart(lambdas_dist)) )"
   ]
  },
  {
   "cell_type": "markdown",
   "metadata": {},
   "source": [
    "2k.  Before we benchmark this, what do you expect for the performance of `map` applied to DArray?"
   ]
  },
  {
   "cell_type": "code",
   "execution_count": 60,
   "metadata": {},
   "outputs": [
    {
     "data": {
      "text/plain": [
       "missing"
      ]
     },
     "execution_count": 60,
     "metadata": {},
     "output_type": "execute_result"
    }
   ],
   "source": [
    "response_2k = missing # INSERT response "
   ]
  },
  {
   "cell_type": "code",
   "execution_count": 61,
   "metadata": {},
   "outputs": [
    {
     "data": {
      "text/plain": [
       "\u001b[32m\u001b[1mTest Passed\u001b[22m\u001b[39m"
      ]
     },
     "execution_count": 61,
     "metadata": {},
     "output_type": "execute_result"
    }
   ],
   "source": [
    "@test isapprox(map(conv_spectrum,lambdas_dist), result_ref)"
   ]
  },
  {
   "cell_type": "code",
   "execution_count": 62,
   "metadata": {},
   "outputs": [
    {
     "name": "stdout",
     "output_type": "stream",
     "text": [
      "  0.259511 seconds (1.32 k allocations: 136.797 KiB)\n",
      "  0.259693 seconds (1.43 k allocations: 145.328 KiB)\n",
      "  0.258828 seconds (1.43 k allocations: 147.047 KiB)\n",
      "  0.251446 seconds (1.43 k allocations: 145.297 KiB)\n",
      "  0.259907 seconds (1.43 k allocations: 145.906 KiB)\n"
     ]
    },
    {
     "data": {
      "text/plain": [
       "DArray{Float64, 1, Vector{Float64}}"
      ]
     },
     "execution_count": 62,
     "metadata": {},
     "output_type": "execute_result"
    }
   ],
   "source": [
    "for i in 1:num_runs @time map(conv_spectrum,lambdas_dist) end\n",
    "typeof(map(conv_spectrum,lambdas_dist))"
   ]
  },
  {
   "cell_type": "markdown",
   "metadata": {},
   "source": [
    "2l.  How did the actual performance compare to your expectations?"
   ]
  },
  {
   "cell_type": "code",
   "execution_count": 63,
   "metadata": {},
   "outputs": [
    {
     "data": {
      "text/plain": [
       "missing"
      ]
     },
     "execution_count": 63,
     "metadata": {},
     "output_type": "execute_result"
    }
   ],
   "source": [
    "response_2l = missing # INSERT response "
   ]
  },
  {
   "cell_type": "markdown",
   "metadata": {},
   "source": [
    "Since map returned a `DArray`, we shouldn't assume that all the data is avaliable to the master process.\n",
    "In this case, we've only added processors that are on the same node, so we know that the data is actually all on one compute node.\n",
    "But a `DArray` can't count on that being true.  Indeed, in a future exercise, we'll use multiple cores that are spread over multiple nodes.  \n",
    "In order to bring make all the data in the DArray accessible to the master process, we could `collect` the data.\n",
    "\n",
    "2m.  How do you expect the performance to compare when we run map on a `DArray` with and without collecting the data at the end?"
   ]
  },
  {
   "cell_type": "code",
   "execution_count": 64,
   "metadata": {},
   "outputs": [
    {
     "data": {
      "text/plain": [
       "missing"
      ]
     },
     "execution_count": 64,
     "metadata": {},
     "output_type": "execute_result"
    }
   ],
   "source": [
    "response_2m = missing # INSERT response"
   ]
  },
  {
   "cell_type": "code",
   "execution_count": 65,
   "metadata": {},
   "outputs": [
    {
     "name": "stdout",
     "output_type": "stream",
     "text": [
      "  1.075402 seconds (645.81 k allocations: 25.978 MiB, 7.90% compilation time)\n",
      "  0.901868 seconds (479.12 k allocations: 16.192 MiB, 0.52% compilation time)\n",
      "  0.916626 seconds (482.69 k allocations: 16.348 MiB, 2.69% gc time)\n",
      "  0.894490 seconds (479.09 k allocations: 16.188 MiB)\n",
      "  0.889170 seconds (479.09 k allocations: 16.188 MiB)\n"
     ]
    }
   ],
   "source": [
    "for i in 1:num_runs @time collect(map(conv_spectrum,lambdas_dist)) end"
   ]
  },
  {
   "cell_type": "markdown",
   "metadata": {},
   "source": [
    "2n. How did the actual performance compare to your expectations?"
   ]
  },
  {
   "cell_type": "code",
   "execution_count": 66,
   "metadata": {
    "tags": []
   },
   "outputs": [
    {
     "data": {
      "text/plain": [
       "missing"
      ]
     },
     "execution_count": 66,
     "metadata": {},
     "output_type": "execute_result"
    }
   ],
   "source": [
    "response_2n = missing # INSERT response"
   ]
  },
  {
   "cell_type": "markdown",
   "metadata": {},
   "source": [
    "## Reducing Data Transport\n",
    "Copying all that data back into one array for the master process to use added a significant amount to the total time.  If the data had to move over the network, then it would have taken even longer.\n",
    "Fortunately, often you don't actually need to bring all the data back to the delegator process.  For example, you might have several calculations that can be done, each leaving the data distributed across many workers, until the very end.\n",
    "Another common scenario is that you want to performing a task that can be phrased as a [`mapreduce`](https://en.wikipedia.org/wiki/MapReduce) programming pattern.  For example, imagine that we only wanted to compute the mean squared error between two models.  \n",
    "For testing purposes, it'll be good to first implement it as a serial for loop."
   ]
  },
  {
   "cell_type": "code",
   "execution_count": 67,
   "metadata": {},
   "outputs": [
    {
     "data": {
      "text/plain": [
       "calc_mse_loop (generic function with 1 method)"
      ]
     },
     "execution_count": 67,
     "metadata": {},
     "output_type": "execute_result"
    }
   ],
   "source": [
    "function calc_mse_loop(lambdas::AbstractArray, spec1::AbstractSpectrum, spec2::AbstractSpectrum,  v::Number)\n",
    "    c = lab6.speed_of_light\n",
    "    z = v/c \n",
    "    spec2_shifted = doppler_shifted_spectrum(spec2,z)\n",
    "    tmp1 = spec1(first(lambdas))\n",
    "    tmp2 = spec2_shifted(first(lambdas))\n",
    "    mse = zero(promote_type(typeof(tmp1),typeof(tmp2)))\n",
    "    for i in eachindex(lambdas)\n",
    "        @inbounds l = lambdas[i]\n",
    "        flux1 = spec1(l)\n",
    "        flux2 = spec2_shifted(l)\n",
    "        mse += (flux1-flux2)^2\n",
    "    end\n",
    "    mse /= length(lambdas)\n",
    "    return mse\n",
    "end"
   ]
  },
  {
   "cell_type": "markdown",
   "metadata": {},
   "source": [
    "Now we'll implement the same calculation using mapreduce."
   ]
  },
  {
   "cell_type": "code",
   "execution_count": 68,
   "metadata": {},
   "outputs": [
    {
     "data": {
      "text/plain": [
       "calc_mse_mapreduce (generic function with 1 method)"
      ]
     },
     "execution_count": 68,
     "metadata": {},
     "output_type": "execute_result"
    }
   ],
   "source": [
    "function calc_mse_mapreduce(lambdas::AbstractArray, spec1::AbstractSpectrum, spec2::AbstractSpectrum,  v::Number)\n",
    "    c = lab6.speed_of_light\n",
    "    z = v/c \n",
    "    spec2_shifted = doppler_shifted_spectrum(spec2,z)\n",
    "    mse = mapreduce(x->(spec1(x)-spec2_shifted(x))^2, +, lambdas)\n",
    "    mse /= length(lambdas)\n",
    "end"
   ]
  },
  {
   "cell_type": "markdown",
   "metadata": {
    "tags": []
   },
   "source": [
    "When writing parallel code, it's always good to check that the results are consistent regardless of whether you compute in serial or parallel for some test cases."
   ]
  },
  {
   "cell_type": "code",
   "execution_count": 69,
   "metadata": {},
   "outputs": [
    {
     "data": {
      "text/plain": [
       "\u001b[32m\u001b[1mTest Passed\u001b[22m\u001b[39m"
      ]
     },
     "execution_count": 69,
     "metadata": {},
     "output_type": "execute_result"
    }
   ],
   "source": [
    "@test calc_mse_loop(lambdas,conv_spectrum,conv_spectrum,10.0) ≈  calc_mse_mapreduce(lambdas,conv_spectrum,conv_spectrum,10.0) "
   ]
  },
  {
   "cell_type": "markdown",
   "metadata": {},
   "source": [
    "2o.  How do you expect the performance of `calc_mse_mapreduce` version will compare to twice the cost of applying `map` to `conv_spectrum` and the wavelengths stored as a `DArray`? \n",
    "How do you expect the performance of `calc_mse_mapreduce` version will compare to twice the cost of applying `map` to `conv_spectrum` and the wavelengths stored as a `DArray` *and* collecting the results to the delegator process?\n",
    "(Remember, that calculating the mean squared error between two models involves evaluating two spectral models for each wavelength.)"
   ]
  },
  {
   "cell_type": "code",
   "execution_count": 70,
   "metadata": {},
   "outputs": [
    {
     "data": {
      "text/plain": [
       "missing"
      ]
     },
     "execution_count": 70,
     "metadata": {},
     "output_type": "execute_result"
    }
   ],
   "source": [
    "response_2o = missing # INSERT response"
   ]
  },
  {
   "cell_type": "code",
   "execution_count": 71,
   "metadata": {},
   "outputs": [
    {
     "name": "stdout",
     "output_type": "stream",
     "text": [
      "  3.484343 seconds (9.12 M allocations: 660.221 MiB, 3.15% gc time)\n",
      "  3.484252 seconds (9.09 M allocations: 659.665 MiB, 3.14% gc time)\n"
     ]
    },
    {
     "data": {
      "text/plain": [
       "7.090558716426163e-10"
      ]
     },
     "execution_count": 71,
     "metadata": {},
     "output_type": "execute_result"
    }
   ],
   "source": [
    "@time calc_mse_loop(lambdas,conv_spectrum,conv_spectrum,10.0) \n",
    "@time calc_mse_mapreduce(lambdas,conv_spectrum,conv_spectrum,10.0) "
   ]
  },
  {
   "cell_type": "code",
   "execution_count": 72,
   "metadata": {},
   "outputs": [
    {
     "name": "stdout",
     "output_type": "stream",
     "text": [
      "  1.004835 seconds (818.42 k allocations: 49.485 MiB, 27.89% compilation time)\n",
      "  0.516014 seconds (1.32 k allocations: 145.859 KiB)\n",
      "  0.514178 seconds (1.32 k allocations: 144.891 KiB)\n",
      "  0.533625 seconds (1.33 k allocations: 146.469 KiB)\n",
      "  0.515334 seconds (1.33 k allocations: 145.000 KiB)\n"
     ]
    }
   ],
   "source": [
    "for i in 1:num_runs @time calc_mse_mapreduce(lambdas_dist,conv_spectrum,conv_spectrum,10.0) end"
   ]
  },
  {
   "cell_type": "markdown",
   "metadata": {},
   "source": [
    "2o.  How did the actual performance compare to your expectations?"
   ]
  },
  {
   "cell_type": "markdown",
   "metadata": {},
   "source": [
    "response_2o = missing # INSERT response"
   ]
  },
  {
   "cell_type": "markdown",
   "metadata": {},
   "source": [
    "### Distributed for loops\n",
    "\n",
    "While map, pmap and mapreduce can be very convenient, sometimes it's more natural to express your calculation in terms of a for loop.  We can do that with julia's [`@distributed`](https://docs.julialang.org/en/v1/stdlib/Distributed/#Distributed.@distributed) macro (with more explanation [here](https://docs.julialang.org/en/v1/manual/parallel-computing/#Parallel-Map-and-Loops-1)).  We'll try that below."
   ]
  },
  {
   "cell_type": "code",
   "execution_count": 73,
   "metadata": {},
   "outputs": [
    {
     "data": {
      "text/plain": [
       "compute_using_distributed_for_loop_unsynced (generic function with 1 method)"
      ]
     },
     "execution_count": 73,
     "metadata": {},
     "output_type": "execute_result"
    }
   ],
   "source": [
    "function compute_using_distributed_for_loop_unsynced(x::AbstractArray, spectrum::T) where T<:AbstractSpectrum\n",
    "    out = zeros(length(x))  # Problematic since workers won't write to out on master\n",
    "    @distributed for i in 1:length(x)\n",
    "        out[i] = conv_spectrum(x[i])\n",
    "    end\n",
    "    return out\n",
    "end"
   ]
  },
  {
   "cell_type": "code",
   "execution_count": 74,
   "metadata": {},
   "outputs": [
    {
     "name": "stdout",
     "output_type": "stream",
     "text": [
      "  0.015727 seconds (20.85 k allocations: 1.355 MiB, 99.84% compilation time)\n",
      "  0.000010 seconds (7 allocations: 64.531 KiB)\n",
      "  0.000010 seconds (7 allocations: 64.531 KiB)\n",
      "  0.000010 seconds (7 allocations: 64.531 KiB)\n",
      "  0.000009 seconds (7 allocations: 64.531 KiB)\n"
     ]
    }
   ],
   "source": [
    "for i in 1:num_runs @time res=   compute_using_distributed_for_loop_unsynced(lambdas_dist,conv_spectrum) end"
   ]
  },
  {
   "cell_type": "markdown",
   "metadata": {},
   "source": [
    "Wow, that was fast!  Or was it?  No.  Actually, what happened is that Julia started the computations on the workers, and let the master process keep going, without waiting for the workers to finish.  \n",
    "Sometimes we want to do this, so the master processes can do other work while waiting on the workers to finish.  Also, each worker wrote to its own out array, so we didn't even get the output.  \n",
    "For timing purposes, we want to make sure all the work is complete and the workers have synchronized.\n",
    "We can do this by adding the [`@sync` macro](https://docs.julialang.org/en/v1/stdlib/Distributed/#Base.@sync)."
   ]
  },
  {
   "cell_type": "code",
   "execution_count": 75,
   "metadata": {},
   "outputs": [
    {
     "data": {
      "text/plain": [
       "compute_using_distributed_for_loop (generic function with 1 method)"
      ]
     },
     "execution_count": 75,
     "metadata": {},
     "output_type": "execute_result"
    }
   ],
   "source": [
    "function compute_using_distributed_for_loop(x::AbstractArray, spectrum::T) where T<:AbstractSpectrum\n",
    "    out =  SharedArray(zeros(length(x)))\n",
    "    @sync @distributed for i in 1:length(x)\n",
    "        out[i] = conv_spectrum(x[i])\n",
    "    end\n",
    "    return out\n",
    "end"
   ]
  },
  {
   "cell_type": "code",
   "execution_count": 76,
   "metadata": {},
   "outputs": [
    {
     "data": {
      "text/plain": [
       "\u001b[32m\u001b[1mTest Passed\u001b[22m\u001b[39m"
      ]
     },
     "execution_count": 76,
     "metadata": {},
     "output_type": "execute_result"
    }
   ],
   "source": [
    "@test isapprox( compute_using_distributed_for_loop(lambdas,conv_spectrum) , result_ref)"
   ]
  },
  {
   "cell_type": "markdown",
   "metadata": {},
   "source": [
    "2p.  How do you expect the performance of `compute_using_distributed_for_loop` to compare to the performance of using `pmap` to compute the spectrum (after using a good batch size)?"
   ]
  },
  {
   "cell_type": "code",
   "execution_count": 77,
   "metadata": {},
   "outputs": [
    {
     "data": {
      "text/plain": [
       "missing"
      ]
     },
     "execution_count": 77,
     "metadata": {},
     "output_type": "execute_result"
    }
   ],
   "source": [
    "response_2p = missing # INSERT response"
   ]
  },
  {
   "cell_type": "code",
   "execution_count": 78,
   "metadata": {},
   "outputs": [
    {
     "name": "stdout",
     "output_type": "stream",
     "text": [
      "  0.465297 seconds (55.83 k allocations: 3.326 MiB, 11.09% compilation time)\n",
      "  0.345781 seconds (2.08 k allocations: 159.234 KiB)\n",
      "  0.334081 seconds (2.08 k allocations: 160.266 KiB)\n",
      "  0.363218 seconds (2.09 k allocations: 161.266 KiB)\n",
      "  0.301971 seconds (2.08 k allocations: 159.172 KiB)\n"
     ]
    }
   ],
   "source": [
    "for i in 1:num_runs @time compute_using_distributed_for_loop(lambdas_dist,conv_spectrum) end"
   ]
  },
  {
   "cell_type": "markdown",
   "metadata": {},
   "source": [
    "The `@distributed` macro also works with data stored in a SharedArray or even regular Array. For example..."
   ]
  },
  {
   "cell_type": "code",
   "execution_count": 79,
   "metadata": {},
   "outputs": [
    {
     "name": "stdout",
     "output_type": "stream",
     "text": [
      "  0.348200 seconds (56.17 k allocations: 3.351 MiB, 14.59% compilation time)\n",
      "  0.271534 seconds (2.31 k allocations: 175.531 KiB)\n",
      "  0.267751 seconds (2.25 k allocations: 172.672 KiB)\n",
      "  0.267068 seconds (2.26 k allocations: 175.609 KiB)\n",
      "  0.268585 seconds (2.26 k allocations: 173.766 KiB)\n"
     ]
    }
   ],
   "source": [
    "for i in 1:num_runs @time compute_using_distributed_for_loop(lambdas_shared,conv_spectrum) end"
   ]
  },
  {
   "cell_type": "code",
   "execution_count": 80,
   "metadata": {},
   "outputs": [
    {
     "name": "stdout",
     "output_type": "stream",
     "text": [
      "  0.268006 seconds (2.17 k allocations: 156.812 KiB)\n",
      "  0.266958 seconds (2.19 k allocations: 164.484 KiB)\n",
      "  0.267643 seconds (2.14 k allocations: 162.719 KiB)\n",
      "  0.265464 seconds (2.08 k allocations: 160.016 KiB)\n",
      "  0.265105 seconds (2.08 k allocations: 159.828 KiB)\n"
     ]
    }
   ],
   "source": [
    "for i in 1:num_runs @time compute_using_distributed_for_loop(lambdas,conv_spectrum) end"
   ]
  },
  {
   "cell_type": "markdown",
   "metadata": {},
   "source": [
    "2q.  How did the benchmarking results compare to your predictions?"
   ]
  },
  {
   "cell_type": "code",
   "execution_count": 81,
   "metadata": {},
   "outputs": [
    {
     "data": {
      "text/plain": [
       "missing"
      ]
     },
     "execution_count": 81,
     "metadata": {},
     "output_type": "execute_result"
    }
   ],
   "source": [
    "response_2q = missing # INSERT response"
   ]
  },
  {
   "cell_type": "markdown",
   "metadata": {},
   "source": [
    "In this case, we don't notice a significant difference in performance with the distributed for loop depending on how the lambdas were stored, since all three are being stored in a shared memory system.  Once we use multiple compute nodes and communications must travel over a network, differences in performance will become more apparent."
   ]
  },
  {
   "cell_type": "markdown",
   "metadata": {},
   "source": [
    "There's also an option to specify a reducing operation that is performed on the result of each pass through the `@distributed` for loop.  (The function to perform the reduction is provided in parentheses before the `for`.)"
   ]
  },
  {
   "cell_type": "code",
   "execution_count": 82,
   "metadata": {},
   "outputs": [
    {
     "data": {
      "text/plain": [
       "calc_mse_distributed_loop (generic function with 1 method)"
      ]
     },
     "execution_count": 82,
     "metadata": {},
     "output_type": "execute_result"
    }
   ],
   "source": [
    "function calc_mse_distributed_loop(lambdas::DArray, spec1::AbstractSpectrum, spec2::AbstractSpectrum,  v::Number)\n",
    "    c = lab6.speed_of_light\n",
    "    z = v/c \n",
    "    spec2_shifted = doppler_shifted_spectrum(spec2,z)\n",
    "    mse = @distributed (+) for i in eachindex(lambdas)\n",
    "        @inbounds l = lambdas[i]\n",
    "        flux1 = spec1(l)\n",
    "        flux2 = spec2_shifted(l)\n",
    "        (flux1-flux2)^2  # result of last line will be reduced by + operator\n",
    "    end\n",
    "    mse /= length(lambdas)\n",
    "    return mse\n",
    "end"
   ]
  },
  {
   "cell_type": "code",
   "execution_count": 83,
   "metadata": {},
   "outputs": [
    {
     "data": {
      "text/plain": [
       "\u001b[32m\u001b[1mTest Passed\u001b[22m\u001b[39m"
      ]
     },
     "execution_count": 83,
     "metadata": {},
     "output_type": "execute_result"
    }
   ],
   "source": [
    "@test calc_mse_loop(lambdas,conv_spectrum,conv_spectrum,10.0) ≈ calc_mse_distributed_loop(lambdas_dist, conv_spectrum, conv_spectrum, 10.0) "
   ]
  },
  {
   "cell_type": "markdown",
   "metadata": {},
   "source": [
    "2r.  How do you expect that the performance of the `@distributed` for loop with a reduction operator will perform compared to `mapreduce` on a distributed array?"
   ]
  },
  {
   "cell_type": "code",
   "execution_count": 84,
   "metadata": {},
   "outputs": [
    {
     "data": {
      "text/plain": [
       "missing"
      ]
     },
     "execution_count": 84,
     "metadata": {},
     "output_type": "execute_result"
    }
   ],
   "source": [
    "response_2r = missing # RESPONSE"
   ]
  },
  {
   "cell_type": "code",
   "execution_count": 85,
   "metadata": {},
   "outputs": [
    {
     "name": "stdout",
     "output_type": "stream",
     "text": [
      "  0.518764 seconds (1.32 k allocations: 122.266 KiB)\n",
      "  0.518827 seconds (1.42 k allocations: 135.312 KiB)\n",
      "  0.519640 seconds (1.42 k allocations: 133.703 KiB)\n",
      "  0.520906 seconds (1.41 k allocations: 133.234 KiB)\n",
      "  0.519165 seconds (1.42 k allocations: 131.656 KiB)\n"
     ]
    }
   ],
   "source": [
    "for i in 1:num_runs @time calc_mse_distributed_loop(lambdas_dist, conv_spectrum, conv_spectrum, 10.0) end"
   ]
  },
  {
   "cell_type": "markdown",
   "metadata": {},
   "source": [
    "2s.  How did the results compare to your expectations?"
   ]
  },
  {
   "cell_type": "code",
   "execution_count": 86,
   "metadata": {},
   "outputs": [
    {
     "data": {
      "text/plain": [
       "missing"
      ]
     },
     "execution_count": 86,
     "metadata": {},
     "output_type": "execute_result"
    }
   ],
   "source": [
    "response_2s = missing # RESPONSE"
   ]
  },
  {
   "cell_type": "markdown",
   "metadata": {},
   "source": [
    "## Distributed for loop using FLoops"
   ]
  },
  {
   "cell_type": "markdown",
   "metadata": {},
   "source": [
    "Here we'll demonstrate one more way to perform the same calculation in parallel, using the [FLoops.jl](https://juliafolds.github.io/FLoops.jl/dev/) package. This package is still young, experimental and likely to change.  But it seems to hold a lot of promise for enabling programmers to implement more complex calculations in parallel efficiently for the programmer, and hopefully eventually also efficiently for the computers. "
   ]
  },
  {
   "cell_type": "code",
   "execution_count": 87,
   "metadata": {},
   "outputs": [],
   "source": [
    "using FLoops"
   ]
  },
  {
   "cell_type": "code",
   "execution_count": 88,
   "metadata": {},
   "outputs": [
    {
     "data": {
      "text/plain": [
       "calc_mse_flloop (generic function with 1 method)"
      ]
     },
     "execution_count": 88,
     "metadata": {},
     "output_type": "execute_result"
    }
   ],
   "source": [
    "function calc_mse_flloop(lambdas::AbstractArray, spec1::AbstractSpectrum, spec2::AbstractSpectrum,  v::Number; ex = ThreadedEx())\n",
    "    c = lab6.speed_of_light\n",
    "    z = v/c \n",
    "    spec2_shifted = doppler_shifted_spectrum(spec2,z)\n",
    "    tmp1 = spec1(first(lambdas))\n",
    "    tmp2 = spec2_shifted(first(lambdas))\n",
    "    mse = zero(promote_type(typeof(tmp1),typeof(tmp2)))\n",
    "    @sync @floop ex for i in eachindex(lambdas)\n",
    "        @inbounds l = lambdas[i]\n",
    "        flux1 = spec1(l)\n",
    "        flux2 = spec2_shifted(l)\n",
    "        @reduce(mse += (flux1-flux2)^2)\n",
    "    end\n",
    "    mse /= length(lambdas)\n",
    "    return mse\n",
    "end"
   ]
  },
  {
   "cell_type": "code",
   "execution_count": 89,
   "metadata": {},
   "outputs": [
    {
     "data": {
      "text/plain": [
       "\u001b[32m\u001b[1mTest Passed\u001b[22m\u001b[39m"
      ]
     },
     "execution_count": 89,
     "metadata": {},
     "output_type": "execute_result"
    }
   ],
   "source": [
    "@test calc_mse_loop(lambdas,conv_spectrum,conv_spectrum,10.0) ≈ calc_mse_flloop(lambdas, conv_spectrum, conv_spectrum, 10.0, ex=DistributedEx()  ) "
   ]
  },
  {
   "cell_type": "code",
   "execution_count": 90,
   "metadata": {},
   "outputs": [
    {
     "name": "stdout",
     "output_type": "stream",
     "text": [
      "  0.977966 seconds (3.69 k allocations: 300.594 KiB)\n",
      "  1.140012 seconds (3.43 k allocations: 287.250 KiB)\n",
      "  1.040931 seconds (3.53 k allocations: 293.422 KiB)\n",
      "  0.897879 seconds (3.43 k allocations: 288.312 KiB)\n",
      "  1.002589 seconds (3.43 k allocations: 288.609 KiB)\n"
     ]
    }
   ],
   "source": [
    "for i in 1:num_runs @time calc_mse_flloop(lambdas, conv_spectrum, conv_spectrum, 10.0, ex=DistributedEx() ) end"
   ]
  },
  {
   "cell_type": "markdown",
   "metadata": {},
   "source": [
    "## Comparing Multi-threading vs Multi-processing performance more easily"
   ]
  },
  {
   "cell_type": "markdown",
   "metadata": {},
   "source": [
    "Wouldn't it be nice if we didn't have to rewrite our code for each architecture?  There are some relatively young packages that make this possible (e.g., [FLoops.jl](https://juliafolds.github.io/FLoops.jl/dev/) and [KernelAbstractions.jl](https://juliagpu.github.io/KernelAbstractions.jl/stable/)).  Below we'll compare the performance of serial, multi-threaded and multi-processing versions of our function by simply specifying a different *executor*, as shown below."
   ]
  },
  {
   "cell_type": "code",
   "execution_count": 91,
   "metadata": {},
   "outputs": [
    {
     "name": "stdout",
     "output_type": "stream",
     "text": [
      "  3.477008 seconds (9.43 M allocations: 679.404 MiB, 2.79% gc time, 3.83% compilation time)\n",
      "  3.335667 seconds (9.09 M allocations: 659.721 MiB, 2.69% gc time)\n",
      "  3.317028 seconds (9.09 M allocations: 659.721 MiB, 2.29% gc time)\n",
      "  3.320200 seconds (9.09 M allocations: 659.721 MiB, 2.29% gc time)\n",
      "  3.318718 seconds (9.09 M allocations: 659.721 MiB, 2.29% gc time)\n"
     ]
    }
   ],
   "source": [
    "for i in 1:num_runs @time calc_mse_flloop(lambdas, conv_spectrum, conv_spectrum, 10.0, ex = SequentialEx(simd = Val(true)) ) end"
   ]
  },
  {
   "cell_type": "code",
   "execution_count": 92,
   "metadata": {},
   "outputs": [
    {
     "name": "stdout",
     "output_type": "stream",
     "text": [
      "  0.949627 seconds (9.43 M allocations: 679.092 MiB, 16.26% gc time, 27.04% compilation time)\n",
      "  0.788322 seconds (9.09 M allocations: 659.737 MiB, 32.76% gc time)\n",
      "  0.660604 seconds (9.09 M allocations: 659.737 MiB, 19.83% gc time)\n",
      "  0.793806 seconds (9.09 M allocations: 659.737 MiB, 33.52% gc time)\n",
      "  0.663191 seconds (9.09 M allocations: 659.737 MiB, 20.33% gc time)\n"
     ]
    }
   ],
   "source": [
    "for i in 1:num_runs @time calc_mse_flloop(lambdas, conv_spectrum, conv_spectrum, 10.0, ex = ThreadedEx() ) end   # default if we don't specify ex explicitly"
   ]
  },
  {
   "cell_type": "code",
   "execution_count": 93,
   "metadata": {},
   "outputs": [
    {
     "name": "stdout",
     "output_type": "stream",
     "text": [
      "  0.884062 seconds (3.32 k allocations: 280.047 KiB)\n",
      "  0.984716 seconds (3.43 k allocations: 293.562 KiB)\n",
      "  0.588729 seconds (3.42 k allocations: 290.188 KiB)\n",
      "  0.745859 seconds (3.42 k allocations: 290.609 KiB)\n",
      "  0.714184 seconds (3.42 k allocations: 286.000 KiB)\n"
     ]
    }
   ],
   "source": [
    "for i in 1:num_runs @time calc_mse_flloop(lambdas, conv_spectrum, conv_spectrum, 10.0, ex=DistributedEx() ) end"
   ]
  },
  {
   "cell_type": "markdown",
   "metadata": {},
   "source": [
    "When I last tested FLoops, it still wasn't as fast as using mapreduce on a distributed array or a distributed for loop for simple problems.  \n",
    "But there may be some more complex problems, where the greater flexibility of FLoops is valuable to the programmer (e.g., if you have a large dataset and want to do several calculations using one pass through your data)."
   ]
  },
  {
   "cell_type": "markdown",
   "metadata": {},
   "source": [
    "2t.  Think about your class project and the parallel programming patterns demonstrated in this exercise.  \n",
    "Could your key calculation be phrased as a mapreduce problem?  Could it be phrased as one or more map calculations?  Is it advantageous to using a distributed for loop or FLoops?  \n",
    "Do you see a reason to implement different parts of the problem using different programming patterns?\n",
    "If you were to parallelize your code using multi-processing, which of the methods above would you choose?  Why?"
   ]
  },
  {
   "cell_type": "code",
   "execution_count": 94,
   "metadata": {},
   "outputs": [],
   "source": [
    "response_2t = missing #= \n",
    "\"\"\"\n",
    "Example \n",
    "multi-line\n",
    "response\n",
    "\"\"\"\n",
    "=#;"
   ]
  },
  {
   "cell_type": "markdown",
   "metadata": {},
   "source": [
    "2u.  *If* you're planning to parallelize your class project for distributed memory, then before you parallelize your class project, get some practice by parallelizing the function `calc_χ²` (at bottom of notebook) using whichever parallelization strategy that you plan to use for your project."
   ]
  },
  {
   "cell_type": "code",
   "execution_count": 95,
   "metadata": {},
   "outputs": [
    {
     "data": {
      "text/plain": [
       "calc_χ²_my_way (generic function with 1 method)"
      ]
     },
     "execution_count": 95,
     "metadata": {},
     "output_type": "execute_result"
    }
   ],
   "source": [
    "# response_u2: \n",
    "function calc_χ²_my_way(lambdas::AbstractArray, spec1::AbstractSpectrum, spec2::AbstractSpectrum, σ1::AbstractArray, σ2::AbstractArray, v::Number; #= any optional parameters? =# )\n",
    "    # INSERT YOUR CODE HERE\n",
    "    return missing\n",
    "end"
   ]
  },
  {
   "cell_type": "code",
   "execution_count": 96,
   "metadata": {},
   "outputs": [],
   "source": [
    "σ_obs1 = 0.02*ones(size(lambdas))\n",
    "σ_obs2 = 0.02*ones(size(lambdas));"
   ]
  },
  {
   "cell_type": "code",
   "execution_count": 99,
   "metadata": {},
   "outputs": [
    {
     "data": {
      "text/plain": [
       "calc_χ²_loop (generic function with 1 method)"
      ]
     },
     "execution_count": 99,
     "metadata": {},
     "output_type": "execute_result"
    }
   ],
   "source": [
    "function calc_χ²_loop(lambdas::AbstractArray, spec1::AbstractSpectrum, spec2::AbstractSpectrum, σ1::AbstractArray, σ2::AbstractArray, v::Number )\n",
    "    @assert size(lambdas) == size(σ1) == size(σ2)\n",
    "    c = lab6.speed_of_light\n",
    "    z = v/c \n",
    "    spec2_shifted = doppler_shifted_spectrum(spec2,z)\n",
    "    tmp1 = spec1(first(lambdas))\n",
    "    tmp2 = spec2_shifted(first(lambdas))\n",
    "    χ² = zero(promote_type(typeof(tmp1),typeof(tmp2),eltype(σ1),eltype(σ2)))\n",
    "    for i in eachindex(lambdas)\n",
    "        @inbounds l = lambdas[i]\n",
    "        flux1 = spec1(l)\n",
    "        flux2 = spec2_shifted(l)\n",
    "        @inbounds χ² += (flux1-flux2)^2/(σ1[i]^2+σ2[i]^2)\n",
    "    end\n",
    "    return χ²\n",
    "end"
   ]
  },
  {
   "cell_type": "code",
   "execution_count": 97,
   "metadata": {},
   "outputs": [
    {
     "name": "stdout",
     "output_type": "stream",
     "text": [
      "\u001b[91m\u001b[1mTest Failed\u001b[22m\u001b[39m at \u001b[39m\u001b[1mIn[97]:1\u001b[22m\n",
      "  Expression: abs(calc_χ²_my_way(lambdas, conv_spectrum, conv_spectrum, σ_obs1, σ_obs2, 0.0)) < 1.0e-8\n",
      "   Evaluated: missing < 1.0e-8\n"
     ]
    },
    {
     "ename": "LoadError",
     "evalue": "\u001b[91mThere was an error during testing\u001b[39m",
     "output_type": "error",
     "traceback": [
      "\u001b[91mThere was an error during testing\u001b[39m",
      "",
      "Stacktrace:",
      " [1] record(ts::Test.FallbackTestSet, t::Union{Test.Error, Test.Fail})",
      "   @ Test /buildworker/worker/package_linux64/build/usr/share/julia/stdlib/v1.6/Test/src/Test.jl:772",
      " [2] do_test(result::Test.ExecutionResult, orig_expr::Any)",
      "   @ Test /buildworker/worker/package_linux64/build/usr/share/julia/stdlib/v1.6/Test/src/Test.jl:555",
      " [3] top-level scope",
      "   @ In[97]:1",
      " [4] eval",
      "   @ ./boot.jl:360 [inlined]",
      " [5] include_string(mapexpr::typeof(REPL.softscope), mod::Module, code::String, filename::String)",
      "   @ Base ./loading.jl:1094"
     ]
    }
   ],
   "source": [
    "@test abs(calc_χ²_my_way(lambdas,conv_spectrum, conv_spectrum, σ_obs1, σ_obs2, 0.0 )) < 1e-8"
   ]
  },
  {
   "cell_type": "code",
   "execution_count": 98,
   "metadata": {},
   "outputs": [
    {
     "name": "stdout",
     "output_type": "stream",
     "text": [
      "\u001b[91m\u001b[1mError During Test\u001b[22m\u001b[39m at \u001b[39m\u001b[1mIn[98]:1\u001b[22m\n",
      "  Test threw exception\n",
      "  Expression: calc_χ²_my_way(lambdas, conv_spectrum, conv_spectrum, σ_obs1, σ_obs2, 10.0) ≈ calc_χ²_loop(lambdas, conv_spectrum, conv_spectrum, σ_obs1, σ_obs2, 10.0)\n",
      "  UndefVarError: calc_χ²_loop not defined\n",
      "  Stacktrace:\n",
      "   [1] top-level scope\n",
      "  \u001b[90m   @ \u001b[39m\u001b[90;4mIn[98]:1\u001b[0m\n",
      "   [2] \u001b[0m\u001b[1meval\u001b[22m\n",
      "  \u001b[90m   @ \u001b[39m\u001b[90m./\u001b[39m\u001b[90;4mboot.jl:360\u001b[0m\u001b[90m [inlined]\u001b[39m\n",
      "   [3] \u001b[0m\u001b[1minclude_string\u001b[22m\u001b[0m\u001b[1m(\u001b[22m\u001b[90mmapexpr\u001b[39m::\u001b[0mtypeof(REPL.softscope), \u001b[90mmod\u001b[39m::\u001b[0mModule, \u001b[90mcode\u001b[39m::\u001b[0mString, \u001b[90mfilename\u001b[39m::\u001b[0mString\u001b[0m\u001b[1m)\u001b[22m\n",
      "  \u001b[90m   @ \u001b[39m\u001b[90mBase\u001b[39m \u001b[90m./\u001b[39m\u001b[90;4mloading.jl:1094\u001b[0m\n",
      "   [4] \u001b[0m\u001b[1msoftscope_include_string\u001b[22m\u001b[0m\u001b[1m(\u001b[22m\u001b[90mm\u001b[39m::\u001b[0mModule, \u001b[90mcode\u001b[39m::\u001b[0mString, \u001b[90mfilename\u001b[39m::\u001b[0mString\u001b[0m\u001b[1m)\u001b[22m\n",
      "  \u001b[90m   @ \u001b[39m\u001b[35mSoftGlobalScope\u001b[39m \u001b[90m~/.julia/packages/SoftGlobalScope/u4UzH/src/\u001b[39m\u001b[90;4mSoftGlobalScope.jl:65\u001b[0m\n",
      "   [5] \u001b[0m\u001b[1mexecute_request\u001b[22m\u001b[0m\u001b[1m(\u001b[22m\u001b[90msocket\u001b[39m::\u001b[0mZMQ.Socket, \u001b[90mmsg\u001b[39m::\u001b[0mIJulia.Msg\u001b[0m\u001b[1m)\u001b[22m\n",
      "  \u001b[90m   @ \u001b[39m\u001b[36mIJulia\u001b[39m \u001b[90m~/.julia/packages/IJulia/e8kqU/src/\u001b[39m\u001b[90;4mexecute_request.jl:67\u001b[0m\n",
      "   [6] \u001b[0m\u001b[1m#invokelatest#2\u001b[22m\n",
      "  \u001b[90m   @ \u001b[39m\u001b[90m./\u001b[39m\u001b[90;4messentials.jl:708\u001b[0m\u001b[90m [inlined]\u001b[39m\n",
      "   [7] \u001b[0m\u001b[1minvokelatest\u001b[22m\n",
      "  \u001b[90m   @ \u001b[39m\u001b[90m./\u001b[39m\u001b[90;4messentials.jl:706\u001b[0m\u001b[90m [inlined]\u001b[39m\n",
      "   [8] \u001b[0m\u001b[1meventloop\u001b[22m\u001b[0m\u001b[1m(\u001b[22m\u001b[90msocket\u001b[39m::\u001b[0mZMQ.Socket\u001b[0m\u001b[1m)\u001b[22m\n",
      "  \u001b[90m   @ \u001b[39m\u001b[36mIJulia\u001b[39m \u001b[90m~/.julia/packages/IJulia/e8kqU/src/\u001b[39m\u001b[90;4meventloop.jl:8\u001b[0m\n",
      "   [9] \u001b[0m\u001b[1m(::IJulia.var\"#15#18\")\u001b[22m\u001b[0m\u001b[1m(\u001b[22m\u001b[0m\u001b[1m)\u001b[22m\n",
      "  \u001b[90m   @ \u001b[39m\u001b[36mIJulia\u001b[39m \u001b[90m./\u001b[39m\u001b[90;4mtask.jl:406\u001b[0m\n"
     ]
    },
    {
     "ename": "LoadError",
     "evalue": "\u001b[91mThere was an error during testing\u001b[39m",
     "output_type": "error",
     "traceback": [
      "\u001b[91mThere was an error during testing\u001b[39m",
      "",
      "Stacktrace:",
      " [1] record(ts::Test.FallbackTestSet, t::Union{Test.Error, Test.Fail})",
      "   @ Test /buildworker/worker/package_linux64/build/usr/share/julia/stdlib/v1.6/Test/src/Test.jl:772",
      " [2] do_test(result::Test.ExecutionResult, orig_expr::Any)",
      "   @ Test /buildworker/worker/package_linux64/build/usr/share/julia/stdlib/v1.6/Test/src/Test.jl:555",
      " [3] top-level scope",
      "   @ In[98]:1",
      " [4] eval",
      "   @ ./boot.jl:360 [inlined]",
      " [5] include_string(mapexpr::typeof(REPL.softscope), mod::Module, code::String, filename::String)",
      "   @ Base ./loading.jl:1094"
     ]
    }
   ],
   "source": [
    "@test calc_χ²_my_way(lambdas,conv_spectrum, conv_spectrum, σ_obs1, σ_obs2, 10.0 ) ≈ calc_χ²_loop(lambdas,conv_spectrum, conv_spectrum, σ_obs1, σ_obs2, 10.0 )"
   ]
  },
  {
   "cell_type": "code",
   "execution_count": null,
   "metadata": {},
   "outputs": [],
   "source": []
  }
 ],
 "metadata": {
  "kernelspec": {
   "display_name": "Julia 1.6.0",
   "language": "julia",
   "name": "julia-1.6"
  },
  "language_info": {
   "file_extension": ".jl",
   "mimetype": "application/julia",
   "name": "julia",
   "version": "1.6.0"
  }
 },
 "nbformat": 4,
 "nbformat_minor": 4
}
